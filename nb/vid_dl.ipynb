{
 "cells": [
  {
   "cell_type": "code",
   "execution_count": 1,
   "id": "fd599510",
   "metadata": {
    "scrolled": true
   },
   "outputs": [
    {
     "name": "stderr",
     "output_type": "stream",
     "text": [
      "/home/beans/miniconda3/envs/py38/lib/python3.8/site-packages/albumentations/augmentations/transforms.py:689: FutureWarning: This class has been deprecated. Please use CoarseDropout\n",
      "  warnings.warn(\n",
      "/home/beans/miniconda3/envs/py38/lib/python3.8/site-packages/albumentations/augmentations/transforms.py:965: FutureWarning: This class has been deprecated. Please use ImageCompression\n",
      "  warnings.warn(\n"
     ]
    }
   ],
   "source": [
    "%matplotlib inline\n",
    "%load_ext autoreload\n",
    "%autoreload \n",
    "\n",
    "import sys\n",
    "sys.path.append(f'/home/beans/bespoke')\n",
    "from constants import *\n",
    "\n",
    "import matplotlib.pyplot as plt\n",
    "from viz_utils import *\n",
    "from loaders import *\n",
    "from constants import *\n",
    "from imports import *\n",
    "from train_utils import get_torque\n",
    "from models import EffNet\n",
    "from input_prep import *"
   ]
  },
  {
   "cell_type": "code",
   "execution_count": 2,
   "id": "9cad7776",
   "metadata": {
    "scrolled": true
   },
   "outputs": [
    {
     "name": "stdout",
     "output_type": "stream",
     "text": [
      "CPU times: user 6min 13s, sys: 3min 21s, total: 9min 34s\n",
      "Wall time: 41.1 s\n"
     ]
    }
   ],
   "source": [
    "%%time\n",
    "bs = 32\n",
    "dataloader = TrnLoader(bs)"
   ]
  },
  {
   "cell_type": "code",
   "execution_count": null,
   "id": "a73b6662",
   "metadata": {},
   "outputs": [],
   "source": []
  },
  {
   "cell_type": "code",
   "execution_count": 3,
   "id": "a5d53105",
   "metadata": {
    "scrolled": true
   },
   "outputs": [
    {
     "data": {
      "text/plain": [
       "18303.055"
      ]
     },
     "execution_count": 3,
     "metadata": {},
     "output_type": "execute_result"
    }
   ],
   "source": [
    "m = EffNet().to(device) \n",
    "model_stem = \"12.30_e6\"\n",
    "m.load_state_dict(torch.load(f\"{BESPOKE_ROOT}/models/m_{model_stem}.torch\"), strict=False)\n",
    "#m.set_for_viz() # comment out hooks in model to test this path\n",
    "m.eval()\n",
    "sum([torch.numel(p) for p in m.parameters()]) / 1000"
   ]
  },
  {
   "cell_type": "code",
   "execution_count": 4,
   "id": "eaa90507",
   "metadata": {},
   "outputs": [],
   "source": [
    "# m.load_trt_backbone() # for trt, change bs to one, make inputs full float"
   ]
  },
  {
   "cell_type": "code",
   "execution_count": 5,
   "id": "1be8cf48",
   "metadata": {},
   "outputs": [
    {
     "data": {
      "text/plain": [
       "\"bs = 1\\ndataloader = RunLoader('/home/beans/blender_membank/dataloader_05/run_10', is_rw=False)\\ndataloader.queue_up_batch()\""
      ]
     },
     "execution_count": 5,
     "metadata": {},
     "output_type": "execute_result"
    }
   ],
   "source": [
    "\"\"\"bs = 1\n",
    "dataloader = RunLoader('/home/beans/blender_membank/dataloader_05/run_10', is_rw=False)\n",
    "dataloader.queue_up_batch()\"\"\""
   ]
  },
  {
   "cell_type": "code",
   "execution_count": null,
   "id": "8d668e8f",
   "metadata": {},
   "outputs": [],
   "source": []
  },
  {
   "cell_type": "code",
   "execution_count": 6,
   "id": "2a9f8450",
   "metadata": {
    "scrolled": true
   },
   "outputs": [
    {
     "name": "stdout",
     "output_type": "stream",
     "text": [
      "first in seq\n"
     ]
    },
    {
     "name": "stderr",
     "output_type": "stream",
     "text": [
      "/home/beans/miniconda3/envs/py38/lib/python3.8/site-packages/torch/utils/checkpoint.py:31: UserWarning: None of the inputs have requires_grad=True. Gradients will be None\n",
      "  warnings.warn(\"None of the inputs have requires_grad=True. Gradients will be None\")\n"
     ]
    },
    {
     "data": {
      "text/plain": [
       "(0.00052821863622133,\n",
       " (32, 60, 360, 1440, 4),\n",
       " (32, 60, 30),\n",
       " (32, 60, 30),\n",
       " (32, 60, 5))"
      ]
     },
     "execution_count": 6,
     "metadata": {},
     "output_type": "execute_result"
    }
   ],
   "source": [
    "imgs_all, wp_angles_all, aux_model_all, angle_preds_all, aux_targets_all = [], [], [], [], []\n",
    "aux_pred_all = []\n",
    "total_loss = 0\n",
    "n_updates = 60\n",
    "\n",
    "with torch.no_grad():\n",
    "    for i in range(n_updates):\n",
    "        batch = dataloader.get_batch()\n",
    "        if batch is None: break # happens w RunLoader\n",
    "        (img, aux_model, aux_calib), targets, (to_pred_mask, is_first_in_seq) = batch\n",
    "        wp_angles, wp_headings, wp_curvatures, wp_rolls, wp_zs, aux_targets = targets\n",
    "\n",
    "        if is_first_in_seq: \n",
    "            print(\"first in seq\")\n",
    "            m.reset_hidden(bs) # reset hiddens to zeros\n",
    "\n",
    "        with torch.cuda.amp.autocast(): \n",
    "            wps_pred, aux_pred, obs_net_out = m(img, aux_model, aux_calib)\n",
    "            #wps_pred, aux_pred, obs_net_out = m(img.float(), aux_model.float(), aux_calib.float()) # trt\n",
    "            \n",
    "            wp_angles_pred, wp_headings_pred, wp_curvatures_pred, wp_rolls_pred, wp_zs_pred = torch.chunk(wps_pred, 5, -1)\n",
    "            \n",
    "        img = (denorm_img(img) * 255).permute(0,1,3,4,2).cpu().numpy().astype('uint8')  \n",
    "        wp_angles = (wp_angles.cpu() * TARGET_NORM).numpy()\n",
    "        wp_angles_pred = (wp_angles_pred.cpu() * TARGET_NORM).numpy()    \n",
    "        \n",
    "        total_loss += mse(wp_angles, wp_angles_pred)\n",
    "        \n",
    "        imgs_all.append(img)\n",
    "        wp_angles_all.append(wp_angles)\n",
    "        angle_preds_all.append(wp_angles_pred)\n",
    "        \n",
    "        aux_model = (aux_model.cpu()*model_in_aux_norm_constants).cpu().numpy()\n",
    "        aux_model_all.append(aux_model)\n",
    "        \n",
    "        aux_targets = aux_targets.cpu().numpy() * AUX_TARGET_NORM\n",
    "        aux_targets_all.append(aux_targets)\n",
    "        \n",
    "        aux_pred = aux_pred.detach().cpu().numpy() * AUX_TARGET_NORM\n",
    "        aux_pred_all.append(aux_pred)\n",
    "        \n",
    "imgs_all = np.concatenate(imgs_all, axis=1)\n",
    "wp_angles_all = np.concatenate(wp_angles_all, axis=1)\n",
    "angle_preds_all = np.concatenate(angle_preds_all, axis=1)\n",
    "aux_model_all = np.concatenate(aux_model_all, axis=1)\n",
    "aux_targets_all = np.concatenate(aux_targets_all, axis=1)\n",
    "aux_pred_all = np.concatenate(aux_pred_all, axis=1)\n",
    "\n",
    "total_loss /= n_updates\n",
    "\n",
    "total_loss, imgs_all.shape, wp_angles_all.shape, angle_preds_all.shape, aux_model_all.shape"
   ]
  },
  {
   "cell_type": "code",
   "execution_count": 7,
   "id": "78a70870",
   "metadata": {
    "scrolled": true
   },
   "outputs": [
    {
     "name": "stdout",
     "output_type": "stream",
     "text": [
      "vid_dl done!\n",
      "done\n"
     ]
    }
   ],
   "source": [
    "_, cat_seq_len, _,_,_ = imgs_all.shape\n",
    "frames = []\n",
    "for b in range(bs):\n",
    "    for s in range(cat_seq_len):\n",
    "\n",
    "        _img = imgs_all[b,s,:,:,:]\n",
    "        img = _img[:,:,:3]\n",
    "        \n",
    "        targets = wp_angles_all[b,s,:]\n",
    "        preds = angle_preds_all[b,s,:]\n",
    "        speed_mps = kph_to_mps(aux_model_all[b,s,2])\n",
    "        aux_targets = aux_targets_all[b,s,:]\n",
    "        aux_pred = aux_pred_all[b,s,:]\n",
    "        \n",
    "        # wps\n",
    "        img = draw_wps(img, targets, color=(100, 200, 200), thickness=-1, speed_mps=speed_mps)\n",
    "        img = draw_wps(img, preds, speed_mps=speed_mps)\n",
    "        img = draw_aux_targets(img, aux_targets, aux_pred, sigmoid_it=True)\n",
    "\n",
    "        img = draw_guidelines(img)\n",
    "        \n",
    "        img_fast = np.repeat(_img[:,:,3:4], 3, -1)\n",
    "        \n",
    "        img_stacked = np.concatenate([img, img_fast], axis=0)\n",
    "\n",
    "        frames.append(img_stacked)\n",
    "    \n",
    "write_vid(frames, \"vid_dl\")\n",
    "print(\"done\")"
   ]
  },
  {
   "cell_type": "code",
   "execution_count": null,
   "id": "e21c57e0",
   "metadata": {},
   "outputs": [],
   "source": []
  },
  {
   "cell_type": "code",
   "execution_count": null,
   "id": "9e8327fb",
   "metadata": {},
   "outputs": [],
   "source": []
  },
  {
   "cell_type": "code",
   "execution_count": 10,
   "id": "85136b93",
   "metadata": {},
   "outputs": [
    {
     "data": {
      "text/plain": [
       "(torch.Size([32, 9, 30]), torch.Size([32, 9, 30]), torch.Size([32, 9, 30]))"
      ]
     },
     "execution_count": 10,
     "metadata": {},
     "output_type": "execute_result"
    }
   ],
   "source": [
    "wp_angles.shape, wp_headings.shape, wp_curvatures.shape"
   ]
  },
  {
   "cell_type": "code",
   "execution_count": null,
   "id": "ebabcc73",
   "metadata": {},
   "outputs": [],
   "source": []
  },
  {
   "cell_type": "code",
   "execution_count": 46,
   "id": "51b462ee",
   "metadata": {},
   "outputs": [
    {
     "data": {
      "text/plain": [
       "(array([ 113.,  456., 2223., 9196., 2566., 1304.,  827.,  425.,  119.,\n",
       "          51.]),\n",
       " array([-2.883 , -2.066 , -1.251 , -0.4348,  0.3813,  1.197 ,  2.014 ,\n",
       "         2.83  ,  3.645 ,  4.46  ,  5.277 ], dtype=float16),\n",
       " <BarContainer object of 10 artists>)"
      ]
     },
     "execution_count": 46,
     "metadata": {},
     "output_type": "execute_result"
    },
    {
     "data": {
      "image/png": "[encoded data removed]",
      "text/plain": [
       "<Figure size 432x288 with 1 Axes>"
      ]
     },
     "metadata": {
      "needs_background": "light"
     },
     "output_type": "display_data"
    }
   ],
   "source": [
    "plt.hist((wp_angles*to_pred_mask).flatten().detach().cpu().numpy())"
   ]
  },
  {
   "cell_type": "code",
   "execution_count": 54,
   "id": "61f6f5f7",
   "metadata": {},
   "outputs": [
    {
     "data": {
      "text/plain": [
       "1.782"
      ]
     },
     "execution_count": 54,
     "metadata": {},
     "output_type": "execute_result"
    }
   ],
   "source": [
    "3.3*.54"
   ]
  },
  {
   "cell_type": "code",
   "execution_count": 47,
   "id": "873d8c12",
   "metadata": {},
   "outputs": [
    {
     "data": {
      "text/plain": [
       "(array([  16.,   90.,  505., 3027., 9853., 1779., 1425.,  435.,   85.,\n",
       "          65.]),\n",
       " array([-5.066 , -3.883 , -2.697 , -1.514 , -0.3289,  0.8555,  2.04  ,\n",
       "         3.225 ,  4.41  ,  5.594 ,  6.777 ], dtype=float16),\n",
       " <BarContainer object of 10 artists>)"
      ]
     },
     "execution_count": 47,
     "metadata": {},
     "output_type": "execute_result"
    },
    {
     "data": {
      "image/png": "[encoded data removed]",
      "text/plain": [
       "<Figure size 432x288 with 1 Axes>"
      ]
     },
     "metadata": {
      "needs_background": "light"
     },
     "output_type": "display_data"
    }
   ],
   "source": [
    "plt.hist((wp_headings*to_pred_mask).flatten().detach().cpu().numpy())"
   ]
  },
  {
   "cell_type": "code",
   "execution_count": 48,
   "id": "30bd182e",
   "metadata": {},
   "outputs": [
    {
     "data": {
      "text/plain": [
       "(array([  149.,   688.,  2620., 10216.,  1754.,  1274.,   414.,    76.,\n",
       "           20.,    69.]),\n",
       " array([-0.991 , -0.687 , -0.3823, -0.078 ,  0.2263,  0.531 ,  0.835 ,\n",
       "         1.14  ,  1.444 ,  1.748 ,  2.053 ], dtype=float16),\n",
       " <BarContainer object of 10 artists>)"
      ]
     },
     "execution_count": 48,
     "metadata": {},
     "output_type": "execute_result"
    },
    {
     "data": {
      "image/png": "[encoded data removed]",
      "text/plain": [
       "<Figure size 432x288 with 1 Axes>"
      ]
     },
     "metadata": {
      "needs_background": "light"
     },
     "output_type": "display_data"
    }
   ],
   "source": [
    "plt.hist((wp_curvatures*to_pred_mask).flatten().detach().cpu().numpy())"
   ]
  },
  {
   "cell_type": "code",
   "execution_count": null,
   "id": "131418d0",
   "metadata": {},
   "outputs": [],
   "source": []
  },
  {
   "cell_type": "code",
   "execution_count": null,
   "id": "514d3aa8",
   "metadata": {},
   "outputs": [],
   "source": []
  },
  {
   "cell_type": "code",
   "execution_count": null,
   "id": "b63845bc",
   "metadata": {},
   "outputs": [],
   "source": []
  },
  {
   "cell_type": "code",
   "execution_count": 35,
   "id": "a0c5b3ff",
   "metadata": {
    "scrolled": true
   },
   "outputs": [
    {
     "data": {
      "text/plain": [
       "tensor(0.8145, device='cuda:0', dtype=torch.float16)"
      ]
     },
     "execution_count": 35,
     "metadata": {},
     "output_type": "execute_result"
    }
   ],
   "source": [
    "to_pred_mask.sum() / to_pred_mask.numel()"
   ]
  },
  {
   "cell_type": "code",
   "execution_count": 36,
   "id": "5aec0c1b",
   "metadata": {
    "scrolled": true
   },
   "outputs": [
    {
     "ename": "IndexError",
     "evalue": "index 9 is out of bounds for axis 1 with size 9",
     "output_type": "error",
     "traceback": [
      "\u001b[0;31m---------------------------------------------------------------------------\u001b[0m",
      "\u001b[0;31mIndexError\u001b[0m                                Traceback (most recent call last)",
      "\u001b[0;32m/tmp/ipykernel_4106212/1342269071.py\u001b[0m in \u001b[0;36m<module>\u001b[0;34m\u001b[0m\n\u001b[0;32m----> 1\u001b[0;31m \u001b[0mt\u001b[0m \u001b[0;34m=\u001b[0m \u001b[0mget_torque\u001b[0m\u001b[0;34m(\u001b[0m\u001b[0mwp_angles\u001b[0m\u001b[0;34m,\u001b[0m \u001b[0maux\u001b[0m\u001b[0;34m)\u001b[0m\u001b[0;34m\u001b[0m\u001b[0;34m\u001b[0m\u001b[0m\n\u001b[0m\u001b[1;32m      2\u001b[0m \u001b[0mplt\u001b[0m\u001b[0;34m.\u001b[0m\u001b[0mhist\u001b[0m\u001b[0;34m(\u001b[0m\u001b[0mt\u001b[0m\u001b[0;34m.\u001b[0m\u001b[0mcpu\u001b[0m\u001b[0;34m(\u001b[0m\u001b[0;34m)\u001b[0m\u001b[0;34m.\u001b[0m\u001b[0mnumpy\u001b[0m\u001b[0;34m(\u001b[0m\u001b[0;34m)\u001b[0m\u001b[0;34m.\u001b[0m\u001b[0mflatten\u001b[0m\u001b[0;34m(\u001b[0m\u001b[0;34m)\u001b[0m\u001b[0;34m)\u001b[0m\u001b[0;34m\u001b[0m\u001b[0;34m\u001b[0m\u001b[0m\n",
      "\u001b[0;32m/media/beans/ssd/bespoke/train_utils.py\u001b[0m in \u001b[0;36mget_torque\u001b[0;34m(pred, aux)\u001b[0m\n\u001b[1;32m    365\u001b[0m     \u001b[0mspeed_kph\u001b[0m \u001b[0;34m=\u001b[0m \u001b[0;34m(\u001b[0m\u001b[0maux\u001b[0m\u001b[0;34m[\u001b[0m\u001b[0;34m:\u001b[0m\u001b[0;34m,\u001b[0m\u001b[0;34m:\u001b[0m\u001b[0;34m,\u001b[0m\u001b[0;36m2\u001b[0m\u001b[0;34m:\u001b[0m\u001b[0;36m2\u001b[0m\u001b[0;34m+\u001b[0m\u001b[0;36m1\u001b[0m\u001b[0;34m]\u001b[0m\u001b[0;34m*\u001b[0m\u001b[0;36m20\u001b[0m\u001b[0;34m)\u001b[0m \u001b[0;31m#TODO this hardcoded denorm is dangerous\u001b[0m\u001b[0;34m\u001b[0m\u001b[0;34m\u001b[0m\u001b[0m\n\u001b[1;32m    366\u001b[0m     \u001b[0mangles_deg\u001b[0m \u001b[0;34m=\u001b[0m \u001b[0mrad_to_deg\u001b[0m\u001b[0;34m(\u001b[0m\u001b[0mpred\u001b[0m\u001b[0;34m*\u001b[0m\u001b[0mTARGET_NORM\u001b[0m\u001b[0;34m.\u001b[0m\u001b[0mto\u001b[0m\u001b[0;34m(\u001b[0m\u001b[0;34m'cuda'\u001b[0m\u001b[0;34m)\u001b[0m\u001b[0;34m)\u001b[0m\u001b[0;34m\u001b[0m\u001b[0;34m\u001b[0m\u001b[0m\n\u001b[0;32m--> 367\u001b[0;31m     \u001b[0mixs\u001b[0m \u001b[0;34m=\u001b[0m \u001b[0mgather_ixs\u001b[0m\u001b[0;34m(\u001b[0m\u001b[0mangles_deg\u001b[0m\u001b[0;34m,\u001b[0m \u001b[0mspeed_kph\u001b[0m\u001b[0;34m.\u001b[0m\u001b[0mcpu\u001b[0m\u001b[0;34m(\u001b[0m\u001b[0;34m)\u001b[0m\u001b[0;34m.\u001b[0m\u001b[0mnumpy\u001b[0m\u001b[0;34m(\u001b[0m\u001b[0;34m)\u001b[0m\u001b[0;34m)\u001b[0m\u001b[0;34m.\u001b[0m\u001b[0mto\u001b[0m\u001b[0;34m(\u001b[0m\u001b[0;34m'cuda'\u001b[0m\u001b[0;34m)\u001b[0m \u001b[0;31m# not backwards through angles_deg here, just getting ix based on speed\u001b[0m\u001b[0;34m\u001b[0m\u001b[0;34m\u001b[0m\u001b[0m\n\u001b[0m\u001b[1;32m    368\u001b[0m     \u001b[0mapplied_angles\u001b[0m \u001b[0;34m=\u001b[0m \u001b[0mtorch\u001b[0m\u001b[0;34m.\u001b[0m\u001b[0mgather\u001b[0m\u001b[0;34m(\u001b[0m\u001b[0mangles_deg\u001b[0m\u001b[0;34m,\u001b[0m \u001b[0;34m-\u001b[0m\u001b[0;36m1\u001b[0m\u001b[0;34m,\u001b[0m \u001b[0mixs\u001b[0m\u001b[0;34m)\u001b[0m\u001b[0;34m\u001b[0m\u001b[0;34m\u001b[0m\u001b[0m\n\u001b[1;32m    369\u001b[0m     \u001b[0mtorque\u001b[0m \u001b[0;34m=\u001b[0m \u001b[0mapplied_angles\u001b[0m \u001b[0;34m*\u001b[0m \u001b[0;34m(\u001b[0m\u001b[0mspeed_kph\u001b[0m\u001b[0;34m**\u001b[0m\u001b[0;36m2\u001b[0m\u001b[0;34m)\u001b[0m\u001b[0;34m\u001b[0m\u001b[0;34m\u001b[0m\u001b[0m\n",
      "\u001b[0;32m/media/beans/ssd/bespoke/train_utils.py\u001b[0m in \u001b[0;36mgather_ixs\u001b[0;34m(preds, speeds_kph)\u001b[0m\n\u001b[1;32m    353\u001b[0m         \u001b[0;32mfor\u001b[0m \u001b[0ms\u001b[0m \u001b[0;32min\u001b[0m \u001b[0mrange\u001b[0m\u001b[0;34m(\u001b[0m\u001b[0mseqlen\u001b[0m\u001b[0;34m)\u001b[0m\u001b[0;34m:\u001b[0m\u001b[0;34m\u001b[0m\u001b[0;34m\u001b[0m\u001b[0m\n\u001b[1;32m    354\u001b[0m             \u001b[0mtraj\u001b[0m \u001b[0;34m=\u001b[0m \u001b[0mpreds\u001b[0m\u001b[0;34m[\u001b[0m\u001b[0mb\u001b[0m\u001b[0;34m,\u001b[0m\u001b[0ms\u001b[0m\u001b[0;34m,\u001b[0m\u001b[0;34m:\u001b[0m\u001b[0;34m]\u001b[0m\u001b[0;34m\u001b[0m\u001b[0;34m\u001b[0m\u001b[0m\n\u001b[0;32m--> 355\u001b[0;31m             \u001b[0mspeed\u001b[0m \u001b[0;34m=\u001b[0m \u001b[0mspeeds_kph\u001b[0m\u001b[0;34m[\u001b[0m\u001b[0mb\u001b[0m\u001b[0;34m,\u001b[0m\u001b[0ms\u001b[0m\u001b[0;34m,\u001b[0m\u001b[0;36m0\u001b[0m\u001b[0;34m]\u001b[0m\u001b[0;34m\u001b[0m\u001b[0;34m\u001b[0m\u001b[0m\n\u001b[0m\u001b[1;32m    356\u001b[0m             \u001b[0m_\u001b[0m\u001b[0;34m,\u001b[0m \u001b[0m_\u001b[0m\u001b[0;34m,\u001b[0m \u001b[0mwp_ix\u001b[0m \u001b[0;34m=\u001b[0m \u001b[0mget_target_wp\u001b[0m\u001b[0;34m(\u001b[0m\u001b[0mtraj\u001b[0m\u001b[0;34m,\u001b[0m \u001b[0mkph_to_mps\u001b[0m\u001b[0;34m(\u001b[0m\u001b[0mspeed\u001b[0m\u001b[0;34m)\u001b[0m\u001b[0;34m)\u001b[0m \u001b[0;31m# TODO to get the ix, shouldn't need traj at all\u001b[0m\u001b[0;34m\u001b[0m\u001b[0;34m\u001b[0m\u001b[0m\n\u001b[1;32m    357\u001b[0m             \u001b[0mixs\u001b[0m\u001b[0;34m[\u001b[0m\u001b[0mb\u001b[0m\u001b[0;34m,\u001b[0m\u001b[0ms\u001b[0m\u001b[0;34m,\u001b[0m\u001b[0;36m0\u001b[0m\u001b[0;34m]\u001b[0m \u001b[0;34m=\u001b[0m \u001b[0mint\u001b[0m\u001b[0;34m(\u001b[0m\u001b[0mround\u001b[0m\u001b[0;34m(\u001b[0m\u001b[0mwp_ix\u001b[0m\u001b[0;34m)\u001b[0m\u001b[0;34m)\u001b[0m\u001b[0;34m\u001b[0m\u001b[0;34m\u001b[0m\u001b[0m\n",
      "\u001b[0;31mIndexError\u001b[0m: index 9 is out of bounds for axis 1 with size 9"
     ]
    }
   ],
   "source": [
    "t = get_torque(wp_angles, aux)\n",
    "plt.hist(t.cpu().numpy().flatten())"
   ]
  },
  {
   "cell_type": "code",
   "execution_count": 49,
   "id": "6f0f3156",
   "metadata": {},
   "outputs": [
    {
     "data": {
      "text/plain": [
       "tensor(3904., device='cuda:0', dtype=torch.float16)"
      ]
     },
     "execution_count": 49,
     "metadata": {},
     "output_type": "execute_result"
    }
   ],
   "source": [
    "abs(t).max()"
   ]
  },
  {
   "cell_type": "code",
   "execution_count": 50,
   "id": "05d2a0b7",
   "metadata": {},
   "outputs": [
    {
     "data": {
      "text/plain": [
       "(array([161.,  60.,  19.,   8.,   4.,   2.,   1.,   0.,   0.,   1.]),\n",
       " array([  0. ,  62.6, 125.2, 187.8, 250.4, 313. , 375.5, 438.2, 500.8,\n",
       "        563.5, 626. ], dtype=float16),\n",
       " <BarContainer object of 10 artists>)"
      ]
     },
     "execution_count": 50,
     "metadata": {},
     "output_type": "execute_result"
    },
    {
     "data": {
      "image/png": "[encoded data removed]",
      "text/plain": [
       "<Figure size 432x288 with 1 Axes>"
      ]
     },
     "metadata": {
      "needs_background": "light"
     },
     "output_type": "display_data"
    }
   ],
   "source": [
    "td = abs(t[:,1:,:] - t[:,:-1,:])\n",
    "plt.hist(td.cpu().numpy().flatten())"
   ]
  },
  {
   "cell_type": "code",
   "execution_count": 51,
   "id": "a70bddb5",
   "metadata": {},
   "outputs": [
    {
     "data": {
      "text/plain": [
       "tensor(626., device='cuda:0', dtype=torch.float16)"
      ]
     },
     "execution_count": 51,
     "metadata": {},
     "output_type": "execute_result"
    }
   ],
   "source": [
    "abs(td).max()"
   ]
  },
  {
   "cell_type": "code",
   "execution_count": null,
   "id": "f662ee37",
   "metadata": {},
   "outputs": [],
   "source": []
  },
  {
   "cell_type": "code",
   "execution_count": 67,
   "id": "4e507524",
   "metadata": {},
   "outputs": [
    {
     "data": {
      "text/plain": [
       "<matplotlib.image.AxesImage at 0x7fe040363100>"
      ]
     },
     "execution_count": 67,
     "metadata": {},
     "output_type": "execute_result"
    },
    {
     "data": {
      "image/png": "[encoded data removed]",
      "text/plain": [
       "<Figure size 432x288 with 1 Axes>"
      ]
     },
     "metadata": {
      "needs_background": "light"
     },
     "output_type": "display_data"
    }
   ],
   "source": [
    "\n",
    "traj = dataloader.targets_chunk[ix][0]\n",
    "img = dataloader.img_chunk[ix][0]\n",
    "\n",
    "plt.imshow(draw_wps(img, traj))"
   ]
  },
  {
   "cell_type": "code",
   "execution_count": null,
   "id": "26b46141",
   "metadata": {},
   "outputs": [],
   "source": []
  },
  {
   "cell_type": "code",
   "execution_count": null,
   "id": "b2ce9259",
   "metadata": {},
   "outputs": [],
   "source": []
  },
  {
   "cell_type": "code",
   "execution_count": null,
   "id": "e6a6566f",
   "metadata": {},
   "outputs": [],
   "source": []
  },
  {
   "cell_type": "code",
   "execution_count": null,
   "id": "12b8ffaa",
   "metadata": {},
   "outputs": [],
   "source": []
  },
  {
   "cell_type": "code",
   "execution_count": 8,
   "id": "13052d52",
   "metadata": {},
   "outputs": [],
   "source": [
    "import subprocess"
   ]
  },
  {
   "cell_type": "code",
   "execution_count": 9,
   "id": "ee0b34b0",
   "metadata": {},
   "outputs": [
    {
     "data": {
      "text/plain": [
       "CompletedProcess(args='cp -R /media/beans/beans_data/blender_membank /dev/shm/blender_membank', returncode=0)"
      ]
     },
     "execution_count": 9,
     "metadata": {},
     "output_type": "execute_result"
    }
   ],
   "source": [
    "# Load up membank from ssd to shm\n",
    "subprocess.run(\"cp -R /media/beans/beans_data/blender_membank /dev/shm/blender_membank\", shell=True)"
   ]
  },
  {
   "cell_type": "code",
   "execution_count": null,
   "id": "05f59d3e",
   "metadata": {},
   "outputs": [],
   "source": [
    "# save membank to ssd\n",
    "subprocess.run(\"cp -R /dev/shm/blender_membank /media/beans/beans_data/blender_membank\", shell=True)"
   ]
  }
 ],
 "metadata": {
  "kernelspec": {
   "display_name": "Python 3 (ipykernel)",
   "language": "python",
   "name": "python3"
  },
  "language_info": {
   "codemirror_mode": {
    "name": "ipython",
    "version": 3
   },
   "file_extension": ".py",
   "mimetype": "text/x-python",
   "name": "python",
   "nbconvert_exporter": "python",
   "pygments_lexer": "ipython3",
   "version": "3.8.11"
  }
 },
 "nbformat": 4,
 "nbformat_minor": 5
}
