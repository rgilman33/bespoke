{
 "cells": [
  {
   "cell_type": "code",
   "execution_count": 24,
   "id": "27b6bfca",
   "metadata": {},
   "outputs": [
    {
     "name": "stdout",
     "output_type": "stream",
     "text": [
      "The autoreload extension is already loaded. To reload it, use:\n",
      "  %reload_ext autoreload\n"
     ]
    }
   ],
   "source": [
    "%matplotlib inline\n",
    "%load_ext autoreload\n",
    "%autoreload 2\n",
    "\n",
    "import sys\n",
    "sys.path.append(f'/home/beans/bespoke')\n",
    "\n",
    "from models import EffNet\n",
    "from constants import *\n",
    "from imports import *\n",
    "from loaders import TrnLoader\n",
    "from train_utils import *"
   ]
  },
  {
   "cell_type": "code",
   "execution_count": 5,
   "id": "1474e035",
   "metadata": {},
   "outputs": [],
   "source": [
    "iterates_to_combine = list(range(58, 64)) #[7, 8, 9, 10]\n",
    "model_stem = '1.29'\n",
    "#run_id = 'kszjvkvy'"
   ]
  },
  {
   "cell_type": "code",
   "execution_count": 6,
   "id": "dac313fa",
   "metadata": {
    "scrolled": true
   },
   "outputs": [],
   "source": [
    "#glob.glob(f\"{BESPOKE_ROOT}/models/m_{model_stem}*\")"
   ]
  },
  {
   "cell_type": "code",
   "execution_count": 7,
   "id": "eb1606e6",
   "metadata": {
    "scrolled": true
   },
   "outputs": [
    {
     "data": {
      "text/plain": [
       "['/home/beans/bespoke/models/m1.29_e58.torch',\n",
       " '/home/beans/bespoke/models/m1.29_e59.torch',\n",
       " '/home/beans/bespoke/models/m1.29_e60.torch',\n",
       " '/home/beans/bespoke/models/m1.29_e61.torch',\n",
       " '/home/beans/bespoke/models/m1.29_e62.torch',\n",
       " '/home/beans/bespoke/models/m1.29_e63.torch']"
      ]
     },
     "execution_count": 7,
     "metadata": {},
     "output_type": "execute_result"
    }
   ],
   "source": [
    "m_paths = [f\"{BESPOKE_ROOT}/models/m{model_stem}_e{e}.torch\" for e in iterates_to_combine]\n",
    "m_paths"
   ]
  },
  {
   "cell_type": "code",
   "execution_count": 8,
   "id": "ac429674",
   "metadata": {
    "scrolled": true
   },
   "outputs": [],
   "source": [
    "state_dicts = [torch.load(p) for p in m_paths]\n",
    "state_dict_avg = state_dicts[0].copy() # placeholder for a sec"
   ]
  },
  {
   "cell_type": "code",
   "execution_count": 9,
   "id": "ade8e2c4",
   "metadata": {},
   "outputs": [],
   "source": [
    "for k in state_dict_avg.keys():\n",
    "    state_dict_avg[k] = sum([sd[k] for sd in state_dicts]) / len(state_dicts)"
   ]
  },
  {
   "cell_type": "code",
   "execution_count": 10,
   "id": "7f17a0ac",
   "metadata": {},
   "outputs": [
    {
     "data": {
      "text/plain": [
       "<All keys matched successfully>"
      ]
     },
     "execution_count": 10,
     "metadata": {},
     "output_type": "execute_result"
    }
   ],
   "source": [
    "m = EffNet().to(device)\n",
    "m.train()\n",
    "m.load_state_dict(state_dict_avg)"
   ]
  },
  {
   "cell_type": "code",
   "execution_count": 15,
   "id": "b382621d",
   "metadata": {
    "scrolled": true
   },
   "outputs": [],
   "source": [
    "N_UPDATES = 256\n",
    "for mm in m.modules():\n",
    "    if type(mm) == nn.BatchNorm2d: \n",
    "        mm.momentum = 1/N_UPDATES"
   ]
  },
  {
   "cell_type": "code",
   "execution_count": 12,
   "id": "9a82197f",
   "metadata": {
    "scrolled": true
   },
   "outputs": [
    {
     "name": "stdout",
     "output_type": "stream",
     "text": [
      "Launching 3 loader workers\n"
     ]
    },
    {
     "name": "stderr",
     "output_type": "stream",
     "text": [
      "/home/beans/miniconda3/envs/py38/lib/python3.8/site-packages/albumentations/augmentations/transforms.py:1175: FutureWarning: RandomContrast has been deprecated. Please use RandomBrightnessContrast\n",
      "  warnings.warn(\n",
      "/home/beans/miniconda3/envs/py38/lib/python3.8/site-packages/albumentations/augmentations/transforms.py:316: FutureWarning: JpegCompression has been deprecated. Please use ImageCompression\n",
      "  warnings.warn(\n",
      "/home/beans/miniconda3/envs/py38/lib/python3.8/site-packages/albumentations/augmentations/transforms.py:1149: FutureWarning: This class has been deprecated. Please use RandomBrightnessContrast\n",
      "  warnings.warn(\n",
      "/home/beans/miniconda3/envs/py38/lib/python3.8/site-packages/albumentations/augmentations/transforms.py:1149: FutureWarning: This class has been deprecated. Please use RandomBrightnessContrast\n",
      "  warnings.warn(\n",
      "/home/beans/miniconda3/envs/py38/lib/python3.8/site-packages/albumentations/augmentations/transforms.py:1175: FutureWarning: RandomContrast has been deprecated. Please use RandomBrightnessContrast\n",
      "  warnings.warn(\n",
      "/home/beans/miniconda3/envs/py38/lib/python3.8/site-packages/albumentations/augmentations/transforms.py:316: FutureWarning: JpegCompression has been deprecated. Please use ImageCompression\n",
      "  warnings.warn(\n",
      "/home/beans/miniconda3/envs/py38/lib/python3.8/site-packages/albumentations/augmentations/transforms.py:1175: FutureWarning: RandomContrast has been deprecated. Please use RandomBrightnessContrast\n",
      "  warnings.warn(\n",
      "/home/beans/miniconda3/envs/py38/lib/python3.8/site-packages/albumentations/augmentations/transforms.py:1149: FutureWarning: This class has been deprecated. Please use RandomBrightnessContrast\n",
      "  warnings.warn(\n",
      "/home/beans/miniconda3/envs/py38/lib/python3.8/site-packages/albumentations/augmentations/transforms.py:316: FutureWarning: JpegCompression has been deprecated. Please use ImageCompression\n",
      "  warnings.warn(\n"
     ]
    },
    {
     "name": "stdout",
     "output_type": "stream",
     "text": [
      "Got first chunk\n",
      "CPU times: user 70.7 ms, sys: 344 ms, total: 414 ms\n",
      "Wall time: 2.52 s\n"
     ]
    },
    {
     "name": "stderr",
     "output_type": "stream",
     "text": [
      "Process Process-3:\n",
      "Process Process-2:\n",
      "Process Process-1:\n",
      "Traceback (most recent call last):\n",
      "Traceback (most recent call last):\n",
      "Traceback (most recent call last):\n",
      "  File \"/home/beans/miniconda3/envs/py38/lib/python3.8/multiprocessing/process.py\", line 315, in _bootstrap\n",
      "    self.run()\n",
      "  File \"/home/beans/miniconda3/envs/py38/lib/python3.8/multiprocessing/process.py\", line 315, in _bootstrap\n",
      "    self.run()\n",
      "  File \"/home/beans/miniconda3/envs/py38/lib/python3.8/multiprocessing/process.py\", line 315, in _bootstrap\n",
      "    self.run()\n",
      "  File \"/home/beans/miniconda3/envs/py38/lib/python3.8/multiprocessing/process.py\", line 108, in run\n",
      "    self._target(*self._args, **self._kwargs)\n",
      "  File \"/home/beans/bespoke/loaders.py\", line 130, in make_chunks\n",
      "    time.sleep(.1)\n",
      "  File \"/home/beans/miniconda3/envs/py38/lib/python3.8/multiprocessing/process.py\", line 108, in run\n",
      "    self._target(*self._args, **self._kwargs)\n",
      "  File \"/home/beans/miniconda3/envs/py38/lib/python3.8/multiprocessing/process.py\", line 108, in run\n",
      "    self._target(*self._args, **self._kwargs)\n",
      "KeyboardInterrupt\n",
      "  File \"/home/beans/bespoke/loaders.py\", line 128, in make_chunks\n",
      "    self.chunks_queue.put((img_chunk, aux_chunk, targets_chunk))\n",
      "  File \"/home/beans/bespoke/loaders.py\", line 128, in make_chunks\n",
      "    self.chunks_queue.put((img_chunk, aux_chunk, targets_chunk))\n",
      "\n",
      "During handling of the above exception, another exception occurred:\n",
      "\n",
      "  File \"/home/beans/miniconda3/envs/py38/lib/python3.8/multiprocessing/queues.py\", line 83, in put\n",
      "    if not self._sem.acquire(block, timeout):\n",
      "Traceback (most recent call last):\n",
      "  File \"/home/beans/miniconda3/envs/py38/lib/python3.8/multiprocessing/queues.py\", line 83, in put\n",
      "    if not self._sem.acquire(block, timeout):\n",
      "KeyboardInterrupt\n",
      "  File \"/home/beans/miniconda3/envs/py38/lib/python3.8/multiprocessing/process.py\", line 318, in _bootstrap\n",
      "    util._exit_function()\n",
      "KeyboardInterrupt\n",
      "\n",
      "During handling of the above exception, another exception occurred:\n",
      "\n",
      "  File \"/home/beans/miniconda3/envs/py38/lib/python3.8/multiprocessing/util.py\", line 360, in _exit_function\n",
      "    _run_finalizers()\n",
      "\n",
      "During handling of the above exception, another exception occurred:\n",
      "\n",
      "Traceback (most recent call last):\n",
      "  File \"/home/beans/miniconda3/envs/py38/lib/python3.8/multiprocessing/util.py\", line 300, in _run_finalizers\n",
      "    finalizer()\n",
      "Traceback (most recent call last):\n",
      "  File \"/home/beans/miniconda3/envs/py38/lib/python3.8/multiprocessing/process.py\", line 318, in _bootstrap\n",
      "    util._exit_function()\n",
      "  File \"/home/beans/miniconda3/envs/py38/lib/python3.8/multiprocessing/util.py\", line 224, in __call__\n",
      "    res = self._callback(*self._args, **self._kwargs)\n",
      "  File \"/home/beans/miniconda3/envs/py38/lib/python3.8/multiprocessing/process.py\", line 318, in _bootstrap\n",
      "    util._exit_function()\n",
      "  File \"/home/beans/miniconda3/envs/py38/lib/python3.8/multiprocessing/queues.py\", line 195, in _finalize_join\n",
      "    thread.join()\n",
      "  File \"/home/beans/miniconda3/envs/py38/lib/python3.8/multiprocessing/util.py\", line 360, in _exit_function\n",
      "    _run_finalizers()\n",
      "  File \"/home/beans/miniconda3/envs/py38/lib/python3.8/multiprocessing/util.py\", line 360, in _exit_function\n",
      "    _run_finalizers()\n",
      "  File \"/home/beans/miniconda3/envs/py38/lib/python3.8/threading.py\", line 1011, in join\n",
      "    self._wait_for_tstate_lock()\n",
      "  File \"/home/beans/miniconda3/envs/py38/lib/python3.8/multiprocessing/util.py\", line 300, in _run_finalizers\n",
      "    finalizer()\n",
      "  File \"/home/beans/miniconda3/envs/py38/lib/python3.8/multiprocessing/util.py\", line 300, in _run_finalizers\n",
      "    finalizer()\n",
      "  File \"/home/beans/miniconda3/envs/py38/lib/python3.8/multiprocessing/util.py\", line 224, in __call__\n",
      "    res = self._callback(*self._args, **self._kwargs)\n",
      "  File \"/home/beans/miniconda3/envs/py38/lib/python3.8/threading.py\", line 1027, in _wait_for_tstate_lock\n",
      "    elif lock.acquire(block, timeout):\n",
      "  File \"/home/beans/miniconda3/envs/py38/lib/python3.8/multiprocessing/util.py\", line 224, in __call__\n",
      "    res = self._callback(*self._args, **self._kwargs)\n",
      "  File \"/home/beans/miniconda3/envs/py38/lib/python3.8/multiprocessing/queues.py\", line 195, in _finalize_join\n",
      "    thread.join()\n",
      "KeyboardInterrupt\n",
      "  File \"/home/beans/miniconda3/envs/py38/lib/python3.8/multiprocessing/queues.py\", line 195, in _finalize_join\n",
      "    thread.join()\n",
      "  File \"/home/beans/miniconda3/envs/py38/lib/python3.8/threading.py\", line 1011, in join\n",
      "    self._wait_for_tstate_lock()\n",
      "  File \"/home/beans/miniconda3/envs/py38/lib/python3.8/threading.py\", line 1011, in join\n",
      "    self._wait_for_tstate_lock()\n",
      "  File \"/home/beans/miniconda3/envs/py38/lib/python3.8/threading.py\", line 1027, in _wait_for_tstate_lock\n",
      "    elif lock.acquire(block, timeout):\n",
      "  File \"/home/beans/miniconda3/envs/py38/lib/python3.8/threading.py\", line 1027, in _wait_for_tstate_lock\n",
      "    elif lock.acquire(block, timeout):\n",
      "KeyboardInterrupt\n",
      "KeyboardInterrupt\n"
     ]
    }
   ],
   "source": [
    "%%time\n",
    "BS = 64 # 128 got an error?\n",
    "dataloader = TrnLoader(bs=BS)"
   ]
  },
  {
   "cell_type": "code",
   "execution_count": 14,
   "id": "71c48210",
   "metadata": {},
   "outputs": [],
   "source": [
    "trainer = Trainer(dataloader, m, model_stem=model_stem, opt=None, log_wandb=False, updates_per_epoch=N_UPDATES,\n",
    "                  backwards=False, total_epochs=1)"
   ]
  },
  {
   "cell_type": "code",
   "execution_count": 16,
   "id": "af166797",
   "metadata": {
    "scrolled": true
   },
   "outputs": [
    {
     "name": "stderr",
     "output_type": "stream",
     "text": [
      "/home/beans/miniconda3/envs/py38/lib/python3.8/site-packages/torch/utils/checkpoint.py:31: UserWarning: None of the inputs have requires_grad=True. Gradients will be None\n",
      "  warnings.warn(\"None of the inputs have requires_grad=True. Gradients will be None\")\n"
     ]
    },
    {
     "name": "stdout",
     "output_type": "stream",
     "text": [
      "\n",
      "\n",
      " {'avg_unc': -7.47769165, 'wp_angles_i': 0.00213718, 'wp_headings_i': 0.00199401, 'wp_curvatures_i': 0.01404866, 'wp_rolls_i': 4.44e-05, 'wp_zs_i': 0.00053997, 'wp_angles': 0.00108046, 'wp_headings': 0.00144699, 'wp_curvatures': 0.01001991, 'wp_rolls': 0.07793486, 'wp_zs': 0.06245124, 'has_stop': 0.01225658, 'stop_dist': 0.00472811, 'has_lead': 0.00711477, 'lead_dist': 0.00189534, 'lead_speed': 0.26070365, 'dagger_shift': 0.03662863, 'lane_width': 0.05031168, 'rd_is_lined': 0.00065406, 'left_turn': 0.0025204, 'right_turn': 0.0005163, 'unc': 1.18574142, 'logistical/obs_consumed_per_second': 110.04724409, 'logistical/obs_generated_per_second': 75.94488189, 'logistical/slowest_runner_obs_per_sec': 1.75590551, 'logistical/data_consumption_ratio': 1.44788822, 'logistical/manual_train_pause': 0.0, 'timing/get batch from dataloader': 0.29817848, 'timing/model forward': 0.40682835, 'timing/calc losses': 0.00812063, 'timing/backwards': 6.19e-06, 'timing/get worst': 2.02e-06, 'timing/logging': 2.11e-06, 'timing/calc timing': 0.00339196, 'timing/trn update': 0.71653328, 'logistical/max_param': 29.6947937, 'logistical/lr': 0.0, 'logistical/mins_since_slowest_runner_reported': 5.69458364, 'logistical/snr': 0.0}\n",
      "\n",
      " {'timing/get chunk from queue': 0.67664163, 'timing/prep image': 0.05251946, 'timing/prep aux': 0.03267414, 'timing/calc wp targets': 0.01892396, 'timing/assemble mask': 0.1472053, 'timing/prep wps': 0.12846311, 'timing/get_batch_at_ix': 2.049e-05, 'timing/promote backup chunk': 0.30905262, 'timing/queue_batch': 0.68886755, 'timing/wait bc batch not ready': 0.2365625}\n",
      "\n",
      "\n",
      " {'logistical/obs_consumed_per_second': 105.421875, 'logistical/obs_generated_per_second': 75.0, 'logistical/slowest_runner_obs_per_sec': 1.0, 'logistical/data_consumption_ratio': 1.40427063, 'logistical/manual_train_pause': 0.0, 'timing/get batch from dataloader': 0.31039243, 'timing/model forward': 0.37994804, 'timing/calc losses': 0.00866202, 'timing/backwards': 6.08e-06, 'timing/get worst': 2.16e-06, 'timing/logging': 0.00195661, 'timing/calc timing': 0.00432779, 'timing/trn update': 0.70529896, 'avg_unc': -7.48327637, 'wp_angles_i': 0.00224107, 'wp_headings_i': 0.00235186, 'wp_curvatures_i': 0.01335276, 'wp_rolls_i': 3.078e-05, 'wp_zs_i': 0.000498, 'wp_angles': 0.00108672, 'wp_headings': 0.00147676, 'wp_curvatures': 0.01104586, 'wp_rolls': 0.08149862, 'wp_zs': 0.0584563, 'has_stop': 0.01082453, 'stop_dist': 0.00521509, 'has_lead': 0.00711312, 'lead_dist': 0.00125865, 'lead_speed': 0.27793413, 'dagger_shift': 0.03544166, 'lane_width': 0.04947448, 'rd_is_lined': 0.00093842, 'left_turn': 0.00221521, 'right_turn': 0.00082829, 'unc': 1.16217422, 'logistical/max_param': 29.6947937, 'logistical/lr': 0.0, 'logistical/mins_since_slowest_runner_reported': 7.20179683, 'logistical/snr': 0.0}\n",
      "\n",
      " {'timing/get chunk from queue': 0.67249328, 'timing/prep image': 0.0531161, 'timing/prep aux': 0.05974993, 'timing/calc wp targets': 0.01638982, 'timing/assemble mask': 0.15441618, 'timing/prep wps': 0.09353555, 'timing/get_batch_at_ix': 1.981e-05, 'timing/promote backup chunk': 0.32226393, 'timing/queue_batch': 0.69950026, 'timing/wait bc batch not ready': 0.24304688}\n",
      "{'logistical/obs_consumed_per_second': 85.0, 'logistical/obs_generated_per_second': 75.0, 'logistical/slowest_runner_obs_per_sec': 1.0, 'logistical/data_consumption_ratio': 1.1273269, 'logistical/manual_train_pause': 0.0, 'timing/get batch from dataloader': 0.02118897, 'timing/model forward': 0.36527824, 'timing/calc losses': 0.02428651, 'timing/backwards': 7.63e-06, 'timing/get worst': 2.86e-06, 'timing/logging': 0.3454783, 'timing/calc timing': 0.00941515, 'timing/trn update': 0.76566267}\n",
      "CPU times: user 2min 59s, sys: 58.3 s, total: 3min 57s\n",
      "Wall time: 3min 2s\n"
     ]
    }
   ],
   "source": [
    "%%time \n",
    "with torch.no_grad():\n",
    "    trainer.train()"
   ]
  },
  {
   "cell_type": "code",
   "execution_count": 17,
   "id": "3d5cc165",
   "metadata": {
    "scrolled": true
   },
   "outputs": [],
   "source": [
    "for mm in m.modules():\n",
    "    if type(mm) == nn.BatchNorm2d: \n",
    "        mm.momentum = .1 # set this back to value used for train. Actually is this even necessary? is this stored in state_dict?\n",
    "        #print(mm.momentum)"
   ]
  },
  {
   "cell_type": "code",
   "execution_count": 18,
   "id": "c6b8eb89",
   "metadata": {},
   "outputs": [],
   "source": [
    "torch.save(m.state_dict(), f'{BESPOKE_ROOT}/models/m{model_stem}_avg.torch')"
   ]
  },
  {
   "cell_type": "code",
   "execution_count": 19,
   "id": "01c81017",
   "metadata": {},
   "outputs": [],
   "source": [
    "m.model_stem = f\"{model_stem}_avg\" # rw evaluator uses this"
   ]
  },
  {
   "cell_type": "code",
   "execution_count": 20,
   "id": "7d711583",
   "metadata": {},
   "outputs": [
    {
     "name": "stderr",
     "output_type": "stream",
     "text": [
      "\u001b[34m\u001b[1mwandb\u001b[0m: Currently logged in as: \u001b[33mrgilman33\u001b[0m (use `wandb login --relogin` to force relogin)\n",
      "\u001b[34m\u001b[1mwandb\u001b[0m: wandb version 0.13.9 is available!  To upgrade, please run:\n",
      "\u001b[34m\u001b[1mwandb\u001b[0m:  $ pip install wandb --upgrade\n"
     ]
    },
    {
     "data": {
      "text/html": [
       "\n",
       "                    Resuming run <strong><a href=\"https://wandb.ai/rgilman33/carla/runs/66i4vxlw\" target=\"_blank\">luminous-kumquat-373</a></strong> to <a href=\"https://wandb.ai/rgilman33/carla\" target=\"_blank\">Weights & Biases</a> (<a href=\"https://docs.wandb.com/integrations/jupyter.html\" target=\"_blank\">docs</a>).<br/>\n",
       "\n",
       "                "
      ],
      "text/plain": [
       "<IPython.core.display.HTML object>"
      ]
     },
     "metadata": {},
     "output_type": "display_data"
    },
    {
     "data": {
      "text/html": [
       "<button onClick=\"this.nextSibling.style.display='block';this.style.display='none';\">Display W&B run</button><iframe src=\"https://wandb.ai/rgilman33/carla/runs/66i4vxlw?jupyter=true\" style=\"border:none;width:100%;height:420px;display:none;\"></iframe>"
      ],
      "text/plain": [
       "<wandb.sdk.wandb_run.Run at 0x7f152d1705e0>"
      ]
     },
     "execution_count": 20,
     "metadata": {},
     "output_type": "execute_result"
    }
   ],
   "source": [
    "wandb.init(id='66i4vxlw', project=\"carla\", resume=\"allow\")"
   ]
  },
  {
   "cell_type": "code",
   "execution_count": 25,
   "id": "72657ad9",
   "metadata": {},
   "outputs": [
    {
     "name": "stdout",
     "output_type": "stream",
     "text": [
      "CPU times: user 9 µs, sys: 3 µs, total: 12 µs\n",
      "Wall time: 13.1 µs\n"
     ]
    }
   ],
   "source": [
    "%%time\n",
    "from rollout import RwEvaluator\n",
    "rw_evaluator = RwEvaluator(m, wandb=wandb, save_rollouts=True)"
   ]
  },
  {
   "cell_type": "code",
   "execution_count": 26,
   "id": "16c77c32",
   "metadata": {
    "scrolled": true
   },
   "outputs": [
    {
     "name": "stdout",
     "output_type": "stream",
     "text": [
      "0\n"
     ]
    },
    {
     "name": "stderr",
     "output_type": "stream",
     "text": [
      "/home/beans/miniconda3/envs/py38/lib/python3.8/site-packages/torch/utils/checkpoint.py:31: UserWarning:\n",
      "\n",
      "None of the inputs have requires_grad=True. Gradients will be None\n",
      "\n"
     ]
    },
    {
     "name": "stdout",
     "output_type": "stream",
     "text": [
      "3200\n",
      "loader is done\n",
      "Rollout complete!\n",
      "0\n",
      "3200\n",
      "loader is done\n",
      "Rollout complete!\n",
      "0\n",
      "3200\n",
      "loader is done\n",
      "Rollout complete!\n",
      "0\n",
      "loader is done\n",
      "Rollout complete!\n",
      "0\n",
      "3200\n",
      "loader is done\n",
      "Rollout complete!\n",
      "0\n",
      "3200\n",
      "loader is done\n",
      "Rollout complete!\n",
      "down w rollouts, reporting\n",
      "run_555a\n",
      "run_556a\n",
      "run_556b\n",
      "run_556c\n",
      "run_555b\n",
      "run_556d\n"
     ]
    }
   ],
   "source": [
    "rw_evaluator.evaluate()"
   ]
  },
  {
   "cell_type": "code",
   "execution_count": null,
   "id": "7b8eab78",
   "metadata": {},
   "outputs": [],
   "source": []
  }
 ],
 "metadata": {
  "kernelspec": {
   "display_name": "Python 3 (ipykernel)",
   "language": "python",
   "name": "python3"
  },
  "language_info": {
   "codemirror_mode": {
    "name": "ipython",
    "version": 3
   },
   "file_extension": ".py",
   "mimetype": "text/x-python",
   "name": "python",
   "nbconvert_exporter": "python",
   "pygments_lexer": "ipython3",
   "version": "3.8.11"
  }
 },
 "nbformat": 4,
 "nbformat_minor": 5
}
