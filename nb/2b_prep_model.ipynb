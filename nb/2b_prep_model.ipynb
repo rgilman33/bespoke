{
 "cells": [
  {
   "cell_type": "code",
   "execution_count": 1,
   "id": "27b6bfca",
   "metadata": {},
   "outputs": [
    {
     "name": "stderr",
     "output_type": "stream",
     "text": [
      "/home/beans/miniconda3/envs/py38/lib/python3.8/site-packages/albumentations/augmentations/transforms.py:689: FutureWarning: This class has been deprecated. Please use CoarseDropout\n",
      "  warnings.warn(\n",
      "/home/beans/miniconda3/envs/py38/lib/python3.8/site-packages/albumentations/augmentations/transforms.py:965: FutureWarning: This class has been deprecated. Please use ImageCompression\n",
      "  warnings.warn(\n"
     ]
    }
   ],
   "source": [
    "%matplotlib inline\n",
    "%load_ext autoreload\n",
    "%autoreload 2\n",
    "\n",
    "import sys\n",
    "sys.path.append(f'/media/beans/ssd/bespoke')\n",
    "\n",
    "from models import EffNet\n",
    "from constants import *\n",
    "from imports import *\n",
    "from train_utils import run_epoch, eval_rw\n",
    "from blender_dataloader import BlenderDataloader\n",
    "from rw_dataloader import RealWorldDataloader"
   ]
  },
  {
   "cell_type": "code",
   "execution_count": 2,
   "id": "1474e035",
   "metadata": {},
   "outputs": [],
   "source": [
    "iterates_to_combine = list(range(23, 31)) #[7, 8, 9, 10]\n",
    "model_stem = '6.24'\n",
    "run_id = '3qdtsae1'"
   ]
  },
  {
   "cell_type": "code",
   "execution_count": 3,
   "id": "dac313fa",
   "metadata": {
    "scrolled": true
   },
   "outputs": [],
   "source": [
    "#glob.glob(f\"{BESPOKE_ROOT}/models/m_{model_stem}*\")"
   ]
  },
  {
   "cell_type": "code",
   "execution_count": 4,
   "id": "eb1606e6",
   "metadata": {
    "scrolled": true
   },
   "outputs": [
    {
     "data": {
      "text/plain": [
       "['/media/beans/ssd/bespoke/models/m_6.24_e23.torch',\n",
       " '/media/beans/ssd/bespoke/models/m_6.24_e24.torch',\n",
       " '/media/beans/ssd/bespoke/models/m_6.24_e25.torch',\n",
       " '/media/beans/ssd/bespoke/models/m_6.24_e26.torch',\n",
       " '/media/beans/ssd/bespoke/models/m_6.24_e27.torch',\n",
       " '/media/beans/ssd/bespoke/models/m_6.24_e28.torch',\n",
       " '/media/beans/ssd/bespoke/models/m_6.24_e29.torch',\n",
       " '/media/beans/ssd/bespoke/models/m_6.24_e30.torch']"
      ]
     },
     "execution_count": 4,
     "metadata": {},
     "output_type": "execute_result"
    }
   ],
   "source": [
    "m_paths = [f\"{BESPOKE_ROOT}/models/m_{model_stem}_e{e}.torch\" for e in iterates_to_combine]\n",
    "m_paths"
   ]
  },
  {
   "cell_type": "code",
   "execution_count": 5,
   "id": "ac429674",
   "metadata": {
    "scrolled": true
   },
   "outputs": [],
   "source": [
    "state_dicts = [torch.load(p) for p in m_paths]\n",
    "state_dict_avg = state_dicts[0].copy() # placeholder for a sec"
   ]
  },
  {
   "cell_type": "code",
   "execution_count": 6,
   "id": "ade8e2c4",
   "metadata": {},
   "outputs": [],
   "source": [
    "for k in state_dict_avg.keys():\n",
    "    state_dict_avg[k] = sum([sd[k] for sd in state_dicts]) / len(state_dicts)"
   ]
  },
  {
   "cell_type": "code",
   "execution_count": 7,
   "id": "7f17a0ac",
   "metadata": {},
   "outputs": [
    {
     "data": {
      "text/plain": [
       "<All keys matched successfully>"
      ]
     },
     "execution_count": 7,
     "metadata": {},
     "output_type": "execute_result"
    }
   ],
   "source": [
    "m = EffNet(model_arch=\"efficientnet_b3\").to(device)\n",
    "m.load_state_dict(state_dict_avg)"
   ]
  },
  {
   "cell_type": "code",
   "execution_count": 8,
   "id": "03f5a8cd",
   "metadata": {},
   "outputs": [],
   "source": [
    "#m.state_dict() # visibly inspect, weights should be in the neighborhood"
   ]
  },
  {
   "cell_type": "code",
   "execution_count": 9,
   "id": "9a82197f",
   "metadata": {
    "scrolled": true
   },
   "outputs": [],
   "source": [
    "BS = 64\n",
    "dataloader = BlenderDataloader(path_stem=\"trn\", bs=BS)"
   ]
  },
  {
   "cell_type": "code",
   "execution_count": 10,
   "id": "b02d5026",
   "metadata": {
    "scrolled": true
   },
   "outputs": [
    {
     "name": "stderr",
     "output_type": "stream",
     "text": [
      "/home/beans/miniconda3/envs/py38/lib/python3.8/site-packages/torch/utils/checkpoint.py:25: UserWarning: None of the inputs have requires_grad=True. Gradients will be None\n",
      "  warnings.warn(\"None of the inputs have requires_grad=True. Gradients will be None\")\n"
     ]
    },
    {
     "ename": "AttributeError",
     "evalue": "'NoneType' object has no attribute 'param_groups'",
     "output_type": "error",
     "traceback": [
      "\u001b[0;31m---------------------------------------------------------------------------\u001b[0m",
      "\u001b[0;31mAttributeError\u001b[0m                            Traceback (most recent call last)",
      "\u001b[0;32m<timed exec>\u001b[0m in \u001b[0;36m<module>\u001b[0;34m\u001b[0m\n",
      "\u001b[0;32m/media/beans/ssd/bespoke/train_utils.py\u001b[0m in \u001b[0;36mrun_epoch\u001b[0;34m(dataloader, model, opt, scaler, train, backwards, log_wandb, log_cadence, updates_per_epoch, wandb)\u001b[0m\n\u001b[1;32m    291\u001b[0m             \u001b[0mmax_param\u001b[0m \u001b[0;34m=\u001b[0m \u001b[0mmax\u001b[0m\u001b[0;34m(\u001b[0m\u001b[0;34m[\u001b[0m\u001b[0mp\u001b[0m\u001b[0;34m.\u001b[0m\u001b[0mmax\u001b[0m\u001b[0;34m(\u001b[0m\u001b[0;34m)\u001b[0m \u001b[0;32mfor\u001b[0m \u001b[0mp\u001b[0m \u001b[0;32min\u001b[0m \u001b[0mmodel\u001b[0m\u001b[0;34m.\u001b[0m\u001b[0mparameters\u001b[0m\u001b[0;34m(\u001b[0m\u001b[0;34m)\u001b[0m\u001b[0;34m]\u001b[0m\u001b[0;34m)\u001b[0m\u001b[0;34m.\u001b[0m\u001b[0mitem\u001b[0m\u001b[0;34m(\u001b[0m\u001b[0;34m)\u001b[0m\u001b[0;34m\u001b[0m\u001b[0;34m\u001b[0m\u001b[0m\n\u001b[1;32m    292\u001b[0m             logger.log({\"logistical/max_param\": max_param,\n\u001b[0;32m--> 293\u001b[0;31m                         \"logistical/lr\":opt.param_groups[0]['lr']})\n\u001b[0m\u001b[1;32m    294\u001b[0m             \u001b[0mstats\u001b[0m \u001b[0;34m=\u001b[0m \u001b[0mlogger\u001b[0m\u001b[0;34m.\u001b[0m\u001b[0mfinish\u001b[0m\u001b[0;34m(\u001b[0m\u001b[0;34m)\u001b[0m\u001b[0;34m;\u001b[0m \u001b[0mprint\u001b[0m\u001b[0;34m(\u001b[0m\u001b[0mstats\u001b[0m\u001b[0;34m)\u001b[0m\u001b[0;34m\u001b[0m\u001b[0;34m\u001b[0m\u001b[0m\n\u001b[1;32m    295\u001b[0m             \u001b[0mworst_control_loss_all\u001b[0m \u001b[0;34m=\u001b[0m \u001b[0;34m-\u001b[0m\u001b[0mnp\u001b[0m\u001b[0;34m.\u001b[0m\u001b[0minf\u001b[0m\u001b[0;34m\u001b[0m\u001b[0;34m\u001b[0m\u001b[0m\n",
      "\u001b[0;31mAttributeError\u001b[0m: 'NoneType' object has no attribute 'param_groups'"
     ]
    }
   ],
   "source": [
    "%%time\n",
    "with torch.no_grad():\n",
    "    run_epoch(dataloader, m, train=True, backwards=False, log_wandb=False, updates_per_epoch=256)"
   ]
  },
  {
   "cell_type": "code",
   "execution_count": 11,
   "id": "c6b8eb89",
   "metadata": {},
   "outputs": [],
   "source": [
    "torch.save(m.state_dict(), f'{BESPOKE_ROOT}/models/m_{model_stem}_avg.torch')"
   ]
  },
  {
   "cell_type": "code",
   "execution_count": null,
   "id": "6668d81f",
   "metadata": {},
   "outputs": [],
   "source": []
  },
  {
   "cell_type": "code",
   "execution_count": 12,
   "id": "fc8577b8",
   "metadata": {},
   "outputs": [
    {
     "name": "stdout",
     "output_type": "stream",
     "text": [
      "(5400, 100, 640, 3) (5400, 5) (5400, 1)\n",
      "(6000, 100, 640, 3) (6000, 5) (6000, 1)\n"
     ]
    }
   ],
   "source": [
    "rw_dataloader = RealWorldDataloader()"
   ]
  },
  {
   "cell_type": "code",
   "execution_count": 13,
   "id": "d58f6e2c",
   "metadata": {
    "scrolled": true
   },
   "outputs": [
    {
     "name": "stderr",
     "output_type": "stream",
     "text": [
      "\u001b[34m\u001b[1mwandb\u001b[0m: Currently logged in as: \u001b[33mrgilman33\u001b[0m (use `wandb login --relogin` to force relogin)\n",
      "\u001b[34m\u001b[1mwandb\u001b[0m: wandb version 0.12.19 is available!  To upgrade, please run:\n",
      "\u001b[34m\u001b[1mwandb\u001b[0m:  $ pip install wandb --upgrade\n"
     ]
    },
    {
     "data": {
      "text/html": [
       "\n",
       "                    Resuming run <strong><a href=\"https://wandb.ai/rgilman33/carla/runs/3qdtsae1\" target=\"_blank\">cool-darkness-309</a></strong> to <a href=\"https://wandb.ai/rgilman33/carla\" target=\"_blank\">Weights & Biases</a> (<a href=\"https://docs.wandb.com/integrations/jupyter.html\" target=\"_blank\">docs</a>).<br/>\n",
       "\n",
       "                "
      ],
      "text/plain": [
       "<IPython.core.display.HTML object>"
      ]
     },
     "metadata": {},
     "output_type": "display_data"
    },
    {
     "data": {
      "text/html": [
       "<button onClick=\"this.nextSibling.style.display='block';this.style.display='none';\">Display W&B run</button><iframe src=\"https://wandb.ai/rgilman33/carla/runs/3qdtsae1?jupyter=true\" style=\"border:none;width:100%;height:420px;display:none;\"></iframe>"
      ],
      "text/plain": [
       "<wandb.sdk.wandb_run.Run at 0x7fcefa08b400>"
      ]
     },
     "execution_count": 13,
     "metadata": {},
     "output_type": "execute_result"
    }
   ],
   "source": [
    "import wandb\n",
    "wandb.init(id=run_id, project=\"carla\", resume=\"allow\")"
   ]
  },
  {
   "cell_type": "code",
   "execution_count": 14,
   "id": "810057cc",
   "metadata": {},
   "outputs": [
    {
     "name": "stderr",
     "output_type": "stream",
     "text": [
      "/home/beans/miniconda3/envs/py38/lib/python3.8/site-packages/torch/utils/checkpoint.py:25: UserWarning: None of the inputs have requires_grad=True. Gradients will be None\n",
      "  warnings.warn(\"None of the inputs have requires_grad=True. Gradients will be None\")\n"
     ]
    }
   ],
   "source": [
    "eval_rw(rw_dataloader, m, wandb)"
   ]
  },
  {
   "cell_type": "code",
   "execution_count": null,
   "id": "3b8c7c46",
   "metadata": {},
   "outputs": [],
   "source": []
  }
 ],
 "metadata": {
  "kernelspec": {
   "display_name": "Python 3 (ipykernel)",
   "language": "python",
   "name": "python3"
  },
  "language_info": {
   "codemirror_mode": {
    "name": "ipython",
    "version": 3
   },
   "file_extension": ".py",
   "mimetype": "text/x-python",
   "name": "python",
   "nbconvert_exporter": "python",
   "pygments_lexer": "ipython3",
   "version": "3.8.11"
  }
 },
 "nbformat": 4,
 "nbformat_minor": 5
}
