{
 "cells": [
  {
   "cell_type": "code",
   "execution_count": 1,
   "id": "27b6bfca",
   "metadata": {},
   "outputs": [
    {
     "name": "stderr",
     "output_type": "stream",
     "text": [
      "/home/beans/miniconda3/envs/py38/lib/python3.8/site-packages/albumentations/augmentations/transforms.py:689: FutureWarning: This class has been deprecated. Please use CoarseDropout\n",
      "  warnings.warn(\n",
      "/home/beans/miniconda3/envs/py38/lib/python3.8/site-packages/albumentations/augmentations/transforms.py:965: FutureWarning: This class has been deprecated. Please use ImageCompression\n",
      "  warnings.warn(\n"
     ]
    }
   ],
   "source": [
    "%matplotlib inline\n",
    "%load_ext autoreload\n",
    "%autoreload 2\n",
    "\n",
    "import sys\n",
    "sys.path.append(f'/home/beans/bespoke')\n",
    "\n",
    "from models import EffNet\n",
    "from constants import *\n",
    "from imports import *\n",
    "from train_utils import run_epoch, eval_rw\n",
    "from blender_dataloader import BlenderDataloader\n",
    "from rw_dataloader import RealWorldDataloader"
   ]
  },
  {
   "cell_type": "code",
   "execution_count": 3,
   "id": "1474e035",
   "metadata": {},
   "outputs": [],
   "source": [
    "iterates_to_combine = list(range(48, 56)) #[7, 8, 9, 10]\n",
    "model_stem = '12.15'\n",
    "#run_id = 'kszjvkvy'"
   ]
  },
  {
   "cell_type": "code",
   "execution_count": 4,
   "id": "dac313fa",
   "metadata": {
    "scrolled": true
   },
   "outputs": [],
   "source": [
    "#glob.glob(f\"{BESPOKE_ROOT}/models/m_{model_stem}*\")"
   ]
  },
  {
   "cell_type": "code",
   "execution_count": 5,
   "id": "eb1606e6",
   "metadata": {
    "scrolled": true
   },
   "outputs": [
    {
     "data": {
      "text/plain": [
       "['/home/beans/bespoke/models/m_12.15_e48.torch',\n",
       " '/home/beans/bespoke/models/m_12.15_e49.torch',\n",
       " '/home/beans/bespoke/models/m_12.15_e50.torch',\n",
       " '/home/beans/bespoke/models/m_12.15_e51.torch',\n",
       " '/home/beans/bespoke/models/m_12.15_e52.torch',\n",
       " '/home/beans/bespoke/models/m_12.15_e53.torch',\n",
       " '/home/beans/bespoke/models/m_12.15_e54.torch',\n",
       " '/home/beans/bespoke/models/m_12.15_e55.torch']"
      ]
     },
     "execution_count": 5,
     "metadata": {},
     "output_type": "execute_result"
    }
   ],
   "source": [
    "m_paths = [f\"{BESPOKE_ROOT}/models/m_{model_stem}_e{e}.torch\" for e in iterates_to_combine]\n",
    "m_paths"
   ]
  },
  {
   "cell_type": "code",
   "execution_count": 6,
   "id": "ac429674",
   "metadata": {
    "scrolled": true
   },
   "outputs": [],
   "source": [
    "state_dicts = [torch.load(p) for p in m_paths]\n",
    "state_dict_avg = state_dicts[0].copy() # placeholder for a sec"
   ]
  },
  {
   "cell_type": "code",
   "execution_count": 7,
   "id": "ade8e2c4",
   "metadata": {},
   "outputs": [],
   "source": [
    "for k in state_dict_avg.keys():\n",
    "    state_dict_avg[k] = sum([sd[k] for sd in state_dicts]) / len(state_dicts)"
   ]
  },
  {
   "cell_type": "code",
   "execution_count": 8,
   "id": "7f17a0ac",
   "metadata": {},
   "outputs": [
    {
     "data": {
      "text/plain": [
       "<All keys matched successfully>"
      ]
     },
     "execution_count": 8,
     "metadata": {},
     "output_type": "execute_result"
    }
   ],
   "source": [
    "m = EffNet().to(device)\n",
    "m.load_state_dict(state_dict_avg)"
   ]
  },
  {
   "cell_type": "code",
   "execution_count": 9,
   "id": "b382621d",
   "metadata": {
    "scrolled": true
   },
   "outputs": [
    {
     "name": "stdout",
     "output_type": "stream",
     "text": [
      "0.005\n",
      "0.005\n",
      "0.005\n",
      "0.005\n",
      "0.005\n",
      "0.005\n",
      "0.005\n",
      "0.005\n",
      "0.005\n",
      "0.005\n",
      "0.005\n",
      "0.005\n",
      "0.005\n",
      "0.005\n",
      "0.005\n",
      "0.005\n",
      "0.005\n",
      "0.005\n",
      "0.005\n",
      "0.005\n",
      "0.005\n",
      "0.005\n",
      "0.005\n",
      "0.005\n",
      "0.005\n",
      "0.005\n",
      "0.005\n",
      "0.005\n",
      "0.005\n",
      "0.005\n",
      "0.005\n",
      "0.005\n",
      "0.005\n",
      "0.005\n",
      "0.005\n",
      "0.005\n",
      "0.005\n",
      "0.005\n",
      "0.005\n",
      "0.005\n",
      "0.005\n",
      "0.005\n",
      "0.005\n",
      "0.005\n",
      "0.005\n",
      "0.005\n",
      "0.005\n",
      "0.005\n",
      "0.005\n",
      "0.005\n",
      "0.005\n",
      "0.005\n",
      "0.005\n",
      "0.005\n",
      "0.005\n",
      "0.005\n",
      "0.005\n",
      "0.005\n",
      "0.005\n",
      "0.005\n",
      "0.005\n",
      "0.005\n",
      "0.005\n",
      "0.005\n",
      "0.005\n",
      "0.005\n",
      "0.005\n",
      "0.005\n",
      "0.005\n",
      "0.005\n",
      "0.005\n",
      "0.005\n",
      "0.005\n",
      "0.005\n",
      "0.005\n",
      "0.005\n",
      "0.005\n",
      "0.005\n",
      "0.005\n",
      "0.005\n",
      "0.005\n",
      "0.005\n",
      "0.005\n",
      "0.005\n",
      "0.005\n",
      "0.005\n",
      "0.005\n",
      "0.005\n",
      "0.005\n",
      "0.005\n",
      "0.005\n",
      "0.005\n",
      "0.005\n",
      "0.005\n",
      "0.005\n",
      "0.005\n"
     ]
    }
   ],
   "source": [
    "for mm in m.modules():\n",
    "    if type(mm) == nn.BatchNorm2d: \n",
    "        mm.momentum = .005\n",
    "        print(mm.momentum)"
   ]
  },
  {
   "cell_type": "code",
   "execution_count": null,
   "id": "3fcfed16",
   "metadata": {},
   "outputs": [],
   "source": []
  },
  {
   "cell_type": "code",
   "execution_count": 10,
   "id": "9a82197f",
   "metadata": {
    "scrolled": true
   },
   "outputs": [],
   "source": [
    "BS = 64\n",
    "dataloader = BlenderDataloader(path_stem=\"trn\", bs=BS)"
   ]
  },
  {
   "cell_type": "code",
   "execution_count": 11,
   "id": "b02d5026",
   "metadata": {
    "scrolled": true
   },
   "outputs": [
    {
     "name": "stderr",
     "output_type": "stream",
     "text": [
      "/home/beans/miniconda3/envs/py38/lib/python3.8/site-packages/torch/utils/checkpoint.py:25: UserWarning: None of the inputs have requires_grad=True. Gradients will be None\n",
      "  warnings.warn(\"None of the inputs have requires_grad=True. Gradients will be None\")\n"
     ]
    },
    {
     "ename": "AttributeError",
     "evalue": "'NoneType' object has no attribute 'param_groups'",
     "output_type": "error",
     "traceback": [
      "\u001b[0;31m---------------------------------------------------------------------------\u001b[0m",
      "\u001b[0;31mAttributeError\u001b[0m                            Traceback (most recent call last)",
      "\u001b[0;32m<timed exec>\u001b[0m in \u001b[0;36m<module>\u001b[0;34m\u001b[0m\n",
      "\u001b[0;32m~/bespoke/train_utils.py\u001b[0m in \u001b[0;36mrun_epoch\u001b[0;34m(dataloader, model, opt, scaler, train, backwards, log_wandb, log_cadence, updates_per_epoch, wandb)\u001b[0m\n\u001b[1;32m    391\u001b[0m             \u001b[0mmax_param\u001b[0m \u001b[0;34m=\u001b[0m \u001b[0mmax\u001b[0m\u001b[0;34m(\u001b[0m\u001b[0;34m[\u001b[0m\u001b[0mp\u001b[0m\u001b[0;34m.\u001b[0m\u001b[0mmax\u001b[0m\u001b[0;34m(\u001b[0m\u001b[0;34m)\u001b[0m \u001b[0;32mfor\u001b[0m \u001b[0mp\u001b[0m \u001b[0;32min\u001b[0m \u001b[0mmodel\u001b[0m\u001b[0;34m.\u001b[0m\u001b[0mparameters\u001b[0m\u001b[0;34m(\u001b[0m\u001b[0;34m)\u001b[0m\u001b[0;34m]\u001b[0m\u001b[0;34m)\u001b[0m\u001b[0;34m.\u001b[0m\u001b[0mitem\u001b[0m\u001b[0;34m(\u001b[0m\u001b[0;34m)\u001b[0m\u001b[0;34m\u001b[0m\u001b[0;34m\u001b[0m\u001b[0m\n\u001b[1;32m    392\u001b[0m             logger.log({\"logistical/max_param\": max_param,\n\u001b[0;32m--> 393\u001b[0;31m                         \"logistical/lr\":opt.param_groups[0]['lr']})\n\u001b[0m\u001b[1;32m    394\u001b[0m             \u001b[0mstats\u001b[0m \u001b[0;34m=\u001b[0m \u001b[0mlogger\u001b[0m\u001b[0;34m.\u001b[0m\u001b[0mfinish\u001b[0m\u001b[0;34m(\u001b[0m\u001b[0;34m)\u001b[0m\u001b[0;34m\u001b[0m\u001b[0;34m\u001b[0m\u001b[0m\n\u001b[1;32m    395\u001b[0m             \u001b[0mdataloader_stats\u001b[0m \u001b[0;34m=\u001b[0m \u001b[0mdataloader\u001b[0m\u001b[0;34m.\u001b[0m\u001b[0mreport_logs\u001b[0m\u001b[0;34m(\u001b[0m\u001b[0;34m)\u001b[0m\u001b[0;34m\u001b[0m\u001b[0;34m\u001b[0m\u001b[0m\n",
      "\u001b[0;31mAttributeError\u001b[0m: 'NoneType' object has no attribute 'param_groups'"
     ]
    }
   ],
   "source": [
    "%%time\n",
    "with torch.no_grad():\n",
    "    run_epoch(dataloader, m, train=True, backwards=False, log_wandb=False, updates_per_epoch=256)"
   ]
  },
  {
   "cell_type": "code",
   "execution_count": 12,
   "id": "3d5cc165",
   "metadata": {
    "scrolled": true
   },
   "outputs": [],
   "source": [
    "for mm in m.modules():\n",
    "    if type(mm) == nn.BatchNorm2d: \n",
    "        mm.momentum = .1 # set this back to value used for train. Actually is this even necessary? is this stored in state_dict?\n",
    "        #print(mm.momentum)"
   ]
  },
  {
   "cell_type": "code",
   "execution_count": 13,
   "id": "c6b8eb89",
   "metadata": {},
   "outputs": [],
   "source": [
    "torch.save(m.state_dict(), f'{BESPOKE_ROOT}/models/m_{model_stem}_avg.torch')"
   ]
  },
  {
   "cell_type": "code",
   "execution_count": null,
   "id": "01c81017",
   "metadata": {},
   "outputs": [],
   "source": []
  },
  {
   "cell_type": "code",
   "execution_count": null,
   "id": "9c9caa49",
   "metadata": {},
   "outputs": [],
   "source": []
  },
  {
   "cell_type": "code",
   "execution_count": null,
   "id": "ec0efacc",
   "metadata": {},
   "outputs": [],
   "source": []
  },
  {
   "cell_type": "code",
   "execution_count": 15,
   "id": "fc8577b8",
   "metadata": {},
   "outputs": [
    {
     "name": "stdout",
     "output_type": "stream",
     "text": [
      "(5400, 100, 640, 3) (5400, 5) (5400, 1)\n",
      "(6000, 100, 640, 3) (6000, 5) (6000, 1)\n"
     ]
    }
   ],
   "source": [
    "rw_dataloader = RealWorldDataloader()"
   ]
  },
  {
   "cell_type": "code",
   "execution_count": 16,
   "id": "d58f6e2c",
   "metadata": {
    "scrolled": true
   },
   "outputs": [
    {
     "name": "stderr",
     "output_type": "stream",
     "text": [
      "\u001b[34m\u001b[1mwandb\u001b[0m: Currently logged in as: \u001b[33mrgilman33\u001b[0m (use `wandb login --relogin` to force relogin)\n",
      "\u001b[34m\u001b[1mwandb\u001b[0m: wandb version 0.12.20 is available!  To upgrade, please run:\n",
      "\u001b[34m\u001b[1mwandb\u001b[0m:  $ pip install wandb --upgrade\n"
     ]
    },
    {
     "data": {
      "text/html": [
       "\n",
       "                    Resuming run <strong><a href=\"https://wandb.ai/rgilman33/carla/runs/f9bmulqb\" target=\"_blank\">wise-fire-312</a></strong> to <a href=\"https://wandb.ai/rgilman33/carla\" target=\"_blank\">Weights & Biases</a> (<a href=\"https://docs.wandb.com/integrations/jupyter.html\" target=\"_blank\">docs</a>).<br/>\n",
       "\n",
       "                "
      ],
      "text/plain": [
       "<IPython.core.display.HTML object>"
      ]
     },
     "metadata": {},
     "output_type": "display_data"
    },
    {
     "data": {
      "text/html": [
       "<button onClick=\"this.nextSibling.style.display='block';this.style.display='none';\">Display W&B run</button><iframe src=\"https://wandb.ai/rgilman33/carla/runs/f9bmulqb?jupyter=true\" style=\"border:none;width:100%;height:420px;display:none;\"></iframe>"
      ],
      "text/plain": [
       "<wandb.sdk.wandb_run.Run at 0x7f73b16d9340>"
      ]
     },
     "execution_count": 16,
     "metadata": {},
     "output_type": "execute_result"
    }
   ],
   "source": [
    "import wandb\n",
    "wandb.init(id=run_id, project=\"carla\", resume=\"allow\")"
   ]
  },
  {
   "cell_type": "code",
   "execution_count": 17,
   "id": "810057cc",
   "metadata": {},
   "outputs": [
    {
     "name": "stderr",
     "output_type": "stream",
     "text": [
      "/home/beans/miniconda3/envs/py38/lib/python3.8/site-packages/torch/utils/checkpoint.py:25: UserWarning: None of the inputs have requires_grad=True. Gradients will be None\n",
      "  warnings.warn(\"None of the inputs have requires_grad=True. Gradients will be None\")\n"
     ]
    }
   ],
   "source": [
    "eval_rw(rw_dataloader, m, wandb)"
   ]
  },
  {
   "cell_type": "code",
   "execution_count": null,
   "id": "3b8c7c46",
   "metadata": {},
   "outputs": [],
   "source": []
  }
 ],
 "metadata": {
  "kernelspec": {
   "display_name": "Python 3 (ipykernel)",
   "language": "python",
   "name": "python3"
  },
  "language_info": {
   "codemirror_mode": {
    "name": "ipython",
    "version": 3
   },
   "file_extension": ".py",
   "mimetype": "text/x-python",
   "name": "python",
   "nbconvert_exporter": "python",
   "pygments_lexer": "ipython3",
   "version": "3.8.11"
  }
 },
 "nbformat": 4,
 "nbformat_minor": 5
}
