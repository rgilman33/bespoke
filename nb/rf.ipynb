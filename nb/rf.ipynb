{
 "cells": [
  {
   "cell_type": "code",
   "execution_count": 33,
   "id": "27b6bfca",
   "metadata": {},
   "outputs": [
    {
     "name": "stdout",
     "output_type": "stream",
     "text": [
      "The autoreload extension is already loaded. To reload it, use:\n",
      "  %reload_ext autoreload\n"
     ]
    }
   ],
   "source": [
    "%matplotlib inline\n",
    "%load_ext autoreload\n",
    "%autoreload 2\n",
    "\n",
    "import sys\n",
    "sys.path.append(f'/home/beans/bespoke')\n",
    "\n",
    "from constants import *\n",
    "from imports import *\n",
    "from loaders import *\n",
    "from input_prep import *\n",
    "from sklearn.manifold import TSNE\n",
    "from sklearn.ensemble import RandomForestClassifier"
   ]
  },
  {
   "cell_type": "code",
   "execution_count": 34,
   "id": "12fee375",
   "metadata": {},
   "outputs": [
    {
     "data": {
      "text/plain": [
       "((1375, 17), (1375, 1792))"
      ]
     },
     "execution_count": 34,
     "metadata": {},
     "output_type": "execute_result"
    }
   ],
   "source": [
    "df = pd.read_pickle(f\"{BESPOKE_ROOT}/tmp/latents.pkl\")\n",
    "acts = np.load(f\"{BESPOKE_ROOT}/tmp/acts.npy\")\n",
    "imgs = np.load(f\"{BESPOKE_ROOT}/tmp/dr_imgs.npy\")\n",
    "\n",
    "df['img_id'] = list(range(len(df)))\n",
    "df.shape, acts.shape"
   ]
  },
  {
   "cell_type": "code",
   "execution_count": 35,
   "id": "7e35ffd2",
   "metadata": {
    "scrolled": true
   },
   "outputs": [
    {
     "name": "stdout",
     "output_type": "stream",
     "text": [
      "CPU times: user 2.17 s, sys: 0 ns, total: 2.17 s\n",
      "Wall time: 2.17 s\n"
     ]
    },
    {
     "data": {
      "text/plain": [
       "0.8843636363636364"
      ]
     },
     "execution_count": 35,
     "metadata": {},
     "output_type": "execute_result"
    }
   ],
   "source": [
    "%%time\n",
    "rf = RandomForestClassifier(oob_score=True)\n",
    "rf.fit(acts, df.is_rw.values)\n",
    "rf.oob_score_"
   ]
  },
  {
   "cell_type": "code",
   "execution_count": 36,
   "id": "f40ce935",
   "metadata": {},
   "outputs": [
    {
     "name": "stderr",
     "output_type": "stream",
     "text": [
      "/tmp/ipykernel_2295493/703406175.py:3: PerformanceWarning: DataFrame is highly fragmented.  This is usually the result of calling `frame.insert` many times, which has poor performance.  Consider joining all columns at once using pd.concat(axis=1) instead.  To get a de-fragmented frame, use `newframe = frame.copy()`\n",
      "  df[f\"feature_{i}\"] = acts[:,i]\n"
     ]
    }
   ],
   "source": [
    "n_obs, n_features = acts.shape\n",
    "for i in range(n_features):\n",
    "    df[f\"feature_{i}\"] = acts[:,i]"
   ]
  },
  {
   "cell_type": "code",
   "execution_count": 37,
   "id": "f7428b2f",
   "metadata": {},
   "outputs": [
    {
     "name": "stderr",
     "output_type": "stream",
     "text": [
      "/tmp/ipykernel_2295493/3530796123.py:1: PerformanceWarning: DataFrame is highly fragmented.  This is usually the result of calling `frame.insert` many times, which has poor performance.  Consider joining all columns at once using pd.concat(axis=1) instead.  To get a de-fragmented frame, use `newframe = frame.copy()`\n",
      "  df['is_rw_pred'] = rf.oob_decision_function_[:,1]\n"
     ]
    },
    {
     "data": {
      "text/html": [
       "<div>\n",
       "<style scoped>\n",
       "    .dataframe tbody tr th:only-of-type {\n",
       "        vertical-align: middle;\n",
       "    }\n",
       "\n",
       "    .dataframe tbody tr th {\n",
       "        vertical-align: top;\n",
       "    }\n",
       "\n",
       "    .dataframe thead th {\n",
       "        text-align: right;\n",
       "    }\n",
       "</style>\n",
       "<table border=\"1\" class=\"dataframe\">\n",
       "  <thead>\n",
       "    <tr style=\"text-align: right;\">\n",
       "      <th></th>\n",
       "      <th>unc_p</th>\n",
       "      <th>tire_angle</th>\n",
       "      <th>approaching_stop</th>\n",
       "      <th>has_lead</th>\n",
       "      <th>tire_angle_loss</th>\n",
       "      <th>te</th>\n",
       "      <th>ccs</th>\n",
       "      <th>traj_max_angle</th>\n",
       "      <th>rollout_id</th>\n",
       "      <th>is_rw</th>\n",
       "      <th>...</th>\n",
       "      <th>feature_1783</th>\n",
       "      <th>feature_1784</th>\n",
       "      <th>feature_1785</th>\n",
       "      <th>feature_1786</th>\n",
       "      <th>feature_1787</th>\n",
       "      <th>feature_1788</th>\n",
       "      <th>feature_1789</th>\n",
       "      <th>feature_1790</th>\n",
       "      <th>feature_1791</th>\n",
       "      <th>is_rw_pred</th>\n",
       "    </tr>\n",
       "  </thead>\n",
       "  <tbody>\n",
       "    <tr>\n",
       "      <th>0</th>\n",
       "      <td>-7.035156</td>\n",
       "      <td>0.010430</td>\n",
       "      <td>0.007289</td>\n",
       "      <td>0.003622</td>\n",
       "      <td>1.089619e-06</td>\n",
       "      <td>0.000000e+00</td>\n",
       "      <td>20.894829</td>\n",
       "      <td>0.231265</td>\n",
       "      <td>trn</td>\n",
       "      <td>0</td>\n",
       "      <td>...</td>\n",
       "      <td>-0.000002</td>\n",
       "      <td>0.000048</td>\n",
       "      <td>-0.029739</td>\n",
       "      <td>0.000691</td>\n",
       "      <td>0.003498</td>\n",
       "      <td>-0.000355</td>\n",
       "      <td>0.000488</td>\n",
       "      <td>0.000851</td>\n",
       "      <td>-0.003412</td>\n",
       "      <td>0.162162</td>\n",
       "    </tr>\n",
       "    <tr>\n",
       "      <th>1</th>\n",
       "      <td>-7.066406</td>\n",
       "      <td>0.031239</td>\n",
       "      <td>0.013637</td>\n",
       "      <td>0.004007</td>\n",
       "      <td>9.200088e-06</td>\n",
       "      <td>9.221411e-07</td>\n",
       "      <td>19.568503</td>\n",
       "      <td>0.279145</td>\n",
       "      <td>trn</td>\n",
       "      <td>0</td>\n",
       "      <td>...</td>\n",
       "      <td>-0.000822</td>\n",
       "      <td>-0.000020</td>\n",
       "      <td>-0.029480</td>\n",
       "      <td>-0.000812</td>\n",
       "      <td>-0.000506</td>\n",
       "      <td>-0.000114</td>\n",
       "      <td>0.000297</td>\n",
       "      <td>0.000463</td>\n",
       "      <td>-0.004086</td>\n",
       "      <td>0.090909</td>\n",
       "    </tr>\n",
       "    <tr>\n",
       "      <th>2</th>\n",
       "      <td>-6.894531</td>\n",
       "      <td>0.046564</td>\n",
       "      <td>0.003511</td>\n",
       "      <td>0.003260</td>\n",
       "      <td>2.098444e-07</td>\n",
       "      <td>4.593872e-06</td>\n",
       "      <td>19.069112</td>\n",
       "      <td>0.296556</td>\n",
       "      <td>trn</td>\n",
       "      <td>0</td>\n",
       "      <td>...</td>\n",
       "      <td>-0.001892</td>\n",
       "      <td>0.000497</td>\n",
       "      <td>-0.028900</td>\n",
       "      <td>-0.000528</td>\n",
       "      <td>0.001689</td>\n",
       "      <td>-0.000088</td>\n",
       "      <td>0.000467</td>\n",
       "      <td>0.000632</td>\n",
       "      <td>-0.003462</td>\n",
       "      <td>0.175000</td>\n",
       "    </tr>\n",
       "    <tr>\n",
       "      <th>3</th>\n",
       "      <td>-7.320312</td>\n",
       "      <td>0.000969</td>\n",
       "      <td>0.001882</td>\n",
       "      <td>0.077797</td>\n",
       "      <td>1.825618e-06</td>\n",
       "      <td>8.466607e-03</td>\n",
       "      <td>14.950966</td>\n",
       "      <td>0.039844</td>\n",
       "      <td>trn</td>\n",
       "      <td>0</td>\n",
       "      <td>...</td>\n",
       "      <td>0.000738</td>\n",
       "      <td>0.001297</td>\n",
       "      <td>-0.009834</td>\n",
       "      <td>0.000956</td>\n",
       "      <td>0.006149</td>\n",
       "      <td>0.002554</td>\n",
       "      <td>0.001117</td>\n",
       "      <td>0.001542</td>\n",
       "      <td>-0.001777</td>\n",
       "      <td>0.000000</td>\n",
       "    </tr>\n",
       "    <tr>\n",
       "      <th>4</th>\n",
       "      <td>-7.464844</td>\n",
       "      <td>0.000790</td>\n",
       "      <td>0.001585</td>\n",
       "      <td>0.542015</td>\n",
       "      <td>3.684437e-06</td>\n",
       "      <td>3.589509e-08</td>\n",
       "      <td>14.950966</td>\n",
       "      <td>0.066699</td>\n",
       "      <td>trn</td>\n",
       "      <td>0</td>\n",
       "      <td>...</td>\n",
       "      <td>0.000735</td>\n",
       "      <td>0.000357</td>\n",
       "      <td>0.001368</td>\n",
       "      <td>0.000299</td>\n",
       "      <td>0.009804</td>\n",
       "      <td>0.004456</td>\n",
       "      <td>0.000438</td>\n",
       "      <td>0.000911</td>\n",
       "      <td>-0.002773</td>\n",
       "      <td>0.000000</td>\n",
       "    </tr>\n",
       "  </tbody>\n",
       "</table>\n",
       "<p>5 rows × 1810 columns</p>\n",
       "</div>"
      ],
      "text/plain": [
       "      unc_p  tire_angle  approaching_stop  has_lead  tire_angle_loss  \\\n",
       "0 -7.035156    0.010430          0.007289  0.003622     1.089619e-06   \n",
       "1 -7.066406    0.031239          0.013637  0.004007     9.200088e-06   \n",
       "2 -6.894531    0.046564          0.003511  0.003260     2.098444e-07   \n",
       "3 -7.320312    0.000969          0.001882  0.077797     1.825618e-06   \n",
       "4 -7.464844    0.000790          0.001585  0.542015     3.684437e-06   \n",
       "\n",
       "             te        ccs  traj_max_angle rollout_id  is_rw  ...  \\\n",
       "0  0.000000e+00  20.894829        0.231265        trn      0  ...   \n",
       "1  9.221411e-07  19.568503        0.279145        trn      0  ...   \n",
       "2  4.593872e-06  19.069112        0.296556        trn      0  ...   \n",
       "3  8.466607e-03  14.950966        0.039844        trn      0  ...   \n",
       "4  3.589509e-08  14.950966        0.066699        trn      0  ...   \n",
       "\n",
       "   feature_1783  feature_1784  feature_1785  feature_1786  feature_1787  \\\n",
       "0     -0.000002      0.000048     -0.029739      0.000691      0.003498   \n",
       "1     -0.000822     -0.000020     -0.029480     -0.000812     -0.000506   \n",
       "2     -0.001892      0.000497     -0.028900     -0.000528      0.001689   \n",
       "3      0.000738      0.001297     -0.009834      0.000956      0.006149   \n",
       "4      0.000735      0.000357      0.001368      0.000299      0.009804   \n",
       "\n",
       "   feature_1788  feature_1789  feature_1790  feature_1791  is_rw_pred  \n",
       "0     -0.000355      0.000488      0.000851     -0.003412    0.162162  \n",
       "1     -0.000114      0.000297      0.000463     -0.004086    0.090909  \n",
       "2     -0.000088      0.000467      0.000632     -0.003462    0.175000  \n",
       "3      0.002554      0.001117      0.001542     -0.001777    0.000000  \n",
       "4      0.004456      0.000438      0.000911     -0.002773    0.000000  \n",
       "\n",
       "[5 rows x 1810 columns]"
      ]
     },
     "execution_count": 37,
     "metadata": {},
     "output_type": "execute_result"
    }
   ],
   "source": [
    "df['is_rw_pred'] = rf.oob_decision_function_[:,1]\n",
    "df.head()"
   ]
  },
  {
   "cell_type": "code",
   "execution_count": 38,
   "id": "3a718440",
   "metadata": {
    "scrolled": true
   },
   "outputs": [
    {
     "data": {
      "text/html": [
       "<div>\n",
       "<style scoped>\n",
       "    .dataframe tbody tr th:only-of-type {\n",
       "        vertical-align: middle;\n",
       "    }\n",
       "\n",
       "    .dataframe tbody tr th {\n",
       "        vertical-align: top;\n",
       "    }\n",
       "\n",
       "    .dataframe thead th {\n",
       "        text-align: right;\n",
       "    }\n",
       "</style>\n",
       "<table border=\"1\" class=\"dataframe\">\n",
       "  <thead>\n",
       "    <tr style=\"text-align: right;\">\n",
       "      <th></th>\n",
       "      <th>feature</th>\n",
       "      <th>fi</th>\n",
       "    </tr>\n",
       "  </thead>\n",
       "  <tbody>\n",
       "    <tr>\n",
       "      <th>245</th>\n",
       "      <td>245</td>\n",
       "      <td>12.342581</td>\n",
       "    </tr>\n",
       "    <tr>\n",
       "      <th>380</th>\n",
       "      <td>380</td>\n",
       "      <td>12.028219</td>\n",
       "    </tr>\n",
       "    <tr>\n",
       "      <th>847</th>\n",
       "      <td>847</td>\n",
       "      <td>11.269669</td>\n",
       "    </tr>\n",
       "    <tr>\n",
       "      <th>259</th>\n",
       "      <td>259</td>\n",
       "      <td>9.166138</td>\n",
       "    </tr>\n",
       "    <tr>\n",
       "      <th>929</th>\n",
       "      <td>929</td>\n",
       "      <td>7.744708</td>\n",
       "    </tr>\n",
       "    <tr>\n",
       "      <th>168</th>\n",
       "      <td>168</td>\n",
       "      <td>7.397049</td>\n",
       "    </tr>\n",
       "    <tr>\n",
       "      <th>632</th>\n",
       "      <td>632</td>\n",
       "      <td>6.868540</td>\n",
       "    </tr>\n",
       "    <tr>\n",
       "      <th>1304</th>\n",
       "      <td>1304</td>\n",
       "      <td>6.198160</td>\n",
       "    </tr>\n",
       "    <tr>\n",
       "      <th>16</th>\n",
       "      <td>16</td>\n",
       "      <td>5.683380</td>\n",
       "    </tr>\n",
       "    <tr>\n",
       "      <th>803</th>\n",
       "      <td>803</td>\n",
       "      <td>5.386425</td>\n",
       "    </tr>\n",
       "    <tr>\n",
       "      <th>438</th>\n",
       "      <td>438</td>\n",
       "      <td>5.268512</td>\n",
       "    </tr>\n",
       "    <tr>\n",
       "      <th>164</th>\n",
       "      <td>164</td>\n",
       "      <td>5.095338</td>\n",
       "    </tr>\n",
       "    <tr>\n",
       "      <th>1252</th>\n",
       "      <td>1252</td>\n",
       "      <td>4.964592</td>\n",
       "    </tr>\n",
       "    <tr>\n",
       "      <th>1675</th>\n",
       "      <td>1675</td>\n",
       "      <td>4.906395</td>\n",
       "    </tr>\n",
       "    <tr>\n",
       "      <th>397</th>\n",
       "      <td>397</td>\n",
       "      <td>4.839714</td>\n",
       "    </tr>\n",
       "    <tr>\n",
       "      <th>205</th>\n",
       "      <td>205</td>\n",
       "      <td>4.827161</td>\n",
       "    </tr>\n",
       "    <tr>\n",
       "      <th>376</th>\n",
       "      <td>376</td>\n",
       "      <td>4.644605</td>\n",
       "    </tr>\n",
       "    <tr>\n",
       "      <th>335</th>\n",
       "      <td>335</td>\n",
       "      <td>4.536930</td>\n",
       "    </tr>\n",
       "    <tr>\n",
       "      <th>1360</th>\n",
       "      <td>1360</td>\n",
       "      <td>4.366709</td>\n",
       "    </tr>\n",
       "    <tr>\n",
       "      <th>470</th>\n",
       "      <td>470</td>\n",
       "      <td>4.356572</td>\n",
       "    </tr>\n",
       "    <tr>\n",
       "      <th>1056</th>\n",
       "      <td>1056</td>\n",
       "      <td>4.333820</td>\n",
       "    </tr>\n",
       "    <tr>\n",
       "      <th>790</th>\n",
       "      <td>790</td>\n",
       "      <td>4.305031</td>\n",
       "    </tr>\n",
       "    <tr>\n",
       "      <th>1219</th>\n",
       "      <td>1219</td>\n",
       "      <td>4.109381</td>\n",
       "    </tr>\n",
       "    <tr>\n",
       "      <th>1637</th>\n",
       "      <td>1637</td>\n",
       "      <td>4.085493</td>\n",
       "    </tr>\n",
       "    <tr>\n",
       "      <th>1534</th>\n",
       "      <td>1534</td>\n",
       "      <td>3.797956</td>\n",
       "    </tr>\n",
       "    <tr>\n",
       "      <th>1674</th>\n",
       "      <td>1674</td>\n",
       "      <td>3.758515</td>\n",
       "    </tr>\n",
       "    <tr>\n",
       "      <th>420</th>\n",
       "      <td>420</td>\n",
       "      <td>3.631116</td>\n",
       "    </tr>\n",
       "    <tr>\n",
       "      <th>1296</th>\n",
       "      <td>1296</td>\n",
       "      <td>3.575911</td>\n",
       "    </tr>\n",
       "    <tr>\n",
       "      <th>1652</th>\n",
       "      <td>1652</td>\n",
       "      <td>3.558670</td>\n",
       "    </tr>\n",
       "    <tr>\n",
       "      <th>54</th>\n",
       "      <td>54</td>\n",
       "      <td>3.542211</td>\n",
       "    </tr>\n",
       "    <tr>\n",
       "      <th>1643</th>\n",
       "      <td>1643</td>\n",
       "      <td>3.443645</td>\n",
       "    </tr>\n",
       "    <tr>\n",
       "      <th>174</th>\n",
       "      <td>174</td>\n",
       "      <td>3.422315</td>\n",
       "    </tr>\n",
       "    <tr>\n",
       "      <th>288</th>\n",
       "      <td>288</td>\n",
       "      <td>3.415781</td>\n",
       "    </tr>\n",
       "    <tr>\n",
       "      <th>1599</th>\n",
       "      <td>1599</td>\n",
       "      <td>3.415450</td>\n",
       "    </tr>\n",
       "    <tr>\n",
       "      <th>1250</th>\n",
       "      <td>1250</td>\n",
       "      <td>3.338471</td>\n",
       "    </tr>\n",
       "    <tr>\n",
       "      <th>1660</th>\n",
       "      <td>1660</td>\n",
       "      <td>3.169324</td>\n",
       "    </tr>\n",
       "    <tr>\n",
       "      <th>1757</th>\n",
       "      <td>1757</td>\n",
       "      <td>3.064669</td>\n",
       "    </tr>\n",
       "    <tr>\n",
       "      <th>1572</th>\n",
       "      <td>1572</td>\n",
       "      <td>3.045328</td>\n",
       "    </tr>\n",
       "    <tr>\n",
       "      <th>486</th>\n",
       "      <td>486</td>\n",
       "      <td>2.971899</td>\n",
       "    </tr>\n",
       "    <tr>\n",
       "      <th>425</th>\n",
       "      <td>425</td>\n",
       "      <td>2.926107</td>\n",
       "    </tr>\n",
       "    <tr>\n",
       "      <th>910</th>\n",
       "      <td>910</td>\n",
       "      <td>2.920690</td>\n",
       "    </tr>\n",
       "    <tr>\n",
       "      <th>424</th>\n",
       "      <td>424</td>\n",
       "      <td>2.919189</td>\n",
       "    </tr>\n",
       "    <tr>\n",
       "      <th>1545</th>\n",
       "      <td>1545</td>\n",
       "      <td>2.910613</td>\n",
       "    </tr>\n",
       "    <tr>\n",
       "      <th>476</th>\n",
       "      <td>476</td>\n",
       "      <td>2.889104</td>\n",
       "    </tr>\n",
       "    <tr>\n",
       "      <th>28</th>\n",
       "      <td>28</td>\n",
       "      <td>2.871464</td>\n",
       "    </tr>\n",
       "    <tr>\n",
       "      <th>634</th>\n",
       "      <td>634</td>\n",
       "      <td>2.858650</td>\n",
       "    </tr>\n",
       "    <tr>\n",
       "      <th>978</th>\n",
       "      <td>978</td>\n",
       "      <td>2.847349</td>\n",
       "    </tr>\n",
       "    <tr>\n",
       "      <th>864</th>\n",
       "      <td>864</td>\n",
       "      <td>2.832468</td>\n",
       "    </tr>\n",
       "    <tr>\n",
       "      <th>555</th>\n",
       "      <td>555</td>\n",
       "      <td>2.831752</td>\n",
       "    </tr>\n",
       "    <tr>\n",
       "      <th>1195</th>\n",
       "      <td>1195</td>\n",
       "      <td>2.722135</td>\n",
       "    </tr>\n",
       "  </tbody>\n",
       "</table>\n",
       "</div>"
      ],
      "text/plain": [
       "      feature         fi\n",
       "245       245  12.342581\n",
       "380       380  12.028219\n",
       "847       847  11.269669\n",
       "259       259   9.166138\n",
       "929       929   7.744708\n",
       "168       168   7.397049\n",
       "632       632   6.868540\n",
       "1304     1304   6.198160\n",
       "16         16   5.683380\n",
       "803       803   5.386425\n",
       "438       438   5.268512\n",
       "164       164   5.095338\n",
       "1252     1252   4.964592\n",
       "1675     1675   4.906395\n",
       "397       397   4.839714\n",
       "205       205   4.827161\n",
       "376       376   4.644605\n",
       "335       335   4.536930\n",
       "1360     1360   4.366709\n",
       "470       470   4.356572\n",
       "1056     1056   4.333820\n",
       "790       790   4.305031\n",
       "1219     1219   4.109381\n",
       "1637     1637   4.085493\n",
       "1534     1534   3.797956\n",
       "1674     1674   3.758515\n",
       "420       420   3.631116\n",
       "1296     1296   3.575911\n",
       "1652     1652   3.558670\n",
       "54         54   3.542211\n",
       "1643     1643   3.443645\n",
       "174       174   3.422315\n",
       "288       288   3.415781\n",
       "1599     1599   3.415450\n",
       "1250     1250   3.338471\n",
       "1660     1660   3.169324\n",
       "1757     1757   3.064669\n",
       "1572     1572   3.045328\n",
       "486       486   2.971899\n",
       "425       425   2.926107\n",
       "910       910   2.920690\n",
       "424       424   2.919189\n",
       "1545     1545   2.910613\n",
       "476       476   2.889104\n",
       "28         28   2.871464\n",
       "634       634   2.858650\n",
       "978       978   2.847349\n",
       "864       864   2.832468\n",
       "555       555   2.831752\n",
       "1195     1195   2.722135"
      ]
     },
     "execution_count": 38,
     "metadata": {},
     "output_type": "execute_result"
    }
   ],
   "source": [
    "fi = rf.feature_importances_*1000\n",
    "r = pd.DataFrame()\n",
    "r['feature'] = list(range(len(fi)))\n",
    "r['fi'] = fi\n",
    "r = r.sort_values('fi', ascending=False)\n",
    "r.head(50)"
   ]
  },
  {
   "cell_type": "code",
   "execution_count": 39,
   "id": "112dad30",
   "metadata": {},
   "outputs": [],
   "source": [
    "df_rw = df[df.is_rw==1]\n",
    "df_sim = df[df.is_rw==0]"
   ]
  },
  {
   "cell_type": "code",
   "execution_count": 40,
   "id": "1a685f6e",
   "metadata": {},
   "outputs": [
    {
     "data": {
      "text/plain": [
       "1.948737096222229"
      ]
     },
     "execution_count": 40,
     "metadata": {},
     "output_type": "execute_result"
    },
    {
     "data": {
      "image/png": "[encoded data removed]",
      "text/plain": [
       "<Figure size 432x288 with 1 Axes>"
      ]
     },
     "metadata": {
      "needs_background": "light"
     },
     "output_type": "display_data"
    }
   ],
   "source": [
    "feature = 1627\n",
    "plt.hist(df_rw[f\"feature_{feature}\"], bins=60, density=True)\n",
    "plt.hist(df_sim[f\"feature_{feature}\"], alpha=.5, bins=60, density=True)[0][0]"
   ]
  },
  {
   "cell_type": "code",
   "execution_count": 41,
   "id": "3270de3e",
   "metadata": {
    "scrolled": true
   },
   "outputs": [
    {
     "name": "stderr",
     "output_type": "stream",
     "text": [
      "/tmp/ipykernel_2295493/367285564.py:2: FutureWarning: Dropping of nuisance columns in DataFrame reductions (with 'numeric_only=None') is deprecated; in a future version this will raise TypeError.  Select only valid columns before calling the reduction.\n",
      "  group_diffs = ((means.iloc[0] - means.iloc[1])/df.std()).abs()[[c for c in df.columns if \"feature_\" in c]]\n"
     ]
    },
    {
     "data": {
      "text/plain": [
       "feature_420     0.754412\n",
       "feature_64      0.745577\n",
       "feature_1675    0.744102\n",
       "feature_205     0.738101\n",
       "feature_865     0.736092\n",
       "feature_1219    0.732623\n",
       "feature_1296    0.726923\n",
       "feature_380     0.718978\n",
       "feature_1195    0.716969\n",
       "feature_1119    0.705027\n",
       "feature_819     0.685312\n",
       "feature_1425    0.682128\n",
       "feature_766     0.672469\n",
       "feature_20      0.665824\n",
       "feature_335     0.664373\n",
       "feature_877     0.661190\n",
       "feature_1572    0.660418\n",
       "feature_265     0.659216\n",
       "feature_538     0.657547\n",
       "feature_168     0.653604\n",
       "feature_346     0.642215\n",
       "feature_929     0.640069\n",
       "feature_1288    0.637757\n",
       "feature_1230    0.637682\n",
       "feature_1121    0.635908\n",
       "feature_424     0.635672\n",
       "feature_628     0.634101\n",
       "feature_1250    0.634046\n",
       "feature_376     0.633482\n",
       "feature_864     0.633442\n",
       "feature_1279    0.633247\n",
       "feature_1386    0.632427\n",
       "feature_1627    0.631727\n",
       "feature_254     0.627807\n",
       "feature_632     0.625358\n",
       "feature_19      0.621822\n",
       "feature_726     0.621405\n",
       "feature_847     0.620352\n",
       "feature_896     0.619904\n",
       "feature_1501    0.617784\n",
       "feature_1120    0.616821\n",
       "feature_1400    0.616570\n",
       "feature_1026    0.614745\n",
       "feature_1252    0.614085\n",
       "feature_398     0.609082\n",
       "feature_648     0.607166\n",
       "feature_1360    0.605526\n",
       "feature_1643    0.603593\n",
       "feature_476     0.602116\n",
       "feature_910     0.600966\n",
       "dtype: float64"
      ]
     },
     "execution_count": 41,
     "metadata": {},
     "output_type": "execute_result"
    }
   ],
   "source": [
    "means = df.groupby([\"is_rw\"]).mean()\n",
    "group_diffs = ((means.iloc[0] - means.iloc[1])/df.std()).abs()[[c for c in df.columns if \"feature_\" in c]]\n",
    "top_group_diffs = group_diffs.sort_values(ascending=False)\n",
    "top_group_diffs.head(50)"
   ]
  },
  {
   "cell_type": "code",
   "execution_count": 58,
   "id": "e1c08a90",
   "metadata": {},
   "outputs": [
    {
     "data": {
      "text/plain": [
       "(3.204068581883218, -0.020126343)"
      ]
     },
     "execution_count": 58,
     "metadata": {},
     "output_type": "execute_result"
    },
    {
     "data": {
      "image/png": "[encoded data removed]",
      "text/plain": [
       "<Figure size 432x288 with 1 Axes>"
      ]
     },
     "metadata": {
      "needs_background": "light"
     },
     "output_type": "display_data"
    }
   ],
   "source": [
    "feature = 420\n",
    "plt.hist(df_rw[f\"feature_{feature}\"], bins=60, density=True)\n",
    "plt.hist(df_sim[f\"feature_{feature}\"], alpha=.5, bins=60, density=True)[0][0], target_obs[f\"feature_{feature}\"]"
   ]
  },
  {
   "cell_type": "code",
   "execution_count": 42,
   "id": "4c18536d",
   "metadata": {},
   "outputs": [
    {
     "data": {
      "text/plain": [
       "<matplotlib.collections.PathCollection at 0x7f473a223130>"
      ]
     },
     "execution_count": 42,
     "metadata": {},
     "output_type": "execute_result"
    },
    {
     "data": {
      "image/png": "[encoded data removed]",
      "text/plain": [
       "<Figure size 432x288 with 1 Axes>"
      ]
     },
     "metadata": {
      "needs_background": "light"
     },
     "output_type": "display_data"
    }
   ],
   "source": [
    "plt.scatter(df.is_rw_pred, df.unc_p)"
   ]
  },
  {
   "cell_type": "code",
   "execution_count": 43,
   "id": "2de21572",
   "metadata": {},
   "outputs": [],
   "source": [
    "df.to_pickle(f\"{BESPOKE_ROOT}/tmp/latents.pkl\")"
   ]
  },
  {
   "cell_type": "code",
   "execution_count": 53,
   "id": "0f5474e9",
   "metadata": {},
   "outputs": [
    {
     "data": {
      "text/plain": [
       "<matplotlib.image.AxesImage at 0x7f473a5b7fd0>"
      ]
     },
     "execution_count": 53,
     "metadata": {},
     "output_type": "execute_result"
    },
    {
     "data": {
      "image/png": "[encoded data removed]",
      "text/plain": [
       "<Figure size 432x288 with 1 Axes>"
      ]
     },
     "metadata": {
      "needs_background": "light"
     },
     "output_type": "display_data"
    }
   ],
   "source": [
    "img_id = 785\n",
    "plt.imshow(imgs[img_id])"
   ]
  },
  {
   "cell_type": "code",
   "execution_count": 54,
   "id": "0af7aaef",
   "metadata": {
    "scrolled": true
   },
   "outputs": [
    {
     "data": {
      "text/plain": [
       "unc_p              -6.164062\n",
       "tire_angle         -0.001854\n",
       "approaching_stop    0.011687\n",
       "has_lead            0.504761\n",
       "tire_angle_loss     0.000013\n",
       "                      ...   \n",
       "feature_1788       -0.008492\n",
       "feature_1789       -0.003618\n",
       "feature_1790       -0.003616\n",
       "feature_1791       -0.005211\n",
       "is_rw_pred          0.891892\n",
       "Name: 65, Length: 1810, dtype: object"
      ]
     },
     "execution_count": 54,
     "metadata": {},
     "output_type": "execute_result"
    }
   ],
   "source": [
    "target_obs = df[df.img_id==img_id].iloc[0]\n",
    "target_obs"
   ]
  },
  {
   "cell_type": "code",
   "execution_count": 55,
   "id": "cc432797",
   "metadata": {
    "scrolled": true
   },
   "outputs": [
    {
     "name": "stderr",
     "output_type": "stream",
     "text": [
      "/tmp/ipykernel_2295493/1405052404.py:1: FutureWarning: Dropping of nuisance columns in DataFrame reductions (with 'numeric_only=None') is deprecated; in a future version this will raise TypeError.  Select only valid columns before calling the reduction.\n",
      "  top_diff = ((df.mean() - target_obs)/df.std()).abs().sort_values(ascending=False)\n"
     ]
    },
    {
     "data": {
      "text/plain": [
       "feature_269      5.81774\n",
       "feature_1659    5.393883\n",
       "feature_924      4.68681\n",
       "feature_1777    4.596116\n",
       "feature_1094    4.091894\n",
       "                  ...   \n",
       "feature_749     0.002835\n",
       "feature_298     0.002225\n",
       "feature_1422    0.001313\n",
       "feature_1496    0.001239\n",
       "rollout_id           NaN\n",
       "Length: 1810, dtype: object"
      ]
     },
     "execution_count": 55,
     "metadata": {},
     "output_type": "execute_result"
    }
   ],
   "source": [
    "top_diff = ((df.mean() - target_obs)/df.std()).abs().sort_values(ascending=False)\n",
    "top_diff"
   ]
  },
  {
   "cell_type": "code",
   "execution_count": 47,
   "id": "2170d718",
   "metadata": {
    "scrolled": true
   },
   "outputs": [
    {
     "data": {
      "text/plain": [
       "['feature_66',\n",
       " 'feature_1640',\n",
       " 'feature_268',\n",
       " 'feature_963',\n",
       " 'feature_1433',\n",
       " 'feature_302',\n",
       " 'feature_1159',\n",
       " 'feature_929',\n",
       " 'feature_1714',\n",
       " 'feature_766']"
      ]
     },
     "execution_count": 47,
     "metadata": {},
     "output_type": "execute_result"
    }
   ],
   "source": [
    "[d for d in list(top_diff.iloc[:200].index) if d in list(top_group_diffs.iloc[:200].index)]"
   ]
  },
  {
   "cell_type": "code",
   "execution_count": 57,
   "id": "0916a1c1",
   "metadata": {},
   "outputs": [
    {
     "data": {
      "text/plain": [
       "(6.068148148148148, 0.11212158)"
      ]
     },
     "execution_count": 57,
     "metadata": {},
     "output_type": "execute_result"
    },
    {
     "data": {
      "image/png": "[encoded data removed]",
      "text/plain": [
       "<Figure size 432x288 with 1 Axes>"
      ]
     },
     "metadata": {
      "needs_background": "light"
     },
     "output_type": "display_data"
    }
   ],
   "source": [
    "feature = 924\n",
    "plt.hist(df_rw[f\"feature_{feature}\"], bins=60, density=True)\n",
    "plt.hist(df_sim[f\"feature_{feature}\"], alpha=.5, bins=60, density=True)[0][0], target_obs[f\"feature_{feature}\"]"
   ]
  },
  {
   "cell_type": "code",
   "execution_count": null,
   "id": "a53327b9",
   "metadata": {},
   "outputs": [],
   "source": []
  },
  {
   "cell_type": "code",
   "execution_count": null,
   "id": "a9d83974",
   "metadata": {},
   "outputs": [],
   "source": []
  },
  {
   "cell_type": "code",
   "execution_count": null,
   "id": "1e0c4ff0",
   "metadata": {},
   "outputs": [],
   "source": []
  },
  {
   "cell_type": "code",
   "execution_count": null,
   "id": "bd2e4ad7",
   "metadata": {},
   "outputs": [],
   "source": []
  }
 ],
 "metadata": {
  "kernelspec": {
   "display_name": "Python 3 (ipykernel)",
   "language": "python",
   "name": "python3"
  },
  "language_info": {
   "codemirror_mode": {
    "name": "ipython",
    "version": 3
   },
   "file_extension": ".py",
   "mimetype": "text/x-python",
   "name": "python",
   "nbconvert_exporter": "python",
   "pygments_lexer": "ipython3",
   "version": "3.8.11"
  }
 },
 "nbformat": 4,
 "nbformat_minor": 5
}
