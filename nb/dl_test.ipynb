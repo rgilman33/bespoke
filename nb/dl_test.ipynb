{
 "cells": [
  {
   "cell_type": "code",
   "execution_count": 1,
   "id": "fd599510",
   "metadata": {
    "scrolled": true
   },
   "outputs": [
    {
     "name": "stderr",
     "output_type": "stream",
     "text": [
      "/home/beans/miniconda3/envs/py38/lib/python3.8/site-packages/albumentations/augmentations/transforms.py:689: FutureWarning: This class has been deprecated. Please use CoarseDropout\n",
      "  warnings.warn(\n",
      "/home/beans/miniconda3/envs/py38/lib/python3.8/site-packages/albumentations/augmentations/transforms.py:965: FutureWarning: This class has been deprecated. Please use ImageCompression\n",
      "  warnings.warn(\n"
     ]
    }
   ],
   "source": [
    "%matplotlib inline\n",
    "%load_ext autoreload\n",
    "%autoreload \n",
    "\n",
    "import sys\n",
    "sys.path.append(f'/home/beans/bespoke')\n",
    "from constants import *\n",
    "\n",
    "import matplotlib.pyplot as plt\n",
    "from viz_utils import draw_wps\n",
    "from blender_dataloader import *\n",
    "from constants import *\n",
    "from imports import *\n",
    "from train_utils import get_torque"
   ]
  },
  {
   "cell_type": "code",
   "execution_count": null,
   "id": "2a05772b",
   "metadata": {},
   "outputs": [],
   "source": []
  },
  {
   "cell_type": "code",
   "execution_count": null,
   "id": "8f50189b",
   "metadata": {},
   "outputs": [],
   "source": [
    "get_obs_per_sec()"
   ]
  },
  {
   "cell_type": "code",
   "execution_count": null,
   "id": "361509b6",
   "metadata": {},
   "outputs": [],
   "source": [
    "paths = glob.glob(f\"{BLENDER_MEMBANK_ROOT}/**/obs_per_sec.npy\", recursive=True)\n",
    "obs_per_sec = np.array([np.load(p)[0] for p in paths])\n",
    "obs_per_sec"
   ]
  },
  {
   "cell_type": "code",
   "execution_count": null,
   "id": "cda6ce0b",
   "metadata": {},
   "outputs": [],
   "source": []
  },
  {
   "cell_type": "code",
   "execution_count": null,
   "id": "a5d53105",
   "metadata": {
    "scrolled": true
   },
   "outputs": [],
   "source": [
    "dataloader = BlenderDataloader(\"trn\", 6)"
   ]
  },
  {
   "cell_type": "code",
   "execution_count": null,
   "id": "2a9f8450",
   "metadata": {},
   "outputs": [],
   "source": [
    "%%time\n",
    "batch, is_first_in_seq = dataloader.get_batch()\n",
    "\n",
    "(\n",
    "    img, \n",
    "    aux_model,\n",
    "    aux_calib,\n",
    "    wp_angles,\n",
    "    wp_headings,\n",
    "    wp_curvatures,\n",
    "    wp_rolls,\n",
    "    wp_zs,\n",
    "    aux_targets,\n",
    "    to_pred_mask,\n",
    ") = batch\n",
    "\n",
    "is_first_in_seq"
   ]
  },
  {
   "cell_type": "code",
   "execution_count": null,
   "id": "85136b93",
   "metadata": {},
   "outputs": [],
   "source": [
    "wp_angles.shape, wp_headings.shape, wp_curvatures.shape, wp_rolls.shape, wp_zs.shape"
   ]
  },
  {
   "cell_type": "code",
   "execution_count": null,
   "id": "ebabcc73",
   "metadata": {},
   "outputs": [],
   "source": [
    "aux_model.shape, aux_calib.shape, aux_targets.shape"
   ]
  },
  {
   "cell_type": "code",
   "execution_count": null,
   "id": "ce876bf3",
   "metadata": {},
   "outputs": [],
   "source": []
  },
  {
   "cell_type": "code",
   "execution_count": null,
   "id": "51b462ee",
   "metadata": {},
   "outputs": [],
   "source": [
    "# Angles\n",
    "plt.hist((wp_angles*to_pred_mask).flatten().detach().cpu().numpy())"
   ]
  },
  {
   "cell_type": "code",
   "execution_count": null,
   "id": "873d8c12",
   "metadata": {},
   "outputs": [],
   "source": [
    "# headings\n",
    "plt.hist((wp_headings*to_pred_mask).flatten().detach().cpu().numpy())"
   ]
  },
  {
   "cell_type": "code",
   "execution_count": null,
   "id": "30bd182e",
   "metadata": {},
   "outputs": [],
   "source": [
    "# curvatures\n",
    "plt.hist((wp_curvatures*to_pred_mask).flatten().detach().cpu().numpy())"
   ]
  },
  {
   "cell_type": "code",
   "execution_count": null,
   "id": "29f1327b",
   "metadata": {},
   "outputs": [],
   "source": [
    "# rolls\n",
    "plt.hist((wp_rolls*to_pred_mask).flatten().detach().cpu().numpy())"
   ]
  },
  {
   "cell_type": "code",
   "execution_count": null,
   "id": "67de3d2b",
   "metadata": {},
   "outputs": [],
   "source": [
    "# zs\n",
    "plt.hist((wp_zs*to_pred_mask).flatten().detach().cpu().numpy())"
   ]
  },
  {
   "cell_type": "code",
   "execution_count": null,
   "id": "b63845bc",
   "metadata": {},
   "outputs": [],
   "source": []
  },
  {
   "cell_type": "code",
   "execution_count": null,
   "id": "a0c5b3ff",
   "metadata": {
    "scrolled": true
   },
   "outputs": [],
   "source": [
    "to_pred_mask.sum() / to_pred_mask.numel()"
   ]
  },
  {
   "cell_type": "code",
   "execution_count": null,
   "id": "99e38ec8",
   "metadata": {},
   "outputs": [],
   "source": [
    "# Has stop\n",
    "plt.hist(aux_targets[:,:,0].flatten().detach().cpu().numpy())"
   ]
  },
  {
   "cell_type": "code",
   "execution_count": null,
   "id": "b894d13a",
   "metadata": {},
   "outputs": [],
   "source": [
    "# Stop dist\n",
    "plt.hist((aux_targets[:,:,1]*aux_targets[:,:,0]).flatten().detach().cpu().numpy())"
   ]
  },
  {
   "cell_type": "code",
   "execution_count": null,
   "id": "0279a9a8",
   "metadata": {},
   "outputs": [],
   "source": [
    "# has lead\n",
    "plt.hist(aux_targets[:,:,3].flatten().detach().cpu().numpy())"
   ]
  },
  {
   "cell_type": "code",
   "execution_count": null,
   "id": "3f00dc2c",
   "metadata": {},
   "outputs": [],
   "source": [
    "# lead dist\n",
    "plt.hist((aux_targets[:,:,4]*aux_targets[:,:,3]).flatten().detach().cpu().numpy())"
   ]
  },
  {
   "cell_type": "code",
   "execution_count": null,
   "id": "c00ad7f1",
   "metadata": {},
   "outputs": [],
   "source": [
    "# lead speed\n",
    "plt.hist((aux_targets[:,:,5]*aux_targets[:,:,3]).flatten().detach().cpu().numpy())"
   ]
  },
  {
   "cell_type": "code",
   "execution_count": null,
   "id": "78ca7050",
   "metadata": {},
   "outputs": [],
   "source": []
  },
  {
   "cell_type": "code",
   "execution_count": 2,
   "id": "c4db37d0",
   "metadata": {},
   "outputs": [
    {
     "name": "stderr",
     "output_type": "stream",
     "text": [
      "Downloading: \"https://github.com/rwightman/pytorch-image-models/releases/download/v0.1-weights/tf_efficientnet_b6_aa-80ba17e4.pth\" to /home/beans/.cache/torch/hub/checkpoints/tf_efficientnet_b6_aa-80ba17e4.pth\n"
     ]
    }
   ],
   "source": [
    "from models import *\n",
    "m = EffNet().to(device) \n",
    "#model_stem = \"12.10_e45\"\n",
    "#m.load_state_dict(torch.load(f\"{BESPOKE_ROOT}/models/m_{model_stem}.torch\"), strict=False)"
   ]
  },
  {
   "cell_type": "code",
   "execution_count": null,
   "id": "b9c0fb9e",
   "metadata": {},
   "outputs": [],
   "source": [
    "with torch.no_grad():\n",
    "    with torch.cuda.amp.autocast(): \n",
    "        wps_preds, aux_preds, obs_net_out  = m(img, aux_model, aux_calib)"
   ]
  },
  {
   "cell_type": "code",
   "execution_count": 21,
   "id": "37ccfe22",
   "metadata": {},
   "outputs": [],
   "source": [
    "wp_angles_pred, wp_headings_pred, wp_curvatures_pred, wp_rolls_pred, wp_zs_pred = torch.chunk(wps_preds, 5, -1)"
   ]
  },
  {
   "cell_type": "code",
   "execution_count": 22,
   "id": "46422514",
   "metadata": {},
   "outputs": [
    {
     "data": {
      "text/plain": [
       "torch.Size([6, 8, 12])"
      ]
     },
     "execution_count": 22,
     "metadata": {},
     "output_type": "execute_result"
    }
   ],
   "source": [
    "aux_preds.shape"
   ]
  },
  {
   "cell_type": "code",
   "execution_count": 52,
   "id": "2a476aef",
   "metadata": {},
   "outputs": [],
   "source": [
    "sigmoid = torch.nn.Sigmoid()"
   ]
  },
  {
   "cell_type": "code",
   "execution_count": 53,
   "id": "c5ddb50c",
   "metadata": {},
   "outputs": [
    {
     "data": {
      "text/plain": [
       "(tensor([-2.1582, -2.0605, -1.9668, -1.9727, -1.9160, -1.8926, -1.8809, -1.9043],\n",
       "        device='cuda:0', dtype=torch.float16),\n",
       " tensor([0.1036, 0.1130, 0.1227, 0.1221, 0.1283, 0.1310, 0.1323, 0.1296],\n",
       "        device='cuda:0', dtype=torch.float16))"
      ]
     },
     "execution_count": 53,
     "metadata": {},
     "output_type": "execute_result"
    }
   ],
   "source": [
    "aux_preds[0,:,0], sigmoid(aux_preds[0,:,0])"
   ]
  },
  {
   "cell_type": "code",
   "execution_count": 59,
   "id": "8fbed0a3",
   "metadata": {},
   "outputs": [
    {
     "name": "stdout",
     "output_type": "stream",
     "text": [
      "weight Parameter containing:\n",
      "tensor([[ 0.5089,  0.2160, -0.0199,  ..., -0.1058, -0.0317,  0.0344],\n",
      "        [ 0.0519, -0.0124, -0.0011,  ...,  0.0072, -0.0134,  0.0552],\n",
      "        [-0.0240, -0.0270, -0.0179,  ...,  0.0257, -0.0073,  0.0328],\n",
      "        ...,\n",
      "        [ 0.0177,  0.0288, -0.0310,  ...,  0.0253, -0.0062, -0.0398],\n",
      "        [-0.0027,  0.0138, -0.0070,  ...,  0.0114,  0.0399, -0.0231],\n",
      "        [-0.0187,  0.0375,  0.0265,  ...,  0.0281,  0.0436,  0.0289]],\n",
      "       device='cuda:0', requires_grad=True)\n",
      "bias Parameter containing:\n",
      "tensor([-0.9226,  0.6607,  0.0261,  0.6406,  1.2272, -0.3009,  0.0173,  0.0087,\n",
      "        -0.0193, -0.0284,  0.0211,  0.0253], device='cuda:0',\n",
      "       requires_grad=True)\n"
     ]
    }
   ],
   "source": [
    "\n",
    "for n, p in m.aux_targets_head.named_parameters():\n",
    "    print(n, p)"
   ]
  },
  {
   "cell_type": "code",
   "execution_count": 62,
   "id": "2d65d0d4",
   "metadata": {
    "scrolled": true
   },
   "outputs": [
    {
     "data": {
      "text/plain": [
       "tensor([ 5.0895e-01,  2.1597e-01, -1.9882e-02, -2.9578e-02,  2.5771e-01,\n",
       "         1.1977e-02, -8.3835e-02,  7.0657e-02, -3.9417e-01, -5.8633e-02,\n",
       "         1.4129e-01,  7.8153e-02, -2.3752e-01, -2.8642e-02, -3.3252e-02,\n",
       "        -1.0416e-01,  5.3596e-02, -1.6957e-01, -1.2881e-01, -6.9477e-02,\n",
       "        -9.8141e-02, -3.6094e-01,  8.4937e-02, -2.0017e-01, -6.2556e-02,\n",
       "        -7.5789e-02, -3.5080e-01,  8.0234e-02, -2.8151e-02, -1.6422e-01,\n",
       "        -1.9552e-01, -1.6208e-01, -9.3518e-02, -1.0807e-02, -4.5706e-03,\n",
       "        -1.6113e-02, -3.0870e-01, -9.4229e-03, -2.9200e-01, -1.3414e-01,\n",
       "        -3.3439e-02, -2.8382e-01, -5.6518e-02, -2.0200e-03,  2.2979e-02,\n",
       "        -7.1281e-02, -1.8984e-02,  5.0464e-02,  5.8284e-03,  1.2990e-02,\n",
       "         6.5122e-01,  2.8938e-02, -1.4806e-01, -7.1491e-03,  1.1533e-02,\n",
       "         1.8735e-01,  4.9591e-02,  3.3706e-02, -1.1973e-01, -1.1923e-01,\n",
       "         2.9193e-03,  4.7431e-02, -1.9419e-01, -1.3376e-01,  2.8882e-02,\n",
       "        -1.7879e-01,  4.8548e-02, -2.1958e-01, -3.5665e-02,  1.6685e-02,\n",
       "        -2.8235e-02, -1.4051e-02, -1.4170e-01, -2.5839e-02, -8.7170e-02,\n",
       "        -2.3829e-01, -1.9201e-01, -1.0199e-01,  7.0137e-02, -2.2245e-02,\n",
       "         1.1337e-01, -1.5093e-01, -6.3722e-01,  1.8148e-01, -3.0843e-02,\n",
       "        -6.2074e-01, -2.7758e-01, -9.4001e-02, -1.2667e-01,  2.9703e-02,\n",
       "         2.2380e-02, -2.2148e-02,  8.6998e-02, -1.7475e-01,  1.1421e-01,\n",
       "        -1.8270e-01, -1.2837e-01, -4.5347e-02, -5.7268e-01, -4.4958e-02,\n",
       "        -6.3531e-02,  2.8268e-02,  6.1140e-02, -2.6596e-01,  4.2752e-02,\n",
       "        -4.3869e-01, -1.7445e-01,  3.8439e-02, -3.3009e-02, -3.1025e-01,\n",
       "        -4.8618e-02, -1.7991e-01,  1.8028e-01, -7.3637e-02, -2.1101e-01,\n",
       "        -3.3156e-02, -1.0081e-02, -3.7892e-02, -3.6825e-01,  7.6373e-02,\n",
       "        -8.7499e-02, -1.3875e-01,  1.2743e-01, -4.8813e-02,  3.8125e-02,\n",
       "        -4.0607e-03,  1.5202e-01, -1.1641e-01,  9.5146e-04,  9.2138e-03,\n",
       "        -1.3358e-01,  1.7758e-02,  6.6527e-02, -4.3927e-02,  8.7422e-03,\n",
       "        -1.4579e-01, -4.6656e-02, -8.9760e-02, -7.6513e-02, -6.9905e-02,\n",
       "        -1.1837e-02, -1.1244e-02,  2.3433e-02, -5.7407e-01, -1.4537e-02,\n",
       "         8.2369e-02,  1.7368e-01,  1.0855e-02, -3.7099e-02, -3.5776e-02,\n",
       "        -1.4286e-02, -9.5546e-02, -6.1760e-02, -1.0882e-02, -2.4461e-02,\n",
       "        -1.2936e-01, -2.1856e-01, -8.1758e-02, -5.6771e-02, -8.9480e-02,\n",
       "         4.9762e-02, -2.9925e-02, -5.8171e-02,  1.0030e-02, -3.9950e-02,\n",
       "         1.8242e-01,  1.1832e-01, -8.0670e-02, -9.9117e-02,  1.2643e-01,\n",
       "         7.5591e-02, -3.5307e-02, -1.1808e-01, -1.1398e-01, -2.7502e-01,\n",
       "        -1.2366e-02, -4.1260e-02,  5.7809e-02,  2.7232e-02,  1.6416e-02,\n",
       "        -2.0094e-02, -5.5773e-01, -4.3366e-02, -1.4264e-02,  1.1318e-01,\n",
       "        -2.1371e-01, -1.4449e-02,  1.8600e-01, -1.0630e-01,  1.6121e-01,\n",
       "         1.1409e-01,  1.0417e-01,  6.2076e-02, -6.2240e-01, -1.3547e-01,\n",
       "        -1.7422e-01, -1.1702e-01, -2.3282e-01, -2.5818e-02, -3.2202e-02,\n",
       "        -4.0537e-01,  9.1451e-02, -1.8961e-01, -2.8212e-01, -1.9091e-02,\n",
       "        -3.8451e-02,  6.6991e-02, -6.3898e-02, -1.1959e-01,  6.0852e-03,\n",
       "         2.5311e-02,  7.8295e-02, -6.3102e-02, -6.2425e-02,  1.1630e-01,\n",
       "         2.1714e-01, -2.4525e-01, -8.0005e-02, -7.9626e-02, -5.6803e-01,\n",
       "        -2.9910e-02, -7.0243e-02, -5.4504e-01, -1.4384e-01,  1.7795e-01,\n",
       "        -2.5799e-02, -2.3289e-01, -5.4800e-02, -9.2408e-02,  2.8195e-01,\n",
       "         2.8169e-02, -2.4081e-01, -4.2204e-02, -1.2618e-01, -8.7464e-02,\n",
       "        -9.4602e-02,  2.6597e-02, -1.3906e-01, -7.3922e-02, -6.4750e-02,\n",
       "         6.0081e-02, -3.3370e-01,  7.8479e-02, -7.2186e-03, -8.3733e-02,\n",
       "        -1.9174e-01, -1.0969e-01, -4.0221e-01,  3.3849e-02, -1.9121e-02,\n",
       "        -9.5348e-02, -1.0695e-02,  1.4741e-01, -4.1947e-02,  1.3239e-02,\n",
       "         1.7643e-02, -1.2619e-01,  5.2134e-02,  4.4293e-01,  8.1676e-02,\n",
       "         5.3982e-02, -4.2013e-02, -2.6018e-02, -2.2136e-01,  8.7372e-02,\n",
       "        -8.8816e-03, -1.0046e-01,  7.1856e-04, -1.4282e-03, -4.5284e-02,\n",
       "        -7.5333e-02, -5.0104e-02, -2.2761e-02, -1.4818e-01, -5.9039e-02,\n",
       "        -7.1517e-02,  3.3211e-02, -1.0038e-01, -6.9145e-02, -2.9925e-01,\n",
       "        -3.7793e-02, -3.1109e-01, -8.2726e-04, -4.7348e-01, -6.1655e-02,\n",
       "        -1.7429e-02, -1.4165e-01, -1.0041e-01, -1.0314e-01, -4.9595e-03,\n",
       "        -1.9873e-01, -1.4308e-01, -5.2081e-02, -5.0134e-02,  1.3015e-02,\n",
       "        -4.5144e-02, -2.5212e-02, -2.5831e-02, -4.7138e-02, -3.7256e-03,\n",
       "         4.1974e-02,  1.7092e-01,  1.6822e-02,  1.6729e-01, -1.9136e-01,\n",
       "         2.0485e-02, -6.5962e-04,  1.5777e-02, -3.5199e-02, -1.4415e-01,\n",
       "        -1.4806e-01,  2.9001e-02, -3.4460e-03, -5.7295e-02,  3.4536e-02,\n",
       "        -5.1463e-02,  3.8166e-02, -1.1574e-01, -2.3615e-02, -2.5927e-01,\n",
       "        -4.0083e-03,  8.1327e-02,  2.2995e-03, -1.9507e-01,  2.8587e-02,\n",
       "        -1.4780e-02, -6.2214e-02, -5.2052e-02,  4.5810e-03, -4.7005e-01,\n",
       "        -2.1936e-01, -7.3286e-02,  1.4473e-01, -1.5356e-03, -2.9907e-01,\n",
       "        -3.6743e-02, -9.0210e-02,  1.7014e-02,  6.0455e-02, -9.0066e-02,\n",
       "        -8.4078e-02,  3.6164e-02, -1.5974e-01, -4.8901e-02, -8.2430e-02,\n",
       "        -3.1468e-01,  3.5029e-02,  7.5644e-02, -1.6587e-01, -1.4886e-02,\n",
       "        -3.1285e-02, -3.4757e-02, -9.4462e-02, -3.7167e-02, -7.7348e-02,\n",
       "         1.0017e-02, -5.2672e-02,  1.1124e-02, -2.9121e-03, -2.1700e-01,\n",
       "         2.8591e-03, -6.4014e-02, -3.4963e-02,  1.1621e-01, -8.8198e-02,\n",
       "        -1.4843e-01, -2.1338e-02, -2.8833e-02, -2.1135e-01, -2.1807e-02,\n",
       "        -3.3062e-01, -3.9184e-02,  6.0313e-02, -7.6470e-03, -5.0074e-02,\n",
       "        -5.6510e-02,  6.4154e-02, -4.0727e-02, -1.6336e-01, -8.2517e-02,\n",
       "         1.7855e-02,  4.3274e-02,  4.0868e-02, -1.9246e-01,  8.2773e-01,\n",
       "        -2.4791e-02, -4.0558e-01, -3.9012e-02, -4.9283e-02, -6.4228e-02,\n",
       "        -7.9030e-02,  3.3998e-03,  1.3730e-02, -5.1214e-02, -3.5690e-02,\n",
       "        -3.2035e-01,  3.1634e-01, -9.4230e-02,  1.1657e-01, -1.0920e-01,\n",
       "        -4.8659e-02,  3.3286e-02, -7.6477e-02, -3.8610e-01,  1.4009e-01,\n",
       "         1.1532e-01, -1.6088e-01, -5.5844e-03, -2.3300e-01, -1.0675e-01,\n",
       "        -7.3514e-01,  1.1360e-02, -1.6537e-01,  1.5742e-01, -1.2947e-02,\n",
       "         8.8955e-02, -7.3347e-02, -1.1464e-01, -5.4927e-02, -7.4022e-02,\n",
       "        -1.1585e-01, -5.0691e-02,  4.4421e-02, -2.7570e-01, -1.1435e-01,\n",
       "        -2.6827e-01, -1.7157e-02, -4.8284e-02,  2.1455e-01,  5.9898e-02,\n",
       "        -2.8917e-01, -1.4360e-01,  1.4769e-02, -4.3365e-02, -4.6566e-02,\n",
       "        -3.9389e-02, -1.3442e-01,  1.0182e-02, -5.4561e-02,  6.6221e-02,\n",
       "        -1.2898e-01, -1.3421e-01, -2.4898e-01, -1.8405e-01, -1.6230e-01,\n",
       "         5.5122e-02, -5.4175e-02, -3.9888e-01, -1.1189e-01,  1.1851e-01,\n",
       "         2.8273e-02,  5.7774e-02, -2.4543e-01, -1.3662e-02,  1.8525e-01,\n",
       "         8.0997e-02,  1.7978e-01, -1.1212e-01,  6.1152e-02, -1.5181e-01,\n",
       "         2.0965e-02, -4.0053e-02, -8.8656e-03, -3.3147e-02, -1.3174e-01,\n",
       "        -1.3826e-01, -1.1557e-01, -3.1159e-01, -1.7500e-01, -3.2283e-02,\n",
       "         4.4331e-01, -1.6486e-01,  2.3732e-02,  3.6683e-01, -6.2904e-02,\n",
       "        -5.3102e-01,  1.9826e-01, -2.1844e-02, -1.5387e-01, -2.2224e-01,\n",
       "        -5.2608e-02,  1.3376e-02,  4.1974e-02, -2.0540e-01, -6.6947e-02,\n",
       "        -1.0138e-01,  9.8350e-02, -5.0583e-02, -1.4606e-01,  2.1158e-01,\n",
       "        -3.3565e-02, -5.8504e-02, -1.9081e-01, -8.8506e-02, -5.2305e-03,\n",
       "        -1.3504e-01,  3.2968e-02, -6.0316e-02, -2.1105e-01,  9.1056e-04,\n",
       "         9.9826e-03, -1.4974e-01, -2.0871e-04,  8.1397e-02, -5.1875e-01,\n",
       "        -6.4475e-02, -5.8274e-01, -1.2484e-02,  2.2563e-02, -1.0577e-01,\n",
       "        -3.1733e-02,  3.4431e-02], device='cuda:0', grad_fn=<SelectBackward0>)"
      ]
     },
     "execution_count": 62,
     "metadata": {},
     "output_type": "execute_result"
    }
   ],
   "source": [
    "m.aux_targets_head.weight[0]"
   ]
  },
  {
   "cell_type": "code",
   "execution_count": null,
   "id": "5d388e29",
   "metadata": {},
   "outputs": [],
   "source": []
  },
  {
   "cell_type": "code",
   "execution_count": 18,
   "id": "5aec0c1b",
   "metadata": {
    "scrolled": true
   },
   "outputs": [
    {
     "ename": "NameError",
     "evalue": "name 'aux' is not defined",
     "output_type": "error",
     "traceback": [
      "\u001b[0;31m---------------------------------------------------------------------------\u001b[0m",
      "\u001b[0;31mNameError\u001b[0m                                 Traceback (most recent call last)",
      "\u001b[0;32m/tmp/ipykernel_3451415/1342269071.py\u001b[0m in \u001b[0;36m<module>\u001b[0;34m\u001b[0m\n\u001b[0;32m----> 1\u001b[0;31m \u001b[0mt\u001b[0m \u001b[0;34m=\u001b[0m \u001b[0mget_torque\u001b[0m\u001b[0;34m(\u001b[0m\u001b[0mwp_angles\u001b[0m\u001b[0;34m,\u001b[0m \u001b[0maux\u001b[0m\u001b[0;34m)\u001b[0m\u001b[0;34m\u001b[0m\u001b[0;34m\u001b[0m\u001b[0m\n\u001b[0m\u001b[1;32m      2\u001b[0m \u001b[0mplt\u001b[0m\u001b[0;34m.\u001b[0m\u001b[0mhist\u001b[0m\u001b[0;34m(\u001b[0m\u001b[0mt\u001b[0m\u001b[0;34m.\u001b[0m\u001b[0mcpu\u001b[0m\u001b[0;34m(\u001b[0m\u001b[0;34m)\u001b[0m\u001b[0;34m.\u001b[0m\u001b[0mnumpy\u001b[0m\u001b[0;34m(\u001b[0m\u001b[0;34m)\u001b[0m\u001b[0;34m.\u001b[0m\u001b[0mflatten\u001b[0m\u001b[0;34m(\u001b[0m\u001b[0;34m)\u001b[0m\u001b[0;34m)\u001b[0m\u001b[0;34m\u001b[0m\u001b[0;34m\u001b[0m\u001b[0m\n",
      "\u001b[0;31mNameError\u001b[0m: name 'aux' is not defined"
     ]
    }
   ],
   "source": [
    "t = get_torque(wp_angles, aux)\n",
    "plt.hist(t.cpu().numpy().flatten())"
   ]
  },
  {
   "cell_type": "code",
   "execution_count": 17,
   "id": "6f0f3156",
   "metadata": {},
   "outputs": [
    {
     "data": {
      "text/plain": [
       "tensor(12240.8799, device='cuda:0')"
      ]
     },
     "execution_count": 17,
     "metadata": {},
     "output_type": "execute_result"
    }
   ],
   "source": [
    "abs(t).max()"
   ]
  },
  {
   "cell_type": "code",
   "execution_count": 18,
   "id": "05d2a0b7",
   "metadata": {},
   "outputs": [
    {
     "data": {
      "text/plain": [
       "(array([10., 19., 12.,  1.,  1.,  2.,  1.,  1.,  0.,  1.]),\n",
       " array([   2.3530273,  102.832375 ,  203.31172  ,  303.79108  ,\n",
       "         404.27042  ,  504.74976  ,  605.2291   ,  705.70844  ,\n",
       "         806.1878   ,  906.6671   , 1007.1465   ], dtype=float32),\n",
       " <BarContainer object of 10 artists>)"
      ]
     },
     "execution_count": 18,
     "metadata": {},
     "output_type": "execute_result"
    },
    {
     "data": {
      "image/png": "[encoded data removed]",
      "text/plain": [
       "<Figure size 432x288 with 1 Axes>"
      ]
     },
     "metadata": {
      "needs_background": "light"
     },
     "output_type": "display_data"
    }
   ],
   "source": [
    "td = abs(t[:,1:,:] - t[:,:-1,:])\n",
    "plt.hist(td.cpu().numpy().flatten())"
   ]
  },
  {
   "cell_type": "code",
   "execution_count": 19,
   "id": "a70bddb5",
   "metadata": {},
   "outputs": [
    {
     "data": {
      "text/plain": [
       "tensor(1007.1465, device='cuda:0')"
      ]
     },
     "execution_count": 19,
     "metadata": {},
     "output_type": "execute_result"
    }
   ],
   "source": [
    "abs(td).max()"
   ]
  },
  {
   "cell_type": "code",
   "execution_count": null,
   "id": "f662ee37",
   "metadata": {},
   "outputs": [],
   "source": []
  },
  {
   "cell_type": "code",
   "execution_count": null,
   "id": "e6a6566f",
   "metadata": {},
   "outputs": [],
   "source": []
  },
  {
   "cell_type": "code",
   "execution_count": null,
   "id": "12b8ffaa",
   "metadata": {},
   "outputs": [],
   "source": []
  },
  {
   "cell_type": "code",
   "execution_count": 8,
   "id": "13052d52",
   "metadata": {},
   "outputs": [],
   "source": [
    "import subprocess"
   ]
  },
  {
   "cell_type": "code",
   "execution_count": 9,
   "id": "ee0b34b0",
   "metadata": {},
   "outputs": [
    {
     "data": {
      "text/plain": [
       "CompletedProcess(args='cp -R /media/beans/beans_data/blender_membank /dev/shm/blender_membank', returncode=0)"
      ]
     },
     "execution_count": 9,
     "metadata": {},
     "output_type": "execute_result"
    }
   ],
   "source": [
    "# Load up membank from ssd to shm\n",
    "subprocess.run(\"cp -R /media/beans/beans_data/blender_membank /dev/shm/blender_membank\", shell=True)"
   ]
  },
  {
   "cell_type": "code",
   "execution_count": null,
   "id": "05f59d3e",
   "metadata": {},
   "outputs": [],
   "source": [
    "# save membank to ssd\n",
    "subprocess.run(\"cp -R /dev/shm/blender_membank /media/beans/beans_data/blender_membank\", shell=True)"
   ]
  }
 ],
 "metadata": {
  "kernelspec": {
   "display_name": "Python 3 (ipykernel)",
   "language": "python",
   "name": "python3"
  },
  "language_info": {
   "codemirror_mode": {
    "name": "ipython",
    "version": 3
   },
   "file_extension": ".py",
   "mimetype": "text/x-python",
   "name": "python",
   "nbconvert_exporter": "python",
   "pygments_lexer": "ipython3",
   "version": "3.8.11"
  }
 },
 "nbformat": 4,
 "nbformat_minor": 5
}
