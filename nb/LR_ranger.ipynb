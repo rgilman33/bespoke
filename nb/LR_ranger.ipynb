{
 "cells": [
  {
   "cell_type": "code",
   "execution_count": 1,
   "metadata": {},
   "outputs": [
    {
     "name": "stdout",
     "output_type": "stream",
     "text": [
      "pygame 1.9.6\n",
      "Hello from the pygame community. https://www.pygame.org/contribute.html\n"
     ]
    }
   ],
   "source": [
    "%matplotlib inline\n",
    "%load_ext autoreload\n",
    "%autoreload 2\n",
    "\n",
    "import torch\n",
    "import torch.nn as nn\n",
    "import torch.nn.functional as F\n",
    "import numpy as np\n",
    "from models import *\n",
    "from torchvision import datasets, transforms\n",
    "import glob\n",
    "import pandas as pd\n",
    "import time\n",
    "import random\n",
    "import copy\n",
    "from copy import deepcopy\n",
    "import threading\n",
    "\n",
    "import os \n",
    "import shutil\n",
    "from PIL import Image\n",
    "import multiprocessing as mp\n",
    "import math\n",
    "from tqdm import tqdm\n",
    "import matplotlib.pyplot as plt\n",
    "import random\n",
    "\n",
    "from dataloader import DataLoader\n",
    "from utils import aux_properties, control_properties"
   ]
  },
  {
   "cell_type": "code",
   "execution_count": 2,
   "metadata": {},
   "outputs": [],
   "source": [
    "device = 'cuda'"
   ]
  },
  {
   "cell_type": "code",
   "execution_count": 3,
   "metadata": {},
   "outputs": [],
   "source": [
    "from models import *\n",
    "\n",
    "N_LSTM_LAYERS = 1\n",
    "N_HIDDEN = 1024\n",
    "\n",
    "def get_hidden(bs):\n",
    "    return (torch.zeros(N_LSTM_LAYERS, bs, N_HIDDEN).to(device), \n",
    "            torch.zeros(N_LSTM_LAYERS, bs, N_HIDDEN).to(device))\n",
    "\n",
    "m = ImpalaCNN().to(device);\n",
    "\n",
    "opt = torch.optim.AdamW(m.parameters(), weight_decay=1e-6)"
   ]
  },
  {
   "cell_type": "code",
   "execution_count": 4,
   "metadata": {},
   "outputs": [],
   "source": [
    "loss_fn = torch.nn.MSELoss().cuda()\n",
    "\n",
    "scaler = torch.cuda.amp.GradScaler() "
   ]
  },
  {
   "cell_type": "code",
   "execution_count": 5,
   "metadata": {},
   "outputs": [],
   "source": [
    "bs_bptt_lookup = {\n",
    "    #6:32,\n",
    "    #8:24,\n",
    "    #16:12,\n",
    "    24:8\n",
    "}"
   ]
  },
  {
   "cell_type": "code",
   "execution_count": null,
   "metadata": {},
   "outputs": [],
   "source": []
  },
  {
   "cell_type": "code",
   "execution_count": 6,
   "metadata": {},
   "outputs": [],
   "source": [
    "init_value = 3e-5\n",
    "final_value=3e-1\n",
    "beta = 0.98\n",
    "\n",
    "num = 237 // 3 #len(trn_loader)-1\n",
    "mult = (final_value / init_value) ** (1/num)\n",
    "lr = init_value\n",
    "opt.param_groups[0]['lr'] = lr"
   ]
  },
  {
   "cell_type": "code",
   "execution_count": 7,
   "metadata": {},
   "outputs": [],
   "source": [
    "best_loss = 1000\n",
    "avg_loss = 0.\n",
    "ix = 0"
   ]
  },
  {
   "cell_type": "code",
   "execution_count": 8,
   "metadata": {
    "scrolled": true
   },
   "outputs": [
    {
     "name": "stdout",
     "output_type": "stream",
     "text": [
      "Initiating epoch with bs of 24 and bptt of 8\n",
      "Preparing to train on 7608 seqs\n",
      "Queueing chunk of size torch.Size([197, 96, 3, 128, 256]) took 30.27 seconds\n",
      "Queueing chunk of size torch.Size([197, 96, 3, 128, 256]) took 34.68 seconds\n"
     ]
    },
    {
     "name": "stderr",
     "output_type": "stream",
     "text": [
      "/home/beans/anaconda3/envs/py37/lib/python3.7/site-packages/ipykernel_launcher.py:80: RuntimeWarning: divide by zero encountered in double_scalars\n"
     ]
    },
    {
     "name": "stdout",
     "output_type": "stream",
     "text": [
      "Chunk loss 0.0636, smooth inf. lr 3e-05.\n",
      "\n",
      "Queueing chunk of size torch.Size([197, 96, 3, 128, 256]) took 32.72 seconds\n",
      "Chunk loss 0.0566, smooth 0.118928. lr 3.370964400416253e-05.\n",
      "\n",
      "Queueing chunk of size torch.Size([197, 96, 3, 128, 256]) took 34.68 seconds\n",
      "Chunk loss 0.0504, smooth 0.0843178989898989. lr 3.7878003296245694e-05.\n",
      "\n",
      "Queueing chunk of size torch.Size([197, 96, 3, 128, 256]) took 35.25 seconds\n",
      "Chunk loss 0.0426, smooth 0.07013006774588487. lr 4.2561800223497906e-05.\n",
      "\n",
      "Queueing chunk of size torch.Size([197, 96, 3, 128, 256]) took 32.72 seconds\n",
      "Chunk loss 0.0496, smooth 0.06484098333261194. lr 4.782477112367999e-05.\n",
      "\n",
      "Queueing chunk of size torch.Size([197, 96, 3, 128, 256]) took 32.87 seconds\n",
      "Chunk loss 0.0408, smooth 0.059836573942878. lr 5.373853363866014e-05.\n",
      "\n",
      "Queueing chunk of size torch.Size([197, 96, 3, 128, 256]) took 32.56 seconds\n",
      "Chunk loss 0.0427, smooth 0.05683430846597407. lr 6.038356127549821e-05.\n",
      "\n",
      "Queueing chunk of size torch.Size([197, 96, 3, 128, 256]) took 33.63 seconds\n",
      "Chunk loss 0.0373, smooth 0.05387174733539219. lr 6.785027847668596e-05.\n",
      "\n",
      "Queueing chunk of size torch.Size([197, 96, 3, 128, 256]) took 31.67 seconds\n",
      "Chunk loss 0.0396, smooth 0.05195911849738004. lr 7.624029110107916e-05.\n",
      "\n",
      "Queueing chunk of size torch.Size([197, 96, 3, 128, 256]) took 33.59 seconds\n",
      "Chunk loss 0.039, smooth 0.050400147783551216. lr 8.56677690597033e-05.\n",
      "\n",
      "Queueing chunk of size torch.Size([197, 96, 3, 128, 256]) took 33.79 seconds\n",
      "Chunk loss 0.0399, smooth 0.049252133909299445. lr 9.626099992111358e-05.\n",
      "\n",
      "Queueing chunk of size torch.Size([197, 96, 3, 128, 256]) took 33.88 seconds\n",
      "Chunk loss 0.0354, smooth 0.04786183654326408. lr 0.0001081641346275152.\n",
      "\n",
      "Queueing chunk of size torch.Size([197, 96, 3, 128, 256]) took 35.74 seconds\n",
      "Chunk loss 0.0466, smooth 0.047744610852058056. lr 0.00012153914907706154.\n",
      "\n",
      "Queueing chunk of size torch.Size([197, 96, 3, 128, 256]) took 37.01 seconds\n",
      "Chunk loss 0.0351, smooth 0.04664973323066841. lr 0.00013656804826521946.\n",
      "\n",
      "Queueing chunk of size torch.Size([197, 96, 3, 128, 256]) took 31.88 seconds\n",
      "Chunk loss 0.029, smooth 0.04521688111806984. lr 0.00015345534297879447.\n",
      "\n",
      "Queueing chunk of size torch.Size([197, 96, 3, 128, 256]) took 33.21 seconds\n",
      "Chunk loss 0.0343, smooth 0.044381717315433125. lr 0.0001724308327450608.\n",
      "\n",
      "Queueing chunk of size torch.Size([197, 96, 3, 128, 256]) took 32.8 seconds\n",
      "Chunk loss 0.0309, smooth 0.043405496746627276. lr 0.00019375273290590968.\n",
      "\n",
      "Queueing chunk of size torch.Size([197, 96, 3, 128, 256]) took 36.71 seconds\n",
      "Chunk loss 0.044, smooth 0.04344640130597878. lr 0.00021771118836972673.\n",
      "\n",
      "Queueing chunk of size torch.Size([197, 96, 3, 128, 256]) took 33.24 seconds\n",
      "Chunk loss 0.0356, smooth 0.04293165479054709. lr 0.00024463222185555525.\n",
      "\n",
      "Queueing chunk of size torch.Size([197, 96, 3, 128, 256]) took 32.3 seconds\n",
      "Chunk loss 0.0262, smooth 0.041881882695730295. lr 0.0002748821703566025.\n",
      "\n",
      "Queueing chunk of size torch.Size([197, 96, 3, 128, 256]) took 34.21 seconds\n",
      "Chunk loss 0.0323, smooth 0.04130534163087237. lr 0.0003088726701937543.\n",
      "\n",
      "Queueing chunk of size torch.Size([197, 96, 3, 128, 256]) took 31.91 seconds\n",
      "Chunk loss 0.0388, smooth 0.04116041704673496. lr 0.0003470662584948853.\n",
      "\n",
      "Queueing chunk of size torch.Size([197, 96, 3, 128, 256]) took 36.28 seconds\n",
      "Chunk loss 0.0382, smooth 0.040995412850347364. lr 0.00038998266732397443.\n",
      "\n",
      "Queueing chunk of size torch.Size([197, 96, 3, 128, 256]) took 35.87 seconds\n",
      "Chunk loss 0.0367, smooth 0.04076426088271368. lr 0.0004382058961094975.\n",
      "\n",
      "Queueing chunk of size torch.Size([197, 96, 3, 128, 256]) took 35.16 seconds\n",
      "Chunk loss 0.0376, smooth 0.04059954984976112. lr 0.0004923921586125397.\n",
      "\n",
      "Queueing chunk of size torch.Size([197, 96, 3, 128, 256]) took 33.78 seconds\n",
      "Chunk loss 0.0298, smooth 0.04005485430004422. lr 0.0005532788125756614.\n",
      "\n",
      "Queueing chunk of size torch.Size([197, 96, 3, 128, 256]) took 33.78 seconds\n",
      "Chunk loss 0.0392, smooth 0.04001301167890622. lr 0.0006216943935657103.\n",
      "\n",
      "Queueing chunk of size torch.Size([197, 96, 3, 128, 256]) took 31.81 seconds\n",
      "Chunk loss 0.0383, smooth 0.03993152360237573. lr 0.0006985698895494601.\n",
      "\n",
      "Queueing chunk of size torch.Size([197, 96, 3, 128, 256]) took 35.05 seconds\n",
      "Chunk loss 0.0313, smooth 0.039531938064640296. lr 0.000784951409624648.\n",
      "\n",
      "Queueing chunk of size torch.Size([197, 96, 3, 128, 256]) took 32.76 seconds\n",
      "Chunk loss 0.0346, smooth 0.03930946971567402. lr 0.0008820144193004147.\n",
      "\n",
      "Queueing chunk of size torch.Size([197, 96, 3, 128, 256]) took 36.02 seconds\n",
      "Chunk loss 0.0266, smooth 0.03875021641561602. lr 0.000991079736038504.\n",
      "\n",
      "Queueing chunk of size torch.Size([197, 96, 3, 128, 256]) took 31.78 seconds\n",
      "Chunk loss 0.0408, smooth 0.03883829857570855. lr 0.0011136315027199112.\n",
      "\n",
      "Queueing chunk of size torch.Size([197, 96, 3, 128, 256]) took 34.09 seconds\n",
      "Chunk loss 0.0353, smooth 0.038689667057883396. lr 0.0012513373836169587.\n",
      "\n",
      "Queueing chunk of size torch.Size([197, 96, 3, 128, 256]) took 32.01 seconds\n",
      "Chunk loss 0.0384, smooth 0.03867776116726992. lr 0.0014060712576942612.\n",
      "\n",
      "Queueing chunk of size torch.Size([197, 96, 3, 128, 256]) took 32.74 seconds\n",
      "Chunk loss 0.0395, smooth 0.03871085839695625. lr 0.0015799387180452872.\n",
      "\n",
      "Queueing chunk of size torch.Size([197, 96, 3, 128, 256]) took 33.46 seconds\n",
      "Chunk loss 0.0395, smooth 0.03874199282561737. lr 0.0017753057244566516.\n",
      "\n",
      "Queueing chunk of size torch.Size([197, 96, 3, 128, 256]) took 33.72 seconds\n",
      "Chunk loss 0.0422, smooth 0.03887582003227129. lr 0.0019948307989995193.\n",
      "\n",
      "Queueing chunk of size torch.Size([197, 96, 3, 128, 256]) took 32.8 seconds\n",
      "Chunk loss 0.03, smooth 0.03853862558237848. lr 0.00224150120276043.\n",
      "\n",
      "Queueing chunk of size torch.Size([197, 96, 3, 128, 256]) took 32.47 seconds\n",
      "Chunk loss 0.0361, smooth 0.038447618865944486. lr 0.002518673585998541.\n",
      "\n",
      "Queueing chunk of size torch.Size([197, 96, 3, 128, 256]) took 35.94 seconds\n",
      "Chunk loss 0.0319, smooth 0.038207429034768335. lr 0.0028301196648899416.\n",
      "\n",
      "Queueing chunk of size torch.Size([197, 96, 3, 128, 256]) took 34.16 seconds\n",
      "Chunk loss 0.0369, smooth 0.038160254941765635. lr 0.003180077546420656.\n",
      "\n",
      "Queueing chunk of size torch.Size([197, 96, 3, 128, 256]) took 32.71 seconds\n",
      "Chunk loss 0.0324, smooth 0.03795570537479687. lr 0.0035733093998490317.\n",
      "\n",
      "Queueing chunk of size torch.Size([197, 96, 3, 128, 256]) took 33.08 seconds\n",
      "Chunk loss 0.0274, smooth 0.03758659207110455. lr 0.0040151662595212835.\n",
      "\n",
      "Queueing chunk of size torch.Size([197, 96, 3, 128, 256]) took 33.2 seconds\n",
      "Chunk loss 0.0379, smooth 0.0375973897401341. lr 0.0045116608408662445.\n",
      "\n",
      "Queueing chunk of size torch.Size([197, 96, 3, 128, 256]) took 33.99 seconds\n",
      "Chunk loss 0.0359, smooth 0.03753974364263214. lr 0.005069549360437389.\n",
      "\n",
      "Queueing chunk of size torch.Size([197, 96, 3, 128, 256]) took 37.69 seconds\n",
      "Chunk loss 0.0334, smooth 0.037401087130171935. lr 0.005696423473395807.\n",
      "\n",
      "Queueing chunk of size torch.Size([197, 96, 3, 128, 256]) took 32.72 seconds\n",
      "Chunk loss 0.0337, smooth 0.037278773471174184. lr 0.006400813579504255.\n",
      "\n",
      "Queueing chunk of size torch.Size([197, 96, 3, 128, 256]) took 33.64 seconds\n",
      "Chunk loss 0.0318, smooth 0.037100042854249. lr 0.007192304903403257.\n",
      "\n",
      "Queueing chunk of size torch.Size([197, 96, 3, 128, 256]) took 40.4 seconds\n",
      "Chunk loss 0.0321, smooth 0.036938962781772236. lr 0.008081667928770546.\n",
      "\n",
      "Queueing chunk of size torch.Size([197, 96, 3, 128, 256]) took 34.72 seconds\n",
      "Chunk loss 0.0335, smooth 0.036829511089734285. lr 0.00908100496129042.\n",
      "\n",
      "Queueing chunk of size torch.Size([197, 96, 3, 128, 256]) took 34.81 seconds\n",
      "Chunk loss 0.0357, smooth 0.03679398239428331. lr 0.010203914814837794.\n",
      "\n",
      "Queueing chunk of size torch.Size([197, 96, 3, 128, 256]) took 32.27 seconds\n",
      "Chunk loss 0.0283, smooth 0.03652983058984226. lr 0.011465677861899401.\n",
      "\n",
      "Queueing chunk of size torch.Size([197, 96, 3, 128, 256]) took 34.11 seconds\n",
      "Chunk loss 0.0338, smooth 0.036445868281569184. lr 0.012883463966367874.\n",
      "\n",
      "Queueing chunk of size torch.Size([197, 96, 3, 128, 256]) took 31.93 seconds\n",
      "Chunk loss 0.0343, smooth 0.03638056953676298. lr 0.014476566128223893.\n",
      "\n",
      "Queueing chunk of size torch.Size([197, 96, 3, 128, 256]) took 32.6 seconds\n",
      "Chunk loss 0.0253, smooth 0.03604686844339341. lr 0.01626666301950483.\n",
      "\n",
      "Queueing chunk of size torch.Size([197, 96, 3, 128, 256]) took 32.8 seconds\n"
     ]
    },
    {
     "name": "stdout",
     "output_type": "stream",
     "text": [
      "Chunk loss 0.0291, smooth 0.03583975255203355. lr 0.01827811398410611.\n",
      "\n",
      "Queueing chunk of size torch.Size([197, 96, 3, 128, 256]) took 34.84 seconds\n",
      "Chunk loss 0.0321, smooth 0.035729338154660804. lr 0.02053829051572406.\n",
      "\n",
      "Queueing chunk of size torch.Size([197, 96, 3, 128, 256]) took 35.89 seconds\n",
      "Chunk loss 0.0226, smooth 0.03534535798018385. lr 0.023077948724637525.\n",
      "\n",
      "Queueing chunk of size torch.Size([197, 96, 3, 128, 256]) took 33.03 seconds\n",
      "Chunk loss 0.0291, smooth 0.03516437977268267. lr 0.02593164786179492.\n",
      "\n",
      "Queueing chunk of size torch.Size([197, 96, 3, 128, 256]) took 34.68 seconds\n",
      "Chunk loss 0.0494, smooth 0.03557322941931463. lr 0.029138220595413638.\n",
      "\n",
      "Queueing chunk of size torch.Size([197, 96, 3, 128, 256]) took 33.23 seconds\n",
      "Chunk loss 0.0348, smooth 0.035551214104952544. lr 0.03274130143953835.\n",
      "\n",
      "Queueing chunk of size torch.Size([197, 96, 3, 128, 256]) took 34.14 seconds\n",
      "Chunk loss 0.0274, smooth 0.03532108316094606. lr 0.03678992052532706.\n",
      "\n",
      "Queueing chunk of size torch.Size([197, 96, 3, 128, 256]) took 32.15 seconds\n",
      "Chunk loss 0.0687, smooth 0.0362557657877256. lr 0.041339170795006916.\n",
      "\n",
      "Queueing chunk of size torch.Size([197, 96, 3, 128, 256]) took 34.87 seconds\n",
      "Chunk loss 0.0476, smooth 0.036570907319369454. lr 0.04645095769756519.\n",
      "\n",
      "Queueing chunk of size torch.Size([197, 96, 3, 128, 256]) took 31.88 seconds\n",
      "Chunk loss 0.0353, smooth 0.03653587421266394. lr 0.052194841587911184.\n",
      "\n",
      "Queueing chunk of size torch.Size([197, 96, 3, 128, 256]) took 33.82 seconds\n",
      "Chunk loss 0.0368, smooth 0.03654310028521121. lr 0.058648984292738106.\n",
      "\n",
      "Queueing chunk of size torch.Size([197, 96, 3, 128, 256]) took 31.64 seconds\n",
      "Chunk loss 0.0406, smooth 0.03665328002707968. lr 0.06590121272379738.\n",
      "\n",
      "Queueing chunk of size torch.Size([197, 96, 3, 128, 256]) took 36.49 seconds\n",
      "Chunk loss 0.0532, smooth 0.03709947176824391. lr 0.07405021401205986.\n",
      "\n",
      "Queueing chunk of size torch.Size([197, 96, 3, 128, 256]) took 32.15 seconds\n",
      "Chunk loss 0.108, smooth 0.03899811978245172. lr 0.08320687842595285.\n",
      "\n",
      "Queueing chunk of size torch.Size([197, 96, 3, 128, 256]) took 32.01 seconds\n",
      "Chunk loss 0.0793, smooth 0.04007009842154397. lr 0.0934958083478834.\n",
      "\n",
      "Queueing chunk of size torch.Size([197, 96, 3, 128, 256]) took 33.77 seconds\n",
      "Chunk loss 0.0891, smooth 0.041365682102068445. lr 0.1050570138429519.\n",
      "\n",
      "Queueing chunk of size torch.Size([197, 96, 3, 128, 256]) took 33.29 seconds\n",
      "Chunk loss 0.0842, smooth 0.042490326342903374. lr 0.1180478178928761.\n",
      "\n",
      "Queueing chunk of size torch.Size([197, 96, 3, 128, 256]) took 34.84 seconds\n",
      "Chunk loss 0.0889, smooth 0.04370126871780051. lr 0.13264499722123538.\n",
      "\n",
      "Queueing chunk of size torch.Size([197, 96, 3, 128, 256]) took 39.34 seconds\n",
      "Chunk loss 0.0758, smooth 0.04453373171200603. lr 0.1490471878420324.\n",
      "\n",
      "Queueing chunk of size torch.Size([197, 96, 3, 128, 256]) took 33.78 seconds\n",
      "Chunk loss 0.0856, smooth 0.04559247977187328. lr 0.1674775880658818.\n",
      "\n",
      "Queueing chunk of size torch.Size([197, 96, 3, 128, 256]) took 33.54 seconds\n",
      "Chunk loss 0.091, smooth 0.04675642233491796. lr 0.18818699574588849.\n",
      "\n",
      "Queueing chunk of size torch.Size([197, 96, 3, 128, 256]) took 33.46 seconds\n",
      "Chunk loss 0.092, smooth 0.047909666000269094. lr 0.2114572210935583.\n",
      "\n",
      "Queueing chunk of size torch.Size([197, 96, 3, 128, 256]) took 33.97 seconds\n",
      "Chunk loss 0.11, smooth 0.04948368700212822. lr 0.23760492150577792.\n",
      "\n",
      "Exhausted seq generator\n",
      "Chunk loss 0.1205, smooth 0.05127440479784147. lr 0.2669859105865585.\n",
      "\n",
      "Finished dataloader!\n"
     ]
    }
   ],
   "source": [
    "# pass validation scatterplots to wandb\n",
    "\n",
    "train_folders_root = '/home/beans/carla_leaderboard/bespoke/data/trn'\n",
    "m.train()\n",
    "    \n",
    "epoch_loss, preds, controls = [], [], []\n",
    "lrs = []\n",
    "epoch_smooth_losses = []\n",
    "\n",
    "# Choose a combo of bs and bptt that add up to max out GPU memory\n",
    "bs = random.choice(list(bs_bptt_lookup.keys()))\n",
    "bptt = bs_bptt_lookup[bs]\n",
    "print(f\"Initiating epoch with bs of {bs} and bptt of {bptt}\")\n",
    "\n",
    "accumulation_iters = 4\n",
    "chunk_width = bs * accumulation_iters\n",
    "\n",
    "# queues up a chunk. Won't proceed until ready.\n",
    "dataloader = DataLoader(folders_root=train_folders_root, bs=chunk_width)\n",
    "\n",
    "while True:\n",
    "    chunk = dataloader.get_chunk() # Returns a chunk instantly, begins queuing up another chunk async\n",
    "    if not chunk: break\n",
    "\n",
    "    # Store one for each batch. These will be updated in place as we move along the time dimension\n",
    "    hiddens = [get_hidden(bs) for _ in range(accumulation_iters)]\n",
    "\n",
    "    front_container, left_container, right_container, aux_container, control_container = chunk\n",
    "    chunk_len, chunk_width, _, _, _ = front_container.shape\n",
    "    len_ix = 0\n",
    "    chunk_loss = []\n",
    "\n",
    "    while len_ix < chunk_len:\n",
    "\n",
    "        # Run through the entire row accumulating gradients\n",
    "        width_ix = 0\n",
    "        new_hiddens = []\n",
    "        while width_ix < chunk_width:\n",
    "\n",
    "            front = front_container[len_ix:len_ix+bptt, width_ix:width_ix+bs, :, :, :].to(device)\n",
    "            left = left_container[len_ix:len_ix+bptt, width_ix:width_ix+bs, :, :, :].to(device)\n",
    "            right = right_container[len_ix:len_ix+bptt, width_ix:width_ix+bs, :, :, :].to(device)\n",
    "            aux = aux_container[len_ix:len_ix+bptt, width_ix:width_ix+bs, :].to(device);\n",
    "            control = control_container[len_ix:len_ix+bptt, width_ix:width_ix+bs, :].to(device)\n",
    "\n",
    "            h = hiddens.pop(0)\n",
    "            # Casts operations to mixed precision \n",
    "            with torch.cuda.amp.autocast():\n",
    "                pred, h = m(front, left, right, aux, h); #print(pred.shape)\n",
    "            h = (h[0].detach(), h[1].detach())\n",
    "            new_hiddens.append(h)\n",
    "\n",
    "            loss = loss_fn(control, pred); \n",
    "            chunk_loss.append(loss.item())\n",
    "\n",
    "            # Scales the loss, and calls backward() to create scaled gradients \n",
    "            scaler.scale(loss).backward() \n",
    "            #loss.backward()\n",
    "\n",
    "            # Increment across the width dimension\n",
    "            width_ix += bs\n",
    "\n",
    "        scaler.step(opt)\n",
    "        scaler.update() \n",
    "        opt.zero_grad()\n",
    "\n",
    "        # Increment forward along the time dimension\n",
    "        len_ix += bptt\n",
    "\n",
    "        # Hiddens output from this step will be carried forward next step\n",
    "        hiddens = new_hiddens\n",
    "\n",
    "    # Save and report at end of each chunk\n",
    "    chunk_loss = np.round(np.array(chunk_loss).mean(), 4)\n",
    "    epoch_loss.append(chunk_loss)\n",
    "    \n",
    "    \n",
    "    #Compute the smoothed loss\n",
    "    avg_loss = beta * avg_loss + (1-beta) * chunk_loss\n",
    "    smoothed_loss = avg_loss / (1 - beta**ix)\n",
    "\n",
    "    #Stop if the loss is exploding\n",
    "    if ix > 1 and smoothed_loss > 4 * best_loss:\n",
    "        print(\"Loss exploding, abort!\", smoothed_loss)\n",
    "        break\n",
    "\n",
    "    #Record the best loss\n",
    "    if smoothed_loss < best_loss:\n",
    "        best_loss = smoothed_loss\n",
    "\n",
    "    #Store the values. This is the payload\n",
    "    epoch_smooth_losses.append(smoothed_loss)\n",
    "    lrs.append(lr)\n",
    "    \n",
    "    #wandb.log({\"Chunk Loss\": chunk_loss, \"Total Seconds\":total_seconds})\n",
    "    print(f'Chunk loss {chunk_loss}, smooth {smoothed_loss}. lr {lr}.\\n')\n",
    "    lr *= mult\n",
    "    opt.param_groups[0]['lr'] = lr\n",
    "    \n",
    "    ix+=1\n"
   ]
  },
  {
   "cell_type": "code",
   "execution_count": 13,
   "metadata": {
    "scrolled": true
   },
   "outputs": [
    {
     "data": {
      "text/plain": [
       "[inf,\n",
       " 0.118928,\n",
       " 0.0843178989898989,\n",
       " 0.07013006774588487,\n",
       " 0.06484098333261194,\n",
       " 0.059836573942878,\n",
       " 0.05683430846597407,\n",
       " 0.05387174733539219,\n",
       " 0.05195911849738004,\n",
       " 0.050400147783551216,\n",
       " 0.049252133909299445,\n",
       " 0.04786183654326408,\n",
       " 0.047744610852058056,\n",
       " 0.04664973323066841,\n",
       " 0.04521688111806984,\n",
       " 0.044381717315433125,\n",
       " 0.043405496746627276,\n",
       " 0.04344640130597878,\n",
       " 0.04293165479054709,\n",
       " 0.041881882695730295,\n",
       " 0.04130534163087237,\n",
       " 0.04116041704673496,\n",
       " 0.040995412850347364,\n",
       " 0.04076426088271368,\n",
       " 0.04059954984976112,\n",
       " 0.04005485430004422,\n",
       " 0.04001301167890622,\n",
       " 0.03993152360237573,\n",
       " 0.039531938064640296,\n",
       " 0.03930946971567402,\n",
       " 0.03875021641561602,\n",
       " 0.03883829857570855,\n",
       " 0.038689667057883396,\n",
       " 0.03867776116726992,\n",
       " 0.03871085839695625,\n",
       " 0.03874199282561737,\n",
       " 0.03887582003227129,\n",
       " 0.03853862558237848,\n",
       " 0.038447618865944486,\n",
       " 0.038207429034768335,\n",
       " 0.038160254941765635,\n",
       " 0.03795570537479687,\n",
       " 0.03758659207110455,\n",
       " 0.0375973897401341,\n",
       " 0.03753974364263214,\n",
       " 0.037401087130171935,\n",
       " 0.037278773471174184,\n",
       " 0.037100042854249,\n",
       " 0.036938962781772236,\n",
       " 0.036829511089734285,\n",
       " 0.03679398239428331,\n",
       " 0.03652983058984226,\n",
       " 0.036445868281569184,\n",
       " 0.03638056953676298,\n",
       " 0.03604686844339341,\n",
       " 0.03583975255203355,\n",
       " 0.035729338154660804,\n",
       " 0.03534535798018385,\n",
       " 0.03516437977268267,\n",
       " 0.03557322941931463,\n",
       " 0.035551214104952544,\n",
       " 0.03532108316094606,\n",
       " 0.0362557657877256,\n",
       " 0.036570907319369454,\n",
       " 0.03653587421266394,\n",
       " 0.03654310028521121,\n",
       " 0.03665328002707968,\n",
       " 0.03709947176824391,\n",
       " 0.03899811978245172,\n",
       " 0.04007009842154397,\n",
       " 0.041365682102068445,\n",
       " 0.042490326342903374,\n",
       " 0.04370126871780051,\n",
       " 0.04453373171200603,\n",
       " 0.04559247977187328,\n",
       " 0.04675642233491796,\n",
       " 0.047909666000269094,\n",
       " 0.04948368700212822,\n",
       " 0.05127440479784147]"
      ]
     },
     "execution_count": 13,
     "metadata": {},
     "output_type": "execute_result"
    }
   ],
   "source": [
    "epoch_smooth_losses"
   ]
  },
  {
   "cell_type": "code",
   "execution_count": 14,
   "metadata": {},
   "outputs": [
    {
     "data": {
      "text/plain": [
       "[<matplotlib.lines.Line2D at 0x7f56bdef9510>]"
      ]
     },
     "execution_count": 14,
     "metadata": {},
     "output_type": "execute_result"
    },
    {
     "data": {
      "image/png": "[encoded data removed]",
      "text/plain": [
       "<Figure size 432x288 with 1 Axes>"
      ]
     },
     "metadata": {
      "needs_background": "light"
     },
     "output_type": "display_data"
    }
   ],
   "source": [
    "start_ix = 5\n",
    "plt.plot(lrs, epoch_smooth_losses)"
   ]
  },
  {
   "cell_type": "code",
   "execution_count": 16,
   "metadata": {},
   "outputs": [
    {
     "data": {
      "text/plain": [
       "[<matplotlib.lines.Line2D at 0x7f56bde33f10>]"
      ]
     },
     "execution_count": 16,
     "metadata": {},
     "output_type": "execute_result"
    },
    {
     "data": {
      "image/png": "[encoded data removed]",
      "text/plain": [
       "<Figure size 432x288 with 1 Axes>"
      ]
     },
     "metadata": {
      "needs_background": "light"
     },
     "output_type": "display_data"
    }
   ],
   "source": [
    "plt.plot([10**lr for lr in lrs], epoch_smooth_losses)"
   ]
  },
  {
   "cell_type": "code",
   "execution_count": 18,
   "metadata": {},
   "outputs": [
    {
     "data": {
      "text/plain": [
       "[<matplotlib.lines.Line2D at 0x7f56bddeed10>]"
      ]
     },
     "execution_count": 18,
     "metadata": {},
     "output_type": "execute_result"
    },
    {
     "data": {
      "image/png": "[encoded data removed]",
      "text/plain": [
       "<Figure size 432x288 with 1 Axes>"
      ]
     },
     "metadata": {
      "needs_background": "light"
     },
     "output_type": "display_data"
    }
   ],
   "source": [
    "plt.plot(lrs, epoch_loss)"
   ]
  },
  {
   "cell_type": "code",
   "execution_count": 2,
   "metadata": {},
   "outputs": [
    {
     "ename": "NameError",
     "evalue": "name 'ix' is not defined",
     "output_type": "error",
     "traceback": [
      "\u001b[0;31m---------------------------------------------------------------------------\u001b[0m",
      "\u001b[0;31mNameError\u001b[0m                                 Traceback (most recent call last)",
      "\u001b[0;32m<ipython-input-2-d2ed5e7256cc>\u001b[0m in \u001b[0;36m<module>\u001b[0;34m\u001b[0m\n\u001b[0;32m----> 1\u001b[0;31m \u001b[0mix\u001b[0m\u001b[0;34m\u001b[0m\u001b[0;34m\u001b[0m\u001b[0m\n\u001b[0m",
      "\u001b[0;31mNameError\u001b[0m: name 'ix' is not defined"
     ]
    }
   ],
   "source": [
    "ix"
   ]
  },
  {
   "cell_type": "code",
   "execution_count": null,
   "metadata": {},
   "outputs": [],
   "source": [
    "def find_lr(init_value = 1e-8, final_value=10., beta = 0.98):\n",
    "    num = 300 #len(trn_loader)-1\n",
    "    mult = (final_value / init_value) ** (1/num)\n",
    "    lr = init_value\n",
    "    opt.param_groups[0]['lr'] = lr\n",
    "    \n",
    "    \n",
    "    avg_loss = 0.\n",
    "    best_loss = 0.\n",
    "    batch_num = 0\n",
    "    losses = []\n",
    "    log_lrs = []\n",
    "    for data in trn_loader:\n",
    "        batch_num += 1\n",
    "        #As before, get the loss for this mini-batch of inputs/outputs\n",
    "        inputs,labels = data\n",
    "        inputs, labels = Variable(inputs), Variable(labels)\n",
    "        optimizer.zero_grad()\n",
    "        outputs = net(inputs)\n",
    "        loss = criterion(outputs, labels)\n",
    "        \n",
    "        #Compute the smoothed loss\n",
    "        avg_loss = beta * avg_loss + (1-beta) *loss.data[0]\n",
    "        smoothed_loss = avg_loss / (1 - beta**batch_num)\n",
    "        \n",
    "        #Stop if the loss is exploding\n",
    "        if batch_num > 1 and smoothed_loss > 4 * best_loss:\n",
    "            return log_lrs, losses\n",
    "        \n",
    "        #Record the best loss\n",
    "        if smoothed_loss < best_loss or batch_num==1:\n",
    "            best_loss = smoothed_loss\n",
    "            \n",
    "        #Store the values\n",
    "        losses.append(smoothed_loss)\n",
    "        log_lrs.append(math.log10(lr))\n",
    "        \n",
    "        #Do the SGD step\n",
    "        loss.backward()\n",
    "        optimizer.step()\n",
    "        #Update the lr for the next step\n",
    "        lr *= mult\n",
    "        optimizer.param_groups[0]['lr'] = lr\n",
    "    return log_lrs, losses"
   ]
  }
 ],
 "metadata": {
  "kernelspec": {
   "display_name": "Python 3 (ipykernel)",
   "language": "python",
   "name": "python3"
  },
  "language_info": {
   "codemirror_mode": {
    "name": "ipython",
    "version": 3
   },
   "file_extension": ".py",
   "mimetype": "text/x-python",
   "name": "python",
   "nbconvert_exporter": "python",
   "pygments_lexer": "ipython3",
   "version": "3.8.11"
  }
 },
 "nbformat": 4,
 "nbformat_minor": 4
}
