{
 "cells": [
  {
   "cell_type": "code",
   "execution_count": 1,
   "id": "fd599510",
   "metadata": {},
   "outputs": [
    {
     "name": "stderr",
     "output_type": "stream",
     "text": [
      "/home/beans/miniconda3/envs/py38/lib/python3.8/site-packages/albumentations/augmentations/transforms.py:689: FutureWarning: This class has been deprecated. Please use CoarseDropout\n",
      "  warnings.warn(\n",
      "/home/beans/miniconda3/envs/py38/lib/python3.8/site-packages/albumentations/augmentations/transforms.py:965: FutureWarning: This class has been deprecated. Please use ImageCompression\n",
      "  warnings.warn(\n"
     ]
    }
   ],
   "source": [
    "%matplotlib inline\n",
    "%load_ext autoreload\n",
    "%autoreload \n",
    "\n",
    "import sys\n",
    "sys.path.append(f'/media/beans/ssd/bespoke')\n",
    "from constants import *\n",
    "\n",
    "import matplotlib.pyplot as plt\n",
    "from viz_utils import draw_wps\n",
    "from blender_dataloader import *\n",
    "from constants import *\n",
    "from imports import *\n",
    "from train_utils import get_torque"
   ]
  },
  {
   "cell_type": "code",
   "execution_count": 3,
   "id": "70db370b",
   "metadata": {
    "scrolled": true
   },
   "outputs": [
    {
     "name": "stdout",
     "output_type": "stream",
     "text": [
      "0.0\n",
      "0.0\n",
      "24.897259\n",
      "68.22242\n",
      "85.80776\n",
      "116.52924\n",
      "116.52924\n",
      "116.52924\n",
      "116.52924\n",
      "106.88778\n",
      "110.47191\n",
      "112.38735\n",
      "114.259445\n",
      "114.259445\n",
      "116.86535\n",
      "125.87474\n",
      "128.08057\n",
      "127.07269\n",
      "127.07269\n",
      "128.00423\n",
      "127.52533\n",
      "125.1436\n",
      "123.278725\n",
      "121.2175\n",
      "120.97829\n",
      "123.32096\n",
      "130.82695\n",
      "132.53001\n",
      "127.70237\n",
      "128.03041\n",
      "127.58003\n",
      "130.85439\n",
      "128.29613\n",
      "132.54825\n",
      "129.04562\n",
      "128.32724\n",
      "125.07385\n",
      "125.3332\n",
      "125.3332\n",
      "126.12595\n",
      "133.40863\n",
      "133.73454\n",
      "132.05692\n",
      "131.77176\n",
      "129.77321\n",
      "127.61454\n",
      "127.61454\n",
      "117.61778\n",
      "115.4584\n",
      "111.3281\n",
      "107.36957\n",
      "103.17955\n",
      "105.202194\n",
      "109.92473\n",
      "115.151535\n",
      "115.35633\n",
      "122.41299\n",
      "122.88022\n",
      "129.48036\n",
      "125.923615\n",
      "125.923615\n",
      "125.32425\n",
      "124.541626\n",
      "116.69061\n",
      "116.69061\n",
      "116.69061\n",
      "126.0295\n",
      "122.649826\n",
      "124.36479\n",
      "125.304016\n",
      "124.831604\n",
      "122.398895\n",
      "117.523575\n",
      "108.01819\n",
      "109.40002\n",
      "116.19344\n",
      "116.19344\n",
      "124.01234\n",
      "127.5529\n",
      "132.86464\n",
      "129.869\n",
      "127.8954\n",
      "123.90793\n",
      "118.67347\n",
      "118.67347\n",
      "115.1065\n",
      "122.985466\n",
      "121.17042\n",
      "115.60749\n",
      "113.61227\n",
      "111.89536\n",
      "113.216736\n",
      "113.216736\n",
      "115.72348\n",
      "121.52076\n",
      "118.04653\n",
      "120.41845\n",
      "119.75008\n",
      "115.43232\n",
      "107.46906\n",
      "103.48469\n",
      "110.4315\n",
      "110.77478\n",
      "126.63156\n",
      "130.89114\n",
      "130.89114\n",
      "135.53537\n",
      "135.74786\n",
      "129.48596\n",
      "126.21618\n",
      "128.10101\n",
      "134.18018\n",
      "130.03227\n",
      "126.74573\n",
      "126.577545\n",
      "125.22888\n",
      "116.55397\n",
      "113.175354\n",
      "110.03028\n",
      "110.03028\n",
      "117.3241\n",
      "117.3241\n",
      "119.12344\n",
      "122.54936\n",
      "120.31127\n",
      "122.69288\n",
      "119.85437\n",
      "115.58514\n",
      "111.594894\n",
      "111.594894\n",
      "112.106125\n",
      "109.85331\n",
      "109.85331\n",
      "108.874695\n",
      "114.682495\n",
      "115.521935\n",
      "117.94938\n",
      "118.91688\n",
      "121.21058\n",
      "126.642006\n",
      "125.42964\n",
      "126.258255\n",
      "128.06259\n",
      "126.438255\n",
      "124.174\n",
      "117.17687\n",
      "123.2533\n",
      "123.2533\n",
      "124.96673\n",
      "121.13736\n",
      "122.226974\n",
      "123.10367\n",
      "123.10367\n",
      "116.65315\n",
      "115.20346\n",
      "106.91348\n",
      "108.12969\n",
      "107.80279\n",
      "106.95163\n",
      "109.586174\n",
      "106.96177\n",
      "111.644745\n",
      "115.50634\n",
      "121.01983\n",
      "121.01983\n",
      "122.89972\n",
      "126.10456\n",
      "122.80453\n",
      "121.74587\n",
      "119.6732\n",
      "120.265\n",
      "125.14158\n",
      "125.0742\n",
      "125.0742\n",
      "125.75368\n",
      "122.74634\n",
      "122.74634\n",
      "123.48963\n",
      "110.6226\n"
     ]
    },
    {
     "ename": "KeyboardInterrupt",
     "evalue": "",
     "output_type": "error",
     "traceback": [
      "\u001b[0;31m---------------------------------------------------------------------------\u001b[0m",
      "\u001b[0;31mKeyboardInterrupt\u001b[0m                         Traceback (most recent call last)",
      "\u001b[0;32m/tmp/ipykernel_57926/240389823.py\u001b[0m in \u001b[0;36m<module>\u001b[0;34m\u001b[0m\n\u001b[1;32m      1\u001b[0m \u001b[0;32mfor\u001b[0m \u001b[0mi\u001b[0m \u001b[0;32min\u001b[0m \u001b[0mrange\u001b[0m\u001b[0;34m(\u001b[0m\u001b[0;36m200\u001b[0m\u001b[0;34m)\u001b[0m\u001b[0;34m:\u001b[0m\u001b[0;34m\u001b[0m\u001b[0;34m\u001b[0m\u001b[0m\n\u001b[1;32m      2\u001b[0m     \u001b[0mprint\u001b[0m\u001b[0;34m(\u001b[0m\u001b[0mget_obs_per_sec\u001b[0m\u001b[0;34m(\u001b[0m\u001b[0;34m)\u001b[0m\u001b[0;34m)\u001b[0m\u001b[0;34m\u001b[0m\u001b[0;34m\u001b[0m\u001b[0m\n\u001b[0;32m----> 3\u001b[0;31m     \u001b[0mtime\u001b[0m\u001b[0;34m.\u001b[0m\u001b[0msleep\u001b[0m\u001b[0;34m(\u001b[0m\u001b[0;36m20\u001b[0m\u001b[0;34m)\u001b[0m\u001b[0;34m\u001b[0m\u001b[0;34m\u001b[0m\u001b[0m\n\u001b[0m",
      "\u001b[0;31mKeyboardInterrupt\u001b[0m: "
     ]
    }
   ],
   "source": [
    "for i in range(200):\n",
    "    print(get_obs_per_sec())\n",
    "    time.sleep(20)"
   ]
  },
  {
   "cell_type": "code",
   "execution_count": 2,
   "id": "8f50189b",
   "metadata": {},
   "outputs": [
    {
     "data": {
      "text/plain": [
       "93.95235"
      ]
     },
     "execution_count": 2,
     "metadata": {},
     "output_type": "execute_result"
    }
   ],
   "source": [
    "get_obs_per_sec()"
   ]
  },
  {
   "cell_type": "code",
   "execution_count": null,
   "id": "361509b6",
   "metadata": {},
   "outputs": [],
   "source": []
  },
  {
   "cell_type": "code",
   "execution_count": 3,
   "id": "9e2059d1",
   "metadata": {},
   "outputs": [],
   "source": [
    "set_should_stop(True)"
   ]
  },
  {
   "cell_type": "code",
   "execution_count": null,
   "id": "f7396905",
   "metadata": {},
   "outputs": [],
   "source": []
  },
  {
   "cell_type": "code",
   "execution_count": 40,
   "id": "a5d53105",
   "metadata": {
    "scrolled": true
   },
   "outputs": [],
   "source": [
    "dataloader = BlenderDataloader(\"trn\", 32)"
   ]
  },
  {
   "cell_type": "code",
   "execution_count": 41,
   "id": "baa5ab28",
   "metadata": {},
   "outputs": [
    {
     "data": {
      "text/plain": [
       "128.71861"
      ]
     },
     "execution_count": 41,
     "metadata": {},
     "output_type": "execute_result"
    }
   ],
   "source": [
    "dataloader.get_obs_per_second()"
   ]
  },
  {
   "cell_type": "code",
   "execution_count": 42,
   "id": "f0592dc3",
   "metadata": {},
   "outputs": [
    {
     "data": {
      "text/plain": [
       "<matplotlib.image.AxesImage at 0x7fef92b604f0>"
      ]
     },
     "execution_count": 42,
     "metadata": {},
     "output_type": "execute_result"
    },
    {
     "data": {
      "image/png": "[encoded data removed]",
      "text/plain": [
       "<Figure size 432x288 with 1 Axes>"
      ]
     },
     "metadata": {
      "needs_background": "light"
     },
     "output_type": "display_data"
    }
   ],
   "source": [
    "ix = 1\n",
    "plt.imshow(dataloader.img_chunk[ix][0])"
   ]
  },
  {
   "cell_type": "code",
   "execution_count": 43,
   "id": "277596ee",
   "metadata": {},
   "outputs": [
    {
     "data": {
      "text/plain": [
       "(array([  67.,  110.,  715., 1400.,  852.,  326.,  138.,   95.,    2.,\n",
       "           7.]),\n",
       " array([15.670138, 22.04452 , 28.4189  , 34.79328 , 41.167664, 47.54204 ,\n",
       "        53.916424, 60.290806, 66.665184, 73.039566, 79.41395 ],\n",
       "       dtype=float32),\n",
       " <BarContainer object of 10 artists>)"
      ]
     },
     "execution_count": 43,
     "metadata": {},
     "output_type": "execute_result"
    },
    {
     "data": {
      "image/png": "[encoded data removed]",
      "text/plain": [
       "<Figure size 432x288 with 1 Axes>"
      ]
     },
     "metadata": {
      "needs_background": "light"
     },
     "output_type": "display_data"
    }
   ],
   "source": [
    "plt.hist(dataloader.aux_chunk[:,:,2].flatten())"
   ]
  },
  {
   "cell_type": "code",
   "execution_count": 44,
   "id": "e235d372",
   "metadata": {},
   "outputs": [
    {
     "data": {
      "text/plain": [
       "(array([  35.,   22.,  609., 1397., 1464.,  108.,   15.,   10.,   12.,\n",
       "          40.]),\n",
       " array([-0.3510493 , -0.25597796, -0.1609066 , -0.06583525,  0.0292361 ,\n",
       "         0.12430745,  0.2193788 ,  0.31445014,  0.40952152,  0.50459284,\n",
       "         0.5996642 ], dtype=float32),\n",
       " <BarContainer object of 10 artists>)"
      ]
     },
     "execution_count": 44,
     "metadata": {},
     "output_type": "execute_result"
    },
    {
     "data": {
      "image/png": "[encoded data removed]",
      "text/plain": [
       "<Figure size 432x288 with 1 Axes>"
      ]
     },
     "metadata": {
      "needs_background": "light"
     },
     "output_type": "display_data"
    }
   ],
   "source": [
    "plt.hist(dataloader.targets_chunk[:,:,14].flatten())"
   ]
  },
  {
   "cell_type": "code",
   "execution_count": 45,
   "id": "2a9f8450",
   "metadata": {},
   "outputs": [
    {
     "name": "stdout",
     "output_type": "stream",
     "text": [
      "CPU times: user 423 µs, sys: 60 µs, total: 483 µs\n",
      "Wall time: 560 µs\n"
     ]
    },
    {
     "data": {
      "text/plain": [
       "True"
      ]
     },
     "execution_count": 45,
     "metadata": {},
     "output_type": "execute_result"
    }
   ],
   "source": [
    "%%time\n",
    "batch, is_first_in_seq = dataloader.get_batch()\n",
    "\n",
    "(img, \n",
    "                                    aux, \n",
    "                                    targets,\n",
    "                                     to_pred_mask,\n",
    "                                    current_tire_angles_rad, # Extras\n",
    "                                    current_speeds_mps, \n",
    "                                    pitch, \n",
    "                                    yaw) = batch\n",
    "\n",
    "is_first_in_seq"
   ]
  },
  {
   "cell_type": "code",
   "execution_count": 46,
   "id": "51b462ee",
   "metadata": {},
   "outputs": [
    {
     "data": {
      "text/plain": [
       "(array([1300., 1300., 1137.,  275.,  173.,    3.,   13.,   21.,   32.,\n",
       "          66.]),\n",
       " array([-1.313, -0.523,  0.268,  1.059,  1.85 ,  2.64 ,  3.432,  4.223,\n",
       "         5.01 ,  5.805,  6.594], dtype=float16),\n",
       " <BarContainer object of 10 artists>)"
      ]
     },
     "execution_count": 46,
     "metadata": {},
     "output_type": "execute_result"
    },
    {
     "data": {
      "image/png": "[encoded data removed]",
      "text/plain": [
       "<Figure size 432x288 with 1 Axes>"
      ]
     },
     "metadata": {
      "needs_background": "light"
     },
     "output_type": "display_data"
    }
   ],
   "source": [
    "plt.hist(targets.flatten().detach().cpu().numpy())"
   ]
  },
  {
   "cell_type": "code",
   "execution_count": 47,
   "id": "a0c5b3ff",
   "metadata": {
    "scrolled": true
   },
   "outputs": [
    {
     "data": {
      "text/plain": [
       "tensor(0.9609, device='cuda:0', dtype=torch.float16)"
      ]
     },
     "execution_count": 47,
     "metadata": {},
     "output_type": "execute_result"
    }
   ],
   "source": [
    "to_pred_mask.sum() / to_pred_mask.numel()"
   ]
  },
  {
   "cell_type": "code",
   "execution_count": 48,
   "id": "5aec0c1b",
   "metadata": {
    "scrolled": true
   },
   "outputs": [
    {
     "data": {
      "text/plain": [
       "(array([19., 25., 30., 64.,  6.,  7.,  4., 35., 52., 46.]),\n",
       " array([-3904. , -3194. , -2482. , -1772. , -1061. ,  -350. ,   360.8,\n",
       "         1072. ,  1782. ,  2494. ,  3204. ], dtype=float16),\n",
       " <BarContainer object of 10 artists>)"
      ]
     },
     "execution_count": 48,
     "metadata": {},
     "output_type": "execute_result"
    },
    {
     "data": {
      "image/png": "[encoded data removed]",
      "text/plain": [
       "<Figure size 432x288 with 1 Axes>"
      ]
     },
     "metadata": {
      "needs_background": "light"
     },
     "output_type": "display_data"
    }
   ],
   "source": [
    "t = get_torque(targets, aux)\n",
    "plt.hist(t.cpu().numpy().flatten())"
   ]
  },
  {
   "cell_type": "code",
   "execution_count": 49,
   "id": "6f0f3156",
   "metadata": {},
   "outputs": [
    {
     "data": {
      "text/plain": [
       "tensor(3904., device='cuda:0', dtype=torch.float16)"
      ]
     },
     "execution_count": 49,
     "metadata": {},
     "output_type": "execute_result"
    }
   ],
   "source": [
    "abs(t).max()"
   ]
  },
  {
   "cell_type": "code",
   "execution_count": 50,
   "id": "05d2a0b7",
   "metadata": {},
   "outputs": [
    {
     "data": {
      "text/plain": [
       "(array([161.,  60.,  19.,   8.,   4.,   2.,   1.,   0.,   0.,   1.]),\n",
       " array([  0. ,  62.6, 125.2, 187.8, 250.4, 313. , 375.5, 438.2, 500.8,\n",
       "        563.5, 626. ], dtype=float16),\n",
       " <BarContainer object of 10 artists>)"
      ]
     },
     "execution_count": 50,
     "metadata": {},
     "output_type": "execute_result"
    },
    {
     "data": {
      "image/png": "[encoded data removed]",
      "text/plain": [
       "<Figure size 432x288 with 1 Axes>"
      ]
     },
     "metadata": {
      "needs_background": "light"
     },
     "output_type": "display_data"
    }
   ],
   "source": [
    "td = abs(t[:,1:,:] - t[:,:-1,:])\n",
    "plt.hist(td.cpu().numpy().flatten())"
   ]
  },
  {
   "cell_type": "code",
   "execution_count": 51,
   "id": "a70bddb5",
   "metadata": {},
   "outputs": [
    {
     "data": {
      "text/plain": [
       "tensor(626., device='cuda:0', dtype=torch.float16)"
      ]
     },
     "execution_count": 51,
     "metadata": {},
     "output_type": "execute_result"
    }
   ],
   "source": [
    "abs(td).max()"
   ]
  },
  {
   "cell_type": "code",
   "execution_count": null,
   "id": "f662ee37",
   "metadata": {},
   "outputs": [],
   "source": []
  },
  {
   "cell_type": "code",
   "execution_count": 67,
   "id": "4e507524",
   "metadata": {},
   "outputs": [
    {
     "data": {
      "text/plain": [
       "<matplotlib.image.AxesImage at 0x7fe040363100>"
      ]
     },
     "execution_count": 67,
     "metadata": {},
     "output_type": "execute_result"
    },
    {
     "data": {
      "image/png": "[encoded data removed]",
      "text/plain": [
       "<Figure size 432x288 with 1 Axes>"
      ]
     },
     "metadata": {
      "needs_background": "light"
     },
     "output_type": "display_data"
    }
   ],
   "source": [
    "\n",
    "traj = dataloader.targets_chunk[ix][0]\n",
    "img = dataloader.img_chunk[ix][0]\n",
    "\n",
    "plt.imshow(draw_wps(img, traj))"
   ]
  },
  {
   "cell_type": "code",
   "execution_count": null,
   "id": "26b46141",
   "metadata": {},
   "outputs": [],
   "source": []
  },
  {
   "cell_type": "code",
   "execution_count": null,
   "id": "b2ce9259",
   "metadata": {},
   "outputs": [],
   "source": []
  },
  {
   "cell_type": "code",
   "execution_count": null,
   "id": "e6a6566f",
   "metadata": {},
   "outputs": [],
   "source": []
  },
  {
   "cell_type": "code",
   "execution_count": null,
   "id": "12b8ffaa",
   "metadata": {},
   "outputs": [],
   "source": []
  },
  {
   "cell_type": "code",
   "execution_count": 8,
   "id": "13052d52",
   "metadata": {},
   "outputs": [],
   "source": [
    "import subprocess"
   ]
  },
  {
   "cell_type": "code",
   "execution_count": 9,
   "id": "ee0b34b0",
   "metadata": {},
   "outputs": [
    {
     "data": {
      "text/plain": [
       "CompletedProcess(args='cp -R /media/beans/beans_data/blender_membank /dev/shm/blender_membank', returncode=0)"
      ]
     },
     "execution_count": 9,
     "metadata": {},
     "output_type": "execute_result"
    }
   ],
   "source": [
    "# Load up membank from ssd to shm\n",
    "subprocess.run(\"cp -R /media/beans/beans_data/blender_membank /dev/shm/blender_membank\", shell=True)"
   ]
  },
  {
   "cell_type": "code",
   "execution_count": null,
   "id": "05f59d3e",
   "metadata": {},
   "outputs": [],
   "source": [
    "# save membank to ssd\n",
    "subprocess.run(\"cp -R /dev/shm/blender_membank /media/beans/beans_data/blender_membank\", shell=True)"
   ]
  }
 ],
 "metadata": {
  "kernelspec": {
   "display_name": "Python 3 (ipykernel)",
   "language": "python",
   "name": "python3"
  },
  "language_info": {
   "codemirror_mode": {
    "name": "ipython",
    "version": 3
   },
   "file_extension": ".py",
   "mimetype": "text/x-python",
   "name": "python",
   "nbconvert_exporter": "python",
   "pygments_lexer": "ipython3",
   "version": "3.8.11"
  }
 },
 "nbformat": 4,
 "nbformat_minor": 5
}
