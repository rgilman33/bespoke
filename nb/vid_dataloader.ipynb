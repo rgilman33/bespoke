{
 "cells": [
  {
   "cell_type": "code",
   "execution_count": 1,
   "id": "fd599510",
   "metadata": {
    "scrolled": true
   },
   "outputs": [
    {
     "name": "stderr",
     "output_type": "stream",
     "text": [
      "/home/beans/miniconda3/envs/py38/lib/python3.8/site-packages/albumentations/augmentations/transforms.py:689: FutureWarning: This class has been deprecated. Please use CoarseDropout\n",
      "  warnings.warn(\n",
      "/home/beans/miniconda3/envs/py38/lib/python3.8/site-packages/albumentations/augmentations/transforms.py:965: FutureWarning: This class has been deprecated. Please use ImageCompression\n",
      "  warnings.warn(\n"
     ]
    }
   ],
   "source": [
    "%matplotlib inline\n",
    "%load_ext autoreload\n",
    "%autoreload \n",
    "\n",
    "import sys\n",
    "sys.path.append(f'/home/beans/bespoke')\n",
    "from constants import *\n",
    "\n",
    "import matplotlib.pyplot as plt\n",
    "from viz_utils import draw_wps\n",
    "from blender_dataloader import *\n",
    "from constants import *\n",
    "from imports import *\n",
    "from train_utils import get_torque\n",
    "from models import EffNet\n",
    "from input_prep import *"
   ]
  },
  {
   "cell_type": "code",
   "execution_count": 2,
   "id": "49891a1e",
   "metadata": {},
   "outputs": [],
   "source": [
    "m = EffNet(model_arch=\"efficientnet_b3\").to(device) "
   ]
  },
  {
   "cell_type": "code",
   "execution_count": 3,
   "id": "a5d53105",
   "metadata": {
    "scrolled": true
   },
   "outputs": [
    {
     "data": {
      "text/plain": [
       "14029.957"
      ]
     },
     "execution_count": 3,
     "metadata": {},
     "output_type": "execute_result"
    }
   ],
   "source": [
    "model_stem = \"9.24_avg\"\n",
    "m.load_state_dict(torch.load(f\"{BESPOKE_ROOT}/models/m_{model_stem}.torch\"), strict=False)\n",
    "sum([torch.numel(p) for p in m.parameters()]) / 1000"
   ]
  },
  {
   "cell_type": "code",
   "execution_count": 4,
   "id": "a8895818",
   "metadata": {
    "scrolled": true
   },
   "outputs": [
    {
     "data": {
      "text/plain": [
       "Parameter containing:\n",
       "tensor([[[ 9.6659e-03,  9.6321e-03,  4.0258e-03, -5.2424e-02,  2.3730e-03,\n",
       "           6.4334e-03,  3.4905e-02, -3.8278e-03, -1.1348e-02, -9.0643e-02,\n",
       "           1.3553e-01, -8.3839e-03, -7.6965e-03, -5.5418e-02, -2.7337e-02,\n",
       "          -3.5724e-03, -1.2482e-02, -2.2409e-03, -6.1865e-03,  4.8785e-02,\n",
       "           2.2175e-02,  9.0272e-02, -7.6350e-02,  1.4671e-01,  2.9994e-02,\n",
       "           6.1666e-02,  3.1115e-02, -3.6699e-02,  3.3307e-02, -4.3357e-02,\n",
       "          -7.3239e-02, -3.4101e-02, -7.6386e-02, -1.5469e-02, -5.0097e-02,\n",
       "           6.6435e-03, -1.8902e-03, -1.4427e-03, -2.1088e-02, -9.9983e-03,\n",
       "           8.8366e-02,  4.8942e-03,  2.8844e-02, -4.8202e-02,  4.8967e-03,\n",
       "          -1.4501e-02,  1.2024e-02,  7.6186e-03, -1.2424e-01,  1.5267e-03,\n",
       "          -2.2117e-02,  1.1172e-03,  2.6725e-02,  2.6995e-02,  1.2359e-01,\n",
       "           4.0177e-02, -3.3801e-03, -4.3741e-02, -1.1496e-01, -4.5135e-03,\n",
       "           6.8559e-02, -2.0977e-02, -1.9702e-02, -2.7213e-02, -1.6996e-02,\n",
       "           1.3357e-03,  2.8468e-03, -6.5769e-03, -8.8739e-03,  1.2677e-01,\n",
       "           1.6867e-02, -3.4174e-02, -1.0764e-02, -3.7199e-03,  4.1305e-02,\n",
       "           3.2627e-02, -8.8292e-03, -1.9574e-02, -3.5536e-02,  9.5236e-03,\n",
       "          -3.2436e-03, -4.5746e-03, -6.4851e-02,  5.8304e-02, -3.8142e-03,\n",
       "          -6.3251e-04, -2.1521e-02,  6.6920e-02, -2.6237e-02, -8.3658e-03,\n",
       "           1.4717e-02,  3.3799e-02,  2.8643e-02,  1.0783e-01, -1.5154e-03,\n",
       "           1.8651e-02, -3.3672e-02,  1.1282e-03,  2.4007e-01, -1.5880e-02,\n",
       "          -6.6504e-02,  8.5063e-02,  8.2875e-03,  1.2561e-02, -3.6969e-02,\n",
       "          -4.9693e-03, -2.0005e-02,  1.3687e-02,  1.6407e-02,  4.5747e-03,\n",
       "          -4.0188e-02,  8.7405e-02,  1.2165e-02, -5.1622e-02, -4.5574e-03,\n",
       "           6.4904e-04, -1.1142e-02, -5.2714e-02, -1.3294e-01,  1.2810e-02,\n",
       "           5.9944e-03, -1.9667e-02,  6.7903e-03, -1.7834e-02,  1.5501e-02,\n",
       "           5.1541e-02,  8.3468e-03, -1.0539e-01,  1.1037e-02, -3.4895e-05,\n",
       "           1.0162e-03,  1.5437e-02, -3.9107e-03, -6.8684e-02,  4.6142e-03,\n",
       "           2.4099e-03, -4.2116e-03, -5.6001e-03,  2.2479e-02,  5.0856e-02,\n",
       "           2.7588e-02, -2.2452e-03, -1.1573e-02,  5.1551e-03,  4.1388e-02,\n",
       "           5.6077e-03, -9.2103e-03, -2.4219e-02, -5.5913e-03, -1.0865e-02,\n",
       "          -4.4734e-03, -2.6030e-02, -2.6003e-02, -2.3364e-02,  1.2698e-01,\n",
       "           1.5225e-02,  1.1422e-02, -1.0012e-02,  5.3527e-03,  2.3769e-02,\n",
       "           2.1173e-03,  7.3406e-03, -2.4911e-02,  2.3990e-02, -1.4326e-02,\n",
       "           2.2320e-02,  2.7863e-02, -4.1081e-03, -5.4463e-02,  2.4891e-04,\n",
       "           4.6028e-02, -1.5541e-02,  1.2163e-02, -1.9593e-03,  1.0047e-01,\n",
       "          -3.4322e-04, -6.0990e-02, -1.1791e-03, -7.1919e-02,  1.1404e-02,\n",
       "           1.8888e-01,  2.2091e-02, -8.9994e-04,  2.7151e-02,  3.7928e-02,\n",
       "          -2.9688e-02, -3.0159e-02, -5.2635e-03, -6.7163e-03,  7.2232e-03,\n",
       "           1.9509e-02, -5.6937e-03,  3.7938e-02,  2.5856e-03, -1.4230e-02,\n",
       "           4.8821e-02,  1.1376e-02, -2.4442e-02,  6.8469e-02, -1.2969e-02,\n",
       "          -8.7140e-03, -4.0157e-03,  1.1807e-01,  1.5867e-02,  8.4640e-03,\n",
       "           1.4557e-01,  1.5121e-03,  1.1637e-02,  6.7041e-02, -2.0966e-03,\n",
       "           2.3561e-02,  3.2996e-02,  7.1479e-02,  9.2271e-03, -6.1725e-03,\n",
       "          -1.0673e-02,  3.6433e-02, -1.3889e-02, -4.4868e-02,  1.5181e-02,\n",
       "           1.7908e-02, -5.6659e-02, -1.6020e-02, -5.9974e-03, -1.3732e-01,\n",
       "          -2.0781e-03,  9.1264e-02, -3.3634e-02,  2.6934e-02, -3.0049e-03,\n",
       "          -1.4792e-02, -2.1586e-02, -1.4957e-03, -1.8836e-02, -4.7151e-03,\n",
       "           1.0974e-02, -2.7722e-02,  1.4121e-03,  6.5678e-03, -7.2010e-03,\n",
       "           1.4297e-02, -5.1901e-03, -1.4273e-02,  7.5957e-03,  4.9221e-02,\n",
       "          -3.5357e-02,  5.3270e-02, -6.0428e-02,  4.2210e-02, -1.0161e-01,\n",
       "           1.4058e-02,  1.1287e-02,  8.4694e-03,  7.3741e-03,  2.4739e-02,\n",
       "          -8.1936e-03,  2.8293e-03,  2.2577e-02,  1.3460e-02, -1.8219e-03,\n",
       "           4.4054e-03,  1.2850e-02,  2.5855e-04,  8.7712e-04,  7.4811e-02,\n",
       "          -4.7675e-02,  8.7561e-03,  3.1786e-02, -9.4039e-03,  5.8958e-03,\n",
       "           4.1471e-03, -4.2799e-02,  4.9535e-02, -1.3732e-02,  2.6133e-02,\n",
       "          -1.5502e-02,  2.5107e-02,  9.1179e-02, -2.2222e-02,  6.2202e-02,\n",
       "           1.6006e-02, -1.8596e-02,  2.2768e-03,  1.1065e-01,  1.2841e-03,\n",
       "           2.1169e-02,  9.3630e-03,  3.0937e-04,  1.4581e-02,  3.5794e-02,\n",
       "          -5.3155e-02, -2.7562e-02,  8.0215e-03,  1.5190e-01,  1.5298e-02,\n",
       "          -2.2222e-02,  7.7598e-04, -9.6863e-03,  1.3074e-02,  1.0913e-02,\n",
       "          -1.1187e-03,  3.2859e-03,  2.1978e-02, -2.2930e-02,  6.3899e-03,\n",
       "           2.4560e-02,  1.4972e-01, -2.0815e-02, -7.8590e-03, -2.4350e-02,\n",
       "           6.7620e-03,  6.6411e-03, -2.4075e-02,  8.2065e-03,  4.3221e-02,\n",
       "          -3.9868e-02,  6.2799e-02, -6.8063e-02,  7.5499e-02,  1.7374e-02,\n",
       "          -7.9966e-03, -5.4232e-02, -1.4332e-02,  1.7676e-02,  7.8186e-02,\n",
       "           1.0097e-03, -1.2487e-01,  1.0625e-02,  1.8793e-02, -3.3263e-02,\n",
       "          -4.3159e-03, -1.4848e-04,  1.6773e-03, -7.6925e-03, -1.8150e-02,\n",
       "          -3.0507e-04,  5.6817e-02, -5.7010e-02, -1.3435e-01, -4.6083e-02,\n",
       "           2.4333e-02, -6.2699e-02,  1.4205e-02, -4.4604e-02, -3.7314e-03,\n",
       "          -1.9578e-03,  2.5961e-03,  3.6045e-02, -1.0184e-02,  1.7280e-02,\n",
       "           1.6057e-02,  7.5554e-03,  5.2286e-02,  3.3035e-02,  5.5833e-03,\n",
       "          -7.2536e-04, -4.7128e-03,  2.7378e-02,  7.2872e-03,  4.7146e-02,\n",
       "           8.0367e-03,  1.4883e-03,  2.8925e-03,  4.3370e-03,  1.9791e-02,\n",
       "          -7.1922e-02,  4.3554e-03,  1.0528e-02,  5.4064e-03, -1.1971e-03,\n",
       "           2.2114e-03,  4.6941e-03, -4.0285e-02, -3.7676e-02, -3.2344e-02,\n",
       "          -1.7820e-02,  2.8445e-02, -1.6232e-02,  1.2772e-03,  8.5906e-02,\n",
       "          -7.6789e-03, -1.1160e-02,  1.5670e-02, -2.3274e-02,  3.4721e-03,\n",
       "           3.3673e-02,  8.9311e-02, -5.5017e-03,  3.6678e-02,  2.6138e-02,\n",
       "           2.1075e-02, -2.9392e-02, -5.8019e-02, -1.7903e-02,  1.4128e-02,\n",
       "           9.0579e-03,  4.4238e-02, -8.8493e-03, -1.5568e-02, -1.3941e-03,\n",
       "           6.6798e-03, -9.3638e-02,  1.4937e-01, -3.4369e-03, -4.6315e-03,\n",
       "           1.8852e-02,  1.5680e-02,  1.1741e-02, -6.3807e-03,  6.5172e-03,\n",
       "          -2.3647e-03, -1.8503e-03, -5.3782e-02, -4.3782e-03, -8.2621e-03,\n",
       "           6.4290e-02,  1.1720e-03, -2.2490e-02,  7.2369e-03, -1.9555e-02,\n",
       "          -2.8292e-02,  7.3297e-02,  1.2504e-01, -7.6102e-02,  6.9912e-02,\n",
       "          -2.0434e-03,  1.0386e-01, -5.3708e-04, -1.4404e-03, -1.3874e-01,\n",
       "           1.1643e-02,  1.3713e-02,  8.0739e-03,  3.7480e-02, -6.9310e-03,\n",
       "          -3.1616e-02,  8.1293e-03,  2.4825e-02,  3.9822e-03, -1.2647e-02,\n",
       "          -8.5490e-03,  1.5586e-01,  8.2008e-03, -6.1225e-03,  8.4713e-02,\n",
       "           4.5117e-03, -2.1038e-02,  5.9609e-03, -5.6430e-03,  1.2978e-02,\n",
       "           2.2619e-02, -1.6507e-01, -4.2615e-02,  4.2057e-02, -3.2871e-03,\n",
       "          -8.9059e-03,  2.2434e-02, -1.3244e-01,  1.5934e-04,  1.3600e-04,\n",
       "           1.0559e-02,  4.1050e-03,  2.4409e-02,  3.4931e-02,  2.0874e-01,\n",
       "           8.5181e-02, -5.3113e-04, -5.9166e-03, -2.3392e-02,  5.3225e-02,\n",
       "          -3.5090e-02, -6.3182e-02,  4.2885e-02,  1.9477e-02,  5.8360e-03,\n",
       "          -2.2949e-03,  3.4209e-03,  9.6567e-03, -3.8036e-02,  1.1983e-02,\n",
       "          -1.4227e-03, -1.0079e-01,  9.1002e-04, -1.5720e-02,  1.4948e-02,\n",
       "           2.0905e-02, -3.6051e-02,  2.1524e-02, -2.8342e-02,  4.2886e-02,\n",
       "          -2.9537e-02, -1.0325e-03, -2.5042e-03, -1.9926e-01,  4.4555e-02,\n",
       "          -1.8779e-02,  7.2360e-03, -3.4722e-02,  3.1102e-02,  7.2078e-03,\n",
       "          -1.8899e-02,  1.5358e-02,  4.7662e-03,  2.7153e-02, -1.7054e-01,\n",
       "          -8.1847e-03, -2.8770e-02,  8.3538e-03, -4.1768e-03, -3.5879e-02,\n",
       "           4.6856e-02, -4.1921e-03]]], device='cuda:0', requires_grad=True)"
      ]
     },
     "execution_count": 4,
     "metadata": {},
     "output_type": "execute_result"
    }
   ],
   "source": [
    "m.hidden_init"
   ]
  },
  {
   "cell_type": "code",
   "execution_count": 5,
   "id": "9cad7776",
   "metadata": {},
   "outputs": [],
   "source": [
    "dataloader = BlenderDataloader(\"trn\", 8)"
   ]
  },
  {
   "cell_type": "code",
   "execution_count": 6,
   "id": "2a9f8450",
   "metadata": {},
   "outputs": [
    {
     "name": "stdout",
     "output_type": "stream",
     "text": [
      "first in seq\n"
     ]
    },
    {
     "name": "stderr",
     "output_type": "stream",
     "text": [
      "/home/beans/miniconda3/envs/py38/lib/python3.8/site-packages/torch/utils/checkpoint.py:25: UserWarning: None of the inputs have requires_grad=True. Gradients will be None\n",
      "  warnings.warn(\"None of the inputs have requires_grad=True. Gradients will be None\")\n"
     ]
    },
    {
     "data": {
      "text/plain": [
       "((8, 180, 120, 640, 3), (8, 180, 30), (8, 180, 30), (8, 180, 5))"
      ]
     },
     "execution_count": 6,
     "metadata": {},
     "output_type": "execute_result"
    }
   ],
   "source": [
    "imgs_all, wp_angles_all, auxs_all, angle_preds_all = [], [], [], []\n",
    "\n",
    "with torch.no_grad():\n",
    "    for i in range(20):\n",
    "        batch, is_first_in_seq = dataloader.get_batch()\n",
    "\n",
    "        (img, \n",
    "            aux, \n",
    "            wp_angles,\n",
    "             wp_headings,\n",
    "             wp_curvatures,\n",
    "             to_pred_mask,\n",
    "            current_tire_angles_rad, # Extras\n",
    "            current_speeds_mps, \n",
    "            pitch, \n",
    "            yaw) = batch\n",
    "\n",
    "\n",
    "        if is_first_in_seq: \n",
    "            print(\"first in seq\")\n",
    "            m.reset_hidden(dataloader.bs) # reset hiddens to zeros\n",
    "\n",
    "        with torch.cuda.amp.autocast(): \n",
    "            pred, obs_net_out = m(img, aux)\n",
    "            wp_angles_pred, wp_headings_pred, wp_curvatures_pred = torch.chunk(pred, 3, -1)\n",
    "            \n",
    "        img = (denorm_img(img) * 255).permute(0,1,3,4,2).cpu().numpy().astype('uint8')  \n",
    "        wp_angles = (wp_angles.cpu() * TARGET_NORM).numpy()\n",
    "        wp_angles_pred = (wp_angles_pred.cpu() * TARGET_NORM).numpy()        \n",
    "        \n",
    "        imgs_all.append(img)\n",
    "        wp_angles_all.append(wp_angles)\n",
    "        angle_preds_all.append(wp_angles_pred)\n",
    "        \n",
    "        aux = (aux.cpu()*aux_norm_constants).cpu().numpy()\n",
    "        auxs_all.append(aux)\n",
    "        \n",
    "imgs_all = np.concatenate(imgs_all, axis=1)\n",
    "wp_angles_all = np.concatenate(wp_angles_all, axis=1)\n",
    "angle_preds_all = np.concatenate(angle_preds_all, axis=1)\n",
    "auxs_all = np.concatenate(auxs_all, axis=1)\n",
    "\n",
    "imgs_all.shape, wp_angles_all.shape, angle_preds_all.shape, auxs_all.shape"
   ]
  },
  {
   "cell_type": "code",
   "execution_count": 7,
   "id": "78a70870",
   "metadata": {
    "scrolled": true
   },
   "outputs": [
    {
     "name": "stdout",
     "output_type": "stream",
     "text": [
      "done\n"
     ]
    }
   ],
   "source": [
    "bs, cat_seq_len, height, width, channels = imgs_all.shape #processed_imgs[0].shape\n",
    "w2 = width//2\n",
    "h2 = height//2\n",
    "\n",
    "fps = 20\n",
    "\n",
    "video = cv2.VideoWriter(f'/home/beans/bespoke_vids/sim/dataloader_{model_stem}.avi', cv2.VideoWriter_fourcc(*\"MJPG\"), fps, (width,height))\n",
    "\n",
    "for b in range(bs):\n",
    "    for s in range(cat_seq_len):\n",
    "\n",
    "        img = imgs_all[b,s,:,:,:]\n",
    "        targets = wp_angles_all[b,s,:]\n",
    "        preds = angle_preds_all[b,s,:]\n",
    "        speed_mps = kph_to_mps(auxs_all[b,s,2])\n",
    "        \n",
    "        # wps\n",
    "        img = draw_wps(img, targets, color=(100, 200, 200), thickness=-1, speed_mps=speed_mps)\n",
    "        img = draw_wps(img, preds, speed_mps=speed_mps)\n",
    "\n",
    "        # Guidelines\n",
    "        img[:,w2-1:w2+1,:] -= 20 # darker line vertical center\n",
    "        img[h2-1:h2+1:,:,:] -= 20 # darker line horizontal center\n",
    "\n",
    "        video.write(img)\n",
    "    \n",
    "video.release()\n",
    "print(\"done\")"
   ]
  },
  {
   "cell_type": "code",
   "execution_count": null,
   "id": "195e1418",
   "metadata": {},
   "outputs": [],
   "source": []
  },
  {
   "cell_type": "code",
   "execution_count": 32,
   "id": "28efb307",
   "metadata": {},
   "outputs": [
    {
     "data": {
      "text/plain": [
       "(4, 180, 100, 640, 3)"
      ]
     },
     "execution_count": 32,
     "metadata": {},
     "output_type": "execute_result"
    }
   ],
   "source": [
    "np.concatenate(imgs_all, axis=1).shape"
   ]
  },
  {
   "cell_type": "code",
   "execution_count": 29,
   "id": "64c2129f",
   "metadata": {},
   "outputs": [
    {
     "data": {
      "text/plain": [
       "<matplotlib.image.AxesImage at 0x7fccae404bb0>"
      ]
     },
     "execution_count": 29,
     "metadata": {},
     "output_type": "execute_result"
    },
    {
     "data": {
      "image/png": "[encoded data removed]",
      "text/plain": [
       "<Figure size 432x288 with 1 Axes>"
      ]
     },
     "metadata": {
      "needs_background": "light"
     },
     "output_type": "display_data"
    }
   ],
   "source": [
    "plt.imshow(img[0][0])"
   ]
  },
  {
   "cell_type": "code",
   "execution_count": null,
   "id": "2060bd16",
   "metadata": {},
   "outputs": [],
   "source": []
  },
  {
   "cell_type": "code",
   "execution_count": null,
   "id": "9e8327fb",
   "metadata": {},
   "outputs": [],
   "source": []
  },
  {
   "cell_type": "code",
   "execution_count": 10,
   "id": "85136b93",
   "metadata": {},
   "outputs": [
    {
     "data": {
      "text/plain": [
       "(torch.Size([32, 9, 30]), torch.Size([32, 9, 30]), torch.Size([32, 9, 30]))"
      ]
     },
     "execution_count": 10,
     "metadata": {},
     "output_type": "execute_result"
    }
   ],
   "source": [
    "wp_angles.shape, wp_headings.shape, wp_curvatures.shape"
   ]
  },
  {
   "cell_type": "code",
   "execution_count": null,
   "id": "ebabcc73",
   "metadata": {},
   "outputs": [],
   "source": []
  },
  {
   "cell_type": "code",
   "execution_count": 46,
   "id": "51b462ee",
   "metadata": {},
   "outputs": [
    {
     "data": {
      "text/plain": [
       "(array([ 113.,  456., 2223., 9196., 2566., 1304.,  827.,  425.,  119.,\n",
       "          51.]),\n",
       " array([-2.883 , -2.066 , -1.251 , -0.4348,  0.3813,  1.197 ,  2.014 ,\n",
       "         2.83  ,  3.645 ,  4.46  ,  5.277 ], dtype=float16),\n",
       " <BarContainer object of 10 artists>)"
      ]
     },
     "execution_count": 46,
     "metadata": {},
     "output_type": "execute_result"
    },
    {
     "data": {
      "image/png": "[encoded data removed]",
      "text/plain": [
       "<Figure size 432x288 with 1 Axes>"
      ]
     },
     "metadata": {
      "needs_background": "light"
     },
     "output_type": "display_data"
    }
   ],
   "source": [
    "plt.hist((wp_angles*to_pred_mask).flatten().detach().cpu().numpy())"
   ]
  },
  {
   "cell_type": "code",
   "execution_count": 54,
   "id": "61f6f5f7",
   "metadata": {},
   "outputs": [
    {
     "data": {
      "text/plain": [
       "1.782"
      ]
     },
     "execution_count": 54,
     "metadata": {},
     "output_type": "execute_result"
    }
   ],
   "source": [
    "3.3*.54"
   ]
  },
  {
   "cell_type": "code",
   "execution_count": 47,
   "id": "873d8c12",
   "metadata": {},
   "outputs": [
    {
     "data": {
      "text/plain": [
       "(array([  16.,   90.,  505., 3027., 9853., 1779., 1425.,  435.,   85.,\n",
       "          65.]),\n",
       " array([-5.066 , -3.883 , -2.697 , -1.514 , -0.3289,  0.8555,  2.04  ,\n",
       "         3.225 ,  4.41  ,  5.594 ,  6.777 ], dtype=float16),\n",
       " <BarContainer object of 10 artists>)"
      ]
     },
     "execution_count": 47,
     "metadata": {},
     "output_type": "execute_result"
    },
    {
     "data": {
      "image/png": "[encoded data removed]",
      "text/plain": [
       "<Figure size 432x288 with 1 Axes>"
      ]
     },
     "metadata": {
      "needs_background": "light"
     },
     "output_type": "display_data"
    }
   ],
   "source": [
    "plt.hist((wp_headings*to_pred_mask).flatten().detach().cpu().numpy())"
   ]
  },
  {
   "cell_type": "code",
   "execution_count": 48,
   "id": "30bd182e",
   "metadata": {},
   "outputs": [
    {
     "data": {
      "text/plain": [
       "(array([  149.,   688.,  2620., 10216.,  1754.,  1274.,   414.,    76.,\n",
       "           20.,    69.]),\n",
       " array([-0.991 , -0.687 , -0.3823, -0.078 ,  0.2263,  0.531 ,  0.835 ,\n",
       "         1.14  ,  1.444 ,  1.748 ,  2.053 ], dtype=float16),\n",
       " <BarContainer object of 10 artists>)"
      ]
     },
     "execution_count": 48,
     "metadata": {},
     "output_type": "execute_result"
    },
    {
     "data": {
      "image/png": "[encoded data removed]",
      "text/plain": [
       "<Figure size 432x288 with 1 Axes>"
      ]
     },
     "metadata": {
      "needs_background": "light"
     },
     "output_type": "display_data"
    }
   ],
   "source": [
    "plt.hist((wp_curvatures*to_pred_mask).flatten().detach().cpu().numpy())"
   ]
  },
  {
   "cell_type": "code",
   "execution_count": null,
   "id": "131418d0",
   "metadata": {},
   "outputs": [],
   "source": []
  },
  {
   "cell_type": "code",
   "execution_count": null,
   "id": "514d3aa8",
   "metadata": {},
   "outputs": [],
   "source": []
  },
  {
   "cell_type": "code",
   "execution_count": null,
   "id": "b63845bc",
   "metadata": {},
   "outputs": [],
   "source": []
  },
  {
   "cell_type": "code",
   "execution_count": 35,
   "id": "a0c5b3ff",
   "metadata": {
    "scrolled": true
   },
   "outputs": [
    {
     "data": {
      "text/plain": [
       "tensor(0.8145, device='cuda:0', dtype=torch.float16)"
      ]
     },
     "execution_count": 35,
     "metadata": {},
     "output_type": "execute_result"
    }
   ],
   "source": [
    "to_pred_mask.sum() / to_pred_mask.numel()"
   ]
  },
  {
   "cell_type": "code",
   "execution_count": 36,
   "id": "5aec0c1b",
   "metadata": {
    "scrolled": true
   },
   "outputs": [
    {
     "ename": "IndexError",
     "evalue": "index 9 is out of bounds for axis 1 with size 9",
     "output_type": "error",
     "traceback": [
      "\u001b[0;31m---------------------------------------------------------------------------\u001b[0m",
      "\u001b[0;31mIndexError\u001b[0m                                Traceback (most recent call last)",
      "\u001b[0;32m/tmp/ipykernel_4106212/1342269071.py\u001b[0m in \u001b[0;36m<module>\u001b[0;34m\u001b[0m\n\u001b[0;32m----> 1\u001b[0;31m \u001b[0mt\u001b[0m \u001b[0;34m=\u001b[0m \u001b[0mget_torque\u001b[0m\u001b[0;34m(\u001b[0m\u001b[0mwp_angles\u001b[0m\u001b[0;34m,\u001b[0m \u001b[0maux\u001b[0m\u001b[0;34m)\u001b[0m\u001b[0;34m\u001b[0m\u001b[0;34m\u001b[0m\u001b[0m\n\u001b[0m\u001b[1;32m      2\u001b[0m \u001b[0mplt\u001b[0m\u001b[0;34m.\u001b[0m\u001b[0mhist\u001b[0m\u001b[0;34m(\u001b[0m\u001b[0mt\u001b[0m\u001b[0;34m.\u001b[0m\u001b[0mcpu\u001b[0m\u001b[0;34m(\u001b[0m\u001b[0;34m)\u001b[0m\u001b[0;34m.\u001b[0m\u001b[0mnumpy\u001b[0m\u001b[0;34m(\u001b[0m\u001b[0;34m)\u001b[0m\u001b[0;34m.\u001b[0m\u001b[0mflatten\u001b[0m\u001b[0;34m(\u001b[0m\u001b[0;34m)\u001b[0m\u001b[0;34m)\u001b[0m\u001b[0;34m\u001b[0m\u001b[0;34m\u001b[0m\u001b[0m\n",
      "\u001b[0;32m/media/beans/ssd/bespoke/train_utils.py\u001b[0m in \u001b[0;36mget_torque\u001b[0;34m(pred, aux)\u001b[0m\n\u001b[1;32m    365\u001b[0m     \u001b[0mspeed_kph\u001b[0m \u001b[0;34m=\u001b[0m \u001b[0;34m(\u001b[0m\u001b[0maux\u001b[0m\u001b[0;34m[\u001b[0m\u001b[0;34m:\u001b[0m\u001b[0;34m,\u001b[0m\u001b[0;34m:\u001b[0m\u001b[0;34m,\u001b[0m\u001b[0;36m2\u001b[0m\u001b[0;34m:\u001b[0m\u001b[0;36m2\u001b[0m\u001b[0;34m+\u001b[0m\u001b[0;36m1\u001b[0m\u001b[0;34m]\u001b[0m\u001b[0;34m*\u001b[0m\u001b[0;36m20\u001b[0m\u001b[0;34m)\u001b[0m \u001b[0;31m#TODO this hardcoded denorm is dangerous\u001b[0m\u001b[0;34m\u001b[0m\u001b[0;34m\u001b[0m\u001b[0m\n\u001b[1;32m    366\u001b[0m     \u001b[0mangles_deg\u001b[0m \u001b[0;34m=\u001b[0m \u001b[0mrad_to_deg\u001b[0m\u001b[0;34m(\u001b[0m\u001b[0mpred\u001b[0m\u001b[0;34m*\u001b[0m\u001b[0mTARGET_NORM\u001b[0m\u001b[0;34m.\u001b[0m\u001b[0mto\u001b[0m\u001b[0;34m(\u001b[0m\u001b[0;34m'cuda'\u001b[0m\u001b[0;34m)\u001b[0m\u001b[0;34m)\u001b[0m\u001b[0;34m\u001b[0m\u001b[0;34m\u001b[0m\u001b[0m\n\u001b[0;32m--> 367\u001b[0;31m     \u001b[0mixs\u001b[0m \u001b[0;34m=\u001b[0m \u001b[0mgather_ixs\u001b[0m\u001b[0;34m(\u001b[0m\u001b[0mangles_deg\u001b[0m\u001b[0;34m,\u001b[0m \u001b[0mspeed_kph\u001b[0m\u001b[0;34m.\u001b[0m\u001b[0mcpu\u001b[0m\u001b[0;34m(\u001b[0m\u001b[0;34m)\u001b[0m\u001b[0;34m.\u001b[0m\u001b[0mnumpy\u001b[0m\u001b[0;34m(\u001b[0m\u001b[0;34m)\u001b[0m\u001b[0;34m)\u001b[0m\u001b[0;34m.\u001b[0m\u001b[0mto\u001b[0m\u001b[0;34m(\u001b[0m\u001b[0;34m'cuda'\u001b[0m\u001b[0;34m)\u001b[0m \u001b[0;31m# not backwards through angles_deg here, just getting ix based on speed\u001b[0m\u001b[0;34m\u001b[0m\u001b[0;34m\u001b[0m\u001b[0m\n\u001b[0m\u001b[1;32m    368\u001b[0m     \u001b[0mapplied_angles\u001b[0m \u001b[0;34m=\u001b[0m \u001b[0mtorch\u001b[0m\u001b[0;34m.\u001b[0m\u001b[0mgather\u001b[0m\u001b[0;34m(\u001b[0m\u001b[0mangles_deg\u001b[0m\u001b[0;34m,\u001b[0m \u001b[0;34m-\u001b[0m\u001b[0;36m1\u001b[0m\u001b[0;34m,\u001b[0m \u001b[0mixs\u001b[0m\u001b[0;34m)\u001b[0m\u001b[0;34m\u001b[0m\u001b[0;34m\u001b[0m\u001b[0m\n\u001b[1;32m    369\u001b[0m     \u001b[0mtorque\u001b[0m \u001b[0;34m=\u001b[0m \u001b[0mapplied_angles\u001b[0m \u001b[0;34m*\u001b[0m \u001b[0;34m(\u001b[0m\u001b[0mspeed_kph\u001b[0m\u001b[0;34m**\u001b[0m\u001b[0;36m2\u001b[0m\u001b[0;34m)\u001b[0m\u001b[0;34m\u001b[0m\u001b[0;34m\u001b[0m\u001b[0m\n",
      "\u001b[0;32m/media/beans/ssd/bespoke/train_utils.py\u001b[0m in \u001b[0;36mgather_ixs\u001b[0;34m(preds, speeds_kph)\u001b[0m\n\u001b[1;32m    353\u001b[0m         \u001b[0;32mfor\u001b[0m \u001b[0ms\u001b[0m \u001b[0;32min\u001b[0m \u001b[0mrange\u001b[0m\u001b[0;34m(\u001b[0m\u001b[0mseqlen\u001b[0m\u001b[0;34m)\u001b[0m\u001b[0;34m:\u001b[0m\u001b[0;34m\u001b[0m\u001b[0;34m\u001b[0m\u001b[0m\n\u001b[1;32m    354\u001b[0m             \u001b[0mtraj\u001b[0m \u001b[0;34m=\u001b[0m \u001b[0mpreds\u001b[0m\u001b[0;34m[\u001b[0m\u001b[0mb\u001b[0m\u001b[0;34m,\u001b[0m\u001b[0ms\u001b[0m\u001b[0;34m,\u001b[0m\u001b[0;34m:\u001b[0m\u001b[0;34m]\u001b[0m\u001b[0;34m\u001b[0m\u001b[0;34m\u001b[0m\u001b[0m\n\u001b[0;32m--> 355\u001b[0;31m             \u001b[0mspeed\u001b[0m \u001b[0;34m=\u001b[0m \u001b[0mspeeds_kph\u001b[0m\u001b[0;34m[\u001b[0m\u001b[0mb\u001b[0m\u001b[0;34m,\u001b[0m\u001b[0ms\u001b[0m\u001b[0;34m,\u001b[0m\u001b[0;36m0\u001b[0m\u001b[0;34m]\u001b[0m\u001b[0;34m\u001b[0m\u001b[0;34m\u001b[0m\u001b[0m\n\u001b[0m\u001b[1;32m    356\u001b[0m             \u001b[0m_\u001b[0m\u001b[0;34m,\u001b[0m \u001b[0m_\u001b[0m\u001b[0;34m,\u001b[0m \u001b[0mwp_ix\u001b[0m \u001b[0;34m=\u001b[0m \u001b[0mget_target_wp\u001b[0m\u001b[0;34m(\u001b[0m\u001b[0mtraj\u001b[0m\u001b[0;34m,\u001b[0m \u001b[0mkph_to_mps\u001b[0m\u001b[0;34m(\u001b[0m\u001b[0mspeed\u001b[0m\u001b[0;34m)\u001b[0m\u001b[0;34m)\u001b[0m \u001b[0;31m# TODO to get the ix, shouldn't need traj at all\u001b[0m\u001b[0;34m\u001b[0m\u001b[0;34m\u001b[0m\u001b[0m\n\u001b[1;32m    357\u001b[0m             \u001b[0mixs\u001b[0m\u001b[0;34m[\u001b[0m\u001b[0mb\u001b[0m\u001b[0;34m,\u001b[0m\u001b[0ms\u001b[0m\u001b[0;34m,\u001b[0m\u001b[0;36m0\u001b[0m\u001b[0;34m]\u001b[0m \u001b[0;34m=\u001b[0m \u001b[0mint\u001b[0m\u001b[0;34m(\u001b[0m\u001b[0mround\u001b[0m\u001b[0;34m(\u001b[0m\u001b[0mwp_ix\u001b[0m\u001b[0;34m)\u001b[0m\u001b[0;34m)\u001b[0m\u001b[0;34m\u001b[0m\u001b[0;34m\u001b[0m\u001b[0m\n",
      "\u001b[0;31mIndexError\u001b[0m: index 9 is out of bounds for axis 1 with size 9"
     ]
    }
   ],
   "source": [
    "t = get_torque(wp_angles, aux)\n",
    "plt.hist(t.cpu().numpy().flatten())"
   ]
  },
  {
   "cell_type": "code",
   "execution_count": 49,
   "id": "6f0f3156",
   "metadata": {},
   "outputs": [
    {
     "data": {
      "text/plain": [
       "tensor(3904., device='cuda:0', dtype=torch.float16)"
      ]
     },
     "execution_count": 49,
     "metadata": {},
     "output_type": "execute_result"
    }
   ],
   "source": [
    "abs(t).max()"
   ]
  },
  {
   "cell_type": "code",
   "execution_count": 50,
   "id": "05d2a0b7",
   "metadata": {},
   "outputs": [
    {
     "data": {
      "text/plain": [
       "(array([161.,  60.,  19.,   8.,   4.,   2.,   1.,   0.,   0.,   1.]),\n",
       " array([  0. ,  62.6, 125.2, 187.8, 250.4, 313. , 375.5, 438.2, 500.8,\n",
       "        563.5, 626. ], dtype=float16),\n",
       " <BarContainer object of 10 artists>)"
      ]
     },
     "execution_count": 50,
     "metadata": {},
     "output_type": "execute_result"
    },
    {
     "data": {
      "image/png": "[encoded data removed]",
      "text/plain": [
       "<Figure size 432x288 with 1 Axes>"
      ]
     },
     "metadata": {
      "needs_background": "light"
     },
     "output_type": "display_data"
    }
   ],
   "source": [
    "td = abs(t[:,1:,:] - t[:,:-1,:])\n",
    "plt.hist(td.cpu().numpy().flatten())"
   ]
  },
  {
   "cell_type": "code",
   "execution_count": 51,
   "id": "a70bddb5",
   "metadata": {},
   "outputs": [
    {
     "data": {
      "text/plain": [
       "tensor(626., device='cuda:0', dtype=torch.float16)"
      ]
     },
     "execution_count": 51,
     "metadata": {},
     "output_type": "execute_result"
    }
   ],
   "source": [
    "abs(td).max()"
   ]
  },
  {
   "cell_type": "code",
   "execution_count": null,
   "id": "f662ee37",
   "metadata": {},
   "outputs": [],
   "source": []
  },
  {
   "cell_type": "code",
   "execution_count": 67,
   "id": "4e507524",
   "metadata": {},
   "outputs": [
    {
     "data": {
      "text/plain": [
       "<matplotlib.image.AxesImage at 0x7fe040363100>"
      ]
     },
     "execution_count": 67,
     "metadata": {},
     "output_type": "execute_result"
    },
    {
     "data": {
      "image/png": "[encoded data removed]",
      "text/plain": [
       "<Figure size 432x288 with 1 Axes>"
      ]
     },
     "metadata": {
      "needs_background": "light"
     },
     "output_type": "display_data"
    }
   ],
   "source": [
    "\n",
    "traj = dataloader.targets_chunk[ix][0]\n",
    "img = dataloader.img_chunk[ix][0]\n",
    "\n",
    "plt.imshow(draw_wps(img, traj))"
   ]
  },
  {
   "cell_type": "code",
   "execution_count": null,
   "id": "26b46141",
   "metadata": {},
   "outputs": [],
   "source": []
  },
  {
   "cell_type": "code",
   "execution_count": null,
   "id": "b2ce9259",
   "metadata": {},
   "outputs": [],
   "source": []
  },
  {
   "cell_type": "code",
   "execution_count": null,
   "id": "e6a6566f",
   "metadata": {},
   "outputs": [],
   "source": []
  },
  {
   "cell_type": "code",
   "execution_count": null,
   "id": "12b8ffaa",
   "metadata": {},
   "outputs": [],
   "source": []
  },
  {
   "cell_type": "code",
   "execution_count": 8,
   "id": "13052d52",
   "metadata": {},
   "outputs": [],
   "source": [
    "import subprocess"
   ]
  },
  {
   "cell_type": "code",
   "execution_count": 9,
   "id": "ee0b34b0",
   "metadata": {},
   "outputs": [
    {
     "data": {
      "text/plain": [
       "CompletedProcess(args='cp -R /media/beans/beans_data/blender_membank /dev/shm/blender_membank', returncode=0)"
      ]
     },
     "execution_count": 9,
     "metadata": {},
     "output_type": "execute_result"
    }
   ],
   "source": [
    "# Load up membank from ssd to shm\n",
    "subprocess.run(\"cp -R /media/beans/beans_data/blender_membank /dev/shm/blender_membank\", shell=True)"
   ]
  },
  {
   "cell_type": "code",
   "execution_count": null,
   "id": "05f59d3e",
   "metadata": {},
   "outputs": [],
   "source": [
    "# save membank to ssd\n",
    "subprocess.run(\"cp -R /dev/shm/blender_membank /media/beans/beans_data/blender_membank\", shell=True)"
   ]
  }
 ],
 "metadata": {
  "kernelspec": {
   "display_name": "Python 3 (ipykernel)",
   "language": "python",
   "name": "python3"
  },
  "language_info": {
   "codemirror_mode": {
    "name": "ipython",
    "version": 3
   },
   "file_extension": ".py",
   "mimetype": "text/x-python",
   "name": "python",
   "nbconvert_exporter": "python",
   "pygments_lexer": "ipython3",
   "version": "3.8.11"
  }
 },
 "nbformat": 4,
 "nbformat_minor": 5
}
