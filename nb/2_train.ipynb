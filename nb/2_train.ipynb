{
 "cells": [
  {
   "cell_type": "code",
   "execution_count": 1,
   "metadata": {
    "scrolled": true
   },
   "outputs": [
    {
     "data": {
      "text/plain": [
       "('1.13.1', 2, 'NVIDIA GeForce RTX 3090')"
      ]
     },
     "execution_count": 1,
     "metadata": {},
     "output_type": "execute_result"
    }
   ],
   "source": [
    "%matplotlib inline\n",
    "%load_ext autoreload\n",
    "%autoreload 2\n",
    "\n",
    "import sys\n",
    "sys.path.append(f'/home/beans/bespoke')\n",
    "\n",
    "from models import *\n",
    "from constants import *\n",
    "from imports import *\n",
    "from loaders import *\n",
    "from train_utils import *\n",
    "\n",
    "torch.__version__, torch.cuda.device_count(), torch.cuda.get_device_name(torch.cuda.current_device())"
   ]
  },
  {
   "cell_type": "code",
   "execution_count": 2,
   "metadata": {
    "scrolled": true
   },
   "outputs": [
    {
     "data": {
      "text/plain": [
       "'23b345k5'"
      ]
     },
     "execution_count": 2,
     "metadata": {},
     "output_type": "execute_result"
    }
   ],
   "source": [
    "import wandb\n",
    "run_id = wandb.util.generate_id(); run_id"
   ]
  },
  {
   "cell_type": "code",
   "execution_count": 3,
   "metadata": {
    "scrolled": true
   },
   "outputs": [
    {
     "name": "stderr",
     "output_type": "stream",
     "text": [
      "\u001b[34m\u001b[1mwandb\u001b[0m: Currently logged in as: \u001b[33mrgilman33\u001b[0m (use `wandb login --relogin` to force relogin)\n",
      "\u001b[34m\u001b[1mwandb\u001b[0m: wandb version 0.13.10 is available!  To upgrade, please run:\n",
      "\u001b[34m\u001b[1mwandb\u001b[0m:  $ pip install wandb --upgrade\n"
     ]
    },
    {
     "data": {
      "text/html": [
       "\n",
       "                    Resuming run <strong><a href=\"https://wandb.ai/rgilman33/carla/runs/2njo5bon\" target=\"_blank\">copper-dragon-382</a></strong> to <a href=\"https://wandb.ai/rgilman33/carla\" target=\"_blank\">Weights & Biases</a> (<a href=\"https://docs.wandb.com/integrations/jupyter.html\" target=\"_blank\">docs</a>).<br/>\n",
       "\n",
       "                "
      ],
      "text/plain": [
       "<IPython.core.display.HTML object>"
      ]
     },
     "metadata": {},
     "output_type": "display_data"
    },
    {
     "data": {
      "text/html": [
       "<button onClick=\"this.nextSibling.style.display='block';this.style.display='none';\">Display W&B run</button><iframe src=\"https://wandb.ai/rgilman33/carla/runs/2njo5bon?jupyter=true\" style=\"border:none;width:100%;height:420px;display:none;\"></iframe>"
      ],
      "text/plain": [
       "<wandb.sdk.wandb_run.Run at 0x7fc2bd6aa940>"
      ]
     },
     "execution_count": 3,
     "metadata": {},
     "output_type": "execute_result"
    }
   ],
   "source": [
    "wandb.init(id='2njo5bon', project=\"carla\", resume=\"allow\")"
   ]
  },
  {
   "cell_type": "code",
   "execution_count": 4,
   "metadata": {
    "scrolled": true
   },
   "outputs": [
    {
     "data": {
      "text/plain": [
       "30484.11"
      ]
     },
     "execution_count": 4,
     "metadata": {},
     "output_type": "execute_result"
    }
   ],
   "source": [
    "m = EffNet().to(device) \n",
    "m.train()\n",
    "sum([torch.numel(p) for p in m.parameters()]) / 1000"
   ]
  },
  {
   "cell_type": "code",
   "execution_count": 5,
   "metadata": {
    "scrolled": true
   },
   "outputs": [
    {
     "name": "stdout",
     "output_type": "stream",
     "text": [
      "CPU times: user 1 ms, sys: 352 µs, total: 1.35 ms\n",
      "Wall time: 1.14 ms\n"
     ]
    }
   ],
   "source": [
    "%%time\n",
    "from rollout import RwEvaluator\n",
    "rw_evaluator = RwEvaluator(m, wandb=wandb)"
   ]
  },
  {
   "cell_type": "code",
   "execution_count": 6,
   "metadata": {
    "scrolled": true
   },
   "outputs": [],
   "source": [
    "m = try_load_state_dict(m, torch.load(f\"{BESPOKE_ROOT}/models/m.torch\"))"
   ]
  },
  {
   "cell_type": "code",
   "execution_count": 7,
   "metadata": {
    "scrolled": true
   },
   "outputs": [],
   "source": [
    "model_stem = \"2.17\""
   ]
  },
  {
   "cell_type": "code",
   "execution_count": 8,
   "metadata": {
    "scrolled": true
   },
   "outputs": [
    {
     "name": "stderr",
     "output_type": "stream",
     "text": [
      "/home/beans/miniconda3/envs/py38/lib/python3.8/site-packages/albumentations/augmentations/transforms.py:1175: FutureWarning: RandomContrast has been deprecated. Please use RandomBrightnessContrast\n",
      "  warnings.warn(\n",
      "/home/beans/miniconda3/envs/py38/lib/python3.8/site-packages/albumentations/augmentations/transforms.py:1149: FutureWarning: This class has been deprecated. Please use RandomBrightnessContrast\n",
      "  warnings.warn(\n",
      "/home/beans/miniconda3/envs/py38/lib/python3.8/site-packages/albumentations/augmentations/transforms.py:316: FutureWarning: JpegCompression has been deprecated. Please use ImageCompression\n",
      "  warnings.warn(\n",
      "/home/beans/miniconda3/envs/py38/lib/python3.8/site-packages/albumentations/augmentations/transforms.py:1175: FutureWarning: RandomContrast has been deprecated. Please use RandomBrightnessContrast\n",
      "  warnings.warn(\n",
      "/home/beans/miniconda3/envs/py38/lib/python3.8/site-packages/albumentations/augmentations/transforms.py:316: FutureWarning: JpegCompression has been deprecated. Please use ImageCompression\n",
      "  warnings.warn(\n",
      "/home/beans/miniconda3/envs/py38/lib/python3.8/site-packages/albumentations/augmentations/transforms.py:1149: FutureWarning: This class has been deprecated. Please use RandomBrightnessContrast\n",
      "  warnings.warn(\n"
     ]
    },
    {
     "name": "stdout",
     "output_type": "stream",
     "text": [
      "waiting for chunk\n"
     ]
    },
    {
     "name": "stderr",
     "output_type": "stream",
     "text": [
      "/home/beans/miniconda3/envs/py38/lib/python3.8/site-packages/albumentations/augmentations/transforms.py:1175: FutureWarning: RandomContrast has been deprecated. Please use RandomBrightnessContrast\n",
      "  warnings.warn(\n",
      "/home/beans/miniconda3/envs/py38/lib/python3.8/site-packages/albumentations/augmentations/transforms.py:316: FutureWarning: JpegCompression has been deprecated. Please use ImageCompression\n",
      "  warnings.warn(\n",
      "/home/beans/miniconda3/envs/py38/lib/python3.8/site-packages/albumentations/augmentations/transforms.py:1149: FutureWarning: This class has been deprecated. Please use RandomBrightnessContrast\n",
      "  warnings.warn(\n"
     ]
    },
    {
     "name": "stdout",
     "output_type": "stream",
     "text": [
      "waiting for chunk\n"
     ]
    },
    {
     "name": "stderr",
     "output_type": "stream",
     "text": [
      "/home/beans/miniconda3/envs/py38/lib/python3.8/site-packages/albumentations/augmentations/transforms.py:1175: FutureWarning: RandomContrast has been deprecated. Please use RandomBrightnessContrast\n",
      "  warnings.warn(\n",
      "/home/beans/miniconda3/envs/py38/lib/python3.8/site-packages/albumentations/augmentations/transforms.py:316: FutureWarning: JpegCompression has been deprecated. Please use ImageCompression\n",
      "  warnings.warn(\n",
      "/home/beans/miniconda3/envs/py38/lib/python3.8/site-packages/albumentations/augmentations/transforms.py:1149: FutureWarning: This class has been deprecated. Please use RandomBrightnessContrast\n",
      "  warnings.warn(\n"
     ]
    },
    {
     "name": "stdout",
     "output_type": "stream",
     "text": [
      "waiting for chunk\n",
      "waiting for chunk\n",
      "waiting for chunk\n",
      "waiting for chunk\n",
      "waiting for chunk\n"
     ]
    },
    {
     "name": "stderr",
     "output_type": "stream",
     "text": [
      "/home/beans/miniconda3/envs/py38/lib/python3.8/site-packages/albumentations/augmentations/transforms.py:1175: FutureWarning: RandomContrast has been deprecated. Please use RandomBrightnessContrast\n",
      "  warnings.warn(\n",
      "/home/beans/miniconda3/envs/py38/lib/python3.8/site-packages/albumentations/augmentations/transforms.py:316: FutureWarning: JpegCompression has been deprecated. Please use ImageCompression\n",
      "  warnings.warn(\n",
      "/home/beans/miniconda3/envs/py38/lib/python3.8/site-packages/albumentations/augmentations/transforms.py:1149: FutureWarning: This class has been deprecated. Please use RandomBrightnessContrast\n",
      "  warnings.warn(\n"
     ]
    },
    {
     "name": "stdout",
     "output_type": "stream",
     "text": [
      "waiting for chunk\n",
      "waiting for chunk\n",
      "waiting for chunk\n",
      "waiting for chunk\n",
      "waiting for chunk\n",
      "waiting for chunk\n",
      "waiting for chunk\n",
      "waiting for chunk\n",
      "waiting for chunk\n",
      "waiting for chunk\n",
      "waiting for chunk\n",
      "waiting for chunk\n",
      "waiting for chunk\n",
      "waiting for chunk\n",
      "CPU times: user 2.24 s, sys: 17.8 s, total: 20.1 s\n",
      "Wall time: 1min 29s\n"
     ]
    }
   ],
   "source": [
    "%%time\n",
    "\n",
    "rnn_only = True #True\n",
    "rnn_is_first = True #False\n",
    "\n",
    "if rnn_only: # m cnn backbone needs to be all loaded up and ready\n",
    "\n",
    "    if rnn_is_first:\n",
    "        freeze_model(m, True)\n",
    "        freeze_model(m.rnn, False)\n",
    "        m.hidden_init.requires_grad = True\n",
    "        m.cell_init.requires_grad = True\n",
    "    else:\n",
    "        freeze_model(m.backbone, True)\n",
    "        \n",
    "    m.backbone.train(False) # freezing bn params\n",
    "    bs = 16\n",
    "    bptt = 21 #7 # these have to be multiple of Zloader's internal bptt, currently 3 for bs 32 or 7 for bs 16\n",
    "    seqlen = bptt*10 #5 #15 \n",
    "    constant_seq_aug = .0 #TODO can only do constant aug when bptt is one, currently. Fix this.\n",
    "    n_workers = 5 if seqlen > 100 else 8 # maxxing out ram here w higher bs. Was 8 w bs 16\n",
    "    # fewer than five workers we start to have to wait too long for chunk. More is better here.\n",
    "    dataloader_trn = ZLoader(m, bs=bs, bptt=bptt, seqlen=seqlen, constant_seq_aug=constant_seq_aug, n_workers=n_workers)\n",
    "else:\n",
    "    bs = 32\n",
    "    bptt = 1\n",
    "    seqlen = 1\n",
    "    constant_seq_aug = 0 #.9 TODO temp disabled\n",
    "    n_workers = 8\n",
    "    dataloader_trn = TrnLoader(bs=bs, bptt=bptt, seqlen=seqlen, constant_seq_aug=constant_seq_aug, n_workers=n_workers)\n",
    "    \n",
    "lr = 3e-4\n",
    "m.use_rnn = rnn_only"
   ]
  },
  {
   "cell_type": "code",
   "execution_count": 9,
   "metadata": {
    "scrolled": true
   },
   "outputs": [],
   "source": [
    "opt = torch.optim.Adam(m.parameters(), lr=lr)\n",
    "#opt = torch.optim.AdamW(m.parameters(), lr=3e-4, weight_decay=.001)"
   ]
  },
  {
   "cell_type": "code",
   "execution_count": 10,
   "metadata": {},
   "outputs": [
    {
     "data": {
      "text/plain": [
       "(False, True)"
      ]
     },
     "execution_count": 10,
     "metadata": {},
     "output_type": "execute_result"
    }
   ],
   "source": [
    "m.backbone.training, m.training"
   ]
  },
  {
   "cell_type": "code",
   "execution_count": 11,
   "metadata": {},
   "outputs": [
    {
     "data": {
      "text/plain": [
       "[('hidden_init', True),\n",
       " ('cell_init', True),\n",
       " ('backbone.conv_stem.weight', False),\n",
       " ('backbone.bn1.weight', False),\n",
       " ('backbone.bn1.bias', False),\n",
       " ('backbone.blocks.0.0.conv_dw.weight', False),\n",
       " ('backbone.blocks.0.0.bn1.weight', False),\n",
       " ('backbone.blocks.0.0.bn1.bias', False),\n",
       " ('backbone.blocks.0.0.se.conv_reduce.weight', False),\n",
       " ('backbone.blocks.0.0.se.conv_reduce.bias', False),\n",
       " ('backbone.blocks.0.0.se.conv_expand.weight', False),\n",
       " ('backbone.blocks.0.0.se.conv_expand.bias', False),\n",
       " ('backbone.blocks.0.0.conv_pw.weight', False),\n",
       " ('backbone.blocks.0.0.bn2.weight', False),\n",
       " ('backbone.blocks.0.0.bn2.bias', False),\n",
       " ('backbone.blocks.0.1.conv_dw.weight', False),\n",
       " ('backbone.blocks.0.1.bn1.weight', False),\n",
       " ('backbone.blocks.0.1.bn1.bias', False),\n",
       " ('backbone.blocks.0.1.se.conv_reduce.weight', False),\n",
       " ('backbone.blocks.0.1.se.conv_reduce.bias', False),\n",
       " ('backbone.blocks.0.1.se.conv_expand.weight', False),\n",
       " ('backbone.blocks.0.1.se.conv_expand.bias', False),\n",
       " ('backbone.blocks.0.1.conv_pw.weight', False),\n",
       " ('backbone.blocks.0.1.bn2.weight', False),\n",
       " ('backbone.blocks.0.1.bn2.bias', False),\n",
       " ('backbone.blocks.1.0.conv_pw.weight', False),\n",
       " ('backbone.blocks.1.0.bn1.weight', False),\n",
       " ('backbone.blocks.1.0.bn1.bias', False),\n",
       " ('backbone.blocks.1.0.conv_dw.weight', False),\n",
       " ('backbone.blocks.1.0.bn2.weight', False),\n",
       " ('backbone.blocks.1.0.bn2.bias', False),\n",
       " ('backbone.blocks.1.0.se.conv_reduce.weight', False),\n",
       " ('backbone.blocks.1.0.se.conv_reduce.bias', False),\n",
       " ('backbone.blocks.1.0.se.conv_expand.weight', False),\n",
       " ('backbone.blocks.1.0.se.conv_expand.bias', False),\n",
       " ('backbone.blocks.1.0.conv_pwl.weight', False),\n",
       " ('backbone.blocks.1.0.bn3.weight', False),\n",
       " ('backbone.blocks.1.0.bn3.bias', False),\n",
       " ('backbone.blocks.1.1.conv_pw.weight', False),\n",
       " ('backbone.blocks.1.1.bn1.weight', False),\n",
       " ('backbone.blocks.1.1.bn1.bias', False),\n",
       " ('backbone.blocks.1.1.conv_dw.weight', False),\n",
       " ('backbone.blocks.1.1.bn2.weight', False),\n",
       " ('backbone.blocks.1.1.bn2.bias', False),\n",
       " ('backbone.blocks.1.1.se.conv_reduce.weight', False),\n",
       " ('backbone.blocks.1.1.se.conv_reduce.bias', False),\n",
       " ('backbone.blocks.1.1.se.conv_expand.weight', False),\n",
       " ('backbone.blocks.1.1.se.conv_expand.bias', False),\n",
       " ('backbone.blocks.1.1.conv_pwl.weight', False),\n",
       " ('backbone.blocks.1.1.bn3.weight', False),\n",
       " ('backbone.blocks.1.1.bn3.bias', False),\n",
       " ('backbone.blocks.1.2.conv_pw.weight', False),\n",
       " ('backbone.blocks.1.2.bn1.weight', False),\n",
       " ('backbone.blocks.1.2.bn1.bias', False),\n",
       " ('backbone.blocks.1.2.conv_dw.weight', False),\n",
       " ('backbone.blocks.1.2.bn2.weight', False),\n",
       " ('backbone.blocks.1.2.bn2.bias', False),\n",
       " ('backbone.blocks.1.2.se.conv_reduce.weight', False),\n",
       " ('backbone.blocks.1.2.se.conv_reduce.bias', False),\n",
       " ('backbone.blocks.1.2.se.conv_expand.weight', False),\n",
       " ('backbone.blocks.1.2.se.conv_expand.bias', False),\n",
       " ('backbone.blocks.1.2.conv_pwl.weight', False),\n",
       " ('backbone.blocks.1.2.bn3.weight', False),\n",
       " ('backbone.blocks.1.2.bn3.bias', False),\n",
       " ('backbone.blocks.1.3.conv_pw.weight', False),\n",
       " ('backbone.blocks.1.3.bn1.weight', False),\n",
       " ('backbone.blocks.1.3.bn1.bias', False),\n",
       " ('backbone.blocks.1.3.conv_dw.weight', False),\n",
       " ('backbone.blocks.1.3.bn2.weight', False),\n",
       " ('backbone.blocks.1.3.bn2.bias', False),\n",
       " ('backbone.blocks.1.3.se.conv_reduce.weight', False),\n",
       " ('backbone.blocks.1.3.se.conv_reduce.bias', False),\n",
       " ('backbone.blocks.1.3.se.conv_expand.weight', False),\n",
       " ('backbone.blocks.1.3.se.conv_expand.bias', False),\n",
       " ('backbone.blocks.1.3.conv_pwl.weight', False),\n",
       " ('backbone.blocks.1.3.bn3.weight', False),\n",
       " ('backbone.blocks.1.3.bn3.bias', False),\n",
       " ('backbone.blocks.2.0.conv_pw.weight', False),\n",
       " ('backbone.blocks.2.0.bn1.weight', False),\n",
       " ('backbone.blocks.2.0.bn1.bias', False),\n",
       " ('backbone.blocks.2.0.conv_dw.weight', False),\n",
       " ('backbone.blocks.2.0.bn2.weight', False),\n",
       " ('backbone.blocks.2.0.bn2.bias', False),\n",
       " ('backbone.blocks.2.0.se.conv_reduce.weight', False),\n",
       " ('backbone.blocks.2.0.se.conv_reduce.bias', False),\n",
       " ('backbone.blocks.2.0.se.conv_expand.weight', False),\n",
       " ('backbone.blocks.2.0.se.conv_expand.bias', False),\n",
       " ('backbone.blocks.2.0.conv_pwl.weight', False),\n",
       " ('backbone.blocks.2.0.bn3.weight', False),\n",
       " ('backbone.blocks.2.0.bn3.bias', False),\n",
       " ('backbone.blocks.2.1.conv_pw.weight', False),\n",
       " ('backbone.blocks.2.1.bn1.weight', False),\n",
       " ('backbone.blocks.2.1.bn1.bias', False),\n",
       " ('backbone.blocks.2.1.conv_dw.weight', False),\n",
       " ('backbone.blocks.2.1.bn2.weight', False),\n",
       " ('backbone.blocks.2.1.bn2.bias', False),\n",
       " ('backbone.blocks.2.1.se.conv_reduce.weight', False),\n",
       " ('backbone.blocks.2.1.se.conv_reduce.bias', False),\n",
       " ('backbone.blocks.2.1.se.conv_expand.weight', False),\n",
       " ('backbone.blocks.2.1.se.conv_expand.bias', False),\n",
       " ('backbone.blocks.2.1.conv_pwl.weight', False),\n",
       " ('backbone.blocks.2.1.bn3.weight', False),\n",
       " ('backbone.blocks.2.1.bn3.bias', False),\n",
       " ('backbone.blocks.2.2.conv_pw.weight', False),\n",
       " ('backbone.blocks.2.2.bn1.weight', False),\n",
       " ('backbone.blocks.2.2.bn1.bias', False),\n",
       " ('backbone.blocks.2.2.conv_dw.weight', False),\n",
       " ('backbone.blocks.2.2.bn2.weight', False),\n",
       " ('backbone.blocks.2.2.bn2.bias', False),\n",
       " ('backbone.blocks.2.2.se.conv_reduce.weight', False),\n",
       " ('backbone.blocks.2.2.se.conv_reduce.bias', False),\n",
       " ('backbone.blocks.2.2.se.conv_expand.weight', False),\n",
       " ('backbone.blocks.2.2.se.conv_expand.bias', False),\n",
       " ('backbone.blocks.2.2.conv_pwl.weight', False),\n",
       " ('backbone.blocks.2.2.bn3.weight', False),\n",
       " ('backbone.blocks.2.2.bn3.bias', False),\n",
       " ('backbone.blocks.2.3.conv_pw.weight', False),\n",
       " ('backbone.blocks.2.3.bn1.weight', False),\n",
       " ('backbone.blocks.2.3.bn1.bias', False),\n",
       " ('backbone.blocks.2.3.conv_dw.weight', False),\n",
       " ('backbone.blocks.2.3.bn2.weight', False),\n",
       " ('backbone.blocks.2.3.bn2.bias', False),\n",
       " ('backbone.blocks.2.3.se.conv_reduce.weight', False),\n",
       " ('backbone.blocks.2.3.se.conv_reduce.bias', False),\n",
       " ('backbone.blocks.2.3.se.conv_expand.weight', False),\n",
       " ('backbone.blocks.2.3.se.conv_expand.bias', False),\n",
       " ('backbone.blocks.2.3.conv_pwl.weight', False),\n",
       " ('backbone.blocks.2.3.bn3.weight', False),\n",
       " ('backbone.blocks.2.3.bn3.bias', False),\n",
       " ('backbone.blocks.3.0.conv_pw.weight', False),\n",
       " ('backbone.blocks.3.0.bn1.weight', False),\n",
       " ('backbone.blocks.3.0.bn1.bias', False),\n",
       " ('backbone.blocks.3.0.conv_dw.weight', False),\n",
       " ('backbone.blocks.3.0.bn2.weight', False),\n",
       " ('backbone.blocks.3.0.bn2.bias', False),\n",
       " ('backbone.blocks.3.0.se.conv_reduce.weight', False),\n",
       " ('backbone.blocks.3.0.se.conv_reduce.bias', False),\n",
       " ('backbone.blocks.3.0.se.conv_expand.weight', False),\n",
       " ('backbone.blocks.3.0.se.conv_expand.bias', False),\n",
       " ('backbone.blocks.3.0.conv_pwl.weight', False),\n",
       " ('backbone.blocks.3.0.bn3.weight', False),\n",
       " ('backbone.blocks.3.0.bn3.bias', False),\n",
       " ('backbone.blocks.3.1.conv_pw.weight', False),\n",
       " ('backbone.blocks.3.1.bn1.weight', False),\n",
       " ('backbone.blocks.3.1.bn1.bias', False),\n",
       " ('backbone.blocks.3.1.conv_dw.weight', False),\n",
       " ('backbone.blocks.3.1.bn2.weight', False),\n",
       " ('backbone.blocks.3.1.bn2.bias', False),\n",
       " ('backbone.blocks.3.1.se.conv_reduce.weight', False),\n",
       " ('backbone.blocks.3.1.se.conv_reduce.bias', False),\n",
       " ('backbone.blocks.3.1.se.conv_expand.weight', False),\n",
       " ('backbone.blocks.3.1.se.conv_expand.bias', False),\n",
       " ('backbone.blocks.3.1.conv_pwl.weight', False),\n",
       " ('backbone.blocks.3.1.bn3.weight', False),\n",
       " ('backbone.blocks.3.1.bn3.bias', False),\n",
       " ('backbone.blocks.3.2.conv_pw.weight', False),\n",
       " ('backbone.blocks.3.2.bn1.weight', False),\n",
       " ('backbone.blocks.3.2.bn1.bias', False),\n",
       " ('backbone.blocks.3.2.conv_dw.weight', False),\n",
       " ('backbone.blocks.3.2.bn2.weight', False),\n",
       " ('backbone.blocks.3.2.bn2.bias', False),\n",
       " ('backbone.blocks.3.2.se.conv_reduce.weight', False),\n",
       " ('backbone.blocks.3.2.se.conv_reduce.bias', False),\n",
       " ('backbone.blocks.3.2.se.conv_expand.weight', False),\n",
       " ('backbone.blocks.3.2.se.conv_expand.bias', False),\n",
       " ('backbone.blocks.3.2.conv_pwl.weight', False),\n",
       " ('backbone.blocks.3.2.bn3.weight', False),\n",
       " ('backbone.blocks.3.2.bn3.bias', False),\n",
       " ('backbone.blocks.3.3.conv_pw.weight', False),\n",
       " ('backbone.blocks.3.3.bn1.weight', False),\n",
       " ('backbone.blocks.3.3.bn1.bias', False),\n",
       " ('backbone.blocks.3.3.conv_dw.weight', False),\n",
       " ('backbone.blocks.3.3.bn2.weight', False),\n",
       " ('backbone.blocks.3.3.bn2.bias', False),\n",
       " ('backbone.blocks.3.3.se.conv_reduce.weight', False),\n",
       " ('backbone.blocks.3.3.se.conv_reduce.bias', False),\n",
       " ('backbone.blocks.3.3.se.conv_expand.weight', False),\n",
       " ('backbone.blocks.3.3.se.conv_expand.bias', False),\n",
       " ('backbone.blocks.3.3.conv_pwl.weight', False),\n",
       " ('backbone.blocks.3.3.bn3.weight', False),\n",
       " ('backbone.blocks.3.3.bn3.bias', False),\n",
       " ('backbone.blocks.3.4.conv_pw.weight', False),\n",
       " ('backbone.blocks.3.4.bn1.weight', False),\n",
       " ('backbone.blocks.3.4.bn1.bias', False),\n",
       " ('backbone.blocks.3.4.conv_dw.weight', False),\n",
       " ('backbone.blocks.3.4.bn2.weight', False),\n",
       " ('backbone.blocks.3.4.bn2.bias', False),\n",
       " ('backbone.blocks.3.4.se.conv_reduce.weight', False),\n",
       " ('backbone.blocks.3.4.se.conv_reduce.bias', False),\n",
       " ('backbone.blocks.3.4.se.conv_expand.weight', False),\n",
       " ('backbone.blocks.3.4.se.conv_expand.bias', False),\n",
       " ('backbone.blocks.3.4.conv_pwl.weight', False),\n",
       " ('backbone.blocks.3.4.bn3.weight', False),\n",
       " ('backbone.blocks.3.4.bn3.bias', False),\n",
       " ('backbone.blocks.3.5.conv_pw.weight', False),\n",
       " ('backbone.blocks.3.5.bn1.weight', False),\n",
       " ('backbone.blocks.3.5.bn1.bias', False),\n",
       " ('backbone.blocks.3.5.conv_dw.weight', False),\n",
       " ('backbone.blocks.3.5.bn2.weight', False),\n",
       " ('backbone.blocks.3.5.bn2.bias', False),\n",
       " ('backbone.blocks.3.5.se.conv_reduce.weight', False),\n",
       " ('backbone.blocks.3.5.se.conv_reduce.bias', False),\n",
       " ('backbone.blocks.3.5.se.conv_expand.weight', False),\n",
       " ('backbone.blocks.3.5.se.conv_expand.bias', False),\n",
       " ('backbone.blocks.3.5.conv_pwl.weight', False),\n",
       " ('backbone.blocks.3.5.bn3.weight', False),\n",
       " ('backbone.blocks.3.5.bn3.bias', False),\n",
       " ('backbone.blocks.4.0.conv_pw.weight', False),\n",
       " ('backbone.blocks.4.0.bn1.weight', False),\n",
       " ('backbone.blocks.4.0.bn1.bias', False),\n",
       " ('backbone.blocks.4.0.conv_dw.weight', False),\n",
       " ('backbone.blocks.4.0.bn2.weight', False),\n",
       " ('backbone.blocks.4.0.bn2.bias', False),\n",
       " ('backbone.blocks.4.0.se.conv_reduce.weight', False),\n",
       " ('backbone.blocks.4.0.se.conv_reduce.bias', False),\n",
       " ('backbone.blocks.4.0.se.conv_expand.weight', False),\n",
       " ('backbone.blocks.4.0.se.conv_expand.bias', False),\n",
       " ('backbone.blocks.4.0.conv_pwl.weight', False),\n",
       " ('backbone.blocks.4.0.bn3.weight', False),\n",
       " ('backbone.blocks.4.0.bn3.bias', False),\n",
       " ('backbone.blocks.4.1.conv_pw.weight', False),\n",
       " ('backbone.blocks.4.1.bn1.weight', False),\n",
       " ('backbone.blocks.4.1.bn1.bias', False),\n",
       " ('backbone.blocks.4.1.conv_dw.weight', False),\n",
       " ('backbone.blocks.4.1.bn2.weight', False),\n",
       " ('backbone.blocks.4.1.bn2.bias', False),\n",
       " ('backbone.blocks.4.1.se.conv_reduce.weight', False),\n",
       " ('backbone.blocks.4.1.se.conv_reduce.bias', False),\n",
       " ('backbone.blocks.4.1.se.conv_expand.weight', False),\n",
       " ('backbone.blocks.4.1.se.conv_expand.bias', False),\n",
       " ('backbone.blocks.4.1.conv_pwl.weight', False),\n",
       " ('backbone.blocks.4.1.bn3.weight', False),\n",
       " ('backbone.blocks.4.1.bn3.bias', False),\n",
       " ('backbone.blocks.4.2.conv_pw.weight', False),\n",
       " ('backbone.blocks.4.2.bn1.weight', False),\n",
       " ('backbone.blocks.4.2.bn1.bias', False),\n",
       " ('backbone.blocks.4.2.conv_dw.weight', False),\n",
       " ('backbone.blocks.4.2.bn2.weight', False),\n",
       " ('backbone.blocks.4.2.bn2.bias', False),\n",
       " ('backbone.blocks.4.2.se.conv_reduce.weight', False),\n",
       " ('backbone.blocks.4.2.se.conv_reduce.bias', False),\n",
       " ('backbone.blocks.4.2.se.conv_expand.weight', False),\n",
       " ('backbone.blocks.4.2.se.conv_expand.bias', False),\n",
       " ('backbone.blocks.4.2.conv_pwl.weight', False),\n",
       " ('backbone.blocks.4.2.bn3.weight', False),\n",
       " ('backbone.blocks.4.2.bn3.bias', False),\n",
       " ('backbone.blocks.4.3.conv_pw.weight', False),\n",
       " ('backbone.blocks.4.3.bn1.weight', False),\n",
       " ('backbone.blocks.4.3.bn1.bias', False),\n",
       " ('backbone.blocks.4.3.conv_dw.weight', False),\n",
       " ('backbone.blocks.4.3.bn2.weight', False),\n",
       " ('backbone.blocks.4.3.bn2.bias', False),\n",
       " ('backbone.blocks.4.3.se.conv_reduce.weight', False),\n",
       " ('backbone.blocks.4.3.se.conv_reduce.bias', False),\n",
       " ('backbone.blocks.4.3.se.conv_expand.weight', False),\n",
       " ('backbone.blocks.4.3.se.conv_expand.bias', False),\n",
       " ('backbone.blocks.4.3.conv_pwl.weight', False),\n",
       " ('backbone.blocks.4.3.bn3.weight', False),\n",
       " ('backbone.blocks.4.3.bn3.bias', False),\n",
       " ('backbone.blocks.4.4.conv_pw.weight', False),\n",
       " ('backbone.blocks.4.4.bn1.weight', False),\n",
       " ('backbone.blocks.4.4.bn1.bias', False),\n",
       " ('backbone.blocks.4.4.conv_dw.weight', False),\n",
       " ('backbone.blocks.4.4.bn2.weight', False),\n",
       " ('backbone.blocks.4.4.bn2.bias', False),\n",
       " ('backbone.blocks.4.4.se.conv_reduce.weight', False),\n",
       " ('backbone.blocks.4.4.se.conv_reduce.bias', False),\n",
       " ('backbone.blocks.4.4.se.conv_expand.weight', False),\n",
       " ('backbone.blocks.4.4.se.conv_expand.bias', False),\n",
       " ('backbone.blocks.4.4.conv_pwl.weight', False),\n",
       " ('backbone.blocks.4.4.bn3.weight', False),\n",
       " ('backbone.blocks.4.4.bn3.bias', False),\n",
       " ('backbone.blocks.4.5.conv_pw.weight', False),\n",
       " ('backbone.blocks.4.5.bn1.weight', False),\n",
       " ('backbone.blocks.4.5.bn1.bias', False),\n",
       " ('backbone.blocks.4.5.conv_dw.weight', False),\n",
       " ('backbone.blocks.4.5.bn2.weight', False),\n",
       " ('backbone.blocks.4.5.bn2.bias', False),\n",
       " ('backbone.blocks.4.5.se.conv_reduce.weight', False),\n",
       " ('backbone.blocks.4.5.se.conv_reduce.bias', False),\n",
       " ('backbone.blocks.4.5.se.conv_expand.weight', False),\n",
       " ('backbone.blocks.4.5.se.conv_expand.bias', False),\n",
       " ('backbone.blocks.4.5.conv_pwl.weight', False),\n",
       " ('backbone.blocks.4.5.bn3.weight', False),\n",
       " ('backbone.blocks.4.5.bn3.bias', False),\n",
       " ('backbone.blocks.5.0.conv_pw.weight', False),\n",
       " ('backbone.blocks.5.0.bn1.weight', False),\n",
       " ('backbone.blocks.5.0.bn1.bias', False),\n",
       " ('backbone.blocks.5.0.conv_dw.weight', False),\n",
       " ('backbone.blocks.5.0.bn2.weight', False),\n",
       " ('backbone.blocks.5.0.bn2.bias', False),\n",
       " ('backbone.blocks.5.0.se.conv_reduce.weight', False),\n",
       " ('backbone.blocks.5.0.se.conv_reduce.bias', False),\n",
       " ('backbone.blocks.5.0.se.conv_expand.weight', False),\n",
       " ('backbone.blocks.5.0.se.conv_expand.bias', False),\n",
       " ('backbone.blocks.5.0.conv_pwl.weight', False),\n",
       " ('backbone.blocks.5.0.bn3.weight', False),\n",
       " ('backbone.blocks.5.0.bn3.bias', False),\n",
       " ('backbone.blocks.5.1.conv_pw.weight', False),\n",
       " ('backbone.blocks.5.1.bn1.weight', False),\n",
       " ('backbone.blocks.5.1.bn1.bias', False),\n",
       " ('backbone.blocks.5.1.conv_dw.weight', False),\n",
       " ('backbone.blocks.5.1.bn2.weight', False),\n",
       " ('backbone.blocks.5.1.bn2.bias', False),\n",
       " ('backbone.blocks.5.1.se.conv_reduce.weight', False),\n",
       " ('backbone.blocks.5.1.se.conv_reduce.bias', False),\n",
       " ('backbone.blocks.5.1.se.conv_expand.weight', False),\n",
       " ('backbone.blocks.5.1.se.conv_expand.bias', False),\n",
       " ('backbone.blocks.5.1.conv_pwl.weight', False),\n",
       " ('backbone.blocks.5.1.bn3.weight', False),\n",
       " ('backbone.blocks.5.1.bn3.bias', False),\n",
       " ('backbone.blocks.5.2.conv_pw.weight', False),\n",
       " ('backbone.blocks.5.2.bn1.weight', False),\n",
       " ('backbone.blocks.5.2.bn1.bias', False),\n",
       " ('backbone.blocks.5.2.conv_dw.weight', False),\n",
       " ('backbone.blocks.5.2.bn2.weight', False),\n",
       " ('backbone.blocks.5.2.bn2.bias', False),\n",
       " ('backbone.blocks.5.2.se.conv_reduce.weight', False),\n",
       " ('backbone.blocks.5.2.se.conv_reduce.bias', False),\n",
       " ('backbone.blocks.5.2.se.conv_expand.weight', False),\n",
       " ('backbone.blocks.5.2.se.conv_expand.bias', False),\n",
       " ('backbone.blocks.5.2.conv_pwl.weight', False),\n",
       " ('backbone.blocks.5.2.bn3.weight', False),\n",
       " ('backbone.blocks.5.2.bn3.bias', False),\n",
       " ('backbone.blocks.5.3.conv_pw.weight', False),\n",
       " ('backbone.blocks.5.3.bn1.weight', False),\n",
       " ('backbone.blocks.5.3.bn1.bias', False),\n",
       " ('backbone.blocks.5.3.conv_dw.weight', False),\n",
       " ('backbone.blocks.5.3.bn2.weight', False),\n",
       " ('backbone.blocks.5.3.bn2.bias', False),\n",
       " ('backbone.blocks.5.3.se.conv_reduce.weight', False),\n",
       " ('backbone.blocks.5.3.se.conv_reduce.bias', False),\n",
       " ('backbone.blocks.5.3.se.conv_expand.weight', False),\n",
       " ('backbone.blocks.5.3.se.conv_expand.bias', False),\n",
       " ('backbone.blocks.5.3.conv_pwl.weight', False),\n",
       " ('backbone.blocks.5.3.bn3.weight', False),\n",
       " ('backbone.blocks.5.3.bn3.bias', False),\n",
       " ('backbone.blocks.5.4.conv_pw.weight', False),\n",
       " ('backbone.blocks.5.4.bn1.weight', False),\n",
       " ('backbone.blocks.5.4.bn1.bias', False),\n",
       " ('backbone.blocks.5.4.conv_dw.weight', False),\n",
       " ('backbone.blocks.5.4.bn2.weight', False),\n",
       " ('backbone.blocks.5.4.bn2.bias', False),\n",
       " ('backbone.blocks.5.4.se.conv_reduce.weight', False),\n",
       " ('backbone.blocks.5.4.se.conv_reduce.bias', False),\n",
       " ('backbone.blocks.5.4.se.conv_expand.weight', False),\n",
       " ('backbone.blocks.5.4.se.conv_expand.bias', False),\n",
       " ('backbone.blocks.5.4.conv_pwl.weight', False),\n",
       " ('backbone.blocks.5.4.bn3.weight', False),\n",
       " ('backbone.blocks.5.4.bn3.bias', False),\n",
       " ('backbone.blocks.5.5.conv_pw.weight', False),\n",
       " ('backbone.blocks.5.5.bn1.weight', False),\n",
       " ('backbone.blocks.5.5.bn1.bias', False),\n",
       " ('backbone.blocks.5.5.conv_dw.weight', False),\n",
       " ('backbone.blocks.5.5.bn2.weight', False),\n",
       " ('backbone.blocks.5.5.bn2.bias', False),\n",
       " ('backbone.blocks.5.5.se.conv_reduce.weight', False),\n",
       " ('backbone.blocks.5.5.se.conv_reduce.bias', False),\n",
       " ('backbone.blocks.5.5.se.conv_expand.weight', False),\n",
       " ('backbone.blocks.5.5.se.conv_expand.bias', False),\n",
       " ('backbone.blocks.5.5.conv_pwl.weight', False),\n",
       " ('backbone.blocks.5.5.bn3.weight', False),\n",
       " ('backbone.blocks.5.5.bn3.bias', False),\n",
       " ('backbone.blocks.5.6.conv_pw.weight', False),\n",
       " ('backbone.blocks.5.6.bn1.weight', False),\n",
       " ('backbone.blocks.5.6.bn1.bias', False),\n",
       " ('backbone.blocks.5.6.conv_dw.weight', False),\n",
       " ('backbone.blocks.5.6.bn2.weight', False),\n",
       " ('backbone.blocks.5.6.bn2.bias', False),\n",
       " ('backbone.blocks.5.6.se.conv_reduce.weight', False),\n",
       " ('backbone.blocks.5.6.se.conv_reduce.bias', False),\n",
       " ('backbone.blocks.5.6.se.conv_expand.weight', False),\n",
       " ('backbone.blocks.5.6.se.conv_expand.bias', False),\n",
       " ('backbone.blocks.5.6.conv_pwl.weight', False),\n",
       " ('backbone.blocks.5.6.bn3.weight', False),\n",
       " ('backbone.blocks.5.6.bn3.bias', False),\n",
       " ('backbone.blocks.5.7.conv_pw.weight', False),\n",
       " ('backbone.blocks.5.7.bn1.weight', False),\n",
       " ('backbone.blocks.5.7.bn1.bias', False),\n",
       " ('backbone.blocks.5.7.conv_dw.weight', False),\n",
       " ('backbone.blocks.5.7.bn2.weight', False),\n",
       " ('backbone.blocks.5.7.bn2.bias', False),\n",
       " ('backbone.blocks.5.7.se.conv_reduce.weight', False),\n",
       " ('backbone.blocks.5.7.se.conv_reduce.bias', False),\n",
       " ('backbone.blocks.5.7.se.conv_expand.weight', False),\n",
       " ('backbone.blocks.5.7.se.conv_expand.bias', False),\n",
       " ('backbone.blocks.5.7.conv_pwl.weight', False),\n",
       " ('backbone.blocks.5.7.bn3.weight', False),\n",
       " ('backbone.blocks.5.7.bn3.bias', False),\n",
       " ('backbone.blocks.6.0.conv_pw.weight', False),\n",
       " ('backbone.blocks.6.0.bn1.weight', False),\n",
       " ('backbone.blocks.6.0.bn1.bias', False),\n",
       " ('backbone.blocks.6.0.conv_dw.weight', False),\n",
       " ('backbone.blocks.6.0.bn2.weight', False),\n",
       " ('backbone.blocks.6.0.bn2.bias', False),\n",
       " ('backbone.blocks.6.0.se.conv_reduce.weight', False),\n",
       " ('backbone.blocks.6.0.se.conv_reduce.bias', False),\n",
       " ('backbone.blocks.6.0.se.conv_expand.weight', False),\n",
       " ('backbone.blocks.6.0.se.conv_expand.bias', False),\n",
       " ('backbone.blocks.6.0.conv_pwl.weight', False),\n",
       " ('backbone.blocks.6.0.bn3.weight', False),\n",
       " ('backbone.blocks.6.0.bn3.bias', False),\n",
       " ('backbone.blocks.6.1.conv_pw.weight', False),\n",
       " ('backbone.blocks.6.1.bn1.weight', False),\n",
       " ('backbone.blocks.6.1.bn1.bias', False),\n",
       " ('backbone.blocks.6.1.conv_dw.weight', False),\n",
       " ('backbone.blocks.6.1.bn2.weight', False),\n",
       " ('backbone.blocks.6.1.bn2.bias', False),\n",
       " ('backbone.blocks.6.1.se.conv_reduce.weight', False),\n",
       " ('backbone.blocks.6.1.se.conv_reduce.bias', False),\n",
       " ('backbone.blocks.6.1.se.conv_expand.weight', False),\n",
       " ('backbone.blocks.6.1.se.conv_expand.bias', False),\n",
       " ('backbone.blocks.6.1.conv_pwl.weight', False),\n",
       " ('backbone.blocks.6.1.bn3.weight', False),\n",
       " ('backbone.blocks.6.1.bn3.bias', False),\n",
       " ('backbone.conv_head.weight', False),\n",
       " ('backbone.bn2.weight', False),\n",
       " ('backbone.bn2.bias', False),\n",
       " ('fcs1_rnn.0.weight', False),\n",
       " ('fcs1_rnn.0.bias', False),\n",
       " ('fcs1_cnn.0.weight', False),\n",
       " ('fcs1_cnn.0.bias', False),\n",
       " ('cnn_finisher.wps_head.weight', False),\n",
       " ('cnn_finisher.wps_head.bias', False),\n",
       " ('cnn_finisher.aux_targets_head.weight', False),\n",
       " ('cnn_finisher.aux_targets_head.bias', False),\n",
       " ('cnn_finisher.obsnet.0.weight', False),\n",
       " ('cnn_finisher.obsnet.0.bias', False),\n",
       " ('cnn_finisher.obsnet.2.weight', False),\n",
       " ('cnn_finisher.obsnet.2.bias', False),\n",
       " ('rnn_finisher.wps_head.weight', False),\n",
       " ('rnn_finisher.wps_head.bias', False),\n",
       " ('rnn_finisher.aux_targets_head.weight', False),\n",
       " ('rnn_finisher.aux_targets_head.bias', False),\n",
       " ('rnn_finisher.obsnet.0.weight', False),\n",
       " ('rnn_finisher.obsnet.0.bias', False),\n",
       " ('rnn_finisher.obsnet.2.weight', False),\n",
       " ('rnn_finisher.obsnet.2.bias', False),\n",
       " ('rnn.weight_ih_l0', True),\n",
       " ('rnn.weight_hh_l0', True),\n",
       " ('rnn.bias_ih_l0', True),\n",
       " ('rnn.bias_hh_l0', True)]"
      ]
     },
     "execution_count": 11,
     "metadata": {},
     "output_type": "execute_result"
    }
   ],
   "source": [
    "[(n,p.requires_grad) for (n,p) in m.named_parameters()]"
   ]
  },
  {
   "cell_type": "code",
   "execution_count": 12,
   "metadata": {
    "scrolled": true
   },
   "outputs": [
    {
     "data": {
      "text/plain": [
       "'%%time\\nm.model_stem = model_stem\\nrw_evaluator.evaluate()'"
      ]
     },
     "execution_count": 12,
     "metadata": {},
     "output_type": "execute_result"
    }
   ],
   "source": [
    "\"\"\"%%time\n",
    "m.model_stem = model_stem\n",
    "rw_evaluator.evaluate()\"\"\""
   ]
  },
  {
   "cell_type": "code",
   "execution_count": null,
   "metadata": {},
   "outputs": [],
   "source": []
  },
  {
   "cell_type": "code",
   "execution_count": 13,
   "metadata": {},
   "outputs": [],
   "source": [
    "for n, mm in m.backbone.named_modules():\n",
    "    if type(mm) == nn.BatchNorm2d: \n",
    "        mm.momentum = .99 #.4"
   ]
  },
  {
   "cell_type": "code",
   "execution_count": 14,
   "metadata": {},
   "outputs": [],
   "source": [
    "trainer = Trainer(dataloader_trn, m, model_stem=model_stem, opt=opt, wandb=wandb, \n",
    "                  rw_evaluator=rw_evaluator, rnn_only=rnn_only)"
   ]
  },
  {
   "cell_type": "code",
   "execution_count": 15,
   "metadata": {
    "scrolled": true
   },
   "outputs": [
    {
     "name": "stdout",
     "output_type": "stream",
     "text": [
      "Loading model from /home/beans/bespoke/models/m.torch. \n",
      "Last modified 3 min ago.\n",
      "Loading opt from /home/beans/bespoke/models/opt.torch. \n",
      "Last modified 3 min ago.\n",
      "Currently at epoch 22.\n"
     ]
    }
   ],
   "source": [
    "trainer.reload_state()"
   ]
  },
  {
   "cell_type": "code",
   "execution_count": 16,
   "metadata": {},
   "outputs": [],
   "source": [
    "copy_cnn_params = False\n",
    "if copy_cnn_params:\n",
    "    m.copy_cnn_params_to_rnn() # when first trn rnn, has to be after reload_state.\n",
    "    print(\"copied\")\n",
    "    \n",
    "if rnn_only:\n",
    "    trainer.loss_manager.update_emas = False\n",
    "    trainer.loss_manager.loss_emas['te'] = .002 # manual. Bc cnn doesn't cache this."
   ]
  },
  {
   "cell_type": "code",
   "execution_count": 17,
   "metadata": {},
   "outputs": [
    {
     "data": {
      "text/plain": [
       "False"
      ]
     },
     "execution_count": 17,
     "metadata": {},
     "output_type": "execute_result"
    }
   ],
   "source": [
    "trainer.loss_manager.update_emas"
   ]
  },
  {
   "cell_type": "code",
   "execution_count": 18,
   "metadata": {},
   "outputs": [
    {
     "data": {
      "text/plain": [
       "{'has_stop': 0.1,\n",
       " 'stop_dist': 0.1,\n",
       " 'has_lead': 0.1,\n",
       " 'lead_dist': 0.1,\n",
       " 'lead_speed': 0.02,\n",
       " 'lane_width': 0.02,\n",
       " 'dagger_shift': 0.05,\n",
       " 'rd_is_lined': 0.02,\n",
       " 'left_turn': 0.01,\n",
       " 'right_turn': 0.01,\n",
       " 'td': 0.03,\n",
       " 'pitch': 0.1,\n",
       " 'yaw': 0.1,\n",
       " 'unc': 0.1,\n",
       " 'te': 0.05,\n",
       " 'wp_angles': 1,\n",
       " 'wp_angles_i': 0.5,\n",
       " 'wp_curvatures': 0.2,\n",
       " 'wp_curvatures_i': 0.1,\n",
       " 'wp_headings': 0.02,\n",
       " 'wp_headings_i': 0.01,\n",
       " 'wp_rolls': 0.05,\n",
       " 'wp_rolls_i': 0.025,\n",
       " 'wp_zs': 0.02,\n",
       " 'wp_zs_i': 0.01}"
      ]
     },
     "execution_count": 18,
     "metadata": {},
     "output_type": "execute_result"
    }
   ],
   "source": [
    "trainer.loss_manager.loss_weights"
   ]
  },
  {
   "cell_type": "code",
   "execution_count": 19,
   "metadata": {},
   "outputs": [
    {
     "data": {
      "text/plain": [
       "{'has_stop': 0.009303476897794368,\n",
       " 'stop_dist': 0.0024502977352331263,\n",
       " 'has_lead': 0.005678485629850111,\n",
       " 'lead_dist': 0.001069278861559114,\n",
       " 'lead_speed': 0.009430690396974376,\n",
       " 'lane_width': 0.047450313235093605,\n",
       " 'dagger_shift': 0.02728865822736125,\n",
       " 'rd_is_lined': 0.001319377378716812,\n",
       " 'left_turn': 0.0012632710253530598,\n",
       " 'right_turn': 0.0005388626623519055,\n",
       " 'td': 10.0,\n",
       " 'pitch': 10.0,\n",
       " 'yaw': 10.0,\n",
       " 'unc': 1.153600983920089,\n",
       " 'te': 0.002,\n",
       " 'wp_angles': 0.09190313942485771,\n",
       " 'wp_angles_i': 0.31636149843256006,\n",
       " 'wp_curvatures': 0.7550056203429856,\n",
       " 'wp_curvatures_i': 1.4115027495777035,\n",
       " 'wp_headings': 0.1158619262927107,\n",
       " 'wp_headings_i': 0.28565145688222876,\n",
       " 'wp_rolls': 3.8420652287183055,\n",
       " 'wp_rolls_i': 0.015127179046717893,\n",
       " 'wp_zs': 4.422409783316988,\n",
       " 'wp_zs_i': 0.0953607479912514}"
      ]
     },
     "execution_count": 19,
     "metadata": {},
     "output_type": "execute_result"
    }
   ],
   "source": [
    "trainer.loss_manager.loss_emas"
   ]
  },
  {
   "cell_type": "code",
   "execution_count": null,
   "metadata": {
    "scrolled": true
   },
   "outputs": [
    {
     "name": "stderr",
     "output_type": "stream",
     "text": [
      "/home/beans/miniconda3/envs/py38/lib/python3.8/site-packages/torch/utils/checkpoint.py:31: UserWarning: None of the inputs have requires_grad=True. Gradients will be None\n",
      "  warnings.warn(\"None of the inputs have requires_grad=True. Gradients will be None\")\n"
     ]
    },
    {
     "name": "stdout",
     "output_type": "stream",
     "text": [
      "wp_angles_i tensor(0.0178, device='cuda:0', dtype=torch.float16, grad_fn=<MeanBackward0>)\n",
      "wp_headings_i tensor(0.0767, device='cuda:0', dtype=torch.float16, grad_fn=<MeanBackward0>)\n",
      "wp_curvatures_i tensor(0.3418, device='cuda:0', dtype=torch.float16, grad_fn=<MeanBackward0>)\n",
      "wp_rolls_i tensor(0.0254, device='cuda:0', dtype=torch.float16, grad_fn=<MeanBackward0>)\n",
      "wp_zs_i tensor(0.0578, device='cuda:0', dtype=torch.float16, grad_fn=<MeanBackward0>)\n",
      "wp_angles tensor(0.0599, device='cuda:0', dtype=torch.float16, grad_fn=<MeanBackward0>)\n",
      "wp_headings tensor(0.1448, device='cuda:0', dtype=torch.float16, grad_fn=<MeanBackward0>)\n",
      "wp_curvatures tensor(0.4827, device='cuda:0', dtype=torch.float16, grad_fn=<MeanBackward0>)\n",
      "wp_rolls tensor(2.0430, device='cuda:0', dtype=torch.float16, grad_fn=<MeanBackward0>)\n",
      "wp_zs tensor(4.2617, device='cuda:0', dtype=torch.float16, grad_fn=<MeanBackward0>)\n",
      "te tensor(0.0029, device='cuda:0', dtype=torch.float16, grad_fn=<MeanBackward0>)\n",
      "has_stop tensor(0.0015, device='cuda:0', dtype=torch.float16, grad_fn=<MeanBackward0>)\n",
      "stop_dist tensor(0.0002, device='cuda:0', dtype=torch.float16, grad_fn=<MeanBackward0>)\n",
      "has_lead tensor(5.3167e-05, device='cuda:0', dtype=torch.float16,\n",
      "       grad_fn=<MeanBackward0>)\n",
      "lead_dist tensor(0., device='cuda:0', dtype=torch.float16, grad_fn=<MeanBackward0>)\n",
      "lead_speed tensor(0., device='cuda:0', dtype=torch.float16, grad_fn=<MeanBackward0>)\n",
      "dagger_shift tensor(0.0245, device='cuda:0', dtype=torch.float16, grad_fn=<MeanBackward0>)\n",
      "lane_width tensor(0.0432, device='cuda:0', dtype=torch.float16, grad_fn=<MeanBackward0>)\n",
      "rd_is_lined tensor(4.1127e-05, device='cuda:0', dtype=torch.float16,\n",
      "       grad_fn=<MeanBackward0>)\n",
      "left_turn tensor(1.0371e-05, device='cuda:0', dtype=torch.float16,\n",
      "       grad_fn=<MeanBackward0>)\n",
      "right_turn tensor(1.2755e-05, device='cuda:0', dtype=torch.float16,\n",
      "       grad_fn=<MeanBackward0>)\n",
      "unc tensor(67.3125, device='cuda:0', dtype=torch.float16)\n",
      "wp_angles_i tensor(0.0599, device='cuda:0', dtype=torch.float16, grad_fn=<MeanBackward0>)\n",
      "wp_headings_i tensor(0.1719, device='cuda:0', dtype=torch.float16, grad_fn=<MeanBackward0>)\n",
      "wp_curvatures_i tensor(0.9854, device='cuda:0', dtype=torch.float16, grad_fn=<MeanBackward0>)\n",
      "wp_rolls_i tensor(0.1018, device='cuda:0', dtype=torch.float16, grad_fn=<MeanBackward0>)\n",
      "wp_zs_i tensor(0.0714, device='cuda:0', dtype=torch.float16, grad_fn=<MeanBackward0>)\n",
      "wp_angles tensor(0.0480, device='cuda:0', dtype=torch.float16, grad_fn=<MeanBackward0>)\n",
      "wp_headings tensor(0.0868, device='cuda:0', dtype=torch.float16, grad_fn=<MeanBackward0>)\n",
      "wp_curvatures tensor(0.6265, device='cuda:0', dtype=torch.float16, grad_fn=<MeanBackward0>)\n",
      "wp_rolls tensor(11.5000, device='cuda:0', dtype=torch.float16, grad_fn=<MeanBackward0>)\n",
      "wp_zs tensor(3.2246, device='cuda:0', dtype=torch.float16, grad_fn=<MeanBackward0>)\n",
      "te tensor(0.0030, device='cuda:0', dtype=torch.float16, grad_fn=<MeanBackward0>)\n",
      "has_stop tensor(0.0039, device='cuda:0', dtype=torch.float16, grad_fn=<MeanBackward0>)\n",
      "stop_dist tensor(0.0001, device='cuda:0', dtype=torch.float16, grad_fn=<MeanBackward0>)\n",
      "has_lead tensor(9.9540e-05, device='cuda:0', dtype=torch.float16,\n",
      "       grad_fn=<MeanBackward0>)\n",
      "lead_dist tensor(0.0002, device='cuda:0', dtype=torch.float16, grad_fn=<MeanBackward0>)\n",
      "lead_speed tensor(0.0006, device='cuda:0', dtype=torch.float16, grad_fn=<MeanBackward0>)\n",
      "dagger_shift tensor(0.0218, device='cuda:0', dtype=torch.float16, grad_fn=<MeanBackward0>)\n",
      "lane_width tensor(0.0221, device='cuda:0', dtype=torch.float16, grad_fn=<MeanBackward0>)\n",
      "rd_is_lined tensor(0.0002, device='cuda:0', dtype=torch.float16, grad_fn=<MeanBackward0>)\n",
      "left_turn tensor(0.0028, device='cuda:0', dtype=torch.float16, grad_fn=<MeanBackward0>)\n",
      "right_turn tensor(0.0018, device='cuda:0', dtype=torch.float16, grad_fn=<MeanBackward0>)\n",
      "unc tensor(41.9375, device='cuda:0', dtype=torch.float16)\n",
      "\n",
      "\n",
      " {'avg_unc': -9.33776855, 'wp_angles_i': 0.00608834, 'wp_headings_i': 0.0063083, 'wp_curvatures_i': 0.02250505, 'wp_rolls_i': 0.00031118, 'wp_zs_i': 0.00150064, 'wp_angles': 0.00249618, 'wp_headings': 0.00306874, 'wp_curvatures': 0.0108613, 'wp_rolls': 0.06504684, 'wp_zs': 0.05719185, 'te': 0.00159916, 'has_stop': 0.00264021, 'stop_dist': 0.00078461, 'has_lead': 0.003025, 'lead_dist': 0.00108557, 'lead_speed': 0.01098165, 'dagger_shift': 0.02612391, 'lane_width': 0.05103767, 'rd_is_lined': 7.762e-05, 'left_turn': 0.0012542, 'right_turn': 0.00023949, 'unc': 75.55883789, 'grad_max': 0.03565842, 'grad_norm': 0.58631872, 'logistical/obs_consumed_per_second': 9.5511811, 'logistical/obs_generated_per_second': 45.2519685, 'logistical/slowest_runner_obs_per_sec': 3.14173228, 'logistical/data_consumption_ratio': 0.21207695, 'logistical/manual_train_pause': 0.0, 'timing/get batch from dataloader': 1.77623259, 'timing/model forward': 0.01779643, 'timing/calc losses': 0.02480261, 'timing/backwards': 0.07610324, 'timing/get worst': 5.93e-06, 'timing/logging': 3.67e-06, 'timing/calc timing': 0.00648478, 'timing/trn update': 1.90143409, 'logistical/max_param': 28.23920441, 'logistical/lr': 0.0003, 'logistical/mins_since_slowest_runner_reported': 3.87957032, 'logistical/snr': 0.17191219}\n",
      "\n",
      " {'timing/get run_path': 0.06181705, 'timing/load targets, aux, maps': 3.96383243, 'timing/smooth targets': 0.02591217, 'timing/load imgs': 8.94084118, 'timing/aug imgs': 59.59618645, 'timing/assemble img': 1.28215339, 'timing/update_seq_inplace': 73.87082947, 'timing/got chunk': 5.01235883, 'timing/transfered chunk': 1.88460123, 'timing/got timings': 0.002093, 'timing/refresh_chunk': 6.8990575, 'timing/waiting for available chunk': 4.90230769, 'timing/prep image': 0.50830321, 'timing/prep aux': 0.03261013, 'timing/calc wp targets': 0.02822763, 'timing/assemble mask': 0.00385656, 'timing/prep wps': 0.001058, 'timing/get_batch_at_ix': 1.31e-05, 'timing/promote backup chunk': 0.04182099, 'timing/queue_batch': 0.61589972, 'timing/wait bc batch not ready': 0.48341748}\n"
     ]
    },
    {
     "name": "stderr",
     "output_type": "stream",
     "text": [
      "/home/beans/miniconda3/envs/py38/lib/python3.8/site-packages/plotly/matplotlylib/mplexporter/exporter.py:289: MatplotlibDeprecationWarning:\n",
      "\n",
      "\n",
      "The get_offset_position function was deprecated in Matplotlib 3.3 and will be removed two minor releases later.\n",
      "\n",
      "/home/beans/miniconda3/envs/py38/lib/python3.8/site-packages/torch/utils/checkpoint.py:31: UserWarning:\n",
      "\n",
      "None of the inputs have requires_grad=True. Gradients will be None\n",
      "\n"
     ]
    },
    {
     "name": "stdout",
     "output_type": "stream",
     "text": [
      "wp_angles_i tensor(0.1594, device='cuda:0', dtype=torch.float16, grad_fn=<MeanBackward0>)\n",
      "wp_headings_i tensor(0.5098, device='cuda:0', dtype=torch.float16, grad_fn=<MeanBackward0>)\n",
      "wp_curvatures_i tensor(1.6309, device='cuda:0', dtype=torch.float16, grad_fn=<MeanBackward0>)\n",
      "wp_rolls_i tensor(0.0203, device='cuda:0', dtype=torch.float16, grad_fn=<MeanBackward0>)\n",
      "wp_zs_i tensor(0.0341, device='cuda:0', dtype=torch.float16, grad_fn=<MeanBackward0>)\n",
      "wp_angles tensor(0.0476, device='cuda:0', dtype=torch.float16, grad_fn=<MeanBackward0>)\n",
      "wp_headings tensor(0.0968, device='cuda:0', dtype=torch.float16, grad_fn=<MeanBackward0>)\n",
      "wp_curvatures tensor(0.5591, device='cuda:0', dtype=torch.float16, grad_fn=<MeanBackward0>)\n",
      "wp_rolls tensor(1.5156, device='cuda:0', dtype=torch.float16, grad_fn=<MeanBackward0>)\n",
      "wp_zs tensor(4.8516, device='cuda:0', dtype=torch.float16, grad_fn=<MeanBackward0>)\n",
      "te tensor(0.0032, device='cuda:0', dtype=torch.float16, grad_fn=<MeanBackward0>)\n",
      "has_stop tensor(0.0147, device='cuda:0', dtype=torch.float16, grad_fn=<MeanBackward0>)\n",
      "stop_dist tensor(0.0012, device='cuda:0', dtype=torch.float16, grad_fn=<MeanBackward0>)\n",
      "has_lead tensor(0.0288, device='cuda:0', dtype=torch.float16, grad_fn=<MeanBackward0>)\n",
      "lead_dist tensor(0.0005, device='cuda:0', dtype=torch.float16, grad_fn=<MeanBackward0>)\n",
      "lead_speed tensor(0.0021, device='cuda:0', dtype=torch.float16, grad_fn=<MeanBackward0>)\n",
      "dagger_shift tensor(0.0050, device='cuda:0', dtype=torch.float16, grad_fn=<MeanBackward0>)\n",
      "lane_width tensor(0.0498, device='cuda:0', dtype=torch.float16, grad_fn=<MeanBackward0>)\n",
      "rd_is_lined tensor(5.5015e-05, device='cuda:0', dtype=torch.float16,\n",
      "       grad_fn=<MeanBackward0>)\n",
      "left_turn tensor(1.2577e-05, device='cuda:0', dtype=torch.float16,\n",
      "       grad_fn=<MeanBackward0>)\n",
      "right_turn tensor(4.2558e-05, device='cuda:0', dtype=torch.float16,\n",
      "       grad_fn=<MeanBackward0>)\n",
      "unc tensor(31.5000, device='cuda:0', dtype=torch.float16)\n",
      "\n",
      "\n",
      " {'logistical/obs_consumed_per_second': 8.8828125, 'logistical/obs_generated_per_second': 41.890625, 'logistical/slowest_runner_obs_per_sec': 4.0, 'logistical/data_consumption_ratio': 0.211542, 'logistical/manual_train_pause': 0.0, 'timing/get batch from dataloader': 1.8973365, 'timing/model forward': 0.00312666, 'timing/calc losses': 0.02257014, 'timing/backwards': 0.0399916, 'timing/get worst': 7.65e-06, 'timing/logging': 0.03255551, 'timing/calc timing': 0.00616114, 'timing/trn update': 2.00175419, 'avg_unc': -8.80245972, 'wp_angles_i': 0.00702212, 'wp_headings_i': 0.00830138, 'wp_curvatures_i': 0.02392261, 'wp_rolls_i': 0.00032607, 'wp_zs_i': 0.00151465, 'wp_angles': 0.00096405, 'wp_headings': 0.0015223, 'wp_curvatures': 0.00661468, 'wp_rolls': 0.05892387, 'wp_zs': 0.05581474, 'te': 0.00147318, 'has_stop': 0.00586619, 'stop_dist': 0.00088616, 'has_lead': 0.00225058, 'lead_dist': 0.00087079, 'lead_speed': 0.01468622, 'dagger_shift': 0.0305169, 'lane_width': 0.0479188, 'rd_is_lined': 0.00047902, 'left_turn': 0.00165373, 'right_turn': 0.00034747, 'unc': 63.54907227, 'grad_max': 0.03283194, 'grad_norm': 0.48616487, 'logistical/max_param': 28.23920441, 'logistical/lr': 0.0003, 'logistical/mins_since_slowest_runner_reported': 4.85194084, 'logistical/snr': 0.17218351}\n",
      "\n",
      " {'timing/wait bc batch not ready': 0.53925781, 'timing/prep image': 0.53341786, 'timing/prep aux': 0.02637116, 'timing/calc wp targets': 0.03230136, 'timing/assemble mask': 0.00272278, 'timing/prep wps': 0.00046282, 'timing/get_batch_at_ix': 1.267e-05, 'timing/promote backup chunk': 0.05801887, 'timing/queue_batch': 0.65331753, 'timing/get run_path': 0.05708284, 'timing/load targets, aux, maps': 3.9424164, 'timing/smooth targets': 0.01955916, 'timing/load imgs': 13.28684176, 'timing/aug imgs': 62.4631502, 'timing/assemble img': 1.25197269, 'timing/update_seq_inplace': 81.02110722, 'timing/got chunk': 1.216e-05, 'timing/transfered chunk': 1.71348003, 'timing/got timings': 0.00017489, 'timing/refresh_chunk': 1.71366983, 'timing/waiting for available chunk': 0.0}\n",
      "wp_angles_i tensor(0.3462, device='cuda:0', dtype=torch.float16, grad_fn=<MeanBackward0>)\n",
      "wp_headings_i tensor(0.8579, device='cuda:0', dtype=torch.float16, grad_fn=<MeanBackward0>)\n",
      "wp_curvatures_i tensor(3.0566, device='cuda:0', dtype=torch.float16, grad_fn=<MeanBackward0>)\n",
      "wp_rolls_i tensor(0.0363, device='cuda:0', dtype=torch.float16, grad_fn=<MeanBackward0>)\n",
      "wp_zs_i tensor(0.1536, device='cuda:0', dtype=torch.float16, grad_fn=<MeanBackward0>)\n",
      "wp_angles tensor(0.0504, device='cuda:0', dtype=torch.float16, grad_fn=<MeanBackward0>)\n",
      "wp_headings tensor(0.1000, device='cuda:0', dtype=torch.float16, grad_fn=<MeanBackward0>)\n",
      "wp_curvatures tensor(0.4087, device='cuda:0', dtype=torch.float16, grad_fn=<MeanBackward0>)\n",
      "wp_rolls tensor(2.8105, device='cuda:0', dtype=torch.float16, grad_fn=<MeanBackward0>)\n",
      "wp_zs tensor(7.4688, device='cuda:0', dtype=torch.float16, grad_fn=<MeanBackward0>)\n",
      "te tensor(0.0046, device='cuda:0', dtype=torch.float16, grad_fn=<MeanBackward0>)\n",
      "has_stop tensor(0.0440, device='cuda:0', dtype=torch.float16, grad_fn=<MeanBackward0>)\n",
      "stop_dist tensor(0.0043, device='cuda:0', dtype=torch.float16, grad_fn=<MeanBackward0>)\n",
      "has_lead tensor(0.0077, device='cuda:0', dtype=torch.float16, grad_fn=<MeanBackward0>)\n",
      "lead_dist tensor(0.0025, device='cuda:0', dtype=torch.float16, grad_fn=<MeanBackward0>)\n",
      "lead_speed tensor(0.0112, device='cuda:0', dtype=torch.float16, grad_fn=<MeanBackward0>)\n",
      "dagger_shift tensor(0.0103, device='cuda:0', dtype=torch.float16, grad_fn=<MeanBackward0>)\n",
      "lane_width tensor(0.0275, device='cuda:0', dtype=torch.float16, grad_fn=<MeanBackward0>)\n",
      "rd_is_lined tensor(5.2750e-05, device='cuda:0', dtype=torch.float16,\n",
      "       grad_fn=<MeanBackward0>)\n",
      "left_turn tensor(0.0050, device='cuda:0', dtype=torch.float16, grad_fn=<MeanBackward0>)\n",
      "right_turn tensor(8.2254e-06, device='cuda:0', dtype=torch.float16,\n",
      "       grad_fn=<MeanBackward0>)\n",
      "unc tensor(105.8750, device='cuda:0', dtype=torch.float16)\n",
      "\n",
      "\n",
      " {'logistical/obs_consumed_per_second': 8.6484375, 'logistical/obs_generated_per_second': 35.96875, 'logistical/slowest_runner_obs_per_sec': 4.0, 'logistical/data_consumption_ratio': 0.24145035, 'logistical/manual_train_pause': 0.0, 'timing/get batch from dataloader': 1.89695399, 'timing/model forward': 0.00343858, 'timing/calc losses': 0.01952538, 'timing/backwards': 0.0487444, 'timing/get worst': 6.31e-06, 'timing/logging': 0.03248636, 'timing/calc timing': 0.00705168, 'timing/trn update': 2.00821145, 'avg_unc': -9.63934326, 'wp_angles_i': 0.00581221, 'wp_headings_i': 0.00598522, 'wp_curvatures_i': 0.02089726, 'wp_rolls_i': 0.00032162, 'wp_zs_i': 0.00141312, 'wp_angles': 0.00117532, 'wp_headings': 0.00173518, 'wp_curvatures': 0.00803062, 'wp_rolls': 0.05818329, 'wp_zs': 0.06016769, 'te': 0.00161074, 'has_stop': 0.00363641, 'stop_dist': 0.00118782, 'has_lead': 0.00746273, 'lead_dist': 0.00269685, 'lead_speed': 0.01842115, 'dagger_shift': 0.04058006, 'lane_width': 0.05044687, 'rd_is_lined': 9.484e-05, 'left_turn': 0.00182964, 'right_turn': 0.00062279, 'unc': 86.58496094, 'grad_max': 0.04130277, 'grad_norm': 0.56779893, 'logistical/max_param': 28.23920441, 'logistical/lr': 0.0003, 'logistical/mins_since_slowest_runner_reported': 4.96749493, 'logistical/snr': 0.1727946}\n",
      "\n",
      " {'timing/wait bc batch not ready': 0.53933594, 'timing/prep image': 0.53904719, 'timing/prep aux': 0.02211721, 'timing/calc wp targets': 0.03009106, 'timing/assemble mask': 0.00218003, 'timing/prep wps': 0.0003578, 'timing/get_batch_at_ix': 1.433e-05, 'timing/promote backup chunk': 0.05945058, 'timing/queue_batch': 0.65326504, 'timing/get run_path': 0.05392513, 'timing/load targets, aux, maps': 4.00975201, 'timing/smooth targets': 0.02406916, 'timing/load imgs': 13.06704891, 'timing/aug imgs': 64.55184204, 'timing/assemble img': 1.26860812, 'timing/update_seq_inplace': 82.97527242, 'timing/got chunk': 1.364e-05, 'timing/transfered chunk': 1.75575449, 'timing/got timings': 0.00018333, 'timing/refresh_chunk': 1.75595491, 'timing/waiting for available chunk': 0.0}\n",
      "wp_angles_i tensor(0.0188, device='cuda:0', dtype=torch.float16, grad_fn=<MeanBackward0>)\n",
      "wp_headings_i tensor(0.0692, device='cuda:0', dtype=torch.float16, grad_fn=<MeanBackward0>)\n",
      "wp_curvatures_i tensor(1.7168, device='cuda:0', dtype=torch.float16, grad_fn=<MeanBackward0>)\n",
      "wp_rolls_i tensor(0.0528, device='cuda:0', dtype=torch.float16, grad_fn=<MeanBackward0>)\n",
      "wp_zs_i tensor(0.6572, device='cuda:0', dtype=torch.float16, grad_fn=<MeanBackward0>)\n",
      "wp_angles tensor(0.1130, device='cuda:0', dtype=torch.float16, grad_fn=<MeanBackward0>)\n",
      "wp_headings tensor(0.1379, device='cuda:0', dtype=torch.float16, grad_fn=<MeanBackward0>)\n",
      "wp_curvatures tensor(1.1416, device='cuda:0', dtype=torch.float16, grad_fn=<MeanBackward0>)\n",
      "wp_rolls tensor(1.3975, device='cuda:0', dtype=torch.float16, grad_fn=<MeanBackward0>)\n",
      "wp_zs tensor(6.8008, device='cuda:0', dtype=torch.float16, grad_fn=<MeanBackward0>)\n",
      "te tensor(0.0024, device='cuda:0', dtype=torch.float16, grad_fn=<MeanBackward0>)\n",
      "has_stop tensor(0.0001, device='cuda:0', dtype=torch.float16, grad_fn=<MeanBackward0>)\n",
      "stop_dist tensor(0.0009, device='cuda:0', dtype=torch.float16, grad_fn=<MeanBackward0>)\n",
      "has_lead tensor(0.0007, device='cuda:0', dtype=torch.float16, grad_fn=<MeanBackward0>)\n",
      "lead_dist tensor(0.0005, device='cuda:0', dtype=torch.float16, grad_fn=<MeanBackward0>)\n",
      "lead_speed tensor(0.0014, device='cuda:0', dtype=torch.float16, grad_fn=<MeanBackward0>)\n",
      "dagger_shift tensor(0.0152, device='cuda:0', dtype=torch.float16, grad_fn=<MeanBackward0>)\n",
      "lane_width tensor(0.0242, device='cuda:0', dtype=torch.float16, grad_fn=<MeanBackward0>)\n",
      "rd_is_lined tensor(0.0002, device='cuda:0', dtype=torch.float16, grad_fn=<MeanBackward0>)\n"
     ]
    },
    {
     "name": "stdout",
     "output_type": "stream",
     "text": [
      "left_turn tensor(0.0043, device='cuda:0', dtype=torch.float16, grad_fn=<MeanBackward0>)\n",
      "right_turn tensor(5.0068e-06, device='cuda:0', dtype=torch.float16,\n",
      "       grad_fn=<MeanBackward0>)\n",
      "unc tensor(67.4375, device='cuda:0', dtype=torch.float16)\n",
      "wp_angles_i tensor(0.0764, device='cuda:0', dtype=torch.float16, grad_fn=<MeanBackward0>)\n",
      "wp_headings_i tensor(0.1731, device='cuda:0', dtype=torch.float16, grad_fn=<MeanBackward0>)\n",
      "wp_curvatures_i tensor(2.7051, device='cuda:0', dtype=torch.float16, grad_fn=<MeanBackward0>)\n",
      "wp_rolls_i tensor(0.0693, device='cuda:0', dtype=torch.float16, grad_fn=<MeanBackward0>)\n",
      "wp_zs_i tensor(0.2871, device='cuda:0', dtype=torch.float16, grad_fn=<MeanBackward0>)\n",
      "wp_angles tensor(0.1082, device='cuda:0', dtype=torch.float16, grad_fn=<MeanBackward0>)\n",
      "wp_headings tensor(0.1646, device='cuda:0', dtype=torch.float16, grad_fn=<MeanBackward0>)\n",
      "wp_curvatures tensor(0.5420, device='cuda:0', dtype=torch.float16, grad_fn=<MeanBackward0>)\n",
      "wp_rolls tensor(5.3789, device='cuda:0', dtype=torch.float16, grad_fn=<MeanBackward0>)\n",
      "wp_zs tensor(1.0303, device='cuda:0', dtype=torch.float16, grad_fn=<MeanBackward0>)\n",
      "te tensor(0.0049, device='cuda:0', dtype=torch.float16, grad_fn=<MeanBackward0>)\n",
      "has_stop tensor(0.0339, device='cuda:0', dtype=torch.float16, grad_fn=<MeanBackward0>)\n",
      "stop_dist tensor(0.0002, device='cuda:0', dtype=torch.float16, grad_fn=<MeanBackward0>)\n",
      "has_lead tensor(0.0002, device='cuda:0', dtype=torch.float16, grad_fn=<MeanBackward0>)\n",
      "lead_dist tensor(0., device='cuda:0', dtype=torch.float16, grad_fn=<MeanBackward0>)\n",
      "lead_speed tensor(0., device='cuda:0', dtype=torch.float16, grad_fn=<MeanBackward0>)\n",
      "dagger_shift tensor(0.0511, device='cuda:0', dtype=torch.float16, grad_fn=<MeanBackward0>)\n",
      "lane_width tensor(0.0397, device='cuda:0', dtype=torch.float16, grad_fn=<MeanBackward0>)\n",
      "rd_is_lined tensor(6.5506e-05, device='cuda:0', dtype=torch.float16,\n",
      "       grad_fn=<MeanBackward0>)\n",
      "left_turn tensor(0.0010, device='cuda:0', dtype=torch.float16, grad_fn=<MeanBackward0>)\n",
      "right_turn tensor(5.0545e-05, device='cuda:0', dtype=torch.float16,\n",
      "       grad_fn=<MeanBackward0>)\n",
      "unc tensor(82.3125, device='cuda:0', dtype=torch.float16)\n",
      "\n",
      "\n",
      " {'logistical/obs_consumed_per_second': 8.90625, 'logistical/obs_generated_per_second': 34.828125, 'logistical/slowest_runner_obs_per_sec': 4.0, 'logistical/data_consumption_ratio': 0.25309689, 'logistical/manual_train_pause': 0.0, 'timing/get batch from dataloader': 1.8768986, 'timing/model forward': 0.00365854, 'timing/calc losses': 0.03043338, 'timing/backwards': 0.04090231, 'timing/get worst': 6.11e-06, 'timing/logging': 0.02799082, 'timing/calc timing': 0.00596823, 'timing/trn update': 1.98586272, 'avg_unc': -8.93774414, 'wp_angles_i': 0.00919573, 'wp_headings_i': 0.01008456, 'wp_curvatures_i': 0.02838344, 'wp_rolls_i': 0.00029674, 'wp_zs_i': 0.00228783, 'wp_angles': 0.00111136, 'wp_headings': 0.00180954, 'wp_curvatures': 0.0091408, 'wp_rolls': 0.0516502, 'wp_zs': 0.04750114, 'te': 0.00151151, 'has_stop': 0.00336015, 'stop_dist': 0.00089064, 'has_lead': 0.00382371, 'lead_dist': 0.0017585, 'lead_speed': 0.01248724, 'dagger_shift': 0.02475976, 'lane_width': 0.05311292, 'rd_is_lined': 0.0002594, 'left_turn': 0.00314628, 'right_turn': 0.00249291, 'unc': 70.19433594, 'grad_max': 0.04281005, 'grad_norm': 0.56834216, 'logistical/max_param': 28.23920441, 'logistical/lr': 0.0003, 'logistical/mins_since_slowest_runner_reported': 5.00948964, 'logistical/snr': 0.1725946}\n",
      "\n",
      " {'timing/wait bc batch not ready': 0.53119141, 'timing/prep image': 0.53066822, 'timing/prep aux': 0.02733879, 'timing/calc wp targets': 0.03020023, 'timing/assemble mask': 0.00179185, 'timing/prep wps': 0.00070776, 'timing/get_batch_at_ix': 1.2e-05, 'timing/promote backup chunk': 0.05776952, 'timing/queue_batch': 0.64849541, 'timing/get run_path': 0.06248974, 'timing/load targets, aux, maps': 4.02905326, 'timing/smooth targets': 0.02288251, 'timing/load imgs': 12.67478587, 'timing/aug imgs': 63.25846774, 'timing/assemble img': 1.24611711, 'timing/update_seq_inplace': 81.29382067, 'timing/got chunk': 4.209e-05, 'timing/transfered chunk': 1.70608498, 'timing/got timings': 0.00016124, 'timing/refresh_chunk': 1.70629109, 'timing/waiting for available chunk': 0.0}\n"
     ]
    }
   ],
   "source": [
    "trainer.train()"
   ]
  },
  {
   "cell_type": "code",
   "execution_count": null,
   "metadata": {},
   "outputs": [],
   "source": []
  },
  {
   "cell_type": "code",
   "execution_count": 20,
   "metadata": {},
   "outputs": [
    {
     "data": {
      "text/plain": [
       "['has_stop',\n",
       " 'stop_dist',\n",
       " 'has_lead',\n",
       " 'lead_dist',\n",
       " 'lead_speed',\n",
       " 'dagger_shift',\n",
       " 'lane_width',\n",
       " 'rd_is_lined',\n",
       " 'left_turn',\n",
       " 'right_turn']"
      ]
     },
     "execution_count": 20,
     "metadata": {},
     "output_type": "execute_result"
    }
   ],
   "source": [
    "AUX_TARGET_PROPS"
   ]
  },
  {
   "cell_type": "code",
   "execution_count": 20,
   "metadata": {},
   "outputs": [
    {
     "data": {
      "text/plain": [
       "{'has_stop': 0.6581827152218972,\n",
       " 'stop_dist': 0.1914074304465102,\n",
       " 'has_lead': 0.6045025000545183,\n",
       " 'lead_dist': 0.18079276826857715,\n",
       " 'lead_speed': 0.8834656769419045,\n",
       " 'lane_width': 4.096574170043749,\n",
       " 'dagger_shift': 2.512469867257369,\n",
       " 'rd_is_lined': 0.10581200184235365,\n",
       " 'left_turn': 0.08856740587054233,\n",
       " 'right_turn': 0.07401701428385941,\n",
       " 'td': 10.0,\n",
       " 'pitch': 10.0,\n",
       " 'yaw': 10.0,\n",
       " 'unc': 117.34792707051348,\n",
       " 'te': 0.002,\n",
       " 'wp_angles': 0.0859911379087128,\n",
       " 'wp_angles_i': 4.15318218310992,\n",
       " 'wp_curvatures': 0.7827851002866839,\n",
       " 'wp_curvatures_i': 17.866540970943753,\n",
       " 'wp_headings': 0.12228421566478304,\n",
       " 'wp_headings_i': 2.901144808827211,\n",
       " 'wp_rolls': 4.211842307760256,\n",
       " 'wp_rolls_i': 0.13459417300430104,\n",
       " 'wp_zs': 5.043518468202303,\n",
       " 'wp_zs_i': 1.1309414719989206}"
      ]
     },
     "execution_count": 20,
     "metadata": {},
     "output_type": "execute_result"
    }
   ],
   "source": [
    "trainer.loss_manager.loss_emas"
   ]
  },
  {
   "cell_type": "code",
   "execution_count": null,
   "metadata": {},
   "outputs": [],
   "source": [
    "\n"
   ]
  },
  {
   "cell_type": "code",
   "execution_count": 20,
   "metadata": {},
   "outputs": [
    {
     "data": {
      "text/plain": [
       "(Parameter containing:\n",
       " tensor([[[ 0.0015, -0.0488, -0.0292,  ..., -0.0560, -0.0283,  0.0664]]],\n",
       "        device='cuda:0', requires_grad=True),\n",
       " Parameter containing:\n",
       " tensor([[[-0.3869,  0.0330,  0.0708,  ..., -0.0204,  0.3181, -0.2530]]],\n",
       "        device='cuda:0', requires_grad=True))"
      ]
     },
     "execution_count": 20,
     "metadata": {},
     "output_type": "execute_result"
    }
   ],
   "source": [
    "m.hidden_init, m.cell_init"
   ]
  },
  {
   "cell_type": "code",
   "execution_count": 21,
   "metadata": {},
   "outputs": [
    {
     "data": {
      "text/plain": [
       "(True, False)"
      ]
     },
     "execution_count": 21,
     "metadata": {},
     "output_type": "execute_result"
    }
   ],
   "source": [
    "m.training, m.backbone.training "
   ]
  },
  {
   "cell_type": "code",
   "execution_count": 22,
   "metadata": {},
   "outputs": [],
   "source": [
    "set_trainer_should_stop(False)"
   ]
  },
  {
   "cell_type": "code",
   "execution_count": 28,
   "metadata": {},
   "outputs": [
    {
     "data": {
      "text/plain": [
       "{'has_stop': 29.734797363340526,\n",
       " 'stop_dist': 87.87280383313023,\n",
       " 'has_lead': 40.201898525296386,\n",
       " 'lead_dist': 127.76564504863305,\n",
       " 'lead_speed': 0.34846566491395553,\n",
       " 'lane_width': 3.809900606793288,\n",
       " 'dagger_shift': 4.134576796863424,\n",
       " 'rd_is_lined': 16457.381372040072,\n",
       " 'left_turn': 125.55969474655697,\n",
       " 'right_turn': 283.74133223646584,\n",
       " 'td': 0.015300805875045518,\n",
       " 'pitch': 0.015300805875045518,\n",
       " 'yaw': 0.015300805875045518,\n",
       " 'unc': 0.11512757866420895,\n",
       " 'te': 61.54656219577027,\n",
       " 'wp_angles': 1.0,\n",
       " 'wp_angles_i': 0.240031243936724,\n",
       " 'wp_curvatures': 0.16382346075192508,\n",
       " 'wp_curvatures_i': 0.003522151816451157,\n",
       " 'wp_headings': 0.5183519273228973,\n",
       " 'wp_headings_i': 0.005565440760627469,\n",
       " 'wp_rolls': 0.027721036050055964,\n",
       " 'wp_rolls_i': 8.663331955712781,\n",
       " 'wp_zs': 0.00020285505128895626,\n",
       " 'wp_zs_i': 0.0035411505624853203}"
      ]
     },
     "execution_count": 28,
     "metadata": {},
     "output_type": "execute_result"
    }
   ],
   "source": [
    "{k:trainer.loss_manager.loss_emas[\"wp_angles\"]/trainer.loss_manager.loss_emas[k] for k,v in trainer.loss_manager.loss_emas.items()}"
   ]
  },
  {
   "cell_type": "code",
   "execution_count": 23,
   "metadata": {},
   "outputs": [
    {
     "data": {
      "text/plain": [
       "1176"
      ]
     },
     "execution_count": 23,
     "metadata": {},
     "output_type": "execute_result"
    }
   ],
   "source": [
    "{'has_stop': 0.005145757574225003,\n",
    " 'stop_dist': 0.001741244754645775,\n",
    " 'has_lead': 0.0038059908701619494,\n",
    " 'lead_dist': 0.0011975680840668381,\n",
    " 'lead_speed': 0.4390907746627964,\n",
    " 'lane_width': 0.04016064316156499,\n",
    " 'dagger_shift': 0.0370069456362572,\n",
    " 'rd_is_lined': 9.297229935401817e-06,\n",
    " 'left_turn': 0.0012186080816722507,\n",
    " 'right_turn': 0.0005392519219686348,\n",
    " 'td': 10.0,\n",
    " 'pitch': 10.0,\n",
    " 'yaw': 10.0,\n",
    " 'unc': 1.329030459302299,\n",
    " 'te': 0.002486053701322257,\n",
    " 'wp_angles': 0.15300805875045517,\n",
    " 'wp_angles_i': 0.6374505928519476,\n",
    " 'wp_curvatures': 0.9339813604728601,\n",
    " 'wp_curvatures_i': 1.44164213359285,\n",
    " 'wp_headings': 0.2951818073498582,\n",
    " 'wp_headings_i': 1.49253209788985,\n",
    " 'wp_rolls': 5.519564942456264,\n",
    " 'wp_rolls_i': 0.017661571729288113,\n",
    " 'wp_zs': 754.2728553133405,\n",
    " 'wp_zs_i': 43.208571917673005\n",
    "\n",
    "\n",
    "import sys\n",
    "sys.getsizeof(trainer.loss_manager.loss_emas)"
   ]
  },
  {
   "cell_type": "code",
   "execution_count": 16,
   "metadata": {},
   "outputs": [],
   "source": [
    "torch.save(trainer.model.state_dict(), f\"{BESPOKE_ROOT}/models/m{trainer.model_stem}_e{trainer.current_epoch}.torch\")"
   ]
  },
  {
   "cell_type": "code",
   "execution_count": null,
   "metadata": {},
   "outputs": [],
   "source": []
  },
  {
   "cell_type": "code",
   "execution_count": 16,
   "metadata": {
    "scrolled": true
   },
   "outputs": [
    {
     "name": "stdout",
     "output_type": "stream",
     "text": [
      "Error in callback <function _WandbInit._resume_backend at 0x7f62ef023160> (for pre_run_cell):\n"
     ]
    },
    {
     "ename": "Exception",
     "evalue": "The wandb backend process has shutdown",
     "output_type": "error",
     "traceback": [
      "\u001b[0;31m---------------------------------------------------------------------------\u001b[0m",
      "\u001b[0;31mException\u001b[0m                                 Traceback (most recent call last)",
      "\u001b[0;32m~/miniconda3/envs/py38/lib/python3.8/site-packages/backcall/backcall.py\u001b[0m in \u001b[0;36madapted\u001b[0;34m(*args, **kwargs)\u001b[0m\n\u001b[1;32m    102\u001b[0m                 \u001b[0mkwargs\u001b[0m\u001b[0;34m.\u001b[0m\u001b[0mpop\u001b[0m\u001b[0;34m(\u001b[0m\u001b[0mname\u001b[0m\u001b[0;34m)\u001b[0m\u001b[0;34m\u001b[0m\u001b[0;34m\u001b[0m\u001b[0m\n\u001b[1;32m    103\u001b[0m \u001b[0;31m#            print(args, kwargs, unmatched_pos, cut_positional, unmatched_kw)\u001b[0m\u001b[0;34m\u001b[0m\u001b[0;34m\u001b[0m\u001b[0;34m\u001b[0m\u001b[0m\n\u001b[0;32m--> 104\u001b[0;31m             \u001b[0;32mreturn\u001b[0m \u001b[0mcallback\u001b[0m\u001b[0;34m(\u001b[0m\u001b[0;34m*\u001b[0m\u001b[0margs\u001b[0m\u001b[0;34m,\u001b[0m \u001b[0;34m**\u001b[0m\u001b[0mkwargs\u001b[0m\u001b[0;34m)\u001b[0m\u001b[0;34m\u001b[0m\u001b[0;34m\u001b[0m\u001b[0m\n\u001b[0m\u001b[1;32m    105\u001b[0m \u001b[0;34m\u001b[0m\u001b[0m\n\u001b[1;32m    106\u001b[0m         \u001b[0;32mreturn\u001b[0m \u001b[0madapted\u001b[0m\u001b[0;34m\u001b[0m\u001b[0;34m\u001b[0m\u001b[0m\n",
      "\u001b[0;32m~/miniconda3/envs/py38/lib/python3.8/site-packages/wandb/sdk/wandb_init.py\u001b[0m in \u001b[0;36m_resume_backend\u001b[0;34m(self)\u001b[0m\n\u001b[1;32m    278\u001b[0m         \u001b[0;32mif\u001b[0m \u001b[0mself\u001b[0m\u001b[0;34m.\u001b[0m\u001b[0mbackend\u001b[0m \u001b[0;32mis\u001b[0m \u001b[0;32mnot\u001b[0m \u001b[0;32mNone\u001b[0m\u001b[0;34m:\u001b[0m\u001b[0;34m\u001b[0m\u001b[0;34m\u001b[0m\u001b[0m\n\u001b[1;32m    279\u001b[0m             \u001b[0mlogger\u001b[0m\u001b[0;34m.\u001b[0m\u001b[0minfo\u001b[0m\u001b[0;34m(\u001b[0m\u001b[0;34m\"resuming backend\"\u001b[0m\u001b[0;34m)\u001b[0m\u001b[0;34m\u001b[0m\u001b[0;34m\u001b[0m\u001b[0m\n\u001b[0;32m--> 280\u001b[0;31m             \u001b[0mself\u001b[0m\u001b[0;34m.\u001b[0m\u001b[0mbackend\u001b[0m\u001b[0;34m.\u001b[0m\u001b[0minterface\u001b[0m\u001b[0;34m.\u001b[0m\u001b[0mpublish_resume\u001b[0m\u001b[0;34m(\u001b[0m\u001b[0;34m)\u001b[0m\u001b[0;34m\u001b[0m\u001b[0;34m\u001b[0m\u001b[0m\n\u001b[0m\u001b[1;32m    281\u001b[0m \u001b[0;34m\u001b[0m\u001b[0m\n\u001b[1;32m    282\u001b[0m     \u001b[0;32mdef\u001b[0m \u001b[0m_jupyter_teardown\u001b[0m\u001b[0;34m(\u001b[0m\u001b[0mself\u001b[0m\u001b[0;34m)\u001b[0m\u001b[0;34m:\u001b[0m\u001b[0;34m\u001b[0m\u001b[0;34m\u001b[0m\u001b[0m\n",
      "\u001b[0;32m~/miniconda3/envs/py38/lib/python3.8/site-packages/wandb/sdk/interface/interface.py\u001b[0m in \u001b[0;36mpublish_resume\u001b[0;34m(self)\u001b[0m\n\u001b[1;32m    543\u001b[0m     \u001b[0;32mdef\u001b[0m \u001b[0mpublish_resume\u001b[0m\u001b[0;34m(\u001b[0m\u001b[0mself\u001b[0m\u001b[0;34m)\u001b[0m \u001b[0;34m->\u001b[0m \u001b[0;32mNone\u001b[0m\u001b[0;34m:\u001b[0m\u001b[0;34m\u001b[0m\u001b[0;34m\u001b[0m\u001b[0m\n\u001b[1;32m    544\u001b[0m         \u001b[0mresume\u001b[0m \u001b[0;34m=\u001b[0m \u001b[0mpb\u001b[0m\u001b[0;34m.\u001b[0m\u001b[0mResumeRequest\u001b[0m\u001b[0;34m(\u001b[0m\u001b[0;34m)\u001b[0m\u001b[0;34m\u001b[0m\u001b[0;34m\u001b[0m\u001b[0m\n\u001b[0;32m--> 545\u001b[0;31m         \u001b[0mself\u001b[0m\u001b[0;34m.\u001b[0m\u001b[0m_publish_resume\u001b[0m\u001b[0;34m(\u001b[0m\u001b[0mresume\u001b[0m\u001b[0;34m)\u001b[0m\u001b[0;34m\u001b[0m\u001b[0;34m\u001b[0m\u001b[0m\n\u001b[0m\u001b[1;32m    546\u001b[0m \u001b[0;34m\u001b[0m\u001b[0m\n\u001b[1;32m    547\u001b[0m     \u001b[0;34m@\u001b[0m\u001b[0mabstractmethod\u001b[0m\u001b[0;34m\u001b[0m\u001b[0;34m\u001b[0m\u001b[0m\n",
      "\u001b[0;32m~/miniconda3/envs/py38/lib/python3.8/site-packages/wandb/sdk/interface/interface_queue.py\u001b[0m in \u001b[0;36m_publish_resume\u001b[0;34m(self, resume)\u001b[0m\n\u001b[1;32m    287\u001b[0m     \u001b[0;32mdef\u001b[0m \u001b[0m_publish_resume\u001b[0m\u001b[0;34m(\u001b[0m\u001b[0mself\u001b[0m\u001b[0;34m,\u001b[0m \u001b[0mresume\u001b[0m\u001b[0;34m:\u001b[0m \u001b[0mpb\u001b[0m\u001b[0;34m.\u001b[0m\u001b[0mResumeRequest\u001b[0m\u001b[0;34m)\u001b[0m \u001b[0;34m->\u001b[0m \u001b[0;32mNone\u001b[0m\u001b[0;34m:\u001b[0m\u001b[0;34m\u001b[0m\u001b[0;34m\u001b[0m\u001b[0m\n\u001b[1;32m    288\u001b[0m         \u001b[0mrec\u001b[0m \u001b[0;34m=\u001b[0m \u001b[0mself\u001b[0m\u001b[0;34m.\u001b[0m\u001b[0m_make_request\u001b[0m\u001b[0;34m(\u001b[0m\u001b[0mresume\u001b[0m\u001b[0;34m=\u001b[0m\u001b[0mresume\u001b[0m\u001b[0;34m)\u001b[0m\u001b[0;34m\u001b[0m\u001b[0;34m\u001b[0m\u001b[0m\n\u001b[0;32m--> 289\u001b[0;31m         \u001b[0mself\u001b[0m\u001b[0;34m.\u001b[0m\u001b[0m_publish\u001b[0m\u001b[0;34m(\u001b[0m\u001b[0mrec\u001b[0m\u001b[0;34m)\u001b[0m\u001b[0;34m\u001b[0m\u001b[0;34m\u001b[0m\u001b[0m\n\u001b[0m\u001b[1;32m    290\u001b[0m \u001b[0;34m\u001b[0m\u001b[0m\n\u001b[1;32m    291\u001b[0m     \u001b[0;32mdef\u001b[0m \u001b[0m_publish_run\u001b[0m\u001b[0;34m(\u001b[0m\u001b[0mself\u001b[0m\u001b[0;34m,\u001b[0m \u001b[0mrun\u001b[0m\u001b[0;34m:\u001b[0m \u001b[0mpb\u001b[0m\u001b[0;34m.\u001b[0m\u001b[0mRunRecord\u001b[0m\u001b[0;34m)\u001b[0m \u001b[0;34m->\u001b[0m \u001b[0;32mNone\u001b[0m\u001b[0;34m:\u001b[0m\u001b[0;34m\u001b[0m\u001b[0;34m\u001b[0m\u001b[0m\n",
      "\u001b[0;32m~/miniconda3/envs/py38/lib/python3.8/site-packages/wandb/sdk/interface/interface_queue.py\u001b[0m in \u001b[0;36m_publish\u001b[0;34m(self, record, local)\u001b[0m\n\u001b[1;32m    221\u001b[0m     \u001b[0;32mdef\u001b[0m \u001b[0m_publish\u001b[0m\u001b[0;34m(\u001b[0m\u001b[0mself\u001b[0m\u001b[0;34m,\u001b[0m \u001b[0mrecord\u001b[0m\u001b[0;34m:\u001b[0m \u001b[0mpb\u001b[0m\u001b[0;34m.\u001b[0m\u001b[0mRecord\u001b[0m\u001b[0;34m,\u001b[0m \u001b[0mlocal\u001b[0m\u001b[0;34m:\u001b[0m \u001b[0mbool\u001b[0m \u001b[0;34m=\u001b[0m \u001b[0;32mNone\u001b[0m\u001b[0;34m)\u001b[0m \u001b[0;34m->\u001b[0m \u001b[0;32mNone\u001b[0m\u001b[0;34m:\u001b[0m\u001b[0;34m\u001b[0m\u001b[0;34m\u001b[0m\u001b[0m\n\u001b[1;32m    222\u001b[0m         \u001b[0;32mif\u001b[0m \u001b[0mself\u001b[0m\u001b[0;34m.\u001b[0m\u001b[0m_process_check\u001b[0m \u001b[0;32mand\u001b[0m \u001b[0mself\u001b[0m\u001b[0;34m.\u001b[0m\u001b[0m_process\u001b[0m \u001b[0;32mand\u001b[0m \u001b[0;32mnot\u001b[0m \u001b[0mself\u001b[0m\u001b[0;34m.\u001b[0m\u001b[0m_process\u001b[0m\u001b[0;34m.\u001b[0m\u001b[0mis_alive\u001b[0m\u001b[0;34m(\u001b[0m\u001b[0;34m)\u001b[0m\u001b[0;34m:\u001b[0m\u001b[0;34m\u001b[0m\u001b[0;34m\u001b[0m\u001b[0m\n\u001b[0;32m--> 223\u001b[0;31m             \u001b[0;32mraise\u001b[0m \u001b[0mException\u001b[0m\u001b[0;34m(\u001b[0m\u001b[0;34m\"The wandb backend process has shutdown\"\u001b[0m\u001b[0;34m)\u001b[0m\u001b[0;34m\u001b[0m\u001b[0;34m\u001b[0m\u001b[0m\n\u001b[0m\u001b[1;32m    224\u001b[0m         \u001b[0;32mif\u001b[0m \u001b[0mlocal\u001b[0m\u001b[0;34m:\u001b[0m\u001b[0;34m\u001b[0m\u001b[0;34m\u001b[0m\u001b[0m\n\u001b[1;32m    225\u001b[0m             \u001b[0mrecord\u001b[0m\u001b[0;34m.\u001b[0m\u001b[0mcontrol\u001b[0m\u001b[0;34m.\u001b[0m\u001b[0mlocal\u001b[0m \u001b[0;34m=\u001b[0m \u001b[0mlocal\u001b[0m\u001b[0;34m\u001b[0m\u001b[0;34m\u001b[0m\u001b[0m\n",
      "\u001b[0;31mException\u001b[0m: The wandb backend process has shutdown"
     ]
    },
    {
     "data": {
      "text/plain": [
       "True"
      ]
     },
     "execution_count": 16,
     "metadata": {},
     "output_type": "execute_result"
    },
    {
     "name": "stdout",
     "output_type": "stream",
     "text": [
      "Error in callback <function _WandbInit._pause_backend at 0x7f62e3b863a0> (for post_run_cell):\n"
     ]
    },
    {
     "ename": "Exception",
     "evalue": "The wandb backend process has shutdown",
     "output_type": "error",
     "traceback": [
      "\u001b[0;31m---------------------------------------------------------------------------\u001b[0m",
      "\u001b[0;31mException\u001b[0m                                 Traceback (most recent call last)",
      "\u001b[0;32m~/miniconda3/envs/py38/lib/python3.8/site-packages/backcall/backcall.py\u001b[0m in \u001b[0;36madapted\u001b[0;34m(*args, **kwargs)\u001b[0m\n\u001b[1;32m    102\u001b[0m                 \u001b[0mkwargs\u001b[0m\u001b[0;34m.\u001b[0m\u001b[0mpop\u001b[0m\u001b[0;34m(\u001b[0m\u001b[0mname\u001b[0m\u001b[0;34m)\u001b[0m\u001b[0;34m\u001b[0m\u001b[0;34m\u001b[0m\u001b[0m\n\u001b[1;32m    103\u001b[0m \u001b[0;31m#            print(args, kwargs, unmatched_pos, cut_positional, unmatched_kw)\u001b[0m\u001b[0;34m\u001b[0m\u001b[0;34m\u001b[0m\u001b[0;34m\u001b[0m\u001b[0m\n\u001b[0;32m--> 104\u001b[0;31m             \u001b[0;32mreturn\u001b[0m \u001b[0mcallback\u001b[0m\u001b[0;34m(\u001b[0m\u001b[0;34m*\u001b[0m\u001b[0margs\u001b[0m\u001b[0;34m,\u001b[0m \u001b[0;34m**\u001b[0m\u001b[0mkwargs\u001b[0m\u001b[0;34m)\u001b[0m\u001b[0;34m\u001b[0m\u001b[0;34m\u001b[0m\u001b[0m\n\u001b[0m\u001b[1;32m    105\u001b[0m \u001b[0;34m\u001b[0m\u001b[0m\n\u001b[1;32m    106\u001b[0m         \u001b[0;32mreturn\u001b[0m \u001b[0madapted\u001b[0m\u001b[0;34m\u001b[0m\u001b[0;34m\u001b[0m\u001b[0m\n",
      "\u001b[0;32m~/miniconda3/envs/py38/lib/python3.8/site-packages/wandb/sdk/wandb_init.py\u001b[0m in \u001b[0;36m_pause_backend\u001b[0;34m(self)\u001b[0m\n\u001b[1;32m    273\u001b[0m                 \u001b[0mres\u001b[0m \u001b[0;34m=\u001b[0m \u001b[0mself\u001b[0m\u001b[0;34m.\u001b[0m\u001b[0mrun\u001b[0m\u001b[0;34m.\u001b[0m\u001b[0mlog_code\u001b[0m\u001b[0;34m(\u001b[0m\u001b[0mroot\u001b[0m\u001b[0;34m=\u001b[0m\u001b[0;32mNone\u001b[0m\u001b[0;34m)\u001b[0m\u001b[0;34m\u001b[0m\u001b[0;34m\u001b[0m\u001b[0m\n\u001b[1;32m    274\u001b[0m                 \u001b[0mlogger\u001b[0m\u001b[0;34m.\u001b[0m\u001b[0minfo\u001b[0m\u001b[0;34m(\u001b[0m\u001b[0;34m\"saved code: %s\"\u001b[0m\u001b[0;34m,\u001b[0m \u001b[0mres\u001b[0m\u001b[0;34m)\u001b[0m\u001b[0;34m\u001b[0m\u001b[0;34m\u001b[0m\u001b[0m\n\u001b[0;32m--> 275\u001b[0;31m             \u001b[0mself\u001b[0m\u001b[0;34m.\u001b[0m\u001b[0mbackend\u001b[0m\u001b[0;34m.\u001b[0m\u001b[0minterface\u001b[0m\u001b[0;34m.\u001b[0m\u001b[0mpublish_pause\u001b[0m\u001b[0;34m(\u001b[0m\u001b[0;34m)\u001b[0m\u001b[0;34m\u001b[0m\u001b[0;34m\u001b[0m\u001b[0m\n\u001b[0m\u001b[1;32m    276\u001b[0m \u001b[0;34m\u001b[0m\u001b[0m\n\u001b[1;32m    277\u001b[0m     \u001b[0;32mdef\u001b[0m \u001b[0m_resume_backend\u001b[0m\u001b[0;34m(\u001b[0m\u001b[0mself\u001b[0m\u001b[0;34m)\u001b[0m\u001b[0;34m:\u001b[0m\u001b[0;34m\u001b[0m\u001b[0;34m\u001b[0m\u001b[0m\n",
      "\u001b[0;32m~/miniconda3/envs/py38/lib/python3.8/site-packages/wandb/sdk/interface/interface.py\u001b[0m in \u001b[0;36mpublish_pause\u001b[0;34m(self)\u001b[0m\n\u001b[1;32m    535\u001b[0m     \u001b[0;32mdef\u001b[0m \u001b[0mpublish_pause\u001b[0m\u001b[0;34m(\u001b[0m\u001b[0mself\u001b[0m\u001b[0;34m)\u001b[0m \u001b[0;34m->\u001b[0m \u001b[0;32mNone\u001b[0m\u001b[0;34m:\u001b[0m\u001b[0;34m\u001b[0m\u001b[0;34m\u001b[0m\u001b[0m\n\u001b[1;32m    536\u001b[0m         \u001b[0mpause\u001b[0m \u001b[0;34m=\u001b[0m \u001b[0mpb\u001b[0m\u001b[0;34m.\u001b[0m\u001b[0mPauseRequest\u001b[0m\u001b[0;34m(\u001b[0m\u001b[0;34m)\u001b[0m\u001b[0;34m\u001b[0m\u001b[0;34m\u001b[0m\u001b[0m\n\u001b[0;32m--> 537\u001b[0;31m         \u001b[0mself\u001b[0m\u001b[0;34m.\u001b[0m\u001b[0m_publish_pause\u001b[0m\u001b[0;34m(\u001b[0m\u001b[0mpause\u001b[0m\u001b[0;34m)\u001b[0m\u001b[0;34m\u001b[0m\u001b[0;34m\u001b[0m\u001b[0m\n\u001b[0m\u001b[1;32m    538\u001b[0m \u001b[0;34m\u001b[0m\u001b[0m\n\u001b[1;32m    539\u001b[0m     \u001b[0;34m@\u001b[0m\u001b[0mabstractmethod\u001b[0m\u001b[0;34m\u001b[0m\u001b[0;34m\u001b[0m\u001b[0m\n",
      "\u001b[0;32m~/miniconda3/envs/py38/lib/python3.8/site-packages/wandb/sdk/interface/interface_queue.py\u001b[0m in \u001b[0;36m_publish_pause\u001b[0;34m(self, pause)\u001b[0m\n\u001b[1;32m    283\u001b[0m     \u001b[0;32mdef\u001b[0m \u001b[0m_publish_pause\u001b[0m\u001b[0;34m(\u001b[0m\u001b[0mself\u001b[0m\u001b[0;34m,\u001b[0m \u001b[0mpause\u001b[0m\u001b[0;34m:\u001b[0m \u001b[0mpb\u001b[0m\u001b[0;34m.\u001b[0m\u001b[0mPauseRequest\u001b[0m\u001b[0;34m)\u001b[0m \u001b[0;34m->\u001b[0m \u001b[0;32mNone\u001b[0m\u001b[0;34m:\u001b[0m\u001b[0;34m\u001b[0m\u001b[0;34m\u001b[0m\u001b[0m\n\u001b[1;32m    284\u001b[0m         \u001b[0mrec\u001b[0m \u001b[0;34m=\u001b[0m \u001b[0mself\u001b[0m\u001b[0;34m.\u001b[0m\u001b[0m_make_request\u001b[0m\u001b[0;34m(\u001b[0m\u001b[0mpause\u001b[0m\u001b[0;34m=\u001b[0m\u001b[0mpause\u001b[0m\u001b[0;34m)\u001b[0m\u001b[0;34m\u001b[0m\u001b[0;34m\u001b[0m\u001b[0m\n\u001b[0;32m--> 285\u001b[0;31m         \u001b[0mself\u001b[0m\u001b[0;34m.\u001b[0m\u001b[0m_publish\u001b[0m\u001b[0;34m(\u001b[0m\u001b[0mrec\u001b[0m\u001b[0;34m)\u001b[0m\u001b[0;34m\u001b[0m\u001b[0;34m\u001b[0m\u001b[0m\n\u001b[0m\u001b[1;32m    286\u001b[0m \u001b[0;34m\u001b[0m\u001b[0m\n\u001b[1;32m    287\u001b[0m     \u001b[0;32mdef\u001b[0m \u001b[0m_publish_resume\u001b[0m\u001b[0;34m(\u001b[0m\u001b[0mself\u001b[0m\u001b[0;34m,\u001b[0m \u001b[0mresume\u001b[0m\u001b[0;34m:\u001b[0m \u001b[0mpb\u001b[0m\u001b[0;34m.\u001b[0m\u001b[0mResumeRequest\u001b[0m\u001b[0;34m)\u001b[0m \u001b[0;34m->\u001b[0m \u001b[0;32mNone\u001b[0m\u001b[0;34m:\u001b[0m\u001b[0;34m\u001b[0m\u001b[0;34m\u001b[0m\u001b[0m\n",
      "\u001b[0;32m~/miniconda3/envs/py38/lib/python3.8/site-packages/wandb/sdk/interface/interface_queue.py\u001b[0m in \u001b[0;36m_publish\u001b[0;34m(self, record, local)\u001b[0m\n\u001b[1;32m    221\u001b[0m     \u001b[0;32mdef\u001b[0m \u001b[0m_publish\u001b[0m\u001b[0;34m(\u001b[0m\u001b[0mself\u001b[0m\u001b[0;34m,\u001b[0m \u001b[0mrecord\u001b[0m\u001b[0;34m:\u001b[0m \u001b[0mpb\u001b[0m\u001b[0;34m.\u001b[0m\u001b[0mRecord\u001b[0m\u001b[0;34m,\u001b[0m \u001b[0mlocal\u001b[0m\u001b[0;34m:\u001b[0m \u001b[0mbool\u001b[0m \u001b[0;34m=\u001b[0m \u001b[0;32mNone\u001b[0m\u001b[0;34m)\u001b[0m \u001b[0;34m->\u001b[0m \u001b[0;32mNone\u001b[0m\u001b[0;34m:\u001b[0m\u001b[0;34m\u001b[0m\u001b[0;34m\u001b[0m\u001b[0m\n\u001b[1;32m    222\u001b[0m         \u001b[0;32mif\u001b[0m \u001b[0mself\u001b[0m\u001b[0;34m.\u001b[0m\u001b[0m_process_check\u001b[0m \u001b[0;32mand\u001b[0m \u001b[0mself\u001b[0m\u001b[0;34m.\u001b[0m\u001b[0m_process\u001b[0m \u001b[0;32mand\u001b[0m \u001b[0;32mnot\u001b[0m \u001b[0mself\u001b[0m\u001b[0;34m.\u001b[0m\u001b[0m_process\u001b[0m\u001b[0;34m.\u001b[0m\u001b[0mis_alive\u001b[0m\u001b[0;34m(\u001b[0m\u001b[0;34m)\u001b[0m\u001b[0;34m:\u001b[0m\u001b[0;34m\u001b[0m\u001b[0;34m\u001b[0m\u001b[0m\n\u001b[0;32m--> 223\u001b[0;31m             \u001b[0;32mraise\u001b[0m \u001b[0mException\u001b[0m\u001b[0;34m(\u001b[0m\u001b[0;34m\"The wandb backend process has shutdown\"\u001b[0m\u001b[0;34m)\u001b[0m\u001b[0;34m\u001b[0m\u001b[0;34m\u001b[0m\u001b[0m\n\u001b[0m\u001b[1;32m    224\u001b[0m         \u001b[0;32mif\u001b[0m \u001b[0mlocal\u001b[0m\u001b[0;34m:\u001b[0m\u001b[0;34m\u001b[0m\u001b[0;34m\u001b[0m\u001b[0m\n\u001b[1;32m    225\u001b[0m             \u001b[0mrecord\u001b[0m\u001b[0;34m.\u001b[0m\u001b[0mcontrol\u001b[0m\u001b[0;34m.\u001b[0m\u001b[0mlocal\u001b[0m \u001b[0;34m=\u001b[0m \u001b[0mlocal\u001b[0m\u001b[0;34m\u001b[0m\u001b[0;34m\u001b[0m\u001b[0m\n",
      "\u001b[0;31mException\u001b[0m: The wandb backend process has shutdown"
     ]
    }
   ],
   "source": [
    "m.training"
   ]
  },
  {
   "cell_type": "code",
   "execution_count": null,
   "metadata": {},
   "outputs": [],
   "source": []
  },
  {
   "cell_type": "code",
   "execution_count": null,
   "metadata": {},
   "outputs": [],
   "source": [
    "trainer.opt.param_groups[0]['lr'] = 3e-4"
   ]
  },
  {
   "cell_type": "code",
   "execution_count": null,
   "metadata": {},
   "outputs": [],
   "source": []
  },
  {
   "cell_type": "code",
   "execution_count": 28,
   "metadata": {},
   "outputs": [
    {
     "data": {
      "text/plain": [
       "0.15067877149872744"
      ]
     },
     "execution_count": 28,
     "metadata": {},
     "output_type": "execute_result"
    },
    {
     "name": "stdout",
     "output_type": "stream",
     "text": [
      "\n",
      "\n",
      " {'logistical/obs_consumed_per_second': 38.2265625, 'logistical/obs_generated_per_second': 85.1328125, 'logistical/slowest_runner_obs_per_sec': 5.3125, 'logistical/data_consumption_ratio': 0.45004667, 'logistical/manual_train_pause': 0.0, 'timing/get batch from dataloader': 0.00400971, 'timing/model forward': 0.19439457, 'timing/calc losses': 0.00539116, 'timing/backwards': 1.11790375, 'timing/get worst': 0.00264816, 'timing/logging': 0.01570235, 'timing/calc timing': 0.01359244, 'timing/trn update': 1.35364565, 'wp_angles': 0.01003864, 'wp_curvatures': 0.04547036, 'wp_headings': 0.01048879, 'wp_rolls': 0.52840137, 'wp_zs': 0.09037566, 'has_stop': 0.01459547, 'stop_dist': 0.00825622, 'has_lead': 0.01966284, 'lead_dist': 0.00662124, 'lead_speed': 16.11909485, 'dagger_shift': 0.14152849, 'lane_width': 0.12975717, 'rd_is_lined': 0.01347083, 'pitch': 4.037e-05, 'yaw': 4.98e-05, 'unc': 1.57641983, 'logistical/max_param': 32.69097137, 'logistical/lr': 0.0006, 'logistical/mins_since_slowest_runner_reported': 4.32358388}\n",
      "\n",
      " {'timing/wait bc batch not ready': 0.0, 'timing/prep image': 0.13784193, 'timing/prep aux': 0.02774356, 'timing/calc wp targets': 0.01722029, 'timing/assemble mask': 0.01798955, 'timing/prep wps': 0.00107451, 'timing/promote backup chunk': 0.00818801, 'timing/queue_batch': 0.21006311, 'timing/refresh chunk': 10.08409721, 'timing/refresh_chunk': 10.08413559}\n",
      "{'logistical/obs_consumed_per_second': 9.0, 'logistical/obs_generated_per_second': 83.0, 'logistical/slowest_runner_obs_per_sec': 5.0, 'logistical/data_consumption_ratio': 0.11437129, 'logistical/manual_train_pause': 0.0, 'timing/get batch from dataloader': 0.14230013, 'timing/model forward': 0.89826417, 'timing/calc losses': 0.06698966, 'timing/backwards': 0.59560704, 'timing/get worst': 3.81e-06, 'timing/logging': 1.66820359, 'timing/calc timing': 0.00278378, 'timing/trn update': 3.37415457}\n"
     ]
    }
   ],
   "source": [
    "snr"
   ]
  },
  {
   "cell_type": "code",
   "execution_count": null,
   "metadata": {},
   "outputs": [],
   "source": []
  },
  {
   "cell_type": "code",
   "execution_count": 9,
   "metadata": {
    "scrolled": true
   },
   "outputs": [
    {
     "name": "stdout",
     "output_type": "stream",
     "text": [
      "Launching 3 loader workers\n"
     ]
    },
    {
     "name": "stderr",
     "output_type": "stream",
     "text": [
      "/home/beans/miniconda3/envs/py38/lib/python3.8/site-packages/albumentations/augmentations/transforms.py:1175: FutureWarning: RandomContrast has been deprecated. Please use RandomBrightnessContrast\n",
      "  warnings.warn(\n",
      "/home/beans/miniconda3/envs/py38/lib/python3.8/site-packages/albumentations/augmentations/transforms.py:316: FutureWarning: JpegCompression has been deprecated. Please use ImageCompression\n",
      "  warnings.warn(\n",
      "/home/beans/miniconda3/envs/py38/lib/python3.8/site-packages/albumentations/augmentations/transforms.py:1175: FutureWarning: RandomContrast has been deprecated. Please use RandomBrightnessContrast\n",
      "  warnings.warn(\n",
      "/home/beans/miniconda3/envs/py38/lib/python3.8/site-packages/albumentations/augmentations/transforms.py:1149: FutureWarning: This class has been deprecated. Please use RandomBrightnessContrast\n",
      "  warnings.warn(\n",
      "/home/beans/miniconda3/envs/py38/lib/python3.8/site-packages/albumentations/augmentations/transforms.py:1149: FutureWarning: This class has been deprecated. Please use RandomBrightnessContrast\n",
      "  warnings.warn(\n",
      "/home/beans/miniconda3/envs/py38/lib/python3.8/site-packages/albumentations/augmentations/transforms.py:316: FutureWarning: JpegCompression has been deprecated. Please use ImageCompression\n",
      "  warnings.warn(\n",
      "/home/beans/miniconda3/envs/py38/lib/python3.8/site-packages/albumentations/augmentations/transforms.py:1175: FutureWarning: RandomContrast has been deprecated. Please use RandomBrightnessContrast\n",
      "  warnings.warn(\n",
      "/home/beans/miniconda3/envs/py38/lib/python3.8/site-packages/albumentations/augmentations/transforms.py:1149: FutureWarning: This class has been deprecated. Please use RandomBrightnessContrast\n",
      "  warnings.warn(\n",
      "/home/beans/miniconda3/envs/py38/lib/python3.8/site-packages/albumentations/augmentations/transforms.py:316: FutureWarning: JpegCompression has been deprecated. Please use ImageCompression\n",
      "  warnings.warn(\n"
     ]
    },
    {
     "name": "stdout",
     "output_type": "stream",
     "text": [
      "Got first chunk\n",
      "CPU times: user 1.1 s, sys: 5.72 s, total: 6.83 s\n",
      "Wall time: 45.2 s\n"
     ]
    },
    {
     "name": "stderr",
     "output_type": "stream",
     "text": [
      "Process Process-3:\n",
      "Process Process-4:\n",
      "Process Process-2:\n",
      "Traceback (most recent call last):\n",
      "Traceback (most recent call last):\n",
      "Traceback (most recent call last):\n",
      "  File \"/home/beans/miniconda3/envs/py38/lib/python3.8/multiprocessing/process.py\", line 315, in _bootstrap\n",
      "    self.run()\n",
      "  File \"/home/beans/miniconda3/envs/py38/lib/python3.8/multiprocessing/process.py\", line 315, in _bootstrap\n",
      "    self.run()\n",
      "  File \"/home/beans/miniconda3/envs/py38/lib/python3.8/multiprocessing/process.py\", line 108, in run\n",
      "    self._target(*self._args, **self._kwargs)\n",
      "  File \"/home/beans/miniconda3/envs/py38/lib/python3.8/multiprocessing/process.py\", line 315, in _bootstrap\n",
      "    self.run()\n",
      "  File \"/home/beans/miniconda3/envs/py38/lib/python3.8/multiprocessing/process.py\", line 108, in run\n",
      "    self._target(*self._args, **self._kwargs)\n",
      "  File \"/home/beans/bespoke/loaders.py\", line 133, in make_chunks\n",
      "    time.sleep(.1)\n",
      "  File \"/home/beans/miniconda3/envs/py38/lib/python3.8/multiprocessing/process.py\", line 108, in run\n",
      "    self._target(*self._args, **self._kwargs)\n",
      "  File \"/home/beans/bespoke/loaders.py\", line 133, in make_chunks\n",
      "    time.sleep(.1)\n",
      "KeyboardInterrupt\n",
      "KeyboardInterrupt\n",
      "  File \"/home/beans/bespoke/loaders.py\", line 133, in make_chunks\n",
      "    time.sleep(.1)\n",
      "\n",
      "During handling of the above exception, another exception occurred:\n",
      "\n",
      "KeyboardInterrupt\n",
      "\n",
      "During handling of the above exception, another exception occurred:\n",
      "\n",
      "Traceback (most recent call last):\n",
      "\n",
      "During handling of the above exception, another exception occurred:\n",
      "\n",
      "Traceback (most recent call last):\n",
      "  File \"/home/beans/miniconda3/envs/py38/lib/python3.8/multiprocessing/process.py\", line 318, in _bootstrap\n",
      "    util._exit_function()\n",
      "  File \"/home/beans/miniconda3/envs/py38/lib/python3.8/multiprocessing/process.py\", line 318, in _bootstrap\n",
      "    util._exit_function()\n",
      "Traceback (most recent call last):\n",
      "  File \"/home/beans/miniconda3/envs/py38/lib/python3.8/multiprocessing/util.py\", line 360, in _exit_function\n",
      "    _run_finalizers()\n",
      "  File \"/home/beans/miniconda3/envs/py38/lib/python3.8/multiprocessing/util.py\", line 300, in _run_finalizers\n",
      "    finalizer()\n",
      "  File \"/home/beans/miniconda3/envs/py38/lib/python3.8/multiprocessing/process.py\", line 318, in _bootstrap\n",
      "    util._exit_function()\n",
      "  File \"/home/beans/miniconda3/envs/py38/lib/python3.8/multiprocessing/util.py\", line 360, in _exit_function\n",
      "    _run_finalizers()\n",
      "  File \"/home/beans/miniconda3/envs/py38/lib/python3.8/multiprocessing/util.py\", line 224, in __call__\n",
      "    res = self._callback(*self._args, **self._kwargs)\n",
      "  File \"/home/beans/miniconda3/envs/py38/lib/python3.8/multiprocessing/util.py\", line 360, in _exit_function\n",
      "    _run_finalizers()\n",
      "  File \"/home/beans/miniconda3/envs/py38/lib/python3.8/multiprocessing/util.py\", line 300, in _run_finalizers\n",
      "    finalizer()\n",
      "  File \"/home/beans/miniconda3/envs/py38/lib/python3.8/multiprocessing/queues.py\", line 195, in _finalize_join\n",
      "    thread.join()\n",
      "  File \"/home/beans/miniconda3/envs/py38/lib/python3.8/multiprocessing/util.py\", line 224, in __call__\n",
      "    res = self._callback(*self._args, **self._kwargs)\n",
      "  File \"/home/beans/miniconda3/envs/py38/lib/python3.8/multiprocessing/util.py\", line 300, in _run_finalizers\n",
      "    finalizer()\n",
      "  File \"/home/beans/miniconda3/envs/py38/lib/python3.8/threading.py\", line 1011, in join\n",
      "    self._wait_for_tstate_lock()\n",
      "  File \"/home/beans/miniconda3/envs/py38/lib/python3.8/multiprocessing/queues.py\", line 195, in _finalize_join\n",
      "    thread.join()\n",
      "  File \"/home/beans/miniconda3/envs/py38/lib/python3.8/multiprocessing/util.py\", line 224, in __call__\n",
      "    res = self._callback(*self._args, **self._kwargs)\n",
      "  File \"/home/beans/miniconda3/envs/py38/lib/python3.8/threading.py\", line 1027, in _wait_for_tstate_lock\n",
      "    elif lock.acquire(block, timeout):\n",
      "  File \"/home/beans/miniconda3/envs/py38/lib/python3.8/threading.py\", line 1011, in join\n",
      "    self._wait_for_tstate_lock()\n",
      "  File \"/home/beans/miniconda3/envs/py38/lib/python3.8/multiprocessing/queues.py\", line 195, in _finalize_join\n",
      "    thread.join()\n",
      "KeyboardInterrupt\n",
      "  File \"/home/beans/miniconda3/envs/py38/lib/python3.8/threading.py\", line 1027, in _wait_for_tstate_lock\n",
      "    elif lock.acquire(block, timeout):\n",
      "  File \"/home/beans/miniconda3/envs/py38/lib/python3.8/threading.py\", line 1011, in join\n",
      "    self._wait_for_tstate_lock()\n",
      "KeyboardInterrupt\n",
      "  File \"/home/beans/miniconda3/envs/py38/lib/python3.8/threading.py\", line 1027, in _wait_for_tstate_lock\n",
      "    elif lock.acquire(block, timeout):\n",
      "KeyboardInterrupt\n"
     ]
    }
   ],
   "source": [
    "%%time\n",
    "\n",
    "rnn_only = True\n",
    "\n",
    "if rnn_only: # m cnn backbone needs to be all loaded up and ready\n",
    "    #freeze_model(m, True)\n",
    "    #unfreeze_part_of_model(m, \"rnn\")\n",
    "    freeze_model(m.backbone, True)\n",
    "    m.backbone.train(False) # freezing bn params\n",
    "    bs = 16\n",
    "    bptt = 14 #35 #8 #7\n",
    "    seqlen = bptt*5 # needs to be mult of 7\n",
    "    constant_seq_aug = .0 #TODO can only do constant aug when bptt is one, currently. Fix this.\n",
    "    dataloader_trn = ZLoader(m, bs=bs, bptt=bptt, seqlen=seqlen)\n",
    "else:\n",
    "    bs = 32\n",
    "    bptt = 1\n",
    "    seqlen = 1\n",
    "    constant_seq_aug = .9\n",
    "    dataloader_trn = TrnLoader(bs=bs, bptt=bptt, seqlen=seqlen, constant_seq_aug=constant_seq_aug)"
   ]
  },
  {
   "cell_type": "code",
   "execution_count": 25,
   "metadata": {
    "scrolled": true
   },
   "outputs": [],
   "source": [
    "set_should_stop(True)"
   ]
  },
  {
   "cell_type": "code",
   "execution_count": null,
   "metadata": {},
   "outputs": [],
   "source": []
  },
  {
   "cell_type": "code",
   "execution_count": 10,
   "metadata": {
    "scrolled": true
   },
   "outputs": [
    {
     "name": "stderr",
     "output_type": "stream",
     "text": [
      "/home/beans/miniconda3/envs/py38/lib/python3.8/site-packages/torch/utils/checkpoint.py:25: UserWarning: None of the inputs have requires_grad=True. Gradients will be None\n",
      "  warnings.warn(\"None of the inputs have requires_grad=True. Gradients will be None\")\n"
     ]
    },
    {
     "name": "stdout",
     "output_type": "stream",
     "text": [
      "CPU times: user 14.3 s, sys: 417 ms, total: 14.7 s\n",
      "Wall time: 14 s\n"
     ]
    }
   ],
   "source": [
    "%%time\n",
    "\n",
    "eval_rw(rw_dataloader, m, wandb) # will log directly to wandb"
   ]
  },
  {
   "cell_type": "code",
   "execution_count": null,
   "metadata": {},
   "outputs": [],
   "source": []
  },
  {
   "cell_type": "code",
   "execution_count": null,
   "metadata": {},
   "outputs": [],
   "source": []
  }
 ],
 "metadata": {
  "kernelspec": {
   "display_name": "Python 3 (ipykernel)",
   "language": "python",
   "name": "python3"
  },
  "language_info": {
   "codemirror_mode": {
    "name": "ipython",
    "version": 3
   },
   "file_extension": ".py",
   "mimetype": "text/x-python",
   "name": "python",
   "nbconvert_exporter": "python",
   "pygments_lexer": "ipython3",
   "version": "3.8.11"
  },
  "vscode": {
   "interpreter": {
    "hash": "916dbcbb3f70747c44a77c7bcd40155683ae19c65e1c03b4aa3499c5328201f1"
   }
  }
 },
 "nbformat": 4,
 "nbformat_minor": 4
}
