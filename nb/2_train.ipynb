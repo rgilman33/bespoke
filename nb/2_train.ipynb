{
 "cells": [
  {
   "cell_type": "code",
   "execution_count": 1,
   "metadata": {
    "scrolled": true
   },
   "outputs": [
    {
     "name": "stderr",
     "output_type": "stream",
     "text": [
      "/home/beans/miniconda3/envs/py38/lib/python3.8/site-packages/albumentations/augmentations/transforms.py:689: FutureWarning: This class has been deprecated. Please use CoarseDropout\n",
      "  warnings.warn(\n",
      "/home/beans/miniconda3/envs/py38/lib/python3.8/site-packages/albumentations/augmentations/transforms.py:965: FutureWarning: This class has been deprecated. Please use ImageCompression\n",
      "  warnings.warn(\n"
     ]
    },
    {
     "data": {
      "text/plain": [
       "('1.10.0', 2, 'NVIDIA GeForce RTX 3090')"
      ]
     },
     "execution_count": 1,
     "metadata": {},
     "output_type": "execute_result"
    }
   ],
   "source": [
    "%matplotlib inline\n",
    "%load_ext autoreload\n",
    "%autoreload 2\n",
    "\n",
    "import sys\n",
    "sys.path.append(f'/home/beans/bespoke')\n",
    "\n",
    "from models import EffNet\n",
    "from constants import *\n",
    "from imports import *\n",
    "from rw_dataloader import RealWorldDataloader\n",
    "from blender_dataloader import BlenderDataloader\n",
    "from train_utils import *\n",
    "\n",
    "torch.__version__, torch.cuda.device_count(), torch.cuda.get_device_name(torch.cuda.current_device())"
   ]
  },
  {
   "cell_type": "code",
   "execution_count": 2,
   "metadata": {},
   "outputs": [
    {
     "data": {
      "text/plain": [
       "'pxx8jg60'"
      ]
     },
     "execution_count": 2,
     "metadata": {},
     "output_type": "execute_result"
    }
   ],
   "source": [
    "import wandb\n",
    "run_id = wandb.util.generate_id(); run_id"
   ]
  },
  {
   "cell_type": "code",
   "execution_count": 3,
   "metadata": {
    "scrolled": true
   },
   "outputs": [
    {
     "name": "stderr",
     "output_type": "stream",
     "text": [
      "\u001b[34m\u001b[1mwandb\u001b[0m: Currently logged in as: \u001b[33mrgilman33\u001b[0m (use `wandb login --relogin` to force relogin)\n",
      "\u001b[34m\u001b[1mwandb\u001b[0m: wandb version 0.13.5 is available!  To upgrade, please run:\n",
      "\u001b[34m\u001b[1mwandb\u001b[0m:  $ pip install wandb --upgrade\n"
     ]
    },
    {
     "data": {
      "text/html": [
       "\n",
       "                    Resuming run <strong><a href=\"https://wandb.ai/rgilman33/carla/runs/19fc9tj5\" target=\"_blank\">polar-night-346</a></strong> to <a href=\"https://wandb.ai/rgilman33/carla\" target=\"_blank\">Weights & Biases</a> (<a href=\"https://docs.wandb.com/integrations/jupyter.html\" target=\"_blank\">docs</a>).<br/>\n",
       "\n",
       "                "
      ],
      "text/plain": [
       "<IPython.core.display.HTML object>"
      ]
     },
     "metadata": {},
     "output_type": "display_data"
    },
    {
     "data": {
      "text/html": [
       "<button onClick=\"this.nextSibling.style.display='block';this.style.display='none';\">Display W&B run</button><iframe src=\"https://wandb.ai/rgilman33/carla/runs/19fc9tj5?jupyter=true\" style=\"border:none;width:100%;height:420px;display:none;\"></iframe>"
      ],
      "text/plain": [
       "<wandb.sdk.wandb_run.Run at 0x7fb388757760>"
      ]
     },
     "execution_count": 3,
     "metadata": {},
     "output_type": "execute_result"
    }
   ],
   "source": [
    "wandb.init(id='19fc9tj5', project=\"carla\", resume=\"allow\")"
   ]
  },
  {
   "cell_type": "code",
   "execution_count": 4,
   "metadata": {
    "scrolled": true
   },
   "outputs": [
    {
     "data": {
      "text/plain": [
       "14037.137"
      ]
     },
     "execution_count": 4,
     "metadata": {},
     "output_type": "execute_result"
    }
   ],
   "source": [
    "m = EffNet(model_arch=\"efficientnet_b3\").to(device) # 13M params, 11.6M without RNN, \n",
    "sum([torch.numel(p) for p in m.parameters()]) / 1000"
   ]
  },
  {
   "cell_type": "code",
   "execution_count": 5,
   "metadata": {
    "scrolled": true
   },
   "outputs": [
    {
     "data": {
      "text/plain": [
       "<All keys matched successfully>"
      ]
     },
     "execution_count": 5,
     "metadata": {},
     "output_type": "execute_result"
    }
   ],
   "source": [
    "m.load_state_dict(torch.load(f\"{BESPOKE_ROOT}/models/m.torch\"), strict=False)"
   ]
  },
  {
   "cell_type": "code",
   "execution_count": null,
   "metadata": {},
   "outputs": [],
   "source": []
  },
  {
   "cell_type": "code",
   "execution_count": 6,
   "metadata": {
    "scrolled": true
   },
   "outputs": [],
   "source": [
    "scaler = torch.cuda.amp.GradScaler() \n",
    "opt = torch.optim.Adam(m.parameters(), lr=5e-5)"
   ]
  },
  {
   "cell_type": "code",
   "execution_count": 7,
   "metadata": {
    "scrolled": true
   },
   "outputs": [
    {
     "name": "stdout",
     "output_type": "stream",
     "text": [
      "CPU times: user 26.8 s, sys: 1.04 s, total: 27.8 s\n",
      "Wall time: 27.8 s\n"
     ]
    }
   ],
   "source": [
    "%%time\n",
    "BS = 32\n",
    "dataloader_trn = BlenderDataloader(path_stem=\"trn\", bs=BS)"
   ]
  },
  {
   "cell_type": "code",
   "execution_count": 8,
   "metadata": {
    "scrolled": true
   },
   "outputs": [
    {
     "name": "stdout",
     "output_type": "stream",
     "text": [
      "CPU times: user 2 µs, sys: 0 ns, total: 2 µs\n",
      "Wall time: 4.53 µs\n"
     ]
    }
   ],
   "source": [
    "%%time\n",
    "#rw_dataloader = RealWorldDataloader()"
   ]
  },
  {
   "cell_type": "code",
   "execution_count": 9,
   "metadata": {},
   "outputs": [],
   "source": [
    "set_lr(3e-4)"
   ]
  },
  {
   "cell_type": "code",
   "execution_count": 10,
   "metadata": {
    "scrolled": true
   },
   "outputs": [],
   "source": [
    "model_stem = \"11.29\"\n",
    "START_E = 15"
   ]
  },
  {
   "cell_type": "code",
   "execution_count": null,
   "metadata": {
    "scrolled": true
   },
   "outputs": [
    {
     "name": "stdout",
     "output_type": "stream",
     "text": [
      "EPOCH 15\n",
      "\n",
      "{'lat_losses/trn_control_loss': 0.22413337, 'lat_losses/trn_headings_loss': 0.01539164, 'lat_losses/trn_curvatures_loss': 0.08042005, 'lon_losses/trn_approaching_stop_loss': 0.04404586, 'lon_losses/trn_stop_dist_loss': 0.06113369, 'lon_losses/trn_stopped_loss': 0.00016274, 'lon_losses/trn_has_lead_loss': 0.06874239, 'lon_losses/trn_lead_dist_loss': 0.02349659, 'consistency losses/trn_steer_cost': 0.04793, 'aux losses/trn_pitch_loss': 1.19412994, 'aux losses/trn_yaw_loss': 0.64394569, 'consistency losses/trn_%_updates_w_torque_delta_loss': 0.96875, 'consistency losses/trn_torque_loss': 2424.65249681, 'consistency losses/trn_torque_delta_loss': 28.13600832, 'logistical/obs_consumed_per_second': 170.88976378, 'logistical/obs_generated_per_second': 167.88188976, 'logistical/slowest_runner_obs_per_sec': 10.50393701, 'logistical/data_consumption_ratio': 1.01864885, 'logistical/manual_train_pause': 0.0, 'logistical/max_param': 16.21301079, 'logistical/lr': 0.0003}\n",
      "{'logistical/obs_consumed_per_second': 173.5, 'logistical/obs_generated_per_second': 161.3984375, 'logistical/slowest_runner_obs_per_sec': 9.984375, 'logistical/data_consumption_ratio': 1.07515975, 'logistical/manual_train_pause': 0.0, 'lat_losses/trn_control_loss': 0.11750376, 'lat_losses/trn_headings_loss': 0.00982978, 'lat_losses/trn_curvatures_loss': 0.19682851, 'lon_losses/trn_approaching_stop_loss': 0.02916592, 'lon_losses/trn_stop_dist_loss': 0.00912517, 'lon_losses/trn_stopped_loss': 0.00010848, 'lon_losses/trn_has_lead_loss': 0.0783478, 'lon_losses/trn_lead_dist_loss': 0.03098284, 'consistency losses/trn_steer_cost': 0.02379969, 'aux losses/trn_pitch_loss': 1.20478058, 'aux losses/trn_yaw_loss': 0.71670723, 'consistency losses/trn_%_updates_w_torque_delta_loss': 0.9609375, 'consistency losses/trn_torque_loss': 2224.046875, 'consistency losses/trn_torque_delta_loss': 23.78507048, 'logistical/max_param': 16.21277428, 'logistical/lr': 0.0003}\n",
      "{'logistical/obs_consumed_per_second': 172.1640625, 'logistical/obs_generated_per_second': 169.1484375, 'logistical/slowest_runner_obs_per_sec': 11.0, 'logistical/data_consumption_ratio': 1.01901046, 'logistical/manual_train_pause': 0.0, 'lat_losses/trn_control_loss': 0.09803629, 'lat_losses/trn_headings_loss': 0.00542022, 'lat_losses/trn_curvatures_loss': 0.02839684, 'lon_losses/trn_approaching_stop_loss': 0.03262462, 'lon_losses/trn_stop_dist_loss': 0.00634124, 'lon_losses/trn_stopped_loss': 0.00018984, 'lon_losses/trn_has_lead_loss': 0.06602573, 'lon_losses/trn_lead_dist_loss': 0.0265918, 'consistency losses/trn_steer_cost': 0.03150731, 'aux losses/trn_pitch_loss': 1.38734436, 'aux losses/trn_yaw_loss': 0.59978676, 'consistency losses/trn_%_updates_w_torque_delta_loss': 0.953125, 'consistency losses/trn_torque_loss': 2320.96139002, 'consistency losses/trn_torque_delta_loss': 24.43297969, 'logistical/max_param': 16.21455956, 'logistical/lr': 0.0003}\n",
      "{'logistical/obs_consumed_per_second': 171.140625, 'logistical/obs_generated_per_second': 171.4453125, 'logistical/slowest_runner_obs_per_sec': 11.4765625, 'logistical/data_consumption_ratio': 0.99766303, 'logistical/manual_train_pause': 0.0, 'lat_losses/trn_control_loss': 0.10587204, 'lat_losses/trn_headings_loss': 0.00643928, 'lat_losses/trn_curvatures_loss': 0.04363382, 'lon_losses/trn_approaching_stop_loss': 0.03589606, 'lon_losses/trn_stop_dist_loss': 0.00273267, 'lon_losses/trn_stopped_loss': 0.00018984, 'lon_losses/trn_has_lead_loss': 0.05325019, 'lon_losses/trn_lead_dist_loss': 0.01769502, 'consistency losses/trn_steer_cost': 0.03131461, 'aux losses/trn_pitch_loss': 1.2068367, 'aux losses/trn_yaw_loss': 0.57759857, 'consistency losses/trn_%_updates_w_torque_delta_loss': 0.9375, 'consistency losses/trn_torque_loss': 2356.83923721, 'consistency losses/trn_torque_delta_loss': 22.9604483, 'logistical/max_param': 16.21042442, 'logistical/lr': 0.0003}\n",
      "{'logistical/obs_consumed_per_second': 169.0703125, 'logistical/obs_generated_per_second': 168.9453125, 'logistical/slowest_runner_obs_per_sec': 10.7578125, 'logistical/data_consumption_ratio': 1.00290621, 'logistical/manual_train_pause': 0.0, 'lat_losses/trn_control_loss': 0.16566205, 'lat_losses/trn_headings_loss': 0.00747748, 'lat_losses/trn_curvatures_loss': 0.02947667, 'lon_losses/trn_approaching_stop_loss': 0.03112259, 'lon_losses/trn_stop_dist_loss': 0.00337339, 'lon_losses/trn_stopped_loss': 0.00021696, 'lon_losses/trn_has_lead_loss': 0.0605967, 'lon_losses/trn_lead_dist_loss': 0.02032876, 'consistency losses/trn_steer_cost': 0.03362933, 'aux losses/trn_pitch_loss': 1.21711731, 'aux losses/trn_yaw_loss': 0.56743622, 'consistency losses/trn_%_updates_w_torque_delta_loss': 0.9609375, 'consistency losses/trn_torque_loss': 2476.93308115, 'consistency losses/trn_torque_delta_loss': 22.17379347, 'logistical/max_param': 16.21113968, 'logistical/lr': 0.0003}\n",
      "{'logistical/obs_consumed_per_second': 173.0234375, 'logistical/obs_generated_per_second': 174.46875, 'logistical/slowest_runner_obs_per_sec': 11.40625, 'logistical/data_consumption_ratio': 0.99257354, 'logistical/manual_train_pause': 0.0, 'lat_losses/trn_control_loss': 0.11082852, 'lat_losses/trn_headings_loss': 0.00588069, 'lat_losses/trn_curvatures_loss': 0.02983525, 'lon_losses/trn_approaching_stop_loss': 0.02722626, 'lon_losses/trn_stop_dist_loss': 0.00341404, 'lon_losses/trn_stopped_loss': 0.00024392, 'lon_losses/trn_has_lead_loss': 0.06298332, 'lon_losses/trn_lead_dist_loss': 0.01893016, 'consistency losses/trn_steer_cost': 0.02686231, 'aux losses/trn_pitch_loss': 1.2224617, 'aux losses/trn_yaw_loss': 0.70389175, 'consistency losses/trn_%_updates_w_torque_delta_loss': 0.9296875, 'consistency losses/trn_torque_loss': 2452.62312651, 'consistency losses/trn_torque_delta_loss': 17.75058173, 'logistical/max_param': 16.21210289, 'logistical/lr': 0.0003}\n",
      "{'logistical/obs_consumed_per_second': 172.359375, 'logistical/obs_generated_per_second': 166.734375, 'logistical/slowest_runner_obs_per_sec': 11.234375, 'logistical/data_consumption_ratio': 1.03481069, 'logistical/manual_train_pause': 0.0, 'lat_losses/trn_control_loss': 0.108302, 'lat_losses/trn_headings_loss': 0.00445819, 'lat_losses/trn_curvatures_loss': 0.01818685, 'lon_losses/trn_approaching_stop_loss': 0.03003318, 'lon_losses/trn_stop_dist_loss': 0.0039389, 'lon_losses/trn_stopped_loss': 8.136e-05, 'lon_losses/trn_has_lead_loss': 0.06983122, 'lon_losses/trn_lead_dist_loss': 0.03219336, 'consistency losses/trn_steer_cost': 0.03638631, 'aux losses/trn_pitch_loss': 1.19491196, 'aux losses/trn_yaw_loss': 0.61570835, 'consistency losses/trn_%_updates_w_torque_delta_loss': 0.953125, 'consistency losses/trn_torque_loss': 2188.17823267, 'consistency losses/trn_torque_delta_loss': 20.2210127, 'logistical/max_param': 16.21180344, 'logistical/lr': 0.0003}\n",
      "{'logistical/obs_consumed_per_second': 175.5625, 'logistical/obs_generated_per_second': 168.609375, 'logistical/slowest_runner_obs_per_sec': 11.65625, 'logistical/data_consumption_ratio': 1.04217047, 'logistical/manual_train_pause': 0.0, 'lat_losses/trn_control_loss': 0.08479917, 'lat_losses/trn_headings_loss': 0.00441341, 'lat_losses/trn_curvatures_loss': 0.01721555, 'lon_losses/trn_approaching_stop_loss': 0.02803284, 'lon_losses/trn_stop_dist_loss': 0.00349188, 'lon_losses/trn_stopped_loss': 8.136e-05, 'lon_losses/trn_has_lead_loss': 0.05913925, 'lon_losses/trn_lead_dist_loss': 0.01688473, 'consistency losses/trn_steer_cost': 0.02673382, 'aux losses/trn_pitch_loss': 1.13217926, 'aux losses/trn_yaw_loss': 0.56077766, 'consistency losses/trn_%_updates_w_torque_delta_loss': 0.9375, 'consistency losses/trn_torque_loss': 2209.80961323, 'consistency losses/trn_torque_delta_loss': 22.09957131, 'logistical/max_param': 16.21211052, 'logistical/lr': 0.0003}\n"
     ]
    }
   ],
   "source": [
    "n_epochs = 10000\n",
    "log_wandb = True\n",
    "\n",
    "for e in range(START_E, n_epochs):\n",
    "    \n",
    "    lr = get_lr()\n",
    "    opt.param_groups[0]['lr'] = lr if lr!=42 else (6e-4 if e < 138 else 3e-4)\n",
    "\n",
    "    # Train\n",
    "    print(f\"EPOCH {e}\\n\")\n",
    "    run_epoch(dataloader_trn, m, opt=opt, scaler=scaler, \n",
    "              train=True, backwards=True, log_wandb=log_wandb, wandb=wandb, updates_per_epoch=2560)\n",
    "    \n",
    "    print(\"\\n\\n Eval...\")\n",
    "    \n",
    "    #eval_rw(rw_dataloader, m, wandb) # will log directly to wandb\n",
    "        \n",
    "    # Saving model checkpoint each epoch\n",
    "    torch.save(m.state_dict(), f\"{BESPOKE_ROOT}/models/m_{model_stem}_e{e}.torch\")\n",
    "    "
   ]
  },
  {
   "cell_type": "code",
   "execution_count": null,
   "metadata": {},
   "outputs": [],
   "source": []
  },
  {
   "cell_type": "code",
   "execution_count": 12,
   "metadata": {
    "scrolled": true
   },
   "outputs": [],
   "source": [
    "torch.save(m.state_dict(), f\"{BESPOKE_ROOT}/models/m.torch\")"
   ]
  },
  {
   "cell_type": "code",
   "execution_count": null,
   "metadata": {},
   "outputs": [],
   "source": []
  },
  {
   "cell_type": "code",
   "execution_count": 13,
   "metadata": {
    "scrolled": true
   },
   "outputs": [],
   "source": [
    "set_should_stop(True)"
   ]
  },
  {
   "cell_type": "code",
   "execution_count": null,
   "metadata": {},
   "outputs": [],
   "source": []
  },
  {
   "cell_type": "code",
   "execution_count": 10,
   "metadata": {
    "scrolled": true
   },
   "outputs": [
    {
     "name": "stderr",
     "output_type": "stream",
     "text": [
      "/home/beans/miniconda3/envs/py38/lib/python3.8/site-packages/torch/utils/checkpoint.py:25: UserWarning: None of the inputs have requires_grad=True. Gradients will be None\n",
      "  warnings.warn(\"None of the inputs have requires_grad=True. Gradients will be None\")\n"
     ]
    },
    {
     "name": "stdout",
     "output_type": "stream",
     "text": [
      "CPU times: user 14.3 s, sys: 417 ms, total: 14.7 s\n",
      "Wall time: 14 s\n"
     ]
    }
   ],
   "source": [
    "%%time\n",
    "\n",
    "eval_rw(rw_dataloader, m, wandb) # will log directly to wandb"
   ]
  },
  {
   "cell_type": "code",
   "execution_count": null,
   "metadata": {},
   "outputs": [],
   "source": []
  },
  {
   "cell_type": "code",
   "execution_count": null,
   "metadata": {},
   "outputs": [],
   "source": []
  }
 ],
 "metadata": {
  "kernelspec": {
   "display_name": "Python 3 (ipykernel)",
   "language": "python",
   "name": "python3"
  },
  "language_info": {
   "codemirror_mode": {
    "name": "ipython",
    "version": 3
   },
   "file_extension": ".py",
   "mimetype": "text/x-python",
   "name": "python",
   "nbconvert_exporter": "python",
   "pygments_lexer": "ipython3",
   "version": "3.8.11"
  }
 },
 "nbformat": 4,
 "nbformat_minor": 4
}
