{
 "cells": [
  {
   "cell_type": "code",
   "execution_count": 1,
   "metadata": {
    "scrolled": true
   },
   "outputs": [
    {
     "name": "stderr",
     "output_type": "stream",
     "text": [
      "/home/beans/bespoke/constants.py:448: SettingWithCopyWarning: \n",
      "A value is trying to be set on a copy of a slice from a DataFrame.\n",
      "Try using .loc[row_indexer,col_indexer] = value instead\n",
      "\n",
      "See the caveats in the documentation: https://pandas.pydata.org/pandas-docs/stable/user_guide/indexing.html#returning-a-view-versus-a-copy\n",
      "  propref_aux_target['ixx'] = list(range(len(propref_aux_target))) # dumb self ix so can grab sigmoid from within this smaller df\n"
     ]
    },
    {
     "data": {
      "text/plain": [
       "('1.13.1', 2, 'NVIDIA GeForce RTX 3090')"
      ]
     },
     "execution_count": 1,
     "metadata": {},
     "output_type": "execute_result"
    }
   ],
   "source": [
    "%matplotlib inline\n",
    "%load_ext autoreload\n",
    "%autoreload 2\n",
    "\n",
    "import sys\n",
    "sys.path.append(f'/home/beans/bespoke')\n",
    "\n",
    "from models import *\n",
    "from constants import *\n",
    "from imports import *\n",
    "from loaders import *\n",
    "from train_utils import *\n",
    "\n",
    "torch.__version__, torch.cuda.device_count(), torch.cuda.get_device_name(torch.cuda.current_device())"
   ]
  },
  {
   "cell_type": "code",
   "execution_count": 2,
   "metadata": {
    "scrolled": true
   },
   "outputs": [
    {
     "data": {
      "text/plain": [
       "'u5imxujp'"
      ]
     },
     "execution_count": 2,
     "metadata": {},
     "output_type": "execute_result"
    }
   ],
   "source": [
    "import wandb\n",
    "run_id = wandb.util.generate_id(); run_id"
   ]
  },
  {
   "cell_type": "code",
   "execution_count": 3,
   "metadata": {
    "scrolled": true
   },
   "outputs": [
    {
     "name": "stderr",
     "output_type": "stream",
     "text": [
      "\u001b[34m\u001b[1mwandb\u001b[0m: Currently logged in as: \u001b[33mrgilman33\u001b[0m (use `wandb login --relogin` to force relogin)\n",
      "\u001b[34m\u001b[1mwandb\u001b[0m: wandb version 0.13.9 is available!  To upgrade, please run:\n",
      "\u001b[34m\u001b[1mwandb\u001b[0m:  $ pip install wandb --upgrade\n"
     ]
    },
    {
     "data": {
      "text/html": [
       "\n",
       "                    Resuming run <strong><a href=\"https://wandb.ai/rgilman33/carla/runs/b1xzj883\" target=\"_blank\">bumbling-dust-366</a></strong> to <a href=\"https://wandb.ai/rgilman33/carla\" target=\"_blank\">Weights & Biases</a> (<a href=\"https://docs.wandb.com/integrations/jupyter.html\" target=\"_blank\">docs</a>).<br/>\n",
       "\n",
       "                "
      ],
      "text/plain": [
       "<IPython.core.display.HTML object>"
      ]
     },
     "metadata": {},
     "output_type": "display_data"
    },
    {
     "data": {
      "text/html": [
       "<button onClick=\"this.nextSibling.style.display='block';this.style.display='none';\">Display W&B run</button><iframe src=\"https://wandb.ai/rgilman33/carla/runs/b1xzj883?jupyter=true\" style=\"border:none;width:100%;height:420px;display:none;\"></iframe>"
      ],
      "text/plain": [
       "<wandb.sdk.wandb_run.Run at 0x7f0f6ccdae80>"
      ]
     },
     "execution_count": 3,
     "metadata": {},
     "output_type": "execute_result"
    }
   ],
   "source": [
    "wandb.init(id='b1xzj883', project=\"carla\", resume=\"allow\")"
   ]
  },
  {
   "cell_type": "code",
   "execution_count": 4,
   "metadata": {
    "scrolled": true
   },
   "outputs": [
    {
     "data": {
      "text/plain": [
       "18293.759"
      ]
     },
     "execution_count": 4,
     "metadata": {},
     "output_type": "execute_result"
    }
   ],
   "source": [
    "m = EffNet().to(device) \n",
    "m.train()\n",
    "sum([torch.numel(p) for p in m.parameters()]) / 1000"
   ]
  },
  {
   "cell_type": "code",
   "execution_count": 5,
   "metadata": {
    "scrolled": true
   },
   "outputs": [
    {
     "name": "stdout",
     "output_type": "stream",
     "text": [
      "CPU times: user 34.7 ms, sys: 26.2 s, total: 26.2 s\n",
      "Wall time: 29.6 s\n"
     ]
    }
   ],
   "source": [
    "%%time\n",
    "from rollout import RwEvaluator\n",
    "rw_evaluator = RwEvaluator([\"run_555a\", \"run_556a\", \"run_556b\", \"run_556c\"], m, wandb=wandb)"
   ]
  },
  {
   "cell_type": "code",
   "execution_count": 7,
   "metadata": {
    "scrolled": true
   },
   "outputs": [
    {
     "name": "stdout",
     "output_type": "stream",
     "text": [
      "loaded backbone.conv_stem.weight\n",
      "loaded backbone.bn1.weight\n",
      "loaded backbone.bn1.bias\n",
      "loaded backbone.bn1.running_mean\n",
      "loaded backbone.bn1.running_var\n",
      "loaded backbone.bn1.num_batches_tracked\n",
      "loaded backbone.blocks.0.0.conv_dw.weight\n",
      "loaded backbone.blocks.0.0.bn1.weight\n",
      "loaded backbone.blocks.0.0.bn1.bias\n",
      "loaded backbone.blocks.0.0.bn1.running_mean\n",
      "loaded backbone.blocks.0.0.bn1.running_var\n",
      "loaded backbone.blocks.0.0.bn1.num_batches_tracked\n",
      "loaded backbone.blocks.0.0.se.conv_reduce.weight\n",
      "loaded backbone.blocks.0.0.se.conv_reduce.bias\n",
      "loaded backbone.blocks.0.0.se.conv_expand.weight\n",
      "loaded backbone.blocks.0.0.se.conv_expand.bias\n",
      "loaded backbone.blocks.0.0.conv_pw.weight\n",
      "loaded backbone.blocks.0.0.bn2.weight\n",
      "loaded backbone.blocks.0.0.bn2.bias\n",
      "loaded backbone.blocks.0.0.bn2.running_mean\n",
      "loaded backbone.blocks.0.0.bn2.running_var\n",
      "loaded backbone.blocks.0.0.bn2.num_batches_tracked\n",
      "loaded backbone.blocks.0.1.conv_dw.weight\n",
      "loaded backbone.blocks.0.1.bn1.weight\n",
      "loaded backbone.blocks.0.1.bn1.bias\n",
      "loaded backbone.blocks.0.1.bn1.running_mean\n",
      "loaded backbone.blocks.0.1.bn1.running_var\n",
      "loaded backbone.blocks.0.1.bn1.num_batches_tracked\n",
      "loaded backbone.blocks.0.1.se.conv_reduce.weight\n",
      "loaded backbone.blocks.0.1.se.conv_reduce.bias\n",
      "loaded backbone.blocks.0.1.se.conv_expand.weight\n",
      "loaded backbone.blocks.0.1.se.conv_expand.bias\n",
      "loaded backbone.blocks.0.1.conv_pw.weight\n",
      "loaded backbone.blocks.0.1.bn2.weight\n",
      "loaded backbone.blocks.0.1.bn2.bias\n",
      "loaded backbone.blocks.0.1.bn2.running_mean\n",
      "loaded backbone.blocks.0.1.bn2.running_var\n",
      "loaded backbone.blocks.0.1.bn2.num_batches_tracked\n",
      "loaded backbone.blocks.1.0.conv_pw.weight\n",
      "loaded backbone.blocks.1.0.bn1.weight\n",
      "loaded backbone.blocks.1.0.bn1.bias\n",
      "loaded backbone.blocks.1.0.bn1.running_mean\n",
      "loaded backbone.blocks.1.0.bn1.running_var\n",
      "loaded backbone.blocks.1.0.bn1.num_batches_tracked\n",
      "loaded backbone.blocks.1.0.conv_dw.weight\n",
      "loaded backbone.blocks.1.0.bn2.weight\n",
      "loaded backbone.blocks.1.0.bn2.bias\n",
      "loaded backbone.blocks.1.0.bn2.running_mean\n",
      "loaded backbone.blocks.1.0.bn2.running_var\n",
      "loaded backbone.blocks.1.0.bn2.num_batches_tracked\n",
      "loaded backbone.blocks.1.0.se.conv_reduce.weight\n",
      "loaded backbone.blocks.1.0.se.conv_reduce.bias\n",
      "loaded backbone.blocks.1.0.se.conv_expand.weight\n",
      "loaded backbone.blocks.1.0.se.conv_expand.bias\n",
      "loaded backbone.blocks.1.0.conv_pwl.weight\n",
      "loaded backbone.blocks.1.0.bn3.weight\n",
      "loaded backbone.blocks.1.0.bn3.bias\n",
      "loaded backbone.blocks.1.0.bn3.running_mean\n",
      "loaded backbone.blocks.1.0.bn3.running_var\n",
      "loaded backbone.blocks.1.0.bn3.num_batches_tracked\n",
      "loaded backbone.blocks.1.1.conv_pw.weight\n",
      "loaded backbone.blocks.1.1.bn1.weight\n",
      "loaded backbone.blocks.1.1.bn1.bias\n",
      "loaded backbone.blocks.1.1.bn1.running_mean\n",
      "loaded backbone.blocks.1.1.bn1.running_var\n",
      "loaded backbone.blocks.1.1.bn1.num_batches_tracked\n",
      "loaded backbone.blocks.1.1.conv_dw.weight\n",
      "loaded backbone.blocks.1.1.bn2.weight\n",
      "loaded backbone.blocks.1.1.bn2.bias\n",
      "loaded backbone.blocks.1.1.bn2.running_mean\n",
      "loaded backbone.blocks.1.1.bn2.running_var\n",
      "loaded backbone.blocks.1.1.bn2.num_batches_tracked\n",
      "loaded backbone.blocks.1.1.se.conv_reduce.weight\n",
      "loaded backbone.blocks.1.1.se.conv_reduce.bias\n",
      "loaded backbone.blocks.1.1.se.conv_expand.weight\n",
      "loaded backbone.blocks.1.1.se.conv_expand.bias\n",
      "loaded backbone.blocks.1.1.conv_pwl.weight\n",
      "loaded backbone.blocks.1.1.bn3.weight\n",
      "loaded backbone.blocks.1.1.bn3.bias\n",
      "loaded backbone.blocks.1.1.bn3.running_mean\n",
      "loaded backbone.blocks.1.1.bn3.running_var\n",
      "loaded backbone.blocks.1.1.bn3.num_batches_tracked\n",
      "loaded backbone.blocks.1.2.conv_pw.weight\n",
      "loaded backbone.blocks.1.2.bn1.weight\n",
      "loaded backbone.blocks.1.2.bn1.bias\n",
      "loaded backbone.blocks.1.2.bn1.running_mean\n",
      "loaded backbone.blocks.1.2.bn1.running_var\n",
      "loaded backbone.blocks.1.2.bn1.num_batches_tracked\n",
      "loaded backbone.blocks.1.2.conv_dw.weight\n",
      "loaded backbone.blocks.1.2.bn2.weight\n",
      "loaded backbone.blocks.1.2.bn2.bias\n",
      "loaded backbone.blocks.1.2.bn2.running_mean\n",
      "loaded backbone.blocks.1.2.bn2.running_var\n",
      "loaded backbone.blocks.1.2.bn2.num_batches_tracked\n",
      "loaded backbone.blocks.1.2.se.conv_reduce.weight\n",
      "loaded backbone.blocks.1.2.se.conv_reduce.bias\n",
      "loaded backbone.blocks.1.2.se.conv_expand.weight\n",
      "loaded backbone.blocks.1.2.se.conv_expand.bias\n",
      "loaded backbone.blocks.1.2.conv_pwl.weight\n",
      "loaded backbone.blocks.1.2.bn3.weight\n",
      "loaded backbone.blocks.1.2.bn3.bias\n",
      "loaded backbone.blocks.1.2.bn3.running_mean\n",
      "loaded backbone.blocks.1.2.bn3.running_var\n",
      "loaded backbone.blocks.1.2.bn3.num_batches_tracked\n",
      "loaded backbone.blocks.1.3.conv_pw.weight\n",
      "loaded backbone.blocks.1.3.bn1.weight\n",
      "loaded backbone.blocks.1.3.bn1.bias\n",
      "loaded backbone.blocks.1.3.bn1.running_mean\n",
      "loaded backbone.blocks.1.3.bn1.running_var\n",
      "loaded backbone.blocks.1.3.bn1.num_batches_tracked\n",
      "loaded backbone.blocks.1.3.conv_dw.weight\n",
      "loaded backbone.blocks.1.3.bn2.weight\n",
      "loaded backbone.blocks.1.3.bn2.bias\n",
      "loaded backbone.blocks.1.3.bn2.running_mean\n",
      "loaded backbone.blocks.1.3.bn2.running_var\n",
      "loaded backbone.blocks.1.3.bn2.num_batches_tracked\n",
      "loaded backbone.blocks.1.3.se.conv_reduce.weight\n",
      "loaded backbone.blocks.1.3.se.conv_reduce.bias\n",
      "loaded backbone.blocks.1.3.se.conv_expand.weight\n",
      "loaded backbone.blocks.1.3.se.conv_expand.bias\n",
      "loaded backbone.blocks.1.3.conv_pwl.weight\n",
      "loaded backbone.blocks.1.3.bn3.weight\n",
      "loaded backbone.blocks.1.3.bn3.bias\n",
      "loaded backbone.blocks.1.3.bn3.running_mean\n",
      "loaded backbone.blocks.1.3.bn3.running_var\n",
      "loaded backbone.blocks.1.3.bn3.num_batches_tracked\n",
      "loaded backbone.blocks.2.0.conv_pw.weight\n",
      "loaded backbone.blocks.2.0.bn1.weight\n",
      "loaded backbone.blocks.2.0.bn1.bias\n",
      "loaded backbone.blocks.2.0.bn1.running_mean\n",
      "loaded backbone.blocks.2.0.bn1.running_var\n",
      "loaded backbone.blocks.2.0.bn1.num_batches_tracked\n",
      "loaded backbone.blocks.2.0.conv_dw.weight\n",
      "loaded backbone.blocks.2.0.bn2.weight\n",
      "loaded backbone.blocks.2.0.bn2.bias\n",
      "loaded backbone.blocks.2.0.bn2.running_mean\n",
      "loaded backbone.blocks.2.0.bn2.running_var\n",
      "loaded backbone.blocks.2.0.bn2.num_batches_tracked\n",
      "loaded backbone.blocks.2.0.se.conv_reduce.weight\n",
      "loaded backbone.blocks.2.0.se.conv_reduce.bias\n",
      "loaded backbone.blocks.2.0.se.conv_expand.weight\n",
      "loaded backbone.blocks.2.0.se.conv_expand.bias\n",
      "loaded backbone.blocks.2.0.conv_pwl.weight\n",
      "loaded backbone.blocks.2.0.bn3.weight\n",
      "loaded backbone.blocks.2.0.bn3.bias\n",
      "loaded backbone.blocks.2.0.bn3.running_mean\n",
      "loaded backbone.blocks.2.0.bn3.running_var\n",
      "loaded backbone.blocks.2.0.bn3.num_batches_tracked\n",
      "loaded backbone.blocks.2.1.conv_pw.weight\n",
      "loaded backbone.blocks.2.1.bn1.weight\n",
      "loaded backbone.blocks.2.1.bn1.bias\n",
      "loaded backbone.blocks.2.1.bn1.running_mean\n",
      "loaded backbone.blocks.2.1.bn1.running_var\n",
      "loaded backbone.blocks.2.1.bn1.num_batches_tracked\n",
      "loaded backbone.blocks.2.1.conv_dw.weight\n",
      "loaded backbone.blocks.2.1.bn2.weight\n",
      "loaded backbone.blocks.2.1.bn2.bias\n",
      "loaded backbone.blocks.2.1.bn2.running_mean\n",
      "loaded backbone.blocks.2.1.bn2.running_var\n",
      "loaded backbone.blocks.2.1.bn2.num_batches_tracked\n",
      "loaded backbone.blocks.2.1.se.conv_reduce.weight\n",
      "loaded backbone.blocks.2.1.se.conv_reduce.bias\n",
      "loaded backbone.blocks.2.1.se.conv_expand.weight\n",
      "loaded backbone.blocks.2.1.se.conv_expand.bias\n",
      "loaded backbone.blocks.2.1.conv_pwl.weight\n",
      "loaded backbone.blocks.2.1.bn3.weight\n",
      "loaded backbone.blocks.2.1.bn3.bias\n",
      "loaded backbone.blocks.2.1.bn3.running_mean\n",
      "loaded backbone.blocks.2.1.bn3.running_var\n",
      "loaded backbone.blocks.2.1.bn3.num_batches_tracked\n",
      "loaded backbone.blocks.2.2.conv_pw.weight\n",
      "loaded backbone.blocks.2.2.bn1.weight\n",
      "loaded backbone.blocks.2.2.bn1.bias\n",
      "loaded backbone.blocks.2.2.bn1.running_mean\n",
      "loaded backbone.blocks.2.2.bn1.running_var\n",
      "loaded backbone.blocks.2.2.bn1.num_batches_tracked\n",
      "loaded backbone.blocks.2.2.conv_dw.weight\n",
      "loaded backbone.blocks.2.2.bn2.weight\n",
      "loaded backbone.blocks.2.2.bn2.bias\n",
      "loaded backbone.blocks.2.2.bn2.running_mean\n",
      "loaded backbone.blocks.2.2.bn2.running_var\n",
      "loaded backbone.blocks.2.2.bn2.num_batches_tracked\n",
      "loaded backbone.blocks.2.2.se.conv_reduce.weight\n",
      "loaded backbone.blocks.2.2.se.conv_reduce.bias\n",
      "loaded backbone.blocks.2.2.se.conv_expand.weight\n",
      "loaded backbone.blocks.2.2.se.conv_expand.bias\n",
      "loaded backbone.blocks.2.2.conv_pwl.weight\n",
      "loaded backbone.blocks.2.2.bn3.weight\n",
      "loaded backbone.blocks.2.2.bn3.bias\n",
      "loaded backbone.blocks.2.2.bn3.running_mean\n",
      "loaded backbone.blocks.2.2.bn3.running_var\n",
      "loaded backbone.blocks.2.2.bn3.num_batches_tracked\n",
      "loaded backbone.blocks.2.3.conv_pw.weight\n",
      "loaded backbone.blocks.2.3.bn1.weight\n",
      "loaded backbone.blocks.2.3.bn1.bias\n",
      "loaded backbone.blocks.2.3.bn1.running_mean\n",
      "loaded backbone.blocks.2.3.bn1.running_var\n",
      "loaded backbone.blocks.2.3.bn1.num_batches_tracked\n",
      "loaded backbone.blocks.2.3.conv_dw.weight\n",
      "loaded backbone.blocks.2.3.bn2.weight\n",
      "loaded backbone.blocks.2.3.bn2.bias\n",
      "loaded backbone.blocks.2.3.bn2.running_mean\n",
      "loaded backbone.blocks.2.3.bn2.running_var\n",
      "loaded backbone.blocks.2.3.bn2.num_batches_tracked\n",
      "loaded backbone.blocks.2.3.se.conv_reduce.weight\n",
      "loaded backbone.blocks.2.3.se.conv_reduce.bias\n",
      "loaded backbone.blocks.2.3.se.conv_expand.weight\n",
      "loaded backbone.blocks.2.3.se.conv_expand.bias\n",
      "loaded backbone.blocks.2.3.conv_pwl.weight\n",
      "loaded backbone.blocks.2.3.bn3.weight\n",
      "loaded backbone.blocks.2.3.bn3.bias\n",
      "loaded backbone.blocks.2.3.bn3.running_mean\n",
      "loaded backbone.blocks.2.3.bn3.running_var\n",
      "loaded backbone.blocks.2.3.bn3.num_batches_tracked\n",
      "loaded backbone.blocks.3.0.conv_pw.weight\n",
      "loaded backbone.blocks.3.0.bn1.weight\n",
      "loaded backbone.blocks.3.0.bn1.bias\n",
      "loaded backbone.blocks.3.0.bn1.running_mean\n",
      "loaded backbone.blocks.3.0.bn1.running_var\n",
      "loaded backbone.blocks.3.0.bn1.num_batches_tracked\n",
      "loaded backbone.blocks.3.0.conv_dw.weight\n",
      "loaded backbone.blocks.3.0.bn2.weight\n",
      "loaded backbone.blocks.3.0.bn2.bias\n",
      "loaded backbone.blocks.3.0.bn2.running_mean\n",
      "loaded backbone.blocks.3.0.bn2.running_var\n",
      "loaded backbone.blocks.3.0.bn2.num_batches_tracked\n",
      "loaded backbone.blocks.3.0.se.conv_reduce.weight\n",
      "loaded backbone.blocks.3.0.se.conv_reduce.bias\n",
      "loaded backbone.blocks.3.0.se.conv_expand.weight\n",
      "loaded backbone.blocks.3.0.se.conv_expand.bias\n",
      "loaded backbone.blocks.3.0.conv_pwl.weight\n",
      "loaded backbone.blocks.3.0.bn3.weight\n",
      "loaded backbone.blocks.3.0.bn3.bias\n",
      "loaded backbone.blocks.3.0.bn3.running_mean\n",
      "loaded backbone.blocks.3.0.bn3.running_var\n",
      "loaded backbone.blocks.3.0.bn3.num_batches_tracked\n",
      "loaded backbone.blocks.3.1.conv_pw.weight\n",
      "loaded backbone.blocks.3.1.bn1.weight\n",
      "loaded backbone.blocks.3.1.bn1.bias\n",
      "loaded backbone.blocks.3.1.bn1.running_mean\n",
      "loaded backbone.blocks.3.1.bn1.running_var\n",
      "loaded backbone.blocks.3.1.bn1.num_batches_tracked\n",
      "loaded backbone.blocks.3.1.conv_dw.weight\n",
      "loaded backbone.blocks.3.1.bn2.weight\n",
      "loaded backbone.blocks.3.1.bn2.bias\n",
      "loaded backbone.blocks.3.1.bn2.running_mean\n",
      "loaded backbone.blocks.3.1.bn2.running_var\n",
      "loaded backbone.blocks.3.1.bn2.num_batches_tracked\n",
      "loaded backbone.blocks.3.1.se.conv_reduce.weight\n",
      "loaded backbone.blocks.3.1.se.conv_reduce.bias\n",
      "loaded backbone.blocks.3.1.se.conv_expand.weight\n",
      "loaded backbone.blocks.3.1.se.conv_expand.bias\n",
      "loaded backbone.blocks.3.1.conv_pwl.weight\n",
      "loaded backbone.blocks.3.1.bn3.weight\n",
      "loaded backbone.blocks.3.1.bn3.bias\n",
      "loaded backbone.blocks.3.1.bn3.running_mean\n",
      "loaded backbone.blocks.3.1.bn3.running_var\n",
      "loaded backbone.blocks.3.1.bn3.num_batches_tracked\n",
      "loaded backbone.blocks.3.2.conv_pw.weight\n",
      "loaded backbone.blocks.3.2.bn1.weight\n",
      "loaded backbone.blocks.3.2.bn1.bias\n",
      "loaded backbone.blocks.3.2.bn1.running_mean\n",
      "loaded backbone.blocks.3.2.bn1.running_var\n",
      "loaded backbone.blocks.3.2.bn1.num_batches_tracked\n",
      "loaded backbone.blocks.3.2.conv_dw.weight\n",
      "loaded backbone.blocks.3.2.bn2.weight\n",
      "loaded backbone.blocks.3.2.bn2.bias\n",
      "loaded backbone.blocks.3.2.bn2.running_mean\n",
      "loaded backbone.blocks.3.2.bn2.running_var\n",
      "loaded backbone.blocks.3.2.bn2.num_batches_tracked\n",
      "loaded backbone.blocks.3.2.se.conv_reduce.weight\n",
      "loaded backbone.blocks.3.2.se.conv_reduce.bias\n",
      "loaded backbone.blocks.3.2.se.conv_expand.weight\n",
      "loaded backbone.blocks.3.2.se.conv_expand.bias\n",
      "loaded backbone.blocks.3.2.conv_pwl.weight\n",
      "loaded backbone.blocks.3.2.bn3.weight\n",
      "loaded backbone.blocks.3.2.bn3.bias\n",
      "loaded backbone.blocks.3.2.bn3.running_mean\n",
      "loaded backbone.blocks.3.2.bn3.running_var\n",
      "loaded backbone.blocks.3.2.bn3.num_batches_tracked\n",
      "loaded backbone.blocks.3.3.conv_pw.weight\n",
      "loaded backbone.blocks.3.3.bn1.weight\n",
      "loaded backbone.blocks.3.3.bn1.bias\n",
      "loaded backbone.blocks.3.3.bn1.running_mean\n",
      "loaded backbone.blocks.3.3.bn1.running_var\n",
      "loaded backbone.blocks.3.3.bn1.num_batches_tracked\n",
      "loaded backbone.blocks.3.3.conv_dw.weight\n",
      "loaded backbone.blocks.3.3.bn2.weight\n",
      "loaded backbone.blocks.3.3.bn2.bias\n",
      "loaded backbone.blocks.3.3.bn2.running_mean\n",
      "loaded backbone.blocks.3.3.bn2.running_var\n",
      "loaded backbone.blocks.3.3.bn2.num_batches_tracked\n",
      "loaded backbone.blocks.3.3.se.conv_reduce.weight\n",
      "loaded backbone.blocks.3.3.se.conv_reduce.bias\n",
      "loaded backbone.blocks.3.3.se.conv_expand.weight\n",
      "loaded backbone.blocks.3.3.se.conv_expand.bias\n",
      "loaded backbone.blocks.3.3.conv_pwl.weight\n",
      "loaded backbone.blocks.3.3.bn3.weight\n",
      "loaded backbone.blocks.3.3.bn3.bias\n",
      "loaded backbone.blocks.3.3.bn3.running_mean\n",
      "loaded backbone.blocks.3.3.bn3.running_var\n",
      "loaded backbone.blocks.3.3.bn3.num_batches_tracked\n",
      "loaded backbone.blocks.3.4.conv_pw.weight\n",
      "loaded backbone.blocks.3.4.bn1.weight\n",
      "loaded backbone.blocks.3.4.bn1.bias\n",
      "loaded backbone.blocks.3.4.bn1.running_mean\n",
      "loaded backbone.blocks.3.4.bn1.running_var\n",
      "loaded backbone.blocks.3.4.bn1.num_batches_tracked\n",
      "loaded backbone.blocks.3.4.conv_dw.weight\n",
      "loaded backbone.blocks.3.4.bn2.weight\n",
      "loaded backbone.blocks.3.4.bn2.bias\n",
      "loaded backbone.blocks.3.4.bn2.running_mean\n",
      "loaded backbone.blocks.3.4.bn2.running_var\n",
      "loaded backbone.blocks.3.4.bn2.num_batches_tracked\n",
      "loaded backbone.blocks.3.4.se.conv_reduce.weight\n",
      "loaded backbone.blocks.3.4.se.conv_reduce.bias\n",
      "loaded backbone.blocks.3.4.se.conv_expand.weight\n",
      "loaded backbone.blocks.3.4.se.conv_expand.bias\n",
      "loaded backbone.blocks.3.4.conv_pwl.weight\n",
      "loaded backbone.blocks.3.4.bn3.weight\n",
      "loaded backbone.blocks.3.4.bn3.bias\n",
      "loaded backbone.blocks.3.4.bn3.running_mean\n",
      "loaded backbone.blocks.3.4.bn3.running_var\n",
      "loaded backbone.blocks.3.4.bn3.num_batches_tracked\n",
      "loaded backbone.blocks.3.5.conv_pw.weight\n",
      "loaded backbone.blocks.3.5.bn1.weight\n",
      "loaded backbone.blocks.3.5.bn1.bias\n",
      "loaded backbone.blocks.3.5.bn1.running_mean\n",
      "loaded backbone.blocks.3.5.bn1.running_var\n",
      "loaded backbone.blocks.3.5.bn1.num_batches_tracked\n",
      "loaded backbone.blocks.3.5.conv_dw.weight\n",
      "loaded backbone.blocks.3.5.bn2.weight\n",
      "loaded backbone.blocks.3.5.bn2.bias\n",
      "loaded backbone.blocks.3.5.bn2.running_mean\n",
      "loaded backbone.blocks.3.5.bn2.running_var\n",
      "loaded backbone.blocks.3.5.bn2.num_batches_tracked\n",
      "loaded backbone.blocks.3.5.se.conv_reduce.weight\n",
      "loaded backbone.blocks.3.5.se.conv_reduce.bias\n",
      "loaded backbone.blocks.3.5.se.conv_expand.weight\n",
      "loaded backbone.blocks.3.5.se.conv_expand.bias\n",
      "loaded backbone.blocks.3.5.conv_pwl.weight\n",
      "loaded backbone.blocks.3.5.bn3.weight\n",
      "loaded backbone.blocks.3.5.bn3.bias\n",
      "loaded backbone.blocks.3.5.bn3.running_mean\n",
      "loaded backbone.blocks.3.5.bn3.running_var\n",
      "loaded backbone.blocks.3.5.bn3.num_batches_tracked\n",
      "loaded backbone.blocks.4.0.conv_pw.weight\n",
      "loaded backbone.blocks.4.0.bn1.weight\n",
      "loaded backbone.blocks.4.0.bn1.bias\n",
      "loaded backbone.blocks.4.0.bn1.running_mean\n",
      "loaded backbone.blocks.4.0.bn1.running_var\n",
      "loaded backbone.blocks.4.0.bn1.num_batches_tracked\n",
      "loaded backbone.blocks.4.0.conv_dw.weight\n",
      "loaded backbone.blocks.4.0.bn2.weight\n",
      "loaded backbone.blocks.4.0.bn2.bias\n",
      "loaded backbone.blocks.4.0.bn2.running_mean\n",
      "loaded backbone.blocks.4.0.bn2.running_var\n",
      "loaded backbone.blocks.4.0.bn2.num_batches_tracked\n",
      "loaded backbone.blocks.4.0.se.conv_reduce.weight\n",
      "loaded backbone.blocks.4.0.se.conv_reduce.bias\n",
      "loaded backbone.blocks.4.0.se.conv_expand.weight\n",
      "loaded backbone.blocks.4.0.se.conv_expand.bias\n",
      "loaded backbone.blocks.4.0.conv_pwl.weight\n",
      "loaded backbone.blocks.4.0.bn3.weight\n",
      "loaded backbone.blocks.4.0.bn3.bias\n",
      "loaded backbone.blocks.4.0.bn3.running_mean\n",
      "loaded backbone.blocks.4.0.bn3.running_var\n",
      "loaded backbone.blocks.4.0.bn3.num_batches_tracked\n",
      "loaded backbone.blocks.4.1.conv_pw.weight\n",
      "loaded backbone.blocks.4.1.bn1.weight\n",
      "loaded backbone.blocks.4.1.bn1.bias\n",
      "loaded backbone.blocks.4.1.bn1.running_mean\n",
      "loaded backbone.blocks.4.1.bn1.running_var\n",
      "loaded backbone.blocks.4.1.bn1.num_batches_tracked\n",
      "loaded backbone.blocks.4.1.conv_dw.weight\n",
      "loaded backbone.blocks.4.1.bn2.weight\n",
      "loaded backbone.blocks.4.1.bn2.bias\n",
      "loaded backbone.blocks.4.1.bn2.running_mean\n",
      "loaded backbone.blocks.4.1.bn2.running_var\n",
      "loaded backbone.blocks.4.1.bn2.num_batches_tracked\n",
      "loaded backbone.blocks.4.1.se.conv_reduce.weight\n",
      "loaded backbone.blocks.4.1.se.conv_reduce.bias\n",
      "loaded backbone.blocks.4.1.se.conv_expand.weight\n",
      "loaded backbone.blocks.4.1.se.conv_expand.bias\n",
      "loaded backbone.blocks.4.1.conv_pwl.weight\n",
      "loaded backbone.blocks.4.1.bn3.weight\n",
      "loaded backbone.blocks.4.1.bn3.bias\n",
      "loaded backbone.blocks.4.1.bn3.running_mean\n",
      "loaded backbone.blocks.4.1.bn3.running_var\n",
      "loaded backbone.blocks.4.1.bn3.num_batches_tracked\n",
      "loaded backbone.blocks.4.2.conv_pw.weight\n",
      "loaded backbone.blocks.4.2.bn1.weight\n",
      "loaded backbone.blocks.4.2.bn1.bias\n",
      "loaded backbone.blocks.4.2.bn1.running_mean\n",
      "loaded backbone.blocks.4.2.bn1.running_var\n",
      "loaded backbone.blocks.4.2.bn1.num_batches_tracked\n",
      "loaded backbone.blocks.4.2.conv_dw.weight\n",
      "loaded backbone.blocks.4.2.bn2.weight\n",
      "loaded backbone.blocks.4.2.bn2.bias\n",
      "loaded backbone.blocks.4.2.bn2.running_mean\n",
      "loaded backbone.blocks.4.2.bn2.running_var\n",
      "loaded backbone.blocks.4.2.bn2.num_batches_tracked\n",
      "loaded backbone.blocks.4.2.se.conv_reduce.weight\n",
      "loaded backbone.blocks.4.2.se.conv_reduce.bias\n",
      "loaded backbone.blocks.4.2.se.conv_expand.weight\n",
      "loaded backbone.blocks.4.2.se.conv_expand.bias\n",
      "loaded backbone.blocks.4.2.conv_pwl.weight\n",
      "loaded backbone.blocks.4.2.bn3.weight\n",
      "loaded backbone.blocks.4.2.bn3.bias\n",
      "loaded backbone.blocks.4.2.bn3.running_mean\n",
      "loaded backbone.blocks.4.2.bn3.running_var\n",
      "loaded backbone.blocks.4.2.bn3.num_batches_tracked\n",
      "loaded backbone.blocks.4.3.conv_pw.weight\n",
      "loaded backbone.blocks.4.3.bn1.weight\n",
      "loaded backbone.blocks.4.3.bn1.bias\n",
      "loaded backbone.blocks.4.3.bn1.running_mean\n",
      "loaded backbone.blocks.4.3.bn1.running_var\n",
      "loaded backbone.blocks.4.3.bn1.num_batches_tracked\n",
      "loaded backbone.blocks.4.3.conv_dw.weight\n",
      "loaded backbone.blocks.4.3.bn2.weight\n",
      "loaded backbone.blocks.4.3.bn2.bias\n",
      "loaded backbone.blocks.4.3.bn2.running_mean\n",
      "loaded backbone.blocks.4.3.bn2.running_var\n",
      "loaded backbone.blocks.4.3.bn2.num_batches_tracked\n",
      "loaded backbone.blocks.4.3.se.conv_reduce.weight\n",
      "loaded backbone.blocks.4.3.se.conv_reduce.bias\n",
      "loaded backbone.blocks.4.3.se.conv_expand.weight\n",
      "loaded backbone.blocks.4.3.se.conv_expand.bias\n",
      "loaded backbone.blocks.4.3.conv_pwl.weight\n",
      "loaded backbone.blocks.4.3.bn3.weight\n",
      "loaded backbone.blocks.4.3.bn3.bias\n",
      "loaded backbone.blocks.4.3.bn3.running_mean\n",
      "loaded backbone.blocks.4.3.bn3.running_var\n",
      "loaded backbone.blocks.4.3.bn3.num_batches_tracked\n",
      "loaded backbone.blocks.4.4.conv_pw.weight\n",
      "loaded backbone.blocks.4.4.bn1.weight\n",
      "loaded backbone.blocks.4.4.bn1.bias\n",
      "loaded backbone.blocks.4.4.bn1.running_mean\n",
      "loaded backbone.blocks.4.4.bn1.running_var\n",
      "loaded backbone.blocks.4.4.bn1.num_batches_tracked\n",
      "loaded backbone.blocks.4.4.conv_dw.weight\n",
      "loaded backbone.blocks.4.4.bn2.weight\n",
      "loaded backbone.blocks.4.4.bn2.bias\n",
      "loaded backbone.blocks.4.4.bn2.running_mean\n",
      "loaded backbone.blocks.4.4.bn2.running_var\n",
      "loaded backbone.blocks.4.4.bn2.num_batches_tracked\n",
      "loaded backbone.blocks.4.4.se.conv_reduce.weight\n",
      "loaded backbone.blocks.4.4.se.conv_reduce.bias\n",
      "loaded backbone.blocks.4.4.se.conv_expand.weight\n",
      "loaded backbone.blocks.4.4.se.conv_expand.bias\n",
      "loaded backbone.blocks.4.4.conv_pwl.weight\n",
      "loaded backbone.blocks.4.4.bn3.weight\n",
      "loaded backbone.blocks.4.4.bn3.bias\n",
      "loaded backbone.blocks.4.4.bn3.running_mean\n",
      "loaded backbone.blocks.4.4.bn3.running_var\n",
      "loaded backbone.blocks.4.4.bn3.num_batches_tracked\n",
      "loaded backbone.blocks.4.5.conv_pw.weight\n",
      "loaded backbone.blocks.4.5.bn1.weight\n",
      "loaded backbone.blocks.4.5.bn1.bias\n",
      "loaded backbone.blocks.4.5.bn1.running_mean\n",
      "loaded backbone.blocks.4.5.bn1.running_var\n",
      "loaded backbone.blocks.4.5.bn1.num_batches_tracked\n",
      "loaded backbone.blocks.4.5.conv_dw.weight\n",
      "loaded backbone.blocks.4.5.bn2.weight\n",
      "loaded backbone.blocks.4.5.bn2.bias\n",
      "loaded backbone.blocks.4.5.bn2.running_mean\n",
      "loaded backbone.blocks.4.5.bn2.running_var\n",
      "loaded backbone.blocks.4.5.bn2.num_batches_tracked\n",
      "loaded backbone.blocks.4.5.se.conv_reduce.weight\n",
      "loaded backbone.blocks.4.5.se.conv_reduce.bias\n",
      "loaded backbone.blocks.4.5.se.conv_expand.weight\n",
      "loaded backbone.blocks.4.5.se.conv_expand.bias\n",
      "loaded backbone.blocks.4.5.conv_pwl.weight\n",
      "loaded backbone.blocks.4.5.bn3.weight\n",
      "loaded backbone.blocks.4.5.bn3.bias\n",
      "loaded backbone.blocks.4.5.bn3.running_mean\n",
      "loaded backbone.blocks.4.5.bn3.running_var\n",
      "loaded backbone.blocks.4.5.bn3.num_batches_tracked\n",
      "loaded backbone.blocks.5.0.conv_pw.weight\n",
      "loaded backbone.blocks.5.0.bn1.weight\n",
      "loaded backbone.blocks.5.0.bn1.bias\n",
      "loaded backbone.blocks.5.0.bn1.running_mean\n",
      "loaded backbone.blocks.5.0.bn1.running_var\n",
      "loaded backbone.blocks.5.0.bn1.num_batches_tracked\n",
      "loaded backbone.blocks.5.0.conv_dw.weight\n",
      "loaded backbone.blocks.5.0.bn2.weight\n",
      "loaded backbone.blocks.5.0.bn2.bias\n",
      "loaded backbone.blocks.5.0.bn2.running_mean\n",
      "loaded backbone.blocks.5.0.bn2.running_var\n",
      "loaded backbone.blocks.5.0.bn2.num_batches_tracked\n",
      "loaded backbone.blocks.5.0.se.conv_reduce.weight\n",
      "loaded backbone.blocks.5.0.se.conv_reduce.bias\n",
      "loaded backbone.blocks.5.0.se.conv_expand.weight\n",
      "loaded backbone.blocks.5.0.se.conv_expand.bias\n",
      "loaded backbone.blocks.5.0.conv_pwl.weight\n",
      "loaded backbone.blocks.5.0.bn3.weight\n",
      "loaded backbone.blocks.5.0.bn3.bias\n",
      "loaded backbone.blocks.5.0.bn3.running_mean\n",
      "loaded backbone.blocks.5.0.bn3.running_var\n",
      "loaded backbone.blocks.5.0.bn3.num_batches_tracked\n",
      "loaded backbone.blocks.5.1.conv_pw.weight\n",
      "loaded backbone.blocks.5.1.bn1.weight\n",
      "loaded backbone.blocks.5.1.bn1.bias\n",
      "loaded backbone.blocks.5.1.bn1.running_mean\n",
      "loaded backbone.blocks.5.1.bn1.running_var\n",
      "loaded backbone.blocks.5.1.bn1.num_batches_tracked\n",
      "loaded backbone.blocks.5.1.conv_dw.weight\n",
      "loaded backbone.blocks.5.1.bn2.weight\n",
      "loaded backbone.blocks.5.1.bn2.bias\n",
      "loaded backbone.blocks.5.1.bn2.running_mean\n",
      "loaded backbone.blocks.5.1.bn2.running_var\n",
      "loaded backbone.blocks.5.1.bn2.num_batches_tracked\n",
      "loaded backbone.blocks.5.1.se.conv_reduce.weight\n",
      "loaded backbone.blocks.5.1.se.conv_reduce.bias\n",
      "loaded backbone.blocks.5.1.se.conv_expand.weight\n",
      "loaded backbone.blocks.5.1.se.conv_expand.bias\n",
      "loaded backbone.blocks.5.1.conv_pwl.weight\n",
      "loaded backbone.blocks.5.1.bn3.weight\n",
      "loaded backbone.blocks.5.1.bn3.bias\n",
      "loaded backbone.blocks.5.1.bn3.running_mean\n",
      "loaded backbone.blocks.5.1.bn3.running_var\n",
      "loaded backbone.blocks.5.1.bn3.num_batches_tracked\n",
      "loaded backbone.blocks.5.2.conv_pw.weight\n",
      "loaded backbone.blocks.5.2.bn1.weight\n",
      "loaded backbone.blocks.5.2.bn1.bias\n",
      "loaded backbone.blocks.5.2.bn1.running_mean\n",
      "loaded backbone.blocks.5.2.bn1.running_var\n",
      "loaded backbone.blocks.5.2.bn1.num_batches_tracked\n",
      "loaded backbone.blocks.5.2.conv_dw.weight\n",
      "loaded backbone.blocks.5.2.bn2.weight\n",
      "loaded backbone.blocks.5.2.bn2.bias\n",
      "loaded backbone.blocks.5.2.bn2.running_mean\n",
      "loaded backbone.blocks.5.2.bn2.running_var\n",
      "loaded backbone.blocks.5.2.bn2.num_batches_tracked\n",
      "loaded backbone.blocks.5.2.se.conv_reduce.weight\n",
      "loaded backbone.blocks.5.2.se.conv_reduce.bias\n",
      "loaded backbone.blocks.5.2.se.conv_expand.weight\n",
      "loaded backbone.blocks.5.2.se.conv_expand.bias\n",
      "loaded backbone.blocks.5.2.conv_pwl.weight\n",
      "loaded backbone.blocks.5.2.bn3.weight\n",
      "loaded backbone.blocks.5.2.bn3.bias\n",
      "loaded backbone.blocks.5.2.bn3.running_mean\n",
      "loaded backbone.blocks.5.2.bn3.running_var\n",
      "loaded backbone.blocks.5.2.bn3.num_batches_tracked\n",
      "loaded backbone.blocks.5.3.conv_pw.weight\n",
      "loaded backbone.blocks.5.3.bn1.weight\n",
      "loaded backbone.blocks.5.3.bn1.bias\n",
      "loaded backbone.blocks.5.3.bn1.running_mean\n",
      "loaded backbone.blocks.5.3.bn1.running_var\n",
      "loaded backbone.blocks.5.3.bn1.num_batches_tracked\n",
      "loaded backbone.blocks.5.3.conv_dw.weight\n",
      "loaded backbone.blocks.5.3.bn2.weight\n",
      "loaded backbone.blocks.5.3.bn2.bias\n",
      "loaded backbone.blocks.5.3.bn2.running_mean\n",
      "loaded backbone.blocks.5.3.bn2.running_var\n",
      "loaded backbone.blocks.5.3.bn2.num_batches_tracked\n",
      "loaded backbone.blocks.5.3.se.conv_reduce.weight\n",
      "loaded backbone.blocks.5.3.se.conv_reduce.bias\n",
      "loaded backbone.blocks.5.3.se.conv_expand.weight\n",
      "loaded backbone.blocks.5.3.se.conv_expand.bias\n",
      "loaded backbone.blocks.5.3.conv_pwl.weight\n",
      "loaded backbone.blocks.5.3.bn3.weight\n",
      "loaded backbone.blocks.5.3.bn3.bias\n",
      "loaded backbone.blocks.5.3.bn3.running_mean\n",
      "loaded backbone.blocks.5.3.bn3.running_var\n",
      "loaded backbone.blocks.5.3.bn3.num_batches_tracked\n",
      "loaded backbone.blocks.5.4.conv_pw.weight\n",
      "loaded backbone.blocks.5.4.bn1.weight\n",
      "loaded backbone.blocks.5.4.bn1.bias\n",
      "loaded backbone.blocks.5.4.bn1.running_mean\n",
      "loaded backbone.blocks.5.4.bn1.running_var\n",
      "loaded backbone.blocks.5.4.bn1.num_batches_tracked\n",
      "loaded backbone.blocks.5.4.conv_dw.weight\n",
      "loaded backbone.blocks.5.4.bn2.weight\n",
      "loaded backbone.blocks.5.4.bn2.bias\n",
      "loaded backbone.blocks.5.4.bn2.running_mean\n",
      "loaded backbone.blocks.5.4.bn2.running_var\n",
      "loaded backbone.blocks.5.4.bn2.num_batches_tracked\n",
      "loaded backbone.blocks.5.4.se.conv_reduce.weight\n",
      "loaded backbone.blocks.5.4.se.conv_reduce.bias\n",
      "loaded backbone.blocks.5.4.se.conv_expand.weight\n",
      "loaded backbone.blocks.5.4.se.conv_expand.bias\n",
      "loaded backbone.blocks.5.4.conv_pwl.weight\n",
      "loaded backbone.blocks.5.4.bn3.weight\n",
      "loaded backbone.blocks.5.4.bn3.bias\n",
      "loaded backbone.blocks.5.4.bn3.running_mean\n",
      "loaded backbone.blocks.5.4.bn3.running_var\n",
      "loaded backbone.blocks.5.4.bn3.num_batches_tracked\n",
      "loaded backbone.blocks.5.5.conv_pw.weight\n",
      "loaded backbone.blocks.5.5.bn1.weight\n",
      "loaded backbone.blocks.5.5.bn1.bias\n",
      "loaded backbone.blocks.5.5.bn1.running_mean\n",
      "loaded backbone.blocks.5.5.bn1.running_var\n",
      "loaded backbone.blocks.5.5.bn1.num_batches_tracked\n",
      "loaded backbone.blocks.5.5.conv_dw.weight\n",
      "loaded backbone.blocks.5.5.bn2.weight\n",
      "loaded backbone.blocks.5.5.bn2.bias\n",
      "loaded backbone.blocks.5.5.bn2.running_mean\n",
      "loaded backbone.blocks.5.5.bn2.running_var\n",
      "loaded backbone.blocks.5.5.bn2.num_batches_tracked\n",
      "loaded backbone.blocks.5.5.se.conv_reduce.weight\n",
      "loaded backbone.blocks.5.5.se.conv_reduce.bias\n",
      "loaded backbone.blocks.5.5.se.conv_expand.weight\n",
      "loaded backbone.blocks.5.5.se.conv_expand.bias\n",
      "loaded backbone.blocks.5.5.conv_pwl.weight\n",
      "loaded backbone.blocks.5.5.bn3.weight\n",
      "loaded backbone.blocks.5.5.bn3.bias\n",
      "loaded backbone.blocks.5.5.bn3.running_mean\n",
      "loaded backbone.blocks.5.5.bn3.running_var\n",
      "loaded backbone.blocks.5.5.bn3.num_batches_tracked\n",
      "loaded backbone.blocks.5.6.conv_pw.weight\n",
      "loaded backbone.blocks.5.6.bn1.weight\n",
      "loaded backbone.blocks.5.6.bn1.bias\n",
      "loaded backbone.blocks.5.6.bn1.running_mean\n",
      "loaded backbone.blocks.5.6.bn1.running_var\n",
      "loaded backbone.blocks.5.6.bn1.num_batches_tracked\n",
      "loaded backbone.blocks.5.6.conv_dw.weight\n",
      "loaded backbone.blocks.5.6.bn2.weight\n",
      "loaded backbone.blocks.5.6.bn2.bias\n",
      "loaded backbone.blocks.5.6.bn2.running_mean\n",
      "loaded backbone.blocks.5.6.bn2.running_var\n",
      "loaded backbone.blocks.5.6.bn2.num_batches_tracked\n",
      "loaded backbone.blocks.5.6.se.conv_reduce.weight\n",
      "loaded backbone.blocks.5.6.se.conv_reduce.bias\n",
      "loaded backbone.blocks.5.6.se.conv_expand.weight\n",
      "loaded backbone.blocks.5.6.se.conv_expand.bias\n",
      "loaded backbone.blocks.5.6.conv_pwl.weight\n",
      "loaded backbone.blocks.5.6.bn3.weight\n",
      "loaded backbone.blocks.5.6.bn3.bias\n",
      "loaded backbone.blocks.5.6.bn3.running_mean\n",
      "loaded backbone.blocks.5.6.bn3.running_var\n",
      "loaded backbone.blocks.5.6.bn3.num_batches_tracked\n",
      "loaded backbone.blocks.5.7.conv_pw.weight\n",
      "loaded backbone.blocks.5.7.bn1.weight\n",
      "loaded backbone.blocks.5.7.bn1.bias\n",
      "loaded backbone.blocks.5.7.bn1.running_mean\n",
      "loaded backbone.blocks.5.7.bn1.running_var\n",
      "loaded backbone.blocks.5.7.bn1.num_batches_tracked\n",
      "loaded backbone.blocks.5.7.conv_dw.weight\n",
      "loaded backbone.blocks.5.7.bn2.weight\n",
      "loaded backbone.blocks.5.7.bn2.bias\n",
      "loaded backbone.blocks.5.7.bn2.running_mean\n",
      "loaded backbone.blocks.5.7.bn2.running_var\n",
      "loaded backbone.blocks.5.7.bn2.num_batches_tracked\n",
      "loaded backbone.blocks.5.7.se.conv_reduce.weight\n",
      "loaded backbone.blocks.5.7.se.conv_reduce.bias\n",
      "loaded backbone.blocks.5.7.se.conv_expand.weight\n",
      "loaded backbone.blocks.5.7.se.conv_expand.bias\n",
      "loaded backbone.blocks.5.7.conv_pwl.weight\n",
      "loaded backbone.blocks.5.7.bn3.weight\n",
      "loaded backbone.blocks.5.7.bn3.bias\n",
      "loaded backbone.blocks.5.7.bn3.running_mean\n",
      "loaded backbone.blocks.5.7.bn3.running_var\n",
      "loaded backbone.blocks.5.7.bn3.num_batches_tracked\n",
      "loaded backbone.blocks.6.0.conv_pw.weight\n",
      "loaded backbone.blocks.6.0.bn1.weight\n",
      "loaded backbone.blocks.6.0.bn1.bias\n",
      "loaded backbone.blocks.6.0.bn1.running_mean\n",
      "loaded backbone.blocks.6.0.bn1.running_var\n",
      "loaded backbone.blocks.6.0.bn1.num_batches_tracked\n",
      "loaded backbone.blocks.6.0.conv_dw.weight\n",
      "loaded backbone.blocks.6.0.bn2.weight\n",
      "loaded backbone.blocks.6.0.bn2.bias\n",
      "loaded backbone.blocks.6.0.bn2.running_mean\n",
      "loaded backbone.blocks.6.0.bn2.running_var\n",
      "loaded backbone.blocks.6.0.bn2.num_batches_tracked\n",
      "loaded backbone.blocks.6.0.se.conv_reduce.weight\n",
      "loaded backbone.blocks.6.0.se.conv_reduce.bias\n",
      "loaded backbone.blocks.6.0.se.conv_expand.weight\n",
      "loaded backbone.blocks.6.0.se.conv_expand.bias\n",
      "loaded backbone.blocks.6.0.conv_pwl.weight\n",
      "loaded backbone.blocks.6.0.bn3.weight\n",
      "loaded backbone.blocks.6.0.bn3.bias\n",
      "loaded backbone.blocks.6.0.bn3.running_mean\n",
      "loaded backbone.blocks.6.0.bn3.running_var\n",
      "loaded backbone.blocks.6.0.bn3.num_batches_tracked\n",
      "loaded backbone.blocks.6.1.conv_pw.weight\n",
      "loaded backbone.blocks.6.1.bn1.weight\n",
      "loaded backbone.blocks.6.1.bn1.bias\n",
      "loaded backbone.blocks.6.1.bn1.running_mean\n",
      "loaded backbone.blocks.6.1.bn1.running_var\n",
      "loaded backbone.blocks.6.1.bn1.num_batches_tracked\n",
      "loaded backbone.blocks.6.1.conv_dw.weight\n",
      "loaded backbone.blocks.6.1.bn2.weight\n",
      "loaded backbone.blocks.6.1.bn2.bias\n",
      "loaded backbone.blocks.6.1.bn2.running_mean\n",
      "loaded backbone.blocks.6.1.bn2.running_var\n",
      "loaded backbone.blocks.6.1.bn2.num_batches_tracked\n",
      "loaded backbone.blocks.6.1.se.conv_reduce.weight\n",
      "loaded backbone.blocks.6.1.se.conv_reduce.bias\n",
      "loaded backbone.blocks.6.1.se.conv_expand.weight\n",
      "loaded backbone.blocks.6.1.se.conv_expand.bias\n",
      "loaded backbone.blocks.6.1.conv_pwl.weight\n",
      "loaded backbone.blocks.6.1.bn3.weight\n",
      "loaded backbone.blocks.6.1.bn3.bias\n",
      "loaded backbone.blocks.6.1.bn3.running_mean\n",
      "loaded backbone.blocks.6.1.bn3.running_var\n",
      "loaded backbone.blocks.6.1.bn3.num_batches_tracked\n",
      "loaded backbone.conv_head.weight\n",
      "loaded backbone.bn2.weight\n",
      "loaded backbone.bn2.bias\n",
      "loaded backbone.bn2.running_mean\n",
      "loaded backbone.bn2.running_var\n",
      "loaded backbone.bn2.num_batches_tracked\n",
      "loaded wps_head.weight\n",
      "loaded wps_head.bias\n",
      "loaded aux_targets_head.weight\n",
      "loaded aux_targets_head.bias\n",
      "loaded obsnet.0.weight\n",
      "loaded obsnet.0.bias\n",
      "loaded obsnet.2.weight\n",
      "loaded obsnet.2.bias\n"
     ]
    }
   ],
   "source": [
    "sd = torch.load(f\"{BESPOKE_ROOT}/models/m.torch\")\n",
    "m = try_load_state_dict(m, sd)"
   ]
  },
  {
   "cell_type": "code",
   "execution_count": 8,
   "metadata": {
    "scrolled": true
   },
   "outputs": [],
   "source": [
    "opt = torch.optim.Adam(m.parameters(), lr=3e-4)"
   ]
  },
  {
   "cell_type": "code",
   "execution_count": 9,
   "metadata": {
    "scrolled": true
   },
   "outputs": [
    {
     "name": "stderr",
     "output_type": "stream",
     "text": [
      "/home/beans/miniconda3/envs/py38/lib/python3.8/site-packages/albumentations/augmentations/transforms.py:1175: FutureWarning: RandomContrast has been deprecated. Please use RandomBrightnessContrast\n",
      "  warnings.warn(\n",
      "/home/beans/miniconda3/envs/py38/lib/python3.8/site-packages/albumentations/augmentations/transforms.py:316: FutureWarning: JpegCompression has been deprecated. Please use ImageCompression\n",
      "  warnings.warn(\n",
      "/home/beans/miniconda3/envs/py38/lib/python3.8/site-packages/albumentations/augmentations/transforms.py:1149: FutureWarning: This class has been deprecated. Please use RandomBrightnessContrast\n",
      "  warnings.warn(\n"
     ]
    },
    {
     "name": "stdout",
     "output_type": "stream",
     "text": [
      "Got first chunk\n",
      "CPU times: user 386 ms, sys: 3.82 s, total: 4.2 s\n",
      "Wall time: 15.7 s\n"
     ]
    }
   ],
   "source": [
    "%%time\n",
    "BS = 32\n",
    "dataloader_trn = TrnLoader(bs=BS)"
   ]
  },
  {
   "cell_type": "code",
   "execution_count": 10,
   "metadata": {
    "scrolled": true
   },
   "outputs": [
    {
     "data": {
      "text/plain": [
       "'%%time\\nrw_evaluator.evaluate()'"
      ]
     },
     "execution_count": 10,
     "metadata": {},
     "output_type": "execute_result"
    }
   ],
   "source": [
    "\"\"\"%%time\n",
    "rw_evaluator.evaluate()\"\"\""
   ]
  },
  {
   "cell_type": "code",
   "execution_count": null,
   "metadata": {},
   "outputs": [],
   "source": []
  },
  {
   "cell_type": "code",
   "execution_count": 11,
   "metadata": {
    "scrolled": true
   },
   "outputs": [],
   "source": [
    "model_stem = \"1.23\""
   ]
  },
  {
   "cell_type": "code",
   "execution_count": 12,
   "metadata": {},
   "outputs": [
    {
     "data": {
      "text/plain": [
       "'freeze_model(m, True)\\nunfreeze_part_of_model(m, \"wps_head\")\\nunfreeze_part_of_model(m, \"aux_targets_head\")\\nunfreeze_part_of_model(m, \"obsnet\")\\n[p.requires_grad for p in m.parameters()]'"
      ]
     },
     "execution_count": 12,
     "metadata": {},
     "output_type": "execute_result"
    }
   ],
   "source": [
    "\"\"\"freeze_model(m, True)\n",
    "unfreeze_part_of_model(m, \"wps_head\")\n",
    "unfreeze_part_of_model(m, \"aux_targets_head\")\n",
    "unfreeze_part_of_model(m, \"obsnet\")\n",
    "[p.requires_grad for p in m.parameters()]\"\"\""
   ]
  },
  {
   "cell_type": "code",
   "execution_count": 13,
   "metadata": {},
   "outputs": [],
   "source": [
    "trainer = Trainer(dataloader_trn, m, model_stem=model_stem, opt=opt, wandb=wandb, \n",
    "                  rw_evaluator=rw_evaluator)"
   ]
  },
  {
   "cell_type": "code",
   "execution_count": 14,
   "metadata": {
    "scrolled": true
   },
   "outputs": [],
   "source": [
    "#trainer.reload_state()"
   ]
  },
  {
   "cell_type": "code",
   "execution_count": null,
   "metadata": {
    "scrolled": true
   },
   "outputs": [],
   "source": [
    "trainer.train()"
   ]
  },
  {
   "cell_type": "code",
   "execution_count": null,
   "metadata": {},
   "outputs": [],
   "source": []
  },
  {
   "cell_type": "code",
   "execution_count": null,
   "metadata": {},
   "outputs": [],
   "source": []
  },
  {
   "cell_type": "code",
   "execution_count": null,
   "metadata": {},
   "outputs": [],
   "source": [
    "trainer.opt.param_groups[0]['lr'] = 3e-4"
   ]
  },
  {
   "cell_type": "code",
   "execution_count": null,
   "metadata": {},
   "outputs": [],
   "source": []
  },
  {
   "cell_type": "code",
   "execution_count": 28,
   "metadata": {},
   "outputs": [
    {
     "data": {
      "text/plain": [
       "0.15067877149872744"
      ]
     },
     "execution_count": 28,
     "metadata": {},
     "output_type": "execute_result"
    },
    {
     "name": "stdout",
     "output_type": "stream",
     "text": [
      "\n",
      "\n",
      " {'logistical/obs_consumed_per_second': 38.2265625, 'logistical/obs_generated_per_second': 85.1328125, 'logistical/slowest_runner_obs_per_sec': 5.3125, 'logistical/data_consumption_ratio': 0.45004667, 'logistical/manual_train_pause': 0.0, 'timing/get batch from dataloader': 0.00400971, 'timing/model forward': 0.19439457, 'timing/calc losses': 0.00539116, 'timing/backwards': 1.11790375, 'timing/get worst': 0.00264816, 'timing/logging': 0.01570235, 'timing/calc timing': 0.01359244, 'timing/trn update': 1.35364565, 'wp_angles': 0.01003864, 'wp_curvatures': 0.04547036, 'wp_headings': 0.01048879, 'wp_rolls': 0.52840137, 'wp_zs': 0.09037566, 'has_stop': 0.01459547, 'stop_dist': 0.00825622, 'has_lead': 0.01966284, 'lead_dist': 0.00662124, 'lead_speed': 16.11909485, 'dagger_shift': 0.14152849, 'lane_width': 0.12975717, 'rd_is_lined': 0.01347083, 'pitch': 4.037e-05, 'yaw': 4.98e-05, 'unc': 1.57641983, 'logistical/max_param': 32.69097137, 'logistical/lr': 0.0006, 'logistical/mins_since_slowest_runner_reported': 4.32358388}\n",
      "\n",
      " {'timing/wait bc batch not ready': 0.0, 'timing/prep image': 0.13784193, 'timing/prep aux': 0.02774356, 'timing/calc wp targets': 0.01722029, 'timing/assemble mask': 0.01798955, 'timing/prep wps': 0.00107451, 'timing/promote backup chunk': 0.00818801, 'timing/queue_batch': 0.21006311, 'timing/refresh chunk': 10.08409721, 'timing/refresh_chunk': 10.08413559}\n",
      "{'logistical/obs_consumed_per_second': 9.0, 'logistical/obs_generated_per_second': 83.0, 'logistical/slowest_runner_obs_per_sec': 5.0, 'logistical/data_consumption_ratio': 0.11437129, 'logistical/manual_train_pause': 0.0, 'timing/get batch from dataloader': 0.14230013, 'timing/model forward': 0.89826417, 'timing/calc losses': 0.06698966, 'timing/backwards': 0.59560704, 'timing/get worst': 3.81e-06, 'timing/logging': 1.66820359, 'timing/calc timing': 0.00278378, 'timing/trn update': 3.37415457}\n"
     ]
    }
   ],
   "source": [
    "snr"
   ]
  },
  {
   "cell_type": "code",
   "execution_count": null,
   "metadata": {},
   "outputs": [],
   "source": []
  },
  {
   "cell_type": "code",
   "execution_count": 25,
   "metadata": {
    "scrolled": true
   },
   "outputs": [],
   "source": [
    "set_should_stop(True)"
   ]
  },
  {
   "cell_type": "code",
   "execution_count": null,
   "metadata": {},
   "outputs": [],
   "source": []
  },
  {
   "cell_type": "code",
   "execution_count": 10,
   "metadata": {
    "scrolled": true
   },
   "outputs": [
    {
     "name": "stderr",
     "output_type": "stream",
     "text": [
      "/home/beans/miniconda3/envs/py38/lib/python3.8/site-packages/torch/utils/checkpoint.py:25: UserWarning: None of the inputs have requires_grad=True. Gradients will be None\n",
      "  warnings.warn(\"None of the inputs have requires_grad=True. Gradients will be None\")\n"
     ]
    },
    {
     "name": "stdout",
     "output_type": "stream",
     "text": [
      "CPU times: user 14.3 s, sys: 417 ms, total: 14.7 s\n",
      "Wall time: 14 s\n"
     ]
    }
   ],
   "source": [
    "%%time\n",
    "\n",
    "eval_rw(rw_dataloader, m, wandb) # will log directly to wandb"
   ]
  },
  {
   "cell_type": "code",
   "execution_count": null,
   "metadata": {},
   "outputs": [],
   "source": []
  },
  {
   "cell_type": "code",
   "execution_count": null,
   "metadata": {},
   "outputs": [],
   "source": []
  }
 ],
 "metadata": {
  "kernelspec": {
   "display_name": "Python 3 (ipykernel)",
   "language": "python",
   "name": "python3"
  },
  "language_info": {
   "codemirror_mode": {
    "name": "ipython",
    "version": 3
   },
   "file_extension": ".py",
   "mimetype": "text/x-python",
   "name": "python",
   "nbconvert_exporter": "python",
   "pygments_lexer": "ipython3",
   "version": "3.8.11"
  },
  "vscode": {
   "interpreter": {
    "hash": "916dbcbb3f70747c44a77c7bcd40155683ae19c65e1c03b4aa3499c5328201f1"
   }
  }
 },
 "nbformat": 4,
 "nbformat_minor": 4
}
