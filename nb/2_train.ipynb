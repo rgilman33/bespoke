{
 "cells": [
  {
   "cell_type": "code",
   "execution_count": 1,
   "metadata": {
    "scrolled": true
   },
   "outputs": [
    {
     "name": "stderr",
     "output_type": "stream",
     "text": [
      "/home/beans/miniconda3/envs/py38/lib/python3.8/site-packages/albumentations/augmentations/transforms.py:689: FutureWarning: This class has been deprecated. Please use CoarseDropout\n",
      "  warnings.warn(\n",
      "/home/beans/miniconda3/envs/py38/lib/python3.8/site-packages/albumentations/augmentations/transforms.py:965: FutureWarning: This class has been deprecated. Please use ImageCompression\n",
      "  warnings.warn(\n"
     ]
    },
    {
     "data": {
      "text/plain": [
       "('1.10.0', 2, 'NVIDIA GeForce RTX 3090')"
      ]
     },
     "execution_count": 1,
     "metadata": {},
     "output_type": "execute_result"
    }
   ],
   "source": [
    "%matplotlib inline\n",
    "%load_ext autoreload\n",
    "%autoreload 2\n",
    "\n",
    "import sys\n",
    "sys.path.append(f'/home/beans/bespoke')\n",
    "\n",
    "from models import EffNet\n",
    "from constants import *\n",
    "from imports import *\n",
    "from rw_dataloader import RealWorldDataloader\n",
    "from blender_dataloader import BlenderDataloader\n",
    "from train_utils import *\n",
    "\n",
    "torch.__version__, torch.cuda.device_count(), torch.cuda.get_device_name(torch.cuda.current_device())"
   ]
  },
  {
   "cell_type": "code",
   "execution_count": 2,
   "metadata": {},
   "outputs": [
    {
     "data": {
      "text/plain": [
       "'95c5yzw5'"
      ]
     },
     "execution_count": 2,
     "metadata": {},
     "output_type": "execute_result"
    }
   ],
   "source": [
    "import wandb\n",
    "run_id = wandb.util.generate_id(); run_id"
   ]
  },
  {
   "cell_type": "code",
   "execution_count": 3,
   "metadata": {
    "scrolled": true
   },
   "outputs": [
    {
     "name": "stderr",
     "output_type": "stream",
     "text": [
      "\u001b[34m\u001b[1mwandb\u001b[0m: Currently logged in as: \u001b[33mrgilman33\u001b[0m (use `wandb login --relogin` to force relogin)\n",
      "\u001b[34m\u001b[1mwandb\u001b[0m: wandb version 0.13.1 is available!  To upgrade, please run:\n",
      "\u001b[34m\u001b[1mwandb\u001b[0m:  $ pip install wandb --upgrade\n"
     ]
    },
    {
     "data": {
      "text/html": [
       "\n",
       "                    Syncing run <strong><a href=\"https://wandb.ai/rgilman33/carla/runs/95c5yzw5\" target=\"_blank\">rich-glade-331</a></strong> to <a href=\"https://wandb.ai/rgilman33/carla\" target=\"_blank\">Weights & Biases</a> (<a href=\"https://docs.wandb.com/integrations/jupyter.html\" target=\"_blank\">docs</a>).<br/>\n",
       "\n",
       "                "
      ],
      "text/plain": [
       "<IPython.core.display.HTML object>"
      ]
     },
     "metadata": {},
     "output_type": "display_data"
    },
    {
     "data": {
      "text/html": [
       "<button onClick=\"this.nextSibling.style.display='block';this.style.display='none';\">Display W&B run</button><iframe src=\"https://wandb.ai/rgilman33/carla/runs/95c5yzw5?jupyter=true\" style=\"border:none;width:100%;height:420px;display:none;\"></iframe>"
      ],
      "text/plain": [
       "<wandb.sdk.wandb_run.Run at 0x7f6666d122e0>"
      ]
     },
     "execution_count": 3,
     "metadata": {},
     "output_type": "execute_result"
    }
   ],
   "source": [
    "wandb.init(id='95c5yzw5', project=\"carla\", resume=\"allow\")"
   ]
  },
  {
   "cell_type": "code",
   "execution_count": 4,
   "metadata": {
    "scrolled": true
   },
   "outputs": [
    {
     "data": {
      "text/plain": [
       "13503.621"
      ]
     },
     "execution_count": 4,
     "metadata": {},
     "output_type": "execute_result"
    }
   ],
   "source": [
    "m = EffNet(model_arch=\"efficientnet_b3\").to(device) # 13M params, 11.6M without RNN, \n",
    "sum([torch.numel(p) for p in m.parameters()]) / 1000"
   ]
  },
  {
   "cell_type": "code",
   "execution_count": 5,
   "metadata": {},
   "outputs": [
    {
     "data": {
      "text/plain": [
       "10696.232"
      ]
     },
     "execution_count": 5,
     "metadata": {},
     "output_type": "execute_result"
    }
   ],
   "source": [
    "sum([torch.numel(p) for p in m.backbone.parameters()]) / 1000"
   ]
  },
  {
   "cell_type": "code",
   "execution_count": 6,
   "metadata": {
    "scrolled": true
   },
   "outputs": [
    {
     "data": {
      "text/plain": [
       "<All keys matched successfully>"
      ]
     },
     "execution_count": 6,
     "metadata": {},
     "output_type": "execute_result"
    }
   ],
   "source": [
    "m.load_state_dict(torch.load(f\"{BESPOKE_ROOT}/models/m.torch\"), strict=False)"
   ]
  },
  {
   "cell_type": "code",
   "execution_count": 7,
   "metadata": {},
   "outputs": [
    {
     "data": {
      "text/plain": [
       "EffNet(\n",
       "  (backbone): EfficientNet(\n",
       "    (conv_stem): Conv2d(3, 40, kernel_size=(3, 3), stride=(2, 2), padding=(1, 1), bias=False)\n",
       "    (bn1): BatchNorm2d(40, eps=1e-05, momentum=0.1, affine=True, track_running_stats=True)\n",
       "    (act1): SiLU(inplace=True)\n",
       "    (blocks): Sequential(\n",
       "      (0): Sequential(\n",
       "        (0): DepthwiseSeparableConv(\n",
       "          (conv_dw): Conv2d(40, 40, kernel_size=(3, 3), stride=(1, 1), padding=(1, 1), groups=40, bias=False)\n",
       "          (bn1): BatchNorm2d(40, eps=1e-05, momentum=0.1, affine=True, track_running_stats=True)\n",
       "          (act1): SiLU(inplace=True)\n",
       "          (se): SqueezeExcite(\n",
       "            (conv_reduce): Conv2d(40, 10, kernel_size=(1, 1), stride=(1, 1))\n",
       "            (act1): SiLU(inplace=True)\n",
       "            (conv_expand): Conv2d(10, 40, kernel_size=(1, 1), stride=(1, 1))\n",
       "            (gate): Sigmoid()\n",
       "          )\n",
       "          (conv_pw): Conv2d(40, 24, kernel_size=(1, 1), stride=(1, 1), bias=False)\n",
       "          (bn2): BatchNorm2d(24, eps=1e-05, momentum=0.1, affine=True, track_running_stats=True)\n",
       "          (act2): Identity()\n",
       "        )\n",
       "        (1): DepthwiseSeparableConv(\n",
       "          (conv_dw): Conv2d(24, 24, kernel_size=(3, 3), stride=(1, 1), padding=(1, 1), groups=24, bias=False)\n",
       "          (bn1): BatchNorm2d(24, eps=1e-05, momentum=0.1, affine=True, track_running_stats=True)\n",
       "          (act1): SiLU(inplace=True)\n",
       "          (se): SqueezeExcite(\n",
       "            (conv_reduce): Conv2d(24, 6, kernel_size=(1, 1), stride=(1, 1))\n",
       "            (act1): SiLU(inplace=True)\n",
       "            (conv_expand): Conv2d(6, 24, kernel_size=(1, 1), stride=(1, 1))\n",
       "            (gate): Sigmoid()\n",
       "          )\n",
       "          (conv_pw): Conv2d(24, 24, kernel_size=(1, 1), stride=(1, 1), bias=False)\n",
       "          (bn2): BatchNorm2d(24, eps=1e-05, momentum=0.1, affine=True, track_running_stats=True)\n",
       "          (act2): Identity()\n",
       "        )\n",
       "      )\n",
       "      (1): Sequential(\n",
       "        (0): InvertedResidual(\n",
       "          (conv_pw): Conv2d(24, 144, kernel_size=(1, 1), stride=(1, 1), bias=False)\n",
       "          (bn1): BatchNorm2d(144, eps=1e-05, momentum=0.1, affine=True, track_running_stats=True)\n",
       "          (act1): SiLU(inplace=True)\n",
       "          (conv_dw): Conv2d(144, 144, kernel_size=(3, 3), stride=(2, 2), padding=(1, 1), groups=144, bias=False)\n",
       "          (bn2): BatchNorm2d(144, eps=1e-05, momentum=0.1, affine=True, track_running_stats=True)\n",
       "          (act2): SiLU(inplace=True)\n",
       "          (se): SqueezeExcite(\n",
       "            (conv_reduce): Conv2d(144, 6, kernel_size=(1, 1), stride=(1, 1))\n",
       "            (act1): SiLU(inplace=True)\n",
       "            (conv_expand): Conv2d(6, 144, kernel_size=(1, 1), stride=(1, 1))\n",
       "            (gate): Sigmoid()\n",
       "          )\n",
       "          (conv_pwl): Conv2d(144, 32, kernel_size=(1, 1), stride=(1, 1), bias=False)\n",
       "          (bn3): BatchNorm2d(32, eps=1e-05, momentum=0.1, affine=True, track_running_stats=True)\n",
       "        )\n",
       "        (1): InvertedResidual(\n",
       "          (conv_pw): Conv2d(32, 192, kernel_size=(1, 1), stride=(1, 1), bias=False)\n",
       "          (bn1): BatchNorm2d(192, eps=1e-05, momentum=0.1, affine=True, track_running_stats=True)\n",
       "          (act1): SiLU(inplace=True)\n",
       "          (conv_dw): Conv2d(192, 192, kernel_size=(3, 3), stride=(1, 1), padding=(1, 1), groups=192, bias=False)\n",
       "          (bn2): BatchNorm2d(192, eps=1e-05, momentum=0.1, affine=True, track_running_stats=True)\n",
       "          (act2): SiLU(inplace=True)\n",
       "          (se): SqueezeExcite(\n",
       "            (conv_reduce): Conv2d(192, 8, kernel_size=(1, 1), stride=(1, 1))\n",
       "            (act1): SiLU(inplace=True)\n",
       "            (conv_expand): Conv2d(8, 192, kernel_size=(1, 1), stride=(1, 1))\n",
       "            (gate): Sigmoid()\n",
       "          )\n",
       "          (conv_pwl): Conv2d(192, 32, kernel_size=(1, 1), stride=(1, 1), bias=False)\n",
       "          (bn3): BatchNorm2d(32, eps=1e-05, momentum=0.1, affine=True, track_running_stats=True)\n",
       "        )\n",
       "        (2): InvertedResidual(\n",
       "          (conv_pw): Conv2d(32, 192, kernel_size=(1, 1), stride=(1, 1), bias=False)\n",
       "          (bn1): BatchNorm2d(192, eps=1e-05, momentum=0.1, affine=True, track_running_stats=True)\n",
       "          (act1): SiLU(inplace=True)\n",
       "          (conv_dw): Conv2d(192, 192, kernel_size=(3, 3), stride=(1, 1), padding=(1, 1), groups=192, bias=False)\n",
       "          (bn2): BatchNorm2d(192, eps=1e-05, momentum=0.1, affine=True, track_running_stats=True)\n",
       "          (act2): SiLU(inplace=True)\n",
       "          (se): SqueezeExcite(\n",
       "            (conv_reduce): Conv2d(192, 8, kernel_size=(1, 1), stride=(1, 1))\n",
       "            (act1): SiLU(inplace=True)\n",
       "            (conv_expand): Conv2d(8, 192, kernel_size=(1, 1), stride=(1, 1))\n",
       "            (gate): Sigmoid()\n",
       "          )\n",
       "          (conv_pwl): Conv2d(192, 32, kernel_size=(1, 1), stride=(1, 1), bias=False)\n",
       "          (bn3): BatchNorm2d(32, eps=1e-05, momentum=0.1, affine=True, track_running_stats=True)\n",
       "        )\n",
       "      )\n",
       "      (2): Sequential(\n",
       "        (0): InvertedResidual(\n",
       "          (conv_pw): Conv2d(32, 192, kernel_size=(1, 1), stride=(1, 1), bias=False)\n",
       "          (bn1): BatchNorm2d(192, eps=1e-05, momentum=0.1, affine=True, track_running_stats=True)\n",
       "          (act1): SiLU(inplace=True)\n",
       "          (conv_dw): Conv2d(192, 192, kernel_size=(5, 5), stride=(2, 2), padding=(2, 2), groups=192, bias=False)\n",
       "          (bn2): BatchNorm2d(192, eps=1e-05, momentum=0.1, affine=True, track_running_stats=True)\n",
       "          (act2): SiLU(inplace=True)\n",
       "          (se): SqueezeExcite(\n",
       "            (conv_reduce): Conv2d(192, 8, kernel_size=(1, 1), stride=(1, 1))\n",
       "            (act1): SiLU(inplace=True)\n",
       "            (conv_expand): Conv2d(8, 192, kernel_size=(1, 1), stride=(1, 1))\n",
       "            (gate): Sigmoid()\n",
       "          )\n",
       "          (conv_pwl): Conv2d(192, 48, kernel_size=(1, 1), stride=(1, 1), bias=False)\n",
       "          (bn3): BatchNorm2d(48, eps=1e-05, momentum=0.1, affine=True, track_running_stats=True)\n",
       "        )\n",
       "        (1): InvertedResidual(\n",
       "          (conv_pw): Conv2d(48, 288, kernel_size=(1, 1), stride=(1, 1), bias=False)\n",
       "          (bn1): BatchNorm2d(288, eps=1e-05, momentum=0.1, affine=True, track_running_stats=True)\n",
       "          (act1): SiLU(inplace=True)\n",
       "          (conv_dw): Conv2d(288, 288, kernel_size=(5, 5), stride=(1, 1), padding=(2, 2), groups=288, bias=False)\n",
       "          (bn2): BatchNorm2d(288, eps=1e-05, momentum=0.1, affine=True, track_running_stats=True)\n",
       "          (act2): SiLU(inplace=True)\n",
       "          (se): SqueezeExcite(\n",
       "            (conv_reduce): Conv2d(288, 12, kernel_size=(1, 1), stride=(1, 1))\n",
       "            (act1): SiLU(inplace=True)\n",
       "            (conv_expand): Conv2d(12, 288, kernel_size=(1, 1), stride=(1, 1))\n",
       "            (gate): Sigmoid()\n",
       "          )\n",
       "          (conv_pwl): Conv2d(288, 48, kernel_size=(1, 1), stride=(1, 1), bias=False)\n",
       "          (bn3): BatchNorm2d(48, eps=1e-05, momentum=0.1, affine=True, track_running_stats=True)\n",
       "        )\n",
       "        (2): InvertedResidual(\n",
       "          (conv_pw): Conv2d(48, 288, kernel_size=(1, 1), stride=(1, 1), bias=False)\n",
       "          (bn1): BatchNorm2d(288, eps=1e-05, momentum=0.1, affine=True, track_running_stats=True)\n",
       "          (act1): SiLU(inplace=True)\n",
       "          (conv_dw): Conv2d(288, 288, kernel_size=(5, 5), stride=(1, 1), padding=(2, 2), groups=288, bias=False)\n",
       "          (bn2): BatchNorm2d(288, eps=1e-05, momentum=0.1, affine=True, track_running_stats=True)\n",
       "          (act2): SiLU(inplace=True)\n",
       "          (se): SqueezeExcite(\n",
       "            (conv_reduce): Conv2d(288, 12, kernel_size=(1, 1), stride=(1, 1))\n",
       "            (act1): SiLU(inplace=True)\n",
       "            (conv_expand): Conv2d(12, 288, kernel_size=(1, 1), stride=(1, 1))\n",
       "            (gate): Sigmoid()\n",
       "          )\n",
       "          (conv_pwl): Conv2d(288, 48, kernel_size=(1, 1), stride=(1, 1), bias=False)\n",
       "          (bn3): BatchNorm2d(48, eps=1e-05, momentum=0.1, affine=True, track_running_stats=True)\n",
       "        )\n",
       "      )\n",
       "      (3): Sequential(\n",
       "        (0): InvertedResidual(\n",
       "          (conv_pw): Conv2d(48, 288, kernel_size=(1, 1), stride=(1, 1), bias=False)\n",
       "          (bn1): BatchNorm2d(288, eps=1e-05, momentum=0.1, affine=True, track_running_stats=True)\n",
       "          (act1): SiLU(inplace=True)\n",
       "          (conv_dw): Conv2d(288, 288, kernel_size=(3, 3), stride=(2, 2), padding=(1, 1), groups=288, bias=False)\n",
       "          (bn2): BatchNorm2d(288, eps=1e-05, momentum=0.1, affine=True, track_running_stats=True)\n",
       "          (act2): SiLU(inplace=True)\n",
       "          (se): SqueezeExcite(\n",
       "            (conv_reduce): Conv2d(288, 12, kernel_size=(1, 1), stride=(1, 1))\n",
       "            (act1): SiLU(inplace=True)\n",
       "            (conv_expand): Conv2d(12, 288, kernel_size=(1, 1), stride=(1, 1))\n",
       "            (gate): Sigmoid()\n",
       "          )\n",
       "          (conv_pwl): Conv2d(288, 96, kernel_size=(1, 1), stride=(1, 1), bias=False)\n",
       "          (bn3): BatchNorm2d(96, eps=1e-05, momentum=0.1, affine=True, track_running_stats=True)\n",
       "        )\n",
       "        (1): InvertedResidual(\n",
       "          (conv_pw): Conv2d(96, 576, kernel_size=(1, 1), stride=(1, 1), bias=False)\n",
       "          (bn1): BatchNorm2d(576, eps=1e-05, momentum=0.1, affine=True, track_running_stats=True)\n",
       "          (act1): SiLU(inplace=True)\n",
       "          (conv_dw): Conv2d(576, 576, kernel_size=(3, 3), stride=(1, 1), padding=(1, 1), groups=576, bias=False)\n",
       "          (bn2): BatchNorm2d(576, eps=1e-05, momentum=0.1, affine=True, track_running_stats=True)\n",
       "          (act2): SiLU(inplace=True)\n",
       "          (se): SqueezeExcite(\n",
       "            (conv_reduce): Conv2d(576, 24, kernel_size=(1, 1), stride=(1, 1))\n",
       "            (act1): SiLU(inplace=True)\n",
       "            (conv_expand): Conv2d(24, 576, kernel_size=(1, 1), stride=(1, 1))\n",
       "            (gate): Sigmoid()\n",
       "          )\n",
       "          (conv_pwl): Conv2d(576, 96, kernel_size=(1, 1), stride=(1, 1), bias=False)\n",
       "          (bn3): BatchNorm2d(96, eps=1e-05, momentum=0.1, affine=True, track_running_stats=True)\n",
       "        )\n",
       "        (2): InvertedResidual(\n",
       "          (conv_pw): Conv2d(96, 576, kernel_size=(1, 1), stride=(1, 1), bias=False)\n",
       "          (bn1): BatchNorm2d(576, eps=1e-05, momentum=0.1, affine=True, track_running_stats=True)\n",
       "          (act1): SiLU(inplace=True)\n",
       "          (conv_dw): Conv2d(576, 576, kernel_size=(3, 3), stride=(1, 1), padding=(1, 1), groups=576, bias=False)\n",
       "          (bn2): BatchNorm2d(576, eps=1e-05, momentum=0.1, affine=True, track_running_stats=True)\n",
       "          (act2): SiLU(inplace=True)\n",
       "          (se): SqueezeExcite(\n",
       "            (conv_reduce): Conv2d(576, 24, kernel_size=(1, 1), stride=(1, 1))\n",
       "            (act1): SiLU(inplace=True)\n",
       "            (conv_expand): Conv2d(24, 576, kernel_size=(1, 1), stride=(1, 1))\n",
       "            (gate): Sigmoid()\n",
       "          )\n",
       "          (conv_pwl): Conv2d(576, 96, kernel_size=(1, 1), stride=(1, 1), bias=False)\n",
       "          (bn3): BatchNorm2d(96, eps=1e-05, momentum=0.1, affine=True, track_running_stats=True)\n",
       "        )\n",
       "        (3): InvertedResidual(\n",
       "          (conv_pw): Conv2d(96, 576, kernel_size=(1, 1), stride=(1, 1), bias=False)\n",
       "          (bn1): BatchNorm2d(576, eps=1e-05, momentum=0.1, affine=True, track_running_stats=True)\n",
       "          (act1): SiLU(inplace=True)\n",
       "          (conv_dw): Conv2d(576, 576, kernel_size=(3, 3), stride=(1, 1), padding=(1, 1), groups=576, bias=False)\n",
       "          (bn2): BatchNorm2d(576, eps=1e-05, momentum=0.1, affine=True, track_running_stats=True)\n",
       "          (act2): SiLU(inplace=True)\n",
       "          (se): SqueezeExcite(\n",
       "            (conv_reduce): Conv2d(576, 24, kernel_size=(1, 1), stride=(1, 1))\n",
       "            (act1): SiLU(inplace=True)\n",
       "            (conv_expand): Conv2d(24, 576, kernel_size=(1, 1), stride=(1, 1))\n",
       "            (gate): Sigmoid()\n",
       "          )\n",
       "          (conv_pwl): Conv2d(576, 96, kernel_size=(1, 1), stride=(1, 1), bias=False)\n",
       "          (bn3): BatchNorm2d(96, eps=1e-05, momentum=0.1, affine=True, track_running_stats=True)\n",
       "        )\n",
       "        (4): InvertedResidual(\n",
       "          (conv_pw): Conv2d(96, 576, kernel_size=(1, 1), stride=(1, 1), bias=False)\n",
       "          (bn1): BatchNorm2d(576, eps=1e-05, momentum=0.1, affine=True, track_running_stats=True)\n",
       "          (act1): SiLU(inplace=True)\n",
       "          (conv_dw): Conv2d(576, 576, kernel_size=(3, 3), stride=(1, 1), padding=(1, 1), groups=576, bias=False)\n",
       "          (bn2): BatchNorm2d(576, eps=1e-05, momentum=0.1, affine=True, track_running_stats=True)\n",
       "          (act2): SiLU(inplace=True)\n",
       "          (se): SqueezeExcite(\n",
       "            (conv_reduce): Conv2d(576, 24, kernel_size=(1, 1), stride=(1, 1))\n",
       "            (act1): SiLU(inplace=True)\n",
       "            (conv_expand): Conv2d(24, 576, kernel_size=(1, 1), stride=(1, 1))\n",
       "            (gate): Sigmoid()\n",
       "          )\n",
       "          (conv_pwl): Conv2d(576, 96, kernel_size=(1, 1), stride=(1, 1), bias=False)\n",
       "          (bn3): BatchNorm2d(96, eps=1e-05, momentum=0.1, affine=True, track_running_stats=True)\n",
       "        )\n",
       "      )\n",
       "      (4): Sequential(\n",
       "        (0): InvertedResidual(\n",
       "          (conv_pw): Conv2d(96, 576, kernel_size=(1, 1), stride=(1, 1), bias=False)\n",
       "          (bn1): BatchNorm2d(576, eps=1e-05, momentum=0.1, affine=True, track_running_stats=True)\n",
       "          (act1): SiLU(inplace=True)\n",
       "          (conv_dw): Conv2d(576, 576, kernel_size=(5, 5), stride=(1, 1), padding=(2, 2), groups=576, bias=False)\n",
       "          (bn2): BatchNorm2d(576, eps=1e-05, momentum=0.1, affine=True, track_running_stats=True)\n",
       "          (act2): SiLU(inplace=True)\n",
       "          (se): SqueezeExcite(\n",
       "            (conv_reduce): Conv2d(576, 24, kernel_size=(1, 1), stride=(1, 1))\n",
       "            (act1): SiLU(inplace=True)\n",
       "            (conv_expand): Conv2d(24, 576, kernel_size=(1, 1), stride=(1, 1))\n",
       "            (gate): Sigmoid()\n",
       "          )\n",
       "          (conv_pwl): Conv2d(576, 136, kernel_size=(1, 1), stride=(1, 1), bias=False)\n",
       "          (bn3): BatchNorm2d(136, eps=1e-05, momentum=0.1, affine=True, track_running_stats=True)\n",
       "        )\n",
       "        (1): InvertedResidual(\n",
       "          (conv_pw): Conv2d(136, 816, kernel_size=(1, 1), stride=(1, 1), bias=False)\n",
       "          (bn1): BatchNorm2d(816, eps=1e-05, momentum=0.1, affine=True, track_running_stats=True)\n",
       "          (act1): SiLU(inplace=True)\n",
       "          (conv_dw): Conv2d(816, 816, kernel_size=(5, 5), stride=(1, 1), padding=(2, 2), groups=816, bias=False)\n",
       "          (bn2): BatchNorm2d(816, eps=1e-05, momentum=0.1, affine=True, track_running_stats=True)\n",
       "          (act2): SiLU(inplace=True)\n",
       "          (se): SqueezeExcite(\n",
       "            (conv_reduce): Conv2d(816, 34, kernel_size=(1, 1), stride=(1, 1))\n",
       "            (act1): SiLU(inplace=True)\n",
       "            (conv_expand): Conv2d(34, 816, kernel_size=(1, 1), stride=(1, 1))\n",
       "            (gate): Sigmoid()\n",
       "          )\n",
       "          (conv_pwl): Conv2d(816, 136, kernel_size=(1, 1), stride=(1, 1), bias=False)\n",
       "          (bn3): BatchNorm2d(136, eps=1e-05, momentum=0.1, affine=True, track_running_stats=True)\n",
       "        )\n",
       "        (2): InvertedResidual(\n",
       "          (conv_pw): Conv2d(136, 816, kernel_size=(1, 1), stride=(1, 1), bias=False)\n",
       "          (bn1): BatchNorm2d(816, eps=1e-05, momentum=0.1, affine=True, track_running_stats=True)\n",
       "          (act1): SiLU(inplace=True)\n",
       "          (conv_dw): Conv2d(816, 816, kernel_size=(5, 5), stride=(1, 1), padding=(2, 2), groups=816, bias=False)\n",
       "          (bn2): BatchNorm2d(816, eps=1e-05, momentum=0.1, affine=True, track_running_stats=True)\n",
       "          (act2): SiLU(inplace=True)\n",
       "          (se): SqueezeExcite(\n",
       "            (conv_reduce): Conv2d(816, 34, kernel_size=(1, 1), stride=(1, 1))\n",
       "            (act1): SiLU(inplace=True)\n",
       "            (conv_expand): Conv2d(34, 816, kernel_size=(1, 1), stride=(1, 1))\n",
       "            (gate): Sigmoid()\n",
       "          )\n",
       "          (conv_pwl): Conv2d(816, 136, kernel_size=(1, 1), stride=(1, 1), bias=False)\n",
       "          (bn3): BatchNorm2d(136, eps=1e-05, momentum=0.1, affine=True, track_running_stats=True)\n",
       "        )\n",
       "        (3): InvertedResidual(\n",
       "          (conv_pw): Conv2d(136, 816, kernel_size=(1, 1), stride=(1, 1), bias=False)\n",
       "          (bn1): BatchNorm2d(816, eps=1e-05, momentum=0.1, affine=True, track_running_stats=True)\n",
       "          (act1): SiLU(inplace=True)\n",
       "          (conv_dw): Conv2d(816, 816, kernel_size=(5, 5), stride=(1, 1), padding=(2, 2), groups=816, bias=False)\n",
       "          (bn2): BatchNorm2d(816, eps=1e-05, momentum=0.1, affine=True, track_running_stats=True)\n",
       "          (act2): SiLU(inplace=True)\n",
       "          (se): SqueezeExcite(\n",
       "            (conv_reduce): Conv2d(816, 34, kernel_size=(1, 1), stride=(1, 1))\n",
       "            (act1): SiLU(inplace=True)\n",
       "            (conv_expand): Conv2d(34, 816, kernel_size=(1, 1), stride=(1, 1))\n",
       "            (gate): Sigmoid()\n",
       "          )\n",
       "          (conv_pwl): Conv2d(816, 136, kernel_size=(1, 1), stride=(1, 1), bias=False)\n",
       "          (bn3): BatchNorm2d(136, eps=1e-05, momentum=0.1, affine=True, track_running_stats=True)\n",
       "        )\n",
       "        (4): InvertedResidual(\n",
       "          (conv_pw): Conv2d(136, 816, kernel_size=(1, 1), stride=(1, 1), bias=False)\n",
       "          (bn1): BatchNorm2d(816, eps=1e-05, momentum=0.1, affine=True, track_running_stats=True)\n",
       "          (act1): SiLU(inplace=True)\n",
       "          (conv_dw): Conv2d(816, 816, kernel_size=(5, 5), stride=(1, 1), padding=(2, 2), groups=816, bias=False)\n",
       "          (bn2): BatchNorm2d(816, eps=1e-05, momentum=0.1, affine=True, track_running_stats=True)\n",
       "          (act2): SiLU(inplace=True)\n",
       "          (se): SqueezeExcite(\n",
       "            (conv_reduce): Conv2d(816, 34, kernel_size=(1, 1), stride=(1, 1))\n",
       "            (act1): SiLU(inplace=True)\n",
       "            (conv_expand): Conv2d(34, 816, kernel_size=(1, 1), stride=(1, 1))\n",
       "            (gate): Sigmoid()\n",
       "          )\n",
       "          (conv_pwl): Conv2d(816, 136, kernel_size=(1, 1), stride=(1, 1), bias=False)\n",
       "          (bn3): BatchNorm2d(136, eps=1e-05, momentum=0.1, affine=True, track_running_stats=True)\n",
       "        )\n",
       "      )\n",
       "      (5): Sequential(\n",
       "        (0): InvertedResidual(\n",
       "          (conv_pw): Conv2d(136, 816, kernel_size=(1, 1), stride=(1, 1), bias=False)\n",
       "          (bn1): BatchNorm2d(816, eps=1e-05, momentum=0.1, affine=True, track_running_stats=True)\n",
       "          (act1): SiLU(inplace=True)\n",
       "          (conv_dw): Conv2d(816, 816, kernel_size=(5, 5), stride=(2, 2), padding=(2, 2), groups=816, bias=False)\n",
       "          (bn2): BatchNorm2d(816, eps=1e-05, momentum=0.1, affine=True, track_running_stats=True)\n",
       "          (act2): SiLU(inplace=True)\n",
       "          (se): SqueezeExcite(\n",
       "            (conv_reduce): Conv2d(816, 34, kernel_size=(1, 1), stride=(1, 1))\n",
       "            (act1): SiLU(inplace=True)\n",
       "            (conv_expand): Conv2d(34, 816, kernel_size=(1, 1), stride=(1, 1))\n",
       "            (gate): Sigmoid()\n",
       "          )\n",
       "          (conv_pwl): Conv2d(816, 232, kernel_size=(1, 1), stride=(1, 1), bias=False)\n",
       "          (bn3): BatchNorm2d(232, eps=1e-05, momentum=0.1, affine=True, track_running_stats=True)\n",
       "        )\n",
       "        (1): InvertedResidual(\n",
       "          (conv_pw): Conv2d(232, 1392, kernel_size=(1, 1), stride=(1, 1), bias=False)\n",
       "          (bn1): BatchNorm2d(1392, eps=1e-05, momentum=0.1, affine=True, track_running_stats=True)\n",
       "          (act1): SiLU(inplace=True)\n",
       "          (conv_dw): Conv2d(1392, 1392, kernel_size=(5, 5), stride=(1, 1), padding=(2, 2), groups=1392, bias=False)\n",
       "          (bn2): BatchNorm2d(1392, eps=1e-05, momentum=0.1, affine=True, track_running_stats=True)\n",
       "          (act2): SiLU(inplace=True)\n",
       "          (se): SqueezeExcite(\n",
       "            (conv_reduce): Conv2d(1392, 58, kernel_size=(1, 1), stride=(1, 1))\n",
       "            (act1): SiLU(inplace=True)\n",
       "            (conv_expand): Conv2d(58, 1392, kernel_size=(1, 1), stride=(1, 1))\n",
       "            (gate): Sigmoid()\n",
       "          )\n",
       "          (conv_pwl): Conv2d(1392, 232, kernel_size=(1, 1), stride=(1, 1), bias=False)\n",
       "          (bn3): BatchNorm2d(232, eps=1e-05, momentum=0.1, affine=True, track_running_stats=True)\n",
       "        )\n",
       "        (2): InvertedResidual(\n",
       "          (conv_pw): Conv2d(232, 1392, kernel_size=(1, 1), stride=(1, 1), bias=False)\n",
       "          (bn1): BatchNorm2d(1392, eps=1e-05, momentum=0.1, affine=True, track_running_stats=True)\n",
       "          (act1): SiLU(inplace=True)\n",
       "          (conv_dw): Conv2d(1392, 1392, kernel_size=(5, 5), stride=(1, 1), padding=(2, 2), groups=1392, bias=False)\n",
       "          (bn2): BatchNorm2d(1392, eps=1e-05, momentum=0.1, affine=True, track_running_stats=True)\n",
       "          (act2): SiLU(inplace=True)\n",
       "          (se): SqueezeExcite(\n",
       "            (conv_reduce): Conv2d(1392, 58, kernel_size=(1, 1), stride=(1, 1))\n",
       "            (act1): SiLU(inplace=True)\n",
       "            (conv_expand): Conv2d(58, 1392, kernel_size=(1, 1), stride=(1, 1))\n",
       "            (gate): Sigmoid()\n",
       "          )\n",
       "          (conv_pwl): Conv2d(1392, 232, kernel_size=(1, 1), stride=(1, 1), bias=False)\n",
       "          (bn3): BatchNorm2d(232, eps=1e-05, momentum=0.1, affine=True, track_running_stats=True)\n",
       "        )\n",
       "        (3): InvertedResidual(\n",
       "          (conv_pw): Conv2d(232, 1392, kernel_size=(1, 1), stride=(1, 1), bias=False)\n",
       "          (bn1): BatchNorm2d(1392, eps=1e-05, momentum=0.1, affine=True, track_running_stats=True)\n",
       "          (act1): SiLU(inplace=True)\n",
       "          (conv_dw): Conv2d(1392, 1392, kernel_size=(5, 5), stride=(1, 1), padding=(2, 2), groups=1392, bias=False)\n",
       "          (bn2): BatchNorm2d(1392, eps=1e-05, momentum=0.1, affine=True, track_running_stats=True)\n",
       "          (act2): SiLU(inplace=True)\n",
       "          (se): SqueezeExcite(\n",
       "            (conv_reduce): Conv2d(1392, 58, kernel_size=(1, 1), stride=(1, 1))\n",
       "            (act1): SiLU(inplace=True)\n",
       "            (conv_expand): Conv2d(58, 1392, kernel_size=(1, 1), stride=(1, 1))\n",
       "            (gate): Sigmoid()\n",
       "          )\n",
       "          (conv_pwl): Conv2d(1392, 232, kernel_size=(1, 1), stride=(1, 1), bias=False)\n",
       "          (bn3): BatchNorm2d(232, eps=1e-05, momentum=0.1, affine=True, track_running_stats=True)\n",
       "        )\n",
       "        (4): InvertedResidual(\n",
       "          (conv_pw): Conv2d(232, 1392, kernel_size=(1, 1), stride=(1, 1), bias=False)\n",
       "          (bn1): BatchNorm2d(1392, eps=1e-05, momentum=0.1, affine=True, track_running_stats=True)\n",
       "          (act1): SiLU(inplace=True)\n",
       "          (conv_dw): Conv2d(1392, 1392, kernel_size=(5, 5), stride=(1, 1), padding=(2, 2), groups=1392, bias=False)\n",
       "          (bn2): BatchNorm2d(1392, eps=1e-05, momentum=0.1, affine=True, track_running_stats=True)\n",
       "          (act2): SiLU(inplace=True)\n",
       "          (se): SqueezeExcite(\n",
       "            (conv_reduce): Conv2d(1392, 58, kernel_size=(1, 1), stride=(1, 1))\n",
       "            (act1): SiLU(inplace=True)\n",
       "            (conv_expand): Conv2d(58, 1392, kernel_size=(1, 1), stride=(1, 1))\n",
       "            (gate): Sigmoid()\n",
       "          )\n",
       "          (conv_pwl): Conv2d(1392, 232, kernel_size=(1, 1), stride=(1, 1), bias=False)\n",
       "          (bn3): BatchNorm2d(232, eps=1e-05, momentum=0.1, affine=True, track_running_stats=True)\n",
       "        )\n",
       "        (5): InvertedResidual(\n",
       "          (conv_pw): Conv2d(232, 1392, kernel_size=(1, 1), stride=(1, 1), bias=False)\n",
       "          (bn1): BatchNorm2d(1392, eps=1e-05, momentum=0.1, affine=True, track_running_stats=True)\n",
       "          (act1): SiLU(inplace=True)\n",
       "          (conv_dw): Conv2d(1392, 1392, kernel_size=(5, 5), stride=(1, 1), padding=(2, 2), groups=1392, bias=False)\n",
       "          (bn2): BatchNorm2d(1392, eps=1e-05, momentum=0.1, affine=True, track_running_stats=True)\n",
       "          (act2): SiLU(inplace=True)\n",
       "          (se): SqueezeExcite(\n",
       "            (conv_reduce): Conv2d(1392, 58, kernel_size=(1, 1), stride=(1, 1))\n",
       "            (act1): SiLU(inplace=True)\n",
       "            (conv_expand): Conv2d(58, 1392, kernel_size=(1, 1), stride=(1, 1))\n",
       "            (gate): Sigmoid()\n",
       "          )\n",
       "          (conv_pwl): Conv2d(1392, 232, kernel_size=(1, 1), stride=(1, 1), bias=False)\n",
       "          (bn3): BatchNorm2d(232, eps=1e-05, momentum=0.1, affine=True, track_running_stats=True)\n",
       "        )\n",
       "      )\n",
       "      (6): Sequential(\n",
       "        (0): InvertedResidual(\n",
       "          (conv_pw): Conv2d(232, 1392, kernel_size=(1, 1), stride=(1, 1), bias=False)\n",
       "          (bn1): BatchNorm2d(1392, eps=1e-05, momentum=0.1, affine=True, track_running_stats=True)\n",
       "          (act1): SiLU(inplace=True)\n",
       "          (conv_dw): Conv2d(1392, 1392, kernel_size=(3, 3), stride=(1, 1), padding=(1, 1), groups=1392, bias=False)\n",
       "          (bn2): BatchNorm2d(1392, eps=1e-05, momentum=0.1, affine=True, track_running_stats=True)\n",
       "          (act2): SiLU(inplace=True)\n",
       "          (se): SqueezeExcite(\n",
       "            (conv_reduce): Conv2d(1392, 58, kernel_size=(1, 1), stride=(1, 1))\n",
       "            (act1): SiLU(inplace=True)\n",
       "            (conv_expand): Conv2d(58, 1392, kernel_size=(1, 1), stride=(1, 1))\n",
       "            (gate): Sigmoid()\n",
       "          )\n",
       "          (conv_pwl): Conv2d(1392, 384, kernel_size=(1, 1), stride=(1, 1), bias=False)\n",
       "          (bn3): BatchNorm2d(384, eps=1e-05, momentum=0.1, affine=True, track_running_stats=True)\n",
       "        )\n",
       "        (1): InvertedResidual(\n",
       "          (conv_pw): Conv2d(384, 2304, kernel_size=(1, 1), stride=(1, 1), bias=False)\n",
       "          (bn1): BatchNorm2d(2304, eps=1e-05, momentum=0.1, affine=True, track_running_stats=True)\n",
       "          (act1): SiLU(inplace=True)\n",
       "          (conv_dw): Conv2d(2304, 2304, kernel_size=(3, 3), stride=(1, 1), padding=(1, 1), groups=2304, bias=False)\n",
       "          (bn2): BatchNorm2d(2304, eps=1e-05, momentum=0.1, affine=True, track_running_stats=True)\n",
       "          (act2): SiLU(inplace=True)\n",
       "          (se): SqueezeExcite(\n",
       "            (conv_reduce): Conv2d(2304, 96, kernel_size=(1, 1), stride=(1, 1))\n",
       "            (act1): SiLU(inplace=True)\n",
       "            (conv_expand): Conv2d(96, 2304, kernel_size=(1, 1), stride=(1, 1))\n",
       "            (gate): Sigmoid()\n",
       "          )\n",
       "          (conv_pwl): Conv2d(2304, 384, kernel_size=(1, 1), stride=(1, 1), bias=False)\n",
       "          (bn3): BatchNorm2d(384, eps=1e-05, momentum=0.1, affine=True, track_running_stats=True)\n",
       "        )\n",
       "      )\n",
       "    )\n",
       "    (conv_head): Conv2d(384, 1536, kernel_size=(1, 1), stride=(1, 1), bias=False)\n",
       "    (bn2): BatchNorm2d(1536, eps=1e-05, momentum=0.1, affine=True, track_running_stats=True)\n",
       "    (act2): SiLU(inplace=True)\n",
       "    (global_pool): SelectAdaptivePool2d (pool_type=avg, flatten=Flatten(start_dim=1, end_dim=-1))\n",
       "    (classifier): Identity()\n",
       "  )\n",
       "  (fcs_1): Sequential(\n",
       "    (0): Linear(in_features=1541, out_features=512, bias=True)\n",
       "    (1): ReLU()\n",
       "    (2): Dropout(p=0.2, inplace=False)\n",
       "  )\n",
       "  (rnn): GRU(512, 512, batch_first=True)\n",
       "  (_fcs_2): Sequential(\n",
       "    (0): Linear(in_features=514, out_features=512, bias=True)\n",
       "    (1): ReLU()\n",
       "    (2): Dropout(p=0.2, inplace=False)\n",
       "    (3): Linear(in_features=512, out_features=90, bias=True)\n",
       "  )\n",
       "  (obsnet): ObserverNet(\n",
       "    (fcs): Sequential(\n",
       "      (0): Linear(in_features=512, out_features=256, bias=True)\n",
       "      (1): ReLU()\n",
       "      (2): Dropout(p=0.2, inplace=False)\n",
       "      (3): Linear(in_features=256, out_features=3, bias=True)\n",
       "    )\n",
       "  )\n",
       ")"
      ]
     },
     "execution_count": 7,
     "metadata": {},
     "output_type": "execute_result"
    }
   ],
   "source": [
    "m"
   ]
  },
  {
   "cell_type": "code",
   "execution_count": null,
   "metadata": {},
   "outputs": [],
   "source": []
  },
  {
   "cell_type": "code",
   "execution_count": 8,
   "metadata": {
    "scrolled": true
   },
   "outputs": [],
   "source": [
    "scaler = torch.cuda.amp.GradScaler() \n",
    "opt = torch.optim.Adam(m.parameters(), lr=5e-5)"
   ]
  },
  {
   "cell_type": "code",
   "execution_count": 9,
   "metadata": {
    "scrolled": true
   },
   "outputs": [],
   "source": [
    "BS = 32\n",
    "dataloader_trn = BlenderDataloader(path_stem=\"trn\", bs=BS)"
   ]
  },
  {
   "cell_type": "code",
   "execution_count": 10,
   "metadata": {
    "scrolled": true
   },
   "outputs": [
    {
     "name": "stdout",
     "output_type": "stream",
     "text": [
      "CPU times: user 2 µs, sys: 1 µs, total: 3 µs\n",
      "Wall time: 6.68 µs\n"
     ]
    }
   ],
   "source": [
    "%%time\n",
    "#rw_dataloader = RealWorldDataloader()"
   ]
  },
  {
   "cell_type": "code",
   "execution_count": 11,
   "metadata": {},
   "outputs": [],
   "source": [
    "#wandb.watch(m, log=\"all\")"
   ]
  },
  {
   "cell_type": "code",
   "execution_count": 12,
   "metadata": {},
   "outputs": [],
   "source": [
    "#train_only_parts_of_model(m, part_to_train=\"_fcs_2\")"
   ]
  },
  {
   "cell_type": "code",
   "execution_count": null,
   "metadata": {},
   "outputs": [],
   "source": []
  },
  {
   "cell_type": "code",
   "execution_count": 13,
   "metadata": {
    "scrolled": true
   },
   "outputs": [],
   "source": [
    "model_stem = \"8.9\"\n",
    "START_E = 0"
   ]
  },
  {
   "cell_type": "code",
   "execution_count": 14,
   "metadata": {
    "scrolled": true
   },
   "outputs": [
    {
     "name": "stdout",
     "output_type": "stream",
     "text": [
      "EPOCH 0\n",
      "\n",
      "{'trn_control_loss': 0.01678079, 'trn_headings_loss': 0.00085058, 'trn_curvatures_loss': 0.00285202, 'consistency losses/trn_steer_cost': 0.02032351, 'consistency losses/trn_te_loss': 20.41033395, 'aux losses/trn_pitch_loss': 0.26197958, 'aux losses/trn_yaw_loss': 0.3631506, 'consistency losses/trn_%_updates_w_torque_delta_loss': 0.8984375, 'consistency losses/trn_torque_loss': 882.27319479, 'consistency losses/trn_torque_delta_loss': 17.54271979, 'logistical/obs_consumed_per_second': 232.48031496, 'logistical/obs_generated_per_second': 110.75590551, 'logistical/data_consumption_ratio': 2.0991818, 'logistical/manual_train_pause': 0.0, 'logistical/max_param': 16.1793499, 'logistical/lr': 0.0006}\n",
      "{'logistical/obs_consumed_per_second': 232.28125, 'logistical/obs_generated_per_second': 106.4609375, 'logistical/data_consumption_ratio': 2.18542955, 'logistical/manual_train_pause': 0.0, 'trn_control_loss': 0.01808476, 'trn_headings_loss': 0.00098618, 'trn_curvatures_loss': 0.00323085, 'consistency losses/trn_steer_cost': 0.02003956, 'consistency losses/trn_te_loss': 19.76617798, 'aux losses/trn_pitch_loss': 0.22969985, 'aux losses/trn_yaw_loss': 0.27704144, 'consistency losses/trn_%_updates_w_torque_delta_loss': 0.90625, 'consistency losses/trn_torque_loss': 813.43433029, 'consistency losses/trn_torque_delta_loss': 14.50289041, 'logistical/max_param': 16.16609383, 'logistical/lr': 0.0006}\n",
      "{'logistical/obs_consumed_per_second': 234.640625, 'logistical/obs_generated_per_second': 106.8828125, 'logistical/data_consumption_ratio': 2.20128468, 'logistical/manual_train_pause': 0.0, 'trn_control_loss': 0.01982409, 'trn_headings_loss': 0.00095025, 'trn_curvatures_loss': 0.00295523, 'consistency losses/trn_steer_cost': 0.0212, 'consistency losses/trn_te_loss': 20.1428487, 'aux losses/trn_pitch_loss': 0.25576687, 'aux losses/trn_yaw_loss': 0.29519558, 'consistency losses/trn_%_updates_w_torque_delta_loss': 0.9140625, 'consistency losses/trn_torque_loss': 1028.0206461, 'consistency losses/trn_torque_delta_loss': 15.73155613, 'logistical/max_param': 16.1746006, 'logistical/lr': 0.0006}\n",
      "{'logistical/obs_consumed_per_second': 243.4296875, 'logistical/obs_generated_per_second': 106.03125, 'logistical/data_consumption_ratio': 2.2914617, 'logistical/manual_train_pause': 0.0, 'trn_control_loss': 0.01940852, 'trn_headings_loss': 0.00103448, 'trn_curvatures_loss': 0.00323609, 'consistency losses/trn_steer_cost': 0.01998287, 'consistency losses/trn_te_loss': 19.83702146, 'aux losses/trn_pitch_loss': 0.21153879, 'aux losses/trn_yaw_loss': 0.33439875, 'consistency losses/trn_%_updates_w_torque_delta_loss': 0.8359375, 'consistency losses/trn_torque_loss': 766.29255354, 'consistency losses/trn_torque_delta_loss': 14.23672592, 'logistical/max_param': 16.16942787, 'logistical/lr': 0.0006}\n",
      "{'logistical/obs_consumed_per_second': 277.1640625, 'logistical/obs_generated_per_second': 116.0, 'logistical/data_consumption_ratio': 2.38253968, 'logistical/manual_train_pause': 0.0, 'trn_control_loss': 0.0233705, 'trn_headings_loss': 0.00119289, 'trn_curvatures_loss': 0.0037815, 'consistency losses/trn_steer_cost': 0.02090693, 'consistency losses/trn_te_loss': 19.97005548, 'aux losses/trn_pitch_loss': 0.19736958, 'aux losses/trn_yaw_loss': 0.3331728, 'consistency losses/trn_%_updates_w_torque_delta_loss': 0.9140625, 'consistency losses/trn_torque_loss': 903.16066605, 'consistency losses/trn_torque_delta_loss': 17.46100681, 'logistical/max_param': 16.17551994, 'logistical/lr': 0.0006}\n",
      "{'logistical/obs_consumed_per_second': 235.703125, 'logistical/obs_generated_per_second': 75.80392157, 'logistical/data_consumption_ratio': 5.02015608, 'logistical/manual_train_pause': 0.09117647, 'trn_control_loss': 0.01871544, 'trn_headings_loss': 0.00098952, 'trn_curvatures_loss': 0.00304493, 'consistency losses/trn_steer_cost': 0.02141821, 'consistency losses/trn_te_loss': 19.87727323, 'aux losses/trn_pitch_loss': 0.19683027, 'aux losses/trn_yaw_loss': 0.32106495, 'consistency losses/trn_%_updates_w_torque_delta_loss': 0.9375, 'consistency losses/trn_torque_loss': 811.28277172, 'consistency losses/trn_torque_delta_loss': 17.1755477, 'logistical/max_param': 16.17559624, 'logistical/lr': 0.0006}\n",
      "{'logistical/obs_consumed_per_second': 236.5703125, 'logistical/obs_generated_per_second': 98.4921875, 'logistical/data_consumption_ratio': 2.41147614, 'logistical/manual_train_pause': 0.01179687, 'trn_control_loss': 0.01785386, 'trn_headings_loss': 0.00096243, 'trn_curvatures_loss': 0.00308204, 'consistency losses/trn_steer_cost': 0.0204137, 'consistency losses/trn_te_loss': 19.46087606, 'aux losses/trn_pitch_loss': 0.21014023, 'aux losses/trn_yaw_loss': 0.30803537, 'consistency losses/trn_%_updates_w_torque_delta_loss': 0.953125, 'consistency losses/trn_torque_loss': 894.43856421, 'consistency losses/trn_torque_delta_loss': 15.43380375, 'logistical/max_param': 16.16872597, 'logistical/lr': 0.0006}\n",
      "{'logistical/obs_consumed_per_second': 232.875, 'logistical/obs_generated_per_second': 105.03125, 'logistical/data_consumption_ratio': 2.21937908, 'logistical/manual_train_pause': 0.0, 'trn_control_loss': 0.01777649, 'trn_headings_loss': 0.00101029, 'trn_curvatures_loss': 0.00298146, 'consistency losses/trn_steer_cost': 0.0194509, 'consistency losses/trn_te_loss': 19.36289418, 'aux losses/trn_pitch_loss': 0.24220347, 'aux losses/trn_yaw_loss': 0.30686665, 'consistency losses/trn_%_updates_w_torque_delta_loss': 0.9140625, 'consistency losses/trn_torque_loss': 841.67883441, 'consistency losses/trn_torque_delta_loss': 17.41435724, 'logistical/max_param': 16.17281532, 'logistical/lr': 0.0006}\n",
      "{'logistical/obs_consumed_per_second': 238.0625, 'logistical/obs_generated_per_second': 101.4296875, 'logistical/data_consumption_ratio': 2.34668194, 'logistical/manual_train_pause': 0.00070312, 'trn_control_loss': 0.02037048, 'trn_headings_loss': 0.00103564, 'trn_curvatures_loss': 0.00327822, 'consistency losses/trn_steer_cost': 0.02062052, 'consistency losses/trn_te_loss': 19.30308199, 'aux losses/trn_pitch_loss': 0.26919842, 'aux losses/trn_yaw_loss': 0.29249287, 'consistency losses/trn_%_updates_w_torque_delta_loss': 0.9140625, 'consistency losses/trn_torque_loss': 901.53402954, 'consistency losses/trn_torque_delta_loss': 14.63511873, 'logistical/max_param': 16.19000435, 'logistical/lr': 0.0006}\n",
      "{'logistical/obs_consumed_per_second': 235.2890625, 'logistical/obs_generated_per_second': 100.4609375, 'logistical/data_consumption_ratio': 2.34281219, 'logistical/manual_train_pause': 0.00046875, 'trn_control_loss': 0.02082896, 'trn_headings_loss': 0.00101679, 'trn_curvatures_loss': 0.00363797, 'consistency losses/trn_steer_cost': 0.0213688, 'consistency losses/trn_te_loss': 19.25208731, 'aux losses/trn_pitch_loss': 0.18969822, 'aux losses/trn_yaw_loss': 0.3956995, 'consistency losses/trn_%_updates_w_torque_delta_loss': 0.8984375, 'consistency losses/trn_torque_loss': 886.94668677, 'consistency losses/trn_torque_delta_loss': 17.85290078, 'logistical/max_param': 16.19894981, 'logistical/lr': 0.0006}\n",
      "{'logistical/obs_consumed_per_second': 172.0, 'logistical/obs_generated_per_second': 100.0, 'logistical/data_consumption_ratio': 1.72152376, 'logistical/manual_train_pause': 0.0}\n",
      "\n",
      "\n",
      " Eval...\n",
      "EPOCH 1\n",
      "\n",
      "{'trn_control_loss': 0.02152145, 'trn_headings_loss': 0.00113361, 'trn_curvatures_loss': 0.00362613, 'consistency losses/trn_steer_cost': 0.02091014, 'consistency losses/trn_te_loss': 19.50717971, 'aux losses/trn_pitch_loss': 0.21921682, 'aux losses/trn_yaw_loss': 0.35854149, 'consistency losses/trn_%_updates_w_torque_delta_loss': 0.875, 'consistency losses/trn_torque_loss': 743.94682348, 'consistency losses/trn_torque_delta_loss': 12.9314651, 'logistical/obs_consumed_per_second': 234.18110236, 'logistical/obs_generated_per_second': 104.92913386, 'logistical/data_consumption_ratio': 2.23087828, 'logistical/manual_train_pause': 0.0, 'logistical/max_param': 16.20456314, 'logistical/lr': 0.0006}\n",
      "{'logistical/obs_consumed_per_second': 235.5078125, 'logistical/obs_generated_per_second': 103.3046875, 'logistical/data_consumption_ratio': 2.28162251, 'logistical/manual_train_pause': 0.00023438, 'trn_control_loss': 0.02466744, 'trn_headings_loss': 0.00120436, 'trn_curvatures_loss': 0.00451875, 'consistency losses/trn_steer_cost': 0.02167022, 'consistency losses/trn_te_loss': 19.84700668, 'aux losses/trn_pitch_loss': 0.23879099, 'aux losses/trn_yaw_loss': 0.29990196, 'consistency losses/trn_%_updates_w_torque_delta_loss': 0.8984375, 'consistency losses/trn_torque_loss': 853.55792522, 'consistency losses/trn_torque_delta_loss': 16.24096293, 'logistical/max_param': 16.19554329, 'logistical/lr': 0.0006}\n"
     ]
    },
    {
     "name": "stdout",
     "output_type": "stream",
     "text": [
      "{'logistical/obs_consumed_per_second': 229.5703125, 'logistical/obs_generated_per_second': 97.8125, 'logistical/data_consumption_ratio': 2.35237955, 'logistical/manual_train_pause': 0.00078125, 'trn_control_loss': 0.04643148, 'trn_headings_loss': 0.00184057, 'trn_curvatures_loss': 0.00647113, 'consistency losses/trn_steer_cost': 0.02718061, 'consistency losses/trn_te_loss': 19.2930225, 'aux losses/trn_pitch_loss': 0.31421232, 'aux losses/trn_yaw_loss': 0.48877335, 'consistency losses/trn_%_updates_w_torque_delta_loss': 0.9375, 'consistency losses/trn_torque_loss': 848.0393289, 'consistency losses/trn_torque_delta_loss': 19.02898339, 'logistical/max_param': 16.21743202, 'logistical/lr': 0.0006}\n",
      "{'logistical/obs_consumed_per_second': 239.1640625, 'logistical/obs_generated_per_second': 109.640625, 'logistical/data_consumption_ratio': 2.18271069, 'logistical/manual_train_pause': 0.0, 'trn_control_loss': 0.02398038, 'trn_headings_loss': 0.00112278, 'trn_curvatures_loss': 0.00362621, 'consistency losses/trn_steer_cost': 0.02066702, 'consistency losses/trn_te_loss': 19.83999041, 'aux losses/trn_pitch_loss': 0.23011351, 'aux losses/trn_yaw_loss': 0.34440184, 'consistency losses/trn_%_updates_w_torque_delta_loss': 0.90625, 'consistency losses/trn_torque_loss': 759.25334773, 'consistency losses/trn_torque_delta_loss': 18.15607694, 'logistical/max_param': 16.21708488, 'logistical/lr': 0.0006}\n",
      "{'logistical/obs_consumed_per_second': 233.6171875, 'logistical/obs_generated_per_second': 107.2421875, 'logistical/data_consumption_ratio': 2.1838071, 'logistical/manual_train_pause': 0.0, 'trn_control_loss': 0.03521609, 'trn_headings_loss': 0.00162701, 'trn_curvatures_loss': 0.0061738, 'consistency losses/trn_steer_cost': 0.02556783, 'consistency losses/trn_te_loss': 19.37620799, 'aux losses/trn_pitch_loss': 0.24006605, 'aux losses/trn_yaw_loss': 0.37710285, 'consistency losses/trn_%_updates_w_torque_delta_loss': 0.96875, 'consistency losses/trn_torque_loss': 934.02667206, 'consistency losses/trn_torque_delta_loss': 19.22388259, 'logistical/max_param': 16.2241478, 'logistical/lr': 0.0006}\n",
      "{'logistical/obs_consumed_per_second': 230.8515625, 'logistical/obs_generated_per_second': 100.0078125, 'logistical/data_consumption_ratio': 2.30859924, 'logistical/manual_train_pause': 0.0, 'trn_control_loss': 0.02701062, 'trn_headings_loss': 0.00130576, 'trn_curvatures_loss': 0.00458775, 'consistency losses/trn_steer_cost': 0.02518111, 'consistency losses/trn_te_loss': 19.55121079, 'aux losses/trn_pitch_loss': 0.2535305, 'aux losses/trn_yaw_loss': 0.37839842, 'consistency losses/trn_%_updates_w_torque_delta_loss': 0.9609375, 'consistency losses/trn_torque_loss': 950.11723542, 'consistency losses/trn_torque_delta_loss': 20.87795098, 'logistical/max_param': 16.21489716, 'logistical/lr': 0.0006}\n",
      "{'logistical/obs_consumed_per_second': 234.375, 'logistical/obs_generated_per_second': 103.859375, 'logistical/data_consumption_ratio': 2.26224865, 'logistical/manual_train_pause': 0.0, 'trn_control_loss': 0.02271527, 'trn_headings_loss': 0.00117673, 'trn_curvatures_loss': 0.00390477, 'consistency losses/trn_steer_cost': 0.02403247, 'consistency losses/trn_te_loss': 19.42273407, 'aux losses/trn_pitch_loss': 0.22408724, 'aux losses/trn_yaw_loss': 0.3198967, 'consistency losses/trn_%_updates_w_torque_delta_loss': 0.8671875, 'consistency losses/trn_torque_loss': 684.08210248, 'consistency losses/trn_torque_delta_loss': 15.02010396, 'logistical/max_param': 16.21630669, 'logistical/lr': 0.0006}\n",
      "{'logistical/obs_consumed_per_second': 233.2734375, 'logistical/obs_generated_per_second': 103.5234375, 'logistical/data_consumption_ratio': 2.25618469, 'logistical/manual_train_pause': 0.0, 'trn_control_loss': 0.02259982, 'trn_headings_loss': 0.00110503, 'trn_curvatures_loss': 0.00378685, 'consistency losses/trn_steer_cost': 0.02341509, 'consistency losses/trn_te_loss': 19.71910369, 'aux losses/trn_pitch_loss': 0.20484877, 'aux losses/trn_yaw_loss': 0.33810711, 'consistency losses/trn_%_updates_w_torque_delta_loss': 0.9765625, 'consistency losses/trn_torque_loss': 987.662512, 'consistency losses/trn_torque_delta_loss': 18.55185382, 'logistical/max_param': 16.21504402, 'logistical/lr': 0.0006}\n",
      "{'logistical/obs_consumed_per_second': 226.4296875, 'logistical/obs_generated_per_second': 105.265625, 'logistical/data_consumption_ratio': 2.15072278, 'logistical/manual_train_pause': 0.0, 'trn_control_loss': 0.03192616, 'trn_headings_loss': 0.00142057, 'trn_curvatures_loss': 0.00463301, 'consistency losses/trn_steer_cost': 0.02570689, 'consistency losses/trn_te_loss': 19.20203248, 'aux losses/trn_pitch_loss': 0.2236557, 'aux losses/trn_yaw_loss': 0.36368656, 'consistency losses/trn_%_updates_w_torque_delta_loss': 0.9765625, 'consistency losses/trn_torque_loss': 1014.15366656, 'consistency losses/trn_torque_delta_loss': 21.2288244, 'logistical/max_param': 16.20800209, 'logistical/lr': 0.0006}\n",
      "{'logistical/obs_consumed_per_second': 240.5, 'logistical/obs_generated_per_second': 105.4375, 'logistical/data_consumption_ratio': 2.28367529, 'logistical/manual_train_pause': 7.812e-05, 'trn_control_loss': 0.02564096, 'trn_headings_loss': 0.00121867, 'trn_curvatures_loss': 0.00410631, 'consistency losses/trn_steer_cost': 0.0246188, 'consistency losses/trn_te_loss': 19.7320331, 'aux losses/trn_pitch_loss': 0.22799826, 'aux losses/trn_yaw_loss': 0.35730886, 'consistency losses/trn_%_updates_w_torque_delta_loss': 0.921875, 'consistency losses/trn_torque_loss': 1001.45440672, 'consistency losses/trn_torque_delta_loss': 18.93889394, 'logistical/max_param': 16.20456505, 'logistical/lr': 0.0006}\n",
      "{'logistical/obs_consumed_per_second': 182.0, 'logistical/obs_generated_per_second': 98.0, 'logistical/data_consumption_ratio': 1.84826872, 'logistical/manual_train_pause': 0.0}\n",
      "\n",
      "\n",
      " Eval...\n",
      "EPOCH 2\n",
      "\n",
      "{'trn_control_loss': 0.02281201, 'trn_headings_loss': 0.00110994, 'trn_curvatures_loss': 0.00349282, 'consistency losses/trn_steer_cost': 0.02157313, 'consistency losses/trn_te_loss': 19.67565072, 'aux losses/trn_pitch_loss': 0.2566433, 'aux losses/trn_yaw_loss': 0.32685947, 'consistency losses/trn_%_updates_w_torque_delta_loss': 0.90625, 'consistency losses/trn_torque_loss': 885.48070812, 'consistency losses/trn_torque_delta_loss': 18.09810821, 'logistical/obs_consumed_per_second': 236.22834646, 'logistical/obs_generated_per_second': 101.5984252, 'logistical/data_consumption_ratio': 2.32764605, 'logistical/manual_train_pause': 0.0, 'logistical/max_param': 16.2053318, 'logistical/lr': 0.0006}\n",
      "{'logistical/obs_consumed_per_second': 233.8828125, 'logistical/obs_generated_per_second': 104.0859375, 'logistical/data_consumption_ratio': 2.24557127, 'logistical/manual_train_pause': 0.0, 'trn_control_loss': 0.02396858, 'trn_headings_loss': 0.00108089, 'trn_curvatures_loss': 0.00340753, 'consistency losses/trn_steer_cost': 0.02198923, 'consistency losses/trn_te_loss': 19.66031206, 'aux losses/trn_pitch_loss': 0.22186661, 'aux losses/trn_yaw_loss': 0.30695963, 'consistency losses/trn_%_updates_w_torque_delta_loss': 0.9453125, 'consistency losses/trn_torque_loss': 870.65241985, 'consistency losses/trn_torque_delta_loss': 18.32053028, 'logistical/max_param': 16.2044487, 'logistical/lr': 0.0006}\n",
      "{'logistical/obs_consumed_per_second': 232.09375, 'logistical/obs_generated_per_second': 105.140625, 'logistical/data_consumption_ratio': 2.20997527, 'logistical/manual_train_pause': 0.0, 'trn_control_loss': 0.0230366, 'trn_headings_loss': 0.00113702, 'trn_curvatures_loss': 0.00389346, 'consistency losses/trn_steer_cost': 0.02300763, 'consistency losses/trn_te_loss': 19.87280688, 'aux losses/trn_pitch_loss': 0.23397923, 'aux losses/trn_yaw_loss': 0.38959551, 'consistency losses/trn_%_updates_w_torque_delta_loss': 0.96875, 'consistency losses/trn_torque_loss': 879.58480948, 'consistency losses/trn_torque_delta_loss': 16.87680196, 'logistical/max_param': 16.20834541, 'logistical/lr': 0.0006}\n",
      "{'logistical/obs_consumed_per_second': 234.6484375, 'logistical/obs_generated_per_second': 103.9609375, 'logistical/data_consumption_ratio': 2.25681754, 'logistical/manual_train_pause': 0.0, 'trn_control_loss': 0.02041805, 'trn_headings_loss': 0.00103721, 'trn_curvatures_loss': 0.00344746, 'consistency losses/trn_steer_cost': 0.02038223, 'consistency losses/trn_te_loss': 19.59417896, 'aux losses/trn_pitch_loss': 0.24329996, 'aux losses/trn_yaw_loss': 0.3555584, 'consistency losses/trn_%_updates_w_torque_delta_loss': 0.9453125, 'consistency losses/trn_torque_loss': 814.09048024, 'consistency losses/trn_torque_delta_loss': 17.34761975, 'logistical/max_param': 16.20890236, 'logistical/lr': 0.0006}\n"
     ]
    },
    {
     "name": "stdout",
     "output_type": "stream",
     "text": [
      "{'logistical/obs_consumed_per_second': 231.140625, 'logistical/obs_generated_per_second': 111.3828125, 'logistical/data_consumption_ratio': 2.07790931, 'logistical/manual_train_pause': 0.0, 'trn_control_loss': 0.02512169, 'trn_headings_loss': 0.00123084, 'trn_curvatures_loss': 0.00433701, 'consistency losses/trn_steer_cost': 0.02510142, 'consistency losses/trn_te_loss': 19.58527605, 'aux losses/trn_pitch_loss': 0.21405077, 'aux losses/trn_yaw_loss': 0.31900692, 'consistency losses/trn_%_updates_w_torque_delta_loss': 0.953125, 'consistency losses/trn_torque_loss': 925.41747074, 'consistency losses/trn_torque_delta_loss': 19.4137338, 'logistical/max_param': 16.20981598, 'logistical/lr': 0.0006}\n",
      "{'logistical/obs_consumed_per_second': 233.3671875, 'logistical/obs_generated_per_second': 103.4765625, 'logistical/data_consumption_ratio': 2.26055167, 'logistical/manual_train_pause': 0.0, 'trn_control_loss': 0.02361989, 'trn_headings_loss': 0.00120289, 'trn_curvatures_loss': 0.00377596, 'consistency losses/trn_steer_cost': 0.02270627, 'consistency losses/trn_te_loss': 19.68088585, 'aux losses/trn_pitch_loss': 0.22642136, 'aux losses/trn_yaw_loss': 0.2935195, 'consistency losses/trn_%_updates_w_torque_delta_loss': 0.9296875, 'consistency losses/trn_torque_loss': 866.15448141, 'consistency losses/trn_torque_delta_loss': 16.0436053, 'logistical/max_param': 16.21000481, 'logistical/lr': 0.0006}\n",
      "{'logistical/obs_consumed_per_second': 238.5546875, 'logistical/obs_generated_per_second': 101.2734375, 'logistical/data_consumption_ratio': 2.35830333, 'logistical/manual_train_pause': 0.00023438, 'trn_control_loss': 0.02627796, 'trn_headings_loss': 0.0012052, 'trn_curvatures_loss': 0.00434277, 'consistency losses/trn_steer_cost': 0.02379429, 'consistency losses/trn_te_loss': 19.34244561, 'aux losses/trn_pitch_loss': 0.222682, 'aux losses/trn_yaw_loss': 0.31250811, 'consistency losses/trn_%_updates_w_torque_delta_loss': 0.8828125, 'consistency losses/trn_torque_loss': 775.14608389, 'consistency losses/trn_torque_delta_loss': 16.51332696, 'logistical/max_param': 16.21021461, 'logistical/lr': 0.0006}\n",
      "{'logistical/obs_consumed_per_second': 235.3203125, 'logistical/obs_generated_per_second': 96.84375, 'logistical/data_consumption_ratio': 2.43140569, 'logistical/manual_train_pause': 0.00039062, 'trn_control_loss': 0.02130324, 'trn_headings_loss': 0.00112831, 'trn_curvatures_loss': 0.00336415, 'consistency losses/trn_steer_cost': 0.02175528, 'consistency losses/trn_te_loss': 19.57427609, 'aux losses/trn_pitch_loss': 0.22593403, 'aux losses/trn_yaw_loss': 0.36370707, 'consistency losses/trn_%_updates_w_torque_delta_loss': 0.921875, 'consistency losses/trn_torque_loss': 801.46766909, 'consistency losses/trn_torque_delta_loss': 17.34396755, 'logistical/max_param': 16.21194267, 'logistical/lr': 0.0006}\n",
      "{'logistical/obs_consumed_per_second': 233.6171875, 'logistical/obs_generated_per_second': 100.5390625, 'logistical/data_consumption_ratio': 2.32583244, 'logistical/manual_train_pause': 0.000625, 'trn_control_loss': 0.02888018, 'trn_headings_loss': 0.00135233, 'trn_curvatures_loss': 0.00504787, 'consistency losses/trn_steer_cost': 0.02910024, 'consistency losses/trn_te_loss': 19.41430148, 'aux losses/trn_pitch_loss': 0.22417593, 'aux losses/trn_yaw_loss': 0.42078972, 'consistency losses/trn_%_updates_w_torque_delta_loss': 0.9375, 'consistency losses/trn_torque_loss': 928.07666779, 'consistency losses/trn_torque_delta_loss': 18.22553759, 'logistical/max_param': 16.20530128, 'logistical/lr': 0.0006}\n",
      "{'logistical/obs_consumed_per_second': 235.03125, 'logistical/obs_generated_per_second': 103.375, 'logistical/data_consumption_ratio': 2.27430256, 'logistical/manual_train_pause': 0.0, 'trn_control_loss': 0.02636838, 'trn_headings_loss': 0.0013435, 'trn_curvatures_loss': 0.00510424, 'consistency losses/trn_steer_cost': 0.03212374, 'consistency losses/trn_te_loss': 19.49965037, 'aux losses/trn_pitch_loss': 0.27082634, 'aux losses/trn_yaw_loss': 0.3561883, 'consistency losses/trn_%_updates_w_torque_delta_loss': 0.953125, 'consistency losses/trn_torque_loss': 860.01629242, 'consistency losses/trn_torque_delta_loss': 16.06681431, 'logistical/max_param': 16.20424461, 'logistical/lr': 0.0006}\n",
      "{'logistical/obs_consumed_per_second': 173.0, 'logistical/obs_generated_per_second': 105.0, 'logistical/data_consumption_ratio': 1.64948158, 'logistical/manual_train_pause': 0.0}\n",
      "\n",
      "\n",
      " Eval...\n",
      "EPOCH 3\n",
      "\n",
      "{'trn_control_loss': 0.03109562, 'trn_headings_loss': 0.00134122, 'trn_curvatures_loss': 0.00491242, 'consistency losses/trn_steer_cost': 0.02903974, 'consistency losses/trn_te_loss': 19.77527317, 'aux losses/trn_pitch_loss': 0.22618151, 'aux losses/trn_yaw_loss': 0.32929039, 'consistency losses/trn_%_updates_w_torque_delta_loss': 0.9296875, 'consistency losses/trn_torque_loss': 940.62795079, 'consistency losses/trn_torque_delta_loss': 16.90025632, 'logistical/obs_consumed_per_second': 240.45669291, 'logistical/obs_generated_per_second': 102.01574803, 'logistical/data_consumption_ratio': 2.35852129, 'logistical/manual_train_pause': 0.0, 'logistical/max_param': 16.19821739, 'logistical/lr': 0.0006}\n",
      "{'logistical/obs_consumed_per_second': 234.75, 'logistical/obs_generated_per_second': 105.5, 'logistical/data_consumption_ratio': 2.22614334, 'logistical/manual_train_pause': 0.0, 'trn_control_loss': 0.03815651, 'trn_headings_loss': 0.00164424, 'trn_curvatures_loss': 0.0063118, 'consistency losses/trn_steer_cost': 0.02758771, 'consistency losses/trn_te_loss': 19.86972277, 'aux losses/trn_pitch_loss': 0.25425196, 'aux losses/trn_yaw_loss': 0.38774014, 'consistency losses/trn_%_updates_w_torque_delta_loss': 0.984375, 'consistency losses/trn_torque_loss': 955.1075034, 'consistency losses/trn_torque_delta_loss': 19.1748018, 'logistical/max_param': 16.20967865, 'logistical/lr': 0.0006}\n",
      "{'logistical/obs_consumed_per_second': 231.8828125, 'logistical/obs_generated_per_second': 101.765625, 'logistical/data_consumption_ratio': 2.27831384, 'logistical/manual_train_pause': 0.0, 'trn_control_loss': 0.02860028, 'trn_headings_loss': 0.00135861, 'trn_curvatures_loss': 0.00455799, 'consistency losses/trn_steer_cost': 0.02439886, 'consistency losses/trn_te_loss': 19.4555991, 'aux losses/trn_pitch_loss': 0.22947502, 'aux losses/trn_yaw_loss': 0.3243103, 'consistency losses/trn_%_updates_w_torque_delta_loss': 0.96875, 'consistency losses/trn_torque_loss': 961.11859751, 'consistency losses/trn_torque_delta_loss': 20.87915854, 'logistical/max_param': 16.20783043, 'logistical/lr': 0.0006}\n",
      "{'logistical/obs_consumed_per_second': 232.1953125, 'logistical/obs_generated_per_second': 98.6328125, 'logistical/data_consumption_ratio': 2.35559214, 'logistical/manual_train_pause': 0.00023438, 'trn_control_loss': 0.02512258, 'trn_headings_loss': 0.00125161, 'trn_curvatures_loss': 0.0045023, 'consistency losses/trn_steer_cost': 0.02649593, 'consistency losses/trn_te_loss': 19.28674017, 'aux losses/trn_pitch_loss': 0.22293329, 'aux losses/trn_yaw_loss': 0.34662533, 'consistency losses/trn_%_updates_w_torque_delta_loss': 0.9453125, 'consistency losses/trn_torque_loss': 875.03019625, 'consistency losses/trn_torque_delta_loss': 17.34517787, 'logistical/max_param': 16.20148277, 'logistical/lr': 0.0006}\n",
      "{'logistical/obs_consumed_per_second': 232.3359375, 'logistical/obs_generated_per_second': 105.265625, 'logistical/data_consumption_ratio': 2.20450785, 'logistical/manual_train_pause': 0.0, 'trn_control_loss': 0.0177421, 'trn_headings_loss': 0.00094002, 'trn_curvatures_loss': 0.00302995, 'consistency losses/trn_steer_cost': 0.02017158, 'consistency losses/trn_te_loss': 20.05100453, 'aux losses/trn_pitch_loss': 0.20706654, 'aux losses/trn_yaw_loss': 0.34987259, 'consistency losses/trn_%_updates_w_torque_delta_loss': 0.953125, 'consistency losses/trn_torque_loss': 842.56371713, 'consistency losses/trn_torque_delta_loss': 18.02727337, 'logistical/max_param': 16.20785713, 'logistical/lr': 0.0006}\n",
      "{'logistical/obs_consumed_per_second': 235.8984375, 'logistical/obs_generated_per_second': 110.5078125, 'logistical/data_consumption_ratio': 2.13271691, 'logistical/manual_train_pause': 0.0, 'trn_control_loss': 0.02285099, 'trn_headings_loss': 0.00112127, 'trn_curvatures_loss': 0.00369224, 'consistency losses/trn_steer_cost': 0.02452242, 'consistency losses/trn_te_loss': 19.3967198, 'aux losses/trn_pitch_loss': 0.20879269, 'aux losses/trn_yaw_loss': 0.30459833, 'consistency losses/trn_%_updates_w_torque_delta_loss': 0.9140625, 'consistency losses/trn_torque_loss': 818.06296796, 'consistency losses/trn_torque_delta_loss': 16.95683712, 'logistical/max_param': 16.20889091, 'logistical/lr': 0.0006}\n"
     ]
    },
    {
     "name": "stdout",
     "output_type": "stream",
     "text": [
      "{'logistical/obs_consumed_per_second': 227.9140625, 'logistical/obs_generated_per_second': 100.5078125, 'logistical/data_consumption_ratio': 2.27395873, 'logistical/manual_train_pause': 0.00023438, 'trn_control_loss': 0.02604097, 'trn_headings_loss': 0.00114755, 'trn_curvatures_loss': 0.00404257, 'consistency losses/trn_steer_cost': 0.0233134, 'consistency losses/trn_te_loss': 19.42780238, 'aux losses/trn_pitch_loss': 0.29975605, 'aux losses/trn_yaw_loss': 0.35273314, 'consistency losses/trn_%_updates_w_torque_delta_loss': 0.9609375, 'consistency losses/trn_torque_loss': 881.9139812, 'consistency losses/trn_torque_delta_loss': 17.92466437, 'logistical/max_param': 16.20093155, 'logistical/lr': 0.0006}\n",
      "{'logistical/obs_consumed_per_second': 231.96875, 'logistical/obs_generated_per_second': 102.90625, 'logistical/data_consumption_ratio': 2.25384474, 'logistical/manual_train_pause': 0.0, 'trn_control_loss': 0.0312317, 'trn_headings_loss': 0.00137915, 'trn_curvatures_loss': 0.00463412, 'consistency losses/trn_steer_cost': 0.02733946, 'consistency losses/trn_te_loss': 19.00184922, 'aux losses/trn_pitch_loss': 0.19671917, 'aux losses/trn_yaw_loss': 0.37943172, 'consistency losses/trn_%_updates_w_torque_delta_loss': 0.9609375, 'consistency losses/trn_torque_loss': 930.92736697, 'consistency losses/trn_torque_delta_loss': 17.07872353, 'logistical/max_param': 16.19543266, 'logistical/lr': 0.0006}\n",
      "{'logistical/obs_consumed_per_second': 231.5234375, 'logistical/obs_generated_per_second': 107.96875, 'logistical/data_consumption_ratio': 2.14495308, 'logistical/manual_train_pause': 0.0, 'trn_control_loss': 0.02485174, 'trn_headings_loss': 0.00118802, 'trn_curvatures_loss': 0.00397377, 'consistency losses/trn_steer_cost': 0.02288073, 'consistency losses/trn_te_loss': 19.72118323, 'aux losses/trn_pitch_loss': 0.24236584, 'aux losses/trn_yaw_loss': 0.34050608, 'consistency losses/trn_%_updates_w_torque_delta_loss': 0.96875, 'consistency losses/trn_torque_loss': 910.91991776, 'consistency losses/trn_torque_delta_loss': 18.70576384, 'logistical/max_param': 16.19483757, 'logistical/lr': 0.0006}\n",
      "{'logistical/obs_consumed_per_second': 229.9609375, 'logistical/obs_generated_per_second': 101.96875, 'logistical/data_consumption_ratio': 2.25595835, 'logistical/manual_train_pause': 0.0, 'trn_control_loss': 0.02591664, 'trn_headings_loss': 0.00122057, 'trn_curvatures_loss': 0.00412987, 'consistency losses/trn_steer_cost': 0.02598745, 'consistency losses/trn_te_loss': 18.82074706, 'aux losses/trn_pitch_loss': 0.20884895, 'aux losses/trn_yaw_loss': 0.29276228, 'consistency losses/trn_%_updates_w_torque_delta_loss': 0.921875, 'consistency losses/trn_torque_loss': 822.7578107, 'consistency losses/trn_torque_delta_loss': 17.04793098, 'logistical/max_param': 16.19150925, 'logistical/lr': 0.0006}\n",
      "{'logistical/obs_consumed_per_second': 188.0, 'logistical/obs_generated_per_second': 98.0, 'logistical/data_consumption_ratio': 1.91730744, 'logistical/manual_train_pause': 0.0}\n",
      "\n",
      "\n",
      " Eval...\n",
      "EPOCH 4\n",
      "\n",
      "{'trn_control_loss': 0.03000975, 'trn_headings_loss': 0.00135623, 'trn_curvatures_loss': 0.00465113, 'consistency losses/trn_steer_cost': 0.02806199, 'consistency losses/trn_te_loss': 19.64568992, 'aux losses/trn_pitch_loss': 0.25306845, 'aux losses/trn_yaw_loss': 0.35653305, 'consistency losses/trn_%_updates_w_torque_delta_loss': 0.9296875, 'consistency losses/trn_torque_loss': 790.16883025, 'consistency losses/trn_torque_delta_loss': 17.00009243, 'logistical/obs_consumed_per_second': 239.03149606, 'logistical/obs_generated_per_second': 101.09448819, 'logistical/data_consumption_ratio': 2.3627975, 'logistical/manual_train_pause': 7.874e-05, 'logistical/max_param': 16.19169426, 'logistical/lr': 0.0006}\n",
      "{'logistical/obs_consumed_per_second': 236.421875, 'logistical/obs_generated_per_second': 102.71875, 'logistical/data_consumption_ratio': 2.30181215, 'logistical/manual_train_pause': 0.0, 'trn_control_loss': 0.02461141, 'trn_headings_loss': 0.00112876, 'trn_curvatures_loss': 0.00385234, 'consistency losses/trn_steer_cost': 0.02635884, 'consistency losses/trn_te_loss': 19.428488, 'aux losses/trn_pitch_loss': 0.24331427, 'aux losses/trn_yaw_loss': 0.32236481, 'consistency losses/trn_%_updates_w_torque_delta_loss': 0.9296875, 'consistency losses/trn_torque_loss': 895.60235524, 'consistency losses/trn_torque_delta_loss': 17.04994724, 'logistical/max_param': 16.19239426, 'logistical/lr': 0.0006}\n",
      "{'logistical/obs_consumed_per_second': 231.03125, 'logistical/obs_generated_per_second': 103.5, 'logistical/data_consumption_ratio': 2.2351195, 'logistical/manual_train_pause': 0.0, 'trn_control_loss': 0.02909458, 'trn_headings_loss': 0.00136638, 'trn_curvatures_loss': 0.00465028, 'consistency losses/trn_steer_cost': 0.02843863, 'consistency losses/trn_te_loss': 18.90660453, 'aux losses/trn_pitch_loss': 0.24299431, 'aux losses/trn_yaw_loss': 0.3844986, 'consistency losses/trn_%_updates_w_torque_delta_loss': 0.921875, 'consistency losses/trn_torque_loss': 860.14090215, 'consistency losses/trn_torque_delta_loss': 19.41190254, 'logistical/max_param': 16.19279861, 'logistical/lr': 0.0006}\n",
      "{'logistical/obs_consumed_per_second': 235.5625, 'logistical/obs_generated_per_second': 103.4921875, 'logistical/data_consumption_ratio': 2.27553165, 'logistical/manual_train_pause': 0.0, 'trn_control_loss': 0.03361773, 'trn_headings_loss': 0.00145754, 'trn_curvatures_loss': 0.00504291, 'consistency losses/trn_steer_cost': 0.0283947, 'consistency losses/trn_te_loss': 18.94879001, 'aux losses/trn_pitch_loss': 0.22138071, 'aux losses/trn_yaw_loss': 0.36204529, 'consistency losses/trn_%_updates_w_torque_delta_loss': 0.96875, 'consistency losses/trn_torque_loss': 931.30623728, 'consistency losses/trn_torque_delta_loss': 19.14919845, 'logistical/max_param': 16.18754959, 'logistical/lr': 0.0006}\n",
      "{'logistical/obs_consumed_per_second': 234.6328125, 'logistical/obs_generated_per_second': 95.4296875, 'logistical/data_consumption_ratio': 2.46276122, 'logistical/manual_train_pause': 0.00140625, 'trn_control_loss': 0.02766788, 'trn_headings_loss': 0.00133311, 'trn_curvatures_loss': 0.00492208, 'consistency losses/trn_steer_cost': 0.02626199, 'consistency losses/trn_te_loss': 19.17774576, 'aux losses/trn_pitch_loss': 0.27831411, 'aux losses/trn_yaw_loss': 0.33624363, 'consistency losses/trn_%_updates_w_torque_delta_loss': 0.9296875, 'consistency losses/trn_torque_loss': 777.13979703, 'consistency losses/trn_torque_delta_loss': 13.99175671, 'logistical/max_param': 16.18278122, 'logistical/lr': 0.0006}\n",
      "{'logistical/obs_consumed_per_second': 234.2109375, 'logistical/obs_generated_per_second': 99.2578125, 'logistical/data_consumption_ratio': 2.35815839, 'logistical/manual_train_pause': 0.00015625, 'trn_control_loss': 0.02372086, 'trn_headings_loss': 0.00114078, 'trn_curvatures_loss': 0.00392026, 'consistency losses/trn_steer_cost': 0.02788383, 'consistency losses/trn_te_loss': 19.39190714, 'aux losses/trn_pitch_loss': 0.22255182, 'aux losses/trn_yaw_loss': 0.36250782, 'consistency losses/trn_%_updates_w_torque_delta_loss': 0.921875, 'consistency losses/trn_torque_loss': 839.28727368, 'consistency losses/trn_torque_delta_loss': 14.37843118, 'logistical/max_param': 16.18438148, 'logistical/lr': 0.0006}\n",
      "{'logistical/obs_consumed_per_second': 232.375, 'logistical/obs_generated_per_second': 100.984375, 'logistical/data_consumption_ratio': 2.3004203, 'logistical/manual_train_pause': 0.0003125, 'trn_control_loss': 0.03324628, 'trn_headings_loss': 0.00148547, 'trn_curvatures_loss': 0.00578044, 'consistency losses/trn_steer_cost': 0.03068101, 'consistency losses/trn_te_loss': 19.07329403, 'aux losses/trn_pitch_loss': 0.21957159, 'aux losses/trn_yaw_loss': 0.40435028, 'consistency losses/trn_%_updates_w_torque_delta_loss': 0.9453125, 'consistency losses/trn_torque_loss': 925.18416591, 'consistency losses/trn_torque_delta_loss': 16.96440971, 'logistical/max_param': 16.1863575, 'logistical/lr': 0.0006}\n",
      "{'logistical/obs_consumed_per_second': 229.734375, 'logistical/obs_generated_per_second': 101.4296875, 'logistical/data_consumption_ratio': 2.26704427, 'logistical/manual_train_pause': 7.812e-05, 'trn_control_loss': 0.02532125, 'trn_headings_loss': 0.00120193, 'trn_curvatures_loss': 0.00422782, 'consistency losses/trn_steer_cost': 0.02567154, 'consistency losses/trn_te_loss': 19.72242031, 'aux losses/trn_pitch_loss': 0.21175766, 'aux losses/trn_yaw_loss': 0.3455162, 'consistency losses/trn_%_updates_w_torque_delta_loss': 0.9765625, 'consistency losses/trn_torque_loss': 834.93385863, 'consistency losses/trn_torque_delta_loss': 14.97021586, 'logistical/max_param': 16.18240738, 'logistical/lr': 0.0006}\n"
     ]
    },
    {
     "name": "stdout",
     "output_type": "stream",
     "text": [
      "{'logistical/obs_consumed_per_second': 231.1484375, 'logistical/obs_generated_per_second': 101.046875, 'logistical/data_consumption_ratio': 2.28919788, 'logistical/manual_train_pause': 0.0, 'trn_control_loss': 0.02547401, 'trn_headings_loss': 0.00121937, 'trn_curvatures_loss': 0.00435902, 'consistency losses/trn_steer_cost': 0.02798128, 'consistency losses/trn_te_loss': 19.39928116, 'aux losses/trn_pitch_loss': 0.2244854, 'aux losses/trn_yaw_loss': 0.35133505, 'consistency losses/trn_%_updates_w_torque_delta_loss': 0.9375, 'consistency losses/trn_torque_loss': 952.96142006, 'consistency losses/trn_torque_delta_loss': 17.20773181, 'logistical/max_param': 16.17248917, 'logistical/lr': 0.0006}\n",
      "{'logistical/obs_consumed_per_second': 237.0625, 'logistical/obs_generated_per_second': 100.4140625, 'logistical/data_consumption_ratio': 2.36084367, 'logistical/manual_train_pause': 7.812e-05, 'trn_control_loss': 0.02702093, 'trn_headings_loss': 0.0012866, 'trn_curvatures_loss': 0.00484119, 'consistency losses/trn_steer_cost': 0.03299832, 'consistency losses/trn_te_loss': 18.93409616, 'aux losses/trn_pitch_loss': 0.23354387, 'aux losses/trn_yaw_loss': 0.35326052, 'consistency losses/trn_%_updates_w_torque_delta_loss': 0.9375, 'consistency losses/trn_torque_loss': 837.01308107, 'consistency losses/trn_torque_delta_loss': 16.84503573, 'logistical/max_param': 16.17334366, 'logistical/lr': 0.0006}\n",
      "{'logistical/obs_consumed_per_second': 142.0, 'logistical/obs_generated_per_second': 98.0, 'logistical/data_consumption_ratio': 1.44577589, 'logistical/manual_train_pause': 0.0}\n",
      "\n",
      "\n",
      " Eval...\n",
      "EPOCH 5\n",
      "\n",
      "{'trn_control_loss': 0.02752894, 'trn_headings_loss': 0.0012334, 'trn_curvatures_loss': 0.00481529, 'consistency losses/trn_steer_cost': 0.02966779, 'consistency losses/trn_te_loss': 19.35789941, 'aux losses/trn_pitch_loss': 0.23175669, 'aux losses/trn_yaw_loss': 0.34664297, 'consistency losses/trn_%_updates_w_torque_delta_loss': 0.9453125, 'consistency losses/trn_torque_loss': 849.25369275, 'consistency losses/trn_torque_delta_loss': 19.64513729, 'logistical/obs_consumed_per_second': 240.73228346, 'logistical/obs_generated_per_second': 105.44094488, 'logistical/data_consumption_ratio': 2.28675767, 'logistical/manual_train_pause': 0.0, 'logistical/max_param': 16.17692566, 'logistical/lr': 0.0006}\n",
      "{'logistical/obs_consumed_per_second': 228.234375, 'logistical/obs_generated_per_second': 100.46875, 'logistical/data_consumption_ratio': 2.27136068, 'logistical/manual_train_pause': 0.0, 'trn_control_loss': 0.02383631, 'trn_headings_loss': 0.00120687, 'trn_curvatures_loss': 0.00477621, 'consistency losses/trn_steer_cost': 0.024656, 'consistency losses/trn_te_loss': 19.7747488, 'aux losses/trn_pitch_loss': 0.2096796, 'aux losses/trn_yaw_loss': 0.3323822, 'consistency losses/trn_%_updates_w_torque_delta_loss': 0.9453125, 'consistency losses/trn_torque_loss': 866.31459919, 'consistency losses/trn_torque_delta_loss': 17.87398403, 'logistical/max_param': 16.17661667, 'logistical/lr': 0.0006}\n",
      "{'logistical/obs_consumed_per_second': 237.359375, 'logistical/obs_generated_per_second': 102.2578125, 'logistical/data_consumption_ratio': 2.32414671, 'logistical/manual_train_pause': 0.0, 'trn_control_loss': 0.02484179, 'trn_headings_loss': 0.00122986, 'trn_curvatures_loss': 0.00440598, 'consistency losses/trn_steer_cost': 0.02880889, 'consistency losses/trn_te_loss': 19.49138445, 'aux losses/trn_pitch_loss': 0.26810217, 'aux losses/trn_yaw_loss': 0.34877205, 'consistency losses/trn_%_updates_w_torque_delta_loss': 0.9375, 'consistency losses/trn_torque_loss': 860.82772791, 'consistency losses/trn_torque_delta_loss': 19.52002595, 'logistical/max_param': 16.17813683, 'logistical/lr': 0.0006}\n",
      "{'logistical/obs_consumed_per_second': 232.15625, 'logistical/obs_generated_per_second': 104.1171875, 'logistical/data_consumption_ratio': 2.23360352, 'logistical/manual_train_pause': 0.0, 'trn_control_loss': 0.02831119, 'trn_headings_loss': 0.00132065, 'trn_curvatures_loss': 0.00523973, 'consistency losses/trn_steer_cost': 0.03188205, 'consistency losses/trn_te_loss': 18.55893277, 'aux losses/trn_pitch_loss': 0.23081398, 'aux losses/trn_yaw_loss': 0.35141659, 'consistency losses/trn_%_updates_w_torque_delta_loss': 0.9453125, 'consistency losses/trn_torque_loss': 887.8774282, 'consistency losses/trn_torque_delta_loss': 16.31528959, 'logistical/max_param': 16.18035126, 'logistical/lr': 0.0006}\n",
      "{'logistical/obs_consumed_per_second': 233.7578125, 'logistical/obs_generated_per_second': 98.0234375, 'logistical/data_consumption_ratio': 2.38217117, 'logistical/manual_train_pause': 0.00070312, 'trn_control_loss': 0.03037351, 'trn_headings_loss': 0.00129899, 'trn_curvatures_loss': 0.00445594, 'consistency losses/trn_steer_cost': 0.02697271, 'consistency losses/trn_te_loss': 19.51269387, 'aux losses/trn_pitch_loss': 0.24532604, 'aux losses/trn_yaw_loss': 0.37729359, 'consistency losses/trn_%_updates_w_torque_delta_loss': 0.953125, 'consistency losses/trn_torque_loss': 900.77190328, 'consistency losses/trn_torque_delta_loss': 20.84660102, 'logistical/max_param': 16.1831131, 'logistical/lr': 0.0006}\n",
      "{'logistical/obs_consumed_per_second': 237.40625, 'logistical/obs_generated_per_second': 98.3515625, 'logistical/data_consumption_ratio': 2.4113875, 'logistical/manual_train_pause': 0.00085937, 'trn_control_loss': 0.02411085, 'trn_headings_loss': 0.00123313, 'trn_curvatures_loss': 0.00398722, 'consistency losses/trn_steer_cost': 0.02505463, 'consistency losses/trn_te_loss': 19.59042566, 'aux losses/trn_pitch_loss': 0.2288065, 'aux losses/trn_yaw_loss': 0.34859991, 'consistency losses/trn_%_updates_w_torque_delta_loss': 0.9375, 'consistency losses/trn_torque_loss': 828.81074202, 'consistency losses/trn_torque_delta_loss': 17.26251421, 'logistical/max_param': 16.18581963, 'logistical/lr': 0.0006}\n",
      "{'logistical/obs_consumed_per_second': 237.5078125, 'logistical/obs_generated_per_second': 100.7421875, 'logistical/data_consumption_ratio': 2.36255646, 'logistical/manual_train_pause': 7.812e-05, 'trn_control_loss': 0.02383053, 'trn_headings_loss': 0.00110231, 'trn_curvatures_loss': 0.00410381, 'consistency losses/trn_steer_cost': 0.02667612, 'consistency losses/trn_te_loss': 19.25924118, 'aux losses/trn_pitch_loss': 0.19482994, 'aux losses/trn_yaw_loss': 0.3557272, 'consistency losses/trn_%_updates_w_torque_delta_loss': 0.9140625, 'consistency losses/trn_torque_loss': 826.17009187, 'consistency losses/trn_torque_delta_loss': 18.87478716, 'logistical/max_param': 16.18036079, 'logistical/lr': 0.0006}\n",
      "{'logistical/obs_consumed_per_second': 236.8671875, 'logistical/obs_generated_per_second': 98.234375, 'logistical/data_consumption_ratio': 2.40929031, 'logistical/manual_train_pause': 7.812e-05, 'trn_control_loss': 0.02334613, 'trn_headings_loss': 0.00123122, 'trn_curvatures_loss': 0.00444637, 'consistency losses/trn_steer_cost': 0.02862537, 'consistency losses/trn_te_loss': 18.82337736, 'aux losses/trn_pitch_loss': 0.19699287, 'aux losses/trn_yaw_loss': 0.39327717, 'consistency losses/trn_%_updates_w_torque_delta_loss': 0.9609375, 'consistency losses/trn_torque_loss': 848.97089159, 'consistency losses/trn_torque_delta_loss': 15.90660608, 'logistical/max_param': 16.18621635, 'logistical/lr': 0.0006}\n",
      "{'logistical/obs_consumed_per_second': 235.5703125, 'logistical/obs_generated_per_second': 102.5390625, 'logistical/data_consumption_ratio': 2.30082828, 'logistical/manual_train_pause': 0.0, 'trn_control_loss': 0.02180564, 'trn_headings_loss': 0.00107192, 'trn_curvatures_loss': 0.00362585, 'consistency losses/trn_steer_cost': 0.02502602, 'consistency losses/trn_te_loss': 19.51481402, 'aux losses/trn_pitch_loss': 0.19344187, 'aux losses/trn_yaw_loss': 0.33792639, 'consistency losses/trn_%_updates_w_torque_delta_loss': 0.9375, 'consistency losses/trn_torque_loss': 872.94621313, 'consistency losses/trn_torque_delta_loss': 18.17285313, 'logistical/max_param': 16.19327354, 'logistical/lr': 0.0006}\n",
      "{'logistical/obs_consumed_per_second': 234.4296875, 'logistical/obs_generated_per_second': 100.8359375, 'logistical/data_consumption_ratio': 2.32831615, 'logistical/manual_train_pause': 0.0003125, 'trn_control_loss': 0.0252794, 'trn_headings_loss': 0.00125001, 'trn_curvatures_loss': 0.00409338, 'consistency losses/trn_steer_cost': 0.02674413, 'consistency losses/trn_te_loss': 19.46766871, 'aux losses/trn_pitch_loss': 0.22647667, 'aux losses/trn_yaw_loss': 0.30495548, 'consistency losses/trn_%_updates_w_torque_delta_loss': 0.9453125, 'consistency losses/trn_torque_loss': 947.38981146, 'consistency losses/trn_torque_delta_loss': 19.48777173, 'logistical/max_param': 16.19536209, 'logistical/lr': 0.0006}\n"
     ]
    },
    {
     "name": "stdout",
     "output_type": "stream",
     "text": [
      "{'logistical/obs_consumed_per_second': 163.0, 'logistical/obs_generated_per_second': 110.0, 'logistical/data_consumption_ratio': 1.47810532, 'logistical/manual_train_pause': 0.0}\n",
      "\n",
      "\n",
      " Eval...\n",
      "EPOCH 6\n",
      "\n",
      "{'trn_control_loss': 0.02221864, 'trn_headings_loss': 0.00115019, 'trn_curvatures_loss': 0.00415628, 'consistency losses/trn_steer_cost': 0.02693772, 'consistency losses/trn_te_loss': 19.07077482, 'aux losses/trn_pitch_loss': 0.21250105, 'aux losses/trn_yaw_loss': 0.33421803, 'consistency losses/trn_%_updates_w_torque_delta_loss': 0.984375, 'consistency losses/trn_torque_loss': 738.62378299, 'consistency losses/trn_torque_delta_loss': 17.72092915, 'logistical/obs_consumed_per_second': 237.62992126, 'logistical/obs_generated_per_second': 104.98425197, 'logistical/data_consumption_ratio': 2.26820583, 'logistical/manual_train_pause': 0.0, 'logistical/max_param': 16.18656349, 'logistical/lr': 0.0006}\n",
      "{'logistical/obs_consumed_per_second': 230.2265625, 'logistical/obs_generated_per_second': 104.921875, 'logistical/data_consumption_ratio': 2.1986301, 'logistical/manual_train_pause': 0.0, 'trn_control_loss': 0.02728397, 'trn_headings_loss': 0.00136278, 'trn_curvatures_loss': 0.00546397, 'consistency losses/trn_steer_cost': 0.0322088, 'consistency losses/trn_te_loss': 18.88838401, 'aux losses/trn_pitch_loss': 0.19979858, 'aux losses/trn_yaw_loss': 0.32339048, 'consistency losses/trn_%_updates_w_torque_delta_loss': 0.921875, 'consistency losses/trn_torque_loss': 919.13377643, 'consistency losses/trn_torque_delta_loss': 19.16489957, 'logistical/max_param': 16.19207382, 'logistical/lr': 0.0006}\n",
      "{'logistical/obs_consumed_per_second': 228.8984375, 'logistical/obs_generated_per_second': 98.98425197, 'logistical/data_consumption_ratio': 2.31741447, 'logistical/manual_train_pause': 0.00031496, 'trn_control_loss': 0.02652657, 'trn_headings_loss': 0.0012968, 'trn_curvatures_loss': 0.0042027, 'consistency losses/trn_steer_cost': 0.02443582, 'consistency losses/trn_te_loss': 19.62852721, 'aux losses/trn_pitch_loss': 0.2131505, 'aux losses/trn_yaw_loss': 0.33849621, 'consistency losses/trn_%_updates_w_torque_delta_loss': 0.9609375, 'consistency losses/trn_torque_loss': 937.07839298, 'consistency losses/trn_torque_delta_loss': 21.97956656, 'logistical/max_param': 16.18641472, 'logistical/lr': 0.0006}\n",
      "{'logistical/obs_consumed_per_second': 230.65625, 'logistical/obs_generated_per_second': 104.671875, 'logistical/data_consumption_ratio': 2.20320329, 'logistical/manual_train_pause': 0.0, 'trn_control_loss': 0.0246461, 'trn_headings_loss': 0.00120949, 'trn_curvatures_loss': 0.00419095, 'consistency losses/trn_steer_cost': 0.02596021, 'consistency losses/trn_te_loss': 19.25252154, 'aux losses/trn_pitch_loss': 0.25229549, 'aux losses/trn_yaw_loss': 0.36403322, 'consistency losses/trn_%_updates_w_torque_delta_loss': 0.9296875, 'consistency losses/trn_torque_loss': 793.71883118, 'consistency losses/trn_torque_delta_loss': 17.61849905, 'logistical/max_param': 16.18582153, 'logistical/lr': 0.0006}\n",
      "{'logistical/obs_consumed_per_second': 231.3203125, 'logistical/obs_generated_per_second': 102.578125, 'logistical/data_consumption_ratio': 2.25709605, 'logistical/manual_train_pause': 7.812e-05, 'trn_control_loss': 0.02128994, 'trn_headings_loss': 0.00108277, 'trn_curvatures_loss': 0.0035818, 'consistency losses/trn_steer_cost': 0.0264042, 'consistency losses/trn_te_loss': 19.56497109, 'aux losses/trn_pitch_loss': 0.21143484, 'aux losses/trn_yaw_loss': 0.30649853, 'consistency losses/trn_%_updates_w_torque_delta_loss': 0.9296875, 'consistency losses/trn_torque_loss': 825.35150623, 'consistency losses/trn_torque_delta_loss': 17.49120473, 'logistical/max_param': 16.18195343, 'logistical/lr': 0.0006}\n",
      "{'logistical/obs_consumed_per_second': 231.8359375, 'logistical/obs_generated_per_second': 103.6875, 'logistical/data_consumption_ratio': 2.23664564, 'logistical/manual_train_pause': 0.00023438, 'trn_control_loss': 0.02167982, 'trn_headings_loss': 0.00110467, 'trn_curvatures_loss': 0.00387608, 'consistency losses/trn_steer_cost': 0.02625531, 'consistency losses/trn_te_loss': 19.24101885, 'aux losses/trn_pitch_loss': 0.19228029, 'aux losses/trn_yaw_loss': 0.30233479, 'consistency losses/trn_%_updates_w_torque_delta_loss': 0.921875, 'consistency losses/trn_torque_loss': 776.42707992, 'consistency losses/trn_torque_delta_loss': 16.4013827, 'logistical/max_param': 16.18281746, 'logistical/lr': 0.0006}\n",
      "{'logistical/obs_consumed_per_second': 234.4375, 'logistical/obs_generated_per_second': 107.8671875, 'logistical/data_consumption_ratio': 2.1712449, 'logistical/manual_train_pause': 0.0, 'trn_control_loss': 0.02540541, 'trn_headings_loss': 0.00119068, 'trn_curvatures_loss': 0.00449339, 'consistency losses/trn_steer_cost': 0.02603519, 'consistency losses/trn_te_loss': 19.72821951, 'aux losses/trn_pitch_loss': 0.26408815, 'aux losses/trn_yaw_loss': 0.34433222, 'consistency losses/trn_%_updates_w_torque_delta_loss': 0.9296875, 'consistency losses/trn_torque_loss': 801.71024156, 'consistency losses/trn_torque_delta_loss': 17.21319364, 'logistical/max_param': 16.18263054, 'logistical/lr': 0.0006}\n",
      "{'logistical/obs_consumed_per_second': 233.578125, 'logistical/obs_generated_per_second': 106.4375, 'logistical/data_consumption_ratio': 2.19612675, 'logistical/manual_train_pause': 0.0, 'trn_control_loss': 0.03283805, 'trn_headings_loss': 0.00143241, 'trn_curvatures_loss': 0.00491245, 'consistency losses/trn_steer_cost': 0.0306403, 'consistency losses/trn_te_loss': 19.48570324, 'aux losses/trn_pitch_loss': 0.23821735, 'aux losses/trn_yaw_loss': 0.34077263, 'consistency losses/trn_%_updates_w_torque_delta_loss': 0.96875, 'consistency losses/trn_torque_loss': 943.23903152, 'consistency losses/trn_torque_delta_loss': 18.98882334, 'logistical/max_param': 16.17281342, 'logistical/lr': 0.0006}\n",
      "{'logistical/obs_consumed_per_second': 231.984375, 'logistical/obs_generated_per_second': 103.84375, 'logistical/data_consumption_ratio': 2.23239482, 'logistical/manual_train_pause': 0.0, 'trn_control_loss': 0.02581865, 'trn_headings_loss': 0.00122068, 'trn_curvatures_loss': 0.00455287, 'consistency losses/trn_steer_cost': 0.02759147, 'consistency losses/trn_te_loss': 19.66248766, 'aux losses/trn_pitch_loss': 0.20835209, 'aux losses/trn_yaw_loss': 0.35552216, 'consistency losses/trn_%_updates_w_torque_delta_loss': 0.90625, 'consistency losses/trn_torque_loss': 784.00617033, 'consistency losses/trn_torque_delta_loss': 16.93130502, 'logistical/max_param': 16.16748619, 'logistical/lr': 0.0006}\n",
      "{'logistical/obs_consumed_per_second': 231.7890625, 'logistical/obs_generated_per_second': 108.0859375, 'logistical/data_consumption_ratio': 2.1483825, 'logistical/manual_train_pause': 0.0, 'trn_control_loss': 0.02474928, 'trn_headings_loss': 0.00122678, 'trn_curvatures_loss': 0.00417103, 'consistency losses/trn_steer_cost': 0.02885228, 'consistency losses/trn_te_loss': 19.17569533, 'aux losses/trn_pitch_loss': 0.1840539, 'aux losses/trn_yaw_loss': 0.39466667, 'consistency losses/trn_%_updates_w_torque_delta_loss': 0.9375, 'consistency losses/trn_torque_loss': 874.15855336, 'consistency losses/trn_torque_delta_loss': 19.25605593, 'logistical/max_param': 16.15995979, 'logistical/lr': 0.0006}\n",
      "{'logistical/obs_consumed_per_second': 160.0, 'logistical/obs_generated_per_second': 107.0, 'logistical/data_consumption_ratio': 1.4982252, 'logistical/manual_train_pause': 0.0}\n",
      "\n",
      "\n",
      " Eval...\n",
      "EPOCH 7\n",
      "\n",
      "{'trn_control_loss': 0.02386284, 'trn_headings_loss': 0.00115325, 'trn_curvatures_loss': 0.00373973, 'consistency losses/trn_steer_cost': 0.02468902, 'consistency losses/trn_te_loss': 19.94387935, 'aux losses/trn_pitch_loss': 0.19311333, 'aux losses/trn_yaw_loss': 0.36429548, 'consistency losses/trn_%_updates_w_torque_delta_loss': 0.9609375, 'consistency losses/trn_torque_loss': 893.20941138, 'consistency losses/trn_torque_delta_loss': 18.91525694, 'logistical/obs_consumed_per_second': 239.12598425, 'logistical/obs_generated_per_second': 101.62204724, 'logistical/data_consumption_ratio': 2.35368401, 'logistical/manual_train_pause': 0.0, 'logistical/max_param': 16.1693821, 'logistical/lr': 0.0006}\n",
      "{'logistical/obs_consumed_per_second': 232.5703125, 'logistical/obs_generated_per_second': 97.421875, 'logistical/data_consumption_ratio': 2.38430517, 'logistical/manual_train_pause': 0.000625, 'trn_control_loss': 0.02470708, 'trn_headings_loss': 0.00124612, 'trn_curvatures_loss': 0.00363679, 'consistency losses/trn_steer_cost': 0.02380699, 'consistency losses/trn_te_loss': 19.93706706, 'aux losses/trn_pitch_loss': 0.21174431, 'aux losses/trn_yaw_loss': 0.29617929, 'consistency losses/trn_%_updates_w_torque_delta_loss': 0.921875, 'consistency losses/trn_torque_loss': 932.03305432, 'consistency losses/trn_torque_delta_loss': 22.33495843, 'logistical/max_param': 16.17415619, 'logistical/lr': 0.0006}\n"
     ]
    },
    {
     "name": "stdout",
     "output_type": "stream",
     "text": [
      "{'logistical/obs_consumed_per_second': 236.3828125, 'logistical/obs_generated_per_second': 99.09375, 'logistical/data_consumption_ratio': 2.38496889, 'logistical/manual_train_pause': 0.00023438, 'trn_control_loss': 0.0294193, 'trn_headings_loss': 0.00132734, 'trn_curvatures_loss': 0.00471911, 'consistency losses/trn_steer_cost': 0.03158057, 'consistency losses/trn_te_loss': 19.24045676, 'aux losses/trn_pitch_loss': 0.23786688, 'aux losses/trn_yaw_loss': 0.37637424, 'consistency losses/trn_%_updates_w_torque_delta_loss': 0.90625, 'consistency losses/trn_torque_loss': 879.93871185, 'consistency losses/trn_torque_delta_loss': 17.40455996, 'logistical/max_param': 16.17452621, 'logistical/lr': 0.0006}\n",
      "{'logistical/obs_consumed_per_second': 238.96875, 'logistical/obs_generated_per_second': 105.34375, 'logistical/data_consumption_ratio': 2.26754924, 'logistical/manual_train_pause': 0.0, 'trn_control_loss': 0.03101784, 'trn_headings_loss': 0.00129631, 'trn_curvatures_loss': 0.00428692, 'consistency losses/trn_steer_cost': 0.02837813, 'consistency losses/trn_te_loss': 19.12189415, 'aux losses/trn_pitch_loss': 0.21404791, 'aux losses/trn_yaw_loss': 0.39223385, 'consistency losses/trn_%_updates_w_torque_delta_loss': 0.953125, 'consistency losses/trn_torque_loss': 925.30352056, 'consistency losses/trn_torque_delta_loss': 17.75990443, 'logistical/max_param': 16.18237114, 'logistical/lr': 0.0006}\n",
      "{'logistical/obs_consumed_per_second': 235.1171875, 'logistical/obs_generated_per_second': 105.9609375, 'logistical/data_consumption_ratio': 2.21810675, 'logistical/manual_train_pause': 0.0, 'trn_control_loss': 0.03165734, 'trn_headings_loss': 0.00142497, 'trn_curvatures_loss': 0.0050634, 'consistency losses/trn_steer_cost': 0.02843237, 'consistency losses/trn_te_loss': 19.22552791, 'aux losses/trn_pitch_loss': 0.23796558, 'aux losses/trn_yaw_loss': 0.36535835, 'consistency losses/trn_%_updates_w_torque_delta_loss': 0.90625, 'consistency losses/trn_torque_loss': 826.45916247, 'consistency losses/trn_torque_delta_loss': 19.27291748, 'logistical/max_param': 16.17766953, 'logistical/lr': 0.0006}\n",
      "{'logistical/obs_consumed_per_second': 236.6015625, 'logistical/obs_generated_per_second': 108.1953125, 'logistical/data_consumption_ratio': 2.18614843, 'logistical/manual_train_pause': 0.0, 'trn_control_loss': 0.02391881, 'trn_headings_loss': 0.00112285, 'trn_curvatures_loss': 0.00420257, 'consistency losses/trn_steer_cost': 0.0286991, 'consistency losses/trn_te_loss': 19.50787392, 'aux losses/trn_pitch_loss': 0.25435066, 'aux losses/trn_yaw_loss': 0.3679781, 'consistency losses/trn_%_updates_w_torque_delta_loss': 0.9375, 'consistency losses/trn_torque_loss': 754.22669482, 'consistency losses/trn_torque_delta_loss': 16.44691103, 'logistical/max_param': 16.17641258, 'logistical/lr': 0.0006}\n",
      "{'logistical/obs_consumed_per_second': 227.65625, 'logistical/obs_generated_per_second': 104.03125, 'logistical/data_consumption_ratio': 2.18503995, 'logistical/manual_train_pause': 0.0, 'trn_control_loss': 0.02583355, 'trn_headings_loss': 0.00122759, 'trn_curvatures_loss': 0.00464624, 'consistency losses/trn_steer_cost': 0.02993238, 'consistency losses/trn_te_loss': 18.79971278, 'aux losses/trn_pitch_loss': 0.23780918, 'aux losses/trn_yaw_loss': 0.38372231, 'consistency losses/trn_%_updates_w_torque_delta_loss': 0.921875, 'consistency losses/trn_torque_loss': 858.72333634, 'consistency losses/trn_torque_delta_loss': 18.19961325, 'logistical/max_param': 16.17256737, 'logistical/lr': 0.0006}\n",
      "{'logistical/obs_consumed_per_second': 235.90625, 'logistical/obs_generated_per_second': 98.734375, 'logistical/data_consumption_ratio': 2.39065896, 'logistical/manual_train_pause': 7.812e-05, 'trn_control_loss': 0.01958996, 'trn_headings_loss': 0.00099431, 'trn_curvatures_loss': 0.00342831, 'consistency losses/trn_steer_cost': 0.02563697, 'consistency losses/trn_te_loss': 19.39679916, 'aux losses/trn_pitch_loss': 0.30597782, 'aux losses/trn_yaw_loss': 0.32905817, 'consistency losses/trn_%_updates_w_torque_delta_loss': 0.9609375, 'consistency losses/trn_torque_loss': 875.79257256, 'consistency losses/trn_torque_delta_loss': 18.5862812, 'logistical/max_param': 16.16879272, 'logistical/lr': 0.0006}\n",
      "{'logistical/obs_consumed_per_second': 233.1875, 'logistical/obs_generated_per_second': 103.0390625, 'logistical/data_consumption_ratio': 2.26466056, 'logistical/manual_train_pause': 0.0, 'trn_control_loss': 0.02444345, 'trn_headings_loss': 0.00120656, 'trn_curvatures_loss': 0.00427617, 'consistency losses/trn_steer_cost': 0.02744126, 'consistency losses/trn_te_loss': 19.19875315, 'aux losses/trn_pitch_loss': 0.22135019, 'aux losses/trn_yaw_loss': 0.37159348, 'consistency losses/trn_%_updates_w_torque_delta_loss': 0.9765625, 'consistency losses/trn_torque_loss': 863.95881701, 'consistency losses/trn_torque_delta_loss': 20.5830964, 'logistical/max_param': 16.1703701, 'logistical/lr': 0.0006}\n",
      "{'logistical/obs_consumed_per_second': 241.5546875, 'logistical/obs_generated_per_second': 93.703125, 'logistical/data_consumption_ratio': 2.57734125, 'logistical/manual_train_pause': 0.00484375, 'trn_control_loss': 0.02432919, 'trn_headings_loss': 0.00119502, 'trn_curvatures_loss': 0.00446109, 'consistency losses/trn_steer_cost': 0.02770686, 'consistency losses/trn_te_loss': 19.19709413, 'aux losses/trn_pitch_loss': 0.20091677, 'aux losses/trn_yaw_loss': 0.36903572, 'consistency losses/trn_%_updates_w_torque_delta_loss': 0.953125, 'consistency losses/trn_torque_loss': 914.6610989, 'consistency losses/trn_torque_delta_loss': 21.25102898, 'logistical/max_param': 16.17725563, 'logistical/lr': 0.0006}\n",
      "{'logistical/obs_consumed_per_second': 156.0, 'logistical/obs_generated_per_second': 95.0, 'logistical/data_consumption_ratio': 1.64512218, 'logistical/manual_train_pause': 0.0}\n",
      "\n",
      "\n",
      " Eval...\n",
      "EPOCH 8\n",
      "\n",
      "{'trn_control_loss': 0.02440625, 'trn_headings_loss': 0.00119879, 'trn_curvatures_loss': 0.00420689, 'consistency losses/trn_steer_cost': 0.0277608, 'consistency losses/trn_te_loss': 19.00101085, 'aux losses/trn_pitch_loss': 0.19370031, 'aux losses/trn_yaw_loss': 0.36822224, 'consistency losses/trn_%_updates_w_torque_delta_loss': 0.9765625, 'consistency losses/trn_torque_loss': 862.41604114, 'consistency losses/trn_torque_delta_loss': 17.61608844, 'logistical/obs_consumed_per_second': 226.70866142, 'logistical/obs_generated_per_second': 96.5511811, 'logistical/data_consumption_ratio': 2.35084376, 'logistical/manual_train_pause': 0.00055118, 'logistical/max_param': 16.17909431, 'logistical/lr': 0.0006}\n",
      "{'logistical/obs_consumed_per_second': 229.21875, 'logistical/obs_generated_per_second': 107.0234375, 'logistical/data_consumption_ratio': 2.14454861, 'logistical/manual_train_pause': 0.0, 'trn_control_loss': 0.02212918, 'trn_headings_loss': 0.0010702, 'trn_curvatures_loss': 0.00382412, 'consistency losses/trn_steer_cost': 0.02775162, 'consistency losses/trn_te_loss': 19.40124874, 'aux losses/trn_pitch_loss': 0.22616482, 'aux losses/trn_yaw_loss': 0.36342621, 'consistency losses/trn_%_updates_w_torque_delta_loss': 0.921875, 'consistency losses/trn_torque_loss': 809.6492216, 'consistency losses/trn_torque_delta_loss': 20.89995418, 'logistical/max_param': 16.1850872, 'logistical/lr': 0.0006}\n",
      "{'logistical/obs_consumed_per_second': 234.9140625, 'logistical/obs_generated_per_second': 106.96875, 'logistical/data_consumption_ratio': 2.19934714, 'logistical/manual_train_pause': 0.0, 'trn_control_loss': 0.02423483, 'trn_headings_loss': 0.00114055, 'trn_curvatures_loss': 0.00378249, 'consistency losses/trn_steer_cost': 0.02585453, 'consistency losses/trn_te_loss': 20.32277913, 'aux losses/trn_pitch_loss': 0.19226313, 'aux losses/trn_yaw_loss': 0.3175869, 'consistency losses/trn_%_updates_w_torque_delta_loss': 0.984375, 'consistency losses/trn_torque_loss': 882.06061327, 'consistency losses/trn_torque_delta_loss': 19.87419602, 'logistical/max_param': 16.18506622, 'logistical/lr': 0.0006}\n",
      "{'logistical/obs_consumed_per_second': 235.8984375, 'logistical/obs_generated_per_second': 99.15625, 'logistical/data_consumption_ratio': 2.38336571, 'logistical/manual_train_pause': 0.00070312, 'trn_control_loss': 0.02440345, 'trn_headings_loss': 0.00109256, 'trn_curvatures_loss': 0.00379006, 'consistency losses/trn_steer_cost': 0.02611572, 'consistency losses/trn_te_loss': 19.44570421, 'aux losses/trn_pitch_loss': 0.25154495, 'aux losses/trn_yaw_loss': 0.33816671, 'consistency losses/trn_%_updates_w_torque_delta_loss': 0.921875, 'consistency losses/trn_torque_loss': 731.99482155, 'consistency losses/trn_torque_delta_loss': 17.04322442, 'logistical/max_param': 16.17767525, 'logistical/lr': 0.0006}\n"
     ]
    },
    {
     "name": "stdout",
     "output_type": "stream",
     "text": [
      "{'logistical/obs_consumed_per_second': 237.28125, 'logistical/obs_generated_per_second': 112.1796875, 'logistical/data_consumption_ratio': 2.11742478, 'logistical/manual_train_pause': 0.0, 'trn_control_loss': 0.02395046, 'trn_headings_loss': 0.00115132, 'trn_curvatures_loss': 0.00366329, 'consistency losses/trn_steer_cost': 0.02731943, 'consistency losses/trn_te_loss': 20.26098947, 'aux losses/trn_pitch_loss': 0.20221472, 'aux losses/trn_yaw_loss': 0.37194681, 'consistency losses/trn_%_updates_w_torque_delta_loss': 0.953125, 'consistency losses/trn_torque_loss': 905.31308067, 'consistency losses/trn_torque_delta_loss': 18.84694887, 'logistical/max_param': 16.18167305, 'logistical/lr': 0.0006}\n",
      "{'logistical/obs_consumed_per_second': 237.78125, 'logistical/obs_generated_per_second': 110.9921875, 'logistical/data_consumption_ratio': 2.13935137, 'logistical/manual_train_pause': 0.0, 'trn_control_loss': 0.02404994, 'trn_headings_loss': 0.00114923, 'trn_curvatures_loss': 0.00362329, 'consistency losses/trn_steer_cost': 0.02735943, 'consistency losses/trn_te_loss': 19.73465355, 'aux losses/trn_pitch_loss': 0.25015306, 'aux losses/trn_yaw_loss': 0.35840702, 'consistency losses/trn_%_updates_w_torque_delta_loss': 0.9609375, 'consistency losses/trn_torque_loss': 874.11120176, 'consistency losses/trn_torque_delta_loss': 19.72154546, 'logistical/max_param': 16.18611908, 'logistical/lr': 0.0006}\n",
      "{'logistical/obs_consumed_per_second': 235.8515625, 'logistical/obs_generated_per_second': 100.3203125, 'logistical/data_consumption_ratio': 2.35314445, 'logistical/manual_train_pause': 0.0003125, 'trn_control_loss': 0.02076674, 'trn_headings_loss': 0.00099806, 'trn_curvatures_loss': 0.00323999, 'consistency losses/trn_steer_cost': 0.02611589, 'consistency losses/trn_te_loss': 19.2960946, 'aux losses/trn_pitch_loss': 0.2183919, 'aux losses/trn_yaw_loss': 0.31812811, 'consistency losses/trn_%_updates_w_torque_delta_loss': 0.9765625, 'consistency losses/trn_torque_loss': 901.63238224, 'consistency losses/trn_torque_delta_loss': 17.98520816, 'logistical/max_param': 16.18131447, 'logistical/lr': 0.0006}\n",
      "{'logistical/obs_consumed_per_second': 231.28125, 'logistical/obs_generated_per_second': 103.8359375, 'logistical/data_consumption_ratio': 2.22953502, 'logistical/manual_train_pause': 0.0, 'trn_control_loss': 0.01764125, 'trn_headings_loss': 0.00090732, 'trn_curvatures_loss': 0.00298508, 'consistency losses/trn_steer_cost': 0.02493596, 'consistency losses/trn_te_loss': 19.32908861, 'aux losses/trn_pitch_loss': 0.21770573, 'aux losses/trn_yaw_loss': 0.33712578, 'consistency losses/trn_%_updates_w_torque_delta_loss': 0.90625, 'consistency losses/trn_torque_loss': 858.34155524, 'consistency losses/trn_torque_delta_loss': 17.60337564, 'logistical/max_param': 16.18379021, 'logistical/lr': 0.0006}\n",
      "{'logistical/obs_consumed_per_second': 231.234375, 'logistical/obs_generated_per_second': 104.2421875, 'logistical/data_consumption_ratio': 2.21891612, 'logistical/manual_train_pause': 0.0, 'trn_control_loss': 0.01695132, 'trn_headings_loss': 0.00092936, 'trn_curvatures_loss': 0.0027591, 'consistency losses/trn_steer_cost': 0.02203995, 'consistency losses/trn_te_loss': 20.34427091, 'aux losses/trn_pitch_loss': 0.19652224, 'aux losses/trn_yaw_loss': 0.28629971, 'consistency losses/trn_%_updates_w_torque_delta_loss': 0.9765625, 'consistency losses/trn_torque_loss': 932.52528846, 'consistency losses/trn_torque_delta_loss': 19.59847619, 'logistical/max_param': 16.1848774, 'logistical/lr': 0.0006}\n",
      "{'logistical/obs_consumed_per_second': 230.40625, 'logistical/obs_generated_per_second': 104.3984375, 'logistical/data_consumption_ratio': 2.20451997, 'logistical/manual_train_pause': 0.0, 'trn_control_loss': 0.01865429, 'trn_headings_loss': 0.00098079, 'trn_curvatures_loss': 0.00317019, 'consistency losses/trn_steer_cost': 0.02392477, 'consistency losses/trn_te_loss': 20.06555049, 'aux losses/trn_pitch_loss': 0.21012688, 'aux losses/trn_yaw_loss': 0.29398632, 'consistency losses/trn_%_updates_w_torque_delta_loss': 0.9609375, 'consistency losses/trn_torque_loss': 906.96753687, 'consistency losses/trn_torque_delta_loss': 20.50918207, 'logistical/max_param': 16.17850304, 'logistical/lr': 0.0006}\n",
      "{'logistical/obs_consumed_per_second': 160.0, 'logistical/obs_generated_per_second': 106.0, 'logistical/data_consumption_ratio': 1.51447366, 'logistical/manual_train_pause': 0.0}\n",
      "\n",
      "\n",
      " Eval...\n",
      "EPOCH 9\n",
      "\n",
      "{'trn_control_loss': 0.01717538, 'trn_headings_loss': 0.00088406, 'trn_curvatures_loss': 0.00287517, 'consistency losses/trn_steer_cost': 0.0209294, 'consistency losses/trn_te_loss': 20.14288905, 'aux losses/trn_pitch_loss': 0.19169235, 'aux losses/trn_yaw_loss': 0.27014208, 'consistency losses/trn_%_updates_w_torque_delta_loss': 0.9453125, 'consistency losses/trn_torque_loss': 876.21213317, 'consistency losses/trn_torque_delta_loss': 17.42453601, 'logistical/obs_consumed_per_second': 233.21259843, 'logistical/obs_generated_per_second': 107.06299213, 'logistical/data_consumption_ratio': 2.17589778, 'logistical/manual_train_pause': 0.0, 'logistical/max_param': 16.17457581, 'logistical/lr': 0.0006}\n",
      "{'logistical/obs_consumed_per_second': 232.4375, 'logistical/obs_generated_per_second': 103.875, 'logistical/data_consumption_ratio': 2.23854461, 'logistical/manual_train_pause': 0.0, 'trn_control_loss': 0.01997119, 'trn_headings_loss': 0.00098993, 'trn_curvatures_loss': 0.00344881, 'consistency losses/trn_steer_cost': 0.02504295, 'consistency losses/trn_te_loss': 19.37414184, 'aux losses/trn_pitch_loss': 0.19561958, 'aux losses/trn_yaw_loss': 0.3123827, 'consistency losses/trn_%_updates_w_torque_delta_loss': 0.9375, 'consistency losses/trn_torque_loss': 735.46290532, 'consistency losses/trn_torque_delta_loss': 15.85416115, 'logistical/max_param': 16.17539215, 'logistical/lr': 0.0006}\n",
      "{'logistical/obs_consumed_per_second': 235.390625, 'logistical/obs_generated_per_second': 111.7421875, 'logistical/data_consumption_ratio': 2.10622371, 'logistical/manual_train_pause': 0.0, 'trn_control_loss': 0.02154934, 'trn_headings_loss': 0.00095101, 'trn_curvatures_loss': 0.0032263, 'consistency losses/trn_steer_cost': 0.02457172, 'consistency losses/trn_te_loss': 19.90538858, 'aux losses/trn_pitch_loss': 0.27852869, 'aux losses/trn_yaw_loss': 0.34468794, 'consistency losses/trn_%_updates_w_torque_delta_loss': 0.9765625, 'consistency losses/trn_torque_loss': 914.94464719, 'consistency losses/trn_torque_delta_loss': 18.24436707, 'logistical/max_param': 16.16477585, 'logistical/lr': 0.0006}\n",
      "{'logistical/obs_consumed_per_second': 233.8515625, 'logistical/obs_generated_per_second': 104.7109375, 'logistical/data_consumption_ratio': 2.23338801, 'logistical/manual_train_pause': 0.0, 'trn_control_loss': 0.01833439, 'trn_headings_loss': 0.00090073, 'trn_curvatures_loss': 0.00298981, 'consistency losses/trn_steer_cost': 0.02282119, 'consistency losses/trn_te_loss': 19.84304927, 'aux losses/trn_pitch_loss': 0.21534967, 'aux losses/trn_yaw_loss': 0.31348133, 'consistency losses/trn_%_updates_w_torque_delta_loss': 0.9375, 'consistency losses/trn_torque_loss': 831.96738103, 'consistency losses/trn_torque_delta_loss': 15.05851002, 'logistical/max_param': 16.1743927, 'logistical/lr': 0.0006}\n",
      "{'logistical/obs_consumed_per_second': 236.28125, 'logistical/obs_generated_per_second': 104.671875, 'logistical/data_consumption_ratio': 2.25705376, 'logistical/manual_train_pause': 0.0, 'trn_control_loss': 0.01810288, 'trn_headings_loss': 0.00093774, 'trn_curvatures_loss': 0.00299254, 'consistency losses/trn_steer_cost': 0.0212177, 'consistency losses/trn_te_loss': 20.2596744, 'aux losses/trn_pitch_loss': 0.16138077, 'aux losses/trn_yaw_loss': 0.31868982, 'consistency losses/trn_%_updates_w_torque_delta_loss': 0.984375, 'consistency losses/trn_torque_loss': 862.68434185, 'consistency losses/trn_torque_delta_loss': 16.23749534, 'logistical/max_param': 16.17443275, 'logistical/lr': 0.0006}\n",
      "{'logistical/obs_consumed_per_second': 231.9140625, 'logistical/obs_generated_per_second': 106.8671875, 'logistical/data_consumption_ratio': 2.17445136, 'logistical/manual_train_pause': 0.0, 'trn_control_loss': 0.02064031, 'trn_headings_loss': 0.00093127, 'trn_curvatures_loss': 0.00323741, 'consistency losses/trn_steer_cost': 0.02157038, 'consistency losses/trn_te_loss': 20.50114875, 'aux losses/trn_pitch_loss': 0.22967529, 'aux losses/trn_yaw_loss': 0.34949589, 'consistency losses/trn_%_updates_w_torque_delta_loss': 0.96875, 'consistency losses/trn_torque_loss': 899.30368617, 'consistency losses/trn_torque_delta_loss': 17.52002111, 'logistical/max_param': 16.17630959, 'logistical/lr': 0.0006}\n"
     ]
    },
    {
     "name": "stdout",
     "output_type": "stream",
     "text": [
      "{'logistical/obs_consumed_per_second': 237.4921875, 'logistical/obs_generated_per_second': 105.0703125, 'logistical/data_consumption_ratio': 2.26459699, 'logistical/manual_train_pause': 0.0, 'trn_control_loss': 0.02028966, 'trn_headings_loss': 0.00102358, 'trn_curvatures_loss': 0.00333057, 'consistency losses/trn_steer_cost': 0.0219748, 'consistency losses/trn_te_loss': 20.39478891, 'aux losses/trn_pitch_loss': 0.19458342, 'aux losses/trn_yaw_loss': 0.33426094, 'consistency losses/trn_%_updates_w_torque_delta_loss': 0.9609375, 'consistency losses/trn_torque_loss': 840.40253884, 'consistency losses/trn_torque_delta_loss': 18.63662721, 'logistical/max_param': 16.1784153, 'logistical/lr': 0.0006}\n",
      "{'logistical/obs_consumed_per_second': 234.5625, 'logistical/obs_generated_per_second': 103.5, 'logistical/data_consumption_ratio': 2.26645332, 'logistical/manual_train_pause': 0.0, 'trn_control_loss': 0.01814634, 'trn_headings_loss': 0.00095909, 'trn_curvatures_loss': 0.00338158, 'consistency losses/trn_steer_cost': 0.02200824, 'consistency losses/trn_te_loss': 20.05239843, 'aux losses/trn_pitch_loss': 0.21417522, 'aux losses/trn_yaw_loss': 0.27421284, 'consistency losses/trn_%_updates_w_torque_delta_loss': 0.9609375, 'consistency losses/trn_torque_loss': 872.14610159, 'consistency losses/trn_torque_delta_loss': 18.51481832, 'logistical/max_param': 16.18333817, 'logistical/lr': 0.0006}\n",
      "{'logistical/obs_consumed_per_second': 236.0859375, 'logistical/obs_generated_per_second': 101.0390625, 'logistical/data_consumption_ratio': 2.34439642, 'logistical/manual_train_pause': 0.00070312, 'trn_control_loss': 0.0228368, 'trn_headings_loss': 0.00106961, 'trn_curvatures_loss': 0.00377767, 'consistency losses/trn_steer_cost': 0.02529484, 'consistency losses/trn_te_loss': 19.53020088, 'aux losses/trn_pitch_loss': 0.23777485, 'aux losses/trn_yaw_loss': 0.31919861, 'consistency losses/trn_%_updates_w_torque_delta_loss': 0.9453125, 'consistency losses/trn_torque_loss': 943.21372151, 'consistency losses/trn_torque_delta_loss': 18.45680741, 'logistical/max_param': 16.18799973, 'logistical/lr': 0.0006}\n",
      "{'logistical/obs_consumed_per_second': 239.7265625, 'logistical/obs_generated_per_second': 108.3359375, 'logistical/data_consumption_ratio': 2.21692096, 'logistical/manual_train_pause': 0.0, 'trn_control_loss': 0.02116883, 'trn_headings_loss': 0.00099117, 'trn_curvatures_loss': 0.00352018, 'consistency losses/trn_steer_cost': 0.02450395, 'consistency losses/trn_te_loss': 19.98767152, 'aux losses/trn_pitch_loss': 0.23963118, 'aux losses/trn_yaw_loss': 0.3295064, 'consistency losses/trn_%_updates_w_torque_delta_loss': 0.9453125, 'consistency losses/trn_torque_loss': 880.05564889, 'consistency losses/trn_torque_delta_loss': 17.80073445, 'logistical/max_param': 16.18052292, 'logistical/lr': 0.0006}\n",
      "{'logistical/obs_consumed_per_second': 154.0, 'logistical/obs_generated_per_second': 105.0, 'logistical/data_consumption_ratio': 1.46897555, 'logistical/manual_train_pause': 0.0}\n",
      "\n",
      "\n",
      " Eval...\n",
      "EPOCH 10\n",
      "\n",
      "{'trn_control_loss': 0.01716107, 'trn_headings_loss': 0.00090589, 'trn_curvatures_loss': 0.00284676, 'consistency losses/trn_steer_cost': 0.02318299, 'consistency losses/trn_te_loss': 20.1171788, 'aux losses/trn_pitch_loss': 0.19036531, 'aux losses/trn_yaw_loss': 0.2806778, 'consistency losses/trn_%_updates_w_torque_delta_loss': 0.9609375, 'consistency losses/trn_torque_loss': 764.6023165, 'consistency losses/trn_torque_delta_loss': 17.09978789, 'logistical/obs_consumed_per_second': 232.8976378, 'logistical/obs_generated_per_second': 104.17322835, 'logistical/data_consumption_ratio': 2.23915929, 'logistical/manual_train_pause': 0.0, 'logistical/max_param': 16.17924309, 'logistical/lr': 0.0003}\n",
      "{'logistical/obs_consumed_per_second': 238.0859375, 'logistical/obs_generated_per_second': 98.828125, 'logistical/data_consumption_ratio': 2.41753249, 'logistical/manual_train_pause': 0.00195312, 'trn_control_loss': 0.01908743, 'trn_headings_loss': 0.00087508, 'trn_curvatures_loss': 0.00303394, 'consistency losses/trn_steer_cost': 0.02505428, 'consistency losses/trn_te_loss': 19.74036559, 'aux losses/trn_pitch_loss': 0.20578098, 'aux losses/trn_yaw_loss': 0.30143142, 'consistency losses/trn_%_updates_w_torque_delta_loss': 0.9296875, 'consistency losses/trn_torque_loss': 846.3630918, 'consistency losses/trn_torque_delta_loss': 18.93978212, 'logistical/max_param': 16.17956924, 'logistical/lr': 0.0003}\n",
      "{'logistical/obs_consumed_per_second': 236.6640625, 'logistical/obs_generated_per_second': 100.3515625, 'logistical/data_consumption_ratio': 2.35722332, 'logistical/manual_train_pause': 0.0, 'trn_control_loss': 0.02152574, 'trn_headings_loss': 0.00098697, 'trn_curvatures_loss': 0.00314315, 'consistency losses/trn_steer_cost': 0.02485341, 'consistency losses/trn_te_loss': 19.85010506, 'aux losses/trn_pitch_loss': 0.21700525, 'aux losses/trn_yaw_loss': 0.32995319, 'consistency losses/trn_%_updates_w_torque_delta_loss': 0.9453125, 'consistency losses/trn_torque_loss': 881.4515968, 'consistency losses/trn_torque_delta_loss': 17.40971739, 'logistical/max_param': 16.18252373, 'logistical/lr': 0.0003}\n",
      "{'logistical/obs_consumed_per_second': 236.640625, 'logistical/obs_generated_per_second': 103.8828125, 'logistical/data_consumption_ratio': 2.27926082, 'logistical/manual_train_pause': 0.0, 'trn_control_loss': 0.01912034, 'trn_headings_loss': 0.00084367, 'trn_curvatures_loss': 0.0027701, 'consistency losses/trn_steer_cost': 0.02466631, 'consistency losses/trn_te_loss': 19.84918396, 'aux losses/trn_pitch_loss': 0.17698908, 'aux losses/trn_yaw_loss': 0.34765148, 'consistency losses/trn_%_updates_w_torque_delta_loss': 0.9375, 'consistency losses/trn_torque_loss': 787.1504775, 'consistency losses/trn_torque_delta_loss': 16.95763255, 'logistical/max_param': 16.17864418, 'logistical/lr': 0.0003}\n",
      "{'logistical/obs_consumed_per_second': 232.328125, 'logistical/obs_generated_per_second': 106.2109375, 'logistical/data_consumption_ratio': 2.18928001, 'logistical/manual_train_pause': 0.0, 'trn_control_loss': 0.01688015, 'trn_headings_loss': 0.00087142, 'trn_curvatures_loss': 0.0028668, 'consistency losses/trn_steer_cost': 0.02462059, 'consistency losses/trn_te_loss': 19.76550373, 'aux losses/trn_pitch_loss': 0.16584396, 'aux losses/trn_yaw_loss': 0.31265068, 'consistency losses/trn_%_updates_w_torque_delta_loss': 0.9375, 'consistency losses/trn_torque_loss': 817.03310323, 'consistency losses/trn_torque_delta_loss': 17.46894671, 'logistical/max_param': 16.18284988, 'logistical/lr': 0.0003}\n",
      "{'logistical/obs_consumed_per_second': 233.1328125, 'logistical/obs_generated_per_second': 111.3203125, 'logistical/data_consumption_ratio': 2.09331828, 'logistical/manual_train_pause': 0.0, 'trn_control_loss': 0.01727581, 'trn_headings_loss': 0.00084754, 'trn_curvatures_loss': 0.00276152, 'consistency losses/trn_steer_cost': 0.02537197, 'consistency losses/trn_te_loss': 20.01873253, 'aux losses/trn_pitch_loss': 0.19313812, 'aux losses/trn_yaw_loss': 0.27825594, 'consistency losses/trn_%_updates_w_torque_delta_loss': 0.9609375, 'consistency losses/trn_torque_loss': 894.95578206, 'consistency losses/trn_torque_delta_loss': 17.18360679, 'logistical/max_param': 16.18024445, 'logistical/lr': 0.0003}\n",
      "{'logistical/obs_consumed_per_second': 234.5703125, 'logistical/obs_generated_per_second': 100.8671875, 'logistical/data_consumption_ratio': 2.32678968, 'logistical/manual_train_pause': 0.00015625, 'trn_control_loss': 0.01688457, 'trn_headings_loss': 0.00080906, 'trn_curvatures_loss': 0.00237858, 'consistency losses/trn_steer_cost': 0.02230209, 'consistency losses/trn_te_loss': 19.62118648, 'aux losses/trn_pitch_loss': 0.18793392, 'aux losses/trn_yaw_loss': 0.24432516, 'consistency losses/trn_%_updates_w_torque_delta_loss': 0.9453125, 'consistency losses/trn_torque_loss': 811.42186165, 'consistency losses/trn_torque_delta_loss': 16.68139134, 'logistical/max_param': 16.18287849, 'logistical/lr': 0.0003}\n",
      "{'logistical/obs_consumed_per_second': 233.8359375, 'logistical/obs_generated_per_second': 102.1484375, 'logistical/data_consumption_ratio': 2.29680858, 'logistical/manual_train_pause': 7.812e-05, 'trn_control_loss': 0.01875257, 'trn_headings_loss': 0.00086839, 'trn_curvatures_loss': 0.00293119, 'consistency losses/trn_steer_cost': 0.02319634, 'consistency losses/trn_te_loss': 19.45868428, 'aux losses/trn_pitch_loss': 0.18516064, 'aux losses/trn_yaw_loss': 0.31227684, 'consistency losses/trn_%_updates_w_torque_delta_loss': 0.921875, 'consistency losses/trn_torque_loss': 836.966681, 'consistency losses/trn_torque_delta_loss': 17.68811038, 'logistical/max_param': 16.18346214, 'logistical/lr': 0.0003}\n"
     ]
    },
    {
     "name": "stdout",
     "output_type": "stream",
     "text": [
      "{'logistical/obs_consumed_per_second': 234.859375, 'logistical/obs_generated_per_second': 114.65625, 'logistical/data_consumption_ratio': 2.04957652, 'logistical/manual_train_pause': 0.0, 'trn_control_loss': 0.01839375, 'trn_headings_loss': 0.00086199, 'trn_curvatures_loss': 0.00302657, 'consistency losses/trn_steer_cost': 0.02477521, 'consistency losses/trn_te_loss': 19.93102764, 'aux losses/trn_pitch_loss': 0.17376041, 'aux losses/trn_yaw_loss': 0.2980957, 'consistency losses/trn_%_updates_w_torque_delta_loss': 0.8828125, 'consistency losses/trn_torque_loss': 772.66907054, 'consistency losses/trn_torque_delta_loss': 17.37707964, 'logistical/max_param': 16.18058014, 'logistical/lr': 0.0003}\n",
      "{'logistical/obs_consumed_per_second': 231.828125, 'logistical/obs_generated_per_second': 107.953125, 'logistical/data_consumption_ratio': 2.15254919, 'logistical/manual_train_pause': 0.0, 'trn_control_loss': 0.01842707, 'trn_headings_loss': 0.00089699, 'trn_curvatures_loss': 0.00314975, 'consistency losses/trn_steer_cost': 0.02659261, 'consistency losses/trn_te_loss': 19.22076221, 'aux losses/trn_pitch_loss': 0.18873262, 'aux losses/trn_yaw_loss': 0.32005119, 'consistency losses/trn_%_updates_w_torque_delta_loss': 0.953125, 'consistency losses/trn_torque_loss': 763.25187415, 'consistency losses/trn_torque_delta_loss': 15.87954871, 'logistical/max_param': 16.18255043, 'logistical/lr': 0.0003}\n",
      "{'logistical/obs_consumed_per_second': 146.0, 'logistical/obs_generated_per_second': 104.0, 'logistical/data_consumption_ratio': 1.40485786, 'logistical/manual_train_pause': 0.0}\n",
      "\n",
      "\n",
      " Eval...\n",
      "EPOCH 11\n",
      "\n",
      "{'trn_control_loss': 0.01773703, 'trn_headings_loss': 0.00090614, 'trn_curvatures_loss': 0.00345591, 'consistency losses/trn_steer_cost': 0.02868986, 'consistency losses/trn_te_loss': 19.22480841, 'aux losses/trn_pitch_loss': 0.19392061, 'aux losses/trn_yaw_loss': 0.29764366, 'consistency losses/trn_%_updates_w_torque_delta_loss': 0.9375, 'consistency losses/trn_torque_loss': 768.04776108, 'consistency losses/trn_torque_delta_loss': 14.50544217, 'logistical/obs_consumed_per_second': 235.22047244, 'logistical/obs_generated_per_second': 101.18897638, 'logistical/data_consumption_ratio': 2.32658901, 'logistical/manual_train_pause': 0.00015748, 'logistical/max_param': 16.17932129, 'logistical/lr': 0.0003}\n",
      "{'logistical/obs_consumed_per_second': 232.3984375, 'logistical/obs_generated_per_second': 102.375, 'logistical/data_consumption_ratio': 2.27421444, 'logistical/manual_train_pause': 0.0, 'trn_control_loss': 0.01776555, 'trn_headings_loss': 0.00086982, 'trn_curvatures_loss': 0.00273252, 'consistency losses/trn_steer_cost': 0.02421111, 'consistency losses/trn_te_loss': 19.64166409, 'aux losses/trn_pitch_loss': 0.18517256, 'aux losses/trn_yaw_loss': 0.2836566, 'consistency losses/trn_%_updates_w_torque_delta_loss': 0.9296875, 'consistency losses/trn_torque_loss': 755.74138218, 'consistency losses/trn_torque_delta_loss': 13.59972717, 'logistical/max_param': 16.17572403, 'logistical/lr': 0.0003}\n",
      "{'logistical/obs_consumed_per_second': 235.5, 'logistical/obs_generated_per_second': 108.96875, 'logistical/data_consumption_ratio': 2.16169481, 'logistical/manual_train_pause': 0.0, 'trn_control_loss': 0.01882195, 'trn_headings_loss': 0.00084328, 'trn_curvatures_loss': 0.00284538, 'consistency losses/trn_steer_cost': 0.02565551, 'consistency losses/trn_te_loss': 19.7737857, 'aux losses/trn_pitch_loss': 0.19788885, 'aux losses/trn_yaw_loss': 0.31544399, 'consistency losses/trn_%_updates_w_torque_delta_loss': 0.9453125, 'consistency losses/trn_torque_loss': 840.2428112, 'consistency losses/trn_torque_delta_loss': 16.6826265, 'logistical/max_param': 16.17646599, 'logistical/lr': 0.0003}\n",
      "{'logistical/obs_consumed_per_second': 231.9609375, 'logistical/obs_generated_per_second': 108.265625, 'logistical/data_consumption_ratio': 2.13903771, 'logistical/manual_train_pause': 0.0, 'trn_control_loss': 0.01870394, 'trn_headings_loss': 0.00090424, 'trn_curvatures_loss': 0.0031854, 'consistency losses/trn_steer_cost': 0.02495247, 'consistency losses/trn_te_loss': 19.99755938, 'aux losses/trn_pitch_loss': 0.19093418, 'aux losses/trn_yaw_loss': 0.29965782, 'consistency losses/trn_%_updates_w_torque_delta_loss': 0.9609375, 'consistency losses/trn_torque_loss': 873.69023287, 'consistency losses/trn_torque_delta_loss': 18.24619822, 'logistical/max_param': 16.17595291, 'logistical/lr': 0.0003}\n",
      "{'logistical/obs_consumed_per_second': 238.140625, 'logistical/obs_generated_per_second': 112.7109375, 'logistical/data_consumption_ratio': 2.11509987, 'logistical/manual_train_pause': 0.0, 'trn_control_loss': 0.01877719, 'trn_headings_loss': 0.00088701, 'trn_curvatures_loss': 0.00303116, 'consistency losses/trn_steer_cost': 0.02557862, 'consistency losses/trn_te_loss': 19.58819976, 'aux losses/trn_pitch_loss': 0.19383383, 'aux losses/trn_yaw_loss': 0.30735016, 'consistency losses/trn_%_updates_w_torque_delta_loss': 0.9765625, 'consistency losses/trn_torque_loss': 896.54499629, 'consistency losses/trn_torque_delta_loss': 18.11097053, 'logistical/max_param': 16.18115997, 'logistical/lr': 0.0003}\n",
      "{'logistical/obs_consumed_per_second': 231.0, 'logistical/obs_generated_per_second': 104.4609375, 'logistical/data_consumption_ratio': 2.21445232, 'logistical/manual_train_pause': 0.0, 'trn_control_loss': 0.02087337, 'trn_headings_loss': 0.00094861, 'trn_curvatures_loss': 0.00332247, 'consistency losses/trn_steer_cost': 0.0264464, 'consistency losses/trn_te_loss': 19.56103592, 'aux losses/trn_pitch_loss': 0.20242977, 'aux losses/trn_yaw_loss': 0.30281115, 'consistency losses/trn_%_updates_w_torque_delta_loss': 0.96875, 'consistency losses/trn_torque_loss': 910.21263298, 'consistency losses/trn_torque_delta_loss': 19.43950951, 'logistical/max_param': 16.18128204, 'logistical/lr': 0.0003}\n",
      "{'logistical/obs_consumed_per_second': 226.828125, 'logistical/obs_generated_per_second': 110.4609375, 'logistical/data_consumption_ratio': 2.05578235, 'logistical/manual_train_pause': 0.0, 'trn_control_loss': 0.02536917, 'trn_headings_loss': 0.00102831, 'trn_curvatures_loss': 0.00342619, 'consistency losses/trn_steer_cost': 0.02813077, 'consistency losses/trn_te_loss': 19.78664829, 'aux losses/trn_pitch_loss': 0.20205641, 'aux losses/trn_yaw_loss': 0.2447691, 'consistency losses/trn_%_updates_w_torque_delta_loss': 0.9296875, 'consistency losses/trn_torque_loss': 932.63230395, 'consistency losses/trn_torque_delta_loss': 15.8511825, 'logistical/max_param': 16.18088341, 'logistical/lr': 0.0003}\n",
      "{'logistical/obs_consumed_per_second': 239.1953125, 'logistical/obs_generated_per_second': 103.5546875, 'logistical/data_consumption_ratio': 2.31489097, 'logistical/manual_train_pause': 0.00015625, 'trn_control_loss': 0.01778656, 'trn_headings_loss': 0.00083842, 'trn_curvatures_loss': 0.00287296, 'consistency losses/trn_steer_cost': 0.02531159, 'consistency losses/trn_te_loss': 19.74794628, 'aux losses/trn_pitch_loss': 0.18591118, 'aux losses/trn_yaw_loss': 0.30964184, 'consistency losses/trn_%_updates_w_torque_delta_loss': 0.9453125, 'consistency losses/trn_torque_loss': 807.35016614, 'consistency losses/trn_torque_delta_loss': 16.87568895, 'logistical/max_param': 16.18106461, 'logistical/lr': 0.0003}\n",
      "{'logistical/obs_consumed_per_second': 237.0625, 'logistical/obs_generated_per_second': 97.734375, 'logistical/data_consumption_ratio': 2.42854062, 'logistical/manual_train_pause': 0.00070312, 'trn_control_loss': 0.01812536, 'trn_headings_loss': 0.00086094, 'trn_curvatures_loss': 0.00288742, 'consistency losses/trn_steer_cost': 0.02370983, 'consistency losses/trn_te_loss': 19.74422666, 'aux losses/trn_pitch_loss': 0.18831348, 'aux losses/trn_yaw_loss': 0.2853179, 'consistency losses/trn_%_updates_w_torque_delta_loss': 0.9375, 'consistency losses/trn_torque_loss': 694.42498776, 'consistency losses/trn_torque_delta_loss': 14.72087616, 'logistical/max_param': 16.17669106, 'logistical/lr': 0.0003}\n",
      "{'logistical/obs_consumed_per_second': 230.0546875, 'logistical/obs_generated_per_second': 103.6015625, 'logistical/data_consumption_ratio': 2.22736336, 'logistical/manual_train_pause': 7.812e-05, 'trn_control_loss': 0.01913083, 'trn_headings_loss': 0.0008515, 'trn_curvatures_loss': 0.00304739, 'consistency losses/trn_steer_cost': 0.02771509, 'consistency losses/trn_te_loss': 19.42116895, 'aux losses/trn_pitch_loss': 0.16694212, 'aux losses/trn_yaw_loss': 0.30631542, 'consistency losses/trn_%_updates_w_torque_delta_loss': 0.9296875, 'consistency losses/trn_torque_loss': 854.94027352, 'consistency losses/trn_torque_delta_loss': 17.42965598, 'logistical/max_param': 16.17728233, 'logistical/lr': 0.0003}\n"
     ]
    },
    {
     "name": "stdout",
     "output_type": "stream",
     "text": [
      "{'logistical/obs_consumed_per_second': 180.0, 'logistical/obs_generated_per_second': 109.0, 'logistical/data_consumption_ratio': 1.65908756, 'logistical/manual_train_pause': 0.0}\n",
      "\n",
      "\n",
      " Eval...\n",
      "EPOCH 12\n",
      "\n",
      "{'trn_control_loss': 0.0225752, 'trn_headings_loss': 0.00103416, 'trn_curvatures_loss': 0.0039788, 'consistency losses/trn_steer_cost': 0.03171206, 'consistency losses/trn_te_loss': 20.02620788, 'aux losses/trn_pitch_loss': 0.19633532, 'aux losses/trn_yaw_loss': 0.29099321, 'consistency losses/trn_%_updates_w_torque_delta_loss': 0.9765625, 'consistency losses/trn_torque_loss': 993.38905239, 'consistency losses/trn_torque_delta_loss': 19.07351815, 'logistical/obs_consumed_per_second': 240.99212598, 'logistical/obs_generated_per_second': 105.37007874, 'logistical/data_consumption_ratio': 2.28810854, 'logistical/manual_train_pause': 0.0, 'logistical/max_param': 16.17391205, 'logistical/lr': 0.0003}\n",
      "{'logistical/obs_consumed_per_second': 236.890625, 'logistical/obs_generated_per_second': 103.921875, 'logistical/data_consumption_ratio': 2.28127139, 'logistical/manual_train_pause': 0.0, 'trn_control_loss': 0.01961774, 'trn_headings_loss': 0.00090535, 'trn_curvatures_loss': 0.00345705, 'consistency losses/trn_steer_cost': 0.02564472, 'consistency losses/trn_te_loss': 19.47463888, 'aux losses/trn_pitch_loss': 0.18952942, 'aux losses/trn_yaw_loss': 0.35756636, 'consistency losses/trn_%_updates_w_torque_delta_loss': 0.953125, 'consistency losses/trn_torque_loss': 846.29633901, 'consistency losses/trn_torque_delta_loss': 19.55080274, 'logistical/max_param': 16.17168045, 'logistical/lr': 0.0003}\n",
      "{'logistical/obs_consumed_per_second': 235.3828125, 'logistical/obs_generated_per_second': 104.0546875, 'logistical/data_consumption_ratio': 2.26399736, 'logistical/manual_train_pause': 0.0, 'trn_control_loss': 0.01720196, 'trn_headings_loss': 0.0008014, 'trn_curvatures_loss': 0.00267795, 'consistency losses/trn_steer_cost': 0.0248307, 'consistency losses/trn_te_loss': 20.05874343, 'aux losses/trn_pitch_loss': 0.20505476, 'aux losses/trn_yaw_loss': 0.28000283, 'consistency losses/trn_%_updates_w_torque_delta_loss': 0.9375, 'consistency losses/trn_torque_loss': 851.18321183, 'consistency losses/trn_torque_delta_loss': 18.14124478, 'logistical/max_param': 16.1771946, 'logistical/lr': 0.0003}\n",
      "{'logistical/obs_consumed_per_second': 234.40625, 'logistical/obs_generated_per_second': 100.6484375, 'logistical/data_consumption_ratio': 2.33962718, 'logistical/manual_train_pause': 0.00203125, 'trn_control_loss': 0.01774871, 'trn_headings_loss': 0.00090276, 'trn_curvatures_loss': 0.00338531, 'consistency losses/trn_steer_cost': 0.02731097, 'consistency losses/trn_te_loss': 19.27485357, 'aux losses/trn_pitch_loss': 0.18405437, 'aux losses/trn_yaw_loss': 0.30985212, 'consistency losses/trn_%_updates_w_torque_delta_loss': 0.90625, 'consistency losses/trn_torque_loss': 729.91566575, 'consistency losses/trn_torque_delta_loss': 16.35236489, 'logistical/max_param': 16.17547035, 'logistical/lr': 0.0003}\n",
      "{'logistical/obs_consumed_per_second': 232.2265625, 'logistical/obs_generated_per_second': 100.828125, 'logistical/data_consumption_ratio': 2.30764655, 'logistical/manual_train_pause': 0.0003125, 'trn_control_loss': 0.02005732, 'trn_headings_loss': 0.00093821, 'trn_curvatures_loss': 0.00316901, 'consistency losses/trn_steer_cost': 0.02868849, 'consistency losses/trn_te_loss': 19.94034748, 'aux losses/trn_pitch_loss': 0.17681074, 'aux losses/trn_yaw_loss': 0.31905174, 'consistency losses/trn_%_updates_w_torque_delta_loss': 0.96875, 'consistency losses/trn_torque_loss': 863.41363674, 'consistency losses/trn_torque_delta_loss': 17.10714885, 'logistical/max_param': 16.17585564, 'logistical/lr': 0.0003}\n",
      "{'logistical/obs_consumed_per_second': 233.28125, 'logistical/obs_generated_per_second': 107.0234375, 'logistical/data_consumption_ratio': 2.18127005, 'logistical/manual_train_pause': 0.0, 'trn_control_loss': 0.0156633, 'trn_headings_loss': 0.00080639, 'trn_curvatures_loss': 0.00262317, 'consistency losses/trn_steer_cost': 0.02206975, 'consistency losses/trn_te_loss': 19.73343244, 'aux losses/trn_pitch_loss': 0.16329765, 'aux losses/trn_yaw_loss': 0.30063868, 'consistency losses/trn_%_updates_w_torque_delta_loss': 0.921875, 'consistency losses/trn_torque_loss': 789.58936627, 'consistency losses/trn_torque_delta_loss': 16.94628583, 'logistical/max_param': 16.17525101, 'logistical/lr': 0.0003}\n",
      "{'logistical/obs_consumed_per_second': 238.296875, 'logistical/obs_generated_per_second': 96.7109375, 'logistical/data_consumption_ratio': 2.46556305, 'logistical/manual_train_pause': 0.00179688, 'trn_control_loss': 0.01558709, 'trn_headings_loss': 0.00083517, 'trn_curvatures_loss': 0.00287852, 'consistency losses/trn_steer_cost': 0.02377224, 'consistency losses/trn_te_loss': 20.14653087, 'aux losses/trn_pitch_loss': 0.17393875, 'aux losses/trn_yaw_loss': 0.27974749, 'consistency losses/trn_%_updates_w_torque_delta_loss': 0.9765625, 'consistency losses/trn_torque_loss': 834.09370524, 'consistency losses/trn_torque_delta_loss': 18.25415694, 'logistical/max_param': 16.17383766, 'logistical/lr': 0.0003}\n",
      "{'logistical/obs_consumed_per_second': 233.5390625, 'logistical/obs_generated_per_second': 103.3359375, 'logistical/data_consumption_ratio': 2.26262973, 'logistical/manual_train_pause': 7.812e-05, 'trn_control_loss': 0.01558128, 'trn_headings_loss': 0.00080438, 'trn_curvatures_loss': 0.00294542, 'consistency losses/trn_steer_cost': 0.02504951, 'consistency losses/trn_te_loss': 20.02321701, 'aux losses/trn_pitch_loss': 0.16826534, 'aux losses/trn_yaw_loss': 0.25753593, 'consistency losses/trn_%_updates_w_torque_delta_loss': 0.9609375, 'consistency losses/trn_torque_loss': 942.95922649, 'consistency losses/trn_torque_delta_loss': 18.43632432, 'logistical/max_param': 16.18049431, 'logistical/lr': 0.0003}\n",
      "{'logistical/obs_consumed_per_second': 235.7734375, 'logistical/obs_generated_per_second': 99.1484375, 'logistical/data_consumption_ratio': 2.3818703, 'logistical/manual_train_pause': 0.00046875, 'trn_control_loss': 0.01811939, 'trn_headings_loss': 0.00084676, 'trn_curvatures_loss': 0.00312305, 'consistency losses/trn_steer_cost': 0.0254091, 'consistency losses/trn_te_loss': 19.38203235, 'aux losses/trn_pitch_loss': 0.18180084, 'aux losses/trn_yaw_loss': 0.30682707, 'consistency losses/trn_%_updates_w_torque_delta_loss': 0.9609375, 'consistency losses/trn_torque_loss': 829.12177473, 'consistency losses/trn_torque_delta_loss': 18.72038417, 'logistical/max_param': 16.17821312, 'logistical/lr': 0.0003}\n",
      "{'logistical/obs_consumed_per_second': 233.5625, 'logistical/obs_generated_per_second': 102.8359375, 'logistical/data_consumption_ratio': 2.27233588, 'logistical/manual_train_pause': 7.812e-05, 'trn_control_loss': 0.01475605, 'trn_headings_loss': 0.00076081, 'trn_curvatures_loss': 0.00262393, 'consistency losses/trn_steer_cost': 0.02240223, 'consistency losses/trn_te_loss': 19.83452715, 'aux losses/trn_pitch_loss': 0.18452072, 'aux losses/trn_yaw_loss': 0.24427176, 'consistency losses/trn_%_updates_w_torque_delta_loss': 0.9140625, 'consistency losses/trn_torque_loss': 744.84829453, 'consistency losses/trn_torque_delta_loss': 16.46616757, 'logistical/max_param': 16.17971802, 'logistical/lr': 0.0003}\n",
      "{'logistical/obs_consumed_per_second': 141.0, 'logistical/obs_generated_per_second': 95.0, 'logistical/data_consumption_ratio': 1.48481002, 'logistical/manual_train_pause': 0.0}\n",
      "\n",
      "\n",
      " Eval...\n",
      "EPOCH 13\n",
      "\n",
      "{'trn_control_loss': 0.01640761, 'trn_headings_loss': 0.00080816, 'trn_curvatures_loss': 0.00274786, 'consistency losses/trn_steer_cost': 0.02295464, 'consistency losses/trn_te_loss': 20.25627822, 'aux losses/trn_pitch_loss': 0.20621347, 'aux losses/trn_yaw_loss': 0.26655436, 'consistency losses/trn_%_updates_w_torque_delta_loss': 0.9140625, 'consistency losses/trn_torque_loss': 825.07426721, 'consistency losses/trn_torque_delta_loss': 19.09732963, 'logistical/obs_consumed_per_second': 232.82677165, 'logistical/obs_generated_per_second': 106.15748031, 'logistical/data_consumption_ratio': 2.20821592, 'logistical/manual_train_pause': 0.00015748, 'logistical/max_param': 16.18222237, 'logistical/lr': 0.0003}\n",
      "{'logistical/obs_consumed_per_second': 231.671875, 'logistical/obs_generated_per_second': 106.59375, 'logistical/data_consumption_ratio': 2.19086544, 'logistical/manual_train_pause': 0.00039062, 'trn_control_loss': 0.01885974, 'trn_headings_loss': 0.00088123, 'trn_curvatures_loss': 0.00316573, 'consistency losses/trn_steer_cost': 0.02813059, 'consistency losses/trn_te_loss': 20.03071216, 'aux losses/trn_pitch_loss': 0.20200348, 'aux losses/trn_yaw_loss': 0.2590735, 'consistency losses/trn_%_updates_w_torque_delta_loss': 0.9375, 'consistency losses/trn_torque_loss': 963.56423792, 'consistency losses/trn_torque_delta_loss': 20.07869246, 'logistical/max_param': 16.18590546, 'logistical/lr': 0.0003}\n"
     ]
    },
    {
     "name": "stdout",
     "output_type": "stream",
     "text": [
      "{'logistical/obs_consumed_per_second': 239.1875, 'logistical/obs_generated_per_second': 103.3515625, 'logistical/data_consumption_ratio': 2.31566114, 'logistical/manual_train_pause': 7.812e-05, 'trn_control_loss': 0.01808935, 'trn_headings_loss': 0.00087563, 'trn_curvatures_loss': 0.00304428, 'consistency losses/trn_steer_cost': 0.0271042, 'consistency losses/trn_te_loss': 19.66216104, 'aux losses/trn_pitch_loss': 0.19162607, 'aux losses/trn_yaw_loss': 0.26142502, 'consistency losses/trn_%_updates_w_torque_delta_loss': 0.9375, 'consistency losses/trn_torque_loss': 835.71714956, 'consistency losses/trn_torque_delta_loss': 17.92964612, 'logistical/max_param': 16.18158531, 'logistical/lr': 0.0003}\n",
      "{'logistical/obs_consumed_per_second': 238.109375, 'logistical/obs_generated_per_second': 98.0859375, 'logistical/data_consumption_ratio': 2.43176062, 'logistical/manual_train_pause': 0.00039062, 'trn_control_loss': 0.01747543, 'trn_headings_loss': 0.00088833, 'trn_curvatures_loss': 0.00320519, 'consistency losses/trn_steer_cost': 0.02625412, 'consistency losses/trn_te_loss': 19.97119886, 'aux losses/trn_pitch_loss': 0.18442273, 'aux losses/trn_yaw_loss': 0.29967952, 'consistency losses/trn_%_updates_w_torque_delta_loss': 0.9453125, 'consistency losses/trn_torque_loss': 861.2794205, 'consistency losses/trn_torque_delta_loss': 18.35746224, 'logistical/max_param': 16.18928719, 'logistical/lr': 0.0003}\n",
      "{'logistical/obs_consumed_per_second': 235.5625, 'logistical/obs_generated_per_second': 109.953125, 'logistical/data_consumption_ratio': 2.14629467, 'logistical/manual_train_pause': 0.0, 'trn_control_loss': 0.0164901, 'trn_headings_loss': 0.00081886, 'trn_curvatures_loss': 0.00325866, 'consistency losses/trn_steer_cost': 0.02685022, 'consistency losses/trn_te_loss': 19.54404077, 'aux losses/trn_pitch_loss': 0.19326162, 'aux losses/trn_yaw_loss': 0.27085018, 'consistency losses/trn_%_updates_w_torque_delta_loss': 0.9453125, 'consistency losses/trn_torque_loss': 775.09575419, 'consistency losses/trn_torque_delta_loss': 15.83924663, 'logistical/max_param': 16.19004822, 'logistical/lr': 0.0003}\n",
      "{'logistical/obs_consumed_per_second': 235.90625, 'logistical/obs_generated_per_second': 105.1640625, 'logistical/data_consumption_ratio': 2.24181072, 'logistical/manual_train_pause': 0.0, 'trn_control_loss': 0.01669306, 'trn_headings_loss': 0.00083821, 'trn_curvatures_loss': 0.00302318, 'consistency losses/trn_steer_cost': 0.02591044, 'consistency losses/trn_te_loss': 19.80703145, 'aux losses/trn_pitch_loss': 0.1804204, 'aux losses/trn_yaw_loss': 0.25981355, 'consistency losses/trn_%_updates_w_torque_delta_loss': 0.953125, 'consistency losses/trn_torque_loss': 886.63850552, 'consistency losses/trn_torque_delta_loss': 16.80236226, 'logistical/max_param': 16.18930054, 'logistical/lr': 0.0003}\n",
      "{'logistical/obs_consumed_per_second': 239.1796875, 'logistical/obs_generated_per_second': 99.3515625, 'logistical/data_consumption_ratio': 2.41302852, 'logistical/manual_train_pause': 0.00125, 'trn_control_loss': 0.01731193, 'trn_headings_loss': 0.00086099, 'trn_curvatures_loss': 0.00312898, 'consistency losses/trn_steer_cost': 0.02714807, 'consistency losses/trn_te_loss': 19.53604373, 'aux losses/trn_pitch_loss': 0.16549206, 'aux losses/trn_yaw_loss': 0.25509167, 'consistency losses/trn_%_updates_w_torque_delta_loss': 0.9609375, 'consistency losses/trn_torque_loss': 845.75264859, 'consistency losses/trn_torque_delta_loss': 16.28589714, 'logistical/max_param': 16.18657303, 'logistical/lr': 0.0003}\n",
      "{'logistical/obs_consumed_per_second': 235.0, 'logistical/obs_generated_per_second': 101.2578125, 'logistical/data_consumption_ratio': 2.3253197, 'logistical/manual_train_pause': 0.0, 'trn_control_loss': 0.01603949, 'trn_headings_loss': 0.00087459, 'trn_curvatures_loss': 0.00378857, 'consistency losses/trn_steer_cost': 0.02533561, 'consistency losses/trn_te_loss': 20.20931175, 'aux losses/trn_pitch_loss': 0.16582894, 'aux losses/trn_yaw_loss': 0.28114462, 'consistency losses/trn_%_updates_w_torque_delta_loss': 0.9453125, 'consistency losses/trn_torque_loss': 1000.14266369, 'consistency losses/trn_torque_delta_loss': 20.71730593, 'logistical/max_param': 16.18761063, 'logistical/lr': 0.0003}\n",
      "{'logistical/obs_consumed_per_second': 229.59375, 'logistical/obs_generated_per_second': 104.0859375, 'logistical/data_consumption_ratio': 2.20718953, 'logistical/manual_train_pause': 0.0, 'trn_control_loss': 0.01821846, 'trn_headings_loss': 0.00090539, 'trn_curvatures_loss': 0.00307104, 'consistency losses/trn_steer_cost': 0.0267719, 'consistency losses/trn_te_loss': 19.1796972, 'aux losses/trn_pitch_loss': 0.18021059, 'aux losses/trn_yaw_loss': 0.28342056, 'consistency losses/trn_%_updates_w_torque_delta_loss': 0.953125, 'consistency losses/trn_torque_loss': 878.50925397, 'consistency losses/trn_torque_delta_loss': 18.46802439, 'logistical/max_param': 16.19209099, 'logistical/lr': 0.0003}\n",
      "{'logistical/obs_consumed_per_second': 231.75, 'logistical/obs_generated_per_second': 105.9375, 'logistical/data_consumption_ratio': 2.19032705, 'logistical/manual_train_pause': 0.0, 'trn_control_loss': 0.01621985, 'trn_headings_loss': 0.00079425, 'trn_curvatures_loss': 0.00277194, 'consistency losses/trn_steer_cost': 0.02487814, 'consistency losses/trn_te_loss': 19.49590312, 'aux losses/trn_pitch_loss': 0.18153691, 'aux losses/trn_yaw_loss': 0.28547478, 'consistency losses/trn_%_updates_w_torque_delta_loss': 0.921875, 'consistency losses/trn_torque_loss': 767.02876243, 'consistency losses/trn_torque_delta_loss': 15.58655754, 'logistical/max_param': 16.1928978, 'logistical/lr': 0.0003}\n",
      "{'logistical/obs_consumed_per_second': 154.0, 'logistical/obs_generated_per_second': 117.0, 'logistical/data_consumption_ratio': 1.31384429, 'logistical/manual_train_pause': 0.0}\n",
      "\n",
      "\n",
      " Eval...\n",
      "EPOCH 14\n",
      "\n",
      "{'trn_control_loss': 0.01593095, 'trn_headings_loss': 0.00081719, 'trn_curvatures_loss': 0.00278458, 'consistency losses/trn_steer_cost': 0.02725971, 'consistency losses/trn_te_loss': 19.31682508, 'aux losses/trn_pitch_loss': 0.16977835, 'aux losses/trn_yaw_loss': 0.24924827, 'consistency losses/trn_%_updates_w_torque_delta_loss': 0.9765625, 'consistency losses/trn_torque_loss': 909.32187116, 'consistency losses/trn_torque_delta_loss': 16.91944576, 'logistical/obs_consumed_per_second': 240.92913386, 'logistical/obs_generated_per_second': 107.58267717, 'logistical/data_consumption_ratio': 2.25099946, 'logistical/manual_train_pause': 0.0003937, 'logistical/max_param': 16.19409561, 'logistical/lr': 0.0003}\n",
      "{'logistical/obs_consumed_per_second': 230.1328125, 'logistical/obs_generated_per_second': 106.328125, 'logistical/data_consumption_ratio': 2.16852648, 'logistical/manual_train_pause': 7.812e-05, 'trn_control_loss': 0.01729888, 'trn_headings_loss': 0.00084515, 'trn_curvatures_loss': 0.00287487, 'consistency losses/trn_steer_cost': 0.02591407, 'consistency losses/trn_te_loss': 19.48586985, 'aux losses/trn_pitch_loss': 0.19548321, 'aux losses/trn_yaw_loss': 0.22982359, 'consistency losses/trn_%_updates_w_torque_delta_loss': 0.9375, 'consistency losses/trn_torque_loss': 783.0085457, 'consistency losses/trn_torque_delta_loss': 14.93784658, 'logistical/max_param': 16.1913681, 'logistical/lr': 0.0003}\n",
      "{'logistical/obs_consumed_per_second': 234.0078125, 'logistical/obs_generated_per_second': 102.15625, 'logistical/data_consumption_ratio': 2.29202808, 'logistical/manual_train_pause': 0.0, 'trn_control_loss': 0.01849592, 'trn_headings_loss': 0.0009034, 'trn_curvatures_loss': 0.00314914, 'consistency losses/trn_steer_cost': 0.02766973, 'consistency losses/trn_te_loss': 18.68277526, 'aux losses/trn_pitch_loss': 0.1719923, 'aux losses/trn_yaw_loss': 0.27692699, 'consistency losses/trn_%_updates_w_torque_delta_loss': 0.90625, 'consistency losses/trn_torque_loss': 672.75745815, 'consistency losses/trn_torque_delta_loss': 14.94112086, 'logistical/max_param': 16.19630432, 'logistical/lr': 0.0003}\n",
      "{'logistical/obs_consumed_per_second': 235.8203125, 'logistical/obs_generated_per_second': 100.03125, 'logistical/data_consumption_ratio': 2.3537981, 'logistical/manual_train_pause': 7.812e-05, 'trn_control_loss': 0.01542658, 'trn_headings_loss': 0.00077985, 'trn_curvatures_loss': 0.00263254, 'consistency losses/trn_steer_cost': 0.02315778, 'consistency losses/trn_te_loss': 19.76820058, 'aux losses/trn_pitch_loss': 0.17950034, 'aux losses/trn_yaw_loss': 0.25288916, 'consistency losses/trn_%_updates_w_torque_delta_loss': 0.890625, 'consistency losses/trn_torque_loss': 814.97988346, 'consistency losses/trn_torque_delta_loss': 21.00841322, 'logistical/max_param': 16.19653893, 'logistical/lr': 0.0003}\n"
     ]
    },
    {
     "name": "stdout",
     "output_type": "stream",
     "text": [
      "{'logistical/obs_consumed_per_second': 240.1171875, 'logistical/obs_generated_per_second': 102.0, 'logistical/data_consumption_ratio': 2.35926703, 'logistical/manual_train_pause': 7.812e-05, 'trn_control_loss': 0.01531738, 'trn_headings_loss': 0.0007746, 'trn_curvatures_loss': 0.0026641, 'consistency losses/trn_steer_cost': 0.02356392, 'consistency losses/trn_te_loss': 19.65313751, 'aux losses/trn_pitch_loss': 0.206532, 'aux losses/trn_yaw_loss': 0.27466488, 'consistency losses/trn_%_updates_w_torque_delta_loss': 0.9453125, 'consistency losses/trn_torque_loss': 678.14254209, 'consistency losses/trn_torque_delta_loss': 15.56313547, 'logistical/max_param': 16.19891548, 'logistical/lr': 0.0003}\n",
      "{'logistical/obs_consumed_per_second': 235.4375, 'logistical/obs_generated_per_second': 107.5078125, 'logistical/data_consumption_ratio': 2.19208016, 'logistical/manual_train_pause': 0.0, 'trn_control_loss': 0.01377273, 'trn_headings_loss': 0.00072041, 'trn_curvatures_loss': 0.0023564, 'consistency losses/trn_steer_cost': 0.02315736, 'consistency losses/trn_te_loss': 19.31475076, 'aux losses/trn_pitch_loss': 0.17734241, 'aux losses/trn_yaw_loss': 0.27696371, 'consistency losses/trn_%_updates_w_torque_delta_loss': 0.953125, 'consistency losses/trn_torque_loss': 789.34354714, 'consistency losses/trn_torque_delta_loss': 15.25276221, 'logistical/max_param': 16.20687675, 'logistical/lr': 0.0003}\n",
      "{'logistical/obs_consumed_per_second': 233.2734375, 'logistical/obs_generated_per_second': 105.1484375, 'logistical/data_consumption_ratio': 2.22172086, 'logistical/manual_train_pause': 0.0, 'trn_control_loss': 0.02599144, 'trn_headings_loss': 0.00110979, 'trn_curvatures_loss': 0.00311168, 'consistency losses/trn_steer_cost': 0.02410728, 'consistency losses/trn_te_loss': 19.27371141, 'aux losses/trn_pitch_loss': 0.1556921, 'aux losses/trn_yaw_loss': 0.24970007, 'consistency losses/trn_%_updates_w_torque_delta_loss': 0.9296875, 'consistency losses/trn_torque_loss': 823.98972963, 'consistency losses/trn_torque_delta_loss': 21.97179521, 'logistical/max_param': 16.1936512, 'logistical/lr': 0.0003}\n",
      "{'logistical/obs_consumed_per_second': 232.6484375, 'logistical/obs_generated_per_second': 98.375, 'logistical/data_consumption_ratio': 2.36913378, 'logistical/manual_train_pause': 0.00085938, 'trn_control_loss': 0.01512337, 'trn_headings_loss': 0.0007419, 'trn_curvatures_loss': 0.00239679, 'consistency losses/trn_steer_cost': 0.02251422, 'consistency losses/trn_te_loss': 19.78431648, 'aux losses/trn_pitch_loss': 0.17844009, 'aux losses/trn_yaw_loss': 0.28880548, 'consistency losses/trn_%_updates_w_torque_delta_loss': 0.9375, 'consistency losses/trn_torque_loss': 752.60806935, 'consistency losses/trn_torque_delta_loss': 15.07881637, 'logistical/max_param': 16.192873, 'logistical/lr': 0.0003}\n",
      "{'logistical/obs_consumed_per_second': 231.9296875, 'logistical/obs_generated_per_second': 106.8125, 'logistical/data_consumption_ratio': 2.17411047, 'logistical/manual_train_pause': 0.00023438, 'trn_control_loss': 0.01525784, 'trn_headings_loss': 0.00079503, 'trn_curvatures_loss': 0.00261716, 'consistency losses/trn_steer_cost': 0.02299553, 'consistency losses/trn_te_loss': 20.05516729, 'aux losses/trn_pitch_loss': 0.1811657, 'aux losses/trn_yaw_loss': 0.26380491, 'consistency losses/trn_%_updates_w_torque_delta_loss': 0.9140625, 'consistency losses/trn_torque_loss': 750.49031341, 'consistency losses/trn_torque_delta_loss': 15.2310037, 'logistical/max_param': 16.19275665, 'logistical/lr': 0.0003}\n",
      "{'logistical/obs_consumed_per_second': 230.0234375, 'logistical/obs_generated_per_second': 104.2109375, 'logistical/data_consumption_ratio': 2.21036122, 'logistical/manual_train_pause': 0.0, 'trn_control_loss': 0.0177744, 'trn_headings_loss': 0.0008126, 'trn_curvatures_loss': 0.00289713, 'consistency losses/trn_steer_cost': 0.02516758, 'consistency losses/trn_te_loss': 19.26562674, 'aux losses/trn_pitch_loss': 0.16485929, 'aux losses/trn_yaw_loss': 0.27672148, 'consistency losses/trn_%_updates_w_torque_delta_loss': 0.921875, 'consistency losses/trn_torque_loss': 841.72975409, 'consistency losses/trn_torque_delta_loss': 16.68350074, 'logistical/max_param': 16.1926651, 'logistical/lr': 0.0003}\n",
      "{'logistical/obs_consumed_per_second': 130.0, 'logistical/obs_generated_per_second': 108.0, 'logistical/data_consumption_ratio': 1.20573234, 'logistical/manual_train_pause': 0.0}\n",
      "\n",
      "\n",
      " Eval...\n",
      "EPOCH 15\n",
      "\n",
      "{'trn_control_loss': 0.01702544, 'trn_headings_loss': 0.00085861, 'trn_curvatures_loss': 0.00296723, 'consistency losses/trn_steer_cost': 0.02382666, 'consistency losses/trn_te_loss': 19.06677097, 'aux losses/trn_pitch_loss': 0.17170668, 'aux losses/trn_yaw_loss': 0.27273989, 'consistency losses/trn_%_updates_w_torque_delta_loss': 0.890625, 'consistency losses/trn_torque_loss': 834.67290786, 'consistency losses/trn_torque_delta_loss': 15.02795413, 'logistical/obs_consumed_per_second': 232.38582677, 'logistical/obs_generated_per_second': 102.2992126, 'logistical/data_consumption_ratio': 2.2718271, 'logistical/manual_train_pause': 0.0, 'logistical/max_param': 16.19289207, 'logistical/lr': 0.0003}\n",
      "{'logistical/obs_consumed_per_second': 232.125, 'logistical/obs_generated_per_second': 100.09375, 'logistical/data_consumption_ratio': 2.32192799, 'logistical/manual_train_pause': 7.812e-05, 'trn_control_loss': 0.01689076, 'trn_headings_loss': 0.00084139, 'trn_curvatures_loss': 0.00307287, 'consistency losses/trn_steer_cost': 0.02355742, 'consistency losses/trn_te_loss': 19.38185278, 'aux losses/trn_pitch_loss': 0.16588831, 'aux losses/trn_yaw_loss': 0.31649756, 'consistency losses/trn_%_updates_w_torque_delta_loss': 0.9453125, 'consistency losses/trn_torque_loss': 775.52290076, 'consistency losses/trn_torque_delta_loss': 13.22221602, 'logistical/max_param': 16.1926918, 'logistical/lr': 0.0003}\n",
      "{'logistical/obs_consumed_per_second': 233.328125, 'logistical/obs_generated_per_second': 105.8515625, 'logistical/data_consumption_ratio': 2.2088808, 'logistical/manual_train_pause': 0.0, 'trn_control_loss': 0.01405808, 'trn_headings_loss': 0.00068348, 'trn_curvatures_loss': 0.002223, 'consistency losses/trn_steer_cost': 0.02130061, 'consistency losses/trn_te_loss': 19.6121752, 'aux losses/trn_pitch_loss': 0.17441201, 'aux losses/trn_yaw_loss': 0.25061369, 'consistency losses/trn_%_updates_w_torque_delta_loss': 0.9140625, 'consistency losses/trn_torque_loss': 836.38596836, 'consistency losses/trn_torque_delta_loss': 15.0209948, 'logistical/max_param': 16.19241524, 'logistical/lr': 0.0003}\n",
      "{'logistical/obs_consumed_per_second': 239.7578125, 'logistical/obs_generated_per_second': 102.5703125, 'logistical/data_consumption_ratio': 2.33834362, 'logistical/manual_train_pause': 0.0, 'trn_control_loss': 0.01772279, 'trn_headings_loss': 0.00086459, 'trn_curvatures_loss': 0.00287658, 'consistency losses/trn_steer_cost': 0.02205247, 'consistency losses/trn_te_loss': 20.21263017, 'aux losses/trn_pitch_loss': 0.16827011, 'aux losses/trn_yaw_loss': 0.26552916, 'consistency losses/trn_%_updates_w_torque_delta_loss': 0.96875, 'consistency losses/trn_torque_loss': 858.0356406, 'consistency losses/trn_torque_delta_loss': 17.33524618, 'logistical/max_param': 16.19241905, 'logistical/lr': 0.0003}\n",
      "{'logistical/obs_consumed_per_second': 235.90625, 'logistical/obs_generated_per_second': 98.640625, 'logistical/data_consumption_ratio': 2.39107068, 'logistical/manual_train_pause': 0.0003125, 'trn_control_loss': 0.01565105, 'trn_headings_loss': 0.00076929, 'trn_curvatures_loss': 0.00263096, 'consistency losses/trn_steer_cost': 0.02276254, 'consistency losses/trn_te_loss': 19.73231339, 'aux losses/trn_pitch_loss': 0.19592953, 'aux losses/trn_yaw_loss': 0.27781487, 'consistency losses/trn_%_updates_w_torque_delta_loss': 0.9375, 'consistency losses/trn_torque_loss': 914.42638183, 'consistency losses/trn_torque_delta_loss': 16.70954529, 'logistical/max_param': 16.19242287, 'logistical/lr': 0.0003}\n",
      "{'logistical/obs_consumed_per_second': 235.546875, 'logistical/obs_generated_per_second': 102.4765625, 'logistical/data_consumption_ratio': 2.31344632, 'logistical/manual_train_pause': 0.000625, 'trn_control_loss': 0.01648009, 'trn_headings_loss': 0.00077298, 'trn_curvatures_loss': 0.00265437, 'consistency losses/trn_steer_cost': 0.02109331, 'consistency losses/trn_te_loss': 19.63873085, 'aux losses/trn_pitch_loss': 0.17796421, 'aux losses/trn_yaw_loss': 0.24443102, 'consistency losses/trn_%_updates_w_torque_delta_loss': 0.921875, 'consistency losses/trn_torque_loss': 726.22680736, 'consistency losses/trn_torque_delta_loss': 16.1417278, 'logistical/max_param': 16.19265175, 'logistical/lr': 0.0003}\n"
     ]
    },
    {
     "name": "stdout",
     "output_type": "stream",
     "text": [
      "{'logistical/obs_consumed_per_second': 228.5390625, 'logistical/obs_generated_per_second': 101.25, 'logistical/data_consumption_ratio': 2.26010366, 'logistical/manual_train_pause': 0.00023438, 'trn_control_loss': 0.01704311, 'trn_headings_loss': 0.00083956, 'trn_curvatures_loss': 0.00278425, 'consistency losses/trn_steer_cost': 0.02478677, 'consistency losses/trn_te_loss': 19.77163005, 'aux losses/trn_pitch_loss': 0.18767166, 'aux losses/trn_yaw_loss': 0.27527475, 'consistency losses/trn_%_updates_w_torque_delta_loss': 0.921875, 'consistency losses/trn_torque_loss': 807.3366437, 'consistency losses/trn_torque_delta_loss': 15.08623502, 'logistical/max_param': 16.19246674, 'logistical/lr': 0.0003}\n",
      "{'logistical/obs_consumed_per_second': 232.96875, 'logistical/obs_generated_per_second': 101.3828125, 'logistical/data_consumption_ratio': 2.30006689, 'logistical/manual_train_pause': 0.0, 'trn_control_loss': 0.01557344, 'trn_headings_loss': 0.00076171, 'trn_curvatures_loss': 0.0024731, 'consistency losses/trn_steer_cost': 0.02103478, 'consistency losses/trn_te_loss': 20.00104028, 'aux losses/trn_pitch_loss': 0.18235874, 'aux losses/trn_yaw_loss': 0.27833986, 'consistency losses/trn_%_updates_w_torque_delta_loss': 0.9140625, 'consistency losses/trn_torque_loss': 850.09557199, 'consistency losses/trn_torque_delta_loss': 16.63508302, 'logistical/max_param': 16.19248962, 'logistical/lr': 0.0003}\n",
      "{'logistical/obs_consumed_per_second': 233.65625, 'logistical/obs_generated_per_second': 99.4765625, 'logistical/data_consumption_ratio': 2.35732871, 'logistical/manual_train_pause': 0.000625, 'trn_control_loss': 0.01372346, 'trn_headings_loss': 0.00068208, 'trn_curvatures_loss': 0.00213461, 'consistency losses/trn_steer_cost': 0.02078116, 'consistency losses/trn_te_loss': 19.65561964, 'aux losses/trn_pitch_loss': 0.17793393, 'aux losses/trn_yaw_loss': 0.23593664, 'consistency losses/trn_%_updates_w_torque_delta_loss': 0.9453125, 'consistency losses/trn_torque_loss': 809.177405, 'consistency losses/trn_torque_delta_loss': 15.70643814, 'logistical/max_param': 16.19259834, 'logistical/lr': 0.0003}\n",
      "{'logistical/obs_consumed_per_second': 226.0625, 'logistical/obs_generated_per_second': 100.1015625, 'logistical/data_consumption_ratio': 2.2687362, 'logistical/manual_train_pause': 0.00078125, 'trn_control_loss': 0.01498336, 'trn_headings_loss': 0.00074764, 'trn_curvatures_loss': 0.00266942, 'consistency losses/trn_steer_cost': 0.02153081, 'consistency losses/trn_te_loss': 19.97445337, 'aux losses/trn_pitch_loss': 0.19392347, 'aux losses/trn_yaw_loss': 0.28052092, 'consistency losses/trn_%_updates_w_torque_delta_loss': 0.9609375, 'consistency losses/trn_torque_loss': 796.42972457, 'consistency losses/trn_torque_delta_loss': 16.61494283, 'logistical/max_param': 16.19234467, 'logistical/lr': 0.0003}\n",
      "{'logistical/obs_consumed_per_second': 162.0, 'logistical/obs_generated_per_second': 108.0, 'logistical/data_consumption_ratio': 1.49789941, 'logistical/manual_train_pause': 0.0}\n",
      "\n",
      "\n",
      " Eval...\n",
      "EPOCH 16\n",
      "\n",
      "{'trn_control_loss': 0.01533782, 'trn_headings_loss': 0.00074039, 'trn_curvatures_loss': 0.00240197, 'consistency losses/trn_steer_cost': 0.02278, 'consistency losses/trn_te_loss': 19.6221869, 'aux losses/trn_pitch_loss': 0.19126368, 'aux losses/trn_yaw_loss': 0.32299805, 'consistency losses/trn_%_updates_w_torque_delta_loss': 0.9140625, 'consistency losses/trn_torque_loss': 817.2918728, 'consistency losses/trn_torque_delta_loss': 17.57467042, 'logistical/obs_consumed_per_second': 237.36220472, 'logistical/obs_generated_per_second': 105.26984127, 'logistical/data_consumption_ratio': 2.2576619, 'logistical/manual_train_pause': 0.0, 'logistical/max_param': 16.19255829, 'logistical/lr': 0.0003}\n",
      "{'logistical/obs_consumed_per_second': 232.6796875, 'logistical/obs_generated_per_second': 103.828125, 'logistical/data_consumption_ratio': 2.24290341, 'logistical/manual_train_pause': 0.0, 'trn_control_loss': 0.01853311, 'trn_headings_loss': 0.00079963, 'trn_curvatures_loss': 0.00271534, 'consistency losses/trn_steer_cost': 0.02523857, 'consistency losses/trn_te_loss': 19.47786762, 'aux losses/trn_pitch_loss': 0.17347288, 'aux losses/trn_yaw_loss': 0.25291681, 'consistency losses/trn_%_updates_w_torque_delta_loss': 0.96875, 'consistency losses/trn_torque_loss': 919.43921384, 'consistency losses/trn_torque_delta_loss': 17.34257169, 'logistical/max_param': 16.19256401, 'logistical/lr': 0.0003}\n",
      "{'logistical/obs_consumed_per_second': 232.703125, 'logistical/obs_generated_per_second': 100.703125, 'logistical/data_consumption_ratio': 2.31336218, 'logistical/manual_train_pause': 0.0, 'trn_control_loss': 0.01580244, 'trn_headings_loss': 0.00075986, 'trn_curvatures_loss': 0.00245175, 'consistency losses/trn_steer_cost': 0.02116263, 'consistency losses/trn_te_loss': 19.95702925, 'aux losses/trn_pitch_loss': 0.16266441, 'aux losses/trn_yaw_loss': 0.24973917, 'consistency losses/trn_%_updates_w_torque_delta_loss': 0.953125, 'consistency losses/trn_torque_loss': 895.49280202, 'consistency losses/trn_torque_delta_loss': 17.7151748, 'logistical/max_param': 16.19248962, 'logistical/lr': 0.0003}\n",
      "{'logistical/obs_consumed_per_second': 235.28125, 'logistical/obs_generated_per_second': 101.1640625, 'logistical/data_consumption_ratio': 2.32846111, 'logistical/manual_train_pause': 0.0003125, 'trn_control_loss': 0.01605725, 'trn_headings_loss': 0.00078729, 'trn_curvatures_loss': 0.00276713, 'consistency losses/trn_steer_cost': 0.02399391, 'consistency losses/trn_te_loss': 19.89070208, 'aux losses/trn_pitch_loss': 0.17153692, 'aux losses/trn_yaw_loss': 0.25157213, 'consistency losses/trn_%_updates_w_torque_delta_loss': 0.96875, 'consistency losses/trn_torque_loss': 921.50123429, 'consistency losses/trn_torque_delta_loss': 16.57250012, 'logistical/max_param': 16.19253731, 'logistical/lr': 0.0003}\n",
      "{'logistical/obs_consumed_per_second': 235.3984375, 'logistical/obs_generated_per_second': 97.8125, 'logistical/data_consumption_ratio': 2.4118178, 'logistical/manual_train_pause': 0.00039062, 'trn_control_loss': 0.01504266, 'trn_headings_loss': 0.00075082, 'trn_curvatures_loss': 0.00245856, 'consistency losses/trn_steer_cost': 0.0244996, 'consistency losses/trn_te_loss': 19.17851055, 'aux losses/trn_pitch_loss': 0.17660093, 'aux losses/trn_yaw_loss': 0.27202415, 'consistency losses/trn_%_updates_w_torque_delta_loss': 0.9140625, 'consistency losses/trn_torque_loss': 797.56199133, 'consistency losses/trn_torque_delta_loss': 16.49508595, 'logistical/max_param': 16.19252968, 'logistical/lr': 0.0003}\n",
      "{'logistical/obs_consumed_per_second': 233.1953125, 'logistical/obs_generated_per_second': 103.7578125, 'logistical/data_consumption_ratio': 2.24852583, 'logistical/manual_train_pause': 0.0, 'trn_control_loss': 0.01497605, 'trn_headings_loss': 0.00073762, 'trn_curvatures_loss': 0.00239824, 'consistency losses/trn_steer_cost': 0.02348655, 'consistency losses/trn_te_loss': 19.56668033, 'aux losses/trn_pitch_loss': 0.17372847, 'aux losses/trn_yaw_loss': 0.28084469, 'consistency losses/trn_%_updates_w_torque_delta_loss': 0.9453125, 'consistency losses/trn_torque_loss': 841.02984118, 'consistency losses/trn_torque_delta_loss': 15.91051672, 'logistical/max_param': 16.19253922, 'logistical/lr': 0.0003}\n",
      "{'logistical/obs_consumed_per_second': 237.8046875, 'logistical/obs_generated_per_second': 108.53125, 'logistical/data_consumption_ratio': 2.19130657, 'logistical/manual_train_pause': 0.0, 'trn_control_loss': 0.01628694, 'trn_headings_loss': 0.00078409, 'trn_curvatures_loss': 0.00255319, 'consistency losses/trn_steer_cost': 0.02312821, 'consistency losses/trn_te_loss': 19.47575545, 'aux losses/trn_pitch_loss': 0.19539046, 'aux losses/trn_yaw_loss': 0.27774954, 'consistency losses/trn_%_updates_w_torque_delta_loss': 0.921875, 'consistency losses/trn_torque_loss': 893.5125832, 'consistency losses/trn_torque_delta_loss': 14.66022504, 'logistical/max_param': 16.19262123, 'logistical/lr': 0.0003}\n",
      "{'logistical/obs_consumed_per_second': 237.578125, 'logistical/obs_generated_per_second': 105.2890625, 'logistical/data_consumption_ratio': 2.26673891, 'logistical/manual_train_pause': 0.00015625, 'trn_control_loss': 0.01563585, 'trn_headings_loss': 0.0007962, 'trn_curvatures_loss': 0.0025297, 'consistency losses/trn_steer_cost': 0.02034062, 'consistency losses/trn_te_loss': 19.77408522, 'aux losses/trn_pitch_loss': 0.17070532, 'aux losses/trn_yaw_loss': 0.26429796, 'consistency losses/trn_%_updates_w_torque_delta_loss': 0.9296875, 'consistency losses/trn_torque_loss': 803.51048005, 'consistency losses/trn_torque_delta_loss': 16.80798339, 'logistical/max_param': 16.19261169, 'logistical/lr': 0.0003}\n"
     ]
    },
    {
     "name": "stdout",
     "output_type": "stream",
     "text": [
      "{'logistical/obs_consumed_per_second': 231.484375, 'logistical/obs_generated_per_second': 99.1796875, 'logistical/data_consumption_ratio': 2.33672424, 'logistical/manual_train_pause': 7.812e-05, 'trn_control_loss': 0.0161913, 'trn_headings_loss': 0.00077711, 'trn_curvatures_loss': 0.00270926, 'consistency losses/trn_steer_cost': 0.02258873, 'consistency losses/trn_te_loss': 19.61260445, 'aux losses/trn_pitch_loss': 0.16672158, 'aux losses/trn_yaw_loss': 0.29505205, 'consistency losses/trn_%_updates_w_torque_delta_loss': 0.953125, 'consistency losses/trn_torque_loss': 793.20455343, 'consistency losses/trn_torque_delta_loss': 14.21688512, 'logistical/max_param': 16.19301796, 'logistical/lr': 0.0003}\n",
      "{'logistical/obs_consumed_per_second': 236.53125, 'logistical/obs_generated_per_second': 111.765625, 'logistical/data_consumption_ratio': 2.11500374, 'logistical/manual_train_pause': 0.0, 'trn_control_loss': 0.01583493, 'trn_headings_loss': 0.00076839, 'trn_curvatures_loss': 0.00279659, 'consistency losses/trn_steer_cost': 0.02336472, 'consistency losses/trn_te_loss': 19.78954235, 'aux losses/trn_pitch_loss': 0.17500424, 'aux losses/trn_yaw_loss': 0.28487349, 'consistency losses/trn_%_updates_w_torque_delta_loss': 0.9375, 'consistency losses/trn_torque_loss': 801.57788807, 'consistency losses/trn_torque_delta_loss': 14.64536181, 'logistical/max_param': 16.19350624, 'logistical/lr': 0.0003}\n",
      "{'logistical/obs_consumed_per_second': 179.0, 'logistical/obs_generated_per_second': 112.0, 'logistical/data_consumption_ratio': 1.59090523, 'logistical/manual_train_pause': 0.0}\n",
      "\n",
      "\n",
      " Eval...\n",
      "EPOCH 17\n",
      "\n",
      "{'trn_control_loss': 0.01527727, 'trn_headings_loss': 0.0008021, 'trn_curvatures_loss': 0.00279798, 'consistency losses/trn_steer_cost': 0.02425444, 'consistency losses/trn_te_loss': 19.10184245, 'aux losses/trn_pitch_loss': 0.17528796, 'aux losses/trn_yaw_loss': 0.30141163, 'consistency losses/trn_%_updates_w_torque_delta_loss': 0.9375, 'consistency losses/trn_torque_loss': 803.97541665, 'consistency losses/trn_torque_delta_loss': 14.09826138, 'logistical/obs_consumed_per_second': 239.96850394, 'logistical/obs_generated_per_second': 107.73228346, 'logistical/data_consumption_ratio': 2.22813815, 'logistical/manual_train_pause': 0.0, 'logistical/max_param': 16.19340134, 'logistical/lr': 0.0003}\n",
      "{'logistical/obs_consumed_per_second': 232.4296875, 'logistical/obs_generated_per_second': 102.125, 'logistical/data_consumption_ratio': 2.27530284, 'logistical/manual_train_pause': 0.0, 'trn_control_loss': 0.01541084, 'trn_headings_loss': 0.00076974, 'trn_curvatures_loss': 0.00252885, 'consistency losses/trn_steer_cost': 0.0233444, 'consistency losses/trn_te_loss': 19.44821881, 'aux losses/trn_pitch_loss': 0.16639948, 'aux losses/trn_yaw_loss': 0.26534748, 'consistency losses/trn_%_updates_w_torque_delta_loss': 0.96875, 'consistency losses/trn_torque_loss': 926.01513234, 'consistency losses/trn_torque_delta_loss': 18.2087376, 'logistical/max_param': 16.19384003, 'logistical/lr': 0.0003}\n",
      "{'logistical/obs_consumed_per_second': 232.84375, 'logistical/obs_generated_per_second': 102.6015625, 'logistical/data_consumption_ratio': 2.27111772, 'logistical/manual_train_pause': 7.812e-05, 'trn_control_loss': 0.01435804, 'trn_headings_loss': 0.00069327, 'trn_curvatures_loss': 0.00221264, 'consistency losses/trn_steer_cost': 0.0217275, 'consistency losses/trn_te_loss': 19.34569503, 'aux losses/trn_pitch_loss': 0.18763733, 'aux losses/trn_yaw_loss': 0.25296831, 'consistency losses/trn_%_updates_w_torque_delta_loss': 0.9296875, 'consistency losses/trn_torque_loss': 780.93736327, 'consistency losses/trn_torque_delta_loss': 14.83876396, 'logistical/max_param': 16.19347382, 'logistical/lr': 0.0003}\n",
      "{'logistical/obs_consumed_per_second': 230.25, 'logistical/obs_generated_per_second': 97.640625, 'logistical/data_consumption_ratio': 2.35934873, 'logistical/manual_train_pause': 0.00125, 'trn_control_loss': 0.01394802, 'trn_headings_loss': 0.0007092, 'trn_curvatures_loss': 0.00245879, 'consistency losses/trn_steer_cost': 0.02244759, 'consistency losses/trn_te_loss': 19.61679795, 'aux losses/trn_pitch_loss': 0.17652559, 'aux losses/trn_yaw_loss': 0.23873663, 'consistency losses/trn_%_updates_w_torque_delta_loss': 0.8671875, 'consistency losses/trn_torque_loss': 828.13210857, 'consistency losses/trn_torque_delta_loss': 14.7383345, 'logistical/max_param': 16.19396782, 'logistical/lr': 0.0003}\n",
      "{'logistical/obs_consumed_per_second': 227.28125, 'logistical/obs_generated_per_second': 97.4921875, 'logistical/data_consumption_ratio': 2.32873554, 'logistical/manual_train_pause': 0.00023438, 'trn_control_loss': 0.0178895, 'trn_headings_loss': 0.00087112, 'trn_curvatures_loss': 0.00310045, 'consistency losses/trn_steer_cost': 0.02803671, 'consistency losses/trn_te_loss': 18.80661048, 'aux losses/trn_pitch_loss': 0.17660093, 'aux losses/trn_yaw_loss': 0.26202297, 'consistency losses/trn_%_updates_w_torque_delta_loss': 0.9453125, 'consistency losses/trn_torque_loss': 807.43461803, 'consistency losses/trn_torque_delta_loss': 15.19595364, 'logistical/max_param': 16.19322205, 'logistical/lr': 0.0003}\n",
      "{'logistical/obs_consumed_per_second': 235.6640625, 'logistical/obs_generated_per_second': 96.6640625, 'logistical/data_consumption_ratio': 2.43404966, 'logistical/manual_train_pause': 0.00070312, 'trn_control_loss': 0.01616371, 'trn_headings_loss': 0.00077059, 'trn_curvatures_loss': 0.00261287, 'consistency losses/trn_steer_cost': 0.02308488, 'consistency losses/trn_te_loss': 18.74357036, 'aux losses/trn_pitch_loss': 0.18195868, 'aux losses/trn_yaw_loss': 0.24423909, 'consistency losses/trn_%_updates_w_torque_delta_loss': 0.9765625, 'consistency losses/trn_torque_loss': 772.48067969, 'consistency losses/trn_torque_delta_loss': 14.26126083, 'logistical/max_param': 16.19350243, 'logistical/lr': 0.0003}\n",
      "{'logistical/obs_consumed_per_second': 238.625, 'logistical/obs_generated_per_second': 99.7578125, 'logistical/data_consumption_ratio': 2.39605578, 'logistical/manual_train_pause': 0.00085938, 'trn_control_loss': 0.01771802, 'trn_headings_loss': 0.00078066, 'trn_curvatures_loss': 0.00253226, 'consistency losses/trn_steer_cost': 0.02310568, 'consistency losses/trn_te_loss': 19.39629871, 'aux losses/trn_pitch_loss': 0.16428566, 'aux losses/trn_yaw_loss': 0.2795372, 'consistency losses/trn_%_updates_w_torque_delta_loss': 0.96875, 'consistency losses/trn_torque_loss': 883.70002174, 'consistency losses/trn_torque_delta_loss': 18.82445983, 'logistical/max_param': 16.19436646, 'logistical/lr': 0.0003}\n",
      "{'logistical/obs_consumed_per_second': 230.2265625, 'logistical/obs_generated_per_second': 104.2578125, 'logistical/data_consumption_ratio': 2.21555178, 'logistical/manual_train_pause': 0.00039062, 'trn_control_loss': 0.01694316, 'trn_headings_loss': 0.00083821, 'trn_curvatures_loss': 0.00321333, 'consistency losses/trn_steer_cost': 0.02651626, 'consistency losses/trn_te_loss': 19.04015915, 'aux losses/trn_pitch_loss': 0.16742039, 'aux losses/trn_yaw_loss': 0.28668451, 'consistency losses/trn_%_updates_w_torque_delta_loss': 0.9375, 'consistency losses/trn_torque_loss': 862.34558618, 'consistency losses/trn_torque_delta_loss': 16.95490467, 'logistical/max_param': 16.19324493, 'logistical/lr': 0.0003}\n",
      "{'logistical/obs_consumed_per_second': 231.4375, 'logistical/obs_generated_per_second': 99.78125, 'logistical/data_consumption_ratio': 2.31936281, 'logistical/manual_train_pause': 0.0003125, 'trn_control_loss': 0.01523775, 'trn_headings_loss': 0.00078657, 'trn_curvatures_loss': 0.00259379, 'consistency losses/trn_steer_cost': 0.02364326, 'consistency losses/trn_te_loss': 19.19341722, 'aux losses/trn_pitch_loss': 0.18397069, 'aux losses/trn_yaw_loss': 0.26772881, 'consistency losses/trn_%_updates_w_torque_delta_loss': 0.9375, 'consistency losses/trn_torque_loss': 812.30400676, 'consistency losses/trn_torque_delta_loss': 15.66968148, 'logistical/max_param': 16.19285965, 'logistical/lr': 0.0003}\n",
      "{'logistical/obs_consumed_per_second': 232.9609375, 'logistical/obs_generated_per_second': 97.9921875, 'logistical/data_consumption_ratio': 2.38612658, 'logistical/manual_train_pause': 0.000625, 'trn_control_loss': 0.01567349, 'trn_headings_loss': 0.00075595, 'trn_curvatures_loss': 0.00268961, 'consistency losses/trn_steer_cost': 0.02549541, 'consistency losses/trn_te_loss': 19.31555767, 'aux losses/trn_pitch_loss': 0.17080808, 'aux losses/trn_yaw_loss': 0.2929163, 'consistency losses/trn_%_updates_w_torque_delta_loss': 0.9140625, 'consistency losses/trn_torque_loss': 902.75495625, 'consistency losses/trn_torque_delta_loss': 16.4638555, 'logistical/max_param': 16.19206238, 'logistical/lr': 0.0003}\n"
     ]
    },
    {
     "name": "stdout",
     "output_type": "stream",
     "text": [
      "{'logistical/obs_consumed_per_second': 134.0, 'logistical/obs_generated_per_second': 97.0, 'logistical/data_consumption_ratio': 1.38509565, 'logistical/manual_train_pause': 0.0}\n",
      "\n",
      "\n",
      " Eval...\n",
      "EPOCH 18\n",
      "\n",
      "{'trn_control_loss': 0.01585162, 'trn_headings_loss': 0.00080466, 'trn_curvatures_loss': 0.00277995, 'consistency losses/trn_steer_cost': 0.02348763, 'consistency losses/trn_te_loss': 19.48241965, 'aux losses/trn_pitch_loss': 0.20949936, 'aux losses/trn_yaw_loss': 0.32280159, 'consistency losses/trn_%_updates_w_torque_delta_loss': 0.9375, 'consistency losses/trn_torque_loss': 825.95277426, 'consistency losses/trn_torque_delta_loss': 15.91213324, 'logistical/obs_consumed_per_second': 232.41732283, 'logistical/obs_generated_per_second': 97.36220472, 'logistical/data_consumption_ratio': 2.38580058, 'logistical/manual_train_pause': 0.00031496, 'logistical/max_param': 16.19236183, 'logistical/lr': 0.0003}\n",
      "{'logistical/obs_consumed_per_second': 232.265625, 'logistical/obs_generated_per_second': 104.3515625, 'logistical/data_consumption_ratio': 2.22967531, 'logistical/manual_train_pause': 0.0, 'trn_control_loss': 0.01623052, 'trn_headings_loss': 0.00080779, 'trn_curvatures_loss': 0.00280327, 'consistency losses/trn_steer_cost': 0.02490395, 'consistency losses/trn_te_loss': 19.73878661, 'aux losses/trn_pitch_loss': 0.17728233, 'aux losses/trn_yaw_loss': 0.28730679, 'consistency losses/trn_%_updates_w_torque_delta_loss': 0.9296875, 'consistency losses/trn_torque_loss': 823.71497822, 'consistency losses/trn_torque_delta_loss': 15.43719815, 'logistical/max_param': 16.19521332, 'logistical/lr': 0.0003}\n",
      "{'logistical/obs_consumed_per_second': 234.125, 'logistical/obs_generated_per_second': 104.59375, 'logistical/data_consumption_ratio': 2.24496555, 'logistical/manual_train_pause': 0.0, 'trn_control_loss': 0.01613486, 'trn_headings_loss': 0.00076087, 'trn_curvatures_loss': 0.00265153, 'consistency losses/trn_steer_cost': 0.02590853, 'consistency losses/trn_te_loss': 19.49883984, 'aux losses/trn_pitch_loss': 0.17718983, 'aux losses/trn_yaw_loss': 0.307302, 'consistency losses/trn_%_updates_w_torque_delta_loss': 0.9375, 'consistency losses/trn_torque_loss': 975.87173104, 'consistency losses/trn_torque_delta_loss': 19.55174424, 'logistical/max_param': 16.1946125, 'logistical/lr': 0.0003}\n",
      "{'logistical/obs_consumed_per_second': 232.6484375, 'logistical/obs_generated_per_second': 100.921875, 'logistical/data_consumption_ratio': 2.30586616, 'logistical/manual_train_pause': 7.812e-05, 'trn_control_loss': 0.01555732, 'trn_headings_loss': 0.00071927, 'trn_curvatures_loss': 0.00249197, 'consistency losses/trn_steer_cost': 0.02374846, 'consistency losses/trn_te_loss': 19.88578916, 'aux losses/trn_pitch_loss': 0.17682195, 'aux losses/trn_yaw_loss': 0.28481913, 'consistency losses/trn_%_updates_w_torque_delta_loss': 0.9375, 'consistency losses/trn_torque_loss': 863.01488609, 'consistency losses/trn_torque_delta_loss': 16.68702558, 'logistical/max_param': 16.19553375, 'logistical/lr': 0.0003}\n",
      "{'logistical/obs_consumed_per_second': 232.0390625, 'logistical/obs_generated_per_second': 100.0703125, 'logistical/data_consumption_ratio': 2.3233741, 'logistical/manual_train_pause': 0.00023438, 'trn_control_loss': 0.01695976, 'trn_headings_loss': 0.0008338, 'trn_curvatures_loss': 0.00300755, 'consistency losses/trn_steer_cost': 0.02621603, 'consistency losses/trn_te_loss': 19.55452628, 'aux losses/trn_pitch_loss': 0.17233133, 'aux losses/trn_yaw_loss': 0.29426146, 'consistency losses/trn_%_updates_w_torque_delta_loss': 0.9453125, 'consistency losses/trn_torque_loss': 849.33647001, 'consistency losses/trn_torque_delta_loss': 16.16218486, 'logistical/max_param': 16.19557571, 'logistical/lr': 0.0003}\n",
      "{'logistical/obs_consumed_per_second': 233.34375, 'logistical/obs_generated_per_second': 102.28125, 'logistical/data_consumption_ratio': 2.28194482, 'logistical/manual_train_pause': 7.812e-05, 'trn_control_loss': 0.01432419, 'trn_headings_loss': 0.00072538, 'trn_curvatures_loss': 0.00245091, 'consistency losses/trn_steer_cost': 0.02241963, 'consistency losses/trn_te_loss': 19.40033001, 'aux losses/trn_pitch_loss': 0.16263103, 'aux losses/trn_yaw_loss': 0.26438236, 'consistency losses/trn_%_updates_w_torque_delta_loss': 0.9296875, 'consistency losses/trn_torque_loss': 775.38820538, 'consistency losses/trn_torque_delta_loss': 15.09655499, 'logistical/max_param': 16.19661713, 'logistical/lr': 0.0003}\n",
      "{'logistical/obs_consumed_per_second': 232.296875, 'logistical/obs_generated_per_second': 111.109375, 'logistical/data_consumption_ratio': 2.09356717, 'logistical/manual_train_pause': 0.0, 'trn_control_loss': 0.01453117, 'trn_headings_loss': 0.00072214, 'trn_curvatures_loss': 0.00257992, 'consistency losses/trn_steer_cost': 0.02301675, 'consistency losses/trn_te_loss': 19.18235697, 'aux losses/trn_pitch_loss': 0.20115089, 'aux losses/trn_yaw_loss': 0.26203203, 'consistency losses/trn_%_updates_w_torque_delta_loss': 0.953125, 'consistency losses/trn_torque_loss': 873.44978034, 'consistency losses/trn_torque_delta_loss': 18.91550911, 'logistical/max_param': 16.19568062, 'logistical/lr': 0.0003}\n",
      "{'logistical/obs_consumed_per_second': 234.6796875, 'logistical/obs_generated_per_second': 108.0859375, 'logistical/data_consumption_ratio': 2.17654298, 'logistical/manual_train_pause': 0.0, 'trn_control_loss': 0.01617113, 'trn_headings_loss': 0.00078656, 'trn_curvatures_loss': 0.00308696, 'consistency losses/trn_steer_cost': 0.02466857, 'consistency losses/trn_te_loss': 19.30213804, 'aux losses/trn_pitch_loss': 0.18014884, 'aux losses/trn_yaw_loss': 0.28448486, 'consistency losses/trn_%_updates_w_torque_delta_loss': 0.9453125, 'consistency losses/trn_torque_loss': 881.27793908, 'consistency losses/trn_torque_delta_loss': 14.90252681, 'logistical/max_param': 16.19433784, 'logistical/lr': 0.0003}\n",
      "{'logistical/obs_consumed_per_second': 236.9296875, 'logistical/obs_generated_per_second': 108.421875, 'logistical/data_consumption_ratio': 2.18711648, 'logistical/manual_train_pause': 0.0, 'trn_control_loss': 0.01906145, 'trn_headings_loss': 0.00087794, 'trn_curvatures_loss': 0.00348701, 'consistency losses/trn_steer_cost': 0.02652317, 'consistency losses/trn_te_loss': 19.47987758, 'aux losses/trn_pitch_loss': 0.17405844, 'aux losses/trn_yaw_loss': 0.31574106, 'consistency losses/trn_%_updates_w_torque_delta_loss': 0.921875, 'consistency losses/trn_torque_loss': 840.22991389, 'consistency losses/trn_torque_delta_loss': 16.58711689, 'logistical/max_param': 16.19521141, 'logistical/lr': 0.0003}\n",
      "{'logistical/obs_consumed_per_second': 236.96875, 'logistical/obs_generated_per_second': 104.4375, 'logistical/data_consumption_ratio': 2.27572539, 'logistical/manual_train_pause': 0.0, 'trn_control_loss': 0.0219813, 'trn_headings_loss': 0.00097942, 'trn_curvatures_loss': 0.00363975, 'consistency losses/trn_steer_cost': 0.02964199, 'consistency losses/trn_te_loss': 19.22294512, 'aux losses/trn_pitch_loss': 0.16621971, 'aux losses/trn_yaw_loss': 0.28916025, 'consistency losses/trn_%_updates_w_torque_delta_loss': 0.9375, 'consistency losses/trn_torque_loss': 712.65609807, 'consistency losses/trn_torque_delta_loss': 13.60954589, 'logistical/max_param': 16.19573212, 'logistical/lr': 0.0003}\n",
      "{'logistical/obs_consumed_per_second': 181.0, 'logistical/obs_generated_per_second': 103.0, 'logistical/data_consumption_ratio': 1.75022593, 'logistical/manual_train_pause': 0.0}\n",
      "\n",
      "\n",
      " Eval...\n",
      "EPOCH 19\n",
      "\n",
      "{'trn_control_loss': 0.0170579, 'trn_headings_loss': 0.00081069, 'trn_curvatures_loss': 0.00309113, 'consistency losses/trn_steer_cost': 0.02621359, 'consistency losses/trn_te_loss': 19.37037279, 'aux losses/trn_pitch_loss': 0.18326044, 'aux losses/trn_yaw_loss': 0.32967281, 'consistency losses/trn_%_updates_w_torque_delta_loss': 0.9375, 'consistency losses/trn_torque_loss': 865.03264636, 'consistency losses/trn_torque_delta_loss': 15.96525002, 'logistical/obs_consumed_per_second': 236.03149606, 'logistical/obs_generated_per_second': 97.35433071, 'logistical/data_consumption_ratio': 2.4207629, 'logistical/manual_train_pause': 0.00110236, 'logistical/max_param': 16.1970005, 'logistical/lr': 0.0003}\n",
      "{'logistical/obs_consumed_per_second': 234.234375, 'logistical/obs_generated_per_second': 98.4140625, 'logistical/data_consumption_ratio': 2.38425773, 'logistical/manual_train_pause': 0.00117188, 'trn_control_loss': 0.01605505, 'trn_headings_loss': 0.00082513, 'trn_curvatures_loss': 0.00313743, 'consistency losses/trn_steer_cost': 0.02748752, 'consistency losses/trn_te_loss': 19.49021867, 'aux losses/trn_pitch_loss': 0.17570925, 'aux losses/trn_yaw_loss': 0.34690619, 'consistency losses/trn_%_updates_w_torque_delta_loss': 0.9140625, 'consistency losses/trn_torque_loss': 758.81634146, 'consistency losses/trn_torque_delta_loss': 16.8517118, 'logistical/max_param': 16.19659042, 'logistical/lr': 0.0003}\n"
     ]
    },
    {
     "name": "stdout",
     "output_type": "stream",
     "text": [
      "{'logistical/obs_consumed_per_second': 229.609375, 'logistical/obs_generated_per_second': 104.515625, 'logistical/data_consumption_ratio': 2.19812961, 'logistical/manual_train_pause': 0.0, 'trn_control_loss': 0.01611558, 'trn_headings_loss': 0.00072625, 'trn_curvatures_loss': 0.00259797, 'consistency losses/trn_steer_cost': 0.02330935, 'consistency losses/trn_te_loss': 19.15236178, 'aux losses/trn_pitch_loss': 0.17625952, 'aux losses/trn_yaw_loss': 0.32786131, 'consistency losses/trn_%_updates_w_torque_delta_loss': 0.890625, 'consistency losses/trn_torque_loss': 836.37804515, 'consistency losses/trn_torque_delta_loss': 16.89011324, 'logistical/max_param': 16.19671249, 'logistical/lr': 0.0003}\n",
      "{'logistical/obs_consumed_per_second': 234.6015625, 'logistical/obs_generated_per_second': 103.875, 'logistical/data_consumption_ratio': 2.25871796, 'logistical/manual_train_pause': 0.0, 'trn_control_loss': 0.01673633, 'trn_headings_loss': 0.00082553, 'trn_curvatures_loss': 0.00288777, 'consistency losses/trn_steer_cost': 0.02107811, 'consistency losses/trn_te_loss': 20.28250176, 'aux losses/trn_pitch_loss': 0.21260881, 'aux losses/trn_yaw_loss': 0.29093742, 'consistency losses/trn_%_updates_w_torque_delta_loss': 0.8984375, 'consistency losses/trn_torque_loss': 769.99587107, 'consistency losses/trn_torque_delta_loss': 15.38645805, 'logistical/max_param': 16.19483757, 'logistical/lr': 0.0003}\n",
      "{'logistical/obs_consumed_per_second': 237.5234375, 'logistical/obs_generated_per_second': 103.1484375, 'logistical/data_consumption_ratio': 2.30692273, 'logistical/manual_train_pause': 0.0, 'trn_control_loss': 0.01742524, 'trn_headings_loss': 0.00080348, 'trn_curvatures_loss': 0.00286917, 'consistency losses/trn_steer_cost': 0.0260722, 'consistency losses/trn_te_loss': 19.57314105, 'aux losses/trn_pitch_loss': 0.15938044, 'aux losses/trn_yaw_loss': 0.28907204, 'consistency losses/trn_%_updates_w_torque_delta_loss': 0.9296875, 'consistency losses/trn_torque_loss': 788.21520799, 'consistency losses/trn_torque_delta_loss': 15.93668289, 'logistical/max_param': 16.19319153, 'logistical/lr': 0.0003}\n",
      "{'logistical/obs_consumed_per_second': 235.9140625, 'logistical/obs_generated_per_second': 96.875, 'logistical/data_consumption_ratio': 2.43990066, 'logistical/manual_train_pause': 0.00117188, 'trn_control_loss': 0.015441, 'trn_headings_loss': 0.00077163, 'trn_curvatures_loss': 0.00284479, 'consistency losses/trn_steer_cost': 0.02731967, 'consistency losses/trn_te_loss': 19.63133363, 'aux losses/trn_pitch_loss': 0.19399118, 'aux losses/trn_yaw_loss': 0.26449776, 'consistency losses/trn_%_updates_w_torque_delta_loss': 0.9453125, 'consistency losses/trn_torque_loss': 757.15264189, 'consistency losses/trn_torque_delta_loss': 16.13795863, 'logistical/max_param': 16.19278336, 'logistical/lr': 0.0003}\n",
      "{'logistical/obs_consumed_per_second': 236.1640625, 'logistical/obs_generated_per_second': 102.4921875, 'logistical/data_consumption_ratio': 2.30604227, 'logistical/manual_train_pause': 0.0, 'trn_control_loss': 0.01831669, 'trn_headings_loss': 0.00083765, 'trn_curvatures_loss': 0.00303072, 'consistency losses/trn_steer_cost': 0.02395552, 'consistency losses/trn_te_loss': 19.78620693, 'aux losses/trn_pitch_loss': 0.18802118, 'aux losses/trn_yaw_loss': 0.2761879, 'consistency losses/trn_%_updates_w_torque_delta_loss': 0.9375, 'consistency losses/trn_torque_loss': 834.18262327, 'consistency losses/trn_torque_delta_loss': 15.85207573, 'logistical/max_param': 16.1904335, 'logistical/lr': 0.0003}\n",
      "{'logistical/obs_consumed_per_second': 232.8046875, 'logistical/obs_generated_per_second': 95.1640625, 'logistical/data_consumption_ratio': 2.4462917, 'logistical/manual_train_pause': 0.00101562, 'trn_control_loss': 0.01487911, 'trn_headings_loss': 0.00076137, 'trn_curvatures_loss': 0.00279564, 'consistency losses/trn_steer_cost': 0.02607745, 'consistency losses/trn_te_loss': 19.82530178, 'aux losses/trn_pitch_loss': 0.16461658, 'aux losses/trn_yaw_loss': 0.26599836, 'consistency losses/trn_%_updates_w_torque_delta_loss': 0.9140625, 'consistency losses/trn_torque_loss': 719.31078345, 'consistency losses/trn_torque_delta_loss': 15.83728698, 'logistical/max_param': 16.19018173, 'logistical/lr': 0.0003}\n",
      "{'logistical/obs_consumed_per_second': 236.703125, 'logistical/obs_generated_per_second': 104.609375, 'logistical/data_consumption_ratio': 2.26505468, 'logistical/manual_train_pause': 0.00039062, 'trn_control_loss': 0.01897186, 'trn_headings_loss': 0.00085896, 'trn_curvatures_loss': 0.00316502, 'consistency losses/trn_steer_cost': 0.02620876, 'consistency losses/trn_te_loss': 19.52415846, 'aux losses/trn_pitch_loss': 0.2009325, 'aux losses/trn_yaw_loss': 0.32066107, 'consistency losses/trn_%_updates_w_torque_delta_loss': 0.9453125, 'consistency losses/trn_torque_loss': 842.92563657, 'consistency losses/trn_torque_delta_loss': 16.59691829, 'logistical/max_param': 16.19207191, 'logistical/lr': 0.0003}\n",
      "{'logistical/obs_consumed_per_second': 232.03125, 'logistical/obs_generated_per_second': 99.09375, 'logistical/data_consumption_ratio': 2.33823991, 'logistical/manual_train_pause': 0.00015625, 'trn_control_loss': 0.015773, 'trn_headings_loss': 0.00076513, 'trn_curvatures_loss': 0.00271391, 'consistency losses/trn_steer_cost': 0.023278, 'consistency losses/trn_te_loss': 19.78965841, 'aux losses/trn_pitch_loss': 0.20035553, 'aux losses/trn_yaw_loss': 0.29803038, 'consistency losses/trn_%_updates_w_torque_delta_loss': 0.9375, 'consistency losses/trn_torque_loss': 872.81493203, 'consistency losses/trn_torque_delta_loss': 18.6448151, 'logistical/max_param': 16.18686676, 'logistical/lr': 0.0003}\n",
      "{'logistical/obs_consumed_per_second': 134.0, 'logistical/obs_generated_per_second': 94.0, 'logistical/data_consumption_ratio': 1.41444713, 'logistical/manual_train_pause': 0.0}\n",
      "\n",
      "\n",
      " Eval...\n",
      "EPOCH 20\n",
      "\n",
      "{'trn_control_loss': 0.01727635, 'trn_headings_loss': 0.00078005, 'trn_curvatures_loss': 0.00265201, 'consistency losses/trn_steer_cost': 0.02549851, 'consistency losses/trn_te_loss': 19.64726034, 'aux losses/trn_pitch_loss': 0.17056775, 'aux losses/trn_yaw_loss': 0.27118111, 'consistency losses/trn_%_updates_w_torque_delta_loss': 0.9921875, 'consistency losses/trn_torque_loss': 1041.2643503, 'consistency losses/trn_torque_delta_loss': 19.55969977, 'logistical/obs_consumed_per_second': 233.77165354, 'logistical/obs_generated_per_second': 95.42519685, 'logistical/data_consumption_ratio': 2.45072063, 'logistical/manual_train_pause': 0.00244094, 'logistical/max_param': 16.18645287, 'logistical/lr': 0.0001}\n",
      "{'logistical/obs_consumed_per_second': 234.7109375, 'logistical/obs_generated_per_second': 100.7109375, 'logistical/data_consumption_ratio': 2.33151301, 'logistical/manual_train_pause': 7.812e-05, 'trn_control_loss': 0.01420471, 'trn_headings_loss': 0.00078639, 'trn_curvatures_loss': 0.00292153, 'consistency losses/trn_steer_cost': 0.02599061, 'consistency losses/trn_te_loss': 19.44863303, 'aux losses/trn_pitch_loss': 0.1664257, 'aux losses/trn_yaw_loss': 0.26281309, 'consistency losses/trn_%_updates_w_torque_delta_loss': 0.9609375, 'consistency losses/trn_torque_loss': 845.43994623, 'consistency losses/trn_torque_delta_loss': 16.25650262, 'logistical/max_param': 16.18599701, 'logistical/lr': 0.0001}\n",
      "{'logistical/obs_consumed_per_second': 236.5546875, 'logistical/obs_generated_per_second': 103.0, 'logistical/data_consumption_ratio': 2.29515504, 'logistical/manual_train_pause': 0.0, 'trn_control_loss': 0.01510844, 'trn_headings_loss': 0.00066958, 'trn_curvatures_loss': 0.00238352, 'consistency losses/trn_steer_cost': 0.02219069, 'consistency losses/trn_te_loss': 19.49725118, 'aux losses/trn_pitch_loss': 0.15857697, 'aux losses/trn_yaw_loss': 0.26519442, 'consistency losses/trn_%_updates_w_torque_delta_loss': 0.9296875, 'consistency losses/trn_torque_loss': 805.04293823, 'consistency losses/trn_torque_delta_loss': 15.46691203, 'logistical/max_param': 16.18511963, 'logistical/lr': 0.0001}\n",
      "{'logistical/obs_consumed_per_second': 234.5625, 'logistical/obs_generated_per_second': 106.4609375, 'logistical/data_consumption_ratio': 2.2042184, 'logistical/manual_train_pause': 0.0, 'trn_control_loss': 0.01340353, 'trn_headings_loss': 0.00067697, 'trn_curvatures_loss': 0.00236659, 'consistency losses/trn_steer_cost': 0.02584857, 'consistency losses/trn_te_loss': 19.32107422, 'aux losses/trn_pitch_loss': 0.15149212, 'aux losses/trn_yaw_loss': 0.24612236, 'consistency losses/trn_%_updates_w_torque_delta_loss': 0.8828125, 'consistency losses/trn_torque_loss': 769.27363157, 'consistency losses/trn_torque_delta_loss': 12.82136531, 'logistical/max_param': 16.18535995, 'logistical/lr': 0.0001}\n"
     ]
    },
    {
     "name": "stdout",
     "output_type": "stream",
     "text": [
      "{'logistical/obs_consumed_per_second': 233.6796875, 'logistical/obs_generated_per_second': 100.2109375, 'logistical/data_consumption_ratio': 2.33700261, 'logistical/manual_train_pause': 0.00015625, 'trn_control_loss': 0.0139845, 'trn_headings_loss': 0.00069295, 'trn_curvatures_loss': 0.00236253, 'consistency losses/trn_steer_cost': 0.02578211, 'consistency losses/trn_te_loss': 19.97722784, 'aux losses/trn_pitch_loss': 0.14017606, 'aux losses/trn_yaw_loss': 0.23521781, 'consistency losses/trn_%_updates_w_torque_delta_loss': 0.9453125, 'consistency losses/trn_torque_loss': 855.43900439, 'consistency losses/trn_torque_delta_loss': 16.02394129, 'logistical/max_param': 16.18462181, 'logistical/lr': 0.0001}\n",
      "{'logistical/obs_consumed_per_second': 236.53125, 'logistical/obs_generated_per_second': 102.2734375, 'logistical/data_consumption_ratio': 2.32276644, 'logistical/manual_train_pause': 0.00039062, 'trn_control_loss': 0.01652426, 'trn_headings_loss': 0.00075086, 'trn_curvatures_loss': 0.00274082, 'consistency losses/trn_steer_cost': 0.02518427, 'consistency losses/trn_te_loss': 19.09711315, 'aux losses/trn_pitch_loss': 0.1664896, 'aux losses/trn_yaw_loss': 0.30938864, 'consistency losses/trn_%_updates_w_torque_delta_loss': 0.9453125, 'consistency losses/trn_torque_loss': 865.4642995, 'consistency losses/trn_torque_delta_loss': 14.77200307, 'logistical/max_param': 16.1843338, 'logistical/lr': 0.0001}\n",
      "{'logistical/obs_consumed_per_second': 231.6640625, 'logistical/obs_generated_per_second': 104.65625, 'logistical/data_consumption_ratio': 2.21702803, 'logistical/manual_train_pause': 0.0, 'trn_control_loss': 0.01427898, 'trn_headings_loss': 0.00068231, 'trn_curvatures_loss': 0.00239982, 'consistency losses/trn_steer_cost': 0.02464354, 'consistency losses/trn_te_loss': 19.34581278, 'aux losses/trn_pitch_loss': 0.16977787, 'aux losses/trn_yaw_loss': 0.27578402, 'consistency losses/trn_%_updates_w_torque_delta_loss': 0.9453125, 'consistency losses/trn_torque_loss': 808.35699701, 'consistency losses/trn_torque_delta_loss': 16.57015686, 'logistical/max_param': 16.18394661, 'logistical/lr': 0.0001}\n",
      "{'logistical/obs_consumed_per_second': 229.140625, 'logistical/obs_generated_per_second': 100.109375, 'logistical/data_consumption_ratio': 2.29005937, 'logistical/manual_train_pause': 0.0, 'trn_control_loss': 0.01475036, 'trn_headings_loss': 0.00070211, 'trn_curvatures_loss': 0.00246038, 'consistency losses/trn_steer_cost': 0.02599972, 'consistency losses/trn_te_loss': 19.26375481, 'aux losses/trn_pitch_loss': 0.1600647, 'aux losses/trn_yaw_loss': 0.26343393, 'consistency losses/trn_%_updates_w_torque_delta_loss': 0.9140625, 'consistency losses/trn_torque_loss': 760.25328712, 'consistency losses/trn_torque_delta_loss': 13.01919226, 'logistical/max_param': 16.18288231, 'logistical/lr': 0.0001}\n",
      "{'logistical/obs_consumed_per_second': 233.390625, 'logistical/obs_generated_per_second': 103.359375, 'logistical/data_consumption_ratio': 2.25920309, 'logistical/manual_train_pause': 0.0, 'trn_control_loss': 0.01459759, 'trn_headings_loss': 0.00071582, 'trn_curvatures_loss': 0.0025851, 'consistency losses/trn_steer_cost': 0.02348274, 'consistency losses/trn_te_loss': 19.38684863, 'aux losses/trn_pitch_loss': 0.1579051, 'aux losses/trn_yaw_loss': 0.27448559, 'consistency losses/trn_%_updates_w_torque_delta_loss': 0.9296875, 'consistency losses/trn_torque_loss': 859.82638693, 'consistency losses/trn_torque_delta_loss': 14.2103546, 'logistical/max_param': 16.18203926, 'logistical/lr': 0.0001}\n",
      "{'logistical/obs_consumed_per_second': 236.8671875, 'logistical/obs_generated_per_second': 99.2890625, 'logistical/data_consumption_ratio': 2.38692911, 'logistical/manual_train_pause': 7.812e-05, 'trn_control_loss': 0.01532066, 'trn_headings_loss': 0.00073081, 'trn_curvatures_loss': 0.00282464, 'consistency losses/trn_steer_cost': 0.02616376, 'consistency losses/trn_te_loss': 19.3199521, 'aux losses/trn_pitch_loss': 0.1810708, 'aux losses/trn_yaw_loss': 0.23846769, 'consistency losses/trn_%_updates_w_torque_delta_loss': 0.953125, 'consistency losses/trn_torque_loss': 998.59235471, 'consistency losses/trn_torque_delta_loss': 17.9197812, 'logistical/max_param': 16.18270683, 'logistical/lr': 0.0001}\n",
      "{'logistical/obs_consumed_per_second': 204.0, 'logistical/obs_generated_per_second': 100.0, 'logistical/data_consumption_ratio': 2.03960981, 'logistical/manual_train_pause': 0.0}\n",
      "\n",
      "\n",
      " Eval...\n",
      "EPOCH 21\n",
      "\n",
      "{'trn_control_loss': 0.01408347, 'trn_headings_loss': 0.00071085, 'trn_curvatures_loss': 0.00268227, 'consistency losses/trn_steer_cost': 0.0243181, 'consistency losses/trn_te_loss': 19.18078667, 'aux losses/trn_pitch_loss': 0.16885781, 'aux losses/trn_yaw_loss': 0.2914362, 'consistency losses/trn_%_updates_w_torque_delta_loss': 0.8984375, 'consistency losses/trn_torque_loss': 755.99591485, 'consistency losses/trn_torque_delta_loss': 15.90304816, 'logistical/obs_consumed_per_second': 235.51181102, 'logistical/obs_generated_per_second': 96.70866142, 'logistical/data_consumption_ratio': 2.43577974, 'logistical/manual_train_pause': 0.00094488, 'logistical/max_param': 16.18306732, 'logistical/lr': 0.0001}\n",
      "{'logistical/obs_consumed_per_second': 231.3828125, 'logistical/obs_generated_per_second': 106.515625, 'logistical/data_consumption_ratio': 2.17030712, 'logistical/manual_train_pause': 7.812e-05, 'trn_control_loss': 0.01607564, 'trn_headings_loss': 0.00075893, 'trn_curvatures_loss': 0.00276106, 'consistency losses/trn_steer_cost': 0.02862734, 'consistency losses/trn_te_loss': 18.66043186, 'aux losses/trn_pitch_loss': 0.17620182, 'aux losses/trn_yaw_loss': 0.27118683, 'consistency losses/trn_%_updates_w_torque_delta_loss': 0.8984375, 'consistency losses/trn_torque_loss': 848.02950692, 'consistency losses/trn_torque_delta_loss': 16.43844225, 'logistical/max_param': 16.18255806, 'logistical/lr': 0.0001}\n",
      "{'logistical/obs_consumed_per_second': 231.6796875, 'logistical/obs_generated_per_second': 96.6171875, 'logistical/data_consumption_ratio': 2.39787716, 'logistical/manual_train_pause': 0.00039062, 'trn_control_loss': 0.01464769, 'trn_headings_loss': 0.00074777, 'trn_curvatures_loss': 0.00261059, 'consistency losses/trn_steer_cost': 0.02478045, 'consistency losses/trn_te_loss': 19.34986552, 'aux losses/trn_pitch_loss': 0.161129, 'aux losses/trn_yaw_loss': 0.24596882, 'consistency losses/trn_%_updates_w_torque_delta_loss': 0.9140625, 'consistency losses/trn_torque_loss': 845.33224714, 'consistency losses/trn_torque_delta_loss': 16.60655965, 'logistical/max_param': 16.18256187, 'logistical/lr': 0.0001}\n",
      "{'logistical/obs_consumed_per_second': 235.203125, 'logistical/obs_generated_per_second': 101.546875, 'logistical/data_consumption_ratio': 2.31334249, 'logistical/manual_train_pause': 0.0, 'trn_control_loss': 0.01471922, 'trn_headings_loss': 0.00070352, 'trn_curvatures_loss': 0.00270188, 'consistency losses/trn_steer_cost': 0.02904141, 'consistency losses/trn_te_loss': 18.7871163, 'aux losses/trn_pitch_loss': 0.16197824, 'aux losses/trn_yaw_loss': 0.25367975, 'consistency losses/trn_%_updates_w_torque_delta_loss': 0.9375, 'consistency losses/trn_torque_loss': 851.91909146, 'consistency losses/trn_torque_delta_loss': 14.93079018, 'logistical/max_param': 16.18134689, 'logistical/lr': 0.0001}\n",
      "{'logistical/obs_consumed_per_second': 235.515625, 'logistical/obs_generated_per_second': 102.046875, 'logistical/data_consumption_ratio': 2.30860813, 'logistical/manual_train_pause': 0.0, 'trn_control_loss': 0.01629287, 'trn_headings_loss': 0.0007999, 'trn_curvatures_loss': 0.00295775, 'consistency losses/trn_steer_cost': 0.02841246, 'consistency losses/trn_te_loss': 18.77825109, 'aux losses/trn_pitch_loss': 0.1737957, 'aux losses/trn_yaw_loss': 0.25875521, 'consistency losses/trn_%_updates_w_torque_delta_loss': 0.9609375, 'consistency losses/trn_torque_loss': 795.3780075, 'consistency losses/trn_torque_delta_loss': 16.40504298, 'logistical/max_param': 16.17996025, 'logistical/lr': 0.0001}\n",
      "{'logistical/obs_consumed_per_second': 232.625, 'logistical/obs_generated_per_second': 103.875, 'logistical/data_consumption_ratio': 2.24021645, 'logistical/manual_train_pause': 0.0, 'trn_control_loss': 0.01508904, 'trn_headings_loss': 0.00076997, 'trn_curvatures_loss': 0.00270969, 'consistency losses/trn_steer_cost': 0.02757871, 'consistency losses/trn_te_loss': 18.74977107, 'aux losses/trn_pitch_loss': 0.15828609, 'aux losses/trn_yaw_loss': 0.22943115, 'consistency losses/trn_%_updates_w_torque_delta_loss': 0.9296875, 'consistency losses/trn_torque_loss': 962.15966153, 'consistency losses/trn_torque_delta_loss': 15.59680641, 'logistical/max_param': 16.18007278, 'logistical/lr': 0.0001}\n"
     ]
    },
    {
     "name": "stdout",
     "output_type": "stream",
     "text": [
      "{'logistical/obs_consumed_per_second': 233.9453125, 'logistical/obs_generated_per_second': 105.6328125, 'logistical/data_consumption_ratio': 2.21285086, 'logistical/manual_train_pause': 0.0, 'trn_control_loss': 0.01564494, 'trn_headings_loss': 0.00074253, 'trn_curvatures_loss': 0.00270151, 'consistency losses/trn_steer_cost': 0.02835077, 'consistency losses/trn_te_loss': 18.9011234, 'aux losses/trn_pitch_loss': 0.16379356, 'aux losses/trn_yaw_loss': 0.23653126, 'consistency losses/trn_%_updates_w_torque_delta_loss': 0.90625, 'consistency losses/trn_torque_loss': 830.10454826, 'consistency losses/trn_torque_delta_loss': 14.54393287, 'logistical/max_param': 16.17874146, 'logistical/lr': 0.0001}\n",
      "{'logistical/obs_consumed_per_second': 237.4765625, 'logistical/obs_generated_per_second': 101.234375, 'logistical/data_consumption_ratio': 2.3446127, 'logistical/manual_train_pause': 7.812e-05, 'trn_control_loss': 0.01627013, 'trn_headings_loss': 0.00077613, 'trn_curvatures_loss': 0.00266562, 'consistency losses/trn_steer_cost': 0.02525371, 'consistency losses/trn_te_loss': 18.87422623, 'aux losses/trn_pitch_loss': 0.16643906, 'aux losses/trn_yaw_loss': 0.23723698, 'consistency losses/trn_%_updates_w_torque_delta_loss': 0.921875, 'consistency losses/trn_torque_loss': 909.54269421, 'consistency losses/trn_torque_delta_loss': 15.18603445, 'logistical/max_param': 16.18130493, 'logistical/lr': 0.0001}\n",
      "{'logistical/obs_consumed_per_second': 235.390625, 'logistical/obs_generated_per_second': 99.0, 'logistical/data_consumption_ratio': 2.37808347, 'logistical/manual_train_pause': 0.00046875, 'trn_control_loss': 0.01519215, 'trn_headings_loss': 0.00074854, 'trn_curvatures_loss': 0.00285773, 'consistency losses/trn_steer_cost': 0.03173232, 'consistency losses/trn_te_loss': 18.90802898, 'aux losses/trn_pitch_loss': 0.16011, 'aux losses/trn_yaw_loss': 0.24759531, 'consistency losses/trn_%_updates_w_torque_delta_loss': 0.96875, 'consistency losses/trn_torque_loss': 1008.29120851, 'consistency losses/trn_torque_delta_loss': 17.31293164, 'logistical/max_param': 16.18081474, 'logistical/lr': 0.0001}\n",
      "{'logistical/obs_consumed_per_second': 230.2109375, 'logistical/obs_generated_per_second': 100.8671875, 'logistical/data_consumption_ratio': 2.28212726, 'logistical/manual_train_pause': 0.0, 'trn_control_loss': 0.01492327, 'trn_headings_loss': 0.000727, 'trn_curvatures_loss': 0.00288045, 'consistency losses/trn_steer_cost': 0.02780366, 'consistency losses/trn_te_loss': 19.11834231, 'aux losses/trn_pitch_loss': 0.16624618, 'aux losses/trn_yaw_loss': 0.27170515, 'consistency losses/trn_%_updates_w_torque_delta_loss': 0.96875, 'consistency losses/trn_torque_loss': 837.03190601, 'consistency losses/trn_torque_delta_loss': 15.26039857, 'logistical/max_param': 16.18043327, 'logistical/lr': 0.0001}\n",
      "{'logistical/obs_consumed_per_second': 137.0, 'logistical/obs_generated_per_second': 102.0, 'logistical/data_consumption_ratio': 1.34004039, 'logistical/manual_train_pause': 0.0}\n",
      "\n",
      "\n",
      " Eval...\n",
      "EPOCH 22\n",
      "\n",
      "{'trn_control_loss': 0.01599291, 'trn_headings_loss': 0.00077807, 'trn_curvatures_loss': 0.0028839, 'consistency losses/trn_steer_cost': 0.02766716, 'consistency losses/trn_te_loss': 18.88635963, 'aux losses/trn_pitch_loss': 0.15875006, 'aux losses/trn_yaw_loss': 0.2891326, 'consistency losses/trn_%_updates_w_torque_delta_loss': 0.9296875, 'consistency losses/trn_torque_loss': 880.20938522, 'consistency losses/trn_torque_delta_loss': 16.00048611, 'logistical/obs_consumed_per_second': 235.04724409, 'logistical/obs_generated_per_second': 106.44094488, 'logistical/data_consumption_ratio': 2.20946194, 'logistical/manual_train_pause': 0.0, 'logistical/max_param': 16.18154335, 'logistical/lr': 0.0001}\n",
      "{'logistical/obs_consumed_per_second': 236.796875, 'logistical/obs_generated_per_second': 102.1171875, 'logistical/data_consumption_ratio': 2.31985873, 'logistical/manual_train_pause': 0.0, 'trn_control_loss': 0.01483145, 'trn_headings_loss': 0.00072273, 'trn_curvatures_loss': 0.00268311, 'consistency losses/trn_steer_cost': 0.0262785, 'consistency losses/trn_te_loss': 19.01744481, 'aux losses/trn_pitch_loss': 0.15322161, 'aux losses/trn_yaw_loss': 0.19292736, 'consistency losses/trn_%_updates_w_torque_delta_loss': 0.9375, 'consistency losses/trn_torque_loss': 814.95964617, 'consistency losses/trn_torque_delta_loss': 16.40199098, 'logistical/max_param': 16.1816864, 'logistical/lr': 0.0001}\n",
      "{'logistical/obs_consumed_per_second': 232.796875, 'logistical/obs_generated_per_second': 109.7265625, 'logistical/data_consumption_ratio': 2.12501774, 'logistical/manual_train_pause': 0.0, 'trn_control_loss': 0.01563984, 'trn_headings_loss': 0.00079062, 'trn_curvatures_loss': 0.00294566, 'consistency losses/trn_steer_cost': 0.02647418, 'consistency losses/trn_te_loss': 18.48296987, 'aux losses/trn_pitch_loss': 0.15403628, 'aux losses/trn_yaw_loss': 0.25568724, 'consistency losses/trn_%_updates_w_torque_delta_loss': 0.921875, 'consistency losses/trn_torque_loss': 925.10902482, 'consistency losses/trn_torque_delta_loss': 15.72483438, 'logistical/max_param': 16.18430519, 'logistical/lr': 0.0001}\n",
      "{'logistical/obs_consumed_per_second': 235.9609375, 'logistical/obs_generated_per_second': 102.4609375, 'logistical/data_consumption_ratio': 2.30639622, 'logistical/manual_train_pause': 7.812e-05, 'trn_control_loss': 0.01424247, 'trn_headings_loss': 0.0007416, 'trn_curvatures_loss': 0.00275166, 'consistency losses/trn_steer_cost': 0.02804554, 'consistency losses/trn_te_loss': 18.93677646, 'aux losses/trn_pitch_loss': 0.15516853, 'aux losses/trn_yaw_loss': 0.2343688, 'consistency losses/trn_%_updates_w_torque_delta_loss': 0.8984375, 'consistency losses/trn_torque_loss': 855.50974464, 'consistency losses/trn_torque_delta_loss': 15.30444108, 'logistical/max_param': 16.18436432, 'logistical/lr': 0.0001}\n",
      "{'logistical/obs_consumed_per_second': 238.5859375, 'logistical/obs_generated_per_second': 105.4140625, 'logistical/data_consumption_ratio': 2.2668063, 'logistical/manual_train_pause': 0.0, 'trn_control_loss': 0.01633328, 'trn_headings_loss': 0.00084567, 'trn_curvatures_loss': 0.00352055, 'consistency losses/trn_steer_cost': 0.03157306, 'consistency losses/trn_te_loss': 19.35184638, 'aux losses/trn_pitch_loss': 0.16726732, 'aux losses/trn_yaw_loss': 0.24706006, 'consistency losses/trn_%_updates_w_torque_delta_loss': 0.953125, 'consistency losses/trn_torque_loss': 975.72687276, 'consistency losses/trn_torque_delta_loss': 17.72461303, 'logistical/max_param': 16.18556213, 'logistical/lr': 0.0001}\n",
      "{'logistical/obs_consumed_per_second': 237.4296875, 'logistical/obs_generated_per_second': 95.421875, 'logistical/data_consumption_ratio': 2.49443634, 'logistical/manual_train_pause': 0.00101562, 'trn_control_loss': 0.01809448, 'trn_headings_loss': 0.00079506, 'trn_curvatures_loss': 0.00295646, 'consistency losses/trn_steer_cost': 0.02773786, 'consistency losses/trn_te_loss': 19.69886194, 'aux losses/trn_pitch_loss': 0.15690184, 'aux losses/trn_yaw_loss': 0.21522856, 'consistency losses/trn_%_updates_w_torque_delta_loss': 0.9453125, 'consistency losses/trn_torque_loss': 801.6281634, 'consistency losses/trn_torque_delta_loss': 14.21824966, 'logistical/max_param': 16.18763351, 'logistical/lr': 0.0001}\n",
      "{'logistical/obs_consumed_per_second': 237.234375, 'logistical/obs_generated_per_second': 96.8046875, 'logistical/data_consumption_ratio': 2.45215427, 'logistical/manual_train_pause': 0.00078125, 'trn_control_loss': 0.01472235, 'trn_headings_loss': 0.00069579, 'trn_curvatures_loss': 0.00247061, 'consistency losses/trn_steer_cost': 0.02480847, 'consistency losses/trn_te_loss': 19.01341547, 'aux losses/trn_pitch_loss': 0.1469245, 'aux losses/trn_yaw_loss': 0.24829602, 'consistency losses/trn_%_updates_w_torque_delta_loss': 0.9140625, 'consistency losses/trn_torque_loss': 877.67968512, 'consistency losses/trn_torque_delta_loss': 14.06016671, 'logistical/max_param': 16.18900108, 'logistical/lr': 0.0001}\n",
      "{'logistical/obs_consumed_per_second': 237.1484375, 'logistical/obs_generated_per_second': 103.53125, 'logistical/data_consumption_ratio': 2.29092266, 'logistical/manual_train_pause': 0.0, 'trn_control_loss': 0.01705119, 'trn_headings_loss': 0.00077309, 'trn_curvatures_loss': 0.00300007, 'consistency losses/trn_steer_cost': 0.02738303, 'consistency losses/trn_te_loss': 19.37171035, 'aux losses/trn_pitch_loss': 0.16530466, 'aux losses/trn_yaw_loss': 0.28015375, 'consistency losses/trn_%_updates_w_torque_delta_loss': 0.9375, 'consistency losses/trn_torque_loss': 972.85858679, 'consistency losses/trn_torque_delta_loss': 18.00600661, 'logistical/max_param': 16.18886948, 'logistical/lr': 0.0001}\n"
     ]
    },
    {
     "name": "stdout",
     "output_type": "stream",
     "text": [
      "{'logistical/obs_consumed_per_second': 231.734375, 'logistical/obs_generated_per_second': 104.9609375, 'logistical/data_consumption_ratio': 2.2100899, 'logistical/manual_train_pause': 0.0, 'trn_control_loss': 0.01651025, 'trn_headings_loss': 0.00079369, 'trn_curvatures_loss': 0.00318203, 'consistency losses/trn_steer_cost': 0.03171861, 'consistency losses/trn_te_loss': 19.07323492, 'aux losses/trn_pitch_loss': 0.15950942, 'aux losses/trn_yaw_loss': 0.26472855, 'consistency losses/trn_%_updates_w_torque_delta_loss': 0.9296875, 'consistency losses/trn_torque_loss': 813.2238822, 'consistency losses/trn_torque_delta_loss': 15.0151605, 'logistical/max_param': 16.18948174, 'logistical/lr': 0.0001}\n",
      "{'logistical/obs_consumed_per_second': 230.71875, 'logistical/obs_generated_per_second': 103.703125, 'logistical/data_consumption_ratio': 2.22230174, 'logistical/manual_train_pause': 0.0, 'trn_control_loss': 0.01479802, 'trn_headings_loss': 0.00072953, 'trn_curvatures_loss': 0.00260809, 'consistency losses/trn_steer_cost': 0.02769542, 'consistency losses/trn_te_loss': 19.10944749, 'aux losses/trn_pitch_loss': 0.18429136, 'aux losses/trn_yaw_loss': 0.24833584, 'consistency losses/trn_%_updates_w_torque_delta_loss': 0.9375, 'consistency losses/trn_torque_loss': 956.88681495, 'consistency losses/trn_torque_delta_loss': 18.19594785, 'logistical/max_param': 16.18828201, 'logistical/lr': 0.0001}\n",
      "{'logistical/obs_consumed_per_second': 174.0, 'logistical/obs_generated_per_second': 105.0, 'logistical/data_consumption_ratio': 1.65539751, 'logistical/manual_train_pause': 0.0}\n",
      "\n",
      "\n",
      " Eval...\n",
      "EPOCH 23\n",
      "\n",
      "{'trn_control_loss': 0.014606, 'trn_headings_loss': 0.00069272, 'trn_curvatures_loss': 0.00256142, 'consistency losses/trn_steer_cost': 0.02711874, 'consistency losses/trn_te_loss': 19.25297128, 'aux losses/trn_pitch_loss': 0.14776802, 'aux losses/trn_yaw_loss': 0.25361156, 'consistency losses/trn_%_updates_w_torque_delta_loss': 0.90625, 'consistency losses/trn_torque_loss': 891.41617471, 'consistency losses/trn_torque_delta_loss': 16.32063529, 'logistical/obs_consumed_per_second': 239.30708661, 'logistical/obs_generated_per_second': 105.67716535, 'logistical/data_consumption_ratio': 2.26646383, 'logistical/manual_train_pause': 0.0, 'logistical/max_param': 16.18914795, 'logistical/lr': 0.0001}\n",
      "{'logistical/obs_consumed_per_second': 231.75, 'logistical/obs_generated_per_second': 97.8515625, 'logistical/data_consumption_ratio': 2.37836224, 'logistical/manual_train_pause': 0.00179688, 'trn_control_loss': 0.01551759, 'trn_headings_loss': 0.00074281, 'trn_curvatures_loss': 0.00257038, 'consistency losses/trn_steer_cost': 0.0252291, 'consistency losses/trn_te_loss': 19.38168082, 'aux losses/trn_pitch_loss': 0.17422342, 'aux losses/trn_yaw_loss': 0.24938297, 'consistency losses/trn_%_updates_w_torque_delta_loss': 0.921875, 'consistency losses/trn_torque_loss': 847.08864427, 'consistency losses/trn_torque_delta_loss': 16.75152543, 'logistical/max_param': 16.19038773, 'logistical/lr': 0.0001}\n",
      "{'logistical/obs_consumed_per_second': 235.421875, 'logistical/obs_generated_per_second': 105.5546875, 'logistical/data_consumption_ratio': 2.23432603, 'logistical/manual_train_pause': 0.0, 'trn_control_loss': 0.0141961, 'trn_headings_loss': 0.00069969, 'trn_curvatures_loss': 0.00266611, 'consistency losses/trn_steer_cost': 0.02666867, 'consistency losses/trn_te_loss': 19.08872651, 'aux losses/trn_pitch_loss': 0.15802956, 'aux losses/trn_yaw_loss': 0.27696323, 'consistency losses/trn_%_updates_w_torque_delta_loss': 0.96875, 'consistency losses/trn_torque_loss': 915.11574054, 'consistency losses/trn_torque_delta_loss': 15.12916724, 'logistical/max_param': 16.19079971, 'logistical/lr': 0.0001}\n",
      "{'logistical/obs_consumed_per_second': 229.7890625, 'logistical/obs_generated_per_second': 100.6328125, 'logistical/data_consumption_ratio': 2.28343429, 'logistical/manual_train_pause': 0.00015625, 'trn_control_loss': 0.01483911, 'trn_headings_loss': 0.00070713, 'trn_curvatures_loss': 0.00274051, 'consistency losses/trn_steer_cost': 0.02659672, 'consistency losses/trn_te_loss': 19.61439215, 'aux losses/trn_pitch_loss': 0.18209982, 'aux losses/trn_yaw_loss': 0.23413849, 'consistency losses/trn_%_updates_w_torque_delta_loss': 0.9609375, 'consistency losses/trn_torque_loss': 848.8296656, 'consistency losses/trn_torque_delta_loss': 16.33323316, 'logistical/max_param': 16.19034767, 'logistical/lr': 0.0001}\n",
      "{'logistical/obs_consumed_per_second': 237.78125, 'logistical/obs_generated_per_second': 101.828125, 'logistical/data_consumption_ratio': 2.33897772, 'logistical/manual_train_pause': 0.00054688, 'trn_control_loss': 0.01515996, 'trn_headings_loss': 0.00077711, 'trn_curvatures_loss': 0.00320813, 'consistency losses/trn_steer_cost': 0.03035665, 'consistency losses/trn_te_loss': 19.38660493, 'aux losses/trn_pitch_loss': 0.17465949, 'aux losses/trn_yaw_loss': 0.24003839, 'consistency losses/trn_%_updates_w_torque_delta_loss': 0.90625, 'consistency losses/trn_torque_loss': 797.18566394, 'consistency losses/trn_torque_delta_loss': 14.75399812, 'logistical/max_param': 16.19233322, 'logistical/lr': 0.0001}\n",
      "{'logistical/obs_consumed_per_second': 230.109375, 'logistical/obs_generated_per_second': 110.65625, 'logistical/data_consumption_ratio': 2.08182304, 'logistical/manual_train_pause': 0.0, 'trn_control_loss': 0.01590711, 'trn_headings_loss': 0.00073818, 'trn_curvatures_loss': 0.00257872, 'consistency losses/trn_steer_cost': 0.02807575, 'consistency losses/trn_te_loss': 18.94879308, 'aux losses/trn_pitch_loss': 0.16825294, 'aux losses/trn_yaw_loss': 0.25900078, 'consistency losses/trn_%_updates_w_torque_delta_loss': 0.8984375, 'consistency losses/trn_torque_loss': 746.94539997, 'consistency losses/trn_torque_delta_loss': 16.20835808, 'logistical/max_param': 16.19525337, 'logistical/lr': 0.0001}\n",
      "{'logistical/obs_consumed_per_second': 234.4140625, 'logistical/obs_generated_per_second': 107.5078125, 'logistical/data_consumption_ratio': 2.18352624, 'logistical/manual_train_pause': 0.0, 'trn_control_loss': 0.01562291, 'trn_headings_loss': 0.00073653, 'trn_curvatures_loss': 0.00289648, 'consistency losses/trn_steer_cost': 0.0276382, 'consistency losses/trn_te_loss': 19.3241004, 'aux losses/trn_pitch_loss': 0.17858028, 'aux losses/trn_yaw_loss': 0.24270296, 'consistency losses/trn_%_updates_w_torque_delta_loss': 0.9453125, 'consistency losses/trn_torque_loss': 817.30575076, 'consistency losses/trn_torque_delta_loss': 14.05704094, 'logistical/max_param': 16.19465828, 'logistical/lr': 0.0001}\n",
      "{'logistical/obs_consumed_per_second': 232.890625, 'logistical/obs_generated_per_second': 105.1796875, 'logistical/data_consumption_ratio': 2.21363579, 'logistical/manual_train_pause': 0.0, 'trn_control_loss': 0.01458013, 'trn_headings_loss': 0.00065156, 'trn_curvatures_loss': 0.00229391, 'consistency losses/trn_steer_cost': 0.02592474, 'consistency losses/trn_te_loss': 19.70583639, 'aux losses/trn_pitch_loss': 0.17679834, 'aux losses/trn_yaw_loss': 0.25288963, 'consistency losses/trn_%_updates_w_torque_delta_loss': 0.9375, 'consistency losses/trn_torque_loss': 961.71482992, 'consistency losses/trn_torque_delta_loss': 17.7529754, 'logistical/max_param': 16.19479561, 'logistical/lr': 0.0001}\n",
      "{'logistical/obs_consumed_per_second': 228.375, 'logistical/obs_generated_per_second': 101.6015625, 'logistical/data_consumption_ratio': 2.25090948, 'logistical/manual_train_pause': 0.0, 'trn_control_loss': 0.01334348, 'trn_headings_loss': 0.00065144, 'trn_curvatures_loss': 0.0023184, 'consistency losses/trn_steer_cost': 0.02485061, 'consistency losses/trn_te_loss': 19.64715044, 'aux losses/trn_pitch_loss': 0.16434431, 'aux losses/trn_yaw_loss': 0.20318079, 'consistency losses/trn_%_updates_w_torque_delta_loss': 0.9453125, 'consistency losses/trn_torque_loss': 804.13889635, 'consistency losses/trn_torque_delta_loss': 15.36059449, 'logistical/max_param': 16.19482803, 'logistical/lr': 0.0001}\n",
      "{'logistical/obs_consumed_per_second': 232.3359375, 'logistical/obs_generated_per_second': 105.453125, 'logistical/data_consumption_ratio': 2.20617851, 'logistical/manual_train_pause': 0.0, 'trn_control_loss': 0.01534522, 'trn_headings_loss': 0.00068926, 'trn_curvatures_loss': 0.00252733, 'consistency losses/trn_steer_cost': 0.02833319, 'consistency losses/trn_te_loss': 20.07268031, 'aux losses/trn_pitch_loss': 0.1536088, 'aux losses/trn_yaw_loss': 0.22911644, 'consistency losses/trn_%_updates_w_torque_delta_loss': 0.9375, 'consistency losses/trn_torque_loss': 1000.92976999, 'consistency losses/trn_torque_delta_loss': 19.4045346, 'logistical/max_param': 16.19522285, 'logistical/lr': 0.0001}\n"
     ]
    },
    {
     "name": "stdout",
     "output_type": "stream",
     "text": [
      "{'logistical/obs_consumed_per_second': 152.0, 'logistical/obs_generated_per_second': 105.0, 'logistical/data_consumption_ratio': 1.44906883, 'logistical/manual_train_pause': 0.0}\n",
      "\n",
      "\n",
      " Eval...\n",
      "EPOCH 24\n",
      "\n",
      "{'trn_control_loss': 0.01527101, 'trn_headings_loss': 0.00077538, 'trn_curvatures_loss': 0.00300062, 'consistency losses/trn_steer_cost': 0.02844238, 'consistency losses/trn_te_loss': 19.9769253, 'aux losses/trn_pitch_loss': 0.17507505, 'aux losses/trn_yaw_loss': 0.28779697, 'consistency losses/trn_%_updates_w_torque_delta_loss': 0.9453125, 'consistency losses/trn_torque_loss': 858.34999478, 'consistency losses/trn_torque_delta_loss': 14.95119312, 'logistical/obs_consumed_per_second': 236.61417323, 'logistical/obs_generated_per_second': 107.86614173, 'logistical/data_consumption_ratio': 2.1970078, 'logistical/manual_train_pause': 0.0, 'logistical/max_param': 16.19512177, 'logistical/lr': 0.0001}\n",
      "{'logistical/obs_consumed_per_second': 234.4609375, 'logistical/obs_generated_per_second': 101.421875, 'logistical/data_consumption_ratio': 2.31387941, 'logistical/manual_train_pause': 0.0, 'trn_control_loss': 0.01534954, 'trn_headings_loss': 0.00074176, 'trn_curvatures_loss': 0.00279713, 'consistency losses/trn_steer_cost': 0.02657109, 'consistency losses/trn_te_loss': 19.34509583, 'aux losses/trn_pitch_loss': 0.16403055, 'aux losses/trn_yaw_loss': 0.30888081, 'consistency losses/trn_%_updates_w_torque_delta_loss': 0.890625, 'consistency losses/trn_torque_loss': 714.62924042, 'consistency losses/trn_torque_delta_loss': 12.85330847, 'logistical/max_param': 16.19570541, 'logistical/lr': 0.0001}\n",
      "{'logistical/obs_consumed_per_second': 227.375, 'logistical/obs_generated_per_second': 101.609375, 'logistical/data_consumption_ratio': 2.2422451, 'logistical/manual_train_pause': 0.00023438, 'trn_control_loss': 0.01378426, 'trn_headings_loss': 0.0006482, 'trn_curvatures_loss': 0.00244671, 'consistency losses/trn_steer_cost': 0.0258311, 'consistency losses/trn_te_loss': 19.77441789, 'aux losses/trn_pitch_loss': 0.14177084, 'aux losses/trn_yaw_loss': 0.276963, 'consistency losses/trn_%_updates_w_torque_delta_loss': 0.9375, 'consistency losses/trn_torque_loss': 810.49175173, 'consistency losses/trn_torque_delta_loss': 15.83249091, 'logistical/max_param': 16.195467, 'logistical/lr': 0.0001}\n",
      "{'logistical/obs_consumed_per_second': 229.3515625, 'logistical/obs_generated_per_second': 102.609375, 'logistical/data_consumption_ratio': 2.23658084, 'logistical/manual_train_pause': 0.00015625, 'trn_control_loss': 0.01747918, 'trn_headings_loss': 0.0007961, 'trn_curvatures_loss': 0.00285014, 'consistency losses/trn_steer_cost': 0.0259099, 'consistency losses/trn_te_loss': 19.61080103, 'aux losses/trn_pitch_loss': 0.1563201, 'aux losses/trn_yaw_loss': 0.23987579, 'consistency losses/trn_%_updates_w_torque_delta_loss': 0.9140625, 'consistency losses/trn_torque_loss': 902.0733943, 'consistency losses/trn_torque_delta_loss': 16.58830082, 'logistical/max_param': 16.19658661, 'logistical/lr': 0.0001}\n",
      "{'logistical/obs_consumed_per_second': 237.03125, 'logistical/obs_generated_per_second': 104.6640625, 'logistical/data_consumption_ratio': 2.26427926, 'logistical/manual_train_pause': 7.812e-05, 'trn_control_loss': 0.01662251, 'trn_headings_loss': 0.0007782, 'trn_curvatures_loss': 0.00337115, 'consistency losses/trn_steer_cost': 0.02648258, 'consistency losses/trn_te_loss': 19.62178478, 'aux losses/trn_pitch_loss': 0.18317127, 'aux losses/trn_yaw_loss': 0.29970407, 'consistency losses/trn_%_updates_w_torque_delta_loss': 0.953125, 'consistency losses/trn_torque_loss': 787.13031673, 'consistency losses/trn_torque_delta_loss': 14.32527735, 'logistical/max_param': 16.19656754, 'logistical/lr': 0.0001}\n",
      "{'logistical/obs_consumed_per_second': 239.3671875, 'logistical/obs_generated_per_second': 104.2734375, 'logistical/data_consumption_ratio': 2.29919689, 'logistical/manual_train_pause': 0.0, 'trn_control_loss': 0.02099782, 'trn_headings_loss': 0.00087384, 'trn_curvatures_loss': 0.00391868, 'consistency losses/trn_steer_cost': 0.03233272, 'consistency losses/trn_te_loss': 19.69767036, 'aux losses/trn_pitch_loss': 0.19699287, 'aux losses/trn_yaw_loss': 0.25009918, 'consistency losses/trn_%_updates_w_torque_delta_loss': 0.9140625, 'consistency losses/trn_torque_loss': 861.85094771, 'consistency losses/trn_torque_delta_loss': 16.54812632, 'logistical/max_param': 16.19505119, 'logistical/lr': 0.0001}\n",
      "{'logistical/obs_consumed_per_second': 236.3828125, 'logistical/obs_generated_per_second': 98.546875, 'logistical/data_consumption_ratio': 2.40508693, 'logistical/manual_train_pause': 0.0009375, 'trn_control_loss': 0.01730552, 'trn_headings_loss': 0.00081258, 'trn_curvatures_loss': 0.00318632, 'consistency losses/trn_steer_cost': 0.02868849, 'consistency losses/trn_te_loss': 19.67279084, 'aux losses/trn_pitch_loss': 0.17173529, 'aux losses/trn_yaw_loss': 0.30396271, 'consistency losses/trn_%_updates_w_torque_delta_loss': 0.9765625, 'consistency losses/trn_torque_loss': 841.92856854, 'consistency losses/trn_torque_delta_loss': 15.671559, 'logistical/max_param': 16.19527435, 'logistical/lr': 0.0001}\n",
      "{'logistical/obs_consumed_per_second': 236.890625, 'logistical/obs_generated_per_second': 102.4140625, 'logistical/data_consumption_ratio': 2.31065011, 'logistical/manual_train_pause': 0.0, 'trn_control_loss': 0.01809493, 'trn_headings_loss': 0.00079115, 'trn_curvatures_loss': 0.00308777, 'consistency losses/trn_steer_cost': 0.02676213, 'consistency losses/trn_te_loss': 19.76064441, 'aux losses/trn_pitch_loss': 0.17790794, 'aux losses/trn_yaw_loss': 0.2344172, 'consistency losses/trn_%_updates_w_torque_delta_loss': 0.921875, 'consistency losses/trn_torque_loss': 695.24515688, 'consistency losses/trn_torque_delta_loss': 13.94218706, 'logistical/max_param': 16.19380188, 'logistical/lr': 0.0001}\n",
      "{'logistical/obs_consumed_per_second': 232.28125, 'logistical/obs_generated_per_second': 107.4609375, 'logistical/data_consumption_ratio': 2.16077891, 'logistical/manual_train_pause': 0.0, 'trn_control_loss': 0.01541319, 'trn_headings_loss': 0.00075725, 'trn_curvatures_loss': 0.00288667, 'consistency losses/trn_steer_cost': 0.027915, 'consistency losses/trn_te_loss': 19.41952227, 'aux losses/trn_pitch_loss': 0.16340423, 'aux losses/trn_yaw_loss': 0.240906, 'consistency losses/trn_%_updates_w_torque_delta_loss': 0.90625, 'consistency losses/trn_torque_loss': 801.36091274, 'consistency losses/trn_torque_delta_loss': 13.49002399, 'logistical/max_param': 16.19392967, 'logistical/lr': 0.0001}\n",
      "{'logistical/obs_consumed_per_second': 234.7421875, 'logistical/obs_generated_per_second': 104.453125, 'logistical/data_consumption_ratio': 2.2555502, 'logistical/manual_train_pause': 7.812e-05, 'trn_control_loss': 0.0140363, 'trn_headings_loss': 0.00069683, 'trn_curvatures_loss': 0.00252827, 'consistency losses/trn_steer_cost': 0.02309614, 'consistency losses/trn_te_loss': 19.77648814, 'aux losses/trn_pitch_loss': 0.1709857, 'aux losses/trn_yaw_loss': 0.24059248, 'consistency losses/trn_%_updates_w_torque_delta_loss': 0.8984375, 'consistency losses/trn_torque_loss': 791.68485069, 'consistency losses/trn_torque_delta_loss': 13.8520652, 'logistical/max_param': 16.19421959, 'logistical/lr': 0.0001}\n",
      "{'logistical/obs_consumed_per_second': 131.0, 'logistical/obs_generated_per_second': 90.0, 'logistical/data_consumption_ratio': 1.45027658, 'logistical/manual_train_pause': 0.0}\n",
      "\n",
      "\n",
      " Eval...\n",
      "EPOCH 25\n",
      "\n",
      "{'trn_control_loss': 0.01682442, 'trn_headings_loss': 0.0007723, 'trn_curvatures_loss': 0.00270413, 'consistency losses/trn_steer_cost': 0.0296402, 'consistency losses/trn_te_loss': 19.17935824, 'aux losses/trn_pitch_loss': 0.15518928, 'aux losses/trn_yaw_loss': 0.23498631, 'consistency losses/trn_%_updates_w_torque_delta_loss': 0.9140625, 'consistency losses/trn_torque_loss': 768.11386138, 'consistency losses/trn_torque_delta_loss': 15.03621846, 'logistical/obs_consumed_per_second': 232.87401575, 'logistical/obs_generated_per_second': 100.54330709, 'logistical/data_consumption_ratio': 2.32849055, 'logistical/manual_train_pause': 0.00031496, 'logistical/max_param': 16.19549942, 'logistical/lr': 0.0001}\n",
      "{'logistical/obs_consumed_per_second': 232.0, 'logistical/obs_generated_per_second': 105.921875, 'logistical/data_consumption_ratio': 2.18934251, 'logistical/manual_train_pause': 0.0, 'trn_control_loss': 0.01273221, 'trn_headings_loss': 0.00066355, 'trn_curvatures_loss': 0.00228589, 'consistency losses/trn_steer_cost': 0.01965982, 'consistency losses/trn_te_loss': 20.19294369, 'aux losses/trn_pitch_loss': 0.15748978, 'aux losses/trn_yaw_loss': 0.22423387, 'consistency losses/trn_%_updates_w_torque_delta_loss': 0.9453125, 'consistency losses/trn_torque_loss': 920.07605135, 'consistency losses/trn_torque_delta_loss': 17.38179747, 'logistical/max_param': 16.19558525, 'logistical/lr': 0.0001}\n"
     ]
    },
    {
     "name": "stdout",
     "output_type": "stream",
     "text": [
      "{'logistical/obs_consumed_per_second': 234.0234375, 'logistical/obs_generated_per_second': 106.625, 'logistical/data_consumption_ratio': 2.1995745, 'logistical/manual_train_pause': 0.0, 'trn_control_loss': 0.01478294, 'trn_headings_loss': 0.00068885, 'trn_curvatures_loss': 0.00256208, 'consistency losses/trn_steer_cost': 0.02646995, 'consistency losses/trn_te_loss': 19.90541904, 'aux losses/trn_pitch_loss': 0.167871, 'aux losses/trn_yaw_loss': 0.25191569, 'consistency losses/trn_%_updates_w_torque_delta_loss': 0.875, 'consistency losses/trn_torque_loss': 735.75413701, 'consistency losses/trn_torque_delta_loss': 14.60085759, 'logistical/max_param': 16.1963253, 'logistical/lr': 0.0001}\n",
      "{'logistical/obs_consumed_per_second': 229.4375, 'logistical/obs_generated_per_second': 98.578125, 'logistical/data_consumption_ratio': 2.32959096, 'logistical/manual_train_pause': 0.0003125, 'trn_control_loss': 0.0173192, 'trn_headings_loss': 0.00076417, 'trn_curvatures_loss': 0.00277057, 'consistency losses/trn_steer_cost': 0.02751356, 'consistency losses/trn_te_loss': 19.27221134, 'aux losses/trn_pitch_loss': 0.1844697, 'aux losses/trn_yaw_loss': 0.23285103, 'consistency losses/trn_%_updates_w_torque_delta_loss': 0.890625, 'consistency losses/trn_torque_loss': 703.29747061, 'consistency losses/trn_torque_delta_loss': 14.65643829, 'logistical/max_param': 16.19711494, 'logistical/lr': 0.0001}\n",
      "{'logistical/obs_consumed_per_second': 232.34375, 'logistical/obs_generated_per_second': 105.8359375, 'logistical/data_consumption_ratio': 2.20075301, 'logistical/manual_train_pause': 0.0, 'trn_control_loss': 0.01861995, 'trn_headings_loss': 0.00087564, 'trn_curvatures_loss': 0.00382804, 'consistency losses/trn_steer_cost': 0.02794677, 'consistency losses/trn_te_loss': 18.93822479, 'aux losses/trn_pitch_loss': 0.16051698, 'aux losses/trn_yaw_loss': 0.3018465, 'consistency losses/trn_%_updates_w_torque_delta_loss': 0.9296875, 'consistency losses/trn_torque_loss': 855.19489264, 'consistency losses/trn_torque_delta_loss': 15.15524361, 'logistical/max_param': 16.19598007, 'logistical/lr': 0.0001}\n",
      "{'logistical/obs_consumed_per_second': 228.796875, 'logistical/obs_generated_per_second': 104.4140625, 'logistical/data_consumption_ratio': 2.19831596, 'logistical/manual_train_pause': 7.812e-05, 'trn_control_loss': 0.01912737, 'trn_headings_loss': 0.0008127, 'trn_curvatures_loss': 0.00295524, 'consistency losses/trn_steer_cost': 0.02862507, 'consistency losses/trn_te_loss': 18.9922777, 'aux losses/trn_pitch_loss': 0.17024899, 'aux losses/trn_yaw_loss': 0.29269838, 'consistency losses/trn_%_updates_w_torque_delta_loss': 0.9296875, 'consistency losses/trn_torque_loss': 790.68506762, 'consistency losses/trn_torque_delta_loss': 13.75425115, 'logistical/max_param': 16.19264412, 'logistical/lr': 0.0001}\n",
      "{'logistical/obs_consumed_per_second': 235.078125, 'logistical/obs_generated_per_second': 103.3046875, 'logistical/data_consumption_ratio': 2.277414, 'logistical/manual_train_pause': 0.0, 'trn_control_loss': 0.01515293, 'trn_headings_loss': 0.00080759, 'trn_curvatures_loss': 0.00307631, 'consistency losses/trn_steer_cost': 0.02729422, 'consistency losses/trn_te_loss': 19.57938671, 'aux losses/trn_pitch_loss': 0.13970876, 'aux losses/trn_yaw_loss': 0.27560091, 'consistency losses/trn_%_updates_w_torque_delta_loss': 0.9296875, 'consistency losses/trn_torque_loss': 886.02881646, 'consistency losses/trn_torque_delta_loss': 16.30592783, 'logistical/max_param': 16.19166565, 'logistical/lr': 0.0001}\n",
      "{'logistical/obs_consumed_per_second': 236.96875, 'logistical/obs_generated_per_second': 107.9296875, 'logistical/data_consumption_ratio': 2.1917911, 'logistical/manual_train_pause': 0.0, 'trn_control_loss': 0.01907548, 'trn_headings_loss': 0.00091802, 'trn_curvatures_loss': 0.00407716, 'consistency losses/trn_steer_cost': 0.03059238, 'consistency losses/trn_te_loss': 19.2952259, 'aux losses/trn_pitch_loss': 0.1645565, 'aux losses/trn_yaw_loss': 0.27489758, 'consistency losses/trn_%_updates_w_torque_delta_loss': 0.890625, 'consistency losses/trn_torque_loss': 826.47276163, 'consistency losses/trn_torque_delta_loss': 14.2150476, 'logistical/max_param': 16.19212723, 'logistical/lr': 0.0001}\n",
      "{'logistical/obs_consumed_per_second': 235.4921875, 'logistical/obs_generated_per_second': 106.1875, 'logistical/data_consumption_ratio': 2.21736815, 'logistical/manual_train_pause': 0.0, 'trn_control_loss': 0.0126878, 'trn_headings_loss': 0.00062105, 'trn_curvatures_loss': 0.00226504, 'consistency losses/trn_steer_cost': 0.02465832, 'consistency losses/trn_te_loss': 18.96827497, 'aux losses/trn_pitch_loss': 0.15299129, 'aux losses/trn_yaw_loss': 0.24762964, 'consistency losses/trn_%_updates_w_torque_delta_loss': 0.8671875, 'consistency losses/trn_torque_loss': 763.55673314, 'consistency losses/trn_torque_delta_loss': 14.9116174, 'logistical/max_param': 16.19238663, 'logistical/lr': 0.0001}\n",
      "{'logistical/obs_consumed_per_second': 238.34375, 'logistical/obs_generated_per_second': 94.5078125, 'logistical/data_consumption_ratio': 2.52705414, 'logistical/manual_train_pause': 0.00210938, 'trn_control_loss': 0.0180878, 'trn_headings_loss': 0.00080967, 'trn_curvatures_loss': 0.00346068, 'consistency losses/trn_steer_cost': 0.03041631, 'consistency losses/trn_te_loss': 19.27242021, 'aux losses/trn_pitch_loss': 0.15214062, 'aux losses/trn_yaw_loss': 0.28663111, 'consistency losses/trn_%_updates_w_torque_delta_loss': 0.9453125, 'consistency losses/trn_torque_loss': 876.6100356, 'consistency losses/trn_torque_delta_loss': 13.80706346, 'logistical/max_param': 16.19424057, 'logistical/lr': 0.0001}\n",
      "{'logistical/obs_consumed_per_second': 167.0, 'logistical/obs_generated_per_second': 99.0, 'logistical/data_consumption_ratio': 1.68250598, 'logistical/manual_train_pause': 0.0}\n",
      "\n",
      "\n",
      " Eval...\n",
      "EPOCH 26\n",
      "\n",
      "{'trn_control_loss': 0.01589784, 'trn_headings_loss': 0.00076291, 'trn_curvatures_loss': 0.00318007, 'consistency losses/trn_steer_cost': 0.02784342, 'consistency losses/trn_te_loss': 19.69096617, 'aux losses/trn_pitch_loss': 0.15328407, 'aux losses/trn_yaw_loss': 0.25605536, 'consistency losses/trn_%_updates_w_torque_delta_loss': 0.953125, 'consistency losses/trn_torque_loss': 837.44643636, 'consistency losses/trn_torque_delta_loss': 18.43158962, 'logistical/obs_consumed_per_second': 228.55905512, 'logistical/obs_generated_per_second': 102.25984252, 'logistical/data_consumption_ratio': 2.23658436, 'logistical/manual_train_pause': 0.0, 'logistical/max_param': 16.19434738, 'logistical/lr': 0.0001}\n",
      "{'logistical/obs_consumed_per_second': 239.5546875, 'logistical/obs_generated_per_second': 105.0078125, 'logistical/data_consumption_ratio': 2.28219317, 'logistical/manual_train_pause': 0.0, 'trn_control_loss': 0.01567066, 'trn_headings_loss': 0.00074011, 'trn_curvatures_loss': 0.00291898, 'consistency losses/trn_steer_cost': 0.02756369, 'consistency losses/trn_te_loss': 19.04586022, 'aux losses/trn_pitch_loss': 0.16434932, 'aux losses/trn_yaw_loss': 0.28568459, 'consistency losses/trn_%_updates_w_torque_delta_loss': 0.9296875, 'consistency losses/trn_torque_loss': 818.80337512, 'consistency losses/trn_torque_delta_loss': 15.95286652, 'logistical/max_param': 16.19454575, 'logistical/lr': 0.0001}\n",
      "{'logistical/obs_consumed_per_second': 231.6640625, 'logistical/obs_generated_per_second': 103.8828125, 'logistical/data_consumption_ratio': 2.23417332, 'logistical/manual_train_pause': 0.0, 'trn_control_loss': 0.01393402, 'trn_headings_loss': 0.00065654, 'trn_curvatures_loss': 0.00251908, 'consistency losses/trn_steer_cost': 0.02558208, 'consistency losses/trn_te_loss': 19.21772029, 'aux losses/trn_pitch_loss': 0.15525246, 'aux losses/trn_yaw_loss': 0.24621868, 'consistency losses/trn_%_updates_w_torque_delta_loss': 0.875, 'consistency losses/trn_torque_loss': 802.09260106, 'consistency losses/trn_torque_delta_loss': 14.80721425, 'logistical/max_param': 16.19533539, 'logistical/lr': 0.0001}\n",
      "{'logistical/obs_consumed_per_second': 235.96875, 'logistical/obs_generated_per_second': 104.140625, 'logistical/data_consumption_ratio': 2.26331564, 'logistical/manual_train_pause': 0.0, 'trn_control_loss': 0.01526552, 'trn_headings_loss': 0.00073187, 'trn_curvatures_loss': 0.00289731, 'consistency losses/trn_steer_cost': 0.02977753, 'consistency losses/trn_te_loss': 19.01938119, 'aux losses/trn_pitch_loss': 0.1534996, 'aux losses/trn_yaw_loss': 0.26704311, 'consistency losses/trn_%_updates_w_torque_delta_loss': 0.890625, 'consistency losses/trn_torque_loss': 759.23790837, 'consistency losses/trn_torque_delta_loss': 14.62136639, 'logistical/max_param': 16.19500542, 'logistical/lr': 0.0001}\n"
     ]
    },
    {
     "name": "stdout",
     "output_type": "stream",
     "text": [
      "{'logistical/obs_consumed_per_second': 236.8046875, 'logistical/obs_generated_per_second': 105.0859375, 'logistical/data_consumption_ratio': 2.2551012, 'logistical/manual_train_pause': 0.0, 'trn_control_loss': 0.01535365, 'trn_headings_loss': 0.00072647, 'trn_curvatures_loss': 0.00267092, 'consistency losses/trn_steer_cost': 0.02989763, 'consistency losses/trn_te_loss': 18.69965723, 'aux losses/trn_pitch_loss': 0.16121817, 'aux losses/trn_yaw_loss': 0.2595439, 'consistency losses/trn_%_updates_w_torque_delta_loss': 0.84375, 'consistency losses/trn_torque_loss': 687.37830706, 'consistency losses/trn_torque_delta_loss': 12.81034615, 'logistical/max_param': 16.19376755, 'logistical/lr': 0.0001}\n",
      "{'logistical/obs_consumed_per_second': 234.90625, 'logistical/obs_generated_per_second': 101.03125, 'logistical/data_consumption_ratio': 2.3284669, 'logistical/manual_train_pause': 0.0, 'trn_control_loss': 0.01575518, 'trn_headings_loss': 0.00075286, 'trn_curvatures_loss': 0.00305721, 'consistency losses/trn_steer_cost': 0.02975333, 'consistency losses/trn_te_loss': 18.44236773, 'aux losses/trn_pitch_loss': 0.16192007, 'aux losses/trn_yaw_loss': 0.3109827, 'consistency losses/trn_%_updates_w_torque_delta_loss': 0.859375, 'consistency losses/trn_torque_loss': 743.53745165, 'consistency losses/trn_torque_delta_loss': 14.07998528, 'logistical/max_param': 16.19288445, 'logistical/lr': 0.0001}\n",
      "{'logistical/obs_consumed_per_second': 233.5625, 'logistical/obs_generated_per_second': 98.578125, 'logistical/data_consumption_ratio': 2.37122673, 'logistical/manual_train_pause': 0.00085938, 'trn_control_loss': 0.01394549, 'trn_headings_loss': 0.00070374, 'trn_curvatures_loss': 0.00249689, 'consistency losses/trn_steer_cost': 0.02371603, 'consistency losses/trn_te_loss': 19.3289787, 'aux losses/trn_pitch_loss': 0.14458728, 'aux losses/trn_yaw_loss': 0.24501514, 'consistency losses/trn_%_updates_w_torque_delta_loss': 0.9453125, 'consistency losses/trn_torque_loss': 858.96472132, 'consistency losses/trn_torque_delta_loss': 15.08072258, 'logistical/max_param': 16.19335175, 'logistical/lr': 0.0001}\n",
      "{'logistical/obs_consumed_per_second': 234.7890625, 'logistical/obs_generated_per_second': 104.7109375, 'logistical/data_consumption_ratio': 2.24586442, 'logistical/manual_train_pause': 0.0, 'trn_control_loss': 0.01400799, 'trn_headings_loss': 0.00070658, 'trn_curvatures_loss': 0.00259055, 'consistency losses/trn_steer_cost': 0.02930391, 'consistency losses/trn_te_loss': 19.1444452, 'aux losses/trn_pitch_loss': 0.17845511, 'aux losses/trn_yaw_loss': 0.24735117, 'consistency losses/trn_%_updates_w_torque_delta_loss': 0.9296875, 'consistency losses/trn_torque_loss': 916.59093916, 'consistency losses/trn_torque_delta_loss': 17.52039423, 'logistical/max_param': 16.19353294, 'logistical/lr': 0.0001}\n",
      "{'logistical/obs_consumed_per_second': 237.1953125, 'logistical/obs_generated_per_second': 99.1171875, 'logistical/data_consumption_ratio': 2.39451686, 'logistical/manual_train_pause': 7.812e-05, 'trn_control_loss': 0.01308659, 'trn_headings_loss': 0.00063519, 'trn_curvatures_loss': 0.00233126, 'consistency losses/trn_steer_cost': 0.02526176, 'consistency losses/trn_te_loss': 19.55319768, 'aux losses/trn_pitch_loss': 0.15782499, 'aux losses/trn_yaw_loss': 0.25351429, 'consistency losses/trn_%_updates_w_torque_delta_loss': 0.9453125, 'consistency losses/trn_torque_loss': 844.80245334, 'consistency losses/trn_torque_delta_loss': 16.7771668, 'logistical/max_param': 16.19275284, 'logistical/lr': 0.0001}\n",
      "{'logistical/obs_consumed_per_second': 237.359375, 'logistical/obs_generated_per_second': 100.8515625, 'logistical/data_consumption_ratio': 2.36045517, 'logistical/manual_train_pause': 0.00015625, 'trn_control_loss': 0.01667348, 'trn_headings_loss': 0.00077265, 'trn_curvatures_loss': 0.00272084, 'consistency losses/trn_steer_cost': 0.02873021, 'consistency losses/trn_te_loss': 19.04639544, 'aux losses/trn_pitch_loss': 0.16242337, 'aux losses/trn_yaw_loss': 0.23128557, 'consistency losses/trn_%_updates_w_torque_delta_loss': 0.9375, 'consistency losses/trn_torque_loss': 839.2467649, 'consistency losses/trn_torque_delta_loss': 16.07412454, 'logistical/max_param': 16.1944294, 'logistical/lr': 0.0001}\n",
      "{'logistical/obs_consumed_per_second': 159.0, 'logistical/obs_generated_per_second': 106.0, 'logistical/data_consumption_ratio': 1.50776368, 'logistical/manual_train_pause': 0.0}\n",
      "\n",
      "\n",
      " Eval...\n",
      "EPOCH 27\n",
      "\n",
      "{'trn_control_loss': 0.01753166, 'trn_headings_loss': 0.00087457, 'trn_curvatures_loss': 0.00301649, 'consistency losses/trn_steer_cost': 0.02900451, 'consistency losses/trn_te_loss': 19.20085949, 'aux losses/trn_pitch_loss': 0.14127088, 'aux losses/trn_yaw_loss': 0.30581045, 'consistency losses/trn_%_updates_w_torque_delta_loss': 0.9453125, 'consistency losses/trn_torque_loss': 818.16377726, 'consistency losses/trn_torque_delta_loss': 15.19942655, 'logistical/obs_consumed_per_second': 235.93700787, 'logistical/obs_generated_per_second': 104.93700787, 'logistical/data_consumption_ratio': 2.24484438, 'logistical/manual_train_pause': 0.0, 'logistical/max_param': 16.19456863, 'logistical/lr': 0.0001}\n",
      "{'logistical/obs_consumed_per_second': 234.734375, 'logistical/obs_generated_per_second': 102.703125, 'logistical/data_consumption_ratio': 2.28580079, 'logistical/manual_train_pause': 0.0, 'trn_control_loss': 0.01439631, 'trn_headings_loss': 0.00075436, 'trn_curvatures_loss': 0.0027624, 'consistency losses/trn_steer_cost': 0.02713674, 'consistency losses/trn_te_loss': 19.35443462, 'aux losses/trn_pitch_loss': 0.15150499, 'aux losses/trn_yaw_loss': 0.26087332, 'consistency losses/trn_%_updates_w_torque_delta_loss': 0.9140625, 'consistency losses/trn_torque_loss': 903.98289967, 'consistency losses/trn_torque_delta_loss': 17.14252281, 'logistical/max_param': 16.19515419, 'logistical/lr': 0.0001}\n",
      "{'logistical/obs_consumed_per_second': 236.8984375, 'logistical/obs_generated_per_second': 103.6875, 'logistical/data_consumption_ratio': 2.2866271, 'logistical/manual_train_pause': 0.0, 'trn_control_loss': 0.01699692, 'trn_headings_loss': 0.00070964, 'trn_curvatures_loss': 0.0024721, 'consistency losses/trn_steer_cost': 0.03078306, 'consistency losses/trn_te_loss': 18.97138101, 'aux losses/trn_pitch_loss': 0.13801336, 'aux losses/trn_yaw_loss': 0.25286531, 'consistency losses/trn_%_updates_w_torque_delta_loss': 0.90625, 'consistency losses/trn_torque_loss': 798.77118558, 'consistency losses/trn_torque_delta_loss': 13.78169283, 'logistical/max_param': 16.19589806, 'logistical/lr': 0.0001}\n",
      "{'logistical/obs_consumed_per_second': 235.6953125, 'logistical/obs_generated_per_second': 98.4765625, 'logistical/data_consumption_ratio': 2.39580926, 'logistical/manual_train_pause': 0.00078125, 'trn_control_loss': 0.01485848, 'trn_headings_loss': 0.00069132, 'trn_curvatures_loss': 0.00252943, 'consistency losses/trn_steer_cost': 0.02886128, 'consistency losses/trn_te_loss': 19.39137985, 'aux losses/trn_pitch_loss': 0.14241791, 'aux losses/trn_yaw_loss': 0.28002262, 'consistency losses/trn_%_updates_w_torque_delta_loss': 0.9296875, 'consistency losses/trn_torque_loss': 947.84535879, 'consistency losses/trn_torque_delta_loss': 16.82642561, 'logistical/max_param': 16.19589043, 'logistical/lr': 0.0001}\n",
      "{'logistical/obs_consumed_per_second': 232.59375, 'logistical/obs_generated_per_second': 101.265625, 'logistical/data_consumption_ratio': 2.29741158, 'logistical/manual_train_pause': 0.00054688, 'trn_control_loss': 0.01544032, 'trn_headings_loss': 0.00074795, 'trn_curvatures_loss': 0.00287529, 'consistency losses/trn_steer_cost': 0.03107929, 'consistency losses/trn_te_loss': 19.2488444, 'aux losses/trn_pitch_loss': 0.15704346, 'aux losses/trn_yaw_loss': 0.24988747, 'consistency losses/trn_%_updates_w_torque_delta_loss': 0.921875, 'consistency losses/trn_torque_loss': 775.33077741, 'consistency losses/trn_torque_delta_loss': 15.91677926, 'logistical/max_param': 16.1951046, 'logistical/lr': 0.0001}\n",
      "{'logistical/obs_consumed_per_second': 231.5546875, 'logistical/obs_generated_per_second': 105.0625, 'logistical/data_consumption_ratio': 2.20768112, 'logistical/manual_train_pause': 0.0, 'trn_control_loss': 0.0156281, 'trn_headings_loss': 0.00072576, 'trn_curvatures_loss': 0.00265536, 'consistency losses/trn_steer_cost': 0.02914184, 'consistency losses/trn_te_loss': 19.60225205, 'aux losses/trn_pitch_loss': 0.14480448, 'aux losses/trn_yaw_loss': 0.24447632, 'consistency losses/trn_%_updates_w_torque_delta_loss': 0.953125, 'consistency losses/trn_torque_loss': 877.83785537, 'consistency losses/trn_torque_delta_loss': 15.61559904, 'logistical/max_param': 16.19736099, 'logistical/lr': 0.0001}\n"
     ]
    },
    {
     "name": "stdout",
     "output_type": "stream",
     "text": [
      "{'logistical/obs_consumed_per_second': 238.6015625, 'logistical/obs_generated_per_second': 101.4453125, 'logistical/data_consumption_ratio': 2.35707634, 'logistical/manual_train_pause': 0.0, 'trn_control_loss': 0.01423174, 'trn_headings_loss': 0.00066796, 'trn_curvatures_loss': 0.00245802, 'consistency losses/trn_steer_cost': 0.02567828, 'consistency losses/trn_te_loss': 19.41369921, 'aux losses/trn_pitch_loss': 0.1513772, 'aux losses/trn_yaw_loss': 0.2714448, 'consistency losses/trn_%_updates_w_torque_delta_loss': 0.8828125, 'consistency losses/trn_torque_loss': 828.22672021, 'consistency losses/trn_torque_delta_loss': 16.24790332, 'logistical/max_param': 16.19949913, 'logistical/lr': 0.0001}\n",
      "{'logistical/obs_consumed_per_second': 232.171875, 'logistical/obs_generated_per_second': 103.6484375, 'logistical/data_consumption_ratio': 2.24043362, 'logistical/manual_train_pause': 7.812e-05, 'trn_control_loss': 0.01608768, 'trn_headings_loss': 0.00076072, 'trn_curvatures_loss': 0.00292345, 'consistency losses/trn_steer_cost': 0.02740443, 'consistency losses/trn_te_loss': 19.12671456, 'aux losses/trn_pitch_loss': 0.13892674, 'aux losses/trn_yaw_loss': 0.2466979, 'consistency losses/trn_%_updates_w_torque_delta_loss': 0.890625, 'consistency losses/trn_torque_loss': 850.67667404, 'consistency losses/trn_torque_delta_loss': 17.73188174, 'logistical/max_param': 16.19711685, 'logistical/lr': 0.0001}\n",
      "{'logistical/obs_consumed_per_second': 231.5859375, 'logistical/obs_generated_per_second': 101.65625, 'logistical/data_consumption_ratio': 2.27803176, 'logistical/manual_train_pause': 7.812e-05, 'trn_control_loss': 0.01660678, 'trn_headings_loss': 0.00075784, 'trn_curvatures_loss': 0.00303136, 'consistency losses/trn_steer_cost': 0.03284615, 'consistency losses/trn_te_loss': 18.50815569, 'aux losses/trn_pitch_loss': 0.16996479, 'aux losses/trn_yaw_loss': 0.3373704, 'consistency losses/trn_%_updates_w_torque_delta_loss': 0.890625, 'consistency losses/trn_torque_loss': 851.90052551, 'consistency losses/trn_torque_delta_loss': 16.05032722, 'logistical/max_param': 16.19658279, 'logistical/lr': 0.0001}\n",
      "{'logistical/obs_consumed_per_second': 238.6640625, 'logistical/obs_generated_per_second': 97.8046875, 'logistical/data_consumption_ratio': 2.44194364, 'logistical/manual_train_pause': 0.00046875, 'trn_control_loss': 0.01451886, 'trn_headings_loss': 0.00067712, 'trn_curvatures_loss': 0.00246268, 'consistency losses/trn_steer_cost': 0.02679694, 'consistency losses/trn_te_loss': 19.18469773, 'aux losses/trn_pitch_loss': 0.14208007, 'aux losses/trn_yaw_loss': 0.25525141, 'consistency losses/trn_%_updates_w_torque_delta_loss': 0.9453125, 'consistency losses/trn_torque_loss': 836.66562551, 'consistency losses/trn_torque_delta_loss': 16.95577205, 'logistical/max_param': 16.19749451, 'logistical/lr': 0.0001}\n",
      "{'logistical/obs_consumed_per_second': 148.0, 'logistical/obs_generated_per_second': 98.0, 'logistical/data_consumption_ratio': 1.50358577, 'logistical/manual_train_pause': 0.0}\n",
      "\n",
      "\n",
      " Eval...\n",
      "EPOCH 28\n",
      "\n",
      "{'trn_control_loss': 0.01444104, 'trn_headings_loss': 0.00071437, 'trn_curvatures_loss': 0.00260127, 'consistency losses/trn_steer_cost': 0.02582467, 'consistency losses/trn_te_loss': 19.49366701, 'aux losses/trn_pitch_loss': 0.15037966, 'aux losses/trn_yaw_loss': 0.22693944, 'consistency losses/trn_%_updates_w_torque_delta_loss': 0.8984375, 'consistency losses/trn_torque_loss': 753.98116791, 'consistency losses/trn_torque_delta_loss': 15.66199253, 'logistical/obs_consumed_per_second': 233.77952756, 'logistical/obs_generated_per_second': 106.77165354, 'logistical/data_consumption_ratio': 2.19049223, 'logistical/manual_train_pause': 0.0, 'logistical/max_param': 16.19774246, 'logistical/lr': 0.0001}\n",
      "{'logistical/obs_consumed_per_second': 236.3125, 'logistical/obs_generated_per_second': 105.1875, 'logistical/data_consumption_ratio': 2.24889637, 'logistical/manual_train_pause': 0.0, 'trn_control_loss': 0.01236472, 'trn_headings_loss': 0.00061449, 'trn_curvatures_loss': 0.00226912, 'consistency losses/trn_steer_cost': 0.02280575, 'consistency losses/trn_te_loss': 19.57875367, 'aux losses/trn_pitch_loss': 0.14575958, 'aux losses/trn_yaw_loss': 0.24620438, 'consistency losses/trn_%_updates_w_torque_delta_loss': 0.953125, 'consistency losses/trn_torque_loss': 771.16885617, 'consistency losses/trn_torque_delta_loss': 15.92386484, 'logistical/max_param': 16.19726944, 'logistical/lr': 0.0001}\n",
      "{'logistical/obs_consumed_per_second': 240.53125, 'logistical/obs_generated_per_second': 98.796875, 'logistical/data_consumption_ratio': 2.43988321, 'logistical/manual_train_pause': 0.00078125, 'trn_control_loss': 0.01387328, 'trn_headings_loss': 0.00067619, 'trn_curvatures_loss': 0.00260628, 'consistency losses/trn_steer_cost': 0.02805853, 'consistency losses/trn_te_loss': 19.22552443, 'aux losses/trn_pitch_loss': 0.14756203, 'aux losses/trn_yaw_loss': 0.25601721, 'consistency losses/trn_%_updates_w_torque_delta_loss': 0.9375, 'consistency losses/trn_torque_loss': 784.76986456, 'consistency losses/trn_torque_delta_loss': 15.52063254, 'logistical/max_param': 16.19678307, 'logistical/lr': 0.0001}\n",
      "{'logistical/obs_consumed_per_second': 233.3515625, 'logistical/obs_generated_per_second': 101.296875, 'logistical/data_consumption_ratio': 2.3032429, 'logistical/manual_train_pause': 0.0, 'trn_control_loss': 0.01577145, 'trn_headings_loss': 0.00083291, 'trn_curvatures_loss': 0.00311528, 'consistency losses/trn_steer_cost': 0.02757555, 'consistency losses/trn_te_loss': 19.01312879, 'aux losses/trn_pitch_loss': 0.15916443, 'aux losses/trn_yaw_loss': 0.26434612, 'consistency losses/trn_%_updates_w_torque_delta_loss': 0.9609375, 'consistency losses/trn_torque_loss': 975.55912504, 'consistency losses/trn_torque_delta_loss': 17.18599844, 'logistical/max_param': 16.20144844, 'logistical/lr': 0.0001}\n",
      "{'logistical/obs_consumed_per_second': 234.203125, 'logistical/obs_generated_per_second': 103.5234375, 'logistical/data_consumption_ratio': 2.26451917, 'logistical/manual_train_pause': 0.00023438, 'trn_control_loss': 0.01480696, 'trn_headings_loss': 0.00070722, 'trn_curvatures_loss': 0.0026402, 'consistency losses/trn_steer_cost': 0.02760363, 'consistency losses/trn_te_loss': 19.30304414, 'aux losses/trn_pitch_loss': 0.15297651, 'aux losses/trn_yaw_loss': 0.22687221, 'consistency losses/trn_%_updates_w_torque_delta_loss': 0.921875, 'consistency losses/trn_torque_loss': 835.29193628, 'consistency losses/trn_torque_delta_loss': 15.36315622, 'logistical/max_param': 16.20132256, 'logistical/lr': 0.0001}\n",
      "{'logistical/obs_consumed_per_second': 227.65625, 'logistical/obs_generated_per_second': 107.4453125, 'logistical/data_consumption_ratio': 2.12480759, 'logistical/manual_train_pause': 0.00039062, 'trn_control_loss': 0.014438, 'trn_headings_loss': 0.00071616, 'trn_curvatures_loss': 0.002604, 'consistency losses/trn_steer_cost': 0.02890533, 'consistency losses/trn_te_loss': 19.08161366, 'aux losses/trn_pitch_loss': 0.16315937, 'aux losses/trn_yaw_loss': 0.28815365, 'consistency losses/trn_%_updates_w_torque_delta_loss': 0.9609375, 'consistency losses/trn_torque_loss': 825.87326324, 'consistency losses/trn_torque_delta_loss': 15.16858586, 'logistical/max_param': 16.20157051, 'logistical/lr': 0.0001}\n",
      "{'logistical/obs_consumed_per_second': 234.3125, 'logistical/obs_generated_per_second': 108.3671875, 'logistical/data_consumption_ratio': 2.16465389, 'logistical/manual_train_pause': 0.0, 'trn_control_loss': 0.01344126, 'trn_headings_loss': 0.00062093, 'trn_curvatures_loss': 0.00212529, 'consistency losses/trn_steer_cost': 0.02350283, 'consistency losses/trn_te_loss': 19.45843078, 'aux losses/trn_pitch_loss': 0.14349103, 'aux losses/trn_yaw_loss': 0.24261665, 'consistency losses/trn_%_updates_w_torque_delta_loss': 0.8984375, 'consistency losses/trn_torque_loss': 812.50671583, 'consistency losses/trn_torque_delta_loss': 15.76169651, 'logistical/max_param': 16.20135307, 'logistical/lr': 0.0001}\n",
      "{'logistical/obs_consumed_per_second': 230.109375, 'logistical/obs_generated_per_second': 98.8984375, 'logistical/data_consumption_ratio': 2.32730058, 'logistical/manual_train_pause': 0.00054688, 'trn_control_loss': 0.01288804, 'trn_headings_loss': 0.00062001, 'trn_curvatures_loss': 0.00214651, 'consistency losses/trn_steer_cost': 0.02353477, 'consistency losses/trn_te_loss': 19.80644119, 'aux losses/trn_pitch_loss': 0.15638113, 'aux losses/trn_yaw_loss': 0.24664402, 'consistency losses/trn_%_updates_w_torque_delta_loss': 0.9296875, 'consistency losses/trn_torque_loss': 817.27935444, 'consistency losses/trn_torque_delta_loss': 15.48752573, 'logistical/max_param': 16.20071602, 'logistical/lr': 0.0001}\n"
     ]
    },
    {
     "name": "stdout",
     "output_type": "stream",
     "text": [
      "{'logistical/obs_consumed_per_second': 232.7421875, 'logistical/obs_generated_per_second': 102.734375, 'logistical/data_consumption_ratio': 2.27181226, 'logistical/manual_train_pause': 0.0, 'trn_control_loss': 0.01550716, 'trn_headings_loss': 0.00078702, 'trn_curvatures_loss': 0.00285158, 'consistency losses/trn_steer_cost': 0.02578491, 'consistency losses/trn_te_loss': 19.49345316, 'aux losses/trn_pitch_loss': 0.14908934, 'aux losses/trn_yaw_loss': 0.26745415, 'consistency losses/trn_%_updates_w_torque_delta_loss': 0.9765625, 'consistency losses/trn_torque_loss': 851.54207528, 'consistency losses/trn_torque_delta_loss': 17.20753798, 'logistical/max_param': 16.2015152, 'logistical/lr': 0.0001}\n",
      "{'logistical/obs_consumed_per_second': 237.9375, 'logistical/obs_generated_per_second': 104.6640625, 'logistical/data_consumption_ratio': 2.27190529, 'logistical/manual_train_pause': 0.0, 'trn_control_loss': 0.01202145, 'trn_headings_loss': 0.00058183, 'trn_curvatures_loss': 0.00207898, 'consistency losses/trn_steer_cost': 0.02306277, 'consistency losses/trn_te_loss': 20.43347695, 'aux losses/trn_pitch_loss': 0.14521456, 'aux losses/trn_yaw_loss': 0.23365736, 'consistency losses/trn_%_updates_w_torque_delta_loss': 0.9453125, 'consistency losses/trn_torque_loss': 801.18850744, 'consistency losses/trn_torque_delta_loss': 17.19573059, 'logistical/max_param': 16.20159721, 'logistical/lr': 0.0001}\n",
      "{'logistical/obs_consumed_per_second': 132.0, 'logistical/obs_generated_per_second': 105.0, 'logistical/data_consumption_ratio': 1.2620938, 'logistical/manual_train_pause': 0.0}\n",
      "\n",
      "\n",
      " Eval...\n",
      "EPOCH 29\n",
      "\n",
      "{'trn_control_loss': 0.01694798, 'trn_headings_loss': 0.00075817, 'trn_curvatures_loss': 0.0027606, 'consistency losses/trn_steer_cost': 0.02707762, 'consistency losses/trn_te_loss': 19.39871636, 'aux losses/trn_pitch_loss': 0.15891075, 'aux losses/trn_yaw_loss': 0.30709815, 'consistency losses/trn_%_updates_w_torque_delta_loss': 0.9765625, 'consistency losses/trn_torque_loss': 866.70227814, 'consistency losses/trn_torque_delta_loss': 15.76538047, 'logistical/obs_consumed_per_second': 236.92125984, 'logistical/obs_generated_per_second': 104.45669291, 'logistical/data_consumption_ratio': 2.26795842, 'logistical/manual_train_pause': 0.0, 'logistical/max_param': 16.20042801, 'logistical/lr': 0.0001}\n",
      "{'logistical/obs_consumed_per_second': 232.5546875, 'logistical/obs_generated_per_second': 104.8125, 'logistical/data_consumption_ratio': 2.2223624, 'logistical/manual_train_pause': 0.0, 'trn_control_loss': 0.01404065, 'trn_headings_loss': 0.00067706, 'trn_curvatures_loss': 0.00237533, 'consistency losses/trn_steer_cost': 0.02350873, 'consistency losses/trn_te_loss': 19.56289729, 'aux losses/trn_pitch_loss': 0.15867615, 'aux losses/trn_yaw_loss': 0.22990131, 'consistency losses/trn_%_updates_w_torque_delta_loss': 0.9140625, 'consistency losses/trn_torque_loss': 888.94605291, 'consistency losses/trn_torque_delta_loss': 14.45869011, 'logistical/max_param': 16.20073318, 'logistical/lr': 0.0001}\n",
      "{'logistical/obs_consumed_per_second': 233.359375, 'logistical/obs_generated_per_second': 98.8671875, 'logistical/data_consumption_ratio': 2.36223129, 'logistical/manual_train_pause': 7.812e-05, 'trn_control_loss': 0.01408333, 'trn_headings_loss': 0.00071987, 'trn_curvatures_loss': 0.00251959, 'consistency losses/trn_steer_cost': 0.02438307, 'consistency losses/trn_te_loss': 19.27860184, 'aux losses/trn_pitch_loss': 0.1490941, 'aux losses/trn_yaw_loss': 0.22039127, 'consistency losses/trn_%_updates_w_torque_delta_loss': 0.84375, 'consistency losses/trn_torque_loss': 783.19740757, 'consistency losses/trn_torque_delta_loss': 14.76079959, 'logistical/max_param': 16.200243, 'logistical/lr': 0.0001}\n",
      "{'logistical/obs_consumed_per_second': 237.3125, 'logistical/obs_generated_per_second': 100.8359375, 'logistical/data_consumption_ratio': 2.35402907, 'logistical/manual_train_pause': 7.812e-05, 'trn_control_loss': 0.01457471, 'trn_headings_loss': 0.00065249, 'trn_curvatures_loss': 0.00230668, 'consistency losses/trn_steer_cost': 0.02634364, 'consistency losses/trn_te_loss': 19.48930913, 'aux losses/trn_pitch_loss': 0.16075325, 'aux losses/trn_yaw_loss': 0.23343849, 'consistency losses/trn_%_updates_w_torque_delta_loss': 0.9453125, 'consistency losses/trn_torque_loss': 850.75424802, 'consistency losses/trn_torque_delta_loss': 16.77292276, 'logistical/max_param': 16.20009995, 'logistical/lr': 0.0001}\n",
      "{'logistical/obs_consumed_per_second': 239.484375, 'logistical/obs_generated_per_second': 102.1875, 'logistical/data_consumption_ratio': 2.34625323, 'logistical/manual_train_pause': 0.0, 'trn_control_loss': 0.0145216, 'trn_headings_loss': 0.00067646, 'trn_curvatures_loss': 0.00230642, 'consistency losses/trn_steer_cost': 0.02552962, 'consistency losses/trn_te_loss': 19.15204872, 'aux losses/trn_pitch_loss': 0.15131211, 'aux losses/trn_yaw_loss': 0.26016855, 'consistency losses/trn_%_updates_w_torque_delta_loss': 0.9453125, 'consistency losses/trn_torque_loss': 893.24526012, 'consistency losses/trn_torque_delta_loss': 16.87986351, 'logistical/max_param': 16.20028877, 'logistical/lr': 0.0001}\n",
      "{'logistical/obs_consumed_per_second': 232.6953125, 'logistical/obs_generated_per_second': 99.0078125, 'logistical/data_consumption_ratio': 2.35426789, 'logistical/manual_train_pause': 7.812e-05, 'trn_control_loss': 0.01337969, 'trn_headings_loss': 0.00065128, 'trn_curvatures_loss': 0.00235073, 'consistency losses/trn_steer_cost': 0.0247674, 'consistency losses/trn_te_loss': 19.95104754, 'aux losses/trn_pitch_loss': 0.13355708, 'aux losses/trn_yaw_loss': 0.22385168, 'consistency losses/trn_%_updates_w_torque_delta_loss': 0.9296875, 'consistency losses/trn_torque_loss': 829.45950902, 'consistency losses/trn_torque_delta_loss': 14.49748117, 'logistical/max_param': 16.19973564, 'logistical/lr': 0.0001}\n",
      "{'logistical/obs_consumed_per_second': 230.875, 'logistical/obs_generated_per_second': 101.5859375, 'logistical/data_consumption_ratio': 2.27192868, 'logistical/manual_train_pause': 7.812e-05, 'trn_control_loss': 0.01635545, 'trn_headings_loss': 0.00071614, 'trn_curvatures_loss': 0.00256739, 'consistency losses/trn_steer_cost': 0.02655005, 'consistency losses/trn_te_loss': 19.07604577, 'aux losses/trn_pitch_loss': 0.15402985, 'aux losses/trn_yaw_loss': 0.23625469, 'consistency losses/trn_%_updates_w_torque_delta_loss': 0.9140625, 'consistency losses/trn_torque_loss': 792.89261717, 'consistency losses/trn_torque_delta_loss': 14.06437799, 'logistical/max_param': 16.19769669, 'logistical/lr': 0.0001}\n",
      "{'logistical/obs_consumed_per_second': 229.9375, 'logistical/obs_generated_per_second': 98.2578125, 'logistical/data_consumption_ratio': 2.34612016, 'logistical/manual_train_pause': 0.00046875, 'trn_control_loss': 0.01361436, 'trn_headings_loss': 0.00066788, 'trn_curvatures_loss': 0.00228183, 'consistency losses/trn_steer_cost': 0.02466643, 'consistency losses/trn_te_loss': 19.61609519, 'aux losses/trn_pitch_loss': 0.15439034, 'aux losses/trn_yaw_loss': 0.24805546, 'consistency losses/trn_%_updates_w_torque_delta_loss': 0.9375, 'consistency losses/trn_torque_loss': 765.85138056, 'consistency losses/trn_torque_delta_loss': 14.39889117, 'logistical/max_param': 16.19604111, 'logistical/lr': 0.0001}\n",
      "{'logistical/obs_consumed_per_second': 238.1015625, 'logistical/obs_generated_per_second': 101.1328125, 'logistical/data_consumption_ratio': 2.35761511, 'logistical/manual_train_pause': 0.0, 'trn_control_loss': 0.01404828, 'trn_headings_loss': 0.00068198, 'trn_curvatures_loss': 0.00228089, 'consistency losses/trn_steer_cost': 0.02490139, 'consistency losses/trn_te_loss': 19.11958614, 'aux losses/trn_pitch_loss': 0.16414833, 'aux losses/trn_yaw_loss': 0.242311, 'consistency losses/trn_%_updates_w_torque_delta_loss': 0.921875, 'consistency losses/trn_torque_loss': 846.53724164, 'consistency losses/trn_torque_delta_loss': 14.87103661, 'logistical/max_param': 16.19734383, 'logistical/lr': 0.0001}\n",
      "{'logistical/obs_consumed_per_second': 234.5390625, 'logistical/obs_generated_per_second': 103.09375, 'logistical/data_consumption_ratio': 2.27489024, 'logistical/manual_train_pause': 0.0, 'trn_control_loss': 0.0158686, 'trn_headings_loss': 0.00073817, 'trn_curvatures_loss': 0.00252893, 'consistency losses/trn_steer_cost': 0.02687204, 'consistency losses/trn_te_loss': 19.00954923, 'aux losses/trn_pitch_loss': 0.14964056, 'aux losses/trn_yaw_loss': 0.26316261, 'consistency losses/trn_%_updates_w_torque_delta_loss': 0.9140625, 'consistency losses/trn_torque_loss': 928.75639451, 'consistency losses/trn_torque_delta_loss': 16.68476621, 'logistical/max_param': 16.19522667, 'logistical/lr': 0.0001}\n"
     ]
    },
    {
     "name": "stdout",
     "output_type": "stream",
     "text": [
      "{'logistical/obs_consumed_per_second': 156.0, 'logistical/obs_generated_per_second': 102.0, 'logistical/data_consumption_ratio': 1.52557119, 'logistical/manual_train_pause': 0.0}\n",
      "\n",
      "\n",
      " Eval...\n",
      "EPOCH 30\n",
      "\n",
      "{'trn_control_loss': 0.01275969, 'trn_headings_loss': 0.00062445, 'trn_curvatures_loss': 0.00203174, 'consistency losses/trn_steer_cost': 0.02209479, 'consistency losses/trn_te_loss': 19.68674916, 'aux losses/trn_pitch_loss': 0.14041066, 'aux losses/trn_yaw_loss': 0.23828363, 'consistency losses/trn_%_updates_w_torque_delta_loss': 0.9140625, 'consistency losses/trn_torque_loss': 795.56254005, 'consistency losses/trn_torque_delta_loss': 13.73473677, 'logistical/obs_consumed_per_second': 238.13385827, 'logistical/obs_generated_per_second': 107.91338583, 'logistical/data_consumption_ratio': 2.20763666, 'logistical/manual_train_pause': 0.0, 'logistical/max_param': 16.1952877, 'logistical/lr': 0.0001}\n",
      "{'logistical/obs_consumed_per_second': 235.296875, 'logistical/obs_generated_per_second': 107.1328125, 'logistical/data_consumption_ratio': 2.19785286, 'logistical/manual_train_pause': 0.0, 'trn_control_loss': 0.01527059, 'trn_headings_loss': 0.00070763, 'trn_curvatures_loss': 0.00261712, 'consistency losses/trn_steer_cost': 0.02453166, 'consistency losses/trn_te_loss': 19.75061285, 'aux losses/trn_pitch_loss': 0.14359403, 'aux losses/trn_yaw_loss': 0.25116396, 'consistency losses/trn_%_updates_w_torque_delta_loss': 0.921875, 'consistency losses/trn_torque_loss': 807.79145116, 'consistency losses/trn_torque_delta_loss': 13.72658939, 'logistical/max_param': 16.19449043, 'logistical/lr': 0.0001}\n",
      "{'logistical/obs_consumed_per_second': 237.5703125, 'logistical/obs_generated_per_second': 96.7109375, 'logistical/data_consumption_ratio': 2.46026024, 'logistical/manual_train_pause': 0.00117188, 'trn_control_loss': 0.01644978, 'trn_headings_loss': 0.00077873, 'trn_curvatures_loss': 0.00281679, 'consistency losses/trn_steer_cost': 0.02416289, 'consistency losses/trn_te_loss': 19.12628673, 'aux losses/trn_pitch_loss': 0.13800931, 'aux losses/trn_yaw_loss': 0.27751637, 'consistency losses/trn_%_updates_w_torque_delta_loss': 0.953125, 'consistency losses/trn_torque_loss': 871.07065535, 'consistency losses/trn_torque_delta_loss': 14.73497128, 'logistical/max_param': 16.19389915, 'logistical/lr': 0.0001}\n",
      "{'logistical/obs_consumed_per_second': 234.328125, 'logistical/obs_generated_per_second': 102.75, 'logistical/data_consumption_ratio': 2.28544815, 'logistical/manual_train_pause': 7.812e-05, 'trn_control_loss': 0.01486188, 'trn_headings_loss': 0.00070982, 'trn_curvatures_loss': 0.00258365, 'consistency losses/trn_steer_cost': 0.0265066, 'consistency losses/trn_te_loss': 18.88323511, 'aux losses/trn_pitch_loss': 0.15631151, 'aux losses/trn_yaw_loss': 0.22260547, 'consistency losses/trn_%_updates_w_torque_delta_loss': 0.8984375, 'consistency losses/trn_torque_loss': 828.68651962, 'consistency losses/trn_torque_delta_loss': 14.41998214, 'logistical/max_param': 16.19265366, 'logistical/lr': 0.0001}\n",
      "{'logistical/obs_consumed_per_second': 232.546875, 'logistical/obs_generated_per_second': 104.359375, 'logistical/data_consumption_ratio': 2.22975508, 'logistical/manual_train_pause': 0.0, 'trn_control_loss': 0.01454043, 'trn_headings_loss': 0.00066777, 'trn_curvatures_loss': 0.00256779, 'consistency losses/trn_steer_cost': 0.02920824, 'consistency losses/trn_te_loss': 18.74391134, 'aux losses/trn_pitch_loss': 0.15593505, 'aux losses/trn_yaw_loss': 0.29049206, 'consistency losses/trn_%_updates_w_torque_delta_loss': 0.9609375, 'consistency losses/trn_torque_loss': 814.35361695, 'consistency losses/trn_torque_delta_loss': 14.29296649, 'logistical/max_param': 16.19118881, 'logistical/lr': 0.0001}\n",
      "{'logistical/obs_consumed_per_second': 235.6328125, 'logistical/obs_generated_per_second': 103.34375, 'logistical/data_consumption_ratio': 2.28721632, 'logistical/manual_train_pause': 0.0, 'trn_control_loss': 0.0147754, 'trn_headings_loss': 0.0006814, 'trn_curvatures_loss': 0.00250771, 'consistency losses/trn_steer_cost': 0.02786219, 'consistency losses/trn_te_loss': 18.97202042, 'aux losses/trn_pitch_loss': 0.1615293, 'aux losses/trn_yaw_loss': 0.2360568, 'consistency losses/trn_%_updates_w_torque_delta_loss': 0.8984375, 'consistency losses/trn_torque_loss': 899.76578498, 'consistency losses/trn_torque_delta_loss': 15.6231267, 'logistical/max_param': 16.18964386, 'logistical/lr': 0.0001}\n",
      "{'logistical/obs_consumed_per_second': 236.7890625, 'logistical/obs_generated_per_second': 104.421875, 'logistical/data_consumption_ratio': 2.27120286, 'logistical/manual_train_pause': 7.812e-05, 'trn_control_loss': 0.01463294, 'trn_headings_loss': 0.00069551, 'trn_curvatures_loss': 0.00248449, 'consistency losses/trn_steer_cost': 0.02596176, 'consistency losses/trn_te_loss': 19.43026865, 'aux losses/trn_pitch_loss': 0.14537001, 'aux losses/trn_yaw_loss': 0.22424412, 'consistency losses/trn_%_updates_w_torque_delta_loss': 0.953125, 'consistency losses/trn_torque_loss': 954.87070775, 'consistency losses/trn_torque_delta_loss': 15.33153698, 'logistical/max_param': 16.18893623, 'logistical/lr': 0.0001}\n",
      "{'logistical/obs_consumed_per_second': 234.203125, 'logistical/obs_generated_per_second': 99.4375, 'logistical/data_consumption_ratio': 2.35476219, 'logistical/manual_train_pause': 0.00023438, 'trn_control_loss': 0.0147472, 'trn_headings_loss': 0.00069364, 'trn_curvatures_loss': 0.00250096, 'consistency losses/trn_steer_cost': 0.02513999, 'consistency losses/trn_te_loss': 19.53791046, 'aux losses/trn_pitch_loss': 0.15847301, 'aux losses/trn_yaw_loss': 0.2516427, 'consistency losses/trn_%_updates_w_torque_delta_loss': 0.9453125, 'consistency losses/trn_torque_loss': 928.60857868, 'consistency losses/trn_torque_delta_loss': 14.49198934, 'logistical/max_param': 16.18910027, 'logistical/lr': 0.0001}\n",
      "{'logistical/obs_consumed_per_second': 232.6015625, 'logistical/obs_generated_per_second': 98.234375, 'logistical/data_consumption_ratio': 2.37545562, 'logistical/manual_train_pause': 0.0015625, 'trn_control_loss': 0.01400679, 'trn_headings_loss': 0.00065509, 'trn_curvatures_loss': 0.00240658, 'consistency losses/trn_steer_cost': 0.02645648, 'consistency losses/trn_te_loss': 19.28868414, 'aux losses/trn_pitch_loss': 0.15976548, 'aux losses/trn_yaw_loss': 0.22378564, 'consistency losses/trn_%_updates_w_torque_delta_loss': 0.9453125, 'consistency losses/trn_torque_loss': 819.90505859, 'consistency losses/trn_torque_delta_loss': 16.20609912, 'logistical/max_param': 16.19141006, 'logistical/lr': 0.0001}\n",
      "{'logistical/obs_consumed_per_second': 230.21875, 'logistical/obs_generated_per_second': 105.6953125, 'logistical/data_consumption_ratio': 2.17963064, 'logistical/manual_train_pause': 0.0, 'trn_control_loss': 0.01308486, 'trn_headings_loss': 0.00066413, 'trn_curvatures_loss': 0.00223254, 'consistency losses/trn_steer_cost': 0.02388656, 'consistency losses/trn_te_loss': 19.48108549, 'aux losses/trn_pitch_loss': 0.15745306, 'aux losses/trn_yaw_loss': 0.22216272, 'consistency losses/trn_%_updates_w_torque_delta_loss': 0.921875, 'consistency losses/trn_torque_loss': 872.05737108, 'consistency losses/trn_torque_delta_loss': 13.37078723, 'logistical/max_param': 16.19168091, 'logistical/lr': 0.0001}\n",
      "{'logistical/obs_consumed_per_second': 115.0, 'logistical/obs_generated_per_second': 103.0, 'logistical/data_consumption_ratio': 1.12239073, 'logistical/manual_train_pause': 0.0}\n",
      "\n",
      "\n",
      " Eval...\n",
      "EPOCH 31\n",
      "\n",
      "{'trn_control_loss': 0.01389661, 'trn_headings_loss': 0.00067195, 'trn_curvatures_loss': 0.00253471, 'consistency losses/trn_steer_cost': 0.02583778, 'consistency losses/trn_te_loss': 19.62973747, 'aux losses/trn_pitch_loss': 0.17161989, 'aux losses/trn_yaw_loss': 0.23582602, 'consistency losses/trn_%_updates_w_torque_delta_loss': 0.96875, 'consistency losses/trn_torque_loss': 796.54106861, 'consistency losses/trn_torque_delta_loss': 15.78997618, 'logistical/obs_consumed_per_second': 235.88976378, 'logistical/obs_generated_per_second': 103.37007874, 'logistical/data_consumption_ratio': 2.28463912, 'logistical/manual_train_pause': 0.0, 'logistical/max_param': 16.19329262, 'logistical/lr': 0.0001}\n",
      "{'logistical/obs_consumed_per_second': 229.40625, 'logistical/obs_generated_per_second': 101.703125, 'logistical/data_consumption_ratio': 2.25506448, 'logistical/manual_train_pause': 0.0, 'trn_control_loss': 0.01652509, 'trn_headings_loss': 0.00071916, 'trn_curvatures_loss': 0.00267701, 'consistency losses/trn_steer_cost': 0.03038073, 'consistency losses/trn_te_loss': 19.98529513, 'aux losses/trn_pitch_loss': 0.15203905, 'aux losses/trn_yaw_loss': 0.24964333, 'consistency losses/trn_%_updates_w_torque_delta_loss': 0.921875, 'consistency losses/trn_torque_loss': 889.61036873, 'consistency losses/trn_torque_delta_loss': 16.78059717, 'logistical/max_param': 16.19189644, 'logistical/lr': 0.0001}\n"
     ]
    },
    {
     "name": "stdout",
     "output_type": "stream",
     "text": [
      "{'logistical/obs_consumed_per_second': 232.328125, 'logistical/obs_generated_per_second': 106.546875, 'logistical/data_consumption_ratio': 2.18349216, 'logistical/manual_train_pause': 0.0, 'trn_control_loss': 0.01113164, 'trn_headings_loss': 0.00057026, 'trn_curvatures_loss': 0.00190451, 'consistency losses/trn_steer_cost': 0.01892447, 'consistency losses/trn_te_loss': 20.48818845, 'aux losses/trn_pitch_loss': 0.15064812, 'aux losses/trn_yaw_loss': 0.21725774, 'consistency losses/trn_%_updates_w_torque_delta_loss': 0.9765625, 'consistency losses/trn_torque_loss': 915.62456757, 'consistency losses/trn_torque_delta_loss': 18.37670915, 'logistical/max_param': 16.19109917, 'logistical/lr': 0.0001}\n",
      "{'logistical/obs_consumed_per_second': 238.8046875, 'logistical/obs_generated_per_second': 99.0546875, 'logistical/data_consumption_ratio': 2.41168254, 'logistical/manual_train_pause': 7.812e-05, 'trn_control_loss': 0.01585498, 'trn_headings_loss': 0.00066536, 'trn_curvatures_loss': 0.00216288, 'consistency losses/trn_steer_cost': 0.02364308, 'consistency losses/trn_te_loss': 20.07683451, 'aux losses/trn_pitch_loss': 0.15593767, 'aux losses/trn_yaw_loss': 0.21587038, 'consistency losses/trn_%_updates_w_torque_delta_loss': 0.875, 'consistency losses/trn_torque_loss': 737.17198518, 'consistency losses/trn_torque_delta_loss': 14.36892192, 'logistical/max_param': 16.19155502, 'logistical/lr': 0.0001}\n",
      "{'logistical/obs_consumed_per_second': 234.703125, 'logistical/obs_generated_per_second': 102.1953125, 'logistical/data_consumption_ratio': 2.297717, 'logistical/manual_train_pause': 0.0, 'trn_control_loss': 0.01530883, 'trn_headings_loss': 0.00068869, 'trn_curvatures_loss': 0.00259233, 'consistency losses/trn_steer_cost': 0.02691072, 'consistency losses/trn_te_loss': 19.79818001, 'aux losses/trn_pitch_loss': 0.15436339, 'aux losses/trn_yaw_loss': 0.23431969, 'consistency losses/trn_%_updates_w_torque_delta_loss': 0.953125, 'consistency losses/trn_torque_loss': 1026.58556175, 'consistency losses/trn_torque_delta_loss': 17.07805009, 'logistical/max_param': 16.19151306, 'logistical/lr': 0.0001}\n",
      "{'logistical/obs_consumed_per_second': 235.0078125, 'logistical/obs_generated_per_second': 100.6484375, 'logistical/data_consumption_ratio': 2.3338143, 'logistical/manual_train_pause': 0.00023438, 'trn_control_loss': 0.01314625, 'trn_headings_loss': 0.00064245, 'trn_curvatures_loss': 0.0021978, 'consistency losses/trn_steer_cost': 0.02251047, 'consistency losses/trn_te_loss': 19.58337376, 'aux losses/trn_pitch_loss': 0.14447975, 'aux losses/trn_yaw_loss': 0.23717594, 'consistency losses/trn_%_updates_w_torque_delta_loss': 0.96875, 'consistency losses/trn_torque_loss': 876.50195354, 'consistency losses/trn_torque_delta_loss': 14.97482368, 'logistical/max_param': 16.19159698, 'logistical/lr': 0.0001}\n",
      "{'logistical/obs_consumed_per_second': 237.3828125, 'logistical/obs_generated_per_second': 97.40625, 'logistical/data_consumption_ratio': 2.43888556, 'logistical/manual_train_pause': 0.0009375, 'trn_control_loss': 0.01464561, 'trn_headings_loss': 0.00064361, 'trn_curvatures_loss': 0.00222862, 'consistency losses/trn_steer_cost': 0.02308077, 'consistency losses/trn_te_loss': 19.24905005, 'aux losses/trn_pitch_loss': 0.14088368, 'aux losses/trn_yaw_loss': 0.20909357, 'consistency losses/trn_%_updates_w_torque_delta_loss': 0.9296875, 'consistency losses/trn_torque_loss': 810.71056327, 'consistency losses/trn_torque_delta_loss': 15.52515915, 'logistical/max_param': 16.19183922, 'logistical/lr': 0.0001}\n",
      "{'logistical/obs_consumed_per_second': 234.6796875, 'logistical/obs_generated_per_second': 101.4765625, 'logistical/data_consumption_ratio': 2.31585774, 'logistical/manual_train_pause': 0.00039062, 'trn_control_loss': 0.01539809, 'trn_headings_loss': 0.00067869, 'trn_curvatures_loss': 0.00266456, 'consistency losses/trn_steer_cost': 0.0256753, 'consistency losses/trn_te_loss': 19.78220826, 'aux losses/trn_pitch_loss': 0.13727832, 'aux losses/trn_yaw_loss': 0.22401953, 'consistency losses/trn_%_updates_w_torque_delta_loss': 0.9296875, 'consistency losses/trn_torque_loss': 937.97020668, 'consistency losses/trn_torque_delta_loss': 18.73967446, 'logistical/max_param': 16.19158554, 'logistical/lr': 0.0001}\n",
      "{'logistical/obs_consumed_per_second': 237.515625, 'logistical/obs_generated_per_second': 101.25, 'logistical/data_consumption_ratio': 2.35014478, 'logistical/manual_train_pause': 0.00015625, 'trn_control_loss': 0.01364401, 'trn_headings_loss': 0.00063957, 'trn_curvatures_loss': 0.00238385, 'consistency losses/trn_steer_cost': 0.02503651, 'consistency losses/trn_te_loss': 20.10204533, 'aux losses/trn_pitch_loss': 0.16680074, 'aux losses/trn_yaw_loss': 0.2259078, 'consistency losses/trn_%_updates_w_torque_delta_loss': 0.9296875, 'consistency losses/trn_torque_loss': 839.22752476, 'consistency losses/trn_torque_delta_loss': 16.76790493, 'logistical/max_param': 16.19157982, 'logistical/lr': 0.0001}\n",
      "{'logistical/obs_consumed_per_second': 236.0546875, 'logistical/obs_generated_per_second': 101.5078125, 'logistical/data_consumption_ratio': 2.32786337, 'logistical/manual_train_pause': 0.0003125, 'trn_control_loss': 0.01327997, 'trn_headings_loss': 0.00065083, 'trn_curvatures_loss': 0.00234661, 'consistency losses/trn_steer_cost': 0.02552307, 'consistency losses/trn_te_loss': 19.99720304, 'aux losses/trn_pitch_loss': 0.162081, 'aux losses/trn_yaw_loss': 0.23049307, 'consistency losses/trn_%_updates_w_torque_delta_loss': 0.921875, 'consistency losses/trn_torque_loss': 996.01631367, 'consistency losses/trn_torque_delta_loss': 18.77228721, 'logistical/max_param': 16.19111824, 'logistical/lr': 0.0001}\n",
      "{'logistical/obs_consumed_per_second': 128.0, 'logistical/obs_generated_per_second': 101.0, 'logistical/data_consumption_ratio': 1.26649445, 'logistical/manual_train_pause': 0.0}\n",
      "\n",
      "\n",
      " Eval...\n",
      "EPOCH 32\n",
      "\n",
      "{'trn_control_loss': 0.01350972, 'trn_headings_loss': 0.00068923, 'trn_curvatures_loss': 0.00254603, 'consistency losses/trn_steer_cost': 0.02357221, 'consistency losses/trn_te_loss': 19.96078645, 'aux losses/trn_pitch_loss': 0.14811444, 'aux losses/trn_yaw_loss': 0.21204185, 'consistency losses/trn_%_updates_w_torque_delta_loss': 0.921875, 'consistency losses/trn_torque_loss': 885.72489035, 'consistency losses/trn_torque_delta_loss': 16.4959997, 'logistical/obs_consumed_per_second': 236.8503937, 'logistical/obs_generated_per_second': 108.52755906, 'logistical/data_consumption_ratio': 2.18037052, 'logistical/manual_train_pause': 0.0, 'logistical/max_param': 16.18975258, 'logistical/lr': 0.0001}\n",
      "{'logistical/obs_consumed_per_second': 230.3203125, 'logistical/obs_generated_per_second': 106.90625, 'logistical/data_consumption_ratio': 2.15421097, 'logistical/manual_train_pause': 0.0, 'trn_control_loss': 0.01289076, 'trn_headings_loss': 0.00062195, 'trn_curvatures_loss': 0.00217439, 'consistency losses/trn_steer_cost': 0.02194744, 'consistency losses/trn_te_loss': 20.3067967, 'aux losses/trn_pitch_loss': 0.14583015, 'aux losses/trn_yaw_loss': 0.22620058, 'consistency losses/trn_%_updates_w_torque_delta_loss': 0.8984375, 'consistency losses/trn_torque_loss': 884.26355714, 'consistency losses/trn_torque_delta_loss': 19.44559484, 'logistical/max_param': 16.19020462, 'logistical/lr': 0.0001}\n",
      "{'logistical/obs_consumed_per_second': 233.21875, 'logistical/obs_generated_per_second': 103.09375, 'logistical/data_consumption_ratio': 2.2697184, 'logistical/manual_train_pause': 0.00015625, 'trn_control_loss': 0.01337165, 'trn_headings_loss': 0.00064973, 'trn_curvatures_loss': 0.00261807, 'consistency losses/trn_steer_cost': 0.02117723, 'consistency losses/trn_te_loss': 20.99975288, 'aux losses/trn_pitch_loss': 0.15178204, 'aux losses/trn_yaw_loss': 0.22506618, 'consistency losses/trn_%_updates_w_torque_delta_loss': 0.9375, 'consistency losses/trn_torque_loss': 913.80848128, 'consistency losses/trn_torque_delta_loss': 18.06336642, 'logistical/max_param': 16.19219971, 'logistical/lr': 0.0001}\n",
      "{'logistical/obs_consumed_per_second': 228.3828125, 'logistical/obs_generated_per_second': 104.78125, 'logistical/data_consumption_ratio': 2.18607747, 'logistical/manual_train_pause': 0.0, 'trn_control_loss': 0.01418456, 'trn_headings_loss': 0.00065725, 'trn_curvatures_loss': 0.0023515, 'consistency losses/trn_steer_cost': 0.02333158, 'consistency losses/trn_te_loss': 20.25485745, 'aux losses/trn_pitch_loss': 0.1326685, 'aux losses/trn_yaw_loss': 0.23961306, 'consistency losses/trn_%_updates_w_torque_delta_loss': 0.96875, 'consistency losses/trn_torque_loss': 943.46289378, 'consistency losses/trn_torque_delta_loss': 19.61322297, 'logistical/max_param': 16.1941433, 'logistical/lr': 0.0001}\n"
     ]
    },
    {
     "name": "stdout",
     "output_type": "stream",
     "text": [
      "{'logistical/obs_consumed_per_second': 228.6328125, 'logistical/obs_generated_per_second': 101.6328125, 'logistical/data_consumption_ratio': 2.24640868, 'logistical/manual_train_pause': 0.0, 'trn_control_loss': 0.01513284, 'trn_headings_loss': 0.00070965, 'trn_curvatures_loss': 0.00253945, 'consistency losses/trn_steer_cost': 0.02442783, 'consistency losses/trn_te_loss': 20.12509713, 'aux losses/trn_pitch_loss': 0.14486313, 'aux losses/trn_yaw_loss': 0.21710205, 'consistency losses/trn_%_updates_w_torque_delta_loss': 0.9375, 'consistency losses/trn_torque_loss': 818.91549802, 'consistency losses/trn_torque_delta_loss': 13.72118643, 'logistical/max_param': 16.19374466, 'logistical/lr': 0.0001}\n",
      "{'logistical/obs_consumed_per_second': 230.5234375, 'logistical/obs_generated_per_second': 104.1484375, 'logistical/data_consumption_ratio': 2.22064258, 'logistical/manual_train_pause': 0.0, 'trn_control_loss': 0.01316878, 'trn_headings_loss': 0.00064449, 'trn_curvatures_loss': 0.00223635, 'consistency losses/trn_steer_cost': 0.0241425, 'consistency losses/trn_te_loss': 20.02669197, 'aux losses/trn_pitch_loss': 0.14998055, 'aux losses/trn_yaw_loss': 0.2444489, 'consistency losses/trn_%_updates_w_torque_delta_loss': 0.9609375, 'consistency losses/trn_torque_loss': 939.31120133, 'consistency losses/trn_torque_delta_loss': 15.95251796, 'logistical/max_param': 16.19345665, 'logistical/lr': 0.0001}\n",
      "{'logistical/obs_consumed_per_second': 232.4140625, 'logistical/obs_generated_per_second': 108.140625, 'logistical/data_consumption_ratio': 2.15475865, 'logistical/manual_train_pause': 0.0, 'trn_control_loss': 0.01320887, 'trn_headings_loss': 0.00061115, 'trn_curvatures_loss': 0.00214849, 'consistency losses/trn_steer_cost': 0.02508581, 'consistency losses/trn_te_loss': 20.59672511, 'aux losses/trn_pitch_loss': 0.14543509, 'aux losses/trn_yaw_loss': 0.19146848, 'consistency losses/trn_%_updates_w_torque_delta_loss': 0.859375, 'consistency losses/trn_torque_loss': 864.0721668, 'consistency losses/trn_torque_delta_loss': 14.59067772, 'logistical/max_param': 16.19289207, 'logistical/lr': 0.0001}\n",
      "{'logistical/obs_consumed_per_second': 235.8203125, 'logistical/obs_generated_per_second': 102.9765625, 'logistical/data_consumption_ratio': 2.29042724, 'logistical/manual_train_pause': 0.0, 'trn_control_loss': 0.01290599, 'trn_headings_loss': 0.0006596, 'trn_curvatures_loss': 0.00253822, 'consistency losses/trn_steer_cost': 0.02298689, 'consistency losses/trn_te_loss': 20.35110055, 'aux losses/trn_pitch_loss': 0.14423108, 'aux losses/trn_yaw_loss': 0.21159625, 'consistency losses/trn_%_updates_w_torque_delta_loss': 0.9375, 'consistency losses/trn_torque_loss': 775.20338506, 'consistency losses/trn_torque_delta_loss': 16.04534471, 'logistical/max_param': 16.19315147, 'logistical/lr': 0.0001}\n",
      "{'logistical/obs_consumed_per_second': 225.1484375, 'logistical/obs_generated_per_second': 94.2421875, 'logistical/data_consumption_ratio': 2.39291798, 'logistical/manual_train_pause': 0.00109375, 'trn_control_loss': 0.01678407, 'trn_headings_loss': 0.00076822, 'trn_curvatures_loss': 0.00296564, 'consistency losses/trn_steer_cost': 0.02458084, 'consistency losses/trn_te_loss': 20.40258196, 'aux losses/trn_pitch_loss': 0.15060568, 'aux losses/trn_yaw_loss': 0.23831511, 'consistency losses/trn_%_updates_w_torque_delta_loss': 0.953125, 'consistency losses/trn_torque_loss': 838.59899759, 'consistency losses/trn_torque_delta_loss': 15.61969103, 'logistical/max_param': 16.18952179, 'logistical/lr': 0.0001}\n",
      "{'logistical/obs_consumed_per_second': 230.8046875, 'logistical/obs_generated_per_second': 101.453125, 'logistical/data_consumption_ratio': 2.27917571, 'logistical/manual_train_pause': 0.00015625, 'trn_control_loss': 0.01513255, 'trn_headings_loss': 0.00071721, 'trn_curvatures_loss': 0.00274966, 'consistency losses/trn_steer_cost': 0.02494258, 'consistency losses/trn_te_loss': 20.13956152, 'aux losses/trn_pitch_loss': 0.15526533, 'aux losses/trn_yaw_loss': 0.25274372, 'consistency losses/trn_%_updates_w_torque_delta_loss': 0.8984375, 'consistency losses/trn_torque_loss': 783.57362162, 'consistency losses/trn_torque_delta_loss': 15.60438739, 'logistical/max_param': 16.1926899, 'logistical/lr': 0.0001}\n",
      "{'logistical/obs_consumed_per_second': 150.0, 'logistical/obs_generated_per_second': 101.0, 'logistical/data_consumption_ratio': 1.49025028, 'logistical/manual_train_pause': 0.0}\n",
      "\n",
      "\n",
      " Eval...\n",
      "EPOCH 33\n",
      "\n",
      "{'trn_control_loss': 0.01547047, 'trn_headings_loss': 0.00071188, 'trn_curvatures_loss': 0.00295184, 'consistency losses/trn_steer_cost': 0.02859002, 'consistency losses/trn_te_loss': 19.78904141, 'aux losses/trn_pitch_loss': 0.15634918, 'aux losses/trn_yaw_loss': 0.27036142, 'consistency losses/trn_%_updates_w_torque_delta_loss': 0.90625, 'consistency losses/trn_torque_loss': 768.25381217, 'consistency losses/trn_torque_delta_loss': 13.72197306, 'logistical/obs_consumed_per_second': 237.82677165, 'logistical/obs_generated_per_second': 104.92913386, 'logistical/data_consumption_ratio': 2.27044088, 'logistical/manual_train_pause': 0.0, 'logistical/max_param': 16.19367409, 'logistical/lr': 0.0001}\n",
      "{'logistical/obs_consumed_per_second': 234.6796875, 'logistical/obs_generated_per_second': 102.59375, 'logistical/data_consumption_ratio': 2.29075418, 'logistical/manual_train_pause': 0.0, 'trn_control_loss': 0.01537728, 'trn_headings_loss': 0.00069509, 'trn_curvatures_loss': 0.00259788, 'consistency losses/trn_steer_cost': 0.02323252, 'consistency losses/trn_te_loss': 20.52537987, 'aux losses/trn_pitch_loss': 0.15598011, 'aux losses/trn_yaw_loss': 0.22225857, 'consistency losses/trn_%_updates_w_torque_delta_loss': 0.921875, 'consistency losses/trn_torque_loss': 871.5101865, 'consistency losses/trn_torque_delta_loss': 16.17816169, 'logistical/max_param': 16.19307518, 'logistical/lr': 0.0001}\n",
      "{'logistical/obs_consumed_per_second': 232.3125, 'logistical/obs_generated_per_second': 106.890625, 'logistical/data_consumption_ratio': 2.17325054, 'logistical/manual_train_pause': 0.0, 'trn_control_loss': 0.0144062, 'trn_headings_loss': 0.00068535, 'trn_curvatures_loss': 0.00240216, 'consistency losses/trn_steer_cost': 0.02560723, 'consistency losses/trn_te_loss': 19.90959162, 'aux losses/trn_pitch_loss': 0.15779924, 'aux losses/trn_yaw_loss': 0.23823118, 'consistency losses/trn_%_updates_w_torque_delta_loss': 0.953125, 'consistency losses/trn_torque_loss': 926.17582405, 'consistency losses/trn_torque_delta_loss': 18.13941172, 'logistical/max_param': 16.19197845, 'logistical/lr': 0.0001}\n",
      "{'logistical/obs_consumed_per_second': 236.796875, 'logistical/obs_generated_per_second': 97.9453125, 'logistical/data_consumption_ratio': 2.42106782, 'logistical/manual_train_pause': 0.0009375, 'trn_control_loss': 0.01364216, 'trn_headings_loss': 0.00066483, 'trn_curvatures_loss': 0.00248605, 'consistency losses/trn_steer_cost': 0.02636689, 'consistency losses/trn_te_loss': 19.67600125, 'aux losses/trn_pitch_loss': 0.1417613, 'aux losses/trn_yaw_loss': 0.21622419, 'consistency losses/trn_%_updates_w_torque_delta_loss': 0.859375, 'consistency losses/trn_torque_loss': 649.7579931, 'consistency losses/trn_torque_delta_loss': 12.082218, 'logistical/max_param': 16.1906395, 'logistical/lr': 0.0001}\n",
      "{'logistical/obs_consumed_per_second': 228.2109375, 'logistical/obs_generated_per_second': 99.7890625, 'logistical/data_consumption_ratio': 2.29441315, 'logistical/manual_train_pause': 0.000625, 'trn_control_loss': 0.0157308, 'trn_headings_loss': 0.00071387, 'trn_curvatures_loss': 0.00280008, 'consistency losses/trn_steer_cost': 0.02746332, 'consistency losses/trn_te_loss': 19.86889435, 'aux losses/trn_pitch_loss': 0.1530664, 'aux losses/trn_yaw_loss': 0.27083826, 'consistency losses/trn_%_updates_w_torque_delta_loss': 0.9453125, 'consistency losses/trn_torque_loss': 846.0883863, 'consistency losses/trn_torque_delta_loss': 14.50007402, 'logistical/max_param': 16.19124031, 'logistical/lr': 0.0001}\n",
      "{'logistical/obs_consumed_per_second': 233.9921875, 'logistical/obs_generated_per_second': 104.6328125, 'logistical/data_consumption_ratio': 2.23848189, 'logistical/manual_train_pause': 0.0, 'trn_control_loss': 0.01386979, 'trn_headings_loss': 0.00066593, 'trn_curvatures_loss': 0.00248688, 'consistency losses/trn_steer_cost': 0.02542078, 'consistency losses/trn_te_loss': 20.1036412, 'aux losses/trn_pitch_loss': 0.15790653, 'aux losses/trn_yaw_loss': 0.23657608, 'consistency losses/trn_%_updates_w_torque_delta_loss': 0.90625, 'consistency losses/trn_torque_loss': 800.1377027, 'consistency losses/trn_torque_delta_loss': 15.04108623, 'logistical/max_param': 16.19242096, 'logistical/lr': 0.0001}\n"
     ]
    },
    {
     "name": "stdout",
     "output_type": "stream",
     "text": [
      "{'logistical/obs_consumed_per_second': 234.1015625, 'logistical/obs_generated_per_second': 99.7421875, 'logistical/data_consumption_ratio': 2.3523362, 'logistical/manual_train_pause': 0.00046875, 'trn_control_loss': 0.01556578, 'trn_headings_loss': 0.00072541, 'trn_curvatures_loss': 0.00259245, 'consistency losses/trn_steer_cost': 0.02783561, 'consistency losses/trn_te_loss': 19.69072661, 'aux losses/trn_pitch_loss': 0.15342402, 'aux losses/trn_yaw_loss': 0.21806431, 'consistency losses/trn_%_updates_w_torque_delta_loss': 0.7890625, 'consistency losses/trn_torque_loss': 722.62848544, 'consistency losses/trn_torque_delta_loss': 13.24163436, 'logistical/max_param': 16.19167519, 'logistical/lr': 0.0001}\n",
      "{'logistical/obs_consumed_per_second': 237.640625, 'logistical/obs_generated_per_second': 95.7890625, 'logistical/data_consumption_ratio': 2.48079535, 'logistical/manual_train_pause': 0.00210938, 'trn_control_loss': 0.0135271, 'trn_headings_loss': 0.0006161, 'trn_curvatures_loss': 0.00226048, 'consistency losses/trn_steer_cost': 0.02474117, 'consistency losses/trn_te_loss': 19.87429113, 'aux losses/trn_pitch_loss': 0.14204788, 'aux losses/trn_yaw_loss': 0.24993134, 'consistency losses/trn_%_updates_w_torque_delta_loss': 0.9453125, 'consistency losses/trn_torque_loss': 923.28817806, 'consistency losses/trn_torque_delta_loss': 17.20869725, 'logistical/max_param': 16.19198036, 'logistical/lr': 0.0001}\n",
      "{'logistical/obs_consumed_per_second': 233.3671875, 'logistical/obs_generated_per_second': 98.5390625, 'logistical/data_consumption_ratio': 2.36884267, 'logistical/manual_train_pause': 0.0003125, 'trn_control_loss': 0.01663482, 'trn_headings_loss': 0.00075977, 'trn_curvatures_loss': 0.00293592, 'consistency losses/trn_steer_cost': 0.0296281, 'consistency losses/trn_te_loss': 20.07759522, 'aux losses/trn_pitch_loss': 0.14701295, 'aux losses/trn_yaw_loss': 0.25709105, 'consistency losses/trn_%_updates_w_torque_delta_loss': 0.9140625, 'consistency losses/trn_torque_loss': 798.2407009, 'consistency losses/trn_torque_delta_loss': 15.82146067, 'logistical/max_param': 16.19159317, 'logistical/lr': 0.0001}\n"
     ]
    },
    {
     "ename": "KeyboardInterrupt",
     "evalue": "",
     "output_type": "error",
     "traceback": [
      "\u001b[0;31m---------------------------------------------------------------------------\u001b[0m",
      "\u001b[0;31mKeyboardInterrupt\u001b[0m                         Traceback (most recent call last)",
      "\u001b[0;32m/tmp/ipykernel_538473/1892577342.py\u001b[0m in \u001b[0;36m<module>\u001b[0;34m\u001b[0m\n\u001b[1;32m     10\u001b[0m     \u001b[0;31m# Train\u001b[0m\u001b[0;34m\u001b[0m\u001b[0;34m\u001b[0m\u001b[0;34m\u001b[0m\u001b[0m\n\u001b[1;32m     11\u001b[0m     \u001b[0mprint\u001b[0m\u001b[0;34m(\u001b[0m\u001b[0;34mf\"EPOCH {e}\\n\"\u001b[0m\u001b[0;34m)\u001b[0m\u001b[0;34m\u001b[0m\u001b[0;34m\u001b[0m\u001b[0m\n\u001b[0;32m---> 12\u001b[0;31m     run_epoch(dataloader_trn, m, opt=opt, scaler=scaler, \n\u001b[0m\u001b[1;32m     13\u001b[0m               train=True, backwards=True, log_wandb=log_wandb, wandb=wandb, updates_per_epoch=1280)\n\u001b[1;32m     14\u001b[0m \u001b[0;34m\u001b[0m\u001b[0m\n",
      "\u001b[0;32m/media/beans/ssd/bespoke/train_utils.py\u001b[0m in \u001b[0;36mrun_epoch\u001b[0;34m(dataloader, model, opt, scaler, train, backwards, log_wandb, log_cadence, updates_per_epoch, wandb)\u001b[0m\n\u001b[1;32m    190\u001b[0m     \u001b[0;32mfor\u001b[0m \u001b[0mupdate_counter\u001b[0m \u001b[0;32min\u001b[0m \u001b[0mrange\u001b[0m\u001b[0;34m(\u001b[0m\u001b[0mupdates_per_epoch\u001b[0m\u001b[0;34m)\u001b[0m\u001b[0;34m:\u001b[0m\u001b[0;34m\u001b[0m\u001b[0;34m\u001b[0m\u001b[0m\n\u001b[1;32m    191\u001b[0m         \u001b[0mt1\u001b[0m \u001b[0;34m=\u001b[0m \u001b[0mtime\u001b[0m\u001b[0;34m.\u001b[0m\u001b[0mtime\u001b[0m\u001b[0;34m(\u001b[0m\u001b[0;34m)\u001b[0m\u001b[0;34m\u001b[0m\u001b[0;34m\u001b[0m\u001b[0m\n\u001b[0;32m--> 192\u001b[0;31m         \u001b[0mbatch\u001b[0m \u001b[0;34m=\u001b[0m \u001b[0mdataloader\u001b[0m\u001b[0;34m.\u001b[0m\u001b[0mget_batch\u001b[0m\u001b[0;34m(\u001b[0m\u001b[0;34m)\u001b[0m\u001b[0;34m\u001b[0m\u001b[0;34m\u001b[0m\u001b[0m\n\u001b[0m\u001b[1;32m    193\u001b[0m         \u001b[0;32mif\u001b[0m \u001b[0;32mnot\u001b[0m \u001b[0mbatch\u001b[0m\u001b[0;34m:\u001b[0m \u001b[0;32mbreak\u001b[0m\u001b[0;34m\u001b[0m\u001b[0;34m\u001b[0m\u001b[0m\n\u001b[1;32m    194\u001b[0m         \u001b[0;34m(\u001b[0m\u001b[0mimg\u001b[0m\u001b[0;34m,\u001b[0m \u001b[0maux\u001b[0m\u001b[0;34m,\u001b[0m \u001b[0mwp_angles\u001b[0m\u001b[0;34m,\u001b[0m \u001b[0mwp_headings\u001b[0m\u001b[0;34m,\u001b[0m \u001b[0mwp_curvatures\u001b[0m\u001b[0;34m,\u001b[0m \u001b[0mto_pred_mask\u001b[0m\u001b[0;34m,\u001b[0m \u001b[0mcurrent_tire_angles_rad\u001b[0m\u001b[0;34m,\u001b[0m \u001b[0mcurrent_speeds_mps\u001b[0m\u001b[0;34m,\u001b[0m \u001b[0mpitch\u001b[0m\u001b[0;34m,\u001b[0m \u001b[0myaw\u001b[0m\u001b[0;34m)\u001b[0m\u001b[0;34m,\u001b[0m \u001b[0mis_first_in_seq\u001b[0m \u001b[0;34m=\u001b[0m \u001b[0mbatch\u001b[0m\u001b[0;34m\u001b[0m\u001b[0;34m\u001b[0m\u001b[0m\n",
      "\u001b[0;32m/media/beans/ssd/bespoke/blender_dataloader.py\u001b[0m in \u001b[0;36mget_batch\u001b[0;34m(self)\u001b[0m\n\u001b[1;32m    165\u001b[0m             \u001b[0;31m#print(\"Waiting for next chunk...\")\u001b[0m\u001b[0;34m\u001b[0m\u001b[0;34m\u001b[0m\u001b[0;34m\u001b[0m\u001b[0m\n\u001b[1;32m    166\u001b[0m             \u001b[0mself\u001b[0m\u001b[0;34m.\u001b[0m\u001b[0mretry_counter\u001b[0m \u001b[0;34m+=\u001b[0m \u001b[0;36m1\u001b[0m\u001b[0;34m\u001b[0m\u001b[0;34m\u001b[0m\u001b[0m\n\u001b[0;32m--> 167\u001b[0;31m             \u001b[0mtime\u001b[0m\u001b[0;34m.\u001b[0m\u001b[0msleep\u001b[0m\u001b[0;34m(\u001b[0m\u001b[0;36m.1\u001b[0m\u001b[0;34m)\u001b[0m\u001b[0;34m\u001b[0m\u001b[0;34m\u001b[0m\u001b[0m\n\u001b[0m\u001b[1;32m    168\u001b[0m \u001b[0;34m\u001b[0m\u001b[0m\n\u001b[1;32m    169\u001b[0m         \u001b[0mthread\u001b[0m \u001b[0;34m=\u001b[0m \u001b[0mthreading\u001b[0m\u001b[0;34m.\u001b[0m\u001b[0mThread\u001b[0m\u001b[0;34m(\u001b[0m\u001b[0mtarget\u001b[0m\u001b[0;34m=\u001b[0m\u001b[0mself\u001b[0m\u001b[0;34m.\u001b[0m\u001b[0mqueue_up_batch\u001b[0m\u001b[0;34m)\u001b[0m\u001b[0;34m\u001b[0m\u001b[0;34m\u001b[0m\u001b[0m\n",
      "\u001b[0;31mKeyboardInterrupt\u001b[0m: "
     ]
    },
    {
     "name": "stdout",
     "output_type": "stream",
     "text": [
      "Error in callback <function _WandbInit._pause_backend at 0x7f66675ab310> (for post_run_cell):\n"
     ]
    },
    {
     "ename": "Exception",
     "evalue": "The wandb backend process has shutdown",
     "output_type": "error",
     "traceback": [
      "\u001b[0;31m---------------------------------------------------------------------------\u001b[0m",
      "\u001b[0;31mException\u001b[0m                                 Traceback (most recent call last)",
      "\u001b[0;32m~/miniconda3/envs/py38/lib/python3.8/site-packages/backcall/backcall.py\u001b[0m in \u001b[0;36madapted\u001b[0;34m(*args, **kwargs)\u001b[0m\n\u001b[1;32m    102\u001b[0m                 \u001b[0mkwargs\u001b[0m\u001b[0;34m.\u001b[0m\u001b[0mpop\u001b[0m\u001b[0;34m(\u001b[0m\u001b[0mname\u001b[0m\u001b[0;34m)\u001b[0m\u001b[0;34m\u001b[0m\u001b[0;34m\u001b[0m\u001b[0m\n\u001b[1;32m    103\u001b[0m \u001b[0;31m#            print(args, kwargs, unmatched_pos, cut_positional, unmatched_kw)\u001b[0m\u001b[0;34m\u001b[0m\u001b[0;34m\u001b[0m\u001b[0;34m\u001b[0m\u001b[0m\n\u001b[0;32m--> 104\u001b[0;31m             \u001b[0;32mreturn\u001b[0m \u001b[0mcallback\u001b[0m\u001b[0;34m(\u001b[0m\u001b[0;34m*\u001b[0m\u001b[0margs\u001b[0m\u001b[0;34m,\u001b[0m \u001b[0;34m**\u001b[0m\u001b[0mkwargs\u001b[0m\u001b[0;34m)\u001b[0m\u001b[0;34m\u001b[0m\u001b[0;34m\u001b[0m\u001b[0m\n\u001b[0m\u001b[1;32m    105\u001b[0m \u001b[0;34m\u001b[0m\u001b[0m\n\u001b[1;32m    106\u001b[0m         \u001b[0;32mreturn\u001b[0m \u001b[0madapted\u001b[0m\u001b[0;34m\u001b[0m\u001b[0;34m\u001b[0m\u001b[0m\n",
      "\u001b[0;32m~/miniconda3/envs/py38/lib/python3.8/site-packages/wandb/sdk/wandb_init.py\u001b[0m in \u001b[0;36m_pause_backend\u001b[0;34m(self)\u001b[0m\n\u001b[1;32m    273\u001b[0m                 \u001b[0mres\u001b[0m \u001b[0;34m=\u001b[0m \u001b[0mself\u001b[0m\u001b[0;34m.\u001b[0m\u001b[0mrun\u001b[0m\u001b[0;34m.\u001b[0m\u001b[0mlog_code\u001b[0m\u001b[0;34m(\u001b[0m\u001b[0mroot\u001b[0m\u001b[0;34m=\u001b[0m\u001b[0;32mNone\u001b[0m\u001b[0;34m)\u001b[0m\u001b[0;34m\u001b[0m\u001b[0;34m\u001b[0m\u001b[0m\n\u001b[1;32m    274\u001b[0m                 \u001b[0mlogger\u001b[0m\u001b[0;34m.\u001b[0m\u001b[0minfo\u001b[0m\u001b[0;34m(\u001b[0m\u001b[0;34m\"saved code: %s\"\u001b[0m\u001b[0;34m,\u001b[0m \u001b[0mres\u001b[0m\u001b[0;34m)\u001b[0m\u001b[0;34m\u001b[0m\u001b[0;34m\u001b[0m\u001b[0m\n\u001b[0;32m--> 275\u001b[0;31m             \u001b[0mself\u001b[0m\u001b[0;34m.\u001b[0m\u001b[0mbackend\u001b[0m\u001b[0;34m.\u001b[0m\u001b[0minterface\u001b[0m\u001b[0;34m.\u001b[0m\u001b[0mpublish_pause\u001b[0m\u001b[0;34m(\u001b[0m\u001b[0;34m)\u001b[0m\u001b[0;34m\u001b[0m\u001b[0;34m\u001b[0m\u001b[0m\n\u001b[0m\u001b[1;32m    276\u001b[0m \u001b[0;34m\u001b[0m\u001b[0m\n\u001b[1;32m    277\u001b[0m     \u001b[0;32mdef\u001b[0m \u001b[0m_resume_backend\u001b[0m\u001b[0;34m(\u001b[0m\u001b[0mself\u001b[0m\u001b[0;34m)\u001b[0m\u001b[0;34m:\u001b[0m\u001b[0;34m\u001b[0m\u001b[0;34m\u001b[0m\u001b[0m\n",
      "\u001b[0;32m~/miniconda3/envs/py38/lib/python3.8/site-packages/wandb/sdk/interface/interface.py\u001b[0m in \u001b[0;36mpublish_pause\u001b[0;34m(self)\u001b[0m\n\u001b[1;32m    535\u001b[0m     \u001b[0;32mdef\u001b[0m \u001b[0mpublish_pause\u001b[0m\u001b[0;34m(\u001b[0m\u001b[0mself\u001b[0m\u001b[0;34m)\u001b[0m \u001b[0;34m->\u001b[0m \u001b[0;32mNone\u001b[0m\u001b[0;34m:\u001b[0m\u001b[0;34m\u001b[0m\u001b[0;34m\u001b[0m\u001b[0m\n\u001b[1;32m    536\u001b[0m         \u001b[0mpause\u001b[0m \u001b[0;34m=\u001b[0m \u001b[0mpb\u001b[0m\u001b[0;34m.\u001b[0m\u001b[0mPauseRequest\u001b[0m\u001b[0;34m(\u001b[0m\u001b[0;34m)\u001b[0m\u001b[0;34m\u001b[0m\u001b[0;34m\u001b[0m\u001b[0m\n\u001b[0;32m--> 537\u001b[0;31m         \u001b[0mself\u001b[0m\u001b[0;34m.\u001b[0m\u001b[0m_publish_pause\u001b[0m\u001b[0;34m(\u001b[0m\u001b[0mpause\u001b[0m\u001b[0;34m)\u001b[0m\u001b[0;34m\u001b[0m\u001b[0;34m\u001b[0m\u001b[0m\n\u001b[0m\u001b[1;32m    538\u001b[0m \u001b[0;34m\u001b[0m\u001b[0m\n\u001b[1;32m    539\u001b[0m     \u001b[0;34m@\u001b[0m\u001b[0mabstractmethod\u001b[0m\u001b[0;34m\u001b[0m\u001b[0;34m\u001b[0m\u001b[0m\n",
      "\u001b[0;32m~/miniconda3/envs/py38/lib/python3.8/site-packages/wandb/sdk/interface/interface_queue.py\u001b[0m in \u001b[0;36m_publish_pause\u001b[0;34m(self, pause)\u001b[0m\n\u001b[1;32m    283\u001b[0m     \u001b[0;32mdef\u001b[0m \u001b[0m_publish_pause\u001b[0m\u001b[0;34m(\u001b[0m\u001b[0mself\u001b[0m\u001b[0;34m,\u001b[0m \u001b[0mpause\u001b[0m\u001b[0;34m:\u001b[0m \u001b[0mpb\u001b[0m\u001b[0;34m.\u001b[0m\u001b[0mPauseRequest\u001b[0m\u001b[0;34m)\u001b[0m \u001b[0;34m->\u001b[0m \u001b[0;32mNone\u001b[0m\u001b[0;34m:\u001b[0m\u001b[0;34m\u001b[0m\u001b[0;34m\u001b[0m\u001b[0m\n\u001b[1;32m    284\u001b[0m         \u001b[0mrec\u001b[0m \u001b[0;34m=\u001b[0m \u001b[0mself\u001b[0m\u001b[0;34m.\u001b[0m\u001b[0m_make_request\u001b[0m\u001b[0;34m(\u001b[0m\u001b[0mpause\u001b[0m\u001b[0;34m=\u001b[0m\u001b[0mpause\u001b[0m\u001b[0;34m)\u001b[0m\u001b[0;34m\u001b[0m\u001b[0;34m\u001b[0m\u001b[0m\n\u001b[0;32m--> 285\u001b[0;31m         \u001b[0mself\u001b[0m\u001b[0;34m.\u001b[0m\u001b[0m_publish\u001b[0m\u001b[0;34m(\u001b[0m\u001b[0mrec\u001b[0m\u001b[0;34m)\u001b[0m\u001b[0;34m\u001b[0m\u001b[0;34m\u001b[0m\u001b[0m\n\u001b[0m\u001b[1;32m    286\u001b[0m \u001b[0;34m\u001b[0m\u001b[0m\n\u001b[1;32m    287\u001b[0m     \u001b[0;32mdef\u001b[0m \u001b[0m_publish_resume\u001b[0m\u001b[0;34m(\u001b[0m\u001b[0mself\u001b[0m\u001b[0;34m,\u001b[0m \u001b[0mresume\u001b[0m\u001b[0;34m:\u001b[0m \u001b[0mpb\u001b[0m\u001b[0;34m.\u001b[0m\u001b[0mResumeRequest\u001b[0m\u001b[0;34m)\u001b[0m \u001b[0;34m->\u001b[0m \u001b[0;32mNone\u001b[0m\u001b[0;34m:\u001b[0m\u001b[0;34m\u001b[0m\u001b[0;34m\u001b[0m\u001b[0m\n",
      "\u001b[0;32m~/miniconda3/envs/py38/lib/python3.8/site-packages/wandb/sdk/interface/interface_queue.py\u001b[0m in \u001b[0;36m_publish\u001b[0;34m(self, record, local)\u001b[0m\n\u001b[1;32m    221\u001b[0m     \u001b[0;32mdef\u001b[0m \u001b[0m_publish\u001b[0m\u001b[0;34m(\u001b[0m\u001b[0mself\u001b[0m\u001b[0;34m,\u001b[0m \u001b[0mrecord\u001b[0m\u001b[0;34m:\u001b[0m \u001b[0mpb\u001b[0m\u001b[0;34m.\u001b[0m\u001b[0mRecord\u001b[0m\u001b[0;34m,\u001b[0m \u001b[0mlocal\u001b[0m\u001b[0;34m:\u001b[0m \u001b[0mbool\u001b[0m \u001b[0;34m=\u001b[0m \u001b[0;32mNone\u001b[0m\u001b[0;34m)\u001b[0m \u001b[0;34m->\u001b[0m \u001b[0;32mNone\u001b[0m\u001b[0;34m:\u001b[0m\u001b[0;34m\u001b[0m\u001b[0;34m\u001b[0m\u001b[0m\n\u001b[1;32m    222\u001b[0m         \u001b[0;32mif\u001b[0m \u001b[0mself\u001b[0m\u001b[0;34m.\u001b[0m\u001b[0m_process_check\u001b[0m \u001b[0;32mand\u001b[0m \u001b[0mself\u001b[0m\u001b[0;34m.\u001b[0m\u001b[0m_process\u001b[0m \u001b[0;32mand\u001b[0m \u001b[0;32mnot\u001b[0m \u001b[0mself\u001b[0m\u001b[0;34m.\u001b[0m\u001b[0m_process\u001b[0m\u001b[0;34m.\u001b[0m\u001b[0mis_alive\u001b[0m\u001b[0;34m(\u001b[0m\u001b[0;34m)\u001b[0m\u001b[0;34m:\u001b[0m\u001b[0;34m\u001b[0m\u001b[0;34m\u001b[0m\u001b[0m\n\u001b[0;32m--> 223\u001b[0;31m             \u001b[0;32mraise\u001b[0m \u001b[0mException\u001b[0m\u001b[0;34m(\u001b[0m\u001b[0;34m\"The wandb backend process has shutdown\"\u001b[0m\u001b[0;34m)\u001b[0m\u001b[0;34m\u001b[0m\u001b[0;34m\u001b[0m\u001b[0m\n\u001b[0m\u001b[1;32m    224\u001b[0m         \u001b[0;32mif\u001b[0m \u001b[0mlocal\u001b[0m\u001b[0;34m:\u001b[0m\u001b[0;34m\u001b[0m\u001b[0;34m\u001b[0m\u001b[0m\n\u001b[1;32m    225\u001b[0m             \u001b[0mrecord\u001b[0m\u001b[0;34m.\u001b[0m\u001b[0mcontrol\u001b[0m\u001b[0;34m.\u001b[0m\u001b[0mlocal\u001b[0m \u001b[0;34m=\u001b[0m \u001b[0mlocal\u001b[0m\u001b[0;34m\u001b[0m\u001b[0;34m\u001b[0m\u001b[0m\n",
      "\u001b[0;31mException\u001b[0m: The wandb backend process has shutdown"
     ]
    }
   ],
   "source": [
    "n_epochs = 1000\n",
    "log_wandb = True\n",
    "\n",
    "for e in range(START_E, n_epochs):\n",
    "    \n",
    "    opt.param_groups[0]['lr'] = 6e-4 if e < 10 else 3e-4 if e < 20 else 1e-4\n",
    "    #opt.param_groups[0]['lr'] = 3e-4 if e < 10 else 1e-4\n",
    "    \n",
    "    \n",
    "    # Train\n",
    "    print(f\"EPOCH {e}\\n\")\n",
    "    run_epoch(dataloader_trn, m, opt=opt, scaler=scaler, \n",
    "              train=True, backwards=True, log_wandb=log_wandb, wandb=wandb, updates_per_epoch=1280)\n",
    "    \n",
    "    print(\"\\n\\n Eval...\")\n",
    "    \n",
    "    #eval_rw(rw_dataloader, m, wandb) # will log directly to wandb\n",
    "        \n",
    "    # Saving model checkpoint each epoch\n",
    "    torch.save(m.state_dict(), f\"{BESPOKE_ROOT}/models/m_{model_stem}_e{e}.torch\")\n",
    "    "
   ]
  },
  {
   "cell_type": "code",
   "execution_count": null,
   "metadata": {},
   "outputs": [],
   "source": []
  },
  {
   "cell_type": "code",
   "execution_count": 15,
   "metadata": {
    "scrolled": true
   },
   "outputs": [
    {
     "name": "stdout",
     "output_type": "stream",
     "text": [
      "Error in callback <function _WandbInit._resume_backend at 0x7f66675ab9d0> (for pre_run_cell):\n"
     ]
    },
    {
     "ename": "Exception",
     "evalue": "The wandb backend process has shutdown",
     "output_type": "error",
     "traceback": [
      "\u001b[0;31m---------------------------------------------------------------------------\u001b[0m",
      "\u001b[0;31mException\u001b[0m                                 Traceback (most recent call last)",
      "\u001b[0;32m~/miniconda3/envs/py38/lib/python3.8/site-packages/backcall/backcall.py\u001b[0m in \u001b[0;36madapted\u001b[0;34m(*args, **kwargs)\u001b[0m\n\u001b[1;32m    102\u001b[0m                 \u001b[0mkwargs\u001b[0m\u001b[0;34m.\u001b[0m\u001b[0mpop\u001b[0m\u001b[0;34m(\u001b[0m\u001b[0mname\u001b[0m\u001b[0;34m)\u001b[0m\u001b[0;34m\u001b[0m\u001b[0;34m\u001b[0m\u001b[0m\n\u001b[1;32m    103\u001b[0m \u001b[0;31m#            print(args, kwargs, unmatched_pos, cut_positional, unmatched_kw)\u001b[0m\u001b[0;34m\u001b[0m\u001b[0;34m\u001b[0m\u001b[0;34m\u001b[0m\u001b[0m\n\u001b[0;32m--> 104\u001b[0;31m             \u001b[0;32mreturn\u001b[0m \u001b[0mcallback\u001b[0m\u001b[0;34m(\u001b[0m\u001b[0;34m*\u001b[0m\u001b[0margs\u001b[0m\u001b[0;34m,\u001b[0m \u001b[0;34m**\u001b[0m\u001b[0mkwargs\u001b[0m\u001b[0;34m)\u001b[0m\u001b[0;34m\u001b[0m\u001b[0;34m\u001b[0m\u001b[0m\n\u001b[0m\u001b[1;32m    105\u001b[0m \u001b[0;34m\u001b[0m\u001b[0m\n\u001b[1;32m    106\u001b[0m         \u001b[0;32mreturn\u001b[0m \u001b[0madapted\u001b[0m\u001b[0;34m\u001b[0m\u001b[0;34m\u001b[0m\u001b[0m\n",
      "\u001b[0;32m~/miniconda3/envs/py38/lib/python3.8/site-packages/wandb/sdk/wandb_init.py\u001b[0m in \u001b[0;36m_resume_backend\u001b[0;34m(self)\u001b[0m\n\u001b[1;32m    278\u001b[0m         \u001b[0;32mif\u001b[0m \u001b[0mself\u001b[0m\u001b[0;34m.\u001b[0m\u001b[0mbackend\u001b[0m \u001b[0;32mis\u001b[0m \u001b[0;32mnot\u001b[0m \u001b[0;32mNone\u001b[0m\u001b[0;34m:\u001b[0m\u001b[0;34m\u001b[0m\u001b[0;34m\u001b[0m\u001b[0m\n\u001b[1;32m    279\u001b[0m             \u001b[0mlogger\u001b[0m\u001b[0;34m.\u001b[0m\u001b[0minfo\u001b[0m\u001b[0;34m(\u001b[0m\u001b[0;34m\"resuming backend\"\u001b[0m\u001b[0;34m)\u001b[0m\u001b[0;34m\u001b[0m\u001b[0;34m\u001b[0m\u001b[0m\n\u001b[0;32m--> 280\u001b[0;31m             \u001b[0mself\u001b[0m\u001b[0;34m.\u001b[0m\u001b[0mbackend\u001b[0m\u001b[0;34m.\u001b[0m\u001b[0minterface\u001b[0m\u001b[0;34m.\u001b[0m\u001b[0mpublish_resume\u001b[0m\u001b[0;34m(\u001b[0m\u001b[0;34m)\u001b[0m\u001b[0;34m\u001b[0m\u001b[0;34m\u001b[0m\u001b[0m\n\u001b[0m\u001b[1;32m    281\u001b[0m \u001b[0;34m\u001b[0m\u001b[0m\n\u001b[1;32m    282\u001b[0m     \u001b[0;32mdef\u001b[0m \u001b[0m_jupyter_teardown\u001b[0m\u001b[0;34m(\u001b[0m\u001b[0mself\u001b[0m\u001b[0;34m)\u001b[0m\u001b[0;34m:\u001b[0m\u001b[0;34m\u001b[0m\u001b[0;34m\u001b[0m\u001b[0m\n",
      "\u001b[0;32m~/miniconda3/envs/py38/lib/python3.8/site-packages/wandb/sdk/interface/interface.py\u001b[0m in \u001b[0;36mpublish_resume\u001b[0;34m(self)\u001b[0m\n\u001b[1;32m    543\u001b[0m     \u001b[0;32mdef\u001b[0m \u001b[0mpublish_resume\u001b[0m\u001b[0;34m(\u001b[0m\u001b[0mself\u001b[0m\u001b[0;34m)\u001b[0m \u001b[0;34m->\u001b[0m \u001b[0;32mNone\u001b[0m\u001b[0;34m:\u001b[0m\u001b[0;34m\u001b[0m\u001b[0;34m\u001b[0m\u001b[0m\n\u001b[1;32m    544\u001b[0m         \u001b[0mresume\u001b[0m \u001b[0;34m=\u001b[0m \u001b[0mpb\u001b[0m\u001b[0;34m.\u001b[0m\u001b[0mResumeRequest\u001b[0m\u001b[0;34m(\u001b[0m\u001b[0;34m)\u001b[0m\u001b[0;34m\u001b[0m\u001b[0;34m\u001b[0m\u001b[0m\n\u001b[0;32m--> 545\u001b[0;31m         \u001b[0mself\u001b[0m\u001b[0;34m.\u001b[0m\u001b[0m_publish_resume\u001b[0m\u001b[0;34m(\u001b[0m\u001b[0mresume\u001b[0m\u001b[0;34m)\u001b[0m\u001b[0;34m\u001b[0m\u001b[0;34m\u001b[0m\u001b[0m\n\u001b[0m\u001b[1;32m    546\u001b[0m \u001b[0;34m\u001b[0m\u001b[0m\n\u001b[1;32m    547\u001b[0m     \u001b[0;34m@\u001b[0m\u001b[0mabstractmethod\u001b[0m\u001b[0;34m\u001b[0m\u001b[0;34m\u001b[0m\u001b[0m\n",
      "\u001b[0;32m~/miniconda3/envs/py38/lib/python3.8/site-packages/wandb/sdk/interface/interface_queue.py\u001b[0m in \u001b[0;36m_publish_resume\u001b[0;34m(self, resume)\u001b[0m\n\u001b[1;32m    287\u001b[0m     \u001b[0;32mdef\u001b[0m \u001b[0m_publish_resume\u001b[0m\u001b[0;34m(\u001b[0m\u001b[0mself\u001b[0m\u001b[0;34m,\u001b[0m \u001b[0mresume\u001b[0m\u001b[0;34m:\u001b[0m \u001b[0mpb\u001b[0m\u001b[0;34m.\u001b[0m\u001b[0mResumeRequest\u001b[0m\u001b[0;34m)\u001b[0m \u001b[0;34m->\u001b[0m \u001b[0;32mNone\u001b[0m\u001b[0;34m:\u001b[0m\u001b[0;34m\u001b[0m\u001b[0;34m\u001b[0m\u001b[0m\n\u001b[1;32m    288\u001b[0m         \u001b[0mrec\u001b[0m \u001b[0;34m=\u001b[0m \u001b[0mself\u001b[0m\u001b[0;34m.\u001b[0m\u001b[0m_make_request\u001b[0m\u001b[0;34m(\u001b[0m\u001b[0mresume\u001b[0m\u001b[0;34m=\u001b[0m\u001b[0mresume\u001b[0m\u001b[0;34m)\u001b[0m\u001b[0;34m\u001b[0m\u001b[0;34m\u001b[0m\u001b[0m\n\u001b[0;32m--> 289\u001b[0;31m         \u001b[0mself\u001b[0m\u001b[0;34m.\u001b[0m\u001b[0m_publish\u001b[0m\u001b[0;34m(\u001b[0m\u001b[0mrec\u001b[0m\u001b[0;34m)\u001b[0m\u001b[0;34m\u001b[0m\u001b[0;34m\u001b[0m\u001b[0m\n\u001b[0m\u001b[1;32m    290\u001b[0m \u001b[0;34m\u001b[0m\u001b[0m\n\u001b[1;32m    291\u001b[0m     \u001b[0;32mdef\u001b[0m \u001b[0m_publish_run\u001b[0m\u001b[0;34m(\u001b[0m\u001b[0mself\u001b[0m\u001b[0;34m,\u001b[0m \u001b[0mrun\u001b[0m\u001b[0;34m:\u001b[0m \u001b[0mpb\u001b[0m\u001b[0;34m.\u001b[0m\u001b[0mRunRecord\u001b[0m\u001b[0;34m)\u001b[0m \u001b[0;34m->\u001b[0m \u001b[0;32mNone\u001b[0m\u001b[0;34m:\u001b[0m\u001b[0;34m\u001b[0m\u001b[0;34m\u001b[0m\u001b[0m\n",
      "\u001b[0;32m~/miniconda3/envs/py38/lib/python3.8/site-packages/wandb/sdk/interface/interface_queue.py\u001b[0m in \u001b[0;36m_publish\u001b[0;34m(self, record, local)\u001b[0m\n\u001b[1;32m    221\u001b[0m     \u001b[0;32mdef\u001b[0m \u001b[0m_publish\u001b[0m\u001b[0;34m(\u001b[0m\u001b[0mself\u001b[0m\u001b[0;34m,\u001b[0m \u001b[0mrecord\u001b[0m\u001b[0;34m:\u001b[0m \u001b[0mpb\u001b[0m\u001b[0;34m.\u001b[0m\u001b[0mRecord\u001b[0m\u001b[0;34m,\u001b[0m \u001b[0mlocal\u001b[0m\u001b[0;34m:\u001b[0m \u001b[0mbool\u001b[0m \u001b[0;34m=\u001b[0m \u001b[0;32mNone\u001b[0m\u001b[0;34m)\u001b[0m \u001b[0;34m->\u001b[0m \u001b[0;32mNone\u001b[0m\u001b[0;34m:\u001b[0m\u001b[0;34m\u001b[0m\u001b[0;34m\u001b[0m\u001b[0m\n\u001b[1;32m    222\u001b[0m         \u001b[0;32mif\u001b[0m \u001b[0mself\u001b[0m\u001b[0;34m.\u001b[0m\u001b[0m_process_check\u001b[0m \u001b[0;32mand\u001b[0m \u001b[0mself\u001b[0m\u001b[0;34m.\u001b[0m\u001b[0m_process\u001b[0m \u001b[0;32mand\u001b[0m \u001b[0;32mnot\u001b[0m \u001b[0mself\u001b[0m\u001b[0;34m.\u001b[0m\u001b[0m_process\u001b[0m\u001b[0;34m.\u001b[0m\u001b[0mis_alive\u001b[0m\u001b[0;34m(\u001b[0m\u001b[0;34m)\u001b[0m\u001b[0;34m:\u001b[0m\u001b[0;34m\u001b[0m\u001b[0;34m\u001b[0m\u001b[0m\n\u001b[0;32m--> 223\u001b[0;31m             \u001b[0;32mraise\u001b[0m \u001b[0mException\u001b[0m\u001b[0;34m(\u001b[0m\u001b[0;34m\"The wandb backend process has shutdown\"\u001b[0m\u001b[0;34m)\u001b[0m\u001b[0;34m\u001b[0m\u001b[0;34m\u001b[0m\u001b[0m\n\u001b[0m\u001b[1;32m    224\u001b[0m         \u001b[0;32mif\u001b[0m \u001b[0mlocal\u001b[0m\u001b[0;34m:\u001b[0m\u001b[0;34m\u001b[0m\u001b[0;34m\u001b[0m\u001b[0m\n\u001b[1;32m    225\u001b[0m             \u001b[0mrecord\u001b[0m\u001b[0;34m.\u001b[0m\u001b[0mcontrol\u001b[0m\u001b[0;34m.\u001b[0m\u001b[0mlocal\u001b[0m \u001b[0;34m=\u001b[0m \u001b[0mlocal\u001b[0m\u001b[0;34m\u001b[0m\u001b[0;34m\u001b[0m\u001b[0m\n",
      "\u001b[0;31mException\u001b[0m: The wandb backend process has shutdown"
     ]
    },
    {
     "name": "stdout",
     "output_type": "stream",
     "text": [
      "Error in callback <function _WandbInit._pause_backend at 0x7f66675ab310> (for post_run_cell):\n"
     ]
    },
    {
     "ename": "Exception",
     "evalue": "The wandb backend process has shutdown",
     "output_type": "error",
     "traceback": [
      "\u001b[0;31m---------------------------------------------------------------------------\u001b[0m",
      "\u001b[0;31mException\u001b[0m                                 Traceback (most recent call last)",
      "\u001b[0;32m~/miniconda3/envs/py38/lib/python3.8/site-packages/backcall/backcall.py\u001b[0m in \u001b[0;36madapted\u001b[0;34m(*args, **kwargs)\u001b[0m\n\u001b[1;32m    102\u001b[0m                 \u001b[0mkwargs\u001b[0m\u001b[0;34m.\u001b[0m\u001b[0mpop\u001b[0m\u001b[0;34m(\u001b[0m\u001b[0mname\u001b[0m\u001b[0;34m)\u001b[0m\u001b[0;34m\u001b[0m\u001b[0;34m\u001b[0m\u001b[0m\n\u001b[1;32m    103\u001b[0m \u001b[0;31m#            print(args, kwargs, unmatched_pos, cut_positional, unmatched_kw)\u001b[0m\u001b[0;34m\u001b[0m\u001b[0;34m\u001b[0m\u001b[0;34m\u001b[0m\u001b[0m\n\u001b[0;32m--> 104\u001b[0;31m             \u001b[0;32mreturn\u001b[0m \u001b[0mcallback\u001b[0m\u001b[0;34m(\u001b[0m\u001b[0;34m*\u001b[0m\u001b[0margs\u001b[0m\u001b[0;34m,\u001b[0m \u001b[0;34m**\u001b[0m\u001b[0mkwargs\u001b[0m\u001b[0;34m)\u001b[0m\u001b[0;34m\u001b[0m\u001b[0;34m\u001b[0m\u001b[0m\n\u001b[0m\u001b[1;32m    105\u001b[0m \u001b[0;34m\u001b[0m\u001b[0m\n\u001b[1;32m    106\u001b[0m         \u001b[0;32mreturn\u001b[0m \u001b[0madapted\u001b[0m\u001b[0;34m\u001b[0m\u001b[0;34m\u001b[0m\u001b[0m\n",
      "\u001b[0;32m~/miniconda3/envs/py38/lib/python3.8/site-packages/wandb/sdk/wandb_init.py\u001b[0m in \u001b[0;36m_pause_backend\u001b[0;34m(self)\u001b[0m\n\u001b[1;32m    273\u001b[0m                 \u001b[0mres\u001b[0m \u001b[0;34m=\u001b[0m \u001b[0mself\u001b[0m\u001b[0;34m.\u001b[0m\u001b[0mrun\u001b[0m\u001b[0;34m.\u001b[0m\u001b[0mlog_code\u001b[0m\u001b[0;34m(\u001b[0m\u001b[0mroot\u001b[0m\u001b[0;34m=\u001b[0m\u001b[0;32mNone\u001b[0m\u001b[0;34m)\u001b[0m\u001b[0;34m\u001b[0m\u001b[0;34m\u001b[0m\u001b[0m\n\u001b[1;32m    274\u001b[0m                 \u001b[0mlogger\u001b[0m\u001b[0;34m.\u001b[0m\u001b[0minfo\u001b[0m\u001b[0;34m(\u001b[0m\u001b[0;34m\"saved code: %s\"\u001b[0m\u001b[0;34m,\u001b[0m \u001b[0mres\u001b[0m\u001b[0;34m)\u001b[0m\u001b[0;34m\u001b[0m\u001b[0;34m\u001b[0m\u001b[0m\n\u001b[0;32m--> 275\u001b[0;31m             \u001b[0mself\u001b[0m\u001b[0;34m.\u001b[0m\u001b[0mbackend\u001b[0m\u001b[0;34m.\u001b[0m\u001b[0minterface\u001b[0m\u001b[0;34m.\u001b[0m\u001b[0mpublish_pause\u001b[0m\u001b[0;34m(\u001b[0m\u001b[0;34m)\u001b[0m\u001b[0;34m\u001b[0m\u001b[0;34m\u001b[0m\u001b[0m\n\u001b[0m\u001b[1;32m    276\u001b[0m \u001b[0;34m\u001b[0m\u001b[0m\n\u001b[1;32m    277\u001b[0m     \u001b[0;32mdef\u001b[0m \u001b[0m_resume_backend\u001b[0m\u001b[0;34m(\u001b[0m\u001b[0mself\u001b[0m\u001b[0;34m)\u001b[0m\u001b[0;34m:\u001b[0m\u001b[0;34m\u001b[0m\u001b[0;34m\u001b[0m\u001b[0m\n",
      "\u001b[0;32m~/miniconda3/envs/py38/lib/python3.8/site-packages/wandb/sdk/interface/interface.py\u001b[0m in \u001b[0;36mpublish_pause\u001b[0;34m(self)\u001b[0m\n\u001b[1;32m    535\u001b[0m     \u001b[0;32mdef\u001b[0m \u001b[0mpublish_pause\u001b[0m\u001b[0;34m(\u001b[0m\u001b[0mself\u001b[0m\u001b[0;34m)\u001b[0m \u001b[0;34m->\u001b[0m \u001b[0;32mNone\u001b[0m\u001b[0;34m:\u001b[0m\u001b[0;34m\u001b[0m\u001b[0;34m\u001b[0m\u001b[0m\n\u001b[1;32m    536\u001b[0m         \u001b[0mpause\u001b[0m \u001b[0;34m=\u001b[0m \u001b[0mpb\u001b[0m\u001b[0;34m.\u001b[0m\u001b[0mPauseRequest\u001b[0m\u001b[0;34m(\u001b[0m\u001b[0;34m)\u001b[0m\u001b[0;34m\u001b[0m\u001b[0;34m\u001b[0m\u001b[0m\n\u001b[0;32m--> 537\u001b[0;31m         \u001b[0mself\u001b[0m\u001b[0;34m.\u001b[0m\u001b[0m_publish_pause\u001b[0m\u001b[0;34m(\u001b[0m\u001b[0mpause\u001b[0m\u001b[0;34m)\u001b[0m\u001b[0;34m\u001b[0m\u001b[0;34m\u001b[0m\u001b[0m\n\u001b[0m\u001b[1;32m    538\u001b[0m \u001b[0;34m\u001b[0m\u001b[0m\n\u001b[1;32m    539\u001b[0m     \u001b[0;34m@\u001b[0m\u001b[0mabstractmethod\u001b[0m\u001b[0;34m\u001b[0m\u001b[0;34m\u001b[0m\u001b[0m\n",
      "\u001b[0;32m~/miniconda3/envs/py38/lib/python3.8/site-packages/wandb/sdk/interface/interface_queue.py\u001b[0m in \u001b[0;36m_publish_pause\u001b[0;34m(self, pause)\u001b[0m\n\u001b[1;32m    283\u001b[0m     \u001b[0;32mdef\u001b[0m \u001b[0m_publish_pause\u001b[0m\u001b[0;34m(\u001b[0m\u001b[0mself\u001b[0m\u001b[0;34m,\u001b[0m \u001b[0mpause\u001b[0m\u001b[0;34m:\u001b[0m \u001b[0mpb\u001b[0m\u001b[0;34m.\u001b[0m\u001b[0mPauseRequest\u001b[0m\u001b[0;34m)\u001b[0m \u001b[0;34m->\u001b[0m \u001b[0;32mNone\u001b[0m\u001b[0;34m:\u001b[0m\u001b[0;34m\u001b[0m\u001b[0;34m\u001b[0m\u001b[0m\n\u001b[1;32m    284\u001b[0m         \u001b[0mrec\u001b[0m \u001b[0;34m=\u001b[0m \u001b[0mself\u001b[0m\u001b[0;34m.\u001b[0m\u001b[0m_make_request\u001b[0m\u001b[0;34m(\u001b[0m\u001b[0mpause\u001b[0m\u001b[0;34m=\u001b[0m\u001b[0mpause\u001b[0m\u001b[0;34m)\u001b[0m\u001b[0;34m\u001b[0m\u001b[0;34m\u001b[0m\u001b[0m\n\u001b[0;32m--> 285\u001b[0;31m         \u001b[0mself\u001b[0m\u001b[0;34m.\u001b[0m\u001b[0m_publish\u001b[0m\u001b[0;34m(\u001b[0m\u001b[0mrec\u001b[0m\u001b[0;34m)\u001b[0m\u001b[0;34m\u001b[0m\u001b[0;34m\u001b[0m\u001b[0m\n\u001b[0m\u001b[1;32m    286\u001b[0m \u001b[0;34m\u001b[0m\u001b[0m\n\u001b[1;32m    287\u001b[0m     \u001b[0;32mdef\u001b[0m \u001b[0m_publish_resume\u001b[0m\u001b[0;34m(\u001b[0m\u001b[0mself\u001b[0m\u001b[0;34m,\u001b[0m \u001b[0mresume\u001b[0m\u001b[0;34m:\u001b[0m \u001b[0mpb\u001b[0m\u001b[0;34m.\u001b[0m\u001b[0mResumeRequest\u001b[0m\u001b[0;34m)\u001b[0m \u001b[0;34m->\u001b[0m \u001b[0;32mNone\u001b[0m\u001b[0;34m:\u001b[0m\u001b[0;34m\u001b[0m\u001b[0;34m\u001b[0m\u001b[0m\n",
      "\u001b[0;32m~/miniconda3/envs/py38/lib/python3.8/site-packages/wandb/sdk/interface/interface_queue.py\u001b[0m in \u001b[0;36m_publish\u001b[0;34m(self, record, local)\u001b[0m\n\u001b[1;32m    221\u001b[0m     \u001b[0;32mdef\u001b[0m \u001b[0m_publish\u001b[0m\u001b[0;34m(\u001b[0m\u001b[0mself\u001b[0m\u001b[0;34m,\u001b[0m \u001b[0mrecord\u001b[0m\u001b[0;34m:\u001b[0m \u001b[0mpb\u001b[0m\u001b[0;34m.\u001b[0m\u001b[0mRecord\u001b[0m\u001b[0;34m,\u001b[0m \u001b[0mlocal\u001b[0m\u001b[0;34m:\u001b[0m \u001b[0mbool\u001b[0m \u001b[0;34m=\u001b[0m \u001b[0;32mNone\u001b[0m\u001b[0;34m)\u001b[0m \u001b[0;34m->\u001b[0m \u001b[0;32mNone\u001b[0m\u001b[0;34m:\u001b[0m\u001b[0;34m\u001b[0m\u001b[0;34m\u001b[0m\u001b[0m\n\u001b[1;32m    222\u001b[0m         \u001b[0;32mif\u001b[0m \u001b[0mself\u001b[0m\u001b[0;34m.\u001b[0m\u001b[0m_process_check\u001b[0m \u001b[0;32mand\u001b[0m \u001b[0mself\u001b[0m\u001b[0;34m.\u001b[0m\u001b[0m_process\u001b[0m \u001b[0;32mand\u001b[0m \u001b[0;32mnot\u001b[0m \u001b[0mself\u001b[0m\u001b[0;34m.\u001b[0m\u001b[0m_process\u001b[0m\u001b[0;34m.\u001b[0m\u001b[0mis_alive\u001b[0m\u001b[0;34m(\u001b[0m\u001b[0;34m)\u001b[0m\u001b[0;34m:\u001b[0m\u001b[0;34m\u001b[0m\u001b[0;34m\u001b[0m\u001b[0m\n\u001b[0;32m--> 223\u001b[0;31m             \u001b[0;32mraise\u001b[0m \u001b[0mException\u001b[0m\u001b[0;34m(\u001b[0m\u001b[0;34m\"The wandb backend process has shutdown\"\u001b[0m\u001b[0;34m)\u001b[0m\u001b[0;34m\u001b[0m\u001b[0;34m\u001b[0m\u001b[0m\n\u001b[0m\u001b[1;32m    224\u001b[0m         \u001b[0;32mif\u001b[0m \u001b[0mlocal\u001b[0m\u001b[0;34m:\u001b[0m\u001b[0;34m\u001b[0m\u001b[0;34m\u001b[0m\u001b[0m\n\u001b[1;32m    225\u001b[0m             \u001b[0mrecord\u001b[0m\u001b[0;34m.\u001b[0m\u001b[0mcontrol\u001b[0m\u001b[0;34m.\u001b[0m\u001b[0mlocal\u001b[0m \u001b[0;34m=\u001b[0m \u001b[0mlocal\u001b[0m\u001b[0;34m\u001b[0m\u001b[0;34m\u001b[0m\u001b[0m\n",
      "\u001b[0;31mException\u001b[0m: The wandb backend process has shutdown"
     ]
    },
    {
     "name": "stderr",
     "output_type": "stream",
     "text": [
      "Exception in thread Thread-11:\n",
      "Traceback (most recent call last):\n",
      "  File \"/home/beans/miniconda3/envs/py38/lib/python3.8/threading.py\", line 932, in _bootstrap_inner\n",
      "    self.run()\n",
      "  File \"/home/beans/miniconda3/envs/py38/lib/python3.8/threading.py\", line 870, in run\n",
      "    self._target(*self._args, **self._kwargs)\n",
      "  File \"/home/beans/miniconda3/envs/py38/lib/python3.8/site-packages/wandb/sdk/wandb_run.py\", line 149, in check_network_status\n",
      "    status_response = self._interface.communicate_network_status()\n",
      "  File \"/home/beans/miniconda3/envs/py38/lib/python3.8/site-packages/wandb/sdk/interface/interface.py\", line 120, in communicate_network_status\n",
      "    resp = self._communicate_network_status(status)\n",
      "  File \"/home/beans/miniconda3/envs/py38/lib/python3.8/site-packages/wandb/sdk/interface/interface_queue.py\", line 411, in _communicate_network_status\n",
      "    resp = self._communicate(req, local=True)\n",
      "  File \"/home/beans/miniconda3/envs/py38/lib/python3.8/site-packages/wandb/sdk/interface/interface_queue.py\", line 232, in _communicate\n",
      "    return self._communicate_async(rec, local=local).get(timeout=timeout)\n",
      "  File \"/home/beans/miniconda3/envs/py38/lib/python3.8/site-packages/wandb/sdk/interface/interface_queue.py\", line 237, in _communicate_async\n",
      "    raise Exception(\"The wandb backend process has shutdown\")\n",
      "Exception: The wandb backend process has shutdown\n",
      "Exception in thread Thread-10:\n",
      "Traceback (most recent call last):\n",
      "  File \"/home/beans/miniconda3/envs/py38/lib/python3.8/threading.py\", line 932, in _bootstrap_inner\n",
      "    self.run()\n",
      "  File \"/home/beans/miniconda3/envs/py38/lib/python3.8/threading.py\", line 870, in run\n",
      "    self._target(*self._args, **self._kwargs)\n",
      "  File \"/home/beans/miniconda3/envs/py38/lib/python3.8/site-packages/wandb/sdk/wandb_run.py\", line 167, in check_status\n",
      "    status_response = self._interface.communicate_stop_status()\n",
      "  File \"/home/beans/miniconda3/envs/py38/lib/python3.8/site-packages/wandb/sdk/interface/interface.py\", line 109, in communicate_stop_status\n",
      "    resp = self._communicate_stop_status(status)\n",
      "  File \"/home/beans/miniconda3/envs/py38/lib/python3.8/site-packages/wandb/sdk/interface/interface_queue.py\", line 401, in _communicate_stop_status\n",
      "    resp = self._communicate(req, local=True)\n",
      "  File \"/home/beans/miniconda3/envs/py38/lib/python3.8/site-packages/wandb/sdk/interface/interface_queue.py\", line 232, in _communicate\n",
      "    return self._communicate_async(rec, local=local).get(timeout=timeout)\n",
      "  File \"/home/beans/miniconda3/envs/py38/lib/python3.8/site-packages/wandb/sdk/interface/interface_queue.py\", line 237, in _communicate_async\n",
      "    raise Exception(\"The wandb backend process has shutdown\")\n",
      "Exception: The wandb backend process has shutdown\n"
     ]
    }
   ],
   "source": [
    "torch.save(m.state_dict(), f\"{BESPOKE_ROOT}/models/m_{model_stem}_e33.torch\")"
   ]
  },
  {
   "cell_type": "code",
   "execution_count": null,
   "metadata": {},
   "outputs": [],
   "source": []
  },
  {
   "cell_type": "code",
   "execution_count": 17,
   "metadata": {},
   "outputs": [],
   "source": [
    "set_should_stop(True)"
   ]
  },
  {
   "cell_type": "code",
   "execution_count": null,
   "metadata": {},
   "outputs": [],
   "source": []
  },
  {
   "cell_type": "code",
   "execution_count": 10,
   "metadata": {
    "scrolled": true
   },
   "outputs": [
    {
     "name": "stderr",
     "output_type": "stream",
     "text": [
      "/home/beans/miniconda3/envs/py38/lib/python3.8/site-packages/torch/utils/checkpoint.py:25: UserWarning: None of the inputs have requires_grad=True. Gradients will be None\n",
      "  warnings.warn(\"None of the inputs have requires_grad=True. Gradients will be None\")\n"
     ]
    },
    {
     "name": "stdout",
     "output_type": "stream",
     "text": [
      "CPU times: user 14.3 s, sys: 417 ms, total: 14.7 s\n",
      "Wall time: 14 s\n"
     ]
    }
   ],
   "source": [
    "%%time\n",
    "\n",
    "eval_rw(rw_dataloader, m, wandb) # will log directly to wandb"
   ]
  },
  {
   "cell_type": "code",
   "execution_count": null,
   "metadata": {},
   "outputs": [],
   "source": []
  },
  {
   "cell_type": "code",
   "execution_count": null,
   "metadata": {},
   "outputs": [],
   "source": []
  }
 ],
 "metadata": {
  "kernelspec": {
   "display_name": "Python 3 (ipykernel)",
   "language": "python",
   "name": "python3"
  },
  "language_info": {
   "codemirror_mode": {
    "name": "ipython",
    "version": 3
   },
   "file_extension": ".py",
   "mimetype": "text/x-python",
   "name": "python",
   "nbconvert_exporter": "python",
   "pygments_lexer": "ipython3",
   "version": "3.8.11"
  }
 },
 "nbformat": 4,
 "nbformat_minor": 4
}
