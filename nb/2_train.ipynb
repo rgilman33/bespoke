{
 "cells": [
  {
   "cell_type": "code",
   "execution_count": 1,
   "metadata": {
    "scrolled": true
   },
   "outputs": [
    {
     "name": "stderr",
     "output_type": "stream",
     "text": [
      "/home/beans/miniconda3/envs/py38/lib/python3.8/site-packages/albumentations/augmentations/transforms.py:689: FutureWarning: This class has been deprecated. Please use CoarseDropout\n",
      "  warnings.warn(\n",
      "/home/beans/miniconda3/envs/py38/lib/python3.8/site-packages/albumentations/augmentations/transforms.py:965: FutureWarning: This class has been deprecated. Please use ImageCompression\n",
      "  warnings.warn(\n"
     ]
    },
    {
     "data": {
      "text/plain": [
       "('1.10.0', 2, 'NVIDIA GeForce RTX 3090')"
      ]
     },
     "execution_count": 1,
     "metadata": {},
     "output_type": "execute_result"
    }
   ],
   "source": [
    "%matplotlib inline\n",
    "%load_ext autoreload\n",
    "%autoreload 2\n",
    "\n",
    "import sys\n",
    "sys.path.append(f'/media/beans/ssd/bespoke')\n",
    "\n",
    "from models import EffNet\n",
    "from constants import *\n",
    "from imports import *\n",
    "from rw_dataloader import RealWorldDataloader\n",
    "from blender_dataloader import BlenderDataloader\n",
    "from train_utils import run_epoch, eval_rw\n",
    "\n",
    "torch.__version__, torch.cuda.device_count(), torch.cuda.get_device_name(torch.cuda.current_device())"
   ]
  },
  {
   "cell_type": "code",
   "execution_count": 2,
   "metadata": {},
   "outputs": [
    {
     "data": {
      "text/plain": [
       "'1j1qlfob'"
      ]
     },
     "execution_count": 2,
     "metadata": {},
     "output_type": "execute_result"
    }
   ],
   "source": [
    "import wandb\n",
    "run_id = wandb.util.generate_id(); run_id"
   ]
  },
  {
   "cell_type": "code",
   "execution_count": 3,
   "metadata": {
    "scrolled": true
   },
   "outputs": [
    {
     "name": "stderr",
     "output_type": "stream",
     "text": [
      "\u001b[34m\u001b[1mwandb\u001b[0m: Currently logged in as: \u001b[33mrgilman33\u001b[0m (use `wandb login --relogin` to force relogin)\n",
      "\u001b[34m\u001b[1mwandb\u001b[0m: wandb version 0.12.19 is available!  To upgrade, please run:\n",
      "\u001b[34m\u001b[1mwandb\u001b[0m:  $ pip install wandb --upgrade\n"
     ]
    },
    {
     "data": {
      "text/html": [
       "\n",
       "                    Resuming run <strong><a href=\"https://wandb.ai/rgilman33/carla/runs/3qdtsae1\" target=\"_blank\">cool-darkness-309</a></strong> to <a href=\"https://wandb.ai/rgilman33/carla\" target=\"_blank\">Weights & Biases</a> (<a href=\"https://docs.wandb.com/integrations/jupyter.html\" target=\"_blank\">docs</a>).<br/>\n",
       "\n",
       "                "
      ],
      "text/plain": [
       "<IPython.core.display.HTML object>"
      ]
     },
     "metadata": {},
     "output_type": "display_data"
    },
    {
     "data": {
      "text/html": [
       "<button onClick=\"this.nextSibling.style.display='block';this.style.display='none';\">Display W&B run</button><iframe src=\"https://wandb.ai/rgilman33/carla/runs/3qdtsae1?jupyter=true\" style=\"border:none;width:100%;height:420px;display:none;\"></iframe>"
      ],
      "text/plain": [
       "<wandb.sdk.wandb_run.Run at 0x7f083cd672e0>"
      ]
     },
     "execution_count": 3,
     "metadata": {},
     "output_type": "execute_result"
    }
   ],
   "source": [
    "wandb.init(id='3qdtsae1', project=\"carla\", resume=\"allow\")"
   ]
  },
  {
   "cell_type": "code",
   "execution_count": 4,
   "metadata": {
    "scrolled": true
   },
   "outputs": [
    {
     "data": {
      "text/plain": [
       "13332.809"
      ]
     },
     "execution_count": 4,
     "metadata": {},
     "output_type": "execute_result"
    }
   ],
   "source": [
    "m = EffNet(model_arch=\"efficientnet_b3\").to(device) # 13M params, 11.6M without RNN, \n",
    "sum([torch.numel(p) for p in m.parameters()]) / 1000"
   ]
  },
  {
   "cell_type": "code",
   "execution_count": 5,
   "metadata": {},
   "outputs": [
    {
     "data": {
      "text/plain": [
       "EfficientNet(\n",
       "  (conv_stem): Conv2d(3, 40, kernel_size=(3, 3), stride=(2, 2), padding=(1, 1), bias=False)\n",
       "  (bn1): BatchNorm2d(40, eps=1e-05, momentum=0.1, affine=True, track_running_stats=True)\n",
       "  (act1): SiLU(inplace=True)\n",
       "  (blocks): Sequential(\n",
       "    (0): Sequential(\n",
       "      (0): DepthwiseSeparableConv(\n",
       "        (conv_dw): Conv2d(40, 40, kernel_size=(3, 3), stride=(1, 1), padding=(1, 1), groups=40, bias=False)\n",
       "        (bn1): BatchNorm2d(40, eps=1e-05, momentum=0.1, affine=True, track_running_stats=True)\n",
       "        (act1): SiLU(inplace=True)\n",
       "        (se): SqueezeExcite(\n",
       "          (conv_reduce): Conv2d(40, 10, kernel_size=(1, 1), stride=(1, 1))\n",
       "          (act1): SiLU(inplace=True)\n",
       "          (conv_expand): Conv2d(10, 40, kernel_size=(1, 1), stride=(1, 1))\n",
       "          (gate): Sigmoid()\n",
       "        )\n",
       "        (conv_pw): Conv2d(40, 24, kernel_size=(1, 1), stride=(1, 1), bias=False)\n",
       "        (bn2): BatchNorm2d(24, eps=1e-05, momentum=0.1, affine=True, track_running_stats=True)\n",
       "        (act2): Identity()\n",
       "      )\n",
       "      (1): DepthwiseSeparableConv(\n",
       "        (conv_dw): Conv2d(24, 24, kernel_size=(3, 3), stride=(1, 1), padding=(1, 1), groups=24, bias=False)\n",
       "        (bn1): BatchNorm2d(24, eps=1e-05, momentum=0.1, affine=True, track_running_stats=True)\n",
       "        (act1): SiLU(inplace=True)\n",
       "        (se): SqueezeExcite(\n",
       "          (conv_reduce): Conv2d(24, 6, kernel_size=(1, 1), stride=(1, 1))\n",
       "          (act1): SiLU(inplace=True)\n",
       "          (conv_expand): Conv2d(6, 24, kernel_size=(1, 1), stride=(1, 1))\n",
       "          (gate): Sigmoid()\n",
       "        )\n",
       "        (conv_pw): Conv2d(24, 24, kernel_size=(1, 1), stride=(1, 1), bias=False)\n",
       "        (bn2): BatchNorm2d(24, eps=1e-05, momentum=0.1, affine=True, track_running_stats=True)\n",
       "        (act2): Identity()\n",
       "      )\n",
       "    )\n",
       "    (1): Sequential(\n",
       "      (0): InvertedResidual(\n",
       "        (conv_pw): Conv2d(24, 144, kernel_size=(1, 1), stride=(1, 1), bias=False)\n",
       "        (bn1): BatchNorm2d(144, eps=1e-05, momentum=0.1, affine=True, track_running_stats=True)\n",
       "        (act1): SiLU(inplace=True)\n",
       "        (conv_dw): Conv2d(144, 144, kernel_size=(3, 3), stride=(2, 2), padding=(1, 1), groups=144, bias=False)\n",
       "        (bn2): BatchNorm2d(144, eps=1e-05, momentum=0.1, affine=True, track_running_stats=True)\n",
       "        (act2): SiLU(inplace=True)\n",
       "        (se): SqueezeExcite(\n",
       "          (conv_reduce): Conv2d(144, 6, kernel_size=(1, 1), stride=(1, 1))\n",
       "          (act1): SiLU(inplace=True)\n",
       "          (conv_expand): Conv2d(6, 144, kernel_size=(1, 1), stride=(1, 1))\n",
       "          (gate): Sigmoid()\n",
       "        )\n",
       "        (conv_pwl): Conv2d(144, 32, kernel_size=(1, 1), stride=(1, 1), bias=False)\n",
       "        (bn3): BatchNorm2d(32, eps=1e-05, momentum=0.1, affine=True, track_running_stats=True)\n",
       "      )\n",
       "      (1): InvertedResidual(\n",
       "        (conv_pw): Conv2d(32, 192, kernel_size=(1, 1), stride=(1, 1), bias=False)\n",
       "        (bn1): BatchNorm2d(192, eps=1e-05, momentum=0.1, affine=True, track_running_stats=True)\n",
       "        (act1): SiLU(inplace=True)\n",
       "        (conv_dw): Conv2d(192, 192, kernel_size=(3, 3), stride=(1, 1), padding=(1, 1), groups=192, bias=False)\n",
       "        (bn2): BatchNorm2d(192, eps=1e-05, momentum=0.1, affine=True, track_running_stats=True)\n",
       "        (act2): SiLU(inplace=True)\n",
       "        (se): SqueezeExcite(\n",
       "          (conv_reduce): Conv2d(192, 8, kernel_size=(1, 1), stride=(1, 1))\n",
       "          (act1): SiLU(inplace=True)\n",
       "          (conv_expand): Conv2d(8, 192, kernel_size=(1, 1), stride=(1, 1))\n",
       "          (gate): Sigmoid()\n",
       "        )\n",
       "        (conv_pwl): Conv2d(192, 32, kernel_size=(1, 1), stride=(1, 1), bias=False)\n",
       "        (bn3): BatchNorm2d(32, eps=1e-05, momentum=0.1, affine=True, track_running_stats=True)\n",
       "      )\n",
       "      (2): InvertedResidual(\n",
       "        (conv_pw): Conv2d(32, 192, kernel_size=(1, 1), stride=(1, 1), bias=False)\n",
       "        (bn1): BatchNorm2d(192, eps=1e-05, momentum=0.1, affine=True, track_running_stats=True)\n",
       "        (act1): SiLU(inplace=True)\n",
       "        (conv_dw): Conv2d(192, 192, kernel_size=(3, 3), stride=(1, 1), padding=(1, 1), groups=192, bias=False)\n",
       "        (bn2): BatchNorm2d(192, eps=1e-05, momentum=0.1, affine=True, track_running_stats=True)\n",
       "        (act2): SiLU(inplace=True)\n",
       "        (se): SqueezeExcite(\n",
       "          (conv_reduce): Conv2d(192, 8, kernel_size=(1, 1), stride=(1, 1))\n",
       "          (act1): SiLU(inplace=True)\n",
       "          (conv_expand): Conv2d(8, 192, kernel_size=(1, 1), stride=(1, 1))\n",
       "          (gate): Sigmoid()\n",
       "        )\n",
       "        (conv_pwl): Conv2d(192, 32, kernel_size=(1, 1), stride=(1, 1), bias=False)\n",
       "        (bn3): BatchNorm2d(32, eps=1e-05, momentum=0.1, affine=True, track_running_stats=True)\n",
       "      )\n",
       "    )\n",
       "    (2): Sequential(\n",
       "      (0): InvertedResidual(\n",
       "        (conv_pw): Conv2d(32, 192, kernel_size=(1, 1), stride=(1, 1), bias=False)\n",
       "        (bn1): BatchNorm2d(192, eps=1e-05, momentum=0.1, affine=True, track_running_stats=True)\n",
       "        (act1): SiLU(inplace=True)\n",
       "        (conv_dw): Conv2d(192, 192, kernel_size=(5, 5), stride=(2, 2), padding=(2, 2), groups=192, bias=False)\n",
       "        (bn2): BatchNorm2d(192, eps=1e-05, momentum=0.1, affine=True, track_running_stats=True)\n",
       "        (act2): SiLU(inplace=True)\n",
       "        (se): SqueezeExcite(\n",
       "          (conv_reduce): Conv2d(192, 8, kernel_size=(1, 1), stride=(1, 1))\n",
       "          (act1): SiLU(inplace=True)\n",
       "          (conv_expand): Conv2d(8, 192, kernel_size=(1, 1), stride=(1, 1))\n",
       "          (gate): Sigmoid()\n",
       "        )\n",
       "        (conv_pwl): Conv2d(192, 48, kernel_size=(1, 1), stride=(1, 1), bias=False)\n",
       "        (bn3): BatchNorm2d(48, eps=1e-05, momentum=0.1, affine=True, track_running_stats=True)\n",
       "      )\n",
       "      (1): InvertedResidual(\n",
       "        (conv_pw): Conv2d(48, 288, kernel_size=(1, 1), stride=(1, 1), bias=False)\n",
       "        (bn1): BatchNorm2d(288, eps=1e-05, momentum=0.1, affine=True, track_running_stats=True)\n",
       "        (act1): SiLU(inplace=True)\n",
       "        (conv_dw): Conv2d(288, 288, kernel_size=(5, 5), stride=(1, 1), padding=(2, 2), groups=288, bias=False)\n",
       "        (bn2): BatchNorm2d(288, eps=1e-05, momentum=0.1, affine=True, track_running_stats=True)\n",
       "        (act2): SiLU(inplace=True)\n",
       "        (se): SqueezeExcite(\n",
       "          (conv_reduce): Conv2d(288, 12, kernel_size=(1, 1), stride=(1, 1))\n",
       "          (act1): SiLU(inplace=True)\n",
       "          (conv_expand): Conv2d(12, 288, kernel_size=(1, 1), stride=(1, 1))\n",
       "          (gate): Sigmoid()\n",
       "        )\n",
       "        (conv_pwl): Conv2d(288, 48, kernel_size=(1, 1), stride=(1, 1), bias=False)\n",
       "        (bn3): BatchNorm2d(48, eps=1e-05, momentum=0.1, affine=True, track_running_stats=True)\n",
       "      )\n",
       "      (2): InvertedResidual(\n",
       "        (conv_pw): Conv2d(48, 288, kernel_size=(1, 1), stride=(1, 1), bias=False)\n",
       "        (bn1): BatchNorm2d(288, eps=1e-05, momentum=0.1, affine=True, track_running_stats=True)\n",
       "        (act1): SiLU(inplace=True)\n",
       "        (conv_dw): Conv2d(288, 288, kernel_size=(5, 5), stride=(1, 1), padding=(2, 2), groups=288, bias=False)\n",
       "        (bn2): BatchNorm2d(288, eps=1e-05, momentum=0.1, affine=True, track_running_stats=True)\n",
       "        (act2): SiLU(inplace=True)\n",
       "        (se): SqueezeExcite(\n",
       "          (conv_reduce): Conv2d(288, 12, kernel_size=(1, 1), stride=(1, 1))\n",
       "          (act1): SiLU(inplace=True)\n",
       "          (conv_expand): Conv2d(12, 288, kernel_size=(1, 1), stride=(1, 1))\n",
       "          (gate): Sigmoid()\n",
       "        )\n",
       "        (conv_pwl): Conv2d(288, 48, kernel_size=(1, 1), stride=(1, 1), bias=False)\n",
       "        (bn3): BatchNorm2d(48, eps=1e-05, momentum=0.1, affine=True, track_running_stats=True)\n",
       "      )\n",
       "    )\n",
       "    (3): Sequential(\n",
       "      (0): InvertedResidual(\n",
       "        (conv_pw): Conv2d(48, 288, kernel_size=(1, 1), stride=(1, 1), bias=False)\n",
       "        (bn1): BatchNorm2d(288, eps=1e-05, momentum=0.1, affine=True, track_running_stats=True)\n",
       "        (act1): SiLU(inplace=True)\n",
       "        (conv_dw): Conv2d(288, 288, kernel_size=(3, 3), stride=(2, 2), padding=(1, 1), groups=288, bias=False)\n",
       "        (bn2): BatchNorm2d(288, eps=1e-05, momentum=0.1, affine=True, track_running_stats=True)\n",
       "        (act2): SiLU(inplace=True)\n",
       "        (se): SqueezeExcite(\n",
       "          (conv_reduce): Conv2d(288, 12, kernel_size=(1, 1), stride=(1, 1))\n",
       "          (act1): SiLU(inplace=True)\n",
       "          (conv_expand): Conv2d(12, 288, kernel_size=(1, 1), stride=(1, 1))\n",
       "          (gate): Sigmoid()\n",
       "        )\n",
       "        (conv_pwl): Conv2d(288, 96, kernel_size=(1, 1), stride=(1, 1), bias=False)\n",
       "        (bn3): BatchNorm2d(96, eps=1e-05, momentum=0.1, affine=True, track_running_stats=True)\n",
       "      )\n",
       "      (1): InvertedResidual(\n",
       "        (conv_pw): Conv2d(96, 576, kernel_size=(1, 1), stride=(1, 1), bias=False)\n",
       "        (bn1): BatchNorm2d(576, eps=1e-05, momentum=0.1, affine=True, track_running_stats=True)\n",
       "        (act1): SiLU(inplace=True)\n",
       "        (conv_dw): Conv2d(576, 576, kernel_size=(3, 3), stride=(1, 1), padding=(1, 1), groups=576, bias=False)\n",
       "        (bn2): BatchNorm2d(576, eps=1e-05, momentum=0.1, affine=True, track_running_stats=True)\n",
       "        (act2): SiLU(inplace=True)\n",
       "        (se): SqueezeExcite(\n",
       "          (conv_reduce): Conv2d(576, 24, kernel_size=(1, 1), stride=(1, 1))\n",
       "          (act1): SiLU(inplace=True)\n",
       "          (conv_expand): Conv2d(24, 576, kernel_size=(1, 1), stride=(1, 1))\n",
       "          (gate): Sigmoid()\n",
       "        )\n",
       "        (conv_pwl): Conv2d(576, 96, kernel_size=(1, 1), stride=(1, 1), bias=False)\n",
       "        (bn3): BatchNorm2d(96, eps=1e-05, momentum=0.1, affine=True, track_running_stats=True)\n",
       "      )\n",
       "      (2): InvertedResidual(\n",
       "        (conv_pw): Conv2d(96, 576, kernel_size=(1, 1), stride=(1, 1), bias=False)\n",
       "        (bn1): BatchNorm2d(576, eps=1e-05, momentum=0.1, affine=True, track_running_stats=True)\n",
       "        (act1): SiLU(inplace=True)\n",
       "        (conv_dw): Conv2d(576, 576, kernel_size=(3, 3), stride=(1, 1), padding=(1, 1), groups=576, bias=False)\n",
       "        (bn2): BatchNorm2d(576, eps=1e-05, momentum=0.1, affine=True, track_running_stats=True)\n",
       "        (act2): SiLU(inplace=True)\n",
       "        (se): SqueezeExcite(\n",
       "          (conv_reduce): Conv2d(576, 24, kernel_size=(1, 1), stride=(1, 1))\n",
       "          (act1): SiLU(inplace=True)\n",
       "          (conv_expand): Conv2d(24, 576, kernel_size=(1, 1), stride=(1, 1))\n",
       "          (gate): Sigmoid()\n",
       "        )\n",
       "        (conv_pwl): Conv2d(576, 96, kernel_size=(1, 1), stride=(1, 1), bias=False)\n",
       "        (bn3): BatchNorm2d(96, eps=1e-05, momentum=0.1, affine=True, track_running_stats=True)\n",
       "      )\n",
       "      (3): InvertedResidual(\n",
       "        (conv_pw): Conv2d(96, 576, kernel_size=(1, 1), stride=(1, 1), bias=False)\n",
       "        (bn1): BatchNorm2d(576, eps=1e-05, momentum=0.1, affine=True, track_running_stats=True)\n",
       "        (act1): SiLU(inplace=True)\n",
       "        (conv_dw): Conv2d(576, 576, kernel_size=(3, 3), stride=(1, 1), padding=(1, 1), groups=576, bias=False)\n",
       "        (bn2): BatchNorm2d(576, eps=1e-05, momentum=0.1, affine=True, track_running_stats=True)\n",
       "        (act2): SiLU(inplace=True)\n",
       "        (se): SqueezeExcite(\n",
       "          (conv_reduce): Conv2d(576, 24, kernel_size=(1, 1), stride=(1, 1))\n",
       "          (act1): SiLU(inplace=True)\n",
       "          (conv_expand): Conv2d(24, 576, kernel_size=(1, 1), stride=(1, 1))\n",
       "          (gate): Sigmoid()\n",
       "        )\n",
       "        (conv_pwl): Conv2d(576, 96, kernel_size=(1, 1), stride=(1, 1), bias=False)\n",
       "        (bn3): BatchNorm2d(96, eps=1e-05, momentum=0.1, affine=True, track_running_stats=True)\n",
       "      )\n",
       "      (4): InvertedResidual(\n",
       "        (conv_pw): Conv2d(96, 576, kernel_size=(1, 1), stride=(1, 1), bias=False)\n",
       "        (bn1): BatchNorm2d(576, eps=1e-05, momentum=0.1, affine=True, track_running_stats=True)\n",
       "        (act1): SiLU(inplace=True)\n",
       "        (conv_dw): Conv2d(576, 576, kernel_size=(3, 3), stride=(1, 1), padding=(1, 1), groups=576, bias=False)\n",
       "        (bn2): BatchNorm2d(576, eps=1e-05, momentum=0.1, affine=True, track_running_stats=True)\n",
       "        (act2): SiLU(inplace=True)\n",
       "        (se): SqueezeExcite(\n",
       "          (conv_reduce): Conv2d(576, 24, kernel_size=(1, 1), stride=(1, 1))\n",
       "          (act1): SiLU(inplace=True)\n",
       "          (conv_expand): Conv2d(24, 576, kernel_size=(1, 1), stride=(1, 1))\n",
       "          (gate): Sigmoid()\n",
       "        )\n",
       "        (conv_pwl): Conv2d(576, 96, kernel_size=(1, 1), stride=(1, 1), bias=False)\n",
       "        (bn3): BatchNorm2d(96, eps=1e-05, momentum=0.1, affine=True, track_running_stats=True)\n",
       "      )\n",
       "    )\n",
       "    (4): Sequential(\n",
       "      (0): InvertedResidual(\n",
       "        (conv_pw): Conv2d(96, 576, kernel_size=(1, 1), stride=(1, 1), bias=False)\n",
       "        (bn1): BatchNorm2d(576, eps=1e-05, momentum=0.1, affine=True, track_running_stats=True)\n",
       "        (act1): SiLU(inplace=True)\n",
       "        (conv_dw): Conv2d(576, 576, kernel_size=(5, 5), stride=(1, 1), padding=(2, 2), groups=576, bias=False)\n",
       "        (bn2): BatchNorm2d(576, eps=1e-05, momentum=0.1, affine=True, track_running_stats=True)\n",
       "        (act2): SiLU(inplace=True)\n",
       "        (se): SqueezeExcite(\n",
       "          (conv_reduce): Conv2d(576, 24, kernel_size=(1, 1), stride=(1, 1))\n",
       "          (act1): SiLU(inplace=True)\n",
       "          (conv_expand): Conv2d(24, 576, kernel_size=(1, 1), stride=(1, 1))\n",
       "          (gate): Sigmoid()\n",
       "        )\n",
       "        (conv_pwl): Conv2d(576, 136, kernel_size=(1, 1), stride=(1, 1), bias=False)\n",
       "        (bn3): BatchNorm2d(136, eps=1e-05, momentum=0.1, affine=True, track_running_stats=True)\n",
       "      )\n",
       "      (1): InvertedResidual(\n",
       "        (conv_pw): Conv2d(136, 816, kernel_size=(1, 1), stride=(1, 1), bias=False)\n",
       "        (bn1): BatchNorm2d(816, eps=1e-05, momentum=0.1, affine=True, track_running_stats=True)\n",
       "        (act1): SiLU(inplace=True)\n",
       "        (conv_dw): Conv2d(816, 816, kernel_size=(5, 5), stride=(1, 1), padding=(2, 2), groups=816, bias=False)\n",
       "        (bn2): BatchNorm2d(816, eps=1e-05, momentum=0.1, affine=True, track_running_stats=True)\n",
       "        (act2): SiLU(inplace=True)\n",
       "        (se): SqueezeExcite(\n",
       "          (conv_reduce): Conv2d(816, 34, kernel_size=(1, 1), stride=(1, 1))\n",
       "          (act1): SiLU(inplace=True)\n",
       "          (conv_expand): Conv2d(34, 816, kernel_size=(1, 1), stride=(1, 1))\n",
       "          (gate): Sigmoid()\n",
       "        )\n",
       "        (conv_pwl): Conv2d(816, 136, kernel_size=(1, 1), stride=(1, 1), bias=False)\n",
       "        (bn3): BatchNorm2d(136, eps=1e-05, momentum=0.1, affine=True, track_running_stats=True)\n",
       "      )\n",
       "      (2): InvertedResidual(\n",
       "        (conv_pw): Conv2d(136, 816, kernel_size=(1, 1), stride=(1, 1), bias=False)\n",
       "        (bn1): BatchNorm2d(816, eps=1e-05, momentum=0.1, affine=True, track_running_stats=True)\n",
       "        (act1): SiLU(inplace=True)\n",
       "        (conv_dw): Conv2d(816, 816, kernel_size=(5, 5), stride=(1, 1), padding=(2, 2), groups=816, bias=False)\n",
       "        (bn2): BatchNorm2d(816, eps=1e-05, momentum=0.1, affine=True, track_running_stats=True)\n",
       "        (act2): SiLU(inplace=True)\n",
       "        (se): SqueezeExcite(\n",
       "          (conv_reduce): Conv2d(816, 34, kernel_size=(1, 1), stride=(1, 1))\n",
       "          (act1): SiLU(inplace=True)\n",
       "          (conv_expand): Conv2d(34, 816, kernel_size=(1, 1), stride=(1, 1))\n",
       "          (gate): Sigmoid()\n",
       "        )\n",
       "        (conv_pwl): Conv2d(816, 136, kernel_size=(1, 1), stride=(1, 1), bias=False)\n",
       "        (bn3): BatchNorm2d(136, eps=1e-05, momentum=0.1, affine=True, track_running_stats=True)\n",
       "      )\n",
       "      (3): InvertedResidual(\n",
       "        (conv_pw): Conv2d(136, 816, kernel_size=(1, 1), stride=(1, 1), bias=False)\n",
       "        (bn1): BatchNorm2d(816, eps=1e-05, momentum=0.1, affine=True, track_running_stats=True)\n",
       "        (act1): SiLU(inplace=True)\n",
       "        (conv_dw): Conv2d(816, 816, kernel_size=(5, 5), stride=(1, 1), padding=(2, 2), groups=816, bias=False)\n",
       "        (bn2): BatchNorm2d(816, eps=1e-05, momentum=0.1, affine=True, track_running_stats=True)\n",
       "        (act2): SiLU(inplace=True)\n",
       "        (se): SqueezeExcite(\n",
       "          (conv_reduce): Conv2d(816, 34, kernel_size=(1, 1), stride=(1, 1))\n",
       "          (act1): SiLU(inplace=True)\n",
       "          (conv_expand): Conv2d(34, 816, kernel_size=(1, 1), stride=(1, 1))\n",
       "          (gate): Sigmoid()\n",
       "        )\n",
       "        (conv_pwl): Conv2d(816, 136, kernel_size=(1, 1), stride=(1, 1), bias=False)\n",
       "        (bn3): BatchNorm2d(136, eps=1e-05, momentum=0.1, affine=True, track_running_stats=True)\n",
       "      )\n",
       "      (4): InvertedResidual(\n",
       "        (conv_pw): Conv2d(136, 816, kernel_size=(1, 1), stride=(1, 1), bias=False)\n",
       "        (bn1): BatchNorm2d(816, eps=1e-05, momentum=0.1, affine=True, track_running_stats=True)\n",
       "        (act1): SiLU(inplace=True)\n",
       "        (conv_dw): Conv2d(816, 816, kernel_size=(5, 5), stride=(1, 1), padding=(2, 2), groups=816, bias=False)\n",
       "        (bn2): BatchNorm2d(816, eps=1e-05, momentum=0.1, affine=True, track_running_stats=True)\n",
       "        (act2): SiLU(inplace=True)\n",
       "        (se): SqueezeExcite(\n",
       "          (conv_reduce): Conv2d(816, 34, kernel_size=(1, 1), stride=(1, 1))\n",
       "          (act1): SiLU(inplace=True)\n",
       "          (conv_expand): Conv2d(34, 816, kernel_size=(1, 1), stride=(1, 1))\n",
       "          (gate): Sigmoid()\n",
       "        )\n",
       "        (conv_pwl): Conv2d(816, 136, kernel_size=(1, 1), stride=(1, 1), bias=False)\n",
       "        (bn3): BatchNorm2d(136, eps=1e-05, momentum=0.1, affine=True, track_running_stats=True)\n",
       "      )\n",
       "    )\n",
       "    (5): Sequential(\n",
       "      (0): InvertedResidual(\n",
       "        (conv_pw): Conv2d(136, 816, kernel_size=(1, 1), stride=(1, 1), bias=False)\n",
       "        (bn1): BatchNorm2d(816, eps=1e-05, momentum=0.1, affine=True, track_running_stats=True)\n",
       "        (act1): SiLU(inplace=True)\n",
       "        (conv_dw): Conv2d(816, 816, kernel_size=(5, 5), stride=(2, 2), padding=(2, 2), groups=816, bias=False)\n",
       "        (bn2): BatchNorm2d(816, eps=1e-05, momentum=0.1, affine=True, track_running_stats=True)\n",
       "        (act2): SiLU(inplace=True)\n",
       "        (se): SqueezeExcite(\n",
       "          (conv_reduce): Conv2d(816, 34, kernel_size=(1, 1), stride=(1, 1))\n",
       "          (act1): SiLU(inplace=True)\n",
       "          (conv_expand): Conv2d(34, 816, kernel_size=(1, 1), stride=(1, 1))\n",
       "          (gate): Sigmoid()\n",
       "        )\n",
       "        (conv_pwl): Conv2d(816, 232, kernel_size=(1, 1), stride=(1, 1), bias=False)\n",
       "        (bn3): BatchNorm2d(232, eps=1e-05, momentum=0.1, affine=True, track_running_stats=True)\n",
       "      )\n",
       "      (1): InvertedResidual(\n",
       "        (conv_pw): Conv2d(232, 1392, kernel_size=(1, 1), stride=(1, 1), bias=False)\n",
       "        (bn1): BatchNorm2d(1392, eps=1e-05, momentum=0.1, affine=True, track_running_stats=True)\n",
       "        (act1): SiLU(inplace=True)\n",
       "        (conv_dw): Conv2d(1392, 1392, kernel_size=(5, 5), stride=(1, 1), padding=(2, 2), groups=1392, bias=False)\n",
       "        (bn2): BatchNorm2d(1392, eps=1e-05, momentum=0.1, affine=True, track_running_stats=True)\n",
       "        (act2): SiLU(inplace=True)\n",
       "        (se): SqueezeExcite(\n",
       "          (conv_reduce): Conv2d(1392, 58, kernel_size=(1, 1), stride=(1, 1))\n",
       "          (act1): SiLU(inplace=True)\n",
       "          (conv_expand): Conv2d(58, 1392, kernel_size=(1, 1), stride=(1, 1))\n",
       "          (gate): Sigmoid()\n",
       "        )\n",
       "        (conv_pwl): Conv2d(1392, 232, kernel_size=(1, 1), stride=(1, 1), bias=False)\n",
       "        (bn3): BatchNorm2d(232, eps=1e-05, momentum=0.1, affine=True, track_running_stats=True)\n",
       "      )\n",
       "      (2): InvertedResidual(\n",
       "        (conv_pw): Conv2d(232, 1392, kernel_size=(1, 1), stride=(1, 1), bias=False)\n",
       "        (bn1): BatchNorm2d(1392, eps=1e-05, momentum=0.1, affine=True, track_running_stats=True)\n",
       "        (act1): SiLU(inplace=True)\n",
       "        (conv_dw): Conv2d(1392, 1392, kernel_size=(5, 5), stride=(1, 1), padding=(2, 2), groups=1392, bias=False)\n",
       "        (bn2): BatchNorm2d(1392, eps=1e-05, momentum=0.1, affine=True, track_running_stats=True)\n",
       "        (act2): SiLU(inplace=True)\n",
       "        (se): SqueezeExcite(\n",
       "          (conv_reduce): Conv2d(1392, 58, kernel_size=(1, 1), stride=(1, 1))\n",
       "          (act1): SiLU(inplace=True)\n",
       "          (conv_expand): Conv2d(58, 1392, kernel_size=(1, 1), stride=(1, 1))\n",
       "          (gate): Sigmoid()\n",
       "        )\n",
       "        (conv_pwl): Conv2d(1392, 232, kernel_size=(1, 1), stride=(1, 1), bias=False)\n",
       "        (bn3): BatchNorm2d(232, eps=1e-05, momentum=0.1, affine=True, track_running_stats=True)\n",
       "      )\n",
       "      (3): InvertedResidual(\n",
       "        (conv_pw): Conv2d(232, 1392, kernel_size=(1, 1), stride=(1, 1), bias=False)\n",
       "        (bn1): BatchNorm2d(1392, eps=1e-05, momentum=0.1, affine=True, track_running_stats=True)\n",
       "        (act1): SiLU(inplace=True)\n",
       "        (conv_dw): Conv2d(1392, 1392, kernel_size=(5, 5), stride=(1, 1), padding=(2, 2), groups=1392, bias=False)\n",
       "        (bn2): BatchNorm2d(1392, eps=1e-05, momentum=0.1, affine=True, track_running_stats=True)\n",
       "        (act2): SiLU(inplace=True)\n",
       "        (se): SqueezeExcite(\n",
       "          (conv_reduce): Conv2d(1392, 58, kernel_size=(1, 1), stride=(1, 1))\n",
       "          (act1): SiLU(inplace=True)\n",
       "          (conv_expand): Conv2d(58, 1392, kernel_size=(1, 1), stride=(1, 1))\n",
       "          (gate): Sigmoid()\n",
       "        )\n",
       "        (conv_pwl): Conv2d(1392, 232, kernel_size=(1, 1), stride=(1, 1), bias=False)\n",
       "        (bn3): BatchNorm2d(232, eps=1e-05, momentum=0.1, affine=True, track_running_stats=True)\n",
       "      )\n",
       "      (4): InvertedResidual(\n",
       "        (conv_pw): Conv2d(232, 1392, kernel_size=(1, 1), stride=(1, 1), bias=False)\n",
       "        (bn1): BatchNorm2d(1392, eps=1e-05, momentum=0.1, affine=True, track_running_stats=True)\n",
       "        (act1): SiLU(inplace=True)\n",
       "        (conv_dw): Conv2d(1392, 1392, kernel_size=(5, 5), stride=(1, 1), padding=(2, 2), groups=1392, bias=False)\n",
       "        (bn2): BatchNorm2d(1392, eps=1e-05, momentum=0.1, affine=True, track_running_stats=True)\n",
       "        (act2): SiLU(inplace=True)\n",
       "        (se): SqueezeExcite(\n",
       "          (conv_reduce): Conv2d(1392, 58, kernel_size=(1, 1), stride=(1, 1))\n",
       "          (act1): SiLU(inplace=True)\n",
       "          (conv_expand): Conv2d(58, 1392, kernel_size=(1, 1), stride=(1, 1))\n",
       "          (gate): Sigmoid()\n",
       "        )\n",
       "        (conv_pwl): Conv2d(1392, 232, kernel_size=(1, 1), stride=(1, 1), bias=False)\n",
       "        (bn3): BatchNorm2d(232, eps=1e-05, momentum=0.1, affine=True, track_running_stats=True)\n",
       "      )\n",
       "      (5): InvertedResidual(\n",
       "        (conv_pw): Conv2d(232, 1392, kernel_size=(1, 1), stride=(1, 1), bias=False)\n",
       "        (bn1): BatchNorm2d(1392, eps=1e-05, momentum=0.1, affine=True, track_running_stats=True)\n",
       "        (act1): SiLU(inplace=True)\n",
       "        (conv_dw): Conv2d(1392, 1392, kernel_size=(5, 5), stride=(1, 1), padding=(2, 2), groups=1392, bias=False)\n",
       "        (bn2): BatchNorm2d(1392, eps=1e-05, momentum=0.1, affine=True, track_running_stats=True)\n",
       "        (act2): SiLU(inplace=True)\n",
       "        (se): SqueezeExcite(\n",
       "          (conv_reduce): Conv2d(1392, 58, kernel_size=(1, 1), stride=(1, 1))\n",
       "          (act1): SiLU(inplace=True)\n",
       "          (conv_expand): Conv2d(58, 1392, kernel_size=(1, 1), stride=(1, 1))\n",
       "          (gate): Sigmoid()\n",
       "        )\n",
       "        (conv_pwl): Conv2d(1392, 232, kernel_size=(1, 1), stride=(1, 1), bias=False)\n",
       "        (bn3): BatchNorm2d(232, eps=1e-05, momentum=0.1, affine=True, track_running_stats=True)\n",
       "      )\n",
       "    )\n",
       "    (6): Sequential(\n",
       "      (0): InvertedResidual(\n",
       "        (conv_pw): Conv2d(232, 1392, kernel_size=(1, 1), stride=(1, 1), bias=False)\n",
       "        (bn1): BatchNorm2d(1392, eps=1e-05, momentum=0.1, affine=True, track_running_stats=True)\n",
       "        (act1): SiLU(inplace=True)\n",
       "        (conv_dw): Conv2d(1392, 1392, kernel_size=(3, 3), stride=(1, 1), padding=(1, 1), groups=1392, bias=False)\n",
       "        (bn2): BatchNorm2d(1392, eps=1e-05, momentum=0.1, affine=True, track_running_stats=True)\n",
       "        (act2): SiLU(inplace=True)\n",
       "        (se): SqueezeExcite(\n",
       "          (conv_reduce): Conv2d(1392, 58, kernel_size=(1, 1), stride=(1, 1))\n",
       "          (act1): SiLU(inplace=True)\n",
       "          (conv_expand): Conv2d(58, 1392, kernel_size=(1, 1), stride=(1, 1))\n",
       "          (gate): Sigmoid()\n",
       "        )\n",
       "        (conv_pwl): Conv2d(1392, 384, kernel_size=(1, 1), stride=(1, 1), bias=False)\n",
       "        (bn3): BatchNorm2d(384, eps=1e-05, momentum=0.1, affine=True, track_running_stats=True)\n",
       "      )\n",
       "      (1): InvertedResidual(\n",
       "        (conv_pw): Conv2d(384, 2304, kernel_size=(1, 1), stride=(1, 1), bias=False)\n",
       "        (bn1): BatchNorm2d(2304, eps=1e-05, momentum=0.1, affine=True, track_running_stats=True)\n",
       "        (act1): SiLU(inplace=True)\n",
       "        (conv_dw): Conv2d(2304, 2304, kernel_size=(3, 3), stride=(1, 1), padding=(1, 1), groups=2304, bias=False)\n",
       "        (bn2): BatchNorm2d(2304, eps=1e-05, momentum=0.1, affine=True, track_running_stats=True)\n",
       "        (act2): SiLU(inplace=True)\n",
       "        (se): SqueezeExcite(\n",
       "          (conv_reduce): Conv2d(2304, 96, kernel_size=(1, 1), stride=(1, 1))\n",
       "          (act1): SiLU(inplace=True)\n",
       "          (conv_expand): Conv2d(96, 2304, kernel_size=(1, 1), stride=(1, 1))\n",
       "          (gate): Sigmoid()\n",
       "        )\n",
       "        (conv_pwl): Conv2d(2304, 384, kernel_size=(1, 1), stride=(1, 1), bias=False)\n",
       "        (bn3): BatchNorm2d(384, eps=1e-05, momentum=0.1, affine=True, track_running_stats=True)\n",
       "      )\n",
       "    )\n",
       "  )\n",
       "  (conv_head): Conv2d(384, 1536, kernel_size=(1, 1), stride=(1, 1), bias=False)\n",
       "  (bn2): BatchNorm2d(1536, eps=1e-05, momentum=0.1, affine=True, track_running_stats=True)\n",
       "  (act2): SiLU(inplace=True)\n",
       "  (global_pool): SelectAdaptivePool2d (pool_type=avg, flatten=Flatten(start_dim=1, end_dim=-1))\n",
       "  (classifier): Identity()\n",
       ")"
      ]
     },
     "execution_count": 5,
     "metadata": {},
     "output_type": "execute_result"
    }
   ],
   "source": [
    "m.backbone"
   ]
  },
  {
   "cell_type": "code",
   "execution_count": 6,
   "metadata": {
    "scrolled": true
   },
   "outputs": [
    {
     "data": {
      "text/plain": [
       "<All keys matched successfully>"
      ]
     },
     "execution_count": 6,
     "metadata": {},
     "output_type": "execute_result"
    }
   ],
   "source": [
    "m.load_state_dict(torch.load(f\"{BESPOKE_ROOT}/models/m.torch\"), strict=False)"
   ]
  },
  {
   "cell_type": "code",
   "execution_count": 7,
   "metadata": {
    "scrolled": true
   },
   "outputs": [],
   "source": [
    "scaler = torch.cuda.amp.GradScaler() \n",
    "opt = torch.optim.Adam(m.parameters(), lr=1e-4)"
   ]
  },
  {
   "cell_type": "code",
   "execution_count": 8,
   "metadata": {
    "scrolled": true
   },
   "outputs": [],
   "source": [
    "BS = 32\n",
    "dataloader_trn = BlenderDataloader(path_stem=\"trn\", bs=BS)"
   ]
  },
  {
   "cell_type": "code",
   "execution_count": 9,
   "metadata": {
    "scrolled": true
   },
   "outputs": [
    {
     "name": "stdout",
     "output_type": "stream",
     "text": [
      "CPU times: user 3 µs, sys: 1 µs, total: 4 µs\n",
      "Wall time: 5.48 µs\n"
     ]
    }
   ],
   "source": [
    "%%time\n",
    "#rw_dataloader = RealWorldDataloader()"
   ]
  },
  {
   "cell_type": "code",
   "execution_count": 10,
   "metadata": {},
   "outputs": [],
   "source": [
    "#wandb.watch(m, log=\"all\")"
   ]
  },
  {
   "cell_type": "code",
   "execution_count": null,
   "metadata": {},
   "outputs": [],
   "source": []
  },
  {
   "cell_type": "code",
   "execution_count": 11,
   "metadata": {
    "scrolled": true
   },
   "outputs": [],
   "source": [
    "model_stem = \"6.24\"\n",
    "START_E = 11"
   ]
  },
  {
   "cell_type": "code",
   "execution_count": null,
   "metadata": {
    "scrolled": true
   },
   "outputs": [
    {
     "name": "stdout",
     "output_type": "stream",
     "text": [
      "EPOCH 11\n",
      "\n",
      "{'trn_control_loss': 0.00308829, 'consistency losses/trn_steer_cost': 0.00240685, 'consistency losses/trn_te_loss': 0.00827922, 'consistency losses/trn_torque_delta_loss': 95.99121094, 'logistical/obs_consumed_per_second': 234.5511811, 'logistical/obs_generated_per_second': 114.45669291, 'logistical/data_consumption_ratio': 2.05146131, 'logistical/manual_train_pause': 0.0, 'consistency losses/trn_torque_loss': 302.85005734, 'logistical/max_param': 16.23103142, 'logistical/lr': 0.0001}\n",
      "{'logistical/obs_consumed_per_second': 231.4921875, 'logistical/obs_generated_per_second': 115.6015625, 'logistical/data_consumption_ratio': 2.0020659, 'logistical/manual_train_pause': 0.0, 'trn_control_loss': 0.00267515, 'consistency losses/trn_steer_cost': 0.00259026, 'consistency losses/trn_te_loss': 0.00935436, 'consistency losses/trn_torque_loss': 343.45183486, 'consistency losses/trn_torque_delta_loss': 97.77807617, 'logistical/max_param': 16.23187256, 'logistical/lr': 0.0001}\n",
      "{'logistical/obs_consumed_per_second': 239.0234375, 'logistical/obs_generated_per_second': 112.53125, 'logistical/data_consumption_ratio': 2.12459986, 'logistical/manual_train_pause': 0.0, 'trn_control_loss': 0.00322013, 'consistency losses/trn_steer_cost': 0.00262541, 'consistency losses/trn_te_loss': 0.008993, 'consistency losses/trn_torque_loss': 354.45209194, 'consistency losses/trn_torque_delta_loss': 100.60839844, 'logistical/max_param': 16.23322678, 'logistical/lr': 0.0001}\n",
      "{'logistical/obs_consumed_per_second': 233.1328125, 'logistical/obs_generated_per_second': 115.15625, 'logistical/data_consumption_ratio': 2.02768101, 'logistical/manual_train_pause': 0.0, 'trn_control_loss': 0.00277418, 'consistency losses/trn_steer_cost': 0.0023676, 'consistency losses/trn_te_loss': 0.00858605, 'consistency losses/trn_torque_loss': 311.10819575, 'consistency losses/trn_torque_delta_loss': 92.48535156, 'logistical/max_param': 16.23283195, 'logistical/lr': 0.0001}\n",
      "{'logistical/obs_consumed_per_second': 231.15625, 'logistical/obs_generated_per_second': 114.59375, 'logistical/data_consumption_ratio': 2.02132481, 'logistical/manual_train_pause': 0.0, 'trn_control_loss': 0.00327977, 'consistency losses/trn_steer_cost': 0.00259867, 'consistency losses/trn_te_loss': 0.00917543, 'consistency losses/trn_torque_loss': 323.54635417, 'consistency losses/trn_torque_delta_loss': 96.02783203, 'logistical/max_param': 16.23246384, 'logistical/lr': 0.0001}\n",
      "{'logistical/obs_consumed_per_second': 241.03125, 'logistical/obs_generated_per_second': 110.9375, 'logistical/data_consumption_ratio': 2.17497673, 'logistical/manual_train_pause': 0.0, 'trn_control_loss': 0.0029502, 'consistency losses/trn_steer_cost': 0.0025357, 'consistency losses/trn_te_loss': 0.00895294, 'consistency losses/trn_torque_loss': 303.98319328, 'consistency losses/trn_torque_delta_loss': 95.18432617, 'logistical/max_param': 16.23309135, 'logistical/lr': 0.0001}\n",
      "{'logistical/obs_consumed_per_second': 234.90625, 'logistical/obs_generated_per_second': 115.2265625, 'logistical/data_consumption_ratio': 2.0417827, 'logistical/manual_train_pause': 0.0, 'trn_control_loss': 0.00302418, 'consistency losses/trn_steer_cost': 0.00246704, 'consistency losses/trn_te_loss': 0.00877269, 'consistency losses/trn_torque_loss': 295.98642418, 'consistency losses/trn_torque_delta_loss': 96.64648438, 'logistical/max_param': 16.23365021, 'logistical/lr': 0.0001}\n",
      "{'logistical/obs_consumed_per_second': 236.9140625, 'logistical/obs_generated_per_second': 113.5625, 'logistical/data_consumption_ratio': 2.09002079, 'logistical/manual_train_pause': 0.0, 'trn_control_loss': 0.0030099, 'consistency losses/trn_steer_cost': 0.00286393, 'consistency losses/trn_te_loss': 0.00989329, 'consistency losses/trn_torque_loss': 410.62789352, 'consistency losses/trn_torque_delta_loss': 101.12915039, 'logistical/max_param': 16.23295403, 'logistical/lr': 0.0001}\n",
      "{'logistical/obs_consumed_per_second': 239.015625, 'logistical/obs_generated_per_second': 115.609375, 'logistical/data_consumption_ratio': 2.06781176, 'logistical/manual_train_pause': 0.0, 'trn_control_loss': 0.00310328, 'consistency losses/trn_steer_cost': 0.00306698, 'consistency losses/trn_te_loss': 0.01071059, 'consistency losses/trn_torque_loss': 418.55487805, 'consistency losses/trn_torque_delta_loss': 104.37109375, 'logistical/max_param': 16.23402023, 'logistical/lr': 0.0001}\n",
      "{'logistical/obs_consumed_per_second': 233.2421875, 'logistical/obs_generated_per_second': 112.546875, 'logistical/data_consumption_ratio': 2.07271832, 'logistical/manual_train_pause': 0.0, 'trn_control_loss': 0.00281551, 'consistency losses/trn_steer_cost': 0.00258619, 'consistency losses/trn_te_loss': 0.00892101, 'consistency losses/trn_torque_delta_loss': 95.38500977, 'consistency losses/trn_torque_loss': 288.55094538, 'logistical/max_param': 16.23313713, 'logistical/lr': 0.0001}\n",
      "{'logistical/obs_consumed_per_second': 235.109375, 'logistical/obs_generated_per_second': 111.671875, 'logistical/data_consumption_ratio': 2.10745756, 'logistical/manual_train_pause': 0.0, 'trn_control_loss': 0.00289524, 'consistency losses/trn_steer_cost': 0.00259512, 'consistency losses/trn_te_loss': 0.00892019, 'consistency losses/trn_torque_loss': 310.66731195, 'consistency losses/trn_torque_delta_loss': 90.96142578, 'logistical/max_param': 16.2313118, 'logistical/lr': 0.0001}\n",
      "{'logistical/obs_consumed_per_second': 236.4453125, 'logistical/obs_generated_per_second': 117.1953125, 'logistical/data_consumption_ratio': 2.01990767, 'logistical/manual_train_pause': 0.0, 'trn_control_loss': 0.00316715, 'consistency losses/trn_steer_cost': 0.00273876, 'consistency losses/trn_te_loss': 0.00951744, 'consistency losses/trn_torque_loss': 404.99292201, 'consistency losses/trn_torque_delta_loss': 97.00512695, 'logistical/max_param': 16.2310524, 'logistical/lr': 0.0001}\n",
      "{'logistical/obs_consumed_per_second': 235.453125, 'logistical/obs_generated_per_second': 118.5546875, 'logistical/data_consumption_ratio': 1.98952338, 'logistical/manual_train_pause': 0.0, 'trn_control_loss': 0.00293778, 'consistency losses/trn_steer_cost': 0.00259254, 'consistency losses/trn_te_loss': 0.00928021, 'consistency losses/trn_torque_loss': 318.71027542, 'consistency losses/trn_torque_delta_loss': 96.56054688, 'logistical/max_param': 16.23218155, 'logistical/lr': 0.0001}\n",
      "{'logistical/obs_consumed_per_second': 239.640625, 'logistical/obs_generated_per_second': 112.046875, 'logistical/data_consumption_ratio': 2.14262904, 'logistical/manual_train_pause': 0.0, 'trn_control_loss': 0.00313804, 'consistency losses/trn_steer_cost': 0.00266647, 'consistency losses/trn_te_loss': 0.0092859, 'consistency losses/trn_torque_loss': 440.16983696, 'consistency losses/trn_torque_delta_loss': 105.14453125, 'logistical/max_param': 16.2311306, 'logistical/lr': 0.0001}\n",
      "{'logistical/obs_consumed_per_second': 236.5703125, 'logistical/obs_generated_per_second': 116.390625, 'logistical/data_consumption_ratio': 2.03748609, 'logistical/manual_train_pause': 0.0, 'trn_control_loss': 0.00269265, 'consistency losses/trn_steer_cost': 0.00257213, 'consistency losses/trn_te_loss': 0.00885259, 'consistency losses/trn_torque_loss': 312.36061508, 'consistency losses/trn_torque_delta_loss': 96.81323242, 'logistical/max_param': 16.23491096, 'logistical/lr': 0.0001}\n",
      "{'logistical/obs_consumed_per_second': 239.0703125, 'logistical/obs_generated_per_second': 108.171875, 'logistical/data_consumption_ratio': 2.2130667, 'logistical/manual_train_pause': 0.0, 'trn_control_loss': 0.00281521, 'consistency losses/trn_steer_cost': 0.00269678, 'consistency losses/trn_te_loss': 0.00943375, 'consistency losses/trn_torque_loss': 357.55543478, 'consistency losses/trn_torque_delta_loss': 103.67260742, 'logistical/max_param': 16.23487473, 'logistical/lr': 0.0001}\n",
      "{'logistical/obs_consumed_per_second': 235.5703125, 'logistical/obs_generated_per_second': 115.44094488, 'logistical/data_consumption_ratio': 2.04469967, 'logistical/manual_train_pause': 0.0, 'trn_control_loss': 0.00256791, 'consistency losses/trn_steer_cost': 0.00238995, 'consistency losses/trn_te_loss': 0.00841311, 'consistency losses/trn_torque_loss': 348.10802802, 'consistency losses/trn_torque_delta_loss': 93.28051758, 'logistical/max_param': 16.23243523, 'logistical/lr': 0.0001}\n"
     ]
    },
    {
     "name": "stdout",
     "output_type": "stream",
     "text": [
      "{'logistical/obs_consumed_per_second': 236.6953125, 'logistical/obs_generated_per_second': 109.3515625, 'logistical/data_consumption_ratio': 2.17136882, 'logistical/manual_train_pause': 0.0, 'trn_control_loss': 0.00290977, 'consistency losses/trn_steer_cost': 0.00284009, 'consistency losses/trn_te_loss': 0.00982807, 'consistency losses/trn_torque_loss': 344.85697115, 'consistency losses/trn_torque_delta_loss': 99.83618164, 'logistical/max_param': 16.23436928, 'logistical/lr': 0.0001}\n",
      "{'logistical/obs_consumed_per_second': 232.125, 'logistical/obs_generated_per_second': 109.6484375, 'logistical/data_consumption_ratio': 2.12172517, 'logistical/manual_train_pause': 0.0, 'trn_control_loss': 0.00307555, 'consistency losses/trn_steer_cost': 0.00268383, 'consistency losses/trn_te_loss': 0.00935336, 'consistency losses/trn_torque_loss': 359.99871926, 'consistency losses/trn_torque_delta_loss': 99.85473633, 'logistical/max_param': 16.23239708, 'logistical/lr': 0.0001}\n",
      "{'logistical/obs_consumed_per_second': 240.75, 'logistical/obs_generated_per_second': 111.4375, 'logistical/data_consumption_ratio': 2.16193637, 'logistical/manual_train_pause': 0.0, 'trn_control_loss': 0.00318833, 'consistency losses/trn_steer_cost': 0.0027605, 'consistency losses/trn_te_loss': 0.00965708, 'consistency losses/trn_torque_loss': 397.4982182, 'consistency losses/trn_torque_delta_loss': 105.20776367, 'logistical/max_param': 16.23036385, 'logistical/lr': 0.0001}\n",
      "{'logistical/obs_consumed_per_second': 235.74725275, 'logistical/obs_generated_per_second': 100.37362637, 'logistical/data_consumption_ratio': 2.35685098, 'logistical/manual_train_pause': 0.0, 'trn_control_loss': 0.00311334, 'consistency losses/trn_steer_cost': 0.00305127, 'consistency losses/trn_te_loss': 0.01071127, 'consistency losses/trn_torque_loss': 420.39619253, 'consistency losses/trn_torque_delta_loss': 101.71944444}\n",
      "\n",
      "\n",
      " Eval...\n",
      "EPOCH 12\n",
      "\n",
      "{'trn_control_loss': 0.00279032, 'consistency losses/trn_steer_cost': 0.00283223, 'consistency losses/trn_te_loss': 0.00989802, 'consistency losses/trn_torque_loss': 362.74483817, 'consistency losses/trn_torque_delta_loss': 100.78466797, 'logistical/obs_consumed_per_second': 235.24409449, 'logistical/obs_generated_per_second': 101.95275591, 'logistical/data_consumption_ratio': 2.31154066, 'logistical/manual_train_pause': 0.0, 'logistical/max_param': 16.22984123, 'logistical/lr': 0.0001}\n",
      "{'logistical/obs_consumed_per_second': 240.1875, 'logistical/obs_generated_per_second': 116.0859375, 'logistical/data_consumption_ratio': 2.07076037, 'logistical/manual_train_pause': 0.0, 'trn_control_loss': 0.0029895, 'consistency losses/trn_steer_cost': 0.00295117, 'consistency losses/trn_te_loss': 0.0101308, 'consistency losses/trn_torque_loss': 352.26667542, 'consistency losses/trn_torque_delta_loss': 99.01049805, 'logistical/max_param': 16.23218536, 'logistical/lr': 0.0001}\n",
      "{'logistical/obs_consumed_per_second': 244.09375, 'logistical/obs_generated_per_second': 108.421875, 'logistical/data_consumption_ratio': 2.25915086, 'logistical/manual_train_pause': 0.0, 'trn_control_loss': 0.00291242, 'consistency losses/trn_steer_cost': 0.00256377, 'consistency losses/trn_te_loss': 0.00892977, 'consistency losses/trn_torque_loss': 325.18710609, 'consistency losses/trn_torque_delta_loss': 95.41943359, 'logistical/max_param': 16.23253441, 'logistical/lr': 0.0001}\n",
      "{'logistical/obs_consumed_per_second': 235.6015625, 'logistical/obs_generated_per_second': 105.8671875, 'logistical/data_consumption_ratio': 2.22980439, 'logistical/manual_train_pause': 0.0, 'trn_control_loss': 0.00267201, 'consistency losses/trn_steer_cost': 0.00266996, 'consistency losses/trn_te_loss': 0.00922633, 'consistency losses/trn_torque_loss': 344.75736789, 'consistency losses/trn_torque_delta_loss': 101.71606445, 'logistical/max_param': 16.2328434, 'logistical/lr': 0.0001}\n",
      "{'logistical/obs_consumed_per_second': 235.84375, 'logistical/obs_generated_per_second': 117.796875, 'logistical/data_consumption_ratio': 2.00227998, 'logistical/manual_train_pause': 0.0, 'trn_control_loss': 0.00301974, 'consistency losses/trn_steer_cost': 0.00271822, 'consistency losses/trn_te_loss': 0.00956027, 'consistency losses/trn_torque_loss': 324.57932692, 'consistency losses/trn_torque_delta_loss': 100.73046875, 'logistical/max_param': 16.23347473, 'logistical/lr': 0.0001}\n",
      "{'logistical/obs_consumed_per_second': 229.6171875, 'logistical/obs_generated_per_second': 118.0390625, 'logistical/data_consumption_ratio': 1.94632621, 'logistical/manual_train_pause': 0.0, 'trn_control_loss': 0.00296845, 'consistency losses/trn_steer_cost': 0.00257511, 'consistency losses/trn_te_loss': 0.00914165, 'consistency losses/trn_torque_loss': 326.6940438, 'consistency losses/trn_torque_delta_loss': 95.06958008, 'logistical/max_param': 16.23379517, 'logistical/lr': 0.0001}\n",
      "{'logistical/obs_consumed_per_second': 240.9296875, 'logistical/obs_generated_per_second': 110.9140625, 'logistical/data_consumption_ratio': 2.17686983, 'logistical/manual_train_pause': 0.0, 'trn_control_loss': 0.00280835, 'consistency losses/trn_steer_cost': 0.00243822, 'consistency losses/trn_te_loss': 0.00838528, 'consistency losses/trn_torque_loss': 281.17768252, 'consistency losses/trn_torque_delta_loss': 95.13745117, 'logistical/max_param': 16.23513031, 'logistical/lr': 0.0001}\n",
      "{'logistical/obs_consumed_per_second': 232.25, 'logistical/obs_generated_per_second': 105.8203125, 'logistical/data_consumption_ratio': 2.1948737, 'logistical/manual_train_pause': 0.0, 'trn_control_loss': 0.00286033, 'consistency losses/trn_steer_cost': 0.00265944, 'consistency losses/trn_te_loss': 0.00922733, 'consistency losses/trn_torque_loss': 344.7778072, 'consistency losses/trn_torque_delta_loss': 99.73608398, 'logistical/max_param': 16.23492622, 'logistical/lr': 0.0001}\n",
      "{'logistical/obs_consumed_per_second': 238.0625, 'logistical/obs_generated_per_second': 108.4296875, 'logistical/data_consumption_ratio': 2.19771409, 'logistical/manual_train_pause': 0.0, 'trn_control_loss': 0.00282091, 'consistency losses/trn_steer_cost': 0.0026692, 'consistency losses/trn_te_loss': 0.00924139, 'consistency losses/trn_torque_loss': 260.43001033, 'consistency losses/trn_torque_delta_loss': 95.63427734, 'logistical/max_param': 16.23468781, 'logistical/lr': 0.0001}\n",
      "{'logistical/obs_consumed_per_second': 241.296875, 'logistical/obs_generated_per_second': 114.1015625, 'logistical/data_consumption_ratio': 2.11553518, 'logistical/manual_train_pause': 0.0, 'trn_control_loss': 0.002872, 'consistency losses/trn_steer_cost': 0.00255523, 'consistency losses/trn_te_loss': 0.0089347, 'consistency losses/trn_torque_loss': 304.04871324, 'consistency losses/trn_torque_delta_loss': 97.33764648, 'logistical/max_param': 16.23490906, 'logistical/lr': 0.0001}\n",
      "{'logistical/obs_consumed_per_second': 235.7421875, 'logistical/obs_generated_per_second': 107.9453125, 'logistical/data_consumption_ratio': 2.18616184, 'logistical/manual_train_pause': 0.0, 'trn_control_loss': 0.00299658, 'consistency losses/trn_steer_cost': 0.00310643, 'consistency losses/trn_te_loss': 0.01092295, 'consistency losses/trn_torque_loss': 396.02933373, 'consistency losses/trn_torque_delta_loss': 98.09472656, 'logistical/max_param': 16.23432541, 'logistical/lr': 0.0001}\n",
      "{'logistical/obs_consumed_per_second': 236.765625, 'logistical/obs_generated_per_second': 111.625, 'logistical/data_consumption_ratio': 2.12145282, 'logistical/manual_train_pause': 0.0, 'trn_control_loss': 0.00298324, 'consistency losses/trn_steer_cost': 0.00210831, 'consistency losses/trn_te_loss': 0.0072574, 'consistency losses/trn_torque_delta_loss': 96.88232422, 'consistency losses/trn_torque_loss': 304.50295608, 'logistical/max_param': 16.23350716, 'logistical/lr': 0.0001}\n",
      "{'logistical/obs_consumed_per_second': 234.2265625, 'logistical/obs_generated_per_second': 102.5078125, 'logistical/data_consumption_ratio': 2.29235608, 'logistical/manual_train_pause': 0.0, 'trn_control_loss': 0.00321911, 'consistency losses/trn_steer_cost': 0.00270638, 'consistency losses/trn_te_loss': 0.0094548, 'consistency losses/trn_torque_loss': 381.48245389, 'consistency losses/trn_torque_delta_loss': 98.00097656, 'logistical/max_param': 16.23513603, 'logistical/lr': 0.0001}\n"
     ]
    },
    {
     "name": "stdout",
     "output_type": "stream",
     "text": [
      "{'logistical/obs_consumed_per_second': 243.2109375, 'logistical/obs_generated_per_second': 111.0859375, 'logistical/data_consumption_ratio': 2.19382115, 'logistical/manual_train_pause': 0.0, 'trn_control_loss': 0.00266843, 'consistency losses/trn_steer_cost': 0.00260206, 'consistency losses/trn_te_loss': 0.00914223, 'consistency losses/trn_torque_loss': 326.46448864, 'consistency losses/trn_torque_delta_loss': 98.95996094, 'logistical/max_param': 16.23562622, 'logistical/lr': 0.0001}\n",
      "{'logistical/obs_consumed_per_second': 241.25, 'logistical/obs_generated_per_second': 115.0703125, 'logistical/data_consumption_ratio': 2.09597947, 'logistical/manual_train_pause': 0.0, 'trn_control_loss': 0.00300542, 'consistency losses/trn_steer_cost': 0.0025301, 'consistency losses/trn_te_loss': 0.00870798, 'consistency losses/trn_torque_loss': 323.43478261, 'consistency losses/trn_torque_delta_loss': 96.60009766, 'logistical/max_param': 16.23660851, 'logistical/lr': 0.0001}\n",
      "{'logistical/obs_consumed_per_second': 237.25, 'logistical/obs_generated_per_second': 107.3359375, 'logistical/data_consumption_ratio': 2.21347436, 'logistical/manual_train_pause': 0.0, 'trn_control_loss': 0.00297645, 'consistency losses/trn_steer_cost': 0.00257708, 'consistency losses/trn_te_loss': 0.00883317, 'consistency losses/trn_torque_loss': 369.25976562, 'consistency losses/trn_torque_delta_loss': 96.33422852, 'logistical/max_param': 16.23661995, 'logistical/lr': 0.0001}\n",
      "{'logistical/obs_consumed_per_second': 236.234375, 'logistical/obs_generated_per_second': 109.84375, 'logistical/data_consumption_ratio': 2.15482132, 'logistical/manual_train_pause': 0.0, 'trn_control_loss': 0.00307602, 'consistency losses/trn_steer_cost': 0.00247323, 'consistency losses/trn_te_loss': 0.00867118, 'consistency losses/trn_torque_loss': 334.94925103, 'consistency losses/trn_torque_delta_loss': 97.59106445, 'logistical/max_param': 16.23678017, 'logistical/lr': 0.0001}\n",
      "{'logistical/obs_consumed_per_second': 232.5703125, 'logistical/obs_generated_per_second': 107.9765625, 'logistical/data_consumption_ratio': 2.16019733, 'logistical/manual_train_pause': 0.0, 'trn_control_loss': 0.00292128, 'consistency losses/trn_steer_cost': 0.00321858, 'consistency losses/trn_te_loss': 0.01110047, 'consistency losses/trn_torque_loss': 407.39436983, 'consistency losses/trn_torque_delta_loss': 101.78613281, 'logistical/max_param': 16.23480415, 'logistical/lr': 0.0001}\n",
      "{'logistical/obs_consumed_per_second': 235.0234375, 'logistical/obs_generated_per_second': 114.3046875, 'logistical/data_consumption_ratio': 2.05605844, 'logistical/manual_train_pause': 0.0, 'trn_control_loss': 0.00310253, 'consistency losses/trn_steer_cost': 0.00319315, 'consistency losses/trn_te_loss': 0.01102405, 'consistency losses/trn_torque_loss': 400.39088761, 'consistency losses/trn_torque_delta_loss': 99.65795898, 'logistical/max_param': 16.23467064, 'logistical/lr': 0.0001}\n",
      "{'logistical/obs_consumed_per_second': 237.3125, 'logistical/obs_generated_per_second': 119.7890625, 'logistical/data_consumption_ratio': 1.98413815, 'logistical/manual_train_pause': 0.0, 'trn_control_loss': 0.00286822, 'consistency losses/trn_steer_cost': 0.00301143, 'consistency losses/trn_te_loss': 0.01045494, 'consistency losses/trn_torque_loss': 383.59594525, 'consistency losses/trn_torque_delta_loss': 97.10229492, 'logistical/max_param': 16.23466492, 'logistical/lr': 0.0001}\n",
      "{'logistical/obs_consumed_per_second': 241.23076923, 'logistical/obs_generated_per_second': 107.8021978, 'logistical/data_consumption_ratio': 2.24380353, 'logistical/manual_train_pause': 0.0, 'trn_control_loss': 0.00265909, 'consistency losses/trn_steer_cost': 0.00264492, 'consistency losses/trn_te_loss': 0.00954017, 'consistency losses/trn_torque_loss': 325.79575893, 'consistency losses/trn_torque_delta_loss': 91.18576389}\n",
      "\n",
      "\n",
      " Eval...\n",
      "EPOCH 13\n",
      "\n",
      "{'trn_control_loss': 0.00298797, 'consistency losses/trn_steer_cost': 0.00304383, 'consistency losses/trn_te_loss': 0.01062958, 'consistency losses/trn_torque_loss': 406.3918457, 'consistency losses/trn_torque_delta_loss': 101.20996094, 'logistical/obs_consumed_per_second': 233.81102362, 'logistical/obs_generated_per_second': 97.50393701, 'logistical/data_consumption_ratio': 2.40536907, 'logistical/manual_train_pause': 0.0, 'logistical/max_param': 16.23432922, 'logistical/lr': 0.0001}\n"
     ]
    }
   ],
   "source": [
    "n_epochs = 100\n",
    "log_wandb = True\n",
    "\n",
    "for e in range(START_E, n_epochs):\n",
    "    \n",
    "    # Train\n",
    "    print(f\"EPOCH {e}\\n\")\n",
    "    run_epoch(dataloader_trn, m, opt=opt, scaler=scaler, \n",
    "              train=True, backwards=True, log_wandb=log_wandb, wandb=wandb, updates_per_epoch=1280)\n",
    "    \n",
    "    print(\"\\n\\n Eval...\")\n",
    "    \n",
    "    #eval_rw(rw_dataloader, m, wandb) # will log directly to wandb\n",
    "        \n",
    "    # Saving model checkpoint each epoch\n",
    "    torch.save(m.state_dict(), f\"{BESPOKE_ROOT}/models/m_{model_stem}_e{e}.torch\")\n",
    "    "
   ]
  },
  {
   "cell_type": "code",
   "execution_count": null,
   "metadata": {},
   "outputs": [],
   "source": []
  },
  {
   "cell_type": "code",
   "execution_count": null,
   "metadata": {},
   "outputs": [],
   "source": []
  },
  {
   "cell_type": "code",
   "execution_count": 10,
   "metadata": {
    "scrolled": true
   },
   "outputs": [
    {
     "name": "stderr",
     "output_type": "stream",
     "text": [
      "/home/beans/miniconda3/envs/py38/lib/python3.8/site-packages/torch/utils/checkpoint.py:25: UserWarning: None of the inputs have requires_grad=True. Gradients will be None\n",
      "  warnings.warn(\"None of the inputs have requires_grad=True. Gradients will be None\")\n"
     ]
    },
    {
     "name": "stdout",
     "output_type": "stream",
     "text": [
      "CPU times: user 14.3 s, sys: 417 ms, total: 14.7 s\n",
      "Wall time: 14 s\n"
     ]
    }
   ],
   "source": [
    "%%time\n",
    "\n",
    "eval_rw(rw_dataloader, m, wandb) # will log directly to wandb"
   ]
  },
  {
   "cell_type": "code",
   "execution_count": null,
   "metadata": {},
   "outputs": [],
   "source": []
  },
  {
   "cell_type": "code",
   "execution_count": 13,
   "metadata": {
    "scrolled": true
   },
   "outputs": [],
   "source": [
    "torch.save(m.state_dict(), f\"{BESPOKE_ROOT}/models/m_{model_stem}_e24.torch\")"
   ]
  },
  {
   "cell_type": "code",
   "execution_count": null,
   "metadata": {},
   "outputs": [],
   "source": []
  }
 ],
 "metadata": {
  "kernelspec": {
   "display_name": "Python 3 (ipykernel)",
   "language": "python",
   "name": "python3"
  },
  "language_info": {
   "codemirror_mode": {
    "name": "ipython",
    "version": 3
   },
   "file_extension": ".py",
   "mimetype": "text/x-python",
   "name": "python",
   "nbconvert_exporter": "python",
   "pygments_lexer": "ipython3",
   "version": "3.8.11"
  }
 },
 "nbformat": 4,
 "nbformat_minor": 4
}
