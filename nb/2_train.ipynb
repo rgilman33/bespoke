{
 "cells": [
  {
   "cell_type": "code",
   "execution_count": 1,
   "metadata": {
    "scrolled": true
   },
   "outputs": [
    {
     "name": "stderr",
     "output_type": "stream",
     "text": [
      "/home/beans/miniconda3/envs/py38/lib/python3.8/site-packages/albumentations/augmentations/transforms.py:689: FutureWarning: This class has been deprecated. Please use CoarseDropout\n",
      "  warnings.warn(\n",
      "/home/beans/miniconda3/envs/py38/lib/python3.8/site-packages/albumentations/augmentations/transforms.py:965: FutureWarning: This class has been deprecated. Please use ImageCompression\n",
      "  warnings.warn(\n"
     ]
    },
    {
     "data": {
      "text/plain": [
       "('1.10.0', 2, 'NVIDIA GeForce RTX 3090')"
      ]
     },
     "execution_count": 1,
     "metadata": {},
     "output_type": "execute_result"
    }
   ],
   "source": [
    "%matplotlib inline\n",
    "%load_ext autoreload\n",
    "%autoreload 2\n",
    "\n",
    "import sys\n",
    "sys.path.append(f'/media/beans/ssd/bespoke')\n",
    "\n",
    "from models import EffNet\n",
    "from constants import *\n",
    "from imports import *\n",
    "from rw_dataloader import RealWorldDataloader\n",
    "from blender_dataloader import BlenderDataloader\n",
    "from train_utils import *\n",
    "\n",
    "torch.__version__, torch.cuda.device_count(), torch.cuda.get_device_name(torch.cuda.current_device())"
   ]
  },
  {
   "cell_type": "code",
   "execution_count": 2,
   "metadata": {},
   "outputs": [
    {
     "data": {
      "text/plain": [
       "'1ewnimd2'"
      ]
     },
     "execution_count": 2,
     "metadata": {},
     "output_type": "execute_result"
    }
   ],
   "source": [
    "import wandb\n",
    "run_id = wandb.util.generate_id(); run_id"
   ]
  },
  {
   "cell_type": "code",
   "execution_count": 3,
   "metadata": {
    "scrolled": true
   },
   "outputs": [
    {
     "name": "stderr",
     "output_type": "stream",
     "text": [
      "\u001b[34m\u001b[1mwandb\u001b[0m: Currently logged in as: \u001b[33mrgilman33\u001b[0m (use `wandb login --relogin` to force relogin)\n",
      "\u001b[34m\u001b[1mwandb\u001b[0m: wandb version 0.12.21 is available!  To upgrade, please run:\n",
      "\u001b[34m\u001b[1mwandb\u001b[0m:  $ pip install wandb --upgrade\n"
     ]
    },
    {
     "data": {
      "text/html": [
       "\n",
       "                    Syncing run <strong><a href=\"https://wandb.ai/rgilman33/carla/runs/1ewnimd2\" target=\"_blank\">charmed-dragon-319</a></strong> to <a href=\"https://wandb.ai/rgilman33/carla\" target=\"_blank\">Weights & Biases</a> (<a href=\"https://docs.wandb.com/integrations/jupyter.html\" target=\"_blank\">docs</a>).<br/>\n",
       "\n",
       "                "
      ],
      "text/plain": [
       "<IPython.core.display.HTML object>"
      ]
     },
     "metadata": {},
     "output_type": "display_data"
    },
    {
     "data": {
      "text/html": [
       "<button onClick=\"this.nextSibling.style.display='block';this.style.display='none';\">Display W&B run</button><iframe src=\"https://wandb.ai/rgilman33/carla/runs/1ewnimd2?jupyter=true\" style=\"border:none;width:100%;height:420px;display:none;\"></iframe>"
      ],
      "text/plain": [
       "<wandb.sdk.wandb_run.Run at 0x7f9ed9cf7dc0>"
      ]
     },
     "execution_count": 3,
     "metadata": {},
     "output_type": "execute_result"
    }
   ],
   "source": [
    "wandb.init(id='1ewnimd2', project=\"carla\", resume=\"allow\")"
   ]
  },
  {
   "cell_type": "code",
   "execution_count": 4,
   "metadata": {
    "scrolled": true
   },
   "outputs": [
    {
     "data": {
      "text/plain": [
       "13502.597"
      ]
     },
     "execution_count": 4,
     "metadata": {},
     "output_type": "execute_result"
    }
   ],
   "source": [
    "m = EffNet(model_arch=\"efficientnet_b3\").to(device) # 13M params, 11.6M without RNN, \n",
    "sum([torch.numel(p) for p in m.parameters()]) / 1000"
   ]
  },
  {
   "cell_type": "code",
   "execution_count": 5,
   "metadata": {
    "scrolled": true
   },
   "outputs": [
    {
     "data": {
      "text/plain": [
       "<All keys matched successfully>"
      ]
     },
     "execution_count": 5,
     "metadata": {},
     "output_type": "execute_result"
    }
   ],
   "source": [
    "m.load_state_dict(torch.load(f\"{BESPOKE_ROOT}/models/m.torch\"), strict=False)"
   ]
  },
  {
   "cell_type": "code",
   "execution_count": null,
   "metadata": {},
   "outputs": [],
   "source": []
  },
  {
   "cell_type": "code",
   "execution_count": 6,
   "metadata": {
    "scrolled": true
   },
   "outputs": [],
   "source": [
    "scaler = torch.cuda.amp.GradScaler() \n",
    "opt = torch.optim.Adam(m.parameters(), lr=3e-5)"
   ]
  },
  {
   "cell_type": "code",
   "execution_count": 7,
   "metadata": {
    "scrolled": true
   },
   "outputs": [],
   "source": [
    "BS = 32\n",
    "dataloader_trn = BlenderDataloader(path_stem=\"trn\", bs=BS)"
   ]
  },
  {
   "cell_type": "code",
   "execution_count": 8,
   "metadata": {
    "scrolled": true
   },
   "outputs": [
    {
     "name": "stdout",
     "output_type": "stream",
     "text": [
      "CPU times: user 3 µs, sys: 1 µs, total: 4 µs\n",
      "Wall time: 5.48 µs\n"
     ]
    }
   ],
   "source": [
    "%%time\n",
    "#rw_dataloader = RealWorldDataloader()"
   ]
  },
  {
   "cell_type": "code",
   "execution_count": 9,
   "metadata": {},
   "outputs": [],
   "source": [
    "#wandb.watch(m, log=\"all\")"
   ]
  },
  {
   "cell_type": "code",
   "execution_count": 10,
   "metadata": {},
   "outputs": [],
   "source": [
    "#train_only_parts_of_model(m, part_to_train=\"fcs_2\")"
   ]
  },
  {
   "cell_type": "code",
   "execution_count": null,
   "metadata": {},
   "outputs": [],
   "source": []
  },
  {
   "cell_type": "code",
   "execution_count": 11,
   "metadata": {
    "scrolled": true
   },
   "outputs": [],
   "source": [
    "model_stem = \"7.8\"\n",
    "START_E = 0"
   ]
  },
  {
   "cell_type": "code",
   "execution_count": null,
   "metadata": {
    "scrolled": true
   },
   "outputs": [
    {
     "name": "stdout",
     "output_type": "stream",
     "text": [
      "EPOCH 0\n",
      "\n",
      "{'trn_control_loss': 0.02162781, 'trn_headings_loss': 0.04558086, 'consistency losses/trn_steer_cost': 0.01160961, 'consistency losses/trn_te_loss': 15.55573067, 'consistency losses/trn_torque_delta_loss': 32.89880321, 'logistical/obs_consumed_per_second': 237.83464567, 'logistical/obs_generated_per_second': 108.84251969, 'logistical/data_consumption_ratio': 2.18768086, 'logistical/manual_train_pause': 0.0, 'consistency losses/trn_torque_loss': 82.21726699, 'logistical/max_param': 16.24296951, 'logistical/lr': 0.0003}\n",
      "{'logistical/obs_consumed_per_second': 235.6015625, 'logistical/obs_generated_per_second': 113.140625, 'logistical/data_consumption_ratio': 2.08549804, 'logistical/manual_train_pause': 0.0, 'trn_control_loss': 0.0095039, 'trn_headings_loss': 0.02780467, 'consistency losses/trn_steer_cost': 0.0117321, 'consistency losses/trn_te_loss': 15.73619703, 'consistency losses/trn_torque_delta_loss': 33.15937065, 'consistency losses/trn_torque_loss': 77.38202858, 'logistical/max_param': 16.23895836, 'logistical/lr': 0.0003}\n",
      "{'logistical/obs_consumed_per_second': 235.109375, 'logistical/obs_generated_per_second': 111.9921875, 'logistical/data_consumption_ratio': 2.09812969, 'logistical/manual_train_pause': 0.0, 'trn_control_loss': 0.01089063, 'trn_headings_loss': 0.03148246, 'consistency losses/trn_steer_cost': 0.01287773, 'consistency losses/trn_te_loss': 15.21640416, 'consistency losses/trn_torque_delta_loss': 32.2866505, 'consistency losses/trn_torque_loss': 58.19038677, 'logistical/max_param': 16.23806763, 'logistical/lr': 0.0003}\n",
      "{'logistical/obs_consumed_per_second': 240.21875, 'logistical/obs_generated_per_second': 106.1875, 'logistical/data_consumption_ratio': 2.26368657, 'logistical/manual_train_pause': 0.0, 'trn_control_loss': 0.00965172, 'trn_headings_loss': 0.02649105, 'consistency losses/trn_steer_cost': 0.01325673, 'consistency losses/trn_te_loss': 15.99911086, 'consistency losses/trn_torque_delta_loss': 34.19390061, 'consistency losses/trn_torque_loss': 53.64236206, 'logistical/max_param': 16.2433548, 'logistical/lr': 0.0003}\n",
      "{'logistical/obs_consumed_per_second': 240.265625, 'logistical/obs_generated_per_second': 106.328125, 'logistical/data_consumption_ratio': 2.25785348, 'logistical/manual_train_pause': 0.0, 'trn_control_loss': 0.00922242, 'trn_headings_loss': 0.02598351, 'consistency losses/trn_steer_cost': 0.01345876, 'consistency losses/trn_te_loss': 15.57068538, 'consistency losses/trn_torque_delta_loss': 30.75224017, 'consistency losses/trn_torque_loss': 65.86687322, 'logistical/max_param': 16.24376678, 'logistical/lr': 0.0003}\n"
     ]
    }
   ],
   "source": [
    "n_epochs = 100\n",
    "log_wandb = True\n",
    "\n",
    "for e in range(START_E, n_epochs):\n",
    "    \n",
    "    opt.param_groups[0]['lr'] = np.interp(e, [0, 10, 20, 30], [3e-4, 1e-4, 1e-4, 3e-5])\n",
    "    \n",
    "    # Train\n",
    "    print(f\"EPOCH {e}\\n\")\n",
    "    run_epoch(dataloader_trn, m, opt=opt, scaler=scaler, \n",
    "              train=True, backwards=True, log_wandb=log_wandb, wandb=wandb, updates_per_epoch=1280)\n",
    "    \n",
    "    print(\"\\n\\n Eval...\")\n",
    "    \n",
    "    #eval_rw(rw_dataloader, m, wandb) # will log directly to wandb\n",
    "        \n",
    "    # Saving model checkpoint each epoch\n",
    "    torch.save(m.state_dict(), f\"{BESPOKE_ROOT}/models/m_{model_stem}_e{e}.torch\")\n",
    "    "
   ]
  },
  {
   "cell_type": "code",
   "execution_count": null,
   "metadata": {},
   "outputs": [],
   "source": []
  },
  {
   "cell_type": "code",
   "execution_count": 13,
   "metadata": {
    "scrolled": true
   },
   "outputs": [
    {
     "name": "stderr",
     "output_type": "stream",
     "text": [
      "/home/beans/miniconda3/envs/py38/lib/python3.8/site-packages/albumentations/augmentations/transforms.py:689: FutureWarning: This class has been deprecated. Please use CoarseDropout\n",
      "  warnings.warn(\n",
      "/home/beans/miniconda3/envs/py38/lib/python3.8/site-packages/albumentations/augmentations/transforms.py:965: FutureWarning: This class has been deprecated. Please use ImageCompression\n",
      "  warnings.warn(\n"
     ]
    }
   ],
   "source": [
    "torch.save(m.state_dict(), f\"{BESPOKE_ROOT}/models/m_{model_stem}_e29.torch\")\n"
   ]
  },
  {
   "cell_type": "code",
   "execution_count": null,
   "metadata": {},
   "outputs": [],
   "source": []
  },
  {
   "cell_type": "code",
   "execution_count": null,
   "metadata": {},
   "outputs": [],
   "source": []
  },
  {
   "cell_type": "code",
   "execution_count": 10,
   "metadata": {
    "scrolled": true
   },
   "outputs": [
    {
     "name": "stderr",
     "output_type": "stream",
     "text": [
      "/home/beans/miniconda3/envs/py38/lib/python3.8/site-packages/torch/utils/checkpoint.py:25: UserWarning: None of the inputs have requires_grad=True. Gradients will be None\n",
      "  warnings.warn(\"None of the inputs have requires_grad=True. Gradients will be None\")\n"
     ]
    },
    {
     "name": "stdout",
     "output_type": "stream",
     "text": [
      "CPU times: user 14.3 s, sys: 417 ms, total: 14.7 s\n",
      "Wall time: 14 s\n"
     ]
    }
   ],
   "source": [
    "%%time\n",
    "\n",
    "eval_rw(rw_dataloader, m, wandb) # will log directly to wandb"
   ]
  },
  {
   "cell_type": "code",
   "execution_count": null,
   "metadata": {},
   "outputs": [],
   "source": []
  },
  {
   "cell_type": "code",
   "execution_count": null,
   "metadata": {},
   "outputs": [],
   "source": []
  }
 ],
 "metadata": {
  "kernelspec": {
   "display_name": "Python 3 (ipykernel)",
   "language": "python",
   "name": "python3"
  },
  "language_info": {
   "codemirror_mode": {
    "name": "ipython",
    "version": 3
   },
   "file_extension": ".py",
   "mimetype": "text/x-python",
   "name": "python",
   "nbconvert_exporter": "python",
   "pygments_lexer": "ipython3",
   "version": "3.8.11"
  }
 },
 "nbformat": 4,
 "nbformat_minor": 4
}
