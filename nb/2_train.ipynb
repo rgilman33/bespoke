{
 "cells": [
  {
   "cell_type": "code",
   "execution_count": 1,
   "metadata": {
    "scrolled": true
   },
   "outputs": [
    {
     "name": "stderr",
     "output_type": "stream",
     "text": [
      "/home/beans/miniconda3/envs/py38/lib/python3.8/site-packages/albumentations/augmentations/transforms.py:689: FutureWarning: This class has been deprecated. Please use CoarseDropout\n",
      "  warnings.warn(\n",
      "/home/beans/miniconda3/envs/py38/lib/python3.8/site-packages/albumentations/augmentations/transforms.py:965: FutureWarning: This class has been deprecated. Please use ImageCompression\n",
      "  warnings.warn(\n"
     ]
    },
    {
     "data": {
      "text/plain": [
       "('1.10.0', 2, 'NVIDIA GeForce RTX 3090')"
      ]
     },
     "execution_count": 1,
     "metadata": {},
     "output_type": "execute_result"
    }
   ],
   "source": [
    "%matplotlib inline\n",
    "%load_ext autoreload\n",
    "%autoreload 2\n",
    "\n",
    "import sys\n",
    "sys.path.append(f'/home/beans/bespoke')\n",
    "\n",
    "from models import EffNet\n",
    "from constants import *\n",
    "from imports import *\n",
    "from rw_dataloader import RealWorldDataloader\n",
    "from blender_dataloader import BlenderDataloader\n",
    "from train_utils import *\n",
    "\n",
    "torch.__version__, torch.cuda.device_count(), torch.cuda.get_device_name(torch.cuda.current_device())"
   ]
  },
  {
   "cell_type": "code",
   "execution_count": 2,
   "metadata": {},
   "outputs": [
    {
     "data": {
      "text/plain": [
       "'2di33yst'"
      ]
     },
     "execution_count": 2,
     "metadata": {},
     "output_type": "execute_result"
    }
   ],
   "source": [
    "import wandb\n",
    "run_id = wandb.util.generate_id(); run_id"
   ]
  },
  {
   "cell_type": "code",
   "execution_count": 3,
   "metadata": {
    "scrolled": true
   },
   "outputs": [
    {
     "name": "stderr",
     "output_type": "stream",
     "text": [
      "\u001b[34m\u001b[1mwandb\u001b[0m: Currently logged in as: \u001b[33mrgilman33\u001b[0m (use `wandb login --relogin` to force relogin)\n",
      "\u001b[34m\u001b[1mwandb\u001b[0m: wandb version 0.13.1 is available!  To upgrade, please run:\n",
      "\u001b[34m\u001b[1mwandb\u001b[0m:  $ pip install wandb --upgrade\n"
     ]
    },
    {
     "data": {
      "text/html": [
       "\n",
       "                    Resuming run <strong><a href=\"https://wandb.ai/rgilman33/carla/runs/3jf8wk1i\" target=\"_blank\">bumbling-salad-338</a></strong> to <a href=\"https://wandb.ai/rgilman33/carla\" target=\"_blank\">Weights & Biases</a> (<a href=\"https://docs.wandb.com/integrations/jupyter.html\" target=\"_blank\">docs</a>).<br/>\n",
       "\n",
       "                "
      ],
      "text/plain": [
       "<IPython.core.display.HTML object>"
      ]
     },
     "metadata": {},
     "output_type": "display_data"
    },
    {
     "data": {
      "text/html": [
       "<button onClick=\"this.nextSibling.style.display='block';this.style.display='none';\">Display W&B run</button><iframe src=\"https://wandb.ai/rgilman33/carla/runs/3jf8wk1i?jupyter=true\" style=\"border:none;width:100%;height:420px;display:none;\"></iframe>"
      ],
      "text/plain": [
       "<wandb.sdk.wandb_run.Run at 0x7f4e9592da90>"
      ]
     },
     "execution_count": 3,
     "metadata": {},
     "output_type": "execute_result"
    }
   ],
   "source": [
    "wandb.init(id='3jf8wk1i', project=\"carla\", resume=\"allow\")"
   ]
  },
  {
   "cell_type": "code",
   "execution_count": 4,
   "metadata": {
    "scrolled": true
   },
   "outputs": [
    {
     "data": {
      "text/plain": [
       "14029.957"
      ]
     },
     "execution_count": 4,
     "metadata": {},
     "output_type": "execute_result"
    }
   ],
   "source": [
    "m = EffNet(model_arch=\"efficientnet_b3\").to(device) # 13M params, 11.6M without RNN, \n",
    "sum([torch.numel(p) for p in m.parameters()]) / 1000"
   ]
  },
  {
   "cell_type": "code",
   "execution_count": 5,
   "metadata": {
    "scrolled": true
   },
   "outputs": [
    {
     "data": {
      "text/plain": [
       "<All keys matched successfully>"
      ]
     },
     "execution_count": 5,
     "metadata": {},
     "output_type": "execute_result"
    }
   ],
   "source": [
    "m.load_state_dict(torch.load(f\"{BESPOKE_ROOT}/models/m.torch\"), strict=False)"
   ]
  },
  {
   "cell_type": "code",
   "execution_count": 6,
   "metadata": {
    "scrolled": true
   },
   "outputs": [],
   "source": [
    "scaler = torch.cuda.amp.GradScaler() \n",
    "opt = torch.optim.Adam(m.parameters(), lr=5e-5)"
   ]
  },
  {
   "cell_type": "code",
   "execution_count": 7,
   "metadata": {
    "scrolled": true
   },
   "outputs": [
    {
     "name": "stdout",
     "output_type": "stream",
     "text": [
      "CPU times: user 56.4 s, sys: 2.02 s, total: 58.4 s\n",
      "Wall time: 58.4 s\n"
     ]
    }
   ],
   "source": [
    "%%time\n",
    "BS = 32\n",
    "dataloader_trn = BlenderDataloader(path_stem=\"trn\", bs=BS)"
   ]
  },
  {
   "cell_type": "code",
   "execution_count": 8,
   "metadata": {
    "scrolled": true
   },
   "outputs": [
    {
     "name": "stdout",
     "output_type": "stream",
     "text": [
      "CPU times: user 2 µs, sys: 0 ns, total: 2 µs\n",
      "Wall time: 5.01 µs\n"
     ]
    }
   ],
   "source": [
    "%%time\n",
    "#rw_dataloader = RealWorldDataloader()"
   ]
  },
  {
   "cell_type": "code",
   "execution_count": 9,
   "metadata": {},
   "outputs": [
    {
     "name": "stdout",
     "output_type": "stream",
     "text": [
      "hidden_init True\n",
      "cell_init True\n",
      "backbone.conv_stem.weight True\n",
      "backbone.bn1.weight True\n",
      "backbone.bn1.bias True\n",
      "backbone.blocks.0.0.conv_dw.weight True\n",
      "backbone.blocks.0.0.bn1.weight True\n",
      "backbone.blocks.0.0.bn1.bias True\n",
      "backbone.blocks.0.0.se.conv_reduce.weight True\n",
      "backbone.blocks.0.0.se.conv_reduce.bias True\n",
      "backbone.blocks.0.0.se.conv_expand.weight True\n",
      "backbone.blocks.0.0.se.conv_expand.bias True\n",
      "backbone.blocks.0.0.conv_pw.weight True\n",
      "backbone.blocks.0.0.bn2.weight True\n",
      "backbone.blocks.0.0.bn2.bias True\n",
      "backbone.blocks.0.1.conv_dw.weight True\n",
      "backbone.blocks.0.1.bn1.weight True\n",
      "backbone.blocks.0.1.bn1.bias True\n",
      "backbone.blocks.0.1.se.conv_reduce.weight True\n",
      "backbone.blocks.0.1.se.conv_reduce.bias True\n",
      "backbone.blocks.0.1.se.conv_expand.weight True\n",
      "backbone.blocks.0.1.se.conv_expand.bias True\n",
      "backbone.blocks.0.1.conv_pw.weight True\n",
      "backbone.blocks.0.1.bn2.weight True\n",
      "backbone.blocks.0.1.bn2.bias True\n",
      "backbone.blocks.1.0.conv_pw.weight True\n",
      "backbone.blocks.1.0.bn1.weight True\n",
      "backbone.blocks.1.0.bn1.bias True\n",
      "backbone.blocks.1.0.conv_dw.weight True\n",
      "backbone.blocks.1.0.bn2.weight True\n",
      "backbone.blocks.1.0.bn2.bias True\n",
      "backbone.blocks.1.0.se.conv_reduce.weight True\n",
      "backbone.blocks.1.0.se.conv_reduce.bias True\n",
      "backbone.blocks.1.0.se.conv_expand.weight True\n",
      "backbone.blocks.1.0.se.conv_expand.bias True\n",
      "backbone.blocks.1.0.conv_pwl.weight True\n",
      "backbone.blocks.1.0.bn3.weight True\n",
      "backbone.blocks.1.0.bn3.bias True\n",
      "backbone.blocks.1.1.conv_pw.weight True\n",
      "backbone.blocks.1.1.bn1.weight True\n",
      "backbone.blocks.1.1.bn1.bias True\n",
      "backbone.blocks.1.1.conv_dw.weight True\n",
      "backbone.blocks.1.1.bn2.weight True\n",
      "backbone.blocks.1.1.bn2.bias True\n",
      "backbone.blocks.1.1.se.conv_reduce.weight True\n",
      "backbone.blocks.1.1.se.conv_reduce.bias True\n",
      "backbone.blocks.1.1.se.conv_expand.weight True\n",
      "backbone.blocks.1.1.se.conv_expand.bias True\n",
      "backbone.blocks.1.1.conv_pwl.weight True\n",
      "backbone.blocks.1.1.bn3.weight True\n",
      "backbone.blocks.1.1.bn3.bias True\n",
      "backbone.blocks.1.2.conv_pw.weight True\n",
      "backbone.blocks.1.2.bn1.weight True\n",
      "backbone.blocks.1.2.bn1.bias True\n",
      "backbone.blocks.1.2.conv_dw.weight True\n",
      "backbone.blocks.1.2.bn2.weight True\n",
      "backbone.blocks.1.2.bn2.bias True\n",
      "backbone.blocks.1.2.se.conv_reduce.weight True\n",
      "backbone.blocks.1.2.se.conv_reduce.bias True\n",
      "backbone.blocks.1.2.se.conv_expand.weight True\n",
      "backbone.blocks.1.2.se.conv_expand.bias True\n",
      "backbone.blocks.1.2.conv_pwl.weight True\n",
      "backbone.blocks.1.2.bn3.weight True\n",
      "backbone.blocks.1.2.bn3.bias True\n",
      "backbone.blocks.2.0.conv_pw.weight True\n",
      "backbone.blocks.2.0.bn1.weight True\n",
      "backbone.blocks.2.0.bn1.bias True\n",
      "backbone.blocks.2.0.conv_dw.weight True\n",
      "backbone.blocks.2.0.bn2.weight True\n",
      "backbone.blocks.2.0.bn2.bias True\n",
      "backbone.blocks.2.0.se.conv_reduce.weight True\n",
      "backbone.blocks.2.0.se.conv_reduce.bias True\n",
      "backbone.blocks.2.0.se.conv_expand.weight True\n",
      "backbone.blocks.2.0.se.conv_expand.bias True\n",
      "backbone.blocks.2.0.conv_pwl.weight True\n",
      "backbone.blocks.2.0.bn3.weight True\n",
      "backbone.blocks.2.0.bn3.bias True\n",
      "backbone.blocks.2.1.conv_pw.weight True\n",
      "backbone.blocks.2.1.bn1.weight True\n",
      "backbone.blocks.2.1.bn1.bias True\n",
      "backbone.blocks.2.1.conv_dw.weight True\n",
      "backbone.blocks.2.1.bn2.weight True\n",
      "backbone.blocks.2.1.bn2.bias True\n",
      "backbone.blocks.2.1.se.conv_reduce.weight True\n",
      "backbone.blocks.2.1.se.conv_reduce.bias True\n",
      "backbone.blocks.2.1.se.conv_expand.weight True\n",
      "backbone.blocks.2.1.se.conv_expand.bias True\n",
      "backbone.blocks.2.1.conv_pwl.weight True\n",
      "backbone.blocks.2.1.bn3.weight True\n",
      "backbone.blocks.2.1.bn3.bias True\n",
      "backbone.blocks.2.2.conv_pw.weight True\n",
      "backbone.blocks.2.2.bn1.weight True\n",
      "backbone.blocks.2.2.bn1.bias True\n",
      "backbone.blocks.2.2.conv_dw.weight True\n",
      "backbone.blocks.2.2.bn2.weight True\n",
      "backbone.blocks.2.2.bn2.bias True\n",
      "backbone.blocks.2.2.se.conv_reduce.weight True\n",
      "backbone.blocks.2.2.se.conv_reduce.bias True\n",
      "backbone.blocks.2.2.se.conv_expand.weight True\n",
      "backbone.blocks.2.2.se.conv_expand.bias True\n",
      "backbone.blocks.2.2.conv_pwl.weight True\n",
      "backbone.blocks.2.2.bn3.weight True\n",
      "backbone.blocks.2.2.bn3.bias True\n",
      "backbone.blocks.3.0.conv_pw.weight True\n",
      "backbone.blocks.3.0.bn1.weight True\n",
      "backbone.blocks.3.0.bn1.bias True\n",
      "backbone.blocks.3.0.conv_dw.weight True\n",
      "backbone.blocks.3.0.bn2.weight True\n",
      "backbone.blocks.3.0.bn2.bias True\n",
      "backbone.blocks.3.0.se.conv_reduce.weight True\n",
      "backbone.blocks.3.0.se.conv_reduce.bias True\n",
      "backbone.blocks.3.0.se.conv_expand.weight True\n",
      "backbone.blocks.3.0.se.conv_expand.bias True\n",
      "backbone.blocks.3.0.conv_pwl.weight True\n",
      "backbone.blocks.3.0.bn3.weight True\n",
      "backbone.blocks.3.0.bn3.bias True\n",
      "backbone.blocks.3.1.conv_pw.weight True\n",
      "backbone.blocks.3.1.bn1.weight True\n",
      "backbone.blocks.3.1.bn1.bias True\n",
      "backbone.blocks.3.1.conv_dw.weight True\n",
      "backbone.blocks.3.1.bn2.weight True\n",
      "backbone.blocks.3.1.bn2.bias True\n",
      "backbone.blocks.3.1.se.conv_reduce.weight True\n",
      "backbone.blocks.3.1.se.conv_reduce.bias True\n",
      "backbone.blocks.3.1.se.conv_expand.weight True\n",
      "backbone.blocks.3.1.se.conv_expand.bias True\n",
      "backbone.blocks.3.1.conv_pwl.weight True\n",
      "backbone.blocks.3.1.bn3.weight True\n",
      "backbone.blocks.3.1.bn3.bias True\n",
      "backbone.blocks.3.2.conv_pw.weight True\n",
      "backbone.blocks.3.2.bn1.weight True\n",
      "backbone.blocks.3.2.bn1.bias True\n",
      "backbone.blocks.3.2.conv_dw.weight True\n",
      "backbone.blocks.3.2.bn2.weight True\n",
      "backbone.blocks.3.2.bn2.bias True\n",
      "backbone.blocks.3.2.se.conv_reduce.weight True\n",
      "backbone.blocks.3.2.se.conv_reduce.bias True\n",
      "backbone.blocks.3.2.se.conv_expand.weight True\n",
      "backbone.blocks.3.2.se.conv_expand.bias True\n",
      "backbone.blocks.3.2.conv_pwl.weight True\n",
      "backbone.blocks.3.2.bn3.weight True\n",
      "backbone.blocks.3.2.bn3.bias True\n",
      "backbone.blocks.3.3.conv_pw.weight True\n",
      "backbone.blocks.3.3.bn1.weight True\n",
      "backbone.blocks.3.3.bn1.bias True\n",
      "backbone.blocks.3.3.conv_dw.weight True\n",
      "backbone.blocks.3.3.bn2.weight True\n",
      "backbone.blocks.3.3.bn2.bias True\n",
      "backbone.blocks.3.3.se.conv_reduce.weight True\n",
      "backbone.blocks.3.3.se.conv_reduce.bias True\n",
      "backbone.blocks.3.3.se.conv_expand.weight True\n",
      "backbone.blocks.3.3.se.conv_expand.bias True\n",
      "backbone.blocks.3.3.conv_pwl.weight True\n",
      "backbone.blocks.3.3.bn3.weight True\n",
      "backbone.blocks.3.3.bn3.bias True\n",
      "backbone.blocks.3.4.conv_pw.weight True\n",
      "backbone.blocks.3.4.bn1.weight True\n",
      "backbone.blocks.3.4.bn1.bias True\n",
      "backbone.blocks.3.4.conv_dw.weight True\n",
      "backbone.blocks.3.4.bn2.weight True\n",
      "backbone.blocks.3.4.bn2.bias True\n",
      "backbone.blocks.3.4.se.conv_reduce.weight True\n",
      "backbone.blocks.3.4.se.conv_reduce.bias True\n",
      "backbone.blocks.3.4.se.conv_expand.weight True\n",
      "backbone.blocks.3.4.se.conv_expand.bias True\n",
      "backbone.blocks.3.4.conv_pwl.weight True\n",
      "backbone.blocks.3.4.bn3.weight True\n",
      "backbone.blocks.3.4.bn3.bias True\n",
      "backbone.blocks.4.0.conv_pw.weight True\n",
      "backbone.blocks.4.0.bn1.weight True\n",
      "backbone.blocks.4.0.bn1.bias True\n",
      "backbone.blocks.4.0.conv_dw.weight True\n",
      "backbone.blocks.4.0.bn2.weight True\n",
      "backbone.blocks.4.0.bn2.bias True\n",
      "backbone.blocks.4.0.se.conv_reduce.weight True\n",
      "backbone.blocks.4.0.se.conv_reduce.bias True\n",
      "backbone.blocks.4.0.se.conv_expand.weight True\n",
      "backbone.blocks.4.0.se.conv_expand.bias True\n",
      "backbone.blocks.4.0.conv_pwl.weight True\n",
      "backbone.blocks.4.0.bn3.weight True\n",
      "backbone.blocks.4.0.bn3.bias True\n",
      "backbone.blocks.4.1.conv_pw.weight True\n",
      "backbone.blocks.4.1.bn1.weight True\n",
      "backbone.blocks.4.1.bn1.bias True\n",
      "backbone.blocks.4.1.conv_dw.weight True\n",
      "backbone.blocks.4.1.bn2.weight True\n",
      "backbone.blocks.4.1.bn2.bias True\n",
      "backbone.blocks.4.1.se.conv_reduce.weight True\n",
      "backbone.blocks.4.1.se.conv_reduce.bias True\n",
      "backbone.blocks.4.1.se.conv_expand.weight True\n",
      "backbone.blocks.4.1.se.conv_expand.bias True\n",
      "backbone.blocks.4.1.conv_pwl.weight True\n",
      "backbone.blocks.4.1.bn3.weight True\n",
      "backbone.blocks.4.1.bn3.bias True\n",
      "backbone.blocks.4.2.conv_pw.weight True\n",
      "backbone.blocks.4.2.bn1.weight True\n",
      "backbone.blocks.4.2.bn1.bias True\n",
      "backbone.blocks.4.2.conv_dw.weight True\n",
      "backbone.blocks.4.2.bn2.weight True\n",
      "backbone.blocks.4.2.bn2.bias True\n",
      "backbone.blocks.4.2.se.conv_reduce.weight True\n",
      "backbone.blocks.4.2.se.conv_reduce.bias True\n",
      "backbone.blocks.4.2.se.conv_expand.weight True\n",
      "backbone.blocks.4.2.se.conv_expand.bias True\n",
      "backbone.blocks.4.2.conv_pwl.weight True\n",
      "backbone.blocks.4.2.bn3.weight True\n",
      "backbone.blocks.4.2.bn3.bias True\n",
      "backbone.blocks.4.3.conv_pw.weight True\n",
      "backbone.blocks.4.3.bn1.weight True\n",
      "backbone.blocks.4.3.bn1.bias True\n",
      "backbone.blocks.4.3.conv_dw.weight True\n",
      "backbone.blocks.4.3.bn2.weight True\n",
      "backbone.blocks.4.3.bn2.bias True\n",
      "backbone.blocks.4.3.se.conv_reduce.weight True\n",
      "backbone.blocks.4.3.se.conv_reduce.bias True\n",
      "backbone.blocks.4.3.se.conv_expand.weight True\n",
      "backbone.blocks.4.3.se.conv_expand.bias True\n",
      "backbone.blocks.4.3.conv_pwl.weight True\n",
      "backbone.blocks.4.3.bn3.weight True\n",
      "backbone.blocks.4.3.bn3.bias True\n",
      "backbone.blocks.4.4.conv_pw.weight True\n",
      "backbone.blocks.4.4.bn1.weight True\n",
      "backbone.blocks.4.4.bn1.bias True\n",
      "backbone.blocks.4.4.conv_dw.weight True\n",
      "backbone.blocks.4.4.bn2.weight True\n",
      "backbone.blocks.4.4.bn2.bias True\n",
      "backbone.blocks.4.4.se.conv_reduce.weight True\n",
      "backbone.blocks.4.4.se.conv_reduce.bias True\n",
      "backbone.blocks.4.4.se.conv_expand.weight True\n",
      "backbone.blocks.4.4.se.conv_expand.bias True\n",
      "backbone.blocks.4.4.conv_pwl.weight True\n",
      "backbone.blocks.4.4.bn3.weight True\n",
      "backbone.blocks.4.4.bn3.bias True\n",
      "backbone.blocks.5.0.conv_pw.weight True\n",
      "backbone.blocks.5.0.bn1.weight True\n",
      "backbone.blocks.5.0.bn1.bias True\n",
      "backbone.blocks.5.0.conv_dw.weight True\n",
      "backbone.blocks.5.0.bn2.weight True\n",
      "backbone.blocks.5.0.bn2.bias True\n",
      "backbone.blocks.5.0.se.conv_reduce.weight True\n",
      "backbone.blocks.5.0.se.conv_reduce.bias True\n",
      "backbone.blocks.5.0.se.conv_expand.weight True\n",
      "backbone.blocks.5.0.se.conv_expand.bias True\n",
      "backbone.blocks.5.0.conv_pwl.weight True\n",
      "backbone.blocks.5.0.bn3.weight True\n",
      "backbone.blocks.5.0.bn3.bias True\n",
      "backbone.blocks.5.1.conv_pw.weight True\n",
      "backbone.blocks.5.1.bn1.weight True\n",
      "backbone.blocks.5.1.bn1.bias True\n",
      "backbone.blocks.5.1.conv_dw.weight True\n",
      "backbone.blocks.5.1.bn2.weight True\n",
      "backbone.blocks.5.1.bn2.bias True\n",
      "backbone.blocks.5.1.se.conv_reduce.weight True\n",
      "backbone.blocks.5.1.se.conv_reduce.bias True\n",
      "backbone.blocks.5.1.se.conv_expand.weight True\n",
      "backbone.blocks.5.1.se.conv_expand.bias True\n",
      "backbone.blocks.5.1.conv_pwl.weight True\n",
      "backbone.blocks.5.1.bn3.weight True\n",
      "backbone.blocks.5.1.bn3.bias True\n",
      "backbone.blocks.5.2.conv_pw.weight True\n",
      "backbone.blocks.5.2.bn1.weight True\n",
      "backbone.blocks.5.2.bn1.bias True\n",
      "backbone.blocks.5.2.conv_dw.weight True\n",
      "backbone.blocks.5.2.bn2.weight True\n",
      "backbone.blocks.5.2.bn2.bias True\n",
      "backbone.blocks.5.2.se.conv_reduce.weight True\n",
      "backbone.blocks.5.2.se.conv_reduce.bias True\n",
      "backbone.blocks.5.2.se.conv_expand.weight True\n",
      "backbone.blocks.5.2.se.conv_expand.bias True\n",
      "backbone.blocks.5.2.conv_pwl.weight True\n",
      "backbone.blocks.5.2.bn3.weight True\n",
      "backbone.blocks.5.2.bn3.bias True\n",
      "backbone.blocks.5.3.conv_pw.weight True\n",
      "backbone.blocks.5.3.bn1.weight True\n",
      "backbone.blocks.5.3.bn1.bias True\n",
      "backbone.blocks.5.3.conv_dw.weight True\n",
      "backbone.blocks.5.3.bn2.weight True\n",
      "backbone.blocks.5.3.bn2.bias True\n",
      "backbone.blocks.5.3.se.conv_reduce.weight True\n",
      "backbone.blocks.5.3.se.conv_reduce.bias True\n",
      "backbone.blocks.5.3.se.conv_expand.weight True\n",
      "backbone.blocks.5.3.se.conv_expand.bias True\n",
      "backbone.blocks.5.3.conv_pwl.weight True\n",
      "backbone.blocks.5.3.bn3.weight True\n",
      "backbone.blocks.5.3.bn3.bias True\n",
      "backbone.blocks.5.4.conv_pw.weight True\n",
      "backbone.blocks.5.4.bn1.weight True\n",
      "backbone.blocks.5.4.bn1.bias True\n",
      "backbone.blocks.5.4.conv_dw.weight True\n",
      "backbone.blocks.5.4.bn2.weight True\n",
      "backbone.blocks.5.4.bn2.bias True\n",
      "backbone.blocks.5.4.se.conv_reduce.weight True\n",
      "backbone.blocks.5.4.se.conv_reduce.bias True\n",
      "backbone.blocks.5.4.se.conv_expand.weight True\n",
      "backbone.blocks.5.4.se.conv_expand.bias True\n",
      "backbone.blocks.5.4.conv_pwl.weight True\n",
      "backbone.blocks.5.4.bn3.weight True\n",
      "backbone.blocks.5.4.bn3.bias True\n",
      "backbone.blocks.5.5.conv_pw.weight True\n",
      "backbone.blocks.5.5.bn1.weight True\n",
      "backbone.blocks.5.5.bn1.bias True\n",
      "backbone.blocks.5.5.conv_dw.weight True\n",
      "backbone.blocks.5.5.bn2.weight True\n",
      "backbone.blocks.5.5.bn2.bias True\n",
      "backbone.blocks.5.5.se.conv_reduce.weight True\n",
      "backbone.blocks.5.5.se.conv_reduce.bias True\n",
      "backbone.blocks.5.5.se.conv_expand.weight True\n",
      "backbone.blocks.5.5.se.conv_expand.bias True\n",
      "backbone.blocks.5.5.conv_pwl.weight True\n",
      "backbone.blocks.5.5.bn3.weight True\n",
      "backbone.blocks.5.5.bn3.bias True\n",
      "backbone.blocks.6.0.conv_pw.weight True\n",
      "backbone.blocks.6.0.bn1.weight True\n",
      "backbone.blocks.6.0.bn1.bias True\n",
      "backbone.blocks.6.0.conv_dw.weight True\n",
      "backbone.blocks.6.0.bn2.weight True\n",
      "backbone.blocks.6.0.bn2.bias True\n",
      "backbone.blocks.6.0.se.conv_reduce.weight True\n",
      "backbone.blocks.6.0.se.conv_reduce.bias True\n",
      "backbone.blocks.6.0.se.conv_expand.weight True\n",
      "backbone.blocks.6.0.se.conv_expand.bias True\n",
      "backbone.blocks.6.0.conv_pwl.weight True\n",
      "backbone.blocks.6.0.bn3.weight True\n",
      "backbone.blocks.6.0.bn3.bias True\n",
      "backbone.blocks.6.1.conv_pw.weight True\n",
      "backbone.blocks.6.1.bn1.weight True\n",
      "backbone.blocks.6.1.bn1.bias True\n",
      "backbone.blocks.6.1.conv_dw.weight True\n",
      "backbone.blocks.6.1.bn2.weight True\n",
      "backbone.blocks.6.1.bn2.bias True\n",
      "backbone.blocks.6.1.se.conv_reduce.weight True\n",
      "backbone.blocks.6.1.se.conv_reduce.bias True\n",
      "backbone.blocks.6.1.se.conv_expand.weight True\n",
      "backbone.blocks.6.1.se.conv_expand.bias True\n",
      "backbone.blocks.6.1.conv_pwl.weight True\n",
      "backbone.blocks.6.1.bn3.weight True\n",
      "backbone.blocks.6.1.bn3.bias True\n",
      "backbone.conv_head.weight True\n",
      "backbone.bn2.weight True\n",
      "backbone.bn2.bias True\n",
      "fcs_1.0.weight True\n",
      "fcs_1.0.bias True\n",
      "_rnn.weight_ih_l0 True\n",
      "_rnn.weight_hh_l0 True\n",
      "_rnn.bias_ih_l0 True\n",
      "_rnn.bias_hh_l0 True\n",
      "_fcs_2.0.weight True\n",
      "_fcs_2.0.bias True\n",
      "_fcs_2.3.weight True\n",
      "_fcs_2.3.bias True\n",
      "obsnet.fcs.0.weight True\n",
      "obsnet.fcs.0.bias True\n",
      "obsnet.fcs.3.weight True\n",
      "obsnet.fcs.3.bias True\n"
     ]
    }
   ],
   "source": [
    "for n, p in m.named_parameters():\n",
    "    \"\"\"if 'fcs_2' in n:\n",
    "        p.requires_grad = True\n",
    "    else:\n",
    "        p.requires_grad = False\"\"\"\n",
    "        \n",
    "    print(n, p.requires_grad)"
   ]
  },
  {
   "cell_type": "code",
   "execution_count": null,
   "metadata": {},
   "outputs": [],
   "source": []
  },
  {
   "cell_type": "code",
   "execution_count": 10,
   "metadata": {
    "scrolled": true
   },
   "outputs": [],
   "source": [
    "model_stem = \"8.18\"\n",
    "START_E = 41"
   ]
  },
  {
   "cell_type": "code",
   "execution_count": 11,
   "metadata": {
    "scrolled": true
   },
   "outputs": [
    {
     "name": "stdout",
     "output_type": "stream",
     "text": [
      "EPOCH 41\n",
      "\n",
      "{'trn_control_loss': 0.01581389, 'trn_headings_loss': 0.00063017, 'trn_curvatures_loss': 0.00279755, 'consistency losses/trn_steer_cost': 0.00391287, 'consistency losses/trn_te_loss': 18.33482116, 'aux losses/trn_pitch_loss': 0.15289068, 'aux losses/trn_yaw_loss': 0.25556803, 'consistency losses/trn_%_updates_w_torque_delta_loss': 0.3984375, 'consistency losses/trn_torque_loss': 579.56360302, 'consistency losses/trn_torque_delta_loss': 11.2082254, 'logistical/obs_consumed_per_second': 233.7007874, 'logistical/obs_generated_per_second': 102.37007874, 'logistical/data_consumption_ratio': 2.28194458, 'logistical/manual_train_pause': 7.874e-05, 'logistical/max_param': 16.16862297, 'logistical/lr': 0.0006}\n",
      "{'logistical/obs_consumed_per_second': 232.484375, 'logistical/obs_generated_per_second': 99.078125, 'logistical/data_consumption_ratio': 2.34524522, 'logistical/manual_train_pause': 0.00039062, 'trn_control_loss': 0.02720147, 'trn_headings_loss': 0.00108948, 'trn_curvatures_loss': 0.00434215, 'consistency losses/trn_steer_cost': 0.00865061, 'consistency losses/trn_te_loss': 17.74777598, 'aux losses/trn_pitch_loss': 0.14614487, 'aux losses/trn_yaw_loss': 0.35035992, 'consistency losses/trn_%_updates_w_torque_delta_loss': 0.4453125, 'consistency losses/trn_torque_loss': 635.980111, 'consistency losses/trn_torque_delta_loss': 23.57462402, 'logistical/max_param': 16.18054962, 'logistical/lr': 0.0006}\n",
      "{'logistical/obs_consumed_per_second': 229.953125, 'logistical/obs_generated_per_second': 110.8046875, 'logistical/data_consumption_ratio': 2.07520077, 'logistical/manual_train_pause': 0.0, 'trn_control_loss': 0.01989764, 'trn_headings_loss': 0.00083235, 'trn_curvatures_loss': 0.00328305, 'consistency losses/trn_steer_cost': 0.00604551, 'consistency losses/trn_te_loss': 16.65713108, 'aux losses/trn_pitch_loss': 0.22182012, 'aux losses/trn_yaw_loss': 0.34632778, 'consistency losses/trn_%_updates_w_torque_delta_loss': 0.375, 'consistency losses/trn_torque_loss': 692.08419061, 'consistency losses/trn_torque_delta_loss': 15.47945897, 'logistical/max_param': 16.18084335, 'logistical/lr': 0.0006}\n",
      "{'logistical/obs_consumed_per_second': 231.0703125, 'logistical/obs_generated_per_second': 104.90625, 'logistical/data_consumption_ratio': 2.19944661, 'logistical/manual_train_pause': 0.0, 'trn_control_loss': 0.01752716, 'trn_headings_loss': 0.00077633, 'trn_curvatures_loss': 0.00321195, 'consistency losses/trn_steer_cost': 0.00482222, 'consistency losses/trn_te_loss': 18.48507521, 'aux losses/trn_pitch_loss': 0.16789675, 'aux losses/trn_yaw_loss': 0.27555943, 'consistency losses/trn_%_updates_w_torque_delta_loss': 0.40625, 'consistency losses/trn_torque_loss': 657.68999684, 'consistency losses/trn_torque_delta_loss': 15.34900478, 'logistical/max_param': 16.18244171, 'logistical/lr': 0.0006}\n",
      "{'logistical/obs_consumed_per_second': 238.9375, 'logistical/obs_generated_per_second': 102.6015625, 'logistical/data_consumption_ratio': 2.32880011, 'logistical/manual_train_pause': 0.0, 'trn_control_loss': 0.0230298, 'trn_headings_loss': 0.00095144, 'trn_curvatures_loss': 0.00370581, 'consistency losses/trn_steer_cost': 0.00550061, 'consistency losses/trn_te_loss': 17.24313797, 'aux losses/trn_pitch_loss': 0.15667105, 'aux losses/trn_yaw_loss': 0.39482307, 'consistency losses/trn_%_updates_w_torque_delta_loss': 0.4296875, 'consistency losses/trn_torque_loss': 634.27464455, 'consistency losses/trn_torque_delta_loss': 11.0692292, 'logistical/max_param': 16.18722534, 'logistical/lr': 0.0006}\n",
      "{'logistical/obs_consumed_per_second': 240.515625, 'logistical/obs_generated_per_second': 101.7578125, 'logistical/data_consumption_ratio': 2.3596119, 'logistical/manual_train_pause': 0.0, 'trn_control_loss': 0.02290457, 'trn_headings_loss': 0.00092627, 'trn_curvatures_loss': 0.00327358, 'consistency losses/trn_steer_cost': 0.00543594, 'consistency losses/trn_te_loss': 17.71705539, 'aux losses/trn_pitch_loss': 0.21033764, 'aux losses/trn_yaw_loss': 0.35943031, 'consistency losses/trn_%_updates_w_torque_delta_loss': 0.3828125, 'consistency losses/trn_torque_loss': 538.47134654, 'consistency losses/trn_torque_delta_loss': 10.4619675, 'logistical/max_param': 16.18924522, 'logistical/lr': 0.0006}\n",
      "{'logistical/obs_consumed_per_second': 235.0859375, 'logistical/obs_generated_per_second': 104.8125, 'logistical/data_consumption_ratio': 2.2401771, 'logistical/manual_train_pause': 0.0, 'trn_control_loss': 0.0226934, 'trn_headings_loss': 0.00095499, 'trn_curvatures_loss': 0.00423315, 'consistency losses/trn_steer_cost': 0.00578544, 'consistency losses/trn_te_loss': 17.19301757, 'aux losses/trn_pitch_loss': 0.1809926, 'aux losses/trn_yaw_loss': 0.43765736, 'consistency losses/trn_%_updates_w_torque_delta_loss': 0.296875, 'consistency losses/trn_torque_loss': 646.92722974, 'consistency losses/trn_torque_delta_loss': 8.79214665, 'logistical/max_param': 16.16845512, 'logistical/lr': 0.0006}\n",
      "{'logistical/obs_consumed_per_second': 240.2734375, 'logistical/obs_generated_per_second': 104.1875, 'logistical/data_consumption_ratio': 2.30539393, 'logistical/manual_train_pause': 0.0, 'trn_control_loss': 0.01495677, 'trn_headings_loss': 0.00064998, 'trn_curvatures_loss': 0.00270398, 'consistency losses/trn_steer_cost': 0.00485446, 'consistency losses/trn_te_loss': 17.59329661, 'aux losses/trn_pitch_loss': 0.16256046, 'aux losses/trn_yaw_loss': 0.3754549, 'consistency losses/trn_%_updates_w_torque_delta_loss': 0.328125, 'consistency losses/trn_torque_loss': 571.36642503, 'consistency losses/trn_torque_delta_loss': 15.02556906, 'logistical/max_param': 16.18731117, 'logistical/lr': 0.0006}\n",
      "{'logistical/obs_consumed_per_second': 227.8984375, 'logistical/obs_generated_per_second': 102.0859375, 'logistical/data_consumption_ratio': 2.2305428, 'logistical/manual_train_pause': 0.0, 'trn_control_loss': 0.01508334, 'trn_headings_loss': 0.00066616, 'trn_curvatures_loss': 0.00254452, 'consistency losses/trn_steer_cost': 0.00471438, 'consistency losses/trn_te_loss': 18.49152109, 'aux losses/trn_pitch_loss': 0.21650171, 'aux losses/trn_yaw_loss': 0.3075161, 'consistency losses/trn_%_updates_w_torque_delta_loss': 0.3359375, 'consistency losses/trn_torque_loss': 703.4989774, 'consistency losses/trn_torque_delta_loss': 13.54620207, 'logistical/max_param': 16.18024445, 'logistical/lr': 0.0006}\n",
      "{'logistical/obs_consumed_per_second': 237.1328125, 'logistical/obs_generated_per_second': 105.6875, 'logistical/data_consumption_ratio': 2.24615483, 'logistical/manual_train_pause': 0.0, 'trn_control_loss': 0.02672988, 'trn_headings_loss': 0.00104852, 'trn_curvatures_loss': 0.0047313, 'consistency losses/trn_steer_cost': 0.00723304, 'consistency losses/trn_te_loss': 17.50741979, 'aux losses/trn_pitch_loss': 0.17816973, 'aux losses/trn_yaw_loss': 0.39468765, 'consistency losses/trn_%_updates_w_torque_delta_loss': 0.3203125, 'consistency losses/trn_torque_loss': 640.875519, 'consistency losses/trn_torque_delta_loss': 9.47292403, 'logistical/max_param': 16.17339325, 'logistical/lr': 0.0006}\n",
      "{'logistical/obs_consumed_per_second': 189.0, 'logistical/obs_generated_per_second': 110.0, 'logistical/data_consumption_ratio': 1.71652609, 'logistical/manual_train_pause': 0.0}\n",
      "\n",
      "\n",
      " Eval...\n",
      "EPOCH 42\n",
      "\n",
      "{'trn_control_loss': 0.02371001, 'trn_headings_loss': 0.00092684, 'trn_curvatures_loss': 0.00480105, 'consistency losses/trn_steer_cost': 0.00622301, 'consistency losses/trn_te_loss': 18.1604396, 'aux losses/trn_pitch_loss': 0.15620756, 'aux losses/trn_yaw_loss': 0.35185623, 'consistency losses/trn_%_updates_w_torque_delta_loss': 0.4453125, 'consistency losses/trn_torque_loss': 689.15104563, 'consistency losses/trn_torque_delta_loss': 9.41103501, 'logistical/obs_consumed_per_second': 237.00787402, 'logistical/obs_generated_per_second': 104.41732283, 'logistical/data_consumption_ratio': 2.26824629, 'logistical/manual_train_pause': 0.0, 'logistical/max_param': 16.16351318, 'logistical/lr': 0.0006}\n",
      "{'logistical/obs_consumed_per_second': 231.8828125, 'logistical/obs_generated_per_second': 104.78125, 'logistical/data_consumption_ratio': 2.21073186, 'logistical/manual_train_pause': 0.0, 'trn_control_loss': 0.01343945, 'trn_headings_loss': 0.00062238, 'trn_curvatures_loss': 0.00221391, 'consistency losses/trn_steer_cost': 0.00407644, 'consistency losses/trn_te_loss': 18.23017082, 'aux losses/trn_pitch_loss': 0.15245962, 'aux losses/trn_yaw_loss': 0.27044392, 'consistency losses/trn_%_updates_w_torque_delta_loss': 0.25, 'consistency losses/trn_torque_loss': 534.45480508, 'consistency losses/trn_torque_delta_loss': 8.8722047, 'logistical/max_param': 16.16610909, 'logistical/lr': 0.0006}\n"
     ]
    },
    {
     "name": "stdout",
     "output_type": "stream",
     "text": [
      "{'logistical/obs_consumed_per_second': 230.8046875, 'logistical/obs_generated_per_second': 105.875, 'logistical/data_consumption_ratio': 2.17787128, 'logistical/manual_train_pause': 0.0, 'trn_control_loss': 0.02196115, 'trn_headings_loss': 0.00097382, 'trn_curvatures_loss': 0.00467774, 'consistency losses/trn_steer_cost': 0.00692801, 'consistency losses/trn_te_loss': 18.58684673, 'aux losses/trn_pitch_loss': 0.15756273, 'aux losses/trn_yaw_loss': 0.29877806, 'consistency losses/trn_%_updates_w_torque_delta_loss': 0.4140625, 'consistency losses/trn_torque_loss': 601.76775145, 'consistency losses/trn_torque_delta_loss': 8.67015071, 'logistical/max_param': 16.17409706, 'logistical/lr': 0.0006}\n",
      "{'logistical/obs_consumed_per_second': 234.9453125, 'logistical/obs_generated_per_second': 105.25, 'logistical/data_consumption_ratio': 2.23542029, 'logistical/manual_train_pause': 0.0, 'trn_control_loss': 0.01822388, 'trn_headings_loss': 0.00079164, 'trn_curvatures_loss': 0.00317159, 'consistency losses/trn_steer_cost': 0.00583899, 'consistency losses/trn_te_loss': 17.42092438, 'aux losses/trn_pitch_loss': 0.17376041, 'aux losses/trn_yaw_loss': 0.37173557, 'consistency losses/trn_%_updates_w_torque_delta_loss': 0.3046875, 'consistency losses/trn_torque_loss': 555.70158582, 'consistency losses/trn_torque_delta_loss': 8.35858591, 'logistical/max_param': 16.1700592, 'logistical/lr': 0.0006}\n",
      "{'logistical/obs_consumed_per_second': 235.03125, 'logistical/obs_generated_per_second': 108.796875, 'logistical/data_consumption_ratio': 2.15789215, 'logistical/manual_train_pause': 0.0, 'trn_control_loss': 0.01833695, 'trn_headings_loss': 0.00080922, 'trn_curvatures_loss': 0.00355754, 'consistency losses/trn_steer_cost': 0.00560349, 'consistency losses/trn_te_loss': 17.69308811, 'aux losses/trn_pitch_loss': 0.24130774, 'aux losses/trn_yaw_loss': 0.37025738, 'consistency losses/trn_%_updates_w_torque_delta_loss': 0.3046875, 'consistency losses/trn_torque_loss': 591.69829095, 'consistency losses/trn_torque_delta_loss': 6.44472866, 'logistical/max_param': 16.17421341, 'logistical/lr': 0.0006}\n",
      "{'logistical/obs_consumed_per_second': 230.65625, 'logistical/obs_generated_per_second': 104.6328125, 'logistical/data_consumption_ratio': 2.20376018, 'logistical/manual_train_pause': 0.0, 'trn_control_loss': 0.01314062, 'trn_headings_loss': 0.00057613, 'trn_curvatures_loss': 0.00224776, 'consistency losses/trn_steer_cost': 0.00347584, 'consistency losses/trn_te_loss': 19.43614648, 'aux losses/trn_pitch_loss': 0.16504955, 'aux losses/trn_yaw_loss': 0.24051857, 'consistency losses/trn_%_updates_w_torque_delta_loss': 0.484375, 'consistency losses/trn_torque_loss': 679.17063498, 'consistency losses/trn_torque_delta_loss': 6.68660551, 'logistical/max_param': 16.16918945, 'logistical/lr': 0.0006}\n",
      "{'logistical/obs_consumed_per_second': 233.421875, 'logistical/obs_generated_per_second': 105.0625, 'logistical/data_consumption_ratio': 2.21935862, 'logistical/manual_train_pause': 0.0, 'trn_control_loss': 0.0181495, 'trn_headings_loss': 0.00072841, 'trn_curvatures_loss': 0.00316719, 'consistency losses/trn_steer_cost': 0.00492615, 'consistency losses/trn_te_loss': 18.67860664, 'aux losses/trn_pitch_loss': 0.16169691, 'aux losses/trn_yaw_loss': 0.36798286, 'consistency losses/trn_%_updates_w_torque_delta_loss': 0.3515625, 'consistency losses/trn_torque_loss': 660.86766508, 'consistency losses/trn_torque_delta_loss': 6.9736848, 'logistical/max_param': 16.17853928, 'logistical/lr': 0.0006}\n",
      "{'logistical/obs_consumed_per_second': 231.90625, 'logistical/obs_generated_per_second': 104.4296875, 'logistical/data_consumption_ratio': 2.22349991, 'logistical/manual_train_pause': 0.0, 'trn_control_loss': 0.0125975, 'trn_headings_loss': 0.00058475, 'trn_curvatures_loss': 0.00238384, 'consistency losses/trn_steer_cost': 0.00408979, 'consistency losses/trn_te_loss': 18.61296733, 'aux losses/trn_pitch_loss': 0.18816781, 'aux losses/trn_yaw_loss': 0.31985283, 'consistency losses/trn_%_updates_w_torque_delta_loss': 0.3359375, 'consistency losses/trn_torque_loss': 890.98176318, 'consistency losses/trn_torque_delta_loss': 12.3784362, 'logistical/max_param': 16.18240738, 'logistical/lr': 0.0006}\n",
      "{'logistical/obs_consumed_per_second': 239.53125, 'logistical/obs_generated_per_second': 99.7734375, 'logistical/data_consumption_ratio': 2.40613966, 'logistical/manual_train_pause': 7.812e-05, 'trn_control_loss': 0.01736608, 'trn_headings_loss': 0.00068746, 'trn_curvatures_loss': 0.00282328, 'consistency losses/trn_steer_cost': 0.00504594, 'consistency losses/trn_te_loss': 19.38846183, 'aux losses/trn_pitch_loss': 0.14354515, 'aux losses/trn_yaw_loss': 0.26955986, 'consistency losses/trn_%_updates_w_torque_delta_loss': 0.3828125, 'consistency losses/trn_torque_loss': 594.2660455, 'consistency losses/trn_torque_delta_loss': 15.6806003, 'logistical/max_param': 16.18216705, 'logistical/lr': 0.0006}\n",
      "{'logistical/obs_consumed_per_second': 232.2734375, 'logistical/obs_generated_per_second': 99.6171875, 'logistical/data_consumption_ratio': 2.33624108, 'logistical/manual_train_pause': 0.00046875, 'trn_control_loss': 0.02091146, 'trn_headings_loss': 0.00083396, 'trn_curvatures_loss': 0.00290742, 'consistency losses/trn_steer_cost': 0.0054106, 'consistency losses/trn_te_loss': 18.63216573, 'aux losses/trn_pitch_loss': 0.1601634, 'aux losses/trn_yaw_loss': 0.35834599, 'consistency losses/trn_%_updates_w_torque_delta_loss': 0.4453125, 'consistency losses/trn_torque_loss': 577.42632693, 'consistency losses/trn_torque_delta_loss': 9.29735226, 'logistical/max_param': 16.16771698, 'logistical/lr': 0.0006}\n",
      "{'logistical/obs_consumed_per_second': 166.0, 'logistical/obs_generated_per_second': 105.0, 'logistical/data_consumption_ratio': 1.58227017, 'logistical/manual_train_pause': 0.0}\n",
      "\n",
      "\n",
      " Eval...\n",
      "EPOCH 43\n",
      "\n",
      "{'trn_control_loss': 0.01866657, 'trn_headings_loss': 0.00086214, 'trn_curvatures_loss': 0.00317564, 'consistency losses/trn_steer_cost': 0.00547829, 'consistency losses/trn_te_loss': 17.82643601, 'aux losses/trn_pitch_loss': 0.19161606, 'aux losses/trn_yaw_loss': 0.36715412, 'consistency losses/trn_%_updates_w_torque_delta_loss': 0.3515625, 'consistency losses/trn_torque_loss': 703.86532316, 'consistency losses/trn_torque_delta_loss': 8.98743354, 'logistical/obs_consumed_per_second': 236.31496063, 'logistical/obs_generated_per_second': 102.91338583, 'logistical/data_consumption_ratio': 2.29966717, 'logistical/manual_train_pause': 0.0, 'logistical/max_param': 16.16767311, 'logistical/lr': 0.0006}\n",
      "{'logistical/obs_consumed_per_second': 232.859375, 'logistical/obs_generated_per_second': 104.25, 'logistical/data_consumption_ratio': 2.23518635, 'logistical/manual_train_pause': 0.0, 'trn_control_loss': 0.02059704, 'trn_headings_loss': 0.00080695, 'trn_curvatures_loss': 0.00293153, 'consistency losses/trn_steer_cost': 0.00579073, 'consistency losses/trn_te_loss': 18.90127596, 'aux losses/trn_pitch_loss': 0.22817326, 'aux losses/trn_yaw_loss': 0.30417728, 'consistency losses/trn_%_updates_w_torque_delta_loss': 0.5703125, 'consistency losses/trn_torque_loss': 846.48191431, 'consistency losses/trn_torque_delta_loss': 9.09897991, 'logistical/max_param': 16.16497421, 'logistical/lr': 0.0006}\n",
      "{'logistical/obs_consumed_per_second': 237.9296875, 'logistical/obs_generated_per_second': 101.234375, 'logistical/data_consumption_ratio': 2.3564697, 'logistical/manual_train_pause': 0.00078125, 'trn_control_loss': 0.02086842, 'trn_headings_loss': 0.00083237, 'trn_curvatures_loss': 0.00365252, 'consistency losses/trn_steer_cost': 0.00626509, 'consistency losses/trn_te_loss': 17.6102289, 'aux losses/trn_pitch_loss': 0.17922735, 'aux losses/trn_yaw_loss': 0.39083385, 'consistency losses/trn_%_updates_w_torque_delta_loss': 0.4375, 'consistency losses/trn_torque_loss': 655.80089683, 'consistency losses/trn_torque_delta_loss': 8.16673972, 'logistical/max_param': 16.15789986, 'logistical/lr': 0.0006}\n",
      "{'logistical/obs_consumed_per_second': 234.8515625, 'logistical/obs_generated_per_second': 101.9921875, 'logistical/data_consumption_ratio': 2.3016016, 'logistical/manual_train_pause': 0.0, 'trn_control_loss': 0.01688725, 'trn_headings_loss': 0.00077737, 'trn_curvatures_loss': 0.00311243, 'consistency losses/trn_steer_cost': 0.0056863, 'consistency losses/trn_te_loss': 17.85886085, 'aux losses/trn_pitch_loss': 0.17152786, 'aux losses/trn_yaw_loss': 0.32258511, 'consistency losses/trn_%_updates_w_torque_delta_loss': 0.4140625, 'consistency losses/trn_torque_loss': 740.03776248, 'consistency losses/trn_torque_delta_loss': 9.90892938, 'logistical/max_param': 16.15255356, 'logistical/lr': 0.0006}\n"
     ]
    },
    {
     "name": "stdout",
     "output_type": "stream",
     "text": [
      "{'logistical/obs_consumed_per_second': 238.0625, 'logistical/obs_generated_per_second': 99.640625, 'logistical/data_consumption_ratio': 2.38621596, 'logistical/manual_train_pause': 0.0003125, 'trn_control_loss': 0.0142495, 'trn_headings_loss': 0.00059027, 'trn_curvatures_loss': 0.00249756, 'consistency losses/trn_steer_cost': 0.0046498, 'consistency losses/trn_te_loss': 18.21186168, 'aux losses/trn_pitch_loss': 0.1561203, 'aux losses/trn_yaw_loss': 0.27881241, 'consistency losses/trn_%_updates_w_torque_delta_loss': 0.3515625, 'consistency losses/trn_torque_loss': 666.11785126, 'consistency losses/trn_torque_delta_loss': 9.91148916, 'logistical/max_param': 16.15900612, 'logistical/lr': 0.0006}\n",
      "{'logistical/obs_consumed_per_second': 234.796875, 'logistical/obs_generated_per_second': 103.7109375, 'logistical/data_consumption_ratio': 2.26433399, 'logistical/manual_train_pause': 0.0, 'trn_control_loss': 0.0154531, 'trn_headings_loss': 0.00065613, 'trn_curvatures_loss': 0.00252882, 'consistency losses/trn_steer_cost': 0.00465566, 'consistency losses/trn_te_loss': 17.84502529, 'aux losses/trn_pitch_loss': 0.15056038, 'aux losses/trn_yaw_loss': 0.33015871, 'consistency losses/trn_%_updates_w_torque_delta_loss': 0.3828125, 'consistency losses/trn_torque_loss': 636.71356179, 'consistency losses/trn_torque_delta_loss': 9.79208969, 'logistical/max_param': 16.15494728, 'logistical/lr': 0.0006}\n",
      "{'logistical/obs_consumed_per_second': 235.71875, 'logistical/obs_generated_per_second': 104.625, 'logistical/data_consumption_ratio': 2.25555644, 'logistical/manual_train_pause': 0.0, 'trn_control_loss': 0.01203045, 'trn_headings_loss': 0.00048545, 'trn_curvatures_loss': 0.00211845, 'consistency losses/trn_steer_cost': 0.00407522, 'consistency losses/trn_te_loss': 18.6796945, 'aux losses/trn_pitch_loss': 0.12846136, 'aux losses/trn_yaw_loss': 0.27520084, 'consistency losses/trn_%_updates_w_torque_delta_loss': 0.28125, 'consistency losses/trn_torque_loss': 556.49561992, 'consistency losses/trn_torque_delta_loss': 7.48190631, 'logistical/max_param': 16.15947533, 'logistical/lr': 0.0006}\n",
      "{'logistical/obs_consumed_per_second': 234.8828125, 'logistical/obs_generated_per_second': 99.609375, 'logistical/data_consumption_ratio': 2.36351989, 'logistical/manual_train_pause': 0.00023438, 'trn_control_loss': 0.02193522, 'trn_headings_loss': 0.00091567, 'trn_curvatures_loss': 0.00412653, 'consistency losses/trn_steer_cost': 0.00694619, 'consistency losses/trn_te_loss': 18.84915727, 'aux losses/trn_pitch_loss': 0.22250748, 'aux losses/trn_yaw_loss': 0.29063892, 'consistency losses/trn_%_updates_w_torque_delta_loss': 0.4921875, 'consistency losses/trn_torque_loss': 644.28994736, 'consistency losses/trn_torque_delta_loss': 8.87222405, 'logistical/max_param': 16.15792465, 'logistical/lr': 0.0006}\n",
      "{'logistical/obs_consumed_per_second': 236.640625, 'logistical/obs_generated_per_second': 98.46875, 'logistical/data_consumption_ratio': 2.40071106, 'logistical/manual_train_pause': 0.00039062, 'trn_control_loss': 0.0276916, 'trn_headings_loss': 0.00107672, 'trn_curvatures_loss': 0.00442877, 'consistency losses/trn_steer_cost': 0.00633641, 'consistency losses/trn_te_loss': 17.27308538, 'aux losses/trn_pitch_loss': 0.19056845, 'aux losses/trn_yaw_loss': 0.48413372, 'consistency losses/trn_%_updates_w_torque_delta_loss': 0.5546875, 'consistency losses/trn_torque_loss': 621.12424153, 'consistency losses/trn_torque_delta_loss': 10.08798182, 'logistical/max_param': 16.14733315, 'logistical/lr': 0.0006}\n",
      "{'logistical/obs_consumed_per_second': 234.3359375, 'logistical/obs_generated_per_second': 102.8359375, 'logistical/data_consumption_ratio': 2.28219824, 'logistical/manual_train_pause': 0.0, 'trn_control_loss': 0.02048194, 'trn_headings_loss': 0.00087555, 'trn_curvatures_loss': 0.00316517, 'consistency losses/trn_steer_cost': 0.00508656, 'consistency losses/trn_te_loss': 18.9631115, 'aux losses/trn_pitch_loss': 0.21900797, 'aux losses/trn_yaw_loss': 0.44171906, 'consistency losses/trn_%_updates_w_torque_delta_loss': 0.484375, 'consistency losses/trn_torque_loss': 741.91167769, 'consistency losses/trn_torque_delta_loss': 9.78367374, 'logistical/max_param': 16.16573524, 'logistical/lr': 0.0006}\n",
      "{'logistical/obs_consumed_per_second': 175.0, 'logistical/obs_generated_per_second': 101.0, 'logistical/data_consumption_ratio': 1.72919782, 'logistical/manual_train_pause': 0.0}\n",
      "\n",
      "\n",
      " Eval...\n",
      "EPOCH 44\n",
      "\n",
      "{'trn_control_loss': 0.02174842, 'trn_headings_loss': 0.0008709, 'trn_curvatures_loss': 0.00346717, 'consistency losses/trn_steer_cost': 0.00583994, 'consistency losses/trn_te_loss': 18.15208191, 'aux losses/trn_pitch_loss': 0.1555829, 'aux losses/trn_yaw_loss': 0.38105679, 'consistency losses/trn_%_updates_w_torque_delta_loss': 0.5625, 'consistency losses/trn_torque_loss': 723.86172205, 'consistency losses/trn_torque_delta_loss': 9.31118079, 'logistical/obs_consumed_per_second': 230.30708661, 'logistical/obs_generated_per_second': 101.92125984, 'logistical/data_consumption_ratio': 2.26192611, 'logistical/manual_train_pause': 0.0, 'logistical/max_param': 16.16609001, 'logistical/lr': 0.0006}\n",
      "{'logistical/obs_consumed_per_second': 238.984375, 'logistical/obs_generated_per_second': 98.5703125, 'logistical/data_consumption_ratio': 2.42733666, 'logistical/manual_train_pause': 0.00132812, 'trn_control_loss': 0.01825702, 'trn_headings_loss': 0.0007194, 'trn_curvatures_loss': 0.00277466, 'consistency losses/trn_steer_cost': 0.00506453, 'consistency losses/trn_te_loss': 18.70701939, 'aux losses/trn_pitch_loss': 0.18492174, 'aux losses/trn_yaw_loss': 0.35364962, 'consistency losses/trn_%_updates_w_torque_delta_loss': 0.515625, 'consistency losses/trn_torque_loss': 688.96341418, 'consistency losses/trn_torque_delta_loss': 9.74053545, 'logistical/max_param': 16.16715813, 'logistical/lr': 0.0006}\n",
      "{'logistical/obs_consumed_per_second': 236.0859375, 'logistical/obs_generated_per_second': 99.4296875, 'logistical/data_consumption_ratio': 2.37370245, 'logistical/manual_train_pause': 0.00015625, 'trn_control_loss': 0.01219445, 'trn_headings_loss': 0.00050192, 'trn_curvatures_loss': 0.00197541, 'consistency losses/trn_steer_cost': 0.00378299, 'consistency losses/trn_te_loss': 19.66309522, 'aux losses/trn_pitch_loss': 0.1266346, 'aux losses/trn_yaw_loss': 0.22563553, 'consistency losses/trn_%_updates_w_torque_delta_loss': 0.2578125, 'consistency losses/trn_torque_loss': 671.91408037, 'consistency losses/trn_torque_delta_loss': 6.3338157, 'logistical/max_param': 16.16423225, 'logistical/lr': 0.0006}\n",
      "{'logistical/obs_consumed_per_second': 236.5546875, 'logistical/obs_generated_per_second': 104.1875, 'logistical/data_consumption_ratio': 2.27130903, 'logistical/manual_train_pause': 0.0, 'trn_control_loss': 0.01671213, 'trn_headings_loss': 0.00059469, 'trn_curvatures_loss': 0.00237408, 'consistency losses/trn_steer_cost': 0.00387473, 'consistency losses/trn_te_loss': 18.73807809, 'aux losses/trn_pitch_loss': 0.15612411, 'aux losses/trn_yaw_loss': 0.40407181, 'consistency losses/trn_%_updates_w_torque_delta_loss': 0.3359375, 'consistency losses/trn_torque_loss': 779.15630673, 'consistency losses/trn_torque_delta_loss': 8.3606038, 'logistical/max_param': 16.17248535, 'logistical/lr': 0.0006}\n",
      "{'logistical/obs_consumed_per_second': 231.2421875, 'logistical/obs_generated_per_second': 98.6328125, 'logistical/data_consumption_ratio': 2.34271945, 'logistical/manual_train_pause': 0.00054688, 'trn_control_loss': 0.01289845, 'trn_headings_loss': 0.00057667, 'trn_curvatures_loss': 0.00227637, 'consistency losses/trn_steer_cost': 0.00445172, 'consistency losses/trn_te_loss': 18.41623655, 'aux losses/trn_pitch_loss': 0.16764569, 'aux losses/trn_yaw_loss': 0.25509167, 'consistency losses/trn_%_updates_w_torque_delta_loss': 0.3203125, 'consistency losses/trn_torque_loss': 563.4796625, 'consistency losses/trn_torque_delta_loss': 11.3720065, 'logistical/max_param': 16.16819, 'logistical/lr': 0.0006}\n",
      "{'logistical/obs_consumed_per_second': 235.6640625, 'logistical/obs_generated_per_second': 109.4765625, 'logistical/data_consumption_ratio': 2.15628629, 'logistical/manual_train_pause': 0.0, 'trn_control_loss': 0.02874744, 'trn_headings_loss': 0.00113203, 'trn_curvatures_loss': 0.00519136, 'consistency losses/trn_steer_cost': 0.00833701, 'consistency losses/trn_te_loss': 19.76011326, 'aux losses/trn_pitch_loss': 0.17123032, 'aux losses/trn_yaw_loss': 0.37816954, 'consistency losses/trn_%_updates_w_torque_delta_loss': 0.5234375, 'consistency losses/trn_torque_loss': 671.68547803, 'consistency losses/trn_torque_delta_loss': 10.83548891, 'logistical/max_param': 16.17030716, 'logistical/lr': 0.0006}\n"
     ]
    },
    {
     "name": "stdout",
     "output_type": "stream",
     "text": [
      "{'logistical/obs_consumed_per_second': 238.703125, 'logistical/obs_generated_per_second': 107.8828125, 'logistical/data_consumption_ratio': 2.21978456, 'logistical/manual_train_pause': 0.00015625, 'trn_control_loss': 0.02068675, 'trn_headings_loss': 0.00080949, 'trn_curvatures_loss': 0.00313962, 'consistency losses/trn_steer_cost': 0.00601278, 'consistency losses/trn_te_loss': 19.40030244, 'aux losses/trn_pitch_loss': 0.12754941, 'aux losses/trn_yaw_loss': 0.3569603, 'consistency losses/trn_%_updates_w_torque_delta_loss': 0.5859375, 'consistency losses/trn_torque_loss': 724.03137183, 'consistency losses/trn_torque_delta_loss': 10.91964217, 'logistical/max_param': 16.16428947, 'logistical/lr': 0.0006}\n",
      "{'logistical/obs_consumed_per_second': 227.125, 'logistical/obs_generated_per_second': 97.6875, 'logistical/data_consumption_ratio': 2.32881825, 'logistical/manual_train_pause': 0.000625, 'trn_control_loss': 0.02138096, 'trn_headings_loss': 0.00084848, 'trn_curvatures_loss': 0.00442339, 'consistency losses/trn_steer_cost': 0.00699575, 'consistency losses/trn_te_loss': 18.37826893, 'aux losses/trn_pitch_loss': 0.17164278, 'aux losses/trn_yaw_loss': 0.34581947, 'consistency losses/trn_%_updates_w_torque_delta_loss': 0.421875, 'consistency losses/trn_torque_loss': 547.32499291, 'consistency losses/trn_torque_delta_loss': 7.49182809, 'logistical/max_param': 16.16592026, 'logistical/lr': 0.0006}\n",
      "{'logistical/obs_consumed_per_second': 234.8359375, 'logistical/obs_generated_per_second': 103.3203125, 'logistical/data_consumption_ratio': 2.27544611, 'logistical/manual_train_pause': 0.0, 'trn_control_loss': 0.01542088, 'trn_headings_loss': 0.00067475, 'trn_curvatures_loss': 0.00263415, 'consistency losses/trn_steer_cost': 0.00491062, 'consistency losses/trn_te_loss': 19.09710854, 'aux losses/trn_pitch_loss': 0.16050076, 'aux losses/trn_yaw_loss': 0.31207561, 'consistency losses/trn_%_updates_w_torque_delta_loss': 0.4375, 'consistency losses/trn_torque_loss': 675.09824198, 'consistency losses/trn_torque_delta_loss': 7.65265663, 'logistical/max_param': 16.16457748, 'logistical/lr': 0.0006}\n",
      "{'logistical/obs_consumed_per_second': 226.9921875, 'logistical/obs_generated_per_second': 103.5625, 'logistical/data_consumption_ratio': 2.19017672, 'logistical/manual_train_pause': 0.00023438, 'trn_control_loss': 0.01876265, 'trn_headings_loss': 0.00084204, 'trn_curvatures_loss': 0.00322759, 'consistency losses/trn_steer_cost': 0.00577828, 'consistency losses/trn_te_loss': 18.26876673, 'aux losses/trn_pitch_loss': 0.1687789, 'aux losses/trn_yaw_loss': 0.35238743, 'consistency losses/trn_%_updates_w_torque_delta_loss': 0.421875, 'consistency losses/trn_torque_loss': 521.65814715, 'consistency losses/trn_torque_delta_loss': 8.37058426, 'logistical/max_param': 16.17302513, 'logistical/lr': 0.0006}\n",
      "{'logistical/obs_consumed_per_second': 165.0, 'logistical/obs_generated_per_second': 96.0, 'logistical/data_consumption_ratio': 1.71547295, 'logistical/manual_train_pause': 0.01}\n",
      "\n",
      "\n",
      " Eval...\n",
      "EPOCH 45\n",
      "\n",
      "{'trn_control_loss': 0.01861155, 'trn_headings_loss': 0.00071552, 'trn_curvatures_loss': 0.00269918, 'consistency losses/trn_steer_cost': 0.00476727, 'consistency losses/trn_te_loss': 20.25928903, 'aux losses/trn_pitch_loss': 0.14402246, 'aux losses/trn_yaw_loss': 0.33307457, 'consistency losses/trn_%_updates_w_torque_delta_loss': 0.5625, 'consistency losses/trn_torque_loss': 761.901187, 'consistency losses/trn_torque_delta_loss': 10.1044409, 'logistical/obs_consumed_per_second': 228.49606299, 'logistical/obs_generated_per_second': 106.92913386, 'logistical/data_consumption_ratio': 2.13857186, 'logistical/manual_train_pause': 7.874e-05, 'logistical/max_param': 16.16508293, 'logistical/lr': 0.0006}\n",
      "{'logistical/obs_consumed_per_second': 234.015625, 'logistical/obs_generated_per_second': 107.296875, 'logistical/data_consumption_ratio': 2.17902247, 'logistical/manual_train_pause': 0.0, 'trn_control_loss': 0.01684374, 'trn_headings_loss': 0.00073396, 'trn_curvatures_loss': 0.00291557, 'consistency losses/trn_steer_cost': 0.00504567, 'consistency losses/trn_te_loss': 17.98772112, 'aux losses/trn_pitch_loss': 0.15491247, 'aux losses/trn_yaw_loss': 0.32706976, 'consistency losses/trn_%_updates_w_torque_delta_loss': 0.375, 'consistency losses/trn_torque_loss': 615.79709542, 'consistency losses/trn_torque_delta_loss': 7.9373651, 'logistical/max_param': 16.15657616, 'logistical/lr': 0.0006}\n",
      "{'logistical/obs_consumed_per_second': 240.390625, 'logistical/obs_generated_per_second': 103.59375, 'logistical/data_consumption_ratio': 2.32369251, 'logistical/manual_train_pause': 0.0, 'trn_control_loss': 0.01768425, 'trn_headings_loss': 0.00065471, 'trn_curvatures_loss': 0.00233619, 'consistency losses/trn_steer_cost': 0.00455552, 'consistency losses/trn_te_loss': 18.96364313, 'aux losses/trn_pitch_loss': 0.17125416, 'aux losses/trn_yaw_loss': 0.33678436, 'consistency losses/trn_%_updates_w_torque_delta_loss': 0.5078125, 'consistency losses/trn_torque_loss': 605.91028199, 'consistency losses/trn_torque_delta_loss': 8.52146781, 'logistical/max_param': 16.14796829, 'logistical/lr': 0.0006}\n",
      "{'logistical/obs_consumed_per_second': 234.4765625, 'logistical/obs_generated_per_second': 100.7421875, 'logistical/data_consumption_ratio': 2.33306977, 'logistical/manual_train_pause': 0.0009375, 'trn_control_loss': 0.0132634, 'trn_headings_loss': 0.00054728, 'trn_curvatures_loss': 0.00194464, 'consistency losses/trn_steer_cost': 0.00377861, 'consistency losses/trn_te_loss': 19.68763221, 'aux losses/trn_pitch_loss': 0.12872767, 'aux losses/trn_yaw_loss': 0.29015636, 'consistency losses/trn_%_updates_w_torque_delta_loss': 0.421875, 'consistency losses/trn_torque_loss': 721.30974995, 'consistency losses/trn_torque_delta_loss': 9.37346981, 'logistical/max_param': 16.15042305, 'logistical/lr': 0.0006}\n",
      "{'logistical/obs_consumed_per_second': 230.4921875, 'logistical/obs_generated_per_second': 105.8359375, 'logistical/data_consumption_ratio': 2.17891418, 'logistical/manual_train_pause': 0.0, 'trn_control_loss': 0.02762246, 'trn_headings_loss': 0.00114167, 'trn_curvatures_loss': 0.00505395, 'consistency losses/trn_steer_cost': 0.00856759, 'consistency losses/trn_te_loss': 18.56815427, 'aux losses/trn_pitch_loss': 0.15177417, 'aux losses/trn_yaw_loss': 0.43391895, 'consistency losses/trn_%_updates_w_torque_delta_loss': 0.46875, 'consistency losses/trn_torque_loss': 699.42517903, 'consistency losses/trn_torque_delta_loss': 11.35670425, 'logistical/max_param': 16.15943146, 'logistical/lr': 0.0006}\n",
      "{'logistical/obs_consumed_per_second': 234.9453125, 'logistical/obs_generated_per_second': 95.203125, 'logistical/data_consumption_ratio': 2.4736347, 'logistical/manual_train_pause': 0.00296875, 'trn_control_loss': 0.02637565, 'trn_headings_loss': 0.00102701, 'trn_curvatures_loss': 0.00401537, 'consistency losses/trn_steer_cost': 0.00759131, 'consistency losses/trn_te_loss': 18.47464678, 'aux losses/trn_pitch_loss': 0.20183325, 'aux losses/trn_yaw_loss': 0.42097187, 'consistency losses/trn_%_updates_w_torque_delta_loss': 0.5703125, 'consistency losses/trn_torque_loss': 773.94209221, 'consistency losses/trn_torque_delta_loss': 11.39556263, 'logistical/max_param': 16.16930008, 'logistical/lr': 0.0006}\n",
      "{'logistical/obs_consumed_per_second': 234.9453125, 'logistical/obs_generated_per_second': 103.1171875, 'logistical/data_consumption_ratio': 2.27739977, 'logistical/manual_train_pause': 0.0, 'trn_control_loss': 0.01613703, 'trn_headings_loss': 0.00072634, 'trn_curvatures_loss': 0.00271745, 'consistency losses/trn_steer_cost': 0.00572073, 'consistency losses/trn_te_loss': 18.36619864, 'aux losses/trn_pitch_loss': 0.17353916, 'aux losses/trn_yaw_loss': 0.2961998, 'consistency losses/trn_%_updates_w_torque_delta_loss': 0.53125, 'consistency losses/trn_torque_loss': 693.53663072, 'consistency losses/trn_torque_delta_loss': 7.69545048, 'logistical/max_param': 16.16846085, 'logistical/lr': 0.0006}\n",
      "{'logistical/obs_consumed_per_second': 227.2890625, 'logistical/obs_generated_per_second': 103.4609375, 'logistical/data_consumption_ratio': 2.19514868, 'logistical/manual_train_pause': 0.0, 'trn_control_loss': 0.02859592, 'trn_headings_loss': 0.00118847, 'trn_curvatures_loss': 0.00495766, 'consistency losses/trn_steer_cost': 0.00882083, 'consistency losses/trn_te_loss': 17.82206968, 'aux losses/trn_pitch_loss': 0.26729584, 'aux losses/trn_yaw_loss': 0.44181728, 'consistency losses/trn_%_updates_w_torque_delta_loss': 0.5, 'consistency losses/trn_torque_loss': 670.93508334, 'consistency losses/trn_torque_delta_loss': 8.63466946, 'logistical/max_param': 16.16963768, 'logistical/lr': 0.0006}\n"
     ]
    },
    {
     "name": "stdout",
     "output_type": "stream",
     "text": [
      "{'logistical/obs_consumed_per_second': 234.953125, 'logistical/obs_generated_per_second': 106.484375, 'logistical/data_consumption_ratio': 2.20566668, 'logistical/manual_train_pause': 0.0, 'trn_control_loss': 0.02394819, 'trn_headings_loss': 0.00094157, 'trn_curvatures_loss': 0.00422363, 'consistency losses/trn_steer_cost': 0.00753738, 'consistency losses/trn_te_loss': 17.37960073, 'aux losses/trn_pitch_loss': 0.19266367, 'aux losses/trn_yaw_loss': 0.43294239, 'consistency losses/trn_%_updates_w_torque_delta_loss': 0.4453125, 'consistency losses/trn_torque_loss': 637.30238348, 'consistency losses/trn_torque_delta_loss': 8.68978858, 'logistical/max_param': 16.17683983, 'logistical/lr': 0.0006}\n",
      "{'logistical/obs_consumed_per_second': 230.0703125, 'logistical/obs_generated_per_second': 100.734375, 'logistical/data_consumption_ratio': 2.2843711, 'logistical/manual_train_pause': 0.00023438, 'trn_control_loss': 0.03558165, 'trn_headings_loss': 0.00141732, 'trn_curvatures_loss': 0.00618188, 'consistency losses/trn_steer_cost': 0.01112971, 'consistency losses/trn_te_loss': 17.27435637, 'aux losses/trn_pitch_loss': 0.21831846, 'aux losses/trn_yaw_loss': 0.43598747, 'consistency losses/trn_%_updates_w_torque_delta_loss': 0.515625, 'consistency losses/trn_torque_loss': 627.97487539, 'consistency losses/trn_torque_delta_loss': 16.84656428, 'logistical/max_param': 16.17991066, 'logistical/lr': 0.0006}\n",
      "{'logistical/obs_consumed_per_second': 174.0, 'logistical/obs_generated_per_second': 104.0, 'logistical/data_consumption_ratio': 1.67325325, 'logistical/manual_train_pause': 0.0}\n",
      "\n",
      "\n",
      " Eval...\n",
      "EPOCH 46\n",
      "\n",
      "{'trn_control_loss': 0.02401793, 'trn_headings_loss': 0.00100986, 'trn_curvatures_loss': 0.00345367, 'consistency losses/trn_steer_cost': 0.00638917, 'consistency losses/trn_te_loss': 18.61450959, 'aux losses/trn_pitch_loss': 0.17389917, 'aux losses/trn_yaw_loss': 0.3259325, 'consistency losses/trn_%_updates_w_torque_delta_loss': 0.5625, 'consistency losses/trn_torque_delta_loss': 8.81218031, 'logistical/obs_consumed_per_second': 236.22047244, 'logistical/obs_generated_per_second': 99.88188976, 'logistical/data_consumption_ratio': 2.37010818, 'logistical/manual_train_pause': 0.00062992, 'consistency losses/trn_torque_loss': 529.1584045, 'logistical/max_param': 16.18488312, 'logistical/lr': 0.0003}\n",
      "{'logistical/obs_consumed_per_second': 231.0078125, 'logistical/obs_generated_per_second': 103.0859375, 'logistical/data_consumption_ratio': 2.24211401, 'logistical/manual_train_pause': 7.812e-05, 'trn_control_loss': 0.01660639, 'trn_headings_loss': 0.00081293, 'trn_curvatures_loss': 0.00308132, 'consistency losses/trn_steer_cost': 0.00580257, 'consistency losses/trn_te_loss': 18.50841349, 'aux losses/trn_pitch_loss': 0.14498377, 'aux losses/trn_yaw_loss': 0.32986546, 'consistency losses/trn_%_updates_w_torque_delta_loss': 0.359375, 'consistency losses/trn_torque_loss': 540.04493055, 'consistency losses/trn_torque_delta_loss': 9.10157388, 'logistical/max_param': 16.18440247, 'logistical/lr': 0.0003}\n",
      "{'logistical/obs_consumed_per_second': 232.375, 'logistical/obs_generated_per_second': 100.25, 'logistical/data_consumption_ratio': 2.32080423, 'logistical/manual_train_pause': 0.00054688, 'trn_control_loss': 0.01835072, 'trn_headings_loss': 0.00069641, 'trn_curvatures_loss': 0.00278299, 'consistency losses/trn_steer_cost': 0.00602919, 'consistency losses/trn_te_loss': 19.08653235, 'aux losses/trn_pitch_loss': 0.14196491, 'aux losses/trn_yaw_loss': 0.29715347, 'consistency losses/trn_%_updates_w_torque_delta_loss': 0.3203125, 'consistency losses/trn_torque_loss': 611.79841895, 'consistency losses/trn_torque_delta_loss': 7.52749529, 'logistical/max_param': 16.18317604, 'logistical/lr': 0.0003}\n",
      "{'logistical/obs_consumed_per_second': 232.328125, 'logistical/obs_generated_per_second': 101.2890625, 'logistical/data_consumption_ratio': 2.29468785, 'logistical/manual_train_pause': 0.0, 'trn_control_loss': 0.01607817, 'trn_headings_loss': 0.00071248, 'trn_curvatures_loss': 0.00297318, 'consistency losses/trn_steer_cost': 0.00579587, 'consistency losses/trn_te_loss': 18.21493817, 'aux losses/trn_pitch_loss': 0.16525316, 'aux losses/trn_yaw_loss': 0.29392862, 'consistency losses/trn_%_updates_w_torque_delta_loss': 0.3828125, 'consistency losses/trn_torque_loss': 660.16793027, 'consistency losses/trn_torque_delta_loss': 8.38883519, 'logistical/max_param': 16.18289757, 'logistical/lr': 0.0003}\n",
      "{'logistical/obs_consumed_per_second': 230.1796875, 'logistical/obs_generated_per_second': 104.7578125, 'logistical/data_consumption_ratio': 2.19662002, 'logistical/manual_train_pause': 0.0, 'trn_control_loss': 0.01476321, 'trn_headings_loss': 0.00070702, 'trn_curvatures_loss': 0.00260442, 'consistency losses/trn_steer_cost': 0.00534731, 'consistency losses/trn_te_loss': 18.49184586, 'aux losses/trn_pitch_loss': 0.13565397, 'aux losses/trn_yaw_loss': 0.25586319, 'consistency losses/trn_%_updates_w_torque_delta_loss': 0.3515625, 'consistency losses/trn_torque_loss': 512.43440141, 'consistency losses/trn_torque_delta_loss': 7.37415507, 'logistical/max_param': 16.18105316, 'logistical/lr': 0.0003}\n",
      "{'logistical/obs_consumed_per_second': 237.9140625, 'logistical/obs_generated_per_second': 101.2734375, 'logistical/data_consumption_ratio': 2.35175939, 'logistical/manual_train_pause': 7.812e-05, 'trn_control_loss': 0.01272044, 'trn_headings_loss': 0.00058466, 'trn_curvatures_loss': 0.00209326, 'consistency losses/trn_steer_cost': 0.00403766, 'consistency losses/trn_te_loss': 18.64965519, 'aux losses/trn_pitch_loss': 0.13550282, 'aux losses/trn_yaw_loss': 0.29719734, 'consistency losses/trn_%_updates_w_torque_delta_loss': 0.40625, 'consistency losses/trn_torque_loss': 618.67224656, 'consistency losses/trn_torque_delta_loss': 10.31169196, 'logistical/max_param': 16.178936, 'logistical/lr': 0.0003}\n",
      "{'logistical/obs_consumed_per_second': 235.96875, 'logistical/obs_generated_per_second': 103.6328125, 'logistical/data_consumption_ratio': 2.27913307, 'logistical/manual_train_pause': 0.0, 'trn_control_loss': 0.01512605, 'trn_headings_loss': 0.00071009, 'trn_curvatures_loss': 0.00289311, 'consistency losses/trn_steer_cost': 0.00585809, 'consistency losses/trn_te_loss': 18.68652109, 'aux losses/trn_pitch_loss': 0.11009526, 'aux losses/trn_yaw_loss': 0.19277954, 'consistency losses/trn_%_updates_w_torque_delta_loss': 0.28125, 'consistency losses/trn_torque_loss': 631.21669721, 'consistency losses/trn_torque_delta_loss': 7.12687563, 'logistical/max_param': 16.18020248, 'logistical/lr': 0.0003}\n",
      "{'logistical/obs_consumed_per_second': 234.625, 'logistical/obs_generated_per_second': 104.59375, 'logistical/data_consumption_ratio': 2.2405782, 'logistical/manual_train_pause': 0.0, 'trn_control_loss': 0.0129759, 'trn_headings_loss': 0.00057104, 'trn_curvatures_loss': 0.00226849, 'consistency losses/trn_steer_cost': 0.00462665, 'consistency losses/trn_te_loss': 18.47887243, 'aux losses/trn_pitch_loss': 0.1554842, 'aux losses/trn_yaw_loss': 0.22188282, 'consistency losses/trn_%_updates_w_torque_delta_loss': 0.3828125, 'consistency losses/trn_torque_loss': 608.94235063, 'consistency losses/trn_torque_delta_loss': 8.36176268, 'logistical/max_param': 16.17980766, 'logistical/lr': 0.0003}\n",
      "{'logistical/obs_consumed_per_second': 238.9921875, 'logistical/obs_generated_per_second': 102.65625, 'logistical/data_consumption_ratio': 2.329502, 'logistical/manual_train_pause': 0.0, 'trn_control_loss': 0.01365328, 'trn_headings_loss': 0.00050359, 'trn_curvatures_loss': 0.00211664, 'consistency losses/trn_steer_cost': 0.00415803, 'consistency losses/trn_te_loss': 17.92225843, 'aux losses/trn_pitch_loss': 0.1359272, 'aux losses/trn_yaw_loss': 0.24884224, 'consistency losses/trn_%_updates_w_torque_delta_loss': 0.3359375, 'consistency losses/trn_torque_loss': 663.85835466, 'consistency losses/trn_torque_delta_loss': 7.69279899, 'logistical/max_param': 16.17927361, 'logistical/lr': 0.0003}\n",
      "{'logistical/obs_consumed_per_second': 234.2890625, 'logistical/obs_generated_per_second': 104.2109375, 'logistical/data_consumption_ratio': 2.25372612, 'logistical/manual_train_pause': 0.0, 'trn_control_loss': 0.01269549, 'trn_headings_loss': 0.00055247, 'trn_curvatures_loss': 0.00212016, 'consistency losses/trn_steer_cost': 0.00362942, 'consistency losses/trn_te_loss': 18.84066232, 'aux losses/trn_pitch_loss': 0.13819456, 'aux losses/trn_yaw_loss': 0.28505182, 'consistency losses/trn_%_updates_w_torque_delta_loss': 0.3125, 'consistency losses/trn_torque_loss': 583.93025074, 'consistency losses/trn_torque_delta_loss': 7.60941448, 'logistical/max_param': 16.18199348, 'logistical/lr': 0.0003}\n"
     ]
    },
    {
     "name": "stdout",
     "output_type": "stream",
     "text": [
      "{'logistical/obs_consumed_per_second': 135.0, 'logistical/obs_generated_per_second': 110.0, 'logistical/data_consumption_ratio': 1.22863961, 'logistical/manual_train_pause': 0.0}\n",
      "\n",
      "\n",
      " Eval...\n",
      "EPOCH 47\n",
      "\n",
      "{'trn_control_loss': 0.01396832, 'trn_headings_loss': 0.0005799, 'trn_curvatures_loss': 0.00255343, 'consistency losses/trn_steer_cost': 0.00504358, 'consistency losses/trn_te_loss': 18.05836422, 'aux losses/trn_pitch_loss': 0.13088179, 'aux losses/trn_yaw_loss': 0.3429594, 'consistency losses/trn_%_updates_w_torque_delta_loss': 0.265625, 'consistency losses/trn_torque_loss': 534.11382493, 'consistency losses/trn_torque_delta_loss': 6.93390918, 'logistical/obs_consumed_per_second': 233.56692913, 'logistical/obs_generated_per_second': 102.18110236, 'logistical/data_consumption_ratio': 2.2925832, 'logistical/manual_train_pause': 0.0, 'logistical/max_param': 16.18322754, 'logistical/lr': 0.0003}\n",
      "{'logistical/obs_consumed_per_second': 236.53125, 'logistical/obs_generated_per_second': 101.3046875, 'logistical/data_consumption_ratio': 2.33551213, 'logistical/manual_train_pause': 0.0, 'trn_control_loss': 0.01759458, 'trn_headings_loss': 0.000894, 'trn_curvatures_loss': 0.00416338, 'consistency losses/trn_steer_cost': 0.00597325, 'consistency losses/trn_te_loss': 18.41238337, 'aux losses/trn_pitch_loss': 0.14647818, 'aux losses/trn_yaw_loss': 0.2341342, 'consistency losses/trn_%_updates_w_torque_delta_loss': 0.3515625, 'consistency losses/trn_torque_loss': 638.32359384, 'consistency losses/trn_torque_delta_loss': 8.46690759, 'logistical/max_param': 16.17724609, 'logistical/lr': 0.0003}\n",
      "{'logistical/obs_consumed_per_second': 234.0625, 'logistical/obs_generated_per_second': 99.8203125, 'logistical/data_consumption_ratio': 2.35035743, 'logistical/manual_train_pause': 0.000625, 'trn_control_loss': 0.00901619, 'trn_headings_loss': 0.00037539, 'trn_curvatures_loss': 0.00143102, 'consistency losses/trn_steer_cost': 0.0032576, 'consistency losses/trn_te_loss': 19.45579347, 'aux losses/trn_pitch_loss': 0.13274121, 'aux losses/trn_yaw_loss': 0.23808765, 'consistency losses/trn_%_updates_w_torque_delta_loss': 0.2109375, 'consistency losses/trn_torque_loss': 480.99235317, 'consistency losses/trn_torque_delta_loss': 8.28281444, 'logistical/max_param': 16.17580414, 'logistical/lr': 0.0003}\n",
      "{'logistical/obs_consumed_per_second': 233.0390625, 'logistical/obs_generated_per_second': 106.484375, 'logistical/data_consumption_ratio': 2.19193336, 'logistical/manual_train_pause': 0.0, 'trn_control_loss': 0.01088986, 'trn_headings_loss': 0.00046981, 'trn_curvatures_loss': 0.00168483, 'consistency losses/trn_steer_cost': 0.00372992, 'consistency losses/trn_te_loss': 18.86839826, 'aux losses/trn_pitch_loss': 0.11304569, 'aux losses/trn_yaw_loss': 0.23502159, 'consistency losses/trn_%_updates_w_torque_delta_loss': 0.3359375, 'consistency losses/trn_torque_loss': 782.57059069, 'consistency losses/trn_torque_delta_loss': 6.39949038, 'logistical/max_param': 16.17238426, 'logistical/lr': 0.0003}\n",
      "{'logistical/obs_consumed_per_second': 235.1484375, 'logistical/obs_generated_per_second': 101.65625, 'logistical/data_consumption_ratio': 2.32058723, 'logistical/manual_train_pause': 0.0, 'trn_control_loss': 0.01196712, 'trn_headings_loss': 0.00049957, 'trn_curvatures_loss': 0.00185182, 'consistency losses/trn_steer_cost': 0.00494373, 'consistency losses/trn_te_loss': 18.06102415, 'aux losses/trn_pitch_loss': 0.129493, 'aux losses/trn_yaw_loss': 0.21733141, 'consistency losses/trn_%_updates_w_torque_delta_loss': 0.3515625, 'consistency losses/trn_torque_loss': 645.93816937, 'consistency losses/trn_torque_delta_loss': 8.18783316, 'logistical/max_param': 16.17059708, 'logistical/lr': 0.0003}\n",
      "{'logistical/obs_consumed_per_second': 240.3515625, 'logistical/obs_generated_per_second': 104.90625, 'logistical/data_consumption_ratio': 2.28948749, 'logistical/manual_train_pause': 0.0, 'trn_control_loss': 0.01143199, 'trn_headings_loss': 0.00046642, 'trn_curvatures_loss': 0.00167412, 'consistency losses/trn_steer_cost': 0.00433488, 'consistency losses/trn_te_loss': 20.09542956, 'aux losses/trn_pitch_loss': 0.17602229, 'aux losses/trn_yaw_loss': 0.17874241, 'consistency losses/trn_%_updates_w_torque_delta_loss': 0.328125, 'consistency losses/trn_torque_loss': 730.16705369, 'consistency losses/trn_torque_delta_loss': 9.69776976, 'logistical/max_param': 16.17009354, 'logistical/lr': 0.0003}\n",
      "{'logistical/obs_consumed_per_second': 237.8359375, 'logistical/obs_generated_per_second': 106.0078125, 'logistical/data_consumption_ratio': 2.24582076, 'logistical/manual_train_pause': 0.0, 'trn_control_loss': 0.02246648, 'trn_headings_loss': 0.00080604, 'trn_curvatures_loss': 0.00307281, 'consistency losses/trn_steer_cost': 0.00570786, 'consistency losses/trn_te_loss': 17.5382789, 'aux losses/trn_pitch_loss': 0.12311196, 'aux losses/trn_yaw_loss': 0.23986578, 'consistency losses/trn_%_updates_w_torque_delta_loss': 0.421875, 'consistency losses/trn_torque_loss': 694.33755961, 'consistency losses/trn_torque_delta_loss': 7.05116466, 'logistical/max_param': 16.1779995, 'logistical/lr': 0.0003}\n",
      "{'logistical/obs_consumed_per_second': 233.5625, 'logistical/obs_generated_per_second': 101.6953125, 'logistical/data_consumption_ratio': 2.29697367, 'logistical/manual_train_pause': 7.812e-05, 'trn_control_loss': 0.0129087, 'trn_headings_loss': 0.00056167, 'trn_curvatures_loss': 0.00223205, 'consistency losses/trn_steer_cost': 0.0044346, 'consistency losses/trn_te_loss': 16.89247017, 'aux losses/trn_pitch_loss': 0.11799979, 'aux losses/trn_yaw_loss': 0.21078539, 'consistency losses/trn_%_updates_w_torque_delta_loss': 0.2421875, 'consistency losses/trn_torque_loss': 534.35034661, 'consistency losses/trn_torque_delta_loss': 6.04868582, 'logistical/max_param': 16.1812706, 'logistical/lr': 0.0003}\n",
      "{'logistical/obs_consumed_per_second': 236.8671875, 'logistical/obs_generated_per_second': 99.3125, 'logistical/data_consumption_ratio': 2.38326439, 'logistical/manual_train_pause': 0.00015625, 'trn_control_loss': 0.0165042, 'trn_headings_loss': 0.00075964, 'trn_curvatures_loss': 0.00359958, 'consistency losses/trn_steer_cost': 0.00598715, 'consistency losses/trn_te_loss': 17.97738057, 'aux losses/trn_pitch_loss': 0.11958551, 'aux losses/trn_yaw_loss': 0.25884819, 'consistency losses/trn_%_updates_w_torque_delta_loss': 0.3515625, 'consistency losses/trn_torque_loss': 595.37032691, 'consistency losses/trn_torque_delta_loss': 6.75979891, 'logistical/max_param': 16.17896843, 'logistical/lr': 0.0003}\n",
      "{'logistical/obs_consumed_per_second': 233.0703125, 'logistical/obs_generated_per_second': 106.3984375, 'logistical/data_consumption_ratio': 2.1929783, 'logistical/manual_train_pause': 0.0, 'trn_control_loss': 0.01459071, 'trn_headings_loss': 0.00063285, 'trn_curvatures_loss': 0.0027876, 'consistency losses/trn_steer_cost': 0.00535803, 'consistency losses/trn_te_loss': 18.24854382, 'aux losses/trn_pitch_loss': 0.14911318, 'aux losses/trn_yaw_loss': 0.23486757, 'consistency losses/trn_%_updates_w_torque_delta_loss': 0.3046875, 'consistency losses/trn_torque_loss': 612.93400312, 'consistency losses/trn_torque_delta_loss': 7.0255764, 'logistical/max_param': 16.18359756, 'logistical/lr': 0.0003}\n",
      "{'logistical/obs_consumed_per_second': 157.0, 'logistical/obs_generated_per_second': 109.0, 'logistical/data_consumption_ratio': 1.43581451, 'logistical/manual_train_pause': 0.0}\n",
      "\n",
      "\n",
      " Eval...\n",
      "EPOCH 48\n",
      "\n",
      "{'trn_control_loss': 0.0147734, 'trn_headings_loss': 0.00060467, 'trn_curvatures_loss': 0.00255304, 'consistency losses/trn_steer_cost': 0.00542751, 'consistency losses/trn_te_loss': 19.44614112, 'aux losses/trn_pitch_loss': 0.13420391, 'aux losses/trn_yaw_loss': 0.24310398, 'consistency losses/trn_%_updates_w_torque_delta_loss': 0.4140625, 'consistency losses/trn_torque_loss': 799.68547434, 'consistency losses/trn_torque_delta_loss': 5.75257667, 'logistical/obs_consumed_per_second': 239.88188976, 'logistical/obs_generated_per_second': 107.99212598, 'logistical/data_consumption_ratio': 2.22147851, 'logistical/manual_train_pause': 0.0, 'logistical/max_param': 16.18092346, 'logistical/lr': 0.0003}\n",
      "{'logistical/obs_consumed_per_second': 234.5546875, 'logistical/obs_generated_per_second': 104.046875, 'logistical/data_consumption_ratio': 2.25867507, 'logistical/manual_train_pause': 0.0, 'trn_control_loss': 0.0180805, 'trn_headings_loss': 0.00065199, 'trn_curvatures_loss': 0.00248687, 'consistency losses/trn_steer_cost': 0.00498432, 'consistency losses/trn_te_loss': 19.03410419, 'aux losses/trn_pitch_loss': 0.12412333, 'aux losses/trn_yaw_loss': 0.26077366, 'consistency losses/trn_%_updates_w_torque_delta_loss': 0.25, 'consistency losses/trn_torque_loss': 444.40441657, 'consistency losses/trn_torque_delta_loss': 7.16698806, 'logistical/max_param': 16.17237473, 'logistical/lr': 0.0003}\n"
     ]
    },
    {
     "name": "stdout",
     "output_type": "stream",
     "text": [
      "{'logistical/obs_consumed_per_second': 231.6328125, 'logistical/obs_generated_per_second': 98.515625, 'logistical/data_consumption_ratio': 2.352182, 'logistical/manual_train_pause': 0.00015625, 'trn_control_loss': 0.01036769, 'trn_headings_loss': 0.0004833, 'trn_curvatures_loss': 0.00169533, 'consistency losses/trn_steer_cost': 0.00390175, 'consistency losses/trn_te_loss': 19.89746401, 'aux losses/trn_pitch_loss': 0.11761045, 'aux losses/trn_yaw_loss': 0.21514416, 'consistency losses/trn_%_updates_w_torque_delta_loss': 0.4375, 'consistency losses/trn_torque_loss': 650.24512706, 'consistency losses/trn_torque_delta_loss': 9.1242995, 'logistical/max_param': 16.17296219, 'logistical/lr': 0.0003}\n",
      "{'logistical/obs_consumed_per_second': 235.4453125, 'logistical/obs_generated_per_second': 105.8125, 'logistical/data_consumption_ratio': 2.22597792, 'logistical/manual_train_pause': 0.0, 'trn_control_loss': 0.0169836, 'trn_headings_loss': 0.00063421, 'trn_curvatures_loss': 0.00299367, 'consistency losses/trn_steer_cost': 0.00558837, 'consistency losses/trn_te_loss': 19.27238435, 'aux losses/trn_pitch_loss': 0.13613749, 'aux losses/trn_yaw_loss': 0.25163269, 'consistency losses/trn_%_updates_w_torque_delta_loss': 0.4609375, 'consistency losses/trn_torque_loss': 713.18860081, 'consistency losses/trn_torque_delta_loss': 7.54795531, 'logistical/max_param': 16.17247009, 'logistical/lr': 0.0003}\n",
      "{'logistical/obs_consumed_per_second': 234.3046875, 'logistical/obs_generated_per_second': 102.9296875, 'logistical/data_consumption_ratio': 2.27815503, 'logistical/manual_train_pause': 0.00015625, 'trn_control_loss': 0.01373386, 'trn_headings_loss': 0.00062557, 'trn_curvatures_loss': 0.00283007, 'consistency losses/trn_steer_cost': 0.00555778, 'consistency losses/trn_te_loss': 16.85293774, 'aux losses/trn_pitch_loss': 0.11675501, 'aux losses/trn_yaw_loss': 0.26262617, 'consistency losses/trn_%_updates_w_torque_delta_loss': 0.3125, 'consistency losses/trn_torque_loss': 570.84189327, 'consistency losses/trn_torque_delta_loss': 5.83270537, 'logistical/max_param': 16.17490959, 'logistical/lr': 0.0003}\n",
      "{'logistical/obs_consumed_per_second': 233.125, 'logistical/obs_generated_per_second': 99.6171875, 'logistical/data_consumption_ratio': 2.33918937, 'logistical/manual_train_pause': 0.0, 'trn_control_loss': 0.01083297, 'trn_headings_loss': 0.00038183, 'trn_curvatures_loss': 0.00136112, 'consistency losses/trn_steer_cost': 0.0032908, 'consistency losses/trn_te_loss': 20.3520202, 'aux losses/trn_pitch_loss': 0.11610699, 'aux losses/trn_yaw_loss': 0.20725393, 'consistency losses/trn_%_updates_w_torque_delta_loss': 0.3984375, 'consistency losses/trn_torque_loss': 780.25882445, 'consistency losses/trn_torque_delta_loss': 7.23937895, 'logistical/max_param': 16.17613792, 'logistical/lr': 0.0003}\n",
      "{'logistical/obs_consumed_per_second': 232.8828125, 'logistical/obs_generated_per_second': 105.3984375, 'logistical/data_consumption_ratio': 2.21280124, 'logistical/manual_train_pause': 0.0, 'trn_control_loss': 0.01088196, 'trn_headings_loss': 0.00047748, 'trn_curvatures_loss': 0.00204888, 'consistency losses/trn_steer_cost': 0.00402746, 'consistency losses/trn_te_loss': 18.81227048, 'aux losses/trn_pitch_loss': 0.14027691, 'aux losses/trn_yaw_loss': 0.23798418, 'consistency losses/trn_%_updates_w_torque_delta_loss': 0.4140625, 'consistency losses/trn_torque_loss': 798.37593913, 'consistency losses/trn_torque_delta_loss': 7.13921353, 'logistical/max_param': 16.17731285, 'logistical/lr': 0.0003}\n",
      "{'logistical/obs_consumed_per_second': 236.21875, 'logistical/obs_generated_per_second': 100.484375, 'logistical/data_consumption_ratio': 2.35307363, 'logistical/manual_train_pause': 0.0, 'trn_control_loss': 0.00815672, 'trn_headings_loss': 0.00036844, 'trn_curvatures_loss': 0.00131733, 'consistency losses/trn_steer_cost': 0.00288349, 'consistency losses/trn_te_loss': 20.48150862, 'aux losses/trn_pitch_loss': 0.12880754, 'aux losses/trn_yaw_loss': 0.17235756, 'consistency losses/trn_%_updates_w_torque_delta_loss': 0.2109375, 'consistency losses/trn_torque_loss': 866.88327149, 'consistency losses/trn_torque_delta_loss': 6.10832535, 'logistical/max_param': 16.17871094, 'logistical/lr': 0.0003}\n",
      "{'logistical/obs_consumed_per_second': 235.546875, 'logistical/obs_generated_per_second': 100.171875, 'logistical/data_consumption_ratio': 2.35252181, 'logistical/manual_train_pause': 0.0, 'trn_control_loss': 0.01667547, 'trn_headings_loss': 0.00067369, 'trn_curvatures_loss': 0.00287503, 'consistency losses/trn_steer_cost': 0.00584206, 'consistency losses/trn_te_loss': 20.03685205, 'aux losses/trn_pitch_loss': 0.15128446, 'aux losses/trn_yaw_loss': 0.25378895, 'consistency losses/trn_%_updates_w_torque_delta_loss': 0.359375, 'consistency losses/trn_torque_loss': 801.64657891, 'consistency losses/trn_torque_delta_loss': 6.53660076, 'logistical/max_param': 16.17885399, 'logistical/lr': 0.0003}\n",
      "{'logistical/obs_consumed_per_second': 234.84375, 'logistical/obs_generated_per_second': 97.65625, 'logistical/data_consumption_ratio': 2.40531554, 'logistical/manual_train_pause': 0.000625, 'trn_control_loss': 0.01064721, 'trn_headings_loss': 0.00041539, 'trn_curvatures_loss': 0.00167916, 'consistency losses/trn_steer_cost': 0.00307667, 'consistency losses/trn_te_loss': 19.71483568, 'aux losses/trn_pitch_loss': 0.10849929, 'aux losses/trn_yaw_loss': 0.19336224, 'consistency losses/trn_%_updates_w_torque_delta_loss': 0.3515625, 'consistency losses/trn_torque_delta_loss': 5.81524339, 'consistency losses/trn_torque_loss': 773.53905, 'logistical/max_param': 16.17825127, 'logistical/lr': 0.0003}\n",
      "{'logistical/obs_consumed_per_second': 164.0, 'logistical/obs_generated_per_second': 105.0, 'logistical/data_consumption_ratio': 1.56381156, 'logistical/manual_train_pause': 0.0}\n",
      "\n",
      "\n",
      " Eval...\n",
      "EPOCH 49\n",
      "\n",
      "{'trn_control_loss': 0.01202804, 'trn_headings_loss': 0.0004516, 'trn_curvatures_loss': 0.00198174, 'consistency losses/trn_steer_cost': 0.00377373, 'consistency losses/trn_te_loss': 19.59566536, 'aux losses/trn_pitch_loss': 0.10549593, 'aux losses/trn_yaw_loss': 0.2387228, 'consistency losses/trn_%_updates_w_torque_delta_loss': 0.359375, 'consistency losses/trn_torque_loss': 722.05150261, 'consistency losses/trn_torque_delta_loss': 6.28935366, 'logistical/obs_consumed_per_second': 233.34645669, 'logistical/obs_generated_per_second': 102.29133858, 'logistical/data_consumption_ratio': 2.28242584, 'logistical/manual_train_pause': 0.0, 'logistical/max_param': 16.17944336, 'logistical/lr': 0.0003}\n",
      "{'logistical/obs_consumed_per_second': 231.359375, 'logistical/obs_generated_per_second': 108.5234375, 'logistical/data_consumption_ratio': 2.13519737, 'logistical/manual_train_pause': 0.0, 'trn_control_loss': 0.01007816, 'trn_headings_loss': 0.00048975, 'trn_curvatures_loss': 0.00192364, 'consistency losses/trn_steer_cost': 0.0033101, 'consistency losses/trn_te_loss': 20.341005, 'aux losses/trn_pitch_loss': 0.14416981, 'aux losses/trn_yaw_loss': 0.21528864, 'consistency losses/trn_%_updates_w_torque_delta_loss': 0.3125, 'consistency losses/trn_torque_loss': 802.70429707, 'consistency losses/trn_torque_delta_loss': 8.65711528, 'logistical/max_param': 16.17977524, 'logistical/lr': 0.0003}\n",
      "{'logistical/obs_consumed_per_second': 237.25, 'logistical/obs_generated_per_second': 104.2734375, 'logistical/data_consumption_ratio': 2.27768956, 'logistical/manual_train_pause': 0.0, 'trn_control_loss': 0.01122236, 'trn_headings_loss': 0.00045677, 'trn_curvatures_loss': 0.00203138, 'consistency losses/trn_steer_cost': 0.00415723, 'consistency losses/trn_te_loss': 19.33528747, 'aux losses/trn_pitch_loss': 0.15355706, 'aux losses/trn_yaw_loss': 0.20856094, 'consistency losses/trn_%_updates_w_torque_delta_loss': 0.2890625, 'consistency losses/trn_torque_loss': 672.80268312, 'consistency losses/trn_torque_delta_loss': 8.36789913, 'logistical/max_param': 16.17575264, 'logistical/lr': 0.0003}\n",
      "{'logistical/obs_consumed_per_second': 231.0234375, 'logistical/obs_generated_per_second': 103.578125, 'logistical/data_consumption_ratio': 2.23261821, 'logistical/manual_train_pause': 0.0, 'trn_control_loss': 0.00743559, 'trn_headings_loss': 0.0003312, 'trn_curvatures_loss': 0.00138208, 'consistency losses/trn_steer_cost': 0.00281191, 'consistency losses/trn_te_loss': 20.35655041, 'aux losses/trn_pitch_loss': 0.11967373, 'aux losses/trn_yaw_loss': 0.15985823, 'consistency losses/trn_%_updates_w_torque_delta_loss': 0.3046875, 'consistency losses/trn_torque_loss': 640.21612214, 'consistency losses/trn_torque_delta_loss': 7.6577741, 'logistical/max_param': 16.17691612, 'logistical/lr': 0.0003}\n"
     ]
    },
    {
     "name": "stdout",
     "output_type": "stream",
     "text": [
      "{'logistical/obs_consumed_per_second': 234.1015625, 'logistical/obs_generated_per_second': 101.109375, 'logistical/data_consumption_ratio': 2.31830259, 'logistical/manual_train_pause': 0.0, 'trn_control_loss': 0.01547781, 'trn_headings_loss': 0.00062971, 'trn_curvatures_loss': 0.0024032, 'consistency losses/trn_steer_cost': 0.00470635, 'consistency losses/trn_te_loss': 18.58726709, 'aux losses/trn_pitch_loss': 0.13749552, 'aux losses/trn_yaw_loss': 0.20618248, 'consistency losses/trn_%_updates_w_torque_delta_loss': 0.3515625, 'consistency losses/trn_torque_loss': 608.4066246, 'consistency losses/trn_torque_delta_loss': 8.97278626, 'logistical/max_param': 16.17772293, 'logistical/lr': 0.0003}\n",
      "{'logistical/obs_consumed_per_second': 231.1328125, 'logistical/obs_generated_per_second': 103.46875, 'logistical/data_consumption_ratio': 2.24029864, 'logistical/manual_train_pause': 0.0, 'trn_control_loss': 0.00841129, 'trn_headings_loss': 0.00036189, 'trn_curvatures_loss': 0.00140132, 'consistency losses/trn_steer_cost': 0.00320905, 'consistency losses/trn_te_loss': 20.64153856, 'aux losses/trn_pitch_loss': 0.10693026, 'aux losses/trn_yaw_loss': 0.16181493, 'consistency losses/trn_%_updates_w_torque_delta_loss': 0.3359375, 'consistency losses/trn_torque_loss': 705.3448205, 'consistency losses/trn_torque_delta_loss': 8.85397896, 'logistical/max_param': 16.17795181, 'logistical/lr': 0.0003}\n",
      "{'logistical/obs_consumed_per_second': 237.9453125, 'logistical/obs_generated_per_second': 104.171875, 'logistical/data_consumption_ratio': 2.27965541, 'logistical/manual_train_pause': 7.812e-05, 'trn_control_loss': 0.0127649, 'trn_headings_loss': 0.00055809, 'trn_curvatures_loss': 0.00211411, 'consistency losses/trn_steer_cost': 0.0043035, 'consistency losses/trn_te_loss': 19.32786654, 'aux losses/trn_pitch_loss': 0.11645794, 'aux losses/trn_yaw_loss': 0.17178297, 'consistency losses/trn_%_updates_w_torque_delta_loss': 0.421875, 'consistency losses/trn_torque_loss': 650.70957434, 'consistency losses/trn_torque_delta_loss': 6.54533656, 'logistical/max_param': 16.18046188, 'logistical/lr': 0.0003}\n",
      "{'logistical/obs_consumed_per_second': 234.46875, 'logistical/obs_generated_per_second': 104.578125, 'logistical/data_consumption_ratio': 2.24561144, 'logistical/manual_train_pause': 7.812e-05, 'trn_control_loss': 0.01305595, 'trn_headings_loss': 0.00050964, 'trn_curvatures_loss': 0.00207363, 'consistency losses/trn_steer_cost': 0.00440273, 'consistency losses/trn_te_loss': 18.06656624, 'aux losses/trn_pitch_loss': 0.12080169, 'aux losses/trn_yaw_loss': 0.23447132, 'consistency losses/trn_%_updates_w_torque_delta_loss': 0.2734375, 'consistency losses/trn_torque_loss': 628.16522727, 'consistency losses/trn_torque_delta_loss': 5.76398879, 'logistical/max_param': 16.18096733, 'logistical/lr': 0.0003}\n",
      "{'logistical/obs_consumed_per_second': 229.671875, 'logistical/obs_generated_per_second': 109.84375, 'logistical/data_consumption_ratio': 2.09256118, 'logistical/manual_train_pause': 0.0, 'trn_control_loss': 0.01164305, 'trn_headings_loss': 0.00048063, 'trn_curvatures_loss': 0.00237307, 'consistency losses/trn_steer_cost': 0.00495794, 'consistency losses/trn_te_loss': 18.96115801, 'aux losses/trn_pitch_loss': 0.11976385, 'aux losses/trn_yaw_loss': 0.22999382, 'consistency losses/trn_%_updates_w_torque_delta_loss': 0.4921875, 'consistency losses/trn_torque_loss': 678.85067284, 'consistency losses/trn_torque_delta_loss': 8.12401383, 'logistical/max_param': 16.17843628, 'logistical/lr': 0.0003}\n",
      "{'logistical/obs_consumed_per_second': 231.28125, 'logistical/obs_generated_per_second': 102.296875, 'logistical/data_consumption_ratio': 2.25816396, 'logistical/manual_train_pause': 7.812e-05, 'trn_control_loss': 0.01120126, 'trn_headings_loss': 0.00044931, 'trn_curvatures_loss': 0.00206978, 'consistency losses/trn_steer_cost': 0.00457606, 'consistency losses/trn_te_loss': 18.26915416, 'aux losses/trn_pitch_loss': 0.13464737, 'aux losses/trn_yaw_loss': 0.24644995, 'consistency losses/trn_%_updates_w_torque_delta_loss': 0.3828125, 'consistency losses/trn_torque_loss': 566.47456809, 'consistency losses/trn_torque_delta_loss': 10.3314208, 'logistical/max_param': 16.18187332, 'logistical/lr': 0.0003}\n",
      "{'logistical/obs_consumed_per_second': 133.0, 'logistical/obs_generated_per_second': 95.0, 'logistical/data_consumption_ratio': 1.39907884, 'logistical/manual_train_pause': 0.0}\n",
      "\n",
      "\n",
      " Eval...\n",
      "EPOCH 50\n",
      "\n",
      "{'trn_control_loss': 0.01022547, 'trn_headings_loss': 0.00049543, 'trn_curvatures_loss': 0.0020372, 'consistency losses/trn_steer_cost': 0.00386764, 'consistency losses/trn_te_loss': 19.6775189, 'aux losses/trn_pitch_loss': 0.16296482, 'aux losses/trn_yaw_loss': 0.21398544, 'consistency losses/trn_%_updates_w_torque_delta_loss': 0.4453125, 'consistency losses/trn_torque_loss': 596.96246936, 'consistency losses/trn_torque_delta_loss': 6.79933527, 'logistical/obs_consumed_per_second': 240.73228346, 'logistical/obs_generated_per_second': 100.29133858, 'logistical/data_consumption_ratio': 2.41611861, 'logistical/manual_train_pause': 0.00055118, 'logistical/max_param': 16.18182182, 'logistical/lr': 0.0003}\n",
      "{'logistical/obs_consumed_per_second': 234.671875, 'logistical/obs_generated_per_second': 109.046875, 'logistical/data_consumption_ratio': 2.15554723, 'logistical/manual_train_pause': 0.0, 'trn_control_loss': 0.02918494, 'trn_headings_loss': 0.0012311, 'trn_curvatures_loss': 0.00524266, 'consistency losses/trn_steer_cost': 0.00919609, 'consistency losses/trn_te_loss': 18.31374931, 'aux losses/trn_pitch_loss': 0.14622808, 'aux losses/trn_yaw_loss': 0.28833628, 'consistency losses/trn_%_updates_w_torque_delta_loss': 0.3828125, 'consistency losses/trn_torque_loss': 630.72000935, 'consistency losses/trn_torque_delta_loss': 7.49211601, 'logistical/max_param': 16.18952179, 'logistical/lr': 0.0003}\n",
      "{'logistical/obs_consumed_per_second': 233.453125, 'logistical/obs_generated_per_second': 105.4609375, 'logistical/data_consumption_ratio': 2.21492514, 'logistical/manual_train_pause': 0.0, 'trn_control_loss': 0.01747662, 'trn_headings_loss': 0.00066595, 'trn_curvatures_loss': 0.0026819, 'consistency losses/trn_steer_cost': 0.00507972, 'consistency losses/trn_te_loss': 18.21202991, 'aux losses/trn_pitch_loss': 0.12373328, 'aux losses/trn_yaw_loss': 0.24419498, 'consistency losses/trn_%_updates_w_torque_delta_loss': 0.421875, 'consistency losses/trn_torque_loss': 597.48283508, 'consistency losses/trn_torque_delta_loss': 7.26426744, 'logistical/max_param': 16.18800735, 'logistical/lr': 0.0003}\n",
      "{'logistical/obs_consumed_per_second': 233.2265625, 'logistical/obs_generated_per_second': 105.52755906, 'logistical/data_consumption_ratio': 2.20955835, 'logistical/manual_train_pause': 0.0, 'trn_control_loss': 0.01207402, 'trn_headings_loss': 0.00050916, 'trn_curvatures_loss': 0.00195856, 'consistency losses/trn_steer_cost': 0.0038033, 'consistency losses/trn_te_loss': 19.41149732, 'aux losses/trn_pitch_loss': 0.09892929, 'aux losses/trn_yaw_loss': 0.25690126, 'consistency losses/trn_%_updates_w_torque_delta_loss': 0.453125, 'consistency losses/trn_torque_loss': 772.43457623, 'consistency losses/trn_torque_delta_loss': 7.89139624, 'logistical/max_param': 16.18733788, 'logistical/lr': 0.0003}\n",
      "{'logistical/obs_consumed_per_second': 237.5625, 'logistical/obs_generated_per_second': 108.6328125, 'logistical/data_consumption_ratio': 2.19007526, 'logistical/manual_train_pause': 0.0, 'trn_control_loss': 0.0138776, 'trn_headings_loss': 0.00058987, 'trn_curvatures_loss': 0.00264771, 'consistency losses/trn_steer_cost': 0.00558557, 'consistency losses/trn_te_loss': 19.15755038, 'aux losses/trn_pitch_loss': 0.12371445, 'aux losses/trn_yaw_loss': 0.22038603, 'consistency losses/trn_%_updates_w_torque_delta_loss': 0.34375, 'consistency losses/trn_torque_loss': 738.54683199, 'consistency losses/trn_torque_delta_loss': 6.86876311, 'logistical/max_param': 16.18686104, 'logistical/lr': 0.0003}\n",
      "{'logistical/obs_consumed_per_second': 236.0703125, 'logistical/obs_generated_per_second': 102.9921875, 'logistical/data_consumption_ratio': 2.29393635, 'logistical/manual_train_pause': 0.0, 'trn_control_loss': 0.01595476, 'trn_headings_loss': 0.00062493, 'trn_curvatures_loss': 0.0023658, 'consistency losses/trn_steer_cost': 0.0041602, 'consistency losses/trn_te_loss': 19.41815917, 'aux losses/trn_pitch_loss': 0.12038875, 'aux losses/trn_yaw_loss': 0.2514987, 'consistency losses/trn_%_updates_w_torque_delta_loss': 0.4453125, 'consistency losses/trn_torque_loss': 701.10071768, 'consistency losses/trn_torque_delta_loss': 10.4615943, 'logistical/max_param': 16.18899345, 'logistical/lr': 0.0003}\n"
     ]
    },
    {
     "name": "stdout",
     "output_type": "stream",
     "text": [
      "{'logistical/obs_consumed_per_second': 238.53125, 'logistical/obs_generated_per_second': 98.6875, 'logistical/data_consumption_ratio': 2.42360839, 'logistical/manual_train_pause': 0.00070312, 'trn_control_loss': 0.01511788, 'trn_headings_loss': 0.00066453, 'trn_curvatures_loss': 0.00263214, 'consistency losses/trn_steer_cost': 0.00625142, 'consistency losses/trn_te_loss': 18.64469653, 'aux losses/trn_pitch_loss': 0.11496472, 'aux losses/trn_yaw_loss': 0.21654654, 'consistency losses/trn_%_updates_w_torque_delta_loss': 0.453125, 'consistency losses/trn_torque_delta_loss': 7.33913555, 'consistency losses/trn_torque_loss': 715.18936027, 'logistical/max_param': 16.18276596, 'logistical/lr': 0.0003}\n",
      "{'logistical/obs_consumed_per_second': 232.0859375, 'logistical/obs_generated_per_second': 101.1796875, 'logistical/data_consumption_ratio': 2.2923469, 'logistical/manual_train_pause': 0.0, 'trn_control_loss': 0.0138613, 'trn_headings_loss': 0.00053028, 'trn_curvatures_loss': 0.00208016, 'consistency losses/trn_steer_cost': 0.00420189, 'consistency losses/trn_te_loss': 17.19200885, 'aux losses/trn_pitch_loss': 0.11058235, 'aux losses/trn_yaw_loss': 0.23323774, 'consistency losses/trn_%_updates_w_torque_delta_loss': 0.1796875, 'consistency losses/trn_torque_loss': 478.34548944, 'consistency losses/trn_torque_delta_loss': 5.3107169, 'logistical/max_param': 16.17819023, 'logistical/lr': 0.0003}\n",
      "{'logistical/obs_consumed_per_second': 231.71875, 'logistical/obs_generated_per_second': 101.5625, 'logistical/data_consumption_ratio': 2.28780737, 'logistical/manual_train_pause': 7.812e-05, 'trn_control_loss': 0.01110891, 'trn_headings_loss': 0.00045557, 'trn_curvatures_loss': 0.0016066, 'consistency losses/trn_steer_cost': 0.00367711, 'consistency losses/trn_te_loss': 18.65929426, 'aux losses/trn_pitch_loss': 0.11130953, 'aux losses/trn_yaw_loss': 0.20386314, 'consistency losses/trn_%_updates_w_torque_delta_loss': 0.3828125, 'consistency losses/trn_torque_delta_loss': 7.65213534, 'consistency losses/trn_torque_loss': 589.34130557, 'logistical/max_param': 16.17724419, 'logistical/lr': 0.0003}\n",
      "{'logistical/obs_consumed_per_second': 238.9609375, 'logistical/obs_generated_per_second': 107.34375, 'logistical/data_consumption_ratio': 2.22285728, 'logistical/manual_train_pause': 0.0, 'trn_control_loss': 0.01177675, 'trn_headings_loss': 0.00047546, 'trn_curvatures_loss': 0.00203105, 'consistency losses/trn_steer_cost': 0.00445557, 'consistency losses/trn_te_loss': 17.73148946, 'aux losses/trn_pitch_loss': 0.12893486, 'aux losses/trn_yaw_loss': 0.24070311, 'consistency losses/trn_%_updates_w_torque_delta_loss': 0.265625, 'consistency losses/trn_torque_loss': 679.40606624, 'consistency losses/trn_torque_delta_loss': 5.97012999, 'logistical/max_param': 16.17368889, 'logistical/lr': 0.0003}\n",
      "{'logistical/obs_consumed_per_second': 165.0, 'logistical/obs_generated_per_second': 105.0, 'logistical/data_consumption_ratio': 1.56127626, 'logistical/manual_train_pause': 0.0}\n",
      "\n",
      "\n",
      " Eval...\n",
      "EPOCH 51\n",
      "\n",
      "{'trn_control_loss': 0.02290356, 'trn_headings_loss': 0.00086254, 'trn_curvatures_loss': 0.00334767, 'consistency losses/trn_steer_cost': 0.00750619, 'consistency losses/trn_te_loss': 18.83057193, 'aux losses/trn_pitch_loss': 0.17077208, 'aux losses/trn_yaw_loss': 0.28717422, 'consistency losses/trn_%_updates_w_torque_delta_loss': 0.4765625, 'consistency losses/trn_torque_loss': 624.74010534, 'consistency losses/trn_torque_delta_loss': 8.72874456, 'logistical/obs_consumed_per_second': 231.90551181, 'logistical/obs_generated_per_second': 101.97637795, 'logistical/data_consumption_ratio': 2.27333137, 'logistical/manual_train_pause': 0.0, 'logistical/max_param': 16.16872978, 'logistical/lr': 0.0003}\n",
      "{'logistical/obs_consumed_per_second': 239.5546875, 'logistical/obs_generated_per_second': 104.3828125, 'logistical/data_consumption_ratio': 2.29891105, 'logistical/manual_train_pause': 0.0, 'trn_control_loss': 0.01658323, 'trn_headings_loss': 0.00064358, 'trn_curvatures_loss': 0.00224771, 'consistency losses/trn_steer_cost': 0.00416254, 'consistency losses/trn_te_loss': 18.0215855, 'aux losses/trn_pitch_loss': 0.12187123, 'aux losses/trn_yaw_loss': 0.23694324, 'consistency losses/trn_%_updates_w_torque_delta_loss': 0.2890625, 'consistency losses/trn_torque_loss': 658.16609634, 'consistency losses/trn_torque_delta_loss': 5.53048764, 'logistical/max_param': 16.16653252, 'logistical/lr': 0.0003}\n",
      "{'logistical/obs_consumed_per_second': 236.6484375, 'logistical/obs_generated_per_second': 100.171875, 'logistical/data_consumption_ratio': 2.36354398, 'logistical/manual_train_pause': 0.00015625, 'trn_control_loss': 0.01907195, 'trn_headings_loss': 0.00062723, 'trn_curvatures_loss': 0.00236114, 'consistency losses/trn_steer_cost': 0.00445798, 'consistency losses/trn_te_loss': 18.71297098, 'aux losses/trn_pitch_loss': 0.13854003, 'aux losses/trn_yaw_loss': 0.25867748, 'consistency losses/trn_%_updates_w_torque_delta_loss': 0.3125, 'consistency losses/trn_torque_loss': 591.72699399, 'consistency losses/trn_torque_delta_loss': 6.68707893, 'logistical/max_param': 16.16781235, 'logistical/lr': 0.0003}\n",
      "{'logistical/obs_consumed_per_second': 234.859375, 'logistical/obs_generated_per_second': 105.2578125, 'logistical/data_consumption_ratio': 2.23653059, 'logistical/manual_train_pause': 0.0, 'trn_control_loss': 0.0103893, 'trn_headings_loss': 0.0004571, 'trn_curvatures_loss': 0.0017978, 'consistency losses/trn_steer_cost': 0.0036758, 'consistency losses/trn_te_loss': 19.79623605, 'aux losses/trn_pitch_loss': 0.1356616, 'aux losses/trn_yaw_loss': 0.18105912, 'consistency losses/trn_%_updates_w_torque_delta_loss': 0.2578125, 'consistency losses/trn_torque_loss': 516.0326638, 'consistency losses/trn_torque_delta_loss': 5.8572184, 'logistical/max_param': 16.17038918, 'logistical/lr': 0.0003}\n",
      "{'logistical/obs_consumed_per_second': 231.0859375, 'logistical/obs_generated_per_second': 95.0703125, 'logistical/data_consumption_ratio': 2.43317731, 'logistical/manual_train_pause': 0.00109375, 'trn_control_loss': 0.00996089, 'trn_headings_loss': 0.00049485, 'trn_curvatures_loss': 0.0018988, 'consistency losses/trn_steer_cost': 0.00389235, 'consistency losses/trn_te_loss': 19.15123823, 'aux losses/trn_pitch_loss': 0.13174891, 'aux losses/trn_yaw_loss': 0.18991613, 'consistency losses/trn_%_updates_w_torque_delta_loss': 0.2109375, 'consistency losses/trn_torque_loss': 647.60171026, 'consistency losses/trn_torque_delta_loss': 5.29404169, 'logistical/max_param': 16.17202568, 'logistical/lr': 0.0003}\n",
      "{'logistical/obs_consumed_per_second': 240.03125, 'logistical/obs_generated_per_second': 105.390625, 'logistical/data_consumption_ratio': 2.28524672, 'logistical/manual_train_pause': 0.0003125, 'trn_control_loss': 0.01288193, 'trn_headings_loss': 0.00054565, 'trn_curvatures_loss': 0.00252549, 'consistency losses/trn_steer_cost': 0.00535166, 'consistency losses/trn_te_loss': 18.36796419, 'aux losses/trn_pitch_loss': 0.11126876, 'aux losses/trn_yaw_loss': 0.25468159, 'consistency losses/trn_%_updates_w_torque_delta_loss': 0.25, 'consistency losses/trn_torque_loss': 633.60111813, 'consistency losses/trn_torque_delta_loss': 6.47048637, 'logistical/max_param': 16.17173195, 'logistical/lr': 0.0003}\n",
      "{'logistical/obs_consumed_per_second': 234.625, 'logistical/obs_generated_per_second': 103.71875, 'logistical/data_consumption_ratio': 2.26428506, 'logistical/manual_train_pause': 0.0, 'trn_control_loss': 0.01307219, 'trn_headings_loss': 0.00052177, 'trn_curvatures_loss': 0.00174424, 'consistency losses/trn_steer_cost': 0.00328566, 'consistency losses/trn_te_loss': 20.16970775, 'aux losses/trn_pitch_loss': 0.10908484, 'aux losses/trn_yaw_loss': 0.21234179, 'consistency losses/trn_%_updates_w_torque_delta_loss': 0.3046875, 'consistency losses/trn_torque_loss': 602.4103725, 'consistency losses/trn_torque_delta_loss': 7.78288507, 'logistical/max_param': 16.17210579, 'logistical/lr': 0.0003}\n",
      "{'logistical/obs_consumed_per_second': 237.2734375, 'logistical/obs_generated_per_second': 94.9140625, 'logistical/data_consumption_ratio': 2.50970463, 'logistical/manual_train_pause': 0.00140625, 'trn_control_loss': 0.01152182, 'trn_headings_loss': 0.00058898, 'trn_curvatures_loss': 0.00217897, 'consistency losses/trn_steer_cost': 0.00375095, 'consistency losses/trn_te_loss': 18.92414104, 'aux losses/trn_pitch_loss': 0.11421514, 'aux losses/trn_yaw_loss': 0.20503044, 'consistency losses/trn_%_updates_w_torque_delta_loss': 0.28125, 'consistency losses/trn_torque_loss': 509.64808261, 'consistency losses/trn_torque_delta_loss': 7.71461369, 'logistical/max_param': 16.17394829, 'logistical/lr': 0.0003}\n"
     ]
    },
    {
     "name": "stdout",
     "output_type": "stream",
     "text": [
      "{'logistical/obs_consumed_per_second': 235.0, 'logistical/obs_generated_per_second': 97.9140625, 'logistical/data_consumption_ratio': 2.40111222, 'logistical/manual_train_pause': 0.00023438, 'trn_control_loss': 0.00944337, 'trn_headings_loss': 0.00042679, 'trn_curvatures_loss': 0.00168104, 'consistency losses/trn_steer_cost': 0.00380641, 'consistency losses/trn_te_loss': 18.718744, 'aux losses/trn_pitch_loss': 0.1180253, 'aux losses/trn_yaw_loss': 0.19699955, 'consistency losses/trn_%_updates_w_torque_delta_loss': 0.2734375, 'consistency losses/trn_torque_loss': 729.19939372, 'consistency losses/trn_torque_delta_loss': 6.91296639, 'logistical/max_param': 16.17495155, 'logistical/lr': 0.0003}\n",
      "{'logistical/obs_consumed_per_second': 230.6015625, 'logistical/obs_generated_per_second': 102.71875, 'logistical/data_consumption_ratio': 2.24649811, 'logistical/manual_train_pause': 7.812e-05, 'trn_control_loss': 0.01151228, 'trn_headings_loss': 0.00049121, 'trn_curvatures_loss': 0.00179799, 'consistency losses/trn_steer_cost': 0.00348637, 'consistency losses/trn_te_loss': 18.68717859, 'aux losses/trn_pitch_loss': 0.11653733, 'aux losses/trn_yaw_loss': 0.23936939, 'consistency losses/trn_%_updates_w_torque_delta_loss': 0.328125, 'consistency losses/trn_torque_loss': 568.38297007, 'consistency losses/trn_torque_delta_loss': 8.07598968, 'logistical/max_param': 16.17081833, 'logistical/lr': 0.0003}\n",
      "{'logistical/obs_consumed_per_second': 176.0, 'logistical/obs_generated_per_second': 98.0, 'logistical/data_consumption_ratio': 1.79428993, 'logistical/manual_train_pause': 0.0}\n",
      "\n",
      "\n",
      " Eval...\n",
      "EPOCH 52\n",
      "\n",
      "{'trn_control_loss': 0.01258174, 'trn_headings_loss': 0.00048415, 'trn_curvatures_loss': 0.00189194, 'consistency losses/trn_steer_cost': 0.00351867, 'consistency losses/trn_te_loss': 18.627758, 'aux losses/trn_pitch_loss': 0.10423946, 'aux losses/trn_yaw_loss': 0.19493198, 'consistency losses/trn_%_updates_w_torque_delta_loss': 0.21875, 'consistency losses/trn_torque_loss': 481.48673411, 'consistency losses/trn_torque_delta_loss': 7.0848256, 'logistical/obs_consumed_per_second': 236.00787402, 'logistical/obs_generated_per_second': 101.77165354, 'logistical/data_consumption_ratio': 2.32409052, 'logistical/manual_train_pause': 7.874e-05, 'logistical/max_param': 16.17189407, 'logistical/lr': 0.0003}\n",
      "{'logistical/obs_consumed_per_second': 234.484375, 'logistical/obs_generated_per_second': 106.09375, 'logistical/data_consumption_ratio': 2.20890578, 'logistical/manual_train_pause': 0.0, 'trn_control_loss': 0.00995556, 'trn_headings_loss': 0.00035123, 'trn_curvatures_loss': 0.00140693, 'consistency losses/trn_steer_cost': 0.00363627, 'consistency losses/trn_te_loss': 18.85163052, 'aux losses/trn_pitch_loss': 0.11903477, 'aux losses/trn_yaw_loss': 0.1875205, 'consistency losses/trn_%_updates_w_torque_delta_loss': 0.203125, 'consistency losses/trn_torque_loss': 727.75999727, 'consistency losses/trn_torque_delta_loss': 6.59863249, 'logistical/max_param': 16.17364502, 'logistical/lr': 0.0003}\n",
      "{'logistical/obs_consumed_per_second': 235.0625, 'logistical/obs_generated_per_second': 109.234375, 'logistical/data_consumption_ratio': 2.15148633, 'logistical/manual_train_pause': 0.0, 'trn_control_loss': 0.01245162, 'trn_headings_loss': 0.00049723, 'trn_curvatures_loss': 0.00208814, 'consistency losses/trn_steer_cost': 0.00449044, 'consistency losses/trn_te_loss': 18.55698891, 'aux losses/trn_pitch_loss': 0.10582447, 'aux losses/trn_yaw_loss': 0.20501518, 'consistency losses/trn_%_updates_w_torque_delta_loss': 0.1953125, 'consistency losses/trn_torque_loss': 611.58912016, 'consistency losses/trn_torque_delta_loss': 9.16698608, 'logistical/max_param': 16.17407036, 'logistical/lr': 0.0003}\n",
      "{'logistical/obs_consumed_per_second': 234.0859375, 'logistical/obs_generated_per_second': 98.0703125, 'logistical/data_consumption_ratio': 2.39217152, 'logistical/manual_train_pause': 0.00054688, 'trn_control_loss': 0.01586735, 'trn_headings_loss': 0.00060682, 'trn_curvatures_loss': 0.00229904, 'consistency losses/trn_steer_cost': 0.00414735, 'consistency losses/trn_te_loss': 18.61263011, 'aux losses/trn_pitch_loss': 0.12842965, 'aux losses/trn_yaw_loss': 0.28013992, 'consistency losses/trn_%_updates_w_torque_delta_loss': 0.3046875, 'consistency losses/trn_torque_loss': 590.22176407, 'consistency losses/trn_torque_delta_loss': 7.71707156, 'logistical/max_param': 16.1719799, 'logistical/lr': 0.0003}\n",
      "{'logistical/obs_consumed_per_second': 236.734375, 'logistical/obs_generated_per_second': 89.609375, 'logistical/data_consumption_ratio': 2.64375004, 'logistical/manual_train_pause': 0.00492187, 'trn_control_loss': 0.01751187, 'trn_headings_loss': 0.00069292, 'trn_curvatures_loss': 0.00308431, 'consistency losses/trn_steer_cost': 0.00562526, 'consistency losses/trn_te_loss': 18.10133657, 'aux losses/trn_pitch_loss': 0.1548667, 'aux losses/trn_yaw_loss': 0.29082918, 'consistency losses/trn_%_updates_w_torque_delta_loss': 0.359375, 'consistency losses/trn_torque_loss': 610.84799021, 'consistency losses/trn_torque_delta_loss': 7.23564672, 'logistical/max_param': 16.17378044, 'logistical/lr': 0.0003}\n",
      "{'logistical/obs_consumed_per_second': 231.578125, 'logistical/obs_generated_per_second': 96.7578125, 'logistical/data_consumption_ratio': 2.39676652, 'logistical/manual_train_pause': 0.0015625, 'trn_control_loss': 0.01033923, 'trn_headings_loss': 0.00045435, 'trn_curvatures_loss': 0.0017849, 'consistency losses/trn_steer_cost': 0.00386333, 'consistency losses/trn_te_loss': 18.69860264, 'aux losses/trn_pitch_loss': 0.16179657, 'aux losses/trn_yaw_loss': 0.20686865, 'consistency losses/trn_%_updates_w_torque_delta_loss': 0.34375, 'consistency losses/trn_torque_loss': 651.4511109, 'consistency losses/trn_torque_delta_loss': 7.76616113, 'logistical/max_param': 16.16752815, 'logistical/lr': 0.0003}\n",
      "{'logistical/obs_consumed_per_second': 234.828125, 'logistical/obs_generated_per_second': 101.578125, 'logistical/data_consumption_ratio': 2.31212041, 'logistical/manual_train_pause': 0.0, 'trn_control_loss': 0.01050425, 'trn_headings_loss': 0.0004443, 'trn_curvatures_loss': 0.00176389, 'consistency losses/trn_steer_cost': 0.00383286, 'consistency losses/trn_te_loss': 18.16656084, 'aux losses/trn_pitch_loss': 0.10825968, 'aux losses/trn_yaw_loss': 0.18595457, 'consistency losses/trn_%_updates_w_torque_delta_loss': 0.1796875, 'consistency losses/trn_torque_loss': 601.90833457, 'consistency losses/trn_torque_delta_loss': 5.20860033, 'logistical/max_param': 16.16738701, 'logistical/lr': 0.0003}\n",
      "{'logistical/obs_consumed_per_second': 231.921875, 'logistical/obs_generated_per_second': 101.4296875, 'logistical/data_consumption_ratio': 2.28938974, 'logistical/manual_train_pause': 0.0, 'trn_control_loss': 0.01061904, 'trn_headings_loss': 0.00050909, 'trn_curvatures_loss': 0.00183705, 'consistency losses/trn_steer_cost': 0.00374486, 'consistency losses/trn_te_loss': 19.35360523, 'aux losses/trn_pitch_loss': 0.11872602, 'aux losses/trn_yaw_loss': 0.22034168, 'consistency losses/trn_%_updates_w_torque_delta_loss': 0.328125, 'consistency losses/trn_torque_loss': 674.91769749, 'consistency losses/trn_torque_delta_loss': 8.10278118, 'logistical/max_param': 16.16652489, 'logistical/lr': 0.0003}\n",
      "{'logistical/obs_consumed_per_second': 231.3359375, 'logistical/obs_generated_per_second': 103.6328125, 'logistical/data_consumption_ratio': 2.22845645, 'logistical/manual_train_pause': 0.0, 'trn_control_loss': 0.01272506, 'trn_headings_loss': 0.00053285, 'trn_curvatures_loss': 0.00214082, 'consistency losses/trn_steer_cost': 0.00441627, 'consistency losses/trn_te_loss': 18.09481735, 'aux losses/trn_pitch_loss': 0.12817907, 'aux losses/trn_yaw_loss': 0.23242521, 'consistency losses/trn_%_updates_w_torque_delta_loss': 0.2890625, 'consistency losses/trn_torque_loss': 606.16595648, 'consistency losses/trn_torque_delta_loss': 5.87597124, 'logistical/max_param': 16.17164993, 'logistical/lr': 0.0003}\n",
      "{'logistical/obs_consumed_per_second': 231.7109375, 'logistical/obs_generated_per_second': 100.765625, 'logistical/data_consumption_ratio': 2.29714603, 'logistical/manual_train_pause': 7.812e-05, 'trn_control_loss': 0.00885965, 'trn_headings_loss': 0.00044225, 'trn_curvatures_loss': 0.00163612, 'consistency losses/trn_steer_cost': 0.00340725, 'consistency losses/trn_te_loss': 19.0832595, 'aux losses/trn_pitch_loss': 0.11203051, 'aux losses/trn_yaw_loss': 0.19061184, 'consistency losses/trn_%_updates_w_torque_delta_loss': 0.3125, 'consistency losses/trn_torque_loss': 516.26278923, 'consistency losses/trn_torque_delta_loss': 6.95004317, 'logistical/max_param': 16.16977692, 'logistical/lr': 0.0003}\n"
     ]
    },
    {
     "name": "stdout",
     "output_type": "stream",
     "text": [
      "{'logistical/obs_consumed_per_second': 148.0, 'logistical/obs_generated_per_second': 108.0, 'logistical/data_consumption_ratio': 1.36689256, 'logistical/manual_train_pause': 0.0}\n",
      "\n",
      "\n",
      " Eval...\n",
      "EPOCH 53\n",
      "\n",
      "{'trn_control_loss': 0.01361865, 'trn_headings_loss': 0.00054951, 'trn_curvatures_loss': 0.00234355, 'consistency losses/trn_steer_cost': 0.00455128, 'consistency losses/trn_te_loss': 19.42572872, 'aux losses/trn_pitch_loss': 0.11666775, 'aux losses/trn_yaw_loss': 0.20306778, 'consistency losses/trn_%_updates_w_torque_delta_loss': 0.328125, 'consistency losses/trn_torque_loss': 598.78996107, 'consistency losses/trn_torque_delta_loss': 5.92020081, 'logistical/obs_consumed_per_second': 234.49606299, 'logistical/obs_generated_per_second': 110.00787402, 'logistical/data_consumption_ratio': 2.13141587, 'logistical/manual_train_pause': 0.0, 'logistical/max_param': 16.17250633, 'logistical/lr': 0.0003}\n",
      "{'logistical/obs_consumed_per_second': 236.1796875, 'logistical/obs_generated_per_second': 110.0078125, 'logistical/data_consumption_ratio': 2.14596508, 'logistical/manual_train_pause': 0.0, 'trn_control_loss': 0.01548326, 'trn_headings_loss': 0.00058069, 'trn_curvatures_loss': 0.00200347, 'consistency losses/trn_steer_cost': 0.00397952, 'consistency losses/trn_te_loss': 19.01481158, 'aux losses/trn_pitch_loss': 0.13423705, 'aux losses/trn_yaw_loss': 0.25916958, 'consistency losses/trn_%_updates_w_torque_delta_loss': 0.3671875, 'consistency losses/trn_torque_loss': 643.33811434, 'consistency losses/trn_torque_delta_loss': 6.87838944, 'logistical/max_param': 16.17458344, 'logistical/lr': 0.0003}\n",
      "{'logistical/obs_consumed_per_second': 239.34375, 'logistical/obs_generated_per_second': 101.828125, 'logistical/data_consumption_ratio': 2.35734046, 'logistical/manual_train_pause': 0.00109375, 'trn_control_loss': 0.0099754, 'trn_headings_loss': 0.00036335, 'trn_curvatures_loss': 0.00165293, 'consistency losses/trn_steer_cost': 0.00362451, 'consistency losses/trn_te_loss': 19.85280254, 'aux losses/trn_pitch_loss': 0.10842085, 'aux losses/trn_yaw_loss': 0.20306492, 'consistency losses/trn_%_updates_w_torque_delta_loss': 0.328125, 'consistency losses/trn_torque_loss': 565.44191409, 'consistency losses/trn_torque_delta_loss': 6.45034515, 'logistical/max_param': 16.16929245, 'logistical/lr': 0.0003}\n",
      "{'logistical/obs_consumed_per_second': 233.734375, 'logistical/obs_generated_per_second': 101.9765625, 'logistical/data_consumption_ratio': 2.29458357, 'logistical/manual_train_pause': 0.00039062, 'trn_control_loss': 0.01289967, 'trn_headings_loss': 0.00052864, 'trn_curvatures_loss': 0.00224534, 'consistency losses/trn_steer_cost': 0.00463912, 'consistency losses/trn_te_loss': 18.43604458, 'aux losses/trn_pitch_loss': 0.11404419, 'aux losses/trn_yaw_loss': 0.20188951, 'consistency losses/trn_%_updates_w_torque_delta_loss': 0.1953125, 'consistency losses/trn_torque_loss': 571.29492836, 'consistency losses/trn_torque_delta_loss': 6.22756048, 'logistical/max_param': 16.1726284, 'logistical/lr': 0.0003}\n",
      "{'logistical/obs_consumed_per_second': 235.5546875, 'logistical/obs_generated_per_second': 110.1171875, 'logistical/data_consumption_ratio': 2.14135526, 'logistical/manual_train_pause': 0.0, 'trn_control_loss': 0.00855216, 'trn_headings_loss': 0.00039431, 'trn_curvatures_loss': 0.00144092, 'consistency losses/trn_steer_cost': 0.00291385, 'consistency losses/trn_te_loss': 18.69813658, 'aux losses/trn_pitch_loss': 0.09513068, 'aux losses/trn_yaw_loss': 0.19391155, 'consistency losses/trn_%_updates_w_torque_delta_loss': 0.3125, 'consistency losses/trn_torque_loss': 667.47962027, 'consistency losses/trn_torque_delta_loss': 6.38158618, 'logistical/max_param': 16.17020226, 'logistical/lr': 0.0003}\n",
      "{'logistical/obs_consumed_per_second': 235.234375, 'logistical/obs_generated_per_second': 106.9375, 'logistical/data_consumption_ratio': 2.19985255, 'logistical/manual_train_pause': 0.0, 'trn_control_loss': 0.01147708, 'trn_headings_loss': 0.0004548, 'trn_curvatures_loss': 0.00199094, 'consistency losses/trn_steer_cost': 0.0040171, 'consistency losses/trn_te_loss': 16.58903539, 'aux losses/trn_pitch_loss': 0.11244988, 'aux losses/trn_yaw_loss': 0.1683569, 'consistency losses/trn_%_updates_w_torque_delta_loss': 0.1796875, 'consistency losses/trn_torque_loss': 528.4372564, 'consistency losses/trn_torque_delta_loss': 8.46146499, 'logistical/max_param': 16.17017746, 'logistical/lr': 0.0003}\n",
      "{'logistical/obs_consumed_per_second': 237.0234375, 'logistical/obs_generated_per_second': 112.765625, 'logistical/data_consumption_ratio': 2.10445507, 'logistical/manual_train_pause': 0.0, 'trn_control_loss': 0.00948051, 'trn_headings_loss': 0.00043338, 'trn_curvatures_loss': 0.00178415, 'consistency losses/trn_steer_cost': 0.00317851, 'consistency losses/trn_te_loss': 20.65477777, 'aux losses/trn_pitch_loss': 0.12172818, 'aux losses/trn_yaw_loss': 0.202878, 'consistency losses/trn_%_updates_w_torque_delta_loss': 0.34375, 'consistency losses/trn_torque_loss': 662.41973523, 'consistency losses/trn_torque_delta_loss': 6.48253652, 'logistical/max_param': 16.17128181, 'logistical/lr': 0.0003}\n",
      "{'logistical/obs_consumed_per_second': 233.4765625, 'logistical/obs_generated_per_second': 106.6171875, 'logistical/data_consumption_ratio': 2.19267954, 'logistical/manual_train_pause': 0.0, 'trn_control_loss': 0.00898558, 'trn_headings_loss': 0.00034694, 'trn_curvatures_loss': 0.0014125, 'consistency losses/trn_steer_cost': 0.00296275, 'consistency losses/trn_te_loss': 19.04869425, 'aux losses/trn_pitch_loss': 0.11066413, 'aux losses/trn_yaw_loss': 0.20052505, 'consistency losses/trn_%_updates_w_torque_delta_loss': 0.296875, 'consistency losses/trn_torque_delta_loss': 7.72353659, 'consistency losses/trn_torque_loss': 604.50450989, 'logistical/max_param': 16.16706467, 'logistical/lr': 0.0003}\n",
      "{'logistical/obs_consumed_per_second': 229.9375, 'logistical/obs_generated_per_second': 102.46875, 'logistical/data_consumption_ratio': 2.24900774, 'logistical/manual_train_pause': 0.0, 'trn_control_loss': 0.01042154, 'trn_headings_loss': 0.00051849, 'trn_curvatures_loss': 0.00235144, 'consistency losses/trn_steer_cost': 0.00393962, 'consistency losses/trn_te_loss': 18.5809707, 'aux losses/trn_pitch_loss': 0.18645287, 'aux losses/trn_yaw_loss': 0.16241074, 'consistency losses/trn_%_updates_w_torque_delta_loss': 0.265625, 'consistency losses/trn_torque_loss': 651.13263941, 'consistency losses/trn_torque_delta_loss': 7.67697323, 'logistical/max_param': 16.16511726, 'logistical/lr': 0.0003}\n",
      "{'logistical/obs_consumed_per_second': 235.296875, 'logistical/obs_generated_per_second': 100.2734375, 'logistical/data_consumption_ratio': 2.34792986, 'logistical/manual_train_pause': 0.0, 'trn_control_loss': 0.01038674, 'trn_headings_loss': 0.0003719, 'trn_curvatures_loss': 0.00136931, 'consistency losses/trn_steer_cost': 0.00303639, 'consistency losses/trn_te_loss': 19.25417448, 'aux losses/trn_pitch_loss': 0.13529849, 'aux losses/trn_yaw_loss': 0.176507, 'consistency losses/trn_%_updates_w_torque_delta_loss': 0.3671875, 'consistency losses/trn_torque_loss': 702.79711578, 'consistency losses/trn_torque_delta_loss': 8.39132278, 'logistical/max_param': 16.16802025, 'logistical/lr': 0.0003}\n",
      "{'logistical/obs_consumed_per_second': 167.0, 'logistical/obs_generated_per_second': 104.0, 'logistical/data_consumption_ratio': 1.61015014, 'logistical/manual_train_pause': 0.0}\n",
      "\n",
      "\n",
      " Eval...\n",
      "EPOCH 54\n",
      "\n",
      "{'trn_control_loss': 0.01311159, 'trn_headings_loss': 0.00050075, 'trn_curvatures_loss': 0.00189216, 'consistency losses/trn_steer_cost': 0.0041046, 'consistency losses/trn_te_loss': 18.9107404, 'aux losses/trn_pitch_loss': 0.13246655, 'aux losses/trn_yaw_loss': 0.1743722, 'consistency losses/trn_%_updates_w_torque_delta_loss': 0.46875, 'consistency losses/trn_torque_loss': 810.01881671, 'consistency losses/trn_torque_delta_loss': 9.69658448, 'logistical/obs_consumed_per_second': 237.77165354, 'logistical/obs_generated_per_second': 106.1496063, 'logistical/data_consumption_ratio': 2.2389297, 'logistical/manual_train_pause': 0.0, 'logistical/max_param': 16.16435432, 'logistical/lr': 0.0003}\n",
      "{'logistical/obs_consumed_per_second': 234.265625, 'logistical/obs_generated_per_second': 102.828125, 'logistical/data_consumption_ratio': 2.28369477, 'logistical/manual_train_pause': 0.0, 'trn_control_loss': 0.0092122, 'trn_headings_loss': 0.00039579, 'trn_curvatures_loss': 0.00158151, 'consistency losses/trn_steer_cost': 0.00334211, 'consistency losses/trn_te_loss': 18.67032021, 'aux losses/trn_pitch_loss': 0.10704327, 'aux losses/trn_yaw_loss': 0.15463877, 'consistency losses/trn_%_updates_w_torque_delta_loss': 0.3125, 'consistency losses/trn_torque_loss': 602.3955076, 'consistency losses/trn_torque_delta_loss': 5.95263802, 'logistical/max_param': 16.16522789, 'logistical/lr': 0.0003}\n"
     ]
    },
    {
     "name": "stdout",
     "output_type": "stream",
     "text": [
      "{'logistical/obs_consumed_per_second': 234.2109375, 'logistical/obs_generated_per_second': 110.0234375, 'logistical/data_consumption_ratio': 2.13464856, 'logistical/manual_train_pause': 0.0, 'trn_control_loss': 0.01617542, 'trn_headings_loss': 0.00061682, 'trn_curvatures_loss': 0.00236483, 'consistency losses/trn_steer_cost': 0.0050865, 'consistency losses/trn_te_loss': 17.20514071, 'aux losses/trn_pitch_loss': 0.13980341, 'aux losses/trn_yaw_loss': 0.24398518, 'consistency losses/trn_%_updates_w_torque_delta_loss': 0.25, 'consistency losses/trn_torque_loss': 634.52563525, 'consistency losses/trn_torque_delta_loss': 8.21240294, 'logistical/max_param': 16.16247177, 'logistical/lr': 0.0003}\n",
      "{'logistical/obs_consumed_per_second': 233.4140625, 'logistical/obs_generated_per_second': 96.8671875, 'logistical/data_consumption_ratio': 2.40907425, 'logistical/manual_train_pause': 0.00039062, 'trn_control_loss': 0.01827195, 'trn_headings_loss': 0.00062404, 'trn_curvatures_loss': 0.00288327, 'consistency losses/trn_steer_cost': 0.00517844, 'consistency losses/trn_te_loss': 20.09900397, 'aux losses/trn_pitch_loss': 0.10194325, 'aux losses/trn_yaw_loss': 0.28140759, 'consistency losses/trn_%_updates_w_torque_delta_loss': 0.3984375, 'consistency losses/trn_torque_loss': 663.9631077, 'consistency losses/trn_torque_delta_loss': 7.92166675, 'logistical/max_param': 16.16757202, 'logistical/lr': 0.0003}\n",
      "{'logistical/obs_consumed_per_second': 233.3515625, 'logistical/obs_generated_per_second': 102.1953125, 'logistical/data_consumption_ratio': 2.28316076, 'logistical/manual_train_pause': 0.0003125, 'trn_control_loss': 0.0122692, 'trn_headings_loss': 0.00051677, 'trn_curvatures_loss': 0.00207811, 'consistency losses/trn_steer_cost': 0.00372969, 'consistency losses/trn_te_loss': 18.70899706, 'aux losses/trn_pitch_loss': 0.11358523, 'aux losses/trn_yaw_loss': 0.24514198, 'consistency losses/trn_%_updates_w_torque_delta_loss': 0.2734375, 'consistency losses/trn_torque_loss': 732.19093466, 'consistency losses/trn_torque_delta_loss': 8.14434445, 'logistical/max_param': 16.16913795, 'logistical/lr': 0.0003}\n",
      "{'logistical/obs_consumed_per_second': 234.65625, 'logistical/obs_generated_per_second': 104.2578125, 'logistical/data_consumption_ratio': 2.24912676, 'logistical/manual_train_pause': 0.0, 'trn_control_loss': 0.01181024, 'trn_headings_loss': 0.00050677, 'trn_curvatures_loss': 0.00205695, 'consistency losses/trn_steer_cost': 0.00365992, 'consistency losses/trn_te_loss': 17.90829257, 'aux losses/trn_pitch_loss': 0.10070753, 'aux losses/trn_yaw_loss': 0.18030882, 'consistency losses/trn_%_updates_w_torque_delta_loss': 0.265625, 'consistency losses/trn_torque_delta_loss': 6.38580339, 'consistency losses/trn_torque_loss': 548.98826643, 'logistical/max_param': 16.17528343, 'logistical/lr': 0.0003}\n",
      "{'logistical/obs_consumed_per_second': 236.9921875, 'logistical/obs_generated_per_second': 105.25, 'logistical/data_consumption_ratio': 2.25206324, 'logistical/manual_train_pause': 0.0, 'trn_control_loss': 0.01227209, 'trn_headings_loss': 0.00050494, 'trn_curvatures_loss': 0.00177139, 'consistency losses/trn_steer_cost': 0.00347605, 'consistency losses/trn_te_loss': 18.48769411, 'aux losses/trn_pitch_loss': 0.12020707, 'aux losses/trn_yaw_loss': 0.19283342, 'consistency losses/trn_%_updates_w_torque_delta_loss': 0.296875, 'consistency losses/trn_torque_loss': 574.61460437, 'consistency losses/trn_torque_delta_loss': 6.28770424, 'logistical/max_param': 16.18257713, 'logistical/lr': 0.0003}\n",
      "{'logistical/obs_consumed_per_second': 233.2265625, 'logistical/obs_generated_per_second': 102.4296875, 'logistical/data_consumption_ratio': 2.27611312, 'logistical/manual_train_pause': 0.0, 'trn_control_loss': 0.00998318, 'trn_headings_loss': 0.00038245, 'trn_curvatures_loss': 0.00156582, 'consistency losses/trn_steer_cost': 0.00357343, 'consistency losses/trn_te_loss': 19.05166657, 'aux losses/trn_pitch_loss': 0.111866, 'aux losses/trn_yaw_loss': 0.19189453, 'consistency losses/trn_%_updates_w_torque_delta_loss': 0.28125, 'consistency losses/trn_torque_loss': 559.78499333, 'consistency losses/trn_torque_delta_loss': 6.29675573, 'logistical/max_param': 16.18300819, 'logistical/lr': 0.0003}\n",
      "{'logistical/obs_consumed_per_second': 236.46875, 'logistical/obs_generated_per_second': 98.640625, 'logistical/data_consumption_ratio': 2.39860137, 'logistical/manual_train_pause': 0.0003125, 'trn_control_loss': 0.01207694, 'trn_headings_loss': 0.00045287, 'trn_curvatures_loss': 0.00163684, 'consistency losses/trn_steer_cost': 0.00318253, 'consistency losses/trn_te_loss': 19.68023298, 'aux losses/trn_pitch_loss': 0.13716817, 'aux losses/trn_yaw_loss': 0.20915794, 'consistency losses/trn_%_updates_w_torque_delta_loss': 0.28125, 'consistency losses/trn_torque_loss': 549.10250465, 'consistency losses/trn_torque_delta_loss': 6.53091971, 'logistical/max_param': 16.18050766, 'logistical/lr': 0.0003}\n",
      "{'logistical/obs_consumed_per_second': 231.90625, 'logistical/obs_generated_per_second': 98.1015625, 'logistical/data_consumption_ratio': 2.36238035, 'logistical/manual_train_pause': 0.00039062, 'trn_control_loss': 0.01278868, 'trn_headings_loss': 0.00048767, 'trn_curvatures_loss': 0.00191945, 'consistency losses/trn_steer_cost': 0.00331292, 'consistency losses/trn_te_loss': 18.50884384, 'aux losses/trn_pitch_loss': 0.11038637, 'aux losses/trn_yaw_loss': 0.23328209, 'consistency losses/trn_%_updates_w_torque_delta_loss': 0.265625, 'consistency losses/trn_torque_loss': 594.60026385, 'consistency losses/trn_torque_delta_loss': 5.69664779, 'logistical/max_param': 16.18139839, 'logistical/lr': 0.0003}\n",
      "{'logistical/obs_consumed_per_second': 141.0, 'logistical/obs_generated_per_second': 102.0, 'logistical/data_consumption_ratio': 1.38566375, 'logistical/manual_train_pause': 0.0}\n",
      "\n",
      "\n",
      " Eval...\n",
      "EPOCH 55\n",
      "\n",
      "{'trn_control_loss': 0.01101139, 'trn_headings_loss': 0.00049377, 'trn_curvatures_loss': 0.00183278, 'consistency losses/trn_steer_cost': 0.00341765, 'consistency losses/trn_te_loss': 18.73967538, 'aux losses/trn_pitch_loss': 0.11398292, 'aux losses/trn_yaw_loss': 0.1687398, 'consistency losses/trn_%_updates_w_torque_delta_loss': 0.34375, 'consistency losses/trn_torque_loss': 682.42488055, 'consistency losses/trn_torque_delta_loss': 8.44205807, 'logistical/obs_consumed_per_second': 236.5984252, 'logistical/obs_generated_per_second': 107.00787402, 'logistical/data_consumption_ratio': 2.21273418, 'logistical/manual_train_pause': 0.0, 'logistical/max_param': 16.18273735, 'logistical/lr': 0.0001}\n",
      "{'logistical/obs_consumed_per_second': 234.3828125, 'logistical/obs_generated_per_second': 108.3515625, 'logistical/data_consumption_ratio': 2.16570111, 'logistical/manual_train_pause': 0.0, 'trn_control_loss': 0.00916007, 'trn_headings_loss': 0.00040206, 'trn_curvatures_loss': 0.00194427, 'consistency losses/trn_steer_cost': 0.00414203, 'consistency losses/trn_te_loss': 18.55292887, 'aux losses/trn_pitch_loss': 0.11240745, 'aux losses/trn_yaw_loss': 0.16920447, 'consistency losses/trn_%_updates_w_torque_delta_loss': 0.25, 'consistency losses/trn_torque_loss': 584.46259933, 'consistency losses/trn_torque_delta_loss': 7.02132644, 'logistical/max_param': 16.1826992, 'logistical/lr': 0.0001}\n",
      "{'logistical/obs_consumed_per_second': 232.9921875, 'logistical/obs_generated_per_second': 106.171875, 'logistical/data_consumption_ratio': 2.19400592, 'logistical/manual_train_pause': 0.0, 'trn_control_loss': 0.00797197, 'trn_headings_loss': 0.00036087, 'trn_curvatures_loss': 0.00138377, 'consistency losses/trn_steer_cost': 0.00342301, 'consistency losses/trn_te_loss': 18.92768434, 'aux losses/trn_pitch_loss': 0.10716629, 'aux losses/trn_yaw_loss': 0.14728832, 'consistency losses/trn_%_updates_w_torque_delta_loss': 0.2734375, 'consistency losses/trn_torque_loss': 595.42824328, 'consistency losses/trn_torque_delta_loss': 6.40647396, 'logistical/max_param': 16.18296051, 'logistical/lr': 0.0001}\n",
      "{'logistical/obs_consumed_per_second': 233.4453125, 'logistical/obs_generated_per_second': 99.5390625, 'logistical/data_consumption_ratio': 2.34867528, 'logistical/manual_train_pause': 7.812e-05, 'trn_control_loss': 0.00872909, 'trn_headings_loss': 0.00039535, 'trn_curvatures_loss': 0.00158762, 'consistency losses/trn_steer_cost': 0.00364216, 'consistency losses/trn_te_loss': 18.21857069, 'aux losses/trn_pitch_loss': 0.09597445, 'aux losses/trn_yaw_loss': 0.15178657, 'consistency losses/trn_%_updates_w_torque_delta_loss': 0.359375, 'consistency losses/trn_torque_loss': 695.07642925, 'consistency losses/trn_torque_delta_loss': 6.78387587, 'logistical/max_param': 16.18475914, 'logistical/lr': 0.0001}\n"
     ]
    },
    {
     "name": "stdout",
     "output_type": "stream",
     "text": [
      "{'logistical/obs_consumed_per_second': 235.4453125, 'logistical/obs_generated_per_second': 109.0625, 'logistical/data_consumption_ratio': 2.16168006, 'logistical/manual_train_pause': 0.0, 'trn_control_loss': 0.00699073, 'trn_headings_loss': 0.00027733, 'trn_curvatures_loss': 0.00112628, 'consistency losses/trn_steer_cost': 0.00276527, 'consistency losses/trn_te_loss': 18.97565335, 'aux losses/trn_pitch_loss': 0.10036016, 'aux losses/trn_yaw_loss': 0.13311672, 'consistency losses/trn_%_updates_w_torque_delta_loss': 0.234375, 'consistency losses/trn_torque_loss': 754.35257589, 'consistency losses/trn_torque_delta_loss': 5.3870604, 'logistical/max_param': 16.18533707, 'logistical/lr': 0.0001}\n",
      "{'logistical/obs_consumed_per_second': 228.609375, 'logistical/obs_generated_per_second': 102.0625, 'logistical/data_consumption_ratio': 2.24256021, 'logistical/manual_train_pause': 0.0, 'trn_control_loss': 0.00892174, 'trn_headings_loss': 0.00038179, 'trn_curvatures_loss': 0.00147043, 'consistency losses/trn_steer_cost': 0.00358783, 'consistency losses/trn_te_loss': 19.33812597, 'aux losses/trn_pitch_loss': 0.12231517, 'aux losses/trn_yaw_loss': 0.15177417, 'consistency losses/trn_%_updates_w_torque_delta_loss': 0.25, 'consistency losses/trn_torque_loss': 681.22803342, 'consistency losses/trn_torque_delta_loss': 6.53102911, 'logistical/max_param': 16.18553352, 'logistical/lr': 0.0001}\n",
      "{'logistical/obs_consumed_per_second': 239.5390625, 'logistical/obs_generated_per_second': 107.6171875, 'logistical/data_consumption_ratio': 2.23092635, 'logistical/manual_train_pause': 0.0, 'trn_control_loss': 0.01217765, 'trn_headings_loss': 0.00045164, 'trn_curvatures_loss': 0.00208759, 'consistency losses/trn_steer_cost': 0.00388552, 'consistency losses/trn_te_loss': 18.77831857, 'aux losses/trn_pitch_loss': 0.08789301, 'aux losses/trn_yaw_loss': 0.15116739, 'consistency losses/trn_%_updates_w_torque_delta_loss': 0.1796875, 'consistency losses/trn_torque_loss': 596.92818911, 'consistency losses/trn_torque_delta_loss': 6.26228272, 'logistical/max_param': 16.18575859, 'logistical/lr': 0.0001}\n",
      "{'logistical/obs_consumed_per_second': 236.9453125, 'logistical/obs_generated_per_second': 101.078125, 'logistical/data_consumption_ratio': 2.34634757, 'logistical/manual_train_pause': 0.0, 'trn_control_loss': 0.00882104, 'trn_headings_loss': 0.00031651, 'trn_curvatures_loss': 0.00136512, 'consistency losses/trn_steer_cost': 0.00417082, 'consistency losses/trn_te_loss': 19.15427979, 'aux losses/trn_pitch_loss': 0.1067512, 'aux losses/trn_yaw_loss': 0.11814046, 'consistency losses/trn_%_updates_w_torque_delta_loss': 0.2265625, 'consistency losses/trn_torque_loss': 621.89333958, 'consistency losses/trn_torque_delta_loss': 8.04666335, 'logistical/max_param': 16.18607903, 'logistical/lr': 0.0001}\n",
      "{'logistical/obs_consumed_per_second': 230.2890625, 'logistical/obs_generated_per_second': 102.59375, 'logistical/data_consumption_ratio': 2.24581317, 'logistical/manual_train_pause': 0.0, 'trn_control_loss': 0.01323697, 'trn_headings_loss': 0.00056457, 'trn_curvatures_loss': 0.00269554, 'consistency losses/trn_steer_cost': 0.00571281, 'consistency losses/trn_te_loss': 19.04230212, 'aux losses/trn_pitch_loss': 0.11158061, 'aux losses/trn_yaw_loss': 0.17774773, 'consistency losses/trn_%_updates_w_torque_delta_loss': 0.21875, 'consistency losses/trn_torque_loss': 723.80406028, 'consistency losses/trn_torque_delta_loss': 5.2880921, 'logistical/max_param': 16.18572998, 'logistical/lr': 0.0001}\n",
      "{'logistical/obs_consumed_per_second': 235.765625, 'logistical/obs_generated_per_second': 102.953125, 'logistical/data_consumption_ratio': 2.29106777, 'logistical/manual_train_pause': 0.0, 'trn_control_loss': 0.00755955, 'trn_headings_loss': 0.0003392, 'trn_curvatures_loss': 0.00126516, 'consistency losses/trn_steer_cost': 0.00296041, 'consistency losses/trn_te_loss': 19.01882536, 'aux losses/trn_pitch_loss': 0.0996778, 'aux losses/trn_yaw_loss': 0.12630486, 'consistency losses/trn_%_updates_w_torque_delta_loss': 0.3515625, 'consistency losses/trn_torque_loss': 724.60566794, 'consistency losses/trn_torque_delta_loss': 8.01426527, 'logistical/max_param': 16.18880081, 'logistical/lr': 0.0001}\n",
      "{'logistical/obs_consumed_per_second': 123.0, 'logistical/obs_generated_per_second': 101.0, 'logistical/data_consumption_ratio': 1.20740006, 'logistical/manual_train_pause': 0.0}\n",
      "\n",
      "\n",
      " Eval...\n",
      "EPOCH 56\n",
      "\n",
      "{'trn_control_loss': 0.00933596, 'trn_headings_loss': 0.00041734, 'trn_curvatures_loss': 0.00172583, 'consistency losses/trn_steer_cost': 0.00370926, 'consistency losses/trn_te_loss': 19.59844006, 'aux losses/trn_pitch_loss': 0.09911084, 'aux losses/trn_yaw_loss': 0.14786863, 'consistency losses/trn_%_updates_w_torque_delta_loss': 0.375, 'consistency losses/trn_torque_loss': 714.05769838, 'consistency losses/trn_torque_delta_loss': 5.61361917, 'logistical/obs_consumed_per_second': 238.30708661, 'logistical/obs_generated_per_second': 100.36220472, 'logistical/data_consumption_ratio': 2.37783798, 'logistical/manual_train_pause': 0.0, 'logistical/max_param': 16.18773651, 'logistical/lr': 0.0001}\n",
      "{'logistical/obs_consumed_per_second': 236.6328125, 'logistical/obs_generated_per_second': 104.359375, 'logistical/data_consumption_ratio': 2.26652329, 'logistical/manual_train_pause': 0.0, 'trn_control_loss': 0.01072967, 'trn_headings_loss': 0.00037974, 'trn_curvatures_loss': 0.00145235, 'consistency losses/trn_steer_cost': 0.00339798, 'consistency losses/trn_te_loss': 19.38259399, 'aux losses/trn_pitch_loss': 0.10340786, 'aux losses/trn_yaw_loss': 0.17205954, 'consistency losses/trn_%_updates_w_torque_delta_loss': 0.1953125, 'consistency losses/trn_torque_loss': 711.3717023, 'consistency losses/trn_torque_delta_loss': 5.935739, 'logistical/max_param': 16.18762779, 'logistical/lr': 0.0001}\n",
      "{'logistical/obs_consumed_per_second': 232.6640625, 'logistical/obs_generated_per_second': 101.8125, 'logistical/data_consumption_ratio': 2.28318023, 'logistical/manual_train_pause': 7.812e-05, 'trn_control_loss': 0.00996751, 'trn_headings_loss': 0.00041607, 'trn_curvatures_loss': 0.00169121, 'consistency losses/trn_steer_cost': 0.00394888, 'consistency losses/trn_te_loss': 18.01241525, 'aux losses/trn_pitch_loss': 0.12172079, 'aux losses/trn_yaw_loss': 0.18452215, 'consistency losses/trn_%_updates_w_torque_delta_loss': 0.2890625, 'consistency losses/trn_torque_loss': 597.5462448, 'consistency losses/trn_torque_delta_loss': 6.62996955, 'logistical/max_param': 16.18439865, 'logistical/lr': 0.0001}\n",
      "{'logistical/obs_consumed_per_second': 231.125, 'logistical/obs_generated_per_second': 102.0078125, 'logistical/data_consumption_ratio': 2.26885954, 'logistical/manual_train_pause': 0.0, 'trn_control_loss': 0.0126904, 'trn_headings_loss': 0.00055039, 'trn_curvatures_loss': 0.00237365, 'consistency losses/trn_steer_cost': 0.00502163, 'consistency losses/trn_te_loss': 18.97029223, 'aux losses/trn_pitch_loss': 0.10196114, 'aux losses/trn_yaw_loss': 0.17380381, 'consistency losses/trn_%_updates_w_torque_delta_loss': 0.3359375, 'consistency losses/trn_torque_loss': 696.6503678, 'consistency losses/trn_torque_delta_loss': 6.24521907, 'logistical/max_param': 16.18441582, 'logistical/lr': 0.0001}\n",
      "{'logistical/obs_consumed_per_second': 232.578125, 'logistical/obs_generated_per_second': 101.0703125, 'logistical/data_consumption_ratio': 2.30674382, 'logistical/manual_train_pause': 0.0, 'trn_control_loss': 0.01027486, 'trn_headings_loss': 0.00036856, 'trn_curvatures_loss': 0.00156701, 'consistency losses/trn_steer_cost': 0.00354482, 'consistency losses/trn_te_loss': 18.83196364, 'aux losses/trn_pitch_loss': 0.11075401, 'aux losses/trn_yaw_loss': 0.11833596, 'consistency losses/trn_%_updates_w_torque_delta_loss': 0.2421875, 'consistency losses/trn_torque_loss': 583.21600601, 'consistency losses/trn_torque_delta_loss': 7.61127433, 'logistical/max_param': 16.18568802, 'logistical/lr': 0.0001}\n",
      "{'logistical/obs_consumed_per_second': 229.6953125, 'logistical/obs_generated_per_second': 102.7265625, 'logistical/data_consumption_ratio': 2.23890354, 'logistical/manual_train_pause': 0.0, 'trn_control_loss': 0.00820716, 'trn_headings_loss': 0.00034477, 'trn_curvatures_loss': 0.0013567, 'consistency losses/trn_steer_cost': 0.00314367, 'consistency losses/trn_te_loss': 18.94313322, 'aux losses/trn_pitch_loss': 0.09995413, 'aux losses/trn_yaw_loss': 0.16376019, 'consistency losses/trn_%_updates_w_torque_delta_loss': 0.1640625, 'consistency losses/trn_torque_loss': 606.58316937, 'consistency losses/trn_torque_delta_loss': 6.7428823, 'logistical/max_param': 16.18610191, 'logistical/lr': 0.0001}\n"
     ]
    },
    {
     "name": "stdout",
     "output_type": "stream",
     "text": [
      "{'logistical/obs_consumed_per_second': 230.8828125, 'logistical/obs_generated_per_second': 97.0390625, 'logistical/data_consumption_ratio': 2.38136545, 'logistical/manual_train_pause': 0.00054688, 'trn_control_loss': 0.00907221, 'trn_headings_loss': 0.00044513, 'trn_curvatures_loss': 0.00227505, 'consistency losses/trn_steer_cost': 0.0040928, 'consistency losses/trn_te_loss': 19.0248962, 'aux losses/trn_pitch_loss': 0.10232115, 'aux losses/trn_yaw_loss': 0.13495564, 'consistency losses/trn_%_updates_w_torque_delta_loss': 0.2265625, 'consistency losses/trn_torque_loss': 623.20600121, 'consistency losses/trn_torque_delta_loss': 5.8400836, 'logistical/max_param': 16.18669701, 'logistical/lr': 0.0001}\n",
      "{'logistical/obs_consumed_per_second': 237.3984375, 'logistical/obs_generated_per_second': 100.7734375, 'logistical/data_consumption_ratio': 2.35476961, 'logistical/manual_train_pause': 0.00070313, 'trn_control_loss': 0.01386699, 'trn_headings_loss': 0.00046595, 'trn_curvatures_loss': 0.0019416, 'consistency losses/trn_steer_cost': 0.00440813, 'consistency losses/trn_te_loss': 19.43331778, 'aux losses/trn_pitch_loss': 0.09802711, 'aux losses/trn_yaw_loss': 0.1644578, 'consistency losses/trn_%_updates_w_torque_delta_loss': 0.28125, 'consistency losses/trn_torque_loss': 800.74332745, 'consistency losses/trn_torque_delta_loss': 7.16265284, 'logistical/max_param': 16.18823624, 'logistical/lr': 0.0001}\n",
      "{'logistical/obs_consumed_per_second': 230.9609375, 'logistical/obs_generated_per_second': 92.328125, 'logistical/data_consumption_ratio': 2.50604715, 'logistical/manual_train_pause': 0.00140625, 'trn_control_loss': 0.01154131, 'trn_headings_loss': 0.00044901, 'trn_curvatures_loss': 0.00171672, 'consistency losses/trn_steer_cost': 0.00386052, 'consistency losses/trn_te_loss': 18.58556782, 'aux losses/trn_pitch_loss': 0.11306834, 'aux losses/trn_yaw_loss': 0.16793251, 'consistency losses/trn_%_updates_w_torque_delta_loss': 0.171875, 'consistency losses/trn_torque_loss': 689.8180431, 'consistency losses/trn_torque_delta_loss': 5.49377511, 'logistical/max_param': 16.18820572, 'logistical/lr': 0.0001}\n",
      "{'logistical/obs_consumed_per_second': 241.40625, 'logistical/obs_generated_per_second': 104.8984375, 'logistical/data_consumption_ratio': 2.30902365, 'logistical/manual_train_pause': 7.812e-05, 'trn_control_loss': 0.01287967, 'trn_headings_loss': 0.00044381, 'trn_curvatures_loss': 0.00187264, 'consistency losses/trn_steer_cost': 0.00438082, 'consistency losses/trn_te_loss': 18.95547885, 'aux losses/trn_pitch_loss': 0.09368277, 'aux losses/trn_yaw_loss': 0.14127922, 'consistency losses/trn_%_updates_w_torque_delta_loss': 0.3125, 'consistency losses/trn_torque_loss': 672.65876162, 'consistency losses/trn_torque_delta_loss': 8.37494353, 'logistical/max_param': 16.18529129, 'logistical/lr': 0.0001}\n",
      "{'logistical/obs_consumed_per_second': 156.0, 'logistical/obs_generated_per_second': 111.0, 'logistical/data_consumption_ratio': 1.39807612, 'logistical/manual_train_pause': 0.0}\n",
      "\n",
      "\n",
      " Eval...\n",
      "EPOCH 57\n",
      "\n",
      "{'trn_control_loss': 0.00814553, 'trn_headings_loss': 0.0003584, 'trn_curvatures_loss': 0.00153693, 'consistency losses/trn_steer_cost': 0.00281816, 'consistency losses/trn_te_loss': 20.15073453, 'aux losses/trn_pitch_loss': 0.09385967, 'aux losses/trn_yaw_loss': 0.1412158, 'consistency losses/trn_%_updates_w_torque_delta_loss': 0.2734375, 'consistency losses/trn_torque_loss': 667.20288994, 'consistency losses/trn_torque_delta_loss': 6.24659024, 'logistical/obs_consumed_per_second': 238.01574803, 'logistical/obs_generated_per_second': 107.59055118, 'logistical/data_consumption_ratio': 2.21617993, 'logistical/manual_train_pause': 0.0, 'logistical/max_param': 16.18684578, 'logistical/lr': 0.0001}\n",
      "{'logistical/obs_consumed_per_second': 239.265625, 'logistical/obs_generated_per_second': 99.4453125, 'logistical/data_consumption_ratio': 2.4065441, 'logistical/manual_train_pause': 0.00023438, 'trn_control_loss': 0.00876784, 'trn_headings_loss': 0.00038788, 'trn_curvatures_loss': 0.00144596, 'consistency losses/trn_steer_cost': 0.00329602, 'consistency losses/trn_te_loss': 19.81134875, 'aux losses/trn_pitch_loss': 0.09793568, 'aux losses/trn_yaw_loss': 0.12656021, 'consistency losses/trn_%_updates_w_torque_delta_loss': 0.3046875, 'consistency losses/trn_torque_loss': 648.61734116, 'consistency losses/trn_torque_delta_loss': 7.18669944, 'logistical/max_param': 16.18785667, 'logistical/lr': 0.0001}\n",
      "{'logistical/obs_consumed_per_second': 230.71875, 'logistical/obs_generated_per_second': 105.5625, 'logistical/data_consumption_ratio': 2.18897307, 'logistical/manual_train_pause': 0.0, 'trn_control_loss': 0.00726172, 'trn_headings_loss': 0.00026687, 'trn_curvatures_loss': 0.00120931, 'consistency losses/trn_steer_cost': 0.00266445, 'consistency losses/trn_te_loss': 20.25920224, 'aux losses/trn_pitch_loss': 0.10057139, 'aux losses/trn_yaw_loss': 0.12267256, 'consistency losses/trn_%_updates_w_torque_delta_loss': 0.296875, 'consistency losses/trn_torque_loss': 711.43411161, 'consistency losses/trn_torque_delta_loss': 7.18380179, 'logistical/max_param': 16.18750572, 'logistical/lr': 0.0001}\n",
      "{'logistical/obs_consumed_per_second': 238.953125, 'logistical/obs_generated_per_second': 107.515625, 'logistical/data_consumption_ratio': 2.22487289, 'logistical/manual_train_pause': 0.0, 'trn_control_loss': 0.0103876, 'trn_headings_loss': 0.00038646, 'trn_curvatures_loss': 0.00175077, 'consistency losses/trn_steer_cost': 0.00423318, 'consistency losses/trn_te_loss': 19.06438956, 'aux losses/trn_pitch_loss': 0.10029769, 'aux losses/trn_yaw_loss': 0.17179203, 'consistency losses/trn_%_updates_w_torque_delta_loss': 0.3046875, 'consistency losses/trn_torque_loss': 813.22530974, 'consistency losses/trn_torque_delta_loss': 7.62855291, 'logistical/max_param': 16.18762779, 'logistical/lr': 0.0001}\n",
      "{'logistical/obs_consumed_per_second': 236.2265625, 'logistical/obs_generated_per_second': 96.8125, 'logistical/data_consumption_ratio': 2.44029695, 'logistical/manual_train_pause': 0.00070312, 'trn_control_loss': 0.00884429, 'trn_headings_loss': 0.0003519, 'trn_curvatures_loss': 0.00145748, 'consistency losses/trn_steer_cost': 0.00367302, 'consistency losses/trn_te_loss': 18.4133663, 'aux losses/trn_pitch_loss': 0.10293841, 'aux losses/trn_yaw_loss': 0.13099813, 'consistency losses/trn_%_updates_w_torque_delta_loss': 0.171875, 'consistency losses/trn_torque_loss': 580.11035468, 'consistency losses/trn_torque_delta_loss': 5.58488963, 'logistical/max_param': 16.1898365, 'logistical/lr': 0.0001}\n",
      "{'logistical/obs_consumed_per_second': 232.0, 'logistical/obs_generated_per_second': 100.640625, 'logistical/data_consumption_ratio': 2.30924494, 'logistical/manual_train_pause': 0.0, 'trn_control_loss': 0.00968239, 'trn_headings_loss': 0.00043656, 'trn_curvatures_loss': 0.00175313, 'consistency losses/trn_steer_cost': 0.00375105, 'consistency losses/trn_te_loss': 19.27248248, 'aux losses/trn_pitch_loss': 0.09937263, 'aux losses/trn_yaw_loss': 0.143291, 'consistency losses/trn_%_updates_w_torque_delta_loss': 0.3125, 'consistency losses/trn_torque_loss': 640.14712621, 'consistency losses/trn_torque_delta_loss': 6.58859895, 'logistical/max_param': 16.18871689, 'logistical/lr': 0.0001}\n",
      "{'logistical/obs_consumed_per_second': 235.4765625, 'logistical/obs_generated_per_second': 105.890625, 'logistical/data_consumption_ratio': 2.22398413, 'logistical/manual_train_pause': 0.0, 'trn_control_loss': 0.0097304, 'trn_headings_loss': 0.00036814, 'trn_curvatures_loss': 0.00145606, 'consistency losses/trn_steer_cost': 0.00353856, 'consistency losses/trn_te_loss': 18.79008167, 'aux losses/trn_pitch_loss': 0.09811831, 'aux losses/trn_yaw_loss': 0.16705942, 'consistency losses/trn_%_updates_w_torque_delta_loss': 0.2578125, 'consistency losses/trn_torque_loss': 667.59246798, 'consistency losses/trn_torque_delta_loss': 6.03256764, 'logistical/max_param': 16.18752289, 'logistical/lr': 0.0001}\n",
      "{'logistical/obs_consumed_per_second': 235.5546875, 'logistical/obs_generated_per_second': 104.0703125, 'logistical/data_consumption_ratio': 2.26522516, 'logistical/manual_train_pause': 0.0, 'trn_control_loss': 0.00846067, 'trn_headings_loss': 0.00035903, 'trn_curvatures_loss': 0.00126133, 'consistency losses/trn_steer_cost': 0.00278088, 'consistency losses/trn_te_loss': 19.8518604, 'aux losses/trn_pitch_loss': 0.0880394, 'aux losses/trn_yaw_loss': 0.14100504, 'consistency losses/trn_%_updates_w_torque_delta_loss': 0.2734375, 'consistency losses/trn_torque_loss': 817.64807752, 'consistency losses/trn_torque_delta_loss': 8.17497796, 'logistical/max_param': 16.18772316, 'logistical/lr': 0.0001}\n"
     ]
    },
    {
     "name": "stdout",
     "output_type": "stream",
     "text": [
      "{'logistical/obs_consumed_per_second': 235.34375, 'logistical/obs_generated_per_second': 98.3046875, 'logistical/data_consumption_ratio': 2.39570016, 'logistical/manual_train_pause': 0.0003125, 'trn_control_loss': 0.01036924, 'trn_headings_loss': 0.00047251, 'trn_curvatures_loss': 0.00210223, 'consistency losses/trn_steer_cost': 0.00479645, 'consistency losses/trn_te_loss': 17.91223416, 'aux losses/trn_pitch_loss': 0.09346962, 'aux losses/trn_yaw_loss': 0.15499878, 'consistency losses/trn_%_updates_w_torque_delta_loss': 0.25, 'consistency losses/trn_torque_delta_loss': 6.63406195, 'consistency losses/trn_torque_loss': 677.58036707, 'logistical/max_param': 16.1861763, 'logistical/lr': 0.0001}\n",
      "{'logistical/obs_consumed_per_second': 231.0390625, 'logistical/obs_generated_per_second': 94.8671875, 'logistical/data_consumption_ratio': 2.43701405, 'logistical/manual_train_pause': 0.00125, 'trn_control_loss': 0.01116231, 'trn_headings_loss': 0.00044314, 'trn_curvatures_loss': 0.00202079, 'consistency losses/trn_steer_cost': 0.00393635, 'consistency losses/trn_te_loss': 18.79400063, 'aux losses/trn_pitch_loss': 0.09473681, 'aux losses/trn_yaw_loss': 0.17773581, 'consistency losses/trn_%_updates_w_torque_delta_loss': 0.2421875, 'consistency losses/trn_torque_loss': 579.8350257, 'consistency losses/trn_torque_delta_loss': 8.96483952, 'logistical/max_param': 16.18347931, 'logistical/lr': 0.0001}\n",
      "{'logistical/obs_consumed_per_second': 158.0, 'logistical/obs_generated_per_second': 100.0, 'logistical/data_consumption_ratio': 1.58689072, 'logistical/manual_train_pause': 0.0}\n",
      "\n",
      "\n",
      " Eval...\n",
      "EPOCH 58\n",
      "\n",
      "{'trn_control_loss': 0.01645204, 'trn_headings_loss': 0.00058288, 'trn_curvatures_loss': 0.00245523, 'consistency losses/trn_steer_cost': 0.00533581, 'consistency losses/trn_te_loss': 17.7493076, 'aux losses/trn_pitch_loss': 0.11161828, 'aux losses/trn_yaw_loss': 0.18937564, 'consistency losses/trn_%_updates_w_torque_delta_loss': 0.3203125, 'consistency losses/trn_torque_loss': 574.6835513, 'consistency losses/trn_torque_delta_loss': 9.17895273, 'logistical/obs_consumed_per_second': 233.16535433, 'logistical/obs_generated_per_second': 104.44094488, 'logistical/data_consumption_ratio': 2.23411378, 'logistical/manual_train_pause': 0.0, 'logistical/max_param': 16.18804169, 'logistical/lr': 0.0001}\n",
      "{'logistical/obs_consumed_per_second': 232.3046875, 'logistical/obs_generated_per_second': 107.046875, 'logistical/data_consumption_ratio': 2.17045854, 'logistical/manual_train_pause': 0.0, 'trn_control_loss': 0.00778827, 'trn_headings_loss': 0.00036113, 'trn_curvatures_loss': 0.00115188, 'consistency losses/trn_steer_cost': 0.00243459, 'consistency losses/trn_te_loss': 19.66732997, 'aux losses/trn_pitch_loss': 0.09760189, 'aux losses/trn_yaw_loss': 0.11863565, 'consistency losses/trn_%_updates_w_torque_delta_loss': 0.234375, 'consistency losses/trn_torque_loss': 609.54125111, 'consistency losses/trn_torque_delta_loss': 4.66483716, 'logistical/max_param': 16.18840408, 'logistical/lr': 0.0001}\n",
      "{'logistical/obs_consumed_per_second': 233.609375, 'logistical/obs_generated_per_second': 95.421875, 'logistical/data_consumption_ratio': 2.44846343, 'logistical/manual_train_pause': 0.00195312, 'trn_control_loss': 0.01511404, 'trn_headings_loss': 0.00054864, 'trn_curvatures_loss': 0.00215765, 'consistency losses/trn_steer_cost': 0.00386927, 'consistency losses/trn_te_loss': 17.91154199, 'aux losses/trn_pitch_loss': 0.11900806, 'aux losses/trn_yaw_loss': 0.1877327, 'consistency losses/trn_%_updates_w_torque_delta_loss': 0.3515625, 'consistency losses/trn_torque_loss': 542.22935942, 'consistency losses/trn_torque_delta_loss': 5.85689028, 'logistical/max_param': 16.18812752, 'logistical/lr': 0.0001}\n",
      "{'logistical/obs_consumed_per_second': 235.90625, 'logistical/obs_generated_per_second': 103.4765625, 'logistical/data_consumption_ratio': 2.27975002, 'logistical/manual_train_pause': 0.0, 'trn_control_loss': 0.00952661, 'trn_headings_loss': 0.00037744, 'trn_curvatures_loss': 0.00160162, 'consistency losses/trn_steer_cost': 0.00356086, 'consistency losses/trn_te_loss': 17.63207738, 'aux losses/trn_pitch_loss': 0.10115194, 'aux losses/trn_yaw_loss': 0.14628005, 'consistency losses/trn_%_updates_w_torque_delta_loss': 0.203125, 'consistency losses/trn_torque_loss': 565.60713132, 'consistency losses/trn_torque_delta_loss': 5.27200718, 'logistical/max_param': 16.18798828, 'logistical/lr': 0.0001}\n",
      "{'logistical/obs_consumed_per_second': 233.7265625, 'logistical/obs_generated_per_second': 102.7734375, 'logistical/data_consumption_ratio': 2.27746807, 'logistical/manual_train_pause': 0.0, 'trn_control_loss': 0.01155773, 'trn_headings_loss': 0.00044188, 'trn_curvatures_loss': 0.00182968, 'consistency losses/trn_steer_cost': 0.00479029, 'consistency losses/trn_te_loss': 18.15519273, 'aux losses/trn_pitch_loss': 0.12040472, 'aux losses/trn_yaw_loss': 0.17058992, 'consistency losses/trn_%_updates_w_torque_delta_loss': 0.328125, 'consistency losses/trn_torque_loss': 667.90915858, 'consistency losses/trn_torque_delta_loss': 6.81154663, 'logistical/max_param': 16.18903923, 'logistical/lr': 0.0001}\n",
      "{'logistical/obs_consumed_per_second': 229.5078125, 'logistical/obs_generated_per_second': 97.8984375, 'logistical/data_consumption_ratio': 2.34429167, 'logistical/manual_train_pause': 0.00015625, 'trn_control_loss': 0.00911444, 'trn_headings_loss': 0.00036637, 'trn_curvatures_loss': 0.00131594, 'consistency losses/trn_steer_cost': 0.00329748, 'consistency losses/trn_te_loss': 18.87246973, 'aux losses/trn_pitch_loss': 0.08332229, 'aux losses/trn_yaw_loss': 0.13748598, 'consistency losses/trn_%_updates_w_torque_delta_loss': 0.296875, 'consistency losses/trn_torque_loss': 756.77513086, 'consistency losses/trn_torque_delta_loss': 6.43202962, 'logistical/max_param': 16.18929291, 'logistical/lr': 0.0001}\n",
      "{'logistical/obs_consumed_per_second': 235.0859375, 'logistical/obs_generated_per_second': 108.3203125, 'logistical/data_consumption_ratio': 2.17334433, 'logistical/manual_train_pause': 0.0, 'trn_control_loss': 0.0085023, 'trn_headings_loss': 0.00038918, 'trn_curvatures_loss': 0.00165455, 'consistency losses/trn_steer_cost': 0.00375837, 'consistency losses/trn_te_loss': 18.48922592, 'aux losses/trn_pitch_loss': 0.09213328, 'aux losses/trn_yaw_loss': 0.14909196, 'consistency losses/trn_%_updates_w_torque_delta_loss': 0.3203125, 'consistency losses/trn_torque_loss': 562.34817269, 'consistency losses/trn_torque_delta_loss': 5.75323492, 'logistical/max_param': 16.18809509, 'logistical/lr': 0.0001}\n",
      "{'logistical/obs_consumed_per_second': 232.2109375, 'logistical/obs_generated_per_second': 105.6171875, 'logistical/data_consumption_ratio': 2.20250419, 'logistical/manual_train_pause': 0.0, 'trn_control_loss': 0.01135826, 'trn_headings_loss': 0.00044318, 'trn_curvatures_loss': 0.00204558, 'consistency losses/trn_steer_cost': 0.00423948, 'consistency losses/trn_te_loss': 17.23195808, 'aux losses/trn_pitch_loss': 0.09475398, 'aux losses/trn_yaw_loss': 0.20099068, 'consistency losses/trn_%_updates_w_torque_delta_loss': 0.125, 'consistency losses/trn_torque_loss': 552.05873195, 'consistency losses/trn_torque_delta_loss': 6.42067555, 'logistical/max_param': 16.19079208, 'logistical/lr': 0.0001}\n",
      "{'logistical/obs_consumed_per_second': 230.6171875, 'logistical/obs_generated_per_second': 102.4765625, 'logistical/data_consumption_ratio': 2.24816111, 'logistical/manual_train_pause': 0.0, 'trn_control_loss': 0.0120531, 'trn_headings_loss': 0.00050693, 'trn_curvatures_loss': 0.0027087, 'consistency losses/trn_steer_cost': 0.00608627, 'consistency losses/trn_te_loss': 17.38813467, 'aux losses/trn_pitch_loss': 0.1141212, 'aux losses/trn_yaw_loss': 0.15091324, 'consistency losses/trn_%_updates_w_torque_delta_loss': 0.25, 'consistency losses/trn_torque_loss': 623.75013292, 'consistency losses/trn_torque_delta_loss': 5.85390568, 'logistical/max_param': 16.19146347, 'logistical/lr': 0.0001}\n",
      "{'logistical/obs_consumed_per_second': 239.03125, 'logistical/obs_generated_per_second': 108.0, 'logistical/data_consumption_ratio': 2.22033445, 'logistical/manual_train_pause': 0.0, 'trn_control_loss': 0.00880954, 'trn_headings_loss': 0.00032378, 'trn_curvatures_loss': 0.0012285, 'consistency losses/trn_steer_cost': 0.00291456, 'consistency losses/trn_te_loss': 18.57928783, 'aux losses/trn_pitch_loss': 0.09682846, 'aux losses/trn_yaw_loss': 0.14719009, 'consistency losses/trn_%_updates_w_torque_delta_loss': 0.234375, 'consistency losses/trn_torque_loss': 674.56411969, 'consistency losses/trn_torque_delta_loss': 6.0937527, 'logistical/max_param': 16.19165802, 'logistical/lr': 0.0001}\n"
     ]
    },
    {
     "name": "stdout",
     "output_type": "stream",
     "text": [
      "{'logistical/obs_consumed_per_second': 165.0, 'logistical/obs_generated_per_second': 103.0, 'logistical/data_consumption_ratio': 1.60553957, 'logistical/manual_train_pause': 0.0}\n",
      "\n",
      "\n",
      " Eval...\n",
      "EPOCH 59\n",
      "\n",
      "{'trn_control_loss': 0.01107991, 'trn_headings_loss': 0.00042159, 'trn_curvatures_loss': 0.00158387, 'consistency losses/trn_steer_cost': 0.00361566, 'consistency losses/trn_te_loss': 19.1260227, 'aux losses/trn_pitch_loss': 0.09158373, 'aux losses/trn_yaw_loss': 0.17848873, 'consistency losses/trn_%_updates_w_torque_delta_loss': 0.25, 'consistency losses/trn_torque_loss': 493.28798517, 'logistical/obs_consumed_per_second': 234.77165354, 'logistical/obs_generated_per_second': 102.69291339, 'logistical/data_consumption_ratio': 2.28812552, 'logistical/manual_train_pause': 0.0, 'consistency losses/trn_torque_delta_loss': 4.93179864, 'logistical/max_param': 16.19094086, 'logistical/lr': 0.0001}\n",
      "{'logistical/obs_consumed_per_second': 231.8046875, 'logistical/obs_generated_per_second': 106.2265625, 'logistical/data_consumption_ratio': 2.18185349, 'logistical/manual_train_pause': 0.0, 'trn_control_loss': 0.01241562, 'trn_headings_loss': 0.00050765, 'trn_curvatures_loss': 0.0021772, 'consistency losses/trn_steer_cost': 0.00412899, 'consistency losses/trn_te_loss': 17.55213535, 'aux losses/trn_pitch_loss': 0.12137198, 'aux losses/trn_yaw_loss': 0.16605568, 'consistency losses/trn_%_updates_w_torque_delta_loss': 0.21875, 'consistency losses/trn_torque_loss': 628.5479573, 'consistency losses/trn_torque_delta_loss': 4.98159134, 'logistical/max_param': 16.19049072, 'logistical/lr': 0.0001}\n",
      "{'logistical/obs_consumed_per_second': 232.40625, 'logistical/obs_generated_per_second': 104.765625, 'logistical/data_consumption_ratio': 2.22164107, 'logistical/manual_train_pause': 0.0, 'trn_control_loss': 0.00707637, 'trn_headings_loss': 0.00025062, 'trn_curvatures_loss': 0.00089604, 'consistency losses/trn_steer_cost': 0.00226185, 'consistency losses/trn_te_loss': 19.83720364, 'aux losses/trn_pitch_loss': 0.09248328, 'aux losses/trn_yaw_loss': 0.11270428, 'consistency losses/trn_%_updates_w_torque_delta_loss': 0.2734375, 'consistency losses/trn_torque_loss': 623.29174631, 'consistency losses/trn_torque_delta_loss': 6.97319001, 'logistical/max_param': 16.19171524, 'logistical/lr': 0.0001}\n",
      "{'logistical/obs_consumed_per_second': 231.96875, 'logistical/obs_generated_per_second': 99.40625, 'logistical/data_consumption_ratio': 2.33716086, 'logistical/manual_train_pause': 0.0, 'trn_control_loss': 0.01154682, 'trn_headings_loss': 0.00044004, 'trn_curvatures_loss': 0.0018973, 'consistency losses/trn_steer_cost': 0.00434245, 'consistency losses/trn_te_loss': 17.98618513, 'aux losses/trn_pitch_loss': 0.09208655, 'aux losses/trn_yaw_loss': 0.1733613, 'consistency losses/trn_%_updates_w_torque_delta_loss': 0.1640625, 'consistency losses/trn_torque_loss': 706.66685924, 'consistency losses/trn_torque_delta_loss': 7.82526632, 'logistical/max_param': 16.1937542, 'logistical/lr': 0.0001}\n",
      "{'logistical/obs_consumed_per_second': 235.4609375, 'logistical/obs_generated_per_second': 100.25, 'logistical/data_consumption_ratio': 2.35428193, 'logistical/manual_train_pause': 0.00023438, 'trn_control_loss': 0.00955468, 'trn_headings_loss': 0.00040451, 'trn_curvatures_loss': 0.00174441, 'consistency losses/trn_steer_cost': 0.00376716, 'consistency losses/trn_te_loss': 18.06639836, 'aux losses/trn_pitch_loss': 0.08561134, 'aux losses/trn_yaw_loss': 0.13592863, 'consistency losses/trn_%_updates_w_torque_delta_loss': 0.2265625, 'consistency losses/trn_torque_loss': 638.27390686, 'consistency losses/trn_torque_delta_loss': 6.5604918, 'logistical/max_param': 16.19202232, 'logistical/lr': 0.0001}\n",
      "{'logistical/obs_consumed_per_second': 230.5234375, 'logistical/obs_generated_per_second': 99.0078125, 'logistical/data_consumption_ratio': 2.33001598, 'logistical/manual_train_pause': 0.00039062, 'trn_control_loss': 0.00810845, 'trn_headings_loss': 0.00036376, 'trn_curvatures_loss': 0.0015906, 'consistency losses/trn_steer_cost': 0.00360182, 'consistency losses/trn_te_loss': 19.18747037, 'aux losses/trn_pitch_loss': 0.09820628, 'aux losses/trn_yaw_loss': 0.1235795, 'consistency losses/trn_%_updates_w_torque_delta_loss': 0.234375, 'consistency losses/trn_torque_loss': 684.48124343, 'consistency losses/trn_torque_delta_loss': 6.01449902, 'logistical/max_param': 16.19176674, 'logistical/lr': 0.0001}\n",
      "{'logistical/obs_consumed_per_second': 234.453125, 'logistical/obs_generated_per_second': 103.71875, 'logistical/data_consumption_ratio': 2.2621841, 'logistical/manual_train_pause': 0.0, 'trn_control_loss': 0.01148644, 'trn_headings_loss': 0.00047105, 'trn_curvatures_loss': 0.00217009, 'consistency losses/trn_steer_cost': 0.00425263, 'consistency losses/trn_te_loss': 18.55302558, 'aux losses/trn_pitch_loss': 0.11584663, 'aux losses/trn_yaw_loss': 0.16660094, 'consistency losses/trn_%_updates_w_torque_delta_loss': 0.2109375, 'consistency losses/trn_torque_loss': 657.4645614, 'consistency losses/trn_torque_delta_loss': 6.37394607, 'logistical/max_param': 16.19219208, 'logistical/lr': 0.0001}\n",
      "{'logistical/obs_consumed_per_second': 232.9375, 'logistical/obs_generated_per_second': 101.6484375, 'logistical/data_consumption_ratio': 2.28952219, 'logistical/manual_train_pause': 0.0, 'trn_control_loss': 0.01010624, 'trn_headings_loss': 0.00039996, 'trn_curvatures_loss': 0.00196092, 'consistency losses/trn_steer_cost': 0.00398149, 'consistency losses/trn_te_loss': 19.5277193, 'aux losses/trn_pitch_loss': 0.128613, 'aux losses/trn_yaw_loss': 0.15369415, 'consistency losses/trn_%_updates_w_torque_delta_loss': 0.21875, 'consistency losses/trn_torque_loss': 632.33995344, 'consistency losses/trn_torque_delta_loss': 6.92667402, 'logistical/max_param': 16.19184113, 'logistical/lr': 0.0001}\n",
      "{'logistical/obs_consumed_per_second': 235.921875, 'logistical/obs_generated_per_second': 105.2421875, 'logistical/data_consumption_ratio': 2.24496097, 'logistical/manual_train_pause': 0.0, 'trn_control_loss': 0.00776243, 'trn_headings_loss': 0.00032447, 'trn_curvatures_loss': 0.00133516, 'consistency losses/trn_steer_cost': 0.00316118, 'consistency losses/trn_te_loss': 19.57524671, 'aux losses/trn_pitch_loss': 0.08822322, 'aux losses/trn_yaw_loss': 0.12276626, 'consistency losses/trn_%_updates_w_torque_delta_loss': 0.2734375, 'consistency losses/trn_torque_loss': 634.18725954, 'consistency losses/trn_torque_delta_loss': 5.37555904, 'logistical/max_param': 16.19040108, 'logistical/lr': 0.0001}\n",
      "{'logistical/obs_consumed_per_second': 234.15625, 'logistical/obs_generated_per_second': 110.65625, 'logistical/data_consumption_ratio': 2.12131527, 'logistical/manual_train_pause': 0.0, 'trn_control_loss': 0.01490858, 'trn_headings_loss': 0.00061383, 'trn_curvatures_loss': 0.00304712, 'consistency losses/trn_steer_cost': 0.00432716, 'consistency losses/trn_te_loss': 18.46189056, 'aux losses/trn_pitch_loss': 0.09571075, 'aux losses/trn_yaw_loss': 0.17402291, 'consistency losses/trn_%_updates_w_torque_delta_loss': 0.28125, 'consistency losses/trn_torque_loss': 668.95419267, 'consistency losses/trn_torque_delta_loss': 6.3961874, 'logistical/max_param': 16.18879318, 'logistical/lr': 0.0001}\n",
      "{'logistical/obs_consumed_per_second': 148.0, 'logistical/obs_generated_per_second': 104.0, 'logistical/data_consumption_ratio': 1.43367087, 'logistical/manual_train_pause': 0.0}\n",
      "\n",
      "\n",
      " Eval...\n",
      "EPOCH 60\n",
      "\n",
      "{'trn_control_loss': 0.00819093, 'trn_headings_loss': 0.00034669, 'trn_curvatures_loss': 0.00158608, 'consistency losses/trn_steer_cost': 0.00362372, 'consistency losses/trn_te_loss': 19.22676057, 'aux losses/trn_pitch_loss': 0.10234761, 'aux losses/trn_yaw_loss': 0.1555233, 'consistency losses/trn_%_updates_w_torque_delta_loss': 0.265625, 'consistency losses/trn_torque_loss': 768.41763153, 'consistency losses/trn_torque_delta_loss': 8.64215466, 'logistical/obs_consumed_per_second': 231.96850394, 'logistical/obs_generated_per_second': 102.93700787, 'logistical/data_consumption_ratio': 2.24982325, 'logistical/manual_train_pause': 0.0, 'logistical/max_param': 16.18906593, 'logistical/lr': 0.0001}\n",
      "{'logistical/obs_consumed_per_second': 229.90625, 'logistical/obs_generated_per_second': 100.4453125, 'logistical/data_consumption_ratio': 2.28675489, 'logistical/manual_train_pause': 7.812e-05, 'trn_control_loss': 0.01048633, 'trn_headings_loss': 0.00048873, 'trn_curvatures_loss': 0.00214042, 'consistency losses/trn_steer_cost': 0.00443535, 'consistency losses/trn_te_loss': 16.51535897, 'aux losses/trn_pitch_loss': 0.10717177, 'aux losses/trn_yaw_loss': 0.16294456, 'consistency losses/trn_%_updates_w_torque_delta_loss': 0.25, 'consistency losses/trn_torque_loss': 520.14205601, 'consistency losses/trn_torque_delta_loss': 5.70912384, 'logistical/max_param': 16.18870354, 'logistical/lr': 0.0001}\n"
     ]
    },
    {
     "name": "stdout",
     "output_type": "stream",
     "text": [
      "{'logistical/obs_consumed_per_second': 233.3203125, 'logistical/obs_generated_per_second': 100.7734375, 'logistical/data_consumption_ratio': 2.31716897, 'logistical/manual_train_pause': 0.00023438, 'trn_control_loss': 0.01053023, 'trn_headings_loss': 0.00041777, 'trn_curvatures_loss': 0.00194172, 'consistency losses/trn_steer_cost': 0.00476399, 'consistency losses/trn_te_loss': 18.52239013, 'aux losses/trn_pitch_loss': 0.13721561, 'aux losses/trn_yaw_loss': 0.17920732, 'consistency losses/trn_%_updates_w_torque_delta_loss': 0.28125, 'consistency losses/trn_torque_loss': 780.52860582, 'consistency losses/trn_torque_delta_loss': 7.53269218, 'logistical/max_param': 16.1872654, 'logistical/lr': 0.0001}\n",
      "{'logistical/obs_consumed_per_second': 231.96875, 'logistical/obs_generated_per_second': 105.0703125, 'logistical/data_consumption_ratio': 2.20686369, 'logistical/manual_train_pause': 0.0, 'trn_control_loss': 0.01211119, 'trn_headings_loss': 0.0004556, 'trn_curvatures_loss': 0.0021375, 'consistency losses/trn_steer_cost': 0.00459912, 'consistency losses/trn_te_loss': 19.33705626, 'aux losses/trn_pitch_loss': 0.10096359, 'aux losses/trn_yaw_loss': 0.1492126, 'consistency losses/trn_%_updates_w_torque_delta_loss': 0.296875, 'consistency losses/trn_torque_loss': 659.38942454, 'consistency losses/trn_torque_delta_loss': 6.82601569, 'logistical/max_param': 16.18926811, 'logistical/lr': 0.0001}\n",
      "{'logistical/obs_consumed_per_second': 239.8359375, 'logistical/obs_generated_per_second': 105.046875, 'logistical/data_consumption_ratio': 2.28720299, 'logistical/manual_train_pause': 0.0, 'trn_control_loss': 0.01194528, 'trn_headings_loss': 0.00046703, 'trn_curvatures_loss': 0.00164778, 'consistency losses/trn_steer_cost': 0.00343814, 'consistency losses/trn_te_loss': 18.83651885, 'aux losses/trn_pitch_loss': 0.13283992, 'aux losses/trn_yaw_loss': 0.19381285, 'consistency losses/trn_%_updates_w_torque_delta_loss': 0.3125, 'consistency losses/trn_torque_loss': 647.75402844, 'consistency losses/trn_torque_delta_loss': 6.69279157, 'logistical/max_param': 16.18928719, 'logistical/lr': 0.0001}\n",
      "{'logistical/obs_consumed_per_second': 230.59375, 'logistical/obs_generated_per_second': 106.75, 'logistical/data_consumption_ratio': 2.1673095, 'logistical/manual_train_pause': 0.0, 'trn_control_loss': 0.00880146, 'trn_headings_loss': 0.00034582, 'trn_curvatures_loss': 0.00129933, 'consistency losses/trn_steer_cost': 0.00313872, 'consistency losses/trn_te_loss': 18.97737561, 'aux losses/trn_pitch_loss': 0.09029603, 'aux losses/trn_yaw_loss': 0.1523335, 'consistency losses/trn_%_updates_w_torque_delta_loss': 0.21875, 'consistency losses/trn_torque_loss': 725.10879557, 'consistency losses/trn_torque_delta_loss': 6.7598221, 'logistical/max_param': 16.1891861, 'logistical/lr': 0.0001}\n",
      "{'logistical/obs_consumed_per_second': 230.0, 'logistical/obs_generated_per_second': 104.2421875, 'logistical/data_consumption_ratio': 2.20928137, 'logistical/manual_train_pause': 0.0, 'trn_control_loss': 0.01070246, 'trn_headings_loss': 0.00042223, 'trn_curvatures_loss': 0.00196599, 'consistency losses/trn_steer_cost': 0.00431573, 'consistency losses/trn_te_loss': 18.1296509, 'aux losses/trn_pitch_loss': 0.11088085, 'aux losses/trn_yaw_loss': 0.14976549, 'consistency losses/trn_%_updates_w_torque_delta_loss': 0.203125, 'consistency losses/trn_torque_loss': 587.88455468, 'consistency losses/trn_torque_delta_loss': 5.14807113, 'logistical/max_param': 16.18831444, 'logistical/lr': 0.0001}\n",
      "{'logistical/obs_consumed_per_second': 232.953125, 'logistical/obs_generated_per_second': 102.5625, 'logistical/data_consumption_ratio': 2.27669575, 'logistical/manual_train_pause': 0.0, 'trn_control_loss': 0.01246905, 'trn_headings_loss': 0.00046777, 'trn_curvatures_loss': 0.00182521, 'consistency losses/trn_steer_cost': 0.00411434, 'consistency losses/trn_te_loss': 18.06265854, 'aux losses/trn_pitch_loss': 0.11205888, 'aux losses/trn_yaw_loss': 0.18650436, 'consistency losses/trn_%_updates_w_torque_delta_loss': 0.2890625, 'consistency losses/trn_torque_loss': 722.38084444, 'consistency losses/trn_torque_delta_loss': 6.9198087, 'logistical/max_param': 16.18947029, 'logistical/lr': 0.0001}\n",
      "{'logistical/obs_consumed_per_second': 226.9140625, 'logistical/obs_generated_per_second': 99.015625, 'logistical/data_consumption_ratio': 2.29246607, 'logistical/manual_train_pause': 7.812e-05, 'trn_control_loss': 0.01095971, 'trn_headings_loss': 0.00043731, 'trn_curvatures_loss': 0.00147674, 'consistency losses/trn_steer_cost': 0.00339027, 'consistency losses/trn_te_loss': 17.79473671, 'aux losses/trn_pitch_loss': 0.10414481, 'aux losses/trn_yaw_loss': 0.16594243, 'consistency losses/trn_%_updates_w_torque_delta_loss': 0.25, 'consistency losses/trn_torque_loss': 616.81895231, 'consistency losses/trn_torque_delta_loss': 5.9731417, 'logistical/max_param': 16.18936348, 'logistical/lr': 0.0001}\n",
      "{'logistical/obs_consumed_per_second': 232.9921875, 'logistical/obs_generated_per_second': 97.15625, 'logistical/data_consumption_ratio': 2.4126043, 'logistical/manual_train_pause': 0.00148438, 'trn_control_loss': 0.01007113, 'trn_headings_loss': 0.00037966, 'trn_curvatures_loss': 0.00160607, 'consistency losses/trn_steer_cost': 0.00374192, 'consistency losses/trn_te_loss': 17.5730601, 'aux losses/trn_pitch_loss': 0.08751416, 'aux losses/trn_yaw_loss': 0.16195822, 'consistency losses/trn_%_updates_w_torque_delta_loss': 0.15625, 'consistency losses/trn_torque_loss': 545.75536789, 'consistency losses/trn_torque_delta_loss': 5.68994675, 'logistical/max_param': 16.18819046, 'logistical/lr': 0.0001}\n",
      "{'logistical/obs_consumed_per_second': 128.0, 'logistical/obs_generated_per_second': 109.0, 'logistical/data_consumption_ratio': 1.17623503, 'logistical/manual_train_pause': 0.0}\n",
      "\n",
      "\n",
      " Eval...\n",
      "EPOCH 61\n",
      "\n",
      "{'trn_control_loss': 0.01281479, 'trn_headings_loss': 0.00052035, 'trn_curvatures_loss': 0.00244484, 'consistency losses/trn_steer_cost': 0.00459228, 'consistency losses/trn_te_loss': 17.67748524, 'aux losses/trn_pitch_loss': 0.10948658, 'aux losses/trn_yaw_loss': 0.15522671, 'consistency losses/trn_%_updates_w_torque_delta_loss': 0.2734375, 'consistency losses/trn_torque_loss': 599.83346974, 'consistency losses/trn_torque_delta_loss': 7.19042856, 'logistical/obs_consumed_per_second': 235.06299213, 'logistical/obs_generated_per_second': 104.03937008, 'logistical/data_consumption_ratio': 2.26229348, 'logistical/manual_train_pause': 0.0, 'logistical/max_param': 16.18777466, 'logistical/lr': 0.0001}\n",
      "{'logistical/obs_consumed_per_second': 234.5625, 'logistical/obs_generated_per_second': 104.5859375, 'logistical/data_consumption_ratio': 2.24132664, 'logistical/manual_train_pause': 0.0, 'trn_control_loss': 0.01310202, 'trn_headings_loss': 0.00055329, 'trn_curvatures_loss': 0.00248494, 'consistency losses/trn_steer_cost': 0.00496396, 'consistency losses/trn_te_loss': 18.48811772, 'aux losses/trn_pitch_loss': 0.10774207, 'aux losses/trn_yaw_loss': 0.13416338, 'consistency losses/trn_%_updates_w_torque_delta_loss': 0.34375, 'consistency losses/trn_torque_delta_loss': 4.78321242, 'consistency losses/trn_torque_loss': 713.64149349, 'logistical/max_param': 16.18739319, 'logistical/lr': 0.0001}\n",
      "{'logistical/obs_consumed_per_second': 231.921875, 'logistical/obs_generated_per_second': 100.8984375, 'logistical/data_consumption_ratio': 2.29873471, 'logistical/manual_train_pause': 7.812e-05, 'trn_control_loss': 0.01365146, 'trn_headings_loss': 0.00054668, 'trn_curvatures_loss': 0.00264622, 'consistency losses/trn_steer_cost': 0.00594199, 'consistency losses/trn_te_loss': 17.40016592, 'aux losses/trn_pitch_loss': 0.14177966, 'aux losses/trn_yaw_loss': 0.1620717, 'consistency losses/trn_%_updates_w_torque_delta_loss': 0.3828125, 'consistency losses/trn_torque_delta_loss': 8.75480734, 'consistency losses/trn_torque_loss': 545.25399705, 'logistical/max_param': 16.18683434, 'logistical/lr': 0.0001}\n",
      "{'logistical/obs_consumed_per_second': 232.1953125, 'logistical/obs_generated_per_second': 103.7578125, 'logistical/data_consumption_ratio': 2.24282647, 'logistical/manual_train_pause': 0.0, 'trn_control_loss': 0.01022696, 'trn_headings_loss': 0.0004205, 'trn_curvatures_loss': 0.00193577, 'consistency losses/trn_steer_cost': 0.00455646, 'consistency losses/trn_te_loss': 19.08564782, 'aux losses/trn_pitch_loss': 0.12047744, 'aux losses/trn_yaw_loss': 0.13515425, 'consistency losses/trn_%_updates_w_torque_delta_loss': 0.390625, 'consistency losses/trn_torque_loss': 893.26364312, 'consistency losses/trn_torque_delta_loss': 6.97285577, 'logistical/max_param': 16.18699837, 'logistical/lr': 0.0001}\n"
     ]
    },
    {
     "name": "stdout",
     "output_type": "stream",
     "text": [
      "{'logistical/obs_consumed_per_second': 241.078125, 'logistical/obs_generated_per_second': 105.9609375, 'logistical/data_consumption_ratio': 2.27948195, 'logistical/manual_train_pause': 0.0, 'trn_control_loss': 0.00999656, 'trn_headings_loss': 0.00037829, 'trn_curvatures_loss': 0.00157463, 'consistency losses/trn_steer_cost': 0.0035483, 'consistency losses/trn_te_loss': 18.84230968, 'aux losses/trn_pitch_loss': 0.083004, 'aux losses/trn_yaw_loss': 0.16334224, 'consistency losses/trn_%_updates_w_torque_delta_loss': 0.1875, 'consistency losses/trn_torque_loss': 710.38113049, 'consistency losses/trn_torque_delta_loss': 6.43834555, 'logistical/max_param': 16.1865406, 'logistical/lr': 0.0001}\n",
      "{'logistical/obs_consumed_per_second': 227.484375, 'logistical/obs_generated_per_second': 104.421875, 'logistical/data_consumption_ratio': 2.18211909, 'logistical/manual_train_pause': 0.00023438, 'trn_control_loss': 0.01082841, 'trn_headings_loss': 0.00041214, 'trn_curvatures_loss': 0.00151361, 'consistency losses/trn_steer_cost': 0.00323478, 'consistency losses/trn_te_loss': 18.65721487, 'aux losses/trn_pitch_loss': 0.12515068, 'aux losses/trn_yaw_loss': 0.15687895, 'consistency losses/trn_%_updates_w_torque_delta_loss': 0.3203125, 'consistency losses/trn_torque_loss': 758.05631471, 'consistency losses/trn_torque_delta_loss': 7.14245555, 'logistical/max_param': 16.18799019, 'logistical/lr': 0.0001}\n",
      "{'logistical/obs_consumed_per_second': 234.75, 'logistical/obs_generated_per_second': 96.78125, 'logistical/data_consumption_ratio': 2.4249705, 'logistical/manual_train_pause': 0.00117188, 'trn_control_loss': 0.00981593, 'trn_headings_loss': 0.00044373, 'trn_curvatures_loss': 0.00189366, 'consistency losses/trn_steer_cost': 0.00347097, 'consistency losses/trn_te_loss': 18.09422775, 'aux losses/trn_pitch_loss': 0.11006713, 'aux losses/trn_yaw_loss': 0.1549921, 'consistency losses/trn_%_updates_w_torque_delta_loss': 0.25, 'consistency losses/trn_torque_loss': 657.41916211, 'consistency losses/trn_torque_delta_loss': 8.19177143, 'logistical/max_param': 16.18781853, 'logistical/lr': 0.0001}\n",
      "{'logistical/obs_consumed_per_second': 226.265625, 'logistical/obs_generated_per_second': 93.796875, 'logistical/data_consumption_ratio': 2.41904131, 'logistical/manual_train_pause': 0.00132812, 'trn_control_loss': 0.01367468, 'trn_headings_loss': 0.00051507, 'trn_curvatures_loss': 0.00266897, 'consistency losses/trn_steer_cost': 0.00559483, 'consistency losses/trn_te_loss': 18.63316931, 'aux losses/trn_pitch_loss': 0.1043911, 'aux losses/trn_yaw_loss': 0.20115733, 'consistency losses/trn_%_updates_w_torque_delta_loss': 0.28125, 'consistency losses/trn_torque_loss': 736.12550251, 'consistency losses/trn_torque_delta_loss': 7.04815833, 'logistical/max_param': 16.18840027, 'logistical/lr': 0.0001}\n",
      "{'logistical/obs_consumed_per_second': 233.1640625, 'logistical/obs_generated_per_second': 97.0078125, 'logistical/data_consumption_ratio': 2.40932415, 'logistical/manual_train_pause': 0.00125, 'trn_control_loss': 0.01156738, 'trn_headings_loss': 0.00042437, 'trn_curvatures_loss': 0.00159125, 'consistency losses/trn_steer_cost': 0.00343286, 'consistency losses/trn_te_loss': 18.79287352, 'aux losses/trn_pitch_loss': 0.09516239, 'aux losses/trn_yaw_loss': 0.15977216, 'consistency losses/trn_%_updates_w_torque_delta_loss': 0.234375, 'consistency losses/trn_torque_loss': 748.74150209, 'consistency losses/trn_torque_delta_loss': 6.54430421, 'logistical/max_param': 16.18670464, 'logistical/lr': 0.0001}\n",
      "{'logistical/obs_consumed_per_second': 240.5390625, 'logistical/obs_generated_per_second': 104.3828125, 'logistical/data_consumption_ratio': 2.30509695, 'logistical/manual_train_pause': 0.0, 'trn_control_loss': 0.01025137, 'trn_headings_loss': 0.00043957, 'trn_curvatures_loss': 0.00196548, 'consistency losses/trn_steer_cost': 0.00362074, 'consistency losses/trn_te_loss': 17.8956695, 'aux losses/trn_pitch_loss': 0.1029675, 'aux losses/trn_yaw_loss': 0.15998197, 'consistency losses/trn_%_updates_w_torque_delta_loss': 0.2265625, 'consistency losses/trn_torque_loss': 608.72306917, 'consistency losses/trn_torque_delta_loss': 5.59635277, 'logistical/max_param': 16.18631744, 'logistical/lr': 0.0001}\n",
      "{'logistical/obs_consumed_per_second': 142.0, 'logistical/obs_generated_per_second': 106.0, 'logistical/data_consumption_ratio': 1.33439069, 'logistical/manual_train_pause': 0.0}\n",
      "\n",
      "\n",
      " Eval...\n",
      "EPOCH 62\n",
      "\n",
      "{'trn_control_loss': 0.01091564, 'trn_headings_loss': 0.00040444, 'trn_curvatures_loss': 0.00156777, 'consistency losses/trn_steer_cost': 0.00323728, 'consistency losses/trn_te_loss': 18.17659736, 'aux losses/trn_pitch_loss': 0.10449648, 'aux losses/trn_yaw_loss': 0.12635207, 'consistency losses/trn_%_updates_w_torque_delta_loss': 0.2734375, 'consistency losses/trn_torque_delta_loss': 7.72537898, 'logistical/obs_consumed_per_second': 237.35433071, 'logistical/obs_generated_per_second': 106.25984252, 'logistical/data_consumption_ratio': 2.2351315, 'logistical/manual_train_pause': 0.0, 'consistency losses/trn_torque_loss': 597.83374929, 'logistical/max_param': 16.18542862, 'logistical/lr': 0.0001}\n",
      "{'logistical/obs_consumed_per_second': 238.0, 'logistical/obs_generated_per_second': 105.96875, 'logistical/data_consumption_ratio': 2.24660745, 'logistical/manual_train_pause': 0.0, 'trn_control_loss': 0.01034144, 'trn_headings_loss': 0.00036759, 'trn_curvatures_loss': 0.00159039, 'consistency losses/trn_steer_cost': 0.00402643, 'consistency losses/trn_te_loss': 17.9663571, 'aux losses/trn_pitch_loss': 0.10346556, 'aux losses/trn_yaw_loss': 0.13888907, 'consistency losses/trn_%_updates_w_torque_delta_loss': 0.171875, 'consistency losses/trn_torque_loss': 542.80166117, 'consistency losses/trn_torque_delta_loss': 5.02290693, 'logistical/max_param': 16.18577957, 'logistical/lr': 0.0001}\n",
      "{'logistical/obs_consumed_per_second': 236.4765625, 'logistical/obs_generated_per_second': 100.6171875, 'logistical/data_consumption_ratio': 2.35099462, 'logistical/manual_train_pause': 7.812e-05, 'trn_control_loss': 0.00814174, 'trn_headings_loss': 0.00036625, 'trn_curvatures_loss': 0.00138853, 'consistency losses/trn_steer_cost': 0.00310031, 'consistency losses/trn_te_loss': 18.42103263, 'aux losses/trn_pitch_loss': 0.0955646, 'aux losses/trn_yaw_loss': 0.12438178, 'consistency losses/trn_%_updates_w_torque_delta_loss': 0.2578125, 'consistency losses/trn_torque_loss': 646.26764092, 'consistency losses/trn_torque_delta_loss': 5.94821239, 'logistical/max_param': 16.18676186, 'logistical/lr': 0.0001}\n",
      "{'logistical/obs_consumed_per_second': 235.1015625, 'logistical/obs_generated_per_second': 104.1640625, 'logistical/data_consumption_ratio': 2.25928175, 'logistical/manual_train_pause': 0.0, 'trn_control_loss': 0.01035129, 'trn_headings_loss': 0.00044013, 'trn_curvatures_loss': 0.00179309, 'consistency losses/trn_steer_cost': 0.00354093, 'consistency losses/trn_te_loss': 18.35797434, 'aux losses/trn_pitch_loss': 0.08920121, 'aux losses/trn_yaw_loss': 0.13832355, 'consistency losses/trn_%_updates_w_torque_delta_loss': 0.15625, 'consistency losses/trn_torque_loss': 546.72137967, 'consistency losses/trn_torque_delta_loss': 6.94256645, 'logistical/max_param': 16.18565178, 'logistical/lr': 0.0001}\n",
      "{'logistical/obs_consumed_per_second': 234.46875, 'logistical/obs_generated_per_second': 108.6796875, 'logistical/data_consumption_ratio': 2.16111223, 'logistical/manual_train_pause': 0.0, 'trn_control_loss': 0.00922351, 'trn_headings_loss': 0.0003839, 'trn_curvatures_loss': 0.00163522, 'consistency losses/trn_steer_cost': 0.00388325, 'consistency losses/trn_te_loss': 17.14258423, 'aux losses/trn_pitch_loss': 0.10649395, 'aux losses/trn_yaw_loss': 0.13645434, 'consistency losses/trn_%_updates_w_torque_delta_loss': 0.1328125, 'consistency losses/trn_torque_loss': 612.16763484, 'consistency losses/trn_torque_delta_loss': 5.88060135, 'logistical/max_param': 16.18676949, 'logistical/lr': 0.0001}\n",
      "{'logistical/obs_consumed_per_second': 235.1875, 'logistical/obs_generated_per_second': 100.21875, 'logistical/data_consumption_ratio': 2.34923124, 'logistical/manual_train_pause': 0.00039062, 'trn_control_loss': 0.01423469, 'trn_headings_loss': 0.00053805, 'trn_curvatures_loss': 0.00199606, 'consistency losses/trn_steer_cost': 0.00355615, 'consistency losses/trn_te_loss': 17.34060844, 'aux losses/trn_pitch_loss': 0.11869287, 'aux losses/trn_yaw_loss': 0.17565203, 'consistency losses/trn_%_updates_w_torque_delta_loss': 0.21875, 'consistency losses/trn_torque_loss': 514.67630363, 'consistency losses/trn_torque_delta_loss': 6.77942665, 'logistical/max_param': 16.18673706, 'logistical/lr': 0.0001}\n"
     ]
    },
    {
     "name": "stdout",
     "output_type": "stream",
     "text": [
      "{'logistical/obs_consumed_per_second': 233.078125, 'logistical/obs_generated_per_second': 103.734375, 'logistical/data_consumption_ratio': 2.24711835, 'logistical/manual_train_pause': 0.0, 'trn_control_loss': 0.01155365, 'trn_headings_loss': 0.0004666, 'trn_curvatures_loss': 0.00199599, 'consistency losses/trn_steer_cost': 0.00438735, 'consistency losses/trn_te_loss': 17.44652161, 'aux losses/trn_pitch_loss': 0.10998082, 'aux losses/trn_yaw_loss': 0.1651783, 'consistency losses/trn_%_updates_w_torque_delta_loss': 0.1953125, 'consistency losses/trn_torque_loss': 727.9854514, 'consistency losses/trn_torque_delta_loss': 6.60071484, 'logistical/max_param': 16.18753815, 'logistical/lr': 0.0001}\n",
      "{'logistical/obs_consumed_per_second': 235.65625, 'logistical/obs_generated_per_second': 102.9375, 'logistical/data_consumption_ratio': 2.28902518, 'logistical/manual_train_pause': 0.0, 'trn_control_loss': 0.01082551, 'trn_headings_loss': 0.00048859, 'trn_curvatures_loss': 0.00195478, 'consistency losses/trn_steer_cost': 0.00381571, 'consistency losses/trn_te_loss': 17.91554987, 'aux losses/trn_pitch_loss': 0.0944016, 'aux losses/trn_yaw_loss': 0.15073729, 'consistency losses/trn_%_updates_w_torque_delta_loss': 0.1328125, 'consistency losses/trn_torque_loss': 577.42417578, 'consistency losses/trn_torque_delta_loss': 5.26660165, 'logistical/max_param': 16.1895237, 'logistical/lr': 0.0001}\n",
      "{'logistical/obs_consumed_per_second': 231.953125, 'logistical/obs_generated_per_second': 108.9765625, 'logistical/data_consumption_ratio': 2.13099295, 'logistical/manual_train_pause': 0.0, 'trn_control_loss': 0.01090997, 'trn_headings_loss': 0.00044958, 'trn_curvatures_loss': 0.00163383, 'consistency losses/trn_steer_cost': 0.00360113, 'consistency losses/trn_te_loss': 18.05391967, 'aux losses/trn_pitch_loss': 0.10131001, 'aux losses/trn_yaw_loss': 0.16274071, 'consistency losses/trn_%_updates_w_torque_delta_loss': 0.3046875, 'consistency losses/trn_torque_loss': 589.26061639, 'consistency losses/trn_torque_delta_loss': 6.58998563, 'logistical/max_param': 16.191576, 'logistical/lr': 0.0001}\n",
      "{'logistical/obs_consumed_per_second': 231.1640625, 'logistical/obs_generated_per_second': 100.6171875, 'logistical/data_consumption_ratio': 2.29797312, 'logistical/manual_train_pause': 0.0, 'trn_control_loss': 0.00835355, 'trn_headings_loss': 0.00036736, 'trn_curvatures_loss': 0.00142603, 'consistency losses/trn_steer_cost': 0.00345823, 'consistency losses/trn_te_loss': 19.18663939, 'aux losses/trn_pitch_loss': 0.08103919, 'aux losses/trn_yaw_loss': 0.12456679, 'consistency losses/trn_%_updates_w_torque_delta_loss': 0.2421875, 'consistency losses/trn_torque_loss': 583.93549029, 'consistency losses/trn_torque_delta_loss': 6.13811274, 'logistical/max_param': 16.19042015, 'logistical/lr': 0.0001}\n",
      "{'logistical/obs_consumed_per_second': 152.0, 'logistical/obs_generated_per_second': 99.0, 'logistical/data_consumption_ratio': 1.54248992, 'logistical/manual_train_pause': 0.0}\n",
      "\n",
      "\n",
      " Eval...\n",
      "EPOCH 63\n",
      "\n",
      "{'trn_control_loss': 0.00750166, 'trn_headings_loss': 0.00034834, 'trn_curvatures_loss': 0.00130638, 'consistency losses/trn_steer_cost': 0.00275993, 'consistency losses/trn_te_loss': 20.19284838, 'aux losses/trn_pitch_loss': 0.09193993, 'aux losses/trn_yaw_loss': 0.12017894, 'consistency losses/trn_%_updates_w_torque_delta_loss': 0.3359375, 'consistency losses/trn_torque_loss': 557.13076519, 'consistency losses/trn_torque_delta_loss': 7.1034309, 'logistical/obs_consumed_per_second': 236.66141732, 'logistical/obs_generated_per_second': 97.83464567, 'logistical/data_consumption_ratio': 2.41867699, 'logistical/manual_train_pause': 0.00062992, 'logistical/max_param': 16.18865204, 'logistical/lr': 0.0001}\n",
      "{'logistical/obs_consumed_per_second': 238.6796875, 'logistical/obs_generated_per_second': 104.6484375, 'logistical/data_consumption_ratio': 2.28190324, 'logistical/manual_train_pause': 0.0, 'trn_control_loss': 0.01109517, 'trn_headings_loss': 0.00054437, 'trn_curvatures_loss': 0.00234529, 'consistency losses/trn_steer_cost': 0.00448628, 'consistency losses/trn_te_loss': 17.47285504, 'aux losses/trn_pitch_loss': 0.10309315, 'aux losses/trn_yaw_loss': 0.14181852, 'consistency losses/trn_%_updates_w_torque_delta_loss': 0.28125, 'consistency losses/trn_torque_loss': 611.84269025, 'consistency losses/trn_torque_delta_loss': 5.54075315, 'logistical/max_param': 16.18789101, 'logistical/lr': 0.0001}\n",
      "{'logistical/obs_consumed_per_second': 237.609375, 'logistical/obs_generated_per_second': 102.2734375, 'logistical/data_consumption_ratio': 2.32504886, 'logistical/manual_train_pause': 0.0, 'trn_control_loss': 0.00886935, 'trn_headings_loss': 0.0003468, 'trn_curvatures_loss': 0.00132042, 'consistency losses/trn_steer_cost': 0.00346522, 'consistency losses/trn_te_loss': 19.30372091, 'aux losses/trn_pitch_loss': 0.10815883, 'aux losses/trn_yaw_loss': 0.15399218, 'consistency losses/trn_%_updates_w_torque_delta_loss': 0.21875, 'consistency losses/trn_torque_loss': 600.27672568, 'consistency losses/trn_torque_delta_loss': 6.85580833, 'logistical/max_param': 16.18801498, 'logistical/lr': 0.0001}\n",
      "{'logistical/obs_consumed_per_second': 232.1640625, 'logistical/obs_generated_per_second': 101.9140625, 'logistical/data_consumption_ratio': 2.27765149, 'logistical/manual_train_pause': 0.0, 'trn_control_loss': 0.01121786, 'trn_headings_loss': 0.00042055, 'trn_curvatures_loss': 0.00188394, 'consistency losses/trn_steer_cost': 0.00388315, 'consistency losses/trn_te_loss': 18.26654521, 'aux losses/trn_pitch_loss': 0.11029696, 'aux losses/trn_yaw_loss': 0.12819529, 'consistency losses/trn_%_updates_w_torque_delta_loss': 0.2109375, 'consistency losses/trn_torque_loss': 516.38477942, 'consistency losses/trn_torque_delta_loss': 5.51664453, 'logistical/max_param': 16.18819046, 'logistical/lr': 0.0001}\n",
      "{'logistical/obs_consumed_per_second': 231.234375, 'logistical/obs_generated_per_second': 101.703125, 'logistical/data_consumption_ratio': 2.27347159, 'logistical/manual_train_pause': 0.00039062, 'trn_control_loss': 0.01007056, 'trn_headings_loss': 0.00038362, 'trn_curvatures_loss': 0.00168974, 'consistency losses/trn_steer_cost': 0.00377016, 'consistency losses/trn_te_loss': 18.0554576, 'aux losses/trn_pitch_loss': 0.09959817, 'aux losses/trn_yaw_loss': 0.13313961, 'consistency losses/trn_%_updates_w_torque_delta_loss': 0.1875, 'consistency losses/trn_torque_delta_loss': 6.14593611, 'consistency losses/trn_torque_loss': 594.09045459, 'logistical/max_param': 16.18969345, 'logistical/lr': 0.0001}\n"
     ]
    },
    {
     "ename": "KeyboardInterrupt",
     "evalue": "",
     "output_type": "error",
     "traceback": [
      "\u001b[0;31m---------------------------------------------------------------------------\u001b[0m",
      "\u001b[0;31mKeyboardInterrupt\u001b[0m                         Traceback (most recent call last)",
      "\u001b[0;32m/tmp/ipykernel_174512/1375180538.py\u001b[0m in \u001b[0;36m<module>\u001b[0;34m\u001b[0m\n\u001b[1;32m     10\u001b[0m     \u001b[0;31m# Train\u001b[0m\u001b[0;34m\u001b[0m\u001b[0;34m\u001b[0m\u001b[0;34m\u001b[0m\u001b[0m\n\u001b[1;32m     11\u001b[0m     \u001b[0mprint\u001b[0m\u001b[0;34m(\u001b[0m\u001b[0;34mf\"EPOCH {e}\\n\"\u001b[0m\u001b[0;34m)\u001b[0m\u001b[0;34m\u001b[0m\u001b[0;34m\u001b[0m\u001b[0m\n\u001b[0;32m---> 12\u001b[0;31m     run_epoch(dataloader_trn, m, opt=opt, scaler=scaler, \n\u001b[0m\u001b[1;32m     13\u001b[0m               train=True, backwards=True, log_wandb=log_wandb, wandb=wandb, updates_per_epoch=1280)\n\u001b[1;32m     14\u001b[0m \u001b[0;34m\u001b[0m\u001b[0m\n",
      "\u001b[0;32m~/bespoke/train_utils.py\u001b[0m in \u001b[0;36mrun_epoch\u001b[0;34m(dataloader, model, opt, scaler, train, backwards, log_wandb, log_cadence, updates_per_epoch, wandb)\u001b[0m\n\u001b[1;32m    302\u001b[0m             \u001b[0mtorch\u001b[0m\u001b[0;34m.\u001b[0m\u001b[0mnn\u001b[0m\u001b[0;34m.\u001b[0m\u001b[0mutils\u001b[0m\u001b[0;34m.\u001b[0m\u001b[0mclip_grad_norm_\u001b[0m\u001b[0;34m(\u001b[0m\u001b[0mmodel\u001b[0m\u001b[0;34m.\u001b[0m\u001b[0m_fcs_2\u001b[0m\u001b[0;34m.\u001b[0m\u001b[0mparameters\u001b[0m\u001b[0;34m(\u001b[0m\u001b[0;34m)\u001b[0m\u001b[0;34m,\u001b[0m \u001b[0mCLIP_GRAD_NORM\u001b[0m\u001b[0;34m)\u001b[0m\u001b[0;34m\u001b[0m\u001b[0;34m\u001b[0m\u001b[0m\n\u001b[1;32m    303\u001b[0m \u001b[0;34m\u001b[0m\u001b[0m\n\u001b[0;32m--> 304\u001b[0;31m             \u001b[0mscaler\u001b[0m\u001b[0;34m.\u001b[0m\u001b[0mstep\u001b[0m\u001b[0;34m(\u001b[0m\u001b[0mopt\u001b[0m\u001b[0;34m)\u001b[0m\u001b[0;34m\u001b[0m\u001b[0;34m\u001b[0m\u001b[0m\n\u001b[0m\u001b[1;32m    305\u001b[0m             \u001b[0mscaler\u001b[0m\u001b[0;34m.\u001b[0m\u001b[0mupdate\u001b[0m\u001b[0;34m(\u001b[0m\u001b[0;34m)\u001b[0m\u001b[0;34m\u001b[0m\u001b[0;34m\u001b[0m\u001b[0m\n\u001b[1;32m    306\u001b[0m             \u001b[0mopt\u001b[0m\u001b[0;34m.\u001b[0m\u001b[0mzero_grad\u001b[0m\u001b[0;34m(\u001b[0m\u001b[0;34m)\u001b[0m\u001b[0;34m\u001b[0m\u001b[0;34m\u001b[0m\u001b[0m\n",
      "\u001b[0;32m~/miniconda3/envs/py38/lib/python3.8/site-packages/torch/cuda/amp/grad_scaler.py\u001b[0m in \u001b[0;36mstep\u001b[0;34m(self, optimizer, *args, **kwargs)\u001b[0m\n\u001b[1;32m    336\u001b[0m         \u001b[0;32massert\u001b[0m \u001b[0mlen\u001b[0m\u001b[0;34m(\u001b[0m\u001b[0moptimizer_state\u001b[0m\u001b[0;34m[\u001b[0m\u001b[0;34m\"found_inf_per_device\"\u001b[0m\u001b[0;34m]\u001b[0m\u001b[0;34m)\u001b[0m \u001b[0;34m>\u001b[0m \u001b[0;36m0\u001b[0m\u001b[0;34m,\u001b[0m \u001b[0;34m\"No inf checks were recorded for this optimizer.\"\u001b[0m\u001b[0;34m\u001b[0m\u001b[0;34m\u001b[0m\u001b[0m\n\u001b[1;32m    337\u001b[0m \u001b[0;34m\u001b[0m\u001b[0m\n\u001b[0;32m--> 338\u001b[0;31m         \u001b[0mretval\u001b[0m \u001b[0;34m=\u001b[0m \u001b[0mself\u001b[0m\u001b[0;34m.\u001b[0m\u001b[0m_maybe_opt_step\u001b[0m\u001b[0;34m(\u001b[0m\u001b[0moptimizer\u001b[0m\u001b[0;34m,\u001b[0m \u001b[0moptimizer_state\u001b[0m\u001b[0;34m,\u001b[0m \u001b[0;34m*\u001b[0m\u001b[0margs\u001b[0m\u001b[0;34m,\u001b[0m \u001b[0;34m**\u001b[0m\u001b[0mkwargs\u001b[0m\u001b[0;34m)\u001b[0m\u001b[0;34m\u001b[0m\u001b[0;34m\u001b[0m\u001b[0m\n\u001b[0m\u001b[1;32m    339\u001b[0m \u001b[0;34m\u001b[0m\u001b[0m\n\u001b[1;32m    340\u001b[0m         \u001b[0moptimizer_state\u001b[0m\u001b[0;34m[\u001b[0m\u001b[0;34m\"stage\"\u001b[0m\u001b[0;34m]\u001b[0m \u001b[0;34m=\u001b[0m \u001b[0mOptState\u001b[0m\u001b[0;34m.\u001b[0m\u001b[0mSTEPPED\u001b[0m\u001b[0;34m\u001b[0m\u001b[0;34m\u001b[0m\u001b[0m\n",
      "\u001b[0;32m~/miniconda3/envs/py38/lib/python3.8/site-packages/torch/cuda/amp/grad_scaler.py\u001b[0m in \u001b[0;36m_maybe_opt_step\u001b[0;34m(self, optimizer, optimizer_state, *args, **kwargs)\u001b[0m\n\u001b[1;32m    282\u001b[0m     \u001b[0;32mdef\u001b[0m \u001b[0m_maybe_opt_step\u001b[0m\u001b[0;34m(\u001b[0m\u001b[0mself\u001b[0m\u001b[0;34m,\u001b[0m \u001b[0moptimizer\u001b[0m\u001b[0;34m,\u001b[0m \u001b[0moptimizer_state\u001b[0m\u001b[0;34m,\u001b[0m \u001b[0;34m*\u001b[0m\u001b[0margs\u001b[0m\u001b[0;34m,\u001b[0m \u001b[0;34m**\u001b[0m\u001b[0mkwargs\u001b[0m\u001b[0;34m)\u001b[0m\u001b[0;34m:\u001b[0m\u001b[0;34m\u001b[0m\u001b[0;34m\u001b[0m\u001b[0m\n\u001b[1;32m    283\u001b[0m         \u001b[0mretval\u001b[0m \u001b[0;34m=\u001b[0m \u001b[0;32mNone\u001b[0m\u001b[0;34m\u001b[0m\u001b[0;34m\u001b[0m\u001b[0m\n\u001b[0;32m--> 284\u001b[0;31m         \u001b[0;32mif\u001b[0m \u001b[0;32mnot\u001b[0m \u001b[0msum\u001b[0m\u001b[0;34m(\u001b[0m\u001b[0mv\u001b[0m\u001b[0;34m.\u001b[0m\u001b[0mitem\u001b[0m\u001b[0;34m(\u001b[0m\u001b[0;34m)\u001b[0m \u001b[0;32mfor\u001b[0m \u001b[0mv\u001b[0m \u001b[0;32min\u001b[0m \u001b[0moptimizer_state\u001b[0m\u001b[0;34m[\u001b[0m\u001b[0;34m\"found_inf_per_device\"\u001b[0m\u001b[0;34m]\u001b[0m\u001b[0;34m.\u001b[0m\u001b[0mvalues\u001b[0m\u001b[0;34m(\u001b[0m\u001b[0;34m)\u001b[0m\u001b[0;34m)\u001b[0m\u001b[0;34m:\u001b[0m\u001b[0;34m\u001b[0m\u001b[0;34m\u001b[0m\u001b[0m\n\u001b[0m\u001b[1;32m    285\u001b[0m             \u001b[0mretval\u001b[0m \u001b[0;34m=\u001b[0m \u001b[0moptimizer\u001b[0m\u001b[0;34m.\u001b[0m\u001b[0mstep\u001b[0m\u001b[0;34m(\u001b[0m\u001b[0;34m*\u001b[0m\u001b[0margs\u001b[0m\u001b[0;34m,\u001b[0m \u001b[0;34m**\u001b[0m\u001b[0mkwargs\u001b[0m\u001b[0;34m)\u001b[0m\u001b[0;34m\u001b[0m\u001b[0;34m\u001b[0m\u001b[0m\n\u001b[1;32m    286\u001b[0m         \u001b[0;32mreturn\u001b[0m \u001b[0mretval\u001b[0m\u001b[0;34m\u001b[0m\u001b[0;34m\u001b[0m\u001b[0m\n",
      "\u001b[0;32m~/miniconda3/envs/py38/lib/python3.8/site-packages/torch/cuda/amp/grad_scaler.py\u001b[0m in \u001b[0;36m<genexpr>\u001b[0;34m(.0)\u001b[0m\n\u001b[1;32m    282\u001b[0m     \u001b[0;32mdef\u001b[0m \u001b[0m_maybe_opt_step\u001b[0m\u001b[0;34m(\u001b[0m\u001b[0mself\u001b[0m\u001b[0;34m,\u001b[0m \u001b[0moptimizer\u001b[0m\u001b[0;34m,\u001b[0m \u001b[0moptimizer_state\u001b[0m\u001b[0;34m,\u001b[0m \u001b[0;34m*\u001b[0m\u001b[0margs\u001b[0m\u001b[0;34m,\u001b[0m \u001b[0;34m**\u001b[0m\u001b[0mkwargs\u001b[0m\u001b[0;34m)\u001b[0m\u001b[0;34m:\u001b[0m\u001b[0;34m\u001b[0m\u001b[0;34m\u001b[0m\u001b[0m\n\u001b[1;32m    283\u001b[0m         \u001b[0mretval\u001b[0m \u001b[0;34m=\u001b[0m \u001b[0;32mNone\u001b[0m\u001b[0;34m\u001b[0m\u001b[0;34m\u001b[0m\u001b[0m\n\u001b[0;32m--> 284\u001b[0;31m         \u001b[0;32mif\u001b[0m \u001b[0;32mnot\u001b[0m \u001b[0msum\u001b[0m\u001b[0;34m(\u001b[0m\u001b[0mv\u001b[0m\u001b[0;34m.\u001b[0m\u001b[0mitem\u001b[0m\u001b[0;34m(\u001b[0m\u001b[0;34m)\u001b[0m \u001b[0;32mfor\u001b[0m \u001b[0mv\u001b[0m \u001b[0;32min\u001b[0m \u001b[0moptimizer_state\u001b[0m\u001b[0;34m[\u001b[0m\u001b[0;34m\"found_inf_per_device\"\u001b[0m\u001b[0;34m]\u001b[0m\u001b[0;34m.\u001b[0m\u001b[0mvalues\u001b[0m\u001b[0;34m(\u001b[0m\u001b[0;34m)\u001b[0m\u001b[0;34m)\u001b[0m\u001b[0;34m:\u001b[0m\u001b[0;34m\u001b[0m\u001b[0;34m\u001b[0m\u001b[0m\n\u001b[0m\u001b[1;32m    285\u001b[0m             \u001b[0mretval\u001b[0m \u001b[0;34m=\u001b[0m \u001b[0moptimizer\u001b[0m\u001b[0;34m.\u001b[0m\u001b[0mstep\u001b[0m\u001b[0;34m(\u001b[0m\u001b[0;34m*\u001b[0m\u001b[0margs\u001b[0m\u001b[0;34m,\u001b[0m \u001b[0;34m**\u001b[0m\u001b[0mkwargs\u001b[0m\u001b[0;34m)\u001b[0m\u001b[0;34m\u001b[0m\u001b[0;34m\u001b[0m\u001b[0m\n\u001b[1;32m    286\u001b[0m         \u001b[0;32mreturn\u001b[0m \u001b[0mretval\u001b[0m\u001b[0;34m\u001b[0m\u001b[0;34m\u001b[0m\u001b[0m\n",
      "\u001b[0;31mKeyboardInterrupt\u001b[0m: "
     ]
    }
   ],
   "source": [
    "n_epochs = 1000\n",
    "log_wandb = True\n",
    "\n",
    "for e in range(START_E, n_epochs):\n",
    "    \n",
    "    opt.param_groups[0]['lr'] = 6e-4 if e < 46 else 3e-4 if e < 55 else 1e-4\n",
    "    #opt.param_groups[0]['lr'] = 1e-4 #6e-4 if e < 1 else 3e-4 if e < 2 else 1e-4\n",
    "    #opt.param_groups[0]['lr'] = 1e-4\n",
    "    \n",
    "    # Train\n",
    "    print(f\"EPOCH {e}\\n\")\n",
    "    run_epoch(dataloader_trn, m, opt=opt, scaler=scaler, \n",
    "              train=True, backwards=True, log_wandb=log_wandb, wandb=wandb, updates_per_epoch=1280)\n",
    "    \n",
    "    print(\"\\n\\n Eval...\")\n",
    "    \n",
    "    #eval_rw(rw_dataloader, m, wandb) # will log directly to wandb\n",
    "        \n",
    "    # Saving model checkpoint each epoch\n",
    "    torch.save(m.state_dict(), f\"{BESPOKE_ROOT}/models/m_{model_stem}_e{e}.torch\")\n",
    "    "
   ]
  },
  {
   "cell_type": "code",
   "execution_count": null,
   "metadata": {},
   "outputs": [],
   "source": []
  },
  {
   "cell_type": "code",
   "execution_count": 12,
   "metadata": {
    "scrolled": true
   },
   "outputs": [],
   "source": [
    "torch.save(m.state_dict(), f\"{BESPOKE_ROOT}/models/m_{model_stem}_e63.torch\")"
   ]
  },
  {
   "cell_type": "code",
   "execution_count": null,
   "metadata": {},
   "outputs": [],
   "source": []
  },
  {
   "cell_type": "code",
   "execution_count": 13,
   "metadata": {
    "scrolled": true
   },
   "outputs": [],
   "source": [
    "set_should_stop(True)"
   ]
  },
  {
   "cell_type": "code",
   "execution_count": null,
   "metadata": {},
   "outputs": [],
   "source": []
  },
  {
   "cell_type": "code",
   "execution_count": 10,
   "metadata": {
    "scrolled": true
   },
   "outputs": [
    {
     "name": "stderr",
     "output_type": "stream",
     "text": [
      "/home/beans/miniconda3/envs/py38/lib/python3.8/site-packages/torch/utils/checkpoint.py:25: UserWarning: None of the inputs have requires_grad=True. Gradients will be None\n",
      "  warnings.warn(\"None of the inputs have requires_grad=True. Gradients will be None\")\n"
     ]
    },
    {
     "name": "stdout",
     "output_type": "stream",
     "text": [
      "CPU times: user 14.3 s, sys: 417 ms, total: 14.7 s\n",
      "Wall time: 14 s\n"
     ]
    }
   ],
   "source": [
    "%%time\n",
    "\n",
    "eval_rw(rw_dataloader, m, wandb) # will log directly to wandb"
   ]
  },
  {
   "cell_type": "code",
   "execution_count": null,
   "metadata": {},
   "outputs": [],
   "source": []
  },
  {
   "cell_type": "code",
   "execution_count": null,
   "metadata": {},
   "outputs": [],
   "source": []
  }
 ],
 "metadata": {
  "kernelspec": {
   "display_name": "Python 3 (ipykernel)",
   "language": "python",
   "name": "python3"
  },
  "language_info": {
   "codemirror_mode": {
    "name": "ipython",
    "version": 3
   },
   "file_extension": ".py",
   "mimetype": "text/x-python",
   "name": "python",
   "nbconvert_exporter": "python",
   "pygments_lexer": "ipython3",
   "version": "3.8.11"
  }
 },
 "nbformat": 4,
 "nbformat_minor": 4
}
