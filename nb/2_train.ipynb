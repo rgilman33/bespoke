{
 "cells": [
  {
   "cell_type": "code",
   "execution_count": 1,
   "metadata": {
    "scrolled": true
   },
   "outputs": [
    {
     "name": "stderr",
     "output_type": "stream",
     "text": [
      "/home/beans/bespoke/constants.py:435: SettingWithCopyWarning: \n",
      "A value is trying to be set on a copy of a slice from a DataFrame.\n",
      "Try using .loc[row_indexer,col_indexer] = value instead\n",
      "\n",
      "See the caveats in the documentation: https://pandas.pydata.org/pandas-docs/stable/user_guide/indexing.html#returning-a-view-versus-a-copy\n",
      "  propref_aux_target['ixx'] = list(range(len(propref_aux_target))) # dumb self ix so can grab sigmoid from within this smaller df\n"
     ]
    },
    {
     "data": {
      "text/plain": [
       "('1.13.1', 2, 'NVIDIA GeForce RTX 3090')"
      ]
     },
     "execution_count": 1,
     "metadata": {},
     "output_type": "execute_result"
    }
   ],
   "source": [
    "%matplotlib inline\n",
    "%load_ext autoreload\n",
    "%autoreload 2\n",
    "\n",
    "import sys\n",
    "sys.path.append(f'/home/beans/bespoke')\n",
    "\n",
    "from models import *\n",
    "from constants import *\n",
    "from imports import *\n",
    "from loaders import *\n",
    "from train_utils import *\n",
    "\n",
    "torch.__version__, torch.cuda.device_count(), torch.cuda.get_device_name(torch.cuda.current_device())"
   ]
  },
  {
   "cell_type": "code",
   "execution_count": 2,
   "metadata": {
    "scrolled": true
   },
   "outputs": [
    {
     "data": {
      "text/plain": [
       "'2imkm1bq'"
      ]
     },
     "execution_count": 2,
     "metadata": {},
     "output_type": "execute_result"
    }
   ],
   "source": [
    "import wandb\n",
    "run_id = wandb.util.generate_id(); run_id"
   ]
  },
  {
   "cell_type": "code",
   "execution_count": 3,
   "metadata": {
    "scrolled": true
   },
   "outputs": [
    {
     "name": "stderr",
     "output_type": "stream",
     "text": [
      "\u001b[34m\u001b[1mwandb\u001b[0m: Currently logged in as: \u001b[33mrgilman33\u001b[0m (use `wandb login --relogin` to force relogin)\n",
      "\u001b[34m\u001b[1mwandb\u001b[0m: wandb version 0.13.9 is available!  To upgrade, please run:\n",
      "\u001b[34m\u001b[1mwandb\u001b[0m:  $ pip install wandb --upgrade\n"
     ]
    },
    {
     "data": {
      "text/html": [
       "\n",
       "                    Resuming run <strong><a href=\"https://wandb.ai/rgilman33/carla/runs/b1xzj883\" target=\"_blank\">bumbling-dust-366</a></strong> to <a href=\"https://wandb.ai/rgilman33/carla\" target=\"_blank\">Weights & Biases</a> (<a href=\"https://docs.wandb.com/integrations/jupyter.html\" target=\"_blank\">docs</a>).<br/>\n",
       "\n",
       "                "
      ],
      "text/plain": [
       "<IPython.core.display.HTML object>"
      ]
     },
     "metadata": {},
     "output_type": "display_data"
    },
    {
     "data": {
      "text/html": [
       "<button onClick=\"this.nextSibling.style.display='block';this.style.display='none';\">Display W&B run</button><iframe src=\"https://wandb.ai/rgilman33/carla/runs/b1xzj883?jupyter=true\" style=\"border:none;width:100%;height:420px;display:none;\"></iframe>"
      ],
      "text/plain": [
       "<wandb.sdk.wandb_run.Run at 0x7fe9a021ce80>"
      ]
     },
     "execution_count": 3,
     "metadata": {},
     "output_type": "execute_result"
    }
   ],
   "source": [
    "wandb.init(id='b1xzj883', project=\"carla\", resume=\"allow\")"
   ]
  },
  {
   "cell_type": "code",
   "execution_count": 4,
   "metadata": {
    "scrolled": true
   },
   "outputs": [
    {
     "data": {
      "text/plain": [
       "18293.759"
      ]
     },
     "execution_count": 4,
     "metadata": {},
     "output_type": "execute_result"
    }
   ],
   "source": [
    "m = EffNet().to(device) \n",
    "m.train()\n",
    "sum([torch.numel(p) for p in m.parameters()]) / 1000"
   ]
  },
  {
   "cell_type": "code",
   "execution_count": 5,
   "metadata": {
    "scrolled": true
   },
   "outputs": [
    {
     "name": "stdout",
     "output_type": "stream",
     "text": [
      "CPU times: user 12.2 ms, sys: 26.2 s, total: 26.2 s\n",
      "Wall time: 28.7 s\n"
     ]
    }
   ],
   "source": [
    "%%time\n",
    "from rollout import RwEvaluator\n",
    "rw_evaluator = RwEvaluator([\"run_555a\", \"run_556a\", \"run_556b\", \"run_556c\"], m, wandb=wandb)"
   ]
  },
  {
   "cell_type": "code",
   "execution_count": 6,
   "metadata": {
    "scrolled": true
   },
   "outputs": [],
   "source": [
    "#m = try_load_state_dict(m, torch.load(f\"{BESPOKE_ROOT}/models/m.torch\"))"
   ]
  },
  {
   "cell_type": "code",
   "execution_count": 7,
   "metadata": {
    "scrolled": true
   },
   "outputs": [],
   "source": [
    "opt = torch.optim.Adam(m.parameters(), lr=3e-4)"
   ]
  },
  {
   "cell_type": "code",
   "execution_count": 8,
   "metadata": {
    "scrolled": true
   },
   "outputs": [
    {
     "name": "stderr",
     "output_type": "stream",
     "text": [
      "/home/beans/miniconda3/envs/py38/lib/python3.8/site-packages/albumentations/augmentations/transforms.py:1175: FutureWarning: RandomContrast has been deprecated. Please use RandomBrightnessContrast\n",
      "  warnings.warn(\n",
      "/home/beans/miniconda3/envs/py38/lib/python3.8/site-packages/albumentations/augmentations/transforms.py:1149: FutureWarning: This class has been deprecated. Please use RandomBrightnessContrast\n",
      "  warnings.warn(\n",
      "/home/beans/miniconda3/envs/py38/lib/python3.8/site-packages/albumentations/augmentations/transforms.py:316: FutureWarning: JpegCompression has been deprecated. Please use ImageCompression\n",
      "  warnings.warn(\n"
     ]
    },
    {
     "name": "stdout",
     "output_type": "stream",
     "text": [
      "Got first chunk\n",
      "CPU times: user 311 ms, sys: 3.33 s, total: 3.64 s\n",
      "Wall time: 13 s\n"
     ]
    }
   ],
   "source": [
    "%%time\n",
    "BS = 32\n",
    "dataloader_trn = TrnLoader(bs=BS)"
   ]
  },
  {
   "cell_type": "code",
   "execution_count": 9,
   "metadata": {
    "scrolled": true
   },
   "outputs": [
    {
     "data": {
      "text/plain": [
       "'%%time\\nrw_evaluator.evaluate()'"
      ]
     },
     "execution_count": 9,
     "metadata": {},
     "output_type": "execute_result"
    }
   ],
   "source": [
    "\"\"\"%%time\n",
    "rw_evaluator.evaluate()\"\"\""
   ]
  },
  {
   "cell_type": "code",
   "execution_count": null,
   "metadata": {},
   "outputs": [],
   "source": []
  },
  {
   "cell_type": "code",
   "execution_count": 10,
   "metadata": {
    "scrolled": true
   },
   "outputs": [],
   "source": [
    "model_stem = \"1.23\""
   ]
  },
  {
   "cell_type": "code",
   "execution_count": 11,
   "metadata": {},
   "outputs": [
    {
     "data": {
      "text/plain": [
       "'freeze_model(m, True)\\nunfreeze_part_of_model(m, \"wps_head\")\\nunfreeze_part_of_model(m, \"aux_targets_head\")\\nunfreeze_part_of_model(m, \"obsnet\")\\n[p.requires_grad for p in m.parameters()]'"
      ]
     },
     "execution_count": 11,
     "metadata": {},
     "output_type": "execute_result"
    }
   ],
   "source": [
    "\"\"\"freeze_model(m, True)\n",
    "unfreeze_part_of_model(m, \"wps_head\")\n",
    "unfreeze_part_of_model(m, \"aux_targets_head\")\n",
    "unfreeze_part_of_model(m, \"obsnet\")\n",
    "[p.requires_grad for p in m.parameters()]\"\"\""
   ]
  },
  {
   "cell_type": "code",
   "execution_count": 12,
   "metadata": {},
   "outputs": [],
   "source": [
    "trainer = Trainer(dataloader_trn, m, model_stem=model_stem, opt=opt, wandb=wandb, \n",
    "                  rw_evaluator=rw_evaluator)"
   ]
  },
  {
   "cell_type": "code",
   "execution_count": 13,
   "metadata": {
    "scrolled": true
   },
   "outputs": [
    {
     "name": "stdout",
     "output_type": "stream",
     "text": [
      "Loading model from /home/beans/bespoke/models/m.torch. \n",
      "Last modified 13 min ago.\n",
      "Loading opt from /home/beans/bespoke/models/opt.torch. \n",
      "Last modified 13 min ago.\n",
      "Currently at epoch 3.\n"
     ]
    }
   ],
   "source": [
    "trainer.reload_state()"
   ]
  },
  {
   "cell_type": "code",
   "execution_count": null,
   "metadata": {
    "scrolled": true
   },
   "outputs": [
    {
     "name": "stdout",
     "output_type": "stream",
     "text": [
      "\n",
      "\n",
      " {'avg_unc': -6.65579224, 'wp_angles': 0.00342527, 'wp_curvatures': 0.02929175, 'wp_headings': 0.00432377, 'wp_rolls': 0.22199059, 'wp_zs': 0.05462301, 'has_stop': 0.01208903, 'stop_dist': 0.00571867, 'has_lead': 0.01601122, 'lead_dist': 0.00358925, 'lead_speed': 0.86602822, 'dagger_shift': 0.15150055, 'lane_width': 0.07672143, 'rd_is_lined': 0.00243532, 'pitch': 1.957e-05, 'yaw': 4.793e-05, 'unc': 1.18379784, 'logistical/obs_consumed_per_second': 38.73228346, 'logistical/obs_generated_per_second': 87.55905512, 'logistical/slowest_runner_obs_per_sec': 6.0, 'logistical/data_consumption_ratio': 0.44312786, 'logistical/manual_train_pause': 0.0, 'timing/get batch from dataloader': 0.00464107, 'timing/model forward': 0.22640313, 'timing/calc losses': 0.00528048, 'timing/backwards': 0.64078585, 'timing/get worst': 0.00347998, 'timing/logging': 3.58e-06, 'timing/calc timing': 0.00416208, 'timing/trn update': 0.8847599, 'logistical/max_param': 32.70947647, 'logistical/lr': 0.0003, 'logistical/mins_since_slowest_runner_reported': 3.0084484, 'logistical/snr': 0.16043428}\n",
      "\n",
      " {'timing/get chunk from queue': 4.30588112, 'timing/prep image': 0.12313286, 'timing/prep aux': 0.03223187, 'timing/calc wp targets': 0.00976222, 'timing/assemble mask': 0.02781955, 'timing/prep wps': 0.01662613, 'timing/get_batch_at_ix': 2.866e-05, 'timing/promote backup chunk': 0.008083, 'timing/queue_batch': 0.21768921, 'timing/wait bc batch not ready': 0.0}\n"
     ]
    },
    {
     "name": "stderr",
     "output_type": "stream",
     "text": [
      "/home/beans/miniconda3/envs/py38/lib/python3.8/site-packages/plotly/matplotlylib/mplexporter/exporter.py:289: MatplotlibDeprecationWarning:\n",
      "\n",
      "\n",
      "The get_offset_position function was deprecated in Matplotlib 3.3 and will be removed two minor releases later.\n",
      "\n"
     ]
    },
    {
     "name": "stdout",
     "output_type": "stream",
     "text": [
      "\n",
      "\n",
      " {'logistical/obs_consumed_per_second': 39.6953125, 'logistical/obs_generated_per_second': 84.203125, 'logistical/slowest_runner_obs_per_sec': 5.515625, 'logistical/data_consumption_ratio': 0.47249446, 'logistical/manual_train_pause': 0.0, 'timing/get batch from dataloader': 0.00300895, 'timing/model forward': 0.19544982, 'timing/calc losses': 0.00448951, 'timing/backwards': 0.61322556, 'timing/get worst': 0.00236534, 'timing/logging': 0.01448004, 'timing/calc timing': 0.00363271, 'timing/trn update': 0.83665555, 'avg_unc': -6.62615967, 'wp_angles': 0.00370527, 'wp_curvatures': 0.03161365, 'wp_headings': 0.00403399, 'wp_rolls': 0.24656773, 'wp_zs': 0.07628834, 'has_stop': 0.01698628, 'stop_dist': 0.0091042, 'has_lead': 0.01123664, 'lead_dist': 0.00414688, 'lead_speed': 0.4661735, 'dagger_shift': 0.08066322, 'lane_width': 0.07926524, 'rd_is_lined': 0.00045416, 'pitch': 3.232e-05, 'yaw': 1.572e-05, 'unc': 1.19726944, 'logistical/max_param': 32.70982361, 'logistical/lr': 0.0003, 'logistical/mins_since_slowest_runner_reported': 3.58567314, 'logistical/snr': 0.11984327}\n",
      "\n",
      " {'timing/wait bc batch not ready': 0.0, 'timing/prep image': 0.10907767, 'timing/prep aux': 0.03565587, 'timing/calc wp targets': 0.00816495, 'timing/assemble mask': 0.0397773, 'timing/prep wps': 0.01025969, 'timing/get_batch_at_ix': 1.556e-05, 'timing/promote backup chunk': 0.00601849, 'timing/queue_batch': 0.20897395, 'timing/get chunk from queue': 2.13971284}\n",
      "\n",
      "\n",
      " {'logistical/obs_consumed_per_second': 39.5546875, 'logistical/obs_generated_per_second': 79.6484375, 'logistical/slowest_runner_obs_per_sec': 5.0, 'logistical/data_consumption_ratio': 0.49633907, 'logistical/manual_train_pause': 0.0, 'timing/get batch from dataloader': 0.0034828, 'timing/model forward': 0.18276524, 'timing/calc losses': 0.00408948, 'timing/backwards': 0.61988759, 'timing/get worst': 0.00267396, 'timing/logging': 0.02361087, 'timing/calc timing': 0.0036522, 'timing/trn update': 0.84016694, 'avg_unc': -6.62197876, 'wp_angles': 0.00461121, 'wp_curvatures': 0.02397084, 'wp_headings': 0.00477466, 'wp_rolls': 0.25968075, 'wp_zs': 0.05936146, 'has_stop': 0.02259777, 'stop_dist': 0.01246257, 'has_lead': 0.0087375, 'lead_dist': 0.00283085, 'lead_speed': 0.5327957, 'dagger_shift': 0.10883147, 'lane_width': 0.08165097, 'rd_is_lined': 0.00070438, 'pitch': 3.357e-05, 'yaw': 3.146e-05, 'unc': 1.2449379, 'logistical/max_param': 32.7073822, 'logistical/lr': 0.0003, 'logistical/mins_since_slowest_runner_reported': 3.36133879, 'logistical/snr': 0.16957097}\n",
      "\n",
      " {'timing/get chunk from queue': 2.27247047, 'timing/wait bc batch not ready': 0.00078125, 'timing/prep image': 0.10797458, 'timing/prep aux': 0.03418425, 'timing/calc wp targets': 0.00907114, 'timing/assemble mask': 0.03648343, 'timing/prep wps': 0.01669613, 'timing/get_batch_at_ix': 1.551e-05, 'timing/promote backup chunk': 0.00588337, 'timing/queue_batch': 0.21031283}\n"
     ]
    }
   ],
   "source": [
    "trainer.train()"
   ]
  },
  {
   "cell_type": "code",
   "execution_count": null,
   "metadata": {},
   "outputs": [],
   "source": []
  },
  {
   "cell_type": "code",
   "execution_count": null,
   "metadata": {},
   "outputs": [],
   "source": []
  },
  {
   "cell_type": "code",
   "execution_count": null,
   "metadata": {},
   "outputs": [],
   "source": [
    "trainer.opt.param_groups[0]['lr'] = 3e-4"
   ]
  },
  {
   "cell_type": "code",
   "execution_count": null,
   "metadata": {},
   "outputs": [],
   "source": []
  },
  {
   "cell_type": "code",
   "execution_count": 28,
   "metadata": {},
   "outputs": [
    {
     "data": {
      "text/plain": [
       "0.15067877149872744"
      ]
     },
     "execution_count": 28,
     "metadata": {},
     "output_type": "execute_result"
    },
    {
     "name": "stdout",
     "output_type": "stream",
     "text": [
      "\n",
      "\n",
      " {'logistical/obs_consumed_per_second': 38.2265625, 'logistical/obs_generated_per_second': 85.1328125, 'logistical/slowest_runner_obs_per_sec': 5.3125, 'logistical/data_consumption_ratio': 0.45004667, 'logistical/manual_train_pause': 0.0, 'timing/get batch from dataloader': 0.00400971, 'timing/model forward': 0.19439457, 'timing/calc losses': 0.00539116, 'timing/backwards': 1.11790375, 'timing/get worst': 0.00264816, 'timing/logging': 0.01570235, 'timing/calc timing': 0.01359244, 'timing/trn update': 1.35364565, 'wp_angles': 0.01003864, 'wp_curvatures': 0.04547036, 'wp_headings': 0.01048879, 'wp_rolls': 0.52840137, 'wp_zs': 0.09037566, 'has_stop': 0.01459547, 'stop_dist': 0.00825622, 'has_lead': 0.01966284, 'lead_dist': 0.00662124, 'lead_speed': 16.11909485, 'dagger_shift': 0.14152849, 'lane_width': 0.12975717, 'rd_is_lined': 0.01347083, 'pitch': 4.037e-05, 'yaw': 4.98e-05, 'unc': 1.57641983, 'logistical/max_param': 32.69097137, 'logistical/lr': 0.0006, 'logistical/mins_since_slowest_runner_reported': 4.32358388}\n",
      "\n",
      " {'timing/wait bc batch not ready': 0.0, 'timing/prep image': 0.13784193, 'timing/prep aux': 0.02774356, 'timing/calc wp targets': 0.01722029, 'timing/assemble mask': 0.01798955, 'timing/prep wps': 0.00107451, 'timing/promote backup chunk': 0.00818801, 'timing/queue_batch': 0.21006311, 'timing/refresh chunk': 10.08409721, 'timing/refresh_chunk': 10.08413559}\n",
      "{'logistical/obs_consumed_per_second': 9.0, 'logistical/obs_generated_per_second': 83.0, 'logistical/slowest_runner_obs_per_sec': 5.0, 'logistical/data_consumption_ratio': 0.11437129, 'logistical/manual_train_pause': 0.0, 'timing/get batch from dataloader': 0.14230013, 'timing/model forward': 0.89826417, 'timing/calc losses': 0.06698966, 'timing/backwards': 0.59560704, 'timing/get worst': 3.81e-06, 'timing/logging': 1.66820359, 'timing/calc timing': 0.00278378, 'timing/trn update': 3.37415457}\n"
     ]
    }
   ],
   "source": [
    "snr"
   ]
  },
  {
   "cell_type": "code",
   "execution_count": null,
   "metadata": {},
   "outputs": [],
   "source": []
  },
  {
   "cell_type": "code",
   "execution_count": 25,
   "metadata": {
    "scrolled": true
   },
   "outputs": [],
   "source": [
    "set_should_stop(True)"
   ]
  },
  {
   "cell_type": "code",
   "execution_count": null,
   "metadata": {},
   "outputs": [],
   "source": []
  },
  {
   "cell_type": "code",
   "execution_count": 10,
   "metadata": {
    "scrolled": true
   },
   "outputs": [
    {
     "name": "stderr",
     "output_type": "stream",
     "text": [
      "/home/beans/miniconda3/envs/py38/lib/python3.8/site-packages/torch/utils/checkpoint.py:25: UserWarning: None of the inputs have requires_grad=True. Gradients will be None\n",
      "  warnings.warn(\"None of the inputs have requires_grad=True. Gradients will be None\")\n"
     ]
    },
    {
     "name": "stdout",
     "output_type": "stream",
     "text": [
      "CPU times: user 14.3 s, sys: 417 ms, total: 14.7 s\n",
      "Wall time: 14 s\n"
     ]
    }
   ],
   "source": [
    "%%time\n",
    "\n",
    "eval_rw(rw_dataloader, m, wandb) # will log directly to wandb"
   ]
  },
  {
   "cell_type": "code",
   "execution_count": null,
   "metadata": {},
   "outputs": [],
   "source": []
  },
  {
   "cell_type": "code",
   "execution_count": null,
   "metadata": {},
   "outputs": [],
   "source": []
  }
 ],
 "metadata": {
  "kernelspec": {
   "display_name": "Python 3 (ipykernel)",
   "language": "python",
   "name": "python3"
  },
  "language_info": {
   "codemirror_mode": {
    "name": "ipython",
    "version": 3
   },
   "file_extension": ".py",
   "mimetype": "text/x-python",
   "name": "python",
   "nbconvert_exporter": "python",
   "pygments_lexer": "ipython3",
   "version": "3.8.11"
  },
  "vscode": {
   "interpreter": {
    "hash": "916dbcbb3f70747c44a77c7bcd40155683ae19c65e1c03b4aa3499c5328201f1"
   }
  }
 },
 "nbformat": 4,
 "nbformat_minor": 4
}
