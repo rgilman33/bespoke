{
 "cells": [
  {
   "cell_type": "code",
   "execution_count": 1,
   "metadata": {
    "scrolled": true
   },
   "outputs": [
    {
     "name": "stderr",
     "output_type": "stream",
     "text": [
      "/home/beans/miniconda3/envs/py38/lib/python3.8/site-packages/albumentations/augmentations/transforms.py:689: FutureWarning: This class has been deprecated. Please use CoarseDropout\n",
      "  warnings.warn(\n",
      "/home/beans/miniconda3/envs/py38/lib/python3.8/site-packages/albumentations/augmentations/transforms.py:965: FutureWarning: This class has been deprecated. Please use ImageCompression\n",
      "  warnings.warn(\n"
     ]
    },
    {
     "data": {
      "text/plain": [
       "('1.10.0', 2, 'NVIDIA GeForce RTX 3090')"
      ]
     },
     "execution_count": 1,
     "metadata": {},
     "output_type": "execute_result"
    }
   ],
   "source": [
    "%matplotlib inline\n",
    "%load_ext autoreload\n",
    "%autoreload 2\n",
    "\n",
    "import sys\n",
    "sys.path.append(f'/media/beans/ssd/bespoke')\n",
    "\n",
    "from models import EffNet\n",
    "from constants import *\n",
    "from imports import *\n",
    "from rw_dataloader import RealWorldDataloader\n",
    "from blender_dataloader import BlenderDataloader\n",
    "from train_utils import run_epoch, eval_rw\n",
    "\n",
    "torch.__version__, torch.cuda.device_count(), torch.cuda.get_device_name(torch.cuda.current_device())"
   ]
  },
  {
   "cell_type": "code",
   "execution_count": 2,
   "metadata": {},
   "outputs": [
    {
     "data": {
      "text/plain": [
       "'r8v4v7t6'"
      ]
     },
     "execution_count": 2,
     "metadata": {},
     "output_type": "execute_result"
    }
   ],
   "source": [
    "import wandb\n",
    "run_id = wandb.util.generate_id(); run_id"
   ]
  },
  {
   "cell_type": "code",
   "execution_count": 3,
   "metadata": {
    "scrolled": true
   },
   "outputs": [
    {
     "name": "stderr",
     "output_type": "stream",
     "text": [
      "\u001b[34m\u001b[1mwandb\u001b[0m: Currently logged in as: \u001b[33mrgilman33\u001b[0m (use `wandb login --relogin` to force relogin)\n",
      "\u001b[34m\u001b[1mwandb\u001b[0m: wandb version 0.12.18 is available!  To upgrade, please run:\n",
      "\u001b[34m\u001b[1mwandb\u001b[0m:  $ pip install wandb --upgrade\n"
     ]
    },
    {
     "data": {
      "text/html": [
       "\n",
       "                    Syncing run <strong><a href=\"https://wandb.ai/rgilman33/carla/runs/r8v4v7t6\" target=\"_blank\">rose-wood-307</a></strong> to <a href=\"https://wandb.ai/rgilman33/carla\" target=\"_blank\">Weights & Biases</a> (<a href=\"https://docs.wandb.com/integrations/jupyter.html\" target=\"_blank\">docs</a>).<br/>\n",
       "\n",
       "                "
      ],
      "text/plain": [
       "<IPython.core.display.HTML object>"
      ]
     },
     "metadata": {},
     "output_type": "display_data"
    },
    {
     "data": {
      "text/html": [
       "<button onClick=\"this.nextSibling.style.display='block';this.style.display='none';\">Display W&B run</button><iframe src=\"https://wandb.ai/rgilman33/carla/runs/r8v4v7t6?jupyter=true\" style=\"border:none;width:100%;height:420px;display:none;\"></iframe>"
      ],
      "text/plain": [
       "<wandb.sdk.wandb_run.Run at 0x7fd39d6c1c40>"
      ]
     },
     "execution_count": 3,
     "metadata": {},
     "output_type": "execute_result"
    }
   ],
   "source": [
    "wandb.init(id='r8v4v7t6', project=\"carla\", resume=\"allow\")"
   ]
  },
  {
   "cell_type": "code",
   "execution_count": 4,
   "metadata": {
    "scrolled": true
   },
   "outputs": [
    {
     "data": {
      "text/plain": [
       "13332.809"
      ]
     },
     "execution_count": 4,
     "metadata": {},
     "output_type": "execute_result"
    }
   ],
   "source": [
    "m = EffNet(model_arch=\"efficientnet_b3\").to(device) # 13M params, 11.6M without RNN, \n",
    "sum([torch.numel(p) for p in m.parameters()]) / 1000"
   ]
  },
  {
   "cell_type": "code",
   "execution_count": 5,
   "metadata": {},
   "outputs": [
    {
     "data": {
      "text/plain": [
       "EfficientNet(\n",
       "  (conv_stem): Conv2d(3, 40, kernel_size=(3, 3), stride=(2, 2), padding=(1, 1), bias=False)\n",
       "  (bn1): BatchNorm2d(40, eps=1e-05, momentum=0.1, affine=True, track_running_stats=True)\n",
       "  (act1): SiLU(inplace=True)\n",
       "  (blocks): Sequential(\n",
       "    (0): Sequential(\n",
       "      (0): DepthwiseSeparableConv(\n",
       "        (conv_dw): Conv2d(40, 40, kernel_size=(3, 3), stride=(1, 1), padding=(1, 1), groups=40, bias=False)\n",
       "        (bn1): BatchNorm2d(40, eps=1e-05, momentum=0.1, affine=True, track_running_stats=True)\n",
       "        (act1): SiLU(inplace=True)\n",
       "        (se): SqueezeExcite(\n",
       "          (conv_reduce): Conv2d(40, 10, kernel_size=(1, 1), stride=(1, 1))\n",
       "          (act1): SiLU(inplace=True)\n",
       "          (conv_expand): Conv2d(10, 40, kernel_size=(1, 1), stride=(1, 1))\n",
       "          (gate): Sigmoid()\n",
       "        )\n",
       "        (conv_pw): Conv2d(40, 24, kernel_size=(1, 1), stride=(1, 1), bias=False)\n",
       "        (bn2): BatchNorm2d(24, eps=1e-05, momentum=0.1, affine=True, track_running_stats=True)\n",
       "        (act2): Identity()\n",
       "      )\n",
       "      (1): DepthwiseSeparableConv(\n",
       "        (conv_dw): Conv2d(24, 24, kernel_size=(3, 3), stride=(1, 1), padding=(1, 1), groups=24, bias=False)\n",
       "        (bn1): BatchNorm2d(24, eps=1e-05, momentum=0.1, affine=True, track_running_stats=True)\n",
       "        (act1): SiLU(inplace=True)\n",
       "        (se): SqueezeExcite(\n",
       "          (conv_reduce): Conv2d(24, 6, kernel_size=(1, 1), stride=(1, 1))\n",
       "          (act1): SiLU(inplace=True)\n",
       "          (conv_expand): Conv2d(6, 24, kernel_size=(1, 1), stride=(1, 1))\n",
       "          (gate): Sigmoid()\n",
       "        )\n",
       "        (conv_pw): Conv2d(24, 24, kernel_size=(1, 1), stride=(1, 1), bias=False)\n",
       "        (bn2): BatchNorm2d(24, eps=1e-05, momentum=0.1, affine=True, track_running_stats=True)\n",
       "        (act2): Identity()\n",
       "      )\n",
       "    )\n",
       "    (1): Sequential(\n",
       "      (0): InvertedResidual(\n",
       "        (conv_pw): Conv2d(24, 144, kernel_size=(1, 1), stride=(1, 1), bias=False)\n",
       "        (bn1): BatchNorm2d(144, eps=1e-05, momentum=0.1, affine=True, track_running_stats=True)\n",
       "        (act1): SiLU(inplace=True)\n",
       "        (conv_dw): Conv2d(144, 144, kernel_size=(3, 3), stride=(2, 2), padding=(1, 1), groups=144, bias=False)\n",
       "        (bn2): BatchNorm2d(144, eps=1e-05, momentum=0.1, affine=True, track_running_stats=True)\n",
       "        (act2): SiLU(inplace=True)\n",
       "        (se): SqueezeExcite(\n",
       "          (conv_reduce): Conv2d(144, 6, kernel_size=(1, 1), stride=(1, 1))\n",
       "          (act1): SiLU(inplace=True)\n",
       "          (conv_expand): Conv2d(6, 144, kernel_size=(1, 1), stride=(1, 1))\n",
       "          (gate): Sigmoid()\n",
       "        )\n",
       "        (conv_pwl): Conv2d(144, 32, kernel_size=(1, 1), stride=(1, 1), bias=False)\n",
       "        (bn3): BatchNorm2d(32, eps=1e-05, momentum=0.1, affine=True, track_running_stats=True)\n",
       "      )\n",
       "      (1): InvertedResidual(\n",
       "        (conv_pw): Conv2d(32, 192, kernel_size=(1, 1), stride=(1, 1), bias=False)\n",
       "        (bn1): BatchNorm2d(192, eps=1e-05, momentum=0.1, affine=True, track_running_stats=True)\n",
       "        (act1): SiLU(inplace=True)\n",
       "        (conv_dw): Conv2d(192, 192, kernel_size=(3, 3), stride=(1, 1), padding=(1, 1), groups=192, bias=False)\n",
       "        (bn2): BatchNorm2d(192, eps=1e-05, momentum=0.1, affine=True, track_running_stats=True)\n",
       "        (act2): SiLU(inplace=True)\n",
       "        (se): SqueezeExcite(\n",
       "          (conv_reduce): Conv2d(192, 8, kernel_size=(1, 1), stride=(1, 1))\n",
       "          (act1): SiLU(inplace=True)\n",
       "          (conv_expand): Conv2d(8, 192, kernel_size=(1, 1), stride=(1, 1))\n",
       "          (gate): Sigmoid()\n",
       "        )\n",
       "        (conv_pwl): Conv2d(192, 32, kernel_size=(1, 1), stride=(1, 1), bias=False)\n",
       "        (bn3): BatchNorm2d(32, eps=1e-05, momentum=0.1, affine=True, track_running_stats=True)\n",
       "      )\n",
       "      (2): InvertedResidual(\n",
       "        (conv_pw): Conv2d(32, 192, kernel_size=(1, 1), stride=(1, 1), bias=False)\n",
       "        (bn1): BatchNorm2d(192, eps=1e-05, momentum=0.1, affine=True, track_running_stats=True)\n",
       "        (act1): SiLU(inplace=True)\n",
       "        (conv_dw): Conv2d(192, 192, kernel_size=(3, 3), stride=(1, 1), padding=(1, 1), groups=192, bias=False)\n",
       "        (bn2): BatchNorm2d(192, eps=1e-05, momentum=0.1, affine=True, track_running_stats=True)\n",
       "        (act2): SiLU(inplace=True)\n",
       "        (se): SqueezeExcite(\n",
       "          (conv_reduce): Conv2d(192, 8, kernel_size=(1, 1), stride=(1, 1))\n",
       "          (act1): SiLU(inplace=True)\n",
       "          (conv_expand): Conv2d(8, 192, kernel_size=(1, 1), stride=(1, 1))\n",
       "          (gate): Sigmoid()\n",
       "        )\n",
       "        (conv_pwl): Conv2d(192, 32, kernel_size=(1, 1), stride=(1, 1), bias=False)\n",
       "        (bn3): BatchNorm2d(32, eps=1e-05, momentum=0.1, affine=True, track_running_stats=True)\n",
       "      )\n",
       "    )\n",
       "    (2): Sequential(\n",
       "      (0): InvertedResidual(\n",
       "        (conv_pw): Conv2d(32, 192, kernel_size=(1, 1), stride=(1, 1), bias=False)\n",
       "        (bn1): BatchNorm2d(192, eps=1e-05, momentum=0.1, affine=True, track_running_stats=True)\n",
       "        (act1): SiLU(inplace=True)\n",
       "        (conv_dw): Conv2d(192, 192, kernel_size=(5, 5), stride=(2, 2), padding=(2, 2), groups=192, bias=False)\n",
       "        (bn2): BatchNorm2d(192, eps=1e-05, momentum=0.1, affine=True, track_running_stats=True)\n",
       "        (act2): SiLU(inplace=True)\n",
       "        (se): SqueezeExcite(\n",
       "          (conv_reduce): Conv2d(192, 8, kernel_size=(1, 1), stride=(1, 1))\n",
       "          (act1): SiLU(inplace=True)\n",
       "          (conv_expand): Conv2d(8, 192, kernel_size=(1, 1), stride=(1, 1))\n",
       "          (gate): Sigmoid()\n",
       "        )\n",
       "        (conv_pwl): Conv2d(192, 48, kernel_size=(1, 1), stride=(1, 1), bias=False)\n",
       "        (bn3): BatchNorm2d(48, eps=1e-05, momentum=0.1, affine=True, track_running_stats=True)\n",
       "      )\n",
       "      (1): InvertedResidual(\n",
       "        (conv_pw): Conv2d(48, 288, kernel_size=(1, 1), stride=(1, 1), bias=False)\n",
       "        (bn1): BatchNorm2d(288, eps=1e-05, momentum=0.1, affine=True, track_running_stats=True)\n",
       "        (act1): SiLU(inplace=True)\n",
       "        (conv_dw): Conv2d(288, 288, kernel_size=(5, 5), stride=(1, 1), padding=(2, 2), groups=288, bias=False)\n",
       "        (bn2): BatchNorm2d(288, eps=1e-05, momentum=0.1, affine=True, track_running_stats=True)\n",
       "        (act2): SiLU(inplace=True)\n",
       "        (se): SqueezeExcite(\n",
       "          (conv_reduce): Conv2d(288, 12, kernel_size=(1, 1), stride=(1, 1))\n",
       "          (act1): SiLU(inplace=True)\n",
       "          (conv_expand): Conv2d(12, 288, kernel_size=(1, 1), stride=(1, 1))\n",
       "          (gate): Sigmoid()\n",
       "        )\n",
       "        (conv_pwl): Conv2d(288, 48, kernel_size=(1, 1), stride=(1, 1), bias=False)\n",
       "        (bn3): BatchNorm2d(48, eps=1e-05, momentum=0.1, affine=True, track_running_stats=True)\n",
       "      )\n",
       "      (2): InvertedResidual(\n",
       "        (conv_pw): Conv2d(48, 288, kernel_size=(1, 1), stride=(1, 1), bias=False)\n",
       "        (bn1): BatchNorm2d(288, eps=1e-05, momentum=0.1, affine=True, track_running_stats=True)\n",
       "        (act1): SiLU(inplace=True)\n",
       "        (conv_dw): Conv2d(288, 288, kernel_size=(5, 5), stride=(1, 1), padding=(2, 2), groups=288, bias=False)\n",
       "        (bn2): BatchNorm2d(288, eps=1e-05, momentum=0.1, affine=True, track_running_stats=True)\n",
       "        (act2): SiLU(inplace=True)\n",
       "        (se): SqueezeExcite(\n",
       "          (conv_reduce): Conv2d(288, 12, kernel_size=(1, 1), stride=(1, 1))\n",
       "          (act1): SiLU(inplace=True)\n",
       "          (conv_expand): Conv2d(12, 288, kernel_size=(1, 1), stride=(1, 1))\n",
       "          (gate): Sigmoid()\n",
       "        )\n",
       "        (conv_pwl): Conv2d(288, 48, kernel_size=(1, 1), stride=(1, 1), bias=False)\n",
       "        (bn3): BatchNorm2d(48, eps=1e-05, momentum=0.1, affine=True, track_running_stats=True)\n",
       "      )\n",
       "    )\n",
       "    (3): Sequential(\n",
       "      (0): InvertedResidual(\n",
       "        (conv_pw): Conv2d(48, 288, kernel_size=(1, 1), stride=(1, 1), bias=False)\n",
       "        (bn1): BatchNorm2d(288, eps=1e-05, momentum=0.1, affine=True, track_running_stats=True)\n",
       "        (act1): SiLU(inplace=True)\n",
       "        (conv_dw): Conv2d(288, 288, kernel_size=(3, 3), stride=(2, 2), padding=(1, 1), groups=288, bias=False)\n",
       "        (bn2): BatchNorm2d(288, eps=1e-05, momentum=0.1, affine=True, track_running_stats=True)\n",
       "        (act2): SiLU(inplace=True)\n",
       "        (se): SqueezeExcite(\n",
       "          (conv_reduce): Conv2d(288, 12, kernel_size=(1, 1), stride=(1, 1))\n",
       "          (act1): SiLU(inplace=True)\n",
       "          (conv_expand): Conv2d(12, 288, kernel_size=(1, 1), stride=(1, 1))\n",
       "          (gate): Sigmoid()\n",
       "        )\n",
       "        (conv_pwl): Conv2d(288, 96, kernel_size=(1, 1), stride=(1, 1), bias=False)\n",
       "        (bn3): BatchNorm2d(96, eps=1e-05, momentum=0.1, affine=True, track_running_stats=True)\n",
       "      )\n",
       "      (1): InvertedResidual(\n",
       "        (conv_pw): Conv2d(96, 576, kernel_size=(1, 1), stride=(1, 1), bias=False)\n",
       "        (bn1): BatchNorm2d(576, eps=1e-05, momentum=0.1, affine=True, track_running_stats=True)\n",
       "        (act1): SiLU(inplace=True)\n",
       "        (conv_dw): Conv2d(576, 576, kernel_size=(3, 3), stride=(1, 1), padding=(1, 1), groups=576, bias=False)\n",
       "        (bn2): BatchNorm2d(576, eps=1e-05, momentum=0.1, affine=True, track_running_stats=True)\n",
       "        (act2): SiLU(inplace=True)\n",
       "        (se): SqueezeExcite(\n",
       "          (conv_reduce): Conv2d(576, 24, kernel_size=(1, 1), stride=(1, 1))\n",
       "          (act1): SiLU(inplace=True)\n",
       "          (conv_expand): Conv2d(24, 576, kernel_size=(1, 1), stride=(1, 1))\n",
       "          (gate): Sigmoid()\n",
       "        )\n",
       "        (conv_pwl): Conv2d(576, 96, kernel_size=(1, 1), stride=(1, 1), bias=False)\n",
       "        (bn3): BatchNorm2d(96, eps=1e-05, momentum=0.1, affine=True, track_running_stats=True)\n",
       "      )\n",
       "      (2): InvertedResidual(\n",
       "        (conv_pw): Conv2d(96, 576, kernel_size=(1, 1), stride=(1, 1), bias=False)\n",
       "        (bn1): BatchNorm2d(576, eps=1e-05, momentum=0.1, affine=True, track_running_stats=True)\n",
       "        (act1): SiLU(inplace=True)\n",
       "        (conv_dw): Conv2d(576, 576, kernel_size=(3, 3), stride=(1, 1), padding=(1, 1), groups=576, bias=False)\n",
       "        (bn2): BatchNorm2d(576, eps=1e-05, momentum=0.1, affine=True, track_running_stats=True)\n",
       "        (act2): SiLU(inplace=True)\n",
       "        (se): SqueezeExcite(\n",
       "          (conv_reduce): Conv2d(576, 24, kernel_size=(1, 1), stride=(1, 1))\n",
       "          (act1): SiLU(inplace=True)\n",
       "          (conv_expand): Conv2d(24, 576, kernel_size=(1, 1), stride=(1, 1))\n",
       "          (gate): Sigmoid()\n",
       "        )\n",
       "        (conv_pwl): Conv2d(576, 96, kernel_size=(1, 1), stride=(1, 1), bias=False)\n",
       "        (bn3): BatchNorm2d(96, eps=1e-05, momentum=0.1, affine=True, track_running_stats=True)\n",
       "      )\n",
       "      (3): InvertedResidual(\n",
       "        (conv_pw): Conv2d(96, 576, kernel_size=(1, 1), stride=(1, 1), bias=False)\n",
       "        (bn1): BatchNorm2d(576, eps=1e-05, momentum=0.1, affine=True, track_running_stats=True)\n",
       "        (act1): SiLU(inplace=True)\n",
       "        (conv_dw): Conv2d(576, 576, kernel_size=(3, 3), stride=(1, 1), padding=(1, 1), groups=576, bias=False)\n",
       "        (bn2): BatchNorm2d(576, eps=1e-05, momentum=0.1, affine=True, track_running_stats=True)\n",
       "        (act2): SiLU(inplace=True)\n",
       "        (se): SqueezeExcite(\n",
       "          (conv_reduce): Conv2d(576, 24, kernel_size=(1, 1), stride=(1, 1))\n",
       "          (act1): SiLU(inplace=True)\n",
       "          (conv_expand): Conv2d(24, 576, kernel_size=(1, 1), stride=(1, 1))\n",
       "          (gate): Sigmoid()\n",
       "        )\n",
       "        (conv_pwl): Conv2d(576, 96, kernel_size=(1, 1), stride=(1, 1), bias=False)\n",
       "        (bn3): BatchNorm2d(96, eps=1e-05, momentum=0.1, affine=True, track_running_stats=True)\n",
       "      )\n",
       "      (4): InvertedResidual(\n",
       "        (conv_pw): Conv2d(96, 576, kernel_size=(1, 1), stride=(1, 1), bias=False)\n",
       "        (bn1): BatchNorm2d(576, eps=1e-05, momentum=0.1, affine=True, track_running_stats=True)\n",
       "        (act1): SiLU(inplace=True)\n",
       "        (conv_dw): Conv2d(576, 576, kernel_size=(3, 3), stride=(1, 1), padding=(1, 1), groups=576, bias=False)\n",
       "        (bn2): BatchNorm2d(576, eps=1e-05, momentum=0.1, affine=True, track_running_stats=True)\n",
       "        (act2): SiLU(inplace=True)\n",
       "        (se): SqueezeExcite(\n",
       "          (conv_reduce): Conv2d(576, 24, kernel_size=(1, 1), stride=(1, 1))\n",
       "          (act1): SiLU(inplace=True)\n",
       "          (conv_expand): Conv2d(24, 576, kernel_size=(1, 1), stride=(1, 1))\n",
       "          (gate): Sigmoid()\n",
       "        )\n",
       "        (conv_pwl): Conv2d(576, 96, kernel_size=(1, 1), stride=(1, 1), bias=False)\n",
       "        (bn3): BatchNorm2d(96, eps=1e-05, momentum=0.1, affine=True, track_running_stats=True)\n",
       "      )\n",
       "    )\n",
       "    (4): Sequential(\n",
       "      (0): InvertedResidual(\n",
       "        (conv_pw): Conv2d(96, 576, kernel_size=(1, 1), stride=(1, 1), bias=False)\n",
       "        (bn1): BatchNorm2d(576, eps=1e-05, momentum=0.1, affine=True, track_running_stats=True)\n",
       "        (act1): SiLU(inplace=True)\n",
       "        (conv_dw): Conv2d(576, 576, kernel_size=(5, 5), stride=(1, 1), padding=(2, 2), groups=576, bias=False)\n",
       "        (bn2): BatchNorm2d(576, eps=1e-05, momentum=0.1, affine=True, track_running_stats=True)\n",
       "        (act2): SiLU(inplace=True)\n",
       "        (se): SqueezeExcite(\n",
       "          (conv_reduce): Conv2d(576, 24, kernel_size=(1, 1), stride=(1, 1))\n",
       "          (act1): SiLU(inplace=True)\n",
       "          (conv_expand): Conv2d(24, 576, kernel_size=(1, 1), stride=(1, 1))\n",
       "          (gate): Sigmoid()\n",
       "        )\n",
       "        (conv_pwl): Conv2d(576, 136, kernel_size=(1, 1), stride=(1, 1), bias=False)\n",
       "        (bn3): BatchNorm2d(136, eps=1e-05, momentum=0.1, affine=True, track_running_stats=True)\n",
       "      )\n",
       "      (1): InvertedResidual(\n",
       "        (conv_pw): Conv2d(136, 816, kernel_size=(1, 1), stride=(1, 1), bias=False)\n",
       "        (bn1): BatchNorm2d(816, eps=1e-05, momentum=0.1, affine=True, track_running_stats=True)\n",
       "        (act1): SiLU(inplace=True)\n",
       "        (conv_dw): Conv2d(816, 816, kernel_size=(5, 5), stride=(1, 1), padding=(2, 2), groups=816, bias=False)\n",
       "        (bn2): BatchNorm2d(816, eps=1e-05, momentum=0.1, affine=True, track_running_stats=True)\n",
       "        (act2): SiLU(inplace=True)\n",
       "        (se): SqueezeExcite(\n",
       "          (conv_reduce): Conv2d(816, 34, kernel_size=(1, 1), stride=(1, 1))\n",
       "          (act1): SiLU(inplace=True)\n",
       "          (conv_expand): Conv2d(34, 816, kernel_size=(1, 1), stride=(1, 1))\n",
       "          (gate): Sigmoid()\n",
       "        )\n",
       "        (conv_pwl): Conv2d(816, 136, kernel_size=(1, 1), stride=(1, 1), bias=False)\n",
       "        (bn3): BatchNorm2d(136, eps=1e-05, momentum=0.1, affine=True, track_running_stats=True)\n",
       "      )\n",
       "      (2): InvertedResidual(\n",
       "        (conv_pw): Conv2d(136, 816, kernel_size=(1, 1), stride=(1, 1), bias=False)\n",
       "        (bn1): BatchNorm2d(816, eps=1e-05, momentum=0.1, affine=True, track_running_stats=True)\n",
       "        (act1): SiLU(inplace=True)\n",
       "        (conv_dw): Conv2d(816, 816, kernel_size=(5, 5), stride=(1, 1), padding=(2, 2), groups=816, bias=False)\n",
       "        (bn2): BatchNorm2d(816, eps=1e-05, momentum=0.1, affine=True, track_running_stats=True)\n",
       "        (act2): SiLU(inplace=True)\n",
       "        (se): SqueezeExcite(\n",
       "          (conv_reduce): Conv2d(816, 34, kernel_size=(1, 1), stride=(1, 1))\n",
       "          (act1): SiLU(inplace=True)\n",
       "          (conv_expand): Conv2d(34, 816, kernel_size=(1, 1), stride=(1, 1))\n",
       "          (gate): Sigmoid()\n",
       "        )\n",
       "        (conv_pwl): Conv2d(816, 136, kernel_size=(1, 1), stride=(1, 1), bias=False)\n",
       "        (bn3): BatchNorm2d(136, eps=1e-05, momentum=0.1, affine=True, track_running_stats=True)\n",
       "      )\n",
       "      (3): InvertedResidual(\n",
       "        (conv_pw): Conv2d(136, 816, kernel_size=(1, 1), stride=(1, 1), bias=False)\n",
       "        (bn1): BatchNorm2d(816, eps=1e-05, momentum=0.1, affine=True, track_running_stats=True)\n",
       "        (act1): SiLU(inplace=True)\n",
       "        (conv_dw): Conv2d(816, 816, kernel_size=(5, 5), stride=(1, 1), padding=(2, 2), groups=816, bias=False)\n",
       "        (bn2): BatchNorm2d(816, eps=1e-05, momentum=0.1, affine=True, track_running_stats=True)\n",
       "        (act2): SiLU(inplace=True)\n",
       "        (se): SqueezeExcite(\n",
       "          (conv_reduce): Conv2d(816, 34, kernel_size=(1, 1), stride=(1, 1))\n",
       "          (act1): SiLU(inplace=True)\n",
       "          (conv_expand): Conv2d(34, 816, kernel_size=(1, 1), stride=(1, 1))\n",
       "          (gate): Sigmoid()\n",
       "        )\n",
       "        (conv_pwl): Conv2d(816, 136, kernel_size=(1, 1), stride=(1, 1), bias=False)\n",
       "        (bn3): BatchNorm2d(136, eps=1e-05, momentum=0.1, affine=True, track_running_stats=True)\n",
       "      )\n",
       "      (4): InvertedResidual(\n",
       "        (conv_pw): Conv2d(136, 816, kernel_size=(1, 1), stride=(1, 1), bias=False)\n",
       "        (bn1): BatchNorm2d(816, eps=1e-05, momentum=0.1, affine=True, track_running_stats=True)\n",
       "        (act1): SiLU(inplace=True)\n",
       "        (conv_dw): Conv2d(816, 816, kernel_size=(5, 5), stride=(1, 1), padding=(2, 2), groups=816, bias=False)\n",
       "        (bn2): BatchNorm2d(816, eps=1e-05, momentum=0.1, affine=True, track_running_stats=True)\n",
       "        (act2): SiLU(inplace=True)\n",
       "        (se): SqueezeExcite(\n",
       "          (conv_reduce): Conv2d(816, 34, kernel_size=(1, 1), stride=(1, 1))\n",
       "          (act1): SiLU(inplace=True)\n",
       "          (conv_expand): Conv2d(34, 816, kernel_size=(1, 1), stride=(1, 1))\n",
       "          (gate): Sigmoid()\n",
       "        )\n",
       "        (conv_pwl): Conv2d(816, 136, kernel_size=(1, 1), stride=(1, 1), bias=False)\n",
       "        (bn3): BatchNorm2d(136, eps=1e-05, momentum=0.1, affine=True, track_running_stats=True)\n",
       "      )\n",
       "    )\n",
       "    (5): Sequential(\n",
       "      (0): InvertedResidual(\n",
       "        (conv_pw): Conv2d(136, 816, kernel_size=(1, 1), stride=(1, 1), bias=False)\n",
       "        (bn1): BatchNorm2d(816, eps=1e-05, momentum=0.1, affine=True, track_running_stats=True)\n",
       "        (act1): SiLU(inplace=True)\n",
       "        (conv_dw): Conv2d(816, 816, kernel_size=(5, 5), stride=(2, 2), padding=(2, 2), groups=816, bias=False)\n",
       "        (bn2): BatchNorm2d(816, eps=1e-05, momentum=0.1, affine=True, track_running_stats=True)\n",
       "        (act2): SiLU(inplace=True)\n",
       "        (se): SqueezeExcite(\n",
       "          (conv_reduce): Conv2d(816, 34, kernel_size=(1, 1), stride=(1, 1))\n",
       "          (act1): SiLU(inplace=True)\n",
       "          (conv_expand): Conv2d(34, 816, kernel_size=(1, 1), stride=(1, 1))\n",
       "          (gate): Sigmoid()\n",
       "        )\n",
       "        (conv_pwl): Conv2d(816, 232, kernel_size=(1, 1), stride=(1, 1), bias=False)\n",
       "        (bn3): BatchNorm2d(232, eps=1e-05, momentum=0.1, affine=True, track_running_stats=True)\n",
       "      )\n",
       "      (1): InvertedResidual(\n",
       "        (conv_pw): Conv2d(232, 1392, kernel_size=(1, 1), stride=(1, 1), bias=False)\n",
       "        (bn1): BatchNorm2d(1392, eps=1e-05, momentum=0.1, affine=True, track_running_stats=True)\n",
       "        (act1): SiLU(inplace=True)\n",
       "        (conv_dw): Conv2d(1392, 1392, kernel_size=(5, 5), stride=(1, 1), padding=(2, 2), groups=1392, bias=False)\n",
       "        (bn2): BatchNorm2d(1392, eps=1e-05, momentum=0.1, affine=True, track_running_stats=True)\n",
       "        (act2): SiLU(inplace=True)\n",
       "        (se): SqueezeExcite(\n",
       "          (conv_reduce): Conv2d(1392, 58, kernel_size=(1, 1), stride=(1, 1))\n",
       "          (act1): SiLU(inplace=True)\n",
       "          (conv_expand): Conv2d(58, 1392, kernel_size=(1, 1), stride=(1, 1))\n",
       "          (gate): Sigmoid()\n",
       "        )\n",
       "        (conv_pwl): Conv2d(1392, 232, kernel_size=(1, 1), stride=(1, 1), bias=False)\n",
       "        (bn3): BatchNorm2d(232, eps=1e-05, momentum=0.1, affine=True, track_running_stats=True)\n",
       "      )\n",
       "      (2): InvertedResidual(\n",
       "        (conv_pw): Conv2d(232, 1392, kernel_size=(1, 1), stride=(1, 1), bias=False)\n",
       "        (bn1): BatchNorm2d(1392, eps=1e-05, momentum=0.1, affine=True, track_running_stats=True)\n",
       "        (act1): SiLU(inplace=True)\n",
       "        (conv_dw): Conv2d(1392, 1392, kernel_size=(5, 5), stride=(1, 1), padding=(2, 2), groups=1392, bias=False)\n",
       "        (bn2): BatchNorm2d(1392, eps=1e-05, momentum=0.1, affine=True, track_running_stats=True)\n",
       "        (act2): SiLU(inplace=True)\n",
       "        (se): SqueezeExcite(\n",
       "          (conv_reduce): Conv2d(1392, 58, kernel_size=(1, 1), stride=(1, 1))\n",
       "          (act1): SiLU(inplace=True)\n",
       "          (conv_expand): Conv2d(58, 1392, kernel_size=(1, 1), stride=(1, 1))\n",
       "          (gate): Sigmoid()\n",
       "        )\n",
       "        (conv_pwl): Conv2d(1392, 232, kernel_size=(1, 1), stride=(1, 1), bias=False)\n",
       "        (bn3): BatchNorm2d(232, eps=1e-05, momentum=0.1, affine=True, track_running_stats=True)\n",
       "      )\n",
       "      (3): InvertedResidual(\n",
       "        (conv_pw): Conv2d(232, 1392, kernel_size=(1, 1), stride=(1, 1), bias=False)\n",
       "        (bn1): BatchNorm2d(1392, eps=1e-05, momentum=0.1, affine=True, track_running_stats=True)\n",
       "        (act1): SiLU(inplace=True)\n",
       "        (conv_dw): Conv2d(1392, 1392, kernel_size=(5, 5), stride=(1, 1), padding=(2, 2), groups=1392, bias=False)\n",
       "        (bn2): BatchNorm2d(1392, eps=1e-05, momentum=0.1, affine=True, track_running_stats=True)\n",
       "        (act2): SiLU(inplace=True)\n",
       "        (se): SqueezeExcite(\n",
       "          (conv_reduce): Conv2d(1392, 58, kernel_size=(1, 1), stride=(1, 1))\n",
       "          (act1): SiLU(inplace=True)\n",
       "          (conv_expand): Conv2d(58, 1392, kernel_size=(1, 1), stride=(1, 1))\n",
       "          (gate): Sigmoid()\n",
       "        )\n",
       "        (conv_pwl): Conv2d(1392, 232, kernel_size=(1, 1), stride=(1, 1), bias=False)\n",
       "        (bn3): BatchNorm2d(232, eps=1e-05, momentum=0.1, affine=True, track_running_stats=True)\n",
       "      )\n",
       "      (4): InvertedResidual(\n",
       "        (conv_pw): Conv2d(232, 1392, kernel_size=(1, 1), stride=(1, 1), bias=False)\n",
       "        (bn1): BatchNorm2d(1392, eps=1e-05, momentum=0.1, affine=True, track_running_stats=True)\n",
       "        (act1): SiLU(inplace=True)\n",
       "        (conv_dw): Conv2d(1392, 1392, kernel_size=(5, 5), stride=(1, 1), padding=(2, 2), groups=1392, bias=False)\n",
       "        (bn2): BatchNorm2d(1392, eps=1e-05, momentum=0.1, affine=True, track_running_stats=True)\n",
       "        (act2): SiLU(inplace=True)\n",
       "        (se): SqueezeExcite(\n",
       "          (conv_reduce): Conv2d(1392, 58, kernel_size=(1, 1), stride=(1, 1))\n",
       "          (act1): SiLU(inplace=True)\n",
       "          (conv_expand): Conv2d(58, 1392, kernel_size=(1, 1), stride=(1, 1))\n",
       "          (gate): Sigmoid()\n",
       "        )\n",
       "        (conv_pwl): Conv2d(1392, 232, kernel_size=(1, 1), stride=(1, 1), bias=False)\n",
       "        (bn3): BatchNorm2d(232, eps=1e-05, momentum=0.1, affine=True, track_running_stats=True)\n",
       "      )\n",
       "      (5): InvertedResidual(\n",
       "        (conv_pw): Conv2d(232, 1392, kernel_size=(1, 1), stride=(1, 1), bias=False)\n",
       "        (bn1): BatchNorm2d(1392, eps=1e-05, momentum=0.1, affine=True, track_running_stats=True)\n",
       "        (act1): SiLU(inplace=True)\n",
       "        (conv_dw): Conv2d(1392, 1392, kernel_size=(5, 5), stride=(1, 1), padding=(2, 2), groups=1392, bias=False)\n",
       "        (bn2): BatchNorm2d(1392, eps=1e-05, momentum=0.1, affine=True, track_running_stats=True)\n",
       "        (act2): SiLU(inplace=True)\n",
       "        (se): SqueezeExcite(\n",
       "          (conv_reduce): Conv2d(1392, 58, kernel_size=(1, 1), stride=(1, 1))\n",
       "          (act1): SiLU(inplace=True)\n",
       "          (conv_expand): Conv2d(58, 1392, kernel_size=(1, 1), stride=(1, 1))\n",
       "          (gate): Sigmoid()\n",
       "        )\n",
       "        (conv_pwl): Conv2d(1392, 232, kernel_size=(1, 1), stride=(1, 1), bias=False)\n",
       "        (bn3): BatchNorm2d(232, eps=1e-05, momentum=0.1, affine=True, track_running_stats=True)\n",
       "      )\n",
       "    )\n",
       "    (6): Sequential(\n",
       "      (0): InvertedResidual(\n",
       "        (conv_pw): Conv2d(232, 1392, kernel_size=(1, 1), stride=(1, 1), bias=False)\n",
       "        (bn1): BatchNorm2d(1392, eps=1e-05, momentum=0.1, affine=True, track_running_stats=True)\n",
       "        (act1): SiLU(inplace=True)\n",
       "        (conv_dw): Conv2d(1392, 1392, kernel_size=(3, 3), stride=(1, 1), padding=(1, 1), groups=1392, bias=False)\n",
       "        (bn2): BatchNorm2d(1392, eps=1e-05, momentum=0.1, affine=True, track_running_stats=True)\n",
       "        (act2): SiLU(inplace=True)\n",
       "        (se): SqueezeExcite(\n",
       "          (conv_reduce): Conv2d(1392, 58, kernel_size=(1, 1), stride=(1, 1))\n",
       "          (act1): SiLU(inplace=True)\n",
       "          (conv_expand): Conv2d(58, 1392, kernel_size=(1, 1), stride=(1, 1))\n",
       "          (gate): Sigmoid()\n",
       "        )\n",
       "        (conv_pwl): Conv2d(1392, 384, kernel_size=(1, 1), stride=(1, 1), bias=False)\n",
       "        (bn3): BatchNorm2d(384, eps=1e-05, momentum=0.1, affine=True, track_running_stats=True)\n",
       "      )\n",
       "      (1): InvertedResidual(\n",
       "        (conv_pw): Conv2d(384, 2304, kernel_size=(1, 1), stride=(1, 1), bias=False)\n",
       "        (bn1): BatchNorm2d(2304, eps=1e-05, momentum=0.1, affine=True, track_running_stats=True)\n",
       "        (act1): SiLU(inplace=True)\n",
       "        (conv_dw): Conv2d(2304, 2304, kernel_size=(3, 3), stride=(1, 1), padding=(1, 1), groups=2304, bias=False)\n",
       "        (bn2): BatchNorm2d(2304, eps=1e-05, momentum=0.1, affine=True, track_running_stats=True)\n",
       "        (act2): SiLU(inplace=True)\n",
       "        (se): SqueezeExcite(\n",
       "          (conv_reduce): Conv2d(2304, 96, kernel_size=(1, 1), stride=(1, 1))\n",
       "          (act1): SiLU(inplace=True)\n",
       "          (conv_expand): Conv2d(96, 2304, kernel_size=(1, 1), stride=(1, 1))\n",
       "          (gate): Sigmoid()\n",
       "        )\n",
       "        (conv_pwl): Conv2d(2304, 384, kernel_size=(1, 1), stride=(1, 1), bias=False)\n",
       "        (bn3): BatchNorm2d(384, eps=1e-05, momentum=0.1, affine=True, track_running_stats=True)\n",
       "      )\n",
       "    )\n",
       "  )\n",
       "  (conv_head): Conv2d(384, 1536, kernel_size=(1, 1), stride=(1, 1), bias=False)\n",
       "  (bn2): BatchNorm2d(1536, eps=1e-05, momentum=0.1, affine=True, track_running_stats=True)\n",
       "  (act2): SiLU(inplace=True)\n",
       "  (global_pool): SelectAdaptivePool2d (pool_type=avg, flatten=Flatten(start_dim=1, end_dim=-1))\n",
       "  (classifier): Identity()\n",
       ")"
      ]
     },
     "execution_count": 5,
     "metadata": {},
     "output_type": "execute_result"
    }
   ],
   "source": [
    "m.backbone"
   ]
  },
  {
   "cell_type": "code",
   "execution_count": 6,
   "metadata": {
    "scrolled": true
   },
   "outputs": [
    {
     "data": {
      "text/plain": [
       "<All keys matched successfully>"
      ]
     },
     "execution_count": 6,
     "metadata": {},
     "output_type": "execute_result"
    }
   ],
   "source": [
    "m.load_state_dict(torch.load(f\"{BESPOKE_ROOT}/models/m.torch\"), strict=False)"
   ]
  },
  {
   "cell_type": "code",
   "execution_count": 7,
   "metadata": {
    "scrolled": true
   },
   "outputs": [],
   "source": [
    "scaler = torch.cuda.amp.GradScaler() \n",
    "opt = torch.optim.Adam(m.parameters(), lr=1e-4)"
   ]
  },
  {
   "cell_type": "code",
   "execution_count": 8,
   "metadata": {
    "scrolled": true
   },
   "outputs": [],
   "source": [
    "BS = 32\n",
    "dataloader_trn = BlenderDataloader(path_stem=\"trn\", bs=BS)"
   ]
  },
  {
   "cell_type": "code",
   "execution_count": 9,
   "metadata": {
    "scrolled": true
   },
   "outputs": [
    {
     "name": "stdout",
     "output_type": "stream",
     "text": [
      "CPU times: user 3 µs, sys: 0 ns, total: 3 µs\n",
      "Wall time: 6.44 µs\n"
     ]
    }
   ],
   "source": [
    "%%time\n",
    "#rw_dataloader = RealWorldDataloader()"
   ]
  },
  {
   "cell_type": "code",
   "execution_count": 10,
   "metadata": {},
   "outputs": [],
   "source": [
    "#wandb.watch(m, log=\"all\")"
   ]
  },
  {
   "cell_type": "code",
   "execution_count": null,
   "metadata": {},
   "outputs": [],
   "source": []
  },
  {
   "cell_type": "code",
   "execution_count": 11,
   "metadata": {
    "scrolled": true
   },
   "outputs": [],
   "source": [
    "model_stem = \"6.16\"\n",
    "START_E = 0"
   ]
  },
  {
   "cell_type": "code",
   "execution_count": null,
   "metadata": {
    "scrolled": true
   },
   "outputs": [
    {
     "name": "stdout",
     "output_type": "stream",
     "text": [
      "EPOCH 0\n",
      "\n",
      "{'trn_control_loss': 0.00225865, 'consistency losses/trn_steer_cost': 0.00333221, 'consistency losses/trn_te_loss': 0.01262121, 'consistency losses/trn_torque_delta_loss': 45.77349854, 'logistical/obs_consumed_per_second': 238.87401575, 'logistical/obs_generated_per_second': 112.70866142, 'logistical/data_consumption_ratio': 2.12236915, 'logistical/manual_train_pause': 0.0, 'consistency losses/trn_torque_loss': 97.19614362, 'logistical/max_param': 16.24622536, 'logistical/lr': 0.0001}\n",
      "{'logistical/obs_consumed_per_second': 241.4375, 'logistical/obs_generated_per_second': 108.359375, 'logistical/data_consumption_ratio': 2.23148062, 'logistical/manual_train_pause': 0.0, 'trn_control_loss': 0.00214221, 'consistency losses/trn_steer_cost': 0.0035114, 'consistency losses/trn_te_loss': 0.01344029, 'consistency losses/trn_torque_loss': 110.24505208, 'consistency losses/trn_torque_delta_loss': 47.31091309, 'logistical/max_param': 16.24389839, 'logistical/lr': 0.0001}\n",
      "{'logistical/obs_consumed_per_second': 244.703125, 'logistical/obs_generated_per_second': 114.3359375, 'logistical/data_consumption_ratio': 2.13915686, 'logistical/manual_train_pause': 0.0, 'trn_control_loss': 0.00206948, 'consistency losses/trn_steer_cost': 0.00281512, 'consistency losses/trn_te_loss': 0.01069359, 'consistency losses/trn_torque_loss': 64.409375, 'consistency losses/trn_torque_delta_loss': 44.09448242, 'logistical/max_param': 16.24350929, 'logistical/lr': 0.0001}\n",
      "{'logistical/obs_consumed_per_second': 235.3046875, 'logistical/obs_generated_per_second': 114.8046875, 'logistical/data_consumption_ratio': 2.04819804, 'logistical/manual_train_pause': 0.0, 'trn_control_loss': 0.00233125, 'consistency losses/trn_steer_cost': 0.00313237, 'consistency losses/trn_te_loss': 0.01216104, 'consistency losses/trn_torque_delta_loss': 43.27600098, 'consistency losses/trn_torque_loss': 121.75744048, 'logistical/max_param': 16.24393845, 'logistical/lr': 0.0001}\n",
      "{'logistical/obs_consumed_per_second': 237.7109375, 'logistical/obs_generated_per_second': 116.1796875, 'logistical/data_consumption_ratio': 2.04294334, 'logistical/manual_train_pause': 0.0, 'trn_control_loss': 0.00226478, 'consistency losses/trn_steer_cost': 0.00326914, 'consistency losses/trn_te_loss': 0.01240299, 'consistency losses/trn_torque_delta_loss': 46.06652832, 'consistency losses/trn_torque_loss': 125.07610887, 'logistical/max_param': 16.24404335, 'logistical/lr': 0.0001}\n",
      "{'logistical/obs_consumed_per_second': 236.4921875, 'logistical/obs_generated_per_second': 109.8828125, 'logistical/data_consumption_ratio': 2.15835779, 'logistical/manual_train_pause': 0.0, 'trn_control_loss': 0.00229167, 'consistency losses/trn_steer_cost': 0.00313397, 'consistency losses/trn_te_loss': 0.01196347, 'consistency losses/trn_torque_delta_loss': 43.89776611, 'consistency losses/trn_torque_loss': 109.97857143, 'logistical/max_param': 16.24401093, 'logistical/lr': 0.0001}\n",
      "{'logistical/obs_consumed_per_second': 237.78125, 'logistical/obs_generated_per_second': 107.7578125, 'logistical/data_consumption_ratio': 2.21112163, 'logistical/manual_train_pause': 0.0, 'trn_control_loss': 0.00222359, 'consistency losses/trn_steer_cost': 0.00286801, 'consistency losses/trn_te_loss': 0.01085167, 'consistency losses/trn_torque_delta_loss': 45.43444824, 'consistency losses/trn_torque_loss': 84.18680556, 'logistical/max_param': 16.24497986, 'logistical/lr': 0.0001}\n",
      "{'logistical/obs_consumed_per_second': 241.0625, 'logistical/obs_generated_per_second': 106.0859375, 'logistical/data_consumption_ratio': 2.2767193, 'logistical/manual_train_pause': 0.0, 'trn_control_loss': 0.00214057, 'consistency losses/trn_steer_cost': 0.0032156, 'consistency losses/trn_te_loss': 0.01221045, 'consistency losses/trn_torque_loss': 157.74770221, 'consistency losses/trn_torque_delta_loss': 45.63562012, 'logistical/max_param': 16.24274063, 'logistical/lr': 0.0001}\n",
      "{'logistical/obs_consumed_per_second': 241.8984375, 'logistical/obs_generated_per_second': 110.0546875, 'logistical/data_consumption_ratio': 2.19910881, 'logistical/manual_train_pause': 0.0, 'trn_control_loss': 0.00216841, 'consistency losses/trn_steer_cost': 0.00293436, 'consistency losses/trn_te_loss': 0.0110453, 'consistency losses/trn_torque_delta_loss': 45.64642334, 'consistency losses/trn_torque_loss': 163.209375, 'logistical/max_param': 16.24114799, 'logistical/lr': 0.0001}\n",
      "{'logistical/obs_consumed_per_second': 240.75, 'logistical/obs_generated_per_second': 118.9609375, 'logistical/data_consumption_ratio': 2.02462168, 'logistical/manual_train_pause': 0.0, 'trn_control_loss': 0.0023549, 'consistency losses/trn_steer_cost': 0.00304833, 'consistency losses/trn_te_loss': 0.01140192, 'consistency losses/trn_torque_delta_loss': 42.88446045, 'consistency losses/trn_torque_loss': 91.68452381, 'logistical/max_param': 16.24172211, 'logistical/lr': 0.0001}\n",
      "{'logistical/obs_consumed_per_second': 235.7421875, 'logistical/obs_generated_per_second': 108.3671875, 'logistical/data_consumption_ratio': 2.17724277, 'logistical/manual_train_pause': 0.0, 'trn_control_loss': 0.00216796, 'consistency losses/trn_steer_cost': 0.00279512, 'consistency losses/trn_te_loss': 0.01030268, 'consistency losses/trn_torque_delta_loss': 41.62145996, 'consistency losses/trn_torque_loss': 100.57638889, 'logistical/max_param': 16.24165916, 'logistical/lr': 0.0001}\n",
      "{'logistical/obs_consumed_per_second': 238.21875, 'logistical/obs_generated_per_second': 113.5, 'logistical/data_consumption_ratio': 2.10059784, 'logistical/manual_train_pause': 0.0, 'trn_control_loss': 0.00225978, 'consistency losses/trn_steer_cost': 0.00321637, 'consistency losses/trn_te_loss': 0.01216377, 'consistency losses/trn_torque_delta_loss': 45.51623535, 'consistency losses/trn_torque_loss': 84.77604167, 'logistical/max_param': 16.24335289, 'logistical/lr': 0.0001}\n",
      "{'logistical/obs_consumed_per_second': 236.7890625, 'logistical/obs_generated_per_second': 114.84375, 'logistical/data_consumption_ratio': 2.06428083, 'logistical/manual_train_pause': 0.0, 'trn_control_loss': 0.00217821, 'consistency losses/trn_steer_cost': 0.00275404, 'consistency losses/trn_te_loss': 0.01050494, 'consistency losses/trn_torque_delta_loss': 42.71679688, 'consistency losses/trn_torque_loss': 40.25735294, 'logistical/max_param': 16.24372673, 'logistical/lr': 0.0001}\n",
      "{'logistical/obs_consumed_per_second': 241.53125, 'logistical/obs_generated_per_second': 115.015625, 'logistical/data_consumption_ratio': 2.10299027, 'logistical/manual_train_pause': 0.0, 'trn_control_loss': 0.00208813, 'consistency losses/trn_steer_cost': 0.00296142, 'consistency losses/trn_te_loss': 0.01107876, 'consistency losses/trn_torque_delta_loss': 41.45690918, 'consistency losses/trn_torque_loss': 107.62832447, 'logistical/max_param': 16.24374771, 'logistical/lr': 0.0001}\n",
      "{'logistical/obs_consumed_per_second': 239.3203125, 'logistical/obs_generated_per_second': 108.375, 'logistical/data_consumption_ratio': 2.2071014, 'logistical/manual_train_pause': 0.0, 'trn_control_loss': 0.00211536, 'consistency losses/trn_steer_cost': 0.00244031, 'consistency losses/trn_te_loss': 0.00915836, 'consistency losses/trn_torque_loss': 113.02586207, 'consistency losses/trn_torque_delta_loss': 42.33972168, 'logistical/max_param': 16.24131584, 'logistical/lr': 0.0001}\n",
      "{'logistical/obs_consumed_per_second': 238.4921875, 'logistical/obs_generated_per_second': 111.2890625, 'logistical/data_consumption_ratio': 2.14081041, 'logistical/manual_train_pause': 0.0, 'trn_control_loss': 0.00210221, 'consistency losses/trn_steer_cost': 0.00256315, 'consistency losses/trn_te_loss': 0.00956024, 'consistency losses/trn_torque_delta_loss': 42.65808105, 'consistency losses/trn_torque_loss': 74.21267361, 'logistical/max_param': 16.24130821, 'logistical/lr': 0.0001}\n",
      "{'logistical/obs_consumed_per_second': 238.203125, 'logistical/obs_generated_per_second': 116.9453125, 'logistical/data_consumption_ratio': 2.04018127, 'logistical/manual_train_pause': 0.0, 'trn_control_loss': 0.00217465, 'consistency losses/trn_steer_cost': 0.00254273, 'consistency losses/trn_te_loss': 0.00963846, 'consistency losses/trn_torque_loss': 96.06003289, 'consistency losses/trn_torque_delta_loss': 41.42144775, 'logistical/max_param': 16.24165916, 'logistical/lr': 0.0001}\n"
     ]
    },
    {
     "name": "stdout",
     "output_type": "stream",
     "text": [
      "{'logistical/obs_consumed_per_second': 245.2578125, 'logistical/obs_generated_per_second': 113.71875, 'logistical/data_consumption_ratio': 2.16151134, 'logistical/manual_train_pause': 0.0, 'trn_control_loss': 0.0023821, 'consistency losses/trn_steer_cost': 0.00297333, 'consistency losses/trn_te_loss': 0.01089529, 'consistency losses/trn_torque_loss': 131.27276786, 'consistency losses/trn_torque_delta_loss': 48.62084961, 'logistical/max_param': 16.24225044, 'logistical/lr': 0.0001}\n",
      "{'logistical/obs_consumed_per_second': 238.203125, 'logistical/obs_generated_per_second': 111.9375, 'logistical/data_consumption_ratio': 2.13160423, 'logistical/manual_train_pause': 0.0, 'trn_control_loss': 0.00206409, 'consistency losses/trn_steer_cost': 0.00240451, 'consistency losses/trn_te_loss': 0.00879127, 'consistency losses/trn_torque_delta_loss': 39.37811279, 'consistency losses/trn_torque_loss': 127.55322266, 'logistical/max_param': 16.24363518, 'logistical/lr': 0.0001}\n",
      "{'logistical/obs_consumed_per_second': 234.953125, 'logistical/obs_generated_per_second': 116.5625, 'logistical/data_consumption_ratio': 2.01520022, 'logistical/manual_train_pause': 0.0, 'trn_control_loss': 0.0018135, 'consistency losses/trn_steer_cost': 0.00209276, 'consistency losses/trn_te_loss': 0.00791079, 'consistency losses/trn_torque_delta_loss': 36.40823364, 'consistency losses/trn_torque_loss': 66.94866071, 'logistical/max_param': 16.24349022, 'logistical/lr': 0.0001}\n",
      "{'logistical/obs_consumed_per_second': 240.34065934, 'logistical/obs_generated_per_second': 116.57142857, 'logistical/data_consumption_ratio': 2.06254738, 'logistical/manual_train_pause': 0.0, 'trn_control_loss': 0.00223418, 'consistency losses/trn_steer_cost': 0.00305997, 'consistency losses/trn_te_loss': 0.01171109, 'consistency losses/trn_torque_delta_loss': 45.18628472, 'consistency losses/trn_torque_loss': 90.89568015}\n",
      "\n",
      "\n",
      " Eval...\n",
      "EPOCH 1\n",
      "\n",
      "{'trn_control_loss': 0.0019325, 'consistency losses/trn_steer_cost': 0.00222782, 'consistency losses/trn_te_loss': 0.0085423, 'consistency losses/trn_torque_delta_loss': 40.14520264, 'logistical/obs_consumed_per_second': 241.4015748, 'logistical/obs_generated_per_second': 107.28346457, 'logistical/data_consumption_ratio': 2.25643353, 'logistical/manual_train_pause': 0.0, 'consistency losses/trn_torque_loss': 92.05729167, 'logistical/max_param': 16.24516296, 'logistical/lr': 0.0001}\n",
      "{'logistical/obs_consumed_per_second': 239.9453125, 'logistical/obs_generated_per_second': 109.1015625, 'logistical/data_consumption_ratio': 2.20312804, 'logistical/manual_train_pause': 0.0, 'trn_control_loss': 0.00207876, 'consistency losses/trn_steer_cost': 0.00257333, 'consistency losses/trn_te_loss': 0.00962115, 'consistency losses/trn_torque_delta_loss': 41.78826904, 'consistency losses/trn_torque_loss': 123.97125, 'logistical/max_param': 16.24425507, 'logistical/lr': 0.0001}\n",
      "{'logistical/obs_consumed_per_second': 236.1328125, 'logistical/obs_generated_per_second': 114.703125, 'logistical/data_consumption_ratio': 2.06291945, 'logistical/manual_train_pause': 0.0, 'trn_control_loss': 0.00193945, 'consistency losses/trn_steer_cost': 0.00225923, 'consistency losses/trn_te_loss': 0.00843055, 'consistency losses/trn_torque_delta_loss': 40.66351318, 'consistency losses/trn_torque_loss': 89.32744565, 'logistical/max_param': 16.24239159, 'logistical/lr': 0.0001}\n",
      "{'logistical/obs_consumed_per_second': 239.0703125, 'logistical/obs_generated_per_second': 102.046875, 'logistical/data_consumption_ratio': 2.34662668, 'logistical/manual_train_pause': 0.0, 'trn_control_loss': 0.00209621, 'consistency losses/trn_steer_cost': 0.00211309, 'consistency losses/trn_te_loss': 0.00774192, 'consistency losses/trn_torque_delta_loss': 39.10736084, 'consistency losses/trn_torque_loss': 63.70496324, 'logistical/max_param': 16.24346161, 'logistical/lr': 0.0001}\n",
      "{'logistical/obs_consumed_per_second': 238.2890625, 'logistical/obs_generated_per_second': 113.4140625, 'logistical/data_consumption_ratio': 2.11202165, 'logistical/manual_train_pause': 0.0, 'trn_control_loss': 0.00195775, 'consistency losses/trn_steer_cost': 0.00190369, 'consistency losses/trn_te_loss': 0.00736208, 'consistency losses/trn_torque_delta_loss': 35.49609375, 'consistency losses/trn_torque_loss': 90.17542614, 'logistical/max_param': 16.24167061, 'logistical/lr': 0.0001}\n",
      "{'logistical/obs_consumed_per_second': 240.6875, 'logistical/obs_generated_per_second': 109.28125, 'logistical/data_consumption_ratio': 2.21371163, 'logistical/manual_train_pause': 0.0, 'trn_control_loss': 0.00171871, 'consistency losses/trn_steer_cost': 0.00188525, 'consistency losses/trn_te_loss': 0.00705712, 'consistency losses/trn_torque_loss': 84.18478261, 'consistency losses/trn_torque_delta_loss': 37.66265869, 'logistical/max_param': 16.24196243, 'logistical/lr': 0.0001}\n",
      "{'logistical/obs_consumed_per_second': 237.1875, 'logistical/obs_generated_per_second': 113.375, 'logistical/data_consumption_ratio': 2.09905621, 'logistical/manual_train_pause': 0.0, 'trn_control_loss': 0.00206494, 'consistency losses/trn_steer_cost': 0.00219149, 'consistency losses/trn_te_loss': 0.00823145, 'consistency losses/trn_torque_delta_loss': 38.41931152, 'consistency losses/trn_torque_loss': 72.27777778, 'logistical/max_param': 16.24211693, 'logistical/lr': 0.0001}\n",
      "{'logistical/obs_consumed_per_second': 240.796875, 'logistical/obs_generated_per_second': 118.625, 'logistical/data_consumption_ratio': 2.03206732, 'logistical/manual_train_pause': 0.0, 'trn_control_loss': 0.00210953, 'consistency losses/trn_steer_cost': 0.00217431, 'consistency losses/trn_te_loss': 0.00808213, 'consistency losses/trn_torque_delta_loss': 38.55413818, 'consistency losses/trn_torque_loss': 99.71205357, 'logistical/max_param': 16.24275208, 'logistical/lr': 0.0001}\n",
      "{'logistical/obs_consumed_per_second': 235.7265625, 'logistical/obs_generated_per_second': 116.9765625, 'logistical/data_consumption_ratio': 2.01909852, 'logistical/manual_train_pause': 0.0, 'trn_control_loss': 0.00198881, 'consistency losses/trn_steer_cost': 0.00229331, 'consistency losses/trn_te_loss': 0.00859344, 'consistency losses/trn_torque_loss': 93.44427083, 'consistency losses/trn_torque_delta_loss': 40.03729248, 'logistical/max_param': 16.24372673, 'logistical/lr': 0.0001}\n",
      "{'logistical/obs_consumed_per_second': 244.15625, 'logistical/obs_generated_per_second': 113.875, 'logistical/data_consumption_ratio': 2.14262698, 'logistical/manual_train_pause': 0.0, 'trn_control_loss': 0.00214515, 'consistency losses/trn_steer_cost': 0.00243795, 'consistency losses/trn_te_loss': 0.0090773, 'consistency losses/trn_torque_delta_loss': 44.53771973, 'consistency losses/trn_torque_loss': 102.67431641, 'logistical/max_param': 16.24434853, 'logistical/lr': 0.0001}\n",
      "{'logistical/obs_consumed_per_second': 238.578125, 'logistical/obs_generated_per_second': 116.0859375, 'logistical/data_consumption_ratio': 2.05485674, 'logistical/manual_train_pause': 0.0, 'trn_control_loss': 0.0020319, 'consistency losses/trn_steer_cost': 0.00233053, 'consistency losses/trn_te_loss': 0.00856903, 'consistency losses/trn_torque_delta_loss': 43.33728027, 'consistency losses/trn_torque_loss': 109.109375, 'logistical/max_param': 16.24584389, 'logistical/lr': 0.0001}\n",
      "{'logistical/obs_consumed_per_second': 241.625, 'logistical/obs_generated_per_second': 114.25, 'logistical/data_consumption_ratio': 2.11721113, 'logistical/manual_train_pause': 0.0, 'trn_control_loss': 0.00195571, 'consistency losses/trn_steer_cost': 0.00226949, 'consistency losses/trn_te_loss': 0.00860167, 'consistency losses/trn_torque_delta_loss': 40.68084717, 'consistency losses/trn_torque_loss': 90.55172414, 'logistical/max_param': 16.24573517, 'logistical/lr': 0.0001}\n",
      "{'logistical/obs_consumed_per_second': 238.390625, 'logistical/obs_generated_per_second': 114.53125, 'logistical/data_consumption_ratio': 2.08238258, 'logistical/manual_train_pause': 0.0, 'trn_control_loss': 0.00214697, 'consistency losses/trn_steer_cost': 0.00252648, 'consistency losses/trn_te_loss': 0.0093891, 'consistency losses/trn_torque_delta_loss': 46.00012207, 'consistency losses/trn_torque_loss': 126.22702206, 'logistical/max_param': 16.24561501, 'logistical/lr': 0.0001}\n"
     ]
    },
    {
     "name": "stdout",
     "output_type": "stream",
     "text": [
      "{'logistical/obs_consumed_per_second': 237.296875, 'logistical/obs_generated_per_second': 114.7421875, 'logistical/data_consumption_ratio': 2.07298277, 'logistical/manual_train_pause': 0.0, 'trn_control_loss': 0.00187308, 'consistency losses/trn_steer_cost': 0.00227911, 'consistency losses/trn_te_loss': 0.00864248, 'consistency losses/trn_torque_loss': 106.01331019, 'consistency losses/trn_torque_delta_loss': 38.7322998, 'logistical/max_param': 16.24563217, 'logistical/lr': 0.0001}\n",
      "{'logistical/obs_consumed_per_second': 232.6640625, 'logistical/obs_generated_per_second': 110.90625, 'logistical/data_consumption_ratio': 2.10031131, 'logistical/manual_train_pause': 0.0, 'trn_control_loss': 0.0018818, 'consistency losses/trn_steer_cost': 0.00224674, 'consistency losses/trn_te_loss': 0.00834601, 'consistency losses/trn_torque_loss': 70.1265625, 'consistency losses/trn_torque_delta_loss': 39.87438965, 'logistical/max_param': 16.24526215, 'logistical/lr': 0.0001}\n",
      "{'logistical/obs_consumed_per_second': 230.9296875, 'logistical/obs_generated_per_second': 118.671875, 'logistical/data_consumption_ratio': 1.946094, 'logistical/manual_train_pause': 0.0, 'trn_control_loss': 0.0019194, 'consistency losses/trn_steer_cost': 0.00191107, 'consistency losses/trn_te_loss': 0.00712234, 'consistency losses/trn_torque_delta_loss': 34.98486328, 'consistency losses/trn_torque_loss': 101.21590909, 'logistical/max_param': 16.24393463, 'logistical/lr': 0.0001}\n",
      "{'logistical/obs_consumed_per_second': 239.5234375, 'logistical/obs_generated_per_second': 113.84375, 'logistical/data_consumption_ratio': 2.11132046, 'logistical/manual_train_pause': 0.0, 'trn_control_loss': 0.00197369, 'consistency losses/trn_steer_cost': 0.00216904, 'consistency losses/trn_te_loss': 0.00809912, 'consistency losses/trn_torque_delta_loss': 36.84805298, 'consistency losses/trn_torque_loss': 78.68619792, 'logistical/max_param': 16.24293518, 'logistical/lr': 0.0001}\n",
      "{'logistical/obs_consumed_per_second': 233.0078125, 'logistical/obs_generated_per_second': 117.578125, 'logistical/data_consumption_ratio': 1.98551916, 'logistical/manual_train_pause': 0.0, 'trn_control_loss': 0.00205474, 'consistency losses/trn_steer_cost': 0.00239928, 'consistency losses/trn_te_loss': 0.00902925, 'consistency losses/trn_torque_loss': 77.496875, 'consistency losses/trn_torque_delta_loss': 42.8034668, 'logistical/max_param': 16.24291801, 'logistical/lr': 0.0001}\n",
      "{'logistical/obs_consumed_per_second': 238.953125, 'logistical/obs_generated_per_second': 108.234375, 'logistical/data_consumption_ratio': 2.21158148, 'logistical/manual_train_pause': 0.0, 'trn_control_loss': 0.0019514, 'consistency losses/trn_steer_cost': 0.00215872, 'consistency losses/trn_te_loss': 0.00806813, 'consistency losses/trn_torque_delta_loss': 37.61517334, 'consistency losses/trn_torque_loss': 103.72395833, 'logistical/max_param': 16.24188042, 'logistical/lr': 0.0001}\n",
      "{'logistical/obs_consumed_per_second': 240.953125, 'logistical/obs_generated_per_second': 103.140625, 'logistical/data_consumption_ratio': 2.33763667, 'logistical/manual_train_pause': 0.0, 'trn_control_loss': 0.00203386, 'consistency losses/trn_steer_cost': 0.00253121, 'consistency losses/trn_te_loss': 0.00931485, 'consistency losses/trn_torque_delta_loss': 39.34674072, 'consistency losses/trn_torque_loss': 83.515625, 'logistical/max_param': 16.24093819, 'logistical/lr': 0.0001}\n",
      "{'logistical/obs_consumed_per_second': 236.25274725, 'logistical/obs_generated_per_second': 109.41758242, 'logistical/data_consumption_ratio': 2.16472742, 'logistical/manual_train_pause': 0.0, 'trn_control_loss': 0.00197979, 'consistency losses/trn_steer_cost': 0.00219453, 'consistency losses/trn_te_loss': 0.00824876, 'consistency losses/trn_torque_delta_loss': 37.05503472, 'consistency losses/trn_torque_loss': 99.31808036}\n",
      "\n",
      "\n",
      " Eval...\n",
      "EPOCH 2\n",
      "\n",
      "{'trn_control_loss': 0.00208569, 'consistency losses/trn_steer_cost': 0.00222265, 'consistency losses/trn_te_loss': 0.00846387, 'consistency losses/trn_torque_loss': 134.65219907, 'consistency losses/trn_torque_delta_loss': 39.88977051, 'logistical/obs_consumed_per_second': 235.11023622, 'logistical/obs_generated_per_second': 111.85826772, 'logistical/data_consumption_ratio': 2.10534267, 'logistical/manual_train_pause': 0.0, 'logistical/max_param': 16.23924828, 'logistical/lr': 0.0001}\n",
      "{'logistical/obs_consumed_per_second': 241.59375, 'logistical/obs_generated_per_second': 112.1953125, 'logistical/data_consumption_ratio': 2.15074764, 'logistical/manual_train_pause': 0.0, 'trn_control_loss': 0.00209759, 'consistency losses/trn_steer_cost': 0.00270751, 'consistency losses/trn_te_loss': 0.01031966, 'consistency losses/trn_torque_delta_loss': 41.42358398, 'consistency losses/trn_torque_loss': 103.88849432, 'logistical/max_param': 16.23962593, 'logistical/lr': 0.0001}\n",
      "{'logistical/obs_consumed_per_second': 241.390625, 'logistical/obs_generated_per_second': 105.3203125, 'logistical/data_consumption_ratio': 2.29477939, 'logistical/manual_train_pause': 0.0, 'trn_control_loss': 0.0021106, 'consistency losses/trn_steer_cost': 0.00229628, 'consistency losses/trn_te_loss': 0.00862748, 'consistency losses/trn_torque_delta_loss': 41.11621094, 'consistency losses/trn_torque_loss': 94.13660714, 'logistical/max_param': 16.23884773, 'logistical/lr': 0.0001}\n",
      "{'logistical/obs_consumed_per_second': 238.609375, 'logistical/obs_generated_per_second': 104.6875, 'logistical/data_consumption_ratio': 2.27810526, 'logistical/manual_train_pause': 0.0, 'trn_control_loss': 0.00201339, 'consistency losses/trn_steer_cost': 0.00230039, 'consistency losses/trn_te_loss': 0.00884434, 'consistency losses/trn_torque_loss': 80.88476562, 'consistency losses/trn_torque_delta_loss': 40.18157959, 'logistical/max_param': 16.24086952, 'logistical/lr': 0.0001}\n",
      "{'logistical/obs_consumed_per_second': 234.5234375, 'logistical/obs_generated_per_second': 104.3125, 'logistical/data_consumption_ratio': 2.24674173, 'logistical/manual_train_pause': 0.0, 'trn_control_loss': 0.00208491, 'consistency losses/trn_steer_cost': 0.00242189, 'consistency losses/trn_te_loss': 0.00924954, 'consistency losses/trn_torque_delta_loss': 42.24511719, 'consistency losses/trn_torque_loss': 67.09430804, 'logistical/max_param': 16.24209404, 'logistical/lr': 0.0001}\n",
      "{'logistical/obs_consumed_per_second': 241.15625, 'logistical/obs_generated_per_second': 106.015625, 'logistical/data_consumption_ratio': 2.27997122, 'logistical/manual_train_pause': 0.0, 'trn_control_loss': 0.00240127, 'consistency losses/trn_steer_cost': 0.00312847, 'consistency losses/trn_te_loss': 0.01179758, 'consistency losses/trn_torque_delta_loss': 46.09155273, 'consistency losses/trn_torque_loss': 80.59032012, 'logistical/max_param': 16.24210548, 'logistical/lr': 0.0001}\n",
      "{'logistical/obs_consumed_per_second': 238.09375, 'logistical/obs_generated_per_second': 105.484375, 'logistical/data_consumption_ratio': 2.26009781, 'logistical/manual_train_pause': 0.0, 'trn_control_loss': 0.00212073, 'consistency losses/trn_steer_cost': 0.00243131, 'consistency losses/trn_te_loss': 0.00916206, 'consistency losses/trn_torque_delta_loss': 37.65032959, 'consistency losses/trn_torque_loss': 83.4782197, 'logistical/max_param': 16.24291229, 'logistical/lr': 0.0001}\n",
      "{'logistical/obs_consumed_per_second': 237.6484375, 'logistical/obs_generated_per_second': 109.046875, 'logistical/data_consumption_ratio': 2.18151913, 'logistical/manual_train_pause': 0.0, 'trn_control_loss': 0.00206883, 'consistency losses/trn_steer_cost': 0.00271422, 'consistency losses/trn_te_loss': 0.0102484, 'consistency losses/trn_torque_delta_loss': 40.15905762, 'consistency losses/trn_torque_loss': 128.27425987, 'logistical/max_param': 16.24361229, 'logistical/lr': 0.0001}\n",
      "{'logistical/obs_consumed_per_second': 242.171875, 'logistical/obs_generated_per_second': 110.8046875, 'logistical/data_consumption_ratio': 2.18681851, 'logistical/manual_train_pause': 0.0, 'trn_control_loss': 0.0019247, 'consistency losses/trn_steer_cost': 0.00223812, 'consistency losses/trn_te_loss': 0.00853537, 'consistency losses/trn_torque_delta_loss': 38.50927734, 'consistency losses/trn_torque_loss': 56.65264423, 'logistical/max_param': 16.24424553, 'logistical/lr': 0.0001}\n"
     ]
    },
    {
     "name": "stdout",
     "output_type": "stream",
     "text": [
      "{'logistical/obs_consumed_per_second': 232.703125, 'logistical/obs_generated_per_second': 104.6953125, 'logistical/data_consumption_ratio': 2.23049736, 'logistical/manual_train_pause': 0.0, 'trn_control_loss': 0.0017695, 'consistency losses/trn_steer_cost': 0.00207713, 'consistency losses/trn_te_loss': 0.00792957, 'consistency losses/trn_torque_delta_loss': 36.29449463, 'consistency losses/trn_torque_loss': 91.78872283, 'logistical/max_param': 16.24393272, 'logistical/lr': 0.0001}\n",
      "{'logistical/obs_consumed_per_second': 239.3203125, 'logistical/obs_generated_per_second': 97.421875, 'logistical/data_consumption_ratio': 2.46008669, 'logistical/manual_train_pause': 0.000625, 'trn_control_loss': 0.00190377, 'consistency losses/trn_steer_cost': 0.00204616, 'consistency losses/trn_te_loss': 0.00774389, 'consistency losses/trn_torque_delta_loss': 37.49975586, 'consistency losses/trn_torque_loss': 36.63235294, 'logistical/max_param': 16.24411392, 'logistical/lr': 0.0001}\n",
      "{'logistical/obs_consumed_per_second': 241.734375, 'logistical/obs_generated_per_second': 106.4609375, 'logistical/data_consumption_ratio': 2.26873397, 'logistical/manual_train_pause': 0.0, 'trn_control_loss': 0.00198485, 'consistency losses/trn_steer_cost': 0.00253904, 'consistency losses/trn_te_loss': 0.0094711, 'consistency losses/trn_torque_delta_loss': 38.55529785, 'consistency losses/trn_torque_loss': 108.29119318, 'logistical/max_param': 16.24415779, 'logistical/lr': 0.0001}\n",
      "{'logistical/obs_consumed_per_second': 235.3203125, 'logistical/obs_generated_per_second': 107.40625, 'logistical/data_consumption_ratio': 2.19466659, 'logistical/manual_train_pause': 0.0, 'trn_control_loss': 0.00206958, 'consistency losses/trn_steer_cost': 0.00254466, 'consistency losses/trn_te_loss': 0.00980748, 'consistency losses/trn_torque_loss': 92.47265625, 'consistency losses/trn_torque_delta_loss': 38.89666748, 'logistical/max_param': 16.24322319, 'logistical/lr': 0.0001}\n",
      "{'logistical/obs_consumed_per_second': 243.703125, 'logistical/obs_generated_per_second': 96.8984375, 'logistical/data_consumption_ratio': 2.5204727, 'logistical/manual_train_pause': 0.0009375, 'trn_control_loss': 0.00189055, 'consistency losses/trn_steer_cost': 0.0021745, 'consistency losses/trn_te_loss': 0.00836316, 'consistency losses/trn_torque_delta_loss': 37.06524658, 'consistency losses/trn_torque_loss': 93.12926136, 'logistical/max_param': 16.24365425, 'logistical/lr': 0.0001}\n",
      "{'logistical/obs_consumed_per_second': 234.5546875, 'logistical/obs_generated_per_second': 105.3203125, 'logistical/data_consumption_ratio': 2.23896001, 'logistical/manual_train_pause': 0.0, 'trn_control_loss': 0.00186023, 'consistency losses/trn_steer_cost': 0.00232006, 'consistency losses/trn_te_loss': 0.00895181, 'consistency losses/trn_torque_delta_loss': 36.88812256, 'consistency losses/trn_torque_loss': 141.32310268, 'logistical/max_param': 16.24413872, 'logistical/lr': 0.0001}\n",
      "{'logistical/obs_consumed_per_second': 239.3359375, 'logistical/obs_generated_per_second': 112.8671875, 'logistical/data_consumption_ratio': 2.12284465, 'logistical/manual_train_pause': 0.0, 'trn_control_loss': 0.00211263, 'consistency losses/trn_steer_cost': 0.00244889, 'consistency losses/trn_te_loss': 0.00927604, 'consistency losses/trn_torque_delta_loss': 41.03137207, 'consistency losses/trn_torque_loss': 109.98816288, 'logistical/max_param': 16.24256706, 'logistical/lr': 0.0001}\n",
      "{'logistical/obs_consumed_per_second': 239.21875, 'logistical/obs_generated_per_second': 116.7578125, 'logistical/data_consumption_ratio': 2.06026545, 'logistical/manual_train_pause': 0.0, 'trn_control_loss': 0.00224783, 'consistency losses/trn_steer_cost': 0.00261129, 'consistency losses/trn_te_loss': 0.00979821, 'consistency losses/trn_torque_delta_loss': 39.60803223, 'consistency losses/trn_torque_loss': 94.56344697, 'logistical/max_param': 16.24344635, 'logistical/lr': 0.0001}\n",
      "{'logistical/obs_consumed_per_second': 240.3984375, 'logistical/obs_generated_per_second': 111.2265625, 'logistical/data_consumption_ratio': 2.1689509, 'logistical/manual_train_pause': 0.0, 'trn_control_loss': 0.00206152, 'consistency losses/trn_steer_cost': 0.00255159, 'consistency losses/trn_te_loss': 0.0095297, 'consistency losses/trn_torque_delta_loss': 41.63226318, 'consistency losses/trn_torque_loss': 38.86221591, 'logistical/max_param': 16.24520874, 'logistical/lr': 0.0001}\n",
      "{'logistical/obs_consumed_per_second': 242.671875, 'logistical/obs_generated_per_second': 113.3046875, 'logistical/data_consumption_ratio': 2.14655311, 'logistical/manual_train_pause': 0.0, 'trn_control_loss': 0.00197379, 'consistency losses/trn_steer_cost': 0.00246806, 'consistency losses/trn_te_loss': 0.00935725, 'consistency losses/trn_torque_delta_loss': 36.80822754, 'consistency losses/trn_torque_loss': 88.25473485, 'logistical/max_param': 16.24539757, 'logistical/lr': 0.0001}\n",
      "{'logistical/obs_consumed_per_second': 240.828125, 'logistical/obs_generated_per_second': 117.453125, 'logistical/data_consumption_ratio': 2.05172983, 'logistical/manual_train_pause': 0.0, 'trn_control_loss': 0.00201138, 'consistency losses/trn_steer_cost': 0.00239941, 'consistency losses/trn_te_loss': 0.00893482, 'consistency losses/trn_torque_delta_loss': 37.41485596, 'consistency losses/trn_torque_loss': 128.06661184, 'logistical/max_param': 16.24307442, 'logistical/lr': 0.0001}\n",
      "{'logistical/obs_consumed_per_second': 245.38461538, 'logistical/obs_generated_per_second': 110.49450549, 'logistical/data_consumption_ratio': 2.21726421, 'logistical/manual_train_pause': 0.0, 'trn_control_loss': 0.00200641, 'consistency losses/trn_steer_cost': 0.00279354, 'consistency losses/trn_te_loss': 0.01059219, 'consistency losses/trn_torque_loss': 99.93534483, 'consistency losses/trn_torque_delta_loss': 39.64539931}\n",
      "\n",
      "\n",
      " Eval...\n",
      "EPOCH 3\n",
      "\n",
      "{'trn_control_loss': 0.00195529, 'consistency losses/trn_steer_cost': 0.00232903, 'consistency losses/trn_te_loss': 0.00884417, 'consistency losses/trn_torque_delta_loss': 37.54223633, 'logistical/obs_consumed_per_second': 244.73228346, 'logistical/obs_generated_per_second': 116.68503937, 'logistical/data_consumption_ratio': 2.09926051, 'logistical/manual_train_pause': 0.0, 'consistency losses/trn_torque_loss': 59.796875, 'logistical/max_param': 16.24281311, 'logistical/lr': 0.0001}\n",
      "{'logistical/obs_consumed_per_second': 237.5234375, 'logistical/obs_generated_per_second': 114.6640625, 'logistical/data_consumption_ratio': 2.07101659, 'logistical/manual_train_pause': 0.0, 'trn_control_loss': 0.00190558, 'consistency losses/trn_steer_cost': 0.00228982, 'consistency losses/trn_te_loss': 0.00862578, 'consistency losses/trn_torque_delta_loss': 40.628479, 'consistency losses/trn_torque_loss': 52.13352273, 'logistical/max_param': 16.24270248, 'logistical/lr': 0.0001}\n",
      "{'logistical/obs_consumed_per_second': 236.2734375, 'logistical/obs_generated_per_second': 114.9140625, 'logistical/data_consumption_ratio': 2.05498667, 'logistical/manual_train_pause': 0.0, 'trn_control_loss': 0.00169894, 'consistency losses/trn_steer_cost': 0.00193991, 'consistency losses/trn_te_loss': 0.00738221, 'consistency losses/trn_torque_delta_loss': 35.25979614, 'consistency losses/trn_torque_loss': 94.03571429, 'logistical/max_param': 16.24250031, 'logistical/lr': 0.0001}\n",
      "{'logistical/obs_consumed_per_second': 238.4765625, 'logistical/obs_generated_per_second': 104.3515625, 'logistical/data_consumption_ratio': 2.30206153, 'logistical/manual_train_pause': 0.00023438, 'trn_control_loss': 0.00203006, 'consistency losses/trn_steer_cost': 0.00221589, 'consistency losses/trn_te_loss': 0.00838448, 'consistency losses/trn_torque_delta_loss': 39.36297607, 'consistency losses/trn_torque_loss': 128.03958333, 'logistical/max_param': 16.24167252, 'logistical/lr': 0.0001}\n",
      "{'logistical/obs_consumed_per_second': 242.140625, 'logistical/obs_generated_per_second': 108.6640625, 'logistical/data_consumption_ratio': 2.23226365, 'logistical/manual_train_pause': 0.0, 'trn_control_loss': 0.0020017, 'consistency losses/trn_steer_cost': 0.00230575, 'consistency losses/trn_te_loss': 0.00881686, 'consistency losses/trn_torque_delta_loss': 41.28424072, 'consistency losses/trn_torque_loss': 44.57217262, 'logistical/max_param': 16.24087524, 'logistical/lr': 0.0001}\n"
     ]
    },
    {
     "name": "stdout",
     "output_type": "stream",
     "text": [
      "{'logistical/obs_consumed_per_second': 235.203125, 'logistical/obs_generated_per_second': 102.0234375, 'logistical/data_consumption_ratio': 2.31039843, 'logistical/manual_train_pause': 7.812e-05, 'trn_control_loss': 0.00178391, 'consistency losses/trn_steer_cost': 0.00203661, 'consistency losses/trn_te_loss': 0.00753355, 'consistency losses/trn_torque_delta_loss': 40.31451416, 'consistency losses/trn_torque_loss': 101.48535156, 'logistical/max_param': 16.24110985, 'logistical/lr': 0.0001}\n",
      "{'logistical/obs_consumed_per_second': 239.6328125, 'logistical/obs_generated_per_second': 106.8203125, 'logistical/data_consumption_ratio': 2.25492531, 'logistical/manual_train_pause': 0.0, 'trn_control_loss': 0.00187992, 'consistency losses/trn_steer_cost': 0.00226257, 'consistency losses/trn_te_loss': 0.00837558, 'consistency losses/trn_torque_delta_loss': 40.00024414, 'consistency losses/trn_torque_loss': 113.04361979, 'logistical/max_param': 16.2396965, 'logistical/lr': 0.0001}\n",
      "{'logistical/obs_consumed_per_second': 240.40625, 'logistical/obs_generated_per_second': 106.6015625, 'logistical/data_consumption_ratio': 2.26537818, 'logistical/manual_train_pause': 0.0, 'trn_control_loss': 0.00186028, 'consistency losses/trn_steer_cost': 0.00226649, 'consistency losses/trn_te_loss': 0.00866793, 'consistency losses/trn_torque_delta_loss': 37.95532227, 'consistency losses/trn_torque_loss': 62.79882812, 'logistical/max_param': 16.23883247, 'logistical/lr': 0.0001}\n",
      "{'logistical/obs_consumed_per_second': 242.3359375, 'logistical/obs_generated_per_second': 109.2421875, 'logistical/data_consumption_ratio': 2.21898265, 'logistical/manual_train_pause': 0.0, 'trn_control_loss': 0.0018209, 'consistency losses/trn_steer_cost': 0.00203326, 'consistency losses/trn_te_loss': 0.00754735, 'consistency losses/trn_torque_loss': 106.45, 'consistency losses/trn_torque_delta_loss': 39.00860596, 'logistical/max_param': 16.23894882, 'logistical/lr': 0.0001}\n",
      "{'logistical/obs_consumed_per_second': 237.65625, 'logistical/obs_generated_per_second': 104.328125, 'logistical/data_consumption_ratio': 2.27917333, 'logistical/manual_train_pause': 0.0, 'trn_control_loss': 0.00198098, 'consistency losses/trn_steer_cost': 0.00220007, 'consistency losses/trn_te_loss': 0.0081702, 'consistency losses/trn_torque_delta_loss': 39.80053711, 'consistency losses/trn_torque_loss': 81.81009615, 'logistical/max_param': 16.23773003, 'logistical/lr': 0.0001}\n",
      "{'logistical/obs_consumed_per_second': 237.0078125, 'logistical/obs_generated_per_second': 107.46875, 'logistical/data_consumption_ratio': 2.21158053, 'logistical/manual_train_pause': 0.0, 'trn_control_loss': 0.00163747, 'consistency losses/trn_steer_cost': 0.00204947, 'consistency losses/trn_te_loss': 0.00775582, 'consistency losses/trn_torque_loss': 82.62002841, 'consistency losses/trn_torque_delta_loss': 34.36663818, 'logistical/max_param': 16.23757362, 'logistical/lr': 0.0001}\n",
      "{'logistical/obs_consumed_per_second': 241.453125, 'logistical/obs_generated_per_second': 108.9140625, 'logistical/data_consumption_ratio': 2.21786214, 'logistical/manual_train_pause': 0.0, 'trn_control_loss': 0.00207251, 'consistency losses/trn_steer_cost': 0.00237623, 'consistency losses/trn_te_loss': 0.00897109, 'consistency losses/trn_torque_delta_loss': 35.63439941, 'consistency losses/trn_torque_loss': 126.37582237, 'logistical/max_param': 16.23791695, 'logistical/lr': 0.0001}\n",
      "{'logistical/obs_consumed_per_second': 239.2109375, 'logistical/obs_generated_per_second': 109.65625, 'logistical/data_consumption_ratio': 2.18818648, 'logistical/manual_train_pause': 0.0, 'trn_control_loss': 0.0022256, 'consistency losses/trn_steer_cost': 0.0027172, 'consistency losses/trn_te_loss': 0.01016916, 'consistency losses/trn_torque_delta_loss': 40.64318848, 'consistency losses/trn_torque_loss': 113.3984375, 'logistical/max_param': 16.2385807, 'logistical/lr': 0.0001}\n",
      "{'logistical/obs_consumed_per_second': 237.5, 'logistical/obs_generated_per_second': 108.2109375, 'logistical/data_consumption_ratio': 2.20703149, 'logistical/manual_train_pause': 0.0, 'trn_control_loss': 0.00185917, 'consistency losses/trn_steer_cost': 0.00212376, 'consistency losses/trn_te_loss': 0.00807098, 'consistency losses/trn_torque_delta_loss': 38.67694092, 'consistency losses/trn_torque_loss': 63.28125, 'logistical/max_param': 16.23919868, 'logistical/lr': 0.0001}\n",
      "{'logistical/obs_consumed_per_second': 240.609375, 'logistical/obs_generated_per_second': 107.125, 'logistical/data_consumption_ratio': 2.27160258, 'logistical/manual_train_pause': 0.0, 'trn_control_loss': 0.00196683, 'consistency losses/trn_steer_cost': 0.00236234, 'consistency losses/trn_te_loss': 0.00883484, 'consistency losses/trn_torque_delta_loss': 39.47583008, 'consistency losses/trn_torque_loss': 177.17708333, 'logistical/max_param': 16.24168777, 'logistical/lr': 0.0001}\n",
      "{'logistical/obs_consumed_per_second': 240.765625, 'logistical/obs_generated_per_second': 105.5078125, 'logistical/data_consumption_ratio': 2.28507985, 'logistical/manual_train_pause': 0.0, 'trn_control_loss': 0.00185271, 'consistency losses/trn_steer_cost': 0.00197127, 'consistency losses/trn_te_loss': 0.00738488, 'consistency losses/trn_torque_delta_loss': 37.08825684, 'consistency losses/trn_torque_loss': 103.74652778, 'logistical/max_param': 16.24298477, 'logistical/lr': 0.0001}\n",
      "{'logistical/obs_consumed_per_second': 241.3203125, 'logistical/obs_generated_per_second': 108.8828125, 'logistical/data_consumption_ratio': 2.21828911, 'logistical/manual_train_pause': 0.0, 'trn_control_loss': 0.00197609, 'consistency losses/trn_steer_cost': 0.00212492, 'consistency losses/trn_te_loss': 0.00803946, 'consistency losses/trn_torque_delta_loss': 39.45373535, 'consistency losses/trn_torque_loss': 65.69791667, 'logistical/max_param': 16.24485207, 'logistical/lr': 0.0001}\n",
      "{'logistical/obs_consumed_per_second': 234.40625, 'logistical/obs_generated_per_second': 106.9609375, 'logistical/data_consumption_ratio': 2.19072088, 'logistical/manual_train_pause': 0.0, 'trn_control_loss': 0.00220488, 'consistency losses/trn_steer_cost': 0.00260642, 'consistency losses/trn_te_loss': 0.00964762, 'consistency losses/trn_torque_loss': 141.34821429, 'consistency losses/trn_torque_delta_loss': 39.98278809, 'logistical/max_param': 16.24450111, 'logistical/lr': 0.0001}\n",
      "{'logistical/obs_consumed_per_second': 241.546875, 'logistical/obs_generated_per_second': 103.5078125, 'logistical/data_consumption_ratio': 2.33346568, 'logistical/manual_train_pause': 0.0, 'trn_control_loss': 0.00186113, 'consistency losses/trn_steer_cost': 0.00208047, 'consistency losses/trn_te_loss': 0.00757953, 'consistency losses/trn_torque_loss': 110.93518519, 'consistency losses/trn_torque_delta_loss': 36.20806885, 'logistical/max_param': 16.24577904, 'logistical/lr': 0.0001}\n",
      "{'logistical/obs_consumed_per_second': 242.078125, 'logistical/obs_generated_per_second': 103.796875, 'logistical/data_consumption_ratio': 2.33327783, 'logistical/manual_train_pause': 0.0, 'trn_control_loss': 0.00182289, 'consistency losses/trn_steer_cost': 0.00215337, 'consistency losses/trn_te_loss': 0.00816145, 'consistency losses/trn_torque_delta_loss': 40.96209717, 'consistency losses/trn_torque_loss': 103.34457237, 'logistical/max_param': 16.24583817, 'logistical/lr': 0.0001}\n",
      "{'logistical/obs_consumed_per_second': 234.9010989, 'logistical/obs_generated_per_second': 105.61538462, 'logistical/data_consumption_ratio': 2.22590389, 'logistical/manual_train_pause': 0.0, 'trn_control_loss': 0.00164738, 'consistency losses/trn_steer_cost': 0.00173219, 'consistency losses/trn_te_loss': 0.00638317, 'consistency losses/trn_torque_loss': 124.60677083, 'consistency losses/trn_torque_delta_loss': 31.93559028}\n",
      "\n",
      "\n",
      " Eval...\n",
      "EPOCH 4\n",
      "\n",
      "{'trn_control_loss': 0.00205106, 'consistency losses/trn_steer_cost': 0.00198077, 'consistency losses/trn_te_loss': 0.00730757, 'consistency losses/trn_torque_loss': 86.29769737, 'consistency losses/trn_torque_delta_loss': 37.7098999, 'logistical/obs_consumed_per_second': 243.55905512, 'logistical/obs_generated_per_second': 108.80314961, 'logistical/data_consumption_ratio': 2.24047766, 'logistical/manual_train_pause': 0.0, 'logistical/max_param': 16.24551773, 'logistical/lr': 0.0001}\n"
     ]
    },
    {
     "name": "stdout",
     "output_type": "stream",
     "text": [
      "{'logistical/obs_consumed_per_second': 243.6015625, 'logistical/obs_generated_per_second': 108.2734375, 'logistical/data_consumption_ratio': 2.25122756, 'logistical/manual_train_pause': 0.0, 'trn_control_loss': 0.00234986, 'consistency losses/trn_steer_cost': 0.0023686, 'consistency losses/trn_te_loss': 0.0088663, 'consistency losses/trn_torque_delta_loss': 38.80957031, 'consistency losses/trn_torque_loss': 122.78348214, 'logistical/max_param': 16.24572945, 'logistical/lr': 0.0001}\n",
      "{'logistical/obs_consumed_per_second': 239.34375, 'logistical/obs_generated_per_second': 110.0625, 'logistical/data_consumption_ratio': 2.17552763, 'logistical/manual_train_pause': 0.0, 'trn_control_loss': 0.0021721, 'consistency losses/trn_steer_cost': 0.00286643, 'consistency losses/trn_te_loss': 0.01074946, 'consistency losses/trn_torque_delta_loss': 40.86804199, 'consistency losses/trn_torque_loss': 116.95975379, 'logistical/max_param': 16.24600792, 'logistical/lr': 0.0001}\n",
      "{'logistical/obs_consumed_per_second': 239.375, 'logistical/obs_generated_per_second': 105.171875, 'logistical/data_consumption_ratio': 2.28125948, 'logistical/manual_train_pause': 0.0, 'trn_control_loss': 0.0020756, 'consistency losses/trn_steer_cost': 0.00239905, 'consistency losses/trn_te_loss': 0.00858659, 'consistency losses/trn_torque_delta_loss': 41.33056641, 'consistency losses/trn_torque_loss': 112.56038851, 'logistical/max_param': 16.24599075, 'logistical/lr': 0.0001}\n",
      "{'logistical/obs_consumed_per_second': 240.234375, 'logistical/obs_generated_per_second': 91.8125, 'logistical/data_consumption_ratio': 2.62623706, 'logistical/manual_train_pause': 0.00726562, 'trn_control_loss': 0.00178613, 'consistency losses/trn_steer_cost': 0.00207845, 'consistency losses/trn_te_loss': 0.00778908, 'consistency losses/trn_torque_delta_loss': 35.91943359, 'consistency losses/trn_torque_loss': 94.70923913, 'logistical/max_param': 16.24469757, 'logistical/lr': 0.0001}\n",
      "{'logistical/obs_consumed_per_second': 235.765625, 'logistical/obs_generated_per_second': 108.625, 'logistical/data_consumption_ratio': 2.17693009, 'logistical/manual_train_pause': 0.0, 'trn_control_loss': 0.00199538, 'consistency losses/trn_steer_cost': 0.00245451, 'consistency losses/trn_te_loss': 0.00921105, 'consistency losses/trn_torque_delta_loss': 41.68151855, 'consistency losses/trn_torque_loss': 90.64236111, 'logistical/max_param': 16.24412537, 'logistical/lr': 0.0001}\n",
      "{'logistical/obs_consumed_per_second': 238.7421875, 'logistical/obs_generated_per_second': 101.1875, 'logistical/data_consumption_ratio': 2.36395474, 'logistical/manual_train_pause': 0.0, 'trn_control_loss': 0.00189398, 'consistency losses/trn_steer_cost': 0.00206913, 'consistency losses/trn_te_loss': 0.007834, 'consistency losses/trn_torque_delta_loss': 36.21350098, 'consistency losses/trn_torque_loss': 85.90332031, 'logistical/max_param': 16.24403954, 'logistical/lr': 0.0001}\n",
      "{'logistical/obs_consumed_per_second': 235.3203125, 'logistical/obs_generated_per_second': 112.2109375, 'logistical/data_consumption_ratio': 2.10349986, 'logistical/manual_train_pause': 0.0, 'trn_control_loss': 0.00210264, 'consistency losses/trn_steer_cost': 0.00256031, 'consistency losses/trn_te_loss': 0.00951507, 'consistency losses/trn_torque_delta_loss': 43.31030273, 'consistency losses/trn_torque_loss': 119.04464286, 'logistical/max_param': 16.2432003, 'logistical/lr': 0.0001}\n",
      "{'logistical/obs_consumed_per_second': 242.0625, 'logistical/obs_generated_per_second': 107.984375, 'logistical/data_consumption_ratio': 2.24318455, 'logistical/manual_train_pause': 0.0, 'trn_control_loss': 0.0020047, 'consistency losses/trn_steer_cost': 0.00232358, 'consistency losses/trn_te_loss': 0.00888805, 'consistency losses/trn_torque_loss': 61.078125, 'consistency losses/trn_torque_delta_loss': 39.35168457, 'logistical/max_param': 16.2422924, 'logistical/lr': 0.0001}\n",
      "{'logistical/obs_consumed_per_second': 237.3203125, 'logistical/obs_generated_per_second': 108.234375, 'logistical/data_consumption_ratio': 2.1975084, 'logistical/manual_train_pause': 0.0, 'trn_control_loss': 0.00200886, 'consistency losses/trn_steer_cost': 0.00278426, 'consistency losses/trn_te_loss': 0.01039963, 'consistency losses/trn_torque_loss': 86.68538851, 'consistency losses/trn_torque_delta_loss': 40.25793457, 'logistical/max_param': 16.24276543, 'logistical/lr': 0.0001}\n",
      "{'logistical/obs_consumed_per_second': 237.1171875, 'logistical/obs_generated_per_second': 110.21875, 'logistical/data_consumption_ratio': 2.14972199, 'logistical/manual_train_pause': 0.0, 'trn_control_loss': 0.00187744, 'consistency losses/trn_steer_cost': 0.00210242, 'consistency losses/trn_te_loss': 0.00790209, 'consistency losses/trn_torque_delta_loss': 40.55865479, 'consistency losses/trn_torque_loss': 100.44308036, 'logistical/max_param': 16.24251747, 'logistical/lr': 0.0001}\n",
      "{'logistical/obs_consumed_per_second': 235.3359375, 'logistical/obs_generated_per_second': 112.5, 'logistical/data_consumption_ratio': 2.09381487, 'logistical/manual_train_pause': 0.0, 'trn_control_loss': 0.00177822, 'consistency losses/trn_steer_cost': 0.00214873, 'consistency losses/trn_te_loss': 0.00790207, 'consistency losses/trn_torque_delta_loss': 37.30438232, 'consistency losses/trn_torque_loss': 57.79050926, 'logistical/max_param': 16.24128342, 'logistical/lr': 0.0001}\n",
      "{'logistical/obs_consumed_per_second': 239.7421875, 'logistical/obs_generated_per_second': 112.4921875, 'logistical/data_consumption_ratio': 2.13210619, 'logistical/manual_train_pause': 0.0, 'trn_control_loss': 0.00186891, 'consistency losses/trn_steer_cost': 0.0019873, 'consistency losses/trn_te_loss': 0.00758879, 'consistency losses/trn_torque_delta_loss': 36.14605713, 'consistency losses/trn_torque_loss': 53.41145833, 'logistical/max_param': 16.2414093, 'logistical/lr': 0.0001}\n",
      "{'logistical/obs_consumed_per_second': 236.3828125, 'logistical/obs_generated_per_second': 101.328125, 'logistical/data_consumption_ratio': 2.33622116, 'logistical/manual_train_pause': 0.0, 'trn_control_loss': 0.00189263, 'consistency losses/trn_steer_cost': 0.00206912, 'consistency losses/trn_te_loss': 0.00799842, 'consistency losses/trn_torque_delta_loss': 37.53631592, 'consistency losses/trn_torque_loss': 82.83420139, 'logistical/max_param': 16.24264145, 'logistical/lr': 0.0001}\n",
      "{'logistical/obs_consumed_per_second': 237.390625, 'logistical/obs_generated_per_second': 109.2421875, 'logistical/data_consumption_ratio': 2.17730613, 'logistical/manual_train_pause': 0.0, 'trn_control_loss': 0.00209581, 'consistency losses/trn_steer_cost': 0.0026118, 'consistency losses/trn_te_loss': 0.00981086, 'consistency losses/trn_torque_loss': 94.5297379, 'consistency losses/trn_torque_delta_loss': 41.57617188, 'logistical/max_param': 16.24382401, 'logistical/lr': 0.0001}\n",
      "{'logistical/obs_consumed_per_second': 237.953125, 'logistical/obs_generated_per_second': 101.1328125, 'logistical/data_consumption_ratio': 2.3543887, 'logistical/manual_train_pause': 0.0, 'trn_control_loss': 0.00197027, 'consistency losses/trn_steer_cost': 0.002327, 'consistency losses/trn_te_loss': 0.00864996, 'consistency losses/trn_torque_delta_loss': 37.36004639, 'consistency losses/trn_torque_loss': 113.44901316, 'logistical/max_param': 16.24451637, 'logistical/lr': 0.0001}\n",
      "{'logistical/obs_consumed_per_second': 238.8984375, 'logistical/obs_generated_per_second': 116.515625, 'logistical/data_consumption_ratio': 2.05106544, 'logistical/manual_train_pause': 0.0, 'trn_control_loss': 0.00198313, 'consistency losses/trn_steer_cost': 0.0023515, 'consistency losses/trn_te_loss': 0.00890535, 'consistency losses/trn_torque_delta_loss': 44.8560791, 'consistency losses/trn_torque_loss': 83.68520221, 'logistical/max_param': 16.2435894, 'logistical/lr': 0.0001}\n",
      "{'logistical/obs_consumed_per_second': 233.75, 'logistical/obs_generated_per_second': 104.640625, 'logistical/data_consumption_ratio': 2.2511878, 'logistical/manual_train_pause': 0.0, 'trn_control_loss': 0.00238375, 'consistency losses/trn_steer_cost': 0.00285435, 'consistency losses/trn_te_loss': 0.0109071, 'consistency losses/trn_torque_delta_loss': 41.95892334, 'consistency losses/trn_torque_loss': 112.27134146, 'logistical/max_param': 16.24448204, 'logistical/lr': 0.0001}\n"
     ]
    },
    {
     "name": "stdout",
     "output_type": "stream",
     "text": [
      "{'logistical/obs_consumed_per_second': 237.796875, 'logistical/obs_generated_per_second': 102.078125, 'logistical/data_consumption_ratio': 2.33312557, 'logistical/manual_train_pause': 0.0, 'trn_control_loss': 0.00202661, 'consistency losses/trn_steer_cost': 0.00221983, 'consistency losses/trn_te_loss': 0.00837439, 'consistency losses/trn_torque_delta_loss': 37.43359375, 'consistency losses/trn_torque_loss': 117.97743056, 'logistical/max_param': 16.24406433, 'logistical/lr': 0.0001}\n",
      "{'logistical/obs_consumed_per_second': 241.7734375, 'logistical/obs_generated_per_second': 109.109375, 'logistical/data_consumption_ratio': 2.21619018, 'logistical/manual_train_pause': 0.0, 'trn_control_loss': 0.002314, 'consistency losses/trn_steer_cost': 0.00253869, 'consistency losses/trn_te_loss': 0.00964914, 'consistency losses/trn_torque_delta_loss': 41.48486328, 'consistency losses/trn_torque_loss': 80.72896635, 'logistical/max_param': 16.24253273, 'logistical/lr': 0.0001}\n",
      "{'logistical/obs_consumed_per_second': 240.61538462, 'logistical/obs_generated_per_second': 107.20879121, 'logistical/data_consumption_ratio': 2.24414729, 'logistical/manual_train_pause': 0.0, 'trn_control_loss': 0.00298417, 'consistency losses/trn_steer_cost': 0.0027162, 'consistency losses/trn_te_loss': 0.01018934, 'consistency losses/trn_torque_delta_loss': 45.07361111, 'consistency losses/trn_torque_loss': 89.22239583}\n",
      "\n",
      "\n",
      " Eval...\n",
      "EPOCH 5\n",
      "\n",
      "{'trn_control_loss': 0.00249299, 'consistency losses/trn_steer_cost': 0.00294962, 'consistency losses/trn_te_loss': 0.01102622, 'consistency losses/trn_torque_loss': 122.05397727, 'consistency losses/trn_torque_delta_loss': 43.97546387, 'logistical/obs_consumed_per_second': 239.39370079, 'logistical/obs_generated_per_second': 106.18897638, 'logistical/data_consumption_ratio': 2.25551427, 'logistical/manual_train_pause': 0.0, 'logistical/max_param': 16.23834229, 'logistical/lr': 0.0001}\n",
      "{'logistical/obs_consumed_per_second': 232.1640625, 'logistical/obs_generated_per_second': 105.015625, 'logistical/data_consumption_ratio': 2.20788313, 'logistical/manual_train_pause': 0.0, 'trn_control_loss': 0.00201617, 'consistency losses/trn_steer_cost': 0.00220541, 'consistency losses/trn_te_loss': 0.00831046, 'consistency losses/trn_torque_delta_loss': 39.10394287, 'consistency losses/trn_torque_loss': 82.40517241, 'logistical/max_param': 16.23833275, 'logistical/lr': 0.0001}\n",
      "{'logistical/obs_consumed_per_second': 236.75, 'logistical/obs_generated_per_second': 109.0, 'logistical/data_consumption_ratio': 2.1771562, 'logistical/manual_train_pause': 0.0, 'trn_control_loss': 0.00213914, 'consistency losses/trn_steer_cost': 0.00251755, 'consistency losses/trn_te_loss': 0.00947921, 'consistency losses/trn_torque_loss': 107.67822266, 'consistency losses/trn_torque_delta_loss': 42.29547119, 'logistical/max_param': 16.23772621, 'logistical/lr': 0.0001}\n",
      "{'logistical/obs_consumed_per_second': 243.4296875, 'logistical/obs_generated_per_second': 106.96875, 'logistical/data_consumption_ratio': 2.2774433, 'logistical/manual_train_pause': 0.0, 'trn_control_loss': 0.00191534, 'consistency losses/trn_steer_cost': 0.00239246, 'consistency losses/trn_te_loss': 0.00916208, 'consistency losses/trn_torque_loss': 112.84598214, 'consistency losses/trn_torque_delta_loss': 39.12615967, 'logistical/max_param': 16.23769188, 'logistical/lr': 0.0001}\n",
      "{'logistical/obs_consumed_per_second': 249.1796875, 'logistical/obs_generated_per_second': 108.7578125, 'logistical/data_consumption_ratio': 2.29308476, 'logistical/manual_train_pause': 0.0, 'trn_control_loss': 0.00231323, 'consistency losses/trn_steer_cost': 0.00273233, 'consistency losses/trn_te_loss': 0.01024064, 'consistency losses/trn_torque_delta_loss': 45.15759277, 'consistency losses/trn_torque_loss': 127.62700321, 'logistical/max_param': 16.23772621, 'logistical/lr': 0.0001}\n",
      "{'logistical/obs_consumed_per_second': 236.2734375, 'logistical/obs_generated_per_second': 101.921875, 'logistical/data_consumption_ratio': 2.31975549, 'logistical/manual_train_pause': 0.0, 'trn_control_loss': 0.0021009, 'consistency losses/trn_steer_cost': 0.00229284, 'consistency losses/trn_te_loss': 0.00869171, 'consistency losses/trn_torque_delta_loss': 40.58428955, 'consistency losses/trn_torque_loss': 77.58426339, 'logistical/max_param': 16.23819542, 'logistical/lr': 0.0001}\n"
     ]
    },
    {
     "name": "stderr",
     "output_type": "stream",
     "text": [
      "wandb: Network error (TransientError), entering retry loop.\n",
      "wandb: Network error (TransientError), entering retry loop.\n"
     ]
    },
    {
     "name": "stdout",
     "output_type": "stream",
     "text": [
      "{'logistical/obs_consumed_per_second': 236.046875, 'logistical/obs_generated_per_second': 102.34375, 'logistical/data_consumption_ratio': 2.31315841, 'logistical/manual_train_pause': 0.00015625, 'trn_control_loss': 0.00213185, 'consistency losses/trn_steer_cost': 0.00262734, 'consistency losses/trn_te_loss': 0.00991492, 'consistency losses/trn_torque_delta_loss': 37.96777344, 'consistency losses/trn_torque_loss': 105.08088235, 'logistical/max_param': 16.2392025, 'logistical/lr': 0.0001}\n",
      "{'logistical/obs_consumed_per_second': 233.96875, 'logistical/obs_generated_per_second': 98.703125, 'logistical/data_consumption_ratio': 2.37994521, 'logistical/manual_train_pause': 0.0003125, 'trn_control_loss': 0.00193138, 'consistency losses/trn_steer_cost': 0.00216954, 'consistency losses/trn_te_loss': 0.00822995, 'consistency losses/trn_torque_loss': 66.23611111, 'consistency losses/trn_torque_delta_loss': 38.60931396, 'logistical/max_param': 16.2387104, 'logistical/lr': 0.0001}\n",
      "{'logistical/obs_consumed_per_second': 241.390625, 'logistical/obs_generated_per_second': 104.21875, 'logistical/data_consumption_ratio': 2.31457666, 'logistical/manual_train_pause': 0.0, 'trn_control_loss': 0.00197849, 'consistency losses/trn_steer_cost': 0.00236192, 'consistency losses/trn_te_loss': 0.00909055, 'consistency losses/trn_torque_delta_loss': 40.85681152, 'consistency losses/trn_torque_loss': 104.61383929, 'logistical/max_param': 16.23820305, 'logistical/lr': 0.0001}\n",
      "{'logistical/obs_consumed_per_second': 239.5078125, 'logistical/obs_generated_per_second': 104.8828125, 'logistical/data_consumption_ratio': 2.28620348, 'logistical/manual_train_pause': 0.0, 'trn_control_loss': 0.0019815, 'consistency losses/trn_steer_cost': 0.00223681, 'consistency losses/trn_te_loss': 0.00841275, 'consistency losses/trn_torque_delta_loss': 38.58486938, 'consistency losses/trn_torque_loss': 85.74, 'logistical/max_param': 16.23871994, 'logistical/lr': 0.0001}\n",
      "{'logistical/obs_consumed_per_second': 236.8046875, 'logistical/obs_generated_per_second': 107.109375, 'logistical/data_consumption_ratio': 2.21445121, 'logistical/manual_train_pause': 0.0, 'trn_control_loss': 0.00224084, 'consistency losses/trn_steer_cost': 0.00266977, 'consistency losses/trn_te_loss': 0.00993882, 'consistency losses/trn_torque_loss': 73.30625, 'consistency losses/trn_torque_delta_loss': 42.28656006, 'logistical/max_param': 16.23897743, 'logistical/lr': 0.0001}\n",
      "{'logistical/obs_consumed_per_second': 234.5234375, 'logistical/obs_generated_per_second': 103.15625, 'logistical/data_consumption_ratio': 2.27708261, 'logistical/manual_train_pause': 0.0, 'trn_control_loss': 0.00192268, 'consistency losses/trn_steer_cost': 0.00230863, 'consistency losses/trn_te_loss': 0.00864613, 'consistency losses/trn_torque_delta_loss': 40.4954834, 'consistency losses/trn_torque_loss': 141.16335227, 'logistical/max_param': 16.23967743, 'logistical/lr': 0.0001}\n",
      "{'logistical/obs_consumed_per_second': 237.2734375, 'logistical/obs_generated_per_second': 96.640625, 'logistical/data_consumption_ratio': 2.45990631, 'logistical/manual_train_pause': 0.0, 'trn_control_loss': 0.00217136, 'consistency losses/trn_steer_cost': 0.00249672, 'consistency losses/trn_te_loss': 0.00927675, 'consistency losses/trn_torque_loss': 72.84151786, 'consistency losses/trn_torque_delta_loss': 42.5836792, 'logistical/max_param': 16.23889923, 'logistical/lr': 0.0001}\n",
      "{'logistical/obs_consumed_per_second': 241.015625, 'logistical/obs_generated_per_second': 100.875, 'logistical/data_consumption_ratio': 2.40336066, 'logistical/manual_train_pause': 0.00023438, 'trn_control_loss': 0.00202384, 'consistency losses/trn_steer_cost': 0.00220824, 'consistency losses/trn_te_loss': 0.00833577, 'consistency losses/trn_torque_delta_loss': 41.08685303, 'consistency losses/trn_torque_loss': 64.60814145, 'logistical/max_param': 16.23829269, 'logistical/lr': 0.0001}\n",
      "{'logistical/obs_consumed_per_second': 241.3125, 'logistical/obs_generated_per_second': 111.546875, 'logistical/data_consumption_ratio': 2.16610319, 'logistical/manual_train_pause': 0.0, 'trn_control_loss': 0.00188114, 'consistency losses/trn_steer_cost': 0.00199077, 'consistency losses/trn_te_loss': 0.00738596, 'consistency losses/trn_torque_loss': 59.265625, 'consistency losses/trn_torque_delta_loss': 40.01177979, 'logistical/max_param': 16.23794365, 'logistical/lr': 0.0001}\n",
      "{'logistical/obs_consumed_per_second': 237.65625, 'logistical/obs_generated_per_second': 108.78125, 'logistical/data_consumption_ratio': 2.19295825, 'logistical/manual_train_pause': 0.0, 'trn_control_loss': 0.00204532, 'consistency losses/trn_steer_cost': 0.00249716, 'consistency losses/trn_te_loss': 0.00935621, 'consistency losses/trn_torque_delta_loss': 43.07824707, 'consistency losses/trn_torque_loss': 100.88310185, 'logistical/max_param': 16.2385807, 'logistical/lr': 0.0001}\n",
      "{'logistical/obs_consumed_per_second': 237.28125, 'logistical/obs_generated_per_second': 104.1953125, 'logistical/data_consumption_ratio': 2.27986679, 'logistical/manual_train_pause': 0.0, 'trn_control_loss': 0.00210404, 'consistency losses/trn_steer_cost': 0.00255481, 'consistency losses/trn_te_loss': 0.00953885, 'consistency losses/trn_torque_delta_loss': 43.97369385, 'consistency losses/trn_torque_loss': 131.20501894, 'logistical/max_param': 16.24033356, 'logistical/lr': 0.0001}\n",
      "{'logistical/obs_consumed_per_second': 234.2578125, 'logistical/obs_generated_per_second': 105.578125, 'logistical/data_consumption_ratio': 2.21974213, 'logistical/manual_train_pause': 0.0, 'trn_control_loss': 0.00188241, 'consistency losses/trn_steer_cost': 0.00224164, 'consistency losses/trn_te_loss': 0.00848862, 'consistency losses/trn_torque_delta_loss': 41.12658691, 'consistency losses/trn_torque_loss': 77.13038793, 'logistical/max_param': 16.24022484, 'logistical/lr': 0.0001}\n",
      "{'logistical/obs_consumed_per_second': 234.9921875, 'logistical/obs_generated_per_second': 115.0625, 'logistical/data_consumption_ratio': 2.04638447, 'logistical/manual_train_pause': 0.0, 'trn_control_loss': 0.00202239, 'consistency losses/trn_steer_cost': 0.00266556, 'consistency losses/trn_te_loss': 0.01035624, 'consistency losses/trn_torque_delta_loss': 43.88604736, 'consistency losses/trn_torque_loss': 99.05974265, 'logistical/max_param': 16.23930359, 'logistical/lr': 0.0001}\n",
      "{'logistical/obs_consumed_per_second': 237.1953125, 'logistical/obs_generated_per_second': 107.375, 'logistical/data_consumption_ratio': 2.21049064, 'logistical/manual_train_pause': 0.0, 'trn_control_loss': 0.00177465, 'consistency losses/trn_steer_cost': 0.00200452, 'consistency losses/trn_te_loss': 0.00765693, 'consistency losses/trn_torque_delta_loss': 37.10388184, 'consistency losses/trn_torque_loss': 85.32599432, 'logistical/max_param': 16.23990822, 'logistical/lr': 0.0001}\n",
      "{'logistical/obs_consumed_per_second': 233.18681319, 'logistical/obs_generated_per_second': 111.78021978, 'logistical/data_consumption_ratio': 2.08990566, 'logistical/manual_train_pause': 0.0, 'trn_control_loss': 0.00195589, 'consistency losses/trn_steer_cost': 0.00242623, 'consistency losses/trn_te_loss': 0.009262, 'consistency losses/trn_torque_delta_loss': 41.48689236, 'consistency losses/trn_torque_loss': 60.9765625}\n",
      "\n",
      "\n",
      " Eval...\n",
      "EPOCH 6\n",
      "\n",
      "{'trn_control_loss': 0.00216462, 'consistency losses/trn_steer_cost': 0.00276963, 'consistency losses/trn_te_loss': 0.01041689, 'consistency losses/trn_torque_loss': 106.22935268, 'consistency losses/trn_torque_delta_loss': 39.60638428, 'logistical/obs_consumed_per_second': 243.5511811, 'logistical/obs_generated_per_second': 109.60629921, 'logistical/data_consumption_ratio': 2.22578368, 'logistical/manual_train_pause': 0.0, 'logistical/max_param': 16.23947716, 'logistical/lr': 0.0001}\n",
      "{'logistical/obs_consumed_per_second': 242.1484375, 'logistical/obs_generated_per_second': 102.9453125, 'logistical/data_consumption_ratio': 2.3529617, 'logistical/manual_train_pause': 0.0, 'trn_control_loss': 0.00164262, 'consistency losses/trn_steer_cost': 0.00200453, 'consistency losses/trn_te_loss': 0.00761252, 'consistency losses/trn_torque_delta_loss': 32.99542236, 'consistency losses/trn_torque_loss': 140.8671875, 'logistical/max_param': 16.23945427, 'logistical/lr': 0.0001}\n"
     ]
    },
    {
     "name": "stdout",
     "output_type": "stream",
     "text": [
      "{'logistical/obs_consumed_per_second': 235.2578125, 'logistical/obs_generated_per_second': 103.5390625, 'logistical/data_consumption_ratio': 2.27844028, 'logistical/manual_train_pause': 0.0, 'trn_control_loss': 0.00175144, 'consistency losses/trn_steer_cost': 0.00204421, 'consistency losses/trn_te_loss': 0.00776159, 'consistency losses/trn_torque_delta_loss': 37.75027466, 'consistency losses/trn_torque_loss': 99.90283203, 'logistical/max_param': 16.2368412, 'logistical/lr': 0.0001}\n",
      "{'logistical/obs_consumed_per_second': 241.515625, 'logistical/obs_generated_per_second': 97.1875, 'logistical/data_consumption_ratio': 2.48545207, 'logistical/manual_train_pause': 0.0, 'trn_control_loss': 0.00178031, 'consistency losses/trn_steer_cost': 0.00216638, 'consistency losses/trn_te_loss': 0.00810615, 'consistency losses/trn_torque_delta_loss': 37.90014648, 'consistency losses/trn_torque_loss': 83.06298828, 'logistical/max_param': 16.2362442, 'logistical/lr': 0.0001}\n",
      "{'logistical/obs_consumed_per_second': 239.515625, 'logistical/obs_generated_per_second': 103.9453125, 'logistical/data_consumption_ratio': 2.30153723, 'logistical/manual_train_pause': 0.0, 'trn_control_loss': 0.00158234, 'consistency losses/trn_steer_cost': 0.00176644, 'consistency losses/trn_te_loss': 0.00665621, 'consistency losses/trn_torque_delta_loss': 36.48193359, 'consistency losses/trn_torque_loss': 59.77864583, 'logistical/max_param': 16.23705292, 'logistical/lr': 0.0001}\n",
      "{'logistical/obs_consumed_per_second': 232.765625, 'logistical/obs_generated_per_second': 95.4453125, 'logistical/data_consumption_ratio': 2.45934551, 'logistical/manual_train_pause': 0.00265625, 'trn_control_loss': 0.00181031, 'consistency losses/trn_steer_cost': 0.00201504, 'consistency losses/trn_te_loss': 0.00764799, 'consistency losses/trn_torque_delta_loss': 35.68658447, 'consistency losses/trn_torque_loss': 118.01953125, 'logistical/max_param': 16.23703003, 'logistical/lr': 0.0001}\n",
      "{'logistical/obs_consumed_per_second': 238.4296875, 'logistical/obs_generated_per_second': 94.4765625, 'logistical/data_consumption_ratio': 2.53932788, 'logistical/manual_train_pause': 0.00453125, 'trn_control_loss': 0.00172439, 'consistency losses/trn_steer_cost': 0.00221968, 'consistency losses/trn_te_loss': 0.00847647, 'consistency losses/trn_torque_delta_loss': 38.28796387, 'consistency losses/trn_torque_loss': 97.45244565, 'logistical/max_param': 16.23698235, 'logistical/lr': 0.0001}\n",
      "{'logistical/obs_consumed_per_second': 234.21875, 'logistical/obs_generated_per_second': 104.78125, 'logistical/data_consumption_ratio': 2.23993377, 'logistical/manual_train_pause': 0.0, 'trn_control_loss': 0.00194861, 'consistency losses/trn_steer_cost': 0.00216412, 'consistency losses/trn_te_loss': 0.008079, 'consistency losses/trn_torque_delta_loss': 41.21160889, 'consistency losses/trn_torque_loss': 89.45789931, 'logistical/max_param': 16.23611641, 'logistical/lr': 0.0001}\n",
      "{'logistical/obs_consumed_per_second': 239.1953125, 'logistical/obs_generated_per_second': 114.015625, 'logistical/data_consumption_ratio': 2.09809908, 'logistical/manual_train_pause': 0.0, 'trn_control_loss': 0.00167127, 'consistency losses/trn_steer_cost': 0.00199922, 'consistency losses/trn_te_loss': 0.0075353, 'consistency losses/trn_torque_delta_loss': 37.86737061, 'consistency losses/trn_torque_loss': 80.30034722, 'logistical/max_param': 16.23638344, 'logistical/lr': 0.0001}\n",
      "{'logistical/obs_consumed_per_second': 238.765625, 'logistical/obs_generated_per_second': 112.3046875, 'logistical/data_consumption_ratio': 2.13003079, 'logistical/manual_train_pause': 0.0, 'trn_control_loss': 0.00215774, 'consistency losses/trn_steer_cost': 0.00226285, 'consistency losses/trn_te_loss': 0.00846516, 'consistency losses/trn_torque_loss': 134.41071429, 'consistency losses/trn_torque_delta_loss': 40.23120117, 'logistical/max_param': 16.237957, 'logistical/lr': 0.0001}\n",
      "{'logistical/obs_consumed_per_second': 242.46875, 'logistical/obs_generated_per_second': 105.09375, 'logistical/data_consumption_ratio': 2.31182712, 'logistical/manual_train_pause': 0.0, 'trn_control_loss': 0.00213189, 'consistency losses/trn_steer_cost': 0.00248112, 'consistency losses/trn_te_loss': 0.00914859, 'consistency losses/trn_torque_delta_loss': 40.87554932, 'consistency losses/trn_torque_loss': 109.13151042, 'logistical/max_param': 16.23708725, 'logistical/lr': 0.0001}\n",
      "{'logistical/obs_consumed_per_second': 237.375, 'logistical/obs_generated_per_second': 102.109375, 'logistical/data_consumption_ratio': 2.33003072, 'logistical/manual_train_pause': 0.0, 'trn_control_loss': 0.00179397, 'consistency losses/trn_steer_cost': 0.00211029, 'consistency losses/trn_te_loss': 0.00782237, 'consistency losses/trn_torque_delta_loss': 35.4465332, 'consistency losses/trn_torque_loss': 116.3512931, 'logistical/max_param': 16.23611641, 'logistical/lr': 0.0001}\n",
      "{'logistical/obs_consumed_per_second': 234.9375, 'logistical/obs_generated_per_second': 109.96875, 'logistical/data_consumption_ratio': 2.13650421, 'logistical/manual_train_pause': 0.0, 'trn_control_loss': 0.0017799, 'consistency losses/trn_steer_cost': 0.00223412, 'consistency losses/trn_te_loss': 0.00862119, 'consistency losses/trn_torque_delta_loss': 41.11645508, 'consistency losses/trn_torque_loss': 114.96875, 'logistical/max_param': 16.23562622, 'logistical/lr': 0.0001}\n",
      "{'logistical/obs_consumed_per_second': 240.640625, 'logistical/obs_generated_per_second': 109.0546875, 'logistical/data_consumption_ratio': 2.20694001, 'logistical/manual_train_pause': 0.0, 'trn_control_loss': 0.00164457, 'consistency losses/trn_steer_cost': 0.0019553, 'consistency losses/trn_te_loss': 0.00737278, 'consistency losses/trn_torque_delta_loss': 38.35736084, 'consistency losses/trn_torque_loss': 108.53877315, 'logistical/max_param': 16.23600006, 'logistical/lr': 0.0001}\n",
      "{'logistical/obs_consumed_per_second': 237.5625, 'logistical/obs_generated_per_second': 107.3125, 'logistical/data_consumption_ratio': 2.2203323, 'logistical/manual_train_pause': 0.0, 'trn_control_loss': 0.00196851, 'consistency losses/trn_steer_cost': 0.00282107, 'consistency losses/trn_te_loss': 0.01019971, 'consistency losses/trn_torque_loss': 137.22070312, 'consistency losses/trn_torque_delta_loss': 40.66436768, 'logistical/max_param': 16.2369194, 'logistical/lr': 0.0001}\n",
      "{'logistical/obs_consumed_per_second': 240.375, 'logistical/obs_generated_per_second': 108.265625, 'logistical/data_consumption_ratio': 2.21903774, 'logistical/manual_train_pause': 0.0, 'trn_control_loss': 0.00191088, 'consistency losses/trn_steer_cost': 0.0022063, 'consistency losses/trn_te_loss': 0.0082432, 'consistency losses/trn_torque_delta_loss': 40.38635254, 'consistency losses/trn_torque_loss': 75.60464015, 'logistical/max_param': 16.23679924, 'logistical/lr': 0.0001}\n",
      "{'logistical/obs_consumed_per_second': 235.171875, 'logistical/obs_generated_per_second': 98.53125, 'logistical/data_consumption_ratio': 2.39604944, 'logistical/manual_train_pause': 0.000625, 'trn_control_loss': 0.00201075, 'consistency losses/trn_steer_cost': 0.00243165, 'consistency losses/trn_te_loss': 0.00916989, 'consistency losses/trn_torque_delta_loss': 39.2578125, 'consistency losses/trn_torque_loss': 110.1344697, 'logistical/max_param': 16.23705101, 'logistical/lr': 0.0001}\n",
      "{'logistical/obs_consumed_per_second': 236.3828125, 'logistical/obs_generated_per_second': 107.09375, 'logistical/data_consumption_ratio': 2.20623314, 'logistical/manual_train_pause': 0.0, 'trn_control_loss': 0.00180171, 'consistency losses/trn_steer_cost': 0.00189449, 'consistency losses/trn_te_loss': 0.00716385, 'consistency losses/trn_torque_delta_loss': 38.03155518, 'consistency losses/trn_torque_loss': 96.01666667, 'logistical/max_param': 16.23575211, 'logistical/lr': 0.0001}\n",
      "{'logistical/obs_consumed_per_second': 236.9140625, 'logistical/obs_generated_per_second': 106.71875, 'logistical/data_consumption_ratio': 2.22290868, 'logistical/manual_train_pause': 0.0, 'trn_control_loss': 0.00182389, 'consistency losses/trn_steer_cost': 0.00218571, 'consistency losses/trn_te_loss': 0.00818178, 'consistency losses/trn_torque_delta_loss': 37.16131592, 'consistency losses/trn_torque_loss': 104.00390625, 'logistical/max_param': 16.23582268, 'logistical/lr': 0.0001}\n"
     ]
    },
    {
     "name": "stdout",
     "output_type": "stream",
     "text": [
      "{'logistical/obs_consumed_per_second': 241.0390625, 'logistical/obs_generated_per_second': 109.578125, 'logistical/data_consumption_ratio': 2.19966281, 'logistical/manual_train_pause': 0.0, 'trn_control_loss': 0.00177932, 'consistency losses/trn_steer_cost': 0.00201555, 'consistency losses/trn_te_loss': 0.0077063, 'consistency losses/trn_torque_delta_loss': 39.45794678, 'consistency losses/trn_torque_loss': 135.07741477, 'logistical/max_param': 16.23648834, 'logistical/lr': 0.0001}\n",
      "{'logistical/obs_consumed_per_second': 233.89010989, 'logistical/obs_generated_per_second': 105.78021978, 'logistical/data_consumption_ratio': 2.219319, 'logistical/manual_train_pause': 0.0, 'trn_control_loss': 0.00168969, 'consistency losses/trn_steer_cost': 0.00205909, 'consistency losses/trn_te_loss': 0.00767807, 'consistency losses/trn_torque_delta_loss': 37.08090278, 'consistency losses/trn_torque_loss': 96.05408654}\n",
      "\n",
      "\n",
      " Eval...\n",
      "EPOCH 7\n",
      "\n",
      "{'trn_control_loss': 0.00156996, 'consistency losses/trn_steer_cost': 0.00176319, 'consistency losses/trn_te_loss': 0.0066386, 'consistency losses/trn_torque_delta_loss': 35.74536133, 'logistical/obs_consumed_per_second': 235.70866142, 'logistical/obs_generated_per_second': 89.09448819, 'logistical/data_consumption_ratio': 2.64900507, 'logistical/manual_train_pause': 0.00590551, 'consistency losses/trn_torque_loss': 98.85279605, 'logistical/max_param': 16.23791504, 'logistical/lr': 0.0001}\n",
      "{'logistical/obs_consumed_per_second': 240.171875, 'logistical/obs_generated_per_second': 110.640625, 'logistical/data_consumption_ratio': 2.18051823, 'logistical/manual_train_pause': 0.0, 'trn_control_loss': 0.00163577, 'consistency losses/trn_steer_cost': 0.00187773, 'consistency losses/trn_te_loss': 0.00708682, 'consistency losses/trn_torque_delta_loss': 36.40612793, 'consistency losses/trn_torque_loss': 110.04166667, 'logistical/max_param': 16.23784828, 'logistical/lr': 0.0001}\n",
      "{'logistical/obs_consumed_per_second': 235.2578125, 'logistical/obs_generated_per_second': 106.1328125, 'logistical/data_consumption_ratio': 2.21707817, 'logistical/manual_train_pause': 0.0, 'trn_control_loss': 0.00173644, 'consistency losses/trn_steer_cost': 0.00207047, 'consistency losses/trn_te_loss': 0.00771527, 'consistency losses/trn_torque_delta_loss': 39.87652588, 'consistency losses/trn_torque_loss': 87.82366071, 'logistical/max_param': 16.23652458, 'logistical/lr': 0.0001}\n",
      "{'logistical/obs_consumed_per_second': 241.3046875, 'logistical/obs_generated_per_second': 101.5, 'logistical/data_consumption_ratio': 2.37622456, 'logistical/manual_train_pause': 0.0, 'trn_control_loss': 0.00223158, 'consistency losses/trn_steer_cost': 0.00255348, 'consistency losses/trn_te_loss': 0.00961424, 'consistency losses/trn_torque_loss': 112.1953125, 'consistency losses/trn_torque_delta_loss': 42.11981201, 'logistical/max_param': 16.23876762, 'logistical/lr': 0.0001}\n",
      "{'logistical/obs_consumed_per_second': 238.8203125, 'logistical/obs_generated_per_second': 107.2734375, 'logistical/data_consumption_ratio': 2.22905031, 'logistical/manual_train_pause': 0.0, 'trn_control_loss': 0.0016448, 'consistency losses/trn_steer_cost': 0.00174232, 'consistency losses/trn_te_loss': 0.00657879, 'consistency losses/trn_torque_delta_loss': 32.98077393, 'consistency losses/trn_torque_loss': 38.5375, 'logistical/max_param': 16.23832703, 'logistical/lr': 0.0001}\n",
      "{'logistical/obs_consumed_per_second': 239.5625, 'logistical/obs_generated_per_second': 107.90625, 'logistical/data_consumption_ratio': 2.21752611, 'logistical/manual_train_pause': 0.0, 'trn_control_loss': 0.0018368, 'consistency losses/trn_steer_cost': 0.00240115, 'consistency losses/trn_te_loss': 0.00894923, 'consistency losses/trn_torque_delta_loss': 42.63842773, 'consistency losses/trn_torque_loss': 113.27787162, 'logistical/max_param': 16.23782349, 'logistical/lr': 0.0001}\n",
      "{'logistical/obs_consumed_per_second': 239.453125, 'logistical/obs_generated_per_second': 103.8984375, 'logistical/data_consumption_ratio': 2.30787781, 'logistical/manual_train_pause': 0.0, 'trn_control_loss': 0.00184974, 'consistency losses/trn_steer_cost': 0.00221685, 'consistency losses/trn_te_loss': 0.00841765, 'consistency losses/trn_torque_delta_loss': 37.4105835, 'consistency losses/trn_torque_loss': 83.546875, 'logistical/max_param': 16.23745918, 'logistical/lr': 0.0001}\n",
      "{'logistical/obs_consumed_per_second': 242.21875, 'logistical/obs_generated_per_second': 95.7890625, 'logistical/data_consumption_ratio': 2.53527029, 'logistical/manual_train_pause': 0.00117188, 'trn_control_loss': 0.0019951, 'consistency losses/trn_steer_cost': 0.00208726, 'consistency losses/trn_te_loss': 0.00790449, 'consistency losses/trn_torque_delta_loss': 39.57952881, 'consistency losses/trn_torque_loss': 81.169375, 'logistical/max_param': 16.23615074, 'logistical/lr': 0.0001}\n",
      "{'logistical/obs_consumed_per_second': 239.3125, 'logistical/obs_generated_per_second': 101.3203125, 'logistical/data_consumption_ratio': 2.36404933, 'logistical/manual_train_pause': 0.0, 'trn_control_loss': 0.00200963, 'consistency losses/trn_steer_cost': 0.00242044, 'consistency losses/trn_te_loss': 0.00914304, 'consistency losses/trn_torque_loss': 52.24158654, 'consistency losses/trn_torque_delta_loss': 41.05334473, 'logistical/max_param': 16.23669434, 'logistical/lr': 0.0001}\n",
      "{'logistical/obs_consumed_per_second': 236.6015625, 'logistical/obs_generated_per_second': 95.828125, 'logistical/data_consumption_ratio': 2.47807879, 'logistical/manual_train_pause': 0.00273438, 'trn_control_loss': 0.00208592, 'consistency losses/trn_steer_cost': 0.00261835, 'consistency losses/trn_te_loss': 0.00999153, 'consistency losses/trn_torque_delta_loss': 40.99798584, 'consistency losses/trn_torque_loss': 82.13964844, 'logistical/max_param': 16.23602486, 'logistical/lr': 0.0001}\n",
      "{'logistical/obs_consumed_per_second': 238.5390625, 'logistical/obs_generated_per_second': 114.640625, 'logistical/data_consumption_ratio': 2.08443764, 'logistical/manual_train_pause': 0.0, 'trn_control_loss': 0.00179446, 'consistency losses/trn_steer_cost': 0.00212012, 'consistency losses/trn_te_loss': 0.00802583, 'consistency losses/trn_torque_loss': 64.76860119, 'consistency losses/trn_torque_delta_loss': 35.34985352, 'logistical/max_param': 16.23574257, 'logistical/lr': 0.0001}\n",
      "{'logistical/obs_consumed_per_second': 241.5, 'logistical/obs_generated_per_second': 108.7734375, 'logistical/data_consumption_ratio': 2.22049828, 'logistical/manual_train_pause': 0.0, 'trn_control_loss': 0.00203907, 'consistency losses/trn_steer_cost': 0.00267631, 'consistency losses/trn_te_loss': 0.00992959, 'consistency losses/trn_torque_delta_loss': 39.53118896, 'consistency losses/trn_torque_loss': 90.58705357, 'logistical/max_param': 16.23476219, 'logistical/lr': 0.0001}\n",
      "{'logistical/obs_consumed_per_second': 232.4140625, 'logistical/obs_generated_per_second': 105.0234375, 'logistical/data_consumption_ratio': 2.21938735, 'logistical/manual_train_pause': 0.0, 'trn_control_loss': 0.00178643, 'consistency losses/trn_steer_cost': 0.00195998, 'consistency losses/trn_te_loss': 0.00748662, 'consistency losses/trn_torque_delta_loss': 33.95288086, 'consistency losses/trn_torque_loss': 101.86924342, 'logistical/max_param': 16.23447037, 'logistical/lr': 0.0001}\n",
      "{'logistical/obs_consumed_per_second': 238.015625, 'logistical/obs_generated_per_second': 107.9609375, 'logistical/data_consumption_ratio': 2.20407954, 'logistical/manual_train_pause': 0.0, 'trn_control_loss': 0.00172674, 'consistency losses/trn_steer_cost': 0.00210123, 'consistency losses/trn_te_loss': 0.00809171, 'consistency losses/trn_torque_delta_loss': 35.47515869, 'consistency losses/trn_torque_loss': 101.453125, 'logistical/max_param': 16.23532677, 'logistical/lr': 0.0001}\n",
      "{'logistical/obs_consumed_per_second': 236.0390625, 'logistical/obs_generated_per_second': 110.6796875, 'logistical/data_consumption_ratio': 2.13327634, 'logistical/manual_train_pause': 0.0, 'trn_control_loss': 0.00209223, 'consistency losses/trn_steer_cost': 0.00274232, 'consistency losses/trn_te_loss': 0.01052641, 'consistency losses/trn_torque_delta_loss': 43.11627197, 'consistency losses/trn_torque_loss': 95.40950521, 'logistical/max_param': 16.23558426, 'logistical/lr': 0.0001}\n"
     ]
    },
    {
     "name": "stdout",
     "output_type": "stream",
     "text": [
      "{'logistical/obs_consumed_per_second': 237.109375, 'logistical/obs_generated_per_second': 105.515625, 'logistical/data_consumption_ratio': 2.247072, 'logistical/manual_train_pause': 0.0, 'trn_control_loss': 0.00197674, 'consistency losses/trn_steer_cost': 0.00209695, 'consistency losses/trn_te_loss': 0.0079383, 'consistency losses/trn_torque_delta_loss': 37.65777588, 'consistency losses/trn_torque_loss': 43.82161458, 'logistical/max_param': 16.23589134, 'logistical/lr': 0.0001}\n",
      "{'logistical/obs_consumed_per_second': 234.0859375, 'logistical/obs_generated_per_second': 100.4921875, 'logistical/data_consumption_ratio': 2.32741224, 'logistical/manual_train_pause': 0.0, 'trn_control_loss': 0.00206523, 'consistency losses/trn_steer_cost': 0.00239354, 'consistency losses/trn_te_loss': 0.0090458, 'consistency losses/trn_torque_loss': 118.58796296, 'consistency losses/trn_torque_delta_loss': 40.03125, 'logistical/max_param': 16.23853874, 'logistical/lr': 0.0001}\n",
      "{'logistical/obs_consumed_per_second': 240.3671875, 'logistical/obs_generated_per_second': 109.046875, 'logistical/data_consumption_ratio': 2.20188785, 'logistical/manual_train_pause': 0.0, 'trn_control_loss': 0.00196534, 'consistency losses/trn_steer_cost': 0.00227533, 'consistency losses/trn_te_loss': 0.0087198, 'consistency losses/trn_torque_delta_loss': 39.30102539, 'consistency losses/trn_torque_loss': 90.3828125, 'logistical/max_param': 16.23823166, 'logistical/lr': 0.0001}\n",
      "{'logistical/obs_consumed_per_second': 236.5546875, 'logistical/obs_generated_per_second': 105.90625, 'logistical/data_consumption_ratio': 2.23309705, 'logistical/manual_train_pause': 0.0, 'trn_control_loss': 0.0032971, 'consistency losses/trn_steer_cost': 0.00292049, 'consistency losses/trn_te_loss': 0.01120329, 'consistency losses/trn_torque_delta_loss': 40.76489258, 'consistency losses/trn_torque_loss': 107.80797697, 'logistical/max_param': 16.2375164, 'logistical/lr': 0.0001}\n",
      "{'logistical/obs_consumed_per_second': 239.96875, 'logistical/obs_generated_per_second': 99.0078125, 'logistical/data_consumption_ratio': 2.4250161, 'logistical/manual_train_pause': 7.812e-05, 'trn_control_loss': 0.00188509, 'consistency losses/trn_steer_cost': 0.00218759, 'consistency losses/trn_te_loss': 0.00827111, 'consistency losses/trn_torque_delta_loss': 37.42425537, 'consistency losses/trn_torque_loss': 110.42881944, 'logistical/max_param': 16.23600578, 'logistical/lr': 0.0001}\n",
      "{'logistical/obs_consumed_per_second': 241.01098901, 'logistical/obs_generated_per_second': 107.2967033, 'logistical/data_consumption_ratio': 2.24851519, 'logistical/manual_train_pause': 0.0, 'trn_control_loss': 0.00195821, 'consistency losses/trn_steer_cost': 0.00247873, 'consistency losses/trn_te_loss': 0.00944546, 'consistency losses/trn_torque_loss': 90.86979167, 'consistency losses/trn_torque_delta_loss': 37.18715278}\n",
      "\n",
      "\n",
      " Eval...\n",
      "EPOCH 8\n",
      "\n",
      "{'trn_control_loss': 0.00185933, 'consistency losses/trn_steer_cost': 0.00209328, 'consistency losses/trn_te_loss': 0.00793319, 'consistency losses/trn_torque_delta_loss': 36.25854492, 'logistical/obs_consumed_per_second': 238.37795276, 'logistical/obs_generated_per_second': 101.48818898, 'logistical/data_consumption_ratio': 2.35712628, 'logistical/manual_train_pause': 0.00015748, 'consistency losses/trn_torque_loss': 82.03289474, 'logistical/max_param': 16.23579216, 'logistical/lr': 0.0001}\n",
      "{'logistical/obs_consumed_per_second': 240.46875, 'logistical/obs_generated_per_second': 99.9375, 'logistical/data_consumption_ratio': 2.41295893, 'logistical/manual_train_pause': 0.0, 'trn_control_loss': 0.00190485, 'consistency losses/trn_steer_cost': 0.00215157, 'consistency losses/trn_te_loss': 0.00799254, 'consistency losses/trn_torque_delta_loss': 38.24865723, 'consistency losses/trn_torque_loss': 103.85351562, 'logistical/max_param': 16.23610306, 'logistical/lr': 0.0001}\n",
      "{'logistical/obs_consumed_per_second': 241.71875, 'logistical/obs_generated_per_second': 108.1875, 'logistical/data_consumption_ratio': 2.24048656, 'logistical/manual_train_pause': 0.0, 'trn_control_loss': 0.00193892, 'consistency losses/trn_steer_cost': 0.00234757, 'consistency losses/trn_te_loss': 0.00892774, 'consistency losses/trn_torque_delta_loss': 41.54309082, 'consistency losses/trn_torque_loss': 114.26751894, 'logistical/max_param': 16.23604202, 'logistical/lr': 0.0001}\n",
      "{'logistical/obs_consumed_per_second': 235.25, 'logistical/obs_generated_per_second': 101.265625, 'logistical/data_consumption_ratio': 2.32275558, 'logistical/manual_train_pause': 0.0, 'trn_control_loss': 0.00204092, 'consistency losses/trn_steer_cost': 0.00222035, 'consistency losses/trn_te_loss': 0.00829405, 'consistency losses/trn_torque_delta_loss': 40.09124756, 'consistency losses/trn_torque_loss': 92.64701705, 'logistical/max_param': 16.23669624, 'logistical/lr': 0.0001}\n",
      "{'logistical/obs_consumed_per_second': 243.5234375, 'logistical/obs_generated_per_second': 95.5546875, 'logistical/data_consumption_ratio': 2.54615211, 'logistical/manual_train_pause': 7.812e-05, 'trn_control_loss': 0.00207508, 'consistency losses/trn_steer_cost': 0.00261482, 'consistency losses/trn_te_loss': 0.00959862, 'consistency losses/trn_torque_delta_loss': 41.21862793, 'consistency losses/trn_torque_loss': 124.50211149, 'logistical/max_param': 16.23644447, 'logistical/lr': 0.0001}\n",
      "{'logistical/obs_consumed_per_second': 240.9765625, 'logistical/obs_generated_per_second': 105.5390625, 'logistical/data_consumption_ratio': 2.28910779, 'logistical/manual_train_pause': 0.0, 'trn_control_loss': 0.00182963, 'consistency losses/trn_steer_cost': 0.00211427, 'consistency losses/trn_te_loss': 0.00803343, 'consistency losses/trn_torque_delta_loss': 38.72918701, 'consistency losses/trn_torque_loss': 72.91341146, 'logistical/max_param': 16.23677063, 'logistical/lr': 0.0001}\n",
      "{'logistical/obs_consumed_per_second': 240.5625, 'logistical/obs_generated_per_second': 106.5859375, 'logistical/data_consumption_ratio': 2.25758301, 'logistical/manual_train_pause': 0.0, 'trn_control_loss': 0.00214107, 'consistency losses/trn_steer_cost': 0.00252261, 'consistency losses/trn_te_loss': 0.00956202, 'consistency losses/trn_torque_delta_loss': 41.72607422, 'consistency losses/trn_torque_loss': 108.08921371, 'logistical/max_param': 16.23701286, 'logistical/lr': 0.0001}\n",
      "{'logistical/obs_consumed_per_second': 239.9296875, 'logistical/obs_generated_per_second': 95.6328125, 'logistical/data_consumption_ratio': 2.5169475, 'logistical/manual_train_pause': 0.00304688, 'trn_control_loss': 0.00190752, 'consistency losses/trn_steer_cost': 0.00298006, 'consistency losses/trn_te_loss': 0.01130828, 'consistency losses/trn_torque_delta_loss': 41.41967773, 'consistency losses/trn_torque_loss': 111.6431686, 'logistical/max_param': 16.23883057, 'logistical/lr': 0.0001}\n",
      "{'logistical/obs_consumed_per_second': 237.734375, 'logistical/obs_generated_per_second': 98.0859375, 'logistical/data_consumption_ratio': 2.42878675, 'logistical/manual_train_pause': 7.812e-05, 'trn_control_loss': 0.00205041, 'consistency losses/trn_steer_cost': 0.00196842, 'consistency losses/trn_te_loss': 0.00739657, 'consistency losses/trn_torque_delta_loss': 38.93798828, 'consistency losses/trn_torque_loss': 99.7921875, 'logistical/max_param': 16.23988724, 'logistical/lr': 0.0001}\n",
      "{'logistical/obs_consumed_per_second': 241.203125, 'logistical/obs_generated_per_second': 103.2734375, 'logistical/data_consumption_ratio': 2.33719431, 'logistical/manual_train_pause': 0.0, 'trn_control_loss': 0.00202228, 'consistency losses/trn_steer_cost': 0.00228034, 'consistency losses/trn_te_loss': 0.00863196, 'consistency losses/trn_torque_loss': 121.20394737, 'consistency losses/trn_torque_delta_loss': 41.10314941, 'logistical/max_param': 16.23954773, 'logistical/lr': 0.0001}\n",
      "{'logistical/obs_consumed_per_second': 236.578125, 'logistical/obs_generated_per_second': 110.140625, 'logistical/data_consumption_ratio': 2.14709613, 'logistical/manual_train_pause': 0.0, 'trn_control_loss': 0.0018997, 'consistency losses/trn_steer_cost': 0.00231674, 'consistency losses/trn_te_loss': 0.00888167, 'consistency losses/trn_torque_delta_loss': 40.38751221, 'consistency losses/trn_torque_loss': 75.44389205, 'logistical/max_param': 16.23779869, 'logistical/lr': 0.0001}\n"
     ]
    },
    {
     "name": "stdout",
     "output_type": "stream",
     "text": [
      "{'logistical/obs_consumed_per_second': 239.140625, 'logistical/obs_generated_per_second': 101.171875, 'logistical/data_consumption_ratio': 2.378196, 'logistical/manual_train_pause': 0.000625, 'trn_control_loss': 0.0018855, 'consistency losses/trn_steer_cost': 0.00206687, 'consistency losses/trn_te_loss': 0.00790152, 'consistency losses/trn_torque_loss': 59.421875, 'consistency losses/trn_torque_delta_loss': 37.07440186, 'logistical/max_param': 16.23782921, 'logistical/lr': 0.0001}\n",
      "{'logistical/obs_consumed_per_second': 242.75, 'logistical/obs_generated_per_second': 107.3515625, 'logistical/data_consumption_ratio': 2.26611425, 'logistical/manual_train_pause': 0.0, 'trn_control_loss': 0.00185003, 'consistency losses/trn_steer_cost': 0.00220155, 'consistency losses/trn_te_loss': 0.00826437, 'consistency losses/trn_torque_delta_loss': 39.10046387, 'consistency losses/trn_torque_loss': 74.02734375, 'logistical/max_param': 16.23796463, 'logistical/lr': 0.0001}\n",
      "{'logistical/obs_consumed_per_second': 239.40625, 'logistical/obs_generated_per_second': 107.703125, 'logistical/data_consumption_ratio': 2.22440983, 'logistical/manual_train_pause': 0.0, 'trn_control_loss': 0.00192985, 'consistency losses/trn_steer_cost': 0.00245633, 'consistency losses/trn_te_loss': 0.00932091, 'consistency losses/trn_torque_delta_loss': 39.67529297, 'consistency losses/trn_torque_loss': 113.99791667, 'logistical/max_param': 16.23762512, 'logistical/lr': 0.0001}\n",
      "{'logistical/obs_consumed_per_second': 237.2578125, 'logistical/obs_generated_per_second': 107.6328125, 'logistical/data_consumption_ratio': 2.20883108, 'logistical/manual_train_pause': 0.0, 'trn_control_loss': 0.00194193, 'consistency losses/trn_steer_cost': 0.00252467, 'consistency losses/trn_te_loss': 0.00959976, 'consistency losses/trn_torque_delta_loss': 41.28015137, 'consistency losses/trn_torque_loss': 123.51141827, 'logistical/max_param': 16.23885918, 'logistical/lr': 0.0001}\n",
      "{'logistical/obs_consumed_per_second': 240.4609375, 'logistical/obs_generated_per_second': 100.8671875, 'logistical/data_consumption_ratio': 2.38553559, 'logistical/manual_train_pause': 0.0, 'trn_control_loss': 0.00194157, 'consistency losses/trn_steer_cost': 0.00234944, 'consistency losses/trn_te_loss': 0.0087469, 'consistency losses/trn_torque_delta_loss': 39.37908936, 'consistency losses/trn_torque_loss': 131.39409722, 'logistical/max_param': 16.2388382, 'logistical/lr': 0.0001}\n",
      "{'logistical/obs_consumed_per_second': 235.4765625, 'logistical/obs_generated_per_second': 89.8203125, 'logistical/data_consumption_ratio': 2.63211611, 'logistical/manual_train_pause': 0.00460938, 'trn_control_loss': 0.00179047, 'consistency losses/trn_steer_cost': 0.00215824, 'consistency losses/trn_te_loss': 0.00820839, 'consistency losses/trn_torque_delta_loss': 37.48718262, 'consistency losses/trn_torque_loss': 62.81182065, 'logistical/max_param': 16.23768044, 'logistical/lr': 0.0001}\n",
      "{'logistical/obs_consumed_per_second': 237.578125, 'logistical/obs_generated_per_second': 95.65625, 'logistical/data_consumption_ratio': 2.48479766, 'logistical/manual_train_pause': 0.00164062, 'trn_control_loss': 0.00185634, 'consistency losses/trn_steer_cost': 0.00221997, 'consistency losses/trn_te_loss': 0.00840241, 'consistency losses/trn_torque_delta_loss': 36.91821289, 'consistency losses/trn_torque_loss': 82.1359375, 'logistical/max_param': 16.23824883, 'logistical/lr': 0.0001}\n",
      "{'logistical/obs_consumed_per_second': 238.5, 'logistical/obs_generated_per_second': 99.3046875, 'logistical/data_consumption_ratio': 2.40553344, 'logistical/manual_train_pause': 0.0, 'trn_control_loss': 0.00220783, 'consistency losses/trn_steer_cost': 0.00254672, 'consistency losses/trn_te_loss': 0.00951449, 'consistency losses/trn_torque_delta_loss': 43.28039551, 'consistency losses/trn_torque_loss': 73.25892857, 'logistical/max_param': 16.24016762, 'logistical/lr': 0.0001}\n",
      "{'logistical/obs_consumed_per_second': 236.1796875, 'logistical/obs_generated_per_second': 107.421875, 'logistical/data_consumption_ratio': 2.199993, 'logistical/manual_train_pause': 0.0, 'trn_control_loss': 0.00197024, 'consistency losses/trn_steer_cost': 0.00260555, 'consistency losses/trn_te_loss': 0.00988314, 'consistency losses/trn_torque_delta_loss': 40.12664795, 'consistency losses/trn_torque_loss': 104.93940549, 'logistical/max_param': 16.23880386, 'logistical/lr': 0.0001}\n",
      "{'logistical/obs_consumed_per_second': 231.63736264, 'logistical/obs_generated_per_second': 104.87912088, 'logistical/data_consumption_ratio': 2.21476063, 'logistical/manual_train_pause': 0.0, 'trn_control_loss': 0.00177715, 'consistency losses/trn_steer_cost': 0.00201468, 'consistency losses/trn_te_loss': 0.00734269, 'consistency losses/trn_torque_delta_loss': 38.43055556, 'consistency losses/trn_torque_loss': 119.3671875}\n",
      "\n",
      "\n",
      " Eval...\n",
      "EPOCH 9\n",
      "\n",
      "{'trn_control_loss': 0.00180603, 'consistency losses/trn_steer_cost': 0.00195762, 'consistency losses/trn_te_loss': 0.00731199, 'consistency losses/trn_torque_delta_loss': 40.07312012, 'logistical/obs_consumed_per_second': 237.44094488, 'logistical/obs_generated_per_second': 107.73228346, 'logistical/data_consumption_ratio': 2.2139231, 'logistical/manual_train_pause': 0.0, 'consistency losses/trn_torque_loss': 68.76450893, 'logistical/max_param': 16.23773193, 'logistical/lr': 0.0001}\n",
      "{'logistical/obs_consumed_per_second': 241.171875, 'logistical/obs_generated_per_second': 100.234375, 'logistical/data_consumption_ratio': 2.4105027, 'logistical/manual_train_pause': 0.0, 'trn_control_loss': 0.00193074, 'consistency losses/trn_steer_cost': 0.00237345, 'consistency losses/trn_te_loss': 0.00900248, 'consistency losses/trn_torque_delta_loss': 38.56585693, 'consistency losses/trn_torque_loss': 122.03828125, 'logistical/max_param': 16.23694229, 'logistical/lr': 0.0001}\n",
      "{'logistical/obs_consumed_per_second': 235.328125, 'logistical/obs_generated_per_second': 105.4453125, 'logistical/data_consumption_ratio': 2.23419563, 'logistical/manual_train_pause': 0.0, 'trn_control_loss': 0.00171808, 'consistency losses/trn_steer_cost': 0.00210995, 'consistency losses/trn_te_loss': 0.00790952, 'consistency losses/trn_torque_loss': 117.06347656, 'consistency losses/trn_torque_delta_loss': 38.15216064, 'logistical/max_param': 16.2388382, 'logistical/lr': 0.0001}\n",
      "{'logistical/obs_consumed_per_second': 238.0625, 'logistical/obs_generated_per_second': 94.453125, 'logistical/data_consumption_ratio': 2.52415272, 'logistical/manual_train_pause': 0.00101562, 'trn_control_loss': 0.00189105, 'consistency losses/trn_steer_cost': 0.00237533, 'consistency losses/trn_te_loss': 0.00867241, 'consistency losses/trn_torque_delta_loss': 39.659729, 'consistency losses/trn_torque_loss': 99.4275, 'logistical/max_param': 16.23930931, 'logistical/lr': 0.0001}\n",
      "{'logistical/obs_consumed_per_second': 244.359375, 'logistical/obs_generated_per_second': 96.515625, 'logistical/data_consumption_ratio': 2.53807895, 'logistical/manual_train_pause': 0.0, 'trn_control_loss': 0.00165239, 'consistency losses/trn_steer_cost': 0.00206179, 'consistency losses/trn_te_loss': 0.00762796, 'consistency losses/trn_torque_delta_loss': 35.54101562, 'consistency losses/trn_torque_loss': 71.40699405, 'logistical/max_param': 16.24108696, 'logistical/lr': 0.0001}\n",
      "{'logistical/obs_consumed_per_second': 236.0859375, 'logistical/obs_generated_per_second': 98.390625, 'logistical/data_consumption_ratio': 2.40529353, 'logistical/manual_train_pause': 0.00046875, 'trn_control_loss': 0.00176045, 'consistency losses/trn_steer_cost': 0.0022807, 'consistency losses/trn_te_loss': 0.00855909, 'consistency losses/trn_torque_delta_loss': 38.30554199, 'consistency losses/trn_torque_loss': 106.15625, 'logistical/max_param': 16.24225616, 'logistical/lr': 0.0001}\n",
      "{'logistical/obs_consumed_per_second': 234.859375, 'logistical/obs_generated_per_second': 104.3203125, 'logistical/data_consumption_ratio': 2.25615521, 'logistical/manual_train_pause': 0.0, 'trn_control_loss': 0.00166102, 'consistency losses/trn_steer_cost': 0.00208633, 'consistency losses/trn_te_loss': 0.00790558, 'consistency losses/trn_torque_delta_loss': 33.86343384, 'consistency losses/trn_torque_loss': 95.58141447, 'logistical/max_param': 16.24222183, 'logistical/lr': 0.0001}\n"
     ]
    },
    {
     "name": "stdout",
     "output_type": "stream",
     "text": [
      "{'logistical/obs_consumed_per_second': 241.5, 'logistical/obs_generated_per_second': 102.015625, 'logistical/data_consumption_ratio': 2.37066005, 'logistical/manual_train_pause': 0.0, 'trn_control_loss': 0.00176777, 'consistency losses/trn_steer_cost': 0.0022243, 'consistency losses/trn_te_loss': 0.00849916, 'consistency losses/trn_torque_delta_loss': 36.81604004, 'consistency losses/trn_torque_loss': 67.89583333, 'logistical/max_param': 16.23931503, 'logistical/lr': 0.0001}\n",
      "{'logistical/obs_consumed_per_second': 242.1796875, 'logistical/obs_generated_per_second': 102.953125, 'logistical/data_consumption_ratio': 2.35252626, 'logistical/manual_train_pause': 0.0, 'trn_control_loss': 0.00182571, 'consistency losses/trn_steer_cost': 0.00199997, 'consistency losses/trn_te_loss': 0.00760373, 'consistency losses/trn_torque_delta_loss': 37.34088135, 'consistency losses/trn_torque_loss': 92.79464286, 'logistical/max_param': 16.23735809, 'logistical/lr': 0.0001}\n",
      "{'logistical/obs_consumed_per_second': 242.6640625, 'logistical/obs_generated_per_second': 109.7734375, 'logistical/data_consumption_ratio': 2.2125236, 'logistical/manual_train_pause': 0.0, 'trn_control_loss': 0.00189791, 'consistency losses/trn_steer_cost': 0.00211573, 'consistency losses/trn_te_loss': 0.00786949, 'consistency losses/trn_torque_delta_loss': 39.49804688, 'consistency losses/trn_torque_loss': 81.47021484, 'logistical/max_param': 16.23688507, 'logistical/lr': 0.0001}\n",
      "{'logistical/obs_consumed_per_second': 239.5390625, 'logistical/obs_generated_per_second': 103.21875, 'logistical/data_consumption_ratio': 2.32130616, 'logistical/manual_train_pause': 0.0, 'trn_control_loss': 0.00174062, 'consistency losses/trn_steer_cost': 0.00221456, 'consistency losses/trn_te_loss': 0.00823197, 'consistency losses/trn_torque_loss': 96.02566964, 'consistency losses/trn_torque_delta_loss': 40.06799316, 'logistical/max_param': 16.23663521, 'logistical/lr': 0.0001}\n",
      "{'logistical/obs_consumed_per_second': 241.2734375, 'logistical/obs_generated_per_second': 108.578125, 'logistical/data_consumption_ratio': 2.22289641, 'logistical/manual_train_pause': 0.0, 'trn_control_loss': 0.00188818, 'consistency losses/trn_steer_cost': 0.00228463, 'consistency losses/trn_te_loss': 0.00865064, 'consistency losses/trn_torque_delta_loss': 39.4420166, 'consistency losses/trn_torque_loss': 57.85342262, 'logistical/max_param': 16.23810768, 'logistical/lr': 0.0001}\n",
      "{'logistical/obs_consumed_per_second': 241.53125, 'logistical/obs_generated_per_second': 99.4375, 'logistical/data_consumption_ratio': 2.43042882, 'logistical/manual_train_pause': 0.0003125, 'trn_control_loss': 0.0018822, 'consistency losses/trn_steer_cost': 0.00225656, 'consistency losses/trn_te_loss': 0.00847711, 'consistency losses/trn_torque_delta_loss': 39.3616333, 'consistency losses/trn_torque_loss': 87.53371711, 'logistical/max_param': 16.23828316, 'logistical/lr': 0.0001}\n",
      "{'logistical/obs_consumed_per_second': 239.3046875, 'logistical/obs_generated_per_second': 101.484375, 'logistical/data_consumption_ratio': 2.36100325, 'logistical/manual_train_pause': 0.0, 'trn_control_loss': 0.00167026, 'consistency losses/trn_steer_cost': 0.00237396, 'consistency losses/trn_te_loss': 0.00867395, 'consistency losses/trn_torque_delta_loss': 40.72460938, 'consistency losses/trn_torque_loss': 106.87541118, 'logistical/max_param': 16.23803139, 'logistical/lr': 0.0001}\n",
      "{'logistical/obs_consumed_per_second': 240.8203125, 'logistical/obs_generated_per_second': 110.0390625, 'logistical/data_consumption_ratio': 2.19270344, 'logistical/manual_train_pause': 0.0, 'trn_control_loss': 0.00186886, 'consistency losses/trn_steer_cost': 0.00219707, 'consistency losses/trn_te_loss': 0.00824506, 'consistency losses/trn_torque_loss': 102.73632812, 'consistency losses/trn_torque_delta_loss': 41.16473389, 'logistical/max_param': 16.23836136, 'logistical/lr': 0.0001}\n",
      "{'logistical/obs_consumed_per_second': 241.2265625, 'logistical/obs_generated_per_second': 102.2109375, 'logistical/data_consumption_ratio': 2.36328122, 'logistical/manual_train_pause': 0.0, 'trn_control_loss': 0.00188488, 'consistency losses/trn_steer_cost': 0.00248296, 'consistency losses/trn_te_loss': 0.00952594, 'consistency losses/trn_torque_loss': 95.51682692, 'consistency losses/trn_torque_delta_loss': 37.9954834, 'logistical/max_param': 16.23659515, 'logistical/lr': 0.0001}\n",
      "{'logistical/obs_consumed_per_second': 242.953125, 'logistical/obs_generated_per_second': 104.7578125, 'logistical/data_consumption_ratio': 2.32585073, 'logistical/manual_train_pause': 0.0, 'trn_control_loss': 0.00174284, 'consistency losses/trn_steer_cost': 0.00224947, 'consistency losses/trn_te_loss': 0.00865103, 'consistency losses/trn_torque_delta_loss': 38.96228027, 'consistency losses/trn_torque_loss': 103.484375, 'logistical/max_param': 16.23683739, 'logistical/lr': 0.0001}\n",
      "{'logistical/obs_consumed_per_second': 241.4765625, 'logistical/obs_generated_per_second': 108.65625, 'logistical/data_consumption_ratio': 2.22102506, 'logistical/manual_train_pause': 0.0, 'trn_control_loss': 0.00177779, 'consistency losses/trn_steer_cost': 0.00217519, 'consistency losses/trn_te_loss': 0.00824013, 'consistency losses/trn_torque_loss': 67.01136364, 'consistency losses/trn_torque_delta_loss': 42.2668457, 'logistical/max_param': 16.23742294, 'logistical/lr': 0.0001}\n",
      "{'logistical/obs_consumed_per_second': 238.734375, 'logistical/obs_generated_per_second': 108.34375, 'logistical/data_consumption_ratio': 2.2046348, 'logistical/manual_train_pause': 0.0, 'trn_control_loss': 0.00197302, 'consistency losses/trn_steer_cost': 0.00251812, 'consistency losses/trn_te_loss': 0.00947391, 'consistency losses/trn_torque_delta_loss': 43.22839355, 'consistency losses/trn_torque_loss': 68.64236111, 'logistical/max_param': 16.23718643, 'logistical/lr': 0.0001}\n",
      "{'logistical/obs_consumed_per_second': 241.75, 'logistical/obs_generated_per_second': 107.6328125, 'logistical/data_consumption_ratio': 2.25179509, 'logistical/manual_train_pause': 0.0, 'trn_control_loss': 0.00166466, 'consistency losses/trn_steer_cost': 0.00221366, 'consistency losses/trn_te_loss': 0.00841251, 'consistency losses/trn_torque_delta_loss': 39.51672363, 'consistency losses/trn_torque_loss': 107.2025, 'logistical/max_param': 16.23855019, 'logistical/lr': 0.0001}\n",
      "{'logistical/obs_consumed_per_second': 234.72527473, 'logistical/obs_generated_per_second': 110.02197802, 'logistical/data_consumption_ratio': 2.13205659, 'logistical/manual_train_pause': 0.0, 'trn_control_loss': 0.00185221, 'consistency losses/trn_steer_cost': 0.00229466, 'consistency losses/trn_te_loss': 0.00873233, 'consistency losses/trn_torque_loss': 93.38425926, 'consistency losses/trn_torque_delta_loss': 43.00625}\n",
      "\n",
      "\n",
      " Eval...\n",
      "EPOCH 10\n",
      "\n",
      "{'trn_control_loss': 0.00164776, 'consistency losses/trn_steer_cost': 0.00217881, 'consistency losses/trn_te_loss': 0.00820147, 'consistency losses/trn_torque_loss': 88.01358696, 'consistency losses/trn_torque_delta_loss': 38.25708008, 'logistical/obs_consumed_per_second': 235.39370079, 'logistical/obs_generated_per_second': 94.81102362, 'logistical/data_consumption_ratio': 2.55436127, 'logistical/manual_train_pause': 0.03338583, 'logistical/max_param': 16.23793221, 'logistical/lr': 0.0001}\n",
      "{'logistical/obs_consumed_per_second': 236.4921875, 'logistical/obs_generated_per_second': 103.078125, 'logistical/data_consumption_ratio': 2.32006481, 'logistical/manual_train_pause': 0.03015625, 'trn_control_loss': 0.0016274, 'consistency losses/trn_steer_cost': 0.00195563, 'consistency losses/trn_te_loss': 0.00743116, 'consistency losses/trn_torque_delta_loss': 36.8515625, 'consistency losses/trn_torque_loss': 56.1484375, 'logistical/max_param': 16.23774529, 'logistical/lr': 0.0001}\n",
      "{'logistical/obs_consumed_per_second': 239.9375, 'logistical/obs_generated_per_second': 109.3984375, 'logistical/data_consumption_ratio': 2.19758776, 'logistical/manual_train_pause': 0.0, 'trn_control_loss': 0.00229502, 'consistency losses/trn_steer_cost': 0.00273983, 'consistency losses/trn_te_loss': 0.01044127, 'consistency losses/trn_torque_delta_loss': 43.88842773, 'consistency losses/trn_torque_loss': 99.39278017, 'logistical/max_param': 16.2369709, 'logistical/lr': 0.0001}\n"
     ]
    },
    {
     "name": "stdout",
     "output_type": "stream",
     "text": [
      "{'logistical/obs_consumed_per_second': 236.6640625, 'logistical/obs_generated_per_second': 106.9453125, 'logistical/data_consumption_ratio': 2.21674013, 'logistical/manual_train_pause': 0.0, 'trn_control_loss': 0.00197972, 'consistency losses/trn_steer_cost': 0.00249865, 'consistency losses/trn_te_loss': 0.00950208, 'consistency losses/trn_torque_delta_loss': 40.85345459, 'consistency losses/trn_torque_loss': 101.52455357, 'logistical/max_param': 16.23621941, 'logistical/lr': 0.0001}\n",
      "{'logistical/obs_consumed_per_second': 236.9375, 'logistical/obs_generated_per_second': 108.078125, 'logistical/data_consumption_ratio': 2.19504288, 'logistical/manual_train_pause': 0.0, 'trn_control_loss': 0.00171126, 'consistency losses/trn_steer_cost': 0.00192307, 'consistency losses/trn_te_loss': 0.00721686, 'consistency losses/trn_torque_delta_loss': 37.90808105, 'consistency losses/trn_torque_loss': 75.18923611, 'logistical/max_param': 16.23799896, 'logistical/lr': 0.0001}\n",
      "{'logistical/obs_consumed_per_second': 242.65625, 'logistical/obs_generated_per_second': 114.6953125, 'logistical/data_consumption_ratio': 2.11915089, 'logistical/manual_train_pause': 0.0, 'trn_control_loss': 0.00178503, 'consistency losses/trn_steer_cost': 0.00205107, 'consistency losses/trn_te_loss': 0.00774826, 'consistency losses/trn_torque_delta_loss': 37.47424316, 'consistency losses/trn_torque_loss': 105.90856481, 'logistical/max_param': 16.23689842, 'logistical/lr': 0.0001}\n",
      "{'logistical/obs_consumed_per_second': 239.0, 'logistical/obs_generated_per_second': 108.3515625, 'logistical/data_consumption_ratio': 2.20510374, 'logistical/manual_train_pause': 0.0, 'trn_control_loss': 0.00179544, 'consistency losses/trn_steer_cost': 0.00212506, 'consistency losses/trn_te_loss': 0.00798816, 'consistency losses/trn_torque_delta_loss': 38.38551331, 'consistency losses/trn_torque_loss': 67.6515625, 'logistical/max_param': 16.23607254, 'logistical/lr': 0.0001}\n",
      "{'logistical/obs_consumed_per_second': 245.4296875, 'logistical/obs_generated_per_second': 104.03125, 'logistical/data_consumption_ratio': 2.36208769, 'logistical/manual_train_pause': 0.0, 'trn_control_loss': 0.00181666, 'consistency losses/trn_steer_cost': 0.00196676, 'consistency losses/trn_te_loss': 0.00745996, 'consistency losses/trn_torque_delta_loss': 38.60256958, 'consistency losses/trn_torque_loss': 98.95065789, 'logistical/max_param': 16.23843193, 'logistical/lr': 0.0001}\n",
      "{'logistical/obs_consumed_per_second': 239.75, 'logistical/obs_generated_per_second': 114.203125, 'logistical/data_consumption_ratio': 2.1005723, 'logistical/manual_train_pause': 0.0, 'trn_control_loss': 0.00190308, 'consistency losses/trn_steer_cost': 0.00227413, 'consistency losses/trn_te_loss': 0.00859233, 'consistency losses/trn_torque_loss': 125.90178571, 'consistency losses/trn_torque_delta_loss': 38.47137451, 'logistical/max_param': 16.24022675, 'logistical/lr': 0.0001}\n",
      "{'logistical/obs_consumed_per_second': 236.2578125, 'logistical/obs_generated_per_second': 112.84375, 'logistical/data_consumption_ratio': 2.09915738, 'logistical/manual_train_pause': 0.0, 'trn_control_loss': 0.00179176, 'consistency losses/trn_steer_cost': 0.00189703, 'consistency losses/trn_te_loss': 0.00701153, 'consistency losses/trn_torque_delta_loss': 37.47998047, 'consistency losses/trn_torque_loss': 111.734375, 'logistical/max_param': 16.2385807, 'logistical/lr': 0.0001}\n",
      "{'logistical/obs_consumed_per_second': 234.8515625, 'logistical/obs_generated_per_second': 112.2890625, 'logistical/data_consumption_ratio': 2.09437942, 'logistical/manual_train_pause': 0.0, 'trn_control_loss': 0.0018331, 'consistency losses/trn_steer_cost': 0.0023481, 'consistency losses/trn_te_loss': 0.00888303, 'consistency losses/trn_torque_delta_loss': 40.17041016, 'consistency losses/trn_torque_loss': 92.76019022, 'logistical/max_param': 16.23892975, 'logistical/lr': 0.0001}\n",
      "{'logistical/obs_consumed_per_second': 237.0703125, 'logistical/obs_generated_per_second': 111.1328125, 'logistical/data_consumption_ratio': 2.13494027, 'logistical/manual_train_pause': 0.0, 'trn_control_loss': 0.00196871, 'consistency losses/trn_steer_cost': 0.00229431, 'consistency losses/trn_te_loss': 0.00873013, 'consistency losses/trn_torque_delta_loss': 41.0715332, 'consistency losses/trn_torque_loss': 86.21694712, 'logistical/max_param': 16.23914909, 'logistical/lr': 0.0001}\n",
      "{'logistical/obs_consumed_per_second': 239.5625, 'logistical/obs_generated_per_second': 102.9453125, 'logistical/data_consumption_ratio': 2.32924284, 'logistical/manual_train_pause': 0.0, 'trn_control_loss': 0.00199258, 'consistency losses/trn_steer_cost': 0.00235395, 'consistency losses/trn_te_loss': 0.00879634, 'consistency losses/trn_torque_delta_loss': 37.89282227, 'consistency losses/trn_torque_loss': 121.59300595, 'logistical/max_param': 16.23982239, 'logistical/lr': 0.0001}\n",
      "{'logistical/obs_consumed_per_second': 239.3203125, 'logistical/obs_generated_per_second': 100.328125, 'logistical/data_consumption_ratio': 2.38834503, 'logistical/manual_train_pause': 0.0, 'trn_control_loss': 0.00197497, 'consistency losses/trn_steer_cost': 0.0023604, 'consistency losses/trn_te_loss': 0.0086443, 'consistency losses/trn_torque_delta_loss': 40.63043213, 'consistency losses/trn_torque_loss': 110.09049479, 'logistical/max_param': 16.24025917, 'logistical/lr': 0.0001}\n",
      "{'logistical/obs_consumed_per_second': 237.59375, 'logistical/obs_generated_per_second': 106.5078125, 'logistical/data_consumption_ratio': 2.23412633, 'logistical/manual_train_pause': 0.0, 'trn_control_loss': 0.00203954, 'consistency losses/trn_steer_cost': 0.00245979, 'consistency losses/trn_te_loss': 0.00941462, 'consistency losses/trn_torque_delta_loss': 41.61010742, 'consistency losses/trn_torque_loss': 53.39309211, 'logistical/max_param': 16.2383976, 'logistical/lr': 0.0001}\n",
      "{'logistical/obs_consumed_per_second': 240.171875, 'logistical/obs_generated_per_second': 110.3984375, 'logistical/data_consumption_ratio': 2.17573241, 'logistical/manual_train_pause': 0.0, 'trn_control_loss': 0.0017176, 'consistency losses/trn_steer_cost': 0.00207534, 'consistency losses/trn_te_loss': 0.00780597, 'consistency losses/trn_torque_delta_loss': 35.45800781, 'consistency losses/trn_torque_loss': 99.84950658, 'logistical/max_param': 16.2378521, 'logistical/lr': 0.0001}\n",
      "{'logistical/obs_consumed_per_second': 242.125, 'logistical/obs_generated_per_second': 104.390625, 'logistical/data_consumption_ratio': 2.31675832, 'logistical/manual_train_pause': 0.0, 'trn_control_loss': 0.00202205, 'consistency losses/trn_steer_cost': 0.00221758, 'consistency losses/trn_te_loss': 0.00849774, 'consistency losses/trn_torque_delta_loss': 40.98516846, 'consistency losses/trn_torque_loss': 91.93880208, 'logistical/max_param': 16.23702621, 'logistical/lr': 0.0001}\n",
      "{'logistical/obs_consumed_per_second': 238.2890625, 'logistical/obs_generated_per_second': 108.6484375, 'logistical/data_consumption_ratio': 2.19388898, 'logistical/manual_train_pause': 0.0, 'trn_control_loss': 0.00211241, 'consistency losses/trn_steer_cost': 0.00235943, 'consistency losses/trn_te_loss': 0.00888225, 'consistency losses/trn_torque_loss': 97.39467593, 'consistency losses/trn_torque_delta_loss': 39.74633789, 'logistical/max_param': 16.23663521, 'logistical/lr': 0.0001}\n",
      "{'logistical/obs_consumed_per_second': 236.984375, 'logistical/obs_generated_per_second': 100.7265625, 'logistical/data_consumption_ratio': 2.35297477, 'logistical/manual_train_pause': 0.0, 'trn_control_loss': 0.00200827, 'consistency losses/trn_steer_cost': 0.00234698, 'consistency losses/trn_te_loss': 0.00893386, 'consistency losses/trn_torque_delta_loss': 42.36242676, 'consistency losses/trn_torque_loss': 94.696875, 'logistical/max_param': 16.23733139, 'logistical/lr': 0.0001}\n",
      "{'logistical/obs_consumed_per_second': 238.9296875, 'logistical/obs_generated_per_second': 104.2734375, 'logistical/data_consumption_ratio': 2.30067427, 'logistical/manual_train_pause': 0.00023438, 'trn_control_loss': 0.00194828, 'consistency losses/trn_steer_cost': 0.00211291, 'consistency losses/trn_te_loss': 0.00788495, 'consistency losses/trn_torque_delta_loss': 39.47509766, 'consistency losses/trn_torque_loss': 92.32002315, 'logistical/max_param': 16.2378006, 'logistical/lr': 0.0001}\n"
     ]
    },
    {
     "name": "stdout",
     "output_type": "stream",
     "text": [
      "{'logistical/obs_consumed_per_second': 238.50549451, 'logistical/obs_generated_per_second': 106.71428571, 'logistical/data_consumption_ratio': 2.24141032, 'logistical/manual_train_pause': 0.0, 'trn_control_loss': 0.00188694, 'consistency losses/trn_steer_cost': 0.00204106, 'consistency losses/trn_te_loss': 0.00746626, 'consistency losses/trn_torque_delta_loss': 38.87100694, 'consistency losses/trn_torque_loss': 48.24759615}\n",
      "\n",
      "\n",
      " Eval...\n",
      "EPOCH 11\n",
      "\n",
      "{'trn_control_loss': 0.00172216, 'consistency losses/trn_steer_cost': 0.00198708, 'consistency losses/trn_te_loss': 0.00746158, 'consistency losses/trn_torque_loss': 76.1725, 'consistency losses/trn_torque_delta_loss': 38.86853027, 'logistical/obs_consumed_per_second': 237.30708661, 'logistical/obs_generated_per_second': 112.00787402, 'logistical/data_consumption_ratio': 2.12101968, 'logistical/manual_train_pause': 0.0, 'logistical/max_param': 16.23794174, 'logistical/lr': 0.0001}\n",
      "{'logistical/obs_consumed_per_second': 240.578125, 'logistical/obs_generated_per_second': 112.34375, 'logistical/data_consumption_ratio': 2.14847469, 'logistical/manual_train_pause': 0.0, 'trn_control_loss': 0.00167059, 'consistency losses/trn_steer_cost': 0.00204656, 'consistency losses/trn_te_loss': 0.00776465, 'consistency losses/trn_torque_delta_loss': 35.01953125, 'consistency losses/trn_torque_loss': 179.31770833, 'logistical/max_param': 16.23671722, 'logistical/lr': 0.0001}\n",
      "{'logistical/obs_consumed_per_second': 237.625, 'logistical/obs_generated_per_second': 104.390625, 'logistical/data_consumption_ratio': 2.27461203, 'logistical/manual_train_pause': 0.0, 'trn_control_loss': 0.00237903, 'consistency losses/trn_steer_cost': 0.00228752, 'consistency losses/trn_te_loss': 0.00838476, 'consistency losses/trn_torque_delta_loss': 39.08532715, 'consistency losses/trn_torque_loss': 59.3266369, 'logistical/max_param': 16.23447227, 'logistical/lr': 0.0001}\n",
      "{'logistical/obs_consumed_per_second': 238.4453125, 'logistical/obs_generated_per_second': 100.65625, 'logistical/data_consumption_ratio': 2.36781402, 'logistical/manual_train_pause': 0.0, 'trn_control_loss': 0.00207206, 'consistency losses/trn_steer_cost': 0.00249026, 'consistency losses/trn_te_loss': 0.00932123, 'consistency losses/trn_torque_delta_loss': 43.51550293, 'consistency losses/trn_torque_loss': 111.28819444, 'logistical/max_param': 16.23664093, 'logistical/lr': 0.0001}\n",
      "{'logistical/obs_consumed_per_second': 240.484375, 'logistical/obs_generated_per_second': 108.6015625, 'logistical/data_consumption_ratio': 2.21660877, 'logistical/manual_train_pause': 0.0, 'trn_control_loss': 0.00262754, 'consistency losses/trn_steer_cost': 0.00223521, 'consistency losses/trn_te_loss': 0.00837999, 'consistency losses/trn_torque_loss': 85.66927083, 'consistency losses/trn_torque_delta_loss': 37.02514648, 'logistical/max_param': 16.23654938, 'logistical/lr': 0.0001}\n",
      "{'logistical/obs_consumed_per_second': 238.875, 'logistical/obs_generated_per_second': 96.1171875, 'logistical/data_consumption_ratio': 2.50178146, 'logistical/manual_train_pause': 0.00265625, 'trn_control_loss': 0.00400096, 'consistency losses/trn_steer_cost': 0.00300782, 'consistency losses/trn_te_loss': 0.01089965, 'consistency losses/trn_torque_delta_loss': 47.73962402, 'consistency losses/trn_torque_loss': 161.82714844, 'logistical/max_param': 16.23632812, 'logistical/lr': 0.0001}\n",
      "{'logistical/obs_consumed_per_second': 237.9140625, 'logistical/obs_generated_per_second': 94.390625, 'logistical/data_consumption_ratio': 2.52806661, 'logistical/manual_train_pause': 0.0025, 'trn_control_loss': 0.00346598, 'consistency losses/trn_steer_cost': 0.00262943, 'consistency losses/trn_te_loss': 0.00972833, 'consistency losses/trn_torque_delta_loss': 41.49072266, 'consistency losses/trn_torque_loss': 99.28248355, 'logistical/max_param': 16.23664093, 'logistical/lr': 0.0001}\n",
      "{'logistical/obs_consumed_per_second': 239.84375, 'logistical/obs_generated_per_second': 95.1796875, 'logistical/data_consumption_ratio': 2.51878122, 'logistical/manual_train_pause': 0.00023438, 'trn_control_loss': 0.00196615, 'consistency losses/trn_steer_cost': 0.00250816, 'consistency losses/trn_te_loss': 0.00961162, 'consistency losses/trn_torque_delta_loss': 40.37774658, 'consistency losses/trn_torque_loss': 115.80535714, 'logistical/max_param': 16.23610497, 'logistical/lr': 0.0001}\n"
     ]
    }
   ],
   "source": [
    "n_epochs = 100\n",
    "log_wandb = True\n",
    "\n",
    "for e in range(START_E, n_epochs):\n",
    "    \n",
    "    # Train\n",
    "    print(f\"EPOCH {e}\\n\")\n",
    "    run_epoch(dataloader_trn, m, opt=opt, scaler=scaler, \n",
    "              train=True, backwards=True, log_wandb=log_wandb, wandb=wandb, updates_per_epoch=2650)\n",
    "    \n",
    "    print(\"\\n\\n Eval...\")\n",
    "    \n",
    "    #eval_rw(rw_dataloader, m, wandb) # will log directly to wandb\n",
    "        \n",
    "    # Saving model checkpoint each epoch\n",
    "    torch.save(m.state_dict(), f\"{BESPOKE_ROOT}/models/m_{model_stem}_e{e}.torch\")\n",
    "    "
   ]
  },
  {
   "cell_type": "code",
   "execution_count": null,
   "metadata": {},
   "outputs": [],
   "source": []
  },
  {
   "cell_type": "code",
   "execution_count": null,
   "metadata": {},
   "outputs": [],
   "source": []
  },
  {
   "cell_type": "code",
   "execution_count": 10,
   "metadata": {
    "scrolled": true
   },
   "outputs": [
    {
     "name": "stderr",
     "output_type": "stream",
     "text": [
      "/home/beans/miniconda3/envs/py38/lib/python3.8/site-packages/torch/utils/checkpoint.py:25: UserWarning: None of the inputs have requires_grad=True. Gradients will be None\n",
      "  warnings.warn(\"None of the inputs have requires_grad=True. Gradients will be None\")\n"
     ]
    },
    {
     "name": "stdout",
     "output_type": "stream",
     "text": [
      "CPU times: user 14.3 s, sys: 417 ms, total: 14.7 s\n",
      "Wall time: 14 s\n"
     ]
    }
   ],
   "source": [
    "%%time\n",
    "\n",
    "eval_rw(rw_dataloader, m, wandb) # will log directly to wandb"
   ]
  },
  {
   "cell_type": "code",
   "execution_count": null,
   "metadata": {},
   "outputs": [],
   "source": []
  },
  {
   "cell_type": "code",
   "execution_count": 13,
   "metadata": {
    "scrolled": true
   },
   "outputs": [],
   "source": [
    "torch.save(m.state_dict(), f\"{BESPOKE_ROOT}/models/m_{model_stem}_e16.torch\")"
   ]
  },
  {
   "cell_type": "code",
   "execution_count": null,
   "metadata": {},
   "outputs": [],
   "source": []
  }
 ],
 "metadata": {
  "kernelspec": {
   "display_name": "Python 3 (ipykernel)",
   "language": "python",
   "name": "python3"
  },
  "language_info": {
   "codemirror_mode": {
    "name": "ipython",
    "version": 3
   },
   "file_extension": ".py",
   "mimetype": "text/x-python",
   "name": "python",
   "nbconvert_exporter": "python",
   "pygments_lexer": "ipython3",
   "version": "3.8.11"
  }
 },
 "nbformat": 4,
 "nbformat_minor": 4
}
