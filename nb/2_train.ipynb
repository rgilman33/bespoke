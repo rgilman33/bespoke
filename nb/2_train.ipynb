{
 "cells": [
  {
   "cell_type": "code",
   "execution_count": 1,
   "metadata": {
    "scrolled": true
   },
   "outputs": [
    {
     "name": "stderr",
     "output_type": "stream",
     "text": [
      "/home/beans/miniconda3/envs/py38/lib/python3.8/site-packages/albumentations/augmentations/transforms.py:689: FutureWarning: This class has been deprecated. Please use CoarseDropout\n",
      "  warnings.warn(\n",
      "/home/beans/miniconda3/envs/py38/lib/python3.8/site-packages/albumentations/augmentations/transforms.py:965: FutureWarning: This class has been deprecated. Please use ImageCompression\n",
      "  warnings.warn(\n"
     ]
    },
    {
     "data": {
      "text/plain": [
       "('1.10.0', 2, 'NVIDIA GeForce RTX 3090')"
      ]
     },
     "execution_count": 1,
     "metadata": {},
     "output_type": "execute_result"
    }
   ],
   "source": [
    "%matplotlib inline\n",
    "%load_ext autoreload\n",
    "%autoreload 2\n",
    "\n",
    "import sys\n",
    "sys.path.append(f'/media/beans/ssd/bespoke')\n",
    "\n",
    "from models import EffNet\n",
    "from constants import *\n",
    "from imports import *\n",
    "from rw_dataloader import RealWorldDataloader\n",
    "from blender_dataloader import BlenderDataloader\n",
    "from train_utils import *\n",
    "\n",
    "torch.__version__, torch.cuda.device_count(), torch.cuda.get_device_name(torch.cuda.current_device())"
   ]
  },
  {
   "cell_type": "code",
   "execution_count": 2,
   "metadata": {},
   "outputs": [
    {
     "data": {
      "text/plain": [
       "'13zx7s8l'"
      ]
     },
     "execution_count": 2,
     "metadata": {},
     "output_type": "execute_result"
    }
   ],
   "source": [
    "import wandb\n",
    "run_id = wandb.util.generate_id(); run_id"
   ]
  },
  {
   "cell_type": "code",
   "execution_count": 3,
   "metadata": {
    "scrolled": true
   },
   "outputs": [
    {
     "name": "stderr",
     "output_type": "stream",
     "text": [
      "\u001b[34m\u001b[1mwandb\u001b[0m: Currently logged in as: \u001b[33mrgilman33\u001b[0m (use `wandb login --relogin` to force relogin)\n",
      "\u001b[34m\u001b[1mwandb\u001b[0m: wandb version 0.12.21 is available!  To upgrade, please run:\n",
      "\u001b[34m\u001b[1mwandb\u001b[0m:  $ pip install wandb --upgrade\n"
     ]
    },
    {
     "data": {
      "text/html": [
       "\n",
       "                    Syncing run <strong><a href=\"https://wandb.ai/rgilman33/carla/runs/7vjhjgdc\" target=\"_blank\">crisp-firefly-322</a></strong> to <a href=\"https://wandb.ai/rgilman33/carla\" target=\"_blank\">Weights & Biases</a> (<a href=\"https://docs.wandb.com/integrations/jupyter.html\" target=\"_blank\">docs</a>).<br/>\n",
       "\n",
       "                "
      ],
      "text/plain": [
       "<IPython.core.display.HTML object>"
      ]
     },
     "metadata": {},
     "output_type": "display_data"
    },
    {
     "data": {
      "text/html": [
       "<button onClick=\"this.nextSibling.style.display='block';this.style.display='none';\">Display W&B run</button><iframe src=\"https://wandb.ai/rgilman33/carla/runs/7vjhjgdc?jupyter=true\" style=\"border:none;width:100%;height:420px;display:none;\"></iframe>"
      ],
      "text/plain": [
       "<wandb.sdk.wandb_run.Run at 0x7fca644373a0>"
      ]
     },
     "execution_count": 3,
     "metadata": {},
     "output_type": "execute_result"
    }
   ],
   "source": [
    "wandb.init(id='7vjhjgdc', project=\"carla\", resume=\"allow\")"
   ]
  },
  {
   "cell_type": "code",
   "execution_count": 4,
   "metadata": {
    "scrolled": true
   },
   "outputs": [
    {
     "data": {
      "text/plain": [
       "13502.597"
      ]
     },
     "execution_count": 4,
     "metadata": {},
     "output_type": "execute_result"
    }
   ],
   "source": [
    "m = EffNet(model_arch=\"efficientnet_b3\").to(device) # 13M params, 11.6M without RNN, \n",
    "sum([torch.numel(p) for p in m.parameters()]) / 1000"
   ]
  },
  {
   "cell_type": "code",
   "execution_count": 5,
   "metadata": {
    "scrolled": true
   },
   "outputs": [],
   "source": [
    "#m.load_state_dict(torch.load(f\"{BESPOKE_ROOT}/models/m.torch\"), strict=False)"
   ]
  },
  {
   "cell_type": "code",
   "execution_count": null,
   "metadata": {},
   "outputs": [],
   "source": []
  },
  {
   "cell_type": "code",
   "execution_count": 6,
   "metadata": {
    "scrolled": true
   },
   "outputs": [],
   "source": [
    "scaler = torch.cuda.amp.GradScaler() \n",
    "opt = torch.optim.Adam(m.parameters(), lr=3e-5)"
   ]
  },
  {
   "cell_type": "code",
   "execution_count": 7,
   "metadata": {
    "scrolled": true
   },
   "outputs": [],
   "source": [
    "BS = 32\n",
    "dataloader_trn = BlenderDataloader(path_stem=\"trn\", bs=BS)"
   ]
  },
  {
   "cell_type": "code",
   "execution_count": 8,
   "metadata": {
    "scrolled": true
   },
   "outputs": [
    {
     "name": "stdout",
     "output_type": "stream",
     "text": [
      "CPU times: user 3 µs, sys: 1 µs, total: 4 µs\n",
      "Wall time: 6.44 µs\n"
     ]
    }
   ],
   "source": [
    "%%time\n",
    "#rw_dataloader = RealWorldDataloader()"
   ]
  },
  {
   "cell_type": "code",
   "execution_count": 9,
   "metadata": {},
   "outputs": [],
   "source": [
    "#wandb.watch(m, log=\"all\")"
   ]
  },
  {
   "cell_type": "code",
   "execution_count": 10,
   "metadata": {},
   "outputs": [],
   "source": [
    "#train_only_parts_of_model(m, part_to_train=\"fcs_2\")"
   ]
  },
  {
   "cell_type": "code",
   "execution_count": null,
   "metadata": {},
   "outputs": [],
   "source": []
  },
  {
   "cell_type": "code",
   "execution_count": 11,
   "metadata": {
    "scrolled": true
   },
   "outputs": [],
   "source": [
    "model_stem = \"7.13\"\n",
    "START_E = 0"
   ]
  },
  {
   "cell_type": "code",
   "execution_count": null,
   "metadata": {
    "scrolled": true
   },
   "outputs": [
    {
     "name": "stdout",
     "output_type": "stream",
     "text": [
      "EPOCH 0\n",
      "\n",
      "{'trn_control_loss': 0.95091248, 'trn_headings_loss': 0.08371103, 'trn_curvatures_loss': 0.06605256, 'consistency losses/trn_steer_cost': 0.03369678, 'consistency losses/trn_te_loss': 14.95092472, 'consistency losses/trn_torque_delta_loss': 350.83463521, 'logistical/obs_consumed_per_second': 239.62992126, 'logistical/obs_generated_per_second': 106.18110236, 'logistical/data_consumption_ratio': 2.2636346, 'logistical/manual_train_pause': 0.0, 'consistency losses/trn_torque_loss': 611.2923689, 'logistical/max_param': 16.28192139, 'logistical/lr': 0.0003}\n",
      "{'logistical/obs_consumed_per_second': 234.2421875, 'logistical/obs_generated_per_second': 104.46875, 'logistical/data_consumption_ratio': 2.24019877, 'logistical/manual_train_pause': 0.0, 'trn_control_loss': 0.50349045, 'trn_headings_loss': 0.04425395, 'trn_curvatures_loss': 0.03936768, 'consistency losses/trn_steer_cost': 0.03633511, 'consistency losses/trn_te_loss': 15.22604386, 'consistency losses/trn_torque_loss': 466.96700093, 'consistency losses/trn_torque_delta_loss': 252.38652074, 'logistical/max_param': 16.28811455, 'logistical/lr': 0.0003}\n",
      "{'logistical/obs_consumed_per_second': 230.203125, 'logistical/obs_generated_per_second': 103.3359375, 'logistical/data_consumption_ratio': 2.2320632, 'logistical/manual_train_pause': 0.0, 'trn_control_loss': 0.36684036, 'trn_headings_loss': 0.03465676, 'trn_curvatures_loss': 0.03405416, 'consistency losses/trn_steer_cost': 0.03078461, 'consistency losses/trn_te_loss': 14.92644353, 'consistency losses/trn_torque_loss': 362.15656699, 'consistency losses/trn_torque_delta_loss': 196.63474721, 'logistical/max_param': 16.28741074, 'logistical/lr': 0.0003}\n",
      "{'logistical/obs_consumed_per_second': 234.9921875, 'logistical/obs_generated_per_second': 105.390625, 'logistical/data_consumption_ratio': 2.23168947, 'logistical/manual_train_pause': 0.0, 'trn_control_loss': 0.29227829, 'trn_headings_loss': 0.02901953, 'trn_curvatures_loss': 0.03015268, 'consistency losses/trn_steer_cost': 0.0322026, 'consistency losses/trn_te_loss': 15.26650869, 'consistency losses/trn_torque_loss': 331.89823309, 'consistency losses/trn_torque_delta_loss': 190.84798145, 'logistical/max_param': 16.28393745, 'logistical/lr': 0.0003}\n",
      "{'logistical/obs_consumed_per_second': 225.6015625, 'logistical/obs_generated_per_second': 96.8828125, 'logistical/data_consumption_ratio': 2.33126678, 'logistical/manual_train_pause': 0.00140625, 'trn_control_loss': 0.25217915, 'trn_headings_loss': 0.02547473, 'trn_curvatures_loss': 0.02979064, 'consistency losses/trn_steer_cost': 0.03642023, 'consistency losses/trn_te_loss': 15.20646356, 'consistency losses/trn_torque_loss': 210.0911379, 'consistency losses/trn_torque_delta_loss': 186.97939229, 'logistical/max_param': 16.28212166, 'logistical/lr': 0.0003}\n",
      "{'logistical/obs_consumed_per_second': 237.6953125, 'logistical/obs_generated_per_second': 102.0625, 'logistical/data_consumption_ratio': 2.3281617, 'logistical/manual_train_pause': 0.0, 'trn_control_loss': 0.24933624, 'trn_headings_loss': 0.02457529, 'trn_curvatures_loss': 0.02752495, 'consistency losses/trn_steer_cost': 0.03357863, 'consistency losses/trn_te_loss': 15.20046267, 'consistency losses/trn_torque_loss': 208.84011441, 'consistency losses/trn_torque_delta_loss': 181.79087752, 'logistical/max_param': 16.27608299, 'logistical/lr': 0.0003}\n",
      "{'logistical/obs_consumed_per_second': 231.390625, 'logistical/obs_generated_per_second': 109.046875, 'logistical/data_consumption_ratio': 2.12231885, 'logistical/manual_train_pause': 0.0, 'trn_control_loss': 0.19018793, 'trn_headings_loss': 0.02009821, 'trn_curvatures_loss': 0.02631295, 'consistency losses/trn_steer_cost': 0.03399158, 'consistency losses/trn_te_loss': 15.04695315, 'consistency losses/trn_torque_loss': 169.17265843, 'consistency losses/trn_torque_delta_loss': 173.5305953, 'logistical/max_param': 16.2754879, 'logistical/lr': 0.0003}\n",
      "{'logistical/obs_consumed_per_second': 238.7265625, 'logistical/obs_generated_per_second': 104.65625, 'logistical/data_consumption_ratio': 2.28279094, 'logistical/manual_train_pause': 0.0, 'trn_control_loss': 0.18598843, 'trn_headings_loss': 0.02062643, 'trn_curvatures_loss': 0.02888429, 'consistency losses/trn_steer_cost': 0.03675663, 'consistency losses/trn_te_loss': 14.43885492, 'consistency losses/trn_torque_delta_loss': 175.35752791, 'consistency losses/trn_torque_loss': 231.14014113, 'logistical/max_param': 16.27539062, 'logistical/lr': 0.0003}\n",
      "{'logistical/obs_consumed_per_second': 234.4375, 'logistical/obs_generated_per_second': 101.1015625, 'logistical/data_consumption_ratio': 2.32468778, 'logistical/manual_train_pause': 0.00039062, 'trn_control_loss': 0.13544941, 'trn_headings_loss': 0.0149464, 'trn_curvatures_loss': 0.02134913, 'consistency losses/trn_steer_cost': 0.03557503, 'consistency losses/trn_te_loss': 15.67269428, 'consistency losses/trn_torque_loss': 186.29349235, 'consistency losses/trn_torque_delta_loss': 172.30774319, 'logistical/max_param': 16.27422714, 'logistical/lr': 0.0003}\n",
      "{'logistical/obs_consumed_per_second': 229.9375, 'logistical/obs_generated_per_second': 111.625, 'logistical/data_consumption_ratio': 2.06194871, 'logistical/manual_train_pause': 0.0, 'trn_control_loss': 0.10240245, 'trn_headings_loss': 0.01146278, 'trn_curvatures_loss': 0.01730019, 'consistency losses/trn_steer_cost': 0.03758609, 'consistency losses/trn_te_loss': 15.88853529, 'consistency losses/trn_torque_loss': 161.21339701, 'consistency losses/trn_torque_delta_loss': 166.45879215, 'logistical/max_param': 16.27283859, 'logistical/lr': 0.0003}\n",
      "{'logistical/obs_consumed_per_second': 186.0, 'logistical/obs_generated_per_second': 107.0, 'logistical/data_consumption_ratio': 1.74327605, 'logistical/manual_train_pause': 0.0}\n",
      "\n",
      "\n",
      " Eval...\n",
      "EPOCH 1\n",
      "\n",
      "{'trn_control_loss': 0.10366654, 'trn_headings_loss': 0.01177406, 'trn_curvatures_loss': 0.01821655, 'consistency losses/trn_steer_cost': 0.03796935, 'consistency losses/trn_te_loss': 15.21248722, 'consistency losses/trn_torque_loss': 131.61172126, 'consistency losses/trn_torque_delta_loss': 149.58076686, 'logistical/obs_consumed_per_second': 233.56692913, 'logistical/obs_generated_per_second': 107.40944882, 'logistical/data_consumption_ratio': 2.17552134, 'logistical/manual_train_pause': 0.0, 'logistical/max_param': 16.27331924, 'logistical/lr': 0.0003}\n",
      "{'logistical/obs_consumed_per_second': 232.2109375, 'logistical/obs_generated_per_second': 105.2265625, 'logistical/data_consumption_ratio': 2.21371114, 'logistical/manual_train_pause': 0.00015625, 'trn_control_loss': 0.10314536, 'trn_headings_loss': 0.01196861, 'trn_curvatures_loss': 0.01802725, 'consistency losses/trn_steer_cost': 0.03176904, 'consistency losses/trn_te_loss': 15.94466402, 'consistency losses/trn_torque_delta_loss': 143.74022079, 'consistency losses/trn_torque_loss': 128.4399801, 'logistical/max_param': 16.27334595, 'logistical/lr': 0.0003}\n",
      "{'logistical/obs_consumed_per_second': 236.2421875, 'logistical/obs_generated_per_second': 108.828125, 'logistical/data_consumption_ratio': 2.17156928, 'logistical/manual_train_pause': 0.0, 'trn_control_loss': 0.09435153, 'trn_headings_loss': 0.01094702, 'trn_curvatures_loss': 0.01738787, 'consistency losses/trn_steer_cost': 0.03599906, 'consistency losses/trn_te_loss': 15.39672104, 'consistency losses/trn_torque_loss': 150.37350286, 'consistency losses/trn_torque_delta_loss': 148.96267843, 'logistical/max_param': 16.27293968, 'logistical/lr': 0.0003}\n",
      "{'logistical/obs_consumed_per_second': 230.4609375, 'logistical/obs_generated_per_second': 100.09375, 'logistical/data_consumption_ratio': 2.3036006, 'logistical/manual_train_pause': 0.00046875, 'trn_control_loss': 0.0940156, 'trn_headings_loss': 0.01097381, 'trn_curvatures_loss': 0.01651245, 'consistency losses/trn_steer_cost': 0.03023982, 'consistency losses/trn_te_loss': 15.51805882, 'consistency losses/trn_torque_loss': 141.33266222, 'consistency losses/trn_torque_delta_loss': 147.51642418, 'logistical/max_param': 16.27383995, 'logistical/lr': 0.0003}\n",
      "{'logistical/obs_consumed_per_second': 233.09375, 'logistical/obs_generated_per_second': 106.515625, 'logistical/data_consumption_ratio': 2.1892036, 'logistical/manual_train_pause': 0.0, 'trn_control_loss': 0.09323716, 'trn_headings_loss': 0.01116547, 'trn_curvatures_loss': 0.01726833, 'consistency losses/trn_steer_cost': 0.03047407, 'consistency losses/trn_te_loss': 15.20831631, 'consistency losses/trn_torque_delta_loss': 129.36894059, 'consistency losses/trn_torque_loss': 160.46357915, 'logistical/max_param': 16.27512741, 'logistical/lr': 0.0003}\n"
     ]
    },
    {
     "name": "stdout",
     "output_type": "stream",
     "text": [
      "{'logistical/obs_consumed_per_second': 238.875, 'logistical/obs_generated_per_second': 113.9453125, 'logistical/data_consumption_ratio': 2.10109622, 'logistical/manual_train_pause': 0.0, 'trn_control_loss': 0.07266557, 'trn_headings_loss': 0.00900161, 'trn_curvatures_loss': 0.01488578, 'consistency losses/trn_steer_cost': 0.02762389, 'consistency losses/trn_te_loss': 16.35738465, 'consistency losses/trn_torque_loss': 139.03574602, 'consistency losses/trn_torque_delta_loss': 130.17424452, 'logistical/max_param': 16.2751236, 'logistical/lr': 0.0003}\n",
      "{'logistical/obs_consumed_per_second': 235.8046875, 'logistical/obs_generated_per_second': 102.828125, 'logistical/data_consumption_ratio': 2.30608715, 'logistical/manual_train_pause': 0.00070312, 'trn_control_loss': 0.09559345, 'trn_headings_loss': 0.01102889, 'trn_curvatures_loss': 0.01815444, 'consistency losses/trn_steer_cost': 0.03574932, 'consistency losses/trn_te_loss': 15.02496077, 'consistency losses/trn_torque_delta_loss': 127.34618062, 'consistency losses/trn_torque_loss': 215.37355616, 'logistical/max_param': 16.27561951, 'logistical/lr': 0.0003}\n",
      "{'logistical/obs_consumed_per_second': 232.2578125, 'logistical/obs_generated_per_second': 104.1875, 'logistical/data_consumption_ratio': 2.23251256, 'logistical/manual_train_pause': 0.0003125, 'trn_control_loss': 0.09106588, 'trn_headings_loss': 0.01089057, 'trn_curvatures_loss': 0.01659888, 'consistency losses/trn_steer_cost': 0.03378272, 'consistency losses/trn_te_loss': 15.45765717, 'consistency losses/trn_torque_loss': 141.23466195, 'consistency losses/trn_torque_delta_loss': 127.75516677, 'logistical/max_param': 16.26947594, 'logistical/lr': 0.0003}\n",
      "{'logistical/obs_consumed_per_second': 236.140625, 'logistical/obs_generated_per_second': 96.125, 'logistical/data_consumption_ratio': 2.45593995, 'logistical/manual_train_pause': 0.00195312, 'trn_control_loss': 0.10203624, 'trn_headings_loss': 0.01156068, 'trn_curvatures_loss': 0.01724002, 'consistency losses/trn_steer_cost': 0.03348142, 'consistency losses/trn_te_loss': 16.02610015, 'consistency losses/trn_torque_loss': 191.2606202, 'consistency losses/trn_torque_delta_loss': 133.62908423, 'logistical/max_param': 16.26903152, 'logistical/lr': 0.0003}\n",
      "{'logistical/obs_consumed_per_second': 230.0078125, 'logistical/obs_generated_per_second': 106.8203125, 'logistical/data_consumption_ratio': 2.15717926, 'logistical/manual_train_pause': 7.812e-05, 'trn_control_loss': 0.07482648, 'trn_headings_loss': 0.00925627, 'trn_curvatures_loss': 0.01475111, 'consistency losses/trn_steer_cost': 0.03210998, 'consistency losses/trn_te_loss': 15.40259407, 'consistency losses/trn_torque_delta_loss': 114.27981994, 'consistency losses/trn_torque_loss': 133.11752284, 'logistical/max_param': 16.26972389, 'logistical/lr': 0.0003}\n",
      "{'logistical/obs_consumed_per_second': 152.0, 'logistical/obs_generated_per_second': 112.0, 'logistical/data_consumption_ratio': 1.35380333, 'logistical/manual_train_pause': 0.0}\n",
      "\n",
      "\n",
      " Eval...\n",
      "EPOCH 2\n",
      "\n",
      "{'trn_control_loss': 0.06219268, 'trn_headings_loss': 0.00799856, 'trn_curvatures_loss': 0.01327524, 'consistency losses/trn_steer_cost': 0.02801937, 'consistency losses/trn_te_loss': 16.12192088, 'consistency losses/trn_torque_delta_loss': 112.95137209, 'logistical/obs_consumed_per_second': 236.18897638, 'logistical/obs_generated_per_second': 104.37795276, 'logistical/data_consumption_ratio': 2.26384471, 'logistical/manual_train_pause': 0.0, 'consistency losses/trn_torque_loss': 140.21035552, 'logistical/max_param': 16.27080917, 'logistical/lr': 0.0003}\n",
      "{'logistical/obs_consumed_per_second': 235.4921875, 'logistical/obs_generated_per_second': 105.0859375, 'logistical/data_consumption_ratio': 2.24562142, 'logistical/manual_train_pause': 0.0, 'trn_control_loss': 0.05632436, 'trn_headings_loss': 0.00741726, 'trn_curvatures_loss': 0.01273471, 'consistency losses/trn_steer_cost': 0.02660829, 'consistency losses/trn_te_loss': 15.77594548, 'consistency losses/trn_torque_loss': 121.51576222, 'consistency losses/trn_torque_delta_loss': 104.83707058, 'logistical/max_param': 16.27036285, 'logistical/lr': 0.0003}\n",
      "{'logistical/obs_consumed_per_second': 232.515625, 'logistical/obs_generated_per_second': 108.4765625, 'logistical/data_consumption_ratio': 2.14345307, 'logistical/manual_train_pause': 0.0, 'trn_control_loss': 0.08623314, 'trn_headings_loss': 0.00989351, 'trn_curvatures_loss': 0.0157986, 'consistency losses/trn_steer_cost': 0.03278458, 'consistency losses/trn_te_loss': 15.27694587, 'consistency losses/trn_torque_loss': 123.61517759, 'consistency losses/trn_torque_delta_loss': 110.05472952, 'logistical/max_param': 16.2712841, 'logistical/lr': 0.0003}\n",
      "{'logistical/obs_consumed_per_second': 223.9296875, 'logistical/obs_generated_per_second': 98.1953125, 'logistical/data_consumption_ratio': 2.28730839, 'logistical/manual_train_pause': 0.00046875, 'trn_control_loss': 0.07601619, 'trn_headings_loss': 0.00940248, 'trn_curvatures_loss': 0.01408362, 'consistency losses/trn_steer_cost': 0.02745205, 'consistency losses/trn_te_loss': 15.52684899, 'consistency losses/trn_torque_delta_loss': 104.89614233, 'consistency losses/trn_torque_loss': 106.7190835, 'logistical/max_param': 16.27157402, 'logistical/lr': 0.0003}\n",
      "{'logistical/obs_consumed_per_second': 230.1171875, 'logistical/obs_generated_per_second': 100.328125, 'logistical/data_consumption_ratio': 2.2943672, 'logistical/manual_train_pause': 0.0003125, 'trn_control_loss': 0.08790827, 'trn_headings_loss': 0.00997645, 'trn_curvatures_loss': 0.01482335, 'consistency losses/trn_steer_cost': 0.0291273, 'consistency losses/trn_te_loss': 16.01487236, 'consistency losses/trn_torque_loss': 144.87890321, 'consistency losses/trn_torque_delta_loss': 103.08440343, 'logistical/max_param': 16.26952171, 'logistical/lr': 0.0003}\n",
      "{'logistical/obs_consumed_per_second': 236.5546875, 'logistical/obs_generated_per_second': 104.546875, 'logistical/data_consumption_ratio': 2.26448555, 'logistical/manual_train_pause': 0.0, 'trn_control_loss': 0.07818294, 'trn_headings_loss': 0.00897294, 'trn_curvatures_loss': 0.01401633, 'consistency losses/trn_steer_cost': 0.02683407, 'consistency losses/trn_te_loss': 15.88232908, 'consistency losses/trn_torque_delta_loss': 103.76381147, 'consistency losses/trn_torque_loss': 153.4992067, 'logistical/max_param': 16.26728058, 'logistical/lr': 0.0003}\n",
      "{'logistical/obs_consumed_per_second': 231.3984375, 'logistical/obs_generated_per_second': 103.0078125, 'logistical/data_consumption_ratio': 2.24487063, 'logistical/manual_train_pause': 0.0, 'trn_control_loss': 0.07877088, 'trn_headings_loss': 0.00955856, 'trn_curvatures_loss': 0.01534772, 'consistency losses/trn_steer_cost': 0.03157735, 'consistency losses/trn_te_loss': 15.60692672, 'consistency losses/trn_torque_loss': 121.66287704, 'consistency losses/trn_torque_delta_loss': 110.06555855, 'logistical/max_param': 16.27000237, 'logistical/lr': 0.0003}\n",
      "{'logistical/obs_consumed_per_second': 239.71875, 'logistical/obs_generated_per_second': 101.6328125, 'logistical/data_consumption_ratio': 2.36754133, 'logistical/manual_train_pause': 0.00054688, 'trn_control_loss': 0.06354058, 'trn_headings_loss': 0.00811233, 'trn_curvatures_loss': 0.01367074, 'consistency losses/trn_steer_cost': 0.02759516, 'consistency losses/trn_te_loss': 16.4016754, 'consistency losses/trn_torque_delta_loss': 101.56667656, 'consistency losses/trn_torque_loss': 104.78307163, 'logistical/max_param': 16.27120399, 'logistical/lr': 0.0003}\n",
      "{'logistical/obs_consumed_per_second': 235.6640625, 'logistical/obs_generated_per_second': 100.6484375, 'logistical/data_consumption_ratio': 2.34412839, 'logistical/manual_train_pause': 0.00015625, 'trn_control_loss': 0.05668938, 'trn_headings_loss': 0.00707473, 'trn_curvatures_loss': 0.0127677, 'consistency losses/trn_steer_cost': 0.03140974, 'consistency losses/trn_te_loss': 15.9221254, 'consistency losses/trn_torque_delta_loss': 97.10647768, 'consistency losses/trn_torque_loss': 120.70874927, 'logistical/max_param': 16.26925468, 'logistical/lr': 0.0003}\n",
      "{'logistical/obs_consumed_per_second': 229.7109375, 'logistical/obs_generated_per_second': 107.6875, 'logistical/data_consumption_ratio': 2.13377644, 'logistical/manual_train_pause': 0.0, 'trn_control_loss': 0.06827927, 'trn_headings_loss': 0.00861447, 'trn_curvatures_loss': 0.01560402, 'consistency losses/trn_steer_cost': 0.03128684, 'consistency losses/trn_te_loss': 15.54759622, 'consistency losses/trn_torque_loss': 147.79210041, 'consistency losses/trn_torque_delta_loss': 99.94266069, 'logistical/max_param': 16.27037239, 'logistical/lr': 0.0003}\n"
     ]
    },
    {
     "name": "stdout",
     "output_type": "stream",
     "text": [
      "{'logistical/obs_consumed_per_second': 187.0, 'logistical/obs_generated_per_second': 108.0, 'logistical/data_consumption_ratio': 1.7341168, 'logistical/manual_train_pause': 0.0}\n",
      "\n",
      "\n",
      " Eval...\n",
      "EPOCH 3\n",
      "\n",
      "{'trn_control_loss': 0.05827522, 'trn_headings_loss': 0.00718394, 'trn_curvatures_loss': 0.01270288, 'consistency losses/trn_steer_cost': 0.0289439, 'consistency losses/trn_te_loss': 15.86157666, 'consistency losses/trn_torque_delta_loss': 90.30929255, 'logistical/obs_consumed_per_second': 239.69291339, 'logistical/obs_generated_per_second': 104.29133858, 'logistical/data_consumption_ratio': 2.29739807, 'logistical/manual_train_pause': 0.0, 'consistency losses/trn_torque_loss': 141.13824286, 'logistical/max_param': 16.2699604, 'logistical/lr': 0.0003}\n",
      "{'logistical/obs_consumed_per_second': 233.1796875, 'logistical/obs_generated_per_second': 110.15625, 'logistical/data_consumption_ratio': 2.11924922, 'logistical/manual_train_pause': 0.0, 'trn_control_loss': 0.05903339, 'trn_headings_loss': 0.00732273, 'trn_curvatures_loss': 0.01216227, 'consistency losses/trn_steer_cost': 0.02560878, 'consistency losses/trn_te_loss': 15.5419476, 'consistency losses/trn_torque_delta_loss': 89.11069515, 'consistency losses/trn_torque_loss': 88.86739179, 'logistical/max_param': 16.26950836, 'logistical/lr': 0.0003}\n",
      "{'logistical/obs_consumed_per_second': 236.8828125, 'logistical/obs_generated_per_second': 107.3515625, 'logistical/data_consumption_ratio': 2.20619116, 'logistical/manual_train_pause': 0.0, 'trn_control_loss': 0.05618525, 'trn_headings_loss': 0.00739726, 'trn_curvatures_loss': 0.01254475, 'consistency losses/trn_steer_cost': 0.02836704, 'consistency losses/trn_te_loss': 16.05549511, 'consistency losses/trn_torque_delta_loss': 87.80440086, 'consistency losses/trn_torque_loss': 167.36876102, 'logistical/max_param': 16.26825333, 'logistical/lr': 0.0003}\n",
      "{'logistical/obs_consumed_per_second': 230.2890625, 'logistical/obs_generated_per_second': 113.8984375, 'logistical/data_consumption_ratio': 2.02024055, 'logistical/manual_train_pause': 0.0, 'trn_control_loss': 0.05723202, 'trn_headings_loss': 0.00759643, 'trn_curvatures_loss': 0.01495445, 'consistency losses/trn_steer_cost': 0.03273404, 'consistency losses/trn_te_loss': 15.2359514, 'consistency losses/trn_torque_loss': 146.13956688, 'consistency losses/trn_torque_delta_loss': 90.54925653, 'logistical/max_param': 16.26651382, 'logistical/lr': 0.0003}\n",
      "{'logistical/obs_consumed_per_second': 234.2265625, 'logistical/obs_generated_per_second': 110.703125, 'logistical/data_consumption_ratio': 2.1148476, 'logistical/manual_train_pause': 0.0, 'trn_control_loss': 0.05578542, 'trn_headings_loss': 0.00724503, 'trn_curvatures_loss': 0.01377025, 'consistency losses/trn_steer_cost': 0.03315854, 'consistency losses/trn_te_loss': 15.07017375, 'consistency losses/trn_torque_loss': 117.53213914, 'consistency losses/trn_torque_delta_loss': 90.47394648, 'logistical/max_param': 16.26542282, 'logistical/lr': 0.0003}\n",
      "{'logistical/obs_consumed_per_second': 236.2734375, 'logistical/obs_generated_per_second': 105.2265625, 'logistical/data_consumption_ratio': 2.24443394, 'logistical/manual_train_pause': 0.0, 'trn_control_loss': 0.04903805, 'trn_headings_loss': 0.00659491, 'trn_curvatures_loss': 0.01264313, 'consistency losses/trn_steer_cost': 0.03047228, 'consistency losses/trn_te_loss': 16.28407133, 'consistency losses/trn_torque_delta_loss': 83.15832785, 'consistency losses/trn_torque_loss': 107.22326773, 'logistical/max_param': 16.26515961, 'logistical/lr': 0.0003}\n"
     ]
    }
   ],
   "source": [
    "n_epochs = 100\n",
    "log_wandb = True\n",
    "\n",
    "for e in range(START_E, n_epochs):\n",
    "    \n",
    "    opt.param_groups[0]['lr'] = np.interp(e, [0, 48, 120, 150], [3e-4, 3e-4, 3e-5, 1e-5])\n",
    "    \n",
    "    # Train\n",
    "    print(f\"EPOCH {e}\\n\")\n",
    "    run_epoch(dataloader_trn, m, opt=opt, scaler=scaler, \n",
    "              train=True, backwards=True, log_wandb=log_wandb, wandb=wandb, updates_per_epoch=1280)\n",
    "    \n",
    "    print(\"\\n\\n Eval...\")\n",
    "    \n",
    "    #eval_rw(rw_dataloader, m, wandb) # will log directly to wandb\n",
    "        \n",
    "    # Saving model checkpoint each epoch\n",
    "    torch.save(m.state_dict(), f\"{BESPOKE_ROOT}/models/m_{model_stem}_e{e}.torch\")\n",
    "    "
   ]
  },
  {
   "cell_type": "code",
   "execution_count": null,
   "metadata": {},
   "outputs": [],
   "source": []
  },
  {
   "cell_type": "code",
   "execution_count": 13,
   "metadata": {
    "scrolled": true
   },
   "outputs": [],
   "source": [
    "torch.save(m.state_dict(), f\"{BESPOKE_ROOT}/models/m_{model_stem}_e35.torch\")"
   ]
  },
  {
   "cell_type": "code",
   "execution_count": null,
   "metadata": {},
   "outputs": [],
   "source": []
  },
  {
   "cell_type": "code",
   "execution_count": null,
   "metadata": {},
   "outputs": [],
   "source": []
  },
  {
   "cell_type": "code",
   "execution_count": 10,
   "metadata": {
    "scrolled": true
   },
   "outputs": [
    {
     "name": "stderr",
     "output_type": "stream",
     "text": [
      "/home/beans/miniconda3/envs/py38/lib/python3.8/site-packages/torch/utils/checkpoint.py:25: UserWarning: None of the inputs have requires_grad=True. Gradients will be None\n",
      "  warnings.warn(\"None of the inputs have requires_grad=True. Gradients will be None\")\n"
     ]
    },
    {
     "name": "stdout",
     "output_type": "stream",
     "text": [
      "CPU times: user 14.3 s, sys: 417 ms, total: 14.7 s\n",
      "Wall time: 14 s\n"
     ]
    }
   ],
   "source": [
    "%%time\n",
    "\n",
    "eval_rw(rw_dataloader, m, wandb) # will log directly to wandb"
   ]
  },
  {
   "cell_type": "code",
   "execution_count": null,
   "metadata": {},
   "outputs": [],
   "source": []
  },
  {
   "cell_type": "code",
   "execution_count": null,
   "metadata": {},
   "outputs": [],
   "source": []
  }
 ],
 "metadata": {
  "kernelspec": {
   "display_name": "Python 3 (ipykernel)",
   "language": "python",
   "name": "python3"
  },
  "language_info": {
   "codemirror_mode": {
    "name": "ipython",
    "version": 3
   },
   "file_extension": ".py",
   "mimetype": "text/x-python",
   "name": "python",
   "nbconvert_exporter": "python",
   "pygments_lexer": "ipython3",
   "version": "3.8.11"
  }
 },
 "nbformat": 4,
 "nbformat_minor": 4
}
