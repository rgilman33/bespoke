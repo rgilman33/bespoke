{
 "cells": [
  {
   "cell_type": "code",
   "execution_count": 1,
   "metadata": {
    "scrolled": true
   },
   "outputs": [
    {
     "name": "stderr",
     "output_type": "stream",
     "text": [
      "/home/beans/miniconda3/envs/py38/lib/python3.8/site-packages/albumentations/augmentations/transforms.py:689: FutureWarning: This class has been deprecated. Please use CoarseDropout\n",
      "  warnings.warn(\n",
      "/home/beans/miniconda3/envs/py38/lib/python3.8/site-packages/albumentations/augmentations/transforms.py:965: FutureWarning: This class has been deprecated. Please use ImageCompression\n",
      "  warnings.warn(\n"
     ]
    },
    {
     "data": {
      "text/plain": [
       "('1.10.0', 2, 'NVIDIA GeForce RTX 3090')"
      ]
     },
     "execution_count": 1,
     "metadata": {},
     "output_type": "execute_result"
    }
   ],
   "source": [
    "%matplotlib inline\n",
    "%load_ext autoreload\n",
    "%autoreload 2\n",
    "\n",
    "import sys\n",
    "sys.path.append(f'/home/beans/bespoke')\n",
    "\n",
    "from models import EffNet\n",
    "from constants import *\n",
    "from imports import *\n",
    "from rw_dataloader import RealWorldDataloader\n",
    "from blender_dataloader import BlenderDataloader\n",
    "from train_utils import *\n",
    "\n",
    "torch.__version__, torch.cuda.device_count(), torch.cuda.get_device_name(torch.cuda.current_device())"
   ]
  },
  {
   "cell_type": "code",
   "execution_count": 2,
   "metadata": {},
   "outputs": [
    {
     "data": {
      "text/plain": [
       "'14rjljlj'"
      ]
     },
     "execution_count": 2,
     "metadata": {},
     "output_type": "execute_result"
    }
   ],
   "source": [
    "import wandb\n",
    "run_id = wandb.util.generate_id(); run_id"
   ]
  },
  {
   "cell_type": "code",
   "execution_count": 3,
   "metadata": {
    "scrolled": true
   },
   "outputs": [
    {
     "name": "stderr",
     "output_type": "stream",
     "text": [
      "\u001b[34m\u001b[1mwandb\u001b[0m: Currently logged in as: \u001b[33mrgilman33\u001b[0m (use `wandb login --relogin` to force relogin)\n",
      "\u001b[34m\u001b[1mwandb\u001b[0m: wandb version 0.13.1 is available!  To upgrade, please run:\n",
      "\u001b[34m\u001b[1mwandb\u001b[0m:  $ pip install wandb --upgrade\n"
     ]
    },
    {
     "data": {
      "text/html": [
       "\n",
       "                    Resuming run <strong><a href=\"https://wandb.ai/rgilman33/carla/runs/3jf8wk1i\" target=\"_blank\">bumbling-salad-338</a></strong> to <a href=\"https://wandb.ai/rgilman33/carla\" target=\"_blank\">Weights & Biases</a> (<a href=\"https://docs.wandb.com/integrations/jupyter.html\" target=\"_blank\">docs</a>).<br/>\n",
       "\n",
       "                "
      ],
      "text/plain": [
       "<IPython.core.display.HTML object>"
      ]
     },
     "metadata": {},
     "output_type": "display_data"
    },
    {
     "data": {
      "text/html": [
       "<button onClick=\"this.nextSibling.style.display='block';this.style.display='none';\">Display W&B run</button><iframe src=\"https://wandb.ai/rgilman33/carla/runs/3jf8wk1i?jupyter=true\" style=\"border:none;width:100%;height:420px;display:none;\"></iframe>"
      ],
      "text/plain": [
       "<wandb.sdk.wandb_run.Run at 0x7efb5c76cd90>"
      ]
     },
     "execution_count": 3,
     "metadata": {},
     "output_type": "execute_result"
    }
   ],
   "source": [
    "wandb.init(id='3jf8wk1i', project=\"carla\", resume=\"allow\")"
   ]
  },
  {
   "cell_type": "code",
   "execution_count": 4,
   "metadata": {
    "scrolled": true
   },
   "outputs": [
    {
     "data": {
      "text/plain": [
       "14029.957"
      ]
     },
     "execution_count": 4,
     "metadata": {},
     "output_type": "execute_result"
    }
   ],
   "source": [
    "m = EffNet(model_arch=\"efficientnet_b3\").to(device) # 13M params, 11.6M without RNN, \n",
    "sum([torch.numel(p) for p in m.parameters()]) / 1000"
   ]
  },
  {
   "cell_type": "code",
   "execution_count": 5,
   "metadata": {
    "scrolled": true
   },
   "outputs": [
    {
     "data": {
      "text/plain": [
       "<All keys matched successfully>"
      ]
     },
     "execution_count": 5,
     "metadata": {},
     "output_type": "execute_result"
    }
   ],
   "source": [
    "m.load_state_dict(torch.load(f\"{BESPOKE_ROOT}/models/m.torch\"), strict=False)"
   ]
  },
  {
   "cell_type": "code",
   "execution_count": 6,
   "metadata": {
    "scrolled": true
   },
   "outputs": [],
   "source": [
    "scaler = torch.cuda.amp.GradScaler() \n",
    "opt = torch.optim.Adam(m.parameters(), lr=5e-5)"
   ]
  },
  {
   "cell_type": "code",
   "execution_count": 7,
   "metadata": {
    "scrolled": true
   },
   "outputs": [
    {
     "name": "stdout",
     "output_type": "stream",
     "text": [
      "CPU times: user 55.6 s, sys: 2.58 s, total: 58.1 s\n",
      "Wall time: 1min\n"
     ]
    }
   ],
   "source": [
    "%%time\n",
    "BS = 32\n",
    "dataloader_trn = BlenderDataloader(path_stem=\"trn\", bs=BS)"
   ]
  },
  {
   "cell_type": "code",
   "execution_count": 8,
   "metadata": {
    "scrolled": true
   },
   "outputs": [
    {
     "name": "stdout",
     "output_type": "stream",
     "text": [
      "CPU times: user 2 µs, sys: 1 µs, total: 3 µs\n",
      "Wall time: 5.25 µs\n"
     ]
    }
   ],
   "source": [
    "%%time\n",
    "#rw_dataloader = RealWorldDataloader()"
   ]
  },
  {
   "cell_type": "code",
   "execution_count": 9,
   "metadata": {},
   "outputs": [
    {
     "name": "stdout",
     "output_type": "stream",
     "text": [
      "hidden_init True\n",
      "cell_init True\n",
      "backbone.conv_stem.weight True\n",
      "backbone.bn1.weight True\n",
      "backbone.bn1.bias True\n",
      "backbone.blocks.0.0.conv_dw.weight True\n",
      "backbone.blocks.0.0.bn1.weight True\n",
      "backbone.blocks.0.0.bn1.bias True\n",
      "backbone.blocks.0.0.se.conv_reduce.weight True\n",
      "backbone.blocks.0.0.se.conv_reduce.bias True\n",
      "backbone.blocks.0.0.se.conv_expand.weight True\n",
      "backbone.blocks.0.0.se.conv_expand.bias True\n",
      "backbone.blocks.0.0.conv_pw.weight True\n",
      "backbone.blocks.0.0.bn2.weight True\n",
      "backbone.blocks.0.0.bn2.bias True\n",
      "backbone.blocks.0.1.conv_dw.weight True\n",
      "backbone.blocks.0.1.bn1.weight True\n",
      "backbone.blocks.0.1.bn1.bias True\n",
      "backbone.blocks.0.1.se.conv_reduce.weight True\n",
      "backbone.blocks.0.1.se.conv_reduce.bias True\n",
      "backbone.blocks.0.1.se.conv_expand.weight True\n",
      "backbone.blocks.0.1.se.conv_expand.bias True\n",
      "backbone.blocks.0.1.conv_pw.weight True\n",
      "backbone.blocks.0.1.bn2.weight True\n",
      "backbone.blocks.0.1.bn2.bias True\n",
      "backbone.blocks.1.0.conv_pw.weight True\n",
      "backbone.blocks.1.0.bn1.weight True\n",
      "backbone.blocks.1.0.bn1.bias True\n",
      "backbone.blocks.1.0.conv_dw.weight True\n",
      "backbone.blocks.1.0.bn2.weight True\n",
      "backbone.blocks.1.0.bn2.bias True\n",
      "backbone.blocks.1.0.se.conv_reduce.weight True\n",
      "backbone.blocks.1.0.se.conv_reduce.bias True\n",
      "backbone.blocks.1.0.se.conv_expand.weight True\n",
      "backbone.blocks.1.0.se.conv_expand.bias True\n",
      "backbone.blocks.1.0.conv_pwl.weight True\n",
      "backbone.blocks.1.0.bn3.weight True\n",
      "backbone.blocks.1.0.bn3.bias True\n",
      "backbone.blocks.1.1.conv_pw.weight True\n",
      "backbone.blocks.1.1.bn1.weight True\n",
      "backbone.blocks.1.1.bn1.bias True\n",
      "backbone.blocks.1.1.conv_dw.weight True\n",
      "backbone.blocks.1.1.bn2.weight True\n",
      "backbone.blocks.1.1.bn2.bias True\n",
      "backbone.blocks.1.1.se.conv_reduce.weight True\n",
      "backbone.blocks.1.1.se.conv_reduce.bias True\n",
      "backbone.blocks.1.1.se.conv_expand.weight True\n",
      "backbone.blocks.1.1.se.conv_expand.bias True\n",
      "backbone.blocks.1.1.conv_pwl.weight True\n",
      "backbone.blocks.1.1.bn3.weight True\n",
      "backbone.blocks.1.1.bn3.bias True\n",
      "backbone.blocks.1.2.conv_pw.weight True\n",
      "backbone.blocks.1.2.bn1.weight True\n",
      "backbone.blocks.1.2.bn1.bias True\n",
      "backbone.blocks.1.2.conv_dw.weight True\n",
      "backbone.blocks.1.2.bn2.weight True\n",
      "backbone.blocks.1.2.bn2.bias True\n",
      "backbone.blocks.1.2.se.conv_reduce.weight True\n",
      "backbone.blocks.1.2.se.conv_reduce.bias True\n",
      "backbone.blocks.1.2.se.conv_expand.weight True\n",
      "backbone.blocks.1.2.se.conv_expand.bias True\n",
      "backbone.blocks.1.2.conv_pwl.weight True\n",
      "backbone.blocks.1.2.bn3.weight True\n",
      "backbone.blocks.1.2.bn3.bias True\n",
      "backbone.blocks.2.0.conv_pw.weight True\n",
      "backbone.blocks.2.0.bn1.weight True\n",
      "backbone.blocks.2.0.bn1.bias True\n",
      "backbone.blocks.2.0.conv_dw.weight True\n",
      "backbone.blocks.2.0.bn2.weight True\n",
      "backbone.blocks.2.0.bn2.bias True\n",
      "backbone.blocks.2.0.se.conv_reduce.weight True\n",
      "backbone.blocks.2.0.se.conv_reduce.bias True\n",
      "backbone.blocks.2.0.se.conv_expand.weight True\n",
      "backbone.blocks.2.0.se.conv_expand.bias True\n",
      "backbone.blocks.2.0.conv_pwl.weight True\n",
      "backbone.blocks.2.0.bn3.weight True\n",
      "backbone.blocks.2.0.bn3.bias True\n",
      "backbone.blocks.2.1.conv_pw.weight True\n",
      "backbone.blocks.2.1.bn1.weight True\n",
      "backbone.blocks.2.1.bn1.bias True\n",
      "backbone.blocks.2.1.conv_dw.weight True\n",
      "backbone.blocks.2.1.bn2.weight True\n",
      "backbone.blocks.2.1.bn2.bias True\n",
      "backbone.blocks.2.1.se.conv_reduce.weight True\n",
      "backbone.blocks.2.1.se.conv_reduce.bias True\n",
      "backbone.blocks.2.1.se.conv_expand.weight True\n",
      "backbone.blocks.2.1.se.conv_expand.bias True\n",
      "backbone.blocks.2.1.conv_pwl.weight True\n",
      "backbone.blocks.2.1.bn3.weight True\n",
      "backbone.blocks.2.1.bn3.bias True\n",
      "backbone.blocks.2.2.conv_pw.weight True\n",
      "backbone.blocks.2.2.bn1.weight True\n",
      "backbone.blocks.2.2.bn1.bias True\n",
      "backbone.blocks.2.2.conv_dw.weight True\n",
      "backbone.blocks.2.2.bn2.weight True\n",
      "backbone.blocks.2.2.bn2.bias True\n",
      "backbone.blocks.2.2.se.conv_reduce.weight True\n",
      "backbone.blocks.2.2.se.conv_reduce.bias True\n",
      "backbone.blocks.2.2.se.conv_expand.weight True\n",
      "backbone.blocks.2.2.se.conv_expand.bias True\n",
      "backbone.blocks.2.2.conv_pwl.weight True\n",
      "backbone.blocks.2.2.bn3.weight True\n",
      "backbone.blocks.2.2.bn3.bias True\n",
      "backbone.blocks.3.0.conv_pw.weight True\n",
      "backbone.blocks.3.0.bn1.weight True\n",
      "backbone.blocks.3.0.bn1.bias True\n",
      "backbone.blocks.3.0.conv_dw.weight True\n",
      "backbone.blocks.3.0.bn2.weight True\n",
      "backbone.blocks.3.0.bn2.bias True\n",
      "backbone.blocks.3.0.se.conv_reduce.weight True\n",
      "backbone.blocks.3.0.se.conv_reduce.bias True\n",
      "backbone.blocks.3.0.se.conv_expand.weight True\n",
      "backbone.blocks.3.0.se.conv_expand.bias True\n",
      "backbone.blocks.3.0.conv_pwl.weight True\n",
      "backbone.blocks.3.0.bn3.weight True\n",
      "backbone.blocks.3.0.bn3.bias True\n",
      "backbone.blocks.3.1.conv_pw.weight True\n",
      "backbone.blocks.3.1.bn1.weight True\n",
      "backbone.blocks.3.1.bn1.bias True\n",
      "backbone.blocks.3.1.conv_dw.weight True\n",
      "backbone.blocks.3.1.bn2.weight True\n",
      "backbone.blocks.3.1.bn2.bias True\n",
      "backbone.blocks.3.1.se.conv_reduce.weight True\n",
      "backbone.blocks.3.1.se.conv_reduce.bias True\n",
      "backbone.blocks.3.1.se.conv_expand.weight True\n",
      "backbone.blocks.3.1.se.conv_expand.bias True\n",
      "backbone.blocks.3.1.conv_pwl.weight True\n",
      "backbone.blocks.3.1.bn3.weight True\n",
      "backbone.blocks.3.1.bn3.bias True\n",
      "backbone.blocks.3.2.conv_pw.weight True\n",
      "backbone.blocks.3.2.bn1.weight True\n",
      "backbone.blocks.3.2.bn1.bias True\n",
      "backbone.blocks.3.2.conv_dw.weight True\n",
      "backbone.blocks.3.2.bn2.weight True\n",
      "backbone.blocks.3.2.bn2.bias True\n",
      "backbone.blocks.3.2.se.conv_reduce.weight True\n",
      "backbone.blocks.3.2.se.conv_reduce.bias True\n",
      "backbone.blocks.3.2.se.conv_expand.weight True\n",
      "backbone.blocks.3.2.se.conv_expand.bias True\n",
      "backbone.blocks.3.2.conv_pwl.weight True\n",
      "backbone.blocks.3.2.bn3.weight True\n",
      "backbone.blocks.3.2.bn3.bias True\n",
      "backbone.blocks.3.3.conv_pw.weight True\n",
      "backbone.blocks.3.3.bn1.weight True\n",
      "backbone.blocks.3.3.bn1.bias True\n",
      "backbone.blocks.3.3.conv_dw.weight True\n",
      "backbone.blocks.3.3.bn2.weight True\n",
      "backbone.blocks.3.3.bn2.bias True\n",
      "backbone.blocks.3.3.se.conv_reduce.weight True\n",
      "backbone.blocks.3.3.se.conv_reduce.bias True\n",
      "backbone.blocks.3.3.se.conv_expand.weight True\n",
      "backbone.blocks.3.3.se.conv_expand.bias True\n",
      "backbone.blocks.3.3.conv_pwl.weight True\n",
      "backbone.blocks.3.3.bn3.weight True\n",
      "backbone.blocks.3.3.bn3.bias True\n",
      "backbone.blocks.3.4.conv_pw.weight True\n",
      "backbone.blocks.3.4.bn1.weight True\n",
      "backbone.blocks.3.4.bn1.bias True\n",
      "backbone.blocks.3.4.conv_dw.weight True\n",
      "backbone.blocks.3.4.bn2.weight True\n",
      "backbone.blocks.3.4.bn2.bias True\n",
      "backbone.blocks.3.4.se.conv_reduce.weight True\n",
      "backbone.blocks.3.4.se.conv_reduce.bias True\n",
      "backbone.blocks.3.4.se.conv_expand.weight True\n",
      "backbone.blocks.3.4.se.conv_expand.bias True\n",
      "backbone.blocks.3.4.conv_pwl.weight True\n",
      "backbone.blocks.3.4.bn3.weight True\n",
      "backbone.blocks.3.4.bn3.bias True\n",
      "backbone.blocks.4.0.conv_pw.weight True\n",
      "backbone.blocks.4.0.bn1.weight True\n",
      "backbone.blocks.4.0.bn1.bias True\n",
      "backbone.blocks.4.0.conv_dw.weight True\n",
      "backbone.blocks.4.0.bn2.weight True\n",
      "backbone.blocks.4.0.bn2.bias True\n",
      "backbone.blocks.4.0.se.conv_reduce.weight True\n",
      "backbone.blocks.4.0.se.conv_reduce.bias True\n",
      "backbone.blocks.4.0.se.conv_expand.weight True\n",
      "backbone.blocks.4.0.se.conv_expand.bias True\n",
      "backbone.blocks.4.0.conv_pwl.weight True\n",
      "backbone.blocks.4.0.bn3.weight True\n",
      "backbone.blocks.4.0.bn3.bias True\n",
      "backbone.blocks.4.1.conv_pw.weight True\n",
      "backbone.blocks.4.1.bn1.weight True\n",
      "backbone.blocks.4.1.bn1.bias True\n",
      "backbone.blocks.4.1.conv_dw.weight True\n",
      "backbone.blocks.4.1.bn2.weight True\n",
      "backbone.blocks.4.1.bn2.bias True\n",
      "backbone.blocks.4.1.se.conv_reduce.weight True\n",
      "backbone.blocks.4.1.se.conv_reduce.bias True\n",
      "backbone.blocks.4.1.se.conv_expand.weight True\n",
      "backbone.blocks.4.1.se.conv_expand.bias True\n",
      "backbone.blocks.4.1.conv_pwl.weight True\n",
      "backbone.blocks.4.1.bn3.weight True\n",
      "backbone.blocks.4.1.bn3.bias True\n",
      "backbone.blocks.4.2.conv_pw.weight True\n",
      "backbone.blocks.4.2.bn1.weight True\n",
      "backbone.blocks.4.2.bn1.bias True\n",
      "backbone.blocks.4.2.conv_dw.weight True\n",
      "backbone.blocks.4.2.bn2.weight True\n",
      "backbone.blocks.4.2.bn2.bias True\n",
      "backbone.blocks.4.2.se.conv_reduce.weight True\n",
      "backbone.blocks.4.2.se.conv_reduce.bias True\n",
      "backbone.blocks.4.2.se.conv_expand.weight True\n",
      "backbone.blocks.4.2.se.conv_expand.bias True\n",
      "backbone.blocks.4.2.conv_pwl.weight True\n",
      "backbone.blocks.4.2.bn3.weight True\n",
      "backbone.blocks.4.2.bn3.bias True\n",
      "backbone.blocks.4.3.conv_pw.weight True\n",
      "backbone.blocks.4.3.bn1.weight True\n",
      "backbone.blocks.4.3.bn1.bias True\n",
      "backbone.blocks.4.3.conv_dw.weight True\n",
      "backbone.blocks.4.3.bn2.weight True\n",
      "backbone.blocks.4.3.bn2.bias True\n",
      "backbone.blocks.4.3.se.conv_reduce.weight True\n",
      "backbone.blocks.4.3.se.conv_reduce.bias True\n",
      "backbone.blocks.4.3.se.conv_expand.weight True\n",
      "backbone.blocks.4.3.se.conv_expand.bias True\n",
      "backbone.blocks.4.3.conv_pwl.weight True\n",
      "backbone.blocks.4.3.bn3.weight True\n",
      "backbone.blocks.4.3.bn3.bias True\n",
      "backbone.blocks.4.4.conv_pw.weight True\n",
      "backbone.blocks.4.4.bn1.weight True\n",
      "backbone.blocks.4.4.bn1.bias True\n",
      "backbone.blocks.4.4.conv_dw.weight True\n",
      "backbone.blocks.4.4.bn2.weight True\n",
      "backbone.blocks.4.4.bn2.bias True\n",
      "backbone.blocks.4.4.se.conv_reduce.weight True\n",
      "backbone.blocks.4.4.se.conv_reduce.bias True\n",
      "backbone.blocks.4.4.se.conv_expand.weight True\n",
      "backbone.blocks.4.4.se.conv_expand.bias True\n",
      "backbone.blocks.4.4.conv_pwl.weight True\n",
      "backbone.blocks.4.4.bn3.weight True\n",
      "backbone.blocks.4.4.bn3.bias True\n",
      "backbone.blocks.5.0.conv_pw.weight True\n",
      "backbone.blocks.5.0.bn1.weight True\n",
      "backbone.blocks.5.0.bn1.bias True\n",
      "backbone.blocks.5.0.conv_dw.weight True\n",
      "backbone.blocks.5.0.bn2.weight True\n",
      "backbone.blocks.5.0.bn2.bias True\n",
      "backbone.blocks.5.0.se.conv_reduce.weight True\n",
      "backbone.blocks.5.0.se.conv_reduce.bias True\n",
      "backbone.blocks.5.0.se.conv_expand.weight True\n",
      "backbone.blocks.5.0.se.conv_expand.bias True\n",
      "backbone.blocks.5.0.conv_pwl.weight True\n",
      "backbone.blocks.5.0.bn3.weight True\n",
      "backbone.blocks.5.0.bn3.bias True\n",
      "backbone.blocks.5.1.conv_pw.weight True\n",
      "backbone.blocks.5.1.bn1.weight True\n",
      "backbone.blocks.5.1.bn1.bias True\n",
      "backbone.blocks.5.1.conv_dw.weight True\n",
      "backbone.blocks.5.1.bn2.weight True\n",
      "backbone.blocks.5.1.bn2.bias True\n",
      "backbone.blocks.5.1.se.conv_reduce.weight True\n",
      "backbone.blocks.5.1.se.conv_reduce.bias True\n",
      "backbone.blocks.5.1.se.conv_expand.weight True\n",
      "backbone.blocks.5.1.se.conv_expand.bias True\n",
      "backbone.blocks.5.1.conv_pwl.weight True\n",
      "backbone.blocks.5.1.bn3.weight True\n",
      "backbone.blocks.5.1.bn3.bias True\n",
      "backbone.blocks.5.2.conv_pw.weight True\n",
      "backbone.blocks.5.2.bn1.weight True\n",
      "backbone.blocks.5.2.bn1.bias True\n",
      "backbone.blocks.5.2.conv_dw.weight True\n",
      "backbone.blocks.5.2.bn2.weight True\n",
      "backbone.blocks.5.2.bn2.bias True\n",
      "backbone.blocks.5.2.se.conv_reduce.weight True\n",
      "backbone.blocks.5.2.se.conv_reduce.bias True\n",
      "backbone.blocks.5.2.se.conv_expand.weight True\n",
      "backbone.blocks.5.2.se.conv_expand.bias True\n",
      "backbone.blocks.5.2.conv_pwl.weight True\n",
      "backbone.blocks.5.2.bn3.weight True\n",
      "backbone.blocks.5.2.bn3.bias True\n",
      "backbone.blocks.5.3.conv_pw.weight True\n",
      "backbone.blocks.5.3.bn1.weight True\n",
      "backbone.blocks.5.3.bn1.bias True\n",
      "backbone.blocks.5.3.conv_dw.weight True\n",
      "backbone.blocks.5.3.bn2.weight True\n",
      "backbone.blocks.5.3.bn2.bias True\n",
      "backbone.blocks.5.3.se.conv_reduce.weight True\n",
      "backbone.blocks.5.3.se.conv_reduce.bias True\n",
      "backbone.blocks.5.3.se.conv_expand.weight True\n",
      "backbone.blocks.5.3.se.conv_expand.bias True\n",
      "backbone.blocks.5.3.conv_pwl.weight True\n",
      "backbone.blocks.5.3.bn3.weight True\n",
      "backbone.blocks.5.3.bn3.bias True\n",
      "backbone.blocks.5.4.conv_pw.weight True\n",
      "backbone.blocks.5.4.bn1.weight True\n",
      "backbone.blocks.5.4.bn1.bias True\n",
      "backbone.blocks.5.4.conv_dw.weight True\n",
      "backbone.blocks.5.4.bn2.weight True\n",
      "backbone.blocks.5.4.bn2.bias True\n",
      "backbone.blocks.5.4.se.conv_reduce.weight True\n",
      "backbone.blocks.5.4.se.conv_reduce.bias True\n",
      "backbone.blocks.5.4.se.conv_expand.weight True\n",
      "backbone.blocks.5.4.se.conv_expand.bias True\n",
      "backbone.blocks.5.4.conv_pwl.weight True\n",
      "backbone.blocks.5.4.bn3.weight True\n",
      "backbone.blocks.5.4.bn3.bias True\n",
      "backbone.blocks.5.5.conv_pw.weight True\n",
      "backbone.blocks.5.5.bn1.weight True\n",
      "backbone.blocks.5.5.bn1.bias True\n",
      "backbone.blocks.5.5.conv_dw.weight True\n",
      "backbone.blocks.5.5.bn2.weight True\n",
      "backbone.blocks.5.5.bn2.bias True\n",
      "backbone.blocks.5.5.se.conv_reduce.weight True\n",
      "backbone.blocks.5.5.se.conv_reduce.bias True\n",
      "backbone.blocks.5.5.se.conv_expand.weight True\n",
      "backbone.blocks.5.5.se.conv_expand.bias True\n",
      "backbone.blocks.5.5.conv_pwl.weight True\n",
      "backbone.blocks.5.5.bn3.weight True\n",
      "backbone.blocks.5.5.bn3.bias True\n",
      "backbone.blocks.6.0.conv_pw.weight True\n",
      "backbone.blocks.6.0.bn1.weight True\n",
      "backbone.blocks.6.0.bn1.bias True\n",
      "backbone.blocks.6.0.conv_dw.weight True\n",
      "backbone.blocks.6.0.bn2.weight True\n",
      "backbone.blocks.6.0.bn2.bias True\n",
      "backbone.blocks.6.0.se.conv_reduce.weight True\n",
      "backbone.blocks.6.0.se.conv_reduce.bias True\n",
      "backbone.blocks.6.0.se.conv_expand.weight True\n",
      "backbone.blocks.6.0.se.conv_expand.bias True\n",
      "backbone.blocks.6.0.conv_pwl.weight True\n",
      "backbone.blocks.6.0.bn3.weight True\n",
      "backbone.blocks.6.0.bn3.bias True\n",
      "backbone.blocks.6.1.conv_pw.weight True\n",
      "backbone.blocks.6.1.bn1.weight True\n",
      "backbone.blocks.6.1.bn1.bias True\n",
      "backbone.blocks.6.1.conv_dw.weight True\n",
      "backbone.blocks.6.1.bn2.weight True\n",
      "backbone.blocks.6.1.bn2.bias True\n",
      "backbone.blocks.6.1.se.conv_reduce.weight True\n",
      "backbone.blocks.6.1.se.conv_reduce.bias True\n",
      "backbone.blocks.6.1.se.conv_expand.weight True\n",
      "backbone.blocks.6.1.se.conv_expand.bias True\n",
      "backbone.blocks.6.1.conv_pwl.weight True\n",
      "backbone.blocks.6.1.bn3.weight True\n",
      "backbone.blocks.6.1.bn3.bias True\n",
      "backbone.conv_head.weight True\n",
      "backbone.bn2.weight True\n",
      "backbone.bn2.bias True\n",
      "fcs_1.0.weight True\n",
      "fcs_1.0.bias True\n",
      "_rnn.weight_ih_l0 True\n",
      "_rnn.weight_hh_l0 True\n",
      "_rnn.bias_ih_l0 True\n",
      "_rnn.bias_hh_l0 True\n",
      "_fcs_2.0.weight True\n",
      "_fcs_2.0.bias True\n",
      "_fcs_2.3.weight True\n",
      "_fcs_2.3.bias True\n",
      "obsnet.fcs.0.weight True\n",
      "obsnet.fcs.0.bias True\n",
      "obsnet.fcs.3.weight True\n",
      "obsnet.fcs.3.bias True\n"
     ]
    }
   ],
   "source": [
    "for n, p in m.named_parameters():\n",
    "    \"\"\"if 'fcs_2' in n:\n",
    "        p.requires_grad = True\n",
    "    else:\n",
    "        p.requires_grad = False\"\"\"\n",
    "        \n",
    "    print(n, p.requires_grad)"
   ]
  },
  {
   "cell_type": "code",
   "execution_count": null,
   "metadata": {},
   "outputs": [],
   "source": []
  },
  {
   "cell_type": "code",
   "execution_count": 10,
   "metadata": {
    "scrolled": true
   },
   "outputs": [],
   "source": [
    "model_stem = \"8.18\"\n",
    "START_E = 64"
   ]
  },
  {
   "cell_type": "code",
   "execution_count": 11,
   "metadata": {
    "scrolled": true
   },
   "outputs": [
    {
     "name": "stdout",
     "output_type": "stream",
     "text": [
      "EPOCH 64\n",
      "\n",
      "{'trn_control_loss': 0.00873174, 'trn_headings_loss': 0.00039763, 'trn_curvatures_loss': 0.00163812, 'consistency losses/trn_steer_cost': 0.00378384, 'consistency losses/trn_te_loss': 17.78492679, 'aux losses/trn_pitch_loss': 0.10069251, 'aux losses/trn_yaw_loss': 0.15883446, 'consistency losses/trn_%_updates_w_torque_delta_loss': 0.1796875, 'consistency losses/trn_torque_loss': 532.04628754, 'consistency losses/trn_torque_delta_loss': 6.88113113, 'logistical/obs_consumed_per_second': 235.55905512, 'logistical/obs_generated_per_second': 97.74015748, 'logistical/data_consumption_ratio': 2.48192597, 'logistical/manual_train_pause': 0.02354331, 'logistical/max_param': 16.19180107, 'logistical/lr': 0.0001}\n",
      "{'logistical/obs_consumed_per_second': 233.953125, 'logistical/obs_generated_per_second': 99.9921875, 'logistical/data_consumption_ratio': 2.34361556, 'logistical/manual_train_pause': 0.00023438, 'trn_control_loss': 0.00990683, 'trn_headings_loss': 0.00045236, 'trn_curvatures_loss': 0.00214705, 'consistency losses/trn_steer_cost': 0.00427232, 'consistency losses/trn_te_loss': 18.02925591, 'aux losses/trn_pitch_loss': 0.08871651, 'aux losses/trn_yaw_loss': 0.14265847, 'consistency losses/trn_%_updates_w_torque_delta_loss': 0.2578125, 'consistency losses/trn_torque_loss': 691.82771494, 'consistency losses/trn_torque_delta_loss': 6.25896344, 'logistical/max_param': 16.19259453, 'logistical/lr': 0.0001}\n",
      "{'logistical/obs_consumed_per_second': 232.4921875, 'logistical/obs_generated_per_second': 106.5234375, 'logistical/data_consumption_ratio': 2.18131152, 'logistical/manual_train_pause': 0.0, 'trn_control_loss': 0.01043031, 'trn_headings_loss': 0.00038301, 'trn_curvatures_loss': 0.00177193, 'consistency losses/trn_steer_cost': 0.00384913, 'consistency losses/trn_te_loss': 18.40796436, 'aux losses/trn_pitch_loss': 0.08964229, 'aux losses/trn_yaw_loss': 0.15822363, 'consistency losses/trn_%_updates_w_torque_delta_loss': 0.109375, 'consistency losses/trn_torque_loss': 614.39742389, 'consistency losses/trn_torque_delta_loss': 6.16680239, 'logistical/max_param': 16.19148827, 'logistical/lr': 0.0001}\n",
      "{'logistical/obs_consumed_per_second': 234.7734375, 'logistical/obs_generated_per_second': 104.5234375, 'logistical/data_consumption_ratio': 2.25041687, 'logistical/manual_train_pause': 0.0, 'trn_control_loss': 0.01245373, 'trn_headings_loss': 0.00045945, 'trn_curvatures_loss': 0.00221813, 'consistency losses/trn_steer_cost': 0.00476713, 'consistency losses/trn_te_loss': 17.84027544, 'aux losses/trn_pitch_loss': 0.11343217, 'aux losses/trn_yaw_loss': 0.36112118, 'consistency losses/trn_%_updates_w_torque_delta_loss': 0.203125, 'consistency losses/trn_torque_loss': 691.31317705, 'consistency losses/trn_torque_delta_loss': 5.7940762, 'logistical/max_param': 16.19088364, 'logistical/lr': 0.0001}\n",
      "{'logistical/obs_consumed_per_second': 240.0546875, 'logistical/obs_generated_per_second': 101.8828125, 'logistical/data_consumption_ratio': 2.35807426, 'logistical/manual_train_pause': 0.00015625, 'trn_control_loss': 0.01005597, 'trn_headings_loss': 0.00045228, 'trn_curvatures_loss': 0.00210097, 'consistency losses/trn_steer_cost': 0.00418717, 'consistency losses/trn_te_loss': 17.57099677, 'aux losses/trn_pitch_loss': 0.09808517, 'aux losses/trn_yaw_loss': 0.17980647, 'consistency losses/trn_%_updates_w_torque_delta_loss': 0.1640625, 'consistency losses/trn_torque_loss': 459.61465134, 'consistency losses/trn_torque_delta_loss': 5.41929737, 'logistical/max_param': 16.19101906, 'logistical/lr': 0.0001}\n",
      "{'logistical/obs_consumed_per_second': 230.875, 'logistical/obs_generated_per_second': 103.6953125, 'logistical/data_consumption_ratio': 2.23504473, 'logistical/manual_train_pause': 0.0, 'trn_control_loss': 0.01333264, 'trn_headings_loss': 0.00046445, 'trn_curvatures_loss': 0.00228672, 'consistency losses/trn_steer_cost': 0.00459732, 'consistency losses/trn_te_loss': 17.15441457, 'aux losses/trn_pitch_loss': 0.0934124, 'aux losses/trn_yaw_loss': 0.21514654, 'consistency losses/trn_%_updates_w_torque_delta_loss': 0.2421875, 'consistency losses/trn_torque_loss': 668.45226492, 'consistency losses/trn_torque_delta_loss': 5.55643299, 'logistical/max_param': 16.18940735, 'logistical/lr': 0.0001}\n",
      "{'logistical/obs_consumed_per_second': 234.0546875, 'logistical/obs_generated_per_second': 110.1171875, 'logistical/data_consumption_ratio': 2.12697042, 'logistical/manual_train_pause': 0.0, 'trn_control_loss': 0.01068914, 'trn_headings_loss': 0.00047665, 'trn_curvatures_loss': 0.00191379, 'consistency losses/trn_steer_cost': 0.00402123, 'consistency losses/trn_te_loss': 19.45045806, 'aux losses/trn_pitch_loss': 0.09865451, 'aux losses/trn_yaw_loss': 0.16373062, 'consistency losses/trn_%_updates_w_torque_delta_loss': 0.2265625, 'consistency losses/trn_torque_loss': 593.41056445, 'consistency losses/trn_torque_delta_loss': 5.77006142, 'logistical/max_param': 16.19267464, 'logistical/lr': 0.0001}\n",
      "{'logistical/obs_consumed_per_second': 232.65625, 'logistical/obs_generated_per_second': 105.9140625, 'logistical/data_consumption_ratio': 2.19886162, 'logistical/manual_train_pause': 0.0, 'trn_control_loss': 0.0077697, 'trn_headings_loss': 0.00033918, 'trn_curvatures_loss': 0.00144664, 'consistency losses/trn_steer_cost': 0.00317524, 'consistency losses/trn_te_loss': 18.90054746, 'aux losses/trn_pitch_loss': 0.09865057, 'aux losses/trn_yaw_loss': 0.16114128, 'consistency losses/trn_%_updates_w_torque_delta_loss': 0.203125, 'consistency losses/trn_torque_loss': 621.61295928, 'consistency losses/trn_torque_delta_loss': 6.97653466, 'logistical/max_param': 16.19208717, 'logistical/lr': 0.0001}\n",
      "{'logistical/obs_consumed_per_second': 235.8671875, 'logistical/obs_generated_per_second': 110.90625, 'logistical/data_consumption_ratio': 2.12796751, 'logistical/manual_train_pause': 0.0, 'trn_control_loss': 0.0110729, 'trn_headings_loss': 0.00041456, 'trn_curvatures_loss': 0.00184045, 'consistency losses/trn_steer_cost': 0.00423175, 'consistency losses/trn_te_loss': 17.73789693, 'aux losses/trn_pitch_loss': 0.11061454, 'aux losses/trn_yaw_loss': 0.19662094, 'consistency losses/trn_%_updates_w_torque_delta_loss': 0.21875, 'consistency losses/trn_torque_loss': 521.90272627, 'consistency losses/trn_torque_delta_loss': 6.32740877, 'logistical/max_param': 16.19140434, 'logistical/lr': 0.0001}\n",
      "{'logistical/obs_consumed_per_second': 227.5703125, 'logistical/obs_generated_per_second': 109.859375, 'logistical/data_consumption_ratio': 2.0733062, 'logistical/manual_train_pause': 0.0, 'trn_control_loss': 0.00925782, 'trn_headings_loss': 0.00033925, 'trn_curvatures_loss': 0.00136289, 'consistency losses/trn_steer_cost': 0.00283995, 'consistency losses/trn_te_loss': 20.54098995, 'aux losses/trn_pitch_loss': 0.09512544, 'aux losses/trn_yaw_loss': 0.12447453, 'consistency losses/trn_%_updates_w_torque_delta_loss': 0.1875, 'consistency losses/trn_torque_loss': 775.59574962, 'consistency losses/trn_torque_delta_loss': 7.1470089, 'logistical/max_param': 16.1912117, 'logistical/lr': 0.0001}\n",
      "{'logistical/obs_consumed_per_second': 147.0, 'logistical/obs_generated_per_second': 110.0, 'logistical/data_consumption_ratio': 1.34510653, 'logistical/manual_train_pause': 0.0}\n",
      "\n",
      "\n",
      " Eval...\n",
      "EPOCH 65\n",
      "\n",
      "{'trn_control_loss': 0.00838944, 'trn_headings_loss': 0.00033141, 'trn_curvatures_loss': 0.00166531, 'consistency losses/trn_steer_cost': 0.00403737, 'consistency losses/trn_te_loss': 17.84996669, 'aux losses/trn_pitch_loss': 0.08096111, 'aux losses/trn_yaw_loss': 0.14134312, 'consistency losses/trn_%_updates_w_torque_delta_loss': 0.15625, 'consistency losses/trn_torque_loss': 606.71406151, 'consistency losses/trn_torque_delta_loss': 5.23817961, 'logistical/obs_consumed_per_second': 236.8976378, 'logistical/obs_generated_per_second': 103.65354331, 'logistical/data_consumption_ratio': 2.28409596, 'logistical/manual_train_pause': 0.0, 'logistical/max_param': 16.18997383, 'logistical/lr': 0.0001}\n",
      "{'logistical/obs_consumed_per_second': 233.6171875, 'logistical/obs_generated_per_second': 102.5390625, 'logistical/data_consumption_ratio': 2.27968264, 'logistical/manual_train_pause': 0.0, 'trn_control_loss': 0.00723299, 'trn_headings_loss': 0.00031507, 'trn_curvatures_loss': 0.001399, 'consistency losses/trn_steer_cost': 0.00340765, 'consistency losses/trn_te_loss': 19.20508921, 'aux losses/trn_pitch_loss': 0.09038603, 'aux losses/trn_yaw_loss': 0.14449382, 'consistency losses/trn_%_updates_w_torque_delta_loss': 0.2421875, 'consistency losses/trn_torque_loss': 555.05972098, 'consistency losses/trn_torque_delta_loss': 8.16723953, 'logistical/max_param': 16.18849373, 'logistical/lr': 0.0001}\n"
     ]
    },
    {
     "name": "stdout",
     "output_type": "stream",
     "text": [
      "{'logistical/obs_consumed_per_second': 223.578125, 'logistical/obs_generated_per_second': 103.8984375, 'logistical/data_consumption_ratio': 2.15535797, 'logistical/manual_train_pause': 0.0, 'trn_control_loss': 0.01301128, 'trn_headings_loss': 0.00052293, 'trn_curvatures_loss': 0.00211935, 'consistency losses/trn_steer_cost': 0.00408545, 'consistency losses/trn_te_loss': 18.28395197, 'aux losses/trn_pitch_loss': 0.1001668, 'aux losses/trn_yaw_loss': 0.20403814, 'consistency losses/trn_%_updates_w_torque_delta_loss': 0.296875, 'consistency losses/trn_torque_loss': 589.4606709, 'consistency losses/trn_torque_delta_loss': 7.27189309, 'logistical/max_param': 16.18839455, 'logistical/lr': 0.0001}\n",
      "{'logistical/obs_consumed_per_second': 234.625, 'logistical/obs_generated_per_second': 109.09375, 'logistical/data_consumption_ratio': 2.1508625, 'logistical/manual_train_pause': 0.0, 'trn_control_loss': 0.00948249, 'trn_headings_loss': 0.00036044, 'trn_curvatures_loss': 0.00139405, 'consistency losses/trn_steer_cost': 0.00349625, 'consistency losses/trn_te_loss': 18.71875164, 'aux losses/trn_pitch_loss': 0.09729028, 'aux losses/trn_yaw_loss': 0.09831858, 'consistency losses/trn_%_updates_w_torque_delta_loss': 0.1953125, 'consistency losses/trn_torque_loss': 776.35603346, 'consistency losses/trn_torque_delta_loss': 6.20066793, 'logistical/max_param': 16.18525696, 'logistical/lr': 0.0001}\n",
      "{'logistical/obs_consumed_per_second': 231.46875, 'logistical/obs_generated_per_second': 102.6328125, 'logistical/data_consumption_ratio': 2.25650865, 'logistical/manual_train_pause': 0.0, 'trn_control_loss': 0.00674179, 'trn_headings_loss': 0.00031237, 'trn_curvatures_loss': 0.00116178, 'consistency losses/trn_steer_cost': 0.00278331, 'consistency losses/trn_te_loss': 18.93923909, 'aux losses/trn_pitch_loss': 0.10231018, 'aux losses/trn_yaw_loss': 0.13646698, 'consistency losses/trn_%_updates_w_torque_delta_loss': 0.2421875, 'consistency losses/trn_torque_loss': 649.0442574, 'consistency losses/trn_torque_delta_loss': 5.44790769, 'logistical/max_param': 16.1844101, 'logistical/lr': 0.0001}\n",
      "{'logistical/obs_consumed_per_second': 228.8671875, 'logistical/obs_generated_per_second': 100.1171875, 'logistical/data_consumption_ratio': 2.28543319, 'logistical/manual_train_pause': 0.0, 'trn_control_loss': 0.00742538, 'trn_headings_loss': 0.00028774, 'trn_curvatures_loss': 0.00114724, 'consistency losses/trn_steer_cost': 0.00294548, 'consistency losses/trn_te_loss': 18.75248169, 'aux losses/trn_pitch_loss': 0.09891701, 'aux losses/trn_yaw_loss': 0.12678218, 'consistency losses/trn_%_updates_w_torque_delta_loss': 0.3671875, 'consistency losses/trn_torque_loss': 639.83298465, 'consistency losses/trn_torque_delta_loss': 6.25063436, 'logistical/max_param': 16.18477631, 'logistical/lr': 0.0001}\n",
      "{'logistical/obs_consumed_per_second': 232.265625, 'logistical/obs_generated_per_second': 98.265625, 'logistical/data_consumption_ratio': 2.37468783, 'logistical/manual_train_pause': 0.00085938, 'trn_control_loss': 0.00722371, 'trn_headings_loss': 0.00032563, 'trn_curvatures_loss': 0.00139668, 'consistency losses/trn_steer_cost': 0.0028809, 'consistency losses/trn_te_loss': 18.89639359, 'aux losses/trn_pitch_loss': 0.09232092, 'aux losses/trn_yaw_loss': 0.13153768, 'consistency losses/trn_%_updates_w_torque_delta_loss': 0.25, 'consistency losses/trn_torque_loss': 586.57377939, 'consistency losses/trn_torque_delta_loss': 6.92884297, 'logistical/max_param': 16.18422508, 'logistical/lr': 0.0001}\n",
      "{'logistical/obs_consumed_per_second': 230.6796875, 'logistical/obs_generated_per_second': 99.1328125, 'logistical/data_consumption_ratio': 2.32707835, 'logistical/manual_train_pause': 0.00023438, 'trn_control_loss': 0.00869751, 'trn_headings_loss': 0.00039086, 'trn_curvatures_loss': 0.00168451, 'consistency losses/trn_steer_cost': 0.00363135, 'consistency losses/trn_te_loss': 17.66188864, 'aux losses/trn_pitch_loss': 0.07610404, 'aux losses/trn_yaw_loss': 0.16730666, 'consistency losses/trn_%_updates_w_torque_delta_loss': 0.234375, 'consistency losses/trn_torque_loss': 676.90047288, 'consistency losses/trn_torque_delta_loss': 5.22384611, 'logistical/max_param': 16.18263626, 'logistical/lr': 0.0001}\n",
      "{'logistical/obs_consumed_per_second': 231.1328125, 'logistical/obs_generated_per_second': 103.640625, 'logistical/data_consumption_ratio': 2.23743855, 'logistical/manual_train_pause': 0.0, 'trn_control_loss': 0.00656314, 'trn_headings_loss': 0.00031164, 'trn_curvatures_loss': 0.00116116, 'consistency losses/trn_steer_cost': 0.0025027, 'consistency losses/trn_te_loss': 20.19835828, 'aux losses/trn_pitch_loss': 0.06908727, 'aux losses/trn_yaw_loss': 0.10914588, 'consistency losses/trn_%_updates_w_torque_delta_loss': 0.21875, 'consistency losses/trn_torque_loss': 484.77033337, 'consistency losses/trn_torque_delta_loss': 6.90222695, 'logistical/max_param': 16.18253899, 'logistical/lr': 0.0001}\n",
      "{'logistical/obs_consumed_per_second': 235.3125, 'logistical/obs_generated_per_second': 99.4765625, 'logistical/data_consumption_ratio': 2.36743425, 'logistical/manual_train_pause': 0.00023438, 'trn_control_loss': 0.0067852, 'trn_headings_loss': 0.00029677, 'trn_curvatures_loss': 0.00110681, 'consistency losses/trn_steer_cost': 0.00261882, 'consistency losses/trn_te_loss': 18.74002291, 'aux losses/trn_pitch_loss': 0.09000421, 'aux losses/trn_yaw_loss': 0.11008525, 'consistency losses/trn_%_updates_w_torque_delta_loss': 0.140625, 'consistency losses/trn_torque_loss': 613.52011269, 'consistency losses/trn_torque_delta_loss': 5.22124367, 'logistical/max_param': 16.1832428, 'logistical/lr': 0.0001}\n",
      "{'logistical/obs_consumed_per_second': 198.0, 'logistical/obs_generated_per_second': 102.0, 'logistical/data_consumption_ratio': 1.93142329, 'logistical/manual_train_pause': 0.0}\n",
      "\n",
      "\n",
      " Eval...\n",
      "EPOCH 66\n",
      "\n",
      "{'trn_control_loss': 0.00808299, 'trn_headings_loss': 0.00034519, 'trn_curvatures_loss': 0.00166134, 'consistency losses/trn_steer_cost': 0.00358824, 'consistency losses/trn_te_loss': 19.52621365, 'aux losses/trn_pitch_loss': 0.09342766, 'aux losses/trn_yaw_loss': 0.13205314, 'consistency losses/trn_%_updates_w_torque_delta_loss': 0.2421875, 'consistency losses/trn_torque_loss': 793.47318283, 'consistency losses/trn_torque_delta_loss': 5.97181291, 'logistical/obs_consumed_per_second': 232.8503937, 'logistical/obs_generated_per_second': 105.38582677, 'logistical/data_consumption_ratio': 2.21121711, 'logistical/manual_train_pause': 0.0, 'logistical/max_param': 16.18280602, 'logistical/lr': 0.0001}\n",
      "{'logistical/obs_consumed_per_second': 236.3828125, 'logistical/obs_generated_per_second': 102.3671875, 'logistical/data_consumption_ratio': 2.31022297, 'logistical/manual_train_pause': 0.0, 'trn_control_loss': 0.00975147, 'trn_headings_loss': 0.000391, 'trn_curvatures_loss': 0.00155419, 'consistency losses/trn_steer_cost': 0.00321636, 'consistency losses/trn_te_loss': 18.28557885, 'aux losses/trn_pitch_loss': 0.0851593, 'aux losses/trn_yaw_loss': 0.14906693, 'consistency losses/trn_%_updates_w_torque_delta_loss': 0.2890625, 'consistency losses/trn_torque_loss': 616.35280006, 'consistency losses/trn_torque_delta_loss': 6.03042083, 'logistical/max_param': 16.18533707, 'logistical/lr': 0.0001}\n",
      "{'logistical/obs_consumed_per_second': 236.296875, 'logistical/obs_generated_per_second': 98.8359375, 'logistical/data_consumption_ratio': 2.39699524, 'logistical/manual_train_pause': 0.0003125, 'trn_control_loss': 0.0125173, 'trn_headings_loss': 0.00049129, 'trn_curvatures_loss': 0.0019786, 'consistency losses/trn_steer_cost': 0.00417873, 'consistency losses/trn_te_loss': 17.40582173, 'aux losses/trn_pitch_loss': 0.12055683, 'aux losses/trn_yaw_loss': 0.1702733, 'consistency losses/trn_%_updates_w_torque_delta_loss': 0.3125, 'consistency losses/trn_torque_loss': 628.07719461, 'consistency losses/trn_torque_delta_loss': 6.78602445, 'logistical/max_param': 16.18462181, 'logistical/lr': 0.0001}\n",
      "{'logistical/obs_consumed_per_second': 235.21875, 'logistical/obs_generated_per_second': 99.078125, 'logistical/data_consumption_ratio': 2.37657271, 'logistical/manual_train_pause': 0.00054688, 'trn_control_loss': 0.00756173, 'trn_headings_loss': 0.00028528, 'trn_curvatures_loss': 0.00117882, 'consistency losses/trn_steer_cost': 0.00297249, 'consistency losses/trn_te_loss': 19.52511688, 'aux losses/trn_pitch_loss': 0.08918142, 'aux losses/trn_yaw_loss': 0.11701798, 'consistency losses/trn_%_updates_w_torque_delta_loss': 0.2734375, 'consistency losses/trn_torque_loss': 684.13201764, 'consistency losses/trn_torque_delta_loss': 7.57951535, 'logistical/max_param': 16.18422127, 'logistical/lr': 0.0001}\n"
     ]
    },
    {
     "name": "stdout",
     "output_type": "stream",
     "text": [
      "{'logistical/obs_consumed_per_second': 230.78125, 'logistical/obs_generated_per_second': 96.7578125, 'logistical/data_consumption_ratio': 2.38620429, 'logistical/manual_train_pause': 0.00148438, 'trn_control_loss': 0.00831062, 'trn_headings_loss': 0.00032624, 'trn_curvatures_loss': 0.00115609, 'consistency losses/trn_steer_cost': 0.00247076, 'consistency losses/trn_te_loss': 19.07455549, 'aux losses/trn_pitch_loss': 0.08837795, 'aux losses/trn_yaw_loss': 0.11374521, 'consistency losses/trn_%_updates_w_torque_delta_loss': 0.2421875, 'consistency losses/trn_torque_loss': 629.10323114, 'consistency losses/trn_torque_delta_loss': 6.42926301, 'logistical/max_param': 16.18722916, 'logistical/lr': 0.0001}\n",
      "{'logistical/obs_consumed_per_second': 231.796875, 'logistical/obs_generated_per_second': 104.4765625, 'logistical/data_consumption_ratio': 2.22178977, 'logistical/manual_train_pause': 7.812e-05, 'trn_control_loss': 0.00642343, 'trn_headings_loss': 0.0002779, 'trn_curvatures_loss': 0.00102544, 'consistency losses/trn_steer_cost': 0.00284382, 'consistency losses/trn_te_loss': 18.67848407, 'aux losses/trn_pitch_loss': 0.0930481, 'aux losses/trn_yaw_loss': 0.10261178, 'consistency losses/trn_%_updates_w_torque_delta_loss': 0.3046875, 'consistency losses/trn_torque_loss': 622.04648732, 'consistency losses/trn_torque_delta_loss': 7.94928657, 'logistical/max_param': 16.18736839, 'logistical/lr': 0.0001}\n",
      "{'logistical/obs_consumed_per_second': 234.3828125, 'logistical/obs_generated_per_second': 101.0859375, 'logistical/data_consumption_ratio': 2.32827253, 'logistical/manual_train_pause': 0.00023438, 'trn_control_loss': 0.00804441, 'trn_headings_loss': 0.00030642, 'trn_curvatures_loss': 0.00115714, 'consistency losses/trn_steer_cost': 0.00272135, 'consistency losses/trn_te_loss': 19.80785221, 'aux losses/trn_pitch_loss': 0.09187841, 'aux losses/trn_yaw_loss': 0.10870802, 'consistency losses/trn_%_updates_w_torque_delta_loss': 0.2265625, 'consistency losses/trn_torque_delta_loss': 5.72057059, 'consistency losses/trn_torque_loss': 636.2386528, 'logistical/max_param': 16.18638611, 'logistical/lr': 0.0001}\n",
      "{'logistical/obs_consumed_per_second': 239.046875, 'logistical/obs_generated_per_second': 95.921875, 'logistical/data_consumption_ratio': 2.49364481, 'logistical/manual_train_pause': 0.00148438, 'trn_control_loss': 0.007388, 'trn_headings_loss': 0.00031166, 'trn_curvatures_loss': 0.00112914, 'consistency losses/trn_steer_cost': 0.00281633, 'consistency losses/trn_te_loss': 18.75574216, 'aux losses/trn_pitch_loss': 0.08626938, 'aux losses/trn_yaw_loss': 0.12797046, 'consistency losses/trn_%_updates_w_torque_delta_loss': 0.296875, 'consistency losses/trn_torque_loss': 615.1684696, 'consistency losses/trn_torque_delta_loss': 6.63751669, 'logistical/max_param': 16.18572235, 'logistical/lr': 0.0001}\n",
      "{'logistical/obs_consumed_per_second': 236.828125, 'logistical/obs_generated_per_second': 92.40625, 'logistical/data_consumption_ratio': 2.56690224, 'logistical/manual_train_pause': 0.00304688, 'trn_control_loss': 0.00801802, 'trn_headings_loss': 0.0002968, 'trn_curvatures_loss': 0.00122159, 'consistency losses/trn_steer_cost': 0.0030321, 'consistency losses/trn_te_loss': 18.61451132, 'aux losses/trn_pitch_loss': 0.0770185, 'aux losses/trn_yaw_loss': 0.14477706, 'consistency losses/trn_%_updates_w_torque_delta_loss': 0.2578125, 'consistency losses/trn_torque_loss': 629.78398269, 'consistency losses/trn_torque_delta_loss': 7.70028329, 'logistical/max_param': 16.18440628, 'logistical/lr': 0.0001}\n",
      "{'logistical/obs_consumed_per_second': 233.359375, 'logistical/obs_generated_per_second': 106.6328125, 'logistical/data_consumption_ratio': 2.19089933, 'logistical/manual_train_pause': 7.812e-05, 'trn_control_loss': 0.00812736, 'trn_headings_loss': 0.00036252, 'trn_curvatures_loss': 0.00141807, 'consistency losses/trn_steer_cost': 0.00285282, 'consistency losses/trn_te_loss': 17.95702684, 'aux losses/trn_pitch_loss': 0.09330726, 'aux losses/trn_yaw_loss': 0.14653182, 'consistency losses/trn_%_updates_w_torque_delta_loss': 0.1875, 'consistency losses/trn_torque_loss': 517.18683273, 'consistency losses/trn_torque_delta_loss': 5.35766585, 'logistical/max_param': 16.18356705, 'logistical/lr': 0.0001}\n",
      "{'logistical/obs_consumed_per_second': 178.0, 'logistical/obs_generated_per_second': 110.0, 'logistical/data_consumption_ratio': 1.61187627, 'logistical/manual_train_pause': 0.0}\n",
      "\n",
      "\n",
      " Eval...\n",
      "EPOCH 67\n",
      "\n",
      "{'trn_control_loss': 0.00666359, 'trn_headings_loss': 0.00030208, 'trn_curvatures_loss': 0.00117488, 'consistency losses/trn_steer_cost': 0.00240832, 'consistency losses/trn_te_loss': 19.07392514, 'aux losses/trn_pitch_loss': 0.07918143, 'aux losses/trn_yaw_loss': 0.11280704, 'consistency losses/trn_%_updates_w_torque_delta_loss': 0.1171875, 'consistency losses/trn_torque_loss': 576.14616591, 'consistency losses/trn_torque_delta_loss': 8.65994999, 'logistical/obs_consumed_per_second': 237.65354331, 'logistical/obs_generated_per_second': 106.72440945, 'logistical/data_consumption_ratio': 2.22756028, 'logistical/manual_train_pause': 0.0, 'logistical/max_param': 16.18471718, 'logistical/lr': 0.0001}\n",
      "{'logistical/obs_consumed_per_second': 236.1796875, 'logistical/obs_generated_per_second': 100.625, 'logistical/data_consumption_ratio': 2.34874835, 'logistical/manual_train_pause': 0.00015625, 'trn_control_loss': 0.01050602, 'trn_headings_loss': 0.0003906, 'trn_curvatures_loss': 0.00142912, 'consistency losses/trn_steer_cost': 0.00334662, 'consistency losses/trn_te_loss': 18.51843484, 'aux losses/trn_pitch_loss': 0.09483278, 'aux losses/trn_yaw_loss': 0.13979721, 'consistency losses/trn_%_updates_w_torque_delta_loss': 0.3359375, 'consistency losses/trn_torque_loss': 589.19446658, 'consistency losses/trn_torque_delta_loss': 6.09021562, 'logistical/max_param': 16.18440628, 'logistical/lr': 0.0001}\n",
      "{'logistical/obs_consumed_per_second': 228.8359375, 'logistical/obs_generated_per_second': 105.7265625, 'logistical/data_consumption_ratio': 2.16426929, 'logistical/manual_train_pause': 0.0, 'trn_control_loss': 0.00793433, 'trn_headings_loss': 0.00035179, 'trn_curvatures_loss': 0.00121874, 'consistency losses/trn_steer_cost': 0.00236325, 'consistency losses/trn_te_loss': 19.61020349, 'aux losses/trn_pitch_loss': 0.096946, 'aux losses/trn_yaw_loss': 0.1088357, 'consistency losses/trn_%_updates_w_torque_delta_loss': 0.265625, 'consistency losses/trn_torque_loss': 741.05947659, 'consistency losses/trn_torque_delta_loss': 6.6216266, 'logistical/max_param': 16.18511391, 'logistical/lr': 0.0001}\n",
      "{'logistical/obs_consumed_per_second': 232.9765625, 'logistical/obs_generated_per_second': 105.6171875, 'logistical/data_consumption_ratio': 2.20480256, 'logistical/manual_train_pause': 0.0, 'trn_control_loss': 0.00764857, 'trn_headings_loss': 0.00031432, 'trn_curvatures_loss': 0.00121222, 'consistency losses/trn_steer_cost': 0.0026255, 'consistency losses/trn_te_loss': 19.20216763, 'aux losses/trn_pitch_loss': 0.07712018, 'aux losses/trn_yaw_loss': 0.10915828, 'consistency losses/trn_%_updates_w_torque_delta_loss': 0.3515625, 'consistency losses/trn_torque_loss': 638.31284095, 'consistency losses/trn_torque_delta_loss': 7.74949253, 'logistical/max_param': 16.18425751, 'logistical/lr': 0.0001}\n",
      "{'logistical/obs_consumed_per_second': 232.109375, 'logistical/obs_generated_per_second': 105.390625, 'logistical/data_consumption_ratio': 2.20065667, 'logistical/manual_train_pause': 0.0, 'trn_control_loss': 0.01072443, 'trn_headings_loss': 0.00035304, 'trn_curvatures_loss': 0.00157689, 'consistency losses/trn_steer_cost': 0.00372244, 'consistency losses/trn_te_loss': 18.71919058, 'aux losses/trn_pitch_loss': 0.08659196, 'aux losses/trn_yaw_loss': 0.17806387, 'consistency losses/trn_%_updates_w_torque_delta_loss': 0.2734375, 'consistency losses/trn_torque_loss': 558.6389162, 'consistency losses/trn_torque_delta_loss': 5.38751283, 'logistical/max_param': 16.18637085, 'logistical/lr': 0.0001}\n",
      "{'logistical/obs_consumed_per_second': 225.640625, 'logistical/obs_generated_per_second': 111.4140625, 'logistical/data_consumption_ratio': 2.0255644, 'logistical/manual_train_pause': 0.0, 'trn_control_loss': 0.0135003, 'trn_headings_loss': 0.00046751, 'trn_curvatures_loss': 0.00158037, 'consistency losses/trn_steer_cost': 0.00282164, 'consistency losses/trn_te_loss': 18.79711259, 'aux losses/trn_pitch_loss': 0.09165096, 'aux losses/trn_yaw_loss': 0.12607646, 'consistency losses/trn_%_updates_w_torque_delta_loss': 0.28125, 'consistency losses/trn_torque_loss': 509.16847905, 'consistency losses/trn_torque_delta_loss': 6.47452324, 'logistical/max_param': 16.18484688, 'logistical/lr': 0.0001}\n"
     ]
    },
    {
     "name": "stdout",
     "output_type": "stream",
     "text": [
      "{'logistical/obs_consumed_per_second': 237.015625, 'logistical/obs_generated_per_second': 101.7890625, 'logistical/data_consumption_ratio': 2.33167671, 'logistical/manual_train_pause': 0.00023438, 'trn_control_loss': 0.00767219, 'trn_headings_loss': 0.00032887, 'trn_curvatures_loss': 0.00109006, 'consistency losses/trn_steer_cost': 0.0026694, 'consistency losses/trn_te_loss': 19.288459, 'aux losses/trn_pitch_loss': 0.08580554, 'aux losses/trn_yaw_loss': 0.0937711, 'consistency losses/trn_%_updates_w_torque_delta_loss': 0.1875, 'consistency losses/trn_torque_loss': 787.48752664, 'consistency losses/trn_torque_delta_loss': 5.70926723, 'logistical/max_param': 16.18362999, 'logistical/lr': 0.0001}\n",
      "{'logistical/obs_consumed_per_second': 230.6171875, 'logistical/obs_generated_per_second': 100.734375, 'logistical/data_consumption_ratio': 2.28748651, 'logistical/manual_train_pause': 0.0, 'trn_control_loss': 0.00572179, 'trn_headings_loss': 0.00025542, 'trn_curvatures_loss': 0.00098751, 'consistency losses/trn_steer_cost': 0.00260259, 'consistency losses/trn_te_loss': 18.63309097, 'aux losses/trn_pitch_loss': 0.07592452, 'aux losses/trn_yaw_loss': 0.09570599, 'consistency losses/trn_%_updates_w_torque_delta_loss': 0.25, 'consistency losses/trn_torque_loss': 592.67218886, 'consistency losses/trn_torque_delta_loss': 6.71755952, 'logistical/max_param': 16.18367004, 'logistical/lr': 0.0001}\n",
      "{'logistical/obs_consumed_per_second': 233.515625, 'logistical/obs_generated_per_second': 104.6015625, 'logistical/data_consumption_ratio': 2.23612087, 'logistical/manual_train_pause': 0.0, 'trn_control_loss': 0.00855964, 'trn_headings_loss': 0.00034794, 'trn_curvatures_loss': 0.0014015, 'consistency losses/trn_steer_cost': 0.00340883, 'consistency losses/trn_te_loss': 18.1027967, 'aux losses/trn_pitch_loss': 0.11963105, 'aux losses/trn_yaw_loss': 0.13190413, 'consistency losses/trn_%_updates_w_torque_delta_loss': 0.234375, 'consistency losses/trn_torque_loss': 656.29901189, 'consistency losses/trn_torque_delta_loss': 5.37560399, 'logistical/max_param': 16.18577766, 'logistical/lr': 0.0001}\n",
      "{'logistical/obs_consumed_per_second': 233.0703125, 'logistical/obs_generated_per_second': 100.515625, 'logistical/data_consumption_ratio': 2.32205411, 'logistical/manual_train_pause': 0.0, 'trn_control_loss': 0.01116014, 'trn_headings_loss': 0.00037216, 'trn_curvatures_loss': 0.00132361, 'consistency losses/trn_steer_cost': 0.00334624, 'consistency losses/trn_te_loss': 17.95177387, 'aux losses/trn_pitch_loss': 0.09529567, 'aux losses/trn_yaw_loss': 0.13539481, 'consistency losses/trn_%_updates_w_torque_delta_loss': 0.1875, 'consistency losses/trn_torque_loss': 456.68781625, 'consistency losses/trn_torque_delta_loss': 6.70851001, 'logistical/max_param': 16.1866684, 'logistical/lr': 0.0001}\n",
      "{'logistical/obs_consumed_per_second': 137.0, 'logistical/obs_generated_per_second': 100.0, 'logistical/data_consumption_ratio': 1.3705687, 'logistical/manual_train_pause': 0.0}\n",
      "\n",
      "\n",
      " Eval...\n",
      "EPOCH 68\n",
      "\n",
      "{'trn_control_loss': 0.00799011, 'trn_headings_loss': 0.00035806, 'trn_curvatures_loss': 0.00121317, 'consistency losses/trn_steer_cost': 0.00255821, 'consistency losses/trn_te_loss': 19.11713415, 'aux losses/trn_pitch_loss': 0.09091139, 'aux losses/trn_yaw_loss': 0.1323781, 'consistency losses/trn_%_updates_w_torque_delta_loss': 0.2421875, 'consistency losses/trn_torque_loss': 635.88995254, 'consistency losses/trn_torque_delta_loss': 6.50902024, 'logistical/obs_consumed_per_second': 229.75590551, 'logistical/obs_generated_per_second': 102.81102362, 'logistical/data_consumption_ratio': 2.24229887, 'logistical/manual_train_pause': 0.00015748, 'logistical/max_param': 16.18663406, 'logistical/lr': 0.0001}\n",
      "{'logistical/obs_consumed_per_second': 236.6875, 'logistical/obs_generated_per_second': 105.1484375, 'logistical/data_consumption_ratio': 2.25181785, 'logistical/manual_train_pause': 0.0, 'trn_control_loss': 0.01302153, 'trn_headings_loss': 0.00041568, 'trn_curvatures_loss': 0.00169412, 'consistency losses/trn_steer_cost': 0.00328921, 'consistency losses/trn_te_loss': 18.69070996, 'aux losses/trn_pitch_loss': 0.10151482, 'aux losses/trn_yaw_loss': 0.14410377, 'consistency losses/trn_%_updates_w_torque_delta_loss': 0.265625, 'consistency losses/trn_torque_loss': 637.23582845, 'consistency losses/trn_torque_delta_loss': 7.40063451, 'logistical/max_param': 16.18931961, 'logistical/lr': 0.0001}\n",
      "{'logistical/obs_consumed_per_second': 237.953125, 'logistical/obs_generated_per_second': 102.1484375, 'logistical/data_consumption_ratio': 2.32948147, 'logistical/manual_train_pause': 7.812e-05, 'trn_control_loss': 0.0120163, 'trn_headings_loss': 0.00045394, 'trn_curvatures_loss': 0.00217226, 'consistency losses/trn_steer_cost': 0.00479932, 'consistency losses/trn_te_loss': 18.34857251, 'aux losses/trn_pitch_loss': 0.09485054, 'aux losses/trn_yaw_loss': 0.15006971, 'consistency losses/trn_%_updates_w_torque_delta_loss': 0.2578125, 'consistency losses/trn_torque_loss': 673.57034428, 'consistency losses/trn_torque_delta_loss': 7.68253682, 'logistical/max_param': 16.18917847, 'logistical/lr': 0.0001}\n",
      "{'logistical/obs_consumed_per_second': 235.15625, 'logistical/obs_generated_per_second': 101.171875, 'logistical/data_consumption_ratio': 2.32315424, 'logistical/manual_train_pause': 0.0, 'trn_control_loss': 0.00786504, 'trn_headings_loss': 0.00032293, 'trn_curvatures_loss': 0.00121587, 'consistency losses/trn_steer_cost': 0.00278848, 'consistency losses/trn_te_loss': 18.64306055, 'aux losses/trn_pitch_loss': 0.08684731, 'aux losses/trn_yaw_loss': 0.12328076, 'consistency losses/trn_%_updates_w_torque_delta_loss': 0.21875, 'consistency losses/trn_torque_delta_loss': 6.1149766, 'consistency losses/trn_torque_loss': 620.4756743, 'logistical/max_param': 16.18930435, 'logistical/lr': 0.0001}\n",
      "{'logistical/obs_consumed_per_second': 236.171875, 'logistical/obs_generated_per_second': 102.7109375, 'logistical/data_consumption_ratio': 2.29776414, 'logistical/manual_train_pause': 0.0, 'trn_control_loss': 0.00793971, 'trn_headings_loss': 0.00030424, 'trn_curvatures_loss': 0.00121119, 'consistency losses/trn_steer_cost': 0.00260294, 'consistency losses/trn_te_loss': 19.00047873, 'aux losses/trn_pitch_loss': 0.0965395, 'aux losses/trn_yaw_loss': 0.13032174, 'consistency losses/trn_%_updates_w_torque_delta_loss': 0.21875, 'consistency losses/trn_torque_loss': 567.06689397, 'consistency losses/trn_torque_delta_loss': 5.29679583, 'logistical/max_param': 16.18898773, 'logistical/lr': 0.0001}\n",
      "{'logistical/obs_consumed_per_second': 233.890625, 'logistical/obs_generated_per_second': 101.734375, 'logistical/data_consumption_ratio': 2.29628458, 'logistical/manual_train_pause': 0.0, 'trn_control_loss': 0.01171538, 'trn_headings_loss': 0.00044333, 'trn_curvatures_loss': 0.00198181, 'consistency losses/trn_steer_cost': 0.00404112, 'consistency losses/trn_te_loss': 18.54142027, 'aux losses/trn_pitch_loss': 0.09756565, 'aux losses/trn_yaw_loss': 0.15214229, 'consistency losses/trn_%_updates_w_torque_delta_loss': 0.203125, 'consistency losses/trn_torque_loss': 663.79039125, 'consistency losses/trn_torque_delta_loss': 5.5016757, 'logistical/max_param': 16.18985939, 'logistical/lr': 0.0001}\n",
      "{'logistical/obs_consumed_per_second': 232.90625, 'logistical/obs_generated_per_second': 108.7265625, 'logistical/data_consumption_ratio': 2.14123882, 'logistical/manual_train_pause': 0.0, 'trn_control_loss': 0.00875287, 'trn_headings_loss': 0.00032973, 'trn_curvatures_loss': 0.00119358, 'consistency losses/trn_steer_cost': 0.00269841, 'consistency losses/trn_te_loss': 18.44571863, 'aux losses/trn_pitch_loss': 0.07264364, 'aux losses/trn_yaw_loss': 0.11563373, 'consistency losses/trn_%_updates_w_torque_delta_loss': 0.109375, 'consistency losses/trn_torque_loss': 569.87108658, 'consistency losses/trn_torque_delta_loss': 6.18294421, 'logistical/max_param': 16.18578339, 'logistical/lr': 0.0001}\n",
      "{'logistical/obs_consumed_per_second': 233.6953125, 'logistical/obs_generated_per_second': 104.8125, 'logistical/data_consumption_ratio': 2.23366421, 'logistical/manual_train_pause': 0.0, 'trn_control_loss': 0.01358274, 'trn_headings_loss': 0.00051102, 'trn_curvatures_loss': 0.00203151, 'consistency losses/trn_steer_cost': 0.00427175, 'consistency losses/trn_te_loss': 18.72284248, 'aux losses/trn_pitch_loss': 0.08468223, 'aux losses/trn_yaw_loss': 0.13661242, 'consistency losses/trn_%_updates_w_torque_delta_loss': 0.1640625, 'consistency losses/trn_torque_loss': 487.29422633, 'consistency losses/trn_torque_delta_loss': 5.67380956, 'logistical/max_param': 16.18732452, 'logistical/lr': 0.0001}\n"
     ]
    },
    {
     "name": "stdout",
     "output_type": "stream",
     "text": [
      "{'logistical/obs_consumed_per_second': 229.015625, 'logistical/obs_generated_per_second': 101.84375, 'logistical/data_consumption_ratio': 2.25508553, 'logistical/manual_train_pause': 0.0, 'trn_control_loss': 0.00931337, 'trn_headings_loss': 0.00036976, 'trn_curvatures_loss': 0.00131957, 'consistency losses/trn_steer_cost': 0.00334482, 'consistency losses/trn_te_loss': 18.1284281, 'aux losses/trn_pitch_loss': 0.07965887, 'aux losses/trn_yaw_loss': 0.13489389, 'consistency losses/trn_%_updates_w_torque_delta_loss': 0.2890625, 'consistency losses/trn_torque_loss': 661.83124927, 'consistency losses/trn_torque_delta_loss': 7.39676686, 'logistical/max_param': 16.18844986, 'logistical/lr': 0.0001}\n",
      "{'logistical/obs_consumed_per_second': 235.453125, 'logistical/obs_generated_per_second': 108.109375, 'logistical/data_consumption_ratio': 2.18094428, 'logistical/manual_train_pause': 0.0, 'trn_control_loss': 0.0105519, 'trn_headings_loss': 0.00041584, 'trn_curvatures_loss': 0.00133619, 'consistency losses/trn_steer_cost': 0.00269443, 'consistency losses/trn_te_loss': 19.29982984, 'aux losses/trn_pitch_loss': 0.09720683, 'aux losses/trn_yaw_loss': 0.12566948, 'consistency losses/trn_%_updates_w_torque_delta_loss': 0.2109375, 'consistency losses/trn_torque_loss': 600.71773895, 'consistency losses/trn_torque_delta_loss': 6.94449404, 'logistical/max_param': 16.19002533, 'logistical/lr': 0.0001}\n",
      "{'logistical/obs_consumed_per_second': 141.0, 'logistical/obs_generated_per_second': 101.0, 'logistical/data_consumption_ratio': 1.39900178, 'logistical/manual_train_pause': 0.0}\n",
      "\n",
      "\n",
      " Eval...\n",
      "EPOCH 69\n",
      "\n",
      "{'trn_control_loss': 0.01141304, 'trn_headings_loss': 0.00039337, 'trn_curvatures_loss': 0.00143689, 'consistency losses/trn_steer_cost': 0.00295833, 'consistency losses/trn_te_loss': 18.74035878, 'aux losses/trn_pitch_loss': 0.08441901, 'aux losses/trn_yaw_loss': 0.10307932, 'consistency losses/trn_%_updates_w_torque_delta_loss': 0.21875, 'consistency losses/trn_torque_loss': 571.42146438, 'logistical/obs_consumed_per_second': 232.68503937, 'logistical/obs_generated_per_second': 102.37795276, 'logistical/data_consumption_ratio': 2.2741903, 'logistical/manual_train_pause': 0.0, 'consistency losses/trn_torque_delta_loss': 5.78327015, 'logistical/max_param': 16.19272232, 'logistical/lr': 0.0001}\n",
      "{'logistical/obs_consumed_per_second': 229.609375, 'logistical/obs_generated_per_second': 105.65625, 'logistical/data_consumption_ratio': 2.17405327, 'logistical/manual_train_pause': 0.0, 'trn_control_loss': 0.00931358, 'trn_headings_loss': 0.00039749, 'trn_curvatures_loss': 0.00155473, 'consistency losses/trn_steer_cost': 0.00312748, 'consistency losses/trn_te_loss': 18.17639781, 'aux losses/trn_pitch_loss': 0.09091043, 'aux losses/trn_yaw_loss': 0.13892841, 'consistency losses/trn_%_updates_w_torque_delta_loss': 0.3515625, 'consistency losses/trn_torque_loss': 719.26765269, 'consistency losses/trn_torque_delta_loss': 7.02359931, 'logistical/max_param': 16.19231415, 'logistical/lr': 0.0001}\n",
      "{'logistical/obs_consumed_per_second': 240.7578125, 'logistical/obs_generated_per_second': 106.484375, 'logistical/data_consumption_ratio': 2.26296486, 'logistical/manual_train_pause': 0.0, 'trn_control_loss': 0.0073276, 'trn_headings_loss': 0.00031537, 'trn_curvatures_loss': 0.00108273, 'consistency losses/trn_steer_cost': 0.00256768, 'consistency losses/trn_te_loss': 18.83071858, 'aux losses/trn_pitch_loss': 0.07258487, 'aux losses/trn_yaw_loss': 0.12052441, 'consistency losses/trn_%_updates_w_torque_delta_loss': 0.21875, 'consistency losses/trn_torque_loss': 500.79787314, 'consistency losses/trn_torque_delta_loss': 6.2232058, 'logistical/max_param': 16.19151115, 'logistical/lr': 0.0001}\n",
      "{'logistical/obs_consumed_per_second': 227.8359375, 'logistical/obs_generated_per_second': 102.6796875, 'logistical/data_consumption_ratio': 2.21746167, 'logistical/manual_train_pause': 0.0, 'trn_control_loss': 0.01229548, 'trn_headings_loss': 0.00048621, 'trn_curvatures_loss': 0.00203155, 'consistency losses/trn_steer_cost': 0.00375761, 'consistency losses/trn_te_loss': 17.38493108, 'aux losses/trn_pitch_loss': 0.09896231, 'aux losses/trn_yaw_loss': 0.14643335, 'consistency losses/trn_%_updates_w_torque_delta_loss': 0.21875, 'consistency losses/trn_torque_loss': 630.24939832, 'consistency losses/trn_torque_delta_loss': 5.69735449, 'logistical/max_param': 16.19054794, 'logistical/lr': 0.0001}\n",
      "{'logistical/obs_consumed_per_second': 235.59375, 'logistical/obs_generated_per_second': 104.7734375, 'logistical/data_consumption_ratio': 2.24982884, 'logistical/manual_train_pause': 0.0, 'trn_control_loss': 0.00904644, 'trn_headings_loss': 0.00033183, 'trn_curvatures_loss': 0.00126728, 'consistency losses/trn_steer_cost': 0.00276755, 'consistency losses/trn_te_loss': 18.0268057, 'aux losses/trn_pitch_loss': 0.08972168, 'aux losses/trn_yaw_loss': 0.13959002, 'consistency losses/trn_%_updates_w_torque_delta_loss': 0.15625, 'consistency losses/trn_torque_loss': 487.67455662, 'consistency losses/trn_torque_delta_loss': 7.65097094, 'logistical/max_param': 16.19196892, 'logistical/lr': 0.0001}\n",
      "{'logistical/obs_consumed_per_second': 235.8359375, 'logistical/obs_generated_per_second': 108.421875, 'logistical/data_consumption_ratio': 2.17569448, 'logistical/manual_train_pause': 0.0, 'trn_control_loss': 0.00843789, 'trn_headings_loss': 0.00035415, 'trn_curvatures_loss': 0.00122698, 'consistency losses/trn_steer_cost': 0.00253317, 'consistency losses/trn_te_loss': 19.75029699, 'aux losses/trn_pitch_loss': 0.09467864, 'aux losses/trn_yaw_loss': 0.1106348, 'consistency losses/trn_%_updates_w_torque_delta_loss': 0.265625, 'consistency losses/trn_torque_loss': 644.74568245, 'consistency losses/trn_torque_delta_loss': 5.06856022, 'logistical/max_param': 16.19049072, 'logistical/lr': 0.0001}\n",
      "{'logistical/obs_consumed_per_second': 229.859375, 'logistical/obs_generated_per_second': 105.03125, 'logistical/data_consumption_ratio': 2.1866211, 'logistical/manual_train_pause': 0.0, 'trn_control_loss': 0.01015721, 'trn_headings_loss': 0.00035298, 'trn_curvatures_loss': 0.00128943, 'consistency losses/trn_steer_cost': 0.0026791, 'consistency losses/trn_te_loss': 19.32609306, 'aux losses/trn_pitch_loss': 0.09256768, 'aux losses/trn_yaw_loss': 0.11026406, 'consistency losses/trn_%_updates_w_torque_delta_loss': 0.125, 'consistency losses/trn_torque_loss': 668.14044288, 'consistency losses/trn_torque_delta_loss': 7.26643571, 'logistical/max_param': 16.19288063, 'logistical/lr': 0.0001}\n",
      "{'logistical/obs_consumed_per_second': 234.1796875, 'logistical/obs_generated_per_second': 103.7578125, 'logistical/data_consumption_ratio': 2.2559513, 'logistical/manual_train_pause': 0.0, 'trn_control_loss': 0.01032838, 'trn_headings_loss': 0.00037146, 'trn_curvatures_loss': 0.00156929, 'consistency losses/trn_steer_cost': 0.0039498, 'consistency losses/trn_te_loss': 18.57326567, 'aux losses/trn_pitch_loss': 0.10517573, 'aux losses/trn_yaw_loss': 0.11269712, 'consistency losses/trn_%_updates_w_torque_delta_loss': 0.203125, 'consistency losses/trn_torque_loss': 620.18490933, 'consistency losses/trn_torque_delta_loss': 6.19329674, 'logistical/max_param': 16.19277763, 'logistical/lr': 0.0001}\n",
      "{'logistical/obs_consumed_per_second': 233.7890625, 'logistical/obs_generated_per_second': 101.2890625, 'logistical/data_consumption_ratio': 2.30788113, 'logistical/manual_train_pause': 0.0, 'trn_control_loss': 0.00842366, 'trn_headings_loss': 0.00031896, 'trn_curvatures_loss': 0.00106805, 'consistency losses/trn_steer_cost': 0.00255595, 'consistency losses/trn_te_loss': 19.72730192, 'aux losses/trn_pitch_loss': 0.09965372, 'aux losses/trn_yaw_loss': 0.12250113, 'consistency losses/trn_%_updates_w_torque_delta_loss': 0.2734375, 'consistency losses/trn_torque_loss': 613.52429327, 'consistency losses/trn_torque_delta_loss': 7.77667704, 'logistical/max_param': 16.19231224, 'logistical/lr': 0.0001}\n",
      "{'logistical/obs_consumed_per_second': 233.15625, 'logistical/obs_generated_per_second': 104.90625, 'logistical/data_consumption_ratio': 2.22311415, 'logistical/manual_train_pause': 0.0, 'trn_control_loss': 0.00826716, 'trn_headings_loss': 0.00030672, 'trn_curvatures_loss': 0.00142655, 'consistency losses/trn_steer_cost': 0.0037819, 'consistency losses/trn_te_loss': 18.78665331, 'aux losses/trn_pitch_loss': 0.09547734, 'aux losses/trn_yaw_loss': 0.13842201, 'consistency losses/trn_%_updates_w_torque_delta_loss': 0.2265625, 'consistency losses/trn_torque_loss': 705.4413979, 'consistency losses/trn_torque_delta_loss': 6.96670848, 'logistical/max_param': 16.19389534, 'logistical/lr': 0.0001}\n"
     ]
    },
    {
     "name": "stdout",
     "output_type": "stream",
     "text": [
      "{'logistical/obs_consumed_per_second': 214.0, 'logistical/obs_generated_per_second': 106.0, 'logistical/data_consumption_ratio': 2.02236133, 'logistical/manual_train_pause': 0.0}\n",
      "\n",
      "\n",
      " Eval...\n",
      "EPOCH 70\n",
      "\n",
      "{'trn_control_loss': 0.00849694, 'trn_headings_loss': 0.00033469, 'trn_curvatures_loss': 0.00133557, 'consistency losses/trn_steer_cost': 0.00296339, 'consistency losses/trn_te_loss': 19.2161906, 'aux losses/trn_pitch_loss': 0.10179973, 'aux losses/trn_yaw_loss': 0.1530447, 'consistency losses/trn_%_updates_w_torque_delta_loss': 0.1640625, 'consistency losses/trn_torque_loss': 559.0741457, 'consistency losses/trn_torque_delta_loss': 7.57304616, 'logistical/obs_consumed_per_second': 227.70866142, 'logistical/obs_generated_per_second': 103.83464567, 'logistical/data_consumption_ratio': 2.19638045, 'logistical/manual_train_pause': 0.0, 'logistical/max_param': 16.1917038, 'logistical/lr': 0.0001}\n",
      "{'logistical/obs_consumed_per_second': 232.1015625, 'logistical/obs_generated_per_second': 96.625, 'logistical/data_consumption_ratio': 2.40624613, 'logistical/manual_train_pause': 0.000625, 'trn_control_loss': 0.00833261, 'trn_headings_loss': 0.00038535, 'trn_curvatures_loss': 0.00197846, 'consistency losses/trn_steer_cost': 0.0039739, 'consistency losses/trn_te_loss': 17.61486565, 'aux losses/trn_pitch_loss': 0.09219205, 'aux losses/trn_yaw_loss': 0.13583207, 'consistency losses/trn_%_updates_w_torque_delta_loss': 0.2109375, 'consistency losses/trn_torque_loss': 594.21458309, 'consistency losses/trn_torque_delta_loss': 6.37431347, 'logistical/max_param': 16.19217491, 'logistical/lr': 0.0001}\n",
      "{'logistical/obs_consumed_per_second': 230.5625, 'logistical/obs_generated_per_second': 88.90625, 'logistical/data_consumption_ratio': 2.59616581, 'logistical/manual_train_pause': 0.005, 'trn_control_loss': 0.00857179, 'trn_headings_loss': 0.00029768, 'trn_curvatures_loss': 0.00113675, 'consistency losses/trn_steer_cost': 0.00292412, 'consistency losses/trn_te_loss': 18.71175323, 'aux losses/trn_pitch_loss': 0.12603879, 'aux losses/trn_yaw_loss': 0.12598205, 'consistency losses/trn_%_updates_w_torque_delta_loss': 0.2421875, 'consistency losses/trn_torque_loss': 648.88570911, 'consistency losses/trn_torque_delta_loss': 6.17961181, 'logistical/max_param': 16.19310188, 'logistical/lr': 0.0001}\n",
      "{'logistical/obs_consumed_per_second': 234.9609375, 'logistical/obs_generated_per_second': 101.4609375, 'logistical/data_consumption_ratio': 2.31378109, 'logistical/manual_train_pause': 0.0, 'trn_control_loss': 0.0072874, 'trn_headings_loss': 0.00030241, 'trn_curvatures_loss': 0.00102239, 'consistency losses/trn_steer_cost': 0.00245072, 'consistency losses/trn_te_loss': 18.55463897, 'aux losses/trn_pitch_loss': 0.07568383, 'aux losses/trn_yaw_loss': 0.10937476, 'consistency losses/trn_%_updates_w_torque_delta_loss': 0.21875, 'consistency losses/trn_torque_loss': 579.56706055, 'consistency losses/trn_torque_delta_loss': 6.15742044, 'logistical/max_param': 16.19390678, 'logistical/lr': 0.0001}\n",
      "{'logistical/obs_consumed_per_second': 235.3046875, 'logistical/obs_generated_per_second': 103.9453125, 'logistical/data_consumption_ratio': 2.26849241, 'logistical/manual_train_pause': 0.0, 'trn_control_loss': 0.00836042, 'trn_headings_loss': 0.00034042, 'trn_curvatures_loss': 0.00138385, 'consistency losses/trn_steer_cost': 0.00294985, 'consistency losses/trn_te_loss': 18.50606625, 'aux losses/trn_pitch_loss': 0.09415603, 'aux losses/trn_yaw_loss': 0.13208222, 'consistency losses/trn_%_updates_w_torque_delta_loss': 0.3125, 'consistency losses/trn_torque_loss': 632.4126175, 'consistency losses/trn_torque_delta_loss': 5.70292968, 'logistical/max_param': 16.19472504, 'logistical/lr': 0.0001}\n",
      "{'logistical/obs_consumed_per_second': 231.4765625, 'logistical/obs_generated_per_second': 101.25, 'logistical/data_consumption_ratio': 2.28648448, 'logistical/manual_train_pause': 0.0003125, 'trn_control_loss': 0.00885682, 'trn_headings_loss': 0.00036713, 'trn_curvatures_loss': 0.00136893, 'consistency losses/trn_steer_cost': 0.00257206, 'consistency losses/trn_te_loss': 20.01272122, 'aux losses/trn_pitch_loss': 0.09179831, 'aux losses/trn_yaw_loss': 0.118016, 'consistency losses/trn_%_updates_w_torque_delta_loss': 0.1796875, 'consistency losses/trn_torque_loss': 644.07638458, 'consistency losses/trn_torque_delta_loss': 5.10525029, 'logistical/max_param': 16.19439888, 'logistical/lr': 0.0001}\n",
      "{'logistical/obs_consumed_per_second': 234.796875, 'logistical/obs_generated_per_second': 103.984375, 'logistical/data_consumption_ratio': 2.25936539, 'logistical/manual_train_pause': 0.0, 'trn_control_loss': 0.00681545, 'trn_headings_loss': 0.0002536, 'trn_curvatures_loss': 0.00088032, 'consistency losses/trn_steer_cost': 0.00220426, 'consistency losses/trn_te_loss': 19.48393467, 'aux losses/trn_pitch_loss': 0.08793914, 'aux losses/trn_yaw_loss': 0.11102724, 'consistency losses/trn_%_updates_w_torque_delta_loss': 0.125, 'consistency losses/trn_torque_loss': 686.74282353, 'consistency losses/trn_torque_delta_loss': 6.40975472, 'logistical/max_param': 16.19519424, 'logistical/lr': 0.0001}\n",
      "{'logistical/obs_consumed_per_second': 235.3984375, 'logistical/obs_generated_per_second': 95.8828125, 'logistical/data_consumption_ratio': 2.45681633, 'logistical/manual_train_pause': 0.00195312, 'trn_control_loss': 0.00834686, 'trn_headings_loss': 0.00030594, 'trn_curvatures_loss': 0.00110323, 'consistency losses/trn_steer_cost': 0.0021957, 'consistency losses/trn_te_loss': 20.57290771, 'aux losses/trn_pitch_loss': 0.09403312, 'aux losses/trn_yaw_loss': 0.11858106, 'consistency losses/trn_%_updates_w_torque_delta_loss': 0.234375, 'consistency losses/trn_torque_loss': 751.59428787, 'consistency losses/trn_torque_delta_loss': 5.89997549, 'logistical/max_param': 16.19779396, 'logistical/lr': 0.0001}\n",
      "{'logistical/obs_consumed_per_second': 231.046875, 'logistical/obs_generated_per_second': 97.59375, 'logistical/data_consumption_ratio': 2.37071644, 'logistical/manual_train_pause': 0.00085938, 'trn_control_loss': 0.00892317, 'trn_headings_loss': 0.00036006, 'trn_curvatures_loss': 0.00154049, 'consistency losses/trn_steer_cost': 0.00356244, 'consistency losses/trn_te_loss': 18.21310316, 'aux losses/trn_pitch_loss': 0.11008072, 'aux losses/trn_yaw_loss': 0.13680482, 'consistency losses/trn_%_updates_w_torque_delta_loss': 0.2265625, 'consistency losses/trn_torque_loss': 610.88464704, 'consistency losses/trn_torque_delta_loss': 6.42512594, 'logistical/max_param': 16.19895744, 'logistical/lr': 0.0001}\n",
      "{'logistical/obs_consumed_per_second': 235.203125, 'logistical/obs_generated_per_second': 102.7734375, 'logistical/data_consumption_ratio': 2.29251106, 'logistical/manual_train_pause': 0.00023438, 'trn_control_loss': 0.00855991, 'trn_headings_loss': 0.0003595, 'trn_curvatures_loss': 0.00154454, 'consistency losses/trn_steer_cost': 0.00306709, 'consistency losses/trn_te_loss': 18.57673837, 'aux losses/trn_pitch_loss': 0.09395432, 'aux losses/trn_yaw_loss': 0.13110518, 'consistency losses/trn_%_updates_w_torque_delta_loss': 0.2265625, 'consistency losses/trn_torque_loss': 580.65159761, 'consistency losses/trn_torque_delta_loss': 4.91336861, 'logistical/max_param': 16.19557953, 'logistical/lr': 0.0001}\n",
      "{'logistical/obs_consumed_per_second': 178.0, 'logistical/obs_generated_per_second': 99.0, 'logistical/data_consumption_ratio': 1.79548934, 'logistical/manual_train_pause': 0.0}\n",
      "\n",
      "\n",
      " Eval...\n",
      "EPOCH 71\n",
      "\n",
      "{'trn_control_loss': 0.00744408, 'trn_headings_loss': 0.00026903, 'trn_curvatures_loss': 0.00110963, 'consistency losses/trn_steer_cost': 0.00292169, 'consistency losses/trn_te_loss': 18.60123212, 'aux losses/trn_pitch_loss': 0.08446717, 'aux losses/trn_yaw_loss': 0.13073945, 'consistency losses/trn_%_updates_w_torque_delta_loss': 0.15625, 'consistency losses/trn_torque_loss': 727.96617175, 'consistency losses/trn_torque_delta_loss': 5.94342973, 'logistical/obs_consumed_per_second': 235.11023622, 'logistical/obs_generated_per_second': 102.23622047, 'logistical/data_consumption_ratio': 2.30365737, 'logistical/manual_train_pause': 0.00031496, 'logistical/max_param': 16.19480705, 'logistical/lr': 0.0001}\n",
      "{'logistical/obs_consumed_per_second': 237.234375, 'logistical/obs_generated_per_second': 100.234375, 'logistical/data_consumption_ratio': 2.37416669, 'logistical/manual_train_pause': 0.00054688, 'trn_control_loss': 0.00769143, 'trn_headings_loss': 0.00031511, 'trn_curvatures_loss': 0.00117653, 'consistency losses/trn_steer_cost': 0.00285492, 'consistency losses/trn_te_loss': 18.88964307, 'aux losses/trn_pitch_loss': 0.07974362, 'aux losses/trn_yaw_loss': 0.10240984, 'consistency losses/trn_%_updates_w_torque_delta_loss': 0.28125, 'consistency losses/trn_torque_loss': 763.74352035, 'consistency losses/trn_torque_delta_loss': 7.08559571, 'logistical/max_param': 16.19351959, 'logistical/lr': 0.0001}\n"
     ]
    },
    {
     "name": "stdout",
     "output_type": "stream",
     "text": [
      "{'logistical/obs_consumed_per_second': 238.9609375, 'logistical/obs_generated_per_second': 90.1484375, 'logistical/data_consumption_ratio': 2.65325591, 'logistical/manual_train_pause': 0.00390625, 'trn_control_loss': 0.0081633, 'trn_headings_loss': 0.00031102, 'trn_curvatures_loss': 0.00132474, 'consistency losses/trn_steer_cost': 0.00318903, 'consistency losses/trn_te_loss': 18.71757723, 'aux losses/trn_pitch_loss': 0.09839153, 'aux losses/trn_yaw_loss': 0.11799681, 'consistency losses/trn_%_updates_w_torque_delta_loss': 0.21875, 'consistency losses/trn_torque_loss': 698.07832865, 'consistency losses/trn_torque_delta_loss': 5.41194461, 'logistical/max_param': 16.19148636, 'logistical/lr': 0.0001}\n",
      "{'logistical/obs_consumed_per_second': 235.625, 'logistical/obs_generated_per_second': 103.59375, 'logistical/data_consumption_ratio': 2.27988497, 'logistical/manual_train_pause': 0.0, 'trn_control_loss': 0.00770815, 'trn_headings_loss': 0.00030321, 'trn_curvatures_loss': 0.00108854, 'consistency losses/trn_steer_cost': 0.00267138, 'consistency losses/trn_te_loss': 19.01992887, 'aux losses/trn_pitch_loss': 0.11143589, 'aux losses/trn_yaw_loss': 0.11864066, 'consistency losses/trn_%_updates_w_torque_delta_loss': 0.390625, 'consistency losses/trn_torque_loss': 676.20286852, 'consistency losses/trn_torque_delta_loss': 6.79718066, 'logistical/max_param': 16.19002151, 'logistical/lr': 0.0001}\n",
      "{'logistical/obs_consumed_per_second': 239.984375, 'logistical/obs_generated_per_second': 106.3984375, 'logistical/data_consumption_ratio': 2.25663681, 'logistical/manual_train_pause': 0.0, 'trn_control_loss': 0.00879166, 'trn_headings_loss': 0.00032005, 'trn_curvatures_loss': 0.00111813, 'consistency losses/trn_steer_cost': 0.00286644, 'consistency losses/trn_te_loss': 20.3421343, 'aux losses/trn_pitch_loss': 0.09579587, 'aux losses/trn_yaw_loss': 0.13587737, 'consistency losses/trn_%_updates_w_torque_delta_loss': 0.25, 'consistency losses/trn_torque_loss': 609.1751129, 'consistency losses/trn_torque_delta_loss': 8.35081604, 'logistical/max_param': 16.19070435, 'logistical/lr': 0.0001}\n",
      "{'logistical/obs_consumed_per_second': 229.453125, 'logistical/obs_generated_per_second': 102.09375, 'logistical/data_consumption_ratio': 2.24631834, 'logistical/manual_train_pause': 7.812e-05, 'trn_control_loss': 0.00929593, 'trn_headings_loss': 0.0003443, 'trn_curvatures_loss': 0.00158761, 'consistency losses/trn_steer_cost': 0.00386969, 'consistency losses/trn_te_loss': 18.81334013, 'aux losses/trn_pitch_loss': 0.12101626, 'aux losses/trn_yaw_loss': 0.12639344, 'consistency losses/trn_%_updates_w_torque_delta_loss': 0.2734375, 'consistency losses/trn_torque_loss': 594.59862211, 'consistency losses/trn_torque_delta_loss': 7.10720641, 'logistical/max_param': 16.19171524, 'logistical/lr': 0.0001}\n",
      "{'logistical/obs_consumed_per_second': 233.6171875, 'logistical/obs_generated_per_second': 101.0859375, 'logistical/data_consumption_ratio': 2.30671853, 'logistical/manual_train_pause': 0.0, 'trn_control_loss': 0.00803784, 'trn_headings_loss': 0.00029887, 'trn_curvatures_loss': 0.0009044, 'consistency losses/trn_steer_cost': 0.00218633, 'consistency losses/trn_te_loss': 19.47319493, 'aux losses/trn_pitch_loss': 0.10014844, 'aux losses/trn_yaw_loss': 0.128196, 'consistency losses/trn_%_updates_w_torque_delta_loss': 0.25, 'consistency losses/trn_torque_loss': 634.91420257, 'consistency losses/trn_torque_delta_loss': 6.41134326, 'logistical/max_param': 16.19259834, 'logistical/lr': 0.0001}\n",
      "{'logistical/obs_consumed_per_second': 230.765625, 'logistical/obs_generated_per_second': 100.8671875, 'logistical/data_consumption_ratio': 2.29388872, 'logistical/manual_train_pause': 0.00015625, 'trn_control_loss': 0.01105139, 'trn_headings_loss': 0.00045886, 'trn_curvatures_loss': 0.00186537, 'consistency losses/trn_steer_cost': 0.00358522, 'consistency losses/trn_te_loss': 18.66064989, 'aux losses/trn_pitch_loss': 0.09577775, 'aux losses/trn_yaw_loss': 0.13028145, 'consistency losses/trn_%_updates_w_torque_delta_loss': 0.2421875, 'consistency losses/trn_torque_loss': 649.20353254, 'consistency losses/trn_torque_delta_loss': 5.84799068, 'logistical/max_param': 16.18985367, 'logistical/lr': 0.0001}\n",
      "{'logistical/obs_consumed_per_second': 233.03125, 'logistical/obs_generated_per_second': 101.3046875, 'logistical/data_consumption_ratio': 2.30422339, 'logistical/manual_train_pause': 0.0, 'trn_control_loss': 0.00865865, 'trn_headings_loss': 0.00033022, 'trn_curvatures_loss': 0.00105195, 'consistency losses/trn_steer_cost': 0.00250804, 'consistency losses/trn_te_loss': 19.29156764, 'aux losses/trn_pitch_loss': 0.07907605, 'aux losses/trn_yaw_loss': 0.13050342, 'consistency losses/trn_%_updates_w_torque_delta_loss': 0.234375, 'consistency losses/trn_torque_loss': 624.18672538, 'consistency losses/trn_torque_delta_loss': 7.46030157, 'logistical/max_param': 16.18848228, 'logistical/lr': 0.0001}\n",
      "{'logistical/obs_consumed_per_second': 228.4765625, 'logistical/obs_generated_per_second': 107.015625, 'logistical/data_consumption_ratio': 2.13224485, 'logistical/manual_train_pause': 0.0, 'trn_control_loss': 0.00726485, 'trn_headings_loss': 0.00027236, 'trn_curvatures_loss': 0.0011111, 'consistency losses/trn_steer_cost': 0.00268565, 'consistency losses/trn_te_loss': 18.66153664, 'aux losses/trn_pitch_loss': 0.10819173, 'aux losses/trn_yaw_loss': 0.11703229, 'consistency losses/trn_%_updates_w_torque_delta_loss': 0.1640625, 'consistency losses/trn_torque_loss': 686.9792682, 'consistency losses/trn_torque_delta_loss': 6.54933883, 'logistical/max_param': 16.18977165, 'logistical/lr': 0.0001}\n",
      "{'logistical/obs_consumed_per_second': 149.0, 'logistical/obs_generated_per_second': 102.0, 'logistical/data_consumption_ratio': 1.4579555, 'logistical/manual_train_pause': 0.0}\n",
      "\n",
      "\n",
      " Eval...\n",
      "EPOCH 72\n",
      "\n",
      "{'trn_control_loss': 0.00982311, 'trn_headings_loss': 0.00041046, 'trn_curvatures_loss': 0.00170678, 'consistency losses/trn_steer_cost': 0.00373608, 'consistency losses/trn_te_loss': 18.34236468, 'aux losses/trn_pitch_loss': 0.09114742, 'aux losses/trn_yaw_loss': 0.13906169, 'consistency losses/trn_%_updates_w_torque_delta_loss': 0.1796875, 'consistency losses/trn_torque_loss': 617.59583341, 'logistical/obs_consumed_per_second': 235.7480315, 'logistical/obs_generated_per_second': 95.01574803, 'logistical/data_consumption_ratio': 2.49088993, 'logistical/manual_train_pause': 0.00102362, 'consistency losses/trn_torque_delta_loss': 6.37401741, 'logistical/max_param': 16.1897583, 'logistical/lr': 0.0001}\n",
      "{'logistical/obs_consumed_per_second': 238.90625, 'logistical/obs_generated_per_second': 100.34375, 'logistical/data_consumption_ratio': 2.38259456, 'logistical/manual_train_pause': 0.0003125, 'trn_control_loss': 0.0095672, 'trn_headings_loss': 0.00035759, 'trn_curvatures_loss': 0.00143116, 'consistency losses/trn_steer_cost': 0.0028653, 'consistency losses/trn_te_loss': 19.10137476, 'aux losses/trn_pitch_loss': 0.09169388, 'aux losses/trn_yaw_loss': 0.11624193, 'consistency losses/trn_%_updates_w_torque_delta_loss': 0.265625, 'consistency losses/trn_torque_loss': 783.0441939, 'consistency losses/trn_torque_delta_loss': 7.41223412, 'logistical/max_param': 16.18837929, 'logistical/lr': 0.0001}\n",
      "{'logistical/obs_consumed_per_second': 232.9765625, 'logistical/obs_generated_per_second': 100.7265625, 'logistical/data_consumption_ratio': 2.31259596, 'logistical/manual_train_pause': 0.00015625, 'trn_control_loss': 0.00805323, 'trn_headings_loss': 0.0003027, 'trn_curvatures_loss': 0.00126838, 'consistency losses/trn_steer_cost': 0.00283737, 'consistency losses/trn_te_loss': 19.54767869, 'aux losses/trn_pitch_loss': 0.08813572, 'aux losses/trn_yaw_loss': 0.12104702, 'consistency losses/trn_%_updates_w_torque_delta_loss': 0.2734375, 'consistency losses/trn_torque_loss': 768.66568243, 'consistency losses/trn_torque_delta_loss': 5.52840678, 'logistical/max_param': 16.18739128, 'logistical/lr': 0.0001}\n",
      "{'logistical/obs_consumed_per_second': 230.8984375, 'logistical/obs_generated_per_second': 99.9140625, 'logistical/data_consumption_ratio': 2.31225106, 'logistical/manual_train_pause': 7.812e-05, 'trn_control_loss': 0.00832002, 'trn_headings_loss': 0.00039383, 'trn_curvatures_loss': 0.00135366, 'consistency losses/trn_steer_cost': 0.00272642, 'consistency losses/trn_te_loss': 19.59298322, 'aux losses/trn_pitch_loss': 0.08750391, 'aux losses/trn_yaw_loss': 0.13240623, 'consistency losses/trn_%_updates_w_torque_delta_loss': 0.25, 'consistency losses/trn_torque_loss': 623.57602805, 'consistency losses/trn_torque_delta_loss': 5.83901978, 'logistical/max_param': 16.18610001, 'logistical/lr': 0.0001}\n"
     ]
    },
    {
     "name": "stdout",
     "output_type": "stream",
     "text": [
      "{'logistical/obs_consumed_per_second': 238.2734375, 'logistical/obs_generated_per_second': 102.2734375, 'logistical/data_consumption_ratio': 2.33638758, 'logistical/manual_train_pause': 0.00101562, 'trn_control_loss': 0.00688134, 'trn_headings_loss': 0.00028352, 'trn_curvatures_loss': 0.00094817, 'consistency losses/trn_steer_cost': 0.00237904, 'consistency losses/trn_te_loss': 18.98986036, 'aux losses/trn_pitch_loss': 0.08418536, 'aux losses/trn_yaw_loss': 0.12088585, 'consistency losses/trn_%_updates_w_torque_delta_loss': 0.28125, 'consistency losses/trn_torque_loss': 521.98357436, 'consistency losses/trn_torque_delta_loss': 7.19046589, 'logistical/max_param': 16.18624878, 'logistical/lr': 0.0001}\n",
      "{'logistical/obs_consumed_per_second': 235.3359375, 'logistical/obs_generated_per_second': 105.578125, 'logistical/data_consumption_ratio': 2.22990521, 'logistical/manual_train_pause': 0.0, 'trn_control_loss': 0.006633, 'trn_headings_loss': 0.00027353, 'trn_curvatures_loss': 0.00101551, 'consistency losses/trn_steer_cost': 0.00240975, 'consistency losses/trn_te_loss': 19.09103251, 'aux losses/trn_pitch_loss': 0.08280492, 'aux losses/trn_yaw_loss': 0.12479568, 'consistency losses/trn_%_updates_w_torque_delta_loss': 0.2734375, 'consistency losses/trn_torque_loss': 769.52338475, 'consistency losses/trn_torque_delta_loss': 6.24704133, 'logistical/max_param': 16.18761444, 'logistical/lr': 0.0001}\n",
      "{'logistical/obs_consumed_per_second': 232.703125, 'logistical/obs_generated_per_second': 106.9609375, 'logistical/data_consumption_ratio': 2.17424882, 'logistical/manual_train_pause': 0.0, 'trn_control_loss': 0.00719711, 'trn_headings_loss': 0.00031918, 'trn_curvatures_loss': 0.00134812, 'consistency losses/trn_steer_cost': 0.00320388, 'consistency losses/trn_te_loss': 18.54367773, 'aux losses/trn_pitch_loss': 0.08388543, 'aux losses/trn_yaw_loss': 0.11972475, 'consistency losses/trn_%_updates_w_torque_delta_loss': 0.1875, 'consistency losses/trn_torque_loss': 614.22425886, 'consistency losses/trn_torque_delta_loss': 5.76558393, 'logistical/max_param': 16.18824959, 'logistical/lr': 0.0001}\n",
      "{'logistical/obs_consumed_per_second': 233.671875, 'logistical/obs_generated_per_second': 105.8125, 'logistical/data_consumption_ratio': 2.20819346, 'logistical/manual_train_pause': 0.0, 'trn_control_loss': 0.00909495, 'trn_headings_loss': 0.00032508, 'trn_curvatures_loss': 0.00135269, 'consistency losses/trn_steer_cost': 0.0027805, 'consistency losses/trn_te_loss': 19.10521926, 'aux losses/trn_pitch_loss': 0.09827328, 'aux losses/trn_yaw_loss': 0.13289618, 'consistency losses/trn_%_updates_w_torque_delta_loss': 0.1953125, 'consistency losses/trn_torque_loss': 736.52831891, 'consistency losses/trn_torque_delta_loss': 5.9505721, 'logistical/max_param': 16.1903286, 'logistical/lr': 0.0001}\n",
      "{'logistical/obs_consumed_per_second': 228.734375, 'logistical/obs_generated_per_second': 94.0625, 'logistical/data_consumption_ratio': 2.43459948, 'logistical/manual_train_pause': 0.00109375, 'trn_control_loss': 0.00746964, 'trn_headings_loss': 0.00028305, 'trn_curvatures_loss': 0.00114305, 'consistency losses/trn_steer_cost': 0.00264065, 'consistency losses/trn_te_loss': 19.08877227, 'aux losses/trn_pitch_loss': 0.07778478, 'aux losses/trn_yaw_loss': 0.11630595, 'consistency losses/trn_%_updates_w_torque_delta_loss': 0.234375, 'consistency losses/trn_torque_loss': 418.72010818, 'consistency losses/trn_torque_delta_loss': 5.25760547, 'logistical/max_param': 16.19073677, 'logistical/lr': 0.0001}\n",
      "{'logistical/obs_consumed_per_second': 234.6796875, 'logistical/obs_generated_per_second': 100.6953125, 'logistical/data_consumption_ratio': 2.33825567, 'logistical/manual_train_pause': 0.00179688, 'trn_control_loss': 0.00611202, 'trn_headings_loss': 0.00028101, 'trn_curvatures_loss': 0.00097395, 'consistency losses/trn_steer_cost': 0.00250123, 'consistency losses/trn_te_loss': 19.11418557, 'aux losses/trn_pitch_loss': 0.10208726, 'aux losses/trn_yaw_loss': 0.09316421, 'consistency losses/trn_%_updates_w_torque_delta_loss': 0.234375, 'consistency losses/trn_torque_delta_loss': 7.64293791, 'consistency losses/trn_torque_loss': 544.10148604, 'logistical/max_param': 16.19170189, 'logistical/lr': 0.0001}\n",
      "{'logistical/obs_consumed_per_second': 178.0, 'logistical/obs_generated_per_second': 109.0, 'logistical/data_consumption_ratio': 1.63159681, 'logistical/manual_train_pause': 0.0}\n",
      "\n",
      "\n",
      " Eval...\n",
      "EPOCH 73\n",
      "\n",
      "{'trn_control_loss': 0.00872949, 'trn_headings_loss': 0.00035554, 'trn_curvatures_loss': 0.00132702, 'consistency losses/trn_steer_cost': 0.00280283, 'consistency losses/trn_te_loss': 18.60397875, 'aux losses/trn_pitch_loss': 0.09348583, 'aux losses/trn_yaw_loss': 0.12648773, 'consistency losses/trn_%_updates_w_torque_delta_loss': 0.3125, 'consistency losses/trn_torque_loss': 540.66515598, 'consistency losses/trn_torque_delta_loss': 7.80861854, 'logistical/obs_consumed_per_second': 240.79527559, 'logistical/obs_generated_per_second': 105.66141732, 'logistical/data_consumption_ratio': 2.28416175, 'logistical/manual_train_pause': 7.874e-05, 'logistical/max_param': 16.19347, 'logistical/lr': 0.0001}\n",
      "{'logistical/obs_consumed_per_second': 239.2109375, 'logistical/obs_generated_per_second': 91.921875, 'logistical/data_consumption_ratio': 2.60812625, 'logistical/manual_train_pause': 0.00296875, 'trn_control_loss': 0.00762559, 'trn_headings_loss': 0.00026527, 'trn_curvatures_loss': 0.00095231, 'consistency losses/trn_steer_cost': 0.00249571, 'consistency losses/trn_te_loss': 18.82982915, 'aux losses/trn_pitch_loss': 0.08634353, 'aux losses/trn_yaw_loss': 0.12180352, 'consistency losses/trn_%_updates_w_torque_delta_loss': 0.2734375, 'consistency losses/trn_torque_loss': 696.43738729, 'consistency losses/trn_torque_delta_loss': 6.28288133, 'logistical/max_param': 16.19314575, 'logistical/lr': 0.0001}\n",
      "{'logistical/obs_consumed_per_second': 232.6640625, 'logistical/obs_generated_per_second': 106.65625, 'logistical/data_consumption_ratio': 2.18940276, 'logistical/manual_train_pause': 7.812e-05, 'trn_control_loss': 0.01138845, 'trn_headings_loss': 0.00038995, 'trn_curvatures_loss': 0.00159029, 'consistency losses/trn_steer_cost': 0.00344996, 'consistency losses/trn_te_loss': 19.23167353, 'aux losses/trn_pitch_loss': 0.09569216, 'aux losses/trn_yaw_loss': 0.11905718, 'consistency losses/trn_%_updates_w_torque_delta_loss': 0.203125, 'consistency losses/trn_torque_loss': 651.20398182, 'consistency losses/trn_torque_delta_loss': 7.01539538, 'logistical/max_param': 16.19455528, 'logistical/lr': 0.0001}\n",
      "{'logistical/obs_consumed_per_second': 231.75, 'logistical/obs_generated_per_second': 101.9140625, 'logistical/data_consumption_ratio': 2.27513681, 'logistical/manual_train_pause': 0.0, 'trn_control_loss': 0.00933343, 'trn_headings_loss': 0.00038977, 'trn_curvatures_loss': 0.00186886, 'consistency losses/trn_steer_cost': 0.00395064, 'consistency losses/trn_te_loss': 17.57182121, 'aux losses/trn_pitch_loss': 0.09322762, 'aux losses/trn_yaw_loss': 0.16831589, 'consistency losses/trn_%_updates_w_torque_delta_loss': 0.1328125, 'consistency losses/trn_torque_loss': 498.23940417, 'consistency losses/trn_torque_delta_loss': 5.16129693, 'logistical/max_param': 16.19352722, 'logistical/lr': 0.0001}\n",
      "{'logistical/obs_consumed_per_second': 233.234375, 'logistical/obs_generated_per_second': 99.7734375, 'logistical/data_consumption_ratio': 2.33772596, 'logistical/manual_train_pause': 7.812e-05, 'trn_control_loss': 0.00895587, 'trn_headings_loss': 0.00028919, 'trn_curvatures_loss': 0.00116227, 'consistency losses/trn_steer_cost': 0.00317074, 'consistency losses/trn_te_loss': 17.84298864, 'aux losses/trn_pitch_loss': 0.09983182, 'aux losses/trn_yaw_loss': 0.12849402, 'consistency losses/trn_%_updates_w_torque_delta_loss': 0.171875, 'consistency losses/trn_torque_loss': 602.2059415, 'consistency losses/trn_torque_delta_loss': 5.59211847, 'logistical/max_param': 16.19270134, 'logistical/lr': 0.0001}\n",
      "{'logistical/obs_consumed_per_second': 232.8671875, 'logistical/obs_generated_per_second': 101.5078125, 'logistical/data_consumption_ratio': 2.29525646, 'logistical/manual_train_pause': 0.0, 'trn_control_loss': 0.0075703, 'trn_headings_loss': 0.00027224, 'trn_curvatures_loss': 0.00096571, 'consistency losses/trn_steer_cost': 0.00206693, 'consistency losses/trn_te_loss': 19.8125592, 'aux losses/trn_pitch_loss': 0.08580232, 'aux losses/trn_yaw_loss': 0.10666656, 'consistency losses/trn_%_updates_w_torque_delta_loss': 0.3359375, 'consistency losses/trn_torque_loss': 634.1442068, 'consistency losses/trn_torque_delta_loss': 5.64778684, 'logistical/max_param': 16.19320297, 'logistical/lr': 0.0001}\n"
     ]
    },
    {
     "name": "stdout",
     "output_type": "stream",
     "text": [
      "{'logistical/obs_consumed_per_second': 234.5390625, 'logistical/obs_generated_per_second': 103.03125, 'logistical/data_consumption_ratio': 2.27513084, 'logistical/manual_train_pause': 0.0, 'trn_control_loss': 0.00997058, 'trn_headings_loss': 0.00039784, 'trn_curvatures_loss': 0.00202983, 'consistency losses/trn_steer_cost': 0.00424664, 'consistency losses/trn_te_loss': 17.75334522, 'aux losses/trn_pitch_loss': 0.10294151, 'aux losses/trn_yaw_loss': 0.11531353, 'consistency losses/trn_%_updates_w_torque_delta_loss': 0.1796875, 'consistency losses/trn_torque_loss': 555.84023686, 'consistency losses/trn_torque_delta_loss': 6.24849082, 'logistical/max_param': 16.19451141, 'logistical/lr': 0.0001}\n",
      "{'logistical/obs_consumed_per_second': 237.9296875, 'logistical/obs_generated_per_second': 105.5, 'logistical/data_consumption_ratio': 2.27050895, 'logistical/manual_train_pause': 0.00023438, 'trn_control_loss': 0.00843759, 'trn_headings_loss': 0.00033027, 'trn_curvatures_loss': 0.00121182, 'consistency losses/trn_steer_cost': 0.00292021, 'consistency losses/trn_te_loss': 18.52460804, 'aux losses/trn_pitch_loss': 0.08806205, 'aux losses/trn_yaw_loss': 0.15301108, 'consistency losses/trn_%_updates_w_torque_delta_loss': 0.2421875, 'consistency losses/trn_torque_loss': 591.22269551, 'consistency losses/trn_torque_delta_loss': 6.86734305, 'logistical/max_param': 16.19381905, 'logistical/lr': 0.0001}\n",
      "{'logistical/obs_consumed_per_second': 231.3203125, 'logistical/obs_generated_per_second': 102.9921875, 'logistical/data_consumption_ratio': 2.25088799, 'logistical/manual_train_pause': 0.0, 'trn_control_loss': 0.00837323, 'trn_headings_loss': 0.0003043, 'trn_curvatures_loss': 0.00116989, 'consistency losses/trn_steer_cost': 0.00254048, 'consistency losses/trn_te_loss': 18.23842131, 'aux losses/trn_pitch_loss': 0.10682869, 'aux losses/trn_yaw_loss': 0.1250174, 'consistency losses/trn_%_updates_w_torque_delta_loss': 0.234375, 'consistency losses/trn_torque_loss': 601.07416418, 'consistency losses/trn_torque_delta_loss': 6.11784337, 'logistical/max_param': 16.19334412, 'logistical/lr': 0.0001}\n",
      "{'logistical/obs_consumed_per_second': 229.59375, 'logistical/obs_generated_per_second': 104.578125, 'logistical/data_consumption_ratio': 2.20010699, 'logistical/manual_train_pause': 0.0, 'trn_control_loss': 0.01484054, 'trn_headings_loss': 0.00043476, 'trn_curvatures_loss': 0.00196208, 'consistency losses/trn_steer_cost': 0.00402314, 'consistency losses/trn_te_loss': 18.96453749, 'aux losses/trn_pitch_loss': 0.08495498, 'aux losses/trn_yaw_loss': 0.1538434, 'consistency losses/trn_%_updates_w_torque_delta_loss': 0.21875, 'consistency losses/trn_torque_loss': 551.44895875, 'consistency losses/trn_torque_delta_loss': 5.35315239, 'logistical/max_param': 16.18945122, 'logistical/lr': 0.0001}\n",
      "{'logistical/obs_consumed_per_second': 177.0, 'logistical/obs_generated_per_second': 105.0, 'logistical/data_consumption_ratio': 1.69379834, 'logistical/manual_train_pause': 0.0}\n",
      "\n",
      "\n",
      " Eval...\n",
      "EPOCH 74\n",
      "\n",
      "{'trn_control_loss': 0.0071926, 'trn_headings_loss': 0.00030818, 'trn_curvatures_loss': 0.00116847, 'consistency losses/trn_steer_cost': 0.00266345, 'consistency losses/trn_te_loss': 19.62151608, 'aux losses/trn_pitch_loss': 0.07540464, 'aux losses/trn_yaw_loss': 0.1053009, 'consistency losses/trn_%_updates_w_torque_delta_loss': 0.1875, 'consistency losses/trn_torque_loss': 592.26316086, 'consistency losses/trn_torque_delta_loss': 8.04741646, 'logistical/obs_consumed_per_second': 227.98425197, 'logistical/obs_generated_per_second': 103.07086614, 'logistical/data_consumption_ratio': 2.21787844, 'logistical/manual_train_pause': 0.00015748, 'logistical/max_param': 16.18968582, 'logistical/lr': 0.0001}\n",
      "{'logistical/obs_consumed_per_second': 229.3125, 'logistical/obs_generated_per_second': 100.1796875, 'logistical/data_consumption_ratio': 2.29202263, 'logistical/manual_train_pause': 0.0003125, 'trn_control_loss': 0.00972435, 'trn_headings_loss': 0.00032158, 'trn_curvatures_loss': 0.00113176, 'consistency losses/trn_steer_cost': 0.00255796, 'consistency losses/trn_te_loss': 19.6339556, 'aux losses/trn_pitch_loss': 0.07422888, 'aux losses/trn_yaw_loss': 0.12271547, 'consistency losses/trn_%_updates_w_torque_delta_loss': 0.296875, 'consistency losses/trn_torque_loss': 600.57975566, 'consistency losses/trn_torque_delta_loss': 6.06319861, 'logistical/max_param': 16.1914978, 'logistical/lr': 0.0001}\n",
      "{'logistical/obs_consumed_per_second': 242.3828125, 'logistical/obs_generated_per_second': 103.8046875, 'logistical/data_consumption_ratio': 2.33816801, 'logistical/manual_train_pause': 0.00015625, 'trn_control_loss': 0.01148874, 'trn_headings_loss': 0.00043757, 'trn_curvatures_loss': 0.00184282, 'consistency losses/trn_steer_cost': 0.00351094, 'consistency losses/trn_te_loss': 18.35461109, 'aux losses/trn_pitch_loss': 0.10335326, 'aux losses/trn_yaw_loss': 0.2161932, 'consistency losses/trn_%_updates_w_torque_delta_loss': 0.28125, 'consistency losses/trn_torque_loss': 616.47430264, 'consistency losses/trn_torque_delta_loss': 6.29069097, 'logistical/max_param': 16.19261742, 'logistical/lr': 0.0001}\n",
      "{'logistical/obs_consumed_per_second': 236.1484375, 'logistical/obs_generated_per_second': 100.71875, 'logistical/data_consumption_ratio': 2.34654992, 'logistical/manual_train_pause': 0.0, 'trn_control_loss': 0.00855254, 'trn_headings_loss': 0.00031887, 'trn_curvatures_loss': 0.001232, 'consistency losses/trn_steer_cost': 0.00263998, 'consistency losses/trn_te_loss': 19.00350595, 'aux losses/trn_pitch_loss': 0.08003902, 'aux losses/trn_yaw_loss': 0.11234498, 'consistency losses/trn_%_updates_w_torque_delta_loss': 0.2265625, 'consistency losses/trn_torque_loss': 669.63694531, 'consistency losses/trn_torque_delta_loss': 6.28341047, 'logistical/max_param': 16.19307518, 'logistical/lr': 0.0001}\n",
      "{'logistical/obs_consumed_per_second': 236.90625, 'logistical/obs_generated_per_second': 99.4921875, 'logistical/data_consumption_ratio': 2.38301663, 'logistical/manual_train_pause': 0.00023438, 'trn_control_loss': 0.01017532, 'trn_headings_loss': 0.00037126, 'trn_curvatures_loss': 0.00136849, 'consistency losses/trn_steer_cost': 0.00297938, 'consistency losses/trn_te_loss': 18.41691597, 'aux losses/trn_pitch_loss': 0.09453964, 'aux losses/trn_yaw_loss': 0.12672186, 'consistency losses/trn_%_updates_w_torque_delta_loss': 0.1484375, 'consistency losses/trn_torque_loss': 577.76553178, 'consistency losses/trn_torque_delta_loss': 5.78685651, 'logistical/max_param': 16.19576073, 'logistical/lr': 0.0001}\n",
      "{'logistical/obs_consumed_per_second': 236.15625, 'logistical/obs_generated_per_second': 99.3515625, 'logistical/data_consumption_ratio': 2.37319525, 'logistical/manual_train_pause': 0.00046875, 'trn_control_loss': 0.01496536, 'trn_headings_loss': 0.00049932, 'trn_curvatures_loss': 0.00224027, 'consistency losses/trn_steer_cost': 0.00485858, 'consistency losses/trn_te_loss': 18.64704303, 'aux losses/trn_pitch_loss': 0.11552918, 'aux losses/trn_yaw_loss': 0.16677547, 'consistency losses/trn_%_updates_w_torque_delta_loss': 0.1875, 'consistency losses/trn_torque_loss': 627.27209289, 'consistency losses/trn_torque_delta_loss': 5.55555164, 'logistical/max_param': 16.19198608, 'logistical/lr': 0.0001}\n",
      "{'logistical/obs_consumed_per_second': 229.8125, 'logistical/obs_generated_per_second': 101.4609375, 'logistical/data_consumption_ratio': 2.26838268, 'logistical/manual_train_pause': 0.00015625, 'trn_control_loss': 0.0123665, 'trn_headings_loss': 0.00043726, 'trn_curvatures_loss': 0.00208834, 'consistency losses/trn_steer_cost': 0.00503251, 'consistency losses/trn_te_loss': 17.49372999, 'aux losses/trn_pitch_loss': 0.07485676, 'aux losses/trn_yaw_loss': 0.20433235, 'consistency losses/trn_%_updates_w_torque_delta_loss': 0.1484375, 'consistency losses/trn_torque_loss': 695.03756015, 'consistency losses/trn_torque_delta_loss': 5.86139144, 'logistical/max_param': 16.19258499, 'logistical/lr': 0.0001}\n",
      "{'logistical/obs_consumed_per_second': 233.3984375, 'logistical/obs_generated_per_second': 101.09375, 'logistical/data_consumption_ratio': 2.31023167, 'logistical/manual_train_pause': 0.0, 'trn_control_loss': 0.00749598, 'trn_headings_loss': 0.00027699, 'trn_curvatures_loss': 0.0011375, 'consistency losses/trn_steer_cost': 0.00258108, 'consistency losses/trn_te_loss': 19.10840117, 'aux losses/trn_pitch_loss': 0.074494, 'aux losses/trn_yaw_loss': 0.11486554, 'consistency losses/trn_%_updates_w_torque_delta_loss': 0.1484375, 'consistency losses/trn_torque_loss': 546.24687164, 'consistency losses/trn_torque_delta_loss': 5.02714752, 'logistical/max_param': 16.19194984, 'logistical/lr': 0.0001}\n"
     ]
    },
    {
     "name": "stdout",
     "output_type": "stream",
     "text": [
      "{'logistical/obs_consumed_per_second': 239.6015625, 'logistical/obs_generated_per_second': 95.84375, 'logistical/data_consumption_ratio': 2.50532686, 'logistical/manual_train_pause': 0.00132812, 'trn_control_loss': 0.00778809, 'trn_headings_loss': 0.00029788, 'trn_curvatures_loss': 0.00101114, 'consistency losses/trn_steer_cost': 0.00256421, 'consistency losses/trn_te_loss': 19.81932738, 'aux losses/trn_pitch_loss': 0.08793211, 'aux losses/trn_yaw_loss': 0.10275865, 'consistency losses/trn_%_updates_w_torque_delta_loss': 0.2109375, 'consistency losses/trn_torque_loss': 501.94790482, 'consistency losses/trn_torque_delta_loss': 4.84581672, 'logistical/max_param': 16.19484901, 'logistical/lr': 0.0001}\n",
      "{'logistical/obs_consumed_per_second': 233.140625, 'logistical/obs_generated_per_second': 97.7578125, 'logistical/data_consumption_ratio': 2.38783604, 'logistical/manual_train_pause': 0.00101562, 'trn_control_loss': 0.00762168, 'trn_headings_loss': 0.00029684, 'trn_curvatures_loss': 0.00114014, 'consistency losses/trn_steer_cost': 0.0026317, 'consistency losses/trn_te_loss': 18.60763156, 'aux losses/trn_pitch_loss': 0.08485174, 'aux losses/trn_yaw_loss': 0.10224652, 'consistency losses/trn_%_updates_w_torque_delta_loss': 0.1953125, 'consistency losses/trn_torque_loss': 691.9191218, 'consistency losses/trn_torque_delta_loss': 7.13706197, 'logistical/max_param': 16.19529915, 'logistical/lr': 0.0001}\n",
      "{'logistical/obs_consumed_per_second': 141.0, 'logistical/obs_generated_per_second': 92.0, 'logistical/data_consumption_ratio': 1.52512929, 'logistical/manual_train_pause': 0.0}\n",
      "\n",
      "\n",
      " Eval...\n",
      "EPOCH 75\n",
      "\n",
      "{'trn_control_loss': 0.00838976, 'trn_headings_loss': 0.00034436, 'trn_curvatures_loss': 0.00122764, 'consistency losses/trn_steer_cost': 0.00270069, 'consistency losses/trn_te_loss': 18.89166019, 'aux losses/trn_pitch_loss': 0.08525825, 'aux losses/trn_yaw_loss': 0.14202905, 'consistency losses/trn_%_updates_w_torque_delta_loss': 0.2421875, 'consistency losses/trn_torque_delta_loss': 6.76207489, 'logistical/obs_consumed_per_second': 233.03937008, 'logistical/obs_generated_per_second': 93.92913386, 'logistical/data_consumption_ratio': 2.48245767, 'logistical/manual_train_pause': 0.00330709, 'consistency losses/trn_torque_loss': 668.15240146, 'logistical/max_param': 16.19526863, 'logistical/lr': 0.0001}\n",
      "{'logistical/obs_consumed_per_second': 236.15625, 'logistical/obs_generated_per_second': 95.296875, 'logistical/data_consumption_ratio': 2.48009068, 'logistical/manual_train_pause': 0.00171875, 'trn_control_loss': 0.00692897, 'trn_headings_loss': 0.00029434, 'trn_curvatures_loss': 0.00113131, 'consistency losses/trn_steer_cost': 0.00282003, 'consistency losses/trn_te_loss': 19.00397422, 'aux losses/trn_pitch_loss': 0.09055543, 'aux losses/trn_yaw_loss': 0.12005162, 'consistency losses/trn_%_updates_w_torque_delta_loss': 0.1796875, 'consistency losses/trn_torque_delta_loss': 6.18792139, 'consistency losses/trn_torque_loss': 573.20188367, 'logistical/max_param': 16.19392967, 'logistical/lr': 0.0001}\n",
      "{'logistical/obs_consumed_per_second': 234.921875, 'logistical/obs_generated_per_second': 84.5, 'logistical/data_consumption_ratio': 2.78242474, 'logistical/manual_train_pause': 0.01296875, 'trn_control_loss': 0.00798231, 'trn_headings_loss': 0.00032541, 'trn_curvatures_loss': 0.0012905, 'consistency losses/trn_steer_cost': 0.00333343, 'consistency losses/trn_te_loss': 18.02199672, 'aux losses/trn_pitch_loss': 0.09635925, 'aux losses/trn_yaw_loss': 0.14088488, 'consistency losses/trn_%_updates_w_torque_delta_loss': 0.1796875, 'consistency losses/trn_torque_loss': 591.88441991, 'consistency losses/trn_torque_delta_loss': 5.2043542, 'logistical/max_param': 16.19242477, 'logistical/lr': 0.0001}\n",
      "{'logistical/obs_consumed_per_second': 228.734375, 'logistical/obs_generated_per_second': 94.4765625, 'logistical/data_consumption_ratio': 2.4283582, 'logistical/manual_train_pause': 0.00148438, 'trn_control_loss': 0.00755888, 'trn_headings_loss': 0.00034842, 'trn_curvatures_loss': 0.00133392, 'consistency losses/trn_steer_cost': 0.00284403, 'consistency losses/trn_te_loss': 19.13556758, 'aux losses/trn_pitch_loss': 0.0923059, 'aux losses/trn_yaw_loss': 0.13758659, 'consistency losses/trn_%_updates_w_torque_delta_loss': 0.171875, 'consistency losses/trn_torque_loss': 574.64229369, 'consistency losses/trn_torque_delta_loss': 5.19133334, 'logistical/max_param': 16.19231606, 'logistical/lr': 0.0001}\n",
      "{'logistical/obs_consumed_per_second': 231.0, 'logistical/obs_generated_per_second': 103.859375, 'logistical/data_consumption_ratio': 2.22605094, 'logistical/manual_train_pause': 0.0, 'trn_control_loss': 0.00676744, 'trn_headings_loss': 0.00032895, 'trn_curvatures_loss': 0.00113225, 'consistency losses/trn_steer_cost': 0.0028014, 'consistency losses/trn_te_loss': 18.36262549, 'aux losses/trn_pitch_loss': 0.09459913, 'aux losses/trn_yaw_loss': 0.10736394, 'consistency losses/trn_%_updates_w_torque_delta_loss': 0.1796875, 'consistency losses/trn_torque_loss': 547.71091566, 'consistency losses/trn_torque_delta_loss': 6.01816342, 'logistical/max_param': 16.19184494, 'logistical/lr': 0.0001}\n",
      "{'logistical/obs_consumed_per_second': 236.3515625, 'logistical/obs_generated_per_second': 100.765625, 'logistical/data_consumption_ratio': 2.34617821, 'logistical/manual_train_pause': 0.00046875, 'trn_control_loss': 0.01014292, 'trn_headings_loss': 0.00035183, 'trn_curvatures_loss': 0.00125328, 'consistency losses/trn_steer_cost': 0.00250327, 'consistency losses/trn_te_loss': 18.78284352, 'aux losses/trn_pitch_loss': 0.09537172, 'aux losses/trn_yaw_loss': 0.09844136, 'consistency losses/trn_%_updates_w_torque_delta_loss': 0.21875, 'consistency losses/trn_torque_loss': 538.61446158, 'consistency losses/trn_torque_delta_loss': 6.96762168, 'logistical/max_param': 16.19293976, 'logistical/lr': 0.0001}\n",
      "{'logistical/obs_consumed_per_second': 234.46875, 'logistical/obs_generated_per_second': 105.875, 'logistical/data_consumption_ratio': 2.21812337, 'logistical/manual_train_pause': 0.0, 'trn_control_loss': 0.00918905, 'trn_headings_loss': 0.00040573, 'trn_curvatures_loss': 0.00177921, 'consistency losses/trn_steer_cost': 0.0041538, 'consistency losses/trn_te_loss': 17.04209051, 'aux losses/trn_pitch_loss': 0.09072566, 'aux losses/trn_yaw_loss': 0.15768743, 'consistency losses/trn_%_updates_w_torque_delta_loss': 0.125, 'consistency losses/trn_torque_loss': 466.3900046, 'consistency losses/trn_torque_delta_loss': 4.82491483, 'logistical/max_param': 16.19158173, 'logistical/lr': 0.0001}\n",
      "{'logistical/obs_consumed_per_second': 232.2578125, 'logistical/obs_generated_per_second': 102.84375, 'logistical/data_consumption_ratio': 2.25857663, 'logistical/manual_train_pause': 0.0, 'trn_control_loss': 0.01120859, 'trn_headings_loss': 0.00038558, 'trn_curvatures_loss': 0.00143985, 'consistency losses/trn_steer_cost': 0.00359754, 'consistency losses/trn_te_loss': 17.95820558, 'aux losses/trn_pitch_loss': 0.09008408, 'aux losses/trn_yaw_loss': 0.13980293, 'consistency losses/trn_%_updates_w_torque_delta_loss': 0.234375, 'consistency losses/trn_torque_loss': 650.6041645, 'consistency losses/trn_torque_delta_loss': 5.93953256, 'logistical/max_param': 16.18928909, 'logistical/lr': 0.0001}\n",
      "{'logistical/obs_consumed_per_second': 231.2890625, 'logistical/obs_generated_per_second': 106.296875, 'logistical/data_consumption_ratio': 2.17882709, 'logistical/manual_train_pause': 0.0, 'trn_control_loss': 0.00837573, 'trn_headings_loss': 0.0003437, 'trn_curvatures_loss': 0.00138283, 'consistency losses/trn_steer_cost': 0.00318435, 'consistency losses/trn_te_loss': 17.46689782, 'aux losses/trn_pitch_loss': 0.09026456, 'aux losses/trn_yaw_loss': 0.12572932, 'consistency losses/trn_%_updates_w_torque_delta_loss': 0.203125, 'consistency losses/trn_torque_loss': 556.79521121, 'consistency losses/trn_torque_delta_loss': 7.0647945, 'logistical/max_param': 16.18922997, 'logistical/lr': 0.0001}\n",
      "{'logistical/obs_consumed_per_second': 237.4453125, 'logistical/obs_generated_per_second': 99.3203125, 'logistical/data_consumption_ratio': 2.39674405, 'logistical/manual_train_pause': 0.00070312, 'trn_control_loss': 0.00561978, 'trn_headings_loss': 0.0002687, 'trn_curvatures_loss': 0.00095873, 'consistency losses/trn_steer_cost': 0.00226349, 'consistency losses/trn_te_loss': 19.88325848, 'aux losses/trn_pitch_loss': 0.09501123, 'aux losses/trn_yaw_loss': 0.10331023, 'consistency losses/trn_%_updates_w_torque_delta_loss': 0.2109375, 'consistency losses/trn_torque_loss': 652.18587595, 'consistency losses/trn_torque_delta_loss': 6.09466298, 'logistical/max_param': 16.18876266, 'logistical/lr': 0.0001}\n"
     ]
    },
    {
     "name": "stdout",
     "output_type": "stream",
     "text": [
      "{'logistical/obs_consumed_per_second': 148.0, 'logistical/obs_generated_per_second': 108.0, 'logistical/data_consumption_ratio': 1.36375184, 'logistical/manual_train_pause': 0.0}\n",
      "\n",
      "\n",
      " Eval...\n",
      "EPOCH 76\n",
      "\n",
      "{'trn_control_loss': 0.01178378, 'trn_headings_loss': 0.00049097, 'trn_curvatures_loss': 0.0023521, 'consistency losses/trn_steer_cost': 0.0048798, 'consistency losses/trn_te_loss': 18.28980485, 'aux losses/trn_pitch_loss': 0.09873152, 'aux losses/trn_yaw_loss': 0.16350865, 'consistency losses/trn_%_updates_w_torque_delta_loss': 0.203125, 'consistency losses/trn_torque_loss': 665.6964364, 'consistency losses/trn_torque_delta_loss': 5.67721934, 'logistical/obs_consumed_per_second': 235.81889764, 'logistical/obs_generated_per_second': 107.08661417, 'logistical/data_consumption_ratio': 2.20512079, 'logistical/manual_train_pause': 0.0, 'logistical/max_param': 16.18793106, 'logistical/lr': 0.0001}\n",
      "{'logistical/obs_consumed_per_second': 236.7421875, 'logistical/obs_generated_per_second': 102.1796875, 'logistical/data_consumption_ratio': 2.31761469, 'logistical/manual_train_pause': 0.0, 'trn_control_loss': 0.00905931, 'trn_headings_loss': 0.00036513, 'trn_curvatures_loss': 0.00147153, 'consistency losses/trn_steer_cost': 0.00343875, 'consistency losses/trn_te_loss': 18.79051296, 'aux losses/trn_pitch_loss': 0.08597469, 'aux losses/trn_yaw_loss': 0.11905766, 'consistency losses/trn_%_updates_w_torque_delta_loss': 0.1953125, 'consistency losses/trn_torque_loss': 751.3071879, 'consistency losses/trn_torque_delta_loss': 6.66958528, 'logistical/max_param': 16.18859291, 'logistical/lr': 0.0001}\n",
      "{'logistical/obs_consumed_per_second': 234.1953125, 'logistical/obs_generated_per_second': 104.0625, 'logistical/data_consumption_ratio': 2.24997866, 'logistical/manual_train_pause': 0.0, 'trn_control_loss': 0.01096055, 'trn_headings_loss': 0.00037174, 'trn_curvatures_loss': 0.00160027, 'consistency losses/trn_steer_cost': 0.00403848, 'consistency losses/trn_te_loss': 17.8784035, 'aux losses/trn_pitch_loss': 0.09404874, 'aux losses/trn_yaw_loss': 0.16655803, 'consistency losses/trn_%_updates_w_torque_delta_loss': 0.171875, 'consistency losses/trn_torque_loss': 613.19478784, 'consistency losses/trn_torque_delta_loss': 8.34143208, 'logistical/max_param': 16.18904305, 'logistical/lr': 0.0001}\n",
      "{'logistical/obs_consumed_per_second': 230.2421875, 'logistical/obs_generated_per_second': 104.234375, 'logistical/data_consumption_ratio': 2.21597008, 'logistical/manual_train_pause': 7.812e-05, 'trn_control_loss': 0.01174799, 'trn_headings_loss': 0.00042556, 'trn_curvatures_loss': 0.00172964, 'consistency losses/trn_steer_cost': 0.00388892, 'consistency losses/trn_te_loss': 18.05308398, 'aux losses/trn_pitch_loss': 0.1017797, 'aux losses/trn_yaw_loss': 0.12096548, 'consistency losses/trn_%_updates_w_torque_delta_loss': 0.1796875, 'consistency losses/trn_torque_loss': 552.1936053, 'consistency losses/trn_torque_delta_loss': 5.9876265, 'logistical/max_param': 16.19006729, 'logistical/lr': 0.0001}\n",
      "{'logistical/obs_consumed_per_second': 232.8984375, 'logistical/obs_generated_per_second': 106.734375, 'logistical/data_consumption_ratio': 2.18306815, 'logistical/manual_train_pause': 0.0, 'trn_control_loss': 0.00790045, 'trn_headings_loss': 0.00037363, 'trn_curvatures_loss': 0.00149878, 'consistency losses/trn_steer_cost': 0.00357509, 'consistency losses/trn_te_loss': 18.76661012, 'aux losses/trn_pitch_loss': 0.09109235, 'aux losses/trn_yaw_loss': 0.12178588, 'consistency losses/trn_%_updates_w_torque_delta_loss': 0.21875, 'consistency losses/trn_torque_loss': 709.13269024, 'consistency losses/trn_torque_delta_loss': 6.45248713, 'logistical/max_param': 16.18989754, 'logistical/lr': 0.0001}\n",
      "{'logistical/obs_consumed_per_second': 236.6796875, 'logistical/obs_generated_per_second': 105.9921875, 'logistical/data_consumption_ratio': 2.23589547, 'logistical/manual_train_pause': 0.0, 'trn_control_loss': 0.00930637, 'trn_headings_loss': 0.0003714, 'trn_curvatures_loss': 0.00158413, 'consistency losses/trn_steer_cost': 0.00357094, 'consistency losses/trn_te_loss': 17.61913979, 'aux losses/trn_pitch_loss': 0.08437061, 'aux losses/trn_yaw_loss': 0.12713122, 'consistency losses/trn_%_updates_w_torque_delta_loss': 0.1640625, 'consistency losses/trn_torque_loss': 505.1400838, 'consistency losses/trn_torque_delta_loss': 4.85740125, 'logistical/max_param': 16.19146347, 'logistical/lr': 0.0001}\n",
      "{'logistical/obs_consumed_per_second': 241.15625, 'logistical/obs_generated_per_second': 104.078125, 'logistical/data_consumption_ratio': 2.3183923, 'logistical/manual_train_pause': 0.0, 'trn_control_loss': 0.00788954, 'trn_headings_loss': 0.00036885, 'trn_curvatures_loss': 0.00146539, 'consistency losses/trn_steer_cost': 0.00301424, 'consistency losses/trn_te_loss': 18.47367679, 'aux losses/trn_pitch_loss': 0.09594274, 'aux losses/trn_yaw_loss': 0.13704276, 'consistency losses/trn_%_updates_w_torque_delta_loss': 0.1953125, 'consistency losses/trn_torque_loss': 568.57190356, 'consistency losses/trn_torque_delta_loss': 5.281062, 'logistical/max_param': 16.19250298, 'logistical/lr': 0.0001}\n",
      "{'logistical/obs_consumed_per_second': 233.84375, 'logistical/obs_generated_per_second': 105.015625, 'logistical/data_consumption_ratio': 2.2324286, 'logistical/manual_train_pause': 0.0, 'trn_control_loss': 0.00784406, 'trn_headings_loss': 0.00035668, 'trn_curvatures_loss': 0.00157633, 'consistency losses/trn_steer_cost': 0.0033396, 'consistency losses/trn_te_loss': 18.21721135, 'aux losses/trn_pitch_loss': 0.09307933, 'aux losses/trn_yaw_loss': 0.12085319, 'consistency losses/trn_%_updates_w_torque_delta_loss': 0.140625, 'consistency losses/trn_torque_loss': 680.03693089, 'consistency losses/trn_torque_delta_loss': 4.93870082, 'logistical/max_param': 16.19395828, 'logistical/lr': 0.0001}\n",
      "{'logistical/obs_consumed_per_second': 236.765625, 'logistical/obs_generated_per_second': 106.1171875, 'logistical/data_consumption_ratio': 2.23191889, 'logistical/manual_train_pause': 0.0, 'trn_control_loss': 0.00802697, 'trn_headings_loss': 0.00034, 'trn_curvatures_loss': 0.00124329, 'consistency losses/trn_steer_cost': 0.00296057, 'consistency losses/trn_te_loss': 18.71191812, 'aux losses/trn_pitch_loss': 0.08639216, 'aux losses/trn_yaw_loss': 0.1150887, 'consistency losses/trn_%_updates_w_torque_delta_loss': 0.25, 'consistency losses/trn_torque_loss': 663.37846311, 'consistency losses/trn_torque_delta_loss': 7.37780648, 'logistical/max_param': 16.19602394, 'logistical/lr': 0.0001}\n",
      "{'logistical/obs_consumed_per_second': 235.2890625, 'logistical/obs_generated_per_second': 101.7109375, 'logistical/data_consumption_ratio': 2.31251284, 'logistical/manual_train_pause': 0.0, 'trn_control_loss': 0.00844572, 'trn_headings_loss': 0.00032903, 'trn_curvatures_loss': 0.00157686, 'consistency losses/trn_steer_cost': 0.00370856, 'consistency losses/trn_te_loss': 18.30333909, 'aux losses/trn_pitch_loss': 0.12504292, 'aux losses/trn_yaw_loss': 0.1092627, 'consistency losses/trn_%_updates_w_torque_delta_loss': 0.15625, 'consistency losses/trn_torque_loss': 615.44970784, 'consistency losses/trn_torque_delta_loss': 5.05967942, 'logistical/max_param': 16.19384003, 'logistical/lr': 0.0001}\n",
      "{'logistical/obs_consumed_per_second': 165.0, 'logistical/obs_generated_per_second': 98.0, 'logistical/data_consumption_ratio': 1.67796209, 'logistical/manual_train_pause': 0.0}\n",
      "\n",
      "\n",
      " Eval...\n",
      "EPOCH 77\n",
      "\n",
      "{'trn_control_loss': 0.00935349, 'trn_headings_loss': 0.00047935, 'trn_curvatures_loss': 0.00216883, 'consistency losses/trn_steer_cost': 0.00389047, 'consistency losses/trn_te_loss': 17.36362588, 'aux losses/trn_pitch_loss': 0.10587335, 'aux losses/trn_yaw_loss': 0.10400987, 'consistency losses/trn_%_updates_w_torque_delta_loss': 0.21875, 'consistency losses/trn_torque_loss': 562.29679475, 'logistical/obs_consumed_per_second': 228.88976378, 'logistical/obs_generated_per_second': 102.88188976, 'logistical/data_consumption_ratio': 2.22647728, 'logistical/manual_train_pause': 0.0, 'consistency losses/trn_torque_delta_loss': 4.9363477, 'logistical/max_param': 16.19460869, 'logistical/lr': 0.0001}\n",
      "{'logistical/obs_consumed_per_second': 239.21875, 'logistical/obs_generated_per_second': 105.1875, 'logistical/data_consumption_ratio': 2.27640438, 'logistical/manual_train_pause': 0.0, 'trn_control_loss': 0.00620225, 'trn_headings_loss': 0.00023604, 'trn_curvatures_loss': 0.00093638, 'consistency losses/trn_steer_cost': 0.00263122, 'consistency losses/trn_te_loss': 18.80420528, 'aux losses/trn_pitch_loss': 0.08317304, 'aux losses/trn_yaw_loss': 0.12763572, 'consistency losses/trn_%_updates_w_torque_delta_loss': 0.2421875, 'consistency losses/trn_torque_loss': 708.57315361, 'consistency losses/trn_torque_delta_loss': 6.51536465, 'logistical/max_param': 16.19550514, 'logistical/lr': 0.0001}\n"
     ]
    },
    {
     "name": "stdout",
     "output_type": "stream",
     "text": [
      "{'logistical/obs_consumed_per_second': 231.4140625, 'logistical/obs_generated_per_second': 96.9296875, 'logistical/data_consumption_ratio': 2.38318916, 'logistical/manual_train_pause': 0.00054688, 'trn_control_loss': 0.00798899, 'trn_headings_loss': 0.0003518, 'trn_curvatures_loss': 0.00140322, 'consistency losses/trn_steer_cost': 0.00374141, 'consistency losses/trn_te_loss': 18.03284155, 'aux losses/trn_pitch_loss': 0.10432434, 'aux losses/trn_yaw_loss': 0.17082691, 'consistency losses/trn_%_updates_w_torque_delta_loss': 0.15625, 'consistency losses/trn_torque_loss': 604.88976972, 'consistency losses/trn_torque_delta_loss': 4.93884151, 'logistical/max_param': 16.19533539, 'logistical/lr': 0.0001}\n",
      "{'logistical/obs_consumed_per_second': 232.4453125, 'logistical/obs_generated_per_second': 100.8359375, 'logistical/data_consumption_ratio': 2.30933341, 'logistical/manual_train_pause': 0.00054688, 'trn_control_loss': 0.00624155, 'trn_headings_loss': 0.00025082, 'trn_curvatures_loss': 0.0009973, 'consistency losses/trn_steer_cost': 0.00246658, 'consistency losses/trn_te_loss': 18.38821194, 'aux losses/trn_pitch_loss': 0.08707559, 'aux losses/trn_yaw_loss': 0.10367036, 'consistency losses/trn_%_updates_w_torque_delta_loss': 0.1875, 'consistency losses/trn_torque_loss': 766.58132158, 'consistency losses/trn_torque_delta_loss': 5.58117148, 'logistical/max_param': 16.19482994, 'logistical/lr': 0.0001}\n",
      "{'logistical/obs_consumed_per_second': 234.2265625, 'logistical/obs_generated_per_second': 106.234375, 'logistical/data_consumption_ratio': 2.20691779, 'logistical/manual_train_pause': 0.0, 'trn_control_loss': 0.00853863, 'trn_headings_loss': 0.0002819, 'trn_curvatures_loss': 0.00108913, 'consistency losses/trn_steer_cost': 0.00310012, 'consistency losses/trn_te_loss': 17.97101142, 'aux losses/trn_pitch_loss': 0.10224271, 'aux losses/trn_yaw_loss': 0.12774444, 'consistency losses/trn_%_updates_w_torque_delta_loss': 0.234375, 'consistency losses/trn_torque_loss': 643.4671016, 'consistency losses/trn_torque_delta_loss': 5.03188165, 'logistical/max_param': 16.19485474, 'logistical/lr': 0.0001}\n",
      "{'logistical/obs_consumed_per_second': 239.671875, 'logistical/obs_generated_per_second': 105.703125, 'logistical/data_consumption_ratio': 2.26929918, 'logistical/manual_train_pause': 0.0, 'trn_control_loss': 0.00676082, 'trn_headings_loss': 0.00031398, 'trn_curvatures_loss': 0.00130438, 'consistency losses/trn_steer_cost': 0.00301357, 'consistency losses/trn_te_loss': 18.76813596, 'aux losses/trn_pitch_loss': 0.08628964, 'aux losses/trn_yaw_loss': 0.10052729, 'consistency losses/trn_%_updates_w_torque_delta_loss': 0.1796875, 'consistency losses/trn_torque_loss': 753.3929207, 'consistency losses/trn_torque_delta_loss': 6.14790311, 'logistical/max_param': 16.19322586, 'logistical/lr': 0.0001}\n",
      "{'logistical/obs_consumed_per_second': 231.2734375, 'logistical/obs_generated_per_second': 99.6484375, 'logistical/data_consumption_ratio': 2.31854336, 'logistical/manual_train_pause': 0.0, 'trn_control_loss': 0.00741583, 'trn_headings_loss': 0.00032304, 'trn_curvatures_loss': 0.00129703, 'consistency losses/trn_steer_cost': 0.00324939, 'consistency losses/trn_te_loss': 18.93452352, 'aux losses/trn_pitch_loss': 0.09040928, 'aux losses/trn_yaw_loss': 0.12074685, 'consistency losses/trn_%_updates_w_torque_delta_loss': 0.2265625, 'consistency losses/trn_torque_loss': 675.45284176, 'consistency losses/trn_torque_delta_loss': 7.46505657, 'logistical/max_param': 16.19277382, 'logistical/lr': 0.0001}\n",
      "{'logistical/obs_consumed_per_second': 227.7890625, 'logistical/obs_generated_per_second': 101.4375, 'logistical/data_consumption_ratio': 2.24230657, 'logistical/manual_train_pause': 0.0, 'trn_control_loss': 0.00721639, 'trn_headings_loss': 0.00030231, 'trn_curvatures_loss': 0.00136103, 'consistency losses/trn_steer_cost': 0.00361347, 'consistency losses/trn_te_loss': 18.12814315, 'aux losses/trn_pitch_loss': 0.0810653, 'aux losses/trn_yaw_loss': 0.12777829, 'consistency losses/trn_%_updates_w_torque_delta_loss': 0.1484375, 'consistency losses/trn_torque_loss': 542.69296996, 'consistency losses/trn_torque_delta_loss': 7.34290797, 'logistical/max_param': 16.19367027, 'logistical/lr': 0.0001}\n",
      "{'logistical/obs_consumed_per_second': 231.0703125, 'logistical/obs_generated_per_second': 106.984375, 'logistical/data_consumption_ratio': 2.1574819, 'logistical/manual_train_pause': 0.0, 'trn_control_loss': 0.01296046, 'trn_headings_loss': 0.00045531, 'trn_curvatures_loss': 0.00205217, 'consistency losses/trn_steer_cost': 0.00412261, 'consistency losses/trn_te_loss': 17.41777932, 'aux losses/trn_pitch_loss': 0.1051271, 'aux losses/trn_yaw_loss': 0.14815998, 'consistency losses/trn_%_updates_w_torque_delta_loss': 0.2421875, 'consistency losses/trn_torque_loss': 557.87729301, 'consistency losses/trn_torque_delta_loss': 5.91733033, 'logistical/max_param': 16.19078445, 'logistical/lr': 0.0001}\n",
      "{'logistical/obs_consumed_per_second': 232.0078125, 'logistical/obs_generated_per_second': 106.3984375, 'logistical/data_consumption_ratio': 2.17891656, 'logistical/manual_train_pause': 0.0, 'trn_control_loss': 0.00619152, 'trn_headings_loss': 0.00031732, 'trn_curvatures_loss': 0.0010755, 'consistency losses/trn_steer_cost': 0.00263172, 'consistency losses/trn_te_loss': 18.84577987, 'aux losses/trn_pitch_loss': 0.09121966, 'aux losses/trn_yaw_loss': 0.0924058, 'consistency losses/trn_%_updates_w_torque_delta_loss': 0.1875, 'consistency losses/trn_torque_loss': 634.91237905, 'consistency losses/trn_torque_delta_loss': 6.65896517, 'logistical/max_param': 16.19021606, 'logistical/lr': 0.0001}\n",
      "{'logistical/obs_consumed_per_second': 215.0, 'logistical/obs_generated_per_second': 109.0, 'logistical/data_consumption_ratio': 1.9798353, 'logistical/manual_train_pause': 0.0}\n",
      "\n",
      "\n",
      " Eval...\n",
      "EPOCH 78\n",
      "\n",
      "{'trn_control_loss': 0.00900823, 'trn_headings_loss': 0.00035621, 'trn_curvatures_loss': 0.00141989, 'consistency losses/trn_steer_cost': 0.00350548, 'consistency losses/trn_te_loss': 18.07766441, 'aux losses/trn_pitch_loss': 0.07808268, 'aux losses/trn_yaw_loss': 0.14480901, 'consistency losses/trn_%_updates_w_torque_delta_loss': 0.203125, 'consistency losses/trn_torque_loss': 578.94219837, 'logistical/obs_consumed_per_second': 237.22047244, 'logistical/obs_generated_per_second': 101.66141732, 'logistical/data_consumption_ratio': 2.33859687, 'logistical/manual_train_pause': 0.00015748, 'consistency losses/trn_torque_delta_loss': 5.47010438, 'logistical/max_param': 16.1895256, 'logistical/lr': 0.0001}\n",
      "{'logistical/obs_consumed_per_second': 233.921875, 'logistical/obs_generated_per_second': 100.578125, 'logistical/data_consumption_ratio': 2.32982303, 'logistical/manual_train_pause': 0.00023438, 'trn_control_loss': 0.00573681, 'trn_headings_loss': 0.00023404, 'trn_curvatures_loss': 0.00090943, 'consistency losses/trn_steer_cost': 0.00218192, 'consistency losses/trn_te_loss': 19.28271835, 'aux losses/trn_pitch_loss': 0.08487558, 'aux losses/trn_yaw_loss': 0.10301232, 'consistency losses/trn_%_updates_w_torque_delta_loss': 0.1875, 'consistency losses/trn_torque_loss': 794.58081238, 'consistency losses/trn_torque_delta_loss': 6.1596067, 'logistical/max_param': 16.18903542, 'logistical/lr': 0.0001}\n",
      "{'logistical/obs_consumed_per_second': 233.421875, 'logistical/obs_generated_per_second': 103.8203125, 'logistical/data_consumption_ratio': 2.24984651, 'logistical/manual_train_pause': 0.0, 'trn_control_loss': 0.0070899, 'trn_headings_loss': 0.00032878, 'trn_curvatures_loss': 0.00116583, 'consistency losses/trn_steer_cost': 0.00249375, 'consistency losses/trn_te_loss': 18.69547176, 'aux losses/trn_pitch_loss': 0.08421612, 'aux losses/trn_yaw_loss': 0.12460804, 'consistency losses/trn_%_updates_w_torque_delta_loss': 0.2109375, 'consistency losses/trn_torque_loss': 703.68249138, 'consistency losses/trn_torque_delta_loss': 6.01110193, 'logistical/max_param': 16.1867218, 'logistical/lr': 0.0001}\n",
      "{'logistical/obs_consumed_per_second': 236.421875, 'logistical/obs_generated_per_second': 99.46875, 'logistical/data_consumption_ratio': 2.37842822, 'logistical/manual_train_pause': 0.00054688, 'trn_control_loss': 0.00889051, 'trn_headings_loss': 0.00042742, 'trn_curvatures_loss': 0.00171159, 'consistency losses/trn_steer_cost': 0.00335774, 'consistency losses/trn_te_loss': 17.90946378, 'aux losses/trn_pitch_loss': 0.08167315, 'aux losses/trn_yaw_loss': 0.12605572, 'consistency losses/trn_%_updates_w_torque_delta_loss': 0.171875, 'consistency losses/trn_torque_loss': 549.45501518, 'consistency losses/trn_torque_delta_loss': 4.74305449, 'logistical/max_param': 16.18683434, 'logistical/lr': 0.0001}\n"
     ]
    },
    {
     "name": "stdout",
     "output_type": "stream",
     "text": [
      "{'logistical/obs_consumed_per_second': 237.171875, 'logistical/obs_generated_per_second': 102.484375, 'logistical/data_consumption_ratio': 2.31738238, 'logistical/manual_train_pause': 7.812e-05, 'trn_control_loss': 0.00660047, 'trn_headings_loss': 0.00029055, 'trn_curvatures_loss': 0.00096764, 'consistency losses/trn_steer_cost': 0.00213025, 'consistency losses/trn_te_loss': 19.66880085, 'aux losses/trn_pitch_loss': 0.09369922, 'aux losses/trn_yaw_loss': 0.11131048, 'consistency losses/trn_%_updates_w_torque_delta_loss': 0.203125, 'consistency losses/trn_torque_loss': 655.84458031, 'consistency losses/trn_torque_delta_loss': 6.54616135, 'logistical/max_param': 16.18770981, 'logistical/lr': 0.0001}\n",
      "{'logistical/obs_consumed_per_second': 232.515625, 'logistical/obs_generated_per_second': 104.640625, 'logistical/data_consumption_ratio': 2.22400624, 'logistical/manual_train_pause': 0.0, 'trn_control_loss': 0.01119372, 'trn_headings_loss': 0.00038622, 'trn_curvatures_loss': 0.00156406, 'consistency losses/trn_steer_cost': 0.00312833, 'consistency losses/trn_te_loss': 17.38881101, 'aux losses/trn_pitch_loss': 0.09895635, 'aux losses/trn_yaw_loss': 0.13576698, 'consistency losses/trn_%_updates_w_torque_delta_loss': 0.1875, 'consistency losses/trn_torque_loss': 566.84121913, 'consistency losses/trn_torque_delta_loss': 6.57300308, 'logistical/max_param': 16.18451118, 'logistical/lr': 0.0001}\n",
      "{'logistical/obs_consumed_per_second': 233.359375, 'logistical/obs_generated_per_second': 105.71875, 'logistical/data_consumption_ratio': 2.20861613, 'logistical/manual_train_pause': 0.0, 'trn_control_loss': 0.00698063, 'trn_headings_loss': 0.00028407, 'trn_curvatures_loss': 0.00111936, 'consistency losses/trn_steer_cost': 0.00290068, 'consistency losses/trn_te_loss': 18.6893447, 'aux losses/trn_pitch_loss': 0.08338571, 'aux losses/trn_yaw_loss': 0.1319797, 'consistency losses/trn_%_updates_w_torque_delta_loss': 0.2109375, 'consistency losses/trn_torque_loss': 683.21251255, 'consistency losses/trn_torque_delta_loss': 6.69694942, 'logistical/max_param': 16.18599129, 'logistical/lr': 0.0001}\n",
      "{'logistical/obs_consumed_per_second': 230.703125, 'logistical/obs_generated_per_second': 106.671875, 'logistical/data_consumption_ratio': 2.16069445, 'logistical/manual_train_pause': 0.0, 'trn_control_loss': 0.00845383, 'trn_headings_loss': 0.00032059, 'trn_curvatures_loss': 0.00107193, 'consistency losses/trn_steer_cost': 0.00247823, 'consistency losses/trn_te_loss': 18.65429452, 'aux losses/trn_pitch_loss': 0.08563852, 'aux losses/trn_yaw_loss': 0.10860682, 'consistency losses/trn_%_updates_w_torque_delta_loss': 0.2734375, 'consistency losses/trn_torque_loss': 637.22875824, 'consistency losses/trn_torque_delta_loss': 5.94120007, 'logistical/max_param': 16.18706131, 'logistical/lr': 0.0001}\n",
      "{'logistical/obs_consumed_per_second': 236.0390625, 'logistical/obs_generated_per_second': 107.03125, 'logistical/data_consumption_ratio': 2.20672369, 'logistical/manual_train_pause': 0.0, 'trn_control_loss': 0.00651757, 'trn_headings_loss': 0.00026706, 'trn_curvatures_loss': 0.0009736, 'consistency losses/trn_steer_cost': 0.00233826, 'consistency losses/trn_te_loss': 19.41317332, 'aux losses/trn_pitch_loss': 0.08020496, 'aux losses/trn_yaw_loss': 0.12270737, 'consistency losses/trn_%_updates_w_torque_delta_loss': 0.296875, 'consistency losses/trn_torque_loss': 596.93347539, 'consistency losses/trn_torque_delta_loss': 7.19229779, 'logistical/max_param': 16.18693161, 'logistical/lr': 0.0001}\n",
      "{'logistical/obs_consumed_per_second': 232.1015625, 'logistical/obs_generated_per_second': 105.7734375, 'logistical/data_consumption_ratio': 2.19566145, 'logistical/manual_train_pause': 0.0, 'trn_control_loss': 0.00606319, 'trn_headings_loss': 0.00026185, 'trn_curvatures_loss': 0.00093819, 'consistency losses/trn_steer_cost': 0.00241139, 'consistency losses/trn_te_loss': 19.34783111, 'aux losses/trn_pitch_loss': 0.08090162, 'aux losses/trn_yaw_loss': 0.10117912, 'consistency losses/trn_%_updates_w_torque_delta_loss': 0.25, 'consistency losses/trn_torque_loss': 672.09324552, 'consistency losses/trn_torque_delta_loss': 5.55736747, 'logistical/max_param': 16.1860218, 'logistical/lr': 0.0001}\n",
      "{'logistical/obs_consumed_per_second': 143.0, 'logistical/obs_generated_per_second': 101.0, 'logistical/data_consumption_ratio': 1.4124622, 'logistical/manual_train_pause': 0.0}\n",
      "\n",
      "\n",
      " Eval...\n",
      "EPOCH 79\n",
      "\n",
      "{'trn_control_loss': 0.00728273, 'trn_headings_loss': 0.000279, 'trn_curvatures_loss': 0.00112211, 'consistency losses/trn_steer_cost': 0.00246075, 'consistency losses/trn_te_loss': 18.8703054, 'aux losses/trn_pitch_loss': 0.08681011, 'aux losses/trn_yaw_loss': 0.12606835, 'consistency losses/trn_%_updates_w_torque_delta_loss': 0.2109375, 'consistency losses/trn_torque_loss': 626.18379968, 'logistical/obs_consumed_per_second': 237.22047244, 'logistical/obs_generated_per_second': 102.95275591, 'logistical/data_consumption_ratio': 2.30593871, 'logistical/manual_train_pause': 0.0, 'consistency losses/trn_torque_delta_loss': 5.19571924, 'logistical/max_param': 16.18355179, 'logistical/lr': 0.0001}\n",
      "{'logistical/obs_consumed_per_second': 234.65625, 'logistical/obs_generated_per_second': 105.7578125, 'logistical/data_consumption_ratio': 2.22071002, 'logistical/manual_train_pause': 0.0, 'trn_control_loss': 0.00659135, 'trn_headings_loss': 0.00026098, 'trn_curvatures_loss': 0.00099251, 'consistency losses/trn_steer_cost': 0.00255939, 'consistency losses/trn_te_loss': 18.3491603, 'aux losses/trn_pitch_loss': 0.07730985, 'aux losses/trn_yaw_loss': 0.11666846, 'consistency losses/trn_%_updates_w_torque_delta_loss': 0.1875, 'consistency losses/trn_torque_loss': 491.22772139, 'consistency losses/trn_torque_delta_loss': 4.58956101, 'logistical/max_param': 16.18447876, 'logistical/lr': 0.0001}\n",
      "{'logistical/obs_consumed_per_second': 235.4140625, 'logistical/obs_generated_per_second': 99.8671875, 'logistical/data_consumption_ratio': 2.35899037, 'logistical/manual_train_pause': 0.00023438, 'trn_control_loss': 0.00916763, 'trn_headings_loss': 0.00037719, 'trn_curvatures_loss': 0.00140177, 'consistency losses/trn_steer_cost': 0.00319378, 'consistency losses/trn_te_loss': 18.51488531, 'aux losses/trn_pitch_loss': 0.11279464, 'aux losses/trn_yaw_loss': 0.14022207, 'consistency losses/trn_%_updates_w_torque_delta_loss': 0.1328125, 'consistency losses/trn_torque_loss': 725.99637931, 'consistency losses/trn_torque_delta_loss': 5.26716263, 'logistical/max_param': 16.18500137, 'logistical/lr': 0.0001}\n",
      "{'logistical/obs_consumed_per_second': 233.3515625, 'logistical/obs_generated_per_second': 108.6796875, 'logistical/data_consumption_ratio': 2.14740666, 'logistical/manual_train_pause': 0.0, 'trn_control_loss': 0.00876108, 'trn_headings_loss': 0.00031221, 'trn_curvatures_loss': 0.00127396, 'consistency losses/trn_steer_cost': 0.00323793, 'consistency losses/trn_te_loss': 17.30255187, 'aux losses/trn_pitch_loss': 0.08984017, 'aux losses/trn_yaw_loss': 0.14312768, 'consistency losses/trn_%_updates_w_torque_delta_loss': 0.1328125, 'consistency losses/trn_torque_loss': 538.25635795, 'consistency losses/trn_torque_delta_loss': 5.26418989, 'logistical/max_param': 16.18512535, 'logistical/lr': 0.0001}\n",
      "{'logistical/obs_consumed_per_second': 234.5, 'logistical/obs_generated_per_second': 105.75, 'logistical/data_consumption_ratio': 2.21962587, 'logistical/manual_train_pause': 0.0, 'trn_control_loss': 0.00677952, 'trn_headings_loss': 0.00026734, 'trn_curvatures_loss': 0.00114544, 'consistency losses/trn_steer_cost': 0.00294664, 'consistency losses/trn_te_loss': 18.33578764, 'aux losses/trn_pitch_loss': 0.10242081, 'aux losses/trn_yaw_loss': 0.11059666, 'consistency losses/trn_%_updates_w_torque_delta_loss': 0.2265625, 'consistency losses/trn_torque_delta_loss': 4.9502955, 'consistency losses/trn_torque_loss': 627.51983781, 'logistical/max_param': 16.18634605, 'logistical/lr': 0.0001}\n",
      "{'logistical/obs_consumed_per_second': 235.9921875, 'logistical/obs_generated_per_second': 101.015625, 'logistical/data_consumption_ratio': 2.33964711, 'logistical/manual_train_pause': 0.00039062, 'trn_control_loss': 0.00852104, 'trn_headings_loss': 0.00037793, 'trn_curvatures_loss': 0.00137047, 'consistency losses/trn_steer_cost': 0.00327282, 'consistency losses/trn_te_loss': 17.89044176, 'aux losses/trn_pitch_loss': 0.08526123, 'aux losses/trn_yaw_loss': 0.12094712, 'consistency losses/trn_%_updates_w_torque_delta_loss': 0.21875, 'consistency losses/trn_torque_loss': 572.17209311, 'consistency losses/trn_torque_delta_loss': 5.78473753, 'logistical/max_param': 16.18792152, 'logistical/lr': 0.0001}\n"
     ]
    },
    {
     "name": "stdout",
     "output_type": "stream",
     "text": [
      "{'logistical/obs_consumed_per_second': 234.1171875, 'logistical/obs_generated_per_second': 101.9921875, 'logistical/data_consumption_ratio': 2.29519736, 'logistical/manual_train_pause': 0.0, 'trn_control_loss': 0.00888416, 'trn_headings_loss': 0.00031863, 'trn_curvatures_loss': 0.00138056, 'consistency losses/trn_steer_cost': 0.00340229, 'consistency losses/trn_te_loss': 18.63147514, 'aux losses/trn_pitch_loss': 0.07927847, 'aux losses/trn_yaw_loss': 0.12273264, 'consistency losses/trn_%_updates_w_torque_delta_loss': 0.1796875, 'consistency losses/trn_torque_loss': 630.64665017, 'consistency losses/trn_torque_delta_loss': 6.71858955, 'logistical/max_param': 16.18744659, 'logistical/lr': 0.0001}\n",
      "{'logistical/obs_consumed_per_second': 238.1796875, 'logistical/obs_generated_per_second': 104.75, 'logistical/data_consumption_ratio': 2.27131182, 'logistical/manual_train_pause': 0.0, 'trn_control_loss': 0.00899065, 'trn_headings_loss': 0.00036339, 'trn_curvatures_loss': 0.00163975, 'consistency losses/trn_steer_cost': 0.00412078, 'consistency losses/trn_te_loss': 17.99009205, 'aux losses/trn_pitch_loss': 0.0900867, 'aux losses/trn_yaw_loss': 0.11104774, 'consistency losses/trn_%_updates_w_torque_delta_loss': 0.140625, 'consistency losses/trn_torque_loss': 679.76878275, 'consistency losses/trn_torque_delta_loss': 8.17177033, 'logistical/max_param': 16.18668556, 'logistical/lr': 0.0001}\n",
      "{'logistical/obs_consumed_per_second': 237.7890625, 'logistical/obs_generated_per_second': 104.9375, 'logistical/data_consumption_ratio': 2.26967872, 'logistical/manual_train_pause': 0.0, 'trn_control_loss': 0.00841361, 'trn_headings_loss': 0.00037911, 'trn_curvatures_loss': 0.00172129, 'consistency losses/trn_steer_cost': 0.00337756, 'consistency losses/trn_te_loss': 17.65938747, 'aux losses/trn_pitch_loss': 0.09033728, 'aux losses/trn_yaw_loss': 0.1264329, 'consistency losses/trn_%_updates_w_torque_delta_loss': 0.234375, 'consistency losses/trn_torque_loss': 622.55461378, 'consistency losses/trn_torque_delta_loss': 6.58808369, 'logistical/max_param': 16.18695641, 'logistical/lr': 0.0001}\n",
      "{'logistical/obs_consumed_per_second': 234.828125, 'logistical/obs_generated_per_second': 99.4453125, 'logistical/data_consumption_ratio': 2.36353901, 'logistical/manual_train_pause': 0.00039062, 'trn_control_loss': 0.00741497, 'trn_headings_loss': 0.00031442, 'trn_curvatures_loss': 0.00135805, 'consistency losses/trn_steer_cost': 0.00279713, 'consistency losses/trn_te_loss': 19.88444471, 'aux losses/trn_pitch_loss': 0.07864118, 'aux losses/trn_yaw_loss': 0.10917521, 'consistency losses/trn_%_updates_w_torque_delta_loss': 0.2578125, 'consistency losses/trn_torque_loss': 802.90096777, 'consistency losses/trn_torque_delta_loss': 5.6474915, 'logistical/max_param': 16.18968773, 'logistical/lr': 0.0001}\n",
      "{'logistical/obs_consumed_per_second': 133.0, 'logistical/obs_generated_per_second': 105.0, 'logistical/data_consumption_ratio': 1.26362554, 'logistical/manual_train_pause': 0.0}\n",
      "\n",
      "\n",
      " Eval...\n",
      "EPOCH 80\n",
      "\n",
      "{'trn_control_loss': 0.00727452, 'trn_headings_loss': 0.00033542, 'trn_curvatures_loss': 0.00131132, 'consistency losses/trn_steer_cost': 0.00281031, 'consistency losses/trn_te_loss': 18.64990617, 'aux losses/trn_pitch_loss': 0.10233021, 'aux losses/trn_yaw_loss': 0.10140681, 'consistency losses/trn_%_updates_w_torque_delta_loss': 0.203125, 'consistency losses/trn_torque_loss': 598.55768191, 'consistency losses/trn_torque_delta_loss': 6.19796923, 'logistical/obs_consumed_per_second': 238.56692913, 'logistical/obs_generated_per_second': 103.20472441, 'logistical/data_consumption_ratio': 2.310118, 'logistical/manual_train_pause': 0.0, 'logistical/max_param': 16.189888, 'logistical/lr': 0.0001}\n",
      "{'logistical/obs_consumed_per_second': 232.7578125, 'logistical/obs_generated_per_second': 96.7578125, 'logistical/data_consumption_ratio': 2.4062344, 'logistical/manual_train_pause': 0.00070312, 'trn_control_loss': 0.00668713, 'trn_headings_loss': 0.00033641, 'trn_curvatures_loss': 0.00116456, 'consistency losses/trn_steer_cost': 0.00263649, 'consistency losses/trn_te_loss': 18.63257691, 'aux losses/trn_pitch_loss': 0.09053278, 'aux losses/trn_yaw_loss': 0.12280321, 'consistency losses/trn_%_updates_w_torque_delta_loss': 0.109375, 'consistency losses/trn_torque_loss': 586.44644661, 'consistency losses/trn_torque_delta_loss': 6.76204864, 'logistical/max_param': 16.18890953, 'logistical/lr': 0.0001}\n",
      "{'logistical/obs_consumed_per_second': 231.546875, 'logistical/obs_generated_per_second': 100.875, 'logistical/data_consumption_ratio': 2.29386426, 'logistical/manual_train_pause': 0.0, 'trn_control_loss': 0.00962809, 'trn_headings_loss': 0.00043315, 'trn_curvatures_loss': 0.00168454, 'consistency losses/trn_steer_cost': 0.00352983, 'consistency losses/trn_te_loss': 17.92830744, 'aux losses/trn_pitch_loss': 0.08926845, 'aux losses/trn_yaw_loss': 0.11276722, 'consistency losses/trn_%_updates_w_torque_delta_loss': 0.1015625, 'consistency losses/trn_torque_loss': 640.97474557, 'consistency losses/trn_torque_delta_loss': 9.29195773, 'logistical/max_param': 16.18917847, 'logistical/lr': 0.0001}\n",
      "{'logistical/obs_consumed_per_second': 237.40625, 'logistical/obs_generated_per_second': 100.125, 'logistical/data_consumption_ratio': 2.3764271, 'logistical/manual_train_pause': 0.00078125, 'trn_control_loss': 0.00740418, 'trn_headings_loss': 0.00029464, 'trn_curvatures_loss': 0.00122745, 'consistency losses/trn_steer_cost': 0.0028374, 'consistency losses/trn_te_loss': 18.03900674, 'aux losses/trn_pitch_loss': 0.10386157, 'aux losses/trn_yaw_loss': 0.13779306, 'consistency losses/trn_%_updates_w_torque_delta_loss': 0.203125, 'consistency losses/trn_torque_loss': 601.01009175, 'consistency losses/trn_torque_delta_loss': 6.22156034, 'logistical/max_param': 16.18933296, 'logistical/lr': 0.0001}\n",
      "{'logistical/obs_consumed_per_second': 234.4375, 'logistical/obs_generated_per_second': 94.078125, 'logistical/data_consumption_ratio': 2.49706957, 'logistical/manual_train_pause': 0.0009375, 'trn_control_loss': 0.00667912, 'trn_headings_loss': 0.00027707, 'trn_curvatures_loss': 0.00106077, 'consistency losses/trn_steer_cost': 0.00226646, 'consistency losses/trn_te_loss': 19.78734452, 'aux losses/trn_pitch_loss': 0.09470439, 'aux losses/trn_yaw_loss': 0.11127663, 'consistency losses/trn_%_updates_w_torque_delta_loss': 0.25, 'consistency losses/trn_torque_loss': 800.3790834, 'consistency losses/trn_torque_delta_loss': 5.82551298, 'logistical/max_param': 16.18921471, 'logistical/lr': 0.0001}\n",
      "{'logistical/obs_consumed_per_second': 232.7109375, 'logistical/obs_generated_per_second': 102.34375, 'logistical/data_consumption_ratio': 2.27423912, 'logistical/manual_train_pause': 0.0, 'trn_control_loss': 0.00783426, 'trn_headings_loss': 0.00030149, 'trn_curvatures_loss': 0.00117703, 'consistency losses/trn_steer_cost': 0.00286771, 'consistency losses/trn_te_loss': 18.60153517, 'aux losses/trn_pitch_loss': 0.07587767, 'aux losses/trn_yaw_loss': 0.10813022, 'consistency losses/trn_%_updates_w_torque_delta_loss': 0.2109375, 'consistency losses/trn_torque_loss': 604.2232724, 'consistency losses/trn_torque_delta_loss': 7.53592851, 'logistical/max_param': 16.187397, 'logistical/lr': 0.0001}\n",
      "{'logistical/obs_consumed_per_second': 234.34375, 'logistical/obs_generated_per_second': 102.84375, 'logistical/data_consumption_ratio': 2.27921336, 'logistical/manual_train_pause': 0.0, 'trn_control_loss': 0.00721648, 'trn_headings_loss': 0.00027964, 'trn_curvatures_loss': 0.00108054, 'consistency losses/trn_steer_cost': 0.00285493, 'consistency losses/trn_te_loss': 17.99743762, 'aux losses/trn_pitch_loss': 0.08851409, 'aux losses/trn_yaw_loss': 0.10134053, 'consistency losses/trn_%_updates_w_torque_delta_loss': 0.171875, 'consistency losses/trn_torque_loss': 562.43377008, 'consistency losses/trn_torque_delta_loss': 6.7588378, 'logistical/max_param': 16.18929863, 'logistical/lr': 0.0001}\n",
      "{'logistical/obs_consumed_per_second': 234.9453125, 'logistical/obs_generated_per_second': 104.875, 'logistical/data_consumption_ratio': 2.24405064, 'logistical/manual_train_pause': 0.0, 'trn_control_loss': 0.00954178, 'trn_headings_loss': 0.00036395, 'trn_curvatures_loss': 0.00141788, 'consistency losses/trn_steer_cost': 0.00290174, 'consistency losses/trn_te_loss': 18.16711836, 'aux losses/trn_pitch_loss': 0.10039258, 'aux losses/trn_yaw_loss': 0.12640977, 'consistency losses/trn_%_updates_w_torque_delta_loss': 0.234375, 'consistency losses/trn_torque_loss': 547.51183719, 'consistency losses/trn_torque_delta_loss': 7.36717878, 'logistical/max_param': 16.18989563, 'logistical/lr': 0.0001}\n"
     ]
    },
    {
     "name": "stdout",
     "output_type": "stream",
     "text": [
      "{'logistical/obs_consumed_per_second': 233.046875, 'logistical/obs_generated_per_second': 108.046875, 'logistical/data_consumption_ratio': 2.16009694, 'logistical/manual_train_pause': 0.0, 'trn_control_loss': 0.00916737, 'trn_headings_loss': 0.0003456, 'trn_curvatures_loss': 0.00137416, 'consistency losses/trn_steer_cost': 0.00276709, 'consistency losses/trn_te_loss': 18.32621693, 'aux losses/trn_pitch_loss': 0.10463715, 'aux losses/trn_yaw_loss': 0.12217808, 'consistency losses/trn_%_updates_w_torque_delta_loss': 0.1640625, 'consistency losses/trn_torque_loss': 587.2338703, 'consistency losses/trn_torque_delta_loss': 5.70730631, 'logistical/max_param': 16.19363976, 'logistical/lr': 0.0001}\n",
      "{'logistical/obs_consumed_per_second': 234.9453125, 'logistical/obs_generated_per_second': 103.703125, 'logistical/data_consumption_ratio': 2.2667919, 'logistical/manual_train_pause': 0.0, 'trn_control_loss': 0.01048258, 'trn_headings_loss': 0.00043109, 'trn_curvatures_loss': 0.00153735, 'consistency losses/trn_steer_cost': 0.00346439, 'consistency losses/trn_te_loss': 17.36256798, 'aux losses/trn_pitch_loss': 0.10641217, 'aux losses/trn_yaw_loss': 0.11580563, 'consistency losses/trn_%_updates_w_torque_delta_loss': 0.109375, 'consistency losses/trn_torque_loss': 568.28780291, 'consistency losses/trn_torque_delta_loss': 7.75018234, 'logistical/max_param': 16.19077873, 'logistical/lr': 0.0001}\n",
      "{'logistical/obs_consumed_per_second': 149.0, 'logistical/obs_generated_per_second': 102.0, 'logistical/data_consumption_ratio': 1.46361851, 'logistical/manual_train_pause': 0.0}\n",
      "\n",
      "\n",
      " Eval...\n",
      "EPOCH 81\n",
      "\n",
      "{'trn_control_loss': 0.00558938, 'trn_headings_loss': 0.00026721, 'trn_curvatures_loss': 0.00087941, 'consistency losses/trn_steer_cost': 0.00229435, 'consistency losses/trn_te_loss': 18.89311545, 'aux losses/trn_pitch_loss': 0.08897424, 'aux losses/trn_yaw_loss': 0.09195483, 'consistency losses/trn_%_updates_w_torque_delta_loss': 0.1875, 'consistency losses/trn_torque_loss': 731.38433278, 'consistency losses/trn_torque_delta_loss': 6.86902992, 'logistical/obs_consumed_per_second': 234.06299213, 'logistical/obs_generated_per_second': 100.22834646, 'logistical/data_consumption_ratio': 2.33700442, 'logistical/manual_train_pause': 7.874e-05, 'logistical/max_param': 16.19207954, 'logistical/lr': 0.0001}\n",
      "{'logistical/obs_consumed_per_second': 239.0390625, 'logistical/obs_generated_per_second': 104.46875, 'logistical/data_consumption_ratio': 2.28614568, 'logistical/manual_train_pause': 0.0, 'trn_control_loss': 0.00755993, 'trn_headings_loss': 0.00031911, 'trn_curvatures_loss': 0.00135581, 'consistency losses/trn_steer_cost': 0.00361294, 'consistency losses/trn_te_loss': 18.66710981, 'aux losses/trn_pitch_loss': 0.08493471, 'aux losses/trn_yaw_loss': 0.12846971, 'consistency losses/trn_%_updates_w_torque_delta_loss': 0.234375, 'consistency losses/trn_torque_loss': 691.40549262, 'consistency losses/trn_torque_delta_loss': 6.51317194, 'logistical/max_param': 16.19191551, 'logistical/lr': 0.0001}\n",
      "{'logistical/obs_consumed_per_second': 235.546875, 'logistical/obs_generated_per_second': 107.4609375, 'logistical/data_consumption_ratio': 2.19996934, 'logistical/manual_train_pause': 0.0, 'trn_control_loss': 0.00806929, 'trn_headings_loss': 0.00033357, 'trn_curvatures_loss': 0.0011978, 'consistency losses/trn_steer_cost': 0.00261021, 'consistency losses/trn_te_loss': 19.80561927, 'aux losses/trn_pitch_loss': 0.08410227, 'aux losses/trn_yaw_loss': 0.1371069, 'consistency losses/trn_%_updates_w_torque_delta_loss': 0.2265625, 'consistency losses/trn_torque_loss': 677.7274117, 'consistency losses/trn_torque_delta_loss': 5.19364557, 'logistical/max_param': 16.18822098, 'logistical/lr': 0.0001}\n",
      "{'logistical/obs_consumed_per_second': 230.71875, 'logistical/obs_generated_per_second': 106.015625, 'logistical/data_consumption_ratio': 2.17810122, 'logistical/manual_train_pause': 0.0, 'trn_control_loss': 0.0079793, 'trn_headings_loss': 0.00033046, 'trn_curvatures_loss': 0.00134342, 'consistency losses/trn_steer_cost': 0.00308986, 'consistency losses/trn_te_loss': 18.66299564, 'aux losses/trn_pitch_loss': 0.08531022, 'aux losses/trn_yaw_loss': 0.13871622, 'consistency losses/trn_%_updates_w_torque_delta_loss': 0.2265625, 'consistency losses/trn_torque_loss': 578.67009763, 'consistency losses/trn_torque_delta_loss': 6.07440247, 'logistical/max_param': 16.19118309, 'logistical/lr': 0.0001}\n",
      "{'logistical/obs_consumed_per_second': 230.109375, 'logistical/obs_generated_per_second': 102.4609375, 'logistical/data_consumption_ratio': 2.24648256, 'logistical/manual_train_pause': 0.0, 'trn_control_loss': 0.01038283, 'trn_headings_loss': 0.0003775, 'trn_curvatures_loss': 0.0013878, 'consistency losses/trn_steer_cost': 0.00310098, 'consistency losses/trn_te_loss': 18.69016315, 'aux losses/trn_pitch_loss': 0.10667348, 'aux losses/trn_yaw_loss': 0.12207031, 'consistency losses/trn_%_updates_w_torque_delta_loss': 0.21875, 'consistency losses/trn_torque_loss': 740.37490169, 'consistency losses/trn_torque_delta_loss': 7.21053025, 'logistical/max_param': 16.19246674, 'logistical/lr': 0.0001}\n",
      "{'logistical/obs_consumed_per_second': 230.15625, 'logistical/obs_generated_per_second': 97.2421875, 'logistical/data_consumption_ratio': 2.36644359, 'logistical/manual_train_pause': 0.00070312, 'trn_control_loss': 0.0073339, 'trn_headings_loss': 0.00027457, 'trn_curvatures_loss': 0.00089736, 'consistency losses/trn_steer_cost': 0.00218906, 'consistency losses/trn_te_loss': 19.48241563, 'aux losses/trn_pitch_loss': 0.12131405, 'aux losses/trn_yaw_loss': 0.09284973, 'consistency losses/trn_%_updates_w_torque_delta_loss': 0.140625, 'consistency losses/trn_torque_loss': 531.8511982, 'consistency losses/trn_torque_delta_loss': 8.16669787, 'logistical/max_param': 16.19471741, 'logistical/lr': 0.0001}\n",
      "{'logistical/obs_consumed_per_second': 238.3359375, 'logistical/obs_generated_per_second': 96.515625, 'logistical/data_consumption_ratio': 2.4706653, 'logistical/manual_train_pause': 0.00109375, 'trn_control_loss': 0.00635174, 'trn_headings_loss': 0.0002261, 'trn_curvatures_loss': 0.0008286, 'consistency losses/trn_steer_cost': 0.00229967, 'consistency losses/trn_te_loss': 18.91950405, 'aux losses/trn_pitch_loss': 0.07801127, 'aux losses/trn_yaw_loss': 0.10952091, 'consistency losses/trn_%_updates_w_torque_delta_loss': 0.1484375, 'consistency losses/trn_torque_delta_loss': 8.56294824, 'consistency losses/trn_torque_loss': 602.73931985, 'logistical/max_param': 16.19270897, 'logistical/lr': 0.0001}\n",
      "{'logistical/obs_consumed_per_second': 239.078125, 'logistical/obs_generated_per_second': 94.546875, 'logistical/data_consumption_ratio': 2.52586686, 'logistical/manual_train_pause': 0.00125, 'trn_control_loss': 0.00817965, 'trn_headings_loss': 0.00027593, 'trn_curvatures_loss': 0.00111469, 'consistency losses/trn_steer_cost': 0.00276306, 'consistency losses/trn_te_loss': 19.81130821, 'aux losses/trn_pitch_loss': 0.09665132, 'aux losses/trn_yaw_loss': 0.12851977, 'consistency losses/trn_%_updates_w_torque_delta_loss': 0.2734375, 'consistency losses/trn_torque_loss': 510.87349821, 'consistency losses/trn_torque_delta_loss': 7.44389396, 'logistical/max_param': 16.19331169, 'logistical/lr': 0.0001}\n",
      "{'logistical/obs_consumed_per_second': 235.796875, 'logistical/obs_generated_per_second': 103.25, 'logistical/data_consumption_ratio': 2.28490307, 'logistical/manual_train_pause': 0.00015625, 'trn_control_loss': 0.007147, 'trn_headings_loss': 0.00027387, 'trn_curvatures_loss': 0.00117286, 'consistency losses/trn_steer_cost': 0.00318959, 'consistency losses/trn_te_loss': 18.17863702, 'aux losses/trn_pitch_loss': 0.10907364, 'aux losses/trn_yaw_loss': 0.12192249, 'consistency losses/trn_%_updates_w_torque_delta_loss': 0.1875, 'consistency losses/trn_torque_loss': 598.18014023, 'consistency losses/trn_torque_delta_loss': 5.75630753, 'logistical/max_param': 16.19235992, 'logistical/lr': 0.0001}\n",
      "{'logistical/obs_consumed_per_second': 231.671875, 'logistical/obs_generated_per_second': 105.734375, 'logistical/data_consumption_ratio': 2.19214214, 'logistical/manual_train_pause': 0.0, 'trn_control_loss': 0.00803615, 'trn_headings_loss': 0.00028482, 'trn_curvatures_loss': 0.0011924, 'consistency losses/trn_steer_cost': 0.00296421, 'consistency losses/trn_te_loss': 17.58817095, 'aux losses/trn_pitch_loss': 0.07853866, 'aux losses/trn_yaw_loss': 0.13390112, 'consistency losses/trn_%_updates_w_torque_delta_loss': 0.2734375, 'consistency losses/trn_torque_loss': 594.08937049, 'consistency losses/trn_torque_delta_loss': 5.4077439, 'logistical/max_param': 16.19299698, 'logistical/lr': 0.0001}\n"
     ]
    },
    {
     "name": "stdout",
     "output_type": "stream",
     "text": [
      "{'logistical/obs_consumed_per_second': 112.0, 'logistical/obs_generated_per_second': 106.0, 'logistical/data_consumption_ratio': 1.0567704, 'logistical/manual_train_pause': 0.0}\n",
      "\n",
      "\n",
      " Eval...\n",
      "EPOCH 82\n",
      "\n",
      "{'trn_control_loss': 0.00829178, 'trn_headings_loss': 0.00031967, 'trn_curvatures_loss': 0.00140964, 'consistency losses/trn_steer_cost': 0.00341022, 'consistency losses/trn_te_loss': 17.84952617, 'aux losses/trn_pitch_loss': 0.07236862, 'aux losses/trn_yaw_loss': 0.11551857, 'consistency losses/trn_%_updates_w_torque_delta_loss': 0.15625, 'consistency losses/trn_torque_loss': 477.30449154, 'consistency losses/trn_torque_delta_loss': 5.9727442, 'logistical/obs_consumed_per_second': 234.49606299, 'logistical/obs_generated_per_second': 105.0, 'logistical/data_consumption_ratio': 2.23898233, 'logistical/manual_train_pause': 0.0, 'logistical/max_param': 16.19324684, 'logistical/lr': 0.0001}\n",
      "{'logistical/obs_consumed_per_second': 231.578125, 'logistical/obs_generated_per_second': 103.40625, 'logistical/data_consumption_ratio': 2.24563241, 'logistical/manual_train_pause': 0.00023438, 'trn_control_loss': 0.007981, 'trn_headings_loss': 0.00032258, 'trn_curvatures_loss': 0.00140569, 'consistency losses/trn_steer_cost': 0.00395936, 'consistency losses/trn_te_loss': 17.75180116, 'aux losses/trn_pitch_loss': 0.08254123, 'aux losses/trn_yaw_loss': 0.10388005, 'consistency losses/trn_%_updates_w_torque_delta_loss': 0.25, 'consistency losses/trn_torque_loss': 668.75999936, 'consistency losses/trn_torque_delta_loss': 8.10863692, 'logistical/max_param': 16.19233322, 'logistical/lr': 0.0001}\n",
      "{'logistical/obs_consumed_per_second': 233.953125, 'logistical/obs_generated_per_second': 96.84375, 'logistical/data_consumption_ratio': 2.42240601, 'logistical/manual_train_pause': 0.00085938, 'trn_control_loss': 0.00704746, 'trn_headings_loss': 0.00027181, 'trn_curvatures_loss': 0.00099044, 'consistency losses/trn_steer_cost': 0.00263187, 'consistency losses/trn_te_loss': 18.63788228, 'aux losses/trn_pitch_loss': 0.06801867, 'aux losses/trn_yaw_loss': 0.09520626, 'consistency losses/trn_%_updates_w_torque_delta_loss': 0.234375, 'consistency losses/trn_torque_loss': 677.67509803, 'consistency losses/trn_torque_delta_loss': 5.95037089, 'logistical/max_param': 16.19323349, 'logistical/lr': 0.0001}\n",
      "{'logistical/obs_consumed_per_second': 229.5703125, 'logistical/obs_generated_per_second': 103.328125, 'logistical/data_consumption_ratio': 2.23281291, 'logistical/manual_train_pause': 0.00046875, 'trn_control_loss': 0.00933221, 'trn_headings_loss': 0.00032319, 'trn_curvatures_loss': 0.00146333, 'consistency losses/trn_steer_cost': 0.00430486, 'consistency losses/trn_te_loss': 18.40585271, 'aux losses/trn_pitch_loss': 0.09019971, 'aux losses/trn_yaw_loss': 0.11751246, 'consistency losses/trn_%_updates_w_torque_delta_loss': 0.234375, 'consistency losses/trn_torque_loss': 643.60244958, 'consistency losses/trn_torque_delta_loss': 7.83489467, 'logistical/max_param': 16.19438171, 'logistical/lr': 0.0001}\n",
      "{'logistical/obs_consumed_per_second': 235.3984375, 'logistical/obs_generated_per_second': 103.28125, 'logistical/data_consumption_ratio': 2.28264705, 'logistical/manual_train_pause': 0.0, 'trn_control_loss': 0.00998233, 'trn_headings_loss': 0.00033623, 'trn_curvatures_loss': 0.00137888, 'consistency losses/trn_steer_cost': 0.00299288, 'consistency losses/trn_te_loss': 18.65878928, 'aux losses/trn_pitch_loss': 0.07743835, 'aux losses/trn_yaw_loss': 0.12874937, 'consistency losses/trn_%_updates_w_torque_delta_loss': 0.21875, 'consistency losses/trn_torque_loss': 602.04081556, 'consistency losses/trn_torque_delta_loss': 5.2110606, 'logistical/max_param': 16.19542313, 'logistical/lr': 0.0001}\n",
      "{'logistical/obs_consumed_per_second': 233.453125, 'logistical/obs_generated_per_second': 108.7421875, 'logistical/data_consumption_ratio': 2.14654242, 'logistical/manual_train_pause': 0.0, 'trn_control_loss': 0.00881456, 'trn_headings_loss': 0.00036851, 'trn_curvatures_loss': 0.00178083, 'consistency losses/trn_steer_cost': 0.00455657, 'consistency losses/trn_te_loss': 16.36590316, 'aux losses/trn_pitch_loss': 0.07928562, 'aux losses/trn_yaw_loss': 0.1493957, 'consistency losses/trn_%_updates_w_torque_delta_loss': 0.171875, 'consistency losses/trn_torque_loss': 553.14673441, 'consistency losses/trn_torque_delta_loss': 5.5116684, 'logistical/max_param': 16.19640541, 'logistical/lr': 0.0001}\n",
      "{'logistical/obs_consumed_per_second': 241.484375, 'logistical/obs_generated_per_second': 114.3515625, 'logistical/data_consumption_ratio': 2.11486869, 'logistical/manual_train_pause': 0.0, 'trn_control_loss': 0.00900748, 'trn_headings_loss': 0.00033832, 'trn_curvatures_loss': 0.00162783, 'consistency losses/trn_steer_cost': 0.00416876, 'consistency losses/trn_te_loss': 17.74608047, 'aux losses/trn_pitch_loss': 0.09870219, 'aux losses/trn_yaw_loss': 0.16050029, 'consistency losses/trn_%_updates_w_torque_delta_loss': 0.1640625, 'consistency losses/trn_torque_loss': 578.29156463, 'consistency losses/trn_torque_delta_loss': 4.68587892, 'logistical/max_param': 16.19540405, 'logistical/lr': 0.0001}\n",
      "{'logistical/obs_consumed_per_second': 230.6796875, 'logistical/obs_generated_per_second': 110.9375, 'logistical/data_consumption_ratio': 2.07619023, 'logistical/manual_train_pause': 0.0, 'trn_control_loss': 0.00766931, 'trn_headings_loss': 0.000324, 'trn_curvatures_loss': 0.00130455, 'consistency losses/trn_steer_cost': 0.00324401, 'consistency losses/trn_te_loss': 17.15816849, 'aux losses/trn_pitch_loss': 0.10367012, 'aux losses/trn_yaw_loss': 0.14242721, 'consistency losses/trn_%_updates_w_torque_delta_loss': 0.1875, 'consistency losses/trn_torque_loss': 550.59163589, 'consistency losses/trn_torque_delta_loss': 6.88029713, 'logistical/max_param': 16.19439697, 'logistical/lr': 0.0001}\n",
      "{'logistical/obs_consumed_per_second': 230.390625, 'logistical/obs_generated_per_second': 107.1484375, 'logistical/data_consumption_ratio': 2.15202564, 'logistical/manual_train_pause': 0.0, 'trn_control_loss': 0.00919747, 'trn_headings_loss': 0.00033183, 'trn_curvatures_loss': 0.00131867, 'consistency losses/trn_steer_cost': 0.00310335, 'consistency losses/trn_te_loss': 18.2555084, 'aux losses/trn_pitch_loss': 0.09235096, 'aux losses/trn_yaw_loss': 0.15314364, 'consistency losses/trn_%_updates_w_torque_delta_loss': 0.1875, 'consistency losses/trn_torque_loss': 588.4581387, 'consistency losses/trn_torque_delta_loss': 5.02769932, 'logistical/max_param': 16.19596291, 'logistical/lr': 0.0001}\n",
      "{'logistical/obs_consumed_per_second': 235.2265625, 'logistical/obs_generated_per_second': 101.8125, 'logistical/data_consumption_ratio': 2.31148582, 'logistical/manual_train_pause': 0.00054688, 'trn_control_loss': 0.00644554, 'trn_headings_loss': 0.00023723, 'trn_curvatures_loss': 0.0010157, 'consistency losses/trn_steer_cost': 0.00301383, 'consistency losses/trn_te_loss': 18.96451086, 'aux losses/trn_pitch_loss': 0.09633088, 'aux losses/trn_yaw_loss': 0.1407342, 'consistency losses/trn_%_updates_w_torque_delta_loss': 0.2109375, 'consistency losses/trn_torque_loss': 645.77151028, 'consistency losses/trn_torque_delta_loss': 5.47249829, 'logistical/max_param': 16.19373703, 'logistical/lr': 0.0001}\n",
      "{'logistical/obs_consumed_per_second': 177.0, 'logistical/obs_generated_per_second': 108.0, 'logistical/data_consumption_ratio': 1.63428878, 'logistical/manual_train_pause': 0.0}\n",
      "\n",
      "\n",
      " Eval...\n",
      "EPOCH 83\n",
      "\n",
      "{'trn_control_loss': 0.01055792, 'trn_headings_loss': 0.0004218, 'trn_curvatures_loss': 0.00174905, 'consistency losses/trn_steer_cost': 0.00362968, 'consistency losses/trn_te_loss': 17.63212389, 'aux losses/trn_pitch_loss': 0.09172273, 'aux losses/trn_yaw_loss': 0.13708186, 'consistency losses/trn_%_updates_w_torque_delta_loss': 0.21875, 'consistency losses/trn_torque_loss': 532.44439751, 'consistency losses/trn_torque_delta_loss': 5.51637996, 'logistical/obs_consumed_per_second': 234.18110236, 'logistical/obs_generated_per_second': 101.88976378, 'logistical/data_consumption_ratio': 2.30089582, 'logistical/manual_train_pause': 7.874e-05, 'logistical/max_param': 16.19146538, 'logistical/lr': 0.0001}\n",
      "{'logistical/obs_consumed_per_second': 233.0859375, 'logistical/obs_generated_per_second': 103.4453125, 'logistical/data_consumption_ratio': 2.2525115, 'logistical/manual_train_pause': 0.0, 'trn_control_loss': 0.00854436, 'trn_headings_loss': 0.00038938, 'trn_curvatures_loss': 0.00165833, 'consistency losses/trn_steer_cost': 0.00334544, 'consistency losses/trn_te_loss': 18.06793797, 'aux losses/trn_pitch_loss': 0.09286618, 'aux losses/trn_yaw_loss': 0.14580369, 'consistency losses/trn_%_updates_w_torque_delta_loss': 0.203125, 'consistency losses/trn_torque_loss': 610.72079506, 'consistency losses/trn_torque_delta_loss': 6.9591229, 'logistical/max_param': 16.19083023, 'logistical/lr': 0.0001}\n"
     ]
    },
    {
     "name": "stdout",
     "output_type": "stream",
     "text": [
      "{'logistical/obs_consumed_per_second': 231.6640625, 'logistical/obs_generated_per_second': 101.5390625, 'logistical/data_consumption_ratio': 2.28539658, 'logistical/manual_train_pause': 0.00015625, 'trn_control_loss': 0.00768965, 'trn_headings_loss': 0.00031743, 'trn_curvatures_loss': 0.00145447, 'consistency losses/trn_steer_cost': 0.00380258, 'consistency losses/trn_te_loss': 18.5411057, 'aux losses/trn_pitch_loss': 0.08705139, 'aux losses/trn_yaw_loss': 0.1206665, 'consistency losses/trn_%_updates_w_torque_delta_loss': 0.140625, 'consistency losses/trn_torque_loss': 566.31139, 'consistency losses/trn_torque_delta_loss': 6.07782149, 'logistical/max_param': 16.19148827, 'logistical/lr': 0.0001}\n",
      "{'logistical/obs_consumed_per_second': 233.015625, 'logistical/obs_generated_per_second': 94.484375, 'logistical/data_consumption_ratio': 2.46777505, 'logistical/manual_train_pause': 0.00148438, 'trn_control_loss': 0.00799958, 'trn_headings_loss': 0.00032404, 'trn_curvatures_loss': 0.00141016, 'consistency losses/trn_steer_cost': 0.00363773, 'consistency losses/trn_te_loss': 18.10249143, 'aux losses/trn_pitch_loss': 0.09587407, 'aux losses/trn_yaw_loss': 0.13960671, 'consistency losses/trn_%_updates_w_torque_delta_loss': 0.1796875, 'consistency losses/trn_torque_loss': 614.19962606, 'consistency losses/trn_torque_delta_loss': 6.20232971, 'logistical/max_param': 16.19154358, 'logistical/lr': 0.0001}\n",
      "{'logistical/obs_consumed_per_second': 233.7109375, 'logistical/obs_generated_per_second': 108.5625, 'logistical/data_consumption_ratio': 2.15615723, 'logistical/manual_train_pause': 0.0, 'trn_control_loss': 0.00809203, 'trn_headings_loss': 0.00039769, 'trn_curvatures_loss': 0.00177835, 'consistency losses/trn_steer_cost': 0.00371262, 'consistency losses/trn_te_loss': 19.1328056, 'aux losses/trn_pitch_loss': 0.10006285, 'aux losses/trn_yaw_loss': 0.11071396, 'consistency losses/trn_%_updates_w_torque_delta_loss': 0.1875, 'consistency losses/trn_torque_loss': 666.29864668, 'consistency losses/trn_torque_delta_loss': 5.69994496, 'logistical/max_param': 16.18930054, 'logistical/lr': 0.0001}\n",
      "{'logistical/obs_consumed_per_second': 230.4375, 'logistical/obs_generated_per_second': 108.171875, 'logistical/data_consumption_ratio': 2.13412115, 'logistical/manual_train_pause': 0.0, 'trn_control_loss': 0.00793535, 'trn_headings_loss': 0.00037055, 'trn_curvatures_loss': 0.00147289, 'consistency losses/trn_steer_cost': 0.00355807, 'consistency losses/trn_te_loss': 18.18405683, 'aux losses/trn_pitch_loss': 0.0768584, 'aux losses/trn_yaw_loss': 0.12292099, 'consistency losses/trn_%_updates_w_torque_delta_loss': 0.1875, 'consistency losses/trn_torque_loss': 651.00210339, 'consistency losses/trn_torque_delta_loss': 5.7678174, 'logistical/max_param': 16.18838882, 'logistical/lr': 0.0001}\n",
      "{'logistical/obs_consumed_per_second': 233.2578125, 'logistical/obs_generated_per_second': 100.3046875, 'logistical/data_consumption_ratio': 2.3291764, 'logistical/manual_train_pause': 0.00023438, 'trn_control_loss': 0.00892216, 'trn_headings_loss': 0.00038943, 'trn_curvatures_loss': 0.00148414, 'consistency losses/trn_steer_cost': 0.00336197, 'consistency losses/trn_te_loss': 18.51224454, 'aux losses/trn_pitch_loss': 0.09679878, 'aux losses/trn_yaw_loss': 0.1263057, 'consistency losses/trn_%_updates_w_torque_delta_loss': 0.2734375, 'consistency losses/trn_torque_loss': 656.62897003, 'consistency losses/trn_torque_delta_loss': 6.25408028, 'logistical/max_param': 16.18498611, 'logistical/lr': 0.0001}\n",
      "{'logistical/obs_consumed_per_second': 235.5, 'logistical/obs_generated_per_second': 105.328125, 'logistical/data_consumption_ratio': 2.23799492, 'logistical/manual_train_pause': 7.812e-05, 'trn_control_loss': 0.00717765, 'trn_headings_loss': 0.00033408, 'trn_curvatures_loss': 0.00139324, 'consistency losses/trn_steer_cost': 0.00385135, 'consistency losses/trn_te_loss': 18.06571781, 'aux losses/trn_pitch_loss': 0.08767426, 'aux losses/trn_yaw_loss': 0.11194158, 'consistency losses/trn_%_updates_w_torque_delta_loss': 0.1953125, 'consistency losses/trn_torque_loss': 622.92560655, 'consistency losses/trn_torque_delta_loss': 5.82605692, 'logistical/max_param': 16.18512344, 'logistical/lr': 0.0001}\n",
      "{'logistical/obs_consumed_per_second': 233.453125, 'logistical/obs_generated_per_second': 107.5234375, 'logistical/data_consumption_ratio': 2.17329729, 'logistical/manual_train_pause': 0.0, 'trn_control_loss': 0.01103783, 'trn_headings_loss': 0.00046046, 'trn_curvatures_loss': 0.00206732, 'consistency losses/trn_steer_cost': 0.00467241, 'consistency losses/trn_te_loss': 17.19817739, 'aux losses/trn_pitch_loss': 0.08385098, 'aux losses/trn_yaw_loss': 0.13044596, 'consistency losses/trn_%_updates_w_torque_delta_loss': 0.1640625, 'consistency losses/trn_torque_loss': 624.71730306, 'consistency losses/trn_torque_delta_loss': 6.0310181, 'logistical/max_param': 16.18353844, 'logistical/lr': 0.0001}\n",
      "{'logistical/obs_consumed_per_second': 236.96875, 'logistical/obs_generated_per_second': 101.390625, 'logistical/data_consumption_ratio': 2.34416072, 'logistical/manual_train_pause': 0.00054688, 'trn_control_loss': 0.00592181, 'trn_headings_loss': 0.00027204, 'trn_curvatures_loss': 0.00100745, 'consistency losses/trn_steer_cost': 0.00268678, 'consistency losses/trn_te_loss': 17.39737472, 'aux losses/trn_pitch_loss': 0.08093548, 'aux losses/trn_yaw_loss': 0.09747243, 'consistency losses/trn_%_updates_w_torque_delta_loss': 0.2734375, 'consistency losses/trn_torque_loss': 595.66447281, 'consistency losses/trn_torque_delta_loss': 7.55012469, 'logistical/max_param': 16.18349075, 'logistical/lr': 0.0001}\n",
      "{'logistical/obs_consumed_per_second': 175.0, 'logistical/obs_generated_per_second': 93.0, 'logistical/data_consumption_ratio': 1.878156, 'logistical/manual_train_pause': 0.0}\n",
      "\n",
      "\n",
      " Eval...\n",
      "EPOCH 84\n",
      "\n",
      "{'trn_control_loss': 0.008362, 'trn_headings_loss': 0.00033818, 'trn_curvatures_loss': 0.00133726, 'consistency losses/trn_steer_cost': 0.0029122, 'consistency losses/trn_te_loss': 17.70785197, 'aux losses/trn_pitch_loss': 0.07709026, 'aux losses/trn_yaw_loss': 0.13985801, 'consistency losses/trn_%_updates_w_torque_delta_loss': 0.2109375, 'consistency losses/trn_torque_loss': 723.41516134, 'consistency losses/trn_torque_delta_loss': 5.50190875, 'logistical/obs_consumed_per_second': 236.41732283, 'logistical/obs_generated_per_second': 100.20472441, 'logistical/data_consumption_ratio': 2.36494516, 'logistical/manual_train_pause': 0.00031496, 'logistical/max_param': 16.18342018, 'logistical/lr': 0.0001}\n",
      "{'logistical/obs_consumed_per_second': 231.1640625, 'logistical/obs_generated_per_second': 98.3828125, 'logistical/data_consumption_ratio': 2.34645761, 'logistical/manual_train_pause': 0.00015625, 'trn_control_loss': 0.01121613, 'trn_headings_loss': 0.00043285, 'trn_curvatures_loss': 0.00154391, 'consistency losses/trn_steer_cost': 0.00377354, 'consistency losses/trn_te_loss': 17.81593061, 'aux losses/trn_pitch_loss': 0.09399223, 'aux losses/trn_yaw_loss': 0.20099783, 'consistency losses/trn_%_updates_w_torque_delta_loss': 0.3046875, 'consistency losses/trn_torque_loss': 672.85946694, 'consistency losses/trn_torque_delta_loss': 5.81677051, 'logistical/max_param': 16.18351173, 'logistical/lr': 0.0001}\n",
      "{'logistical/obs_consumed_per_second': 233.46875, 'logistical/obs_generated_per_second': 105.171875, 'logistical/data_consumption_ratio': 2.21971375, 'logistical/manual_train_pause': 0.0, 'trn_control_loss': 0.01651862, 'trn_headings_loss': 0.00056049, 'trn_curvatures_loss': 0.00232001, 'consistency losses/trn_steer_cost': 0.00371413, 'consistency losses/trn_te_loss': 18.07065347, 'aux losses/trn_pitch_loss': 0.09121752, 'aux losses/trn_yaw_loss': 0.15748978, 'consistency losses/trn_%_updates_w_torque_delta_loss': 0.2421875, 'consistency losses/trn_torque_loss': 725.83369305, 'consistency losses/trn_torque_delta_loss': 6.84643972, 'logistical/max_param': 16.18372536, 'logistical/lr': 0.0001}\n",
      "{'logistical/obs_consumed_per_second': 234.328125, 'logistical/obs_generated_per_second': 103.8671875, 'logistical/data_consumption_ratio': 2.25816868, 'logistical/manual_train_pause': 0.0, 'trn_control_loss': 0.00931379, 'trn_headings_loss': 0.00038237, 'trn_curvatures_loss': 0.00173203, 'consistency losses/trn_steer_cost': 0.00372007, 'consistency losses/trn_te_loss': 17.44324659, 'aux losses/trn_pitch_loss': 0.09631705, 'aux losses/trn_yaw_loss': 0.15277076, 'consistency losses/trn_%_updates_w_torque_delta_loss': 0.1953125, 'consistency losses/trn_torque_loss': 641.04221759, 'consistency losses/trn_torque_delta_loss': 4.64489068, 'logistical/max_param': 16.18426514, 'logistical/lr': 0.0001}\n"
     ]
    },
    {
     "name": "stdout",
     "output_type": "stream",
     "text": [
      "{'logistical/obs_consumed_per_second': 232.796875, 'logistical/obs_generated_per_second': 107.34375, 'logistical/data_consumption_ratio': 2.17167744, 'logistical/manual_train_pause': 0.0, 'trn_control_loss': 0.01070236, 'trn_headings_loss': 0.00041265, 'trn_curvatures_loss': 0.00189641, 'consistency losses/trn_steer_cost': 0.0050462, 'consistency losses/trn_te_loss': 17.2053299, 'aux losses/trn_pitch_loss': 0.10480571, 'aux losses/trn_yaw_loss': 0.18364382, 'consistency losses/trn_%_updates_w_torque_delta_loss': 0.21875, 'consistency losses/trn_torque_loss': 578.15883446, 'consistency losses/trn_torque_delta_loss': 5.78962687, 'logistical/max_param': 16.18313026, 'logistical/lr': 0.0001}\n",
      "{'logistical/obs_consumed_per_second': 233.2734375, 'logistical/obs_generated_per_second': 106.46875, 'logistical/data_consumption_ratio': 2.19121151, 'logistical/manual_train_pause': 0.0, 'trn_control_loss': 0.00677103, 'trn_headings_loss': 0.00025136, 'trn_curvatures_loss': 0.00095708, 'consistency losses/trn_steer_cost': 0.00272254, 'consistency losses/trn_te_loss': 18.71187808, 'aux losses/trn_pitch_loss': 0.09298873, 'aux losses/trn_yaw_loss': 0.11258006, 'consistency losses/trn_%_updates_w_torque_delta_loss': 0.265625, 'consistency losses/trn_torque_loss': 796.05720401, 'consistency losses/trn_torque_delta_loss': 7.16592545, 'logistical/max_param': 16.1835804, 'logistical/lr': 0.0001}\n",
      "{'logistical/obs_consumed_per_second': 231.5078125, 'logistical/obs_generated_per_second': 102.4140625, 'logistical/data_consumption_ratio': 2.26273265, 'logistical/manual_train_pause': 0.0, 'trn_control_loss': 0.00949019, 'trn_headings_loss': 0.00042328, 'trn_curvatures_loss': 0.00194705, 'consistency losses/trn_steer_cost': 0.00501052, 'consistency losses/trn_te_loss': 17.53289374, 'aux losses/trn_pitch_loss': 0.10659075, 'aux losses/trn_yaw_loss': 0.1706903, 'consistency losses/trn_%_updates_w_torque_delta_loss': 0.2421875, 'consistency losses/trn_torque_loss': 682.31649673, 'consistency losses/trn_torque_delta_loss': 6.95449968, 'logistical/max_param': 16.18384933, 'logistical/lr': 0.0001}\n",
      "{'logistical/obs_consumed_per_second': 237.3359375, 'logistical/obs_generated_per_second': 103.515625, 'logistical/data_consumption_ratio': 2.29244898, 'logistical/manual_train_pause': 0.0, 'trn_control_loss': 0.00859439, 'trn_headings_loss': 0.00034694, 'trn_curvatures_loss': 0.00158396, 'consistency losses/trn_steer_cost': 0.00436102, 'consistency losses/trn_te_loss': 17.40949536, 'aux losses/trn_pitch_loss': 0.10366917, 'aux losses/trn_yaw_loss': 0.14165401, 'consistency losses/trn_%_updates_w_torque_delta_loss': 0.1796875, 'consistency losses/trn_torque_loss': 717.0752067, 'consistency losses/trn_torque_delta_loss': 8.02034624, 'logistical/max_param': 16.18316269, 'logistical/lr': 0.0001}\n",
      "{'logistical/obs_consumed_per_second': 234.671875, 'logistical/obs_generated_per_second': 104.03125, 'logistical/data_consumption_ratio': 2.25929425, 'logistical/manual_train_pause': 0.0, 'trn_control_loss': 0.0112448, 'trn_headings_loss': 0.00042701, 'trn_curvatures_loss': 0.00215609, 'consistency losses/trn_steer_cost': 0.00422721, 'consistency losses/trn_te_loss': 17.61929615, 'aux losses/trn_pitch_loss': 0.08355403, 'aux losses/trn_yaw_loss': 0.15278983, 'consistency losses/trn_%_updates_w_torque_delta_loss': 0.1953125, 'consistency losses/trn_torque_loss': 763.914461, 'consistency losses/trn_torque_delta_loss': 6.45756964, 'logistical/max_param': 16.18221855, 'logistical/lr': 0.0001}\n",
      "{'logistical/obs_consumed_per_second': 236.390625, 'logistical/obs_generated_per_second': 98.0625, 'logistical/data_consumption_ratio': 2.41561786, 'logistical/manual_train_pause': 0.00070312, 'trn_control_loss': 0.01192024, 'trn_headings_loss': 0.00038757, 'trn_curvatures_loss': 0.00160677, 'consistency losses/trn_steer_cost': 0.00377309, 'consistency losses/trn_te_loss': 17.01879016, 'aux losses/trn_pitch_loss': 0.10425949, 'aux losses/trn_yaw_loss': 0.14019465, 'consistency losses/trn_%_updates_w_torque_delta_loss': 0.2265625, 'consistency losses/trn_torque_loss': 674.53470862, 'consistency losses/trn_torque_delta_loss': 6.74813174, 'logistical/max_param': 16.18139458, 'logistical/lr': 0.0001}\n",
      "{'logistical/obs_consumed_per_second': 135.0, 'logistical/obs_generated_per_second': 102.0, 'logistical/data_consumption_ratio': 1.32540244, 'logistical/manual_train_pause': 0.0}\n",
      "\n",
      "\n",
      " Eval...\n",
      "EPOCH 85\n",
      "\n",
      "{'trn_control_loss': 0.01046667, 'trn_headings_loss': 0.00040656, 'trn_curvatures_loss': 0.00203908, 'consistency losses/trn_steer_cost': 0.0053191, 'consistency losses/trn_te_loss': 16.8955041, 'aux losses/trn_pitch_loss': 0.10708642, 'aux losses/trn_yaw_loss': 0.15288138, 'consistency losses/trn_%_updates_w_torque_delta_loss': 0.125, 'consistency losses/trn_torque_loss': 707.87752085, 'consistency losses/trn_torque_delta_loss': 9.13284481, 'logistical/obs_consumed_per_second': 238.19685039, 'logistical/obs_generated_per_second': 101.73228346, 'logistical/data_consumption_ratio': 2.34545253, 'logistical/manual_train_pause': 7.874e-05, 'logistical/max_param': 16.18160629, 'logistical/lr': 0.0001}\n",
      "{'logistical/obs_consumed_per_second': 233.546875, 'logistical/obs_generated_per_second': 106.0390625, 'logistical/data_consumption_ratio': 2.20037283, 'logistical/manual_train_pause': 0.0, 'trn_control_loss': 0.01009595, 'trn_headings_loss': 0.00038012, 'trn_curvatures_loss': 0.00150428, 'consistency losses/trn_steer_cost': 0.00294669, 'consistency losses/trn_te_loss': 18.75326066, 'aux losses/trn_pitch_loss': 0.08884358, 'aux losses/trn_yaw_loss': 0.11244929, 'consistency losses/trn_%_updates_w_torque_delta_loss': 0.2265625, 'consistency losses/trn_torque_loss': 624.5457029, 'consistency losses/trn_torque_delta_loss': 5.59627526, 'logistical/max_param': 16.18370056, 'logistical/lr': 0.0001}\n",
      "{'logistical/obs_consumed_per_second': 234.765625, 'logistical/obs_generated_per_second': 102.734375, 'logistical/data_consumption_ratio': 2.28802884, 'logistical/manual_train_pause': 0.0, 'trn_control_loss': 0.00687982, 'trn_headings_loss': 0.00028103, 'trn_curvatures_loss': 0.00118252, 'consistency losses/trn_steer_cost': 0.00280055, 'consistency losses/trn_te_loss': 18.34405221, 'aux losses/trn_pitch_loss': 0.08354592, 'aux losses/trn_yaw_loss': 0.10050929, 'consistency losses/trn_%_updates_w_torque_delta_loss': 0.140625, 'consistency losses/trn_torque_loss': 697.69624326, 'consistency losses/trn_torque_delta_loss': 5.72709064, 'logistical/max_param': 16.18364525, 'logistical/lr': 0.0001}\n",
      "{'logistical/obs_consumed_per_second': 230.109375, 'logistical/obs_generated_per_second': 103.203125, 'logistical/data_consumption_ratio': 2.23095689, 'logistical/manual_train_pause': 0.0, 'trn_control_loss': 0.00923565, 'trn_headings_loss': 0.00036033, 'trn_curvatures_loss': 0.00146487, 'consistency losses/trn_steer_cost': 0.00340573, 'consistency losses/trn_te_loss': 17.97027425, 'aux losses/trn_pitch_loss': 0.08458281, 'aux losses/trn_yaw_loss': 0.11043572, 'consistency losses/trn_%_updates_w_torque_delta_loss': 0.3046875, 'consistency losses/trn_torque_loss': 583.37751523, 'consistency losses/trn_torque_delta_loss': 7.06196698, 'logistical/max_param': 16.18121719, 'logistical/lr': 0.0001}\n",
      "{'logistical/obs_consumed_per_second': 236.578125, 'logistical/obs_generated_per_second': 102.09375, 'logistical/data_consumption_ratio': 2.31814977, 'logistical/manual_train_pause': 7.812e-05, 'trn_control_loss': 0.00824881, 'trn_headings_loss': 0.00035756, 'trn_curvatures_loss': 0.001744, 'consistency losses/trn_steer_cost': 0.00385971, 'consistency losses/trn_te_loss': 17.3520751, 'aux losses/trn_pitch_loss': 0.09932113, 'aux losses/trn_yaw_loss': 0.13329625, 'consistency losses/trn_%_updates_w_torque_delta_loss': 0.1796875, 'consistency losses/trn_torque_loss': 539.43841053, 'consistency losses/trn_torque_delta_loss': 6.88445223, 'logistical/max_param': 16.1835556, 'logistical/lr': 0.0001}\n",
      "{'logistical/obs_consumed_per_second': 236.9765625, 'logistical/obs_generated_per_second': 103.2265625, 'logistical/data_consumption_ratio': 2.29662255, 'logistical/manual_train_pause': 0.0, 'trn_control_loss': 0.00692201, 'trn_headings_loss': 0.00028219, 'trn_curvatures_loss': 0.00101413, 'consistency losses/trn_steer_cost': 0.00252707, 'consistency losses/trn_te_loss': 18.55580407, 'aux losses/trn_pitch_loss': 0.08816302, 'aux losses/trn_yaw_loss': 0.10720134, 'consistency losses/trn_%_updates_w_torque_delta_loss': 0.1796875, 'consistency losses/trn_torque_loss': 645.19048893, 'consistency losses/trn_torque_delta_loss': 6.89400982, 'logistical/max_param': 16.18380928, 'logistical/lr': 0.0001}\n"
     ]
    },
    {
     "name": "stdout",
     "output_type": "stream",
     "text": [
      "{'logistical/obs_consumed_per_second': 233.53125, 'logistical/obs_generated_per_second': 98.328125, 'logistical/data_consumption_ratio': 2.38182671, 'logistical/manual_train_pause': 0.000625, 'trn_control_loss': 0.00751759, 'trn_headings_loss': 0.00035961, 'trn_curvatures_loss': 0.00132376, 'consistency losses/trn_steer_cost': 0.00311941, 'consistency losses/trn_te_loss': 18.8764171, 'aux losses/trn_pitch_loss': 0.08487713, 'aux losses/trn_yaw_loss': 0.11234248, 'consistency losses/trn_%_updates_w_torque_delta_loss': 0.3125, 'consistency losses/trn_torque_loss': 540.51237933, 'consistency losses/trn_torque_delta_loss': 12.52213055, 'logistical/max_param': 16.18328667, 'logistical/lr': 0.0001}\n",
      "{'logistical/obs_consumed_per_second': 235.890625, 'logistical/obs_generated_per_second': 99.953125, 'logistical/data_consumption_ratio': 2.3629099, 'logistical/manual_train_pause': 0.000625, 'trn_control_loss': 0.00906968, 'trn_headings_loss': 0.00037641, 'trn_curvatures_loss': 0.0015084, 'consistency losses/trn_steer_cost': 0.00315663, 'consistency losses/trn_te_loss': 18.98705739, 'aux losses/trn_pitch_loss': 0.10575128, 'aux losses/trn_yaw_loss': 0.14834142, 'consistency losses/trn_%_updates_w_torque_delta_loss': 0.2890625, 'consistency losses/trn_torque_loss': 605.60347626, 'consistency losses/trn_torque_delta_loss': 6.54054341, 'logistical/max_param': 16.18231201, 'logistical/lr': 0.0001}\n",
      "{'logistical/obs_consumed_per_second': 237.25, 'logistical/obs_generated_per_second': 98.2890625, 'logistical/data_consumption_ratio': 2.41348679, 'logistical/manual_train_pause': 0.0003125, 'trn_control_loss': 0.00824521, 'trn_headings_loss': 0.00026648, 'trn_curvatures_loss': 0.00104173, 'consistency losses/trn_steer_cost': 0.00260972, 'consistency losses/trn_te_loss': 17.33433296, 'aux losses/trn_pitch_loss': 0.10899425, 'aux losses/trn_yaw_loss': 0.13164592, 'consistency losses/trn_%_updates_w_torque_delta_loss': 0.046875, 'consistency losses/trn_torque_loss': 452.76176448, 'consistency losses/trn_torque_delta_loss': 5.01753644, 'logistical/max_param': 16.18234253, 'logistical/lr': 0.0001}\n",
      "{'logistical/obs_consumed_per_second': 237.703125, 'logistical/obs_generated_per_second': 98.59375, 'logistical/data_consumption_ratio': 2.40929278, 'logistical/manual_train_pause': 0.00023438, 'trn_control_loss': 0.0081425, 'trn_headings_loss': 0.00030513, 'trn_curvatures_loss': 0.0011222, 'consistency losses/trn_steer_cost': 0.0028925, 'consistency losses/trn_te_loss': 17.95490087, 'aux losses/trn_pitch_loss': 0.10880351, 'aux losses/trn_yaw_loss': 0.1164937, 'consistency losses/trn_%_updates_w_torque_delta_loss': 0.2421875, 'consistency losses/trn_torque_loss': 669.56597409, 'consistency losses/trn_torque_delta_loss': 7.98278821, 'logistical/max_param': 16.18150139, 'logistical/lr': 0.0001}\n",
      "{'logistical/obs_consumed_per_second': 147.0, 'logistical/obs_generated_per_second': 98.0, 'logistical/data_consumption_ratio': 1.49288886, 'logistical/manual_train_pause': 0.0}\n",
      "\n",
      "\n",
      " Eval...\n",
      "EPOCH 86\n",
      "\n",
      "{'trn_control_loss': 0.00923948, 'trn_headings_loss': 0.00041201, 'trn_curvatures_loss': 0.00164787, 'consistency losses/trn_steer_cost': 0.00372053, 'consistency losses/trn_te_loss': 18.51051881, 'aux losses/trn_pitch_loss': 0.10451889, 'aux losses/trn_yaw_loss': 0.11092269, 'consistency losses/trn_%_updates_w_torque_delta_loss': 0.25, 'consistency losses/trn_torque_loss': 614.04593091, 'consistency losses/trn_torque_delta_loss': 6.56383952, 'logistical/obs_consumed_per_second': 235.48031496, 'logistical/obs_generated_per_second': 102.70866142, 'logistical/data_consumption_ratio': 2.29340231, 'logistical/manual_train_pause': 0.00015748, 'logistical/max_param': 16.18214607, 'logistical/lr': 0.0001}\n",
      "{'logistical/obs_consumed_per_second': 238.875, 'logistical/obs_generated_per_second': 98.88188976, 'logistical/data_consumption_ratio': 2.4202155, 'logistical/manual_train_pause': 0.00102362, 'trn_control_loss': 0.0063128, 'trn_headings_loss': 0.00028159, 'trn_curvatures_loss': 0.00100943, 'consistency losses/trn_steer_cost': 0.00221218, 'consistency losses/trn_te_loss': 19.70294885, 'aux losses/trn_pitch_loss': 0.09705877, 'aux losses/trn_yaw_loss': 0.09505558, 'consistency losses/trn_%_updates_w_torque_delta_loss': 0.203125, 'consistency losses/trn_torque_loss': 643.82007354, 'consistency losses/trn_torque_delta_loss': 6.23349347, 'logistical/max_param': 16.1821785, 'logistical/lr': 0.0001}\n",
      "{'logistical/obs_consumed_per_second': 230.796875, 'logistical/obs_generated_per_second': 107.53125, 'logistical/data_consumption_ratio': 2.15034415, 'logistical/manual_train_pause': 0.0, 'trn_control_loss': 0.00610937, 'trn_headings_loss': 0.00028405, 'trn_curvatures_loss': 0.00103779, 'consistency losses/trn_steer_cost': 0.00238568, 'consistency losses/trn_te_loss': 18.05190186, 'aux losses/trn_pitch_loss': 0.08652782, 'aux losses/trn_yaw_loss': 0.09821033, 'consistency losses/trn_%_updates_w_torque_delta_loss': 0.125, 'consistency losses/trn_torque_loss': 535.67253617, 'consistency losses/trn_torque_delta_loss': 6.12093247, 'logistical/max_param': 16.18272591, 'logistical/lr': 0.0001}\n",
      "{'logistical/obs_consumed_per_second': 237.0859375, 'logistical/obs_generated_per_second': 102.2109375, 'logistical/data_consumption_ratio': 2.32634773, 'logistical/manual_train_pause': 7.812e-05, 'trn_control_loss': 0.00637127, 'trn_headings_loss': 0.00025892, 'trn_curvatures_loss': 0.0008974, 'consistency losses/trn_steer_cost': 0.00232276, 'consistency losses/trn_te_loss': 18.80849882, 'aux losses/trn_pitch_loss': 0.09025419, 'aux losses/trn_yaw_loss': 0.09379244, 'consistency losses/trn_%_updates_w_torque_delta_loss': 0.1640625, 'consistency losses/trn_torque_loss': 623.49304531, 'consistency losses/trn_torque_delta_loss': 6.93041763, 'logistical/max_param': 16.18129158, 'logistical/lr': 0.0001}\n",
      "{'logistical/obs_consumed_per_second': 233.5, 'logistical/obs_generated_per_second': 103.375, 'logistical/data_consumption_ratio': 2.26161002, 'logistical/manual_train_pause': 0.0, 'trn_control_loss': 0.00842746, 'trn_headings_loss': 0.00036862, 'trn_curvatures_loss': 0.00140956, 'consistency losses/trn_steer_cost': 0.00305831, 'consistency losses/trn_te_loss': 18.12989494, 'aux losses/trn_pitch_loss': 0.09593248, 'aux losses/trn_yaw_loss': 0.10681033, 'consistency losses/trn_%_updates_w_torque_delta_loss': 0.125, 'consistency losses/trn_torque_loss': 597.92309713, 'consistency losses/trn_torque_delta_loss': 5.46975036, 'logistical/max_param': 16.18191528, 'logistical/lr': 0.0001}\n",
      "{'logistical/obs_consumed_per_second': 233.984375, 'logistical/obs_generated_per_second': 110.609375, 'logistical/data_consumption_ratio': 2.11574011, 'logistical/manual_train_pause': 0.0, 'trn_control_loss': 0.0100999, 'trn_headings_loss': 0.00037238, 'trn_curvatures_loss': 0.00135906, 'consistency losses/trn_steer_cost': 0.00325608, 'consistency losses/trn_te_loss': 18.03894415, 'aux losses/trn_pitch_loss': 0.09687471, 'aux losses/trn_yaw_loss': 0.13762212, 'consistency losses/trn_%_updates_w_torque_delta_loss': 0.21875, 'consistency losses/trn_torque_loss': 586.09277602, 'consistency losses/trn_torque_delta_loss': 5.73343952, 'logistical/max_param': 16.18285561, 'logistical/lr': 0.0001}\n",
      "{'logistical/obs_consumed_per_second': 237.1875, 'logistical/obs_generated_per_second': 103.484375, 'logistical/data_consumption_ratio': 2.29321782, 'logistical/manual_train_pause': 0.0, 'trn_control_loss': 0.00893351, 'trn_headings_loss': 0.00029632, 'trn_curvatures_loss': 0.00109641, 'consistency losses/trn_steer_cost': 0.0026731, 'consistency losses/trn_te_loss': 18.27105623, 'aux losses/trn_pitch_loss': 0.09342003, 'aux losses/trn_yaw_loss': 0.11567879, 'consistency losses/trn_%_updates_w_torque_delta_loss': 0.1953125, 'consistency losses/trn_torque_loss': 598.93449588, 'consistency losses/trn_torque_delta_loss': 4.92478252, 'logistical/max_param': 16.18303299, 'logistical/lr': 0.0001}\n",
      "{'logistical/obs_consumed_per_second': 237.546875, 'logistical/obs_generated_per_second': 111.5859375, 'logistical/data_consumption_ratio': 2.12843067, 'logistical/manual_train_pause': 0.0, 'trn_control_loss': 0.00684823, 'trn_headings_loss': 0.00027848, 'trn_curvatures_loss': 0.00117761, 'consistency losses/trn_steer_cost': 0.00251233, 'consistency losses/trn_te_loss': 19.36215938, 'aux losses/trn_pitch_loss': 0.08287311, 'aux losses/trn_yaw_loss': 0.1080966, 'consistency losses/trn_%_updates_w_torque_delta_loss': 0.1953125, 'consistency losses/trn_torque_loss': 740.61198747, 'consistency losses/trn_torque_delta_loss': 6.36146865, 'logistical/max_param': 16.18292618, 'logistical/lr': 0.0001}\n"
     ]
    },
    {
     "name": "stdout",
     "output_type": "stream",
     "text": [
      "{'logistical/obs_consumed_per_second': 230.671875, 'logistical/obs_generated_per_second': 105.5859375, 'logistical/data_consumption_ratio': 2.18694842, 'logistical/manual_train_pause': 0.00015625, 'trn_control_loss': 0.00784901, 'trn_headings_loss': 0.00028153, 'trn_curvatures_loss': 0.00123261, 'consistency losses/trn_steer_cost': 0.0030895, 'consistency losses/trn_te_loss': 17.8293394, 'aux losses/trn_pitch_loss': 0.10269284, 'aux losses/trn_yaw_loss': 0.14472675, 'consistency losses/trn_%_updates_w_torque_delta_loss': 0.1953125, 'consistency losses/trn_torque_loss': 729.45321461, 'consistency losses/trn_torque_delta_loss': 5.00436511, 'logistical/max_param': 16.18406296, 'logistical/lr': 0.0001}\n",
      "{'logistical/obs_consumed_per_second': 236.4296875, 'logistical/obs_generated_per_second': 90.4453125, 'logistical/data_consumption_ratio': 2.6160371, 'logistical/manual_train_pause': 0.00289062, 'trn_control_loss': 0.0063614, 'trn_headings_loss': 0.00028123, 'trn_curvatures_loss': 0.00112291, 'consistency losses/trn_steer_cost': 0.0027551, 'consistency losses/trn_te_loss': 18.07045095, 'aux losses/trn_pitch_loss': 0.08037353, 'aux losses/trn_yaw_loss': 0.11918473, 'consistency losses/trn_%_updates_w_torque_delta_loss': 0.1796875, 'consistency losses/trn_torque_loss': 632.05602875, 'consistency losses/trn_torque_delta_loss': 4.60295631, 'logistical/max_param': 16.18312836, 'logistical/lr': 0.0001}\n",
      "{'logistical/obs_consumed_per_second': 177.0, 'logistical/obs_generated_per_second': 95.0, 'logistical/data_consumption_ratio': 1.86683009, 'logistical/manual_train_pause': 0.0}\n",
      "\n",
      "\n",
      " Eval...\n",
      "EPOCH 87\n",
      "\n",
      "{'trn_control_loss': 0.00927363, 'trn_headings_loss': 0.00036517, 'trn_curvatures_loss': 0.00139324, 'consistency losses/trn_steer_cost': 0.00317015, 'consistency losses/trn_te_loss': 18.4072681, 'aux losses/trn_pitch_loss': 0.0907948, 'aux losses/trn_yaw_loss': 0.11767077, 'consistency losses/trn_%_updates_w_torque_delta_loss': 0.140625, 'consistency losses/trn_torque_loss': 682.70275795, 'consistency losses/trn_torque_delta_loss': 6.43134802, 'logistical/obs_consumed_per_second': 232.19685039, 'logistical/obs_generated_per_second': 106.22834646, 'logistical/data_consumption_ratio': 2.18995332, 'logistical/manual_train_pause': 7.874e-05, 'logistical/max_param': 16.18302917, 'logistical/lr': 0.0001}\n",
      "{'logistical/obs_consumed_per_second': 236.984375, 'logistical/obs_generated_per_second': 104.21875, 'logistical/data_consumption_ratio': 2.27832002, 'logistical/manual_train_pause': 0.0, 'trn_control_loss': 0.00721383, 'trn_headings_loss': 0.0003239, 'trn_curvatures_loss': 0.00118566, 'consistency losses/trn_steer_cost': 0.00257562, 'consistency losses/trn_te_loss': 18.63849548, 'aux losses/trn_pitch_loss': 0.07750034, 'aux losses/trn_yaw_loss': 0.0972054, 'consistency losses/trn_%_updates_w_torque_delta_loss': 0.1953125, 'consistency losses/trn_torque_loss': 563.40648822, 'consistency losses/trn_torque_delta_loss': 4.6531537, 'logistical/max_param': 16.18465614, 'logistical/lr': 0.0001}\n",
      "{'logistical/obs_consumed_per_second': 234.0546875, 'logistical/obs_generated_per_second': 99.6171875, 'logistical/data_consumption_ratio': 2.35682349, 'logistical/manual_train_pause': 0.00070312, 'trn_control_loss': 0.0061546, 'trn_headings_loss': 0.0002673, 'trn_curvatures_loss': 0.00092407, 'consistency losses/trn_steer_cost': 0.00229891, 'consistency losses/trn_te_loss': 18.9659691, 'aux losses/trn_pitch_loss': 0.08397245, 'aux losses/trn_yaw_loss': 0.10773087, 'consistency losses/trn_%_updates_w_torque_delta_loss': 0.171875, 'consistency losses/trn_torque_loss': 657.05909151, 'consistency losses/trn_torque_delta_loss': 5.60927899, 'logistical/max_param': 16.18548775, 'logistical/lr': 0.0001}\n",
      "{'logistical/obs_consumed_per_second': 233.8359375, 'logistical/obs_generated_per_second': 98.4921875, 'logistical/data_consumption_ratio': 2.3764921, 'logistical/manual_train_pause': 0.000625, 'trn_control_loss': 0.00648931, 'trn_headings_loss': 0.00023757, 'trn_curvatures_loss': 0.00088579, 'consistency losses/trn_steer_cost': 0.00197467, 'consistency losses/trn_te_loss': 20.72405092, 'aux losses/trn_pitch_loss': 0.07531524, 'aux losses/trn_yaw_loss': 0.10058284, 'consistency losses/trn_%_updates_w_torque_delta_loss': 0.2421875, 'consistency losses/trn_torque_loss': 691.1005399, 'consistency losses/trn_torque_delta_loss': 5.91878558, 'logistical/max_param': 16.18501663, 'logistical/lr': 0.0001}\n",
      "{'logistical/obs_consumed_per_second': 235.4609375, 'logistical/obs_generated_per_second': 103.15625, 'logistical/data_consumption_ratio': 2.28360898, 'logistical/manual_train_pause': 0.0, 'trn_control_loss': 0.00591432, 'trn_headings_loss': 0.00024485, 'trn_curvatures_loss': 0.00086608, 'consistency losses/trn_steer_cost': 0.00207786, 'consistency losses/trn_te_loss': 20.34034827, 'aux losses/trn_pitch_loss': 0.07955277, 'aux losses/trn_yaw_loss': 0.09625363, 'consistency losses/trn_%_updates_w_torque_delta_loss': 0.1796875, 'consistency losses/trn_torque_loss': 689.28248683, 'consistency losses/trn_torque_delta_loss': 6.36247462, 'logistical/max_param': 16.18443871, 'logistical/lr': 0.0001}\n",
      "{'logistical/obs_consumed_per_second': 238.359375, 'logistical/obs_generated_per_second': 103.1171875, 'logistical/data_consumption_ratio': 2.31209981, 'logistical/manual_train_pause': 0.0, 'trn_control_loss': 0.00656919, 'trn_headings_loss': 0.00025902, 'trn_curvatures_loss': 0.00101854, 'consistency losses/trn_steer_cost': 0.00252017, 'consistency losses/trn_te_loss': 18.51798841, 'aux losses/trn_pitch_loss': 0.08446884, 'aux losses/trn_yaw_loss': 0.11544323, 'consistency losses/trn_%_updates_w_torque_delta_loss': 0.2265625, 'consistency losses/trn_torque_loss': 639.87258007, 'consistency losses/trn_torque_delta_loss': 6.08884313, 'logistical/max_param': 16.18434715, 'logistical/lr': 0.0001}\n",
      "{'logistical/obs_consumed_per_second': 233.8125, 'logistical/obs_generated_per_second': 103.8515625, 'logistical/data_consumption_ratio': 2.25599545, 'logistical/manual_train_pause': 0.00015625, 'trn_control_loss': 0.00658709, 'trn_headings_loss': 0.00028175, 'trn_curvatures_loss': 0.00123531, 'consistency losses/trn_steer_cost': 0.00283749, 'consistency losses/trn_te_loss': 18.88317983, 'aux losses/trn_pitch_loss': 0.08862948, 'aux losses/trn_yaw_loss': 0.09468448, 'consistency losses/trn_%_updates_w_torque_delta_loss': 0.125, 'consistency losses/trn_torque_loss': 624.90019629, 'consistency losses/trn_torque_delta_loss': 5.24270502, 'logistical/max_param': 16.18429756, 'logistical/lr': 0.0001}\n",
      "{'logistical/obs_consumed_per_second': 238.8828125, 'logistical/obs_generated_per_second': 109.5859375, 'logistical/data_consumption_ratio': 2.18152312, 'logistical/manual_train_pause': 0.0, 'trn_control_loss': 0.01712041, 'trn_headings_loss': 0.00052576, 'trn_curvatures_loss': 0.00164289, 'consistency losses/trn_steer_cost': 0.0039883, 'consistency losses/trn_te_loss': 18.70658372, 'aux losses/trn_pitch_loss': 0.09250665, 'aux losses/trn_yaw_loss': 0.11469126, 'consistency losses/trn_%_updates_w_torque_delta_loss': 0.2734375, 'consistency losses/trn_torque_loss': 676.67277181, 'consistency losses/trn_torque_delta_loss': 16.30710079, 'logistical/max_param': 16.18003654, 'logistical/lr': 0.0001}\n",
      "{'logistical/obs_consumed_per_second': 235.96875, 'logistical/obs_generated_per_second': 105.5390625, 'logistical/data_consumption_ratio': 2.23645558, 'logistical/manual_train_pause': 0.0, 'trn_control_loss': 0.00700152, 'trn_headings_loss': 0.00028282, 'trn_curvatures_loss': 0.00104775, 'consistency losses/trn_steer_cost': 0.00243607, 'consistency losses/trn_te_loss': 18.2665106, 'aux losses/trn_pitch_loss': 0.09472275, 'aux losses/trn_yaw_loss': 0.12159443, 'consistency losses/trn_%_updates_w_torque_delta_loss': 0.21875, 'consistency losses/trn_torque_loss': 605.70310568, 'consistency losses/trn_torque_delta_loss': 5.57748199, 'logistical/max_param': 16.18039894, 'logistical/lr': 0.0001}\n",
      "{'logistical/obs_consumed_per_second': 237.8203125, 'logistical/obs_generated_per_second': 104.8203125, 'logistical/data_consumption_ratio': 2.26966124, 'logistical/manual_train_pause': 0.0, 'trn_control_loss': 0.00723904, 'trn_headings_loss': 0.00028775, 'trn_curvatures_loss': 0.00112167, 'consistency losses/trn_steer_cost': 0.00290561, 'consistency losses/trn_te_loss': 19.1403755, 'aux losses/trn_pitch_loss': 0.09180212, 'aux losses/trn_yaw_loss': 0.10976768, 'consistency losses/trn_%_updates_w_torque_delta_loss': 0.234375, 'consistency losses/trn_torque_loss': 575.62556603, 'consistency losses/trn_torque_delta_loss': 5.2034987, 'logistical/max_param': 16.1808567, 'logistical/lr': 0.0001}\n"
     ]
    },
    {
     "name": "stdout",
     "output_type": "stream",
     "text": [
      "{'logistical/obs_consumed_per_second': 131.0, 'logistical/obs_generated_per_second': 102.0, 'logistical/data_consumption_ratio': 1.28911887, 'logistical/manual_train_pause': 0.0}\n",
      "\n",
      "\n",
      " Eval...\n",
      "EPOCH 88\n",
      "\n",
      "{'trn_control_loss': 0.00698876, 'trn_headings_loss': 0.00027269, 'trn_curvatures_loss': 0.00100309, 'consistency losses/trn_steer_cost': 0.00257922, 'consistency losses/trn_te_loss': 19.37902056, 'aux losses/trn_pitch_loss': 0.08156419, 'aux losses/trn_yaw_loss': 0.09703565, 'consistency losses/trn_%_updates_w_torque_delta_loss': 0.25, 'consistency losses/trn_torque_loss': 780.35914743, 'consistency losses/trn_torque_delta_loss': 5.55365421, 'logistical/obs_consumed_per_second': 238.13385827, 'logistical/obs_generated_per_second': 95.09448819, 'logistical/data_consumption_ratio': 2.50191292, 'logistical/manual_train_pause': 0.00173228, 'logistical/max_param': 16.18057632, 'logistical/lr': 0.0001}\n",
      "{'logistical/obs_consumed_per_second': 235.9453125, 'logistical/obs_generated_per_second': 101.2734375, 'logistical/data_consumption_ratio': 2.33664362, 'logistical/manual_train_pause': 7.812e-05, 'trn_control_loss': 0.00817317, 'trn_headings_loss': 0.00032803, 'trn_curvatures_loss': 0.00134536, 'consistency losses/trn_steer_cost': 0.00288744, 'consistency losses/trn_te_loss': 19.45143937, 'aux losses/trn_pitch_loss': 0.0977118, 'aux losses/trn_yaw_loss': 0.10909295, 'consistency losses/trn_%_updates_w_torque_delta_loss': 0.2265625, 'consistency losses/trn_torque_loss': 793.93570101, 'consistency losses/trn_torque_delta_loss': 5.94888436, 'logistical/max_param': 16.18128395, 'logistical/lr': 0.0001}\n",
      "{'logistical/obs_consumed_per_second': 239.8828125, 'logistical/obs_generated_per_second': 106.9765625, 'logistical/data_consumption_ratio': 2.23959418, 'logistical/manual_train_pause': 0.0, 'trn_control_loss': 0.01118505, 'trn_headings_loss': 0.00040472, 'trn_curvatures_loss': 0.00168335, 'consistency losses/trn_steer_cost': 0.00405349, 'consistency losses/trn_te_loss': 17.52890754, 'aux losses/trn_pitch_loss': 0.09091091, 'aux losses/trn_yaw_loss': 0.13922834, 'consistency losses/trn_%_updates_w_torque_delta_loss': 0.1796875, 'consistency losses/trn_torque_loss': 602.13343352, 'consistency losses/trn_torque_delta_loss': 4.81405824, 'logistical/max_param': 16.1814003, 'logistical/lr': 0.0001}\n",
      "{'logistical/obs_consumed_per_second': 239.0078125, 'logistical/obs_generated_per_second': 101.84375, 'logistical/data_consumption_ratio': 2.34421644, 'logistical/manual_train_pause': 0.0, 'trn_control_loss': 0.00747371, 'trn_headings_loss': 0.00034404, 'trn_curvatures_loss': 0.00128269, 'consistency losses/trn_steer_cost': 0.00329883, 'consistency losses/trn_te_loss': 18.20251627, 'aux losses/trn_pitch_loss': 0.09656978, 'aux losses/trn_yaw_loss': 0.12023616, 'consistency losses/trn_%_updates_w_torque_delta_loss': 0.2421875, 'consistency losses/trn_torque_loss': 662.60196987, 'consistency losses/trn_torque_delta_loss': 5.87339247, 'logistical/max_param': 16.18259239, 'logistical/lr': 0.0001}\n",
      "{'logistical/obs_consumed_per_second': 230.4296875, 'logistical/obs_generated_per_second': 98.703125, 'logistical/data_consumption_ratio': 2.33370586, 'logistical/manual_train_pause': 0.0, 'trn_control_loss': 0.00873077, 'trn_headings_loss': 0.00031354, 'trn_curvatures_loss': 0.00141313, 'consistency losses/trn_steer_cost': 0.00327782, 'consistency losses/trn_te_loss': 17.56459304, 'aux losses/trn_pitch_loss': 0.08270168, 'aux losses/trn_yaw_loss': 0.1328876, 'consistency losses/trn_%_updates_w_torque_delta_loss': 0.2421875, 'consistency losses/trn_torque_loss': 698.18291485, 'consistency losses/trn_torque_delta_loss': 6.85627057, 'logistical/max_param': 16.18255997, 'logistical/lr': 0.0001}\n",
      "{'logistical/obs_consumed_per_second': 232.8984375, 'logistical/obs_generated_per_second': 99.7734375, 'logistical/data_consumption_ratio': 2.33547003, 'logistical/manual_train_pause': 7.812e-05, 'trn_control_loss': 0.00757548, 'trn_headings_loss': 0.00026194, 'trn_curvatures_loss': 0.00116697, 'consistency losses/trn_steer_cost': 0.00298921, 'consistency losses/trn_te_loss': 19.22057607, 'aux losses/trn_pitch_loss': 0.07316232, 'aux losses/trn_yaw_loss': 0.13477874, 'consistency losses/trn_%_updates_w_torque_delta_loss': 0.2578125, 'consistency losses/trn_torque_loss': 638.10825072, 'consistency losses/trn_torque_delta_loss': 5.59305705, 'logistical/max_param': 16.18319702, 'logistical/lr': 0.0001}\n",
      "{'logistical/obs_consumed_per_second': 230.8828125, 'logistical/obs_generated_per_second': 96.0, 'logistical/data_consumption_ratio': 2.40807974, 'logistical/manual_train_pause': 0.00117188, 'trn_control_loss': 0.00648908, 'trn_headings_loss': 0.00025654, 'trn_curvatures_loss': 0.00088275, 'consistency losses/trn_steer_cost': 0.0022545, 'consistency losses/trn_te_loss': 19.55106766, 'aux losses/trn_pitch_loss': 0.07037878, 'aux losses/trn_yaw_loss': 0.11030006, 'consistency losses/trn_%_updates_w_torque_delta_loss': 0.2265625, 'consistency losses/trn_torque_loss': 611.84689336, 'consistency losses/trn_torque_delta_loss': 6.8687801, 'logistical/max_param': 16.1829319, 'logistical/lr': 0.0001}\n",
      "{'logistical/obs_consumed_per_second': 233.21875, 'logistical/obs_generated_per_second': 97.1015625, 'logistical/data_consumption_ratio': 2.40667396, 'logistical/manual_train_pause': 0.001875, 'trn_control_loss': 0.00679855, 'trn_headings_loss': 0.00028082, 'trn_curvatures_loss': 0.00110993, 'consistency losses/trn_steer_cost': 0.00265089, 'consistency losses/trn_te_loss': 18.70008951, 'aux losses/trn_pitch_loss': 0.08064127, 'aux losses/trn_yaw_loss': 0.12910223, 'consistency losses/trn_%_updates_w_torque_delta_loss': 0.15625, 'consistency losses/trn_torque_loss': 579.6291787, 'consistency losses/trn_torque_delta_loss': 6.30246842, 'logistical/max_param': 16.18345261, 'logistical/lr': 0.0001}\n",
      "{'logistical/obs_consumed_per_second': 235.6015625, 'logistical/obs_generated_per_second': 104.1640625, 'logistical/data_consumption_ratio': 2.26128505, 'logistical/manual_train_pause': 0.0, 'trn_control_loss': 0.00889966, 'trn_headings_loss': 0.00037645, 'trn_curvatures_loss': 0.00155952, 'consistency losses/trn_steer_cost': 0.00339232, 'consistency losses/trn_te_loss': 17.57267319, 'aux losses/trn_pitch_loss': 0.09323525, 'aux losses/trn_yaw_loss': 0.11111832, 'consistency losses/trn_%_updates_w_torque_delta_loss': 0.2109375, 'consistency losses/trn_torque_loss': 660.09704569, 'consistency losses/trn_torque_delta_loss': 7.41275483, 'logistical/max_param': 16.18423462, 'logistical/lr': 0.0001}\n",
      "{'logistical/obs_consumed_per_second': 234.4765625, 'logistical/obs_generated_per_second': 98.46875, 'logistical/data_consumption_ratio': 2.38676148, 'logistical/manual_train_pause': 0.000625, 'trn_control_loss': 0.00813702, 'trn_headings_loss': 0.00032535, 'trn_curvatures_loss': 0.00139126, 'consistency losses/trn_steer_cost': 0.00327446, 'consistency losses/trn_te_loss': 18.58102122, 'aux losses/trn_pitch_loss': 0.11527205, 'aux losses/trn_yaw_loss': 0.13937068, 'consistency losses/trn_%_updates_w_torque_delta_loss': 0.125, 'consistency losses/trn_torque_loss': 689.21077842, 'consistency losses/trn_torque_delta_loss': 8.95488179, 'logistical/max_param': 16.18324089, 'logistical/lr': 0.0001}\n",
      "{'logistical/obs_consumed_per_second': 158.0, 'logistical/obs_generated_per_second': 98.0, 'logistical/data_consumption_ratio': 1.61243796, 'logistical/manual_train_pause': 0.0}\n",
      "\n",
      "\n",
      " Eval...\n",
      "EPOCH 89\n",
      "\n",
      "{'trn_control_loss': 0.00766093, 'trn_headings_loss': 0.0002862, 'trn_curvatures_loss': 0.00098379, 'consistency losses/trn_steer_cost': 0.00278007, 'consistency losses/trn_te_loss': 18.36051607, 'aux losses/trn_pitch_loss': 0.07878041, 'aux losses/trn_yaw_loss': 0.1009798, 'consistency losses/trn_%_updates_w_torque_delta_loss': 0.15625, 'consistency losses/trn_torque_loss': 586.05267634, 'consistency losses/trn_torque_delta_loss': 6.42691854, 'logistical/obs_consumed_per_second': 238.43307087, 'logistical/obs_generated_per_second': 104.81889764, 'logistical/data_consumption_ratio': 2.27618819, 'logistical/manual_train_pause': 0.0, 'logistical/max_param': 16.18388367, 'logistical/lr': 0.0001}\n",
      "{'logistical/obs_consumed_per_second': 239.46875, 'logistical/obs_generated_per_second': 98.8984375, 'logistical/data_consumption_ratio': 2.42174245, 'logistical/manual_train_pause': 0.00054688, 'trn_control_loss': 0.01552114, 'trn_headings_loss': 0.00050502, 'trn_curvatures_loss': 0.00179189, 'consistency losses/trn_steer_cost': 0.0033837, 'consistency losses/trn_te_loss': 18.3618522, 'aux losses/trn_pitch_loss': 0.09933233, 'aux losses/trn_yaw_loss': 0.15070534, 'consistency losses/trn_%_updates_w_torque_delta_loss': 0.3125, 'consistency losses/trn_torque_loss': 738.09150409, 'consistency losses/trn_torque_delta_loss': 5.21878947, 'logistical/max_param': 16.18548965, 'logistical/lr': 0.0001}\n"
     ]
    },
    {
     "name": "stdout",
     "output_type": "stream",
     "text": [
      "{'logistical/obs_consumed_per_second': 236.4375, 'logistical/obs_generated_per_second': 105.0234375, 'logistical/data_consumption_ratio': 2.25417932, 'logistical/manual_train_pause': 0.0, 'trn_control_loss': 0.00805923, 'trn_headings_loss': 0.00033268, 'trn_curvatures_loss': 0.00140314, 'consistency losses/trn_steer_cost': 0.00339807, 'consistency losses/trn_te_loss': 17.62372751, 'aux losses/trn_pitch_loss': 0.06964064, 'aux losses/trn_yaw_loss': 0.13848782, 'consistency losses/trn_%_updates_w_torque_delta_loss': 0.109375, 'consistency losses/trn_torque_loss': 602.32214937, 'consistency losses/trn_torque_delta_loss': 4.86043417, 'logistical/max_param': 16.1848011, 'logistical/lr': 0.0001}\n",
      "{'logistical/obs_consumed_per_second': 233.71875, 'logistical/obs_generated_per_second': 104.953125, 'logistical/data_consumption_ratio': 2.22805355, 'logistical/manual_train_pause': 0.0, 'trn_control_loss': 0.00737011, 'trn_headings_loss': 0.0002462, 'trn_curvatures_loss': 0.000948, 'consistency losses/trn_steer_cost': 0.00229029, 'consistency losses/trn_te_loss': 19.24885026, 'aux losses/trn_pitch_loss': 0.0745436, 'aux losses/trn_yaw_loss': 0.10228634, 'consistency losses/trn_%_updates_w_torque_delta_loss': 0.21875, 'consistency losses/trn_torque_loss': 626.17892596, 'consistency losses/trn_torque_delta_loss': 6.10177796, 'logistical/max_param': 16.18553734, 'logistical/lr': 0.0001}\n",
      "{'logistical/obs_consumed_per_second': 230.375, 'logistical/obs_generated_per_second': 97.921875, 'logistical/data_consumption_ratio': 2.35147775, 'logistical/manual_train_pause': 0.00015625, 'trn_control_loss': 0.00619882, 'trn_headings_loss': 0.00029431, 'trn_curvatures_loss': 0.00112857, 'consistency losses/trn_steer_cost': 0.00273386, 'consistency losses/trn_te_loss': 18.28296725, 'aux losses/trn_pitch_loss': 0.06781054, 'aux losses/trn_yaw_loss': 0.10119808, 'consistency losses/trn_%_updates_w_torque_delta_loss': 0.1953125, 'consistency losses/trn_torque_loss': 749.92342278, 'consistency losses/trn_torque_delta_loss': 6.2058667, 'logistical/max_param': 16.1859417, 'logistical/lr': 0.0001}\n",
      "{'logistical/obs_consumed_per_second': 233.796875, 'logistical/obs_generated_per_second': 102.421875, 'logistical/data_consumption_ratio': 2.28212962, 'logistical/manual_train_pause': 0.0, 'trn_control_loss': 0.00590211, 'trn_headings_loss': 0.00027991, 'trn_curvatures_loss': 0.00102254, 'consistency losses/trn_steer_cost': 0.00238278, 'consistency losses/trn_te_loss': 19.48729949, 'aux losses/trn_pitch_loss': 0.08080459, 'aux losses/trn_yaw_loss': 0.09972954, 'consistency losses/trn_%_updates_w_torque_delta_loss': 0.2265625, 'consistency losses/trn_torque_loss': 718.51120993, 'consistency losses/trn_torque_delta_loss': 6.40584051, 'logistical/max_param': 16.18686295, 'logistical/lr': 0.0001}\n",
      "{'logistical/obs_consumed_per_second': 239.25, 'logistical/obs_generated_per_second': 96.2578125, 'logistical/data_consumption_ratio': 2.48808798, 'logistical/manual_train_pause': 0.001875, 'trn_control_loss': 0.00924861, 'trn_headings_loss': 0.00034466, 'trn_curvatures_loss': 0.00110307, 'consistency losses/trn_steer_cost': 0.00277079, 'consistency losses/trn_te_loss': 18.4062485, 'aux losses/trn_pitch_loss': 0.07590985, 'aux losses/trn_yaw_loss': 0.12112331, 'consistency losses/trn_%_updates_w_torque_delta_loss': 0.265625, 'consistency losses/trn_torque_loss': 575.50055141, 'consistency losses/trn_torque_delta_loss': 7.50688191, 'logistical/max_param': 16.18673897, 'logistical/lr': 0.0001}\n",
      "{'logistical/obs_consumed_per_second': 234.78125, 'logistical/obs_generated_per_second': 104.8203125, 'logistical/data_consumption_ratio': 2.23909948, 'logistical/manual_train_pause': 0.0, 'trn_control_loss': 0.00932187, 'trn_headings_loss': 0.00035304, 'trn_curvatures_loss': 0.0012423, 'consistency losses/trn_steer_cost': 0.00289325, 'consistency losses/trn_te_loss': 18.52764639, 'aux losses/trn_pitch_loss': 0.07920361, 'aux losses/trn_yaw_loss': 0.1330657, 'consistency losses/trn_%_updates_w_torque_delta_loss': 0.1796875, 'consistency losses/trn_torque_loss': 712.55855104, 'consistency losses/trn_torque_delta_loss': 6.9769261, 'logistical/max_param': 16.18740463, 'logistical/lr': 0.0001}\n",
      "{'logistical/obs_consumed_per_second': 232.203125, 'logistical/obs_generated_per_second': 102.4765625, 'logistical/data_consumption_ratio': 2.26583855, 'logistical/manual_train_pause': 0.0, 'trn_control_loss': 0.00944334, 'trn_headings_loss': 0.0003344, 'trn_curvatures_loss': 0.00120274, 'consistency losses/trn_steer_cost': 0.00284447, 'consistency losses/trn_te_loss': 18.5048186, 'aux losses/trn_pitch_loss': 0.09382987, 'aux losses/trn_yaw_loss': 0.09226084, 'consistency losses/trn_%_updates_w_torque_delta_loss': 0.140625, 'consistency losses/trn_torque_loss': 651.35421984, 'consistency losses/trn_torque_delta_loss': 6.67079968, 'logistical/max_param': 16.18753815, 'logistical/lr': 0.0001}\n",
      "{'logistical/obs_consumed_per_second': 239.71875, 'logistical/obs_generated_per_second': 99.3359375, 'logistical/data_consumption_ratio': 2.41362228, 'logistical/manual_train_pause': 0.0003125, 'trn_control_loss': 0.00722557, 'trn_headings_loss': 0.00029061, 'trn_curvatures_loss': 0.00114173, 'consistency losses/trn_steer_cost': 0.00234248, 'consistency losses/trn_te_loss': 19.0303983, 'aux losses/trn_pitch_loss': 0.09122252, 'aux losses/trn_yaw_loss': 0.11237311, 'consistency losses/trn_%_updates_w_torque_delta_loss': 0.3359375, 'consistency losses/trn_torque_loss': 701.40726829, 'consistency losses/trn_torque_delta_loss': 9.14522205, 'logistical/max_param': 16.18918419, 'logistical/lr': 0.0001}\n",
      "{'logistical/obs_consumed_per_second': 157.0, 'logistical/obs_generated_per_second': 99.0, 'logistical/data_consumption_ratio': 1.58316479, 'logistical/manual_train_pause': 0.0}\n",
      "\n",
      "\n",
      " Eval...\n",
      "EPOCH 90\n",
      "\n",
      "{'trn_control_loss': 0.00695619, 'trn_headings_loss': 0.00028923, 'trn_curvatures_loss': 0.00110841, 'consistency losses/trn_steer_cost': 0.00282729, 'consistency losses/trn_te_loss': 19.17420668, 'aux losses/trn_pitch_loss': 0.07067323, 'aux losses/trn_yaw_loss': 0.09352088, 'consistency losses/trn_%_updates_w_torque_delta_loss': 0.2734375, 'consistency losses/trn_torque_loss': 636.72756681, 'consistency losses/trn_torque_delta_loss': 6.82712485, 'logistical/obs_consumed_per_second': 232.43307087, 'logistical/obs_generated_per_second': 105.90551181, 'logistical/data_consumption_ratio': 2.19261822, 'logistical/manual_train_pause': 0.0, 'logistical/max_param': 16.18835258, 'logistical/lr': 0.0001}\n",
      "{'logistical/obs_consumed_per_second': 234.9453125, 'logistical/obs_generated_per_second': 99.1015625, 'logistical/data_consumption_ratio': 2.37322103, 'logistical/manual_train_pause': 0.0003125, 'trn_control_loss': 0.00946674, 'trn_headings_loss': 0.00035873, 'trn_curvatures_loss': 0.00142963, 'consistency losses/trn_steer_cost': 0.0030975, 'consistency losses/trn_te_loss': 18.02538899, 'aux losses/trn_pitch_loss': 0.08618426, 'aux losses/trn_yaw_loss': 0.11083484, 'consistency losses/trn_%_updates_w_torque_delta_loss': 0.203125, 'consistency losses/trn_torque_loss': 742.80549514, 'consistency losses/trn_torque_delta_loss': 6.22949619, 'logistical/max_param': 16.18858528, 'logistical/lr': 0.0001}\n",
      "{'logistical/obs_consumed_per_second': 232.3515625, 'logistical/obs_generated_per_second': 108.2109375, 'logistical/data_consumption_ratio': 2.15120495, 'logistical/manual_train_pause': 0.0, 'trn_control_loss': 0.00785924, 'trn_headings_loss': 0.00026871, 'trn_curvatures_loss': 0.00112474, 'consistency losses/trn_steer_cost': 0.00312552, 'consistency losses/trn_te_loss': 17.50531007, 'aux losses/trn_pitch_loss': 0.08486962, 'aux losses/trn_yaw_loss': 0.1001966, 'consistency losses/trn_%_updates_w_torque_delta_loss': 0.203125, 'consistency losses/trn_torque_loss': 652.74986857, 'consistency losses/trn_torque_delta_loss': 6.36201149, 'logistical/max_param': 16.18813133, 'logistical/lr': 0.0001}\n",
      "{'logistical/obs_consumed_per_second': 239.0390625, 'logistical/obs_generated_per_second': 102.328125, 'logistical/data_consumption_ratio': 2.33949393, 'logistical/manual_train_pause': 0.0, 'trn_control_loss': 0.00723168, 'trn_headings_loss': 0.00027182, 'trn_curvatures_loss': 0.00108855, 'consistency losses/trn_steer_cost': 0.00302888, 'consistency losses/trn_te_loss': 18.57936598, 'aux losses/trn_pitch_loss': 0.07588613, 'aux losses/trn_yaw_loss': 0.15748358, 'consistency losses/trn_%_updates_w_torque_delta_loss': 0.28125, 'consistency losses/trn_torque_loss': 547.23145067, 'consistency losses/trn_torque_delta_loss': 7.0710717, 'logistical/max_param': 16.18749046, 'logistical/lr': 0.0001}\n"
     ]
    },
    {
     "name": "stdout",
     "output_type": "stream",
     "text": [
      "{'logistical/obs_consumed_per_second': 231.2265625, 'logistical/obs_generated_per_second': 106.9609375, 'logistical/data_consumption_ratio': 2.17038651, 'logistical/manual_train_pause': 7.812e-05, 'trn_control_loss': 0.00827834, 'trn_headings_loss': 0.0002996, 'trn_curvatures_loss': 0.00130834, 'consistency losses/trn_steer_cost': 0.00285789, 'consistency losses/trn_te_loss': 18.76902273, 'aux losses/trn_pitch_loss': 0.09166098, 'aux losses/trn_yaw_loss': 0.10470843, 'consistency losses/trn_%_updates_w_torque_delta_loss': 0.203125, 'consistency losses/trn_torque_loss': 714.50223214, 'consistency losses/trn_torque_delta_loss': 7.5608098, 'logistical/max_param': 16.18796158, 'logistical/lr': 0.0001}\n",
      "{'logistical/obs_consumed_per_second': 235.5, 'logistical/obs_generated_per_second': 108.484375, 'logistical/data_consumption_ratio': 2.17403525, 'logistical/manual_train_pause': 0.0, 'trn_control_loss': 0.00994219, 'trn_headings_loss': 0.00031872, 'trn_curvatures_loss': 0.00125714, 'consistency losses/trn_steer_cost': 0.00307943, 'consistency losses/trn_te_loss': 19.57164647, 'aux losses/trn_pitch_loss': 0.07473314, 'aux losses/trn_yaw_loss': 0.10975122, 'consistency losses/trn_%_updates_w_torque_delta_loss': 0.2265625, 'consistency losses/trn_torque_loss': 704.80502234, 'consistency losses/trn_torque_delta_loss': 5.95084802, 'logistical/max_param': 16.18638229, 'logistical/lr': 0.0001}\n",
      "{'logistical/obs_consumed_per_second': 230.4609375, 'logistical/obs_generated_per_second': 95.8515625, 'logistical/data_consumption_ratio': 2.40451968, 'logistical/manual_train_pause': 0.00085938, 'trn_control_loss': 0.01060084, 'trn_headings_loss': 0.00039098, 'trn_curvatures_loss': 0.00177039, 'consistency losses/trn_steer_cost': 0.00431116, 'consistency losses/trn_te_loss': 17.35526782, 'aux losses/trn_pitch_loss': 0.08441329, 'aux losses/trn_yaw_loss': 0.13654232, 'consistency losses/trn_%_updates_w_torque_delta_loss': 0.25, 'consistency losses/trn_torque_loss': 666.6783954, 'consistency losses/trn_torque_delta_loss': 6.79452748, 'logistical/max_param': 16.1851635, 'logistical/lr': 0.0001}\n",
      "{'logistical/obs_consumed_per_second': 236.6953125, 'logistical/obs_generated_per_second': 101.4921875, 'logistical/data_consumption_ratio': 2.3368119, 'logistical/manual_train_pause': 0.0, 'trn_control_loss': 0.00727625, 'trn_headings_loss': 0.00029864, 'trn_curvatures_loss': 0.00132438, 'consistency losses/trn_steer_cost': 0.00378838, 'consistency losses/trn_te_loss': 19.41231538, 'aux losses/trn_pitch_loss': 0.08544159, 'aux losses/trn_yaw_loss': 0.12798548, 'consistency losses/trn_%_updates_w_torque_delta_loss': 0.2578125, 'consistency losses/trn_torque_loss': 707.99005472, 'consistency losses/trn_torque_delta_loss': 8.3008357, 'logistical/max_param': 16.18541527, 'logistical/lr': 0.0001}\n",
      "{'logistical/obs_consumed_per_second': 233.78125, 'logistical/obs_generated_per_second': 99.3203125, 'logistical/data_consumption_ratio': 2.35660549, 'logistical/manual_train_pause': 0.00039062, 'trn_control_loss': 0.00655395, 'trn_headings_loss': 0.00023838, 'trn_curvatures_loss': 0.00101797, 'consistency losses/trn_steer_cost': 0.00339644, 'consistency losses/trn_te_loss': 19.38873564, 'aux losses/trn_pitch_loss': 0.08425188, 'aux losses/trn_yaw_loss': 0.14560556, 'consistency losses/trn_%_updates_w_torque_delta_loss': 0.2109375, 'consistency losses/trn_torque_loss': 751.95035255, 'consistency losses/trn_torque_delta_loss': 5.62549672, 'logistical/max_param': 16.18564224, 'logistical/lr': 0.0001}\n",
      "{'logistical/obs_consumed_per_second': 234.90625, 'logistical/obs_generated_per_second': 109.8515625, 'logistical/data_consumption_ratio': 2.14117937, 'logistical/manual_train_pause': 0.0, 'trn_control_loss': 0.00684236, 'trn_headings_loss': 0.00026516, 'trn_curvatures_loss': 0.00104525, 'consistency losses/trn_steer_cost': 0.00279347, 'consistency losses/trn_te_loss': 19.34385512, 'aux losses/trn_pitch_loss': 0.08571172, 'aux losses/trn_yaw_loss': 0.11890674, 'consistency losses/trn_%_updates_w_torque_delta_loss': 0.2109375, 'consistency losses/trn_torque_loss': 570.83933199, 'consistency losses/trn_torque_delta_loss': 7.36071515, 'logistical/max_param': 16.18627357, 'logistical/lr': 0.0001}\n",
      "{'logistical/obs_consumed_per_second': 142.0, 'logistical/obs_generated_per_second': 103.0, 'logistical/data_consumption_ratio': 1.3730521, 'logistical/manual_train_pause': 0.0}\n",
      "\n",
      "\n",
      " Eval...\n",
      "EPOCH 91\n",
      "\n",
      "{'trn_control_loss': 0.00693831, 'trn_headings_loss': 0.00030202, 'trn_curvatures_loss': 0.00118834, 'consistency losses/trn_steer_cost': 0.00294782, 'consistency losses/trn_te_loss': 19.12417886, 'aux losses/trn_pitch_loss': 0.08100843, 'aux losses/trn_yaw_loss': 0.10725427, 'consistency losses/trn_%_updates_w_torque_delta_loss': 0.28125, 'consistency losses/trn_torque_loss': 669.36120262, 'consistency losses/trn_torque_delta_loss': 5.50491544, 'logistical/obs_consumed_per_second': 234.16535433, 'logistical/obs_generated_per_second': 102.21259843, 'logistical/data_consumption_ratio': 2.2919874, 'logistical/manual_train_pause': 0.0, 'logistical/max_param': 16.18607712, 'logistical/lr': 0.0001}\n"
     ]
    },
    {
     "ename": "KeyboardInterrupt",
     "evalue": "",
     "output_type": "error",
     "traceback": [
      "\u001b[0;31m---------------------------------------------------------------------------\u001b[0m",
      "\u001b[0;31mKeyboardInterrupt\u001b[0m                         Traceback (most recent call last)",
      "\u001b[0;32m/tmp/ipykernel_393967/1375180538.py\u001b[0m in \u001b[0;36m<module>\u001b[0;34m\u001b[0m\n\u001b[1;32m     10\u001b[0m     \u001b[0;31m# Train\u001b[0m\u001b[0;34m\u001b[0m\u001b[0;34m\u001b[0m\u001b[0;34m\u001b[0m\u001b[0m\n\u001b[1;32m     11\u001b[0m     \u001b[0mprint\u001b[0m\u001b[0;34m(\u001b[0m\u001b[0;34mf\"EPOCH {e}\\n\"\u001b[0m\u001b[0;34m)\u001b[0m\u001b[0;34m\u001b[0m\u001b[0;34m\u001b[0m\u001b[0m\n\u001b[0;32m---> 12\u001b[0;31m     run_epoch(dataloader_trn, m, opt=opt, scaler=scaler, \n\u001b[0m\u001b[1;32m     13\u001b[0m               train=True, backwards=True, log_wandb=log_wandb, wandb=wandb, updates_per_epoch=1280)\n\u001b[1;32m     14\u001b[0m \u001b[0;34m\u001b[0m\u001b[0m\n",
      "\u001b[0;32m~/bespoke/train_utils.py\u001b[0m in \u001b[0;36mrun_epoch\u001b[0;34m(dataloader, model, opt, scaler, train, backwards, log_wandb, log_cadence, updates_per_epoch, wandb)\u001b[0m\n\u001b[1;32m    294\u001b[0m         \u001b[0;32mif\u001b[0m \u001b[0mbackwards\u001b[0m\u001b[0;34m:\u001b[0m\u001b[0;34m\u001b[0m\u001b[0;34m\u001b[0m\u001b[0m\n\u001b[1;32m    295\u001b[0m             \u001b[0;31m# Backward\u001b[0m\u001b[0;34m\u001b[0m\u001b[0;34m\u001b[0m\u001b[0;34m\u001b[0m\u001b[0m\n\u001b[0;32m--> 296\u001b[0;31m             \u001b[0mscaler\u001b[0m\u001b[0;34m.\u001b[0m\u001b[0mscale\u001b[0m\u001b[0;34m(\u001b[0m\u001b[0mloss\u001b[0m\u001b[0;34m)\u001b[0m\u001b[0;34m.\u001b[0m\u001b[0mbackward\u001b[0m\u001b[0;34m(\u001b[0m\u001b[0;34m)\u001b[0m\u001b[0;34m\u001b[0m\u001b[0;34m\u001b[0m\u001b[0m\n\u001b[0m\u001b[1;32m    297\u001b[0m             \u001b[0mscaler\u001b[0m\u001b[0;34m.\u001b[0m\u001b[0munscale_\u001b[0m\u001b[0;34m(\u001b[0m\u001b[0mopt\u001b[0m\u001b[0;34m)\u001b[0m\u001b[0;34m\u001b[0m\u001b[0;34m\u001b[0m\u001b[0m\n\u001b[1;32m    298\u001b[0m \u001b[0;34m\u001b[0m\u001b[0m\n",
      "\u001b[0;32m~/miniconda3/envs/py38/lib/python3.8/site-packages/torch/_tensor.py\u001b[0m in \u001b[0;36mbackward\u001b[0;34m(self, gradient, retain_graph, create_graph, inputs)\u001b[0m\n\u001b[1;32m    305\u001b[0m                 \u001b[0mcreate_graph\u001b[0m\u001b[0;34m=\u001b[0m\u001b[0mcreate_graph\u001b[0m\u001b[0;34m,\u001b[0m\u001b[0;34m\u001b[0m\u001b[0;34m\u001b[0m\u001b[0m\n\u001b[1;32m    306\u001b[0m                 inputs=inputs)\n\u001b[0;32m--> 307\u001b[0;31m         \u001b[0mtorch\u001b[0m\u001b[0;34m.\u001b[0m\u001b[0mautograd\u001b[0m\u001b[0;34m.\u001b[0m\u001b[0mbackward\u001b[0m\u001b[0;34m(\u001b[0m\u001b[0mself\u001b[0m\u001b[0;34m,\u001b[0m \u001b[0mgradient\u001b[0m\u001b[0;34m,\u001b[0m \u001b[0mretain_graph\u001b[0m\u001b[0;34m,\u001b[0m \u001b[0mcreate_graph\u001b[0m\u001b[0;34m,\u001b[0m \u001b[0minputs\u001b[0m\u001b[0;34m=\u001b[0m\u001b[0minputs\u001b[0m\u001b[0;34m)\u001b[0m\u001b[0;34m\u001b[0m\u001b[0;34m\u001b[0m\u001b[0m\n\u001b[0m\u001b[1;32m    308\u001b[0m \u001b[0;34m\u001b[0m\u001b[0m\n\u001b[1;32m    309\u001b[0m     \u001b[0;32mdef\u001b[0m \u001b[0mregister_hook\u001b[0m\u001b[0;34m(\u001b[0m\u001b[0mself\u001b[0m\u001b[0;34m,\u001b[0m \u001b[0mhook\u001b[0m\u001b[0;34m)\u001b[0m\u001b[0;34m:\u001b[0m\u001b[0;34m\u001b[0m\u001b[0;34m\u001b[0m\u001b[0m\n",
      "\u001b[0;32m~/miniconda3/envs/py38/lib/python3.8/site-packages/torch/autograd/__init__.py\u001b[0m in \u001b[0;36mbackward\u001b[0;34m(tensors, grad_tensors, retain_graph, create_graph, grad_variables, inputs)\u001b[0m\n\u001b[1;32m    152\u001b[0m         \u001b[0mretain_graph\u001b[0m \u001b[0;34m=\u001b[0m \u001b[0mcreate_graph\u001b[0m\u001b[0;34m\u001b[0m\u001b[0;34m\u001b[0m\u001b[0m\n\u001b[1;32m    153\u001b[0m \u001b[0;34m\u001b[0m\u001b[0m\n\u001b[0;32m--> 154\u001b[0;31m     Variable._execution_engine.run_backward(\n\u001b[0m\u001b[1;32m    155\u001b[0m         \u001b[0mtensors\u001b[0m\u001b[0;34m,\u001b[0m \u001b[0mgrad_tensors_\u001b[0m\u001b[0;34m,\u001b[0m \u001b[0mretain_graph\u001b[0m\u001b[0;34m,\u001b[0m \u001b[0mcreate_graph\u001b[0m\u001b[0;34m,\u001b[0m \u001b[0minputs\u001b[0m\u001b[0;34m,\u001b[0m\u001b[0;34m\u001b[0m\u001b[0;34m\u001b[0m\u001b[0m\n\u001b[1;32m    156\u001b[0m         allow_unreachable=True, accumulate_grad=True)  # allow_unreachable flag\n",
      "\u001b[0;31mKeyboardInterrupt\u001b[0m: "
     ]
    }
   ],
   "source": [
    "n_epochs = 1000\n",
    "log_wandb = True\n",
    "\n",
    "for e in range(START_E, n_epochs):\n",
    "    \n",
    "    opt.param_groups[0]['lr'] = 6e-4 if e < 46 else 3e-4 if e < 55 else 1e-4\n",
    "    #opt.param_groups[0]['lr'] = 1e-4 #6e-4 if e < 1 else 3e-4 if e < 2 else 1e-4\n",
    "    #opt.param_groups[0]['lr'] = 1e-4\n",
    "    \n",
    "    # Train\n",
    "    print(f\"EPOCH {e}\\n\")\n",
    "    run_epoch(dataloader_trn, m, opt=opt, scaler=scaler, \n",
    "              train=True, backwards=True, log_wandb=log_wandb, wandb=wandb, updates_per_epoch=1280)\n",
    "    \n",
    "    print(\"\\n\\n Eval...\")\n",
    "    \n",
    "    #eval_rw(rw_dataloader, m, wandb) # will log directly to wandb\n",
    "        \n",
    "    # Saving model checkpoint each epoch\n",
    "    torch.save(m.state_dict(), f\"{BESPOKE_ROOT}/models/m_{model_stem}_e{e}.torch\")\n",
    "    "
   ]
  },
  {
   "cell_type": "code",
   "execution_count": null,
   "metadata": {},
   "outputs": [],
   "source": []
  },
  {
   "cell_type": "code",
   "execution_count": 12,
   "metadata": {
    "scrolled": true
   },
   "outputs": [],
   "source": [
    "torch.save(m.state_dict(), f\"{BESPOKE_ROOT}/models/m_{model_stem}_e63.torch\")"
   ]
  },
  {
   "cell_type": "code",
   "execution_count": null,
   "metadata": {},
   "outputs": [],
   "source": []
  },
  {
   "cell_type": "code",
   "execution_count": 12,
   "metadata": {
    "scrolled": true
   },
   "outputs": [],
   "source": [
    "set_should_stop(True)"
   ]
  },
  {
   "cell_type": "code",
   "execution_count": null,
   "metadata": {},
   "outputs": [],
   "source": []
  },
  {
   "cell_type": "code",
   "execution_count": 10,
   "metadata": {
    "scrolled": true
   },
   "outputs": [
    {
     "name": "stderr",
     "output_type": "stream",
     "text": [
      "/home/beans/miniconda3/envs/py38/lib/python3.8/site-packages/torch/utils/checkpoint.py:25: UserWarning: None of the inputs have requires_grad=True. Gradients will be None\n",
      "  warnings.warn(\"None of the inputs have requires_grad=True. Gradients will be None\")\n"
     ]
    },
    {
     "name": "stdout",
     "output_type": "stream",
     "text": [
      "CPU times: user 14.3 s, sys: 417 ms, total: 14.7 s\n",
      "Wall time: 14 s\n"
     ]
    }
   ],
   "source": [
    "%%time\n",
    "\n",
    "eval_rw(rw_dataloader, m, wandb) # will log directly to wandb"
   ]
  },
  {
   "cell_type": "code",
   "execution_count": null,
   "metadata": {},
   "outputs": [],
   "source": []
  },
  {
   "cell_type": "code",
   "execution_count": null,
   "metadata": {},
   "outputs": [],
   "source": []
  }
 ],
 "metadata": {
  "kernelspec": {
   "display_name": "Python 3 (ipykernel)",
   "language": "python",
   "name": "python3"
  },
  "language_info": {
   "codemirror_mode": {
    "name": "ipython",
    "version": 3
   },
   "file_extension": ".py",
   "mimetype": "text/x-python",
   "name": "python",
   "nbconvert_exporter": "python",
   "pygments_lexer": "ipython3",
   "version": "3.8.11"
  }
 },
 "nbformat": 4,
 "nbformat_minor": 4
}
