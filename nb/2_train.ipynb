{
 "cells": [
  {
   "cell_type": "code",
   "execution_count": 1,
   "metadata": {
    "scrolled": true
   },
   "outputs": [
    {
     "name": "stderr",
     "output_type": "stream",
     "text": [
      "/home/beans/miniconda3/envs/py38/lib/python3.8/site-packages/albumentations/augmentations/transforms.py:689: FutureWarning: This class has been deprecated. Please use CoarseDropout\n",
      "  warnings.warn(\n",
      "/home/beans/miniconda3/envs/py38/lib/python3.8/site-packages/albumentations/augmentations/transforms.py:965: FutureWarning: This class has been deprecated. Please use ImageCompression\n",
      "  warnings.warn(\n"
     ]
    },
    {
     "data": {
      "text/plain": [
       "('1.10.0', 2, 'NVIDIA GeForce RTX 3090')"
      ]
     },
     "execution_count": 1,
     "metadata": {},
     "output_type": "execute_result"
    }
   ],
   "source": [
    "%matplotlib inline\n",
    "%load_ext autoreload\n",
    "%autoreload 2\n",
    "\n",
    "import sys\n",
    "sys.path.append(f'/home/beans/bespoke')\n",
    "\n",
    "from models import EffNet\n",
    "from constants import *\n",
    "from imports import *\n",
    "from rw_dataloader import RealWorldDataloader\n",
    "from blender_dataloader import BlenderDataloader\n",
    "from train_utils import *\n",
    "\n",
    "torch.__version__, torch.cuda.device_count(), torch.cuda.get_device_name(torch.cuda.current_device())"
   ]
  },
  {
   "cell_type": "code",
   "execution_count": 2,
   "metadata": {},
   "outputs": [
    {
     "data": {
      "text/plain": [
       "'2j4y3my2'"
      ]
     },
     "execution_count": 2,
     "metadata": {},
     "output_type": "execute_result"
    }
   ],
   "source": [
    "import wandb\n",
    "run_id = wandb.util.generate_id(); run_id"
   ]
  },
  {
   "cell_type": "code",
   "execution_count": 3,
   "metadata": {
    "scrolled": true
   },
   "outputs": [
    {
     "name": "stderr",
     "output_type": "stream",
     "text": [
      "\u001b[34m\u001b[1mwandb\u001b[0m: Currently logged in as: \u001b[33mrgilman33\u001b[0m (use `wandb login --relogin` to force relogin)\n",
      "\u001b[34m\u001b[1mwandb\u001b[0m: wandb version 0.13.3 is available!  To upgrade, please run:\n",
      "\u001b[34m\u001b[1mwandb\u001b[0m:  $ pip install wandb --upgrade\n"
     ]
    },
    {
     "data": {
      "text/html": [
       "\n",
       "                    Resuming run <strong><a href=\"https://wandb.ai/rgilman33/carla/runs/2rrh11ch\" target=\"_blank\">vague-wave-343</a></strong> to <a href=\"https://wandb.ai/rgilman33/carla\" target=\"_blank\">Weights & Biases</a> (<a href=\"https://docs.wandb.com/integrations/jupyter.html\" target=\"_blank\">docs</a>).<br/>\n",
       "\n",
       "                "
      ],
      "text/plain": [
       "<IPython.core.display.HTML object>"
      ]
     },
     "metadata": {},
     "output_type": "display_data"
    },
    {
     "data": {
      "text/html": [
       "<button onClick=\"this.nextSibling.style.display='block';this.style.display='none';\">Display W&B run</button><iframe src=\"https://wandb.ai/rgilman33/carla/runs/2rrh11ch?jupyter=true\" style=\"border:none;width:100%;height:420px;display:none;\"></iframe>"
      ],
      "text/plain": [
       "<wandb.sdk.wandb_run.Run at 0x7efe672ecdc0>"
      ]
     },
     "execution_count": 3,
     "metadata": {},
     "output_type": "execute_result"
    }
   ],
   "source": [
    "wandb.init(id='2rrh11ch', project=\"carla\", resume=\"allow\")"
   ]
  },
  {
   "cell_type": "code",
   "execution_count": 4,
   "metadata": {
    "scrolled": true
   },
   "outputs": [
    {
     "data": {
      "text/plain": [
       "14029.957"
      ]
     },
     "execution_count": 4,
     "metadata": {},
     "output_type": "execute_result"
    }
   ],
   "source": [
    "m = EffNet(model_arch=\"efficientnet_b3\").to(device) # 13M params, 11.6M without RNN, \n",
    "sum([torch.numel(p) for p in m.parameters()]) / 1000"
   ]
  },
  {
   "cell_type": "code",
   "execution_count": 5,
   "metadata": {
    "scrolled": true
   },
   "outputs": [
    {
     "data": {
      "text/plain": [
       "<All keys matched successfully>"
      ]
     },
     "execution_count": 5,
     "metadata": {},
     "output_type": "execute_result"
    }
   ],
   "source": [
    "m.load_state_dict(torch.load(f\"{BESPOKE_ROOT}/models/m_9.21_e2.torch\"), strict=False)"
   ]
  },
  {
   "cell_type": "code",
   "execution_count": null,
   "metadata": {},
   "outputs": [],
   "source": []
  },
  {
   "cell_type": "code",
   "execution_count": 6,
   "metadata": {
    "scrolled": true
   },
   "outputs": [],
   "source": [
    "scaler = torch.cuda.amp.GradScaler() \n",
    "opt = torch.optim.Adam(m.parameters(), lr=5e-5)"
   ]
  },
  {
   "cell_type": "code",
   "execution_count": 7,
   "metadata": {
    "scrolled": true
   },
   "outputs": [
    {
     "name": "stdout",
     "output_type": "stream",
     "text": [
      "CPU times: user 1min 4s, sys: 2.33 s, total: 1min 6s\n",
      "Wall time: 1min 6s\n"
     ]
    }
   ],
   "source": [
    "%%time\n",
    "BS = 32\n",
    "dataloader_trn = BlenderDataloader(path_stem=\"trn\", bs=BS)"
   ]
  },
  {
   "cell_type": "code",
   "execution_count": 8,
   "metadata": {
    "scrolled": true
   },
   "outputs": [
    {
     "name": "stdout",
     "output_type": "stream",
     "text": [
      "CPU times: user 3 µs, sys: 0 ns, total: 3 µs\n",
      "Wall time: 5.48 µs\n"
     ]
    }
   ],
   "source": [
    "%%time\n",
    "#rw_dataloader = RealWorldDataloader()"
   ]
  },
  {
   "cell_type": "code",
   "execution_count": 9,
   "metadata": {},
   "outputs": [
    {
     "data": {
      "text/plain": [
       "\"for n, p in m.named_parameters():\\n    if 'fcs_2' in n:\\n        p.requires_grad = True\\n    else:\\n        p.requires_grad = False\\n        \\n    print(n, p.requires_grad)\""
      ]
     },
     "execution_count": 9,
     "metadata": {},
     "output_type": "execute_result"
    }
   ],
   "source": [
    "\"\"\"for n, p in m.named_parameters():\n",
    "    if 'fcs_2' in n:\n",
    "        p.requires_grad = True\n",
    "    else:\n",
    "        p.requires_grad = False\n",
    "        \n",
    "    print(n, p.requires_grad)\"\"\""
   ]
  },
  {
   "cell_type": "code",
   "execution_count": 10,
   "metadata": {
    "scrolled": true
   },
   "outputs": [],
   "source": [
    "model_stem = \"9.21\"\n",
    "START_E = 0"
   ]
  },
  {
   "cell_type": "code",
   "execution_count": null,
   "metadata": {
    "scrolled": true
   },
   "outputs": [
    {
     "name": "stdout",
     "output_type": "stream",
     "text": [
      "EPOCH 0\n",
      "\n",
      "{'trn_control_loss': 0.14795351, 'trn_headings_loss': 0.00665626, 'trn_curvatures_loss': 0.01345843, 'consistency losses/trn_steer_cost': 0.01410523, 'consistency losses/trn_te_loss': 24.49856246, 'consistency losses/trn_%_updates_w_torque_delta_loss': 0.9921875, 'consistency losses/trn_torque_loss': 3960.70851326, 'consistency losses/trn_torque_delta_loss': 54.23098539, 'logistical/obs_consumed_per_second': 198.71653543, 'logistical/obs_generated_per_second': 165.77165354, 'logistical/data_consumption_ratio': 1.19963421, 'logistical/manual_train_pause': 0.0, 'logistical/max_param': 16.28517151, 'logistical/lr': 0.0006}\n",
      "{'logistical/obs_consumed_per_second': 192.609375, 'logistical/obs_generated_per_second': 166.8359375, 'logistical/data_consumption_ratio': 1.15547901, 'logistical/manual_train_pause': 0.0, 'trn_control_loss': 0.17503405, 'trn_headings_loss': 0.00823984, 'trn_curvatures_loss': 0.01932466, 'consistency losses/trn_steer_cost': 0.02019936, 'consistency losses/trn_te_loss': 22.01259891, 'consistency losses/trn_%_updates_w_torque_delta_loss': 1.0, 'consistency losses/trn_torque_loss': 3909.00603151, 'consistency losses/trn_torque_delta_loss': 50.35265432, 'logistical/max_param': 16.28793144, 'logistical/lr': 0.0006}\n",
      "{'logistical/obs_consumed_per_second': 197.15625, 'logistical/obs_generated_per_second': 163.4140625, 'logistical/data_consumption_ratio': 1.20892306, 'logistical/manual_train_pause': 0.0, 'trn_control_loss': 0.20300603, 'trn_headings_loss': 0.00933734, 'trn_curvatures_loss': 0.0209994, 'consistency losses/trn_steer_cost': 0.01690486, 'consistency losses/trn_te_loss': 22.71355261, 'consistency losses/trn_%_updates_w_torque_delta_loss': 1.0, 'consistency losses/trn_torque_loss': 4050.66534233, 'consistency losses/trn_torque_delta_loss': 66.91173256, 'logistical/max_param': 16.29224396, 'logistical/lr': 0.0006}\n",
      "{'logistical/obs_consumed_per_second': 196.21875, 'logistical/obs_generated_per_second': 166.8671875, 'logistical/data_consumption_ratio': 1.1763259, 'logistical/manual_train_pause': 0.0, 'trn_control_loss': 0.21885252, 'trn_headings_loss': 0.00904992, 'trn_curvatures_loss': 0.01873761, 'consistency losses/trn_steer_cost': 0.01567811, 'consistency losses/trn_te_loss': 23.66400199, 'consistency losses/trn_%_updates_w_torque_delta_loss': 1.0, 'consistency losses/trn_torque_loss': 4132.09407902, 'consistency losses/trn_torque_delta_loss': 67.84542467, 'logistical/max_param': 16.29088593, 'logistical/lr': 0.0006}\n",
      "{'logistical/obs_consumed_per_second': 195.421875, 'logistical/obs_generated_per_second': 168.2109375, 'logistical/data_consumption_ratio': 1.16139167, 'logistical/manual_train_pause': 0.0, 'trn_control_loss': 0.22306204, 'trn_headings_loss': 0.00892942, 'trn_curvatures_loss': 0.01638982, 'consistency losses/trn_steer_cost': 0.01888493, 'consistency losses/trn_te_loss': 23.15575014, 'consistency losses/trn_%_updates_w_torque_delta_loss': 1.0, 'consistency losses/trn_torque_loss': 4203.40493298, 'consistency losses/trn_torque_delta_loss': 84.08716819, 'logistical/max_param': 16.30422974, 'logistical/lr': 0.0006}\n",
      "{'logistical/obs_consumed_per_second': 193.5234375, 'logistical/obs_generated_per_second': 169.0625, 'logistical/data_consumption_ratio': 1.14491987, 'logistical/manual_train_pause': 0.0, 'trn_control_loss': 0.23681021, 'trn_headings_loss': 0.01014885, 'trn_curvatures_loss': 0.02376473, 'consistency losses/trn_steer_cost': 0.01972032, 'consistency losses/trn_te_loss': 22.88876396, 'consistency losses/trn_%_updates_w_torque_delta_loss': 1.0, 'consistency losses/trn_torque_loss': 3670.28598166, 'consistency losses/trn_torque_delta_loss': 70.66637927, 'logistical/max_param': 16.3106041, 'logistical/lr': 0.0006}\n",
      "{'logistical/obs_consumed_per_second': 196.625, 'logistical/obs_generated_per_second': 166.2109375, 'logistical/data_consumption_ratio': 1.18336541, 'logistical/manual_train_pause': 0.0, 'trn_control_loss': 0.11296272, 'trn_headings_loss': 0.00514655, 'trn_curvatures_loss': 0.01036981, 'consistency losses/trn_steer_cost': 0.01125875, 'consistency losses/trn_te_loss': 23.63545564, 'consistency losses/trn_%_updates_w_torque_delta_loss': 1.0, 'consistency losses/trn_torque_loss': 4219.17825985, 'consistency losses/trn_torque_delta_loss': 48.88342498, 'logistical/max_param': 16.30874062, 'logistical/lr': 0.0006}\n",
      "{'logistical/obs_consumed_per_second': 196.65625, 'logistical/obs_generated_per_second': 168.6015625, 'logistical/data_consumption_ratio': 1.16651684, 'logistical/manual_train_pause': 0.0, 'trn_control_loss': 0.17558169, 'trn_headings_loss': 0.00770636, 'trn_curvatures_loss': 0.01856698, 'consistency losses/trn_steer_cost': 0.01716372, 'consistency losses/trn_te_loss': 23.55097497, 'consistency losses/trn_%_updates_w_torque_delta_loss': 1.0, 'consistency losses/trn_torque_loss': 3994.35706615, 'consistency losses/trn_torque_delta_loss': 49.12450144, 'logistical/max_param': 16.31327057, 'logistical/lr': 0.0006}\n",
      "{'logistical/obs_consumed_per_second': 191.6328125, 'logistical/obs_generated_per_second': 164.1328125, 'logistical/data_consumption_ratio': 1.16787157, 'logistical/manual_train_pause': 0.0, 'trn_control_loss': 0.14400125, 'trn_headings_loss': 0.00672136, 'trn_curvatures_loss': 0.01739144, 'consistency losses/trn_steer_cost': 0.01705295, 'consistency losses/trn_te_loss': 23.44254844, 'consistency losses/trn_%_updates_w_torque_delta_loss': 0.9921875, 'consistency losses/trn_torque_loss': 3528.76119804, 'consistency losses/trn_torque_delta_loss': 42.81924779, 'logistical/max_param': 16.30815506, 'logistical/lr': 0.0006}\n",
      "{'logistical/obs_consumed_per_second': 194.78125, 'logistical/obs_generated_per_second': 166.421875, 'logistical/data_consumption_ratio': 1.17078571, 'logistical/manual_train_pause': 0.0, 'trn_control_loss': 0.16236734, 'trn_headings_loss': 0.00679877, 'trn_curvatures_loss': 0.01405513, 'consistency losses/trn_steer_cost': 0.01723799, 'consistency losses/trn_te_loss': 22.51281081, 'consistency losses/trn_%_updates_w_torque_delta_loss': 0.9921875, 'consistency losses/trn_torque_loss': 3447.96379185, 'consistency losses/trn_torque_delta_loss': 50.970818, 'logistical/max_param': 16.30382538, 'logistical/lr': 0.0006}\n",
      "{'logistical/obs_consumed_per_second': 163.0, 'logistical/obs_generated_per_second': 163.0, 'logistical/data_consumption_ratio': 1.00013967, 'logistical/manual_train_pause': 0.0}\n",
      "\n",
      "\n",
      " Eval...\n",
      "EPOCH 1\n",
      "\n",
      "{'trn_control_loss': 0.21758842, 'trn_headings_loss': 0.01006882, 'trn_curvatures_loss': 0.03035817, 'consistency losses/trn_steer_cost': 0.02018046, 'consistency losses/trn_te_loss': 22.76160461, 'consistency losses/trn_%_updates_w_torque_delta_loss': 1.0, 'consistency losses/trn_torque_loss': 4320.47153473, 'consistency losses/trn_torque_delta_loss': 66.24065167, 'logistical/obs_consumed_per_second': 203.11811024, 'logistical/obs_generated_per_second': 166.92125984, 'logistical/data_consumption_ratio': 1.21830649, 'logistical/manual_train_pause': 0.0, 'logistical/max_param': 16.29123116, 'logistical/lr': 0.0006}\n",
      "{'logistical/obs_consumed_per_second': 197.84375, 'logistical/obs_generated_per_second': 166.3984375, 'logistical/data_consumption_ratio': 1.18888241, 'logistical/manual_train_pause': 0.0, 'trn_control_loss': 0.14003897, 'trn_headings_loss': 0.00549659, 'trn_curvatures_loss': 0.01231697, 'consistency losses/trn_steer_cost': 0.01264945, 'consistency losses/trn_te_loss': 23.93490757, 'consistency losses/trn_%_updates_w_torque_delta_loss': 0.9921875, 'consistency losses/trn_torque_loss': 4060.95666599, 'consistency losses/trn_torque_delta_loss': 46.95954834, 'logistical/max_param': 16.29052162, 'logistical/lr': 0.0006}\n",
      "{'logistical/obs_consumed_per_second': 198.4765625, 'logistical/obs_generated_per_second': 167.796875, 'logistical/data_consumption_ratio': 1.18335668, 'logistical/manual_train_pause': 0.0, 'trn_control_loss': 0.11098814, 'trn_headings_loss': 0.00516079, 'trn_curvatures_loss': 0.01081865, 'consistency losses/trn_steer_cost': 0.01034334, 'consistency losses/trn_te_loss': 23.35683849, 'consistency losses/trn_%_updates_w_torque_delta_loss': 0.9921875, 'consistency losses/trn_torque_loss': 4144.28239155, 'consistency losses/trn_torque_delta_loss': 44.06356409, 'logistical/max_param': 16.29144096, 'logistical/lr': 0.0006}\n"
     ]
    },
    {
     "name": "stdout",
     "output_type": "stream",
     "text": [
      "{'logistical/obs_consumed_per_second': 197.1640625, 'logistical/obs_generated_per_second': 167.59375, 'logistical/data_consumption_ratio': 1.17685402, 'logistical/manual_train_pause': 0.0, 'trn_control_loss': 0.21421146, 'trn_headings_loss': 0.00982752, 'trn_curvatures_loss': 0.03545535, 'consistency losses/trn_steer_cost': 0.02226922, 'consistency losses/trn_te_loss': 22.86142823, 'consistency losses/trn_%_updates_w_torque_delta_loss': 0.9921875, 'consistency losses/trn_torque_loss': 3853.92084789, 'consistency losses/trn_torque_delta_loss': 50.66002306, 'logistical/max_param': 16.29849434, 'logistical/lr': 0.0006}\n",
      "{'logistical/obs_consumed_per_second': 198.8046875, 'logistical/obs_generated_per_second': 170.46875, 'logistical/data_consumption_ratio': 1.16660015, 'logistical/manual_train_pause': 0.0, 'trn_control_loss': 0.16901588, 'trn_headings_loss': 0.00674386, 'trn_curvatures_loss': 0.01331535, 'consistency losses/trn_steer_cost': 0.01541898, 'consistency losses/trn_te_loss': 22.7317747, 'consistency losses/trn_%_updates_w_torque_delta_loss': 1.0, 'consistency losses/trn_torque_loss': 4125.41381741, 'consistency losses/trn_torque_delta_loss': 71.52184822, 'logistical/max_param': 16.30033112, 'logistical/lr': 0.0006}\n",
      "{'logistical/obs_consumed_per_second': 196.5703125, 'logistical/obs_generated_per_second': 168.5625, 'logistical/data_consumption_ratio': 1.16613488, 'logistical/manual_train_pause': 0.0, 'trn_control_loss': 0.1315105, 'trn_headings_loss': 0.0059105, 'trn_curvatures_loss': 0.01311849, 'consistency losses/trn_steer_cost': 0.01108286, 'consistency losses/trn_te_loss': 22.8314843, 'consistency losses/trn_%_updates_w_torque_delta_loss': 1.0, 'consistency losses/trn_torque_loss': 3795.00122356, 'consistency losses/trn_torque_delta_loss': 36.79823604, 'logistical/max_param': 16.30716896, 'logistical/lr': 0.0006}\n",
      "{'logistical/obs_consumed_per_second': 198.34375, 'logistical/obs_generated_per_second': 167.203125, 'logistical/data_consumption_ratio': 1.18687373, 'logistical/manual_train_pause': 0.0, 'trn_control_loss': 0.13552427, 'trn_headings_loss': 0.00626285, 'trn_curvatures_loss': 0.01552474, 'consistency losses/trn_steer_cost': 0.013152, 'consistency losses/trn_te_loss': 23.6873403, 'consistency losses/trn_%_updates_w_torque_delta_loss': 1.0, 'consistency losses/trn_torque_loss': 3660.15157318, 'consistency losses/trn_torque_delta_loss': 49.23270325, 'logistical/max_param': 16.3061161, 'logistical/lr': 0.0006}\n",
      "{'logistical/obs_consumed_per_second': 197.8125, 'logistical/obs_generated_per_second': 168.578125, 'logistical/data_consumption_ratio': 1.17394662, 'logistical/manual_train_pause': 0.0, 'trn_control_loss': 0.101408, 'trn_headings_loss': 0.00469507, 'trn_curvatures_loss': 0.00913955, 'consistency losses/trn_steer_cost': 0.00952658, 'consistency losses/trn_te_loss': 24.91129492, 'consistency losses/trn_%_updates_w_torque_delta_loss': 1.0, 'consistency losses/trn_torque_loss': 4431.0768714, 'consistency losses/trn_torque_delta_loss': 49.77359695, 'logistical/max_param': 16.30742455, 'logistical/lr': 0.0006}\n",
      "{'logistical/obs_consumed_per_second': 198.96875, 'logistical/obs_generated_per_second': 166.4140625, 'logistical/data_consumption_ratio': 1.19586515, 'logistical/manual_train_pause': 0.0, 'trn_control_loss': 0.12519217, 'trn_headings_loss': 0.00581591, 'trn_curvatures_loss': 0.01465786, 'consistency losses/trn_steer_cost': 0.0121415, 'consistency losses/trn_te_loss': 23.2331675, 'consistency losses/trn_%_updates_w_torque_delta_loss': 0.9921875, 'consistency losses/trn_torque_loss': 4033.1872921, 'consistency losses/trn_torque_delta_loss': 40.56397537, 'logistical/max_param': 16.30386162, 'logistical/lr': 0.0006}\n",
      "{'logistical/obs_consumed_per_second': 198.21875, 'logistical/obs_generated_per_second': 168.3359375, 'logistical/data_consumption_ratio': 1.17759308, 'logistical/manual_train_pause': 0.0, 'trn_control_loss': 0.1632216, 'trn_headings_loss': 0.00717637, 'trn_curvatures_loss': 0.01815081, 'consistency losses/trn_steer_cost': 0.02551234, 'consistency losses/trn_te_loss': 23.64442503, 'consistency losses/trn_%_updates_w_torque_delta_loss': 0.984375, 'consistency losses/trn_torque_loss': 3779.68303108, 'consistency losses/trn_torque_delta_loss': 64.58433991, 'logistical/max_param': 16.30339622, 'logistical/lr': 0.0006}\n",
      "{'logistical/obs_consumed_per_second': 130.0, 'logistical/obs_generated_per_second': 170.0, 'logistical/data_consumption_ratio': 0.7651337, 'logistical/manual_train_pause': 0.0}\n",
      "\n",
      "\n",
      " Eval...\n",
      "EPOCH 2\n",
      "\n",
      "{'trn_control_loss': 0.19488859, 'trn_headings_loss': 0.00801128, 'trn_curvatures_loss': 0.01713914, 'consistency losses/trn_steer_cost': 0.01690921, 'consistency losses/trn_te_loss': 24.82836597, 'consistency losses/trn_%_updates_w_torque_delta_loss': 1.0, 'consistency losses/trn_torque_loss': 4003.73976517, 'consistency losses/trn_torque_delta_loss': 100.39498302, 'logistical/obs_consumed_per_second': 193.56692913, 'logistical/obs_generated_per_second': 167.4488189, 'logistical/data_consumption_ratio': 1.15535522, 'logistical/manual_train_pause': 0.0, 'logistical/max_param': 16.30532837, 'logistical/lr': 0.0006}\n",
      "{'logistical/obs_consumed_per_second': 196.6640625, 'logistical/obs_generated_per_second': 161.53125, 'logistical/data_consumption_ratio': 1.2181931, 'logistical/manual_train_pause': 0.0, 'trn_control_loss': 0.08758211, 'trn_headings_loss': 0.00411423, 'trn_curvatures_loss': 0.00828569, 'consistency losses/trn_steer_cost': 0.01064357, 'consistency losses/trn_te_loss': 24.2312462, 'consistency losses/trn_%_updates_w_torque_delta_loss': 1.0, 'consistency losses/trn_torque_loss': 4328.81682301, 'consistency losses/trn_torque_delta_loss': 45.90432452, 'logistical/max_param': 16.30881691, 'logistical/lr': 0.0006}\n",
      "{'logistical/obs_consumed_per_second': 202.46875, 'logistical/obs_generated_per_second': 162.453125, 'logistical/data_consumption_ratio': 1.24831535, 'logistical/manual_train_pause': 0.0, 'trn_control_loss': 0.13577485, 'trn_headings_loss': 0.00568601, 'trn_curvatures_loss': 0.01244977, 'consistency losses/trn_steer_cost': 0.01304302, 'consistency losses/trn_te_loss': 22.71103679, 'consistency losses/trn_%_updates_w_torque_delta_loss': 1.0, 'consistency losses/trn_torque_loss': 3756.29799747, 'consistency losses/trn_torque_delta_loss': 46.42355432, 'logistical/max_param': 16.29556847, 'logistical/lr': 0.0006}\n",
      "{'logistical/obs_consumed_per_second': 194.3046875, 'logistical/obs_generated_per_second': 164.5859375, 'logistical/data_consumption_ratio': 1.18155038, 'logistical/manual_train_pause': 0.0, 'trn_control_loss': 0.16903782, 'trn_headings_loss': 0.00740007, 'trn_curvatures_loss': 0.02018186, 'consistency losses/trn_steer_cost': 0.01993951, 'consistency losses/trn_te_loss': 22.12180035, 'consistency losses/trn_%_updates_w_torque_delta_loss': 1.0, 'consistency losses/trn_torque_loss': 4244.6021328, 'consistency losses/trn_torque_delta_loss': 48.98159154, 'logistical/max_param': 16.2983017, 'logistical/lr': 0.0006}\n",
      "{'logistical/obs_consumed_per_second': 197.6328125, 'logistical/obs_generated_per_second': 169.0234375, 'logistical/data_consumption_ratio': 1.16932217, 'logistical/manual_train_pause': 0.0, 'trn_control_loss': 0.15347266, 'trn_headings_loss': 0.00740004, 'trn_curvatures_loss': 0.02124637, 'consistency losses/trn_steer_cost': 0.01696151, 'consistency losses/trn_te_loss': 22.99411937, 'consistency losses/trn_%_updates_w_torque_delta_loss': 1.0, 'consistency losses/trn_torque_loss': 3759.80333519, 'consistency losses/trn_torque_delta_loss': 44.36139773, 'logistical/max_param': 16.29399872, 'logistical/lr': 0.0006}\n",
      "{'logistical/obs_consumed_per_second': 196.6171875, 'logistical/obs_generated_per_second': 166.609375, 'logistical/data_consumption_ratio': 1.18107421, 'logistical/manual_train_pause': 0.0, 'trn_control_loss': 0.2439034, 'trn_headings_loss': 0.00965358, 'trn_curvatures_loss': 0.02217543, 'consistency losses/trn_steer_cost': 0.02323249, 'consistency losses/trn_te_loss': 24.26202406, 'consistency losses/trn_%_updates_w_torque_delta_loss': 0.9921875, 'consistency losses/trn_torque_loss': 4239.88744736, 'consistency losses/trn_torque_delta_loss': 69.52844688, 'logistical/max_param': 16.30588531, 'logistical/lr': 0.0006}\n"
     ]
    },
    {
     "name": "stdout",
     "output_type": "stream",
     "text": [
      "{'logistical/obs_consumed_per_second': 198.5703125, 'logistical/obs_generated_per_second': 169.625, 'logistical/data_consumption_ratio': 1.17126016, 'logistical/manual_train_pause': 0.0, 'trn_control_loss': 0.25913763, 'trn_headings_loss': 0.01158294, 'trn_curvatures_loss': 0.02503312, 'consistency losses/trn_steer_cost': 0.01949763, 'consistency losses/trn_te_loss': 21.90722102, 'consistency losses/trn_%_updates_w_torque_delta_loss': 1.0, 'consistency losses/trn_torque_loss': 3860.75404787, 'consistency losses/trn_torque_delta_loss': 63.85776734, 'logistical/max_param': 16.29040718, 'logistical/lr': 0.0006}\n",
      "{'logistical/obs_consumed_per_second': 198.6328125, 'logistical/obs_generated_per_second': 168.2734375, 'logistical/data_consumption_ratio': 1.18071313, 'logistical/manual_train_pause': 0.0, 'trn_control_loss': 0.12690043, 'trn_headings_loss': 0.00565639, 'trn_curvatures_loss': 0.01168126, 'consistency losses/trn_steer_cost': 0.01019013, 'consistency losses/trn_te_loss': 23.43198766, 'consistency losses/trn_%_updates_w_torque_delta_loss': 1.0, 'consistency losses/trn_torque_loss': 3924.52281952, 'consistency losses/trn_torque_delta_loss': 37.26040045, 'logistical/max_param': 16.28831291, 'logistical/lr': 0.0006}\n",
      "{'logistical/obs_consumed_per_second': 199.5, 'logistical/obs_generated_per_second': 167.1015625, 'logistical/data_consumption_ratio': 1.19540923, 'logistical/manual_train_pause': 0.0, 'trn_control_loss': 0.20512605, 'trn_headings_loss': 0.00826059, 'trn_curvatures_loss': 0.02019826, 'consistency losses/trn_steer_cost': 0.01482818, 'consistency losses/trn_te_loss': 22.80024749, 'consistency losses/trn_%_updates_w_torque_delta_loss': 0.9921875, 'consistency losses/trn_torque_loss': 3607.71282673, 'consistency losses/trn_torque_delta_loss': 37.14362499, 'logistical/max_param': 16.29060173, 'logistical/lr': 0.0006}\n",
      "{'logistical/obs_consumed_per_second': 195.1953125, 'logistical/obs_generated_per_second': 164.8125, 'logistical/data_consumption_ratio': 1.18465922, 'logistical/manual_train_pause': 0.0, 'trn_control_loss': 0.14301872, 'trn_headings_loss': 0.00595331, 'trn_curvatures_loss': 0.01327783, 'consistency losses/trn_steer_cost': 0.01322573, 'consistency losses/trn_te_loss': 24.63773534, 'consistency losses/trn_%_updates_w_torque_delta_loss': 0.9921875, 'consistency losses/trn_torque_loss': 4098.0121479, 'consistency losses/trn_torque_delta_loss': 53.22743195, 'logistical/max_param': 16.2946167, 'logistical/lr': 0.0006}\n",
      "{'logistical/obs_consumed_per_second': 110.0, 'logistical/obs_generated_per_second': 164.0, 'logistical/data_consumption_ratio': 0.66912357, 'logistical/manual_train_pause': 0.0}\n",
      "\n",
      "\n",
      " Eval...\n",
      "EPOCH 3\n",
      "\n",
      "{'trn_control_loss': 0.09737182, 'trn_headings_loss': 0.00458217, 'trn_curvatures_loss': 0.00963387, 'consistency losses/trn_steer_cost': 0.01082361, 'consistency losses/trn_te_loss': 23.5751227, 'consistency losses/trn_%_updates_w_torque_delta_loss': 0.984375, 'consistency losses/trn_torque_loss': 4179.87460423, 'consistency losses/trn_torque_delta_loss': 35.71987053, 'logistical/obs_consumed_per_second': 200.92125984, 'logistical/obs_generated_per_second': 163.92913386, 'logistical/data_consumption_ratio': 1.22666009, 'logistical/manual_train_pause': 0.0, 'logistical/max_param': 16.29770088, 'logistical/lr': 0.0006}\n",
      "{'logistical/obs_consumed_per_second': 196.171875, 'logistical/obs_generated_per_second': 167.25, 'logistical/data_consumption_ratio': 1.17292448, 'logistical/manual_train_pause': 0.0, 'trn_control_loss': 0.11079812, 'trn_headings_loss': 0.00535467, 'trn_curvatures_loss': 0.01048157, 'consistency losses/trn_steer_cost': 0.0111455, 'consistency losses/trn_te_loss': 23.55070606, 'consistency losses/trn_%_updates_w_torque_delta_loss': 0.984375, 'consistency losses/trn_torque_loss': 4356.48512173, 'consistency losses/trn_torque_delta_loss': 46.21227124, 'logistical/max_param': 16.2925663, 'logistical/lr': 0.0006}\n",
      "{'logistical/obs_consumed_per_second': 198.2890625, 'logistical/obs_generated_per_second': 166.375, 'logistical/data_consumption_ratio': 1.19234133, 'logistical/manual_train_pause': 0.0, 'trn_control_loss': 0.10980868, 'trn_headings_loss': 0.00488693, 'trn_curvatures_loss': 0.01061937, 'consistency losses/trn_steer_cost': 0.01058614, 'consistency losses/trn_te_loss': 24.11906514, 'consistency losses/trn_%_updates_w_torque_delta_loss': 0.9609375, 'consistency losses/trn_torque_loss': 4015.23583221, 'consistency losses/trn_torque_delta_loss': 31.13425727, 'logistical/max_param': 16.29263878, 'logistical/lr': 0.0006}\n",
      "{'logistical/obs_consumed_per_second': 200.1875, 'logistical/obs_generated_per_second': 165.7734375, 'logistical/data_consumption_ratio': 1.2084172, 'logistical/manual_train_pause': 0.0, 'trn_control_loss': 0.10936832, 'trn_headings_loss': 0.00498973, 'trn_curvatures_loss': 0.01406819, 'consistency losses/trn_steer_cost': 0.01041605, 'consistency losses/trn_te_loss': 24.01374231, 'consistency losses/trn_%_updates_w_torque_delta_loss': 0.984375, 'consistency losses/trn_torque_loss': 3923.49891853, 'consistency losses/trn_torque_delta_loss': 38.42502026, 'logistical/max_param': 16.29287148, 'logistical/lr': 0.0006}\n",
      "{'logistical/obs_consumed_per_second': 195.109375, 'logistical/obs_generated_per_second': 167.0390625, 'logistical/data_consumption_ratio': 1.16827106, 'logistical/manual_train_pause': 0.0, 'trn_control_loss': 0.07920098, 'trn_headings_loss': 0.00384162, 'trn_curvatures_loss': 0.00937587, 'consistency losses/trn_steer_cost': 0.01210153, 'consistency losses/trn_te_loss': 22.12122434, 'consistency losses/trn_%_updates_w_torque_delta_loss': 1.0, 'consistency losses/trn_torque_loss': 4224.38650322, 'consistency losses/trn_torque_delta_loss': 33.61638501, 'logistical/max_param': 16.29234886, 'logistical/lr': 0.0006}\n",
      "{'logistical/obs_consumed_per_second': 196.640625, 'logistical/obs_generated_per_second': 167.859375, 'logistical/data_consumption_ratio': 1.17260982, 'logistical/manual_train_pause': 0.0, 'trn_control_loss': 0.09506893, 'trn_headings_loss': 0.00468707, 'trn_curvatures_loss': 0.01332176, 'consistency losses/trn_steer_cost': 0.01241642, 'consistency losses/trn_te_loss': 24.09135748, 'consistency losses/trn_%_updates_w_torque_delta_loss': 1.0, 'consistency losses/trn_torque_loss': 4366.08475113, 'consistency losses/trn_torque_delta_loss': 43.78675706, 'logistical/max_param': 16.28138542, 'logistical/lr': 0.0006}\n",
      "{'logistical/obs_consumed_per_second': 195.5234375, 'logistical/obs_generated_per_second': 167.875, 'logistical/data_consumption_ratio': 1.16593844, 'logistical/manual_train_pause': 0.0, 'trn_control_loss': 0.13424802, 'trn_headings_loss': 0.00564872, 'trn_curvatures_loss': 0.01406714, 'consistency losses/trn_steer_cost': 0.01279971, 'consistency losses/trn_te_loss': 24.2883589, 'consistency losses/trn_%_updates_w_torque_delta_loss': 0.9921875, 'consistency losses/trn_torque_loss': 3907.1789341, 'consistency losses/trn_torque_delta_loss': 43.76476682, 'logistical/max_param': 16.30015373, 'logistical/lr': 0.0006}\n",
      "{'logistical/obs_consumed_per_second': 203.40625, 'logistical/obs_generated_per_second': 166.015625, 'logistical/data_consumption_ratio': 1.22494657, 'logistical/manual_train_pause': 0.0, 'trn_control_loss': 0.10246491, 'trn_headings_loss': 0.00496882, 'trn_curvatures_loss': 0.01167887, 'consistency losses/trn_steer_cost': 0.01435924, 'consistency losses/trn_te_loss': 23.10251045, 'consistency losses/trn_%_updates_w_torque_delta_loss': 1.0, 'consistency losses/trn_torque_loss': 4071.63745832, 'consistency losses/trn_torque_delta_loss': 57.79232281, 'logistical/max_param': 16.2992897, 'logistical/lr': 0.0006}\n",
      "{'logistical/obs_consumed_per_second': 198.21875, 'logistical/obs_generated_per_second': 167.1640625, 'logistical/data_consumption_ratio': 1.18602903, 'logistical/manual_train_pause': 0.0, 'trn_control_loss': 0.14212251, 'trn_headings_loss': 0.00667153, 'trn_curvatures_loss': 0.01784182, 'consistency losses/trn_steer_cost': 0.01448128, 'consistency losses/trn_te_loss': 22.29478393, 'consistency losses/trn_%_updates_w_torque_delta_loss': 0.9921875, 'consistency losses/trn_torque_loss': 3885.30051899, 'consistency losses/trn_torque_delta_loss': 39.07608659, 'logistical/max_param': 16.29550743, 'logistical/lr': 0.0006}\n"
     ]
    },
    {
     "name": "stdout",
     "output_type": "stream",
     "text": [
      "{'logistical/obs_consumed_per_second': 198.03125, 'logistical/obs_generated_per_second': 167.578125, 'logistical/data_consumption_ratio': 1.18166461, 'logistical/manual_train_pause': 0.0, 'trn_control_loss': 0.11152482, 'trn_headings_loss': 0.00500835, 'trn_curvatures_loss': 0.01116699, 'consistency losses/trn_steer_cost': 0.01133052, 'consistency losses/trn_te_loss': 23.48823296, 'consistency losses/trn_%_updates_w_torque_delta_loss': 0.9921875, 'consistency losses/trn_torque_loss': 4237.66248322, 'consistency losses/trn_torque_delta_loss': 42.24161581, 'logistical/max_param': 16.29615784, 'logistical/lr': 0.0006}\n",
      "{'logistical/obs_consumed_per_second': 129.0, 'logistical/obs_generated_per_second': 169.0, 'logistical/data_consumption_ratio': 0.76672981, 'logistical/manual_train_pause': 0.0}\n",
      "\n",
      "\n",
      " Eval...\n",
      "EPOCH 4\n",
      "\n",
      "{'trn_control_loss': 0.10571051, 'trn_headings_loss': 0.005165, 'trn_curvatures_loss': 0.01121134, 'consistency losses/trn_steer_cost': 0.01190495, 'consistency losses/trn_te_loss': 23.24134272, 'consistency losses/trn_%_updates_w_torque_delta_loss': 1.0, 'consistency losses/trn_torque_loss': 4227.64559937, 'consistency losses/trn_torque_delta_loss': 43.64902483, 'logistical/obs_consumed_per_second': 201.18897638, 'logistical/obs_generated_per_second': 167.80314961, 'logistical/data_consumption_ratio': 1.20075144, 'logistical/manual_train_pause': 0.0, 'logistical/max_param': 16.29207993, 'logistical/lr': 0.0006}\n",
      "{'logistical/obs_consumed_per_second': 197.234375, 'logistical/obs_generated_per_second': 170.8984375, 'logistical/data_consumption_ratio': 1.15411386, 'logistical/manual_train_pause': 0.0, 'trn_control_loss': 0.07582283, 'trn_headings_loss': 0.00350548, 'trn_curvatures_loss': 0.00826615, 'consistency losses/trn_steer_cost': 0.00950366, 'consistency losses/trn_te_loss': 23.98359495, 'consistency losses/trn_%_updates_w_torque_delta_loss': 0.9921875, 'consistency losses/trn_torque_loss': 3808.71493626, 'consistency losses/trn_torque_delta_loss': 35.22340058, 'logistical/max_param': 16.2929287, 'logistical/lr': 0.0006}\n",
      "{'logistical/obs_consumed_per_second': 198.4453125, 'logistical/obs_generated_per_second': 168.0859375, 'logistical/data_consumption_ratio': 1.1804111, 'logistical/manual_train_pause': 0.0, 'trn_control_loss': 0.09594345, 'trn_headings_loss': 0.0045895, 'trn_curvatures_loss': 0.01241434, 'consistency losses/trn_steer_cost': 0.01252094, 'consistency losses/trn_te_loss': 22.10362803, 'consistency losses/trn_%_updates_w_torque_delta_loss': 0.984375, 'consistency losses/trn_torque_loss': 4063.17814732, 'consistency losses/trn_torque_delta_loss': 31.2906754, 'logistical/max_param': 16.29165268, 'logistical/lr': 0.0006}\n",
      "{'logistical/obs_consumed_per_second': 199.359375, 'logistical/obs_generated_per_second': 162.5, 'logistical/data_consumption_ratio': 1.22806685, 'logistical/manual_train_pause': 0.0, 'trn_control_loss': 0.10983968, 'trn_headings_loss': 0.00530706, 'trn_curvatures_loss': 0.01320779, 'consistency losses/trn_steer_cost': 0.01107565, 'consistency losses/trn_te_loss': 23.33271192, 'consistency losses/trn_%_updates_w_torque_delta_loss': 1.0, 'consistency losses/trn_torque_loss': 4028.08165359, 'consistency losses/trn_torque_delta_loss': 37.79721418, 'logistical/max_param': 16.29058456, 'logistical/lr': 0.0006}\n",
      "{'logistical/obs_consumed_per_second': 200.828125, 'logistical/obs_generated_per_second': 167.4765625, 'logistical/data_consumption_ratio': 1.19964308, 'logistical/manual_train_pause': 0.0, 'trn_control_loss': 0.06965995, 'trn_headings_loss': 0.00381988, 'trn_curvatures_loss': 0.0094021, 'consistency losses/trn_steer_cost': 0.00986093, 'consistency losses/trn_te_loss': 21.69122458, 'consistency losses/trn_%_updates_w_torque_delta_loss': 0.9765625, 'consistency losses/trn_torque_loss': 3649.84891415, 'consistency losses/trn_torque_delta_loss': 21.02433327, 'logistical/max_param': 16.28981018, 'logistical/lr': 0.0006}\n",
      "{'logistical/obs_consumed_per_second': 206.75, 'logistical/obs_generated_per_second': 168.484375, 'logistical/data_consumption_ratio': 1.22608577, 'logistical/manual_train_pause': 0.0, 'trn_control_loss': 0.06176567, 'trn_headings_loss': 0.00339437, 'trn_curvatures_loss': 0.00796396, 'consistency losses/trn_steer_cost': 0.00756168, 'consistency losses/trn_te_loss': 23.13575996, 'consistency losses/trn_%_updates_w_torque_delta_loss': 0.984375, 'consistency losses/trn_torque_loss': 4061.79592896, 'consistency losses/trn_torque_delta_loss': 23.8852317, 'logistical/max_param': 16.29052925, 'logistical/lr': 0.0006}\n",
      "{'logistical/obs_consumed_per_second': 200.2890625, 'logistical/obs_generated_per_second': 164.78125, 'logistical/data_consumption_ratio': 1.21548621, 'logistical/manual_train_pause': 0.0, 'trn_control_loss': 0.06790686, 'trn_headings_loss': 0.00337349, 'trn_curvatures_loss': 0.00789526, 'consistency losses/trn_steer_cost': 0.00748891, 'consistency losses/trn_te_loss': 23.23984769, 'consistency losses/trn_%_updates_w_torque_delta_loss': 0.9765625, 'consistency losses/trn_torque_loss': 4331.19677448, 'consistency losses/trn_torque_delta_loss': 26.31783515, 'logistical/max_param': 16.28647614, 'logistical/lr': 0.0006}\n",
      "{'logistical/obs_consumed_per_second': 200.015625, 'logistical/obs_generated_per_second': 165.0625, 'logistical/data_consumption_ratio': 1.21307949, 'logistical/manual_train_pause': 0.0, 'trn_control_loss': 0.05698657, 'trn_headings_loss': 0.00283346, 'trn_curvatures_loss': 0.00550956, 'consistency losses/trn_steer_cost': 0.00630257, 'consistency losses/trn_te_loss': 23.86326769, 'consistency losses/trn_%_updates_w_torque_delta_loss': 0.984375, 'consistency losses/trn_torque_loss': 4079.55948734, 'consistency losses/trn_torque_delta_loss': 30.20349444, 'logistical/max_param': 16.28865433, 'logistical/lr': 0.0006}\n",
      "{'logistical/obs_consumed_per_second': 200.734375, 'logistical/obs_generated_per_second': 164.484375, 'logistical/data_consumption_ratio': 1.22211405, 'logistical/manual_train_pause': 0.0, 'trn_control_loss': 0.11898851, 'trn_headings_loss': 0.00537276, 'trn_curvatures_loss': 0.01430693, 'consistency losses/trn_steer_cost': 0.01342693, 'consistency losses/trn_te_loss': 22.67967297, 'consistency losses/trn_%_updates_w_torque_delta_loss': 0.9921875, 'consistency losses/trn_torque_loss': 3786.44199085, 'consistency losses/trn_torque_delta_loss': 46.39795947, 'logistical/max_param': 16.28748894, 'logistical/lr': 0.0006}\n",
      "{'logistical/obs_consumed_per_second': 199.28125, 'logistical/obs_generated_per_second': 159.734375, 'logistical/data_consumption_ratio': 1.25013327, 'logistical/manual_train_pause': 0.0, 'trn_control_loss': 0.12317348, 'trn_headings_loss': 0.00557156, 'trn_curvatures_loss': 0.01466691, 'consistency losses/trn_steer_cost': 0.01452059, 'consistency losses/trn_te_loss': 22.30692784, 'consistency losses/trn_%_updates_w_torque_delta_loss': 1.0, 'consistency losses/trn_torque_loss': 3784.43706799, 'consistency losses/trn_torque_delta_loss': 37.98433091, 'logistical/max_param': 16.28577805, 'logistical/lr': 0.0006}\n",
      "{'logistical/obs_consumed_per_second': 135.0, 'logistical/obs_generated_per_second': 159.0, 'logistical/data_consumption_ratio': 0.85275127, 'logistical/manual_train_pause': 0.0}\n",
      "\n",
      "\n",
      " Eval...\n",
      "EPOCH 5\n",
      "\n",
      "{'trn_control_loss': 0.07574594, 'trn_headings_loss': 0.00383426, 'trn_curvatures_loss': 0.00962853, 'consistency losses/trn_steer_cost': 0.01121777, 'consistency losses/trn_te_loss': 22.54250923, 'consistency losses/trn_%_updates_w_torque_delta_loss': 1.0, 'consistency losses/trn_torque_loss': 4163.42783165, 'consistency losses/trn_torque_delta_loss': 30.61647309, 'logistical/obs_consumed_per_second': 199.57480315, 'logistical/obs_generated_per_second': 165.67716535, 'logistical/data_consumption_ratio': 1.20431232, 'logistical/manual_train_pause': 0.0, 'logistical/max_param': 16.2851963, 'logistical/lr': 0.0006}\n",
      "{'logistical/obs_consumed_per_second': 194.4375, 'logistical/obs_generated_per_second': 168.3046875, 'logistical/data_consumption_ratio': 1.15526176, 'logistical/manual_train_pause': 0.0, 'trn_control_loss': 0.06846189, 'trn_headings_loss': 0.00354396, 'trn_curvatures_loss': 0.00869849, 'consistency losses/trn_steer_cost': 0.008394, 'consistency losses/trn_te_loss': 21.73001347, 'consistency losses/trn_%_updates_w_torque_delta_loss': 0.984375, 'consistency losses/trn_torque_loss': 3835.16183472, 'consistency losses/trn_torque_delta_loss': 26.64838417, 'logistical/max_param': 16.28873634, 'logistical/lr': 0.0006}\n"
     ]
    },
    {
     "name": "stdout",
     "output_type": "stream",
     "text": [
      "{'logistical/obs_consumed_per_second': 198.7578125, 'logistical/obs_generated_per_second': 166.765625, 'logistical/data_consumption_ratio': 1.19296464, 'logistical/manual_train_pause': 0.0, 'trn_control_loss': 0.06841493, 'trn_headings_loss': 0.00376201, 'trn_curvatures_loss': 0.00878257, 'consistency losses/trn_steer_cost': 0.00810894, 'consistency losses/trn_te_loss': 22.78220779, 'consistency losses/trn_%_updates_w_torque_delta_loss': 0.9921875, 'consistency losses/trn_torque_loss': 3950.84282875, 'consistency losses/trn_torque_delta_loss': 29.41000394, 'logistical/max_param': 16.28732872, 'logistical/lr': 0.0006}\n",
      "{'logistical/obs_consumed_per_second': 199.8671875, 'logistical/obs_generated_per_second': 163.125, 'logistical/data_consumption_ratio': 1.22521235, 'logistical/manual_train_pause': 0.0, 'trn_control_loss': 0.06187093, 'trn_headings_loss': 0.00319275, 'trn_curvatures_loss': 0.00853427, 'consistency losses/trn_steer_cost': 0.00971758, 'consistency losses/trn_te_loss': 22.57769449, 'consistency losses/trn_%_updates_w_torque_delta_loss': 0.9921875, 'consistency losses/trn_torque_loss': 4405.71140289, 'consistency losses/trn_torque_delta_loss': 28.37714044, 'logistical/max_param': 16.28540421, 'logistical/lr': 0.0006}\n",
      "{'logistical/obs_consumed_per_second': 196.078125, 'logistical/obs_generated_per_second': 165.8671875, 'logistical/data_consumption_ratio': 1.18370908, 'logistical/manual_train_pause': 0.0, 'trn_control_loss': 0.05140829, 'trn_headings_loss': 0.00261188, 'trn_curvatures_loss': 0.00547156, 'consistency losses/trn_steer_cost': 0.00703856, 'consistency losses/trn_te_loss': 23.86071897, 'consistency losses/trn_%_updates_w_torque_delta_loss': 0.984375, 'consistency losses/trn_torque_loss': 4384.68499851, 'consistency losses/trn_torque_delta_loss': 27.33327242, 'logistical/max_param': 16.28560829, 'logistical/lr': 0.0006}\n",
      "{'logistical/obs_consumed_per_second': 196.2890625, 'logistical/obs_generated_per_second': 166.53125, 'logistical/data_consumption_ratio': 1.17956375, 'logistical/manual_train_pause': 0.0, 'trn_control_loss': 0.05836821, 'trn_headings_loss': 0.00297102, 'trn_curvatures_loss': 0.00699899, 'consistency losses/trn_steer_cost': 0.00872293, 'consistency losses/trn_te_loss': 23.43580802, 'consistency losses/trn_%_updates_w_torque_delta_loss': 0.984375, 'consistency losses/trn_torque_loss': 4143.91791725, 'consistency losses/trn_torque_delta_loss': 25.09890527, 'logistical/max_param': 16.28275871, 'logistical/lr': 0.0006}\n",
      "{'logistical/obs_consumed_per_second': 202.2109375, 'logistical/obs_generated_per_second': 167.125, 'logistical/data_consumption_ratio': 1.21081291, 'logistical/manual_train_pause': 0.0, 'trn_control_loss': 0.0559653, 'trn_headings_loss': 0.00284593, 'trn_curvatures_loss': 0.00677049, 'consistency losses/trn_steer_cost': 0.00730225, 'consistency losses/trn_te_loss': 23.03932329, 'consistency losses/trn_%_updates_w_torque_delta_loss': 0.953125, 'consistency losses/trn_torque_loss': 4245.44711113, 'consistency losses/trn_torque_delta_loss': 25.04172109, 'logistical/max_param': 16.28078651, 'logistical/lr': 0.0006}\n",
      "{'logistical/obs_consumed_per_second': 197.6171875, 'logistical/obs_generated_per_second': 167.7421875, 'logistical/data_consumption_ratio': 1.17884967, 'logistical/manual_train_pause': 0.0, 'trn_control_loss': 0.08885431, 'trn_headings_loss': 0.00391909, 'trn_curvatures_loss': 0.01052171, 'consistency losses/trn_steer_cost': 0.01097217, 'consistency losses/trn_te_loss': 23.62092729, 'consistency losses/trn_%_updates_w_torque_delta_loss': 1.0, 'consistency losses/trn_torque_loss': 4252.960639, 'consistency losses/trn_torque_delta_loss': 34.11968277, 'logistical/max_param': 16.27760696, 'logistical/lr': 0.0006}\n",
      "{'logistical/obs_consumed_per_second': 194.5703125, 'logistical/obs_generated_per_second': 166.0078125, 'logistical/data_consumption_ratio': 1.17299928, 'logistical/manual_train_pause': 0.0, 'trn_control_loss': 0.08851695, 'trn_headings_loss': 0.00412577, 'trn_curvatures_loss': 0.00917423, 'consistency losses/trn_steer_cost': 0.01076806, 'consistency losses/trn_te_loss': 24.08810571, 'consistency losses/trn_%_updates_w_torque_delta_loss': 1.0, 'consistency losses/trn_torque_loss': 4171.03869057, 'consistency losses/trn_torque_delta_loss': 53.34952216, 'logistical/max_param': 16.28791809, 'logistical/lr': 0.0006}\n",
      "{'logistical/obs_consumed_per_second': 199.9453125, 'logistical/obs_generated_per_second': 166.6015625, 'logistical/data_consumption_ratio': 1.20066648, 'logistical/manual_train_pause': 0.0, 'trn_control_loss': 0.09100783, 'trn_headings_loss': 0.0043612, 'trn_curvatures_loss': 0.01202027, 'consistency losses/trn_steer_cost': 0.00954077, 'consistency losses/trn_te_loss': 23.88870683, 'consistency losses/trn_%_updates_w_torque_delta_loss': 0.9921875, 'consistency losses/trn_torque_loss': 3750.29319954, 'consistency losses/trn_torque_delta_loss': 33.33344904, 'logistical/max_param': 16.2887249, 'logistical/lr': 0.0006}\n",
      "{'logistical/obs_consumed_per_second': 129.0, 'logistical/obs_generated_per_second': 164.0, 'logistical/data_consumption_ratio': 0.79048515, 'logistical/manual_train_pause': 0.0}\n",
      "\n",
      "\n",
      " Eval...\n",
      "EPOCH 6\n",
      "\n",
      "{'trn_control_loss': 0.10684228, 'trn_headings_loss': 0.00526078, 'trn_curvatures_loss': 0.0166879, 'consistency losses/trn_steer_cost': 0.01494426, 'consistency losses/trn_te_loss': 23.37892277, 'consistency losses/trn_%_updates_w_torque_delta_loss': 1.0, 'consistency losses/trn_torque_loss': 3893.49319553, 'consistency losses/trn_torque_delta_loss': 36.56072487, 'logistical/obs_consumed_per_second': 196.2519685, 'logistical/obs_generated_per_second': 166.87401575, 'logistical/data_consumption_ratio': 1.17688367, 'logistical/manual_train_pause': 0.0, 'logistical/max_param': 16.27705193, 'logistical/lr': 0.0006}\n",
      "{'logistical/obs_consumed_per_second': 194.2890625, 'logistical/obs_generated_per_second': 169.71875, 'logistical/data_consumption_ratio': 1.14542967, 'logistical/manual_train_pause': 0.0, 'trn_control_loss': 0.04546893, 'trn_headings_loss': 0.00231531, 'trn_curvatures_loss': 0.00405598, 'consistency losses/trn_steer_cost': 0.00549667, 'consistency losses/trn_te_loss': 25.52018881, 'consistency losses/trn_%_updates_w_torque_delta_loss': 0.9921875, 'consistency losses/trn_torque_loss': 4436.15588856, 'consistency losses/trn_torque_delta_loss': 34.39154406, 'logistical/max_param': 16.27442741, 'logistical/lr': 0.0006}\n",
      "{'logistical/obs_consumed_per_second': 197.6328125, 'logistical/obs_generated_per_second': 169.3046875, 'logistical/data_consumption_ratio': 1.16852588, 'logistical/manual_train_pause': 0.0, 'trn_control_loss': 0.13974333, 'trn_headings_loss': 0.00530693, 'trn_curvatures_loss': 0.01365662, 'consistency losses/trn_steer_cost': 0.0270001, 'consistency losses/trn_te_loss': 24.48494096, 'consistency losses/trn_%_updates_w_torque_delta_loss': 0.9921875, 'consistency losses/trn_torque_loss': 3962.48219776, 'consistency losses/trn_torque_delta_loss': 47.59698245, 'logistical/max_param': 16.27179146, 'logistical/lr': 0.0006}\n",
      "{'logistical/obs_consumed_per_second': 198.5, 'logistical/obs_generated_per_second': 167.2109375, 'logistical/data_consumption_ratio': 1.18752, 'logistical/manual_train_pause': 0.0, 'trn_control_loss': 0.10040593, 'trn_headings_loss': 0.00484969, 'trn_curvatures_loss': 0.01278999, 'consistency losses/trn_steer_cost': 0.01234803, 'consistency losses/trn_te_loss': 23.73842248, 'consistency losses/trn_%_updates_w_torque_delta_loss': 0.9921875, 'consistency losses/trn_torque_loss': 4026.46362495, 'consistency losses/trn_torque_delta_loss': 40.07230979, 'logistical/max_param': 16.28550148, 'logistical/lr': 0.0006}\n",
      "{'logistical/obs_consumed_per_second': 193.5390625, 'logistical/obs_generated_per_second': 166.5, 'logistical/data_consumption_ratio': 1.16275354, 'logistical/manual_train_pause': 0.0, 'trn_control_loss': 0.06881976, 'trn_headings_loss': 0.00343776, 'trn_curvatures_loss': 0.00851236, 'consistency losses/trn_steer_cost': 0.01048264, 'consistency losses/trn_te_loss': 24.39407827, 'consistency losses/trn_%_updates_w_torque_delta_loss': 0.9765625, 'consistency losses/trn_torque_loss': 4092.76639652, 'consistency losses/trn_torque_delta_loss': 32.91549686, 'logistical/max_param': 16.29906464, 'logistical/lr': 0.0006}\n"
     ]
    },
    {
     "name": "stdout",
     "output_type": "stream",
     "text": [
      "{'logistical/obs_consumed_per_second': 197.640625, 'logistical/obs_generated_per_second': 168.7734375, 'logistical/data_consumption_ratio': 1.17126721, 'logistical/manual_train_pause': 0.0, 'trn_control_loss': 0.06295133, 'trn_headings_loss': 0.00311329, 'trn_curvatures_loss': 0.00602266, 'consistency losses/trn_steer_cost': 0.00773048, 'consistency losses/trn_te_loss': 24.67186703, 'consistency losses/trn_%_updates_w_torque_delta_loss': 1.0, 'consistency losses/trn_torque_loss': 4069.84792519, 'consistency losses/trn_torque_delta_loss': 31.20498729, 'logistical/max_param': 16.30014801, 'logistical/lr': 0.0006}\n",
      "{'logistical/obs_consumed_per_second': 194.796875, 'logistical/obs_generated_per_second': 168.7265625, 'logistical/data_consumption_ratio': 1.1550031, 'logistical/manual_train_pause': 0.0, 'trn_control_loss': 0.08635402, 'trn_headings_loss': 0.00391661, 'trn_curvatures_loss': 0.01069571, 'consistency losses/trn_steer_cost': 0.01130751, 'consistency losses/trn_te_loss': 24.05396122, 'consistency losses/trn_%_updates_w_torque_delta_loss': 0.9765625, 'consistency losses/trn_torque_loss': 3825.31568623, 'consistency losses/trn_torque_delta_loss': 30.80007266, 'logistical/max_param': 16.30278206, 'logistical/lr': 0.0006}\n",
      "{'logistical/obs_consumed_per_second': 203.1953125, 'logistical/obs_generated_per_second': 165.3203125, 'logistical/data_consumption_ratio': 1.2295449, 'logistical/manual_train_pause': 0.0, 'trn_control_loss': 0.09142351, 'trn_headings_loss': 0.0045396, 'trn_curvatures_loss': 0.01104747, 'consistency losses/trn_steer_cost': 0.00970647, 'consistency losses/trn_te_loss': 24.19751804, 'consistency losses/trn_%_updates_w_torque_delta_loss': 1.0, 'consistency losses/trn_torque_loss': 4148.30548048, 'consistency losses/trn_torque_delta_loss': 36.49392677, 'logistical/max_param': 16.3060894, 'logistical/lr': 0.0006}\n",
      "{'logistical/obs_consumed_per_second': 198.703125, 'logistical/obs_generated_per_second': 168.453125, 'logistical/data_consumption_ratio': 1.17884836, 'logistical/manual_train_pause': 0.0, 'trn_control_loss': 0.12851644, 'trn_headings_loss': 0.00561062, 'trn_curvatures_loss': 0.01269877, 'consistency losses/trn_steer_cost': 0.01441467, 'consistency losses/trn_te_loss': 24.63513893, 'consistency losses/trn_%_updates_w_torque_delta_loss': 1.0, 'consistency losses/trn_torque_loss': 4149.09475899, 'consistency losses/trn_torque_delta_loss': 70.1097564, 'logistical/max_param': 16.30164146, 'logistical/lr': 0.0006}\n",
      "{'logistical/obs_consumed_per_second': 198.6875, 'logistical/obs_generated_per_second': 169.28125, 'logistical/data_consumption_ratio': 1.17421379, 'logistical/manual_train_pause': 0.0, 'trn_control_loss': 0.0690912, 'trn_headings_loss': 0.00357316, 'trn_curvatures_loss': 0.00988698, 'consistency losses/trn_steer_cost': 0.00983259, 'consistency losses/trn_te_loss': 23.01666677, 'consistency losses/trn_%_updates_w_torque_delta_loss': 0.984375, 'consistency losses/trn_torque_loss': 4220.91467857, 'consistency losses/trn_torque_delta_loss': 30.42905567, 'logistical/max_param': 16.30327034, 'logistical/lr': 0.0006}\n",
      "{'logistical/obs_consumed_per_second': 158.0, 'logistical/obs_generated_per_second': 169.0, 'logistical/data_consumption_ratio': 0.9318655, 'logistical/manual_train_pause': 0.0}\n",
      "\n",
      "\n",
      " Eval...\n",
      "EPOCH 7\n",
      "\n",
      "{'trn_control_loss': 0.09056473, 'trn_headings_loss': 0.00496645, 'trn_curvatures_loss': 0.0126949, 'consistency losses/trn_steer_cost': 0.01118159, 'consistency losses/trn_te_loss': 21.96394393, 'consistency losses/trn_%_updates_w_torque_delta_loss': 0.9609375, 'consistency losses/trn_torque_loss': 4088.78917742, 'consistency losses/trn_torque_delta_loss': 37.69663031, 'logistical/obs_consumed_per_second': 191.59055118, 'logistical/obs_generated_per_second': 168.13385827, 'logistical/data_consumption_ratio': 1.14187232, 'logistical/manual_train_pause': 0.0, 'logistical/max_param': 16.30118942, 'logistical/lr': 0.0006}\n",
      "{'logistical/obs_consumed_per_second': 194.21875, 'logistical/obs_generated_per_second': 163.71875, 'logistical/data_consumption_ratio': 1.18665347, 'logistical/manual_train_pause': 0.0, 'trn_control_loss': 0.0617404, 'trn_headings_loss': 0.00322673, 'trn_curvatures_loss': 0.00815177, 'consistency losses/trn_steer_cost': 0.0083091, 'consistency losses/trn_te_loss': 23.56577238, 'consistency losses/trn_%_updates_w_torque_delta_loss': 0.9765625, 'consistency losses/trn_torque_loss': 4475.0289135, 'consistency losses/trn_torque_delta_loss': 32.60065901, 'logistical/max_param': 16.30135918, 'logistical/lr': 0.0006}\n",
      "{'logistical/obs_consumed_per_second': 197.4609375, 'logistical/obs_generated_per_second': 165.0625, 'logistical/data_consumption_ratio': 1.19621881, 'logistical/manual_train_pause': 0.0, 'trn_control_loss': 0.06085539, 'trn_headings_loss': 0.00298529, 'trn_curvatures_loss': 0.00791775, 'consistency losses/trn_steer_cost': 0.00808752, 'consistency losses/trn_te_loss': 24.0123785, 'consistency losses/trn_%_updates_w_torque_delta_loss': 0.9921875, 'consistency losses/trn_torque_loss': 4585.387784, 'consistency losses/trn_torque_delta_loss': 28.15319219, 'logistical/max_param': 16.29980087, 'logistical/lr': 0.0006}\n",
      "{'logistical/obs_consumed_per_second': 197.8984375, 'logistical/obs_generated_per_second': 167.6484375, 'logistical/data_consumption_ratio': 1.18106303, 'logistical/manual_train_pause': 0.0, 'trn_control_loss': 0.106462, 'trn_headings_loss': 0.00507207, 'trn_curvatures_loss': 0.01583695, 'consistency losses/trn_steer_cost': 0.0130128, 'consistency losses/trn_te_loss': 24.16791515, 'consistency losses/trn_%_updates_w_torque_delta_loss': 0.9765625, 'consistency losses/trn_torque_loss': 4257.83239365, 'consistency losses/trn_torque_delta_loss': 29.12190243, 'logistical/max_param': 16.30028343, 'logistical/lr': 0.0006}\n",
      "{'logistical/obs_consumed_per_second': 195.765625, 'logistical/obs_generated_per_second': 167.203125, 'logistical/data_consumption_ratio': 1.17109061, 'logistical/manual_train_pause': 0.0, 'trn_control_loss': 0.12628579, 'trn_headings_loss': 0.00581251, 'trn_curvatures_loss': 0.02138582, 'consistency losses/trn_steer_cost': 0.01565647, 'consistency losses/trn_te_loss': 23.98391819, 'consistency losses/trn_%_updates_w_torque_delta_loss': 1.0, 'consistency losses/trn_torque_loss': 4129.48355961, 'consistency losses/trn_torque_delta_loss': 56.28497095, 'logistical/max_param': 16.30091667, 'logistical/lr': 0.0006}\n",
      "{'logistical/obs_consumed_per_second': 200.53125, 'logistical/obs_generated_per_second': 167.984375, 'logistical/data_consumption_ratio': 1.19370026, 'logistical/manual_train_pause': 0.0, 'trn_control_loss': 0.09233546, 'trn_headings_loss': 0.00469734, 'trn_curvatures_loss': 0.01297775, 'consistency losses/trn_steer_cost': 0.01402116, 'consistency losses/trn_te_loss': 22.3210814, 'consistency losses/trn_%_updates_w_torque_delta_loss': 0.9921875, 'consistency losses/trn_torque_loss': 4227.18969536, 'consistency losses/trn_torque_delta_loss': 40.3792983, 'logistical/max_param': 16.30344391, 'logistical/lr': 0.0006}\n",
      "{'logistical/obs_consumed_per_second': 197.8984375, 'logistical/obs_generated_per_second': 166.6953125, 'logistical/data_consumption_ratio': 1.18715132, 'logistical/manual_train_pause': 0.0, 'trn_control_loss': 0.09174132, 'trn_headings_loss': 0.00475335, 'trn_curvatures_loss': 0.01438352, 'consistency losses/trn_steer_cost': 0.01266384, 'consistency losses/trn_te_loss': 23.54640073, 'consistency losses/trn_%_updates_w_torque_delta_loss': 1.0, 'consistency losses/trn_torque_loss': 4039.31711864, 'consistency losses/trn_torque_delta_loss': 35.46805296, 'logistical/max_param': 16.3067646, 'logistical/lr': 0.0006}\n",
      "{'logistical/obs_consumed_per_second': 198.3203125, 'logistical/obs_generated_per_second': 164.8984375, 'logistical/data_consumption_ratio': 1.20376615, 'logistical/manual_train_pause': 0.0, 'trn_control_loss': 0.07651806, 'trn_headings_loss': 0.00359965, 'trn_curvatures_loss': 0.00790939, 'consistency losses/trn_steer_cost': 0.00940804, 'consistency losses/trn_te_loss': 23.04681416, 'consistency losses/trn_%_updates_w_torque_delta_loss': 0.9921875, 'consistency losses/trn_torque_loss': 4460.76057625, 'consistency losses/trn_torque_delta_loss': 28.05212925, 'logistical/max_param': 16.30683899, 'logistical/lr': 0.0006}\n"
     ]
    },
    {
     "name": "stdout",
     "output_type": "stream",
     "text": [
      "{'logistical/obs_consumed_per_second': 197.5078125, 'logistical/obs_generated_per_second': 164.2734375, 'logistical/data_consumption_ratio': 1.20357865, 'logistical/manual_train_pause': 0.0, 'trn_control_loss': 0.06221485, 'trn_headings_loss': 0.0032249, 'trn_curvatures_loss': 0.00832789, 'consistency losses/trn_steer_cost': 0.00862657, 'consistency losses/trn_te_loss': 23.75766027, 'consistency losses/trn_%_updates_w_torque_delta_loss': 0.9765625, 'consistency losses/trn_torque_loss': 4380.5879879, 'consistency losses/trn_torque_delta_loss': 30.47503783, 'logistical/max_param': 16.30193329, 'logistical/lr': 0.0006}\n",
      "{'logistical/obs_consumed_per_second': 204.3359375, 'logistical/obs_generated_per_second': 168.640625, 'logistical/data_consumption_ratio': 1.21137172, 'logistical/manual_train_pause': 0.0, 'trn_control_loss': 0.05658638, 'trn_headings_loss': 0.00313335, 'trn_curvatures_loss': 0.00760922, 'consistency losses/trn_steer_cost': 0.0079048, 'consistency losses/trn_te_loss': 23.32250422, 'consistency losses/trn_%_updates_w_torque_delta_loss': 0.9765625, 'consistency losses/trn_torque_loss': 4049.59389448, 'consistency losses/trn_torque_delta_loss': 26.75698768, 'logistical/max_param': 16.30392647, 'logistical/lr': 0.0006}\n",
      "{'logistical/obs_consumed_per_second': 119.0, 'logistical/obs_generated_per_second': 170.0, 'logistical/data_consumption_ratio': 0.69625688, 'logistical/manual_train_pause': 0.0}\n",
      "\n",
      "\n",
      " Eval...\n",
      "EPOCH 8\n",
      "\n",
      "{'trn_control_loss': 0.07998276, 'trn_headings_loss': 0.00374588, 'trn_curvatures_loss': 0.01163939, 'consistency losses/trn_steer_cost': 0.01094973, 'consistency losses/trn_te_loss': 23.79467054, 'consistency losses/trn_%_updates_w_torque_delta_loss': 0.984375, 'consistency losses/trn_torque_loss': 4275.61156273, 'consistency losses/trn_torque_delta_loss': 29.0707736, 'logistical/obs_consumed_per_second': 199.07874016, 'logistical/obs_generated_per_second': 164.46456693, 'logistical/data_consumption_ratio': 1.21024722, 'logistical/manual_train_pause': 0.0, 'logistical/max_param': 16.31271172, 'logistical/lr': 0.0006}\n",
      "{'logistical/obs_consumed_per_second': 198.609375, 'logistical/obs_generated_per_second': 169.2734375, 'logistical/data_consumption_ratio': 1.17338519, 'logistical/manual_train_pause': 0.0, 'trn_control_loss': 0.09250975, 'trn_headings_loss': 0.00423145, 'trn_curvatures_loss': 0.00968066, 'consistency losses/trn_steer_cost': 0.01067874, 'consistency losses/trn_te_loss': 24.25527817, 'consistency losses/trn_%_updates_w_torque_delta_loss': 1.0, 'consistency losses/trn_torque_loss': 4434.52729607, 'consistency losses/trn_torque_delta_loss': 41.53358692, 'logistical/max_param': 16.31897926, 'logistical/lr': 0.0006}\n",
      "{'logistical/obs_consumed_per_second': 199.5703125, 'logistical/obs_generated_per_second': 165.2734375, 'logistical/data_consumption_ratio': 1.20651297, 'logistical/manual_train_pause': 0.0, 'trn_control_loss': 0.06273282, 'trn_headings_loss': 0.00306975, 'trn_curvatures_loss': 0.00658497, 'consistency losses/trn_steer_cost': 0.00902507, 'consistency losses/trn_te_loss': 24.05914989, 'consistency losses/trn_%_updates_w_torque_delta_loss': 0.9921875, 'consistency losses/trn_torque_loss': 4368.16243267, 'consistency losses/trn_torque_delta_loss': 41.18261838, 'logistical/max_param': 16.3142662, 'logistical/lr': 0.0006}\n",
      "{'logistical/obs_consumed_per_second': 197.6015625, 'logistical/obs_generated_per_second': 167.6875, 'logistical/data_consumption_ratio': 1.17876655, 'logistical/manual_train_pause': 0.0, 'trn_control_loss': 0.10039854, 'trn_headings_loss': 0.00491764, 'trn_curvatures_loss': 0.01403588, 'consistency losses/trn_steer_cost': 0.01456869, 'consistency losses/trn_te_loss': 22.20281468, 'consistency losses/trn_%_updates_w_torque_delta_loss': 0.9921875, 'consistency losses/trn_torque_loss': 3918.62530804, 'consistency losses/trn_torque_delta_loss': 37.13124123, 'logistical/max_param': 16.32061958, 'logistical/lr': 0.0006}\n",
      "{'logistical/obs_consumed_per_second': 200.3359375, 'logistical/obs_generated_per_second': 167.0703125, 'logistical/data_consumption_ratio': 1.19988996, 'logistical/manual_train_pause': 0.0, 'trn_control_loss': 0.07621145, 'trn_headings_loss': 0.00383422, 'trn_curvatures_loss': 0.01020652, 'consistency losses/trn_steer_cost': 0.01027054, 'consistency losses/trn_te_loss': 22.82708113, 'consistency losses/trn_%_updates_w_torque_delta_loss': 1.0, 'consistency losses/trn_torque_loss': 4411.41048336, 'consistency losses/trn_torque_delta_loss': 33.87246266, 'logistical/max_param': 16.31718636, 'logistical/lr': 0.0006}\n",
      "{'logistical/obs_consumed_per_second': 197.1953125, 'logistical/obs_generated_per_second': 166.609375, 'logistical/data_consumption_ratio': 1.18421515, 'logistical/manual_train_pause': 0.0, 'trn_control_loss': 0.05282748, 'trn_headings_loss': 0.00278788, 'trn_curvatures_loss': 0.00673158, 'consistency losses/trn_steer_cost': 0.00828496, 'consistency losses/trn_te_loss': 23.21480238, 'consistency losses/trn_%_updates_w_torque_delta_loss': 0.9921875, 'consistency losses/trn_torque_loss': 4130.50770187, 'consistency losses/trn_torque_delta_loss': 27.3959459, 'logistical/max_param': 16.31868362, 'logistical/lr': 0.0006}\n",
      "{'logistical/obs_consumed_per_second': 198.2734375, 'logistical/obs_generated_per_second': 162.6875, 'logistical/data_consumption_ratio': 1.22045767, 'logistical/manual_train_pause': 0.0, 'trn_control_loss': 0.08118582, 'trn_headings_loss': 0.00423958, 'trn_curvatures_loss': 0.01114605, 'consistency losses/trn_steer_cost': 0.01148817, 'consistency losses/trn_te_loss': 22.84470665, 'consistency losses/trn_%_updates_w_torque_delta_loss': 0.9921875, 'consistency losses/trn_torque_loss': 4344.02293968, 'consistency losses/trn_torque_delta_loss': 38.71191787, 'logistical/max_param': 16.3214798, 'logistical/lr': 0.0006}\n",
      "{'logistical/obs_consumed_per_second': 197.609375, 'logistical/obs_generated_per_second': 166.0625, 'logistical/data_consumption_ratio': 1.1896474, 'logistical/manual_train_pause': 0.0, 'trn_control_loss': 0.06045949, 'trn_headings_loss': 0.00303704, 'trn_curvatures_loss': 0.00672445, 'consistency losses/trn_steer_cost': 0.00767498, 'consistency losses/trn_te_loss': 23.26256458, 'consistency losses/trn_%_updates_w_torque_delta_loss': 0.9921875, 'consistency losses/trn_torque_loss': 4153.19701385, 'consistency losses/trn_torque_delta_loss': 23.9655605, 'logistical/max_param': 16.31937981, 'logistical/lr': 0.0006}\n",
      "{'logistical/obs_consumed_per_second': 192.5546875, 'logistical/obs_generated_per_second': 169.0703125, 'logistical/data_consumption_ratio': 1.13889613, 'logistical/manual_train_pause': 0.0, 'trn_control_loss': 0.04803145, 'trn_headings_loss': 0.00237661, 'trn_curvatures_loss': 0.00498213, 'consistency losses/trn_steer_cost': 0.0059762, 'consistency losses/trn_te_loss': 23.48600025, 'consistency losses/trn_%_updates_w_torque_delta_loss': 0.984375, 'consistency losses/trn_torque_loss': 4553.85846138, 'consistency losses/trn_torque_delta_loss': 25.0880979, 'logistical/max_param': 16.31635475, 'logistical/lr': 0.0006}\n",
      "{'logistical/obs_consumed_per_second': 200.8671875, 'logistical/obs_generated_per_second': 165.828125, 'logistical/data_consumption_ratio': 1.2112571, 'logistical/manual_train_pause': 0.0, 'trn_control_loss': 0.05808628, 'trn_headings_loss': 0.00309661, 'trn_curvatures_loss': 0.008369, 'consistency losses/trn_steer_cost': 0.00851423, 'consistency losses/trn_te_loss': 23.09152019, 'consistency losses/trn_%_updates_w_torque_delta_loss': 0.96875, 'consistency losses/trn_torque_loss': 3851.06105995, 'consistency losses/trn_torque_delta_loss': 27.95868016, 'logistical/max_param': 16.31394768, 'logistical/lr': 0.0006}\n",
      "{'logistical/obs_consumed_per_second': 141.0, 'logistical/obs_generated_per_second': 168.0, 'logistical/data_consumption_ratio': 0.84051099, 'logistical/manual_train_pause': 0.0}\n",
      "\n",
      "\n",
      " Eval...\n",
      "EPOCH 9\n",
      "\n",
      "{'trn_control_loss': 0.06501937, 'trn_headings_loss': 0.00303098, 'trn_curvatures_loss': 0.0073227, 'consistency losses/trn_steer_cost': 0.00933054, 'consistency losses/trn_te_loss': 21.54836164, 'consistency losses/trn_%_updates_w_torque_delta_loss': 0.9765625, 'consistency losses/trn_torque_loss': 4027.29999542, 'consistency losses/trn_torque_delta_loss': 28.37580597, 'logistical/obs_consumed_per_second': 201.94488189, 'logistical/obs_generated_per_second': 166.41732283, 'logistical/data_consumption_ratio': 1.21488651, 'logistical/manual_train_pause': 0.0, 'logistical/max_param': 16.31000519, 'logistical/lr': 0.0006}\n"
     ]
    },
    {
     "name": "stdout",
     "output_type": "stream",
     "text": [
      "{'logistical/obs_consumed_per_second': 195.7890625, 'logistical/obs_generated_per_second': 165.6171875, 'logistical/data_consumption_ratio': 1.18190024, 'logistical/manual_train_pause': 0.0, 'trn_control_loss': 0.10047817, 'trn_headings_loss': 0.0046135, 'trn_curvatures_loss': 0.01569536, 'consistency losses/trn_steer_cost': 0.01397716, 'consistency losses/trn_te_loss': 22.90887116, 'consistency losses/trn_%_updates_w_torque_delta_loss': 0.96875, 'consistency losses/trn_torque_loss': 3864.36094379, 'consistency losses/trn_torque_delta_loss': 32.5909712, 'logistical/max_param': 16.29293442, 'logistical/lr': 0.0006}\n",
      "{'logistical/obs_consumed_per_second': 195.3984375, 'logistical/obs_generated_per_second': 166.84375, 'logistical/data_consumption_ratio': 1.17135379, 'logistical/manual_train_pause': 0.0, 'trn_control_loss': 0.10111737, 'trn_headings_loss': 0.00476588, 'trn_curvatures_loss': 0.01198316, 'consistency losses/trn_steer_cost': 0.0168193, 'consistency losses/trn_te_loss': 22.60402898, 'consistency losses/trn_%_updates_w_torque_delta_loss': 0.9921875, 'consistency losses/trn_torque_loss': 3973.89349937, 'consistency losses/trn_torque_delta_loss': 47.00070338, 'logistical/max_param': 16.2887764, 'logistical/lr': 0.0006}\n",
      "{'logistical/obs_consumed_per_second': 192.515625, 'logistical/obs_generated_per_second': 164.765625, 'logistical/data_consumption_ratio': 1.16886316, 'logistical/manual_train_pause': 0.0, 'trn_control_loss': 0.05415213, 'trn_headings_loss': 0.00260083, 'trn_curvatures_loss': 0.00595917, 'consistency losses/trn_steer_cost': 0.00796095, 'consistency losses/trn_te_loss': 22.96707498, 'consistency losses/trn_%_updates_w_torque_delta_loss': 0.9765625, 'consistency losses/trn_torque_loss': 4305.73481655, 'consistency losses/trn_torque_delta_loss': 28.85718106, 'logistical/max_param': 16.2946167, 'logistical/lr': 0.0006}\n",
      "{'logistical/obs_consumed_per_second': 197.0546875, 'logistical/obs_generated_per_second': 165.9765625, 'logistical/data_consumption_ratio': 1.18814387, 'logistical/manual_train_pause': 0.0, 'trn_control_loss': 0.06330681, 'trn_headings_loss': 0.00349913, 'trn_curvatures_loss': 0.00920294, 'consistency losses/trn_steer_cost': 0.00789306, 'consistency losses/trn_te_loss': 24.45099001, 'consistency losses/trn_%_updates_w_torque_delta_loss': 0.9921875, 'consistency losses/trn_torque_loss': 4343.0931406, 'consistency losses/trn_torque_delta_loss': 34.18199623, 'logistical/max_param': 16.29760742, 'logistical/lr': 0.0006}\n",
      "{'logistical/obs_consumed_per_second': 195.3125, 'logistical/obs_generated_per_second': 167.3125, 'logistical/data_consumption_ratio': 1.16814994, 'logistical/manual_train_pause': 0.0, 'trn_control_loss': 0.05870485, 'trn_headings_loss': 0.00314268, 'trn_curvatures_loss': 0.00770724, 'consistency losses/trn_steer_cost': 0.00815132, 'consistency losses/trn_te_loss': 22.60048947, 'consistency losses/trn_%_updates_w_torque_delta_loss': 0.984375, 'consistency losses/trn_torque_loss': 4345.71429729, 'consistency losses/trn_torque_delta_loss': 30.37867905, 'logistical/max_param': 16.29454422, 'logistical/lr': 0.0006}\n",
      "{'logistical/obs_consumed_per_second': 199.2109375, 'logistical/obs_generated_per_second': 166.078125, 'logistical/data_consumption_ratio': 1.20029902, 'logistical/manual_train_pause': 0.0, 'trn_control_loss': 0.05225861, 'trn_headings_loss': 0.00265291, 'trn_curvatures_loss': 0.00548883, 'consistency losses/trn_steer_cost': 0.00782603, 'consistency losses/trn_te_loss': 24.0728167, 'consistency losses/trn_%_updates_w_torque_delta_loss': 1.0, 'consistency losses/trn_torque_loss': 4440.17856312, 'consistency losses/trn_torque_delta_loss': 31.83240386, 'logistical/max_param': 16.30047798, 'logistical/lr': 0.0006}\n",
      "{'logistical/obs_consumed_per_second': 199.734375, 'logistical/obs_generated_per_second': 168.3515625, 'logistical/data_consumption_ratio': 1.1862682, 'logistical/manual_train_pause': 0.0, 'trn_control_loss': 0.05850875, 'trn_headings_loss': 0.00286882, 'trn_curvatures_loss': 0.00748719, 'consistency losses/trn_steer_cost': 0.00902519, 'consistency losses/trn_te_loss': 22.09517656, 'consistency losses/trn_%_updates_w_torque_delta_loss': 0.96875, 'consistency losses/trn_torque_loss': 3936.60324764, 'consistency losses/trn_torque_delta_loss': 25.22729794, 'logistical/max_param': 16.29577255, 'logistical/lr': 0.0006}\n",
      "{'logistical/obs_consumed_per_second': 197.171875, 'logistical/obs_generated_per_second': 168.9296875, 'logistical/data_consumption_ratio': 1.16653041, 'logistical/manual_train_pause': 0.0, 'trn_control_loss': 0.04321194, 'trn_headings_loss': 0.002029, 'trn_curvatures_loss': 0.00436939, 'consistency losses/trn_steer_cost': 0.00619258, 'consistency losses/trn_te_loss': 24.01221677, 'consistency losses/trn_%_updates_w_torque_delta_loss': 0.9609375, 'consistency losses/trn_torque_loss': 4213.95748615, 'consistency losses/trn_torque_delta_loss': 25.8529675, 'logistical/max_param': 16.28668594, 'logistical/lr': 0.0006}\n",
      "{'logistical/obs_consumed_per_second': 197.3203125, 'logistical/obs_generated_per_second': 167.6171875, 'logistical/data_consumption_ratio': 1.17692305, 'logistical/manual_train_pause': 0.0, 'trn_control_loss': 0.06209147, 'trn_headings_loss': 0.00303652, 'trn_curvatures_loss': 0.00872865, 'consistency losses/trn_steer_cost': 0.01035255, 'consistency losses/trn_te_loss': 22.45790547, 'consistency losses/trn_%_updates_w_torque_delta_loss': 0.984375, 'consistency losses/trn_torque_loss': 4261.41994572, 'consistency losses/trn_torque_delta_loss': 29.72595706, 'logistical/max_param': 16.28532982, 'logistical/lr': 0.0006}\n",
      "{'logistical/obs_consumed_per_second': 148.0, 'logistical/obs_generated_per_second': 168.0, 'logistical/data_consumption_ratio': 0.87591691, 'logistical/manual_train_pause': 0.0}\n",
      "\n",
      "\n",
      " Eval...\n",
      "EPOCH 10\n",
      "\n"
     ]
    },
    {
     "name": "stderr",
     "output_type": "stream",
     "text": [
      "wandb: Network error (TransientError), entering retry loop.\n"
     ]
    },
    {
     "name": "stdout",
     "output_type": "stream",
     "text": [
      "{'trn_control_loss': 0.08204532, 'trn_headings_loss': 0.004085, 'trn_curvatures_loss': 0.01279998, 'consistency losses/trn_steer_cost': 0.01327047, 'consistency losses/trn_te_loss': 23.09530243, 'consistency losses/trn_%_updates_w_torque_delta_loss': 0.96875, 'consistency losses/trn_torque_loss': 4005.90010262, 'consistency losses/trn_torque_delta_loss': 30.38860108, 'logistical/obs_consumed_per_second': 201.06299213, 'logistical/obs_generated_per_second': 168.44094488, 'logistical/data_consumption_ratio': 1.19385993, 'logistical/manual_train_pause': 0.0, 'logistical/max_param': 16.30729485, 'logistical/lr': 0.0006}\n",
      "{'logistical/obs_consumed_per_second': 197.03125, 'logistical/obs_generated_per_second': 170.1875, 'logistical/data_consumption_ratio': 1.15836939, 'logistical/manual_train_pause': 0.0, 'trn_control_loss': 0.06742489, 'trn_headings_loss': 0.00285815, 'trn_curvatures_loss': 0.00765139, 'consistency losses/trn_steer_cost': 0.01057523, 'consistency losses/trn_te_loss': 24.13619484, 'consistency losses/trn_%_updates_w_torque_delta_loss': 0.984375, 'consistency losses/trn_torque_loss': 4137.92362881, 'consistency losses/trn_torque_delta_loss': 41.70570278, 'logistical/max_param': 16.29795074, 'logistical/lr': 0.0006}\n",
      "{'logistical/obs_consumed_per_second': 198.0546875, 'logistical/obs_generated_per_second': 169.171875, 'logistical/data_consumption_ratio': 1.17071029, 'logistical/manual_train_pause': 0.0, 'trn_control_loss': 0.0543102, 'trn_headings_loss': 0.00258318, 'trn_curvatures_loss': 0.00632389, 'consistency losses/trn_steer_cost': 0.008587, 'consistency losses/trn_te_loss': 23.74217758, 'consistency losses/trn_%_updates_w_torque_delta_loss': 1.0, 'consistency losses/trn_torque_loss': 4495.04831696, 'consistency losses/trn_torque_delta_loss': 33.72744216, 'logistical/max_param': 16.30027008, 'logistical/lr': 0.0006}\n",
      "{'logistical/obs_consumed_per_second': 201.609375, 'logistical/obs_generated_per_second': 167.109375, 'logistical/data_consumption_ratio': 1.20592297, 'logistical/manual_train_pause': 0.0, 'trn_control_loss': 0.05091596, 'trn_headings_loss': 0.00257942, 'trn_curvatures_loss': 0.00544201, 'consistency losses/trn_steer_cost': 0.00745952, 'consistency losses/trn_te_loss': 22.26583047, 'consistency losses/trn_%_updates_w_torque_delta_loss': 0.953125, 'consistency losses/trn_torque_loss': 4448.19710064, 'consistency losses/trn_torque_delta_loss': 29.89716518, 'logistical/max_param': 16.29631805, 'logistical/lr': 0.0006}\n",
      "{'logistical/obs_consumed_per_second': 198.0625, 'logistical/obs_generated_per_second': 166.53125, 'logistical/data_consumption_ratio': 1.19012311, 'logistical/manual_train_pause': 0.0, 'trn_control_loss': 0.03977001, 'trn_headings_loss': 0.00196736, 'trn_curvatures_loss': 0.00571974, 'consistency losses/trn_steer_cost': 0.00744969, 'consistency losses/trn_te_loss': 23.43191972, 'consistency losses/trn_%_updates_w_torque_delta_loss': 0.9921875, 'consistency losses/trn_torque_loss': 4055.80815983, 'consistency losses/trn_torque_delta_loss': 28.22003393, 'logistical/max_param': 16.29447556, 'logistical/lr': 0.0006}\n",
      "{'logistical/obs_consumed_per_second': 197.46875, 'logistical/obs_generated_per_second': 165.2734375, 'logistical/data_consumption_ratio': 1.19463891, 'logistical/manual_train_pause': 0.0, 'trn_control_loss': 0.04187238, 'trn_headings_loss': 0.00192048, 'trn_curvatures_loss': 0.00408477, 'consistency losses/trn_steer_cost': 0.00589415, 'consistency losses/trn_te_loss': 24.51615818, 'consistency losses/trn_%_updates_w_torque_delta_loss': 0.984375, 'consistency losses/trn_torque_loss': 4108.92163467, 'consistency losses/trn_torque_delta_loss': 27.88569901, 'logistical/max_param': 16.28989983, 'logistical/lr': 0.0006}\n",
      "{'logistical/obs_consumed_per_second': 199.7578125, 'logistical/obs_generated_per_second': 167.8046875, 'logistical/data_consumption_ratio': 1.18974179, 'logistical/manual_train_pause': 0.0, 'trn_control_loss': 0.06610119, 'trn_headings_loss': 0.00300909, 'trn_curvatures_loss': 0.00990181, 'consistency losses/trn_steer_cost': 0.00948517, 'consistency losses/trn_te_loss': 22.74823111, 'consistency losses/trn_%_updates_w_torque_delta_loss': 0.9453125, 'consistency losses/trn_torque_loss': 3996.1848793, 'consistency losses/trn_torque_delta_loss': 24.84048533, 'logistical/max_param': 16.29041862, 'logistical/lr': 0.0006}\n",
      "{'logistical/obs_consumed_per_second': 201.921875, 'logistical/obs_generated_per_second': 164.8984375, 'logistical/data_consumption_ratio': 1.22545112, 'logistical/manual_train_pause': 0.0, 'trn_control_loss': 0.059672, 'trn_headings_loss': 0.00299469, 'trn_curvatures_loss': 0.00879747, 'consistency losses/trn_steer_cost': 0.00987706, 'consistency losses/trn_te_loss': 22.12989453, 'consistency losses/trn_%_updates_w_torque_delta_loss': 0.9375, 'consistency losses/trn_torque_loss': 3949.26324368, 'consistency losses/trn_torque_delta_loss': 26.25849507, 'logistical/max_param': 16.29230881, 'logistical/lr': 0.0006}\n",
      "{'logistical/obs_consumed_per_second': 199.8515625, 'logistical/obs_generated_per_second': 166.828125, 'logistical/data_consumption_ratio': 1.19845416, 'logistical/manual_train_pause': 0.0, 'trn_control_loss': 0.04132688, 'trn_headings_loss': 0.00201614, 'trn_curvatures_loss': 0.00395349, 'consistency losses/trn_steer_cost': 0.00599055, 'consistency losses/trn_te_loss': 24.33155932, 'consistency losses/trn_%_updates_w_torque_delta_loss': 0.984375, 'consistency losses/trn_torque_loss': 4597.69104576, 'consistency losses/trn_torque_delta_loss': 32.46525354, 'logistical/max_param': 16.28912926, 'logistical/lr': 0.0006}\n",
      "{'logistical/obs_consumed_per_second': 198.28125, 'logistical/obs_generated_per_second': 167.5, 'logistical/data_consumption_ratio': 1.18522324, 'logistical/manual_train_pause': 0.0, 'trn_control_loss': 0.05616915, 'trn_headings_loss': 0.00281669, 'trn_curvatures_loss': 0.00841911, 'consistency losses/trn_steer_cost': 0.00934531, 'consistency losses/trn_te_loss': 22.27631529, 'consistency losses/trn_%_updates_w_torque_delta_loss': 0.984375, 'consistency losses/trn_torque_loss': 4144.7486887, 'consistency losses/trn_torque_delta_loss': 27.09036761, 'logistical/max_param': 16.28383446, 'logistical/lr': 0.0006}\n",
      "{'logistical/obs_consumed_per_second': 113.0, 'logistical/obs_generated_per_second': 162.0, 'logistical/data_consumption_ratio': 0.69719766, 'logistical/manual_train_pause': 0.0}\n",
      "\n",
      "\n",
      " Eval...\n",
      "EPOCH 11\n",
      "\n",
      "{'trn_control_loss': 0.05300701, 'trn_headings_loss': 0.00239861, 'trn_curvatures_loss': 0.00678971, 'consistency losses/trn_steer_cost': 0.00874323, 'consistency losses/trn_te_loss': 23.05459325, 'consistency losses/trn_%_updates_w_torque_delta_loss': 0.9765625, 'consistency losses/trn_torque_loss': 3896.00534725, 'consistency losses/trn_torque_delta_loss': 28.05975275, 'logistical/obs_consumed_per_second': 206.20472441, 'logistical/obs_generated_per_second': 168.77952756, 'logistical/data_consumption_ratio': 1.22230476, 'logistical/manual_train_pause': 0.0, 'logistical/max_param': 16.28581047, 'logistical/lr': 0.0006}\n",
      "{'logistical/obs_consumed_per_second': 198.2109375, 'logistical/obs_generated_per_second': 165.2109375, 'logistical/data_consumption_ratio': 1.20009325, 'logistical/manual_train_pause': 0.0, 'trn_control_loss': 0.05412304, 'trn_headings_loss': 0.00304726, 'trn_curvatures_loss': 0.00878537, 'consistency losses/trn_steer_cost': 0.00968564, 'consistency losses/trn_te_loss': 22.97203314, 'consistency losses/trn_%_updates_w_torque_delta_loss': 0.953125, 'consistency losses/trn_torque_loss': 3802.83854294, 'consistency losses/trn_torque_delta_loss': 25.86228764, 'logistical/max_param': 16.28673935, 'logistical/lr': 0.0006}\n",
      "{'logistical/obs_consumed_per_second': 200.6875, 'logistical/obs_generated_per_second': 165.7421875, 'logistical/data_consumption_ratio': 1.21212629, 'logistical/manual_train_pause': 0.0, 'trn_control_loss': 0.05549085, 'trn_headings_loss': 0.00276847, 'trn_curvatures_loss': 0.00702342, 'consistency losses/trn_steer_cost': 0.00811057, 'consistency losses/trn_te_loss': 24.0535871, 'consistency losses/trn_%_updates_w_torque_delta_loss': 0.9765625, 'consistency losses/trn_torque_loss': 4132.59692574, 'consistency losses/trn_torque_delta_loss': 26.93213083, 'logistical/max_param': 16.28076553, 'logistical/lr': 0.0006}\n"
     ]
    },
    {
     "name": "stdout",
     "output_type": "stream",
     "text": [
      "{'logistical/obs_consumed_per_second': 199.1015625, 'logistical/obs_generated_per_second': 167.921875, 'logistical/data_consumption_ratio': 1.18652869, 'logistical/manual_train_pause': 0.0, 'trn_control_loss': 0.05518579, 'trn_headings_loss': 0.00303969, 'trn_curvatures_loss': 0.00722289, 'consistency losses/trn_steer_cost': 0.00756112, 'consistency losses/trn_te_loss': 24.10252152, 'consistency losses/trn_%_updates_w_torque_delta_loss': 0.9921875, 'consistency losses/trn_torque_loss': 4315.49561596, 'consistency losses/trn_torque_delta_loss': 29.61143886, 'logistical/max_param': 16.27425575, 'logistical/lr': 0.0006}\n",
      "{'logistical/obs_consumed_per_second': 195.0, 'logistical/obs_generated_per_second': 162.4609375, 'logistical/data_consumption_ratio': 1.20103351, 'logistical/manual_train_pause': 0.0, 'trn_control_loss': 0.06969476, 'trn_headings_loss': 0.00342389, 'trn_curvatures_loss': 0.01110017, 'consistency losses/trn_steer_cost': 0.01153594, 'consistency losses/trn_te_loss': 22.30155427, 'consistency losses/trn_%_updates_w_torque_delta_loss': 0.9609375, 'consistency losses/trn_torque_loss': 3768.25099277, 'consistency losses/trn_torque_delta_loss': 27.61562597, 'logistical/max_param': 16.27836227, 'logistical/lr': 0.0006}\n",
      "{'logistical/obs_consumed_per_second': 194.96875, 'logistical/obs_generated_per_second': 166.3046875, 'logistical/data_consumption_ratio': 1.17199068, 'logistical/manual_train_pause': 0.0, 'trn_control_loss': 0.04290235, 'trn_headings_loss': 0.0022263, 'trn_curvatures_loss': 0.00638361, 'consistency losses/trn_steer_cost': 0.00860351, 'consistency losses/trn_te_loss': 23.83095554, 'consistency losses/trn_%_updates_w_torque_delta_loss': 0.9609375, 'consistency losses/trn_torque_loss': 4122.15130997, 'consistency losses/trn_torque_delta_loss': 27.74663838, 'logistical/max_param': 16.27900887, 'logistical/lr': 0.0006}\n",
      "{'logistical/obs_consumed_per_second': 198.1953125, 'logistical/obs_generated_per_second': 169.1953125, 'logistical/data_consumption_ratio': 1.17063795, 'logistical/manual_train_pause': 0.0, 'trn_control_loss': 0.05233848, 'trn_headings_loss': 0.00252903, 'trn_curvatures_loss': 0.00729315, 'consistency losses/trn_steer_cost': 0.01002935, 'consistency losses/trn_te_loss': 23.23192081, 'consistency losses/trn_%_updates_w_torque_delta_loss': 0.96875, 'consistency losses/trn_torque_loss': 4381.09901333, 'consistency losses/trn_torque_delta_loss': 27.16539825, 'logistical/max_param': 16.28967476, 'logistical/lr': 0.0006}\n",
      "{'logistical/obs_consumed_per_second': 200.78125, 'logistical/obs_generated_per_second': 165.8125, 'logistical/data_consumption_ratio': 1.21089973, 'logistical/manual_train_pause': 0.0, 'trn_control_loss': 0.04916191, 'trn_headings_loss': 0.0023481, 'trn_curvatures_loss': 0.00553994, 'consistency losses/trn_steer_cost': 0.0086218, 'consistency losses/trn_te_loss': 23.44847053, 'consistency losses/trn_%_updates_w_torque_delta_loss': 0.984375, 'consistency losses/trn_torque_loss': 4141.63899803, 'consistency losses/trn_torque_delta_loss': 28.65723953, 'logistical/max_param': 16.29329491, 'logistical/lr': 0.0006}\n",
      "{'logistical/obs_consumed_per_second': 201.5703125, 'logistical/obs_generated_per_second': 166.875, 'logistical/data_consumption_ratio': 1.20719071, 'logistical/manual_train_pause': 0.0, 'trn_control_loss': 0.04773819, 'trn_headings_loss': 0.00211698, 'trn_curvatures_loss': 0.00570318, 'consistency losses/trn_steer_cost': 0.00809598, 'consistency losses/trn_te_loss': 23.43445383, 'consistency losses/trn_%_updates_w_torque_delta_loss': 0.9921875, 'consistency losses/trn_torque_loss': 4409.19750595, 'consistency losses/trn_torque_delta_loss': 33.60716948, 'logistical/max_param': 16.28370476, 'logistical/lr': 0.0006}\n",
      "{'logistical/obs_consumed_per_second': 198.3359375, 'logistical/obs_generated_per_second': 164.765625, 'logistical/data_consumption_ratio': 1.20471087, 'logistical/manual_train_pause': 0.0, 'trn_control_loss': 0.0471729, 'trn_headings_loss': 0.00224952, 'trn_curvatures_loss': 0.0064982, 'consistency losses/trn_steer_cost': 0.00950912, 'consistency losses/trn_te_loss': 23.03638071, 'consistency losses/trn_%_updates_w_torque_delta_loss': 0.9921875, 'consistency losses/trn_torque_loss': 4188.2498951, 'consistency losses/trn_torque_delta_loss': 25.84137982, 'logistical/max_param': 16.28117371, 'logistical/lr': 0.0006}\n",
      "{'logistical/obs_consumed_per_second': 132.0, 'logistical/obs_generated_per_second': 166.0, 'logistical/data_consumption_ratio': 0.79680722, 'logistical/manual_train_pause': 0.0}\n",
      "\n",
      "\n",
      " Eval...\n",
      "EPOCH 12\n",
      "\n",
      "{'trn_control_loss': 0.04730976, 'trn_headings_loss': 0.00227026, 'trn_curvatures_loss': 0.00570026, 'consistency losses/trn_steer_cost': 0.00767446, 'consistency losses/trn_te_loss': 23.99469082, 'consistency losses/trn_%_updates_w_torque_delta_loss': 0.984375, 'consistency losses/trn_torque_loss': 4130.81361675, 'consistency losses/trn_torque_delta_loss': 27.06486772, 'logistical/obs_consumed_per_second': 200.67716535, 'logistical/obs_generated_per_second': 163.78740157, 'logistical/data_consumption_ratio': 1.22553411, 'logistical/manual_train_pause': 0.0, 'logistical/max_param': 16.28910637, 'logistical/lr': 0.0006}\n",
      "{'logistical/obs_consumed_per_second': 191.9921875, 'logistical/obs_generated_per_second': 165.6953125, 'logistical/data_consumption_ratio': 1.1596168, 'logistical/manual_train_pause': 0.0, 'trn_control_loss': 0.05856812, 'trn_headings_loss': 0.00254658, 'trn_curvatures_loss': 0.00680742, 'consistency losses/trn_steer_cost': 0.00855358, 'consistency losses/trn_te_loss': 23.39923175, 'consistency losses/trn_%_updates_w_torque_delta_loss': 0.9609375, 'consistency losses/trn_torque_loss': 4589.71923637, 'consistency losses/trn_torque_delta_loss': 26.39546941, 'logistical/max_param': 16.27811623, 'logistical/lr': 0.0006}\n",
      "{'logistical/obs_consumed_per_second': 199.265625, 'logistical/obs_generated_per_second': 153.1484375, 'logistical/data_consumption_ratio': 1.30504269, 'logistical/manual_train_pause': 0.0, 'trn_control_loss': 0.05624402, 'trn_headings_loss': 0.00264259, 'trn_curvatures_loss': 0.00547245, 'consistency losses/trn_steer_cost': 0.0080522, 'consistency losses/trn_te_loss': 23.54755711, 'consistency losses/trn_%_updates_w_torque_delta_loss': 0.9765625, 'consistency losses/trn_torque_loss': 4622.80099392, 'consistency losses/trn_torque_delta_loss': 32.83187604, 'logistical/max_param': 16.2834301, 'logistical/lr': 0.0006}\n",
      "{'logistical/obs_consumed_per_second': 195.8515625, 'logistical/obs_generated_per_second': 166.46875, 'logistical/data_consumption_ratio': 1.1768979, 'logistical/manual_train_pause': 0.0, 'trn_control_loss': 0.05860257, 'trn_headings_loss': 0.00242931, 'trn_curvatures_loss': 0.00548032, 'consistency losses/trn_steer_cost': 0.00909524, 'consistency losses/trn_te_loss': 22.9613912, 'consistency losses/trn_%_updates_w_torque_delta_loss': 1.0, 'consistency losses/trn_torque_loss': 4484.49246216, 'consistency losses/trn_torque_delta_loss': 30.4801765, 'logistical/max_param': 16.2924614, 'logistical/lr': 0.0006}\n",
      "{'logistical/obs_consumed_per_second': 196.0234375, 'logistical/obs_generated_per_second': 162.8828125, 'logistical/data_consumption_ratio': 1.20605566, 'logistical/manual_train_pause': 0.0, 'trn_control_loss': 0.04328525, 'trn_headings_loss': 0.00237452, 'trn_curvatures_loss': 0.00533012, 'consistency losses/trn_steer_cost': 0.00640181, 'consistency losses/trn_te_loss': 22.94399488, 'consistency losses/trn_%_updates_w_torque_delta_loss': 0.9921875, 'consistency losses/trn_torque_loss': 4395.04947662, 'consistency losses/trn_torque_delta_loss': 20.03110659, 'logistical/max_param': 16.29493713, 'logistical/lr': 0.0006}\n",
      "{'logistical/obs_consumed_per_second': 193.9296875, 'logistical/obs_generated_per_second': 167.0390625, 'logistical/data_consumption_ratio': 1.16056183, 'logistical/manual_train_pause': 0.0, 'trn_control_loss': 0.05880213, 'trn_headings_loss': 0.00271917, 'trn_curvatures_loss': 0.00704469, 'consistency losses/trn_steer_cost': 0.01046675, 'consistency losses/trn_te_loss': 22.67330703, 'consistency losses/trn_%_updates_w_torque_delta_loss': 0.9765625, 'consistency losses/trn_torque_loss': 4026.67097378, 'consistency losses/trn_torque_delta_loss': 27.59291553, 'logistical/max_param': 16.28536034, 'logistical/lr': 0.0006}\n"
     ]
    },
    {
     "name": "stdout",
     "output_type": "stream",
     "text": [
      "{'logistical/obs_consumed_per_second': 199.7578125, 'logistical/obs_generated_per_second': 158.328125, 'logistical/data_consumption_ratio': 1.26410684, 'logistical/manual_train_pause': 0.0, 'trn_control_loss': 0.03430748, 'trn_headings_loss': 0.0015532, 'trn_curvatures_loss': 0.00303692, 'consistency losses/trn_steer_cost': 0.00528482, 'consistency losses/trn_te_loss': 24.44927099, 'consistency losses/trn_%_updates_w_torque_delta_loss': 0.984375, 'consistency losses/trn_torque_loss': 4131.1580925, 'consistency losses/trn_torque_delta_loss': 27.47704752, 'logistical/max_param': 16.2816143, 'logistical/lr': 0.0006}\n",
      "{'logistical/obs_consumed_per_second': 200.75, 'logistical/obs_generated_per_second': 161.78125, 'logistical/data_consumption_ratio': 1.24016178, 'logistical/manual_train_pause': 0.0, 'trn_control_loss': 0.03562486, 'trn_headings_loss': 0.00182965, 'trn_curvatures_loss': 0.0046999, 'consistency losses/trn_steer_cost': 0.00682001, 'consistency losses/trn_te_loss': 23.78789678, 'consistency losses/trn_%_updates_w_torque_delta_loss': 0.921875, 'consistency losses/trn_torque_loss': 3999.42573357, 'consistency losses/trn_torque_delta_loss': 21.50728555, 'logistical/max_param': 16.28702927, 'logistical/lr': 0.0006}\n",
      "{'logistical/obs_consumed_per_second': 193.765625, 'logistical/obs_generated_per_second': 167.234375, 'logistical/data_consumption_ratio': 1.15954896, 'logistical/manual_train_pause': 0.0, 'trn_control_loss': 0.04182017, 'trn_headings_loss': 0.0018614, 'trn_curvatures_loss': 0.00504577, 'consistency losses/trn_steer_cost': 0.00697747, 'consistency losses/trn_te_loss': 24.118641, 'consistency losses/trn_%_updates_w_torque_delta_loss': 0.9921875, 'consistency losses/trn_torque_loss': 4197.21526718, 'consistency losses/trn_torque_delta_loss': 25.60809394, 'logistical/max_param': 16.28981781, 'logistical/lr': 0.0006}\n",
      "{'logistical/obs_consumed_per_second': 195.7734375, 'logistical/obs_generated_per_second': 169.0390625, 'logistical/data_consumption_ratio': 1.15745516, 'logistical/manual_train_pause': 0.0, 'trn_control_loss': 0.06689298, 'trn_headings_loss': 0.00318001, 'trn_curvatures_loss': 0.00968619, 'consistency losses/trn_steer_cost': 0.01131298, 'consistency losses/trn_te_loss': 22.5292955, 'consistency losses/trn_%_updates_w_torque_delta_loss': 0.984375, 'consistency losses/trn_torque_loss': 4194.49032784, 'consistency losses/trn_torque_delta_loss': 34.34217916, 'logistical/max_param': 16.29206467, 'logistical/lr': 0.0006}\n",
      "{'logistical/obs_consumed_per_second': 140.0, 'logistical/obs_generated_per_second': 167.0, 'logistical/data_consumption_ratio': 0.83627361, 'logistical/manual_train_pause': 0.0}\n",
      "\n",
      "\n",
      " Eval...\n",
      "EPOCH 13\n",
      "\n",
      "{'trn_control_loss': 0.05567014, 'trn_headings_loss': 0.00271365, 'trn_curvatures_loss': 0.00743711, 'consistency losses/trn_steer_cost': 0.00905108, 'consistency losses/trn_te_loss': 22.36755737, 'consistency losses/trn_%_updates_w_torque_delta_loss': 0.9609375, 'consistency losses/trn_torque_loss': 4010.41654301, 'consistency losses/trn_torque_delta_loss': 23.91059841, 'logistical/obs_consumed_per_second': 195.95275591, 'logistical/obs_generated_per_second': 165.91338583, 'logistical/data_consumption_ratio': 1.18073207, 'logistical/manual_train_pause': 0.0, 'logistical/max_param': 16.28653908, 'logistical/lr': 0.0006}\n",
      "{'logistical/obs_consumed_per_second': 196.8359375, 'logistical/obs_generated_per_second': 164.84375, 'logistical/data_consumption_ratio': 1.19452638, 'logistical/manual_train_pause': 0.0, 'trn_control_loss': 0.05432177, 'trn_headings_loss': 0.00274311, 'trn_curvatures_loss': 0.00779782, 'consistency losses/trn_steer_cost': 0.00942382, 'consistency losses/trn_te_loss': 22.76175058, 'consistency losses/trn_%_updates_w_torque_delta_loss': 0.9609375, 'consistency losses/trn_torque_loss': 3861.01345158, 'consistency losses/trn_torque_delta_loss': 26.23925645, 'logistical/max_param': 16.29575348, 'logistical/lr': 0.0006}\n",
      "{'logistical/obs_consumed_per_second': 201.984375, 'logistical/obs_generated_per_second': 166.5078125, 'logistical/data_consumption_ratio': 1.21285941, 'logistical/manual_train_pause': 0.0, 'trn_control_loss': 0.06511271, 'trn_headings_loss': 0.00287382, 'trn_curvatures_loss': 0.00839552, 'consistency losses/trn_steer_cost': 0.01008096, 'consistency losses/trn_te_loss': 23.28375091, 'consistency losses/trn_%_updates_w_torque_delta_loss': 1.0, 'consistency losses/trn_torque_loss': 4114.89531422, 'consistency losses/trn_torque_delta_loss': 33.74515543, 'logistical/max_param': 16.29600334, 'logistical/lr': 0.0006}\n",
      "{'logistical/obs_consumed_per_second': 197.3515625, 'logistical/obs_generated_per_second': 164.109375, 'logistical/data_consumption_ratio': 1.20234731, 'logistical/manual_train_pause': 0.0, 'trn_control_loss': 0.08250809, 'trn_headings_loss': 0.00379747, 'trn_curvatures_loss': 0.0147323, 'consistency losses/trn_steer_cost': 0.01335256, 'consistency losses/trn_te_loss': 23.33451169, 'consistency losses/trn_%_updates_w_torque_delta_loss': 0.9921875, 'consistency losses/trn_torque_loss': 4356.1522994, 'consistency losses/trn_torque_delta_loss': 30.15960927, 'logistical/max_param': 16.28718758, 'logistical/lr': 0.0006}\n",
      "{'logistical/obs_consumed_per_second': 197.6875, 'logistical/obs_generated_per_second': 164.9140625, 'logistical/data_consumption_ratio': 1.19877495, 'logistical/manual_train_pause': 0.0, 'trn_control_loss': 0.07933855, 'trn_headings_loss': 0.00374153, 'trn_curvatures_loss': 0.01013684, 'consistency losses/trn_steer_cost': 0.01181266, 'consistency losses/trn_te_loss': 21.57569968, 'consistency losses/trn_%_updates_w_torque_delta_loss': 0.9921875, 'consistency losses/trn_torque_loss': 3995.95446777, 'consistency losses/trn_torque_delta_loss': 32.3796636, 'logistical/max_param': 16.28113937, 'logistical/lr': 0.0006}\n",
      "{'logistical/obs_consumed_per_second': 197.390625, 'logistical/obs_generated_per_second': 168.34375, 'logistical/data_consumption_ratio': 1.17290147, 'logistical/manual_train_pause': 0.0, 'trn_control_loss': 0.05784619, 'trn_headings_loss': 0.00237705, 'trn_curvatures_loss': 0.00670691, 'consistency losses/trn_steer_cost': 0.01082313, 'consistency losses/trn_te_loss': 23.94946712, 'consistency losses/trn_%_updates_w_torque_delta_loss': 1.0, 'consistency losses/trn_torque_loss': 3814.65623093, 'consistency losses/trn_torque_delta_loss': 31.26600757, 'logistical/max_param': 16.2776413, 'logistical/lr': 0.0006}\n",
      "{'logistical/obs_consumed_per_second': 197.4453125, 'logistical/obs_generated_per_second': 167.6484375, 'logistical/data_consumption_ratio': 1.17800964, 'logistical/manual_train_pause': 0.0, 'trn_control_loss': 0.04884565, 'trn_headings_loss': 0.00245832, 'trn_curvatures_loss': 0.00678492, 'consistency losses/trn_steer_cost': 0.00883788, 'consistency losses/trn_te_loss': 22.33340085, 'consistency losses/trn_%_updates_w_torque_delta_loss': 0.9609375, 'consistency losses/trn_torque_loss': 3759.79039955, 'consistency losses/trn_torque_delta_loss': 22.43387347, 'logistical/max_param': 16.27570915, 'logistical/lr': 0.0006}\n",
      "{'logistical/obs_consumed_per_second': 202.0234375, 'logistical/obs_generated_per_second': 166.90625, 'logistical/data_consumption_ratio': 1.21106906, 'logistical/manual_train_pause': 0.0, 'trn_control_loss': 0.05316627, 'trn_headings_loss': 0.00249618, 'trn_curvatures_loss': 0.00776061, 'consistency losses/trn_steer_cost': 0.00868775, 'consistency losses/trn_te_loss': 23.96273837, 'consistency losses/trn_%_updates_w_torque_delta_loss': 0.984375, 'consistency losses/trn_torque_loss': 3785.43245316, 'consistency losses/trn_torque_delta_loss': 27.27008021, 'logistical/max_param': 16.2670269, 'logistical/lr': 0.0006}\n",
      "{'logistical/obs_consumed_per_second': 195.3359375, 'logistical/obs_generated_per_second': 168.484375, 'logistical/data_consumption_ratio': 1.15978758, 'logistical/manual_train_pause': 0.0, 'trn_control_loss': 0.04546773, 'trn_headings_loss': 0.00225563, 'trn_curvatures_loss': 0.00725171, 'consistency losses/trn_steer_cost': 0.00860074, 'consistency losses/trn_te_loss': 23.52328371, 'consistency losses/trn_%_updates_w_torque_delta_loss': 0.9765625, 'consistency losses/trn_torque_loss': 3853.55716133, 'consistency losses/trn_torque_delta_loss': 30.73169186, 'logistical/max_param': 16.26514435, 'logistical/lr': 0.0006}\n"
     ]
    },
    {
     "name": "stdout",
     "output_type": "stream",
     "text": [
      "{'logistical/obs_consumed_per_second': 195.1015625, 'logistical/obs_generated_per_second': 166.4453125, 'logistical/data_consumption_ratio': 1.17245925, 'logistical/manual_train_pause': 0.0, 'trn_control_loss': 0.0425626, 'trn_headings_loss': 0.0021411, 'trn_curvatures_loss': 0.0059043, 'consistency losses/trn_steer_cost': 0.00792944, 'consistency losses/trn_te_loss': 24.26323386, 'consistency losses/trn_%_updates_w_torque_delta_loss': 0.9765625, 'consistency losses/trn_torque_loss': 3935.78190899, 'consistency losses/trn_torque_delta_loss': 24.23008169, 'logistical/max_param': 16.26830673, 'logistical/lr': 0.0006}\n",
      "{'logistical/obs_consumed_per_second': 148.0, 'logistical/obs_generated_per_second': 166.0, 'logistical/data_consumption_ratio': 0.89231248, 'logistical/manual_train_pause': 0.0}\n",
      "\n",
      "\n",
      " Eval...\n",
      "EPOCH 14\n",
      "\n",
      "{'trn_control_loss': 0.03989613, 'trn_headings_loss': 0.0019001, 'trn_curvatures_loss': 0.00498983, 'consistency losses/trn_steer_cost': 0.00757529, 'consistency losses/trn_te_loss': 23.87577581, 'consistency losses/trn_%_updates_w_torque_delta_loss': 0.984375, 'consistency losses/trn_torque_loss': 4342.82570076, 'consistency losses/trn_torque_delta_loss': 23.65251599, 'logistical/obs_consumed_per_second': 198.7480315, 'logistical/obs_generated_per_second': 165.1023622, 'logistical/data_consumption_ratio': 1.20359565, 'logistical/manual_train_pause': 0.0, 'logistical/max_param': 16.2750473, 'logistical/lr': 0.0006}\n",
      "{'logistical/obs_consumed_per_second': 197.03125, 'logistical/obs_generated_per_second': 161.9921875, 'logistical/data_consumption_ratio': 1.21593876, 'logistical/manual_train_pause': 0.0, 'trn_control_loss': 0.03168404, 'trn_headings_loss': 0.00163162, 'trn_curvatures_loss': 0.0038695, 'consistency losses/trn_steer_cost': 0.00611398, 'consistency losses/trn_te_loss': 23.97954366, 'consistency losses/trn_%_updates_w_torque_delta_loss': 0.984375, 'consistency losses/trn_torque_loss': 4109.36763191, 'consistency losses/trn_torque_delta_loss': 24.17120031, 'logistical/max_param': 16.27509117, 'logistical/lr': 0.0006}\n",
      "{'logistical/obs_consumed_per_second': 198.6171875, 'logistical/obs_generated_per_second': 158.2734375, 'logistical/data_consumption_ratio': 1.2585004, 'logistical/manual_train_pause': 0.0, 'trn_control_loss': 0.05202228, 'trn_headings_loss': 0.00265196, 'trn_curvatures_loss': 0.01014961, 'consistency losses/trn_steer_cost': 0.01114364, 'consistency losses/trn_te_loss': 22.54974853, 'consistency losses/trn_%_updates_w_torque_delta_loss': 0.953125, 'consistency losses/trn_torque_loss': 3994.43811226, 'consistency losses/trn_torque_delta_loss': 23.81768152, 'logistical/max_param': 16.27781677, 'logistical/lr': 0.0006}\n",
      "{'logistical/obs_consumed_per_second': 198.046875, 'logistical/obs_generated_per_second': 168.2265625, 'logistical/data_consumption_ratio': 1.17834189, 'logistical/manual_train_pause': 0.0, 'trn_control_loss': 0.0484395, 'trn_headings_loss': 0.0024524, 'trn_curvatures_loss': 0.00669138, 'consistency losses/trn_steer_cost': 0.00784267, 'consistency losses/trn_te_loss': 23.37438624, 'consistency losses/trn_%_updates_w_torque_delta_loss': 0.984375, 'consistency losses/trn_torque_loss': 4208.94842577, 'consistency losses/trn_torque_delta_loss': 33.02302398, 'logistical/max_param': 16.27249718, 'logistical/lr': 0.0006}\n",
      "{'logistical/obs_consumed_per_second': 196.0234375, 'logistical/obs_generated_per_second': 165.34375, 'logistical/data_consumption_ratio': 1.18610717, 'logistical/manual_train_pause': 0.0, 'trn_control_loss': 0.04827964, 'trn_headings_loss': 0.00244667, 'trn_curvatures_loss': 0.00725949, 'consistency losses/trn_steer_cost': 0.01021543, 'consistency losses/trn_te_loss': 21.26845433, 'consistency losses/trn_%_updates_w_torque_delta_loss': 0.9921875, 'consistency losses/trn_torque_loss': 4419.67247868, 'consistency losses/trn_torque_delta_loss': 25.35256667, 'logistical/max_param': 16.2711277, 'logistical/lr': 0.0006}\n",
      "{'logistical/obs_consumed_per_second': 198.734375, 'logistical/obs_generated_per_second': 165.75, 'logistical/data_consumption_ratio': 1.19769329, 'logistical/manual_train_pause': 0.0, 'trn_control_loss': 0.04776096, 'trn_headings_loss': 0.00221883, 'trn_curvatures_loss': 0.00515275, 'consistency losses/trn_steer_cost': 0.00671726, 'consistency losses/trn_te_loss': 23.21917263, 'consistency losses/trn_%_updates_w_torque_delta_loss': 0.984375, 'consistency losses/trn_torque_loss': 3927.4546299, 'consistency losses/trn_torque_delta_loss': 24.25483519, 'logistical/max_param': 16.26449203, 'logistical/lr': 0.0006}\n",
      "{'logistical/obs_consumed_per_second': 197.5390625, 'logistical/obs_generated_per_second': 165.9765625, 'logistical/data_consumption_ratio': 1.19091299, 'logistical/manual_train_pause': 0.0, 'trn_control_loss': 0.04058588, 'trn_headings_loss': 0.00176249, 'trn_curvatures_loss': 0.00472428, 'consistency losses/trn_steer_cost': 0.00680815, 'consistency losses/trn_te_loss': 22.78119822, 'consistency losses/trn_%_updates_w_torque_delta_loss': 0.984375, 'consistency losses/trn_torque_loss': 4313.48470211, 'consistency losses/trn_torque_delta_loss': 23.71791485, 'logistical/max_param': 16.26534271, 'logistical/lr': 0.0006}\n",
      "{'logistical/obs_consumed_per_second': 202.5, 'logistical/obs_generated_per_second': 165.8984375, 'logistical/data_consumption_ratio': 1.22045729, 'logistical/manual_train_pause': 0.0, 'trn_control_loss': 0.03684258, 'trn_headings_loss': 0.00188963, 'trn_curvatures_loss': 0.00609826, 'consistency losses/trn_steer_cost': 0.00673135, 'consistency losses/trn_te_loss': 25.6197768, 'consistency losses/trn_%_updates_w_torque_delta_loss': 0.96875, 'consistency losses/trn_torque_loss': 4043.07113767, 'consistency losses/trn_torque_delta_loss': 27.40287842, 'logistical/max_param': 16.259758, 'logistical/lr': 0.0006}\n",
      "{'logistical/obs_consumed_per_second': 195.6171875, 'logistical/obs_generated_per_second': 168.015625, 'logistical/data_consumption_ratio': 1.16339451, 'logistical/manual_train_pause': 0.0, 'trn_control_loss': 0.06340694, 'trn_headings_loss': 0.00249033, 'trn_curvatures_loss': 0.00793025, 'consistency losses/trn_steer_cost': 0.01161428, 'consistency losses/trn_te_loss': 23.43317741, 'consistency losses/trn_%_updates_w_torque_delta_loss': 0.9921875, 'consistency losses/trn_torque_loss': 4276.76851559, 'consistency losses/trn_torque_delta_loss': 36.56318407, 'logistical/max_param': 16.26495361, 'logistical/lr': 0.0006}\n",
      "{'logistical/obs_consumed_per_second': 198.421875, 'logistical/obs_generated_per_second': 168.0546875, 'logistical/data_consumption_ratio': 1.18135048, 'logistical/manual_train_pause': 0.0, 'trn_control_loss': 0.05720913, 'trn_headings_loss': 0.00265872, 'trn_curvatures_loss': 0.00795765, 'consistency losses/trn_steer_cost': 0.00849903, 'consistency losses/trn_te_loss': 23.91468827, 'consistency losses/trn_%_updates_w_torque_delta_loss': 0.9921875, 'consistency losses/trn_torque_loss': 3937.03644943, 'consistency losses/trn_torque_delta_loss': 32.36829368, 'logistical/max_param': 16.26944923, 'logistical/lr': 0.0006}\n",
      "{'logistical/obs_consumed_per_second': 135.0, 'logistical/obs_generated_per_second': 166.0, 'logistical/data_consumption_ratio': 0.81531028, 'logistical/manual_train_pause': 0.0}\n",
      "\n",
      "\n",
      " Eval...\n",
      "EPOCH 15\n",
      "\n",
      "{'trn_control_loss': 0.05786574, 'trn_headings_loss': 0.00261624, 'trn_curvatures_loss': 0.00693947, 'consistency losses/trn_steer_cost': 0.01096095, 'consistency losses/trn_te_loss': 23.76787251, 'consistency losses/trn_%_updates_w_torque_delta_loss': 1.0, 'consistency losses/trn_torque_loss': 4087.77695179, 'consistency losses/trn_torque_delta_loss': 32.52516898, 'logistical/obs_consumed_per_second': 193.80314961, 'logistical/obs_generated_per_second': 166.39370079, 'logistical/data_consumption_ratio': 1.16512073, 'logistical/manual_train_pause': 0.0, 'logistical/max_param': 16.26933289, 'logistical/lr': 0.0006}\n",
      "{'logistical/obs_consumed_per_second': 198.0390625, 'logistical/obs_generated_per_second': 167.7109375, 'logistical/data_consumption_ratio': 1.18098402, 'logistical/manual_train_pause': 0.0, 'trn_control_loss': 0.1125524, 'trn_headings_loss': 0.00463766, 'trn_curvatures_loss': 0.00943187, 'consistency losses/trn_steer_cost': 0.01298434, 'consistency losses/trn_te_loss': 23.34488304, 'consistency losses/trn_%_updates_w_torque_delta_loss': 1.0, 'consistency losses/trn_torque_loss': 4220.79191589, 'consistency losses/trn_torque_delta_loss': 61.64091136, 'logistical/max_param': 16.27386475, 'logistical/lr': 0.0006}\n"
     ]
    },
    {
     "name": "stdout",
     "output_type": "stream",
     "text": [
      "{'logistical/obs_consumed_per_second': 198.1875, 'logistical/obs_generated_per_second': 167.2578125, 'logistical/data_consumption_ratio': 1.18530645, 'logistical/manual_train_pause': 0.0, 'trn_control_loss': 0.07527471, 'trn_headings_loss': 0.00336333, 'trn_curvatures_loss': 0.00754613, 'consistency losses/trn_steer_cost': 0.00890881, 'consistency losses/trn_te_loss': 23.00024603, 'consistency losses/trn_%_updates_w_torque_delta_loss': 0.984375, 'consistency losses/trn_torque_loss': 4414.44416237, 'consistency losses/trn_torque_delta_loss': 42.77784028, 'logistical/max_param': 16.28543282, 'logistical/lr': 0.0006}\n",
      "{'logistical/obs_consumed_per_second': 197.8984375, 'logistical/obs_generated_per_second': 167.7734375, 'logistical/data_consumption_ratio': 1.17996064, 'logistical/manual_train_pause': 0.0, 'trn_control_loss': 0.05354202, 'trn_headings_loss': 0.00241403, 'trn_curvatures_loss': 0.00598934, 'consistency losses/trn_steer_cost': 0.00798596, 'consistency losses/trn_te_loss': 24.04815479, 'consistency losses/trn_%_updates_w_torque_delta_loss': 0.984375, 'consistency losses/trn_torque_loss': 4033.78073502, 'consistency losses/trn_torque_delta_loss': 26.86696659, 'logistical/max_param': 16.28888893, 'logistical/lr': 0.0006}\n",
      "{'logistical/obs_consumed_per_second': 202.765625, 'logistical/obs_generated_per_second': 163.828125, 'logistical/data_consumption_ratio': 1.23827546, 'logistical/manual_train_pause': 0.0, 'trn_control_loss': 0.04623246, 'trn_headings_loss': 0.00210559, 'trn_curvatures_loss': 0.00585866, 'consistency losses/trn_steer_cost': 0.00794098, 'consistency losses/trn_te_loss': 22.21100648, 'consistency losses/trn_%_updates_w_torque_delta_loss': 0.9765625, 'consistency losses/trn_torque_loss': 4005.11514473, 'consistency losses/trn_torque_delta_loss': 24.75708843, 'logistical/max_param': 16.2911377, 'logistical/lr': 0.0006}\n",
      "{'logistical/obs_consumed_per_second': 200.7578125, 'logistical/obs_generated_per_second': 167.3671875, 'logistical/data_consumption_ratio': 1.1998514, 'logistical/manual_train_pause': 0.0, 'trn_control_loss': 0.05023193, 'trn_headings_loss': 0.00256821, 'trn_curvatures_loss': 0.00603409, 'consistency losses/trn_steer_cost': 0.00740457, 'consistency losses/trn_te_loss': 23.4959773, 'consistency losses/trn_%_updates_w_torque_delta_loss': 0.984375, 'consistency losses/trn_torque_loss': 4310.75344181, 'consistency losses/trn_torque_delta_loss': 33.44693906, 'logistical/max_param': 16.29042053, 'logistical/lr': 0.0006}\n",
      "{'logistical/obs_consumed_per_second': 195.8984375, 'logistical/obs_generated_per_second': 164.359375, 'logistical/data_consumption_ratio': 1.19181055, 'logistical/manual_train_pause': 0.0, 'trn_control_loss': 0.04469502, 'trn_headings_loss': 0.00192503, 'trn_curvatures_loss': 0.00474428, 'consistency losses/trn_steer_cost': 0.00840002, 'consistency losses/trn_te_loss': 24.0945708, 'consistency losses/trn_%_updates_w_torque_delta_loss': 0.984375, 'consistency losses/trn_torque_loss': 4349.57496452, 'consistency losses/trn_torque_delta_loss': 34.60728992, 'logistical/max_param': 16.28620148, 'logistical/lr': 0.0006}\n",
      "{'logistical/obs_consumed_per_second': 194.28125, 'logistical/obs_generated_per_second': 167.265625, 'logistical/data_consumption_ratio': 1.16166559, 'logistical/manual_train_pause': 0.0, 'trn_control_loss': 0.09919322, 'trn_headings_loss': 0.00399901, 'trn_curvatures_loss': 0.01038098, 'consistency losses/trn_steer_cost': 0.01034069, 'consistency losses/trn_te_loss': 22.02582137, 'consistency losses/trn_%_updates_w_torque_delta_loss': 0.9921875, 'consistency losses/trn_torque_loss': 4239.98384285, 'consistency losses/trn_torque_delta_loss': 29.30803469, 'logistical/max_param': 16.28180885, 'logistical/lr': 0.0006}\n",
      "{'logistical/obs_consumed_per_second': 197.140625, 'logistical/obs_generated_per_second': 165.5234375, 'logistical/data_consumption_ratio': 1.19200548, 'logistical/manual_train_pause': 0.0, 'trn_control_loss': 0.04306245, 'trn_headings_loss': 0.00223366, 'trn_curvatures_loss': 0.00677489, 'consistency losses/trn_steer_cost': 0.00862989, 'consistency losses/trn_te_loss': 23.27666795, 'consistency losses/trn_%_updates_w_torque_delta_loss': 1.0, 'consistency losses/trn_torque_loss': 4490.75623989, 'consistency losses/trn_torque_delta_loss': 31.60647107, 'logistical/max_param': 16.28393936, 'logistical/lr': 0.0006}\n",
      "{'logistical/obs_consumed_per_second': 198.5859375, 'logistical/obs_generated_per_second': 165.0078125, 'logistical/data_consumption_ratio': 1.20454763, 'logistical/manual_train_pause': 0.0, 'trn_control_loss': 0.05560386, 'trn_headings_loss': 0.00279526, 'trn_curvatures_loss': 0.00865671, 'consistency losses/trn_steer_cost': 0.01127861, 'consistency losses/trn_te_loss': 23.2343429, 'consistency losses/trn_%_updates_w_torque_delta_loss': 0.984375, 'consistency losses/trn_torque_loss': 3880.19657326, 'consistency losses/trn_torque_delta_loss': 30.48526528, 'logistical/max_param': 16.28707695, 'logistical/lr': 0.0006}\n",
      "{'logistical/obs_consumed_per_second': 127.0, 'logistical/obs_generated_per_second': 166.0, 'logistical/data_consumption_ratio': 0.76151041, 'logistical/manual_train_pause': 0.0}\n",
      "\n",
      "\n",
      " Eval...\n",
      "EPOCH 16\n",
      "\n",
      "{'trn_control_loss': 0.03473485, 'trn_headings_loss': 0.00179233, 'trn_curvatures_loss': 0.00477122, 'consistency losses/trn_steer_cost': 0.00663655, 'consistency losses/trn_te_loss': 24.19241121, 'consistency losses/trn_%_updates_w_torque_delta_loss': 1.0, 'consistency losses/trn_torque_loss': 4339.70785522, 'consistency losses/trn_torque_delta_loss': 28.34123455, 'logistical/obs_consumed_per_second': 198.04724409, 'logistical/obs_generated_per_second': 164.46456693, 'logistical/data_consumption_ratio': 1.20469399, 'logistical/manual_train_pause': 0.0, 'logistical/max_param': 16.28697586, 'logistical/lr': 0.0006}\n",
      "{'logistical/obs_consumed_per_second': 200.8671875, 'logistical/obs_generated_per_second': 166.453125, 'logistical/data_consumption_ratio': 1.20636469, 'logistical/manual_train_pause': 0.0, 'trn_control_loss': 0.04169536, 'trn_headings_loss': 0.00181366, 'trn_curvatures_loss': 0.004906, 'consistency losses/trn_steer_cost': 0.00762342, 'consistency losses/trn_te_loss': 23.07988083, 'consistency losses/trn_%_updates_w_torque_delta_loss': 0.984375, 'consistency losses/trn_torque_loss': 4456.18516922, 'consistency losses/trn_torque_delta_loss': 32.20598929, 'logistical/max_param': 16.28887558, 'logistical/lr': 0.0006}\n",
      "{'logistical/obs_consumed_per_second': 200.328125, 'logistical/obs_generated_per_second': 166.80314961, 'logistical/data_consumption_ratio': 1.20238033, 'logistical/manual_train_pause': 0.0, 'trn_control_loss': 0.03891993, 'trn_headings_loss': 0.00196148, 'trn_curvatures_loss': 0.00421442, 'consistency losses/trn_steer_cost': 0.0061225, 'consistency losses/trn_te_loss': 23.86238886, 'consistency losses/trn_%_updates_w_torque_delta_loss': 0.9921875, 'consistency losses/trn_torque_loss': 4401.34071922, 'consistency losses/trn_torque_delta_loss': 29.65417285, 'logistical/max_param': 16.29229546, 'logistical/lr': 0.0006}\n",
      "{'logistical/obs_consumed_per_second': 198.6640625, 'logistical/obs_generated_per_second': 162.453125, 'logistical/data_consumption_ratio': 1.22284571, 'logistical/manual_train_pause': 0.0, 'trn_control_loss': 0.03448099, 'trn_headings_loss': 0.00173987, 'trn_curvatures_loss': 0.00389962, 'consistency losses/trn_steer_cost': 0.00590312, 'consistency losses/trn_te_loss': 24.03849797, 'consistency losses/trn_%_updates_w_torque_delta_loss': 0.984375, 'consistency losses/trn_torque_loss': 4449.17785263, 'consistency losses/trn_torque_delta_loss': 30.50345496, 'logistical/max_param': 16.28910065, 'logistical/lr': 0.0006}\n",
      "{'logistical/obs_consumed_per_second': 199.65625, 'logistical/obs_generated_per_second': 168.2734375, 'logistical/data_consumption_ratio': 1.1866805, 'logistical/manual_train_pause': 0.0, 'trn_control_loss': 0.02847415, 'trn_headings_loss': 0.00135004, 'trn_curvatures_loss': 0.00307362, 'consistency losses/trn_steer_cost': 0.00469638, 'consistency losses/trn_te_loss': 24.55523045, 'consistency losses/trn_%_updates_w_torque_delta_loss': 0.953125, 'consistency losses/trn_torque_loss': 3842.90404463, 'consistency losses/trn_torque_delta_loss': 26.55959263, 'logistical/max_param': 16.28737259, 'logistical/lr': 0.0006}\n"
     ]
    },
    {
     "name": "stdout",
     "output_type": "stream",
     "text": [
      "{'logistical/obs_consumed_per_second': 199.8046875, 'logistical/obs_generated_per_second': 167.8671875, 'logistical/data_consumption_ratio': 1.19050481, 'logistical/manual_train_pause': 0.0, 'trn_control_loss': 0.07733464, 'trn_headings_loss': 0.00334079, 'trn_curvatures_loss': 0.00820412, 'consistency losses/trn_steer_cost': 0.0115765, 'consistency losses/trn_te_loss': 23.39716342, 'consistency losses/trn_%_updates_w_torque_delta_loss': 1.0, 'consistency losses/trn_torque_loss': 4364.18379021, 'consistency losses/trn_torque_delta_loss': 44.89715799, 'logistical/max_param': 16.28225708, 'logistical/lr': 0.0006}\n",
      "{'logistical/obs_consumed_per_second': 197.8203125, 'logistical/obs_generated_per_second': 168.328125, 'logistical/data_consumption_ratio': 1.17541758, 'logistical/manual_train_pause': 0.0, 'trn_control_loss': 0.15276659, 'trn_headings_loss': 0.00670008, 'trn_curvatures_loss': 0.01836692, 'consistency losses/trn_steer_cost': 0.01385789, 'consistency losses/trn_te_loss': 22.42717919, 'consistency losses/trn_%_updates_w_torque_delta_loss': 0.984375, 'consistency losses/trn_torque_loss': 4263.38168526, 'consistency losses/trn_torque_delta_loss': 34.13134073, 'logistical/max_param': 16.26545525, 'logistical/lr': 0.0006}\n",
      "{'logistical/obs_consumed_per_second': 198.59375, 'logistical/obs_generated_per_second': 166.125, 'logistical/data_consumption_ratio': 1.1968391, 'logistical/manual_train_pause': 0.0, 'trn_control_loss': 0.08208394, 'trn_headings_loss': 0.00384496, 'trn_curvatures_loss': 0.01007786, 'consistency losses/trn_steer_cost': 0.01405469, 'consistency losses/trn_te_loss': 23.28738642, 'consistency losses/trn_%_updates_w_torque_delta_loss': 0.9921875, 'consistency losses/trn_torque_loss': 4183.82370949, 'consistency losses/trn_torque_delta_loss': 58.31174437, 'logistical/max_param': 16.26532173, 'logistical/lr': 0.0006}\n",
      "{'logistical/obs_consumed_per_second': 196.2109375, 'logistical/obs_generated_per_second': 169.0, 'logistical/data_consumption_ratio': 1.16028665, 'logistical/manual_train_pause': 0.0, 'trn_control_loss': 0.0737195, 'trn_headings_loss': 0.00342213, 'trn_curvatures_loss': 0.00881654, 'consistency losses/trn_steer_cost': 0.01194191, 'consistency losses/trn_te_loss': 22.19558401, 'consistency losses/trn_%_updates_w_torque_delta_loss': 0.9921875, 'consistency losses/trn_torque_loss': 4238.49960327, 'consistency losses/trn_torque_delta_loss': 32.67403346, 'logistical/max_param': 16.25640488, 'logistical/lr': 0.0006}\n",
      "{'logistical/obs_consumed_per_second': 201.5234375, 'logistical/obs_generated_per_second': 165.3125, 'logistical/data_consumption_ratio': 1.2196832, 'logistical/manual_train_pause': 0.0, 'trn_control_loss': 0.04617035, 'trn_headings_loss': 0.00224437, 'trn_curvatures_loss': 0.00639598, 'consistency losses/trn_steer_cost': 0.00762123, 'consistency losses/trn_te_loss': 23.79233797, 'consistency losses/trn_%_updates_w_torque_delta_loss': 0.9921875, 'consistency losses/trn_torque_loss': 4328.3359642, 'consistency losses/trn_torque_delta_loss': 32.01759188, 'logistical/max_param': 16.25465965, 'logistical/lr': 0.0006}\n",
      "{'logistical/obs_consumed_per_second': 123.0, 'logistical/obs_generated_per_second': 169.0, 'logistical/data_consumption_ratio': 0.72785635, 'logistical/manual_train_pause': 0.0}\n",
      "\n",
      "\n",
      " Eval...\n",
      "EPOCH 17\n",
      "\n",
      "{'trn_control_loss': 0.04911244, 'trn_headings_loss': 0.00204564, 'trn_curvatures_loss': 0.00597148, 'consistency losses/trn_steer_cost': 0.00919087, 'consistency losses/trn_te_loss': 23.54007469, 'consistency losses/trn_%_updates_w_torque_delta_loss': 0.9765625, 'consistency losses/trn_torque_loss': 4414.75634384, 'consistency losses/trn_torque_delta_loss': 28.78190671, 'logistical/obs_consumed_per_second': 201.03937008, 'logistical/obs_generated_per_second': 168.77952756, 'logistical/data_consumption_ratio': 1.19030514, 'logistical/manual_train_pause': 0.0, 'logistical/max_param': 16.25748634, 'logistical/lr': 0.0006}\n",
      "{'logistical/obs_consumed_per_second': 199.9375, 'logistical/obs_generated_per_second': 167.8046875, 'logistical/data_consumption_ratio': 1.19116558, 'logistical/manual_train_pause': 0.0, 'trn_control_loss': 0.04381526, 'trn_headings_loss': 0.00209381, 'trn_curvatures_loss': 0.00530609, 'consistency losses/trn_steer_cost': 0.00852713, 'consistency losses/trn_te_loss': 23.32487103, 'consistency losses/trn_%_updates_w_torque_delta_loss': 1.0, 'consistency losses/trn_torque_loss': 4772.73011303, 'consistency losses/trn_torque_delta_loss': 34.55053917, 'logistical/max_param': 16.25968552, 'logistical/lr': 0.0006}\n",
      "{'logistical/obs_consumed_per_second': 198.3515625, 'logistical/obs_generated_per_second': 165.875, 'logistical/data_consumption_ratio': 1.19717208, 'logistical/manual_train_pause': 0.0, 'trn_control_loss': 0.0367316, 'trn_headings_loss': 0.00203669, 'trn_curvatures_loss': 0.00530948, 'consistency losses/trn_steer_cost': 0.0077773, 'consistency losses/trn_te_loss': 24.15085906, 'consistency losses/trn_%_updates_w_torque_delta_loss': 0.984375, 'consistency losses/trn_torque_loss': 3997.84586048, 'consistency losses/trn_torque_delta_loss': 28.98587385, 'logistical/max_param': 16.2583847, 'logistical/lr': 0.0006}\n",
      "{'logistical/obs_consumed_per_second': 195.8828125, 'logistical/obs_generated_per_second': 167.78125, 'logistical/data_consumption_ratio': 1.16781941, 'logistical/manual_train_pause': 0.0, 'trn_control_loss': 0.08606267, 'trn_headings_loss': 0.00347287, 'trn_curvatures_loss': 0.01110081, 'consistency losses/trn_steer_cost': 0.01168683, 'consistency losses/trn_te_loss': 23.71016474, 'consistency losses/trn_%_updates_w_torque_delta_loss': 0.9765625, 'consistency losses/trn_torque_loss': 3988.36740494, 'consistency losses/trn_torque_delta_loss': 35.53357967, 'logistical/max_param': 16.26104736, 'logistical/lr': 0.0006}\n",
      "{'logistical/obs_consumed_per_second': 200.4921875, 'logistical/obs_generated_per_second': 169.4375, 'logistical/data_consumption_ratio': 1.18307081, 'logistical/manual_train_pause': 0.0, 'trn_control_loss': 0.04067433, 'trn_headings_loss': 0.00186067, 'trn_curvatures_loss': 0.00440319, 'consistency losses/trn_steer_cost': 0.00641327, 'consistency losses/trn_te_loss': 23.29758514, 'consistency losses/trn_%_updates_w_torque_delta_loss': 0.9765625, 'consistency losses/trn_torque_loss': 4467.44265938, 'consistency losses/trn_torque_delta_loss': 30.28757431, 'logistical/max_param': 16.26051331, 'logistical/lr': 0.0006}\n",
      "{'logistical/obs_consumed_per_second': 198.03125, 'logistical/obs_generated_per_second': 169.7109375, 'logistical/data_consumption_ratio': 1.16740618, 'logistical/manual_train_pause': 0.0, 'trn_control_loss': 0.04932421, 'trn_headings_loss': 0.00237724, 'trn_curvatures_loss': 0.0062957, 'consistency losses/trn_steer_cost': 0.0080763, 'consistency losses/trn_te_loss': 22.92934689, 'consistency losses/trn_%_updates_w_torque_delta_loss': 0.984375, 'consistency losses/trn_torque_loss': 4147.78993511, 'consistency losses/trn_torque_delta_loss': 25.68502657, 'logistical/max_param': 16.26081085, 'logistical/lr': 0.0006}\n",
      "{'logistical/obs_consumed_per_second': 200.0078125, 'logistical/obs_generated_per_second': 168.9140625, 'logistical/data_consumption_ratio': 1.18390171, 'logistical/manual_train_pause': 0.0, 'trn_control_loss': 0.06976974, 'trn_headings_loss': 0.0034554, 'trn_curvatures_loss': 0.0096309, 'consistency losses/trn_steer_cost': 0.01134095, 'consistency losses/trn_te_loss': 22.89290243, 'consistency losses/trn_%_updates_w_torque_delta_loss': 1.0, 'consistency losses/trn_torque_loss': 4170.05477905, 'consistency losses/trn_torque_delta_loss': 29.09094385, 'logistical/max_param': 16.25958252, 'logistical/lr': 0.0006}\n",
      "{'logistical/obs_consumed_per_second': 199.828125, 'logistical/obs_generated_per_second': 166.453125, 'logistical/data_consumption_ratio': 1.20089298, 'logistical/manual_train_pause': 0.0, 'trn_control_loss': 0.07798922, 'trn_headings_loss': 0.00393102, 'trn_curvatures_loss': 0.01400855, 'consistency losses/trn_steer_cost': 0.01368025, 'consistency losses/trn_te_loss': 21.46480198, 'consistency losses/trn_%_updates_w_torque_delta_loss': 0.9921875, 'consistency losses/trn_torque_loss': 3948.83853722, 'consistency losses/trn_torque_delta_loss': 30.10494517, 'logistical/max_param': 16.26127434, 'logistical/lr': 0.0006}\n"
     ]
    },
    {
     "name": "stdout",
     "output_type": "stream",
     "text": [
      "{'logistical/obs_consumed_per_second': 193.0078125, 'logistical/obs_generated_per_second': 164.484375, 'logistical/data_consumption_ratio': 1.17424421, 'logistical/manual_train_pause': 0.0, 'trn_control_loss': 0.03708303, 'trn_headings_loss': 0.00176865, 'trn_curvatures_loss': 0.00359835, 'consistency losses/trn_steer_cost': 0.00660945, 'consistency losses/trn_te_loss': 23.5592092, 'consistency losses/trn_%_updates_w_torque_delta_loss': 1.0, 'consistency losses/trn_torque_loss': 4489.40486383, 'consistency losses/trn_torque_delta_loss': 32.07080705, 'logistical/max_param': 16.26301765, 'logistical/lr': 0.0006}\n",
      "{'logistical/obs_consumed_per_second': 201.3125, 'logistical/obs_generated_per_second': 159.109375, 'logistical/data_consumption_ratio': 1.26680136, 'logistical/manual_train_pause': 0.0, 'trn_control_loss': 0.05404806, 'trn_headings_loss': 0.00247475, 'trn_curvatures_loss': 0.00691698, 'consistency losses/trn_steer_cost': 0.00988097, 'consistency losses/trn_te_loss': 23.15948415, 'consistency losses/trn_%_updates_w_torque_delta_loss': 0.9765625, 'consistency losses/trn_torque_loss': 4123.75729561, 'consistency losses/trn_torque_delta_loss': 26.3286635, 'logistical/max_param': 16.26185799, 'logistical/lr': 0.0006}\n",
      "{'logistical/obs_consumed_per_second': 133.0, 'logistical/obs_generated_per_second': 163.0, 'logistical/data_consumption_ratio': 0.81998733, 'logistical/manual_train_pause': 0.0}\n",
      "\n",
      "\n",
      " Eval...\n",
      "EPOCH 18\n",
      "\n",
      "{'trn_control_loss': 0.0564791, 'trn_headings_loss': 0.00234067, 'trn_curvatures_loss': 0.00769882, 'consistency losses/trn_steer_cost': 0.01121292, 'consistency losses/trn_te_loss': 22.01542248, 'consistency losses/trn_%_updates_w_torque_delta_loss': 0.9921875, 'consistency losses/trn_torque_loss': 4471.71599197, 'consistency losses/trn_torque_delta_loss': 29.66301894, 'logistical/obs_consumed_per_second': 193.94488189, 'logistical/obs_generated_per_second': 168.05511811, 'logistical/data_consumption_ratio': 1.15408648, 'logistical/manual_train_pause': 0.0, 'logistical/max_param': 16.26227188, 'logistical/lr': 0.0006}\n",
      "{'logistical/obs_consumed_per_second': 200.6875, 'logistical/obs_generated_per_second': 169.59375, 'logistical/data_consumption_ratio': 1.18379596, 'logistical/manual_train_pause': 0.0, 'trn_control_loss': 0.03953934, 'trn_headings_loss': 0.00192591, 'trn_curvatures_loss': 0.00381536, 'consistency losses/trn_steer_cost': 0.00606415, 'consistency losses/trn_te_loss': 24.11939266, 'consistency losses/trn_%_updates_w_torque_delta_loss': 1.0, 'consistency losses/trn_torque_loss': 4587.36705112, 'consistency losses/trn_torque_delta_loss': 29.68524759, 'logistical/max_param': 16.26062202, 'logistical/lr': 0.0006}\n",
      "{'logistical/obs_consumed_per_second': 198.8203125, 'logistical/obs_generated_per_second': 167.015625, 'logistical/data_consumption_ratio': 1.1906003, 'logistical/manual_train_pause': 0.0, 'trn_control_loss': 0.05796838, 'trn_headings_loss': 0.0027696, 'trn_curvatures_loss': 0.01064222, 'consistency losses/trn_steer_cost': 0.010006, 'consistency losses/trn_te_loss': 22.56843486, 'consistency losses/trn_%_updates_w_torque_delta_loss': 0.984375, 'consistency losses/trn_torque_loss': 4403.15357018, 'consistency losses/trn_torque_delta_loss': 26.99994867, 'logistical/max_param': 16.27133179, 'logistical/lr': 0.0006}\n",
      "{'logistical/obs_consumed_per_second': 198.875, 'logistical/obs_generated_per_second': 169.2109375, 'logistical/data_consumption_ratio': 1.17435118, 'logistical/manual_train_pause': 0.0, 'trn_control_loss': 0.05356622, 'trn_headings_loss': 0.00279874, 'trn_curvatures_loss': 0.00855257, 'consistency losses/trn_steer_cost': 0.00892916, 'consistency losses/trn_te_loss': 23.27580495, 'consistency losses/trn_%_updates_w_torque_delta_loss': 0.9921875, 'consistency losses/trn_torque_loss': 4297.74505806, 'consistency losses/trn_torque_delta_loss': 32.55212656, 'logistical/max_param': 16.26641273, 'logistical/lr': 0.0006}\n",
      "{'logistical/obs_consumed_per_second': 197.359375, 'logistical/obs_generated_per_second': 166.078125, 'logistical/data_consumption_ratio': 1.18898047, 'logistical/manual_train_pause': 0.0, 'trn_control_loss': 0.03842425, 'trn_headings_loss': 0.0019004, 'trn_curvatures_loss': 0.00432631, 'consistency losses/trn_steer_cost': 0.00622904, 'consistency losses/trn_te_loss': 23.1097769, 'consistency losses/trn_%_updates_w_torque_delta_loss': 0.9765625, 'consistency losses/trn_torque_loss': 4131.3568306, 'consistency losses/trn_torque_delta_loss': 29.54130274, 'logistical/max_param': 16.27129555, 'logistical/lr': 0.0006}\n",
      "{'logistical/obs_consumed_per_second': 199.4609375, 'logistical/obs_generated_per_second': 161.7734375, 'logistical/data_consumption_ratio': 1.23286142, 'logistical/manual_train_pause': 0.0, 'trn_control_loss': 0.04417479, 'trn_headings_loss': 0.00208917, 'trn_curvatures_loss': 0.00588408, 'consistency losses/trn_steer_cost': 0.0082646, 'consistency losses/trn_te_loss': 22.24826294, 'consistency losses/trn_%_updates_w_torque_delta_loss': 0.9921875, 'consistency losses/trn_torque_loss': 4029.60969734, 'consistency losses/trn_torque_delta_loss': 24.94069832, 'logistical/max_param': 16.26813126, 'logistical/lr': 0.0006}\n",
      "{'logistical/obs_consumed_per_second': 199.4453125, 'logistical/obs_generated_per_second': 162.9453125, 'logistical/data_consumption_ratio': 1.22500077, 'logistical/manual_train_pause': 0.0, 'trn_control_loss': 0.04610515, 'trn_headings_loss': 0.00256014, 'trn_curvatures_loss': 0.00713295, 'consistency losses/trn_steer_cost': 0.0086405, 'consistency losses/trn_te_loss': 22.41620101, 'consistency losses/trn_%_updates_w_torque_delta_loss': 0.9609375, 'consistency losses/trn_torque_loss': 4460.84736633, 'consistency losses/trn_torque_delta_loss': 27.97735548, 'logistical/max_param': 16.26358414, 'logistical/lr': 0.0006}\n",
      "{'logistical/obs_consumed_per_second': 192.1796875, 'logistical/obs_generated_per_second': 165.1796875, 'logistical/data_consumption_ratio': 1.1637798, 'logistical/manual_train_pause': 0.0, 'trn_control_loss': 0.03520441, 'trn_headings_loss': 0.00185871, 'trn_curvatures_loss': 0.00418703, 'consistency losses/trn_steer_cost': 0.0056878, 'consistency losses/trn_te_loss': 23.74410461, 'consistency losses/trn_%_updates_w_torque_delta_loss': 0.9921875, 'consistency losses/trn_torque_loss': 4268.38577461, 'consistency losses/trn_torque_delta_loss': 25.37512696, 'logistical/max_param': 16.2630043, 'logistical/lr': 0.0006}\n",
      "{'logistical/obs_consumed_per_second': 196.1171875, 'logistical/obs_generated_per_second': 169.96875, 'logistical/data_consumption_ratio': 1.15408345, 'logistical/manual_train_pause': 0.0, 'trn_control_loss': 0.03282046, 'trn_headings_loss': 0.00161235, 'trn_curvatures_loss': 0.00440182, 'consistency losses/trn_steer_cost': 0.00698279, 'consistency losses/trn_te_loss': 23.34374796, 'consistency losses/trn_%_updates_w_torque_delta_loss': 1.0, 'consistency losses/trn_torque_loss': 4793.19207764, 'consistency losses/trn_torque_delta_loss': 30.77751251, 'logistical/max_param': 16.26679039, 'logistical/lr': 0.0006}\n",
      "{'logistical/obs_consumed_per_second': 192.2734375, 'logistical/obs_generated_per_second': 167.4453125, 'logistical/data_consumption_ratio': 1.14905812, 'logistical/manual_train_pause': 0.0, 'trn_control_loss': 0.06002343, 'trn_headings_loss': 0.00245311, 'trn_curvatures_loss': 0.00759504, 'consistency losses/trn_steer_cost': 0.00858447, 'consistency losses/trn_te_loss': 24.99865936, 'consistency losses/trn_%_updates_w_torque_delta_loss': 0.9609375, 'consistency losses/trn_torque_loss': 3538.71212816, 'consistency losses/trn_torque_delta_loss': 30.70328528, 'logistical/max_param': 16.2568264, 'logistical/lr': 0.0006}\n",
      "{'logistical/obs_consumed_per_second': 168.0, 'logistical/obs_generated_per_second': 164.0, 'logistical/data_consumption_ratio': 1.02669224, 'logistical/manual_train_pause': 0.0}\n",
      "\n",
      "\n",
      " Eval...\n",
      "EPOCH 19\n",
      "\n",
      "{'trn_control_loss': 0.05481517, 'trn_headings_loss': 0.00245141, 'trn_curvatures_loss': 0.00810635, 'consistency losses/trn_steer_cost': 0.01260269, 'consistency losses/trn_te_loss': 21.59578598, 'consistency losses/trn_%_updates_w_torque_delta_loss': 1.0, 'consistency losses/trn_torque_loss': 3933.24725437, 'consistency losses/trn_torque_delta_loss': 28.82380835, 'logistical/obs_consumed_per_second': 199.46456693, 'logistical/obs_generated_per_second': 168.69291339, 'logistical/data_consumption_ratio': 1.18241424, 'logistical/manual_train_pause': 0.0, 'logistical/max_param': 16.2621994, 'logistical/lr': 0.0006}\n"
     ]
    },
    {
     "name": "stdout",
     "output_type": "stream",
     "text": [
      "{'logistical/obs_consumed_per_second': 203.2578125, 'logistical/obs_generated_per_second': 167.96875, 'logistical/data_consumption_ratio': 1.21215326, 'logistical/manual_train_pause': 0.0, 'trn_control_loss': 0.06973815, 'trn_headings_loss': 0.00280657, 'trn_curvatures_loss': 0.00597595, 'consistency losses/trn_steer_cost': 0.01025024, 'consistency losses/trn_te_loss': 23.74861714, 'consistency losses/trn_%_updates_w_torque_delta_loss': 0.9921875, 'consistency losses/trn_torque_loss': 3745.08042336, 'consistency losses/trn_torque_delta_loss': 34.98221802, 'logistical/max_param': 16.25979996, 'logistical/lr': 0.0006}\n",
      "{'logistical/obs_consumed_per_second': 196.5234375, 'logistical/obs_generated_per_second': 157.484375, 'logistical/data_consumption_ratio': 1.24834412, 'logistical/manual_train_pause': 0.0, 'trn_control_loss': 0.05719173, 'trn_headings_loss': 0.00296824, 'trn_curvatures_loss': 0.00697246, 'consistency losses/trn_steer_cost': 0.00894901, 'consistency losses/trn_te_loss': 22.63693786, 'consistency losses/trn_%_updates_w_torque_delta_loss': 1.0, 'consistency losses/trn_torque_loss': 4266.10630608, 'consistency losses/trn_torque_delta_loss': 32.37909668, 'logistical/max_param': 16.25677299, 'logistical/lr': 0.0006}\n",
      "{'logistical/obs_consumed_per_second': 197.8125, 'logistical/obs_generated_per_second': 162.203125, 'logistical/data_consumption_ratio': 1.21917303, 'logistical/manual_train_pause': 0.0, 'trn_control_loss': 0.05751622, 'trn_headings_loss': 0.00267197, 'trn_curvatures_loss': 0.0085578, 'consistency losses/trn_steer_cost': 0.01133385, 'consistency losses/trn_te_loss': 23.27164279, 'consistency losses/trn_%_updates_w_torque_delta_loss': 0.9921875, 'consistency losses/trn_torque_loss': 4119.16710281, 'consistency losses/trn_torque_delta_loss': 30.51453336, 'logistical/max_param': 16.26482391, 'logistical/lr': 0.0006}\n",
      "{'logistical/obs_consumed_per_second': 198.7421875, 'logistical/obs_generated_per_second': 168.65625, 'logistical/data_consumption_ratio': 1.17793576, 'logistical/manual_train_pause': 0.0, 'trn_control_loss': 0.04103601, 'trn_headings_loss': 0.00191674, 'trn_curvatures_loss': 0.00532427, 'consistency losses/trn_steer_cost': 0.00857332, 'consistency losses/trn_te_loss': 23.11807968, 'consistency losses/trn_%_updates_w_torque_delta_loss': 0.96875, 'consistency losses/trn_torque_loss': 4130.1412487, 'consistency losses/trn_torque_delta_loss': 30.54902342, 'logistical/max_param': 16.26497841, 'logistical/lr': 0.0006}\n",
      "{'logistical/obs_consumed_per_second': 197.4609375, 'logistical/obs_generated_per_second': 168.5078125, 'logistical/data_consumption_ratio': 1.17130504, 'logistical/manual_train_pause': 0.0, 'trn_control_loss': 0.04480106, 'trn_headings_loss': 0.00210861, 'trn_curvatures_loss': 0.00630827, 'consistency losses/trn_steer_cost': 0.00933686, 'consistency losses/trn_te_loss': 22.8144564, 'consistency losses/trn_%_updates_w_torque_delta_loss': 0.984375, 'consistency losses/trn_torque_loss': 4198.78321838, 'consistency losses/trn_torque_delta_loss': 28.9012436, 'logistical/max_param': 16.26180267, 'logistical/lr': 0.0006}\n",
      "{'logistical/obs_consumed_per_second': 201.9296875, 'logistical/obs_generated_per_second': 168.5546875, 'logistical/data_consumption_ratio': 1.19799966, 'logistical/manual_train_pause': 0.0, 'trn_control_loss': 0.06810713, 'trn_headings_loss': 0.00306837, 'trn_curvatures_loss': 0.00957534, 'consistency losses/trn_steer_cost': 0.01549891, 'consistency losses/trn_te_loss': 23.43730541, 'consistency losses/trn_%_updates_w_torque_delta_loss': 0.9765625, 'consistency losses/trn_torque_loss': 4052.94860077, 'consistency losses/trn_torque_delta_loss': 25.75501459, 'logistical/max_param': 16.26656342, 'logistical/lr': 0.0006}\n",
      "{'logistical/obs_consumed_per_second': 196.3203125, 'logistical/obs_generated_per_second': 168.9296875, 'logistical/data_consumption_ratio': 1.16196267, 'logistical/manual_train_pause': 0.0, 'trn_control_loss': 0.03838801, 'trn_headings_loss': 0.00168132, 'trn_curvatures_loss': 0.00398587, 'consistency losses/trn_steer_cost': 0.00825718, 'consistency losses/trn_te_loss': 22.88727148, 'consistency losses/trn_%_updates_w_torque_delta_loss': 0.984375, 'consistency losses/trn_torque_loss': 4069.9092617, 'consistency losses/trn_torque_delta_loss': 30.70289068, 'logistical/max_param': 16.27172279, 'logistical/lr': 0.0006}\n",
      "{'logistical/obs_consumed_per_second': 197.6171875, 'logistical/obs_generated_per_second': 168.6484375, 'logistical/data_consumption_ratio': 1.17179781, 'logistical/manual_train_pause': 0.0, 'trn_control_loss': 0.04540855, 'trn_headings_loss': 0.00236118, 'trn_curvatures_loss': 0.00715812, 'consistency losses/trn_steer_cost': 0.00949892, 'consistency losses/trn_te_loss': 23.99407242, 'consistency losses/trn_%_updates_w_torque_delta_loss': 0.9921875, 'consistency losses/trn_torque_loss': 4289.63595009, 'consistency losses/trn_torque_delta_loss': 30.85826244, 'logistical/max_param': 16.26818848, 'logistical/lr': 0.0006}\n",
      "{'logistical/obs_consumed_per_second': 197.734375, 'logistical/obs_generated_per_second': 168.78125, 'logistical/data_consumption_ratio': 1.17087416, 'logistical/manual_train_pause': 0.0, 'trn_control_loss': 0.03281629, 'trn_headings_loss': 0.00140753, 'trn_curvatures_loss': 0.00307363, 'consistency losses/trn_steer_cost': 0.00552474, 'consistency losses/trn_te_loss': 24.0330953, 'consistency losses/trn_%_updates_w_torque_delta_loss': 0.9921875, 'consistency losses/trn_torque_loss': 4350.32280827, 'consistency losses/trn_torque_delta_loss': 29.04840615, 'logistical/max_param': 16.26708221, 'logistical/lr': 0.0006}\n",
      "{'logistical/obs_consumed_per_second': 150.0, 'logistical/obs_generated_per_second': 169.0, 'logistical/data_consumption_ratio': 0.88437614, 'logistical/manual_train_pause': 0.0}\n",
      "\n",
      "\n",
      " Eval...\n",
      "EPOCH 20\n",
      "\n",
      "{'trn_control_loss': 0.0362817, 'trn_headings_loss': 0.00184545, 'trn_curvatures_loss': 0.00422755, 'consistency losses/trn_steer_cost': 0.00670351, 'consistency losses/trn_te_loss': 23.08604176, 'consistency losses/trn_%_updates_w_torque_delta_loss': 0.9609375, 'consistency losses/trn_torque_loss': 4580.15960312, 'consistency losses/trn_torque_delta_loss': 21.90734824, 'logistical/obs_consumed_per_second': 201.92125984, 'logistical/obs_generated_per_second': 164.77165354, 'logistical/data_consumption_ratio': 1.22599756, 'logistical/manual_train_pause': 0.0, 'logistical/max_param': 16.2644062, 'logistical/lr': 0.0006}\n",
      "{'logistical/obs_consumed_per_second': 201.1953125, 'logistical/obs_generated_per_second': 166.7890625, 'logistical/data_consumption_ratio': 1.20652167, 'logistical/manual_train_pause': 0.0, 'trn_control_loss': 0.03662354, 'trn_headings_loss': 0.00187814, 'trn_curvatures_loss': 0.00487383, 'consistency losses/trn_steer_cost': 0.0078879, 'consistency losses/trn_te_loss': 23.13387588, 'consistency losses/trn_%_updates_w_torque_delta_loss': 0.984375, 'consistency losses/trn_torque_loss': 4097.88884163, 'consistency losses/trn_torque_delta_loss': 23.43289967, 'logistical/max_param': 16.26714706, 'logistical/lr': 0.0006}\n",
      "{'logistical/obs_consumed_per_second': 192.0859375, 'logistical/obs_generated_per_second': 168.9375, 'logistical/data_consumption_ratio': 1.13696548, 'logistical/manual_train_pause': 0.0, 'trn_control_loss': 0.03491664, 'trn_headings_loss': 0.0015932, 'trn_curvatures_loss': 0.005129, 'consistency losses/trn_steer_cost': 0.00705212, 'consistency losses/trn_te_loss': 23.23614685, 'consistency losses/trn_%_updates_w_torque_delta_loss': 0.9765625, 'consistency losses/trn_torque_loss': 4232.12235832, 'consistency losses/trn_torque_delta_loss': 26.1482306, 'logistical/max_param': 16.27177238, 'logistical/lr': 0.0006}\n",
      "{'logistical/obs_consumed_per_second': 197.8828125, 'logistical/obs_generated_per_second': 169.5859375, 'logistical/data_consumption_ratio': 1.1678631, 'logistical/manual_train_pause': 0.0, 'trn_control_loss': 0.0343132, 'trn_headings_loss': 0.00151518, 'trn_curvatures_loss': 0.00399916, 'consistency losses/trn_steer_cost': 0.00682528, 'consistency losses/trn_te_loss': 23.57011078, 'consistency losses/trn_%_updates_w_torque_delta_loss': 0.984375, 'consistency losses/trn_torque_loss': 4185.02346802, 'consistency losses/trn_torque_delta_loss': 26.39444207, 'logistical/max_param': 16.26462746, 'logistical/lr': 0.0006}\n"
     ]
    },
    {
     "name": "stdout",
     "output_type": "stream",
     "text": [
      "{'logistical/obs_consumed_per_second': 197.7265625, 'logistical/obs_generated_per_second': 164.0859375, 'logistical/data_consumption_ratio': 1.20602745, 'logistical/manual_train_pause': 0.0, 'trn_control_loss': 0.03305894, 'trn_headings_loss': 0.00151282, 'trn_curvatures_loss': 0.00429921, 'consistency losses/trn_steer_cost': 0.00682135, 'consistency losses/trn_te_loss': 22.68192172, 'consistency losses/trn_%_updates_w_torque_delta_loss': 0.9765625, 'consistency losses/trn_torque_loss': 4228.08503342, 'consistency losses/trn_torque_delta_loss': 23.11069001, 'logistical/max_param': 16.26397705, 'logistical/lr': 0.0006}\n",
      "{'logistical/obs_consumed_per_second': 202.25, 'logistical/obs_generated_per_second': 166.8515625, 'logistical/data_consumption_ratio': 1.21276505, 'logistical/manual_train_pause': 0.0, 'trn_control_loss': 0.04042435, 'trn_headings_loss': 0.00198549, 'trn_curvatures_loss': 0.00568537, 'consistency losses/trn_steer_cost': 0.00866951, 'consistency losses/trn_te_loss': 21.99418204, 'consistency losses/trn_%_updates_w_torque_delta_loss': 0.96875, 'consistency losses/trn_torque_loss': 3877.72725868, 'consistency losses/trn_torque_delta_loss': 24.26456476, 'logistical/max_param': 16.26532936, 'logistical/lr': 0.0006}\n"
     ]
    }
   ],
   "source": [
    "n_epochs = 10000\n",
    "log_wandb = True\n",
    "\n",
    "for e in range(START_E, n_epochs):\n",
    "    \n",
    "    opt.param_groups[0]['lr'] = 6e-4 if e < 40 else 3e-4 if e < 80 else 1e-4\n",
    "\n",
    "    # Train\n",
    "    print(f\"EPOCH {e}\\n\")\n",
    "    run_epoch(dataloader_trn, m, opt=opt, scaler=scaler, \n",
    "              train=True, backwards=True, log_wandb=log_wandb, wandb=wandb, updates_per_epoch=1280)\n",
    "    \n",
    "    print(\"\\n\\n Eval...\")\n",
    "    \n",
    "    #eval_rw(rw_dataloader, m, wandb) # will log directly to wandb\n",
    "        \n",
    "    # Saving model checkpoint each epoch\n",
    "    torch.save(m.state_dict(), f\"{BESPOKE_ROOT}/models/m_{model_stem}_e{e}.torch\")\n",
    "    "
   ]
  },
  {
   "cell_type": "code",
   "execution_count": null,
   "metadata": {},
   "outputs": [],
   "source": []
  },
  {
   "cell_type": "code",
   "execution_count": 12,
   "metadata": {
    "scrolled": true
   },
   "outputs": [
    {
     "name": "stdout",
     "output_type": "stream",
     "text": [
      "Error in callback <function _WandbInit._resume_backend at 0x7fc994177ee0> (for pre_run_cell):\n"
     ]
    },
    {
     "ename": "Exception",
     "evalue": "The wandb backend process has shutdown",
     "output_type": "error",
     "traceback": [
      "\u001b[0;31m---------------------------------------------------------------------------\u001b[0m",
      "\u001b[0;31mException\u001b[0m                                 Traceback (most recent call last)",
      "\u001b[0;32m~/miniconda3/envs/py38/lib/python3.8/site-packages/backcall/backcall.py\u001b[0m in \u001b[0;36madapted\u001b[0;34m(*args, **kwargs)\u001b[0m\n\u001b[1;32m    102\u001b[0m                 \u001b[0mkwargs\u001b[0m\u001b[0;34m.\u001b[0m\u001b[0mpop\u001b[0m\u001b[0;34m(\u001b[0m\u001b[0mname\u001b[0m\u001b[0;34m)\u001b[0m\u001b[0;34m\u001b[0m\u001b[0;34m\u001b[0m\u001b[0m\n\u001b[1;32m    103\u001b[0m \u001b[0;31m#            print(args, kwargs, unmatched_pos, cut_positional, unmatched_kw)\u001b[0m\u001b[0;34m\u001b[0m\u001b[0;34m\u001b[0m\u001b[0;34m\u001b[0m\u001b[0m\n\u001b[0;32m--> 104\u001b[0;31m             \u001b[0;32mreturn\u001b[0m \u001b[0mcallback\u001b[0m\u001b[0;34m(\u001b[0m\u001b[0;34m*\u001b[0m\u001b[0margs\u001b[0m\u001b[0;34m,\u001b[0m \u001b[0;34m**\u001b[0m\u001b[0mkwargs\u001b[0m\u001b[0;34m)\u001b[0m\u001b[0;34m\u001b[0m\u001b[0;34m\u001b[0m\u001b[0m\n\u001b[0m\u001b[1;32m    105\u001b[0m \u001b[0;34m\u001b[0m\u001b[0m\n\u001b[1;32m    106\u001b[0m         \u001b[0;32mreturn\u001b[0m \u001b[0madapted\u001b[0m\u001b[0;34m\u001b[0m\u001b[0;34m\u001b[0m\u001b[0m\n",
      "\u001b[0;32m~/miniconda3/envs/py38/lib/python3.8/site-packages/wandb/sdk/wandb_init.py\u001b[0m in \u001b[0;36m_resume_backend\u001b[0;34m(self)\u001b[0m\n\u001b[1;32m    278\u001b[0m         \u001b[0;32mif\u001b[0m \u001b[0mself\u001b[0m\u001b[0;34m.\u001b[0m\u001b[0mbackend\u001b[0m \u001b[0;32mis\u001b[0m \u001b[0;32mnot\u001b[0m \u001b[0;32mNone\u001b[0m\u001b[0;34m:\u001b[0m\u001b[0;34m\u001b[0m\u001b[0;34m\u001b[0m\u001b[0m\n\u001b[1;32m    279\u001b[0m             \u001b[0mlogger\u001b[0m\u001b[0;34m.\u001b[0m\u001b[0minfo\u001b[0m\u001b[0;34m(\u001b[0m\u001b[0;34m\"resuming backend\"\u001b[0m\u001b[0;34m)\u001b[0m\u001b[0;34m\u001b[0m\u001b[0;34m\u001b[0m\u001b[0m\n\u001b[0;32m--> 280\u001b[0;31m             \u001b[0mself\u001b[0m\u001b[0;34m.\u001b[0m\u001b[0mbackend\u001b[0m\u001b[0;34m.\u001b[0m\u001b[0minterface\u001b[0m\u001b[0;34m.\u001b[0m\u001b[0mpublish_resume\u001b[0m\u001b[0;34m(\u001b[0m\u001b[0;34m)\u001b[0m\u001b[0;34m\u001b[0m\u001b[0;34m\u001b[0m\u001b[0m\n\u001b[0m\u001b[1;32m    281\u001b[0m \u001b[0;34m\u001b[0m\u001b[0m\n\u001b[1;32m    282\u001b[0m     \u001b[0;32mdef\u001b[0m \u001b[0m_jupyter_teardown\u001b[0m\u001b[0;34m(\u001b[0m\u001b[0mself\u001b[0m\u001b[0;34m)\u001b[0m\u001b[0;34m:\u001b[0m\u001b[0;34m\u001b[0m\u001b[0;34m\u001b[0m\u001b[0m\n",
      "\u001b[0;32m~/miniconda3/envs/py38/lib/python3.8/site-packages/wandb/sdk/interface/interface.py\u001b[0m in \u001b[0;36mpublish_resume\u001b[0;34m(self)\u001b[0m\n\u001b[1;32m    543\u001b[0m     \u001b[0;32mdef\u001b[0m \u001b[0mpublish_resume\u001b[0m\u001b[0;34m(\u001b[0m\u001b[0mself\u001b[0m\u001b[0;34m)\u001b[0m \u001b[0;34m->\u001b[0m \u001b[0;32mNone\u001b[0m\u001b[0;34m:\u001b[0m\u001b[0;34m\u001b[0m\u001b[0;34m\u001b[0m\u001b[0m\n\u001b[1;32m    544\u001b[0m         \u001b[0mresume\u001b[0m \u001b[0;34m=\u001b[0m \u001b[0mpb\u001b[0m\u001b[0;34m.\u001b[0m\u001b[0mResumeRequest\u001b[0m\u001b[0;34m(\u001b[0m\u001b[0;34m)\u001b[0m\u001b[0;34m\u001b[0m\u001b[0;34m\u001b[0m\u001b[0m\n\u001b[0;32m--> 545\u001b[0;31m         \u001b[0mself\u001b[0m\u001b[0;34m.\u001b[0m\u001b[0m_publish_resume\u001b[0m\u001b[0;34m(\u001b[0m\u001b[0mresume\u001b[0m\u001b[0;34m)\u001b[0m\u001b[0;34m\u001b[0m\u001b[0;34m\u001b[0m\u001b[0m\n\u001b[0m\u001b[1;32m    546\u001b[0m \u001b[0;34m\u001b[0m\u001b[0m\n\u001b[1;32m    547\u001b[0m     \u001b[0;34m@\u001b[0m\u001b[0mabstractmethod\u001b[0m\u001b[0;34m\u001b[0m\u001b[0;34m\u001b[0m\u001b[0m\n",
      "\u001b[0;32m~/miniconda3/envs/py38/lib/python3.8/site-packages/wandb/sdk/interface/interface_queue.py\u001b[0m in \u001b[0;36m_publish_resume\u001b[0;34m(self, resume)\u001b[0m\n\u001b[1;32m    287\u001b[0m     \u001b[0;32mdef\u001b[0m \u001b[0m_publish_resume\u001b[0m\u001b[0;34m(\u001b[0m\u001b[0mself\u001b[0m\u001b[0;34m,\u001b[0m \u001b[0mresume\u001b[0m\u001b[0;34m:\u001b[0m \u001b[0mpb\u001b[0m\u001b[0;34m.\u001b[0m\u001b[0mResumeRequest\u001b[0m\u001b[0;34m)\u001b[0m \u001b[0;34m->\u001b[0m \u001b[0;32mNone\u001b[0m\u001b[0;34m:\u001b[0m\u001b[0;34m\u001b[0m\u001b[0;34m\u001b[0m\u001b[0m\n\u001b[1;32m    288\u001b[0m         \u001b[0mrec\u001b[0m \u001b[0;34m=\u001b[0m \u001b[0mself\u001b[0m\u001b[0;34m.\u001b[0m\u001b[0m_make_request\u001b[0m\u001b[0;34m(\u001b[0m\u001b[0mresume\u001b[0m\u001b[0;34m=\u001b[0m\u001b[0mresume\u001b[0m\u001b[0;34m)\u001b[0m\u001b[0;34m\u001b[0m\u001b[0;34m\u001b[0m\u001b[0m\n\u001b[0;32m--> 289\u001b[0;31m         \u001b[0mself\u001b[0m\u001b[0;34m.\u001b[0m\u001b[0m_publish\u001b[0m\u001b[0;34m(\u001b[0m\u001b[0mrec\u001b[0m\u001b[0;34m)\u001b[0m\u001b[0;34m\u001b[0m\u001b[0;34m\u001b[0m\u001b[0m\n\u001b[0m\u001b[1;32m    290\u001b[0m \u001b[0;34m\u001b[0m\u001b[0m\n\u001b[1;32m    291\u001b[0m     \u001b[0;32mdef\u001b[0m \u001b[0m_publish_run\u001b[0m\u001b[0;34m(\u001b[0m\u001b[0mself\u001b[0m\u001b[0;34m,\u001b[0m \u001b[0mrun\u001b[0m\u001b[0;34m:\u001b[0m \u001b[0mpb\u001b[0m\u001b[0;34m.\u001b[0m\u001b[0mRunRecord\u001b[0m\u001b[0;34m)\u001b[0m \u001b[0;34m->\u001b[0m \u001b[0;32mNone\u001b[0m\u001b[0;34m:\u001b[0m\u001b[0;34m\u001b[0m\u001b[0;34m\u001b[0m\u001b[0m\n",
      "\u001b[0;32m~/miniconda3/envs/py38/lib/python3.8/site-packages/wandb/sdk/interface/interface_queue.py\u001b[0m in \u001b[0;36m_publish\u001b[0;34m(self, record, local)\u001b[0m\n\u001b[1;32m    221\u001b[0m     \u001b[0;32mdef\u001b[0m \u001b[0m_publish\u001b[0m\u001b[0;34m(\u001b[0m\u001b[0mself\u001b[0m\u001b[0;34m,\u001b[0m \u001b[0mrecord\u001b[0m\u001b[0;34m:\u001b[0m \u001b[0mpb\u001b[0m\u001b[0;34m.\u001b[0m\u001b[0mRecord\u001b[0m\u001b[0;34m,\u001b[0m \u001b[0mlocal\u001b[0m\u001b[0;34m:\u001b[0m \u001b[0mbool\u001b[0m \u001b[0;34m=\u001b[0m \u001b[0;32mNone\u001b[0m\u001b[0;34m)\u001b[0m \u001b[0;34m->\u001b[0m \u001b[0;32mNone\u001b[0m\u001b[0;34m:\u001b[0m\u001b[0;34m\u001b[0m\u001b[0;34m\u001b[0m\u001b[0m\n\u001b[1;32m    222\u001b[0m         \u001b[0;32mif\u001b[0m \u001b[0mself\u001b[0m\u001b[0;34m.\u001b[0m\u001b[0m_process_check\u001b[0m \u001b[0;32mand\u001b[0m \u001b[0mself\u001b[0m\u001b[0;34m.\u001b[0m\u001b[0m_process\u001b[0m \u001b[0;32mand\u001b[0m \u001b[0;32mnot\u001b[0m \u001b[0mself\u001b[0m\u001b[0;34m.\u001b[0m\u001b[0m_process\u001b[0m\u001b[0;34m.\u001b[0m\u001b[0mis_alive\u001b[0m\u001b[0;34m(\u001b[0m\u001b[0;34m)\u001b[0m\u001b[0;34m:\u001b[0m\u001b[0;34m\u001b[0m\u001b[0;34m\u001b[0m\u001b[0m\n\u001b[0;32m--> 223\u001b[0;31m             \u001b[0;32mraise\u001b[0m \u001b[0mException\u001b[0m\u001b[0;34m(\u001b[0m\u001b[0;34m\"The wandb backend process has shutdown\"\u001b[0m\u001b[0;34m)\u001b[0m\u001b[0;34m\u001b[0m\u001b[0;34m\u001b[0m\u001b[0m\n\u001b[0m\u001b[1;32m    224\u001b[0m         \u001b[0;32mif\u001b[0m \u001b[0mlocal\u001b[0m\u001b[0;34m:\u001b[0m\u001b[0;34m\u001b[0m\u001b[0;34m\u001b[0m\u001b[0m\n\u001b[1;32m    225\u001b[0m             \u001b[0mrecord\u001b[0m\u001b[0;34m.\u001b[0m\u001b[0mcontrol\u001b[0m\u001b[0;34m.\u001b[0m\u001b[0mlocal\u001b[0m \u001b[0;34m=\u001b[0m \u001b[0mlocal\u001b[0m\u001b[0;34m\u001b[0m\u001b[0;34m\u001b[0m\u001b[0m\n",
      "\u001b[0;31mException\u001b[0m: The wandb backend process has shutdown"
     ]
    },
    {
     "name": "stdout",
     "output_type": "stream",
     "text": [
      "Error in callback <function _WandbInit._pause_backend at 0x7fc95a4540d0> (for post_run_cell):\n"
     ]
    },
    {
     "ename": "Exception",
     "evalue": "The wandb backend process has shutdown",
     "output_type": "error",
     "traceback": [
      "\u001b[0;31m---------------------------------------------------------------------------\u001b[0m",
      "\u001b[0;31mException\u001b[0m                                 Traceback (most recent call last)",
      "\u001b[0;32m~/miniconda3/envs/py38/lib/python3.8/site-packages/backcall/backcall.py\u001b[0m in \u001b[0;36madapted\u001b[0;34m(*args, **kwargs)\u001b[0m\n\u001b[1;32m    102\u001b[0m                 \u001b[0mkwargs\u001b[0m\u001b[0;34m.\u001b[0m\u001b[0mpop\u001b[0m\u001b[0;34m(\u001b[0m\u001b[0mname\u001b[0m\u001b[0;34m)\u001b[0m\u001b[0;34m\u001b[0m\u001b[0;34m\u001b[0m\u001b[0m\n\u001b[1;32m    103\u001b[0m \u001b[0;31m#            print(args, kwargs, unmatched_pos, cut_positional, unmatched_kw)\u001b[0m\u001b[0;34m\u001b[0m\u001b[0;34m\u001b[0m\u001b[0;34m\u001b[0m\u001b[0m\n\u001b[0;32m--> 104\u001b[0;31m             \u001b[0;32mreturn\u001b[0m \u001b[0mcallback\u001b[0m\u001b[0;34m(\u001b[0m\u001b[0;34m*\u001b[0m\u001b[0margs\u001b[0m\u001b[0;34m,\u001b[0m \u001b[0;34m**\u001b[0m\u001b[0mkwargs\u001b[0m\u001b[0;34m)\u001b[0m\u001b[0;34m\u001b[0m\u001b[0;34m\u001b[0m\u001b[0m\n\u001b[0m\u001b[1;32m    105\u001b[0m \u001b[0;34m\u001b[0m\u001b[0m\n\u001b[1;32m    106\u001b[0m         \u001b[0;32mreturn\u001b[0m \u001b[0madapted\u001b[0m\u001b[0;34m\u001b[0m\u001b[0;34m\u001b[0m\u001b[0m\n",
      "\u001b[0;32m~/miniconda3/envs/py38/lib/python3.8/site-packages/wandb/sdk/wandb_init.py\u001b[0m in \u001b[0;36m_pause_backend\u001b[0;34m(self)\u001b[0m\n\u001b[1;32m    273\u001b[0m                 \u001b[0mres\u001b[0m \u001b[0;34m=\u001b[0m \u001b[0mself\u001b[0m\u001b[0;34m.\u001b[0m\u001b[0mrun\u001b[0m\u001b[0;34m.\u001b[0m\u001b[0mlog_code\u001b[0m\u001b[0;34m(\u001b[0m\u001b[0mroot\u001b[0m\u001b[0;34m=\u001b[0m\u001b[0;32mNone\u001b[0m\u001b[0;34m)\u001b[0m\u001b[0;34m\u001b[0m\u001b[0;34m\u001b[0m\u001b[0m\n\u001b[1;32m    274\u001b[0m                 \u001b[0mlogger\u001b[0m\u001b[0;34m.\u001b[0m\u001b[0minfo\u001b[0m\u001b[0;34m(\u001b[0m\u001b[0;34m\"saved code: %s\"\u001b[0m\u001b[0;34m,\u001b[0m \u001b[0mres\u001b[0m\u001b[0;34m)\u001b[0m\u001b[0;34m\u001b[0m\u001b[0;34m\u001b[0m\u001b[0m\n\u001b[0;32m--> 275\u001b[0;31m             \u001b[0mself\u001b[0m\u001b[0;34m.\u001b[0m\u001b[0mbackend\u001b[0m\u001b[0;34m.\u001b[0m\u001b[0minterface\u001b[0m\u001b[0;34m.\u001b[0m\u001b[0mpublish_pause\u001b[0m\u001b[0;34m(\u001b[0m\u001b[0;34m)\u001b[0m\u001b[0;34m\u001b[0m\u001b[0;34m\u001b[0m\u001b[0m\n\u001b[0m\u001b[1;32m    276\u001b[0m \u001b[0;34m\u001b[0m\u001b[0m\n\u001b[1;32m    277\u001b[0m     \u001b[0;32mdef\u001b[0m \u001b[0m_resume_backend\u001b[0m\u001b[0;34m(\u001b[0m\u001b[0mself\u001b[0m\u001b[0;34m)\u001b[0m\u001b[0;34m:\u001b[0m\u001b[0;34m\u001b[0m\u001b[0;34m\u001b[0m\u001b[0m\n",
      "\u001b[0;32m~/miniconda3/envs/py38/lib/python3.8/site-packages/wandb/sdk/interface/interface.py\u001b[0m in \u001b[0;36mpublish_pause\u001b[0;34m(self)\u001b[0m\n\u001b[1;32m    535\u001b[0m     \u001b[0;32mdef\u001b[0m \u001b[0mpublish_pause\u001b[0m\u001b[0;34m(\u001b[0m\u001b[0mself\u001b[0m\u001b[0;34m)\u001b[0m \u001b[0;34m->\u001b[0m \u001b[0;32mNone\u001b[0m\u001b[0;34m:\u001b[0m\u001b[0;34m\u001b[0m\u001b[0;34m\u001b[0m\u001b[0m\n\u001b[1;32m    536\u001b[0m         \u001b[0mpause\u001b[0m \u001b[0;34m=\u001b[0m \u001b[0mpb\u001b[0m\u001b[0;34m.\u001b[0m\u001b[0mPauseRequest\u001b[0m\u001b[0;34m(\u001b[0m\u001b[0;34m)\u001b[0m\u001b[0;34m\u001b[0m\u001b[0;34m\u001b[0m\u001b[0m\n\u001b[0;32m--> 537\u001b[0;31m         \u001b[0mself\u001b[0m\u001b[0;34m.\u001b[0m\u001b[0m_publish_pause\u001b[0m\u001b[0;34m(\u001b[0m\u001b[0mpause\u001b[0m\u001b[0;34m)\u001b[0m\u001b[0;34m\u001b[0m\u001b[0;34m\u001b[0m\u001b[0m\n\u001b[0m\u001b[1;32m    538\u001b[0m \u001b[0;34m\u001b[0m\u001b[0m\n\u001b[1;32m    539\u001b[0m     \u001b[0;34m@\u001b[0m\u001b[0mabstractmethod\u001b[0m\u001b[0;34m\u001b[0m\u001b[0;34m\u001b[0m\u001b[0m\n",
      "\u001b[0;32m~/miniconda3/envs/py38/lib/python3.8/site-packages/wandb/sdk/interface/interface_queue.py\u001b[0m in \u001b[0;36m_publish_pause\u001b[0;34m(self, pause)\u001b[0m\n\u001b[1;32m    283\u001b[0m     \u001b[0;32mdef\u001b[0m \u001b[0m_publish_pause\u001b[0m\u001b[0;34m(\u001b[0m\u001b[0mself\u001b[0m\u001b[0;34m,\u001b[0m \u001b[0mpause\u001b[0m\u001b[0;34m:\u001b[0m \u001b[0mpb\u001b[0m\u001b[0;34m.\u001b[0m\u001b[0mPauseRequest\u001b[0m\u001b[0;34m)\u001b[0m \u001b[0;34m->\u001b[0m \u001b[0;32mNone\u001b[0m\u001b[0;34m:\u001b[0m\u001b[0;34m\u001b[0m\u001b[0;34m\u001b[0m\u001b[0m\n\u001b[1;32m    284\u001b[0m         \u001b[0mrec\u001b[0m \u001b[0;34m=\u001b[0m \u001b[0mself\u001b[0m\u001b[0;34m.\u001b[0m\u001b[0m_make_request\u001b[0m\u001b[0;34m(\u001b[0m\u001b[0mpause\u001b[0m\u001b[0;34m=\u001b[0m\u001b[0mpause\u001b[0m\u001b[0;34m)\u001b[0m\u001b[0;34m\u001b[0m\u001b[0;34m\u001b[0m\u001b[0m\n\u001b[0;32m--> 285\u001b[0;31m         \u001b[0mself\u001b[0m\u001b[0;34m.\u001b[0m\u001b[0m_publish\u001b[0m\u001b[0;34m(\u001b[0m\u001b[0mrec\u001b[0m\u001b[0;34m)\u001b[0m\u001b[0;34m\u001b[0m\u001b[0;34m\u001b[0m\u001b[0m\n\u001b[0m\u001b[1;32m    286\u001b[0m \u001b[0;34m\u001b[0m\u001b[0m\n\u001b[1;32m    287\u001b[0m     \u001b[0;32mdef\u001b[0m \u001b[0m_publish_resume\u001b[0m\u001b[0;34m(\u001b[0m\u001b[0mself\u001b[0m\u001b[0;34m,\u001b[0m \u001b[0mresume\u001b[0m\u001b[0;34m:\u001b[0m \u001b[0mpb\u001b[0m\u001b[0;34m.\u001b[0m\u001b[0mResumeRequest\u001b[0m\u001b[0;34m)\u001b[0m \u001b[0;34m->\u001b[0m \u001b[0;32mNone\u001b[0m\u001b[0;34m:\u001b[0m\u001b[0;34m\u001b[0m\u001b[0;34m\u001b[0m\u001b[0m\n",
      "\u001b[0;32m~/miniconda3/envs/py38/lib/python3.8/site-packages/wandb/sdk/interface/interface_queue.py\u001b[0m in \u001b[0;36m_publish\u001b[0;34m(self, record, local)\u001b[0m\n\u001b[1;32m    221\u001b[0m     \u001b[0;32mdef\u001b[0m \u001b[0m_publish\u001b[0m\u001b[0;34m(\u001b[0m\u001b[0mself\u001b[0m\u001b[0;34m,\u001b[0m \u001b[0mrecord\u001b[0m\u001b[0;34m:\u001b[0m \u001b[0mpb\u001b[0m\u001b[0;34m.\u001b[0m\u001b[0mRecord\u001b[0m\u001b[0;34m,\u001b[0m \u001b[0mlocal\u001b[0m\u001b[0;34m:\u001b[0m \u001b[0mbool\u001b[0m \u001b[0;34m=\u001b[0m \u001b[0;32mNone\u001b[0m\u001b[0;34m)\u001b[0m \u001b[0;34m->\u001b[0m \u001b[0;32mNone\u001b[0m\u001b[0;34m:\u001b[0m\u001b[0;34m\u001b[0m\u001b[0;34m\u001b[0m\u001b[0m\n\u001b[1;32m    222\u001b[0m         \u001b[0;32mif\u001b[0m \u001b[0mself\u001b[0m\u001b[0;34m.\u001b[0m\u001b[0m_process_check\u001b[0m \u001b[0;32mand\u001b[0m \u001b[0mself\u001b[0m\u001b[0;34m.\u001b[0m\u001b[0m_process\u001b[0m \u001b[0;32mand\u001b[0m \u001b[0;32mnot\u001b[0m \u001b[0mself\u001b[0m\u001b[0;34m.\u001b[0m\u001b[0m_process\u001b[0m\u001b[0;34m.\u001b[0m\u001b[0mis_alive\u001b[0m\u001b[0;34m(\u001b[0m\u001b[0;34m)\u001b[0m\u001b[0;34m:\u001b[0m\u001b[0;34m\u001b[0m\u001b[0;34m\u001b[0m\u001b[0m\n\u001b[0;32m--> 223\u001b[0;31m             \u001b[0;32mraise\u001b[0m \u001b[0mException\u001b[0m\u001b[0;34m(\u001b[0m\u001b[0;34m\"The wandb backend process has shutdown\"\u001b[0m\u001b[0;34m)\u001b[0m\u001b[0;34m\u001b[0m\u001b[0;34m\u001b[0m\u001b[0m\n\u001b[0m\u001b[1;32m    224\u001b[0m         \u001b[0;32mif\u001b[0m \u001b[0mlocal\u001b[0m\u001b[0;34m:\u001b[0m\u001b[0;34m\u001b[0m\u001b[0;34m\u001b[0m\u001b[0m\n\u001b[1;32m    225\u001b[0m             \u001b[0mrecord\u001b[0m\u001b[0;34m.\u001b[0m\u001b[0mcontrol\u001b[0m\u001b[0;34m.\u001b[0m\u001b[0mlocal\u001b[0m \u001b[0;34m=\u001b[0m \u001b[0mlocal\u001b[0m\u001b[0;34m\u001b[0m\u001b[0;34m\u001b[0m\u001b[0m\n",
      "\u001b[0;31mException\u001b[0m: The wandb backend process has shutdown"
     ]
    }
   ],
   "source": [
    "torch.save(m.state_dict(), f\"{BESPOKE_ROOT}/models/m_{model_stem}_e58.torch\")"
   ]
  },
  {
   "cell_type": "code",
   "execution_count": null,
   "metadata": {},
   "outputs": [],
   "source": []
  },
  {
   "cell_type": "code",
   "execution_count": 3,
   "metadata": {
    "scrolled": true
   },
   "outputs": [],
   "source": [
    "set_should_stop(True)"
   ]
  },
  {
   "cell_type": "code",
   "execution_count": null,
   "metadata": {},
   "outputs": [],
   "source": []
  },
  {
   "cell_type": "code",
   "execution_count": 10,
   "metadata": {
    "scrolled": true
   },
   "outputs": [
    {
     "name": "stderr",
     "output_type": "stream",
     "text": [
      "/home/beans/miniconda3/envs/py38/lib/python3.8/site-packages/torch/utils/checkpoint.py:25: UserWarning: None of the inputs have requires_grad=True. Gradients will be None\n",
      "  warnings.warn(\"None of the inputs have requires_grad=True. Gradients will be None\")\n"
     ]
    },
    {
     "name": "stdout",
     "output_type": "stream",
     "text": [
      "CPU times: user 14.3 s, sys: 417 ms, total: 14.7 s\n",
      "Wall time: 14 s\n"
     ]
    }
   ],
   "source": [
    "%%time\n",
    "\n",
    "eval_rw(rw_dataloader, m, wandb) # will log directly to wandb"
   ]
  },
  {
   "cell_type": "code",
   "execution_count": null,
   "metadata": {},
   "outputs": [],
   "source": []
  },
  {
   "cell_type": "code",
   "execution_count": null,
   "metadata": {},
   "outputs": [],
   "source": []
  }
 ],
 "metadata": {
  "kernelspec": {
   "display_name": "Python 3 (ipykernel)",
   "language": "python",
   "name": "python3"
  },
  "language_info": {
   "codemirror_mode": {
    "name": "ipython",
    "version": 3
   },
   "file_extension": ".py",
   "mimetype": "text/x-python",
   "name": "python",
   "nbconvert_exporter": "python",
   "pygments_lexer": "ipython3",
   "version": "3.8.11"
  }
 },
 "nbformat": 4,
 "nbformat_minor": 4
}
