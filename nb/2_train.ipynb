{
 "cells": [
  {
   "cell_type": "code",
   "execution_count": 1,
   "metadata": {
    "scrolled": true
   },
   "outputs": [
    {
     "name": "stderr",
     "output_type": "stream",
     "text": [
      "/home/beans/miniconda3/envs/py38/lib/python3.8/site-packages/albumentations/augmentations/transforms.py:689: FutureWarning: This class has been deprecated. Please use CoarseDropout\n",
      "  warnings.warn(\n",
      "/home/beans/miniconda3/envs/py38/lib/python3.8/site-packages/albumentations/augmentations/transforms.py:965: FutureWarning: This class has been deprecated. Please use ImageCompression\n",
      "  warnings.warn(\n"
     ]
    },
    {
     "data": {
      "text/plain": [
       "('1.10.0', 2, 'NVIDIA GeForce RTX 3090')"
      ]
     },
     "execution_count": 1,
     "metadata": {},
     "output_type": "execute_result"
    }
   ],
   "source": [
    "%matplotlib inline\n",
    "%load_ext autoreload\n",
    "%autoreload 2\n",
    "\n",
    "import sys\n",
    "sys.path.append(f'/media/beans/ssd/bespoke')\n",
    "\n",
    "from models import EffNet\n",
    "from constants import *\n",
    "from imports import *\n",
    "from rw_dataloader import RealWorldDataloader\n",
    "from blender_dataloader import BlenderDataloader\n",
    "from train_utils import run_epoch, eval_rw\n",
    "\n",
    "torch.__version__, torch.cuda.device_count(), torch.cuda.get_device_name(torch.cuda.current_device())"
   ]
  },
  {
   "cell_type": "code",
   "execution_count": 2,
   "metadata": {},
   "outputs": [
    {
     "data": {
      "text/plain": [
       "'8oeshbfn'"
      ]
     },
     "execution_count": 2,
     "metadata": {},
     "output_type": "execute_result"
    }
   ],
   "source": [
    "import wandb\n",
    "run_id = wandb.util.generate_id(); run_id"
   ]
  },
  {
   "cell_type": "code",
   "execution_count": 3,
   "metadata": {
    "scrolled": true
   },
   "outputs": [
    {
     "name": "stderr",
     "output_type": "stream",
     "text": [
      "\u001b[34m\u001b[1mwandb\u001b[0m: Currently logged in as: \u001b[33mrgilman33\u001b[0m (use `wandb login --relogin` to force relogin)\n",
      "\u001b[34m\u001b[1mwandb\u001b[0m: wandb version 0.12.18 is available!  To upgrade, please run:\n",
      "\u001b[34m\u001b[1mwandb\u001b[0m:  $ pip install wandb --upgrade\n"
     ]
    },
    {
     "data": {
      "text/html": [
       "\n",
       "                    Resuming run <strong><a href=\"https://wandb.ai/rgilman33/carla/runs/1h7dizrn\" target=\"_blank\">dainty-plant-304</a></strong> to <a href=\"https://wandb.ai/rgilman33/carla\" target=\"_blank\">Weights & Biases</a> (<a href=\"https://docs.wandb.com/integrations/jupyter.html\" target=\"_blank\">docs</a>).<br/>\n",
       "\n",
       "                "
      ],
      "text/plain": [
       "<IPython.core.display.HTML object>"
      ]
     },
     "metadata": {},
     "output_type": "display_data"
    },
    {
     "data": {
      "text/html": [
       "<button onClick=\"this.nextSibling.style.display='block';this.style.display='none';\">Display W&B run</button><iframe src=\"https://wandb.ai/rgilman33/carla/runs/1h7dizrn?jupyter=true\" style=\"border:none;width:100%;height:420px;display:none;\"></iframe>"
      ],
      "text/plain": [
       "<wandb.sdk.wandb_run.Run at 0x7fd868079400>"
      ]
     },
     "execution_count": 3,
     "metadata": {},
     "output_type": "execute_result"
    }
   ],
   "source": [
    "wandb.init(id='1h7dizrn', project=\"carla\", resume=\"allow\")"
   ]
  },
  {
   "cell_type": "code",
   "execution_count": 4,
   "metadata": {
    "scrolled": true
   },
   "outputs": [
    {
     "data": {
      "text/plain": [
       "13332.809"
      ]
     },
     "execution_count": 4,
     "metadata": {},
     "output_type": "execute_result"
    }
   ],
   "source": [
    "m = EffNet(model_arch=\"efficientnet_b3\").to(device) # 13M params, 11.6M without RNN, \n",
    "sum([torch.numel(p) for p in m.parameters()]) / 1000"
   ]
  },
  {
   "cell_type": "code",
   "execution_count": 5,
   "metadata": {},
   "outputs": [
    {
     "data": {
      "text/plain": [
       "EfficientNet(\n",
       "  (conv_stem): Conv2d(3, 40, kernel_size=(3, 3), stride=(2, 2), padding=(1, 1), bias=False)\n",
       "  (bn1): BatchNorm2d(40, eps=1e-05, momentum=0.1, affine=True, track_running_stats=True)\n",
       "  (act1): SiLU(inplace=True)\n",
       "  (blocks): Sequential(\n",
       "    (0): Sequential(\n",
       "      (0): DepthwiseSeparableConv(\n",
       "        (conv_dw): Conv2d(40, 40, kernel_size=(3, 3), stride=(1, 1), padding=(1, 1), groups=40, bias=False)\n",
       "        (bn1): BatchNorm2d(40, eps=1e-05, momentum=0.1, affine=True, track_running_stats=True)\n",
       "        (act1): SiLU(inplace=True)\n",
       "        (se): SqueezeExcite(\n",
       "          (conv_reduce): Conv2d(40, 10, kernel_size=(1, 1), stride=(1, 1))\n",
       "          (act1): SiLU(inplace=True)\n",
       "          (conv_expand): Conv2d(10, 40, kernel_size=(1, 1), stride=(1, 1))\n",
       "          (gate): Sigmoid()\n",
       "        )\n",
       "        (conv_pw): Conv2d(40, 24, kernel_size=(1, 1), stride=(1, 1), bias=False)\n",
       "        (bn2): BatchNorm2d(24, eps=1e-05, momentum=0.1, affine=True, track_running_stats=True)\n",
       "        (act2): Identity()\n",
       "      )\n",
       "      (1): DepthwiseSeparableConv(\n",
       "        (conv_dw): Conv2d(24, 24, kernel_size=(3, 3), stride=(1, 1), padding=(1, 1), groups=24, bias=False)\n",
       "        (bn1): BatchNorm2d(24, eps=1e-05, momentum=0.1, affine=True, track_running_stats=True)\n",
       "        (act1): SiLU(inplace=True)\n",
       "        (se): SqueezeExcite(\n",
       "          (conv_reduce): Conv2d(24, 6, kernel_size=(1, 1), stride=(1, 1))\n",
       "          (act1): SiLU(inplace=True)\n",
       "          (conv_expand): Conv2d(6, 24, kernel_size=(1, 1), stride=(1, 1))\n",
       "          (gate): Sigmoid()\n",
       "        )\n",
       "        (conv_pw): Conv2d(24, 24, kernel_size=(1, 1), stride=(1, 1), bias=False)\n",
       "        (bn2): BatchNorm2d(24, eps=1e-05, momentum=0.1, affine=True, track_running_stats=True)\n",
       "        (act2): Identity()\n",
       "      )\n",
       "    )\n",
       "    (1): Sequential(\n",
       "      (0): InvertedResidual(\n",
       "        (conv_pw): Conv2d(24, 144, kernel_size=(1, 1), stride=(1, 1), bias=False)\n",
       "        (bn1): BatchNorm2d(144, eps=1e-05, momentum=0.1, affine=True, track_running_stats=True)\n",
       "        (act1): SiLU(inplace=True)\n",
       "        (conv_dw): Conv2d(144, 144, kernel_size=(3, 3), stride=(2, 2), padding=(1, 1), groups=144, bias=False)\n",
       "        (bn2): BatchNorm2d(144, eps=1e-05, momentum=0.1, affine=True, track_running_stats=True)\n",
       "        (act2): SiLU(inplace=True)\n",
       "        (se): SqueezeExcite(\n",
       "          (conv_reduce): Conv2d(144, 6, kernel_size=(1, 1), stride=(1, 1))\n",
       "          (act1): SiLU(inplace=True)\n",
       "          (conv_expand): Conv2d(6, 144, kernel_size=(1, 1), stride=(1, 1))\n",
       "          (gate): Sigmoid()\n",
       "        )\n",
       "        (conv_pwl): Conv2d(144, 32, kernel_size=(1, 1), stride=(1, 1), bias=False)\n",
       "        (bn3): BatchNorm2d(32, eps=1e-05, momentum=0.1, affine=True, track_running_stats=True)\n",
       "      )\n",
       "      (1): InvertedResidual(\n",
       "        (conv_pw): Conv2d(32, 192, kernel_size=(1, 1), stride=(1, 1), bias=False)\n",
       "        (bn1): BatchNorm2d(192, eps=1e-05, momentum=0.1, affine=True, track_running_stats=True)\n",
       "        (act1): SiLU(inplace=True)\n",
       "        (conv_dw): Conv2d(192, 192, kernel_size=(3, 3), stride=(1, 1), padding=(1, 1), groups=192, bias=False)\n",
       "        (bn2): BatchNorm2d(192, eps=1e-05, momentum=0.1, affine=True, track_running_stats=True)\n",
       "        (act2): SiLU(inplace=True)\n",
       "        (se): SqueezeExcite(\n",
       "          (conv_reduce): Conv2d(192, 8, kernel_size=(1, 1), stride=(1, 1))\n",
       "          (act1): SiLU(inplace=True)\n",
       "          (conv_expand): Conv2d(8, 192, kernel_size=(1, 1), stride=(1, 1))\n",
       "          (gate): Sigmoid()\n",
       "        )\n",
       "        (conv_pwl): Conv2d(192, 32, kernel_size=(1, 1), stride=(1, 1), bias=False)\n",
       "        (bn3): BatchNorm2d(32, eps=1e-05, momentum=0.1, affine=True, track_running_stats=True)\n",
       "      )\n",
       "      (2): InvertedResidual(\n",
       "        (conv_pw): Conv2d(32, 192, kernel_size=(1, 1), stride=(1, 1), bias=False)\n",
       "        (bn1): BatchNorm2d(192, eps=1e-05, momentum=0.1, affine=True, track_running_stats=True)\n",
       "        (act1): SiLU(inplace=True)\n",
       "        (conv_dw): Conv2d(192, 192, kernel_size=(3, 3), stride=(1, 1), padding=(1, 1), groups=192, bias=False)\n",
       "        (bn2): BatchNorm2d(192, eps=1e-05, momentum=0.1, affine=True, track_running_stats=True)\n",
       "        (act2): SiLU(inplace=True)\n",
       "        (se): SqueezeExcite(\n",
       "          (conv_reduce): Conv2d(192, 8, kernel_size=(1, 1), stride=(1, 1))\n",
       "          (act1): SiLU(inplace=True)\n",
       "          (conv_expand): Conv2d(8, 192, kernel_size=(1, 1), stride=(1, 1))\n",
       "          (gate): Sigmoid()\n",
       "        )\n",
       "        (conv_pwl): Conv2d(192, 32, kernel_size=(1, 1), stride=(1, 1), bias=False)\n",
       "        (bn3): BatchNorm2d(32, eps=1e-05, momentum=0.1, affine=True, track_running_stats=True)\n",
       "      )\n",
       "    )\n",
       "    (2): Sequential(\n",
       "      (0): InvertedResidual(\n",
       "        (conv_pw): Conv2d(32, 192, kernel_size=(1, 1), stride=(1, 1), bias=False)\n",
       "        (bn1): BatchNorm2d(192, eps=1e-05, momentum=0.1, affine=True, track_running_stats=True)\n",
       "        (act1): SiLU(inplace=True)\n",
       "        (conv_dw): Conv2d(192, 192, kernel_size=(5, 5), stride=(2, 2), padding=(2, 2), groups=192, bias=False)\n",
       "        (bn2): BatchNorm2d(192, eps=1e-05, momentum=0.1, affine=True, track_running_stats=True)\n",
       "        (act2): SiLU(inplace=True)\n",
       "        (se): SqueezeExcite(\n",
       "          (conv_reduce): Conv2d(192, 8, kernel_size=(1, 1), stride=(1, 1))\n",
       "          (act1): SiLU(inplace=True)\n",
       "          (conv_expand): Conv2d(8, 192, kernel_size=(1, 1), stride=(1, 1))\n",
       "          (gate): Sigmoid()\n",
       "        )\n",
       "        (conv_pwl): Conv2d(192, 48, kernel_size=(1, 1), stride=(1, 1), bias=False)\n",
       "        (bn3): BatchNorm2d(48, eps=1e-05, momentum=0.1, affine=True, track_running_stats=True)\n",
       "      )\n",
       "      (1): InvertedResidual(\n",
       "        (conv_pw): Conv2d(48, 288, kernel_size=(1, 1), stride=(1, 1), bias=False)\n",
       "        (bn1): BatchNorm2d(288, eps=1e-05, momentum=0.1, affine=True, track_running_stats=True)\n",
       "        (act1): SiLU(inplace=True)\n",
       "        (conv_dw): Conv2d(288, 288, kernel_size=(5, 5), stride=(1, 1), padding=(2, 2), groups=288, bias=False)\n",
       "        (bn2): BatchNorm2d(288, eps=1e-05, momentum=0.1, affine=True, track_running_stats=True)\n",
       "        (act2): SiLU(inplace=True)\n",
       "        (se): SqueezeExcite(\n",
       "          (conv_reduce): Conv2d(288, 12, kernel_size=(1, 1), stride=(1, 1))\n",
       "          (act1): SiLU(inplace=True)\n",
       "          (conv_expand): Conv2d(12, 288, kernel_size=(1, 1), stride=(1, 1))\n",
       "          (gate): Sigmoid()\n",
       "        )\n",
       "        (conv_pwl): Conv2d(288, 48, kernel_size=(1, 1), stride=(1, 1), bias=False)\n",
       "        (bn3): BatchNorm2d(48, eps=1e-05, momentum=0.1, affine=True, track_running_stats=True)\n",
       "      )\n",
       "      (2): InvertedResidual(\n",
       "        (conv_pw): Conv2d(48, 288, kernel_size=(1, 1), stride=(1, 1), bias=False)\n",
       "        (bn1): BatchNorm2d(288, eps=1e-05, momentum=0.1, affine=True, track_running_stats=True)\n",
       "        (act1): SiLU(inplace=True)\n",
       "        (conv_dw): Conv2d(288, 288, kernel_size=(5, 5), stride=(1, 1), padding=(2, 2), groups=288, bias=False)\n",
       "        (bn2): BatchNorm2d(288, eps=1e-05, momentum=0.1, affine=True, track_running_stats=True)\n",
       "        (act2): SiLU(inplace=True)\n",
       "        (se): SqueezeExcite(\n",
       "          (conv_reduce): Conv2d(288, 12, kernel_size=(1, 1), stride=(1, 1))\n",
       "          (act1): SiLU(inplace=True)\n",
       "          (conv_expand): Conv2d(12, 288, kernel_size=(1, 1), stride=(1, 1))\n",
       "          (gate): Sigmoid()\n",
       "        )\n",
       "        (conv_pwl): Conv2d(288, 48, kernel_size=(1, 1), stride=(1, 1), bias=False)\n",
       "        (bn3): BatchNorm2d(48, eps=1e-05, momentum=0.1, affine=True, track_running_stats=True)\n",
       "      )\n",
       "    )\n",
       "    (3): Sequential(\n",
       "      (0): InvertedResidual(\n",
       "        (conv_pw): Conv2d(48, 288, kernel_size=(1, 1), stride=(1, 1), bias=False)\n",
       "        (bn1): BatchNorm2d(288, eps=1e-05, momentum=0.1, affine=True, track_running_stats=True)\n",
       "        (act1): SiLU(inplace=True)\n",
       "        (conv_dw): Conv2d(288, 288, kernel_size=(3, 3), stride=(2, 2), padding=(1, 1), groups=288, bias=False)\n",
       "        (bn2): BatchNorm2d(288, eps=1e-05, momentum=0.1, affine=True, track_running_stats=True)\n",
       "        (act2): SiLU(inplace=True)\n",
       "        (se): SqueezeExcite(\n",
       "          (conv_reduce): Conv2d(288, 12, kernel_size=(1, 1), stride=(1, 1))\n",
       "          (act1): SiLU(inplace=True)\n",
       "          (conv_expand): Conv2d(12, 288, kernel_size=(1, 1), stride=(1, 1))\n",
       "          (gate): Sigmoid()\n",
       "        )\n",
       "        (conv_pwl): Conv2d(288, 96, kernel_size=(1, 1), stride=(1, 1), bias=False)\n",
       "        (bn3): BatchNorm2d(96, eps=1e-05, momentum=0.1, affine=True, track_running_stats=True)\n",
       "      )\n",
       "      (1): InvertedResidual(\n",
       "        (conv_pw): Conv2d(96, 576, kernel_size=(1, 1), stride=(1, 1), bias=False)\n",
       "        (bn1): BatchNorm2d(576, eps=1e-05, momentum=0.1, affine=True, track_running_stats=True)\n",
       "        (act1): SiLU(inplace=True)\n",
       "        (conv_dw): Conv2d(576, 576, kernel_size=(3, 3), stride=(1, 1), padding=(1, 1), groups=576, bias=False)\n",
       "        (bn2): BatchNorm2d(576, eps=1e-05, momentum=0.1, affine=True, track_running_stats=True)\n",
       "        (act2): SiLU(inplace=True)\n",
       "        (se): SqueezeExcite(\n",
       "          (conv_reduce): Conv2d(576, 24, kernel_size=(1, 1), stride=(1, 1))\n",
       "          (act1): SiLU(inplace=True)\n",
       "          (conv_expand): Conv2d(24, 576, kernel_size=(1, 1), stride=(1, 1))\n",
       "          (gate): Sigmoid()\n",
       "        )\n",
       "        (conv_pwl): Conv2d(576, 96, kernel_size=(1, 1), stride=(1, 1), bias=False)\n",
       "        (bn3): BatchNorm2d(96, eps=1e-05, momentum=0.1, affine=True, track_running_stats=True)\n",
       "      )\n",
       "      (2): InvertedResidual(\n",
       "        (conv_pw): Conv2d(96, 576, kernel_size=(1, 1), stride=(1, 1), bias=False)\n",
       "        (bn1): BatchNorm2d(576, eps=1e-05, momentum=0.1, affine=True, track_running_stats=True)\n",
       "        (act1): SiLU(inplace=True)\n",
       "        (conv_dw): Conv2d(576, 576, kernel_size=(3, 3), stride=(1, 1), padding=(1, 1), groups=576, bias=False)\n",
       "        (bn2): BatchNorm2d(576, eps=1e-05, momentum=0.1, affine=True, track_running_stats=True)\n",
       "        (act2): SiLU(inplace=True)\n",
       "        (se): SqueezeExcite(\n",
       "          (conv_reduce): Conv2d(576, 24, kernel_size=(1, 1), stride=(1, 1))\n",
       "          (act1): SiLU(inplace=True)\n",
       "          (conv_expand): Conv2d(24, 576, kernel_size=(1, 1), stride=(1, 1))\n",
       "          (gate): Sigmoid()\n",
       "        )\n",
       "        (conv_pwl): Conv2d(576, 96, kernel_size=(1, 1), stride=(1, 1), bias=False)\n",
       "        (bn3): BatchNorm2d(96, eps=1e-05, momentum=0.1, affine=True, track_running_stats=True)\n",
       "      )\n",
       "      (3): InvertedResidual(\n",
       "        (conv_pw): Conv2d(96, 576, kernel_size=(1, 1), stride=(1, 1), bias=False)\n",
       "        (bn1): BatchNorm2d(576, eps=1e-05, momentum=0.1, affine=True, track_running_stats=True)\n",
       "        (act1): SiLU(inplace=True)\n",
       "        (conv_dw): Conv2d(576, 576, kernel_size=(3, 3), stride=(1, 1), padding=(1, 1), groups=576, bias=False)\n",
       "        (bn2): BatchNorm2d(576, eps=1e-05, momentum=0.1, affine=True, track_running_stats=True)\n",
       "        (act2): SiLU(inplace=True)\n",
       "        (se): SqueezeExcite(\n",
       "          (conv_reduce): Conv2d(576, 24, kernel_size=(1, 1), stride=(1, 1))\n",
       "          (act1): SiLU(inplace=True)\n",
       "          (conv_expand): Conv2d(24, 576, kernel_size=(1, 1), stride=(1, 1))\n",
       "          (gate): Sigmoid()\n",
       "        )\n",
       "        (conv_pwl): Conv2d(576, 96, kernel_size=(1, 1), stride=(1, 1), bias=False)\n",
       "        (bn3): BatchNorm2d(96, eps=1e-05, momentum=0.1, affine=True, track_running_stats=True)\n",
       "      )\n",
       "      (4): InvertedResidual(\n",
       "        (conv_pw): Conv2d(96, 576, kernel_size=(1, 1), stride=(1, 1), bias=False)\n",
       "        (bn1): BatchNorm2d(576, eps=1e-05, momentum=0.1, affine=True, track_running_stats=True)\n",
       "        (act1): SiLU(inplace=True)\n",
       "        (conv_dw): Conv2d(576, 576, kernel_size=(3, 3), stride=(1, 1), padding=(1, 1), groups=576, bias=False)\n",
       "        (bn2): BatchNorm2d(576, eps=1e-05, momentum=0.1, affine=True, track_running_stats=True)\n",
       "        (act2): SiLU(inplace=True)\n",
       "        (se): SqueezeExcite(\n",
       "          (conv_reduce): Conv2d(576, 24, kernel_size=(1, 1), stride=(1, 1))\n",
       "          (act1): SiLU(inplace=True)\n",
       "          (conv_expand): Conv2d(24, 576, kernel_size=(1, 1), stride=(1, 1))\n",
       "          (gate): Sigmoid()\n",
       "        )\n",
       "        (conv_pwl): Conv2d(576, 96, kernel_size=(1, 1), stride=(1, 1), bias=False)\n",
       "        (bn3): BatchNorm2d(96, eps=1e-05, momentum=0.1, affine=True, track_running_stats=True)\n",
       "      )\n",
       "    )\n",
       "    (4): Sequential(\n",
       "      (0): InvertedResidual(\n",
       "        (conv_pw): Conv2d(96, 576, kernel_size=(1, 1), stride=(1, 1), bias=False)\n",
       "        (bn1): BatchNorm2d(576, eps=1e-05, momentum=0.1, affine=True, track_running_stats=True)\n",
       "        (act1): SiLU(inplace=True)\n",
       "        (conv_dw): Conv2d(576, 576, kernel_size=(5, 5), stride=(1, 1), padding=(2, 2), groups=576, bias=False)\n",
       "        (bn2): BatchNorm2d(576, eps=1e-05, momentum=0.1, affine=True, track_running_stats=True)\n",
       "        (act2): SiLU(inplace=True)\n",
       "        (se): SqueezeExcite(\n",
       "          (conv_reduce): Conv2d(576, 24, kernel_size=(1, 1), stride=(1, 1))\n",
       "          (act1): SiLU(inplace=True)\n",
       "          (conv_expand): Conv2d(24, 576, kernel_size=(1, 1), stride=(1, 1))\n",
       "          (gate): Sigmoid()\n",
       "        )\n",
       "        (conv_pwl): Conv2d(576, 136, kernel_size=(1, 1), stride=(1, 1), bias=False)\n",
       "        (bn3): BatchNorm2d(136, eps=1e-05, momentum=0.1, affine=True, track_running_stats=True)\n",
       "      )\n",
       "      (1): InvertedResidual(\n",
       "        (conv_pw): Conv2d(136, 816, kernel_size=(1, 1), stride=(1, 1), bias=False)\n",
       "        (bn1): BatchNorm2d(816, eps=1e-05, momentum=0.1, affine=True, track_running_stats=True)\n",
       "        (act1): SiLU(inplace=True)\n",
       "        (conv_dw): Conv2d(816, 816, kernel_size=(5, 5), stride=(1, 1), padding=(2, 2), groups=816, bias=False)\n",
       "        (bn2): BatchNorm2d(816, eps=1e-05, momentum=0.1, affine=True, track_running_stats=True)\n",
       "        (act2): SiLU(inplace=True)\n",
       "        (se): SqueezeExcite(\n",
       "          (conv_reduce): Conv2d(816, 34, kernel_size=(1, 1), stride=(1, 1))\n",
       "          (act1): SiLU(inplace=True)\n",
       "          (conv_expand): Conv2d(34, 816, kernel_size=(1, 1), stride=(1, 1))\n",
       "          (gate): Sigmoid()\n",
       "        )\n",
       "        (conv_pwl): Conv2d(816, 136, kernel_size=(1, 1), stride=(1, 1), bias=False)\n",
       "        (bn3): BatchNorm2d(136, eps=1e-05, momentum=0.1, affine=True, track_running_stats=True)\n",
       "      )\n",
       "      (2): InvertedResidual(\n",
       "        (conv_pw): Conv2d(136, 816, kernel_size=(1, 1), stride=(1, 1), bias=False)\n",
       "        (bn1): BatchNorm2d(816, eps=1e-05, momentum=0.1, affine=True, track_running_stats=True)\n",
       "        (act1): SiLU(inplace=True)\n",
       "        (conv_dw): Conv2d(816, 816, kernel_size=(5, 5), stride=(1, 1), padding=(2, 2), groups=816, bias=False)\n",
       "        (bn2): BatchNorm2d(816, eps=1e-05, momentum=0.1, affine=True, track_running_stats=True)\n",
       "        (act2): SiLU(inplace=True)\n",
       "        (se): SqueezeExcite(\n",
       "          (conv_reduce): Conv2d(816, 34, kernel_size=(1, 1), stride=(1, 1))\n",
       "          (act1): SiLU(inplace=True)\n",
       "          (conv_expand): Conv2d(34, 816, kernel_size=(1, 1), stride=(1, 1))\n",
       "          (gate): Sigmoid()\n",
       "        )\n",
       "        (conv_pwl): Conv2d(816, 136, kernel_size=(1, 1), stride=(1, 1), bias=False)\n",
       "        (bn3): BatchNorm2d(136, eps=1e-05, momentum=0.1, affine=True, track_running_stats=True)\n",
       "      )\n",
       "      (3): InvertedResidual(\n",
       "        (conv_pw): Conv2d(136, 816, kernel_size=(1, 1), stride=(1, 1), bias=False)\n",
       "        (bn1): BatchNorm2d(816, eps=1e-05, momentum=0.1, affine=True, track_running_stats=True)\n",
       "        (act1): SiLU(inplace=True)\n",
       "        (conv_dw): Conv2d(816, 816, kernel_size=(5, 5), stride=(1, 1), padding=(2, 2), groups=816, bias=False)\n",
       "        (bn2): BatchNorm2d(816, eps=1e-05, momentum=0.1, affine=True, track_running_stats=True)\n",
       "        (act2): SiLU(inplace=True)\n",
       "        (se): SqueezeExcite(\n",
       "          (conv_reduce): Conv2d(816, 34, kernel_size=(1, 1), stride=(1, 1))\n",
       "          (act1): SiLU(inplace=True)\n",
       "          (conv_expand): Conv2d(34, 816, kernel_size=(1, 1), stride=(1, 1))\n",
       "          (gate): Sigmoid()\n",
       "        )\n",
       "        (conv_pwl): Conv2d(816, 136, kernel_size=(1, 1), stride=(1, 1), bias=False)\n",
       "        (bn3): BatchNorm2d(136, eps=1e-05, momentum=0.1, affine=True, track_running_stats=True)\n",
       "      )\n",
       "      (4): InvertedResidual(\n",
       "        (conv_pw): Conv2d(136, 816, kernel_size=(1, 1), stride=(1, 1), bias=False)\n",
       "        (bn1): BatchNorm2d(816, eps=1e-05, momentum=0.1, affine=True, track_running_stats=True)\n",
       "        (act1): SiLU(inplace=True)\n",
       "        (conv_dw): Conv2d(816, 816, kernel_size=(5, 5), stride=(1, 1), padding=(2, 2), groups=816, bias=False)\n",
       "        (bn2): BatchNorm2d(816, eps=1e-05, momentum=0.1, affine=True, track_running_stats=True)\n",
       "        (act2): SiLU(inplace=True)\n",
       "        (se): SqueezeExcite(\n",
       "          (conv_reduce): Conv2d(816, 34, kernel_size=(1, 1), stride=(1, 1))\n",
       "          (act1): SiLU(inplace=True)\n",
       "          (conv_expand): Conv2d(34, 816, kernel_size=(1, 1), stride=(1, 1))\n",
       "          (gate): Sigmoid()\n",
       "        )\n",
       "        (conv_pwl): Conv2d(816, 136, kernel_size=(1, 1), stride=(1, 1), bias=False)\n",
       "        (bn3): BatchNorm2d(136, eps=1e-05, momentum=0.1, affine=True, track_running_stats=True)\n",
       "      )\n",
       "    )\n",
       "    (5): Sequential(\n",
       "      (0): InvertedResidual(\n",
       "        (conv_pw): Conv2d(136, 816, kernel_size=(1, 1), stride=(1, 1), bias=False)\n",
       "        (bn1): BatchNorm2d(816, eps=1e-05, momentum=0.1, affine=True, track_running_stats=True)\n",
       "        (act1): SiLU(inplace=True)\n",
       "        (conv_dw): Conv2d(816, 816, kernel_size=(5, 5), stride=(2, 2), padding=(2, 2), groups=816, bias=False)\n",
       "        (bn2): BatchNorm2d(816, eps=1e-05, momentum=0.1, affine=True, track_running_stats=True)\n",
       "        (act2): SiLU(inplace=True)\n",
       "        (se): SqueezeExcite(\n",
       "          (conv_reduce): Conv2d(816, 34, kernel_size=(1, 1), stride=(1, 1))\n",
       "          (act1): SiLU(inplace=True)\n",
       "          (conv_expand): Conv2d(34, 816, kernel_size=(1, 1), stride=(1, 1))\n",
       "          (gate): Sigmoid()\n",
       "        )\n",
       "        (conv_pwl): Conv2d(816, 232, kernel_size=(1, 1), stride=(1, 1), bias=False)\n",
       "        (bn3): BatchNorm2d(232, eps=1e-05, momentum=0.1, affine=True, track_running_stats=True)\n",
       "      )\n",
       "      (1): InvertedResidual(\n",
       "        (conv_pw): Conv2d(232, 1392, kernel_size=(1, 1), stride=(1, 1), bias=False)\n",
       "        (bn1): BatchNorm2d(1392, eps=1e-05, momentum=0.1, affine=True, track_running_stats=True)\n",
       "        (act1): SiLU(inplace=True)\n",
       "        (conv_dw): Conv2d(1392, 1392, kernel_size=(5, 5), stride=(1, 1), padding=(2, 2), groups=1392, bias=False)\n",
       "        (bn2): BatchNorm2d(1392, eps=1e-05, momentum=0.1, affine=True, track_running_stats=True)\n",
       "        (act2): SiLU(inplace=True)\n",
       "        (se): SqueezeExcite(\n",
       "          (conv_reduce): Conv2d(1392, 58, kernel_size=(1, 1), stride=(1, 1))\n",
       "          (act1): SiLU(inplace=True)\n",
       "          (conv_expand): Conv2d(58, 1392, kernel_size=(1, 1), stride=(1, 1))\n",
       "          (gate): Sigmoid()\n",
       "        )\n",
       "        (conv_pwl): Conv2d(1392, 232, kernel_size=(1, 1), stride=(1, 1), bias=False)\n",
       "        (bn3): BatchNorm2d(232, eps=1e-05, momentum=0.1, affine=True, track_running_stats=True)\n",
       "      )\n",
       "      (2): InvertedResidual(\n",
       "        (conv_pw): Conv2d(232, 1392, kernel_size=(1, 1), stride=(1, 1), bias=False)\n",
       "        (bn1): BatchNorm2d(1392, eps=1e-05, momentum=0.1, affine=True, track_running_stats=True)\n",
       "        (act1): SiLU(inplace=True)\n",
       "        (conv_dw): Conv2d(1392, 1392, kernel_size=(5, 5), stride=(1, 1), padding=(2, 2), groups=1392, bias=False)\n",
       "        (bn2): BatchNorm2d(1392, eps=1e-05, momentum=0.1, affine=True, track_running_stats=True)\n",
       "        (act2): SiLU(inplace=True)\n",
       "        (se): SqueezeExcite(\n",
       "          (conv_reduce): Conv2d(1392, 58, kernel_size=(1, 1), stride=(1, 1))\n",
       "          (act1): SiLU(inplace=True)\n",
       "          (conv_expand): Conv2d(58, 1392, kernel_size=(1, 1), stride=(1, 1))\n",
       "          (gate): Sigmoid()\n",
       "        )\n",
       "        (conv_pwl): Conv2d(1392, 232, kernel_size=(1, 1), stride=(1, 1), bias=False)\n",
       "        (bn3): BatchNorm2d(232, eps=1e-05, momentum=0.1, affine=True, track_running_stats=True)\n",
       "      )\n",
       "      (3): InvertedResidual(\n",
       "        (conv_pw): Conv2d(232, 1392, kernel_size=(1, 1), stride=(1, 1), bias=False)\n",
       "        (bn1): BatchNorm2d(1392, eps=1e-05, momentum=0.1, affine=True, track_running_stats=True)\n",
       "        (act1): SiLU(inplace=True)\n",
       "        (conv_dw): Conv2d(1392, 1392, kernel_size=(5, 5), stride=(1, 1), padding=(2, 2), groups=1392, bias=False)\n",
       "        (bn2): BatchNorm2d(1392, eps=1e-05, momentum=0.1, affine=True, track_running_stats=True)\n",
       "        (act2): SiLU(inplace=True)\n",
       "        (se): SqueezeExcite(\n",
       "          (conv_reduce): Conv2d(1392, 58, kernel_size=(1, 1), stride=(1, 1))\n",
       "          (act1): SiLU(inplace=True)\n",
       "          (conv_expand): Conv2d(58, 1392, kernel_size=(1, 1), stride=(1, 1))\n",
       "          (gate): Sigmoid()\n",
       "        )\n",
       "        (conv_pwl): Conv2d(1392, 232, kernel_size=(1, 1), stride=(1, 1), bias=False)\n",
       "        (bn3): BatchNorm2d(232, eps=1e-05, momentum=0.1, affine=True, track_running_stats=True)\n",
       "      )\n",
       "      (4): InvertedResidual(\n",
       "        (conv_pw): Conv2d(232, 1392, kernel_size=(1, 1), stride=(1, 1), bias=False)\n",
       "        (bn1): BatchNorm2d(1392, eps=1e-05, momentum=0.1, affine=True, track_running_stats=True)\n",
       "        (act1): SiLU(inplace=True)\n",
       "        (conv_dw): Conv2d(1392, 1392, kernel_size=(5, 5), stride=(1, 1), padding=(2, 2), groups=1392, bias=False)\n",
       "        (bn2): BatchNorm2d(1392, eps=1e-05, momentum=0.1, affine=True, track_running_stats=True)\n",
       "        (act2): SiLU(inplace=True)\n",
       "        (se): SqueezeExcite(\n",
       "          (conv_reduce): Conv2d(1392, 58, kernel_size=(1, 1), stride=(1, 1))\n",
       "          (act1): SiLU(inplace=True)\n",
       "          (conv_expand): Conv2d(58, 1392, kernel_size=(1, 1), stride=(1, 1))\n",
       "          (gate): Sigmoid()\n",
       "        )\n",
       "        (conv_pwl): Conv2d(1392, 232, kernel_size=(1, 1), stride=(1, 1), bias=False)\n",
       "        (bn3): BatchNorm2d(232, eps=1e-05, momentum=0.1, affine=True, track_running_stats=True)\n",
       "      )\n",
       "      (5): InvertedResidual(\n",
       "        (conv_pw): Conv2d(232, 1392, kernel_size=(1, 1), stride=(1, 1), bias=False)\n",
       "        (bn1): BatchNorm2d(1392, eps=1e-05, momentum=0.1, affine=True, track_running_stats=True)\n",
       "        (act1): SiLU(inplace=True)\n",
       "        (conv_dw): Conv2d(1392, 1392, kernel_size=(5, 5), stride=(1, 1), padding=(2, 2), groups=1392, bias=False)\n",
       "        (bn2): BatchNorm2d(1392, eps=1e-05, momentum=0.1, affine=True, track_running_stats=True)\n",
       "        (act2): SiLU(inplace=True)\n",
       "        (se): SqueezeExcite(\n",
       "          (conv_reduce): Conv2d(1392, 58, kernel_size=(1, 1), stride=(1, 1))\n",
       "          (act1): SiLU(inplace=True)\n",
       "          (conv_expand): Conv2d(58, 1392, kernel_size=(1, 1), stride=(1, 1))\n",
       "          (gate): Sigmoid()\n",
       "        )\n",
       "        (conv_pwl): Conv2d(1392, 232, kernel_size=(1, 1), stride=(1, 1), bias=False)\n",
       "        (bn3): BatchNorm2d(232, eps=1e-05, momentum=0.1, affine=True, track_running_stats=True)\n",
       "      )\n",
       "    )\n",
       "    (6): Sequential(\n",
       "      (0): InvertedResidual(\n",
       "        (conv_pw): Conv2d(232, 1392, kernel_size=(1, 1), stride=(1, 1), bias=False)\n",
       "        (bn1): BatchNorm2d(1392, eps=1e-05, momentum=0.1, affine=True, track_running_stats=True)\n",
       "        (act1): SiLU(inplace=True)\n",
       "        (conv_dw): Conv2d(1392, 1392, kernel_size=(3, 3), stride=(1, 1), padding=(1, 1), groups=1392, bias=False)\n",
       "        (bn2): BatchNorm2d(1392, eps=1e-05, momentum=0.1, affine=True, track_running_stats=True)\n",
       "        (act2): SiLU(inplace=True)\n",
       "        (se): SqueezeExcite(\n",
       "          (conv_reduce): Conv2d(1392, 58, kernel_size=(1, 1), stride=(1, 1))\n",
       "          (act1): SiLU(inplace=True)\n",
       "          (conv_expand): Conv2d(58, 1392, kernel_size=(1, 1), stride=(1, 1))\n",
       "          (gate): Sigmoid()\n",
       "        )\n",
       "        (conv_pwl): Conv2d(1392, 384, kernel_size=(1, 1), stride=(1, 1), bias=False)\n",
       "        (bn3): BatchNorm2d(384, eps=1e-05, momentum=0.1, affine=True, track_running_stats=True)\n",
       "      )\n",
       "      (1): InvertedResidual(\n",
       "        (conv_pw): Conv2d(384, 2304, kernel_size=(1, 1), stride=(1, 1), bias=False)\n",
       "        (bn1): BatchNorm2d(2304, eps=1e-05, momentum=0.1, affine=True, track_running_stats=True)\n",
       "        (act1): SiLU(inplace=True)\n",
       "        (conv_dw): Conv2d(2304, 2304, kernel_size=(3, 3), stride=(1, 1), padding=(1, 1), groups=2304, bias=False)\n",
       "        (bn2): BatchNorm2d(2304, eps=1e-05, momentum=0.1, affine=True, track_running_stats=True)\n",
       "        (act2): SiLU(inplace=True)\n",
       "        (se): SqueezeExcite(\n",
       "          (conv_reduce): Conv2d(2304, 96, kernel_size=(1, 1), stride=(1, 1))\n",
       "          (act1): SiLU(inplace=True)\n",
       "          (conv_expand): Conv2d(96, 2304, kernel_size=(1, 1), stride=(1, 1))\n",
       "          (gate): Sigmoid()\n",
       "        )\n",
       "        (conv_pwl): Conv2d(2304, 384, kernel_size=(1, 1), stride=(1, 1), bias=False)\n",
       "        (bn3): BatchNorm2d(384, eps=1e-05, momentum=0.1, affine=True, track_running_stats=True)\n",
       "      )\n",
       "    )\n",
       "  )\n",
       "  (conv_head): Conv2d(384, 1536, kernel_size=(1, 1), stride=(1, 1), bias=False)\n",
       "  (bn2): BatchNorm2d(1536, eps=1e-05, momentum=0.1, affine=True, track_running_stats=True)\n",
       "  (act2): SiLU(inplace=True)\n",
       "  (global_pool): SelectAdaptivePool2d (pool_type=avg, flatten=Flatten(start_dim=1, end_dim=-1))\n",
       "  (classifier): Identity()\n",
       ")"
      ]
     },
     "execution_count": 5,
     "metadata": {},
     "output_type": "execute_result"
    }
   ],
   "source": [
    "m.backbone"
   ]
  },
  {
   "cell_type": "code",
   "execution_count": 6,
   "metadata": {
    "scrolled": true
   },
   "outputs": [
    {
     "data": {
      "text/plain": [
       "<All keys matched successfully>"
      ]
     },
     "execution_count": 6,
     "metadata": {},
     "output_type": "execute_result"
    }
   ],
   "source": [
    "m.load_state_dict(torch.load(f\"{BESPOKE_ROOT}/models/m.torch\"), strict=False)"
   ]
  },
  {
   "cell_type": "code",
   "execution_count": 7,
   "metadata": {
    "scrolled": true
   },
   "outputs": [],
   "source": [
    "scaler = torch.cuda.amp.GradScaler() \n",
    "opt = torch.optim.Adam(m.parameters(), lr=1e-4)"
   ]
  },
  {
   "cell_type": "code",
   "execution_count": 8,
   "metadata": {
    "scrolled": true
   },
   "outputs": [],
   "source": [
    "BS = 32\n",
    "dataloader_trn = BlenderDataloader(path_stem=\"trn\", bs=BS)"
   ]
  },
  {
   "cell_type": "code",
   "execution_count": 9,
   "metadata": {
    "scrolled": true
   },
   "outputs": [
    {
     "name": "stdout",
     "output_type": "stream",
     "text": [
      "CPU times: user 3 µs, sys: 1 µs, total: 4 µs\n",
      "Wall time: 7.15 µs\n"
     ]
    }
   ],
   "source": [
    "%%time\n",
    "#rw_dataloader = RealWorldDataloader()"
   ]
  },
  {
   "cell_type": "code",
   "execution_count": 10,
   "metadata": {},
   "outputs": [],
   "source": [
    "#wandb.watch(m, log=\"all\")"
   ]
  },
  {
   "cell_type": "code",
   "execution_count": null,
   "metadata": {},
   "outputs": [],
   "source": []
  },
  {
   "cell_type": "code",
   "execution_count": 11,
   "metadata": {
    "scrolled": true
   },
   "outputs": [],
   "source": [
    "model_stem = \"6.10\"\n",
    "START_E = 58"
   ]
  },
  {
   "cell_type": "code",
   "execution_count": null,
   "metadata": {
    "scrolled": true
   },
   "outputs": [
    {
     "name": "stdout",
     "output_type": "stream",
     "text": [
      "EPOCH 58\n",
      "\n",
      "{'trn_control_loss': 0.00369586, 'consistency losses/trn_steer_cost': 0.00609303, 'consistency losses/trn_te_loss': 0.02307335, 'consistency losses/trn_%_updates_w_torque_loss': 0.078125, 'consistency losses/trn_%_updates_w_torque_delta_loss': 1.0, 'consistency losses/trn_torque_delta_loss': 43.56669617, 'logistical/obs_consumed_per_second': 241.18110236, 'logistical/obs_generated_per_second': 109.81102362, 'logistical/data_consumption_ratio': 2.20010732, 'logistical/manual_train_pause': 0.0, 'consistency losses/trn_torque_loss': 132.9375, 'logistical/max_param': 16.24702454, 'logistical/lr': 0.0001}\n",
      "{'logistical/obs_consumed_per_second': 244.8515625, 'logistical/obs_generated_per_second': 116.734375, 'logistical/data_consumption_ratio': 2.11000716, 'logistical/manual_train_pause': 7.812e-05, 'trn_control_loss': 0.00299527, 'consistency losses/trn_steer_cost': 0.00512162, 'consistency losses/trn_te_loss': 0.01933422, 'consistency losses/trn_%_updates_w_torque_loss': 0.0625, 'consistency losses/trn_%_updates_w_torque_delta_loss': 1.0, 'consistency losses/trn_torque_delta_loss': 43.03781128, 'consistency losses/trn_torque_loss': 173.63671875, 'logistical/max_param': 16.24732208, 'logistical/lr': 0.0001}\n",
      "{'logistical/obs_consumed_per_second': 244.3359375, 'logistical/obs_generated_per_second': 98.96875, 'logistical/data_consumption_ratio': 2.46787811, 'logistical/manual_train_pause': 0.00015625, 'trn_control_loss': 0.0033726, 'consistency losses/trn_steer_cost': 0.00626221, 'consistency losses/trn_te_loss': 0.02371038, 'consistency losses/trn_%_updates_w_torque_loss': 0.0234375, 'consistency losses/trn_%_updates_w_torque_delta_loss': 1.0, 'consistency losses/trn_torque_delta_loss': 44.67422485, 'consistency losses/trn_torque_loss': 128.38541667, 'logistical/max_param': 16.24667549, 'logistical/lr': 0.0001}\n",
      "{'logistical/obs_consumed_per_second': 236.6953125, 'logistical/obs_generated_per_second': 112.3515625, 'logistical/data_consumption_ratio': 2.11605038, 'logistical/manual_train_pause': 0.0, 'trn_control_loss': 0.00335124, 'consistency losses/trn_steer_cost': 0.00582674, 'consistency losses/trn_te_loss': 0.02202132, 'consistency losses/trn_%_updates_w_torque_loss': 0.1015625, 'consistency losses/trn_%_updates_w_torque_delta_loss': 0.984375, 'consistency losses/trn_torque_delta_loss': 40.19233631, 'consistency losses/trn_torque_loss': 288.71153846, 'logistical/max_param': 16.24633026, 'logistical/lr': 0.0001}\n",
      "{'logistical/obs_consumed_per_second': 243.265625, 'logistical/obs_generated_per_second': 113.2734375, 'logistical/data_consumption_ratio': 2.15157948, 'logistical/manual_train_pause': 0.0, 'trn_control_loss': 0.003004, 'consistency losses/trn_steer_cost': 0.00481816, 'consistency losses/trn_te_loss': 0.01784242, 'consistency losses/trn_%_updates_w_torque_loss': 0.0625, 'consistency losses/trn_%_updates_w_torque_delta_loss': 0.9921875, 'consistency losses/trn_torque_delta_loss': 42.1273376, 'consistency losses/trn_torque_loss': 225.5234375, 'logistical/max_param': 16.24774551, 'logistical/lr': 0.0001}\n",
      "{'logistical/obs_consumed_per_second': 242.921875, 'logistical/obs_generated_per_second': 113.375, 'logistical/data_consumption_ratio': 2.14766502, 'logistical/manual_train_pause': 0.0, 'trn_control_loss': 0.00288478, 'consistency losses/trn_steer_cost': 0.00438634, 'consistency losses/trn_te_loss': 0.01620108, 'consistency losses/trn_%_updates_w_torque_loss': 0.046875, 'consistency losses/trn_%_updates_w_torque_delta_loss': 0.9921875, 'consistency losses/trn_torque_delta_loss': 35.67196727, 'consistency losses/trn_torque_loss': 235.30208333, 'logistical/max_param': 16.24920464, 'logistical/lr': 0.0001}\n",
      "{'logistical/obs_consumed_per_second': 242.109375, 'logistical/obs_generated_per_second': 102.9296875, 'logistical/data_consumption_ratio': 2.36309234, 'logistical/manual_train_pause': 0.00039062, 'trn_control_loss': 0.00310501, 'consistency losses/trn_steer_cost': 0.00551394, 'consistency losses/trn_te_loss': 0.02054828, 'consistency losses/trn_%_updates_w_torque_loss': 0.09375, 'consistency losses/trn_%_updates_w_torque_delta_loss': 1.0, 'consistency losses/trn_torque_delta_loss': 42.42729187, 'consistency losses/trn_torque_loss': 135.76041667, 'logistical/max_param': 16.24905777, 'logistical/lr': 0.0001}\n",
      "{'logistical/obs_consumed_per_second': 239.8671875, 'logistical/obs_generated_per_second': 118.2890625, 'logistical/data_consumption_ratio': 2.02643806, 'logistical/manual_train_pause': 0.0, 'trn_control_loss': 0.00329441, 'consistency losses/trn_steer_cost': 0.00506505, 'consistency losses/trn_te_loss': 0.01878474, 'consistency losses/trn_%_updates_w_torque_loss': 0.0859375, 'consistency losses/trn_%_updates_w_torque_delta_loss': 1.0, 'consistency losses/trn_torque_loss': 241.28977273, 'consistency losses/trn_torque_delta_loss': 44.1008606, 'logistical/max_param': 16.2461319, 'logistical/lr': 0.0001}\n",
      "{'logistical/obs_consumed_per_second': 242.6171875, 'logistical/obs_generated_per_second': 123.65625, 'logistical/data_consumption_ratio': 1.96227922, 'logistical/manual_train_pause': 0.0, 'trn_control_loss': 0.00313978, 'consistency losses/trn_steer_cost': 0.004997, 'consistency losses/trn_te_loss': 0.0193682, 'consistency losses/trn_%_updates_w_torque_loss': 0.09375, 'consistency losses/trn_%_updates_w_torque_delta_loss': 0.984375, 'consistency losses/trn_torque_delta_loss': 39.42602927, 'consistency losses/trn_torque_loss': 139.8515625, 'logistical/max_param': 16.24726105, 'logistical/lr': 0.0001}\n",
      "{'logistical/obs_consumed_per_second': 243.9296875, 'logistical/obs_generated_per_second': 117.390625, 'logistical/data_consumption_ratio': 2.07883592, 'logistical/manual_train_pause': 0.0, 'trn_control_loss': 0.00285332, 'consistency losses/trn_steer_cost': 0.00428994, 'consistency losses/trn_te_loss': 0.01608048, 'consistency losses/trn_%_updates_w_torque_loss': 0.015625, 'consistency losses/trn_%_updates_w_torque_delta_loss': 1.0, 'consistency losses/trn_torque_loss': 231.6875, 'consistency losses/trn_torque_delta_loss': 34.50798035, 'logistical/max_param': 16.24803162, 'logistical/lr': 0.0001}\n",
      "{'logistical/obs_consumed_per_second': 239.4375, 'logistical/obs_generated_per_second': 119.6484375, 'logistical/data_consumption_ratio': 2.00416784, 'logistical/manual_train_pause': 0.0, 'trn_control_loss': 0.00288568, 'consistency losses/trn_steer_cost': 0.00488444, 'consistency losses/trn_te_loss': 0.01835937, 'consistency losses/trn_%_updates_w_torque_loss': 0.078125, 'consistency losses/trn_%_updates_w_torque_delta_loss': 1.0, 'consistency losses/trn_torque_delta_loss': 35.89868164, 'consistency losses/trn_torque_loss': 157.659375, 'logistical/max_param': 16.24912834, 'logistical/lr': 0.0001}\n",
      "{'logistical/obs_consumed_per_second': 240.890625, 'logistical/obs_generated_per_second': 114.109375, 'logistical/data_consumption_ratio': 2.11483109, 'logistical/manual_train_pause': 0.0, 'trn_control_loss': 0.00317373, 'consistency losses/trn_steer_cost': 0.00591373, 'consistency losses/trn_te_loss': 0.02225991, 'consistency losses/trn_%_updates_w_torque_loss': 0.1015625, 'consistency losses/trn_%_updates_w_torque_delta_loss': 1.0, 'consistency losses/trn_torque_delta_loss': 38.50146484, 'consistency losses/trn_torque_loss': 158.77163462, 'logistical/max_param': 16.24934959, 'logistical/lr': 0.0001}\n",
      "{'logistical/obs_consumed_per_second': 243.8515625, 'logistical/obs_generated_per_second': 115.359375, 'logistical/data_consumption_ratio': 2.11472161, 'logistical/manual_train_pause': 0.0, 'trn_control_loss': 0.0029834, 'consistency losses/trn_steer_cost': 0.00458118, 'consistency losses/trn_te_loss': 0.01733158, 'consistency losses/trn_%_updates_w_torque_loss': 0.03125, 'consistency losses/trn_%_updates_w_torque_delta_loss': 0.9921875, 'consistency losses/trn_torque_loss': 186.734375, 'consistency losses/trn_torque_delta_loss': 36.17993356, 'logistical/max_param': 16.24720573, 'logistical/lr': 0.0001}\n",
      "{'logistical/obs_consumed_per_second': 239.1171875, 'logistical/obs_generated_per_second': 114.40625, 'logistical/data_consumption_ratio': 2.09641681, 'logistical/manual_train_pause': 0.0, 'trn_control_loss': 0.00274421, 'consistency losses/trn_steer_cost': 0.00449423, 'consistency losses/trn_te_loss': 0.01679298, 'consistency losses/trn_%_updates_w_torque_loss': 0.0625, 'consistency losses/trn_%_updates_w_torque_delta_loss': 1.0, 'consistency losses/trn_torque_delta_loss': 34.74620056, 'consistency losses/trn_torque_loss': 136.78515625, 'logistical/max_param': 16.24730873, 'logistical/lr': 0.0001}\n"
     ]
    },
    {
     "name": "stdout",
     "output_type": "stream",
     "text": [
      "{'logistical/obs_consumed_per_second': 239.3203125, 'logistical/obs_generated_per_second': 107.6171875, 'logistical/data_consumption_ratio': 2.22688408, 'logistical/manual_train_pause': 0.0, 'trn_control_loss': 0.00278567, 'consistency losses/trn_steer_cost': 0.00490104, 'consistency losses/trn_te_loss': 0.01829516, 'consistency losses/trn_%_updates_w_torque_loss': 0.0234375, 'consistency losses/trn_%_updates_w_torque_delta_loss': 1.0, 'consistency losses/trn_torque_delta_loss': 38.56210327, 'consistency losses/trn_torque_loss': 120.77083333, 'logistical/max_param': 16.24674416, 'logistical/lr': 0.0001}\n",
      "{'logistical/obs_consumed_per_second': 239.734375, 'logistical/obs_generated_per_second': 110.40625, 'logistical/data_consumption_ratio': 2.179179, 'logistical/manual_train_pause': 0.0, 'trn_control_loss': 0.00288068, 'consistency losses/trn_steer_cost': 0.00513867, 'consistency losses/trn_te_loss': 0.01944681, 'consistency losses/trn_%_updates_w_torque_loss': 0.0390625, 'consistency losses/trn_%_updates_w_torque_delta_loss': 1.0, 'consistency losses/trn_torque_delta_loss': 34.54470825, 'consistency losses/trn_torque_loss': 90.75625, 'logistical/max_param': 16.24714851, 'logistical/lr': 0.0001}\n",
      "{'logistical/obs_consumed_per_second': 241.5, 'logistical/obs_generated_per_second': 107.1015625, 'logistical/data_consumption_ratio': 2.26137538, 'logistical/manual_train_pause': 0.0, 'trn_control_loss': 0.00275158, 'consistency losses/trn_steer_cost': 0.00496264, 'consistency losses/trn_te_loss': 0.01874387, 'consistency losses/trn_%_updates_w_torque_loss': 0.015625, 'consistency losses/trn_%_updates_w_torque_delta_loss': 1.0, 'consistency losses/trn_torque_delta_loss': 38.53579712, 'consistency losses/trn_torque_loss': 57.90625, 'logistical/max_param': 16.24719429, 'logistical/lr': 0.0001}\n",
      "{'logistical/obs_consumed_per_second': 242.40625, 'logistical/obs_generated_per_second': 105.984375, 'logistical/data_consumption_ratio': 2.28655725, 'logistical/manual_train_pause': 0.0, 'trn_control_loss': 0.0028611, 'consistency losses/trn_steer_cost': 0.00492378, 'consistency losses/trn_te_loss': 0.01827719, 'consistency losses/trn_%_updates_w_torque_loss': 0.046875, 'consistency losses/trn_%_updates_w_torque_delta_loss': 1.0, 'consistency losses/trn_torque_delta_loss': 39.86450195, 'consistency losses/trn_torque_loss': 113.41666667, 'logistical/max_param': 16.24768257, 'logistical/lr': 0.0001}\n",
      "{'logistical/obs_consumed_per_second': 237.3515625, 'logistical/obs_generated_per_second': 111.6875, 'logistical/data_consumption_ratio': 2.13149523, 'logistical/manual_train_pause': 0.0, 'trn_control_loss': 0.00297971, 'consistency losses/trn_steer_cost': 0.00515785, 'consistency losses/trn_te_loss': 0.01939111, 'consistency losses/trn_%_updates_w_torque_loss': 0.046875, 'consistency losses/trn_%_updates_w_torque_delta_loss': 1.0, 'consistency losses/trn_torque_delta_loss': 37.22138977, 'consistency losses/trn_torque_loss': 158.640625, 'logistical/max_param': 16.24570274, 'logistical/lr': 0.0001}\n",
      "{'logistical/obs_consumed_per_second': 239.65625, 'logistical/obs_generated_per_second': 119.0234375, 'logistical/data_consumption_ratio': 2.01543082, 'logistical/manual_train_pause': 0.0, 'trn_control_loss': 0.00287531, 'consistency losses/trn_steer_cost': 0.00452499, 'consistency losses/trn_te_loss': 0.01682271, 'consistency losses/trn_%_updates_w_torque_loss': 0.09375, 'consistency losses/trn_%_updates_w_torque_delta_loss': 1.0, 'consistency losses/trn_torque_delta_loss': 38.08978271, 'consistency losses/trn_torque_loss': 144.22135417, 'logistical/max_param': 16.24654961, 'logistical/lr': 0.0001}\n",
      "{'logistical/obs_consumed_per_second': 236.91208791, 'logistical/obs_generated_per_second': 116.02197802, 'logistical/data_consumption_ratio': 2.03878174, 'logistical/manual_train_pause': 0.0, 'trn_control_loss': 0.00290539, 'consistency losses/trn_steer_cost': 0.00513552, 'consistency losses/trn_te_loss': 0.01938503, 'consistency losses/trn_%_updates_w_torque_loss': 0.11111111, 'consistency losses/trn_%_updates_w_torque_delta_loss': 1.0, 'consistency losses/trn_torque_delta_loss': 42.95716146, 'consistency losses/trn_torque_loss': 155.484375}\n",
      "\n",
      "\n",
      " Eval...\n",
      "EPOCH 59\n",
      "\n",
      "{'trn_control_loss': 0.00299239, 'consistency losses/trn_steer_cost': 0.00531492, 'consistency losses/trn_te_loss': 0.02030759, 'consistency losses/trn_%_updates_w_torque_loss': 0.0859375, 'consistency losses/trn_%_updates_w_torque_delta_loss': 1.0, 'consistency losses/trn_torque_loss': 228.83806818, 'consistency losses/trn_torque_delta_loss': 41.00416565, 'logistical/obs_consumed_per_second': 239.8976378, 'logistical/obs_generated_per_second': 112.03937008, 'logistical/data_consumption_ratio': 2.14579971, 'logistical/manual_train_pause': 0.0, 'logistical/max_param': 16.2461834, 'logistical/lr': 0.0001}\n",
      "{'logistical/obs_consumed_per_second': 244.3046875, 'logistical/obs_generated_per_second': 104.046875, 'logistical/data_consumption_ratio': 2.34460911, 'logistical/manual_train_pause': 0.0, 'trn_control_loss': 0.00307913, 'consistency losses/trn_steer_cost': 0.00536497, 'consistency losses/trn_te_loss': 0.02038142, 'consistency losses/trn_%_updates_w_torque_loss': 0.0625, 'consistency losses/trn_%_updates_w_torque_delta_loss': 1.0, 'consistency losses/trn_torque_delta_loss': 41.92707825, 'consistency losses/trn_torque_loss': 140.90625, 'logistical/max_param': 16.24526596, 'logistical/lr': 0.0001}\n",
      "{'logistical/obs_consumed_per_second': 242.0390625, 'logistical/obs_generated_per_second': 108.6796875, 'logistical/data_consumption_ratio': 2.23107883, 'logistical/manual_train_pause': 0.0, 'trn_control_loss': 0.00267933, 'consistency losses/trn_steer_cost': 0.00451285, 'consistency losses/trn_te_loss': 0.01727109, 'consistency losses/trn_%_updates_w_torque_loss': 0.03125, 'consistency losses/trn_%_updates_w_torque_delta_loss': 1.0, 'consistency losses/trn_torque_delta_loss': 38.73809814, 'consistency losses/trn_torque_loss': 40.5, 'logistical/max_param': 16.24579811, 'logistical/lr': 0.0001}\n",
      "{'logistical/obs_consumed_per_second': 244.5625, 'logistical/obs_generated_per_second': 105.2578125, 'logistical/data_consumption_ratio': 2.32456124, 'logistical/manual_train_pause': 0.0, 'trn_control_loss': 0.00283818, 'consistency losses/trn_steer_cost': 0.00459906, 'consistency losses/trn_te_loss': 0.01785685, 'consistency losses/trn_%_updates_w_torque_loss': 0.0625, 'consistency losses/trn_%_updates_w_torque_delta_loss': 0.9921875, 'consistency losses/trn_torque_delta_loss': 39.04773622, 'consistency losses/trn_torque_loss': 96.1484375, 'logistical/max_param': 16.24672127, 'logistical/lr': 0.0001}\n",
      "{'logistical/obs_consumed_per_second': 242.3984375, 'logistical/obs_generated_per_second': 117.6328125, 'logistical/data_consumption_ratio': 2.07381987, 'logistical/manual_train_pause': 0.0, 'trn_control_loss': 0.00284107, 'consistency losses/trn_steer_cost': 0.00528419, 'consistency losses/trn_te_loss': 0.0194539, 'consistency losses/trn_%_updates_w_torque_loss': 0.0703125, 'consistency losses/trn_%_updates_w_torque_delta_loss': 1.0, 'consistency losses/trn_torque_delta_loss': 39.21580505, 'consistency losses/trn_torque_loss': 184.5, 'logistical/max_param': 16.24774361, 'logistical/lr': 0.0001}\n",
      "{'logistical/obs_consumed_per_second': 245.6953125, 'logistical/obs_generated_per_second': 117.3046875, 'logistical/data_consumption_ratio': 2.09670858, 'logistical/manual_train_pause': 0.0, 'trn_control_loss': 0.00277577, 'consistency losses/trn_steer_cost': 0.00462908, 'consistency losses/trn_te_loss': 0.01749623, 'consistency losses/trn_%_updates_w_torque_loss': 0.0390625, 'consistency losses/trn_%_updates_w_torque_delta_loss': 1.0, 'consistency losses/trn_torque_delta_loss': 35.01766968, 'consistency losses/trn_torque_loss': 184.8, 'logistical/max_param': 16.24694061, 'logistical/lr': 0.0001}\n",
      "{'logistical/obs_consumed_per_second': 238.5625, 'logistical/obs_generated_per_second': 116.484375, 'logistical/data_consumption_ratio': 2.0459458, 'logistical/manual_train_pause': 0.0, 'trn_control_loss': 0.00319775, 'consistency losses/trn_steer_cost': 0.00520363, 'consistency losses/trn_te_loss': 0.01967542, 'consistency losses/trn_%_updates_w_torque_loss': 0.0859375, 'consistency losses/trn_%_updates_w_torque_delta_loss': 1.0, 'consistency losses/trn_torque_delta_loss': 42.2432251, 'consistency losses/trn_torque_loss': 131.83522727, 'logistical/max_param': 16.24421692, 'logistical/lr': 0.0001}\n"
     ]
    },
    {
     "name": "stdout",
     "output_type": "stream",
     "text": [
      "{'logistical/obs_consumed_per_second': 237.71875, 'logistical/obs_generated_per_second': 115.1953125, 'logistical/data_consumption_ratio': 2.06622106, 'logistical/manual_train_pause': 0.0, 'trn_control_loss': 0.00290306, 'consistency losses/trn_steer_cost': 0.00475436, 'consistency losses/trn_te_loss': 0.01810152, 'consistency losses/trn_%_updates_w_torque_loss': 0.078125, 'consistency losses/trn_%_updates_w_torque_delta_loss': 1.0, 'consistency losses/trn_torque_delta_loss': 38.21394348, 'consistency losses/trn_torque_loss': 266.76875, 'logistical/max_param': 16.2436409, 'logistical/lr': 0.0001}\n",
      "{'logistical/obs_consumed_per_second': 240.1875, 'logistical/obs_generated_per_second': 103.75, 'logistical/data_consumption_ratio': 2.32310299, 'logistical/manual_train_pause': 7.812e-05, 'trn_control_loss': 0.00354147, 'consistency losses/trn_steer_cost': 0.00497732, 'consistency losses/trn_te_loss': 0.01870056, 'consistency losses/trn_%_updates_w_torque_loss': 0.0390625, 'consistency losses/trn_%_updates_w_torque_delta_loss': 0.9921875, 'consistency losses/trn_torque_delta_loss': 40.85420768, 'consistency losses/trn_torque_loss': 276.85, 'logistical/max_param': 16.2468338, 'logistical/lr': 0.0001}\n",
      "{'logistical/obs_consumed_per_second': 239.9140625, 'logistical/obs_generated_per_second': 105.3125, 'logistical/data_consumption_ratio': 2.28199773, 'logistical/manual_train_pause': 0.0, 'trn_control_loss': 0.00283324, 'consistency losses/trn_steer_cost': 0.00432445, 'consistency losses/trn_te_loss': 0.01627634, 'consistency losses/trn_%_updates_w_torque_loss': 0.0390625, 'consistency losses/trn_%_updates_w_torque_delta_loss': 1.0, 'consistency losses/trn_torque_delta_loss': 32.47271729, 'consistency losses/trn_torque_loss': 231.95, 'logistical/max_param': 16.24688911, 'logistical/lr': 0.0001}\n",
      "{'logistical/obs_consumed_per_second': 243.0390625, 'logistical/obs_generated_per_second': 114.328125, 'logistical/data_consumption_ratio': 2.12971854, 'logistical/manual_train_pause': 0.0, 'trn_control_loss': 0.00250098, 'consistency losses/trn_steer_cost': 0.00426571, 'consistency losses/trn_te_loss': 0.01611714, 'consistency losses/trn_%_updates_w_torque_loss': 0.0234375, 'consistency losses/trn_%_updates_w_torque_delta_loss': 1.0, 'consistency losses/trn_torque_delta_loss': 33.41021729, 'consistency losses/trn_torque_loss': 97.45833333, 'logistical/max_param': 16.24681473, 'logistical/lr': 0.0001}\n",
      "{'logistical/obs_consumed_per_second': 238.9609375, 'logistical/obs_generated_per_second': 104.3828125, 'logistical/data_consumption_ratio': 2.29214694, 'logistical/manual_train_pause': 0.0, 'trn_control_loss': 0.00285116, 'consistency losses/trn_steer_cost': 0.00475094, 'consistency losses/trn_te_loss': 0.01766625, 'consistency losses/trn_%_updates_w_torque_loss': 0.1171875, 'consistency losses/trn_%_updates_w_torque_delta_loss': 1.0, 'consistency losses/trn_torque_delta_loss': 38.11917114, 'consistency losses/trn_torque_loss': 157.06666667, 'logistical/max_param': 16.24670792, 'logistical/lr': 0.0001}\n",
      "{'logistical/obs_consumed_per_second': 239.5859375, 'logistical/obs_generated_per_second': 105.7890625, 'logistical/data_consumption_ratio': 2.27645824, 'logistical/manual_train_pause': 0.0, 'trn_control_loss': 0.00261699, 'consistency losses/trn_steer_cost': 0.0042674, 'consistency losses/trn_te_loss': 0.01615705, 'consistency losses/trn_%_updates_w_torque_loss': 0.0625, 'consistency losses/trn_%_updates_w_torque_delta_loss': 1.0, 'consistency losses/trn_torque_delta_loss': 34.83538818, 'consistency losses/trn_torque_loss': 143.71875, 'logistical/max_param': 16.24673462, 'logistical/lr': 0.0001}\n",
      "{'logistical/obs_consumed_per_second': 236.7421875, 'logistical/obs_generated_per_second': 116.0546875, 'logistical/data_consumption_ratio': 2.04175359, 'logistical/manual_train_pause': 0.0, 'trn_control_loss': 0.00291859, 'consistency losses/trn_steer_cost': 0.00495982, 'consistency losses/trn_te_loss': 0.01883806, 'consistency losses/trn_%_updates_w_torque_loss': 0.0390625, 'consistency losses/trn_%_updates_w_torque_delta_loss': 0.9921875, 'consistency losses/trn_torque_delta_loss': 37.37626107, 'consistency losses/trn_torque_loss': 101.09375, 'logistical/max_param': 16.24667931, 'logistical/lr': 0.0001}\n",
      "{'logistical/obs_consumed_per_second': 234.796875, 'logistical/obs_generated_per_second': 118.7265625, 'logistical/data_consumption_ratio': 1.97779524, 'logistical/manual_train_pause': 0.0, 'trn_control_loss': 0.00282292, 'consistency losses/trn_steer_cost': 0.00507066, 'consistency losses/trn_te_loss': 0.01912361, 'consistency losses/trn_%_updates_w_torque_loss': 0.015625, 'consistency losses/trn_%_updates_w_torque_delta_loss': 0.9921875, 'consistency losses/trn_torque_delta_loss': 37.75792015, 'consistency losses/trn_torque_loss': 165.34375, 'logistical/max_param': 16.2466507, 'logistical/lr': 0.0001}\n",
      "{'logistical/obs_consumed_per_second': 240.640625, 'logistical/obs_generated_per_second': 118.5703125, 'logistical/data_consumption_ratio': 2.02913677, 'logistical/manual_train_pause': 0.0, 'trn_control_loss': 0.0029663, 'consistency losses/trn_steer_cost': 0.00497959, 'consistency losses/trn_te_loss': 0.01879857, 'consistency losses/trn_%_updates_w_torque_loss': 0.0078125, 'consistency losses/trn_%_updates_w_torque_delta_loss': 1.0, 'consistency losses/trn_torque_delta_loss': 34.16194153, 'consistency losses/trn_torque_loss': 43.65625, 'logistical/max_param': 16.24629974, 'logistical/lr': 0.0001}\n",
      "{'logistical/obs_consumed_per_second': 239.0703125, 'logistical/obs_generated_per_second': 110.1171875, 'logistical/data_consumption_ratio': 2.18517527, 'logistical/manual_train_pause': 0.0, 'trn_control_loss': 0.00290019, 'consistency losses/trn_steer_cost': 0.00568542, 'consistency losses/trn_te_loss': 0.0216676, 'consistency losses/trn_%_updates_w_torque_loss': 0.0234375, 'consistency losses/trn_%_updates_w_torque_delta_loss': 1.0, 'consistency losses/trn_torque_delta_loss': 35.11091614, 'consistency losses/trn_torque_loss': 348.75, 'logistical/max_param': 16.24629974, 'logistical/lr': 0.0001}\n",
      "{'logistical/obs_consumed_per_second': 240.5546875, 'logistical/obs_generated_per_second': 120.46875, 'logistical/data_consumption_ratio': 2.00175918, 'logistical/manual_train_pause': 0.0, 'trn_control_loss': 0.00267311, 'consistency losses/trn_steer_cost': 0.00459157, 'consistency losses/trn_te_loss': 0.01755792, 'consistency losses/trn_%_updates_w_torque_loss': 0.0703125, 'consistency losses/trn_%_updates_w_torque_delta_loss': 0.9921875, 'consistency losses/trn_torque_loss': 163.19444444, 'consistency losses/trn_torque_delta_loss': 35.09087414, 'logistical/max_param': 16.24631882, 'logistical/lr': 0.0001}\n",
      "{'logistical/obs_consumed_per_second': 243.03125, 'logistical/obs_generated_per_second': 102.4296875, 'logistical/data_consumption_ratio': 2.37409131, 'logistical/manual_train_pause': 0.0, 'trn_control_loss': 0.00288038, 'consistency losses/trn_steer_cost': 0.0052748, 'consistency losses/trn_te_loss': 0.01972439, 'consistency losses/trn_%_updates_w_torque_loss': 0.0546875, 'consistency losses/trn_%_updates_w_torque_delta_loss': 1.0, 'consistency losses/trn_torque_delta_loss': 39.54873657, 'consistency losses/trn_torque_loss': 101.44196429, 'logistical/max_param': 16.24604797, 'logistical/lr': 0.0001}\n",
      "{'logistical/obs_consumed_per_second': 239.3671875, 'logistical/obs_generated_per_second': 115.203125, 'logistical/data_consumption_ratio': 2.08159694, 'logistical/manual_train_pause': 0.0, 'trn_control_loss': 0.00272712, 'consistency losses/trn_steer_cost': 0.00467578, 'consistency losses/trn_te_loss': 0.01769503, 'consistency losses/trn_%_updates_w_torque_loss': 0.0078125, 'consistency losses/trn_%_updates_w_torque_delta_loss': 0.9921875, 'consistency losses/trn_torque_delta_loss': 38.54086184, 'consistency losses/trn_torque_loss': 478.0, 'logistical/max_param': 16.24599457, 'logistical/lr': 0.0001}\n",
      "{'logistical/obs_consumed_per_second': 240.16483516, 'logistical/obs_generated_per_second': 108.36263736, 'logistical/data_consumption_ratio': 2.21646445, 'logistical/manual_train_pause': 0.0, 'trn_control_loss': 0.00265774, 'consistency losses/trn_steer_cost': 0.00465893, 'consistency losses/trn_te_loss': 0.01754485, 'consistency losses/trn_%_updates_w_torque_loss': 0.02222222, 'consistency losses/trn_%_updates_w_torque_delta_loss': 1.0, 'consistency losses/trn_torque_delta_loss': 37.45407986, 'consistency losses/trn_torque_loss': 77.484375}\n",
      "\n",
      "\n",
      " Eval...\n",
      "EPOCH 60\n",
      "\n"
     ]
    },
    {
     "name": "stdout",
     "output_type": "stream",
     "text": [
      "{'trn_control_loss': 0.00257918, 'consistency losses/trn_steer_cost': 0.00460272, 'consistency losses/trn_te_loss': 0.01748219, 'consistency losses/trn_%_updates_w_torque_loss': 0.0859375, 'consistency losses/trn_%_updates_w_torque_delta_loss': 1.0, 'consistency losses/trn_torque_delta_loss': 36.2406311, 'logistical/obs_consumed_per_second': 239.4015748, 'logistical/obs_generated_per_second': 119.96062992, 'logistical/data_consumption_ratio': 2.00015207, 'logistical/manual_train_pause': 0.0, 'consistency losses/trn_torque_loss': 79.05397727, 'logistical/max_param': 16.24633408, 'logistical/lr': 0.0001}\n",
      "{'logistical/obs_consumed_per_second': 246.765625, 'logistical/obs_generated_per_second': 110.4609375, 'logistical/data_consumption_ratio': 2.23571218, 'logistical/manual_train_pause': 0.0, 'trn_control_loss': 0.00275388, 'consistency losses/trn_steer_cost': 0.00490934, 'consistency losses/trn_te_loss': 0.01886007, 'consistency losses/trn_%_updates_w_torque_loss': 0.03125, 'consistency losses/trn_%_updates_w_torque_delta_loss': 0.9921875, 'consistency losses/trn_torque_delta_loss': 41.19745017, 'consistency losses/trn_torque_loss': 111.25, 'logistical/max_param': 16.24664497, 'logistical/lr': 0.0001}\n",
      "{'logistical/obs_consumed_per_second': 236.515625, 'logistical/obs_generated_per_second': 110.15625, 'logistical/data_consumption_ratio': 2.15044009, 'logistical/manual_train_pause': 0.0, 'trn_control_loss': 0.00283549, 'consistency losses/trn_steer_cost': 0.00486308, 'consistency losses/trn_te_loss': 0.0183685, 'consistency losses/trn_%_updates_w_torque_loss': 0.0078125, 'consistency losses/trn_%_updates_w_torque_delta_loss': 0.9765625, 'consistency losses/trn_torque_delta_loss': 35.69948437, 'consistency losses/trn_torque_loss': 38.34375, 'logistical/max_param': 16.24653435, 'logistical/lr': 0.0001}\n",
      "{'logistical/obs_consumed_per_second': 238.734375, 'logistical/obs_generated_per_second': 112.546875, 'logistical/data_consumption_ratio': 2.12608384, 'logistical/manual_train_pause': 0.0, 'trn_control_loss': 0.00261027, 'consistency losses/trn_steer_cost': 0.00426778, 'consistency losses/trn_te_loss': 0.01651134, 'consistency losses/trn_%_updates_w_torque_loss': 0.0390625, 'consistency losses/trn_%_updates_w_torque_delta_loss': 1.0, 'consistency losses/trn_torque_delta_loss': 34.78863525, 'consistency losses/trn_torque_loss': 179.05625, 'logistical/max_param': 16.24665833, 'logistical/lr': 0.0001}\n",
      "{'logistical/obs_consumed_per_second': 243.625, 'logistical/obs_generated_per_second': 118.1953125, 'logistical/data_consumption_ratio': 2.06299548, 'logistical/manual_train_pause': 0.0, 'trn_control_loss': 0.00292925, 'consistency losses/trn_steer_cost': 0.00505857, 'consistency losses/trn_te_loss': 0.01909195, 'consistency losses/trn_%_updates_w_torque_loss': 0.078125, 'consistency losses/trn_%_updates_w_torque_delta_loss': 1.0, 'consistency losses/trn_torque_delta_loss': 39.40057373, 'consistency losses/trn_torque_loss': 132.76875, 'logistical/max_param': 16.2468853, 'logistical/lr': 0.0001}\n"
     ]
    }
   ],
   "source": [
    "n_epochs = 100\n",
    "log_wandb = True\n",
    "\n",
    "for e in range(START_E, n_epochs):\n",
    "    \n",
    "    # Train\n",
    "    print(f\"EPOCH {e}\\n\")\n",
    "    run_epoch(dataloader_trn, m, opt=opt, scaler=scaler, \n",
    "              train=True, backwards=True, log_wandb=log_wandb, wandb=wandb, updates_per_epoch=2650)\n",
    "    \n",
    "    print(\"\\n\\n Eval...\")\n",
    "    \n",
    "    #eval_rw(rw_dataloader, m, wandb) # will log directly to wandb\n",
    "        \n",
    "    # Saving model checkpoint each epoch\n",
    "    torch.save(m.state_dict(), f\"{BESPOKE_ROOT}/models/m_{model_stem}_e{e}.torch\")\n",
    "    "
   ]
  },
  {
   "cell_type": "code",
   "execution_count": null,
   "metadata": {},
   "outputs": [],
   "source": []
  },
  {
   "cell_type": "code",
   "execution_count": null,
   "metadata": {},
   "outputs": [],
   "source": []
  },
  {
   "cell_type": "code",
   "execution_count": 10,
   "metadata": {
    "scrolled": true
   },
   "outputs": [
    {
     "name": "stderr",
     "output_type": "stream",
     "text": [
      "/home/beans/miniconda3/envs/py38/lib/python3.8/site-packages/torch/utils/checkpoint.py:25: UserWarning: None of the inputs have requires_grad=True. Gradients will be None\n",
      "  warnings.warn(\"None of the inputs have requires_grad=True. Gradients will be None\")\n"
     ]
    },
    {
     "name": "stdout",
     "output_type": "stream",
     "text": [
      "CPU times: user 14.3 s, sys: 417 ms, total: 14.7 s\n",
      "Wall time: 14 s\n"
     ]
    }
   ],
   "source": [
    "%%time\n",
    "\n",
    "eval_rw(rw_dataloader, m, wandb) # will log directly to wandb"
   ]
  },
  {
   "cell_type": "code",
   "execution_count": null,
   "metadata": {},
   "outputs": [],
   "source": []
  },
  {
   "cell_type": "code",
   "execution_count": 13,
   "metadata": {
    "scrolled": true
   },
   "outputs": [],
   "source": [
    "torch.save(m.state_dict(), f\"{BESPOKE_ROOT}/models/m_{model_stem}_e57.torch\")"
   ]
  },
  {
   "cell_type": "code",
   "execution_count": null,
   "metadata": {},
   "outputs": [],
   "source": []
  }
 ],
 "metadata": {
  "kernelspec": {
   "display_name": "Python 3 (ipykernel)",
   "language": "python",
   "name": "python3"
  },
  "language_info": {
   "codemirror_mode": {
    "name": "ipython",
    "version": 3
   },
   "file_extension": ".py",
   "mimetype": "text/x-python",
   "name": "python",
   "nbconvert_exporter": "python",
   "pygments_lexer": "ipython3",
   "version": "3.8.11"
  }
 },
 "nbformat": 4,
 "nbformat_minor": 4
}
