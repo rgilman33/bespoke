{
 "cells": [
  {
   "cell_type": "code",
   "execution_count": 46,
   "id": "569c293f",
   "metadata": {
    "scrolled": true
   },
   "outputs": [
    {
     "name": "stdout",
     "output_type": "stream",
     "text": [
      "The autoreload extension is already loaded. To reload it, use:\n",
      "  %reload_ext autoreload\n"
     ]
    }
   ],
   "source": [
    "%matplotlib inline\n",
    "%load_ext autoreload\n",
    "%autoreload 2\n",
    "\n",
    "import sys\n",
    "sys.path.append('/media/beans/ssd/bespoke')\n",
    "\n",
    "from constants import *\n",
    "from imports import *\n",
    "from viz_utils import *\n",
    "from traj_utils import *"
   ]
  },
  {
   "cell_type": "code",
   "execution_count": 47,
   "id": "a85b6552",
   "metadata": {
    "scrolled": true
   },
   "outputs": [],
   "source": [
    "run_paths = glob.glob(\"/media/beans/ssd/blender_membank/*/run*\", recursive=True)"
   ]
  },
  {
   "cell_type": "code",
   "execution_count": 48,
   "id": "8e65747e",
   "metadata": {},
   "outputs": [
    {
     "data": {
      "text/plain": [
       "((1160, 5),\n",
       " (1160, 30),\n",
       " (1160, 30),\n",
       " (1160, 30),\n",
       " '/media/beans/ssd/blender_membank/dataloader_06/run_7')"
      ]
     },
     "execution_count": 48,
     "metadata": {},
     "output_type": "execute_result"
    }
   ],
   "source": [
    "run_path = random.choice(run_paths)\n",
    "\n",
    "aux = np.concatenate([np.load(f'{run_path}/aux_{i}.npy') for i in range(115, 1160, 116)], axis=0)\n",
    "targets = np.concatenate([np.load(f'{run_path}/targets_{i}.npy') for i in range(115, 1160, 116)], axis=0)\n",
    "\n",
    "targets[:-1,:] = targets[1:,:] #TODO this should be moved further upstream, remove from here\n",
    "aux[:-1,:] = aux[1:,:] # NOTE this stagger is verified correct\n",
    "\n",
    "targets_all = targets\n",
    "targets, wp_dists, wp_z = np.split(targets_all, 3, axis=1)\n",
    "\n",
    "aux.shape, targets.shape, wp_dists.shape, wp_z.shape, run_path"
   ]
  },
  {
   "cell_type": "code",
   "execution_count": 49,
   "id": "827f48b6",
   "metadata": {},
   "outputs": [],
   "source": [
    "ix = 1100\n",
    "headings = get_headings_from_traj(targets[ix], wp_dists[ix])\n",
    "curvatures = get_curvatures_from_headings(headings)"
   ]
  },
  {
   "cell_type": "code",
   "execution_count": 50,
   "id": "58e71260",
   "metadata": {},
   "outputs": [
    {
     "data": {
      "text/plain": [
       "array([0.9992395 , 0.999941  , 0.9999321 , 0.99988586, 0.9999606 ,\n",
       "       0.9999693 , 0.9999999 , 0.99999994, 0.9997375 , 0.99997425,\n",
       "       0.99986637, 0.9999961 , 0.9998237 , 0.9999954 , 0.99994564,\n",
       "       0.99986655, 0.9997316 , 0.99997866, 0.9999928 , 0.9947273 ,\n",
       "       0.980456  , 0.97692835, 0.9813106 , 0.98946977, 0.9953657 ,\n",
       "       0.9981442 , 0.999538  , 0.999944  , 0.99999326], dtype=float32)"
      ]
     },
     "execution_count": 50,
     "metadata": {},
     "output_type": "execute_result"
    }
   ],
   "source": [
    "hds = abs(headings[1:] - headings[:-1])\n",
    "np.cos(hds)"
   ]
  },
  {
   "cell_type": "code",
   "execution_count": 51,
   "id": "7011ee64",
   "metadata": {},
   "outputs": [
    {
     "data": {
      "text/plain": [
       "array([0.03900252, 0.01086193, 0.01165127, 0.01510922, 0.0088765 ,\n",
       "       0.00783779, 0.00051683, 0.00035583, 0.02291268, 0.00717608,\n",
       "       0.01634808, 0.00279308, 0.01877756, 0.00302237, 0.01042916,\n",
       "       0.01633905, 0.02316849, 0.00653458, 0.0037981 , 0.10273562,\n",
       "       0.19803035, 0.21522492, 0.19363844, 0.14525008, 0.09631097,\n",
       "       0.0609318 , 0.0303992 , 0.0105859 , 0.00367665], dtype=float32)"
      ]
     },
     "execution_count": 51,
     "metadata": {},
     "output_type": "execute_result"
    }
   ],
   "source": [
    "hds"
   ]
  },
  {
   "cell_type": "code",
   "execution_count": 53,
   "id": "b91cb03f",
   "metadata": {},
   "outputs": [
    {
     "data": {
      "text/plain": [
       "array([0.9992395 , 0.99994099, 0.99993211, 0.99988586, 0.9999606 ,\n",
       "       0.9999693 , 0.99999988, 0.99999994, 0.9997375 , 0.99997425,\n",
       "       0.99986637, 0.99999613, 0.99982369, 0.99999541, 0.99994564,\n",
       "       0.99986655, 0.9997316 , 0.99997866, 0.99999279, 9.94727314,\n",
       "       9.80455995, 9.76928353, 9.81310606, 9.89469767, 9.95365679,\n",
       "       9.98144209, 9.99538004, 9.99943972, 9.99993265])"
      ]
     },
     "execution_count": 53,
     "metadata": {},
     "output_type": "execute_result"
    }
   ],
   "source": [
    "SEGMENT_DISTS * np.cos(hds)"
   ]
  },
  {
   "cell_type": "code",
   "execution_count": 60,
   "id": "a2edfecf",
   "metadata": {},
   "outputs": [
    {
     "data": {
      "text/plain": [
       "11.459155902616466"
      ]
     },
     "execution_count": 60,
     "metadata": {},
     "output_type": "execute_result"
    }
   ],
   "source": [
    "np.degrees(.2)"
   ]
  },
  {
   "cell_type": "code",
   "execution_count": 61,
   "id": "19684528",
   "metadata": {},
   "outputs": [
    {
     "data": {
      "text/plain": [
       "0.9800665778412416"
      ]
     },
     "execution_count": 61,
     "metadata": {},
     "output_type": "execute_result"
    }
   ],
   "source": [
    "np.cos(.2)"
   ]
  },
  {
   "cell_type": "code",
   "execution_count": 62,
   "id": "07a44258",
   "metadata": {},
   "outputs": [
    {
     "data": {
      "text/plain": [
       "array([  5.9726496,   6.9658165,   7.961539 ,   8.951186 ,   9.933262 ,\n",
       "        10.92093  ,  11.91357  ,  12.902941 ,  13.8905115,  14.871224 ,\n",
       "        15.85002  ,  16.830822 ,  17.812317 ,  18.794916 ,  19.775692 ,\n",
       "        20.749609 ,  21.722643 ,  22.694508 ,  23.669004 ,  24.64528  ,\n",
       "        34.187756 ,  43.371243 ,  52.082294 ,  60.36711  ,  68.41832  ,\n",
       "        76.446014 ,  84.59853  ,  92.97434  , 101.61722  , 110.509636 ],\n",
       "      dtype=float32)"
      ]
     },
     "execution_count": 62,
     "metadata": {},
     "output_type": "execute_result"
    }
   ],
   "source": [
    "wp_dists[ix]"
   ]
  },
  {
   "cell_type": "code",
   "execution_count": 63,
   "id": "3f60255d",
   "metadata": {},
   "outputs": [
    {
     "data": {
      "text/plain": [
       "(124.15660840272903, 110.509636)"
      ]
     },
     "execution_count": 63,
     "metadata": {},
     "output_type": "execute_result"
    }
   ],
   "source": [
    "(np.cos(hds) * SEGMENT_DISTS).sum() + 6, wp_dists[ix][-1]"
   ]
  },
  {
   "cell_type": "code",
   "execution_count": 64,
   "id": "06faf9ef",
   "metadata": {},
   "outputs": [
    {
     "data": {
      "text/plain": [
       "array([0.9992395 , 0.99994099, 0.99993211, 0.99988586, 0.9999606 ,\n",
       "       0.9999693 , 0.99999988, 0.99999994, 0.9997375 , 0.99997425,\n",
       "       0.99986637, 0.99999613, 0.99982369, 0.99999541, 0.99994564,\n",
       "       0.99986655, 0.9997316 , 0.99997866, 0.99999279, 9.94727314,\n",
       "       9.80455995, 9.76928353, 9.81310606, 9.89469767])"
      ]
     },
     "execution_count": 64,
     "metadata": {},
     "output_type": "execute_result"
    }
   ],
   "source": [
    "(np.cos(hds) * SEGMENT_DISTS)[:24]"
   ]
  },
  {
   "cell_type": "code",
   "execution_count": 65,
   "id": "1913984a",
   "metadata": {},
   "outputs": [
    {
     "data": {
      "text/plain": [
       "[<matplotlib.lines.Line2D at 0x7f2f33aee310>]"
      ]
     },
     "execution_count": 65,
     "metadata": {},
     "output_type": "execute_result"
    },
    {
     "data": {
      "image/png": "[encoded data removed]",
      "text/plain": [
       "<Figure size 1440x144 with 1 Axes>"
      ]
     },
     "metadata": {
      "needs_background": "light"
     },
     "output_type": "display_data"
    }
   ],
   "source": [
    "plt.figure(figsize=(20,2))\n",
    "plt.plot(wp_dists[:, -1])"
   ]
  },
  {
   "cell_type": "code",
   "execution_count": 66,
   "id": "ce1a4765",
   "metadata": {},
   "outputs": [
    {
     "data": {
      "text/plain": [
       "((1160, 90), (1160, 30))"
      ]
     },
     "execution_count": 66,
     "metadata": {},
     "output_type": "execute_result"
    }
   ],
   "source": [
    "targets_all.shape, targets.shape"
   ]
  },
  {
   "cell_type": "code",
   "execution_count": 67,
   "id": "08829016",
   "metadata": {},
   "outputs": [],
   "source": [
    "speeds = aux[:,2]\n",
    "wp_angles = gather_preds(targets, speeds)"
   ]
  },
  {
   "cell_type": "code",
   "execution_count": 68,
   "id": "5b355a33",
   "metadata": {},
   "outputs": [
    {
     "data": {
      "text/plain": [
       "[<matplotlib.lines.Line2D at 0x7f2f33ac7cd0>]"
      ]
     },
     "execution_count": 68,
     "metadata": {},
     "output_type": "execute_result"
    },
    {
     "data": {
      "image/png": "[encoded data removed]",
      "text/plain": [
       "<Figure size 1440x144 with 1 Axes>"
      ]
     },
     "metadata": {
      "needs_background": "light"
     },
     "output_type": "display_data"
    }
   ],
   "source": [
    "# steer\n",
    "plt.figure(figsize=(20,2))\n",
    "plt.plot(wp_angles)"
   ]
  },
  {
   "cell_type": "code",
   "execution_count": 69,
   "id": "35e6c284",
   "metadata": {},
   "outputs": [
    {
     "data": {
      "text/plain": [
       "[<matplotlib.lines.Line2D at 0x7f2f33a26610>]"
      ]
     },
     "execution_count": 69,
     "metadata": {},
     "output_type": "execute_result"
    },
    {
     "data": {
      "image/png": "[encoded data removed]",
      "text/plain": [
       "<Figure size 1440x144 with 1 Axes>"
      ]
     },
     "metadata": {
      "needs_background": "light"
     },
     "output_type": "display_data"
    }
   ],
   "source": [
    "plt.figure(figsize=(20,2))\n",
    "plt.plot(speeds)"
   ]
  },
  {
   "cell_type": "code",
   "execution_count": 70,
   "id": "3f17ffa4",
   "metadata": {},
   "outputs": [],
   "source": [
    "ccs = []\n",
    "for i in range(len(targets)):\n",
    "    h = get_headings_from_traj(targets[i], wp_dists[i])\n",
    "    s = kph_to_mps(speeds[i])\n",
    "    ccs.append(get_curve_constrained_speed(h, s))"
   ]
  },
  {
   "cell_type": "code",
   "execution_count": 71,
   "id": "6b88b718",
   "metadata": {},
   "outputs": [
    {
     "data": {
      "text/plain": [
       "[<matplotlib.lines.Line2D at 0x7f2f33a0e370>]"
      ]
     },
     "execution_count": 71,
     "metadata": {},
     "output_type": "execute_result"
    },
    {
     "data": {
      "image/png": "[encoded data removed]",
      "text/plain": [
       "<Figure size 1440x144 with 1 Axes>"
      ]
     },
     "metadata": {
      "needs_background": "light"
     },
     "output_type": "display_data"
    }
   ],
   "source": [
    "# curve constrained speeds\n",
    "plt.figure(figsize=(20,2))\n",
    "plt.plot(ccs)"
   ]
  },
  {
   "cell_type": "code",
   "execution_count": null,
   "id": "2b8bf8c4",
   "metadata": {},
   "outputs": [],
   "source": []
  },
  {
   "cell_type": "code",
   "execution_count": 72,
   "id": "9f81d72a",
   "metadata": {},
   "outputs": [
    {
     "data": {
      "text/plain": [
       "53.07822"
      ]
     },
     "execution_count": 72,
     "metadata": {},
     "output_type": "execute_result"
    }
   ],
   "source": [
    "speeds.max()"
   ]
  },
  {
   "cell_type": "code",
   "execution_count": 73,
   "id": "2ea2df92",
   "metadata": {},
   "outputs": [
    {
     "data": {
      "text/plain": [
       "<BarContainer object of 10 artists>"
      ]
     },
     "execution_count": 73,
     "metadata": {},
     "output_type": "execute_result"
    },
    {
     "data": {
      "image/png": "[encoded data removed]",
      "text/plain": [
       "<Figure size 432x288 with 1 Axes>"
      ]
     },
     "metadata": {
      "needs_background": "light"
     },
     "output_type": "display_data"
    }
   ],
   "source": [
    "# Torque\n",
    "torque = np.degrees(wp_angles) * speeds**2\n",
    "plt.hist(torque)[2]"
   ]
  },
  {
   "cell_type": "code",
   "execution_count": 74,
   "id": "d5f0dc4b",
   "metadata": {},
   "outputs": [
    {
     "data": {
      "text/plain": [
       "<BarContainer object of 10 artists>"
      ]
     },
     "execution_count": 74,
     "metadata": {},
     "output_type": "execute_result"
    },
    {
     "data": {
      "image/png": "[encoded data removed]",
      "text/plain": [
       "<Figure size 432x288 with 1 Axes>"
      ]
     },
     "metadata": {
      "needs_background": "light"
     },
     "output_type": "display_data"
    }
   ],
   "source": [
    "plt.hist(torque[1:]-torque[:-1])[2]"
   ]
  },
  {
   "cell_type": "code",
   "execution_count": 75,
   "id": "7bd969ce",
   "metadata": {},
   "outputs": [],
   "source": [
    "img_paths = sorted(glob.glob(f\"{run_path}/imgs/*\"))"
   ]
  },
  {
   "cell_type": "code",
   "execution_count": 76,
   "id": "5547b065",
   "metadata": {},
   "outputs": [],
   "source": [
    "height, width, channels = cv2.imread(img_paths[0]).shape #processed_imgs[0].shape\n",
    "w2 = width//2\n",
    "h2 = height//2\n",
    "\n",
    "fps = 20\n",
    "\n",
    "video = cv2.VideoWriter(f'/home/beans/bespoke_vids/sim/for_model_5.17.avi', cv2.VideoWriter_fourcc(*\"MJPG\"), fps, (width,height))\n",
    "\n",
    "for i in range(len(img_paths)-1):\n",
    "\n",
    "    img = cv2.imread(img_paths[i])\n",
    "    \n",
    "    # wps\n",
    "    img = draw_wps(img, targets[i])\n",
    "     \n",
    "    # Guidelines\n",
    "    img[:,w2-1:w2+1,:] -= 20 # darker line vertical center\n",
    "    img[h2-1:h2+1:,:,:] -= 20 # darker line horizontal center\n",
    "    \n",
    "    video.write(img)\n",
    "    \n",
    "video.release()"
   ]
  },
  {
   "cell_type": "code",
   "execution_count": null,
   "id": "36d421fd",
   "metadata": {},
   "outputs": [],
   "source": []
  },
  {
   "cell_type": "code",
   "execution_count": null,
   "id": "64f16d3a",
   "metadata": {},
   "outputs": [],
   "source": []
  },
  {
   "cell_type": "code",
   "execution_count": 77,
   "id": "e30b8126",
   "metadata": {},
   "outputs": [
    {
     "name": "stdout",
     "output_type": "stream",
     "text": [
      "(1160, 30) (1160, 1, 13, 80) (1160, 1, 13, 80)\n",
      "Made vid!\n"
     ]
    }
   ],
   "source": [
    "from viz_utils import make_vid\n",
    "\n",
    "imgs = np.stack([cv2.imread(f)[:,:,::-1] for f in img_paths]).astype(np.uint8)\n",
    "imgs.shape, aux.shape\n",
    "\n",
    "run_id = \"sim\"\n",
    "model_stem = \"7.7_avg\"\n",
    "make_vid(run_id, model_stem, imgs, aux, targets=targets)"
   ]
  },
  {
   "cell_type": "code",
   "execution_count": null,
   "id": "4b254b4e",
   "metadata": {},
   "outputs": [],
   "source": []
  },
  {
   "cell_type": "code",
   "execution_count": 79,
   "id": "a35c974e",
   "metadata": {},
   "outputs": [
    {
     "data": {
      "text/plain": [
       "array([11.842471  , 13.445037  , 10.276657  ,  9.63339   , 10.2454    ,\n",
       "       10.231232  ,  9.767325  , 11.163058  ,  0.15492584,  8.965064  ,\n",
       "       13.216338  ,  8.414433  ], dtype=float32)"
      ]
     },
     "execution_count": 79,
     "metadata": {},
     "output_type": "execute_result"
    }
   ],
   "source": [
    "paths = glob.glob(f\"{BLENDER_MEMBANK_ROOT}/**/obs_per_sec.npy\", recursive=True)\n",
    "obs_per_sec = np.array([np.load(p)[0] for p in paths])\n",
    "obs_per_sec"
   ]
  },
  {
   "cell_type": "code",
   "execution_count": null,
   "id": "6ba672eb",
   "metadata": {},
   "outputs": [],
   "source": []
  },
  {
   "cell_type": "code",
   "execution_count": 80,
   "id": "c05d9acc",
   "metadata": {},
   "outputs": [
    {
     "name": "stdout",
     "output_type": "stream",
     "text": [
      "couldn't load 0 out of 360 runs\n"
     ]
    }
   ],
   "source": [
    "all_aux = []\n",
    "all_wp_angles = []\n",
    "all_wp_dists = []\n",
    "n_couldnt_load_runs = 0\n",
    "for d in range(N_RUNNERS):\n",
    "    datagen_id = (\"00\"+str(d))[-2:]\n",
    "    for r in range(RUNS_TO_STORE_PER_PROCESS):\n",
    "        run_path = f\"/media/beans/ssd/blender_membank/dataloader_{datagen_id}/run_{r}\"\n",
    "        n_targets_paths_files = len(glob.glob(f\"{run_path}/targets_*.npy\"))\n",
    "        targets_paths = [f'{run_path}/targets_{i}.npy' for i in range(115, 1160, 116)]\n",
    "        \n",
    "        if n_targets_paths_files < len(targets_paths):\n",
    "            n_couldnt_load_runs += 1\n",
    "            continue\n",
    "            \n",
    "        aux = np.concatenate([np.load(f'{run_path}/aux_{i}.npy') for i in range(115, 1160, 116)], axis=0)\n",
    "        targets = np.concatenate([np.load(p) for p in targets_paths], axis=0)\n",
    "        \n",
    "        wp_angles, wp_dists, wp_zs = np.split(targets, 3, axis=1)\n",
    "        \n",
    "        all_aux.append(aux)\n",
    "        all_wp_angles.append(wp_angles)\n",
    "        all_wp_dists.append(wp_dists)\n",
    "        \n",
    "all_aux = np.stack(all_aux, axis=0)\n",
    "all_wp_angles = np.stack(all_wp_angles, axis=0)\n",
    "all_wp_dists = np.stack(all_wp_dists, axis=0)\n",
    "\n",
    "print(f\"couldn't load {n_couldnt_load_runs} out of {N_RUNNERS*RUNS_TO_STORE_PER_PROCESS} runs\")"
   ]
  },
  {
   "cell_type": "code",
   "execution_count": 92,
   "id": "f7324ac3",
   "metadata": {},
   "outputs": [
    {
     "name": "stdout",
     "output_type": "stream",
     "text": [
      "CPU times: user 5.12 s, sys: 19.9 ms, total: 5.14 s\n",
      "Wall time: 5.12 s\n"
     ]
    }
   ],
   "source": [
    "%%time\n",
    "all_headings = get_headings_from_traj_batch(all_wp_angles, all_wp_dists)"
   ]
  },
  {
   "cell_type": "code",
   "execution_count": 93,
   "id": "4a43f292",
   "metadata": {},
   "outputs": [
    {
     "data": {
      "text/plain": [
       "((360, 1160, 30), (360, 1160, 30), (360, 1160, 30))"
      ]
     },
     "execution_count": 93,
     "metadata": {},
     "output_type": "execute_result"
    }
   ],
   "source": [
    "all_wp_angles.shape, all_wp_dists.shape, all_headings.shape"
   ]
  },
  {
   "cell_type": "code",
   "execution_count": null,
   "id": "7054e8b0",
   "metadata": {},
   "outputs": [],
   "source": []
  },
  {
   "cell_type": "code",
   "execution_count": 94,
   "id": "9859a847",
   "metadata": {},
   "outputs": [],
   "source": [
    "all_torques = []\n",
    "all_tds = []\n",
    "for i in range(len(all_aux)):\n",
    "    speeds = all_aux[i, :, 2]\n",
    "    wp_angles = gather_preds(all_wp_angles[i, :, :], speeds)\n",
    "    torque = np.degrees(wp_angles) * speeds**2\n",
    "    all_torques.append(torque)\n",
    "    all_tds.append(torque[1:]-torque[:-1])\n",
    "    \n",
    "all_torques = np.concatenate(all_torques)\n",
    "all_tds = np.concatenate(all_tds)"
   ]
  },
  {
   "cell_type": "code",
   "execution_count": 95,
   "id": "4800d0cd",
   "metadata": {},
   "outputs": [
    {
     "data": {
      "text/plain": [
       "<BarContainer object of 40 artists>"
      ]
     },
     "execution_count": 95,
     "metadata": {},
     "output_type": "execute_result"
    },
    {
     "data": {
      "image/png": "[encoded data removed]",
      "text/plain": [
       "<Figure size 432x288 with 1 Axes>"
      ]
     },
     "metadata": {
      "needs_background": "light"
     },
     "output_type": "display_data"
    }
   ],
   "source": [
    "plt.hist(all_torques.flatten(), bins=40)[2]"
   ]
  },
  {
   "cell_type": "code",
   "execution_count": 96,
   "id": "c2e07261",
   "metadata": {},
   "outputs": [
    {
     "data": {
      "text/plain": [
       "<BarContainer object of 40 artists>"
      ]
     },
     "execution_count": 96,
     "metadata": {},
     "output_type": "execute_result"
    },
    {
     "data": {
      "image/png": "[encoded data removed]",
      "text/plain": [
       "<Figure size 432x288 with 1 Axes>"
      ]
     },
     "metadata": {
      "needs_background": "light"
     },
     "output_type": "display_data"
    }
   ],
   "source": [
    "plt.hist(all_tds.flatten(), bins=40)[2]"
   ]
  },
  {
   "cell_type": "code",
   "execution_count": 97,
   "id": "8c7434da",
   "metadata": {},
   "outputs": [
    {
     "data": {
      "text/plain": [
       "(463.2444481524403, 6267.0884958267925)"
      ]
     },
     "execution_count": 97,
     "metadata": {},
     "output_type": "execute_result"
    }
   ],
   "source": [
    "np.quantile(abs(all_tds.flatten()), .999), np.quantile(abs(all_torques.flatten()), .999)"
   ]
  },
  {
   "cell_type": "code",
   "execution_count": 98,
   "id": "aeeceebc",
   "metadata": {},
   "outputs": [
    {
     "data": {
      "text/plain": [
       "array([  5.995638,   6.994637,   7.993602,   8.99253 ,   9.991377,\n",
       "        10.990188,  11.988926,  12.98757 ,  13.986117,  14.98455 ,\n",
       "        15.982848,  16.980965,  17.978952,  18.976866,  19.974594,\n",
       "        20.97217 ,  21.969555,  22.966846,  23.963943,  24.960863,\n",
       "        34.92002 ,  44.8577  ,  54.770874,  64.65863 ,  74.51911 ,\n",
       "        84.34995 ,  94.150696, 103.92116 , 113.66215 , 123.374176],\n",
       "      dtype=float32)"
      ]
     },
     "execution_count": 98,
     "metadata": {},
     "output_type": "execute_result"
    }
   ],
   "source": [
    "mean_dists = abs(all_wp_dists).mean(axis=0).mean(0)\n",
    "mean_dists"
   ]
  },
  {
   "cell_type": "code",
   "execution_count": 99,
   "id": "ebda83ac",
   "metadata": {},
   "outputs": [
    {
     "data": {
      "text/plain": [
       "<BarContainer object of 40 artists>"
      ]
     },
     "execution_count": 99,
     "metadata": {},
     "output_type": "execute_result"
    },
    {
     "data": {
      "image/png": "[encoded data removed]",
      "text/plain": [
       "<Figure size 432x288 with 1 Axes>"
      ]
     },
     "metadata": {
      "needs_background": "light"
     },
     "output_type": "display_data"
    }
   ],
   "source": [
    "plt.hist(all_headings.flatten(), bins=40)[2]"
   ]
  },
  {
   "cell_type": "code",
   "execution_count": 100,
   "id": "548734af",
   "metadata": {},
   "outputs": [
    {
     "data": {
      "text/plain": [
       "array([0.02557581, 0.0294817 , 0.03332545, 0.03716544, 0.04098274,\n",
       "       0.04476761, 0.04851102, 0.05216971, 0.05571661, 0.05918089,\n",
       "       0.06260481, 0.06598821, 0.06935564, 0.07273806, 0.07616173,\n",
       "       0.07963772, 0.08310309, 0.08651136, 0.08987916, 0.09319666,\n",
       "       0.12488357, 0.15464026, 0.1819298 , 0.20662913, 0.22869396,\n",
       "       0.24870318, 0.26659095, 0.28248549, 0.2963673 , 0.3033509 ],\n",
       "      dtype=float32)"
      ]
     },
     "execution_count": 100,
     "metadata": {},
     "output_type": "execute_result"
    }
   ],
   "source": [
    "mean_headings = abs(all_headings).mean(axis=0).mean(0)\n",
    "mean_headings"
   ]
  },
  {
   "cell_type": "code",
   "execution_count": 102,
   "id": "642ff134",
   "metadata": {},
   "outputs": [
    {
     "data": {
      "text/plain": [
       "11.860853"
      ]
     },
     "execution_count": 102,
     "metadata": {},
     "output_type": "execute_result"
    }
   ],
   "source": [
    "mean_headings[-1] / mean_headings[0]"
   ]
  },
  {
   "cell_type": "code",
   "execution_count": null,
   "id": "58bcb0b4",
   "metadata": {},
   "outputs": [],
   "source": []
  },
  {
   "cell_type": "code",
   "execution_count": 103,
   "id": "fce191c0",
   "metadata": {},
   "outputs": [
    {
     "data": {
      "text/plain": [
       "array([0.01501583, 0.01664189, 0.01839747, 0.02021174, 0.02205646,\n",
       "       0.02391624, 0.02578221, 0.02764774, 0.02950348, 0.0313437 ,\n",
       "       0.03316661, 0.03497342, 0.03676248, 0.03853535, 0.04029406,\n",
       "       0.04204177, 0.04378234, 0.04551685, 0.04724532, 0.04896694,\n",
       "       0.06583856, 0.08189007, 0.09692572, 0.11099698, 0.12404112,\n",
       "       0.13605092, 0.14708899, 0.15721036, 0.16646256, 0.1748872 ],\n",
       "      dtype=float32)"
      ]
     },
     "execution_count": 103,
     "metadata": {},
     "output_type": "execute_result"
    }
   ],
   "source": [
    "mean_angles = abs(all_wp_angles).mean(axis=0).mean(0)\n",
    "mean_angles"
   ]
  },
  {
   "cell_type": "code",
   "execution_count": 104,
   "id": "db9f18f3",
   "metadata": {},
   "outputs": [
    {
     "data": {
      "text/plain": [
       "11.646854"
      ]
     },
     "execution_count": 104,
     "metadata": {},
     "output_type": "execute_result"
    }
   ],
   "source": [
    "mean_angles[-1] / mean_angles[0]"
   ]
  },
  {
   "cell_type": "code",
   "execution_count": 106,
   "id": "4ccdf0ca",
   "metadata": {},
   "outputs": [
    {
     "data": {
      "text/plain": [
       "1.0010553523898125"
      ]
     },
     "execution_count": 106,
     "metadata": {},
     "output_type": "execute_result"
    }
   ],
   "source": [
    "mean_angles[0] / .015"
   ]
  },
  {
   "cell_type": "code",
   "execution_count": 259,
   "id": "88e242f8",
   "metadata": {},
   "outputs": [
    {
     "data": {
      "text/plain": [
       "<BarContainer object of 40 artists>"
      ]
     },
     "execution_count": 259,
     "metadata": {},
     "output_type": "execute_result"
    },
    {
     "data": {
      "image/png": "[encoded data removed]",
      "text/plain": [
       "<Figure size 432x288 with 1 Axes>"
      ]
     },
     "metadata": {
      "needs_background": "light"
     },
     "output_type": "display_data"
    }
   ],
   "source": [
    "plt.hist(all_wp_angles.flatten(), bins=40)[2]"
   ]
  },
  {
   "cell_type": "code",
   "execution_count": 260,
   "id": "03839547",
   "metadata": {},
   "outputs": [
    {
     "data": {
      "text/plain": [
       "<BarContainer object of 40 artists>"
      ]
     },
     "execution_count": 260,
     "metadata": {},
     "output_type": "execute_result"
    },
    {
     "data": {
      "image/png": "[encoded data removed]",
      "text/plain": [
       "<Figure size 432x288 with 1 Axes>"
      ]
     },
     "metadata": {
      "needs_background": "light"
     },
     "output_type": "display_data"
    }
   ],
   "source": [
    "plt.hist(all_aux[:,:,2].flatten(), bins=40)[2]"
   ]
  },
  {
   "cell_type": "code",
   "execution_count": null,
   "id": "1f0be768",
   "metadata": {},
   "outputs": [],
   "source": []
  },
  {
   "cell_type": "code",
   "execution_count": null,
   "id": "74eb0a2f",
   "metadata": {},
   "outputs": [],
   "source": []
  },
  {
   "cell_type": "code",
   "execution_count": null,
   "id": "5b454f30",
   "metadata": {},
   "outputs": [],
   "source": []
  }
 ],
 "metadata": {
  "kernelspec": {
   "display_name": "Python 3 (ipykernel)",
   "language": "python",
   "name": "python3"
  },
  "language_info": {
   "codemirror_mode": {
    "name": "ipython",
    "version": 3
   },
   "file_extension": ".py",
   "mimetype": "text/x-python",
   "name": "python",
   "nbconvert_exporter": "python",
   "pygments_lexer": "ipython3",
   "version": "3.8.11"
  }
 },
 "nbformat": 4,
 "nbformat_minor": 5
}
