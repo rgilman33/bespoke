{
 "cells": [
  {
   "cell_type": "code",
   "execution_count": 1,
   "id": "569c293f",
   "metadata": {
    "scrolled": true
   },
   "outputs": [
    {
     "ename": "RuntimeError",
     "evalue": "CUDA error: out of memory\nCUDA kernel errors might be asynchronously reported at some other API call,so the stacktrace below might be incorrect.\nFor debugging consider passing CUDA_LAUNCH_BLOCKING=1.",
     "output_type": "error",
     "traceback": [
      "\u001b[0;31m---------------------------------------------------------------------------\u001b[0m",
      "\u001b[0;31mRuntimeError\u001b[0m                              Traceback (most recent call last)",
      "\u001b[0;32m/tmp/ipykernel_4143248/4182338939.py\u001b[0m in \u001b[0;36m<module>\u001b[0;34m\u001b[0m\n\u001b[1;32m      8\u001b[0m \u001b[0;32mfrom\u001b[0m \u001b[0mconstants\u001b[0m \u001b[0;32mimport\u001b[0m \u001b[0;34m*\u001b[0m\u001b[0;34m\u001b[0m\u001b[0;34m\u001b[0m\u001b[0m\n\u001b[1;32m      9\u001b[0m \u001b[0;32mfrom\u001b[0m \u001b[0mimports\u001b[0m \u001b[0;32mimport\u001b[0m \u001b[0;34m*\u001b[0m\u001b[0;34m\u001b[0m\u001b[0;34m\u001b[0m\u001b[0m\n\u001b[0;32m---> 10\u001b[0;31m \u001b[0;32mfrom\u001b[0m \u001b[0mviz_utils\u001b[0m \u001b[0;32mimport\u001b[0m \u001b[0;34m*\u001b[0m\u001b[0;34m\u001b[0m\u001b[0;34m\u001b[0m\u001b[0m\n\u001b[0m\u001b[1;32m     11\u001b[0m \u001b[0;32mfrom\u001b[0m \u001b[0mtraj_utils\u001b[0m \u001b[0;32mimport\u001b[0m \u001b[0;34m*\u001b[0m\u001b[0;34m\u001b[0m\u001b[0;34m\u001b[0m\u001b[0m\n",
      "\u001b[0;32m~/bespoke/viz_utils.py\u001b[0m in \u001b[0;36m<module>\u001b[0;34m\u001b[0m\n\u001b[1;32m      1\u001b[0m \u001b[0;32mfrom\u001b[0m \u001b[0mconstants\u001b[0m \u001b[0;32mimport\u001b[0m \u001b[0;34m*\u001b[0m\u001b[0;34m\u001b[0m\u001b[0;34m\u001b[0m\u001b[0m\n\u001b[1;32m      2\u001b[0m \u001b[0;32mfrom\u001b[0m \u001b[0mimports\u001b[0m \u001b[0;32mimport\u001b[0m \u001b[0;34m*\u001b[0m\u001b[0;34m\u001b[0m\u001b[0;34m\u001b[0m\u001b[0m\n\u001b[0;32m----> 3\u001b[0;31m \u001b[0;32mfrom\u001b[0m \u001b[0mtrain_utils\u001b[0m \u001b[0;32mimport\u001b[0m \u001b[0;34m*\u001b[0m\u001b[0;34m\u001b[0m\u001b[0;34m\u001b[0m\u001b[0m\n\u001b[0m\u001b[1;32m      4\u001b[0m \u001b[0;32mfrom\u001b[0m \u001b[0mtraj_utils\u001b[0m \u001b[0;32mimport\u001b[0m \u001b[0;34m*\u001b[0m\u001b[0;34m\u001b[0m\u001b[0;34m\u001b[0m\u001b[0m\n\u001b[1;32m      5\u001b[0m \u001b[0;34m\u001b[0m\u001b[0m\n",
      "\u001b[0;32m~/bespoke/train_utils.py\u001b[0m in \u001b[0;36m<module>\u001b[0;34m\u001b[0m\n\u001b[1;32m    164\u001b[0m \u001b[0;34m\u001b[0m\u001b[0m\n\u001b[1;32m    165\u001b[0m \u001b[0;31m# we're saying we don't care as much about the further wps, regardless of angle\u001b[0m\u001b[0;34m\u001b[0m\u001b[0;34m\u001b[0m\u001b[0;34m\u001b[0m\u001b[0m\n\u001b[0;32m--> 166\u001b[0;31m \u001b[0mloss_weights\u001b[0m \u001b[0;34m=\u001b[0m \u001b[0mtorch\u001b[0m\u001b[0;34m.\u001b[0m\u001b[0mfrom_numpy\u001b[0m\u001b[0;34m(\u001b[0m\u001b[0mpad\u001b[0m\u001b[0;34m(\u001b[0m\u001b[0mpad\u001b[0m\u001b[0;34m(\u001b[0m\u001b[0mnp\u001b[0m\u001b[0;34m.\u001b[0m\u001b[0mconcatenate\u001b[0m\u001b[0;34m(\u001b[0m\u001b[0;34m[\u001b[0m\u001b[0mnp\u001b[0m\u001b[0;34m.\u001b[0m\u001b[0mones\u001b[0m\u001b[0;34m(\u001b[0m\u001b[0;36m20\u001b[0m\u001b[0;34m)\u001b[0m\u001b[0;34m,\u001b[0m \u001b[0mnp\u001b[0m\u001b[0;34m.\u001b[0m\u001b[0mlinspace\u001b[0m\u001b[0;34m(\u001b[0m\u001b[0;36m1.\u001b[0m\u001b[0;34m,\u001b[0m \u001b[0;36m.5\u001b[0m\u001b[0;34m,\u001b[0m \u001b[0;36m10\u001b[0m\u001b[0;34m)\u001b[0m\u001b[0;34m]\u001b[0m\u001b[0;34m)\u001b[0m\u001b[0;34m)\u001b[0m\u001b[0;34m)\u001b[0m\u001b[0;34m.\u001b[0m\u001b[0mastype\u001b[0m\u001b[0;34m(\u001b[0m\u001b[0mnp\u001b[0m\u001b[0;34m.\u001b[0m\u001b[0mfloat16\u001b[0m\u001b[0;34m)\u001b[0m\u001b[0;34m)\u001b[0m\u001b[0;34m.\u001b[0m\u001b[0mto\u001b[0m\u001b[0;34m(\u001b[0m\u001b[0mdevice\u001b[0m\u001b[0;34m)\u001b[0m\u001b[0;34m\u001b[0m\u001b[0;34m\u001b[0m\u001b[0m\n\u001b[0m\u001b[1;32m    167\u001b[0m \u001b[0;34m\u001b[0m\u001b[0m\n\u001b[1;32m    168\u001b[0m def run_epoch(dataloader, #TODO prob put this in own file, it's a big one\n",
      "\u001b[0;31mRuntimeError\u001b[0m: CUDA error: out of memory\nCUDA kernel errors might be asynchronously reported at some other API call,so the stacktrace below might be incorrect.\nFor debugging consider passing CUDA_LAUNCH_BLOCKING=1."
     ]
    }
   ],
   "source": [
    "%matplotlib inline\n",
    "%load_ext autoreload\n",
    "%autoreload 2\n",
    "\n",
    "import sys\n",
    "sys.path.append('/home/beans/bespoke')\n",
    "\n",
    "from constants import *\n",
    "from imports import *\n",
    "from viz_utils import *\n",
    "from traj_utils import *"
   ]
  },
  {
   "cell_type": "code",
   "execution_count": 242,
   "id": "9ca54c0a",
   "metadata": {},
   "outputs": [],
   "source": [
    "set_lr(1e-4)"
   ]
  },
  {
   "cell_type": "code",
   "execution_count": 243,
   "id": "0fa2ba32",
   "metadata": {},
   "outputs": [
    {
     "data": {
      "text/plain": [
       "array([15.361563, 13.304913, 14.911545, 14.304365, 14.656443, 13.028007,\n",
       "       14.724176, 13.603374, 14.210723, 14.976454, 14.897807, 13.556804],\n",
       "      dtype=float32)"
      ]
     },
     "execution_count": 243,
     "metadata": {},
     "output_type": "execute_result"
    }
   ],
   "source": [
    "paths = glob.glob(f\"{BLENDER_MEMBANK_ROOT}/**/obs_per_sec.npy\", recursive=True)\n",
    "obs_per_sec = np.array([np.load(p)[0] for p in paths])\n",
    "obs_per_sec"
   ]
  },
  {
   "cell_type": "code",
   "execution_count": 244,
   "id": "50a032a4",
   "metadata": {},
   "outputs": [],
   "source": [
    "chunks_range = range(SEQ_LEN-1, 1160, SEQ_LEN)"
   ]
  },
  {
   "cell_type": "code",
   "execution_count": 245,
   "id": "a85b6552",
   "metadata": {
    "scrolled": true
   },
   "outputs": [],
   "source": [
    "run_paths = glob.glob(\"/home/beans/blender_membank/*/run*\", recursive=True)"
   ]
  },
  {
   "cell_type": "code",
   "execution_count": 246,
   "id": "8e65747e",
   "metadata": {},
   "outputs": [
    {
     "data": {
      "text/plain": [
       "((1160, 5),\n",
       " (1160, 30),\n",
       " (1160, 30),\n",
       " (1160, 30),\n",
       " (1160, 120, 80, 3),\n",
       " '/home/beans/blender_membank/dataloader_08/run_4')"
      ]
     },
     "execution_count": 246,
     "metadata": {},
     "output_type": "execute_result"
    }
   ],
   "source": [
    "run_path = random.choice(run_paths)\n",
    "\n",
    "aux = np.concatenate([np.load(f'{run_path}/aux_{i}.npy') for i in chunks_range], axis=0)\n",
    "targets = np.concatenate([np.load(f'{run_path}/targets_{i}.npy') for i in chunks_range], axis=0)\n",
    "maps = np.concatenate([np.load(f'{run_path}/maps_{i}.npy') for i in chunks_range], axis=0)\n",
    "\n",
    "targets[:-1,:] = targets[1:,:] #TODO this should be moved further upstream, remove from here\n",
    "aux[:-1,:] = aux[1:,:] # NOTE this stagger is verified correct\n",
    "#maps[:-1,:,:,:] = maps[1:,:,:,:]\n",
    "\n",
    "targets_all = targets\n",
    "targets, wp_dists, wp_z = np.split(targets_all, 3, axis=1)\n",
    "\n",
    "aux.shape, targets.shape, wp_dists.shape, wp_z.shape, maps.shape, run_path"
   ]
  },
  {
   "cell_type": "code",
   "execution_count": null,
   "id": "d662771e",
   "metadata": {},
   "outputs": [],
   "source": []
  },
  {
   "cell_type": "code",
   "execution_count": 247,
   "id": "f51aba5e",
   "metadata": {},
   "outputs": [
    {
     "data": {
      "text/plain": [
       "<matplotlib.image.AxesImage at 0x7faae9cd44c0>"
      ]
     },
     "execution_count": 247,
     "metadata": {},
     "output_type": "execute_result"
    },
    {
     "data": {
      "image/png": "[encoded data removed]",
      "text/plain": [
       "<Figure size 432x288 with 1 Axes>"
      ]
     },
     "metadata": {
      "needs_background": "light"
     },
     "output_type": "display_data"
    }
   ],
   "source": [
    "plt.imshow(maps[550])"
   ]
  },
  {
   "cell_type": "code",
   "execution_count": 248,
   "id": "08829016",
   "metadata": {},
   "outputs": [],
   "source": [
    "speeds = aux[:,2]\n",
    "wp_angles = gather_preds(targets, speeds)"
   ]
  },
  {
   "cell_type": "code",
   "execution_count": 249,
   "id": "5b355a33",
   "metadata": {},
   "outputs": [
    {
     "data": {
      "text/plain": [
       "[<matplotlib.lines.Line2D at 0x7faae93713d0>]"
      ]
     },
     "execution_count": 249,
     "metadata": {},
     "output_type": "execute_result"
    },
    {
     "data": {
      "image/png": "[encoded data removed]",
      "text/plain": [
       "<Figure size 1440x144 with 1 Axes>"
      ]
     },
     "metadata": {
      "needs_background": "light"
     },
     "output_type": "display_data"
    }
   ],
   "source": [
    "# steer\n",
    "plt.figure(figsize=(20,2))\n",
    "plt.plot(wp_angles)"
   ]
  },
  {
   "cell_type": "code",
   "execution_count": 250,
   "id": "35e6c284",
   "metadata": {},
   "outputs": [
    {
     "data": {
      "text/plain": [
       "[<matplotlib.lines.Line2D at 0x7faae932dfd0>]"
      ]
     },
     "execution_count": 250,
     "metadata": {},
     "output_type": "execute_result"
    },
    {
     "data": {
      "image/png": "[encoded data removed]",
      "text/plain": [
       "<Figure size 1440x144 with 1 Axes>"
      ]
     },
     "metadata": {
      "needs_background": "light"
     },
     "output_type": "display_data"
    }
   ],
   "source": [
    "plt.figure(figsize=(20,2))\n",
    "plt.plot(speeds)"
   ]
  },
  {
   "cell_type": "code",
   "execution_count": 251,
   "id": "0c30e003",
   "metadata": {},
   "outputs": [],
   "source": [
    "ix = 1000"
   ]
  },
  {
   "cell_type": "code",
   "execution_count": 252,
   "id": "cbd19f06",
   "metadata": {},
   "outputs": [],
   "source": [
    "t = smooth_near_wps(targets[ix])"
   ]
  },
  {
   "cell_type": "code",
   "execution_count": 253,
   "id": "67ee5503",
   "metadata": {},
   "outputs": [],
   "source": [
    "xs_smoothed = np.sin(t) * wp_dists[ix]\n",
    "ys_smoothed = np.cos(t) * wp_dists[ix]\n",
    "\n",
    "xs = np.sin(targets[ix]) * wp_dists[ix]\n",
    "ys = np.cos(targets[ix]) * wp_dists[ix]"
   ]
  },
  {
   "cell_type": "code",
   "execution_count": 254,
   "id": "2b3385bd",
   "metadata": {},
   "outputs": [],
   "source": [
    "headings_smoothed = get_headings_from_traj(t, wp_dists[ix])\n",
    "headings = get_headings_from_traj(targets[ix], wp_dists[ix])"
   ]
  },
  {
   "cell_type": "code",
   "execution_count": 255,
   "id": "b8617871",
   "metadata": {},
   "outputs": [
    {
     "data": {
      "image/png": "[encoded data removed]",
      "text/plain": [
       "<Figure size 864x216 with 3 Axes>"
      ]
     },
     "metadata": {
      "needs_background": "light"
     },
     "output_type": "display_data"
    }
   ],
   "source": [
    "fig = get_pts_and_headings_fig(t, wp_dists[ix], headings_smoothed, get_curvatures_from_headings(smooth_near_wps(headings_smoothed)))"
   ]
  },
  {
   "cell_type": "code",
   "execution_count": null,
   "id": "c5b8a288",
   "metadata": {},
   "outputs": [],
   "source": []
  },
  {
   "cell_type": "code",
   "execution_count": 256,
   "id": "2ea2df92",
   "metadata": {},
   "outputs": [
    {
     "data": {
      "text/plain": [
       "<BarContainer object of 10 artists>"
      ]
     },
     "execution_count": 256,
     "metadata": {},
     "output_type": "execute_result"
    },
    {
     "data": {
      "image/png": "[encoded data removed]",
      "text/plain": [
       "<Figure size 432x288 with 1 Axes>"
      ]
     },
     "metadata": {
      "needs_background": "light"
     },
     "output_type": "display_data"
    }
   ],
   "source": [
    "# Torque\n",
    "torque = np.degrees(wp_angles) * speeds**2\n",
    "plt.hist(torque)[2]"
   ]
  },
  {
   "cell_type": "code",
   "execution_count": 257,
   "id": "d5f0dc4b",
   "metadata": {},
   "outputs": [
    {
     "data": {
      "text/plain": [
       "<BarContainer object of 10 artists>"
      ]
     },
     "execution_count": 257,
     "metadata": {},
     "output_type": "execute_result"
    },
    {
     "data": {
      "image/png": "[encoded data removed]",
      "text/plain": [
       "<Figure size 432x288 with 1 Axes>"
      ]
     },
     "metadata": {
      "needs_background": "light"
     },
     "output_type": "display_data"
    }
   ],
   "source": [
    "plt.hist(torque[1:]-torque[:-1])[2]"
   ]
  },
  {
   "cell_type": "code",
   "execution_count": 258,
   "id": "7bd969ce",
   "metadata": {},
   "outputs": [],
   "source": [
    "img_paths = sorted(glob.glob(f\"{run_path}/imgs/*\"))"
   ]
  },
  {
   "cell_type": "code",
   "execution_count": 259,
   "id": "5547b065",
   "metadata": {},
   "outputs": [],
   "source": [
    "height, width, channels = cv2.imread(img_paths[0]).shape #processed_imgs[0].shape\n",
    "w2 = width//2\n",
    "h2 = height//2\n",
    "\n",
    "fps = 20\n",
    "\n",
    "video = cv2.VideoWriter(f'/home/beans/bespoke_vids/sim/for_model_5.17.avi', cv2.VideoWriter_fourcc(*\"MJPG\"), fps, (width,height))\n",
    "\n",
    "for i in range(len(img_paths)-1):\n",
    "\n",
    "    img = cv2.imread(img_paths[i])\n",
    "    \n",
    "    # wps\n",
    "    img = draw_wps(img, targets[i])\n",
    "     \n",
    "    # Guidelines\n",
    "    img[:,w2-1:w2+1,:] -= 20 # darker line vertical center\n",
    "    img[h2-1:h2+1:,:,:] -= 20 # darker line horizontal center\n",
    "    \n",
    "    img[:,-80:,:] = np.fliplr(maps[i])\n",
    "    \n",
    "    video.write(img)\n",
    "    \n",
    "video.release()"
   ]
  },
  {
   "cell_type": "code",
   "execution_count": null,
   "id": "1c07a980",
   "metadata": {},
   "outputs": [],
   "source": []
  },
  {
   "cell_type": "code",
   "execution_count": 260,
   "id": "e30b8126",
   "metadata": {
    "scrolled": true
   },
   "outputs": [
    {
     "name": "stdout",
     "output_type": "stream",
     "text": [
      "(1160, 30) (1160, 1, 15, 80) (1160, 1, 15, 80)\n",
      "240 690 3\n",
      "Made vid!\n"
     ]
    }
   ],
   "source": [
    "from viz_utils import make_vid\n",
    "\n",
    "imgs = np.stack([cv2.imread(f)[:,:,::-1] for f in img_paths]).astype(np.uint8)\n",
    "\n",
    "for i in range(len(imgs)):\n",
    "    imgs[i,:,-MAP_WIDTH:,:] = np.fliplr(maps[i])\n",
    "\n",
    "aux_vid = aux.copy()\n",
    "#aux_vid[:,:2] = 0 # zeroing out pitch and yaw\n",
    "\n",
    "run_id = \"sim\"\n",
    "model_stem = \"9.21_avg\"\n",
    "rollout_data = make_vid(run_id, model_stem, imgs, aux_vid, targets=targets, add_charts=False)"
   ]
  },
  {
   "cell_type": "code",
   "execution_count": null,
   "id": "a90bd58a",
   "metadata": {},
   "outputs": [],
   "source": []
  },
  {
   "cell_type": "code",
   "execution_count": 19,
   "id": "bb506c90",
   "metadata": {},
   "outputs": [
    {
     "name": "stdout",
     "output_type": "stream",
     "text": [
      "combined!\n"
     ]
    }
   ],
   "source": [
    "combine_vids(\"8.9_avg\", \"8.9_avgTrain\", \"sim\")"
   ]
  },
  {
   "cell_type": "code",
   "execution_count": 267,
   "id": "af444766",
   "metadata": {},
   "outputs": [],
   "source": [
    "#p = get_viz_rollout(model_stem, imgs, aux_vid, do_gradcam=False)\n",
    "#wp_angles_all, wp_headings_all, wp_curvatures_all, _, _, _, _, _ = p"
   ]
  },
  {
   "cell_type": "code",
   "execution_count": null,
   "id": "d150ada4",
   "metadata": {},
   "outputs": [],
   "source": []
  },
  {
   "cell_type": "code",
   "execution_count": 20,
   "id": "c7c407c3",
   "metadata": {},
   "outputs": [],
   "source": [
    "wp_angles_all, wp_headings_all, wp_curvatures_all, obsnet_outs, cnn_activations, cnn_grads, rnn_activations, rnn_grads = rollout_data"
   ]
  },
  {
   "cell_type": "code",
   "execution_count": 21,
   "id": "36a17acb",
   "metadata": {
    "scrolled": true
   },
   "outputs": [
    {
     "data": {
      "text/plain": [
       "(array([ 179.,  417.,  706., 2015.,  961.,  553.,  718.,  156.,   59.,\n",
       "          36.]),\n",
       " array([-0.0455819 , -0.0341057 , -0.02262951, -0.01115332,  0.00032287,\n",
       "         0.01179907,  0.02327526,  0.03475145,  0.04622764,  0.05770383,\n",
       "         0.06918003], dtype=float32),\n",
       " <BarContainer object of 10 artists>)"
      ]
     },
     "execution_count": 21,
     "metadata": {},
     "output_type": "execute_result"
    },
    {
     "data": {
      "image/png": "[encoded data removed]",
      "text/plain": [
       "<Figure size 432x288 with 1 Axes>"
      ]
     },
     "metadata": {
      "needs_background": "light"
     },
     "output_type": "display_data"
    }
   ],
   "source": [
    "plt.hist(targets[:,:5].flatten())\n",
    "plt.hist(wp_angles_all[:,:5].flatten(), alpha=.8)"
   ]
  },
  {
   "cell_type": "code",
   "execution_count": null,
   "id": "3c64278c",
   "metadata": {},
   "outputs": [],
   "source": []
  },
  {
   "cell_type": "code",
   "execution_count": null,
   "id": "ad8b9654",
   "metadata": {},
   "outputs": [],
   "source": []
  },
  {
   "cell_type": "code",
   "execution_count": 22,
   "id": "6215c376",
   "metadata": {},
   "outputs": [
    {
     "data": {
      "text/plain": [
       "(1160, 3)"
      ]
     },
     "execution_count": 22,
     "metadata": {},
     "output_type": "execute_result"
    }
   ],
   "source": [
    "obsnet_outs.shape"
   ]
  },
  {
   "cell_type": "code",
   "execution_count": 23,
   "id": "bbe16ef3",
   "metadata": {
    "scrolled": true
   },
   "outputs": [
    {
     "data": {
      "text/plain": [
       "[<matplotlib.lines.Line2D at 0x7f22c22967f0>]"
      ]
     },
     "execution_count": 23,
     "metadata": {},
     "output_type": "execute_result"
    },
    {
     "data": {
      "image/png": "[encoded data removed]",
      "text/plain": [
       "<Figure size 1440x144 with 1 Axes>"
      ]
     },
     "metadata": {
      "needs_background": "light"
     },
     "output_type": "display_data"
    }
   ],
   "source": [
    "plt.figure(figsize=(20,2))\n",
    "plt.plot(obsnet_outs[:,1])\n",
    "plt.plot(obsnet_outs[:,2])"
   ]
  },
  {
   "cell_type": "code",
   "execution_count": 24,
   "id": "9ec4ec07",
   "metadata": {},
   "outputs": [
    {
     "data": {
      "text/plain": [
       "array([7.9585475e-01, 1.5869594e+00, 4.5101814e+01, 0.0000000e+00,\n",
       "       3.2588083e-03], dtype=float32)"
      ]
     },
     "execution_count": 24,
     "metadata": {},
     "output_type": "execute_result"
    }
   ],
   "source": [
    "aux[0]"
   ]
  },
  {
   "cell_type": "code",
   "execution_count": null,
   "id": "c5481cd0",
   "metadata": {},
   "outputs": [],
   "source": []
  },
  {
   "cell_type": "code",
   "execution_count": null,
   "id": "5b7a939e",
   "metadata": {},
   "outputs": [],
   "source": []
  },
  {
   "cell_type": "code",
   "execution_count": 261,
   "id": "c05d9acc",
   "metadata": {},
   "outputs": [
    {
     "name": "stdout",
     "output_type": "stream",
     "text": [
      "couldn't load 12 out of 360 runs\n"
     ]
    }
   ],
   "source": [
    "all_aux = []\n",
    "all_wp_angles = []\n",
    "all_wp_dists = []\n",
    "all_run_paths = []\n",
    "n_couldnt_load_runs = 0\n",
    "for d in range(N_RUNNERS):\n",
    "    datagen_id = (\"00\"+str(d))[-2:]\n",
    "    for r in range(RUNS_TO_STORE_PER_PROCESS):\n",
    "        run_path = f\"/home/beans/blender_membank/dataloader_{datagen_id}/run_{r}\"\n",
    "        n_targets_paths_files = len(glob.glob(f\"{run_path}/targets_*.npy\"))\n",
    "        targets_paths = [f'{run_path}/targets_{i}.npy' for i in chunks_range]\n",
    "        \n",
    "        if n_targets_paths_files < len(targets_paths):\n",
    "            n_couldnt_load_runs += 1\n",
    "            continue\n",
    "            \n",
    "        aux = np.concatenate([np.load(f'{run_path}/aux_{i}.npy') for i in chunks_range], axis=0)\n",
    "        targets = np.concatenate([np.load(p) for p in targets_paths], axis=0)\n",
    "        \n",
    "        wp_angles, wp_dists, wp_zs = np.split(targets, 3, axis=1)\n",
    "        \n",
    "        all_aux.append(aux)\n",
    "        all_wp_angles.append(wp_angles)\n",
    "        all_wp_dists.append(wp_dists)\n",
    "        all_run_paths.append(run_path)\n",
    "        \n",
    "all_aux = np.stack(all_aux, axis=0)\n",
    "all_wp_angles = np.stack(all_wp_angles, axis=0)\n",
    "all_wp_dists = np.stack(all_wp_dists, axis=0)\n",
    "\n",
    "print(f\"couldn't load {n_couldnt_load_runs} out of {N_RUNNERS*RUNS_TO_STORE_PER_PROCESS} runs\")"
   ]
  },
  {
   "cell_type": "code",
   "execution_count": 93,
   "id": "fc8e789a",
   "metadata": {},
   "outputs": [
    {
     "name": "stdout",
     "output_type": "stream",
     "text": [
      "CPU times: user 6.45 s, sys: 0 ns, total: 6.45 s\n",
      "Wall time: 6.44 s\n"
     ]
    }
   ],
   "source": [
    "%%time\n",
    "all_headings = get_headings_from_traj_batch(all_wp_angles, all_wp_dists)"
   ]
  },
  {
   "cell_type": "code",
   "execution_count": 94,
   "id": "261978bd",
   "metadata": {},
   "outputs": [],
   "source": [
    "all_curvatures = get_curvatures_from_headings_batch(all_headings)"
   ]
  },
  {
   "cell_type": "code",
   "execution_count": 95,
   "id": "e51526ce",
   "metadata": {},
   "outputs": [
    {
     "data": {
      "text/plain": [
       "((348, 1160, 30), (348, 1160, 30), (348, 1160, 30), (348, 1160, 30))"
      ]
     },
     "execution_count": 95,
     "metadata": {},
     "output_type": "execute_result"
    }
   ],
   "source": [
    "all_wp_angles.shape, all_wp_dists.shape, all_headings.shape, all_curvatures.shape"
   ]
  },
  {
   "cell_type": "code",
   "execution_count": 96,
   "id": "6ccab3c9",
   "metadata": {},
   "outputs": [
    {
     "name": "stdout",
     "output_type": "stream",
     "text": [
      "30 0.061482668\n",
      "35 0.057456672\n",
      "36 0.14816466\n",
      "38 0.061911583\n",
      "132 0.14244005\n",
      "138 0.08136749\n",
      "139 0.060184345\n",
      "142 0.07117872\n",
      "175 0.050268054\n",
      "184 0.08510129\n",
      "241 0.057906955\n",
      "258 0.058204323\n",
      "287 0.061904952\n",
      "293 0.06905866\n",
      "297 0.099907696\n",
      "329 0.06680691\n",
      "336 0.076619744\n"
     ]
    }
   ],
   "source": [
    "mm = 0\n",
    "for i in range(len(all_curvatures)):\n",
    "    m = abs(all_curvatures[i]).max()\n",
    "    if m > .05:\n",
    "        print(i, m)\n",
    "        mm += 1"
   ]
  },
  {
   "cell_type": "code",
   "execution_count": 97,
   "id": "488db4b0",
   "metadata": {},
   "outputs": [
    {
     "data": {
      "text/plain": [
       "'/home/beans/blender_membank/dataloader_01/run_8'"
      ]
     },
     "execution_count": 97,
     "metadata": {},
     "output_type": "execute_result"
    }
   ],
   "source": [
    "all_run_paths[36]"
   ]
  },
  {
   "cell_type": "code",
   "execution_count": 98,
   "id": "d6fac61f",
   "metadata": {},
   "outputs": [
    {
     "data": {
      "text/plain": [
       "[<matplotlib.lines.Line2D at 0x7f132e4774c0>]"
      ]
     },
     "execution_count": 98,
     "metadata": {},
     "output_type": "execute_result"
    },
    {
     "data": {
      "image/png": "[encoded data removed]",
      "text/plain": [
       "<Figure size 1440x144 with 1 Axes>"
      ]
     },
     "metadata": {
      "needs_background": "light"
     },
     "output_type": "display_data"
    }
   ],
   "source": [
    "plt.figure(figsize=(20,2))\n",
    "plt.plot(all_wp_angles[94,:,0])"
   ]
  },
  {
   "cell_type": "code",
   "execution_count": 99,
   "id": "61c091f8",
   "metadata": {},
   "outputs": [
    {
     "data": {
      "text/plain": [
       "<BarContainer object of 40 artists>"
      ]
     },
     "execution_count": 99,
     "metadata": {},
     "output_type": "execute_result"
    },
    {
     "data": {
      "image/png": "[encoded data removed]",
      "text/plain": [
       "<Figure size 432x288 with 1 Axes>"
      ]
     },
     "metadata": {
      "needs_background": "light"
     },
     "output_type": "display_data"
    }
   ],
   "source": [
    "plt.hist(all_curvatures[:,:,:].flatten(), bins=40)[2]"
   ]
  },
  {
   "cell_type": "code",
   "execution_count": 100,
   "id": "9859a847",
   "metadata": {},
   "outputs": [],
   "source": [
    "all_torques = []\n",
    "all_tds = []\n",
    "for i in range(len(all_aux)):\n",
    "    speeds = all_aux[i, :, 2]\n",
    "    wp_angles = gather_preds(all_wp_angles[i, :, :], speeds)\n",
    "    torque = np.degrees(wp_angles) * speeds**2\n",
    "    all_torques.append(torque)\n",
    "    all_tds.append(torque[1:]-torque[:-1])\n",
    "    \n",
    "all_torques = np.concatenate(all_torques)\n",
    "all_tds = np.concatenate(all_tds)"
   ]
  },
  {
   "cell_type": "code",
   "execution_count": 101,
   "id": "4800d0cd",
   "metadata": {},
   "outputs": [
    {
     "data": {
      "text/plain": [
       "<BarContainer object of 40 artists>"
      ]
     },
     "execution_count": 101,
     "metadata": {},
     "output_type": "execute_result"
    },
    {
     "data": {
      "image/png": "[encoded data removed]",
      "text/plain": [
       "<Figure size 432x288 with 1 Axes>"
      ]
     },
     "metadata": {
      "needs_background": "light"
     },
     "output_type": "display_data"
    }
   ],
   "source": [
    "plt.hist(all_torques.flatten(), bins=40)[2]"
   ]
  },
  {
   "cell_type": "code",
   "execution_count": 102,
   "id": "c2e07261",
   "metadata": {},
   "outputs": [
    {
     "data": {
      "text/plain": [
       "<BarContainer object of 40 artists>"
      ]
     },
     "execution_count": 102,
     "metadata": {},
     "output_type": "execute_result"
    },
    {
     "data": {
      "image/png": "[encoded data removed]",
      "text/plain": [
       "<Figure size 432x288 with 1 Axes>"
      ]
     },
     "metadata": {
      "needs_background": "light"
     },
     "output_type": "display_data"
    }
   ],
   "source": [
    "plt.hist(all_tds.flatten(), bins=40)[2]"
   ]
  },
  {
   "cell_type": "code",
   "execution_count": 103,
   "id": "8c7434da",
   "metadata": {},
   "outputs": [
    {
     "data": {
      "text/plain": [
       "(1213.0810891947276, 16951.596545054446)"
      ]
     },
     "execution_count": 103,
     "metadata": {},
     "output_type": "execute_result"
    }
   ],
   "source": [
    "np.quantile(abs(all_tds.flatten()), .999), np.quantile(abs(all_torques.flatten()), .999)"
   ]
  },
  {
   "cell_type": "code",
   "execution_count": 104,
   "id": "f0607cbb",
   "metadata": {},
   "outputs": [
    {
     "data": {
      "text/plain": [
       "array([  5.9956417,   6.9946885,   7.993679 ,   8.992583 ,   9.991397 ,\n",
       "        10.990128 ,  11.988702 ,  12.987193 ,  13.985542 ,  14.983733 ,\n",
       "        15.981789 ,  16.979698 ,  17.977406 ,  18.97495  ,  19.972319 ,\n",
       "        20.969503 ,  21.966492 ,  22.963268 ,  23.959808 ,  24.956186 ,\n",
       "        34.90686  ,  44.83198  ,  54.73005  ,  64.60014  ,  74.44254  ,\n",
       "        84.2583   ,  94.0484   , 103.813736 , 113.55613  , 123.27644  ],\n",
       "      dtype=float32)"
      ]
     },
     "execution_count": 104,
     "metadata": {},
     "output_type": "execute_result"
    }
   ],
   "source": [
    "mean_dists = abs(all_wp_dists).mean(axis=0).mean(0)\n",
    "mean_dists"
   ]
  },
  {
   "cell_type": "code",
   "execution_count": 105,
   "id": "e70dec60",
   "metadata": {},
   "outputs": [
    {
     "data": {
      "text/plain": [
       "<BarContainer object of 40 artists>"
      ]
     },
     "execution_count": 105,
     "metadata": {},
     "output_type": "execute_result"
    },
    {
     "data": {
      "image/png": "[encoded data removed]",
      "text/plain": [
       "<Figure size 432x288 with 1 Axes>"
      ]
     },
     "metadata": {
      "needs_background": "light"
     },
     "output_type": "display_data"
    }
   ],
   "source": [
    "plt.hist(all_headings.flatten(), bins=40)[2]"
   ]
  },
  {
   "cell_type": "code",
   "execution_count": 106,
   "id": "39b7cd2f",
   "metadata": {},
   "outputs": [
    {
     "data": {
      "text/plain": [
       "array([0.02822183, 0.0326863 , 0.03705886, 0.04143412, 0.04581281,\n",
       "       0.05018519, 0.05453863, 0.05887541, 0.06319571, 0.06749909,\n",
       "       0.07178165, 0.0760383 , 0.08027021, 0.08447491, 0.08864769,\n",
       "       0.09278919, 0.09690095, 0.10098111, 0.10502793, 0.1089357 ,\n",
       "       0.14578015, 0.17967056, 0.2094137 , 0.2350533 , 0.2568414 ,\n",
       "       0.2750846 , 0.2901327 , 0.30220774, 0.3113808 , 0.3161817 ],\n",
       "      dtype=float32)"
      ]
     },
     "execution_count": 106,
     "metadata": {},
     "output_type": "execute_result"
    }
   ],
   "source": [
    "mean_headings = abs(all_headings).mean(axis=0).mean(0)\n",
    "mean_headings"
   ]
  },
  {
   "cell_type": "code",
   "execution_count": 107,
   "id": "ea33bb06",
   "metadata": {},
   "outputs": [
    {
     "data": {
      "text/plain": [
       "11.203445"
      ]
     },
     "execution_count": 107,
     "metadata": {},
     "output_type": "execute_result"
    }
   ],
   "source": [
    "mean_headings[-1] / mean_headings[0]"
   ]
  },
  {
   "cell_type": "code",
   "execution_count": null,
   "id": "ec5173f4",
   "metadata": {},
   "outputs": [],
   "source": []
  },
  {
   "cell_type": "code",
   "execution_count": 108,
   "id": "fce191c0",
   "metadata": {},
   "outputs": [
    {
     "data": {
      "text/plain": [
       "array([0.01769507, 0.01949322, 0.02139211, 0.02335472, 0.02536031,\n",
       "       0.02739682, 0.02945474, 0.03152686, 0.03360902, 0.03569776,\n",
       "       0.03779066, 0.03988507, 0.04197887, 0.04407034, 0.0461583 ,\n",
       "       0.04824146, 0.0503193 , 0.05239039, 0.05445384, 0.05650889,\n",
       "       0.0764754 , 0.09516597, 0.11238024, 0.1280391 , 0.14216535,\n",
       "       0.15478034, 0.16592038, 0.17569119, 0.18420565, 0.1915262 ],\n",
       "      dtype=float32)"
      ]
     },
     "execution_count": 108,
     "metadata": {},
     "output_type": "execute_result"
    }
   ],
   "source": [
    "mean_angles = abs(all_wp_angles).mean(axis=0).mean(0)\n",
    "mean_angles"
   ]
  },
  {
   "cell_type": "code",
   "execution_count": 109,
   "id": "db9f18f3",
   "metadata": {},
   "outputs": [
    {
     "data": {
      "text/plain": [
       "10.823705"
      ]
     },
     "execution_count": 109,
     "metadata": {},
     "output_type": "execute_result"
    }
   ],
   "source": [
    "mean_angles[-1] / mean_angles[0]"
   ]
  },
  {
   "cell_type": "code",
   "execution_count": 110,
   "id": "ad0e5b25",
   "metadata": {},
   "outputs": [
    {
     "data": {
      "text/plain": [
       "1.179671287536621"
      ]
     },
     "execution_count": 110,
     "metadata": {},
     "output_type": "execute_result"
    }
   ],
   "source": [
    "mean_angles[0] / .015"
   ]
  },
  {
   "cell_type": "code",
   "execution_count": 111,
   "id": "88e242f8",
   "metadata": {},
   "outputs": [
    {
     "data": {
      "text/plain": [
       "<BarContainer object of 40 artists>"
      ]
     },
     "execution_count": 111,
     "metadata": {},
     "output_type": "execute_result"
    },
    {
     "data": {
      "image/png": "[encoded data removed]",
      "text/plain": [
       "<Figure size 432x288 with 1 Axes>"
      ]
     },
     "metadata": {
      "needs_background": "light"
     },
     "output_type": "display_data"
    }
   ],
   "source": [
    "plt.hist(all_wp_angles.flatten(), bins=40)[2]"
   ]
  },
  {
   "cell_type": "code",
   "execution_count": 112,
   "id": "894220df",
   "metadata": {},
   "outputs": [
    {
     "data": {
      "text/plain": [
       "<BarContainer object of 40 artists>"
      ]
     },
     "execution_count": 112,
     "metadata": {},
     "output_type": "execute_result"
    },
    {
     "data": {
      "image/png": "[encoded data removed]",
      "text/plain": [
       "<Figure size 432x288 with 1 Axes>"
      ]
     },
     "metadata": {
      "needs_background": "light"
     },
     "output_type": "display_data"
    }
   ],
   "source": [
    "# speed\n",
    "plt.hist(all_aux[:,:,2].flatten(), bins=40)[2]"
   ]
  },
  {
   "cell_type": "code",
   "execution_count": 113,
   "id": "870393f8",
   "metadata": {},
   "outputs": [
    {
     "data": {
      "text/plain": [
       "<BarContainer object of 40 artists>"
      ]
     },
     "execution_count": 113,
     "metadata": {},
     "output_type": "execute_result"
    },
    {
     "data": {
      "image/png": "[encoded data removed]",
      "text/plain": [
       "<Figure size 432x288 with 1 Axes>"
      ]
     },
     "metadata": {
      "needs_background": "light"
     },
     "output_type": "display_data"
    }
   ],
   "source": [
    "# pitch\n",
    "plt.hist(all_aux[:,:,0].flatten(), bins=40)[2]"
   ]
  },
  {
   "cell_type": "code",
   "execution_count": null,
   "id": "0f99560d",
   "metadata": {},
   "outputs": [],
   "source": []
  },
  {
   "cell_type": "code",
   "execution_count": 114,
   "id": "74eb0a2f",
   "metadata": {},
   "outputs": [
    {
     "data": {
      "text/plain": [
       "<BarContainer object of 40 artists>"
      ]
     },
     "execution_count": 114,
     "metadata": {},
     "output_type": "execute_result"
    },
    {
     "data": {
      "image/png": "[encoded data removed]",
      "text/plain": [
       "<Figure size 432x288 with 1 Axes>"
      ]
     },
     "metadata": {
      "needs_background": "light"
     },
     "output_type": "display_data"
    }
   ],
   "source": [
    "# yaw\n",
    "plt.hist(all_aux[:,:,1].flatten(), bins=40)[2]"
   ]
  },
  {
   "cell_type": "code",
   "execution_count": null,
   "id": "5b454f30",
   "metadata": {},
   "outputs": [],
   "source": []
  },
  {
   "cell_type": "code",
   "execution_count": null,
   "id": "ce11e076",
   "metadata": {},
   "outputs": [],
   "source": []
  }
 ],
 "metadata": {
  "kernelspec": {
   "display_name": "Python 3 (ipykernel)",
   "language": "python",
   "name": "python3"
  },
  "language_info": {
   "codemirror_mode": {
    "name": "ipython",
    "version": 3
   },
   "file_extension": ".py",
   "mimetype": "text/x-python",
   "name": "python",
   "nbconvert_exporter": "python",
   "pygments_lexer": "ipython3",
   "version": "3.8.11"
  }
 },
 "nbformat": 4,
 "nbformat_minor": 5
}
