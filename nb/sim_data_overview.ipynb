{
 "cells": [
  {
   "cell_type": "code",
   "execution_count": 1,
   "id": "f7fa186b",
   "metadata": {},
   "outputs": [],
   "source": [
    "%matplotlib inline\n",
    "%load_ext autoreload\n",
    "%autoreload 2\n",
    "\n",
    "import sys\n",
    "sys.path.append('/home/beans/bespoke')\n",
    "\n",
    "from constants import *\n",
    "from traj_utils import *\n",
    "import matplotlib.pyplot as plt"
   ]
  },
  {
   "cell_type": "code",
   "execution_count": 2,
   "id": "37ec02f7",
   "metadata": {},
   "outputs": [],
   "source": [
    "chunks_range = range(SEQ_LEN-1, EPISODE_LEN, SEQ_LEN)"
   ]
  },
  {
   "cell_type": "code",
   "execution_count": 3,
   "id": "c05d9acc",
   "metadata": {
    "scrolled": true
   },
   "outputs": [
    {
     "name": "stdout",
     "output_type": "stream",
     "text": [
      "/home/beans/blender_membank/dataloader_00/run_5\n",
      "/home/beans/blender_membank/dataloader_01/run_4\n",
      "/home/beans/blender_membank/dataloader_02/run_5\n",
      "/home/beans/blender_membank/dataloader_03/run_4\n",
      "/home/beans/blender_membank/dataloader_04/run_4\n",
      "/home/beans/blender_membank/dataloader_05/run_4\n",
      "/home/beans/blender_membank/dataloader_06/run_4\n",
      "/home/beans/blender_membank/dataloader_07/run_4\n",
      "/home/beans/blender_membank/dataloader_08/run_5\n",
      "/home/beans/blender_membank/dataloader_09/run_4\n",
      "/home/beans/blender_membank/dataloader_10/run_4\n",
      "/home/beans/blender_membank/dataloader_11/run_5\n",
      "couldn't load 12 out of 360 runs\n"
     ]
    }
   ],
   "source": [
    "all_aux = []\n",
    "all_wp_angles = []\n",
    "all_wp_dists = []\n",
    "all_wp_rolls, all_wp_zs = [], []\n",
    "all_run_paths = []\n",
    "n_couldnt_load_runs = 0\n",
    "for d in range(N_RUNNERS):\n",
    "    datagen_id = (\"00\"+str(d))[-2:]\n",
    "    for r in range(RUNS_TO_STORE_PER_PROCESS):\n",
    "        run_path = f\"/home/beans/blender_membank/dataloader_{datagen_id}/run_{r}\"\n",
    "        n_targets_paths_files = len(glob.glob(f\"{run_path}/targets_*.npy\"))\n",
    "        targets_paths = [f'{run_path}/targets_{i}.npy' for i in chunks_range]\n",
    "        \n",
    "        if n_targets_paths_files < len(targets_paths):\n",
    "            print(run_path)\n",
    "            n_couldnt_load_runs += 1\n",
    "            continue\n",
    "            \n",
    "        aux = np.concatenate([np.load(f'{run_path}/aux_{i}.npy') for i in chunks_range], axis=0)\n",
    "        targets = np.concatenate([np.load(p) for p in targets_paths], axis=0)\n",
    "        \n",
    "        wp_angles, wp_dists, wp_rolls, wp_zs = np.split(targets, 4, axis=1)\n",
    "        \n",
    "        all_aux.append(aux)\n",
    "        all_wp_angles.append(wp_angles)\n",
    "        all_wp_dists.append(wp_dists)\n",
    "        all_wp_rolls.append(wp_rolls)\n",
    "        all_wp_zs.append(wp_zs)\n",
    "        all_run_paths.append(run_path)\n",
    "        \n",
    "        \n",
    "all_aux = np.stack(all_aux, axis=0)\n",
    "all_wp_angles = np.stack(all_wp_angles, axis=0)\n",
    "all_wp_dists = np.stack(all_wp_dists, axis=0)\n",
    "all_wp_rolls = np.stack(all_wp_rolls, axis=0)\n",
    "all_wp_zs = np.stack(all_wp_zs, axis=0)\n",
    "\n",
    "print(f\"couldn't load {n_couldnt_load_runs} out of {N_RUNNERS*RUNS_TO_STORE_PER_PROCESS} runs\")"
   ]
  },
  {
   "cell_type": "code",
   "execution_count": 8,
   "id": "7d21e149",
   "metadata": {},
   "outputs": [],
   "source": [
    "aux_model, aux_calib, aux_targets = get_auxs(all_aux)"
   ]
  },
  {
   "cell_type": "code",
   "execution_count": 41,
   "id": "f0f8246c",
   "metadata": {},
   "outputs": [
    {
     "data": {
      "text/plain": [
       "(359, 1, 30)"
      ]
     },
     "execution_count": 41,
     "metadata": {},
     "output_type": "execute_result"
    }
   ],
   "source": [
    "speed_mask = get_speed_mask(aux_model)\n",
    "speed_mask.shape"
   ]
  },
  {
   "cell_type": "code",
   "execution_count": 42,
   "id": "fc8e789a",
   "metadata": {},
   "outputs": [
    {
     "name": "stdout",
     "output_type": "stream",
     "text": [
      "CPU times: user 4.94 s, sys: 17 µs, total: 4.94 s\n",
      "Wall time: 4.94 s\n"
     ]
    }
   ],
   "source": [
    "%%time\n",
    "all_headings = get_headings_from_traj_batch(all_wp_angles, all_wp_dists)"
   ]
  },
  {
   "cell_type": "code",
   "execution_count": 43,
   "id": "261978bd",
   "metadata": {},
   "outputs": [],
   "source": [
    "all_curvatures = get_curvatures_from_headings_batch(all_headings)"
   ]
  },
  {
   "cell_type": "code",
   "execution_count": 44,
   "id": "e51526ce",
   "metadata": {},
   "outputs": [
    {
     "data": {
      "text/plain": [
       "((359, 1160, 30), (359, 1160, 30), (359, 1160, 30), (359, 1160, 30))"
      ]
     },
     "execution_count": 44,
     "metadata": {},
     "output_type": "execute_result"
    }
   ],
   "source": [
    "all_wp_angles.shape, all_wp_dists.shape, all_headings.shape, all_curvatures.shape"
   ]
  },
  {
   "cell_type": "code",
   "execution_count": 45,
   "id": "6ccab3c9",
   "metadata": {
    "scrolled": true
   },
   "outputs": [
    {
     "name": "stdout",
     "output_type": "stream",
     "text": [
      "101 0.17946291\n",
      "199 0.11043912\n",
      "246 0.15268254\n"
     ]
    }
   ],
   "source": [
    "mm = 0\n",
    "for i in range(len(all_curvatures)):\n",
    "    m = abs(all_curvatures[i]).max()\n",
    "    if m > .1:\n",
    "        print(i, m)\n",
    "        mm += 1"
   ]
  },
  {
   "cell_type": "code",
   "execution_count": 46,
   "id": "488db4b0",
   "metadata": {},
   "outputs": [
    {
     "data": {
      "text/plain": [
       "'/home/beans/blender_membank/dataloader_02/run_12'"
      ]
     },
     "execution_count": 46,
     "metadata": {},
     "output_type": "execute_result"
    }
   ],
   "source": [
    "all_run_paths[72]"
   ]
  },
  {
   "cell_type": "code",
   "execution_count": 47,
   "id": "d6fac61f",
   "metadata": {},
   "outputs": [
    {
     "data": {
      "text/plain": [
       "[<matplotlib.lines.Line2D at 0x7f7bde4433d0>]"
      ]
     },
     "execution_count": 47,
     "metadata": {},
     "output_type": "execute_result"
    },
    {
     "data": {
      "image/png": "[encoded data removed]",
      "text/plain": [
       "<Figure size 1440x144 with 1 Axes>"
      ]
     },
     "metadata": {
      "needs_background": "light"
     },
     "output_type": "display_data"
    }
   ],
   "source": [
    "plt.figure(figsize=(20,2))\n",
    "plt.plot(all_wp_angles[58,:,1])"
   ]
  },
  {
   "cell_type": "code",
   "execution_count": 48,
   "id": "61c091f8",
   "metadata": {},
   "outputs": [
    {
     "data": {
      "text/plain": [
       "<BarContainer object of 40 artists>"
      ]
     },
     "execution_count": 48,
     "metadata": {},
     "output_type": "execute_result"
    },
    {
     "data": {
      "image/png": "[encoded data removed]",
      "text/plain": [
       "<Figure size 432x288 with 1 Axes>"
      ]
     },
     "metadata": {
      "needs_background": "light"
     },
     "output_type": "display_data"
    }
   ],
   "source": [
    "plt.hist(all_curvatures[:,:,:].flatten(), bins=40)[2]"
   ]
  },
  {
   "cell_type": "code",
   "execution_count": 49,
   "id": "fcb1166c",
   "metadata": {},
   "outputs": [
    {
     "data": {
      "text/plain": [
       "0.0063098636"
      ]
     },
     "execution_count": 49,
     "metadata": {},
     "output_type": "execute_result"
    }
   ],
   "source": [
    "all_curvatures[:,:,:].std()"
   ]
  },
  {
   "cell_type": "code",
   "execution_count": 50,
   "id": "9859a847",
   "metadata": {},
   "outputs": [],
   "source": [
    "all_torques = []\n",
    "all_tds = []\n",
    "for i in range(len(all_aux)):\n",
    "    speeds = all_aux[i, :, 2]\n",
    "    wp_angles = gather_preds(all_wp_angles[i, :, :], speeds)\n",
    "    torque = np.degrees(wp_angles) * speeds**2\n",
    "    all_torques.append(torque)\n",
    "    all_tds.append(torque[1:]-torque[:-1])\n",
    "    \n",
    "all_torques = np.concatenate(all_torques)\n",
    "all_tds = np.concatenate(all_tds)"
   ]
  },
  {
   "cell_type": "code",
   "execution_count": 51,
   "id": "4800d0cd",
   "metadata": {},
   "outputs": [
    {
     "data": {
      "text/plain": [
       "<BarContainer object of 40 artists>"
      ]
     },
     "execution_count": 51,
     "metadata": {},
     "output_type": "execute_result"
    },
    {
     "data": {
      "image/png": "[encoded data removed]",
      "text/plain": [
       "<Figure size 432x288 with 1 Axes>"
      ]
     },
     "metadata": {
      "needs_background": "light"
     },
     "output_type": "display_data"
    }
   ],
   "source": [
    "plt.hist(all_torques.flatten(), bins=40)[2]"
   ]
  },
  {
   "cell_type": "code",
   "execution_count": 52,
   "id": "c2e07261",
   "metadata": {},
   "outputs": [
    {
     "data": {
      "text/plain": [
       "<BarContainer object of 40 artists>"
      ]
     },
     "execution_count": 52,
     "metadata": {},
     "output_type": "execute_result"
    },
    {
     "data": {
      "image/png": "[encoded data removed]",
      "text/plain": [
       "<Figure size 432x288 with 1 Axes>"
      ]
     },
     "metadata": {
      "needs_background": "light"
     },
     "output_type": "display_data"
    }
   ],
   "source": [
    "plt.hist(all_tds.flatten(), bins=40)[2]"
   ]
  },
  {
   "cell_type": "code",
   "execution_count": 53,
   "id": "8c7434da",
   "metadata": {},
   "outputs": [
    {
     "data": {
      "text/plain": [
       "(1310.6058316054912, 18732.820445559984)"
      ]
     },
     "execution_count": 53,
     "metadata": {},
     "output_type": "execute_result"
    }
   ],
   "source": [
    "np.quantile(abs(all_tds.flatten()), .999), np.quantile(abs(all_torques.flatten()), .999)"
   ]
  },
  {
   "cell_type": "code",
   "execution_count": 54,
   "id": "f0607cbb",
   "metadata": {},
   "outputs": [
    {
     "data": {
      "text/plain": [
       "array([  6.0009084,   7.0008807,   8.000791 ,   9.000612 ,  10.000348 ,\n",
       "        10.999998 ,  11.999525 ,  12.998923 ,  13.998195 ,  14.997333 ,\n",
       "        15.996309 ,  16.995153 ,  17.9938   ,  18.99228  ,  19.990585 ,\n",
       "        20.98868  ,  21.986584 ,  22.984287 ,  23.981789 ,  24.979065 ,\n",
       "        34.938843 ,  44.872654 ,  54.777737 ,  64.6524   ,  74.4954   ,\n",
       "        84.30593  ,  94.084305 , 103.82986  , 113.54295  , 123.225174 ],\n",
       "      dtype=float32)"
      ]
     },
     "execution_count": 54,
     "metadata": {},
     "output_type": "execute_result"
    }
   ],
   "source": [
    "mean_dists = abs(all_wp_dists).mean(axis=0).mean(0)\n",
    "mean_dists"
   ]
  },
  {
   "cell_type": "code",
   "execution_count": 55,
   "id": "e70dec60",
   "metadata": {},
   "outputs": [
    {
     "data": {
      "text/plain": [
       "<BarContainer object of 40 artists>"
      ]
     },
     "execution_count": 55,
     "metadata": {},
     "output_type": "execute_result"
    },
    {
     "data": {
      "image/png": "[encoded data removed]",
      "text/plain": [
       "<Figure size 432x288 with 1 Axes>"
      ]
     },
     "metadata": {
      "needs_background": "light"
     },
     "output_type": "display_data"
    }
   ],
   "source": [
    "plt.hist(all_headings[:,:,0].flatten(), bins=40)[2]"
   ]
  },
  {
   "cell_type": "code",
   "execution_count": 56,
   "id": "bcd284e2",
   "metadata": {},
   "outputs": [
    {
     "data": {
      "text/plain": [
       "0.041861765"
      ]
     },
     "execution_count": 56,
     "metadata": {},
     "output_type": "execute_result"
    }
   ],
   "source": [
    "all_headings[:,:,0].std()"
   ]
  },
  {
   "cell_type": "code",
   "execution_count": 57,
   "id": "39b7cd2f",
   "metadata": {},
   "outputs": [
    {
     "data": {
      "text/plain": [
       "array([0.02620808, 0.03038177, 0.03439521, 0.03841128, 0.04242161,\n",
       "       0.04642422, 0.05041452, 0.05438932, 0.05834737, 0.06228894,\n",
       "       0.06621339, 0.07011954, 0.07400665, 0.07787379, 0.08172107,\n",
       "       0.08554865, 0.08935671, 0.09314513, 0.09691364, 0.1005872 ,\n",
       "       0.13617635, 0.17011991, 0.2014737 , 0.23034373, 0.25690943,\n",
       "       0.28114557, 0.3031044 , 0.32310602, 0.34172   , 0.35116717],\n",
       "      dtype=float32)"
      ]
     },
     "execution_count": 57,
     "metadata": {},
     "output_type": "execute_result"
    }
   ],
   "source": [
    "mean_headings = abs(all_headings).mean(axis=0).mean(0)\n",
    "mean_headings"
   ]
  },
  {
   "cell_type": "code",
   "execution_count": 58,
   "id": "ea33bb06",
   "metadata": {},
   "outputs": [
    {
     "data": {
      "text/plain": [
       "13.399197"
      ]
     },
     "execution_count": 58,
     "metadata": {},
     "output_type": "execute_result"
    }
   ],
   "source": [
    "mean_headings[-1] / mean_headings[0]"
   ]
  },
  {
   "cell_type": "code",
   "execution_count": 59,
   "id": "2a8dedd8",
   "metadata": {},
   "outputs": [
    {
     "data": {
      "text/plain": [
       "[<matplotlib.lines.Line2D at 0x7f7bd8210370>]"
      ]
     },
     "execution_count": 59,
     "metadata": {},
     "output_type": "execute_result"
    },
    {
     "data": {
      "image/png": "[encoded data removed]",
      "text/plain": [
       "<Figure size 432x288 with 1 Axes>"
      ]
     },
     "metadata": {
      "needs_background": "light"
     },
     "output_type": "display_data"
    }
   ],
   "source": [
    "plt.plot(mean_headings)"
   ]
  },
  {
   "cell_type": "code",
   "execution_count": null,
   "id": "ec5173f4",
   "metadata": {},
   "outputs": [],
   "source": []
  },
  {
   "cell_type": "code",
   "execution_count": 60,
   "id": "fce191c0",
   "metadata": {},
   "outputs": [
    {
     "data": {
      "text/plain": [
       "array([0.01302697, 0.01520142, 0.01733486, 0.01943924, 0.02152224,\n",
       "       0.02358872, 0.02564185, 0.02768367, 0.02971509, 0.03173694,\n",
       "       0.03374988, 0.03575401, 0.03774934, 0.03973567, 0.04171339,\n",
       "       0.0436822 , 0.04564277, 0.04759526, 0.04953977, 0.05147587,\n",
       "       0.07037009, 0.08841375, 0.10558271, 0.12183939, 0.13716398,\n",
       "       0.15157099, 0.16507863, 0.17771888, 0.18953319, 0.20059983],\n",
       "      dtype=float32)"
      ]
     },
     "execution_count": 60,
     "metadata": {},
     "output_type": "execute_result"
    }
   ],
   "source": [
    "mean_angles = abs(all_wp_angles).mean(axis=0).mean(0)\n",
    "mean_angles"
   ]
  },
  {
   "cell_type": "code",
   "execution_count": 61,
   "id": "db9f18f3",
   "metadata": {},
   "outputs": [
    {
     "data": {
      "text/plain": [
       "15.398806"
      ]
     },
     "execution_count": 61,
     "metadata": {},
     "output_type": "execute_result"
    }
   ],
   "source": [
    "mean_angles[-1] / mean_angles[0]"
   ]
  },
  {
   "cell_type": "code",
   "execution_count": 64,
   "id": "dabc7d40",
   "metadata": {},
   "outputs": [
    {
     "data": {
      "text/plain": [
       "[<matplotlib.lines.Line2D at 0x7f7bd817b1c0>]"
      ]
     },
     "execution_count": 64,
     "metadata": {},
     "output_type": "execute_result"
    },
    {
     "data": {
      "image/png": "[encoded data removed]",
      "text/plain": [
       "<Figure size 432x288 with 1 Axes>"
      ]
     },
     "metadata": {
      "needs_background": "light"
     },
     "output_type": "display_data"
    }
   ],
   "source": [
    "plt.plot(mean_angles)"
   ]
  },
  {
   "cell_type": "code",
   "execution_count": 65,
   "id": "f106aab8",
   "metadata": {},
   "outputs": [
    {
     "data": {
      "text/plain": [
       "<BarContainer object of 40 artists>"
      ]
     },
     "execution_count": 65,
     "metadata": {},
     "output_type": "execute_result"
    },
    {
     "data": {
      "image/png": "[encoded data removed]",
      "text/plain": [
       "<Figure size 432x288 with 1 Axes>"
      ]
     },
     "metadata": {
      "needs_background": "light"
     },
     "output_type": "display_data"
    }
   ],
   "source": [
    "plt.hist(all_wp_angles[:,:,0].flatten(), bins=40)[2]"
   ]
  },
  {
   "cell_type": "code",
   "execution_count": 66,
   "id": "0ffc2c29",
   "metadata": {},
   "outputs": [
    {
     "data": {
      "text/plain": [
       "0.021239085"
      ]
     },
     "execution_count": 66,
     "metadata": {},
     "output_type": "execute_result"
    }
   ],
   "source": [
    "all_wp_angles[:,:,0].std()"
   ]
  },
  {
   "cell_type": "code",
   "execution_count": 67,
   "id": "4b467484",
   "metadata": {},
   "outputs": [
    {
     "data": {
      "text/plain": [
       "<BarContainer object of 40 artists>"
      ]
     },
     "execution_count": 67,
     "metadata": {},
     "output_type": "execute_result"
    },
    {
     "data": {
      "image/png": "[encoded data removed]",
      "text/plain": [
       "<Figure size 432x288 with 1 Axes>"
      ]
     },
     "metadata": {
      "needs_background": "light"
     },
     "output_type": "display_data"
    }
   ],
   "source": [
    "plt.hist(all_wp_angles[:,:,-1].flatten(), bins=40)[2]"
   ]
  },
  {
   "cell_type": "code",
   "execution_count": null,
   "id": "7efdeb1e",
   "metadata": {},
   "outputs": [],
   "source": []
  },
  {
   "cell_type": "code",
   "execution_count": 68,
   "id": "17bd9434",
   "metadata": {},
   "outputs": [
    {
     "data": {
      "text/plain": [
       "<BarContainer object of 40 artists>"
      ]
     },
     "execution_count": 68,
     "metadata": {},
     "output_type": "execute_result"
    },
    {
     "data": {
      "image/png": "[encoded data removed]",
      "text/plain": [
       "<Figure size 432x288 with 1 Axes>"
      ]
     },
     "metadata": {
      "needs_background": "light"
     },
     "output_type": "display_data"
    }
   ],
   "source": [
    "plt.hist(all_wp_rolls.flatten(), bins=40)[2]"
   ]
  },
  {
   "cell_type": "code",
   "execution_count": 69,
   "id": "5af7e47a",
   "metadata": {},
   "outputs": [
    {
     "data": {
      "text/plain": [
       "0.022350611"
      ]
     },
     "execution_count": 69,
     "metadata": {},
     "output_type": "execute_result"
    }
   ],
   "source": [
    "all_wp_rolls.std()"
   ]
  },
  {
   "cell_type": "code",
   "execution_count": 70,
   "id": "35f5696f",
   "metadata": {},
   "outputs": [
    {
     "data": {
      "text/plain": [
       "<BarContainer object of 40 artists>"
      ]
     },
     "execution_count": 70,
     "metadata": {},
     "output_type": "execute_result"
    },
    {
     "data": {
      "image/png": "[encoded data removed]",
      "text/plain": [
       "<Figure size 432x288 with 1 Axes>"
      ]
     },
     "metadata": {
      "needs_background": "light"
     },
     "output_type": "display_data"
    }
   ],
   "source": [
    "plt.hist(all_wp_zs.flatten(), bins=40)[2]"
   ]
  },
  {
   "cell_type": "code",
   "execution_count": 71,
   "id": "bef6adbd",
   "metadata": {},
   "outputs": [
    {
     "data": {
      "text/plain": [
       "1.8075916"
      ]
     },
     "execution_count": 71,
     "metadata": {},
     "output_type": "execute_result"
    }
   ],
   "source": [
    "all_wp_zs.std()"
   ]
  },
  {
   "cell_type": "code",
   "execution_count": null,
   "id": "f1e96fc7",
   "metadata": {},
   "outputs": [],
   "source": []
  },
  {
   "cell_type": "code",
   "execution_count": 141,
   "id": "894220df",
   "metadata": {},
   "outputs": [
    {
     "data": {
      "text/plain": [
       "<BarContainer object of 40 artists>"
      ]
     },
     "execution_count": 141,
     "metadata": {},
     "output_type": "execute_result"
    },
    {
     "data": {
      "image/png": "[encoded data removed]",
      "text/plain": [
       "<Figure size 432x288 with 1 Axes>"
      ]
     },
     "metadata": {
      "needs_background": "light"
     },
     "output_type": "display_data"
    }
   ],
   "source": [
    "# speed\n",
    "plt.hist(all_aux[:,:,2].flatten(), bins=40)[2]"
   ]
  },
  {
   "cell_type": "code",
   "execution_count": 142,
   "id": "870393f8",
   "metadata": {},
   "outputs": [
    {
     "data": {
      "text/plain": [
       "<BarContainer object of 40 artists>"
      ]
     },
     "execution_count": 142,
     "metadata": {},
     "output_type": "execute_result"
    },
    {
     "data": {
      "image/png": "[encoded data removed]",
      "text/plain": [
       "<Figure size 432x288 with 1 Axes>"
      ]
     },
     "metadata": {
      "needs_background": "light"
     },
     "output_type": "display_data"
    }
   ],
   "source": [
    "# pitch\n",
    "plt.hist(all_aux[:,:,0].flatten(), bins=40)[2]"
   ]
  },
  {
   "cell_type": "code",
   "execution_count": 143,
   "id": "74eb0a2f",
   "metadata": {},
   "outputs": [
    {
     "data": {
      "text/plain": [
       "<BarContainer object of 40 artists>"
      ]
     },
     "execution_count": 143,
     "metadata": {},
     "output_type": "execute_result"
    },
    {
     "data": {
      "image/png": "[encoded data removed]",
      "text/plain": [
       "<Figure size 432x288 with 1 Axes>"
      ]
     },
     "metadata": {
      "needs_background": "light"
     },
     "output_type": "display_data"
    }
   ],
   "source": [
    "# yaw\n",
    "plt.hist(all_aux[:,:,1].flatten(), bins=40)[2]"
   ]
  },
  {
   "cell_type": "code",
   "execution_count": 144,
   "id": "5b454f30",
   "metadata": {},
   "outputs": [
    {
     "data": {
      "text/plain": [
       "<BarContainer object of 40 artists>"
      ]
     },
     "execution_count": 144,
     "metadata": {},
     "output_type": "execute_result"
    },
    {
     "data": {
      "image/png": "[encoded data removed]",
      "text/plain": [
       "<Figure size 432x288 with 1 Axes>"
      ]
     },
     "metadata": {
      "needs_background": "light"
     },
     "output_type": "display_data"
    }
   ],
   "source": [
    "# approaching stop\n",
    "plt.hist(all_aux[:,:,AUX_APPROACHING_STOP_IX].flatten(), bins=40)[2]"
   ]
  },
  {
   "cell_type": "code",
   "execution_count": 145,
   "id": "027026df",
   "metadata": {},
   "outputs": [
    {
     "data": {
      "text/plain": [
       "(265, 1160, 20)"
      ]
     },
     "execution_count": 145,
     "metadata": {},
     "output_type": "execute_result"
    }
   ],
   "source": [
    "all_aux.shape"
   ]
  },
  {
   "cell_type": "code",
   "execution_count": 146,
   "id": "ce11e076",
   "metadata": {},
   "outputs": [
    {
     "data": {
      "text/plain": [
       "<BarContainer object of 40 artists>"
      ]
     },
     "execution_count": 146,
     "metadata": {},
     "output_type": "execute_result"
    },
    {
     "data": {
      "image/png": "[encoded data removed]",
      "text/plain": [
       "<Figure size 432x288 with 1 Axes>"
      ]
     },
     "metadata": {
      "needs_background": "light"
     },
     "output_type": "display_data"
    }
   ],
   "source": [
    "# stop dist\n",
    "a = all_aux[:,:,AUX_STOP_DIST_IX].flatten()\n",
    "a = a[a<150]\n",
    "plt.hist(a, bins=40)[2]"
   ]
  },
  {
   "cell_type": "code",
   "execution_count": 147,
   "id": "057b8798",
   "metadata": {},
   "outputs": [
    {
     "data": {
      "text/plain": [
       "<BarContainer object of 40 artists>"
      ]
     },
     "execution_count": 147,
     "metadata": {},
     "output_type": "execute_result"
    },
    {
     "data": {
      "image/png": "[encoded data removed]",
      "text/plain": [
       "<Figure size 432x288 with 1 Axes>"
      ]
     },
     "metadata": {
      "needs_background": "light"
     },
     "output_type": "display_data"
    }
   ],
   "source": [
    "# lead car\n",
    "a = all_aux[:,:,AUX_HAS_LEAD_IX].flatten()\n",
    "plt.hist(a, bins=40)[2]"
   ]
  },
  {
   "cell_type": "code",
   "execution_count": 148,
   "id": "13edc0df",
   "metadata": {},
   "outputs": [
    {
     "data": {
      "text/plain": [
       "<BarContainer object of 40 artists>"
      ]
     },
     "execution_count": 148,
     "metadata": {},
     "output_type": "execute_result"
    },
    {
     "data": {
      "image/png": "[encoded data removed]",
      "text/plain": [
       "<Figure size 432x288 with 1 Axes>"
      ]
     },
     "metadata": {
      "needs_background": "light"
     },
     "output_type": "display_data"
    }
   ],
   "source": [
    "# lead dist\n",
    "a = all_aux[:,:,AUX_LEAD_DIST_IX].flatten()\n",
    "a = a[a<150]\n",
    "plt.hist(a, bins=40)[2]"
   ]
  },
  {
   "cell_type": "code",
   "execution_count": 149,
   "id": "18075714",
   "metadata": {
    "scrolled": true
   },
   "outputs": [
    {
     "data": {
      "text/plain": [
       "1.0"
      ]
     },
     "execution_count": 149,
     "metadata": {},
     "output_type": "execute_result"
    }
   ],
   "source": [
    "paths = glob.glob(f\"{BLENDER_MEMBANK_ROOT}/**/episode_info.npy\", recursive=True)\n",
    "is_just_straight = np.array([np.load(p)[0] for p in paths])\n",
    "is_just_straight.sum() / len(is_just_straight)"
   ]
  },
  {
   "cell_type": "code",
   "execution_count": null,
   "id": "d9319576",
   "metadata": {},
   "outputs": [],
   "source": []
  }
 ],
 "metadata": {
  "kernelspec": {
   "display_name": "Python 3 (ipykernel)",
   "language": "python",
   "name": "python3"
  },
  "language_info": {
   "codemirror_mode": {
    "name": "ipython",
    "version": 3
   },
   "file_extension": ".py",
   "mimetype": "text/x-python",
   "name": "python",
   "nbconvert_exporter": "python",
   "pygments_lexer": "ipython3",
   "version": "3.8.11"
  }
 },
 "nbformat": 4,
 "nbformat_minor": 5
}
