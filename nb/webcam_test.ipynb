{
 "cells": [
  {
   "cell_type": "code",
   "execution_count": 1,
   "id": "680dade0",
   "metadata": {},
   "outputs": [],
   "source": [
    "import cv2\n",
    "import numpy as np\n",
    "import matplotlib.pyplot as plt\n",
    "import threading\n",
    "import time"
   ]
  },
  {
   "cell_type": "code",
   "execution_count": 2,
   "id": "68c3b5cb",
   "metadata": {},
   "outputs": [
    {
     "name": "stdout",
     "output_type": "stream",
     "text": [
      "292A-AR0230: USB Camera (usb-0000:00:14.0-3):\r\n",
      "\t/dev/video0\r\n",
      "\t/dev/video1\r\n",
      "\t/dev/video4\r\n",
      "\t/dev/video5\r\n",
      "\r\n",
      "BisonCam, NB Pro: BisonCam, NB  (usb-0000:00:14.0-8):\r\n",
      "\t/dev/video2\r\n",
      "\t/dev/video3\r\n",
      "\r\n"
     ]
    }
   ],
   "source": [
    "!v4l2-ctl --list-devices"
   ]
  },
  {
   "cell_type": "code",
   "execution_count": 3,
   "id": "2866c79d",
   "metadata": {},
   "outputs": [],
   "source": [
    "vidcap = cv2.VideoCapture(0)"
   ]
  },
  {
   "cell_type": "code",
   "execution_count": null,
   "id": "1a7cb690",
   "metadata": {},
   "outputs": [],
   "source": []
  },
  {
   "cell_type": "code",
   "execution_count": null,
   "id": "a54feba7",
   "metadata": {},
   "outputs": [],
   "source": [
    "t1 = time.time()\n",
    "times = []\n",
    "while(True):\n",
    "    \n",
    "    ret, frame = vidcap.read()\n",
    "    \n",
    "    frame = np.flipud(np.fliplr(frame))\n",
    "    \n",
    "    frame[239:241, :, :] = 0\n",
    "    frame[:, 319:321, :] = 0\n",
    "    \n",
    "    # Display the resulting frame\n",
    "    cv2.imshow('frame', frame)\n",
    "    \n",
    "    t2 = time.time()\n",
    "    elapsed = t2 - t1\n",
    "    #time.sleep(max(.05-elapsed, 0))\n",
    "    t1 = t2\n",
    "    times.append(elapsed)\n",
    "    \n",
    "    if cv2.waitKey(1) & 0xFF == ord('q'):\n",
    "        break\n",
    "\n",
    "# After the loop release the cap object\n",
    "vid.release()\n",
    "# Destroy all the windows\n",
    "cv2.destroyAllWindows()"
   ]
  },
  {
   "cell_type": "code",
   "execution_count": null,
   "id": "70f9ecd6",
   "metadata": {},
   "outputs": [],
   "source": []
  },
  {
   "cell_type": "code",
   "execution_count": 25,
   "id": "010b75cb",
   "metadata": {},
   "outputs": [],
   "source": [
    "times = [t*1000 for t in times]"
   ]
  },
  {
   "cell_type": "code",
   "execution_count": 26,
   "id": "995cbe45",
   "metadata": {},
   "outputs": [
    {
     "data": {
      "text/plain": [
       "[<matplotlib.lines.Line2D at 0x7fb72ab51b90>]"
      ]
     },
     "execution_count": 26,
     "metadata": {},
     "output_type": "execute_result"
    },
    {
     "data": {
      "image/png": "[encoded data removed]",
      "text/plain": [
       "<Figure size 432x288 with 1 Axes>"
      ]
     },
     "metadata": {
      "needs_background": "light"
     },
     "output_type": "display_data"
    }
   ],
   "source": [
    "plt.plot(times[100:])"
   ]
  },
  {
   "cell_type": "code",
   "execution_count": null,
   "id": "ce5b4561",
   "metadata": {},
   "outputs": [],
   "source": []
  },
  {
   "cell_type": "code",
   "execution_count": 101,
   "id": "8b7fedbd",
   "metadata": {
    "scrolled": true
   },
   "outputs": [
    {
     "ename": "KeyboardInterrupt",
     "evalue": "",
     "output_type": "error",
     "traceback": [
      "\u001b[0;31m---------------------------------------------------------------------------\u001b[0m",
      "\u001b[0;31mKeyboardInterrupt\u001b[0m                         Traceback (most recent call last)",
      "\u001b[0;32m<ipython-input-101-d8f6da2a3b2a>\u001b[0m in \u001b[0;36m<module>\u001b[0;34m\u001b[0m\n\u001b[1;32m      2\u001b[0m \u001b[0;32mwhile\u001b[0m\u001b[0;34m(\u001b[0m\u001b[0;32mTrue\u001b[0m\u001b[0;34m)\u001b[0m\u001b[0;34m:\u001b[0m\u001b[0;34m\u001b[0m\u001b[0;34m\u001b[0m\u001b[0m\n\u001b[1;32m      3\u001b[0m \u001b[0;34m\u001b[0m\u001b[0m\n\u001b[0;32m----> 4\u001b[0;31m     \u001b[0mret\u001b[0m\u001b[0;34m,\u001b[0m \u001b[0mframe\u001b[0m \u001b[0;34m=\u001b[0m \u001b[0mvidcap\u001b[0m\u001b[0;34m.\u001b[0m\u001b[0mread\u001b[0m\u001b[0;34m(\u001b[0m\u001b[0;34m)\u001b[0m\u001b[0;34m\u001b[0m\u001b[0;34m\u001b[0m\u001b[0m\n\u001b[0m\u001b[1;32m      5\u001b[0m \u001b[0;34m\u001b[0m\u001b[0m\n\u001b[1;32m      6\u001b[0m     \u001b[0mframe\u001b[0m \u001b[0;34m=\u001b[0m \u001b[0mcv2\u001b[0m\u001b[0;34m.\u001b[0m\u001b[0mresize\u001b[0m\u001b[0;34m(\u001b[0m\u001b[0mframe\u001b[0m\u001b[0;34m,\u001b[0m \u001b[0;34m(\u001b[0m\u001b[0;36m256\u001b[0m\u001b[0;34m,\u001b[0m \u001b[0;36m192\u001b[0m\u001b[0;34m)\u001b[0m\u001b[0;34m)\u001b[0m \u001b[0;31m# this didn't seem to slow it down at all\u001b[0m\u001b[0;34m\u001b[0m\u001b[0;34m\u001b[0m\u001b[0m\n",
      "\u001b[0;31mKeyboardInterrupt\u001b[0m: "
     ]
    }
   ],
   "source": [
    "t1 = time.time()\n",
    "while(True):\n",
    "    \n",
    "    ret, frame = vidcap.read()\n",
    "    \n",
    "    frame = cv2.resize(frame, (256, 192)) # this didn't seem to slow it down at all\n",
    "    #frame = np.flip(frame, -1) # bgr -> rgb\n",
    "    frame = frame[32:32+128, :, :]\n",
    "\n",
    "    # cam mounted upside down\n",
    "    #frame = np.fliplr(frame)\n",
    "    #frame = np.flipud(frame)\n",
    "    \n",
    "    frames.append(frame)\n",
    "    \n",
    "    # Display the resulting frame\n",
    "    cv2.imshow('frame', frame)\n",
    "    \n",
    "    t2 = time.time()\n",
    "    elapsed = t2 - t1\n",
    "    time.sleep(max(.05-elapsed, 0))\n",
    "    t1 = t2\n",
    "    \n",
    "    if cv2.waitKey(1) & 0xFF == ord('q'):\n",
    "        break\n",
    "\n",
    "# After the loop release the cap object\n",
    "vid.release()\n",
    "# Destroy all the windows\n",
    "cv2.destroyAllWindows()"
   ]
  },
  {
   "cell_type": "code",
   "execution_count": 16,
   "id": "1db2b008",
   "metadata": {},
   "outputs": [
    {
     "data": {
      "text/plain": [
       "3294"
      ]
     },
     "execution_count": 16,
     "metadata": {},
     "output_type": "execute_result"
    }
   ],
   "source": [
    "len(frames)"
   ]
  },
  {
   "cell_type": "code",
   "execution_count": 17,
   "id": "99298718",
   "metadata": {},
   "outputs": [],
   "source": [
    "# Make vid\n",
    "run_id = \"basement_test\"\n",
    "imgs = frames[10:-10]\n",
    "img1 = imgs[0]\n",
    "height , width, channels = img1.shape\n",
    "fps = 30\n",
    "\n",
    "video = cv2.VideoWriter(f'/home/beans/openpilot/vids/{run_id}.avi', cv2.VideoWriter_fourcc(*\"MJPG\"), fps, (width,height))\n",
    "\n",
    "for i in range(len(imgs)-1):\n",
    "    img = imgs[i] # cv2 expects out of 255, integers\n",
    "    #img = np.flip(img,-1) #rgb -> bgr\n",
    "    video.write(img)\n",
    "\n",
    "cv2.destroyAllWindows()\n",
    "video.release()"
   ]
  },
  {
   "cell_type": "code",
   "execution_count": null,
   "id": "bc126a31",
   "metadata": {},
   "outputs": [],
   "source": []
  },
  {
   "cell_type": "code",
   "execution_count": null,
   "id": "205ad3e7",
   "metadata": {},
   "outputs": [],
   "source": []
  }
 ],
 "metadata": {
  "kernelspec": {
   "display_name": "Python 3 (ipykernel)",
   "language": "python",
   "name": "python3"
  },
  "language_info": {
   "codemirror_mode": {
    "name": "ipython",
    "version": 3
   },
   "file_extension": ".py",
   "mimetype": "text/x-python",
   "name": "python",
   "nbconvert_exporter": "python",
   "pygments_lexer": "ipython3",
   "version": "3.8.11"
  }
 },
 "nbformat": 4,
 "nbformat_minor": 5
}
