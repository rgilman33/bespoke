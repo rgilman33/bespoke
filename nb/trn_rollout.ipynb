{
 "cells": [
  {
   "cell_type": "code",
   "execution_count": 1,
   "id": "27b6bfca",
   "metadata": {},
   "outputs": [],
   "source": [
    "%matplotlib inline\n",
    "%load_ext autoreload\n",
    "%autoreload 2\n",
    "\n",
    "import sys\n",
    "sys.path.append(f'/home/beans/bespoke')\n",
    "\n",
    "from constants import *\n",
    "from imports import *\n",
    "from train_utils import *\n",
    "from loaders import TrnLoader\n",
    "from viz_utils import *\n",
    "from rollout import *"
   ]
  },
  {
   "cell_type": "code",
   "execution_count": 2,
   "id": "c9ee2165",
   "metadata": {
    "scrolled": true
   },
   "outputs": [
    {
     "name": "stdout",
     "output_type": "stream",
     "text": [
      "waiting for chunk\n"
     ]
    },
    {
     "name": "stderr",
     "output_type": "stream",
     "text": [
      "/home/beans/miniconda3/envs/py38/lib/python3.8/site-packages/albumentations/augmentations/transforms.py:1175: FutureWarning: RandomContrast has been deprecated. Please use RandomBrightnessContrast\n",
      "  warnings.warn(\n",
      "/home/beans/miniconda3/envs/py38/lib/python3.8/site-packages/albumentations/augmentations/transforms.py:316: FutureWarning: JpegCompression has been deprecated. Please use ImageCompression\n",
      "  warnings.warn(\n",
      "/home/beans/miniconda3/envs/py38/lib/python3.8/site-packages/albumentations/augmentations/transforms.py:1149: FutureWarning: This class has been deprecated. Please use RandomBrightnessContrast\n",
      "  warnings.warn(\n",
      "/home/beans/miniconda3/envs/py38/lib/python3.8/site-packages/albumentations/augmentations/transforms.py:1175: FutureWarning: RandomContrast has been deprecated. Please use RandomBrightnessContrast\n",
      "  warnings.warn(\n",
      "/home/beans/miniconda3/envs/py38/lib/python3.8/site-packages/albumentations/augmentations/transforms.py:316: FutureWarning: JpegCompression has been deprecated. Please use ImageCompression\n",
      "  warnings.warn(\n",
      "/home/beans/miniconda3/envs/py38/lib/python3.8/site-packages/albumentations/augmentations/transforms.py:1149: FutureWarning: This class has been deprecated. Please use RandomBrightnessContrast\n",
      "  warnings.warn(\n"
     ]
    },
    {
     "name": "stdout",
     "output_type": "stream",
     "text": [
      "waiting for chunk\n",
      "waiting for chunk\n",
      "waiting for chunk\n",
      "waiting for chunk\n",
      "waiting for chunk\n",
      "waiting for chunk\n",
      "waiting for chunk\n",
      "CPU times: user 520 ms, sys: 2.92 s, total: 3.44 s\n",
      "Wall time: 28.3 s\n"
     ]
    },
    {
     "name": "stderr",
     "output_type": "stream",
     "text": [
      "Process Process-2:\n",
      "Process Process-1:\n",
      "Traceback (most recent call last):\n",
      "Traceback (most recent call last):\n",
      "  File \"/home/beans/miniconda3/envs/py38/lib/python3.8/multiprocessing/process.py\", line 315, in _bootstrap\n",
      "    self.run()\n",
      "  File \"/home/beans/miniconda3/envs/py38/lib/python3.8/multiprocessing/process.py\", line 315, in _bootstrap\n",
      "    self.run()\n",
      "  File \"/home/beans/miniconda3/envs/py38/lib/python3.8/multiprocessing/process.py\", line 108, in run\n",
      "    self._target(*self._args, **self._kwargs)\n",
      "  File \"/home/beans/miniconda3/envs/py38/lib/python3.8/multiprocessing/process.py\", line 108, in run\n",
      "    self._target(*self._args, **self._kwargs)\n",
      "  File \"/home/beans/bespoke/loaders.py\", line 125, in keep_chunk_filled\n",
      "    time.sleep(0.1)\n",
      "  File \"/home/beans/bespoke/loaders.py\", line 125, in keep_chunk_filled\n",
      "    time.sleep(0.1)\n",
      "KeyboardInterrupt\n",
      "KeyboardInterrupt\n"
     ]
    }
   ],
   "source": [
    "%%time\n",
    "BS = 16 # 64\n",
    "seqlen = 60 #80\n",
    "loader = TrnLoader(bs=BS, n_batches=40, seqlen=seqlen, bptt=2, n_workers=2) # 600"
   ]
  },
  {
   "cell_type": "code",
   "execution_count": 3,
   "id": "3cd7fa58",
   "metadata": {
    "scrolled": true
   },
   "outputs": [
    {
     "name": "stderr",
     "output_type": "stream",
     "text": [
      "/home/beans/miniconda3/envs/py38/lib/python3.8/site-packages/torch/utils/checkpoint.py:31: UserWarning: None of the inputs have requires_grad=True. Gradients will be None\n",
      "  warnings.warn(\"None of the inputs have requires_grad=True. Gradients will be None\")\n"
     ]
    },
    {
     "name": "stdout",
     "output_type": "stream",
     "text": [
      "Stopsign approaching! 55.91\n",
      "Stopsign approaching! 52.21\n",
      "Stopsign approaching! 48.89\n",
      "Stopsign approaching! 45.82\n",
      "Stopsign approaching! 43.16\n",
      "Stopsign approaching! 40.65\n",
      "Stopsign approaching! 38.35\n",
      "Stopsign approaching! 36.37\n",
      "Stopsign approaching! 34.46\n",
      "Stopsign approaching! 32.67\n",
      "Stopsign approaching! 31.06\n",
      "Stopsign approaching! 29.61\n",
      "Stopsign approaching! 28.21\n",
      "Stopsign approaching! 26.98\n",
      "Stopsign approaching! 25.78\n",
      "Stopsign approaching! 24.66\n",
      "Stopsign approaching! 23.61\n",
      "Stopsign approaching! 22.6\n",
      "Stopsign approaching! 21.7\n",
      "Stopsign approaching! 20.74\n",
      "Stopsign approaching! 56.15\n",
      "Stopsign approaching! 52.77\n",
      "Stopsign approaching! 49.63\n",
      "Stopsign approaching! 46.7\n",
      "Stopsign approaching! 44.01\n",
      "Stopsign approaching! 41.52\n",
      "Stopsign approaching! 39.4\n",
      "Stopsign approaching! 37.44\n",
      "Stopsign approaching! 35.68\n",
      "Stopsign approaching! 33.93\n",
      "Stopsign approaching! 32.56\n",
      "Stopsign approaching! 31.12\n",
      "Stopsign approaching! 29.9\n",
      "Stopsign approaching! 28.82\n",
      "Stopsign approaching! 27.9\n",
      "Stopsign approaching! 27.01\n",
      "Stopsign approaching! 26.33\n",
      "Stopsign approaching! 25.57\n",
      "Stopsign approaching! 24.75\n",
      "Stopsign approaching! 23.97\n",
      "Stopsign approaching! 60.18\n",
      "Stopsign approaching! 59.76\n",
      "Stopsign approaching! 59.74\n",
      "Stopsign approaching! 59.94\n",
      "Stopsign approaching! 59.35\n",
      "Stopsign approaching! 58.35\n",
      "Stopsign approaching! 57.6\n",
      "Stopsign approaching! 57.04\n",
      "Stopsign approaching! 56.36\n",
      "Stopsign approaching! 55.41\n",
      "Rollout complete!\n",
      "CPU times: user 2min 55s, sys: 18.4 s, total: 3min 13s\n",
      "Wall time: 31 s\n"
     ]
    }
   ],
   "source": [
    "%%time\n",
    "# Rollout using only cnn\n",
    "m = EffNet().to(device)\n",
    "m.load_state_dict(torch.load(f\"{BESPOKE_ROOT}/models/m{'5.25_e39'}.torch\"))\n",
    "m.use_rnn = False\n",
    "rollout = Rollout(loader, \"5.25_e39\", m=m, store_imgs=True)"
   ]
  },
  {
   "cell_type": "code",
   "execution_count": 4,
   "id": "8e805d18",
   "metadata": {
    "scrolled": true
   },
   "outputs": [
    {
     "name": "stdout",
     "output_type": "stream",
     "text": [
      "CPU times: user 3 µs, sys: 1e+03 ns, total: 4 µs\n",
      "Wall time: 6.91 µs\n"
     ]
    }
   ],
   "source": [
    "%%time\n",
    "#rollout = Rollout(loader, \"4.13_e33\", store_imgs=True)"
   ]
  },
  {
   "cell_type": "code",
   "execution_count": 5,
   "id": "1ec9a7e0",
   "metadata": {},
   "outputs": [
    {
     "name": "stdout",
     "output_type": "stream",
     "text": [
      "0\n",
      "1000\n",
      "sim_5.25_e39 done!\n"
     ]
    }
   ],
   "source": [
    "make_enriched_vid_trn(rollout)"
   ]
  },
  {
   "cell_type": "code",
   "execution_count": null,
   "id": "c5da9d7f",
   "metadata": {},
   "outputs": [],
   "source": []
  },
  {
   "cell_type": "code",
   "execution_count": null,
   "id": "e4585069",
   "metadata": {},
   "outputs": [],
   "source": []
  },
  {
   "cell_type": "code",
   "execution_count": 5,
   "id": "1de99952",
   "metadata": {},
   "outputs": [],
   "source": [
    "#skipify(rollout, skip=20)"
   ]
  },
  {
   "cell_type": "code",
   "execution_count": 6,
   "id": "a5f99c8a",
   "metadata": {},
   "outputs": [
    {
     "data": {
      "text/plain": [
       "(960, 360, 1440, 4)"
      ]
     },
     "execution_count": 6,
     "metadata": {},
     "output_type": "execute_result"
    }
   ],
   "source": [
    "rollout.img.shape"
   ]
  },
  {
   "cell_type": "code",
   "execution_count": 7,
   "id": "3f82d7d5",
   "metadata": {},
   "outputs": [
    {
     "name": "stdout",
     "output_type": "stream",
     "text": [
      "CPU times: user 6.91 s, sys: 1.74 s, total: 8.66 s\n",
      "Wall time: 10.7 s\n"
     ]
    }
   ],
   "source": [
    "%%time\n",
    "rollout_f = f\"{BESPOKE_ROOT}/tmp/trn_{rollout.model_stem}_rollout.pkl\"\n",
    "\n",
    "save_object(rollout, rollout_f)"
   ]
  },
  {
   "cell_type": "code",
   "execution_count": null,
   "id": "5a489d23",
   "metadata": {},
   "outputs": [],
   "source": []
  },
  {
   "cell_type": "code",
   "execution_count": 7,
   "id": "d3d5ffa2",
   "metadata": {},
   "outputs": [
    {
     "data": {
      "text/plain": [
       "(1920, 360, 1440, 4)"
      ]
     },
     "execution_count": 7,
     "metadata": {},
     "output_type": "execute_result"
    }
   ],
   "source": [
    "rollout.img.shape"
   ]
  },
  {
   "cell_type": "code",
   "execution_count": null,
   "id": "6ef29d90",
   "metadata": {},
   "outputs": [],
   "source": []
  }
 ],
 "metadata": {
  "kernelspec": {
   "display_name": "Python 3 (ipykernel)",
   "language": "python",
   "name": "python3"
  },
  "language_info": {
   "codemirror_mode": {
    "name": "ipython",
    "version": 3
   },
   "file_extension": ".py",
   "mimetype": "text/x-python",
   "name": "python",
   "nbconvert_exporter": "python",
   "pygments_lexer": "ipython3",
   "version": "3.8.11"
  }
 },
 "nbformat": 4,
 "nbformat_minor": 5
}
