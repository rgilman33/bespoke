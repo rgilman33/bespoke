{
 "cells": [
  {
   "cell_type": "code",
   "execution_count": 1,
   "id": "27b6bfca",
   "metadata": {},
   "outputs": [],
   "source": [
    "%matplotlib inline\n",
    "%load_ext autoreload\n",
    "%autoreload 2\n",
    "\n",
    "import sys\n",
    "sys.path.append(f'/home/beans/bespoke')\n",
    "\n",
    "from constants import *\n",
    "from imports import *\n",
    "from train_utils import *\n",
    "from loaders import TrnLoader\n",
    "from viz_utils import *\n",
    "from rollout import *"
   ]
  },
  {
   "cell_type": "code",
   "execution_count": 2,
   "id": "c9ee2165",
   "metadata": {
    "scrolled": true
   },
   "outputs": [
    {
     "name": "stderr",
     "output_type": "stream",
     "text": [
      "/home/beans/miniconda3/envs/py38/lib/python3.8/site-packages/albumentations/augmentations/transforms.py:1175: FutureWarning: RandomContrast has been deprecated. Please use RandomBrightnessContrast\n",
      "  warnings.warn(\n",
      "/home/beans/miniconda3/envs/py38/lib/python3.8/site-packages/albumentations/augmentations/transforms.py:316: FutureWarning: JpegCompression has been deprecated. Please use ImageCompression\n",
      "  warnings.warn(\n",
      "/home/beans/miniconda3/envs/py38/lib/python3.8/site-packages/albumentations/augmentations/transforms.py:1149: FutureWarning: This class has been deprecated. Please use RandomBrightnessContrast\n",
      "  warnings.warn(\n",
      "/home/beans/miniconda3/envs/py38/lib/python3.8/site-packages/albumentations/augmentations/transforms.py:1175: FutureWarning: RandomContrast has been deprecated. Please use RandomBrightnessContrast\n",
      "  warnings.warn(\n",
      "/home/beans/miniconda3/envs/py38/lib/python3.8/site-packages/albumentations/augmentations/transforms.py:316: FutureWarning: JpegCompression has been deprecated. Please use ImageCompression\n",
      "  warnings.warn(\n",
      "/home/beans/miniconda3/envs/py38/lib/python3.8/site-packages/albumentations/augmentations/transforms.py:1149: FutureWarning: This class has been deprecated. Please use RandomBrightnessContrast\n",
      "  warnings.warn(\n"
     ]
    },
    {
     "name": "stdout",
     "output_type": "stream",
     "text": [
      "waiting for chunk\n",
      "waiting for chunk\n",
      "waiting for chunk\n",
      "waiting for chunk\n",
      "waiting for chunk\n",
      "waiting for chunk\n",
      "CPU times: user 394 ms, sys: 3.21 s, total: 3.6 s\n",
      "Wall time: 23.9 s\n"
     ]
    },
    {
     "name": "stderr",
     "output_type": "stream",
     "text": [
      "Process Process-1:\n",
      "Process Process-2:\n",
      "Traceback (most recent call last):\n",
      "Traceback (most recent call last):\n",
      "  File \"/home/beans/miniconda3/envs/py38/lib/python3.8/multiprocessing/process.py\", line 315, in _bootstrap\n",
      "    self.run()\n",
      "  File \"/home/beans/miniconda3/envs/py38/lib/python3.8/multiprocessing/process.py\", line 315, in _bootstrap\n",
      "    self.run()\n",
      "  File \"/home/beans/miniconda3/envs/py38/lib/python3.8/multiprocessing/process.py\", line 108, in run\n",
      "    self._target(*self._args, **self._kwargs)\n",
      "  File \"/home/beans/miniconda3/envs/py38/lib/python3.8/multiprocessing/process.py\", line 108, in run\n",
      "    self._target(*self._args, **self._kwargs)\n",
      "  File \"/home/beans/bespoke/loaders.py\", line 120, in keep_chunk_filled\n",
      "    time.sleep(0.1)\n",
      "  File \"/home/beans/bespoke/loaders.py\", line 120, in keep_chunk_filled\n",
      "    time.sleep(0.1)\n",
      "KeyboardInterrupt\n",
      "KeyboardInterrupt\n"
     ]
    }
   ],
   "source": [
    "%%time\n",
    "BS = 16 # 64\n",
    "loader = TrnLoader(bs=BS, n_batches=40, seqlen=80, bptt=2, n_workers=2) # 600"
   ]
  },
  {
   "cell_type": "code",
   "execution_count": 3,
   "id": "8e805d18",
   "metadata": {
    "scrolled": true
   },
   "outputs": [
    {
     "name": "stderr",
     "output_type": "stream",
     "text": [
      "/home/beans/miniconda3/envs/py38/lib/python3.8/site-packages/torch/utils/checkpoint.py:31: UserWarning: None of the inputs have requires_grad=True. Gradients will be None\n",
      "  warnings.warn(\"None of the inputs have requires_grad=True. Gradients will be None\")\n"
     ]
    },
    {
     "name": "stdout",
     "output_type": "stream",
     "text": [
      "Stopsign approaching! 56.84\n",
      "Stopsign approaching! 53.89\n",
      "Stopsign approaching! 51.17\n",
      "Stopsign approaching! 48.68\n",
      "Stopsign approaching! 46.37\n",
      "Stopsign approaching! 44.21\n",
      "Stopsign approaching! 42.25\n",
      "Stopsign approaching! 40.36\n",
      "Stopsign approaching! 38.59\n",
      "Stopsign approaching! 36.93\n",
      "Stopsign approaching! 35.39\n",
      "Stopsign approaching! 33.97\n",
      "Stopsign approaching! 32.63\n",
      "Stopsign approaching! 31.33\n",
      "Stopsign approaching! 30.19\n",
      "Stopsign approaching! 29.07\n",
      "Stopsign approaching! 28.02\n",
      "Stopsign approaching! 27.02\n",
      "Stopsign approaching! 26.06\n",
      "Stopsign approaching! 25.16\n",
      "Stopsign approaching! 24.35\n",
      "Stopsign approaching! 23.55\n",
      "Stopsign approaching! 22.77\n",
      "Stopsign approaching! 22.05\n",
      "Stopsign approaching! 21.31\n",
      "Stopsign approaching! 20.57\n",
      "Stopsign approaching! 19.92\n",
      "Stopsign approaching! 19.24\n",
      "Stopsign approaching! 18.63\n",
      "Stopsign approaching! 18.03\n",
      "Stopsign approaching! 17.43\n",
      "Stopsign approaching! 16.82\n",
      "Stopsign approaching! 16.34\n",
      "Stopsign approaching! 15.75\n",
      "Stopsign approaching! 15.15\n",
      "Stopsign approaching! 14.58\n",
      "Stopsign approaching! 14.0\n",
      "Stopsign approaching! 13.42\n",
      "Stopsign approaching! 12.93\n",
      "Stopsign approaching! 12.36\n",
      "Stopsign approaching! 11.79\n",
      "Stopsign approaching! 11.25\n",
      "Stopsign approaching! 10.7\n",
      "Stopsign approaching! 10.18\n",
      "Stopsign approaching! 9.66\n",
      "Stopsign approaching! 9.16\n",
      "Stopsign approaching! 8.68\n",
      "Stopsign approaching! 8.2\n",
      "Stopsign approaching! 7.73\n",
      "Stopsign approaching! 7.27\n",
      "Stopsign approaching! 6.81\n",
      "Stopsign approaching! 6.33\n",
      "Stopsign approaching! 5.89\n",
      "Stopsign approaching! 5.44\n",
      "Stopsign approaching! 4.99\n",
      "Stopsign approaching! 4.58\n",
      "Stopsign approaching! 4.19\n",
      "Stopsign approaching! 3.82\n",
      "Stopsign approaching! 3.48\n",
      "Stopsign approaching! 3.14\n",
      "Stopsign approaching! 56.25\n",
      "Stopsign approaching! 52.83\n",
      "Stopsign approaching! 49.62\n",
      "Stopsign approaching! 46.67\n",
      "Stopsign approaching! 43.97\n",
      "Stopsign approaching! 41.51\n",
      "Stopsign approaching! 39.27\n",
      "Stopsign approaching! 37.18\n",
      "Stopsign approaching! 35.27\n",
      "Stopsign approaching! 33.49\n",
      "Stopsign approaching! 31.83\n",
      "Stopsign approaching! 30.27\n",
      "Stopsign approaching! 28.89\n",
      "Stopsign approaching! 27.6\n",
      "Stopsign approaching! 26.39\n",
      "Stopsign approaching! 25.26\n",
      "Stopsign approaching! 24.19\n",
      "Stopsign approaching! 23.21\n",
      "Stopsign approaching! 22.32\n",
      "Stopsign approaching! 21.47\n",
      "Stopsign approaching! 20.72\n",
      "Stopsign approaching! 19.96\n",
      "Stopsign approaching! 19.23\n",
      "Stopsign approaching! 18.63\n",
      "Stopsign approaching! 18.0\n",
      "Stopsign approaching! 17.4\n",
      "Stopsign approaching! 16.84\n",
      "Stopsign approaching! 16.31\n",
      "Stopsign approaching! 15.79\n",
      "Stopsign approaching! 15.29\n",
      "Stopsign approaching! 14.83\n",
      "Stopsign approaching! 14.35\n",
      "Stopsign approaching! 13.88\n",
      "Stopsign approaching! 13.48\n",
      "Stopsign approaching! 13.06\n",
      "Stopsign approaching! 12.64\n",
      "Stopsign approaching! 12.26\n",
      "Stopsign approaching! 11.87\n",
      "Stopsign approaching! 11.5\n",
      "Stopsign approaching! 11.14\n",
      "Stopsign approaching! 10.82\n",
      "Stopsign approaching! 10.49\n",
      "Stopsign approaching! 10.16\n",
      "Stopsign approaching! 9.86\n",
      "Stopsign approaching! 9.56\n",
      "Stopsign approaching! 9.31\n",
      "Stopsign approaching! 9.05\n",
      "Stopsign approaching! 8.81\n",
      "Stopsign approaching! 8.57\n",
      "Stopsign approaching! 8.36\n",
      "Stopsign approaching! 8.15\n",
      "Stopsign approaching! 7.94\n",
      "Stopsign approaching! 7.75\n",
      "Stopsign approaching! 7.54\n",
      "Stopsign approaching! 7.34\n",
      "Stopsign approaching! 7.16\n",
      "Stopsign approaching! 6.97\n",
      "Stopsign approaching! 6.8\n",
      "Stopsign approaching! 6.62\n",
      "Stopsign approaching! 6.44\n",
      "Stopsign approaching! 6.27\n",
      "Stopsign approaching! 6.09\n",
      "Stopsign approaching! 5.92\n",
      "Stopsign approaching! 5.76\n",
      "Stopsign approaching! 5.59\n",
      "Stopsign approaching! 5.41\n",
      "Stopsign approaching! 5.23\n",
      "Stopsign approaching! 5.04\n",
      "Stopsign approaching! 4.82\n",
      "Stopsign approaching! 4.64\n",
      "Stopsign approaching! 4.44\n",
      "Stopsign approaching! 4.23\n",
      "Stopsign approaching! 4.03\n",
      "Stopsign approaching! 3.82\n",
      "Stopsign approaching! 3.61\n",
      "Stopsign approaching! 3.39\n",
      "Stopsign approaching! 3.21\n",
      "Stopsign approaching! 3.04\n",
      "Stopsign approaching! 2.86\n",
      "Stopsign approaching! 2.69\n",
      "Rollout complete!\n",
      "CPU times: user 2min 55s, sys: 13.2 s, total: 3min 8s\n",
      "Wall time: 22.4 s\n"
     ]
    }
   ],
   "source": [
    "%%time\n",
    "rollout = Rollout(loader, \"3.20_e158\", store_imgs=True)"
   ]
  },
  {
   "cell_type": "code",
   "execution_count": 4,
   "id": "1ec9a7e0",
   "metadata": {},
   "outputs": [
    {
     "name": "stdout",
     "output_type": "stream",
     "text": [
      "0\n",
      "1000\n",
      "sim_3.20_e158 done!\n"
     ]
    }
   ],
   "source": [
    "make_enriched_vid_trn(rollout)"
   ]
  },
  {
   "cell_type": "code",
   "execution_count": null,
   "id": "e4585069",
   "metadata": {},
   "outputs": [],
   "source": []
  },
  {
   "cell_type": "code",
   "execution_count": 5,
   "id": "1de99952",
   "metadata": {},
   "outputs": [],
   "source": [
    "#skipify(rollout, skip=20)"
   ]
  },
  {
   "cell_type": "code",
   "execution_count": 6,
   "id": "a5f99c8a",
   "metadata": {},
   "outputs": [
    {
     "data": {
      "text/plain": [
       "(960, 360, 1440, 4)"
      ]
     },
     "execution_count": 6,
     "metadata": {},
     "output_type": "execute_result"
    }
   ],
   "source": [
    "rollout.img.shape"
   ]
  },
  {
   "cell_type": "code",
   "execution_count": 7,
   "id": "3f82d7d5",
   "metadata": {},
   "outputs": [
    {
     "name": "stdout",
     "output_type": "stream",
     "text": [
      "CPU times: user 6.91 s, sys: 1.74 s, total: 8.66 s\n",
      "Wall time: 10.7 s\n"
     ]
    }
   ],
   "source": [
    "%%time\n",
    "rollout_f = f\"{BESPOKE_ROOT}/tmp/trn_{rollout.model_stem}_rollout.pkl\"\n",
    "\n",
    "save_object(rollout, rollout_f)"
   ]
  },
  {
   "cell_type": "code",
   "execution_count": null,
   "id": "5a489d23",
   "metadata": {},
   "outputs": [],
   "source": []
  },
  {
   "cell_type": "code",
   "execution_count": 7,
   "id": "d3d5ffa2",
   "metadata": {},
   "outputs": [
    {
     "data": {
      "text/plain": [
       "(1920, 360, 1440, 4)"
      ]
     },
     "execution_count": 7,
     "metadata": {},
     "output_type": "execute_result"
    }
   ],
   "source": [
    "rollout.img.shape"
   ]
  },
  {
   "cell_type": "code",
   "execution_count": null,
   "id": "6ef29d90",
   "metadata": {},
   "outputs": [],
   "source": []
  }
 ],
 "metadata": {
  "kernelspec": {
   "display_name": "Python 3 (ipykernel)",
   "language": "python",
   "name": "python3"
  },
  "language_info": {
   "codemirror_mode": {
    "name": "ipython",
    "version": 3
   },
   "file_extension": ".py",
   "mimetype": "text/x-python",
   "name": "python",
   "nbconvert_exporter": "python",
   "pygments_lexer": "ipython3",
   "version": "3.8.11"
  }
 },
 "nbformat": 4,
 "nbformat_minor": 5
}
