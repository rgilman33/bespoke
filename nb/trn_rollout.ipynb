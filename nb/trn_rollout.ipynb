{
 "cells": [
  {
   "cell_type": "code",
   "execution_count": 1,
   "id": "27b6bfca",
   "metadata": {},
   "outputs": [],
   "source": [
    "%matplotlib inline\n",
    "%load_ext autoreload\n",
    "%autoreload 2\n",
    "\n",
    "import sys\n",
    "sys.path.append(f'/home/beans/bespoke')\n",
    "\n",
    "from constants import *\n",
    "from imports import *\n",
    "from train_utils import *\n",
    "from loaders import TrnLoader\n",
    "from viz_utils import *\n",
    "from rollout import *"
   ]
  },
  {
   "cell_type": "code",
   "execution_count": 2,
   "id": "c9ee2165",
   "metadata": {
    "scrolled": true
   },
   "outputs": [
    {
     "name": "stderr",
     "output_type": "stream",
     "text": [
      "/home/beans/miniconda3/envs/py38/lib/python3.8/site-packages/albumentations/augmentations/transforms.py:1175: FutureWarning: RandomContrast has been deprecated. Please use RandomBrightnessContrast\n",
      "  warnings.warn(\n",
      "/home/beans/miniconda3/envs/py38/lib/python3.8/site-packages/albumentations/augmentations/transforms.py:316: FutureWarning: JpegCompression has been deprecated. Please use ImageCompression\n",
      "  warnings.warn(\n",
      "/home/beans/miniconda3/envs/py38/lib/python3.8/site-packages/albumentations/augmentations/transforms.py:1149: FutureWarning: This class has been deprecated. Please use RandomBrightnessContrast\n",
      "  warnings.warn(\n",
      "/home/beans/miniconda3/envs/py38/lib/python3.8/site-packages/albumentations/augmentations/transforms.py:1175: FutureWarning: RandomContrast has been deprecated. Please use RandomBrightnessContrast\n",
      "  warnings.warn(\n",
      "/home/beans/miniconda3/envs/py38/lib/python3.8/site-packages/albumentations/augmentations/transforms.py:316: FutureWarning: JpegCompression has been deprecated. Please use ImageCompression\n",
      "  warnings.warn(\n",
      "/home/beans/miniconda3/envs/py38/lib/python3.8/site-packages/albumentations/augmentations/transforms.py:1149: FutureWarning: This class has been deprecated. Please use RandomBrightnessContrast\n",
      "  warnings.warn(\n"
     ]
    },
    {
     "name": "stdout",
     "output_type": "stream",
     "text": [
      "waiting for chunk\n",
      "waiting for chunk\n",
      "waiting for chunk\n",
      "waiting for chunk\n",
      "CPU times: user 265 ms, sys: 2.05 s, total: 2.31 s\n",
      "Wall time: 16.5 s\n"
     ]
    },
    {
     "name": "stderr",
     "output_type": "stream",
     "text": [
      "Process Process-2:\n",
      "Process Process-1:\n",
      "Traceback (most recent call last):\n",
      "  File \"/home/beans/miniconda3/envs/py38/lib/python3.8/multiprocessing/process.py\", line 315, in _bootstrap\n",
      "    self.run()\n",
      "Traceback (most recent call last):\n",
      "  File \"/home/beans/miniconda3/envs/py38/lib/python3.8/multiprocessing/process.py\", line 108, in run\n",
      "    self._target(*self._args, **self._kwargs)\n",
      "  File \"/home/beans/miniconda3/envs/py38/lib/python3.8/multiprocessing/process.py\", line 315, in _bootstrap\n",
      "    self.run()\n",
      "  File \"/home/beans/bespoke/loaders.py\", line 123, in keep_chunk_filled\n",
      "    time.sleep(0.1)\n",
      "KeyboardInterrupt\n",
      "  File \"/home/beans/miniconda3/envs/py38/lib/python3.8/multiprocessing/process.py\", line 108, in run\n",
      "    self._target(*self._args, **self._kwargs)\n",
      "  File \"/home/beans/bespoke/loaders.py\", line 123, in keep_chunk_filled\n",
      "    time.sleep(0.1)\n",
      "KeyboardInterrupt\n"
     ]
    }
   ],
   "source": [
    "%%time\n",
    "BS = 16 # 64\n",
    "seqlen = 60 #80\n",
    "loader = TrnLoader(bs=BS, n_batches=40, seqlen=seqlen, bptt=2, n_workers=2) # 600"
   ]
  },
  {
   "cell_type": "code",
   "execution_count": 3,
   "id": "3cd7fa58",
   "metadata": {
    "scrolled": true
   },
   "outputs": [
    {
     "name": "stderr",
     "output_type": "stream",
     "text": [
      "/home/beans/miniconda3/envs/py38/lib/python3.8/site-packages/torch/utils/checkpoint.py:31: UserWarning: None of the inputs have requires_grad=True. Gradients will be None\n",
      "  warnings.warn(\"None of the inputs have requires_grad=True. Gradients will be None\")\n"
     ]
    },
    {
     "name": "stdout",
     "output_type": "stream",
     "text": [
      "Stopsign approaching! 59.76\n",
      "Stopsign approaching! 58.99\n",
      "Stopsign approaching! 57.35\n",
      "Stopsign approaching! 54.86\n",
      "Stopsign approaching! 51.39\n",
      "Stopsign approaching! 47.01\n",
      "Stopsign approaching! 59.9\n",
      "Stopsign approaching! 59.66\n",
      "Stopsign approaching! 58.82\n",
      "Stopsign approaching! 57.36\n",
      "Stopsign approaching! 55.37\n",
      "Stopsign approaching! 52.8\n",
      "Stopsign approaching! 49.35\n",
      "Stopsign approaching! 45.37\n",
      "Stopsign approaching! 59.5\n",
      "Stopsign approaching! 58.39\n",
      "Stopsign approaching! 56.69\n",
      "Stopsign approaching! 54.54\n",
      "Stopsign approaching! 51.86\n",
      "Stopsign approaching! 48.54\n",
      "Stopsign approaching! 44.98\n",
      "Stopsign approaching! 41.15\n",
      "Stopsign approaching! 59.42\n",
      "Stopsign approaching! 58.05\n",
      "Stopsign approaching! 55.85\n",
      "Stopsign approaching! 52.93\n",
      "Stopsign approaching! 49.39\n",
      "Stopsign approaching! 45.26\n",
      "Stopsign approaching! 59.24\n",
      "Stopsign approaching! 58.03\n",
      "Stopsign approaching! 56.46\n",
      "Stopsign approaching! 54.56\n",
      "Stopsign approaching! 52.52\n",
      "Stopsign approaching! 50.25\n",
      "Stopsign approaching! 48.14\n",
      "Stopsign approaching! 46.08\n",
      "Stopsign approaching! 44.02\n",
      "Stopsign approaching! 41.93\n",
      "Stopsign approaching! 39.64\n",
      "Stopsign approaching! 37.31\n",
      "Stopsign approaching! 34.87\n",
      "Stopsign approaching! 32.37\n",
      "Stopsign approaching! 58.66\n",
      "Stopsign approaching! 56.84\n",
      "Stopsign approaching! 54.73\n",
      "Stopsign approaching! 52.39\n",
      "Stopsign approaching! 49.81\n",
      "Stopsign approaching! 47.08\n",
      "Stopsign approaching! 44.37\n",
      "Stopsign approaching! 41.61\n",
      "Stopsign approaching! 38.82\n",
      "Stopsign approaching! 35.98\n",
      "Stopsign approaching! 33.18\n",
      "Stopsign approaching! 30.39\n",
      "Stopsign approaching! 27.81\n",
      "Stopsign approaching! 25.48\n",
      "Stopsign approaching! 58.66\n",
      "Stopsign approaching! 56.89\n",
      "Stopsign approaching! 54.8\n",
      "Stopsign approaching! 52.47\n",
      "Stopsign approaching! 49.73\n",
      "Stopsign approaching! 46.56\n",
      "Stopsign approaching! 43.1\n",
      "Stopsign approaching! 39.53\n",
      "Stopsign approaching! 59.0\n",
      "Stopsign approaching! 57.27\n",
      "Stopsign approaching! 55.07\n",
      "Stopsign approaching! 52.75\n",
      "Stopsign approaching! 49.6\n",
      "Stopsign approaching! 45.9\n",
      "Stopsign approaching! 57.47\n",
      "Stopsign approaching! 55.28\n",
      "Stopsign approaching! 52.36\n",
      "Stopsign approaching! 59.94\n",
      "Stopsign approaching! 59.46\n",
      "Stopsign approaching! 58.06\n",
      "Stopsign approaching! 56.3\n",
      "Stopsign approaching! 53.27\n",
      "Stopsign approaching! 49.68\n",
      "Stopsign approaching! 45.54\n",
      "Stopsign approaching! 59.85\n",
      "Stopsign approaching! 59.42\n",
      "Stopsign approaching! 58.14\n",
      "Stopsign approaching! 56.33\n",
      "Stopsign approaching! 53.98\n",
      "Stopsign approaching! 51.06\n",
      "Stopsign approaching! 47.64\n",
      "Stopsign approaching! 43.69\n",
      "Rollout complete!\n",
      "CPU times: user 3min 9s, sys: 13 s, total: 3min 22s\n",
      "Wall time: 19.7 s\n"
     ]
    }
   ],
   "source": [
    "%%time\n",
    "# Rollout using only cnn\n",
    "m = EffNet().to(device)\n",
    "m.load_state_dict(torch.load(f\"{BESPOKE_ROOT}/models/m{'4.17_e27'}.torch\"))\n",
    "m.use_rnn = False\n",
    "rollout = Rollout(loader, \"4.17_e27\", m=m, store_imgs=True)"
   ]
  },
  {
   "cell_type": "code",
   "execution_count": 4,
   "id": "8e805d18",
   "metadata": {
    "scrolled": true
   },
   "outputs": [
    {
     "name": "stdout",
     "output_type": "stream",
     "text": [
      "CPU times: user 3 µs, sys: 1 µs, total: 4 µs\n",
      "Wall time: 6.2 µs\n"
     ]
    }
   ],
   "source": [
    "%%time\n",
    "#rollout = Rollout(loader, \"4.13_e33\", store_imgs=True)"
   ]
  },
  {
   "cell_type": "code",
   "execution_count": 5,
   "id": "1ec9a7e0",
   "metadata": {},
   "outputs": [
    {
     "name": "stdout",
     "output_type": "stream",
     "text": [
      "0\n",
      "1000\n",
      "sim_4.17_e27 done!\n"
     ]
    }
   ],
   "source": [
    "make_enriched_vid_trn(rollout)"
   ]
  },
  {
   "cell_type": "code",
   "execution_count": null,
   "id": "c5da9d7f",
   "metadata": {},
   "outputs": [],
   "source": []
  },
  {
   "cell_type": "code",
   "execution_count": null,
   "id": "e4585069",
   "metadata": {},
   "outputs": [],
   "source": []
  },
  {
   "cell_type": "code",
   "execution_count": 5,
   "id": "1de99952",
   "metadata": {},
   "outputs": [],
   "source": [
    "#skipify(rollout, skip=20)"
   ]
  },
  {
   "cell_type": "code",
   "execution_count": 6,
   "id": "a5f99c8a",
   "metadata": {},
   "outputs": [
    {
     "data": {
      "text/plain": [
       "(960, 360, 1440, 4)"
      ]
     },
     "execution_count": 6,
     "metadata": {},
     "output_type": "execute_result"
    }
   ],
   "source": [
    "rollout.img.shape"
   ]
  },
  {
   "cell_type": "code",
   "execution_count": 7,
   "id": "3f82d7d5",
   "metadata": {},
   "outputs": [
    {
     "name": "stdout",
     "output_type": "stream",
     "text": [
      "CPU times: user 6.91 s, sys: 1.74 s, total: 8.66 s\n",
      "Wall time: 10.7 s\n"
     ]
    }
   ],
   "source": [
    "%%time\n",
    "rollout_f = f\"{BESPOKE_ROOT}/tmp/trn_{rollout.model_stem}_rollout.pkl\"\n",
    "\n",
    "save_object(rollout, rollout_f)"
   ]
  },
  {
   "cell_type": "code",
   "execution_count": null,
   "id": "5a489d23",
   "metadata": {},
   "outputs": [],
   "source": []
  },
  {
   "cell_type": "code",
   "execution_count": 7,
   "id": "d3d5ffa2",
   "metadata": {},
   "outputs": [
    {
     "data": {
      "text/plain": [
       "(1920, 360, 1440, 4)"
      ]
     },
     "execution_count": 7,
     "metadata": {},
     "output_type": "execute_result"
    }
   ],
   "source": [
    "rollout.img.shape"
   ]
  },
  {
   "cell_type": "code",
   "execution_count": null,
   "id": "6ef29d90",
   "metadata": {},
   "outputs": [],
   "source": []
  }
 ],
 "metadata": {
  "kernelspec": {
   "display_name": "Python 3 (ipykernel)",
   "language": "python",
   "name": "python3"
  },
  "language_info": {
   "codemirror_mode": {
    "name": "ipython",
    "version": 3
   },
   "file_extension": ".py",
   "mimetype": "text/x-python",
   "name": "python",
   "nbconvert_exporter": "python",
   "pygments_lexer": "ipython3",
   "version": "3.8.11"
  }
 },
 "nbformat": 4,
 "nbformat_minor": 5
}
