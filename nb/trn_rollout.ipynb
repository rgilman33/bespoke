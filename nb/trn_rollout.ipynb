{
 "cells": [
  {
   "cell_type": "code",
   "execution_count": 1,
   "id": "27b6bfca",
   "metadata": {},
   "outputs": [],
   "source": [
    "%matplotlib inline\n",
    "%load_ext autoreload\n",
    "%autoreload 2\n",
    "\n",
    "import sys\n",
    "sys.path.append(f'/home/beans/bespoke')\n",
    "\n",
    "from constants import *\n",
    "from imports import *\n",
    "from train_utils import *\n",
    "from loaders import TrnLoader\n",
    "from viz_utils import *\n",
    "from rollout import *"
   ]
  },
  {
   "cell_type": "code",
   "execution_count": 2,
   "id": "c9ee2165",
   "metadata": {
    "scrolled": true
   },
   "outputs": [
    {
     "name": "stderr",
     "output_type": "stream",
     "text": [
      "/home/beans/miniconda3/envs/py38/lib/python3.8/site-packages/albumentations/augmentations/transforms.py:316: FutureWarning: JpegCompression has been deprecated. Please use ImageCompression\n",
      "  warnings.warn(\n",
      "/home/beans/miniconda3/envs/py38/lib/python3.8/site-packages/albumentations/augmentations/transforms.py:316: FutureWarning: JpegCompression has been deprecated. Please use ImageCompression\n",
      "  warnings.warn(\n"
     ]
    },
    {
     "name": "stdout",
     "output_type": "stream",
     "text": [
      "waiting for chunk\n",
      "CPU times: user 22.2 ms, sys: 479 ms, total: 501 ms\n",
      "Wall time: 3.71 s\n"
     ]
    },
    {
     "name": "stderr",
     "output_type": "stream",
     "text": [
      "Process Process-1:\n",
      "Process Process-2:\n",
      "Traceback (most recent call last):\n",
      "  File \"/home/beans/miniconda3/envs/py38/lib/python3.8/multiprocessing/process.py\", line 315, in _bootstrap\n",
      "    self.run()\n",
      "Traceback (most recent call last):\n",
      "  File \"/home/beans/miniconda3/envs/py38/lib/python3.8/multiprocessing/process.py\", line 315, in _bootstrap\n",
      "    self.run()\n",
      "  File \"/home/beans/miniconda3/envs/py38/lib/python3.8/multiprocessing/process.py\", line 108, in run\n",
      "    self._target(*self._args, **self._kwargs)\n",
      "  File \"/home/beans/miniconda3/envs/py38/lib/python3.8/multiprocessing/process.py\", line 108, in run\n",
      "    self._target(*self._args, **self._kwargs)\n",
      "  File \"/home/beans/bespoke/loaders.py\", line 135, in keep_chunk_filled\n",
      "    time.sleep(0.1)\n",
      "  File \"/home/beans/bespoke/loaders.py\", line 135, in keep_chunk_filled\n",
      "    time.sleep(0.1)\n",
      "KeyboardInterrupt\n",
      "KeyboardInterrupt\n"
     ]
    }
   ],
   "source": [
    "%%time\n",
    "BS = 16 # 64\n",
    "seqlen = 6 #80\n",
    "loader = TrnLoader(bs=BS, n_batches=40, seqlen=seqlen, bptt=2, n_workers=2) # 600"
   ]
  },
  {
   "cell_type": "code",
   "execution_count": 3,
   "id": "3cd7fa58",
   "metadata": {
    "scrolled": true
   },
   "outputs": [
    {
     "name": "stdout",
     "output_type": "stream",
     "text": [
      "resetting hidden carousel\n"
     ]
    },
    {
     "name": "stderr",
     "output_type": "stream",
     "text": [
      "/home/beans/miniconda3/envs/py38/lib/python3.8/site-packages/torch/utils/checkpoint.py:31: UserWarning: None of the inputs have requires_grad=True. Gradients will be None\n",
      "  warnings.warn(\"None of the inputs have requires_grad=True. Gradients will be None\")\n"
     ]
    },
    {
     "name": "stdout",
     "output_type": "stream",
     "text": [
      "resetting hidden carousel\n",
      "resetting hidden carousel\n",
      "resetting hidden carousel\n",
      "resetting hidden carousel\n",
      "resetting hidden carousel\n",
      "resetting hidden carousel\n",
      "resetting hidden carousel\n",
      "resetting hidden carousel\n",
      "resetting hidden carousel\n",
      "resetting hidden carousel\n",
      "resetting hidden carousel\n",
      "resetting hidden carousel\n",
      "resetting hidden carousel\n",
      "Stopsign approaching! 60.63\n",
      "Stopsign approaching! 60.56\n",
      "Stopsign approaching! 59.62\n",
      "Stopsign approaching! 58.21\n",
      "Stopsign approaching! 56.27\n",
      "Stopsign approaching! 53.87\n",
      "Stopsign approaching! 55.22\n",
      "Stopsign approaching! 50.67\n",
      "Stopsign approaching! 46.33\n",
      "Stopsign approaching! 42.08\n",
      "Stopsign approaching! 59.27\n",
      "Stopsign approaching! 58.21\n",
      "Stopsign approaching! 56.86\n",
      "Stopsign approaching! 54.5\n",
      "Stopsign approaching! 51.31\n",
      "Stopsign approaching! 47.57\n",
      "Stopsign approaching! 54.75\n",
      "Stopsign approaching! 60.93\n",
      "Stopsign approaching! 60.96\n",
      "Stopsign approaching! 60.38\n",
      "Stopsign approaching! 59.33\n",
      "Stopsign approaching! 57.72\n",
      "Stopsign approaching! 55.66\n",
      "Stopsign approaching! 57.67\n",
      "Stopsign approaching! 60.16\n",
      "Stopsign approaching! 60.47\n",
      "Stopsign approaching! 60.6\n",
      "Stopsign approaching! 60.43\n",
      "Stopsign approaching! 59.49\n",
      "Stopsign approaching! 57.86\n",
      "Stopsign approaching! 55.43\n",
      "Stopsign approaching! 52.33\n",
      "Stopsign approaching! 48.53\n",
      "Stopsign approaching! 44.23\n",
      "Stopsign approaching! 60.44\n",
      "Stopsign approaching! 60.19\n",
      "Stopsign approaching! 59.48\n",
      "Stopsign approaching! 58.23\n",
      "Stopsign approaching! 58.67\n",
      "Stopsign approaching! 56.27\n",
      "Stopsign approaching! 52.55\n",
      "Stopsign approaching! 48.23\n",
      "Stopsign approaching! 60.48\n",
      "Stopsign approaching! 60.88\n",
      "Stopsign approaching! 61.32\n",
      "Stopsign approaching! 58.75\n",
      "Stopsign approaching! 56.82\n",
      "Stopsign approaching! 53.84\n",
      "Stopsign approaching! 50.11\n",
      "Stopsign approaching! 45.62\n",
      "Stopsign approaching! 59.65\n",
      "Stopsign approaching! 58.97\n",
      "Stopsign approaching! 57.62\n",
      "Stopsign approaching! 57.91\n",
      "Stopsign approaching! 55.74\n",
      "Stopsign approaching! 53.05\n",
      "Stopsign approaching! 50.27\n",
      "Stopsign approaching! 47.11\n",
      "Stopsign approaching! 43.39\n",
      "Stopsign approaching! 59.74\n",
      "Stopsign approaching! 58.17\n",
      "Stopsign approaching! 56.26\n",
      "Stopsign approaching! 60.62\n",
      "Stopsign approaching! 55.23\n",
      "Stopsign approaching! 50.63\n",
      "Stopsign approaching! 46.22\n",
      "Stopsign approaching! 42.01\n",
      "Stopsign approaching! 55.84\n",
      "Stopsign approaching! 51.78\n",
      "Stopsign approaching! 47.77\n",
      "Stopsign approaching! 43.9\n",
      "Stopsign approaching! 40.14\n",
      "Stopsign approaching! 36.53\n",
      "Stopsign approaching! 56.93\n",
      "Stopsign approaching! 53.42\n",
      "Stopsign approaching! 49.4\n",
      "Stopsign approaching! 45.2\n",
      "Stopsign approaching! 54.63\n",
      "Stopsign approaching! 54.92\n",
      "Rollout complete!\n",
      "CPU times: user 1min 44s, sys: 17 s, total: 2min 1s\n",
      "Wall time: 37.2 s\n"
     ]
    }
   ],
   "source": [
    "%%time\n",
    "# Rollout using only cnn\n",
    "m = EffNet().to(device)\n",
    "stem = '7.9_e32'\n",
    "m.load_state_dict(torch.load(f\"{BESPOKE_ROOT}/models/m{stem}.torch\"))\n",
    "m.use_rnn = False\n",
    "rollout = Rollout(loader, stem, m=m, store_imgs=True)"
   ]
  },
  {
   "cell_type": "code",
   "execution_count": 4,
   "id": "8e805d18",
   "metadata": {
    "scrolled": true
   },
   "outputs": [
    {
     "name": "stdout",
     "output_type": "stream",
     "text": [
      "CPU times: user 3 µs, sys: 1 µs, total: 4 µs\n",
      "Wall time: 6.68 µs\n"
     ]
    }
   ],
   "source": [
    "%%time\n",
    "#rollout = Rollout(loader, \"4.13_e33\", store_imgs=True)"
   ]
  },
  {
   "cell_type": "code",
   "execution_count": 5,
   "id": "1ec9a7e0",
   "metadata": {},
   "outputs": [
    {
     "name": "stdout",
     "output_type": "stream",
     "text": [
      "0\n",
      "1000\n",
      "sim_7.9_e32 done!\n"
     ]
    }
   ],
   "source": [
    "make_enriched_vid_trn(rollout)"
   ]
  },
  {
   "cell_type": "code",
   "execution_count": null,
   "id": "e4585069",
   "metadata": {},
   "outputs": [],
   "source": []
  },
  {
   "cell_type": "code",
   "execution_count": 5,
   "id": "1de99952",
   "metadata": {},
   "outputs": [],
   "source": [
    "#skipify(rollout, skip=20)"
   ]
  },
  {
   "cell_type": "code",
   "execution_count": 6,
   "id": "a5f99c8a",
   "metadata": {},
   "outputs": [
    {
     "data": {
      "text/plain": [
       "(960, 360, 1440, 4)"
      ]
     },
     "execution_count": 6,
     "metadata": {},
     "output_type": "execute_result"
    }
   ],
   "source": [
    "rollout.img.shape"
   ]
  },
  {
   "cell_type": "code",
   "execution_count": 7,
   "id": "3f82d7d5",
   "metadata": {},
   "outputs": [
    {
     "name": "stdout",
     "output_type": "stream",
     "text": [
      "CPU times: user 6.91 s, sys: 1.74 s, total: 8.66 s\n",
      "Wall time: 10.7 s\n"
     ]
    }
   ],
   "source": [
    "%%time\n",
    "rollout_f = f\"{BESPOKE_ROOT}/tmp/trn_{rollout.model_stem}_rollout.pkl\"\n",
    "\n",
    "save_object(rollout, rollout_f)"
   ]
  },
  {
   "cell_type": "code",
   "execution_count": null,
   "id": "5a489d23",
   "metadata": {},
   "outputs": [],
   "source": []
  },
  {
   "cell_type": "code",
   "execution_count": 7,
   "id": "d3d5ffa2",
   "metadata": {},
   "outputs": [
    {
     "data": {
      "text/plain": [
       "(1920, 360, 1440, 4)"
      ]
     },
     "execution_count": 7,
     "metadata": {},
     "output_type": "execute_result"
    }
   ],
   "source": [
    "rollout.img.shape"
   ]
  },
  {
   "cell_type": "code",
   "execution_count": null,
   "id": "6ef29d90",
   "metadata": {},
   "outputs": [],
   "source": []
  }
 ],
 "metadata": {
  "kernelspec": {
   "display_name": "Python 3 (ipykernel)",
   "language": "python",
   "name": "python3"
  },
  "language_info": {
   "codemirror_mode": {
    "name": "ipython",
    "version": 3
   },
   "file_extension": ".py",
   "mimetype": "text/x-python",
   "name": "python",
   "nbconvert_exporter": "python",
   "pygments_lexer": "ipython3",
   "version": "3.8.11"
  }
 },
 "nbformat": 4,
 "nbformat_minor": 5
}
