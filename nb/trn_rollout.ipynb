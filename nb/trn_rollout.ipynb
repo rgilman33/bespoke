{
 "cells": [
  {
   "cell_type": "code",
   "execution_count": 1,
   "id": "27b6bfca",
   "metadata": {},
   "outputs": [],
   "source": [
    "%matplotlib inline\n",
    "%load_ext autoreload\n",
    "%autoreload 2\n",
    "\n",
    "import sys\n",
    "sys.path.append(f'/home/beans/bespoke')\n",
    "\n",
    "from constants import *\n",
    "from imports import *\n",
    "from train_utils import *\n",
    "from loaders import TrnLoader\n",
    "from viz_utils import *\n",
    "from rollout import *"
   ]
  },
  {
   "cell_type": "code",
   "execution_count": 2,
   "id": "c9ee2165",
   "metadata": {
    "scrolled": true
   },
   "outputs": [
    {
     "name": "stderr",
     "output_type": "stream",
     "text": [
      "/home/beans/miniconda3/envs/py38/lib/python3.8/site-packages/albumentations/augmentations/transforms.py:1175: FutureWarning: RandomContrast has been deprecated. Please use RandomBrightnessContrast\n",
      "  warnings.warn(\n",
      "/home/beans/miniconda3/envs/py38/lib/python3.8/site-packages/albumentations/augmentations/transforms.py:316: FutureWarning: JpegCompression has been deprecated. Please use ImageCompression\n",
      "  warnings.warn(\n",
      "/home/beans/miniconda3/envs/py38/lib/python3.8/site-packages/albumentations/augmentations/transforms.py:1149: FutureWarning: This class has been deprecated. Please use RandomBrightnessContrast\n",
      "  warnings.warn(\n",
      "/home/beans/miniconda3/envs/py38/lib/python3.8/site-packages/albumentations/augmentations/transforms.py:1175: FutureWarning: RandomContrast has been deprecated. Please use RandomBrightnessContrast\n",
      "  warnings.warn(\n",
      "/home/beans/miniconda3/envs/py38/lib/python3.8/site-packages/albumentations/augmentations/transforms.py:316: FutureWarning: JpegCompression has been deprecated. Please use ImageCompression\n",
      "  warnings.warn(\n",
      "/home/beans/miniconda3/envs/py38/lib/python3.8/site-packages/albumentations/augmentations/transforms.py:1149: FutureWarning: This class has been deprecated. Please use RandomBrightnessContrast\n",
      "  warnings.warn(\n"
     ]
    },
    {
     "name": "stdout",
     "output_type": "stream",
     "text": [
      "waiting for chunk\n",
      "waiting for chunk\n",
      "waiting for chunk\n",
      "waiting for chunk\n",
      "waiting for chunk\n",
      "CPU times: user 407 ms, sys: 2.49 s, total: 2.9 s\n",
      "Wall time: 20.7 s\n"
     ]
    }
   ],
   "source": [
    "%%time\n",
    "BS = 16 # 64\n",
    "loader = TrnLoader(bs=BS, n_batches=40, seqlen=80, bptt=2, n_workers=2) # 600"
   ]
  },
  {
   "cell_type": "code",
   "execution_count": 3,
   "id": "8e805d18",
   "metadata": {
    "scrolled": true
   },
   "outputs": [
    {
     "name": "stderr",
     "output_type": "stream",
     "text": [
      "/home/beans/miniconda3/envs/py38/lib/python3.8/site-packages/torch/utils/checkpoint.py:31: UserWarning: None of the inputs have requires_grad=True. Gradients will be None\n",
      "  warnings.warn(\"None of the inputs have requires_grad=True. Gradients will be None\")\n"
     ]
    },
    {
     "name": "stdout",
     "output_type": "stream",
     "text": [
      "Stopsign approaching! 58.17\n",
      "Stopsign approaching! 56.37\n",
      "Stopsign approaching! 54.61\n",
      "Stopsign approaching! 52.92\n",
      "Stopsign approaching! 51.32\n",
      "Stopsign approaching! 49.79\n",
      "Stopsign approaching! 48.24\n",
      "Stopsign approaching! 46.81\n",
      "Stopsign approaching! 45.48\n",
      "Stopsign approaching! 44.25\n",
      "Stopsign approaching! 43.13\n",
      "Stopsign approaching! 42.03\n",
      "Stopsign approaching! 40.97\n",
      "Stopsign approaching! 39.97\n",
      "Stopsign approaching! 39.05\n",
      "Stopsign approaching! 38.15\n",
      "Stopsign approaching! 37.27\n",
      "Stopsign approaching! 36.41\n",
      "Stopsign approaching! 35.62\n",
      "Stopsign approaching! 34.81\n",
      "Stopsign approaching! 34.04\n",
      "Stopsign approaching! 33.25\n",
      "Stopsign approaching! 32.49\n",
      "Stopsign approaching! 31.76\n",
      "Stopsign approaching! 31.06\n",
      "Stopsign approaching! 30.35\n",
      "Stopsign approaching! 29.59\n",
      "Stopsign approaching! 28.81\n",
      "Stopsign approaching! 28.08\n",
      "Stopsign approaching! 27.35\n",
      "Stopsign approaching! 26.59\n",
      "Stopsign approaching! 25.78\n",
      "Stopsign approaching! 25.02\n",
      "Stopsign approaching! 24.32\n",
      "Stopsign approaching! 23.64\n",
      "Stopsign approaching! 22.96\n",
      "Stopsign approaching! 22.22\n",
      "Stopsign approaching! 21.55\n",
      "Stopsign approaching! 20.89\n",
      "Stopsign approaching! 20.29\n",
      "Stopsign approaching! 19.67\n",
      "Stopsign approaching! 19.03\n",
      "Stopsign approaching! 18.42\n",
      "Stopsign approaching! 17.86\n",
      "Stopsign approaching! 17.3\n",
      "Stopsign approaching! 16.81\n",
      "Stopsign approaching! 16.31\n",
      "Stopsign approaching! 15.87\n",
      "Stopsign approaching! 15.32\n",
      "Stopsign approaching! 14.85\n",
      "Stopsign approaching! 14.36\n",
      "Stopsign approaching! 13.94\n",
      "Stopsign approaching! 13.43\n",
      "Stopsign approaching! 12.97\n",
      "Stopsign approaching! 12.52\n",
      "Stopsign approaching! 12.07\n",
      "Stopsign approaching! 11.59\n",
      "Stopsign approaching! 11.14\n",
      "Stopsign approaching! 10.73\n",
      "Stopsign approaching! 10.29\n",
      "Stopsign approaching! 9.84\n",
      "Stopsign approaching! 9.3\n",
      "Stopsign approaching! 8.76\n",
      "Stopsign approaching! 8.22\n",
      "Stopsign approaching! 7.71\n",
      "Stopsign approaching! 7.22\n",
      "Stopsign approaching! 6.73\n",
      "Stopsign approaching! 6.26\n",
      "Stopsign approaching! 5.8\n",
      "Stopsign approaching! 5.37\n",
      "Stopsign approaching! 4.98\n",
      "Stopsign approaching! 4.64\n",
      "Stopsign approaching! 4.32\n",
      "Stopsign approaching! 4.04\n",
      "Stopsign approaching! 3.8\n",
      "Stopsign approaching! 3.6\n",
      "Stopsign approaching! 3.43\n",
      "Stopsign approaching! 3.28\n",
      "Stopsign approaching! 3.15\n",
      "Stopsign approaching! 3.04\n",
      "Stopsign approaching! 59.94\n",
      "Stopsign approaching! 59.89\n",
      "Stopsign approaching! 59.8\n",
      "Stopsign approaching! 59.66\n",
      "Stopsign approaching! 59.5\n",
      "Stopsign approaching! 59.34\n",
      "Stopsign approaching! 58.95\n",
      "Stopsign approaching! 58.7\n",
      "Stopsign approaching! 58.5\n",
      "Stopsign approaching! 58.22\n",
      "Stopsign approaching! 57.93\n",
      "Stopsign approaching! 57.65\n",
      "Stopsign approaching! 57.31\n",
      "Stopsign approaching! 56.98\n",
      "Stopsign approaching! 56.64\n",
      "Stopsign approaching! 56.26\n",
      "Stopsign approaching! 55.89\n",
      "Stopsign approaching! 55.52\n",
      "Stopsign approaching! 55.1\n",
      "Stopsign approaching! 54.66\n",
      "Stopsign approaching! 54.09\n",
      "Stopsign approaching! 53.6\n",
      "Stopsign approaching! 53.09\n",
      "Stopsign approaching! 52.57\n",
      "Stopsign approaching! 51.97\n",
      "Stopsign approaching! 51.36\n",
      "Stopsign approaching! 50.74\n",
      "Stopsign approaching! 50.15\n",
      "Stopsign approaching! 49.5\n",
      "Stopsign approaching! 48.83\n",
      "Stopsign approaching! 48.02\n",
      "Stopsign approaching! 47.28\n",
      "Stopsign approaching! 46.37\n",
      "Stopsign approaching! 45.59\n",
      "Rollout complete!\n",
      "CPU times: user 3min 10s, sys: 12.6 s, total: 3min 23s\n",
      "Wall time: 18.8 s\n"
     ]
    }
   ],
   "source": [
    "%%time\n",
    "rollout = Rollout(loader, \"3.20_e158\", store_imgs=True)"
   ]
  },
  {
   "cell_type": "code",
   "execution_count": 4,
   "id": "1ec9a7e0",
   "metadata": {},
   "outputs": [
    {
     "name": "stdout",
     "output_type": "stream",
     "text": [
      "0\n",
      "1000\n",
      "sim_3.20_e158 done!\n"
     ]
    }
   ],
   "source": [
    "make_enriched_vid_trn(rollout)"
   ]
  },
  {
   "cell_type": "code",
   "execution_count": null,
   "id": "e4585069",
   "metadata": {},
   "outputs": [],
   "source": []
  },
  {
   "cell_type": "code",
   "execution_count": 5,
   "id": "1de99952",
   "metadata": {},
   "outputs": [],
   "source": [
    "#skipify(rollout, skip=20)"
   ]
  },
  {
   "cell_type": "code",
   "execution_count": 6,
   "id": "a5f99c8a",
   "metadata": {},
   "outputs": [
    {
     "data": {
      "text/plain": [
       "(960, 360, 1440, 4)"
      ]
     },
     "execution_count": 6,
     "metadata": {},
     "output_type": "execute_result"
    }
   ],
   "source": [
    "rollout.img.shape"
   ]
  },
  {
   "cell_type": "code",
   "execution_count": 7,
   "id": "3f82d7d5",
   "metadata": {},
   "outputs": [
    {
     "name": "stdout",
     "output_type": "stream",
     "text": [
      "CPU times: user 6.91 s, sys: 1.74 s, total: 8.66 s\n",
      "Wall time: 10.7 s\n"
     ]
    }
   ],
   "source": [
    "%%time\n",
    "rollout_f = f\"{BESPOKE_ROOT}/tmp/trn_{rollout.model_stem}_rollout.pkl\"\n",
    "\n",
    "save_object(rollout, rollout_f)"
   ]
  },
  {
   "cell_type": "code",
   "execution_count": null,
   "id": "5a489d23",
   "metadata": {},
   "outputs": [],
   "source": []
  },
  {
   "cell_type": "code",
   "execution_count": 7,
   "id": "d3d5ffa2",
   "metadata": {},
   "outputs": [
    {
     "data": {
      "text/plain": [
       "(1920, 360, 1440, 4)"
      ]
     },
     "execution_count": 7,
     "metadata": {},
     "output_type": "execute_result"
    }
   ],
   "source": [
    "rollout.img.shape"
   ]
  },
  {
   "cell_type": "code",
   "execution_count": null,
   "id": "6ef29d90",
   "metadata": {},
   "outputs": [],
   "source": []
  }
 ],
 "metadata": {
  "kernelspec": {
   "display_name": "Python 3 (ipykernel)",
   "language": "python",
   "name": "python3"
  },
  "language_info": {
   "codemirror_mode": {
    "name": "ipython",
    "version": 3
   },
   "file_extension": ".py",
   "mimetype": "text/x-python",
   "name": "python",
   "nbconvert_exporter": "python",
   "pygments_lexer": "ipython3",
   "version": "3.8.11"
  }
 },
 "nbformat": 4,
 "nbformat_minor": 5
}
