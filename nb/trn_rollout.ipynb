{
 "cells": [
  {
   "cell_type": "code",
   "execution_count": 1,
   "id": "27b6bfca",
   "metadata": {},
   "outputs": [],
   "source": [
    "%matplotlib inline\n",
    "%load_ext autoreload\n",
    "%autoreload 2\n",
    "\n",
    "import sys\n",
    "sys.path.append(f'/home/beans/bespoke')\n",
    "\n",
    "from constants import *\n",
    "from imports import *\n",
    "from train_utils import *\n",
    "from loaders import TrnLoader\n",
    "from viz_utils import *\n",
    "from rollout import *"
   ]
  },
  {
   "cell_type": "code",
   "execution_count": 2,
   "id": "c9ee2165",
   "metadata": {
    "scrolled": true
   },
   "outputs": [
    {
     "name": "stderr",
     "output_type": "stream",
     "text": [
      "/home/beans/miniconda3/envs/py38/lib/python3.8/site-packages/albumentations/augmentations/transforms.py:1175: FutureWarning: RandomContrast has been deprecated. Please use RandomBrightnessContrast\n",
      "  warnings.warn(\n",
      "/home/beans/miniconda3/envs/py38/lib/python3.8/site-packages/albumentations/augmentations/transforms.py:316: FutureWarning: JpegCompression has been deprecated. Please use ImageCompression\n",
      "  warnings.warn(\n",
      "/home/beans/miniconda3/envs/py38/lib/python3.8/site-packages/albumentations/augmentations/transforms.py:1149: FutureWarning: This class has been deprecated. Please use RandomBrightnessContrast\n",
      "  warnings.warn(\n"
     ]
    },
    {
     "name": "stdout",
     "output_type": "stream",
     "text": [
      "waiting for chunk\n"
     ]
    },
    {
     "name": "stderr",
     "output_type": "stream",
     "text": [
      "/home/beans/miniconda3/envs/py38/lib/python3.8/site-packages/albumentations/augmentations/transforms.py:1175: FutureWarning: RandomContrast has been deprecated. Please use RandomBrightnessContrast\n",
      "  warnings.warn(\n",
      "/home/beans/miniconda3/envs/py38/lib/python3.8/site-packages/albumentations/augmentations/transforms.py:316: FutureWarning: JpegCompression has been deprecated. Please use ImageCompression\n",
      "  warnings.warn(\n",
      "/home/beans/miniconda3/envs/py38/lib/python3.8/site-packages/albumentations/augmentations/transforms.py:1149: FutureWarning: This class has been deprecated. Please use RandomBrightnessContrast\n",
      "  warnings.warn(\n"
     ]
    },
    {
     "name": "stdout",
     "output_type": "stream",
     "text": [
      "waiting for chunk\n",
      "waiting for chunk\n",
      "waiting for chunk\n",
      "waiting for chunk\n",
      "waiting for chunk\n",
      "waiting for chunk\n",
      "waiting for chunk\n",
      "waiting for chunk\n",
      "waiting for chunk\n",
      "waiting for chunk\n",
      "CPU times: user 844 ms, sys: 3.73 s, total: 4.57 s\n",
      "Wall time: 40 s\n"
     ]
    },
    {
     "name": "stderr",
     "output_type": "stream",
     "text": [
      "Process Process-1:\n",
      "Process Process-2:\n",
      "Traceback (most recent call last):\n",
      "Traceback (most recent call last):\n",
      "  File \"/home/beans/miniconda3/envs/py38/lib/python3.8/multiprocessing/process.py\", line 315, in _bootstrap\n",
      "    self.run()\n",
      "  File \"/home/beans/miniconda3/envs/py38/lib/python3.8/multiprocessing/process.py\", line 315, in _bootstrap\n",
      "    self.run()\n",
      "  File \"/home/beans/miniconda3/envs/py38/lib/python3.8/multiprocessing/process.py\", line 108, in run\n",
      "    self._target(*self._args, **self._kwargs)\n",
      "  File \"/home/beans/miniconda3/envs/py38/lib/python3.8/multiprocessing/process.py\", line 108, in run\n",
      "    self._target(*self._args, **self._kwargs)\n",
      "  File \"/home/beans/bespoke/loaders.py\", line 121, in keep_chunk_filled\n",
      "    time.sleep(0.1)\n",
      "  File \"/home/beans/bespoke/loaders.py\", line 121, in keep_chunk_filled\n",
      "    time.sleep(0.1)\n",
      "KeyboardInterrupt\n",
      "KeyboardInterrupt\n"
     ]
    }
   ],
   "source": [
    "%%time\n",
    "BS = 16 # 64\n",
    "loader = TrnLoader(bs=BS, n_batches=40, seqlen=80, bptt=2, n_workers=2) # 600"
   ]
  },
  {
   "cell_type": "code",
   "execution_count": 3,
   "id": "8e805d18",
   "metadata": {
    "scrolled": true
   },
   "outputs": [
    {
     "name": "stderr",
     "output_type": "stream",
     "text": [
      "/home/beans/miniconda3/envs/py38/lib/python3.8/site-packages/torch/utils/checkpoint.py:31: UserWarning: None of the inputs have requires_grad=True. Gradients will be None\n",
      "  warnings.warn(\"None of the inputs have requires_grad=True. Gradients will be None\")\n"
     ]
    },
    {
     "name": "stdout",
     "output_type": "stream",
     "text": [
      "Rollout complete!\n",
      "CPU times: user 2min 50s, sys: 31.8 s, total: 3min 22s\n",
      "Wall time: 44.9 s\n"
     ]
    }
   ],
   "source": [
    "%%time\n",
    "rollout = Rollout(loader, \"3.7_e40\", store_imgs=True)"
   ]
  },
  {
   "cell_type": "code",
   "execution_count": 4,
   "id": "7c4908f4",
   "metadata": {},
   "outputs": [
    {
     "data": {
      "text/plain": [
       "(1280, 360, 1440, 3)"
      ]
     },
     "execution_count": 4,
     "metadata": {},
     "output_type": "execute_result"
    }
   ],
   "source": [
    "rollout.img.shape"
   ]
  },
  {
   "cell_type": "code",
   "execution_count": 5,
   "id": "1ec9a7e0",
   "metadata": {},
   "outputs": [
    {
     "name": "stdout",
     "output_type": "stream",
     "text": [
      "0\n",
      "1000\n",
      "sim_3.7_e40 done!\n"
     ]
    }
   ],
   "source": [
    "make_enriched_vid_trn(rollout)"
   ]
  },
  {
   "cell_type": "code",
   "execution_count": null,
   "id": "e4585069",
   "metadata": {},
   "outputs": [],
   "source": []
  },
  {
   "cell_type": "code",
   "execution_count": 5,
   "id": "1de99952",
   "metadata": {},
   "outputs": [],
   "source": [
    "#skipify(rollout, skip=20)"
   ]
  },
  {
   "cell_type": "code",
   "execution_count": 6,
   "id": "a5f99c8a",
   "metadata": {},
   "outputs": [
    {
     "data": {
      "text/plain": [
       "(960, 360, 1440, 4)"
      ]
     },
     "execution_count": 6,
     "metadata": {},
     "output_type": "execute_result"
    }
   ],
   "source": [
    "rollout.img.shape"
   ]
  },
  {
   "cell_type": "code",
   "execution_count": 7,
   "id": "3f82d7d5",
   "metadata": {},
   "outputs": [
    {
     "name": "stdout",
     "output_type": "stream",
     "text": [
      "CPU times: user 6.91 s, sys: 1.74 s, total: 8.66 s\n",
      "Wall time: 10.7 s\n"
     ]
    }
   ],
   "source": [
    "%%time\n",
    "rollout_f = f\"{BESPOKE_ROOT}/tmp/trn_{rollout.model_stem}_rollout.pkl\"\n",
    "\n",
    "save_object(rollout, rollout_f)"
   ]
  },
  {
   "cell_type": "code",
   "execution_count": null,
   "id": "5a489d23",
   "metadata": {},
   "outputs": [],
   "source": []
  },
  {
   "cell_type": "code",
   "execution_count": 7,
   "id": "d3d5ffa2",
   "metadata": {},
   "outputs": [
    {
     "data": {
      "text/plain": [
       "(1920, 360, 1440, 4)"
      ]
     },
     "execution_count": 7,
     "metadata": {},
     "output_type": "execute_result"
    }
   ],
   "source": [
    "rollout.img.shape"
   ]
  },
  {
   "cell_type": "code",
   "execution_count": null,
   "id": "6ef29d90",
   "metadata": {},
   "outputs": [],
   "source": []
  }
 ],
 "metadata": {
  "kernelspec": {
   "display_name": "Python 3 (ipykernel)",
   "language": "python",
   "name": "python3"
  },
  "language_info": {
   "codemirror_mode": {
    "name": "ipython",
    "version": 3
   },
   "file_extension": ".py",
   "mimetype": "text/x-python",
   "name": "python",
   "nbconvert_exporter": "python",
   "pygments_lexer": "ipython3",
   "version": "3.8.11"
  }
 },
 "nbformat": 4,
 "nbformat_minor": 5
}
