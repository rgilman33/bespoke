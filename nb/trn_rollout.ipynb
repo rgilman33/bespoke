{
 "cells": [
  {
   "cell_type": "code",
   "execution_count": 1,
   "id": "27b6bfca",
   "metadata": {},
   "outputs": [],
   "source": [
    "%matplotlib inline\n",
    "%load_ext autoreload\n",
    "%autoreload 2\n",
    "\n",
    "import sys\n",
    "sys.path.append(f'/home/beans/bespoke')\n",
    "\n",
    "from constants import *\n",
    "from imports import *\n",
    "from train_utils import *\n",
    "from loaders import TrnLoader\n",
    "from viz_utils import *\n",
    "from rollout import *"
   ]
  },
  {
   "cell_type": "code",
   "execution_count": 2,
   "id": "c9ee2165",
   "metadata": {
    "scrolled": true
   },
   "outputs": [
    {
     "name": "stderr",
     "output_type": "stream",
     "text": [
      "/home/beans/miniconda3/envs/py38/lib/python3.8/site-packages/albumentations/augmentations/transforms.py:316: FutureWarning: JpegCompression has been deprecated. Please use ImageCompression\n",
      "  warnings.warn(\n",
      "/home/beans/miniconda3/envs/py38/lib/python3.8/site-packages/albumentations/augmentations/transforms.py:316: FutureWarning: JpegCompression has been deprecated. Please use ImageCompression\n",
      "  warnings.warn(\n"
     ]
    },
    {
     "name": "stdout",
     "output_type": "stream",
     "text": [
      "CPU times: user 31.1 ms, sys: 469 ms, total: 500 ms\n",
      "Wall time: 2.9 s\n"
     ]
    },
    {
     "name": "stderr",
     "output_type": "stream",
     "text": [
      "Process Process-2:\n",
      "Process Process-1:\n",
      "Traceback (most recent call last):\n",
      "Traceback (most recent call last):\n",
      "  File \"/home/beans/miniconda3/envs/py38/lib/python3.8/multiprocessing/process.py\", line 315, in _bootstrap\n",
      "    self.run()\n",
      "  File \"/home/beans/miniconda3/envs/py38/lib/python3.8/multiprocessing/process.py\", line 315, in _bootstrap\n",
      "    self.run()\n",
      "  File \"/home/beans/miniconda3/envs/py38/lib/python3.8/multiprocessing/process.py\", line 108, in run\n",
      "    self._target(*self._args, **self._kwargs)\n",
      "  File \"/home/beans/miniconda3/envs/py38/lib/python3.8/multiprocessing/process.py\", line 108, in run\n",
      "    self._target(*self._args, **self._kwargs)\n",
      "  File \"/home/beans/bespoke/loaders.py\", line 135, in keep_chunk_filled\n",
      "    time.sleep(0.1)\n",
      "  File \"/home/beans/bespoke/loaders.py\", line 135, in keep_chunk_filled\n",
      "    time.sleep(0.1)\n",
      "KeyboardInterrupt\n",
      "KeyboardInterrupt\n"
     ]
    }
   ],
   "source": [
    "%%time\n",
    "BS = 16 # 64\n",
    "seqlen = 6 #80\n",
    "loader = TrnLoader(bs=BS, n_batches=20, seqlen=seqlen, bptt=2, n_workers=2) # 600"
   ]
  },
  {
   "cell_type": "code",
   "execution_count": 3,
   "id": "3cd7fa58",
   "metadata": {
    "scrolled": true
   },
   "outputs": [
    {
     "name": "stdout",
     "output_type": "stream",
     "text": [
      "resetting hidden carousel\n"
     ]
    },
    {
     "name": "stderr",
     "output_type": "stream",
     "text": [
      "/home/beans/miniconda3/envs/py38/lib/python3.8/site-packages/torch/utils/checkpoint.py:31: UserWarning: None of the inputs have requires_grad=True. Gradients will be None\n",
      "  warnings.warn(\"None of the inputs have requires_grad=True. Gradients will be None\")\n"
     ]
    },
    {
     "name": "stdout",
     "output_type": "stream",
     "text": [
      "resetting hidden carousel\n",
      "resetting hidden carousel\n",
      "resetting hidden carousel\n",
      "resetting hidden carousel\n",
      "resetting hidden carousel\n",
      "resetting hidden carousel\n",
      "resetting hidden carousel\n",
      "resetting hidden carousel\n",
      "resetting hidden carousel\n",
      "resetting hidden carousel\n",
      "resetting hidden carousel\n",
      "resetting hidden carousel\n",
      "resetting hidden carousel\n",
      "Stopsign approaching! 54.44\n",
      "Stopsign approaching! 49.1\n",
      "Stopsign approaching! 43.97\n",
      "Stopsign approaching! 39.19\n",
      "Stopsign approaching! 34.61\n",
      "Stopsign approaching! 59.97\n",
      "Stopsign approaching! 59.09\n",
      "Stopsign approaching! 57.1\n",
      "Stopsign approaching! 54.21\n",
      "Stopsign approaching! 50.47\n",
      "Stopsign approaching! 60.59\n",
      "Stopsign approaching! 60.54\n",
      "Stopsign approaching! 60.0\n",
      "Stopsign approaching! 59.77\n",
      "Stopsign approaching! 58.93\n",
      "Stopsign approaching! 57.24\n",
      "Stopsign approaching! 54.67\n",
      "Stopsign approaching! 51.35\n",
      "Stopsign approaching! 47.6\n",
      "Stopsign approaching! 57.07\n",
      "Stopsign approaching! 53.8\n",
      "Stopsign approaching! 50.39\n",
      "Stopsign approaching! 46.8\n",
      "Stopsign approaching! 43.11\n",
      "Stopsign approaching! 39.27\n",
      "Stopsign approaching! 38.71\n",
      "Stopsign approaching! 37.01\n",
      "Stopsign approaching! 34.54\n",
      "Stopsign approaching! 56.28\n",
      "Stopsign approaching! 52.73\n",
      "Stopsign approaching! 49.4\n",
      "Stopsign approaching! 46.25\n",
      "Stopsign approaching! 43.25\n",
      "Stopsign approaching! 40.42\n",
      "Stopsign approaching! 55.1\n",
      "Stopsign approaching! 60.11\n",
      "Stopsign approaching! 59.82\n",
      "Stopsign approaching! 58.24\n",
      "Stopsign approaching! 56.1\n",
      "Stopsign approaching! 53.15\n",
      "Stopsign approaching! 49.45\n",
      "Stopsign approaching! 50.21\n",
      "Stopsign approaching! 49.88\n",
      "Stopsign approaching! 56.42\n",
      "Stopsign approaching! 52.55\n",
      "Stopsign approaching! 48.99\n",
      "Stopsign approaching! 55.98\n",
      "Stopsign approaching! 51.92\n",
      "Stopsign approaching! 47.88\n",
      "Stopsign approaching! 43.9\n",
      "Stopsign approaching! 39.89\n",
      "Stopsign approaching! 36.1\n",
      "Stopsign approaching! 60.71\n",
      "Stopsign approaching! 60.99\n",
      "Stopsign approaching! 60.43\n",
      "Stopsign approaching! 59.43\n",
      "Stopsign approaching! 58.07\n",
      "Stopsign approaching! 55.86\n",
      "Stopsign approaching! 52.83\n",
      "Stopsign approaching! 49.4\n",
      "Stopsign approaching! 45.38\n",
      "Stopsign approaching! 59.85\n",
      "Stopsign approaching! 58.68\n",
      "Stopsign approaching! 55.67\n",
      "Stopsign approaching! 51.38\n",
      "Stopsign approaching! 47.3\n",
      "Stopsign approaching! 43.3\n",
      "Stopsign approaching! 39.37\n",
      "Stopsign approaching! 35.58\n",
      "Stopsign approaching! 61.16\n",
      "Stopsign approaching! 54.12\n",
      "Stopsign approaching! 48.66\n",
      "Stopsign approaching! 43.75\n",
      "Stopsign approaching! 39.31\n",
      "Stopsign approaching! 35.28\n",
      "Stopsign approaching! 31.62\n",
      "Stopsign approaching! 57.53\n",
      "Stopsign approaching! 54.64\n",
      "Stopsign approaching! 50.98\n",
      "Stopsign approaching! 47.02\n",
      "Stopsign approaching! 42.52\n",
      "Stopsign approaching! 60.03\n",
      "Stopsign approaching! 59.04\n",
      "Stopsign approaching! 57.44\n",
      "Stopsign approaching! 53.86\n",
      "Stopsign approaching! 49.73\n",
      "Stopsign approaching! 59.07\n",
      "Stopsign approaching! 57.27\n",
      "Stopsign approaching! 55.0\n",
      "Stopsign approaching! 52.06\n",
      "Stopsign approaching! 48.75\n",
      "Stopsign approaching! 44.96\n",
      "Stopsign approaching! 55.17\n",
      "Stopsign approaching! 49.86\n",
      "Stopsign approaching! 55.64\n",
      "Stopsign approaching! 50.88\n",
      "Stopsign approaching! 45.84\n",
      "Stopsign approaching! 40.81\n",
      "Stopsign approaching! 35.73\n",
      "Stopsign approaching! 53.82\n",
      "Stopsign approaching! 47.9\n",
      "Stopsign approaching! 56.29\n",
      "Stopsign approaching! 52.45\n",
      "Stopsign approaching! 48.5\n",
      "Stopsign approaching! 44.3\n",
      "Stopsign approaching! 55.97\n",
      "Stopsign approaching! 51.88\n",
      "Stopsign approaching! 47.82\n",
      "Stopsign approaching! 43.7\n",
      "Stopsign approaching! 39.64\n",
      "Stopsign approaching! 35.66\n",
      "Stopsign approaching! 60.79\n",
      "Stopsign approaching! 60.49\n",
      "Stopsign approaching! 59.69\n",
      "Stopsign approaching! 59.19\n",
      "Stopsign approaching! 58.01\n",
      "Stopsign approaching! 55.98\n",
      "Stopsign approaching! 53.45\n",
      "Stopsign approaching! 50.83\n",
      "Stopsign approaching! 51.45\n",
      "Stopsign approaching! 51.36\n",
      "Stopsign approaching! 50.56\n",
      "Stopsign approaching! 49.57\n",
      "Stopsign approaching! 47.91\n",
      "Stopsign approaching! 46.06\n",
      "Stopsign approaching! 60.12\n",
      "Stopsign approaching! 59.3\n",
      "Stopsign approaching! 56.56\n",
      "Stopsign approaching! 52.48\n",
      "Stopsign approaching! 47.9\n",
      "Stopsign approaching! 57.82\n",
      "Stopsign approaching! 55.3\n",
      "Stopsign approaching! 52.44\n",
      "Stopsign approaching! 49.14\n",
      "Stopsign approaching! 45.6\n",
      "Stopsign approaching! 41.54\n",
      "Stopsign approaching! 54.59\n",
      "Stopsign approaching! 49.07\n",
      "Stopsign approaching! 59.81\n",
      "Stopsign approaching! 58.54\n",
      "Stopsign approaching! 56.68\n",
      "Stopsign approaching! 58.01\n",
      "Stopsign approaching! 55.12\n",
      "Stopsign approaching! 55.62\n",
      "Stopsign approaching! 50.85\n",
      "Stopsign approaching! 56.14\n",
      "Stopsign approaching! 51.83\n",
      "Stopsign approaching! 47.29\n",
      "Stopsign approaching! 60.24\n",
      "Stopsign approaching! 59.77\n",
      "Stopsign approaching! 58.38\n",
      "Stopsign approaching! 56.35\n",
      "Stopsign approaching! 61.06\n",
      "Stopsign approaching! 60.8\n",
      "Stopsign approaching! 60.05\n",
      "Stopsign approaching! 58.87\n",
      "Stopsign approaching! 57.46\n",
      "Stopsign approaching! 54.76\n",
      "Rollout complete!\n",
      "CPU times: user 2min 4s, sys: 23.7 s, total: 2min 28s\n",
      "Wall time: 36.1 s\n"
     ]
    }
   ],
   "source": [
    "%%time\n",
    "# Rollout using only cnn\n",
    "m = EffNet().to(device)\n",
    "stem = '7.9_e81'\n",
    "m.load_state_dict(torch.load(f\"{BESPOKE_ROOT}/models/m{stem}.torch\"))\n",
    "m.use_rnn = False\n",
    "rollout = Rollout(loader, stem, m=m, store_imgs=True)"
   ]
  },
  {
   "cell_type": "code",
   "execution_count": 4,
   "id": "8e805d18",
   "metadata": {
    "scrolled": true
   },
   "outputs": [
    {
     "name": "stdout",
     "output_type": "stream",
     "text": [
      "CPU times: user 3 µs, sys: 1 µs, total: 4 µs\n",
      "Wall time: 8.11 µs\n"
     ]
    }
   ],
   "source": [
    "%%time\n",
    "#rollout = Rollout(loader, \"4.13_e33\", store_imgs=True)"
   ]
  },
  {
   "cell_type": "code",
   "execution_count": 5,
   "id": "1ec9a7e0",
   "metadata": {},
   "outputs": [
    {
     "name": "stdout",
     "output_type": "stream",
     "text": [
      "0\n",
      "1000\n",
      "sim_7.9_e81 done!\n"
     ]
    }
   ],
   "source": [
    "make_enriched_vid_trn(rollout)"
   ]
  },
  {
   "cell_type": "code",
   "execution_count": null,
   "id": "fffd7e3f",
   "metadata": {},
   "outputs": [],
   "source": []
  },
  {
   "cell_type": "code",
   "execution_count": null,
   "id": "e4585069",
   "metadata": {},
   "outputs": [],
   "source": []
  },
  {
   "cell_type": "code",
   "execution_count": 5,
   "id": "1de99952",
   "metadata": {},
   "outputs": [],
   "source": [
    "#skipify(rollout, skip=20)"
   ]
  },
  {
   "cell_type": "code",
   "execution_count": 6,
   "id": "a5f99c8a",
   "metadata": {},
   "outputs": [
    {
     "data": {
      "text/plain": [
       "(960, 360, 1440, 4)"
      ]
     },
     "execution_count": 6,
     "metadata": {},
     "output_type": "execute_result"
    }
   ],
   "source": [
    "rollout.img.shape"
   ]
  },
  {
   "cell_type": "code",
   "execution_count": 7,
   "id": "3f82d7d5",
   "metadata": {},
   "outputs": [
    {
     "name": "stdout",
     "output_type": "stream",
     "text": [
      "CPU times: user 6.91 s, sys: 1.74 s, total: 8.66 s\n",
      "Wall time: 10.7 s\n"
     ]
    }
   ],
   "source": [
    "%%time\n",
    "rollout_f = f\"{BESPOKE_ROOT}/tmp/trn_{rollout.model_stem}_rollout.pkl\"\n",
    "\n",
    "save_object(rollout, rollout_f)"
   ]
  },
  {
   "cell_type": "code",
   "execution_count": null,
   "id": "5a489d23",
   "metadata": {},
   "outputs": [],
   "source": []
  },
  {
   "cell_type": "code",
   "execution_count": 7,
   "id": "d3d5ffa2",
   "metadata": {},
   "outputs": [
    {
     "data": {
      "text/plain": [
       "(1920, 360, 1440, 4)"
      ]
     },
     "execution_count": 7,
     "metadata": {},
     "output_type": "execute_result"
    }
   ],
   "source": [
    "rollout.img.shape"
   ]
  },
  {
   "cell_type": "code",
   "execution_count": null,
   "id": "6ef29d90",
   "metadata": {},
   "outputs": [],
   "source": []
  }
 ],
 "metadata": {
  "kernelspec": {
   "display_name": "Python 3 (ipykernel)",
   "language": "python",
   "name": "python3"
  },
  "language_info": {
   "codemirror_mode": {
    "name": "ipython",
    "version": 3
   },
   "file_extension": ".py",
   "mimetype": "text/x-python",
   "name": "python",
   "nbconvert_exporter": "python",
   "pygments_lexer": "ipython3",
   "version": "3.8.11"
  }
 },
 "nbformat": 4,
 "nbformat_minor": 5
}
