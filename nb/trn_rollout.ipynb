{
 "cells": [
  {
   "cell_type": "code",
   "execution_count": 1,
   "id": "27b6bfca",
   "metadata": {},
   "outputs": [],
   "source": [
    "%matplotlib inline\n",
    "%load_ext autoreload\n",
    "%autoreload 2\n",
    "\n",
    "import sys\n",
    "sys.path.append(f'/home/beans/bespoke')\n",
    "\n",
    "from constants import *\n",
    "from imports import *\n",
    "from train_utils import *\n",
    "from loaders import TrnLoader\n",
    "from viz_utils import *\n",
    "from rollout import *"
   ]
  },
  {
   "cell_type": "code",
   "execution_count": 2,
   "id": "c9ee2165",
   "metadata": {
    "scrolled": true
   },
   "outputs": [
    {
     "name": "stderr",
     "output_type": "stream",
     "text": [
      "/home/beans/miniconda3/envs/py38/lib/python3.8/site-packages/albumentations/augmentations/transforms.py:1175: FutureWarning: RandomContrast has been deprecated. Please use RandomBrightnessContrast\n",
      "  warnings.warn(\n",
      "/home/beans/miniconda3/envs/py38/lib/python3.8/site-packages/albumentations/augmentations/transforms.py:316: FutureWarning: JpegCompression has been deprecated. Please use ImageCompression\n",
      "  warnings.warn(\n",
      "/home/beans/miniconda3/envs/py38/lib/python3.8/site-packages/albumentations/augmentations/transforms.py:1149: FutureWarning: This class has been deprecated. Please use RandomBrightnessContrast\n",
      "  warnings.warn(\n",
      "/home/beans/miniconda3/envs/py38/lib/python3.8/site-packages/albumentations/augmentations/transforms.py:1175: FutureWarning: RandomContrast has been deprecated. Please use RandomBrightnessContrast\n",
      "  warnings.warn(\n",
      "/home/beans/miniconda3/envs/py38/lib/python3.8/site-packages/albumentations/augmentations/transforms.py:316: FutureWarning: JpegCompression has been deprecated. Please use ImageCompression\n",
      "  warnings.warn(\n",
      "/home/beans/miniconda3/envs/py38/lib/python3.8/site-packages/albumentations/augmentations/transforms.py:1149: FutureWarning: This class has been deprecated. Please use RandomBrightnessContrast\n",
      "  warnings.warn(\n"
     ]
    },
    {
     "name": "stdout",
     "output_type": "stream",
     "text": [
      "waiting for chunk\n",
      "waiting for chunk\n",
      "waiting for chunk\n",
      "waiting for chunk\n",
      "waiting for chunk\n",
      "waiting for chunk\n",
      "CPU times: user 385 ms, sys: 2.58 s, total: 2.97 s\n",
      "Wall time: 23.7 s\n"
     ]
    },
    {
     "name": "stderr",
     "output_type": "stream",
     "text": [
      "Process Process-2:\n",
      "Traceback (most recent call last):\n",
      "  File \"/home/beans/miniconda3/envs/py38/lib/python3.8/multiprocessing/process.py\", line 315, in _bootstrap\n",
      "    self.run()\n",
      "  File \"/home/beans/miniconda3/envs/py38/lib/python3.8/multiprocessing/process.py\", line 108, in run\n",
      "    self._target(*self._args, **self._kwargs)\n",
      "Process Process-1:\n",
      "Traceback (most recent call last):\n",
      "  File \"/home/beans/miniconda3/envs/py38/lib/python3.8/multiprocessing/process.py\", line 315, in _bootstrap\n",
      "    self.run()\n"
     ]
    }
   ],
   "source": [
    "%%time\n",
    "BS = 16 # 64\n",
    "seqlen = 60 #80\n",
    "loader = TrnLoader(bs=BS, n_batches=40, seqlen=seqlen, bptt=2, n_workers=2) # 600"
   ]
  },
  {
   "cell_type": "code",
   "execution_count": 3,
   "id": "3cd7fa58",
   "metadata": {
    "scrolled": true
   },
   "outputs": [
    {
     "name": "stderr",
     "output_type": "stream",
     "text": [
      "/home/beans/miniconda3/envs/py38/lib/python3.8/site-packages/torch/utils/checkpoint.py:31: UserWarning: None of the inputs have requires_grad=True. Gradients will be None\n",
      "  warnings.warn(\"None of the inputs have requires_grad=True. Gradients will be None\")\n"
     ]
    },
    {
     "name": "stdout",
     "output_type": "stream",
     "text": [
      "Stopsign approaching! 59.78\n",
      "Stopsign approaching! 59.61\n",
      "Stopsign approaching! 58.79\n",
      "Stopsign approaching! 56.85\n",
      "Stopsign approaching! 54.67\n",
      "Stopsign approaching! 51.31\n",
      "Stopsign approaching! 47.36\n",
      "Stopsign approaching! 43.09\n",
      "Stopsign approaching! 59.08\n",
      "Stopsign approaching! 57.64\n",
      "Stopsign approaching! 56.11\n",
      "Stopsign approaching! 54.29\n",
      "Stopsign approaching! 52.05\n",
      "Stopsign approaching! 49.63\n",
      "Stopsign approaching! 47.11\n",
      "Stopsign approaching! 44.29\n",
      "Stopsign approaching! 41.36\n",
      "Stopsign approaching! 38.47\n",
      "Stopsign approaching! 35.54\n",
      "Stopsign approaching! 32.58\n",
      "Stopsign approaching! 29.64\n",
      "Stopsign approaching! 59.33\n",
      "Stopsign approaching! 57.76\n",
      "Stopsign approaching! 55.69\n",
      "Stopsign approaching! 53.36\n",
      "Stopsign approaching! 50.83\n",
      "Stopsign approaching! 48.12\n",
      "Stopsign approaching! 45.13\n",
      "Stopsign approaching! 42.19\n",
      "Stopsign approaching! 39.27\n",
      "Stopsign approaching! 36.5\n",
      "Stopsign approaching! 34.11\n",
      "Stopsign approaching! 31.87\n",
      "Stopsign approaching! 29.95\n",
      "Stopsign approaching! 28.18\n",
      "Stopsign approaching! 26.55\n",
      "Stopsign approaching! 25.16\n",
      "Stopsign approaching! 23.79\n",
      "Stopsign approaching! 22.53\n",
      "Stopsign approaching! 21.63\n",
      "Stopsign approaching! 20.44\n",
      "Stopsign approaching! 18.99\n",
      "Stopsign approaching! 59.23\n",
      "Stopsign approaching! 57.96\n",
      "Stopsign approaching! 55.9\n",
      "Stopsign approaching! 53.64\n",
      "Stopsign approaching! 50.67\n",
      "Stopsign approaching! 47.22\n",
      "Stopsign approaching! 43.58\n",
      "Stopsign approaching! 39.61\n",
      "Stopsign approaching! 58.48\n",
      "Stopsign approaching! 56.21\n",
      "Stopsign approaching! 59.65\n",
      "Stopsign approaching! 58.59\n",
      "Stopsign approaching! 57.07\n",
      "Stopsign approaching! 54.7\n",
      "Stopsign approaching! 51.46\n",
      "Stopsign approaching! 47.3\n",
      "Stopsign approaching! 59.62\n",
      "Stopsign approaching! 58.5\n",
      "Stopsign approaching! 56.69\n",
      "Stopsign approaching! 54.13\n",
      "Stopsign approaching! 50.91\n",
      "Stopsign approaching! 47.18\n",
      "Stopsign approaching! 42.83\n",
      "Stopsign approaching! 57.23\n",
      "Stopsign approaching! 54.33\n",
      "Stopsign approaching! 51.18\n",
      "Stopsign approaching! 47.92\n",
      "Stopsign approaching! 44.69\n",
      "Stopsign approaching! 41.54\n",
      "Stopsign approaching! 38.48\n",
      "Stopsign approaching! 35.26\n",
      "Stopsign approaching! 32.27\n",
      "Stopsign approaching! 29.65\n",
      "Stopsign approaching! 59.54\n",
      "Stopsign approaching! 58.27\n",
      "Stopsign approaching! 56.78\n",
      "Stopsign approaching! 54.85\n",
      "Stopsign approaching! 52.5\n",
      "Stopsign approaching! 49.89\n",
      "Stopsign approaching! 47.03\n",
      "Stopsign approaching! 43.96\n",
      "Stopsign approaching! 40.89\n",
      "Stopsign approaching! 37.9\n",
      "Stopsign approaching! 35.05\n",
      "Stopsign approaching! 32.41\n",
      "Stopsign approaching! 58.18\n",
      "Stopsign approaching! 56.31\n",
      "Rollout complete!\n",
      "CPU times: user 3min 15s, sys: 13.5 s, total: 3min 28s\n",
      "Wall time: 21.6 s\n"
     ]
    }
   ],
   "source": [
    "%%time\n",
    "# Rollout using only cnn\n",
    "m = EffNet().to(device)\n",
    "m.load_state_dict(torch.load(f\"{BESPOKE_ROOT}/models/m{'4.17_e27'}.torch\"))\n",
    "m.use_rnn = False\n",
    "rollout = Rollout(loader, \"4.17_e27\", m=m, store_imgs=True)"
   ]
  },
  {
   "cell_type": "code",
   "execution_count": 4,
   "id": "8e805d18",
   "metadata": {
    "scrolled": true
   },
   "outputs": [
    {
     "name": "stdout",
     "output_type": "stream",
     "text": [
      "CPU times: user 3 µs, sys: 0 ns, total: 3 µs\n",
      "Wall time: 5.96 µs\n"
     ]
    }
   ],
   "source": [
    "%%time\n",
    "#rollout = Rollout(loader, \"4.13_e33\", store_imgs=True)"
   ]
  },
  {
   "cell_type": "code",
   "execution_count": 5,
   "id": "1ec9a7e0",
   "metadata": {},
   "outputs": [
    {
     "name": "stdout",
     "output_type": "stream",
     "text": [
      "0\n",
      "1000\n",
      "sim_4.17_e27 done!\n"
     ]
    }
   ],
   "source": [
    "make_enriched_vid_trn(rollout)"
   ]
  },
  {
   "cell_type": "code",
   "execution_count": null,
   "id": "c5da9d7f",
   "metadata": {},
   "outputs": [],
   "source": []
  },
  {
   "cell_type": "code",
   "execution_count": null,
   "id": "e4585069",
   "metadata": {},
   "outputs": [],
   "source": []
  },
  {
   "cell_type": "code",
   "execution_count": 5,
   "id": "1de99952",
   "metadata": {},
   "outputs": [],
   "source": [
    "#skipify(rollout, skip=20)"
   ]
  },
  {
   "cell_type": "code",
   "execution_count": 6,
   "id": "a5f99c8a",
   "metadata": {},
   "outputs": [
    {
     "data": {
      "text/plain": [
       "(960, 360, 1440, 4)"
      ]
     },
     "execution_count": 6,
     "metadata": {},
     "output_type": "execute_result"
    }
   ],
   "source": [
    "rollout.img.shape"
   ]
  },
  {
   "cell_type": "code",
   "execution_count": 7,
   "id": "3f82d7d5",
   "metadata": {},
   "outputs": [
    {
     "name": "stdout",
     "output_type": "stream",
     "text": [
      "CPU times: user 6.91 s, sys: 1.74 s, total: 8.66 s\n",
      "Wall time: 10.7 s\n"
     ]
    }
   ],
   "source": [
    "%%time\n",
    "rollout_f = f\"{BESPOKE_ROOT}/tmp/trn_{rollout.model_stem}_rollout.pkl\"\n",
    "\n",
    "save_object(rollout, rollout_f)"
   ]
  },
  {
   "cell_type": "code",
   "execution_count": null,
   "id": "5a489d23",
   "metadata": {},
   "outputs": [],
   "source": []
  },
  {
   "cell_type": "code",
   "execution_count": 7,
   "id": "d3d5ffa2",
   "metadata": {},
   "outputs": [
    {
     "data": {
      "text/plain": [
       "(1920, 360, 1440, 4)"
      ]
     },
     "execution_count": 7,
     "metadata": {},
     "output_type": "execute_result"
    }
   ],
   "source": [
    "rollout.img.shape"
   ]
  },
  {
   "cell_type": "code",
   "execution_count": null,
   "id": "6ef29d90",
   "metadata": {},
   "outputs": [],
   "source": []
  }
 ],
 "metadata": {
  "kernelspec": {
   "display_name": "Python 3 (ipykernel)",
   "language": "python",
   "name": "python3"
  },
  "language_info": {
   "codemirror_mode": {
    "name": "ipython",
    "version": 3
   },
   "file_extension": ".py",
   "mimetype": "text/x-python",
   "name": "python",
   "nbconvert_exporter": "python",
   "pygments_lexer": "ipython3",
   "version": "3.8.11"
  }
 },
 "nbformat": 4,
 "nbformat_minor": 5
}
