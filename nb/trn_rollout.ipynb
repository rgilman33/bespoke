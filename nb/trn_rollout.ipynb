{
 "cells": [
  {
   "cell_type": "code",
   "execution_count": 1,
   "id": "27b6bfca",
   "metadata": {},
   "outputs": [],
   "source": [
    "%matplotlib inline\n",
    "%load_ext autoreload\n",
    "%autoreload 2\n",
    "\n",
    "import sys\n",
    "sys.path.append(f'/home/beans/bespoke')\n",
    "\n",
    "from constants import *\n",
    "from imports import *\n",
    "from train_utils import *\n",
    "from loaders import TrnLoader\n",
    "from viz_utils import *\n",
    "from rollout import *"
   ]
  },
  {
   "cell_type": "code",
   "execution_count": 2,
   "id": "c9ee2165",
   "metadata": {
    "scrolled": true
   },
   "outputs": [
    {
     "name": "stderr",
     "output_type": "stream",
     "text": [
      "/home/beans/miniconda3/envs/py38/lib/python3.8/site-packages/albumentations/augmentations/transforms.py:316: FutureWarning: JpegCompression has been deprecated. Please use ImageCompression\n",
      "  warnings.warn(\n",
      "/home/beans/miniconda3/envs/py38/lib/python3.8/site-packages/albumentations/augmentations/transforms.py:316: FutureWarning: JpegCompression has been deprecated. Please use ImageCompression\n",
      "  warnings.warn(\n"
     ]
    },
    {
     "name": "stdout",
     "output_type": "stream",
     "text": [
      "waiting for chunk\n",
      "waiting for chunk\n",
      "waiting for chunk\n",
      "CPU times: user 324 ms, sys: 2.2 s, total: 2.52 s\n",
      "Wall time: 13.7 s\n"
     ]
    }
   ],
   "source": [
    "%%time\n",
    "BS = 16 # 64\n",
    "seqlen = 60 #80\n",
    "loader = TrnLoader(bs=BS, n_batches=40, seqlen=seqlen, bptt=2, n_workers=2) # 600"
   ]
  },
  {
   "cell_type": "code",
   "execution_count": 3,
   "id": "3cd7fa58",
   "metadata": {
    "scrolled": true
   },
   "outputs": [
    {
     "name": "stdout",
     "output_type": "stream",
     "text": [
      "resetting hidden carousel\n",
      "resetting hidden carousel\n",
      "Stopsign approaching! 60.6\n",
      "Stopsign approaching! 60.95\n",
      "Stopsign approaching! 60.83\n",
      "Stopsign approaching! 60.03\n",
      "Stopsign approaching! 58.72\n",
      "Stopsign approaching! 57.08\n",
      "Stopsign approaching! 54.64\n",
      "Stopsign approaching! 51.88\n",
      "Stopsign approaching! 48.83\n",
      "Stopsign approaching! 45.31\n",
      "Stopsign approaching! 41.56\n",
      "Stopsign approaching! 37.73\n",
      "Stopsign approaching! 59.7\n",
      "Stopsign approaching! 58.47\n",
      "Stopsign approaching! 56.7\n",
      "Stopsign approaching! 54.11\n",
      "Stopsign approaching! 50.8\n",
      "Stopsign approaching! 46.9\n",
      "Stopsign approaching! 43.13\n",
      "Stopsign approaching! 41.87\n",
      "Stopsign approaching! 42.27\n",
      "Stopsign approaching! 42.18\n",
      "Stopsign approaching! 41.7\n",
      "Stopsign approaching! 40.71\n",
      "Stopsign approaching! 39.41\n",
      "Stopsign approaching! 37.92\n",
      "Stopsign approaching! 35.97\n",
      "Stopsign approaching! 33.72\n",
      "Stopsign approaching! 31.57\n",
      "Stopsign approaching! 29.41\n",
      "Stopsign approaching! 27.3\n",
      "Stopsign approaching! 25.17\n",
      "Stopsign approaching! 23.19\n",
      "Stopsign approaching! 21.17\n",
      "Stopsign approaching! 18.99\n",
      "Stopsign approaching! 17.02\n",
      "Stopsign approaching! 15.25\n",
      "Stopsign approaching! 60.33\n",
      "Stopsign approaching! 58.85\n",
      "Stopsign approaching! 57.06\n",
      "Stopsign approaching! 54.34\n",
      "Stopsign approaching! 51.02\n",
      "Stopsign approaching! 47.24\n",
      "Stopsign approaching! 43.12\n",
      "Stopsign approaching! 56.74\n",
      "Stopsign approaching! 52.81\n",
      "Stopsign approaching! 48.43\n",
      "Stopsign approaching! 59.14\n",
      "Stopsign approaching! 57.6\n",
      "Stopsign approaching! 55.46\n",
      "Stopsign approaching! 52.7\n",
      "Stopsign approaching! 49.44\n",
      "Stopsign approaching! 45.9\n",
      "Stopsign approaching! 42.01\n",
      "Stopsign approaching! 60.89\n",
      "Stopsign approaching! 61.01\n",
      "Stopsign approaching! 60.59\n",
      "Stopsign approaching! 59.31\n",
      "Stopsign approaching! 57.53\n",
      "Stopsign approaching! 55.32\n",
      "Stopsign approaching! 52.57\n",
      "Stopsign approaching! 49.65\n",
      "Stopsign approaching! 46.58\n",
      "Stopsign approaching! 43.31\n",
      "Stopsign approaching! 39.9\n",
      "Stopsign approaching! 36.57\n",
      "Stopsign approaching! 33.23\n",
      "Stopsign approaching! 54.55\n",
      "Stopsign approaching! 49.62\n",
      "Stopsign approaching! 45.3\n",
      "Stopsign approaching! 41.07\n",
      "Stopsign approaching! 37.18\n",
      "Rollout complete!\n",
      "CPU times: user 3min 8s, sys: 14.2 s, total: 3min 23s\n",
      "Wall time: 17.3 s\n"
     ]
    }
   ],
   "source": [
    "%%time\n",
    "# Rollout using only cnn\n",
    "m = EffNet().to(device)\n",
    "stem = '6.1_e45'\n",
    "m.load_state_dict(torch.load(f\"{BESPOKE_ROOT}/models/m{stem}.torch\"))\n",
    "m.use_rnn = False\n",
    "rollout = Rollout(loader, stem, m=m, store_imgs=True)"
   ]
  },
  {
   "cell_type": "code",
   "execution_count": 4,
   "id": "8e805d18",
   "metadata": {
    "scrolled": true
   },
   "outputs": [
    {
     "name": "stdout",
     "output_type": "stream",
     "text": [
      "CPU times: user 3 µs, sys: 0 ns, total: 3 µs\n",
      "Wall time: 6.2 µs\n"
     ]
    }
   ],
   "source": [
    "%%time\n",
    "#rollout = Rollout(loader, \"4.13_e33\", store_imgs=True)"
   ]
  },
  {
   "cell_type": "code",
   "execution_count": 5,
   "id": "1ec9a7e0",
   "metadata": {},
   "outputs": [
    {
     "name": "stdout",
     "output_type": "stream",
     "text": [
      "0\n",
      "1000\n",
      "sim_6.1_e45 done!\n"
     ]
    }
   ],
   "source": [
    "make_enriched_vid_trn(rollout)"
   ]
  },
  {
   "cell_type": "code",
   "execution_count": 13,
   "id": "c5da9d7f",
   "metadata": {},
   "outputs": [
    {
     "data": {
      "text/plain": [
       "(array([220., 140., 124., 119.,  80.,  78.,  64.,  66.,  60.,  49.]),\n",
       " array([0.22058619, 0.28604196, 0.35149774, 0.41695351, 0.48240929,\n",
       "        0.54786506, 0.61332084, 0.67877661, 0.74423239, 0.80968817,\n",
       "        0.87514394]),\n",
       " <BarContainer object of 10 artists>)"
      ]
     },
     "execution_count": 13,
     "metadata": {},
     "output_type": "execute_result"
    },
    {
     "data": {
      "image/png": "[encoded data removed]",
      "text/plain": [
       "<Figure size 432x288 with 1 Axes>"
      ]
     },
     "metadata": {
      "needs_background": "light"
     },
     "output_type": "display_data"
    }
   ],
   "source": [
    "vv = []\n",
    "for i in range(1000):\n",
    "    vv.append(.22 * 10**random.uniform(0, .6))\n",
    "plt.hist(vv)"
   ]
  },
  {
   "cell_type": "code",
   "execution_count": null,
   "id": "e4585069",
   "metadata": {},
   "outputs": [],
   "source": []
  },
  {
   "cell_type": "code",
   "execution_count": 5,
   "id": "1de99952",
   "metadata": {},
   "outputs": [],
   "source": [
    "#skipify(rollout, skip=20)"
   ]
  },
  {
   "cell_type": "code",
   "execution_count": 6,
   "id": "a5f99c8a",
   "metadata": {},
   "outputs": [
    {
     "data": {
      "text/plain": [
       "(960, 360, 1440, 4)"
      ]
     },
     "execution_count": 6,
     "metadata": {},
     "output_type": "execute_result"
    }
   ],
   "source": [
    "rollout.img.shape"
   ]
  },
  {
   "cell_type": "code",
   "execution_count": 7,
   "id": "3f82d7d5",
   "metadata": {},
   "outputs": [
    {
     "name": "stdout",
     "output_type": "stream",
     "text": [
      "CPU times: user 6.91 s, sys: 1.74 s, total: 8.66 s\n",
      "Wall time: 10.7 s\n"
     ]
    }
   ],
   "source": [
    "%%time\n",
    "rollout_f = f\"{BESPOKE_ROOT}/tmp/trn_{rollout.model_stem}_rollout.pkl\"\n",
    "\n",
    "save_object(rollout, rollout_f)"
   ]
  },
  {
   "cell_type": "code",
   "execution_count": null,
   "id": "5a489d23",
   "metadata": {},
   "outputs": [],
   "source": []
  },
  {
   "cell_type": "code",
   "execution_count": 7,
   "id": "d3d5ffa2",
   "metadata": {},
   "outputs": [
    {
     "data": {
      "text/plain": [
       "(1920, 360, 1440, 4)"
      ]
     },
     "execution_count": 7,
     "metadata": {},
     "output_type": "execute_result"
    }
   ],
   "source": [
    "rollout.img.shape"
   ]
  },
  {
   "cell_type": "code",
   "execution_count": null,
   "id": "6ef29d90",
   "metadata": {},
   "outputs": [],
   "source": []
  }
 ],
 "metadata": {
  "kernelspec": {
   "display_name": "Python 3 (ipykernel)",
   "language": "python",
   "name": "python3"
  },
  "language_info": {
   "codemirror_mode": {
    "name": "ipython",
    "version": 3
   },
   "file_extension": ".py",
   "mimetype": "text/x-python",
   "name": "python",
   "nbconvert_exporter": "python",
   "pygments_lexer": "ipython3",
   "version": "3.8.11"
  }
 },
 "nbformat": 4,
 "nbformat_minor": 5
}
