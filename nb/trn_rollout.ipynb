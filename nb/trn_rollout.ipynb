{
 "cells": [
  {
   "cell_type": "code",
   "execution_count": 1,
   "id": "27b6bfca",
   "metadata": {},
   "outputs": [],
   "source": [
    "%matplotlib inline\n",
    "%load_ext autoreload\n",
    "%autoreload 2\n",
    "\n",
    "import sys\n",
    "sys.path.append(f'/home/beans/bespoke')\n",
    "\n",
    "from constants import *\n",
    "from imports import *\n",
    "from train_utils import *\n",
    "from loaders import TrnLoader\n",
    "from viz_utils import *\n",
    "from rollout import *"
   ]
  },
  {
   "cell_type": "code",
   "execution_count": 2,
   "id": "c9ee2165",
   "metadata": {
    "scrolled": true
   },
   "outputs": [
    {
     "name": "stderr",
     "output_type": "stream",
     "text": [
      "/home/beans/miniconda3/envs/py38/lib/python3.8/site-packages/albumentations/augmentations/transforms.py:1175: FutureWarning: RandomContrast has been deprecated. Please use RandomBrightnessContrast\n",
      "  warnings.warn(\n",
      "/home/beans/miniconda3/envs/py38/lib/python3.8/site-packages/albumentations/augmentations/transforms.py:316: FutureWarning: JpegCompression has been deprecated. Please use ImageCompression\n",
      "  warnings.warn(\n",
      "/home/beans/miniconda3/envs/py38/lib/python3.8/site-packages/albumentations/augmentations/transforms.py:1149: FutureWarning: This class has been deprecated. Please use RandomBrightnessContrast\n",
      "  warnings.warn(\n"
     ]
    },
    {
     "name": "stdout",
     "output_type": "stream",
     "text": [
      "waiting for chunk\n"
     ]
    },
    {
     "name": "stderr",
     "output_type": "stream",
     "text": [
      "/home/beans/miniconda3/envs/py38/lib/python3.8/site-packages/albumentations/augmentations/transforms.py:1175: FutureWarning: RandomContrast has been deprecated. Please use RandomBrightnessContrast\n",
      "  warnings.warn(\n",
      "/home/beans/miniconda3/envs/py38/lib/python3.8/site-packages/albumentations/augmentations/transforms.py:316: FutureWarning: JpegCompression has been deprecated. Please use ImageCompression\n",
      "  warnings.warn(\n",
      "/home/beans/miniconda3/envs/py38/lib/python3.8/site-packages/albumentations/augmentations/transforms.py:1149: FutureWarning: This class has been deprecated. Please use RandomBrightnessContrast\n",
      "  warnings.warn(\n"
     ]
    },
    {
     "name": "stdout",
     "output_type": "stream",
     "text": [
      "waiting for chunk\n",
      "waiting for chunk\n",
      "waiting for chunk\n",
      "waiting for chunk\n",
      "waiting for chunk\n",
      "waiting for chunk\n",
      "waiting for chunk\n",
      "waiting for chunk\n",
      "CPU times: user 0 ns, sys: 9.05 s, total: 9.05 s\n",
      "Wall time: 39.4 s\n"
     ]
    },
    {
     "name": "stderr",
     "output_type": "stream",
     "text": [
      "Process Process-1:\n",
      "Process Process-2:\n",
      "Traceback (most recent call last):\n",
      "Traceback (most recent call last):\n",
      "  File \"/home/beans/miniconda3/envs/py38/lib/python3.8/multiprocessing/process.py\", line 315, in _bootstrap\n",
      "    self.run()\n",
      "  File \"/home/beans/miniconda3/envs/py38/lib/python3.8/multiprocessing/process.py\", line 315, in _bootstrap\n",
      "    self.run()\n",
      "  File \"/home/beans/miniconda3/envs/py38/lib/python3.8/multiprocessing/process.py\", line 108, in run\n",
      "    self._target(*self._args, **self._kwargs)\n",
      "  File \"/home/beans/miniconda3/envs/py38/lib/python3.8/multiprocessing/process.py\", line 108, in run\n",
      "    self._target(*self._args, **self._kwargs)\n",
      "  File \"/home/beans/bespoke/loaders.py\", line 125, in keep_chunk_filled\n",
      "    time.sleep(0.1)\n",
      "  File \"/home/beans/bespoke/loaders.py\", line 125, in keep_chunk_filled\n",
      "    time.sleep(0.1)\n",
      "KeyboardInterrupt\n",
      "KeyboardInterrupt\n"
     ]
    }
   ],
   "source": [
    "%%time\n",
    "BS = 16 # 64\n",
    "seqlen = 60 #80\n",
    "loader = TrnLoader(bs=BS, n_batches=40, seqlen=seqlen, bptt=2, n_workers=2) # 600"
   ]
  },
  {
   "cell_type": "code",
   "execution_count": 3,
   "id": "3cd7fa58",
   "metadata": {
    "scrolled": true
   },
   "outputs": [
    {
     "name": "stderr",
     "output_type": "stream",
     "text": [
      "/home/beans/miniconda3/envs/py38/lib/python3.8/site-packages/torch/utils/checkpoint.py:31: UserWarning: None of the inputs have requires_grad=True. Gradients will be None\n",
      "  warnings.warn(\"None of the inputs have requires_grad=True. Gradients will be None\")\n"
     ]
    },
    {
     "name": "stdout",
     "output_type": "stream",
     "text": [
      "Stopsign approaching! 61.2\n",
      "Stopsign approaching! 62.13\n",
      "Stopsign approaching! 62.8\n",
      "Stopsign approaching! 63.52\n",
      "Stopsign approaching! 63.97\n",
      "Stopsign approaching! 64.37\n",
      "Stopsign approaching! 64.63\n",
      "Stopsign approaching! 64.99\n",
      "Stopsign approaching! 65.21\n",
      "Stopsign approaching! 65.26\n",
      "Stopsign approaching! 65.33\n",
      "Stopsign approaching! 65.32\n",
      "Stopsign approaching! 65.25\n",
      "Stopsign approaching! 65.28\n",
      "Stopsign approaching! 65.14\n",
      "Stopsign approaching! 65.04\n",
      "Stopsign approaching! 64.89\n",
      "Stopsign approaching! 64.74\n",
      "Stopsign approaching! 64.36\n",
      "Stopsign approaching! 63.81\n",
      "Stopsign approaching! 63.28\n",
      "Stopsign approaching! 54.21\n",
      "Stopsign approaching! 49.04\n",
      "Stopsign approaching! 44.35\n",
      "Stopsign approaching! 40.11\n",
      "Stopsign approaching! 36.31\n",
      "Stopsign approaching! 32.92\n",
      "Stopsign approaching! 29.83\n",
      "Stopsign approaching! 27.02\n",
      "Stopsign approaching! 24.6\n",
      "Stopsign approaching! 22.35\n",
      "Stopsign approaching! 20.29\n",
      "Stopsign approaching! 18.48\n",
      "Stopsign approaching! 16.84\n",
      "Stopsign approaching! 15.32\n",
      "Stopsign approaching! 13.99\n",
      "Stopsign approaching! 12.74\n",
      "Stopsign approaching! 11.62\n",
      "Stopsign approaching! 10.59\n",
      "Stopsign approaching! 9.69\n",
      "Stopsign approaching! 8.86\n",
      "Stopsign approaching! 8.09\n",
      "Stopsign approaching! 7.41\n",
      "Stopsign approaching! 6.82\n",
      "Stopsign approaching! 6.27\n",
      "Stopsign approaching! 5.82\n",
      "Stopsign approaching! 5.34\n",
      "Stopsign approaching! 4.91\n",
      "Stopsign approaching! 4.56\n",
      "Stopsign approaching! 4.28\n",
      "Stopsign approaching! 3.93\n",
      "Stopsign approaching! 3.63\n",
      "Stopsign approaching! 3.38\n",
      "Stopsign approaching! 3.19\n",
      "Stopsign approaching! 2.96\n",
      "Stopsign approaching! 2.76\n",
      "Stopsign approaching! 2.56\n",
      "Stopsign approaching! 2.43\n",
      "Stopsign approaching! 2.27\n",
      "Stopsign approaching! 2.12\n",
      "Stopsign approaching! 1.99\n",
      "Stopsign approaching! 1.91\n",
      "Stopsign approaching! 1.84\n",
      "Stopsign approaching! 1.83\n",
      "Stopsign approaching! 1.82\n",
      "Stopsign approaching! 1.73\n",
      "Stopsign approaching! 1.65\n",
      "Stopsign approaching! 1.61\n",
      "Stopsign approaching! 1.58\n",
      "Stopsign approaching! 1.58\n",
      "Stopsign approaching! 1.54\n",
      "Stopsign approaching! 1.49\n",
      "Stopsign approaching! 1.58\n",
      "Stopsign approaching! 1.58\n",
      "Stopsign approaching! 1.55\n",
      "Stopsign approaching! 1.52\n",
      "Stopsign approaching! 1.52\n",
      "Stopsign approaching! 1.52\n",
      "Stopsign approaching! 1.55\n",
      "Stopsign approaching! 1.59\n",
      "Stopsign approaching! 1.6\n",
      "Stopsign approaching! 5.21\n",
      "Stopsign approaching! 8.25\n",
      "Stopsign approaching! 11.02\n",
      "Stopsign approaching! 13.54\n",
      "Stopsign approaching! 16.08\n",
      "Stopsign approaching! 17.71\n",
      "Stopsign approaching! 19.49\n",
      "Stopsign approaching! 20.9\n",
      "Stopsign approaching! 22.28\n",
      "Stopsign approaching! 23.53\n",
      "Stopsign approaching! 24.58\n",
      "Stopsign approaching! 56.93\n",
      "Stopsign approaching! 54.12\n",
      "Stopsign approaching! 51.28\n",
      "Stopsign approaching! 48.94\n",
      "Stopsign approaching! 46.68\n",
      "Stopsign approaching! 44.65\n",
      "Stopsign approaching! 42.66\n",
      "Stopsign approaching! 40.71\n",
      "Rollout complete!\n",
      "CPU times: user 2min 47s, sys: 12.2 s, total: 2min 59s\n",
      "Wall time: 26.4 s\n"
     ]
    }
   ],
   "source": [
    "%%time\n",
    "# Rollout using only cnn\n",
    "m = EffNet().to(device)\n",
    "m.load_state_dict(torch.load(f\"{BESPOKE_ROOT}/models/m{'4.28_e61'}.torch\"))\n",
    "m.use_rnn = False\n",
    "rollout = Rollout(loader, \"4.28_e61\", m=m, store_imgs=True)"
   ]
  },
  {
   "cell_type": "code",
   "execution_count": 4,
   "id": "8e805d18",
   "metadata": {
    "scrolled": true
   },
   "outputs": [
    {
     "name": "stdout",
     "output_type": "stream",
     "text": [
      "CPU times: user 2 µs, sys: 1 µs, total: 3 µs\n",
      "Wall time: 7.63 µs\n"
     ]
    }
   ],
   "source": [
    "%%time\n",
    "#rollout = Rollout(loader, \"4.13_e33\", store_imgs=True)"
   ]
  },
  {
   "cell_type": "code",
   "execution_count": 5,
   "id": "1ec9a7e0",
   "metadata": {},
   "outputs": [
    {
     "name": "stdout",
     "output_type": "stream",
     "text": [
      "0\n",
      "1000\n",
      "sim_4.28_e61 done!\n"
     ]
    }
   ],
   "source": [
    "make_enriched_vid_trn(rollout)"
   ]
  },
  {
   "cell_type": "code",
   "execution_count": null,
   "id": "c5da9d7f",
   "metadata": {},
   "outputs": [],
   "source": []
  },
  {
   "cell_type": "code",
   "execution_count": null,
   "id": "e4585069",
   "metadata": {},
   "outputs": [],
   "source": []
  },
  {
   "cell_type": "code",
   "execution_count": 5,
   "id": "1de99952",
   "metadata": {},
   "outputs": [],
   "source": [
    "#skipify(rollout, skip=20)"
   ]
  },
  {
   "cell_type": "code",
   "execution_count": 6,
   "id": "a5f99c8a",
   "metadata": {},
   "outputs": [
    {
     "data": {
      "text/plain": [
       "(960, 360, 1440, 4)"
      ]
     },
     "execution_count": 6,
     "metadata": {},
     "output_type": "execute_result"
    }
   ],
   "source": [
    "rollout.img.shape"
   ]
  },
  {
   "cell_type": "code",
   "execution_count": 7,
   "id": "3f82d7d5",
   "metadata": {},
   "outputs": [
    {
     "name": "stdout",
     "output_type": "stream",
     "text": [
      "CPU times: user 6.91 s, sys: 1.74 s, total: 8.66 s\n",
      "Wall time: 10.7 s\n"
     ]
    }
   ],
   "source": [
    "%%time\n",
    "rollout_f = f\"{BESPOKE_ROOT}/tmp/trn_{rollout.model_stem}_rollout.pkl\"\n",
    "\n",
    "save_object(rollout, rollout_f)"
   ]
  },
  {
   "cell_type": "code",
   "execution_count": null,
   "id": "5a489d23",
   "metadata": {},
   "outputs": [],
   "source": []
  },
  {
   "cell_type": "code",
   "execution_count": 7,
   "id": "d3d5ffa2",
   "metadata": {},
   "outputs": [
    {
     "data": {
      "text/plain": [
       "(1920, 360, 1440, 4)"
      ]
     },
     "execution_count": 7,
     "metadata": {},
     "output_type": "execute_result"
    }
   ],
   "source": [
    "rollout.img.shape"
   ]
  },
  {
   "cell_type": "code",
   "execution_count": null,
   "id": "6ef29d90",
   "metadata": {},
   "outputs": [],
   "source": []
  }
 ],
 "metadata": {
  "kernelspec": {
   "display_name": "Python 3 (ipykernel)",
   "language": "python",
   "name": "python3"
  },
  "language_info": {
   "codemirror_mode": {
    "name": "ipython",
    "version": 3
   },
   "file_extension": ".py",
   "mimetype": "text/x-python",
   "name": "python",
   "nbconvert_exporter": "python",
   "pygments_lexer": "ipython3",
   "version": "3.8.11"
  }
 },
 "nbformat": 4,
 "nbformat_minor": 5
}
