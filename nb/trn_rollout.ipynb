{
 "cells": [
  {
   "cell_type": "code",
   "execution_count": 1,
   "id": "27b6bfca",
   "metadata": {},
   "outputs": [],
   "source": [
    "%matplotlib inline\n",
    "%load_ext autoreload\n",
    "%autoreload 2\n",
    "\n",
    "import sys\n",
    "sys.path.append(f'/home/beans/bespoke')\n",
    "\n",
    "from constants import *\n",
    "from imports import *\n",
    "from train_utils import *\n",
    "from loaders import TrnLoader\n",
    "from viz_utils import *\n",
    "from rollout import *"
   ]
  },
  {
   "cell_type": "code",
   "execution_count": 2,
   "id": "c9ee2165",
   "metadata": {
    "scrolled": true
   },
   "outputs": [
    {
     "name": "stderr",
     "output_type": "stream",
     "text": [
      "/home/beans/miniconda3/envs/py38/lib/python3.8/site-packages/albumentations/augmentations/transforms.py:316: FutureWarning: JpegCompression has been deprecated. Please use ImageCompression\n",
      "  warnings.warn(\n"
     ]
    },
    {
     "name": "stdout",
     "output_type": "stream",
     "text": [
      "waiting for chunk\n"
     ]
    },
    {
     "name": "stderr",
     "output_type": "stream",
     "text": [
      "/home/beans/miniconda3/envs/py38/lib/python3.8/site-packages/albumentations/augmentations/transforms.py:316: FutureWarning: JpegCompression has been deprecated. Please use ImageCompression\n",
      "  warnings.warn(\n"
     ]
    },
    {
     "name": "stdout",
     "output_type": "stream",
     "text": [
      "waiting for chunk\n",
      "waiting for chunk\n",
      "waiting for chunk\n",
      "waiting for chunk\n",
      "waiting for chunk\n",
      "waiting for chunk\n",
      "waiting for chunk\n",
      "waiting for chunk\n",
      "waiting for chunk\n",
      "waiting for chunk\n",
      "waiting for chunk\n",
      "waiting for chunk\n",
      "waiting for chunk\n",
      "waiting for chunk\n",
      "CPU times: user 1.31 s, sys: 10.8 s, total: 12.1 s\n",
      "Wall time: 59.6 s\n"
     ]
    },
    {
     "name": "stderr",
     "output_type": "stream",
     "text": [
      "Process Process-1:\n",
      "Process Process-2:\n",
      "Traceback (most recent call last):\n",
      "Traceback (most recent call last):\n",
      "  File \"/home/beans/miniconda3/envs/py38/lib/python3.8/multiprocessing/process.py\", line 315, in _bootstrap\n",
      "    self.run()\n",
      "  File \"/home/beans/miniconda3/envs/py38/lib/python3.8/multiprocessing/process.py\", line 315, in _bootstrap\n",
      "    self.run()\n",
      "  File \"/home/beans/miniconda3/envs/py38/lib/python3.8/multiprocessing/process.py\", line 108, in run\n",
      "    self._target(*self._args, **self._kwargs)\n",
      "  File \"/home/beans/miniconda3/envs/py38/lib/python3.8/multiprocessing/process.py\", line 108, in run\n",
      "    self._target(*self._args, **self._kwargs)\n",
      "  File \"/home/beans/bespoke/loaders.py\", line 125, in keep_chunk_filled\n",
      "    time.sleep(0.1)\n",
      "  File \"/home/beans/bespoke/loaders.py\", line 125, in keep_chunk_filled\n",
      "    time.sleep(0.1)\n",
      "KeyboardInterrupt\n",
      "KeyboardInterrupt\n"
     ]
    }
   ],
   "source": [
    "%%time\n",
    "BS = 16 # 64\n",
    "seqlen = 60 #80\n",
    "loader = TrnLoader(bs=BS, n_batches=40, seqlen=seqlen, bptt=2, n_workers=2) # 600"
   ]
  },
  {
   "cell_type": "code",
   "execution_count": 3,
   "id": "3cd7fa58",
   "metadata": {
    "scrolled": true
   },
   "outputs": [
    {
     "name": "stdout",
     "output_type": "stream",
     "text": [
      "resetting hidden carousel\n",
      "resetting hidden carousel\n",
      "Stopsign approaching! 60.51\n",
      "Stopsign approaching! 60.22\n",
      "Stopsign approaching! 58.88\n",
      "Stopsign approaching! 57.34\n",
      "Stopsign approaching! 55.03\n",
      "Stopsign approaching! 52.1\n",
      "Stopsign approaching! 48.85\n",
      "Stopsign approaching! 45.39\n",
      "Stopsign approaching! 41.83\n",
      "Stopsign approaching! 38.27\n",
      "Stopsign approaching! 59.74\n",
      "Stopsign approaching! 59.0\n",
      "Stopsign approaching! 57.91\n",
      "Stopsign approaching! 55.89\n",
      "Stopsign approaching! 53.59\n",
      "Stopsign approaching! 50.77\n",
      "Stopsign approaching! 46.97\n",
      "Stopsign approaching! 42.87\n",
      "Stopsign approaching! 60.63\n",
      "Stopsign approaching! 59.78\n",
      "Stopsign approaching! 58.0\n",
      "Stopsign approaching! 55.09\n",
      "Stopsign approaching! 51.4\n",
      "Stopsign approaching! 46.85\n",
      "Stopsign approaching! 60.97\n",
      "Stopsign approaching! 61.17\n",
      "Stopsign approaching! 60.71\n",
      "Stopsign approaching! 59.94\n",
      "Stopsign approaching! 58.59\n",
      "Stopsign approaching! 57.08\n",
      "Stopsign approaching! 55.03\n",
      "Stopsign approaching! 52.47\n",
      "Stopsign approaching! 49.63\n",
      "Stopsign approaching! 46.65\n",
      "Stopsign approaching! 43.53\n",
      "Stopsign approaching! 40.43\n",
      "Stopsign approaching! 37.36\n",
      "Stopsign approaching! 34.61\n",
      "Stopsign approaching! 32.06\n",
      "Stopsign approaching! 29.54\n",
      "Stopsign approaching! 54.39\n",
      "Stopsign approaching! 49.83\n",
      "Stopsign approaching! 45.25\n",
      "Rollout complete!\n",
      "CPU times: user 2min 1s, sys: 41.4 s, total: 2min 42s\n",
      "Wall time: 1min 25s\n"
     ]
    }
   ],
   "source": [
    "%%time\n",
    "# Rollout using only cnn\n",
    "m = EffNet().to(device)\n",
    "stem = '6.1_e45'\n",
    "m.load_state_dict(torch.load(f\"{BESPOKE_ROOT}/models/m{stem}.torch\"))\n",
    "m.use_rnn = False\n",
    "rollout = Rollout(loader, stem, m=m, store_imgs=True)"
   ]
  },
  {
   "cell_type": "code",
   "execution_count": 4,
   "id": "8e805d18",
   "metadata": {
    "scrolled": true
   },
   "outputs": [
    {
     "name": "stdout",
     "output_type": "stream",
     "text": [
      "CPU times: user 3 µs, sys: 1 µs, total: 4 µs\n",
      "Wall time: 11 µs\n"
     ]
    }
   ],
   "source": [
    "%%time\n",
    "#rollout = Rollout(loader, \"4.13_e33\", store_imgs=True)"
   ]
  },
  {
   "cell_type": "code",
   "execution_count": 5,
   "id": "1ec9a7e0",
   "metadata": {},
   "outputs": [
    {
     "name": "stdout",
     "output_type": "stream",
     "text": [
      "0\n",
      "1000\n",
      "sim_6.1_e45 done!\n"
     ]
    }
   ],
   "source": [
    "make_enriched_vid_trn(rollout)"
   ]
  },
  {
   "cell_type": "code",
   "execution_count": null,
   "id": "e4585069",
   "metadata": {},
   "outputs": [],
   "source": []
  },
  {
   "cell_type": "code",
   "execution_count": 5,
   "id": "1de99952",
   "metadata": {},
   "outputs": [],
   "source": [
    "#skipify(rollout, skip=20)"
   ]
  },
  {
   "cell_type": "code",
   "execution_count": 6,
   "id": "a5f99c8a",
   "metadata": {},
   "outputs": [
    {
     "data": {
      "text/plain": [
       "(960, 360, 1440, 4)"
      ]
     },
     "execution_count": 6,
     "metadata": {},
     "output_type": "execute_result"
    }
   ],
   "source": [
    "rollout.img.shape"
   ]
  },
  {
   "cell_type": "code",
   "execution_count": 7,
   "id": "3f82d7d5",
   "metadata": {},
   "outputs": [
    {
     "name": "stdout",
     "output_type": "stream",
     "text": [
      "CPU times: user 6.91 s, sys: 1.74 s, total: 8.66 s\n",
      "Wall time: 10.7 s\n"
     ]
    }
   ],
   "source": [
    "%%time\n",
    "rollout_f = f\"{BESPOKE_ROOT}/tmp/trn_{rollout.model_stem}_rollout.pkl\"\n",
    "\n",
    "save_object(rollout, rollout_f)"
   ]
  },
  {
   "cell_type": "code",
   "execution_count": null,
   "id": "5a489d23",
   "metadata": {},
   "outputs": [],
   "source": []
  },
  {
   "cell_type": "code",
   "execution_count": 7,
   "id": "d3d5ffa2",
   "metadata": {},
   "outputs": [
    {
     "data": {
      "text/plain": [
       "(1920, 360, 1440, 4)"
      ]
     },
     "execution_count": 7,
     "metadata": {},
     "output_type": "execute_result"
    }
   ],
   "source": [
    "rollout.img.shape"
   ]
  },
  {
   "cell_type": "code",
   "execution_count": null,
   "id": "6ef29d90",
   "metadata": {},
   "outputs": [],
   "source": []
  }
 ],
 "metadata": {
  "kernelspec": {
   "display_name": "Python 3 (ipykernel)",
   "language": "python",
   "name": "python3"
  },
  "language_info": {
   "codemirror_mode": {
    "name": "ipython",
    "version": 3
   },
   "file_extension": ".py",
   "mimetype": "text/x-python",
   "name": "python",
   "nbconvert_exporter": "python",
   "pygments_lexer": "ipython3",
   "version": "3.8.11"
  }
 },
 "nbformat": 4,
 "nbformat_minor": 5
}
