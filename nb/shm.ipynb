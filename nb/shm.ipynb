{
 "cells": [
  {
   "cell_type": "code",
   "execution_count": 3,
   "id": "563f79bf",
   "metadata": {},
   "outputs": [],
   "source": [
    "import numpy as np\n",
    "from multiprocessing import shared_memory"
   ]
  },
  {
   "cell_type": "code",
   "execution_count": 4,
   "id": "5a90603e",
   "metadata": {},
   "outputs": [],
   "source": [
    "a = np.array([1, 1, 2, 3, 5, 8])  # Start with an existing NumPy array"
   ]
  },
  {
   "cell_type": "code",
   "execution_count": 7,
   "id": "b7995310",
   "metadata": {},
   "outputs": [],
   "source": [
    "shm = shared_memory.SharedMemory(create=True, name=\"test\", size=a.nbytes)\n",
    "# Now create a NumPy array backed by shared memory\n",
    "b = np.ndarray(a.shape, dtype=a.dtype, buffer=shm.buf)"
   ]
  },
  {
   "cell_type": "code",
   "execution_count": 23,
   "id": "6a8032c1",
   "metadata": {},
   "outputs": [],
   "source": [
    "b[2] = 3"
   ]
  },
  {
   "cell_type": "code",
   "execution_count": 9,
   "id": "9e227f2e",
   "metadata": {},
   "outputs": [],
   "source": [
    "\n",
    "\n",
    "existing_shm = shared_memory.SharedMemory(name='test')\n",
    "c = np.ndarray(a.shape, a.dtype, buffer=existing_shm.buf)\n"
   ]
  },
  {
   "cell_type": "code",
   "execution_count": 27,
   "id": "2ea77d54",
   "metadata": {},
   "outputs": [
    {
     "data": {
      "text/plain": [
       "array([0, 0, 3, 0, 0, 0])"
      ]
     },
     "execution_count": 27,
     "metadata": {},
     "output_type": "execute_result"
    }
   ],
   "source": [
    "c"
   ]
  },
  {
   "cell_type": "code",
   "execution_count": 13,
   "id": "25081611",
   "metadata": {},
   "outputs": [],
   "source": [
    "d = np.zeros(a.shape)"
   ]
  },
  {
   "cell_type": "code",
   "execution_count": 25,
   "id": "72acddf7",
   "metadata": {},
   "outputs": [
    {
     "data": {
      "text/plain": [
       "array([0., 0., 2., 0., 0., 0.])"
      ]
     },
     "execution_count": 25,
     "metadata": {},
     "output_type": "execute_result"
    }
   ],
   "source": [
    "d"
   ]
  },
  {
   "cell_type": "code",
   "execution_count": 21,
   "id": "7233f180",
   "metadata": {},
   "outputs": [],
   "source": [
    "d[:] = c[:]"
   ]
  },
  {
   "cell_type": "code",
   "execution_count": 26,
   "id": "5fc6b092",
   "metadata": {},
   "outputs": [
    {
     "data": {
      "text/plain": [
       "array([0., 0., 2., 0., 0., 0.])"
      ]
     },
     "execution_count": 26,
     "metadata": {},
     "output_type": "execute_result"
    }
   ],
   "source": [
    "d"
   ]
  },
  {
   "cell_type": "code",
   "execution_count": null,
   "id": "27ecd7be",
   "metadata": {},
   "outputs": [],
   "source": []
  }
 ],
 "metadata": {
  "kernelspec": {
   "display_name": "Python 3 (ipykernel)",
   "language": "python",
   "name": "python3"
  },
  "language_info": {
   "codemirror_mode": {
    "name": "ipython",
    "version": 3
   },
   "file_extension": ".py",
   "mimetype": "text/x-python",
   "name": "python",
   "nbconvert_exporter": "python",
   "pygments_lexer": "ipython3",
   "version": "3.8.11"
  }
 },
 "nbformat": 4,
 "nbformat_minor": 5
}
