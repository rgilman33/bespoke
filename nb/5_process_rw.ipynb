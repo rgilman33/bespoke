{
 "cells": [
  {
   "cell_type": "code",
   "execution_count": 72,
   "id": "569c293f",
   "metadata": {
    "scrolled": true
   },
   "outputs": [
    {
     "name": "stdout",
     "output_type": "stream",
     "text": [
      "The autoreload extension is already loaded. To reload it, use:\n",
      "  %reload_ext autoreload\n"
     ]
    }
   ],
   "source": [
    "%matplotlib inline\n",
    "%load_ext autoreload\n",
    "%autoreload 2\n",
    "\n",
    "import os, glob\n",
    "import matplotlib.pyplot as plt\n",
    "from shutil import copyfile\n",
    "import glob\n",
    "import numpy as np"
   ]
  },
  {
   "cell_type": "code",
   "execution_count": 73,
   "id": "f179f0a6",
   "metadata": {},
   "outputs": [
    {
     "data": {
      "text/plain": [
       "['/media/beans/ssd/bespoke_logging/run_351',\n",
       " '/media/beans/ssd/bespoke_logging/run_352',\n",
       " '/media/beans/ssd/bespoke_logging/run_353',\n",
       " '/media/beans/ssd/bespoke_logging/run_354',\n",
       " '/media/beans/ssd/bespoke_logging/run_355',\n",
       " '/media/beans/ssd/bespoke_logging/run_356',\n",
       " '/media/beans/ssd/bespoke_logging/run_357',\n",
       " '/media/beans/ssd/bespoke_logging/run_358',\n",
       " '/media/beans/ssd/bespoke_logging/run_359',\n",
       " '/media/beans/ssd/bespoke_logging/run_359a',\n",
       " '/media/beans/ssd/bespoke_logging/run_359b',\n",
       " '/media/beans/ssd/bespoke_logging/run_360',\n",
       " '/media/beans/ssd/bespoke_logging/run_361',\n",
       " '/media/beans/ssd/bespoke_logging/run_362',\n",
       " '/media/beans/ssd/bespoke_logging/run_363',\n",
       " '/media/beans/ssd/bespoke_logging/run_364',\n",
       " '/media/beans/ssd/bespoke_logging/run_365',\n",
       " '/media/beans/ssd/bespoke_logging/run_366',\n",
       " '/media/beans/ssd/bespoke_logging/run_367',\n",
       " '/media/beans/ssd/bespoke_logging/run_368',\n",
       " '/media/beans/ssd/bespoke_logging/run_369',\n",
       " '/media/beans/ssd/bespoke_logging/run_370',\n",
       " '/media/beans/ssd/bespoke_logging/run_371',\n",
       " '/media/beans/ssd/bespoke_logging/run_372',\n",
       " '/media/beans/ssd/bespoke_logging/run_373',\n",
       " '/media/beans/ssd/bespoke_logging/run_374',\n",
       " '/media/beans/ssd/bespoke_logging/run_375',\n",
       " '/media/beans/ssd/bespoke_logging/run_376',\n",
       " '/media/beans/ssd/bespoke_logging/run_377',\n",
       " '/media/beans/ssd/bespoke_logging/run_378',\n",
       " '/media/beans/ssd/bespoke_logging/run_379',\n",
       " '/media/beans/ssd/bespoke_logging/run_380',\n",
       " '/media/beans/ssd/bespoke_logging/run_381',\n",
       " '/media/beans/ssd/bespoke_logging/run_382',\n",
       " '/media/beans/ssd/bespoke_logging/run_383',\n",
       " '/media/beans/ssd/bespoke_logging/run_384',\n",
       " '/media/beans/ssd/bespoke_logging/run_385',\n",
       " '/media/beans/ssd/bespoke_logging/run_386',\n",
       " '/media/beans/ssd/bespoke_logging/run_387',\n",
       " '/media/beans/ssd/bespoke_logging/run_388',\n",
       " '/media/beans/ssd/bespoke_logging/run_389',\n",
       " '/media/beans/ssd/bespoke_logging/run_390',\n",
       " '/media/beans/ssd/bespoke_logging/run_391',\n",
       " '/media/beans/ssd/bespoke_logging/run_392',\n",
       " '/media/beans/ssd/bespoke_logging/run_393',\n",
       " '/media/beans/ssd/bespoke_logging/run_394',\n",
       " '/media/beans/ssd/bespoke_logging/run_395',\n",
       " '/media/beans/ssd/bespoke_logging/run_396',\n",
       " '/media/beans/ssd/bespoke_logging/run_397',\n",
       " '/media/beans/ssd/bespoke_logging/run_398',\n",
       " '/media/beans/ssd/bespoke_logging/run_399',\n",
       " '/media/beans/ssd/bespoke_logging/run_400',\n",
       " '/media/beans/ssd/bespoke_logging/run_401',\n",
       " '/media/beans/ssd/bespoke_logging/run_402',\n",
       " '/media/beans/ssd/bespoke_logging/run_403',\n",
       " '/media/beans/ssd/bespoke_logging/run_404',\n",
       " '/media/beans/ssd/bespoke_logging/run_405',\n",
       " '/media/beans/ssd/bespoke_logging/run_406',\n",
       " '/media/beans/ssd/bespoke_logging/run_407',\n",
       " '/media/beans/ssd/bespoke_logging/run_408',\n",
       " '/media/beans/ssd/bespoke_logging/run_409',\n",
       " '/media/beans/ssd/bespoke_logging/run_410',\n",
       " '/media/beans/ssd/bespoke_logging/run_411',\n",
       " '/media/beans/ssd/bespoke_logging/run_412',\n",
       " '/media/beans/ssd/bespoke_logging/run_413',\n",
       " '/media/beans/ssd/bespoke_logging/run_414',\n",
       " '/media/beans/ssd/bespoke_logging/run_415',\n",
       " '/media/beans/ssd/bespoke_logging/run_416',\n",
       " '/media/beans/ssd/bespoke_logging/run_417',\n",
       " '/media/beans/ssd/bespoke_logging/run_418',\n",
       " '/media/beans/ssd/bespoke_logging/run_419',\n",
       " '/media/beans/ssd/bespoke_logging/run_420',\n",
       " '/media/beans/ssd/bespoke_logging/run_421',\n",
       " '/media/beans/ssd/bespoke_logging/run_422',\n",
       " '/media/beans/ssd/bespoke_logging/run_423',\n",
       " '/media/beans/ssd/bespoke_logging/run_424',\n",
       " '/media/beans/ssd/bespoke_logging/run_425',\n",
       " '/media/beans/ssd/bespoke_logging/run_426',\n",
       " '/media/beans/ssd/bespoke_logging/run_427',\n",
       " '/media/beans/ssd/bespoke_logging/run_428',\n",
       " '/media/beans/ssd/bespoke_logging/run_429',\n",
       " '/media/beans/ssd/bespoke_logging/run_430',\n",
       " '/media/beans/ssd/bespoke_logging/run_431',\n",
       " '/media/beans/ssd/bespoke_logging/run_432',\n",
       " '/media/beans/ssd/bespoke_logging/run_433',\n",
       " '/media/beans/ssd/bespoke_logging/run_434',\n",
       " '/media/beans/ssd/bespoke_logging/run_435',\n",
       " '/media/beans/ssd/bespoke_logging/run_436',\n",
       " '/media/beans/ssd/bespoke_logging/run_437',\n",
       " '/media/beans/ssd/bespoke_logging/run_438',\n",
       " '/media/beans/ssd/bespoke_logging/run_439',\n",
       " '/media/beans/ssd/bespoke_logging/run_440',\n",
       " '/media/beans/ssd/bespoke_logging/run_441',\n",
       " '/media/beans/ssd/bespoke_logging/run_442',\n",
       " '/media/beans/ssd/bespoke_logging/run_443',\n",
       " '/media/beans/ssd/bespoke_logging/run_444',\n",
       " '/media/beans/ssd/bespoke_logging/run_445',\n",
       " '/media/beans/ssd/bespoke_logging/run_446',\n",
       " '/media/beans/ssd/bespoke_logging/run_447',\n",
       " '/media/beans/ssd/bespoke_logging/run_448',\n",
       " '/media/beans/ssd/bespoke_logging/run_449',\n",
       " '/media/beans/ssd/bespoke_logging/run_450',\n",
       " '/media/beans/ssd/bespoke_logging/run_451',\n",
       " '/media/beans/ssd/bespoke_logging/run_452',\n",
       " '/media/beans/ssd/bespoke_logging/run_453',\n",
       " '/media/beans/ssd/bespoke_logging/run_454',\n",
       " '/media/beans/ssd/bespoke_logging/run_455',\n",
       " '/media/beans/ssd/bespoke_logging/run_456',\n",
       " '/media/beans/ssd/bespoke_logging/run_457',\n",
       " '/media/beans/ssd/bespoke_logging/run_458',\n",
       " '/media/beans/ssd/bespoke_logging/run_459',\n",
       " '/media/beans/ssd/bespoke_logging/run_460',\n",
       " '/media/beans/ssd/bespoke_logging/run_461',\n",
       " '/media/beans/ssd/bespoke_logging/run_462',\n",
       " '/media/beans/ssd/bespoke_logging/run_463',\n",
       " '/media/beans/ssd/bespoke_logging/run_464',\n",
       " '/media/beans/ssd/bespoke_logging/run_465',\n",
       " '/media/beans/ssd/bespoke_logging/run_466',\n",
       " '/media/beans/ssd/bespoke_logging/run_467',\n",
       " '/media/beans/ssd/bespoke_logging/run_468',\n",
       " '/media/beans/ssd/bespoke_logging/run_469',\n",
       " '/media/beans/ssd/bespoke_logging/run_470',\n",
       " '/media/beans/ssd/bespoke_logging/run_471',\n",
       " '/media/beans/ssd/bespoke_logging/run_472',\n",
       " '/media/beans/ssd/bespoke_logging/run_473',\n",
       " '/media/beans/ssd/bespoke_logging/run_474',\n",
       " '/media/beans/ssd/bespoke_logging/run_475',\n",
       " '/media/beans/ssd/bespoke_logging/run_476',\n",
       " '/media/beans/ssd/bespoke_logging/run_477',\n",
       " '/media/beans/ssd/bespoke_logging/run_478',\n",
       " '/media/beans/ssd/bespoke_logging/run_479',\n",
       " '/media/beans/ssd/bespoke_logging/run_480',\n",
       " '/media/beans/ssd/bespoke_logging/run_481',\n",
       " '/media/beans/ssd/bespoke_logging/run_482',\n",
       " '/media/beans/ssd/bespoke_logging/run_483',\n",
       " '/media/beans/ssd/bespoke_logging/run_484',\n",
       " '/media/beans/ssd/bespoke_logging/run_485',\n",
       " '/media/beans/ssd/bespoke_logging/run_486',\n",
       " '/media/beans/ssd/bespoke_logging/run_487',\n",
       " '/media/beans/ssd/bespoke_logging/run_488',\n",
       " '/media/beans/ssd/bespoke_logging/run_489',\n",
       " '/media/beans/ssd/bespoke_logging/run_490',\n",
       " '/media/beans/ssd/bespoke_logging/run_491',\n",
       " '/media/beans/ssd/bespoke_logging/run_492',\n",
       " '/media/beans/ssd/bespoke_logging/run_492a',\n",
       " '/media/beans/ssd/bespoke_logging/run_492b',\n",
       " '/media/beans/ssd/bespoke_logging/run_492c',\n",
       " '/media/beans/ssd/bespoke_logging/run_492d',\n",
       " '/media/beans/ssd/bespoke_logging/run_493',\n",
       " '/media/beans/ssd/bespoke_logging/run_494',\n",
       " '/media/beans/ssd/bespoke_logging/run_495',\n",
       " '/media/beans/ssd/bespoke_logging/run_496',\n",
       " '/media/beans/ssd/bespoke_logging/run_497',\n",
       " '/media/beans/ssd/bespoke_logging/run_498',\n",
       " '/media/beans/ssd/bespoke_logging/run_499',\n",
       " '/media/beans/ssd/bespoke_logging/run_500',\n",
       " '/media/beans/ssd/bespoke_logging/run_501',\n",
       " '/media/beans/ssd/bespoke_logging/run_502',\n",
       " '/media/beans/ssd/bespoke_logging/run_503',\n",
       " '/media/beans/ssd/bespoke_logging/run_504',\n",
       " '/media/beans/ssd/bespoke_logging/run_505',\n",
       " '/media/beans/ssd/bespoke_logging/run_506',\n",
       " '/media/beans/ssd/bespoke_logging/run_507',\n",
       " '/media/beans/ssd/bespoke_logging/run_508',\n",
       " '/media/beans/ssd/bespoke_logging/run_509',\n",
       " '/media/beans/ssd/bespoke_logging/run_510',\n",
       " '/media/beans/ssd/bespoke_logging/run_511',\n",
       " '/media/beans/ssd/bespoke_logging/run_512',\n",
       " '/media/beans/ssd/bespoke_logging/run_513',\n",
       " '/media/beans/ssd/bespoke_logging/run_514',\n",
       " '/media/beans/ssd/bespoke_logging/run_515',\n",
       " '/media/beans/ssd/bespoke_logging/run_516',\n",
       " '/media/beans/ssd/bespoke_logging/run_517',\n",
       " '/media/beans/ssd/bespoke_logging/run_518',\n",
       " '/media/beans/ssd/bespoke_logging/run_519',\n",
       " '/media/beans/ssd/bespoke_logging/run_520',\n",
       " '/media/beans/ssd/bespoke_logging/run_521',\n",
       " '/media/beans/ssd/bespoke_logging/run_521a',\n",
       " '/media/beans/ssd/bespoke_logging/run_522',\n",
       " '/media/beans/ssd/bespoke_logging/run_522a',\n",
       " '/media/beans/ssd/bespoke_logging/run_523',\n",
       " '/media/beans/ssd/bespoke_logging/run_524',\n",
       " '/media/beans/ssd/bespoke_logging/run_525',\n",
       " '/media/beans/ssd/bespoke_logging/run_526',\n",
       " '/media/beans/ssd/bespoke_logging/run_527',\n",
       " '/media/beans/ssd/bespoke_logging/run_528',\n",
       " '/media/beans/ssd/bespoke_logging/run_529',\n",
       " '/media/beans/ssd/bespoke_logging/run_530',\n",
       " '/media/beans/ssd/bespoke_logging/run_531',\n",
       " '/media/beans/ssd/bespoke_logging/run_532',\n",
       " '/media/beans/ssd/bespoke_logging/run_533',\n",
       " '/media/beans/ssd/bespoke_logging/run_534',\n",
       " '/media/beans/ssd/bespoke_logging/run_535',\n",
       " '/media/beans/ssd/bespoke_logging/run_536',\n",
       " '/media/beans/ssd/bespoke_logging/run_537',\n",
       " '/media/beans/ssd/bespoke_logging/run_538',\n",
       " '/media/beans/ssd/bespoke_logging/run_539',\n",
       " '/media/beans/ssd/bespoke_logging/run_540',\n",
       " '/media/beans/ssd/bespoke_logging/run_541',\n",
       " '/media/beans/ssd/bespoke_logging/run_542',\n",
       " '/media/beans/ssd/bespoke_logging/run_543',\n",
       " '/media/beans/ssd/bespoke_logging/run_544',\n",
       " '/media/beans/ssd/bespoke_logging/run_545',\n",
       " '/media/beans/ssd/bespoke_logging/run_546',\n",
       " '/media/beans/ssd/bespoke_logging/run_547',\n",
       " '/media/beans/ssd/bespoke_logging/run_548',\n",
       " '/media/beans/ssd/bespoke_logging/run_549',\n",
       " '/media/beans/ssd/bespoke_logging/run_550',\n",
       " '/media/beans/ssd/bespoke_logging/run_551',\n",
       " '/media/beans/ssd/bespoke_logging/run_552',\n",
       " '/media/beans/ssd/bespoke_logging/run_553',\n",
       " '/media/beans/ssd/bespoke_logging/run_554',\n",
       " '/media/beans/ssd/bespoke_logging/run_555',\n",
       " '/media/beans/ssd/bespoke_logging/run_555a',\n",
       " '/media/beans/ssd/bespoke_logging/run_555b',\n",
       " '/media/beans/ssd/bespoke_logging/run_556',\n",
       " '/media/beans/ssd/bespoke_logging/run_556a',\n",
       " '/media/beans/ssd/bespoke_logging/run_556b',\n",
       " '/media/beans/ssd/bespoke_logging/run_556c',\n",
       " '/media/beans/ssd/bespoke_logging/run_556d',\n",
       " '/media/beans/ssd/bespoke_logging/run_557',\n",
       " '/media/beans/ssd/bespoke_logging/run_558',\n",
       " '/media/beans/ssd/bespoke_logging/run_559',\n",
       " '/media/beans/ssd/bespoke_logging/run_560',\n",
       " '/media/beans/ssd/bespoke_logging/run_561',\n",
       " '/media/beans/ssd/bespoke_logging/run_562',\n",
       " '/media/beans/ssd/bespoke_logging/run_563',\n",
       " '/media/beans/ssd/bespoke_logging/run_564',\n",
       " '/media/beans/ssd/bespoke_logging/run_565',\n",
       " '/media/beans/ssd/bespoke_logging/run_566',\n",
       " '/media/beans/ssd/bespoke_logging/run_567',\n",
       " '/media/beans/ssd/bespoke_logging/run_568',\n",
       " '/media/beans/ssd/bespoke_logging/run_569',\n",
       " '/media/beans/ssd/bespoke_logging/run_570',\n",
       " '/media/beans/ssd/bespoke_logging/run_571',\n",
       " '/media/beans/ssd/bespoke_logging/run_571a']"
      ]
     },
     "execution_count": 73,
     "metadata": {},
     "output_type": "execute_result"
    }
   ],
   "source": [
    "sorted(glob.glob(\"/media/beans/ssd/bespoke_logging/*\"))"
   ]
  },
  {
   "cell_type": "code",
   "execution_count": 74,
   "id": "89cbf7be",
   "metadata": {},
   "outputs": [],
   "source": [
    "base_run = 'run_570'\n",
    "base_run_path = f\"/media/beans/ssd/bespoke_logging/{base_run}\"\n",
    "run_suffix = 'a'\n",
    "run_path = f\"/media/beans/ssd/bespoke_logging/{base_run+run_suffix}\"\n",
    "os.makedirs(run_path)\n",
    "os.makedirs(f'{run_path}/img')\n",
    "os.makedirs(f'{run_path}/navmap')\n",
    "os.makedirs(f'{run_path}/aux')"
   ]
  },
  {
   "cell_type": "code",
   "execution_count": 75,
   "id": "a3ca5f9c",
   "metadata": {},
   "outputs": [],
   "source": [
    "b, e = 2100, 18700"
   ]
  },
  {
   "cell_type": "code",
   "execution_count": 76,
   "id": "af39f245",
   "metadata": {},
   "outputs": [
    {
     "data": {
      "text/plain": [
       "(16600, 16600, 16600)"
      ]
     },
     "execution_count": 76,
     "metadata": {},
     "output_type": "execute_result"
    }
   ],
   "source": [
    "img_files = sorted(glob.glob(f\"{base_run_path}/img/*\"))[b:e]\n",
    "car_state_files = sorted(glob.glob(f\"{base_run_path}/aux/*\"))[b:e]\n",
    "map_files = sorted(glob.glob(f\"{base_run_path}/navmap/*\"))[b:e]\n",
    "len(img_files), len(car_state_files), len(map_files)"
   ]
  },
  {
   "cell_type": "code",
   "execution_count": 77,
   "id": "e07217be",
   "metadata": {},
   "outputs": [
    {
     "data": {
      "text/plain": [
       "<matplotlib.image.AxesImage at 0x7fdd4e3fd1f0>"
      ]
     },
     "execution_count": 77,
     "metadata": {},
     "output_type": "execute_result"
    },
    {
     "data": {
      "image/png": "[encoded data removed]",
      "text/plain": [
       "<Figure size 432x288 with 1 Axes>"
      ]
     },
     "metadata": {
      "needs_background": "light"
     },
     "output_type": "display_data"
    }
   ],
   "source": [
    "plt.imshow(np.load(img_files[-1])) #4000"
   ]
  },
  {
   "cell_type": "code",
   "execution_count": 78,
   "id": "9d7e1e9d",
   "metadata": {},
   "outputs": [],
   "source": [
    "for f in img_files:\n",
    "    filename = f.split('/')[-1]\n",
    "    copyfile(f, f\"{run_path}/img/{filename}\")"
   ]
  },
  {
   "cell_type": "code",
   "execution_count": 79,
   "id": "e82c3466",
   "metadata": {},
   "outputs": [],
   "source": [
    "for f in car_state_files:\n",
    "    filename = f.split('/')[-1]\n",
    "    copyfile(f, f\"{run_path}/aux/{filename}\")"
   ]
  },
  {
   "cell_type": "code",
   "execution_count": 80,
   "id": "ea39895b",
   "metadata": {},
   "outputs": [],
   "source": [
    "for f in map_files:\n",
    "    filename = f.split('/')[-1]\n",
    "    copyfile(f, f\"{run_path}/navmap/{filename}\")"
   ]
  },
  {
   "cell_type": "code",
   "execution_count": null,
   "id": "8cdf8e77",
   "metadata": {},
   "outputs": [],
   "source": []
  },
  {
   "cell_type": "code",
   "execution_count": null,
   "id": "3f0a56ef",
   "metadata": {},
   "outputs": [],
   "source": []
  },
  {
   "cell_type": "code",
   "execution_count": null,
   "id": "b16bfad7",
   "metadata": {},
   "outputs": [],
   "source": []
  }
 ],
 "metadata": {
  "kernelspec": {
   "display_name": "Python 3 (ipykernel)",
   "language": "python",
   "name": "python3"
  },
  "language_info": {
   "codemirror_mode": {
    "name": "ipython",
    "version": 3
   },
   "file_extension": ".py",
   "mimetype": "text/x-python",
   "name": "python",
   "nbconvert_exporter": "python",
   "pygments_lexer": "ipython3",
   "version": "3.8.11"
  }
 },
 "nbformat": 4,
 "nbformat_minor": 5
}
