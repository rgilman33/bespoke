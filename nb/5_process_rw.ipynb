{
 "cells": [
  {
   "cell_type": "code",
   "execution_count": 1,
   "id": "569c293f",
   "metadata": {
    "scrolled": true
   },
   "outputs": [],
   "source": [
    "%matplotlib inline\n",
    "%load_ext autoreload\n",
    "%autoreload 2\n",
    "\n",
    "import os, glob\n",
    "import matplotlib.pyplot as plt\n",
    "from shutil import copyfile\n",
    "import glob\n",
    "import numpy as np"
   ]
  },
  {
   "cell_type": "code",
   "execution_count": 2,
   "id": "f179f0a6",
   "metadata": {},
   "outputs": [
    {
     "data": {
      "text/plain": [
       "['/media/beans/ssd/bespoke_logging/run_351',\n",
       " '/media/beans/ssd/bespoke_logging/run_352',\n",
       " '/media/beans/ssd/bespoke_logging/run_353',\n",
       " '/media/beans/ssd/bespoke_logging/run_354',\n",
       " '/media/beans/ssd/bespoke_logging/run_355',\n",
       " '/media/beans/ssd/bespoke_logging/run_356',\n",
       " '/media/beans/ssd/bespoke_logging/run_357',\n",
       " '/media/beans/ssd/bespoke_logging/run_358',\n",
       " '/media/beans/ssd/bespoke_logging/run_359',\n",
       " '/media/beans/ssd/bespoke_logging/run_359a',\n",
       " '/media/beans/ssd/bespoke_logging/run_359b',\n",
       " '/media/beans/ssd/bespoke_logging/run_360',\n",
       " '/media/beans/ssd/bespoke_logging/run_361',\n",
       " '/media/beans/ssd/bespoke_logging/run_362',\n",
       " '/media/beans/ssd/bespoke_logging/run_363',\n",
       " '/media/beans/ssd/bespoke_logging/run_364',\n",
       " '/media/beans/ssd/bespoke_logging/run_365',\n",
       " '/media/beans/ssd/bespoke_logging/run_366',\n",
       " '/media/beans/ssd/bespoke_logging/run_367',\n",
       " '/media/beans/ssd/bespoke_logging/run_368',\n",
       " '/media/beans/ssd/bespoke_logging/run_369',\n",
       " '/media/beans/ssd/bespoke_logging/run_370',\n",
       " '/media/beans/ssd/bespoke_logging/run_371',\n",
       " '/media/beans/ssd/bespoke_logging/run_372',\n",
       " '/media/beans/ssd/bespoke_logging/run_373',\n",
       " '/media/beans/ssd/bespoke_logging/run_374',\n",
       " '/media/beans/ssd/bespoke_logging/run_375',\n",
       " '/media/beans/ssd/bespoke_logging/run_376',\n",
       " '/media/beans/ssd/bespoke_logging/run_377',\n",
       " '/media/beans/ssd/bespoke_logging/run_378',\n",
       " '/media/beans/ssd/bespoke_logging/run_379',\n",
       " '/media/beans/ssd/bespoke_logging/run_380',\n",
       " '/media/beans/ssd/bespoke_logging/run_381',\n",
       " '/media/beans/ssd/bespoke_logging/run_382',\n",
       " '/media/beans/ssd/bespoke_logging/run_383',\n",
       " '/media/beans/ssd/bespoke_logging/run_384',\n",
       " '/media/beans/ssd/bespoke_logging/run_385',\n",
       " '/media/beans/ssd/bespoke_logging/run_386',\n",
       " '/media/beans/ssd/bespoke_logging/run_387',\n",
       " '/media/beans/ssd/bespoke_logging/run_388',\n",
       " '/media/beans/ssd/bespoke_logging/run_389',\n",
       " '/media/beans/ssd/bespoke_logging/run_390',\n",
       " '/media/beans/ssd/bespoke_logging/run_391',\n",
       " '/media/beans/ssd/bespoke_logging/run_392',\n",
       " '/media/beans/ssd/bespoke_logging/run_393',\n",
       " '/media/beans/ssd/bespoke_logging/run_394',\n",
       " '/media/beans/ssd/bespoke_logging/run_395',\n",
       " '/media/beans/ssd/bespoke_logging/run_396',\n",
       " '/media/beans/ssd/bespoke_logging/run_397',\n",
       " '/media/beans/ssd/bespoke_logging/run_398',\n",
       " '/media/beans/ssd/bespoke_logging/run_399',\n",
       " '/media/beans/ssd/bespoke_logging/run_400',\n",
       " '/media/beans/ssd/bespoke_logging/run_401',\n",
       " '/media/beans/ssd/bespoke_logging/run_402',\n",
       " '/media/beans/ssd/bespoke_logging/run_403',\n",
       " '/media/beans/ssd/bespoke_logging/run_404',\n",
       " '/media/beans/ssd/bespoke_logging/run_405',\n",
       " '/media/beans/ssd/bespoke_logging/run_406',\n",
       " '/media/beans/ssd/bespoke_logging/run_407',\n",
       " '/media/beans/ssd/bespoke_logging/run_408',\n",
       " '/media/beans/ssd/bespoke_logging/run_409',\n",
       " '/media/beans/ssd/bespoke_logging/run_410',\n",
       " '/media/beans/ssd/bespoke_logging/run_411',\n",
       " '/media/beans/ssd/bespoke_logging/run_412',\n",
       " '/media/beans/ssd/bespoke_logging/run_413',\n",
       " '/media/beans/ssd/bespoke_logging/run_414',\n",
       " '/media/beans/ssd/bespoke_logging/run_415',\n",
       " '/media/beans/ssd/bespoke_logging/run_416',\n",
       " '/media/beans/ssd/bespoke_logging/run_417',\n",
       " '/media/beans/ssd/bespoke_logging/run_418',\n",
       " '/media/beans/ssd/bespoke_logging/run_419',\n",
       " '/media/beans/ssd/bespoke_logging/run_420',\n",
       " '/media/beans/ssd/bespoke_logging/run_421',\n",
       " '/media/beans/ssd/bespoke_logging/run_422',\n",
       " '/media/beans/ssd/bespoke_logging/run_423',\n",
       " '/media/beans/ssd/bespoke_logging/run_424',\n",
       " '/media/beans/ssd/bespoke_logging/run_425',\n",
       " '/media/beans/ssd/bespoke_logging/run_426',\n",
       " '/media/beans/ssd/bespoke_logging/run_427',\n",
       " '/media/beans/ssd/bespoke_logging/run_428',\n",
       " '/media/beans/ssd/bespoke_logging/run_429',\n",
       " '/media/beans/ssd/bespoke_logging/run_430',\n",
       " '/media/beans/ssd/bespoke_logging/run_431',\n",
       " '/media/beans/ssd/bespoke_logging/run_432',\n",
       " '/media/beans/ssd/bespoke_logging/run_433',\n",
       " '/media/beans/ssd/bespoke_logging/run_434',\n",
       " '/media/beans/ssd/bespoke_logging/run_435',\n",
       " '/media/beans/ssd/bespoke_logging/run_436',\n",
       " '/media/beans/ssd/bespoke_logging/run_437',\n",
       " '/media/beans/ssd/bespoke_logging/run_438',\n",
       " '/media/beans/ssd/bespoke_logging/run_439',\n",
       " '/media/beans/ssd/bespoke_logging/run_440',\n",
       " '/media/beans/ssd/bespoke_logging/run_441',\n",
       " '/media/beans/ssd/bespoke_logging/run_442',\n",
       " '/media/beans/ssd/bespoke_logging/run_443',\n",
       " '/media/beans/ssd/bespoke_logging/run_444',\n",
       " '/media/beans/ssd/bespoke_logging/run_445',\n",
       " '/media/beans/ssd/bespoke_logging/run_446',\n",
       " '/media/beans/ssd/bespoke_logging/run_447',\n",
       " '/media/beans/ssd/bespoke_logging/run_448',\n",
       " '/media/beans/ssd/bespoke_logging/run_449',\n",
       " '/media/beans/ssd/bespoke_logging/run_450',\n",
       " '/media/beans/ssd/bespoke_logging/run_451',\n",
       " '/media/beans/ssd/bespoke_logging/run_452',\n",
       " '/media/beans/ssd/bespoke_logging/run_453',\n",
       " '/media/beans/ssd/bespoke_logging/run_454',\n",
       " '/media/beans/ssd/bespoke_logging/run_455',\n",
       " '/media/beans/ssd/bespoke_logging/run_456',\n",
       " '/media/beans/ssd/bespoke_logging/run_457',\n",
       " '/media/beans/ssd/bespoke_logging/run_458',\n",
       " '/media/beans/ssd/bespoke_logging/run_459',\n",
       " '/media/beans/ssd/bespoke_logging/run_460',\n",
       " '/media/beans/ssd/bespoke_logging/run_461',\n",
       " '/media/beans/ssd/bespoke_logging/run_462',\n",
       " '/media/beans/ssd/bespoke_logging/run_463',\n",
       " '/media/beans/ssd/bespoke_logging/run_464',\n",
       " '/media/beans/ssd/bespoke_logging/run_465',\n",
       " '/media/beans/ssd/bespoke_logging/run_466',\n",
       " '/media/beans/ssd/bespoke_logging/run_467',\n",
       " '/media/beans/ssd/bespoke_logging/run_468',\n",
       " '/media/beans/ssd/bespoke_logging/run_469',\n",
       " '/media/beans/ssd/bespoke_logging/run_470',\n",
       " '/media/beans/ssd/bespoke_logging/run_471',\n",
       " '/media/beans/ssd/bespoke_logging/run_472',\n",
       " '/media/beans/ssd/bespoke_logging/run_473',\n",
       " '/media/beans/ssd/bespoke_logging/run_474',\n",
       " '/media/beans/ssd/bespoke_logging/run_475',\n",
       " '/media/beans/ssd/bespoke_logging/run_476',\n",
       " '/media/beans/ssd/bespoke_logging/run_477',\n",
       " '/media/beans/ssd/bespoke_logging/run_478',\n",
       " '/media/beans/ssd/bespoke_logging/run_479',\n",
       " '/media/beans/ssd/bespoke_logging/run_480',\n",
       " '/media/beans/ssd/bespoke_logging/run_481',\n",
       " '/media/beans/ssd/bespoke_logging/run_482',\n",
       " '/media/beans/ssd/bespoke_logging/run_483',\n",
       " '/media/beans/ssd/bespoke_logging/run_484',\n",
       " '/media/beans/ssd/bespoke_logging/run_485',\n",
       " '/media/beans/ssd/bespoke_logging/run_486',\n",
       " '/media/beans/ssd/bespoke_logging/run_487',\n",
       " '/media/beans/ssd/bespoke_logging/run_488',\n",
       " '/media/beans/ssd/bespoke_logging/run_489',\n",
       " '/media/beans/ssd/bespoke_logging/run_490',\n",
       " '/media/beans/ssd/bespoke_logging/run_491',\n",
       " '/media/beans/ssd/bespoke_logging/run_492',\n",
       " '/media/beans/ssd/bespoke_logging/run_492a',\n",
       " '/media/beans/ssd/bespoke_logging/run_492b',\n",
       " '/media/beans/ssd/bespoke_logging/run_492c',\n",
       " '/media/beans/ssd/bespoke_logging/run_492d',\n",
       " '/media/beans/ssd/bespoke_logging/run_493',\n",
       " '/media/beans/ssd/bespoke_logging/run_494',\n",
       " '/media/beans/ssd/bespoke_logging/run_495',\n",
       " '/media/beans/ssd/bespoke_logging/run_496',\n",
       " '/media/beans/ssd/bespoke_logging/run_497',\n",
       " '/media/beans/ssd/bespoke_logging/run_498',\n",
       " '/media/beans/ssd/bespoke_logging/run_499',\n",
       " '/media/beans/ssd/bespoke_logging/run_500',\n",
       " '/media/beans/ssd/bespoke_logging/run_501',\n",
       " '/media/beans/ssd/bespoke_logging/run_502',\n",
       " '/media/beans/ssd/bespoke_logging/run_503',\n",
       " '/media/beans/ssd/bespoke_logging/run_504',\n",
       " '/media/beans/ssd/bespoke_logging/run_505',\n",
       " '/media/beans/ssd/bespoke_logging/run_506',\n",
       " '/media/beans/ssd/bespoke_logging/run_507',\n",
       " '/media/beans/ssd/bespoke_logging/run_508',\n",
       " '/media/beans/ssd/bespoke_logging/run_509',\n",
       " '/media/beans/ssd/bespoke_logging/run_510',\n",
       " '/media/beans/ssd/bespoke_logging/run_511',\n",
       " '/media/beans/ssd/bespoke_logging/run_512',\n",
       " '/media/beans/ssd/bespoke_logging/run_513',\n",
       " '/media/beans/ssd/bespoke_logging/run_514',\n",
       " '/media/beans/ssd/bespoke_logging/run_515',\n",
       " '/media/beans/ssd/bespoke_logging/run_516',\n",
       " '/media/beans/ssd/bespoke_logging/run_517',\n",
       " '/media/beans/ssd/bespoke_logging/run_518',\n",
       " '/media/beans/ssd/bespoke_logging/run_519',\n",
       " '/media/beans/ssd/bespoke_logging/run_520',\n",
       " '/media/beans/ssd/bespoke_logging/run_521',\n",
       " '/media/beans/ssd/bespoke_logging/run_522']"
      ]
     },
     "execution_count": 2,
     "metadata": {},
     "output_type": "execute_result"
    }
   ],
   "source": [
    "sorted(glob.glob(\"/media/beans/ssd/bespoke_logging/*\"))"
   ]
  },
  {
   "cell_type": "code",
   "execution_count": 5,
   "id": "89cbf7be",
   "metadata": {},
   "outputs": [],
   "source": [
    "base_run = 'run_521'\n",
    "base_run_path = f\"/media/beans/ssd/bespoke_logging/{base_run}\"\n",
    "run_suffix = 'a'\n",
    "run_path = f\"/media/beans/ssd/bespoke_logging/{base_run+run_suffix}\"\n",
    "os.makedirs(run_path)\n",
    "os.makedirs(f'{run_path}/img')\n",
    "os.makedirs(f'{run_path}/aux')\n",
    "os.makedirs(f'{run_path}/maps')\n",
    "os.makedirs(f'{run_path}/car_state')"
   ]
  },
  {
   "cell_type": "code",
   "execution_count": 28,
   "id": "a3ca5f9c",
   "metadata": {},
   "outputs": [
    {
     "data": {
      "text/plain": [
       "35000"
      ]
     },
     "execution_count": 28,
     "metadata": {},
     "output_type": "execute_result"
    }
   ],
   "source": [
    "b, e = 30_000, 65_000 #12_000, 31_000\n",
    "aux_files = sorted(glob.glob(f\"{base_run_path}/aux/*\"))[b:e]\n",
    "len(aux_files)"
   ]
  },
  {
   "cell_type": "code",
   "execution_count": 29,
   "id": "af39f245",
   "metadata": {},
   "outputs": [],
   "source": [
    "img_files = sorted(glob.glob(f\"{base_run_path}/img/*\"))[b:e]\n",
    "car_state_files = sorted(glob.glob(f\"{base_run_path}/car_state/*\"))[b:e]\n",
    "maps_files = sorted(glob.glob(f\"{base_run_path}/maps/*\"))[b:e]"
   ]
  },
  {
   "cell_type": "code",
   "execution_count": 30,
   "id": "e07217be",
   "metadata": {},
   "outputs": [
    {
     "data": {
      "text/plain": [
       "<matplotlib.image.AxesImage at 0x7f2081333850>"
      ]
     },
     "execution_count": 30,
     "metadata": {},
     "output_type": "execute_result"
    },
    {
     "data": {
      "image/png": "[encoded data removed]",
      "text/plain": [
       "<Figure size 432x288 with 1 Axes>"
      ]
     },
     "metadata": {
      "needs_background": "light"
     },
     "output_type": "display_data"
    }
   ],
   "source": [
    "plt.imshow(np.load(img_files[30_000])) #400"
   ]
  },
  {
   "cell_type": "code",
   "execution_count": 31,
   "id": "9d7e1e9d",
   "metadata": {},
   "outputs": [],
   "source": [
    "for f in img_files:\n",
    "    filename = f.split('/')[-1]\n",
    "    copyfile(f, f\"{run_path}/img/{filename}\")"
   ]
  },
  {
   "cell_type": "code",
   "execution_count": 32,
   "id": "40f0b392",
   "metadata": {},
   "outputs": [],
   "source": [
    "for f in aux_files:\n",
    "    filename = f.split('/')[-1]\n",
    "    copyfile(f, f\"{run_path}/aux/{filename}\")"
   ]
  },
  {
   "cell_type": "code",
   "execution_count": 33,
   "id": "e82c3466",
   "metadata": {},
   "outputs": [],
   "source": [
    "for f in car_state_files:\n",
    "    filename = f.split('/')[-1]\n",
    "    copyfile(f, f\"{run_path}/car_state/{filename}\")"
   ]
  },
  {
   "cell_type": "code",
   "execution_count": 34,
   "id": "ea39895b",
   "metadata": {},
   "outputs": [],
   "source": [
    "for f in maps_files:\n",
    "    filename = f.split('/')[-1]\n",
    "    copyfile(f, f\"{run_path}/maps/{filename}\")"
   ]
  },
  {
   "cell_type": "code",
   "execution_count": null,
   "id": "8cdf8e77",
   "metadata": {},
   "outputs": [],
   "source": []
  },
  {
   "cell_type": "code",
   "execution_count": null,
   "id": "3f0a56ef",
   "metadata": {},
   "outputs": [],
   "source": []
  },
  {
   "cell_type": "code",
   "execution_count": null,
   "id": "b16bfad7",
   "metadata": {},
   "outputs": [],
   "source": []
  }
 ],
 "metadata": {
  "kernelspec": {
   "display_name": "Python 3 (ipykernel)",
   "language": "python",
   "name": "python3"
  },
  "language_info": {
   "codemirror_mode": {
    "name": "ipython",
    "version": 3
   },
   "file_extension": ".py",
   "mimetype": "text/x-python",
   "name": "python",
   "nbconvert_exporter": "python",
   "pygments_lexer": "ipython3",
   "version": "3.8.11"
  }
 },
 "nbformat": 4,
 "nbformat_minor": 5
}
