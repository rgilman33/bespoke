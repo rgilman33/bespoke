{
 "cells": [
  {
   "cell_type": "code",
   "execution_count": 2,
   "id": "201e27ee",
   "metadata": {},
   "outputs": [],
   "source": [
    "%matplotlib inline\n",
    "%load_ext autoreload\n",
    "%autoreload 2\n",
    "\n",
    "import sys\n",
    "sys.path.append('/home/beans/bespoke')\n",
    "\n",
    "from constants import *\n",
    "from imports import *\n",
    "from traj_utils import *"
   ]
  },
  {
   "cell_type": "code",
   "execution_count": 2,
   "id": "20d45514",
   "metadata": {
    "scrolled": true
   },
   "outputs": [
    {
     "data": {
      "text/plain": [
       "['speed',\n",
       " 'has_map',\n",
       " 'has_route',\n",
       " 'pitch',\n",
       " 'yaw',\n",
       " 'tire_angle',\n",
       " 'pos_x',\n",
       " 'pos_y',\n",
       " 'heading',\n",
       " 'has_stop',\n",
       " 'stop_dist',\n",
       " 'has_lead',\n",
       " 'lead_dist',\n",
       " 'lead_speed',\n",
       " 'should_yield',\n",
       " 'dagger_shift',\n",
       " 'lane_width',\n",
       " 'rd_is_lined',\n",
       " 'interesting_note',\n",
       " 'frame_to_model_duration',\n",
       " 'loop_duration',\n",
       " 'num_sats',\n",
       " 'gps_qual',\n",
       " 'unc_p',\n",
       " 'shadow_strength',\n",
       " 'directionality_mult',\n",
       " 'maps_noise_mult',\n",
       " 'roll_noise_mult',\n",
       " 'te',\n",
       " 'traj_max_angle_p',\n",
       " 'ccs_p',\n",
       " 'tire_angle_loss',\n",
       " 'tire_angle_p',\n",
       " 'left_turn',\n",
       " 'right_turn',\n",
       " 'ego_in_intx',\n",
       " 'curvature_at_ego',\n",
       " 'tire_angle_ap',\n",
       " 'tire_angle_p_no_rc',\n",
       " 'sss_p']"
      ]
     },
     "execution_count": 2,
     "metadata": {},
     "output_type": "execute_result"
    }
   ],
   "source": [
    "AUX_PROPS"
   ]
  },
  {
   "cell_type": "code",
   "execution_count": 2,
   "id": "43afc334",
   "metadata": {},
   "outputs": [
    {
     "data": {
      "text/plain": [
       "2.7"
      ]
     },
     "execution_count": 2,
     "metadata": {},
     "output_type": "execute_result"
    }
   ],
   "source": [
    "get_target_wp_dist(0)"
   ]
  },
  {
   "cell_type": "code",
   "execution_count": 3,
   "id": "9899d156",
   "metadata": {},
   "outputs": [
    {
     "data": {
      "text/plain": [
       "4.4704"
      ]
     },
     "execution_count": 3,
     "metadata": {},
     "output_type": "execute_result"
    }
   ],
   "source": [
    "mph_to_mps(10)"
   ]
  },
  {
   "cell_type": "code",
   "execution_count": 18,
   "id": "53ab6314",
   "metadata": {},
   "outputs": [
    {
     "name": "stdout",
     "output_type": "stream",
     "text": [
      "CPU times: user 2.35 ms, sys: 0 ns, total: 2.35 ms\n",
      "Wall time: 2.09 ms\n"
     ]
    },
    {
     "data": {
      "text/plain": [
       "(53.5, 4.48)"
      ]
     },
     "execution_count": 18,
     "metadata": {},
     "output_type": "execute_result"
    }
   ],
   "source": [
    "%%time\n",
    "get_obs_per_sec()"
   ]
  },
  {
   "cell_type": "code",
   "execution_count": 5,
   "id": "e638e0a1",
   "metadata": {},
   "outputs": [
    {
     "name": "stdout",
     "output_type": "stream",
     "text": [
      "CPU times: user 893 µs, sys: 374 µs, total: 1.27 ms\n",
      "Wall time: 1.27 ms\n"
     ]
    },
    {
     "data": {
      "text/plain": [
       "['/media/ssd2/blender_membank_frameskip/dataloader_01/run_1275/aux/1.npy',\n",
       " '/media/ssd2/blender_membank_frameskip/dataloader_01/run_1275/aux/10.npy',\n",
       " '/media/ssd2/blender_membank_frameskip/dataloader_01/run_1275/aux/100.npy',\n",
       " '/media/ssd2/blender_membank_frameskip/dataloader_01/run_1275/aux/101.npy',\n",
       " '/media/ssd2/blender_membank_frameskip/dataloader_01/run_1275/aux/102.npy',\n",
       " '/media/ssd2/blender_membank_frameskip/dataloader_01/run_1275/aux/103.npy',\n",
       " '/media/ssd2/blender_membank_frameskip/dataloader_01/run_1275/aux/104.npy',\n",
       " '/media/ssd2/blender_membank_frameskip/dataloader_01/run_1275/aux/105.npy',\n",
       " '/media/ssd2/blender_membank_frameskip/dataloader_01/run_1275/aux/106.npy',\n",
       " '/media/ssd2/blender_membank_frameskip/dataloader_01/run_1275/aux/107.npy',\n",
       " '/media/ssd2/blender_membank_frameskip/dataloader_01/run_1275/aux/108.npy',\n",
       " '/media/ssd2/blender_membank_frameskip/dataloader_01/run_1275/aux/109.npy',\n",
       " '/media/ssd2/blender_membank_frameskip/dataloader_01/run_1275/aux/11.npy',\n",
       " '/media/ssd2/blender_membank_frameskip/dataloader_01/run_1275/aux/110.npy',\n",
       " '/media/ssd2/blender_membank_frameskip/dataloader_01/run_1275/aux/111.npy',\n",
       " '/media/ssd2/blender_membank_frameskip/dataloader_01/run_1275/aux/112.npy',\n",
       " '/media/ssd2/blender_membank_frameskip/dataloader_01/run_1275/aux/113.npy',\n",
       " '/media/ssd2/blender_membank_frameskip/dataloader_01/run_1275/aux/114.npy',\n",
       " '/media/ssd2/blender_membank_frameskip/dataloader_01/run_1275/aux/115.npy',\n",
       " '/media/ssd2/blender_membank_frameskip/dataloader_01/run_1275/aux/116.npy',\n",
       " '/media/ssd2/blender_membank_frameskip/dataloader_01/run_1275/aux/117.npy',\n",
       " '/media/ssd2/blender_membank_frameskip/dataloader_01/run_1275/aux/118.npy',\n",
       " '/media/ssd2/blender_membank_frameskip/dataloader_01/run_1275/aux/119.npy',\n",
       " '/media/ssd2/blender_membank_frameskip/dataloader_01/run_1275/aux/12.npy',\n",
       " '/media/ssd2/blender_membank_frameskip/dataloader_01/run_1275/aux/120.npy',\n",
       " '/media/ssd2/blender_membank_frameskip/dataloader_01/run_1275/aux/121.npy',\n",
       " '/media/ssd2/blender_membank_frameskip/dataloader_01/run_1275/aux/122.npy',\n",
       " '/media/ssd2/blender_membank_frameskip/dataloader_01/run_1275/aux/123.npy',\n",
       " '/media/ssd2/blender_membank_frameskip/dataloader_01/run_1275/aux/124.npy',\n",
       " '/media/ssd2/blender_membank_frameskip/dataloader_01/run_1275/aux/125.npy',\n",
       " '/media/ssd2/blender_membank_frameskip/dataloader_01/run_1275/aux/126.npy',\n",
       " '/media/ssd2/blender_membank_frameskip/dataloader_01/run_1275/aux/127.npy',\n",
       " '/media/ssd2/blender_membank_frameskip/dataloader_01/run_1275/aux/128.npy',\n",
       " '/media/ssd2/blender_membank_frameskip/dataloader_01/run_1275/aux/129.npy',\n",
       " '/media/ssd2/blender_membank_frameskip/dataloader_01/run_1275/aux/13.npy',\n",
       " '/media/ssd2/blender_membank_frameskip/dataloader_01/run_1275/aux/14.npy',\n",
       " '/media/ssd2/blender_membank_frameskip/dataloader_01/run_1275/aux/15.npy',\n",
       " '/media/ssd2/blender_membank_frameskip/dataloader_01/run_1275/aux/16.npy',\n",
       " '/media/ssd2/blender_membank_frameskip/dataloader_01/run_1275/aux/17.npy',\n",
       " '/media/ssd2/blender_membank_frameskip/dataloader_01/run_1275/aux/18.npy',\n",
       " '/media/ssd2/blender_membank_frameskip/dataloader_01/run_1275/aux/19.npy',\n",
       " '/media/ssd2/blender_membank_frameskip/dataloader_01/run_1275/aux/2.npy',\n",
       " '/media/ssd2/blender_membank_frameskip/dataloader_01/run_1275/aux/20.npy',\n",
       " '/media/ssd2/blender_membank_frameskip/dataloader_01/run_1275/aux/21.npy',\n",
       " '/media/ssd2/blender_membank_frameskip/dataloader_01/run_1275/aux/22.npy',\n",
       " '/media/ssd2/blender_membank_frameskip/dataloader_01/run_1275/aux/23.npy',\n",
       " '/media/ssd2/blender_membank_frameskip/dataloader_01/run_1275/aux/24.npy',\n",
       " '/media/ssd2/blender_membank_frameskip/dataloader_01/run_1275/aux/25.npy',\n",
       " '/media/ssd2/blender_membank_frameskip/dataloader_01/run_1275/aux/26.npy',\n",
       " '/media/ssd2/blender_membank_frameskip/dataloader_01/run_1275/aux/27.npy',\n",
       " '/media/ssd2/blender_membank_frameskip/dataloader_01/run_1275/aux/28.npy',\n",
       " '/media/ssd2/blender_membank_frameskip/dataloader_01/run_1275/aux/29.npy',\n",
       " '/media/ssd2/blender_membank_frameskip/dataloader_01/run_1275/aux/3.npy',\n",
       " '/media/ssd2/blender_membank_frameskip/dataloader_01/run_1275/aux/30.npy',\n",
       " '/media/ssd2/blender_membank_frameskip/dataloader_01/run_1275/aux/31.npy',\n",
       " '/media/ssd2/blender_membank_frameskip/dataloader_01/run_1275/aux/32.npy',\n",
       " '/media/ssd2/blender_membank_frameskip/dataloader_01/run_1275/aux/33.npy',\n",
       " '/media/ssd2/blender_membank_frameskip/dataloader_01/run_1275/aux/34.npy',\n",
       " '/media/ssd2/blender_membank_frameskip/dataloader_01/run_1275/aux/35.npy',\n",
       " '/media/ssd2/blender_membank_frameskip/dataloader_01/run_1275/aux/36.npy',\n",
       " '/media/ssd2/blender_membank_frameskip/dataloader_01/run_1275/aux/37.npy',\n",
       " '/media/ssd2/blender_membank_frameskip/dataloader_01/run_1275/aux/38.npy',\n",
       " '/media/ssd2/blender_membank_frameskip/dataloader_01/run_1275/aux/39.npy',\n",
       " '/media/ssd2/blender_membank_frameskip/dataloader_01/run_1275/aux/4.npy',\n",
       " '/media/ssd2/blender_membank_frameskip/dataloader_01/run_1275/aux/40.npy',\n",
       " '/media/ssd2/blender_membank_frameskip/dataloader_01/run_1275/aux/41.npy',\n",
       " '/media/ssd2/blender_membank_frameskip/dataloader_01/run_1275/aux/42.npy',\n",
       " '/media/ssd2/blender_membank_frameskip/dataloader_01/run_1275/aux/43.npy',\n",
       " '/media/ssd2/blender_membank_frameskip/dataloader_01/run_1275/aux/44.npy',\n",
       " '/media/ssd2/blender_membank_frameskip/dataloader_01/run_1275/aux/45.npy',\n",
       " '/media/ssd2/blender_membank_frameskip/dataloader_01/run_1275/aux/46.npy',\n",
       " '/media/ssd2/blender_membank_frameskip/dataloader_01/run_1275/aux/47.npy',\n",
       " '/media/ssd2/blender_membank_frameskip/dataloader_01/run_1275/aux/48.npy',\n",
       " '/media/ssd2/blender_membank_frameskip/dataloader_01/run_1275/aux/49.npy',\n",
       " '/media/ssd2/blender_membank_frameskip/dataloader_01/run_1275/aux/5.npy',\n",
       " '/media/ssd2/blender_membank_frameskip/dataloader_01/run_1275/aux/50.npy',\n",
       " '/media/ssd2/blender_membank_frameskip/dataloader_01/run_1275/aux/51.npy',\n",
       " '/media/ssd2/blender_membank_frameskip/dataloader_01/run_1275/aux/52.npy',\n",
       " '/media/ssd2/blender_membank_frameskip/dataloader_01/run_1275/aux/53.npy',\n",
       " '/media/ssd2/blender_membank_frameskip/dataloader_01/run_1275/aux/54.npy',\n",
       " '/media/ssd2/blender_membank_frameskip/dataloader_01/run_1275/aux/55.npy',\n",
       " '/media/ssd2/blender_membank_frameskip/dataloader_01/run_1275/aux/56.npy',\n",
       " '/media/ssd2/blender_membank_frameskip/dataloader_01/run_1275/aux/57.npy',\n",
       " '/media/ssd2/blender_membank_frameskip/dataloader_01/run_1275/aux/58.npy',\n",
       " '/media/ssd2/blender_membank_frameskip/dataloader_01/run_1275/aux/59.npy',\n",
       " '/media/ssd2/blender_membank_frameskip/dataloader_01/run_1275/aux/6.npy',\n",
       " '/media/ssd2/blender_membank_frameskip/dataloader_01/run_1275/aux/60.npy',\n",
       " '/media/ssd2/blender_membank_frameskip/dataloader_01/run_1275/aux/61.npy',\n",
       " '/media/ssd2/blender_membank_frameskip/dataloader_01/run_1275/aux/62.npy',\n",
       " '/media/ssd2/blender_membank_frameskip/dataloader_01/run_1275/aux/63.npy',\n",
       " '/media/ssd2/blender_membank_frameskip/dataloader_01/run_1275/aux/64.npy',\n",
       " '/media/ssd2/blender_membank_frameskip/dataloader_01/run_1275/aux/65.npy',\n",
       " '/media/ssd2/blender_membank_frameskip/dataloader_01/run_1275/aux/66.npy',\n",
       " '/media/ssd2/blender_membank_frameskip/dataloader_01/run_1275/aux/67.npy',\n",
       " '/media/ssd2/blender_membank_frameskip/dataloader_01/run_1275/aux/68.npy',\n",
       " '/media/ssd2/blender_membank_frameskip/dataloader_01/run_1275/aux/69.npy',\n",
       " '/media/ssd2/blender_membank_frameskip/dataloader_01/run_1275/aux/7.npy',\n",
       " '/media/ssd2/blender_membank_frameskip/dataloader_01/run_1275/aux/70.npy',\n",
       " '/media/ssd2/blender_membank_frameskip/dataloader_01/run_1275/aux/71.npy',\n",
       " '/media/ssd2/blender_membank_frameskip/dataloader_01/run_1275/aux/72.npy',\n",
       " '/media/ssd2/blender_membank_frameskip/dataloader_01/run_1275/aux/73.npy',\n",
       " '/media/ssd2/blender_membank_frameskip/dataloader_01/run_1275/aux/74.npy',\n",
       " '/media/ssd2/blender_membank_frameskip/dataloader_01/run_1275/aux/75.npy',\n",
       " '/media/ssd2/blender_membank_frameskip/dataloader_01/run_1275/aux/76.npy',\n",
       " '/media/ssd2/blender_membank_frameskip/dataloader_01/run_1275/aux/77.npy',\n",
       " '/media/ssd2/blender_membank_frameskip/dataloader_01/run_1275/aux/78.npy',\n",
       " '/media/ssd2/blender_membank_frameskip/dataloader_01/run_1275/aux/79.npy',\n",
       " '/media/ssd2/blender_membank_frameskip/dataloader_01/run_1275/aux/8.npy',\n",
       " '/media/ssd2/blender_membank_frameskip/dataloader_01/run_1275/aux/80.npy',\n",
       " '/media/ssd2/blender_membank_frameskip/dataloader_01/run_1275/aux/81.npy',\n",
       " '/media/ssd2/blender_membank_frameskip/dataloader_01/run_1275/aux/82.npy',\n",
       " '/media/ssd2/blender_membank_frameskip/dataloader_01/run_1275/aux/83.npy',\n",
       " '/media/ssd2/blender_membank_frameskip/dataloader_01/run_1275/aux/84.npy',\n",
       " '/media/ssd2/blender_membank_frameskip/dataloader_01/run_1275/aux/85.npy',\n",
       " '/media/ssd2/blender_membank_frameskip/dataloader_01/run_1275/aux/86.npy',\n",
       " '/media/ssd2/blender_membank_frameskip/dataloader_01/run_1275/aux/87.npy',\n",
       " '/media/ssd2/blender_membank_frameskip/dataloader_01/run_1275/aux/88.npy',\n",
       " '/media/ssd2/blender_membank_frameskip/dataloader_01/run_1275/aux/89.npy',\n",
       " '/media/ssd2/blender_membank_frameskip/dataloader_01/run_1275/aux/9.npy',\n",
       " '/media/ssd2/blender_membank_frameskip/dataloader_01/run_1275/aux/90.npy',\n",
       " '/media/ssd2/blender_membank_frameskip/dataloader_01/run_1275/aux/91.npy',\n",
       " '/media/ssd2/blender_membank_frameskip/dataloader_01/run_1275/aux/92.npy',\n",
       " '/media/ssd2/blender_membank_frameskip/dataloader_01/run_1275/aux/93.npy',\n",
       " '/media/ssd2/blender_membank_frameskip/dataloader_01/run_1275/aux/94.npy',\n",
       " '/media/ssd2/blender_membank_frameskip/dataloader_01/run_1275/aux/95.npy',\n",
       " '/media/ssd2/blender_membank_frameskip/dataloader_01/run_1275/aux/96.npy',\n",
       " '/media/ssd2/blender_membank_frameskip/dataloader_01/run_1275/aux/97.npy',\n",
       " '/media/ssd2/blender_membank_frameskip/dataloader_01/run_1275/aux/98.npy',\n",
       " '/media/ssd2/blender_membank_frameskip/dataloader_01/run_1275/aux/99.npy']"
      ]
     },
     "execution_count": 5,
     "metadata": {},
     "output_type": "execute_result"
    }
   ],
   "source": [
    "%%time\n",
    "sorted(glob.glob(f\"{BLENDER_MEMBANK_ROOT}/dataloader_01/run_1275/aux/*\"))"
   ]
  },
  {
   "cell_type": "code",
   "execution_count": 5,
   "id": "68866fab",
   "metadata": {
    "scrolled": true
   },
   "outputs": [
    {
     "name": "stdout",
     "output_type": "stream",
     "text": [
      "Obs per sec 41.85 || render time 43.61 || init time 11.27\n",
      "Obs per sec 44.66 || render time 44.76 || init time 4.99\n",
      "Obs per sec 43.88 || render time 45.84 || init time 12.28\n",
      "Obs per sec 43.78 || render time 42.85 || init time 5.21\n",
      "Obs per sec 46.72 || render time 41.58 || init time 10.49\n",
      "Obs per sec 40.47 || render time 46.57 || init time 6.98\n",
      "Obs per sec 44.21 || render time 46.74 || init time 10.52\n",
      "Obs per sec 36.26 || render time 49.68 || init time 5.24\n",
      "Obs per sec 41.6 || render time 48.88 || init time 11.34\n",
      "Obs per sec 41.94 || render time 43.76 || init time 5.73\n",
      "Obs per sec 45.09 || render time 43.01 || init time 6.64\n",
      "Obs per sec 45.45 || render time 44.27 || init time 9.32\n",
      "Obs per sec 46.13 || render time 41.75 || init time 10.26\n",
      "Obs per sec 46.86 || render time 41.13 || init time 6.28\n",
      "Obs per sec 49.13 || render time 40.28 || init time 9.15\n",
      "Obs per sec 43.46 || render time 42.69 || init time 5.27\n",
      "Obs per sec 40.93 || render time 45.57 || init time 6.75\n",
      "Obs per sec 41.62 || render time 48.47 || init time 10.88\n",
      "Obs per sec 38.29 || render time 46.27 || init time 4.96\n",
      "Obs per sec 51.65 || render time 38.77 || init time 9.65\n",
      "Obs per sec 43.21 || render time 42.34 || init time 9.0\n",
      "Obs per sec 45.0 || render time 43.58 || init time 4.22\n",
      "Obs per sec 42.02 || render time 47.22 || init time 13.6\n",
      "Obs per sec 39.66 || render time 47.37 || init time 4.47\n",
      "Obs per sec 42.9 || render time 44.56 || init time 7.17\n",
      "Obs per sec 41.79 || render time 46.17 || init time 9.45\n",
      "Obs per sec 39.42 || render time 45.92 || init time 3.81\n",
      "Obs per sec 43.54 || render time 47.4 || init time 8.48\n",
      "Obs per sec 45.02 || render time 42.03 || init time 6.82\n",
      "Obs per sec 43.65 || render time 42.73 || init time 8.52\n",
      "Obs per sec 46.63 || render time 39.84 || init time 10.55\n",
      "Obs per sec 48.59 || render time 37.22 || init time 7.61\n",
      "Obs per sec 50.3 || render time 39.82 || init time 9.69\n",
      "Obs per sec 40.52 || render time 46.07 || init time 3.22\n",
      "Obs per sec 48.41 || render time 42.73 || init time 9.36\n",
      "Obs per sec 49.83 || render time 41.25 || init time 3.36\n",
      "Obs per sec 49.38 || render time 36.07 || init time 7.47\n",
      "Obs per sec 53.13 || render time 36.75 || init time 8.41\n",
      "Obs per sec 38.38 || render time 48.04 || init time 4.05\n",
      "Obs per sec 41.25 || render time 49.41 || init time 9.37\n",
      "Obs per sec 38.1 || render time 49.4 || init time 4.97\n",
      "Obs per sec 45.69 || render time 43.33 || init time 10.52\n",
      "Obs per sec 43.48 || render time 42.59 || init time 7.73\n",
      "Obs per sec 43.68 || render time 44.04 || init time 10.2\n",
      "Obs per sec 39.85 || render time 48.56 || init time 5.41\n",
      "Obs per sec 43.86 || render time 44.41 || init time 11.12\n",
      "Obs per sec 44.19 || render time 43.13 || init time 7.13\n",
      "Obs per sec 49.35 || render time 38.77 || init time 10.86\n",
      "Obs per sec 43.46 || render time 42.36 || init time 7.51\n",
      "Obs per sec 43.74 || render time 44.18 || init time 8.49\n",
      "Obs per sec 41.83 || render time 43.69 || init time 5.24\n",
      "Obs per sec 42.55 || render time 46.93 || init time 10.81\n",
      "Obs per sec 48.13 || render time 39.21 || init time 5.64\n",
      "Obs per sec 44.51 || render time 43.73 || init time 13.36\n",
      "Obs per sec 39.28 || render time 46.59 || init time 6.78\n",
      "Obs per sec 39.03 || render time 48.73 || init time 8.14\n",
      "Obs per sec 42.14 || render time 46.8 || init time 8.19\n",
      "Obs per sec 40.01 || render time 46.22 || init time 6.79\n",
      "Obs per sec 45.28 || render time 45.85 || init time 11.22\n",
      "Obs per sec 45.79 || render time 43.62 || init time 5.8\n",
      "Obs per sec 45.36 || render time 43.27 || init time 8.36\n",
      "Obs per sec 41.42 || render time 45.36 || init time 6.27\n",
      "Obs per sec 42.27 || render time 45.19 || init time 7.62\n",
      "Obs per sec 45.09 || render time 43.88 || init time 6.18\n",
      "Obs per sec 42.16 || render time 48.74 || init time 9.38\n",
      "Obs per sec 41.35 || render time 45.12 || init time 5.59\n",
      "Obs per sec 44.62 || render time 46.81 || init time 13.79\n",
      "Obs per sec 38.38 || render time 43.92 || init time 1.04\n",
      "Obs per sec 46.72 || render time 45.7 || init time 12.44\n",
      "Obs per sec 34.15 || render time 54.09 || init time 3.88\n",
      "Obs per sec 37.73 || render time 56.24 || init time 6.23\n",
      "Obs per sec 38.4 || render time 46.73 || init time 8.85\n",
      "Obs per sec 40.71 || render time 46.45 || init time 7.96\n",
      "Obs per sec 38.0 || render time 46.55 || init time 7.55\n",
      "Obs per sec 39.93 || render time 50.07 || init time 5.96\n",
      "Obs per sec 40.52 || render time 47.59 || init time 7.55\n"
     ]
    },
    {
     "ename": "KeyboardInterrupt",
     "evalue": "",
     "output_type": "error",
     "traceback": [
      "\u001b[0;31m---------------------------------------------------------------------------\u001b[0m",
      "\u001b[0;31mKeyboardInterrupt\u001b[0m                         Traceback (most recent call last)",
      "\u001b[0;32m/tmp/ipykernel_2610630/3853816916.py\u001b[0m in \u001b[0;36m<module>\u001b[0;34m\u001b[0m\n\u001b[1;32m      1\u001b[0m \u001b[0;32mfor\u001b[0m \u001b[0mi\u001b[0m \u001b[0;32min\u001b[0m \u001b[0mrange\u001b[0m\u001b[0;34m(\u001b[0m\u001b[0;36m10_000\u001b[0m\u001b[0;34m)\u001b[0m\u001b[0;34m:\u001b[0m\u001b[0;34m\u001b[0m\u001b[0;34m\u001b[0m\u001b[0m\n\u001b[1;32m      2\u001b[0m     \u001b[0mprint\u001b[0m\u001b[0;34m(\u001b[0m\u001b[0;34mf\"Obs per sec {get_obs_per_sec()[0]} || render time {get_render_time()[0]} || init time {get_init_time()[0]}\"\u001b[0m \u001b[0;34m)\u001b[0m\u001b[0;34m\u001b[0m\u001b[0;34m\u001b[0m\u001b[0m\n\u001b[0;32m----> 3\u001b[0;31m     \u001b[0mtime\u001b[0m\u001b[0;34m.\u001b[0m\u001b[0msleep\u001b[0m\u001b[0;34m(\u001b[0m\u001b[0;36m60\u001b[0m\u001b[0;34m*\u001b[0m\u001b[0;36m1\u001b[0m\u001b[0;34m)\u001b[0m\u001b[0;34m\u001b[0m\u001b[0;34m\u001b[0m\u001b[0m\n\u001b[0m",
      "\u001b[0;31mKeyboardInterrupt\u001b[0m: "
     ]
    }
   ],
   "source": [
    "for i in range(10_000):\n",
    "    print(f\"Obs per sec {get_obs_per_sec()[0]} || render time {get_render_time()[0]} || init time {get_init_time()[0]}\" )\n",
    "    time.sleep(60*1)"
   ]
  },
  {
   "cell_type": "code",
   "execution_count": null,
   "id": "9a390683",
   "metadata": {},
   "outputs": [],
   "source": []
  },
  {
   "cell_type": "code",
   "execution_count": 8,
   "id": "8e33157c",
   "metadata": {},
   "outputs": [],
   "source": [
    "# Shut down trainer\n",
    "set_trainer_should_stop(True)"
   ]
  },
  {
   "cell_type": "code",
   "execution_count": null,
   "id": "a227a41d",
   "metadata": {},
   "outputs": [],
   "source": []
  },
  {
   "cell_type": "code",
   "execution_count": 12,
   "id": "3dae56ea",
   "metadata": {},
   "outputs": [],
   "source": [
    "t = torch.randn((3,4))\n",
    "t[0][0] = torch.nan"
   ]
  },
  {
   "cell_type": "code",
   "execution_count": 13,
   "id": "f65c7591",
   "metadata": {},
   "outputs": [
    {
     "data": {
      "text/plain": [
       "torch.float32"
      ]
     },
     "execution_count": 13,
     "metadata": {},
     "output_type": "execute_result"
    }
   ],
   "source": [
    "t.dtype"
   ]
  },
  {
   "cell_type": "code",
   "execution_count": 14,
   "id": "a9c4fb2e",
   "metadata": {},
   "outputs": [
    {
     "data": {
      "text/plain": [
       "tensor([[    nan, -1.5429,  0.1730,  0.5194],\n",
       "        [ 0.1227,  0.5840, -0.0233,  1.5951],\n",
       "        [ 0.2951,  0.9193,  0.8300,  0.7739]])"
      ]
     },
     "execution_count": 14,
     "metadata": {},
     "output_type": "execute_result"
    }
   ],
   "source": [
    "torch.clamp(t, -10, 10)"
   ]
  },
  {
   "cell_type": "code",
   "execution_count": 16,
   "id": "02d6aca3",
   "metadata": {},
   "outputs": [
    {
     "data": {
      "text/plain": [
       "tensor([[False, False,  True,  True],\n",
       "        [ True,  True, False,  True],\n",
       "        [ True,  True,  True,  True]], device='cuda:0')"
      ]
     },
     "execution_count": 16,
     "metadata": {},
     "output_type": "execute_result"
    }
   ],
   "source": [
    "(t > 0) & (t < 2)"
   ]
  },
  {
   "cell_type": "code",
   "execution_count": 6,
   "id": "27b948d4",
   "metadata": {},
   "outputs": [
    {
     "data": {
      "text/plain": [
       "tensor([[    nan,  0.0000, -0.7175,  0.0000],\n",
       "        [-0.2323, -1.4721,  0.0000, -0.9467],\n",
       "        [-0.7206,  0.0000, -0.6977,  0.0000]])"
      ]
     },
     "execution_count": 6,
     "metadata": {},
     "output_type": "execute_result"
    }
   ],
   "source": [
    "~(t>0)*t"
   ]
  },
  {
   "cell_type": "code",
   "execution_count": 9,
   "id": "8455e40d",
   "metadata": {},
   "outputs": [
    {
     "data": {
      "text/plain": [
       "array([[ 0.44152985,  1.50411513,  1.64095077,  1.08528706, -0.51119565],\n",
       "       [ 0.4556369 , -0.88712186, -0.34905381, -0.43379577, -0.94362929],\n",
       "       [ 0.98571363, -0.00241864, -1.10698085, -0.74286705, -0.17467991]])"
      ]
     },
     "execution_count": 9,
     "metadata": {},
     "output_type": "execute_result"
    }
   ],
   "source": [
    "a = np.random.randn(3,5)\n",
    "a"
   ]
  },
  {
   "cell_type": "code",
   "execution_count": 11,
   "id": "22cf3b40",
   "metadata": {},
   "outputs": [
    {
     "data": {
      "text/plain": [
       "array([[ True, False, False, False, False],\n",
       "       [ True, False, False, False, False],\n",
       "       [ True, False, False, False, False]])"
      ]
     },
     "execution_count": 11,
     "metadata": {},
     "output_type": "execute_result"
    }
   ],
   "source": [
    "(0 < a) & (a<1)"
   ]
  },
  {
   "cell_type": "code",
   "execution_count": 28,
   "id": "41ce9770",
   "metadata": {},
   "outputs": [],
   "source": [
    "# Shut down loader\n",
    "#set_loader_should_stop(True)"
   ]
  },
  {
   "cell_type": "code",
   "execution_count": 11,
   "id": "596d5c6b",
   "metadata": {},
   "outputs": [],
   "source": [
    "# Shut down datagen\n",
    "set_should_stop(True)"
   ]
  },
  {
   "cell_type": "code",
   "execution_count": null,
   "id": "4297c572",
   "metadata": {},
   "outputs": [],
   "source": []
  },
  {
   "cell_type": "code",
   "execution_count": 12,
   "id": "4eb1f50e",
   "metadata": {},
   "outputs": [
    {
     "name": "stdout",
     "output_type": "stream",
     "text": [
      "CPU times: user 732 µs, sys: 0 ns, total: 732 µs\n",
      "Wall time: 231 ms\n"
     ]
    },
    {
     "data": {
      "text/plain": [
       "0"
      ]
     },
     "execution_count": 12,
     "metadata": {},
     "output_type": "execute_result"
    }
   ],
   "source": [
    "%%time\n",
    "\n",
    "# Delete blender membank\n",
    "os.system(f\"rm -r {BLENDER_MEMBANK_ROOT}/*\")"
   ]
  },
  {
   "cell_type": "code",
   "execution_count": null,
   "id": "61ff1afa",
   "metadata": {},
   "outputs": [],
   "source": []
  },
  {
   "cell_type": "code",
   "execution_count": 23,
   "id": "60c4b3df",
   "metadata": {},
   "outputs": [
    {
     "data": {
      "text/plain": [
       "array([ 0.  ,  1.1 ,  2.3 ,  3.3 ,  4.28,  5.28,  6.18,  7.  ,  8.  ,\n",
       "        9.  , 10.  , 11.  , 12.  , 13.  ])"
      ]
     },
     "execution_count": 23,
     "metadata": {},
     "output_type": "execute_result"
    }
   ],
   "source": [
    "moving_average(np.array([0,1.1,2,3.5,4.9,5,6,7,8,9,10,11,12,13]),w=5)"
   ]
  },
  {
   "cell_type": "code",
   "execution_count": null,
   "id": "b45d0a25",
   "metadata": {},
   "outputs": [],
   "source": []
  },
  {
   "cell_type": "code",
   "execution_count": 12,
   "id": "cf353fc7",
   "metadata": {},
   "outputs": [
    {
     "data": {
      "text/plain": [
       "8.995143122098731e-06"
      ]
     },
     "execution_count": 12,
     "metadata": {},
     "output_type": "execute_result"
    }
   ],
   "source": [
    "import math\n",
    "original_angle = .03\n",
    "road_roll = .03\n",
    "new_angle = original_angle - math.atan(road_roll)\n",
    "new_angle"
   ]
  },
  {
   "cell_type": "code",
   "execution_count": 13,
   "id": "e59de56b",
   "metadata": {},
   "outputs": [
    {
     "data": {
      "text/plain": [
       "0.09966865249116204"
      ]
     },
     "execution_count": 13,
     "metadata": {},
     "output_type": "execute_result"
    }
   ],
   "source": [
    "math.atan(.1)"
   ]
  },
  {
   "cell_type": "code",
   "execution_count": 34,
   "id": "826b5ef6",
   "metadata": {},
   "outputs": [
    {
     "data": {
      "text/plain": [
       "[<matplotlib.lines.Line2D at 0x7fec0a2b3790>]"
      ]
     },
     "execution_count": 34,
     "metadata": {},
     "output_type": "execute_result"
    },
    {
     "data": {
      "image/png": "[encoded data removed]",
      "text/plain": [
       "<Figure size 432x288 with 1 Axes>"
      ]
     },
     "metadata": {
      "needs_background": "light"
     },
     "output_type": "display_data"
    }
   ],
   "source": [
    "min_dist_lookup = [ \n",
    "    (6.5, 4.), # 14.5 mph\n",
    "    (8.33, 5.0), #18 mph (speed mps, wp dist m)\n",
    "    (11.11, 6.7), # 24 mph\n",
    "    (13.89, 8.5), # 30 mph\n",
    "    (16.2, 10.1), # 36 mph\n",
    "    (19.44, 12.6), # 43 mph\n",
    "    (22.5, 15.), # 50 mph\n",
    "]\n",
    "\n",
    "min_dist_bps = [x[0] for x in min_dist_lookup]\n",
    "min_dist_vals = [x[1] for x in min_dist_lookup]\n",
    "\n",
    "plt.plot(min_dist_bps, min_dist_vals)\n"
   ]
  },
  {
   "cell_type": "code",
   "execution_count": null,
   "id": "1c206ab8",
   "metadata": {},
   "outputs": [],
   "source": [
    "min_dist_lookup = [ # 3.29\n",
    "    (6.5, 4.), # 14.5 mph\n",
    "    (8.33, 5.1), #18 mph (speed mps, wp dist m)\n",
    "    (11.11, 6.5), # 24 mph\n",
    "    (13.89, 8), # 30 mph\n",
    "    (16.2, 9.3), # 36 mph\n",
    "    (19.44, 11.5), # 43 mph\n",
    "    (22.5, 13.5), # 50 mph\n",
    "]"
   ]
  },
  {
   "cell_type": "code",
   "execution_count": null,
   "id": "a85c18f4",
   "metadata": {},
   "outputs": [],
   "source": []
  },
  {
   "cell_type": "code",
   "execution_count": 7,
   "id": "6b3ef82e",
   "metadata": {},
   "outputs": [
    {
     "data": {
      "text/plain": [
       "0.5463024898437905"
      ]
     },
     "execution_count": 7,
     "metadata": {},
     "output_type": "execute_result"
    }
   ],
   "source": [
    "np.tan(.5)"
   ]
  },
  {
   "cell_type": "code",
   "execution_count": 54,
   "id": "02c44297",
   "metadata": {},
   "outputs": [
    {
     "data": {
      "text/plain": [
       "0.04967111111111111"
      ]
     },
     "execution_count": 54,
     "metadata": {},
     "output_type": "execute_result"
    }
   ],
   "source": [
    "tire_angle = .4\n",
    "WHEELBASE = 1.8 #2.66\n",
    "speed = mph_to_mps(10)\n",
    "\n",
    "curvature = tire_angle/WHEELBASE # rad/m \n",
    "vehicle_turn_rate_sec = curvature * speed # rad/sec\n",
    "future_vehicle_heading = vehicle_turn_rate_sec * .05\n",
    "future_vehicle_heading"
   ]
  },
  {
   "cell_type": "code",
   "execution_count": 55,
   "id": "d46d4e94",
   "metadata": {},
   "outputs": [
    {
     "data": {
      "text/plain": [
       "0.22352"
      ]
     },
     "execution_count": 55,
     "metadata": {},
     "output_type": "execute_result"
    }
   ],
   "source": [
    "dist_car_travelled_during_lag = speed / 20.\n",
    "dist_car_travelled_during_lag"
   ]
  },
  {
   "cell_type": "code",
   "execution_count": 56,
   "id": "0aa2f880",
   "metadata": {},
   "outputs": [
    {
     "data": {
      "text/plain": [
       "4.5"
      ]
     },
     "execution_count": 56,
     "metadata": {},
     "output_type": "execute_result"
    }
   ],
   "source": [
    "r = dist_car_travelled_during_lag / future_vehicle_heading # radius of the circle around which ego is turning m/rad\n",
    "r"
   ]
  },
  {
   "cell_type": "code",
   "execution_count": 57,
   "id": "aa4ab8ad",
   "metadata": {},
   "outputs": [
    {
     "data": {
      "text/plain": [
       "(0.005550102127081402, 0.22342809919549694)"
      ]
     },
     "execution_count": 57,
     "metadata": {},
     "output_type": "execute_result"
    }
   ],
   "source": [
    "# correct way\n",
    "future_vehicle_y = np.sin(future_vehicle_heading)*r\n",
    "future_vehicle_x = r - (np.cos(future_vehicle_heading)*r)\n",
    "future_vehicle_x, future_vehicle_y"
   ]
  },
  {
   "cell_type": "code",
   "execution_count": 58,
   "id": "06f8c4f4",
   "metadata": {},
   "outputs": [
    {
     "data": {
      "text/plain": [
       "(0.2234510694365123, 0.005550672723098684)"
      ]
     },
     "execution_count": 58,
     "metadata": {},
     "output_type": "execute_result"
    }
   ],
   "source": [
    "a = future_vehicle_heading/2\n",
    "x = dist_car_travelled_during_lag*np.cos(a)\n",
    "y = (dist_car_travelled_during_lag*np.sin(a))\n",
    "x, y"
   ]
  },
  {
   "cell_type": "code",
   "execution_count": null,
   "id": "ec25eeef",
   "metadata": {},
   "outputs": [],
   "source": []
  },
  {
   "cell_type": "code",
   "execution_count": null,
   "id": "a3bd1aaa",
   "metadata": {},
   "outputs": [],
   "source": []
  },
  {
   "cell_type": "code",
   "execution_count": 11,
   "id": "47068662",
   "metadata": {},
   "outputs": [
    {
     "data": {
      "text/plain": [
       "0.6153846153846154"
      ]
     },
     "execution_count": 11,
     "metadata": {},
     "output_type": "execute_result"
    }
   ],
   "source": [
    "4/6.5"
   ]
  },
  {
   "cell_type": "code",
   "execution_count": null,
   "id": "3ab730e2",
   "metadata": {},
   "outputs": [],
   "source": []
  },
  {
   "cell_type": "code",
   "execution_count": 19,
   "id": "ff77dbe7",
   "metadata": {},
   "outputs": [],
   "source": [
    "ACCELERATION_DUE_TO_GRAVITY = 9.8\n",
    "roll = .03\n",
    "sf = 1/401\n",
    "u = 20\n",
    "\n",
    "m = 1700\n",
    "l = 2.66\n",
    "aF = l * .41\n",
    "aR = l - aF\n",
    "tire_stiffness_factor = .677\n",
    "cF, cR = tire_stiffness_factor, tire_stiffness_factor\n",
    "sf = m * (cF*aF - cR*aR) / (l**2 * cF * cR)"
   ]
  },
  {
   "cell_type": "code",
   "execution_count": 22,
   "id": "c79526a1",
   "metadata": {},
   "outputs": [
    {
     "data": {
      "text/plain": [
       "-0.3241476"
      ]
     },
     "execution_count": 22,
     "metadata": {},
     "output_type": "execute_result"
    }
   ],
   "source": [
    "(cF*aF - cR*aR)"
   ]
  },
  {
   "cell_type": "code",
   "execution_count": 20,
   "id": "712d041e",
   "metadata": {},
   "outputs": [
    {
     "data": {
      "text/plain": [
       "-169.92259081973765"
      ]
     },
     "execution_count": 20,
     "metadata": {},
     "output_type": "execute_result"
    }
   ],
   "source": [
    "sf"
   ]
  },
  {
   "cell_type": "code",
   "execution_count": 21,
   "id": "04798421",
   "metadata": {},
   "outputs": [
    {
     "data": {
      "text/plain": [
       "-0.0007349891864115468"
      ]
     },
     "execution_count": 21,
     "metadata": {},
     "output_type": "execute_result"
    }
   ],
   "source": [
    "roll_compensation = (ACCELERATION_DUE_TO_GRAVITY * roll) / ((1 / sf) - u**2)\n",
    "#roll_compensation = (ACCELERATION_DUE_TO_GRAVITY * roll) / u**2\n",
    "roll_compensation"
   ]
  },
  {
   "cell_type": "code",
   "execution_count": null,
   "id": "7e2fbe8d",
   "metadata": {},
   "outputs": [],
   "source": []
  },
  {
   "cell_type": "code",
   "execution_count": 197,
   "id": "2e45bb0d",
   "metadata": {},
   "outputs": [
    {
     "data": {
      "text/plain": [
       "0.0019551"
      ]
     },
     "execution_count": 197,
     "metadata": {},
     "output_type": "execute_result"
    }
   ],
   "source": [
    "roll_compensation_angles = CRV_WHEELBASE * roll_compensation\n",
    "roll_compensation_angles"
   ]
  },
  {
   "cell_type": "code",
   "execution_count": 198,
   "id": "679d6377",
   "metadata": {},
   "outputs": [
    {
     "data": {
      "text/plain": [
       "(14.18929668510425, 14.934187811096537)"
      ]
     },
     "execution_count": 198,
     "metadata": {},
     "output_type": "execute_result"
    }
   ],
   "source": [
    "from traj_utils import *\n",
    "tire_angles_to_max_speeds(.02), tire_angles_to_max_speeds(.02-roll_compensation_angles)"
   ]
  },
  {
   "cell_type": "code",
   "execution_count": null,
   "id": "108684f1",
   "metadata": {},
   "outputs": [],
   "source": []
  },
  {
   "cell_type": "code",
   "execution_count": 3,
   "id": "4881881c",
   "metadata": {},
   "outputs": [],
   "source": [
    "# set lr\n",
    "set_lr(1e-4)"
   ]
  },
  {
   "cell_type": "code",
   "execution_count": 37,
   "id": "e2fe00c0",
   "metadata": {},
   "outputs": [
    {
     "data": {
      "text/plain": [
       "40"
      ]
     },
     "execution_count": 37,
     "metadata": {},
     "output_type": "execute_result"
    }
   ],
   "source": [
    "dataloader_root = f\"{BLENDER_MEMBANK_ROOT}/dataloader_06\"\n",
    "current_run = np.load(f\"{dataloader_root}/run_counter.npy\")[0]\n",
    "current_run"
   ]
  },
  {
   "cell_type": "code",
   "execution_count": null,
   "id": "0e7dd1a5",
   "metadata": {},
   "outputs": [],
   "source": []
  }
 ],
 "metadata": {
  "kernelspec": {
   "display_name": "Python 3 (ipykernel)",
   "language": "python",
   "name": "python3"
  },
  "language_info": {
   "codemirror_mode": {
    "name": "ipython",
    "version": 3
   },
   "file_extension": ".py",
   "mimetype": "text/x-python",
   "name": "python",
   "nbconvert_exporter": "python",
   "pygments_lexer": "ipython3",
   "version": "3.8.11"
  },
  "varInspector": {
   "cols": {
    "lenName": 16,
    "lenType": 16,
    "lenVar": 40
   },
   "kernels_config": {
    "python": {
     "delete_cmd_postfix": "",
     "delete_cmd_prefix": "del ",
     "library": "var_list.py",
     "varRefreshCmd": "print(var_dic_list())"
    },
    "r": {
     "delete_cmd_postfix": ") ",
     "delete_cmd_prefix": "rm(",
     "library": "var_list.r",
     "varRefreshCmd": "cat(var_dic_list()) "
    }
   },
   "types_to_exclude": [
    "module",
    "function",
    "builtin_function_or_method",
    "instance",
    "_Feature"
   ],
   "window_display": false
  }
 },
 "nbformat": 4,
 "nbformat_minor": 5
}
