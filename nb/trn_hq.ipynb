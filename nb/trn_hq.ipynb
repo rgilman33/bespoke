{
 "cells": [
  {
   "cell_type": "code",
   "execution_count": 1,
   "id": "201e27ee",
   "metadata": {},
   "outputs": [],
   "source": [
    "%matplotlib inline\n",
    "%load_ext autoreload\n",
    "%autoreload 2\n",
    "\n",
    "import sys\n",
    "sys.path.append('/home/beans/bespoke')\n",
    "\n",
    "from constants import *\n",
    "from imports import *\n",
    "from traj_utils import *"
   ]
  },
  {
   "cell_type": "code",
   "execution_count": 2,
   "id": "20d45514",
   "metadata": {
    "scrolled": true
   },
   "outputs": [
    {
     "data": {
      "text/plain": [
       "['lane_width',\n",
       " 'rd_is_lined',\n",
       " 'is_only_yellow_lined',\n",
       " 'wide_shoulder_add',\n",
       " 'maps_noise_mult',\n",
       " 'roll_noise_mult']"
      ]
     },
     "execution_count": 2,
     "metadata": {},
     "output_type": "execute_result"
    }
   ],
   "source": [
    "EPISODE_PROPS"
   ]
  },
  {
   "cell_type": "code",
   "execution_count": null,
   "id": "90f94d43",
   "metadata": {},
   "outputs": [],
   "source": []
  },
  {
   "cell_type": "code",
   "execution_count": 4,
   "id": "43afc334",
   "metadata": {},
   "outputs": [
    {
     "data": {
      "text/plain": [
       "5.0"
      ]
     },
     "execution_count": 4,
     "metadata": {},
     "output_type": "execute_result"
    }
   ],
   "source": [
    "get_target_wp_dist(0)"
   ]
  },
  {
   "cell_type": "code",
   "execution_count": 5,
   "id": "9899d156",
   "metadata": {},
   "outputs": [
    {
     "data": {
      "text/plain": [
       "4.4704"
      ]
     },
     "execution_count": 5,
     "metadata": {},
     "output_type": "execute_result"
    }
   ],
   "source": [
    "mph_to_mps(10)"
   ]
  },
  {
   "cell_type": "code",
   "execution_count": 6,
   "id": "53ab6314",
   "metadata": {},
   "outputs": [
    {
     "name": "stdout",
     "output_type": "stream",
     "text": [
      "CPU times: user 3.75 ms, sys: 0 ns, total: 3.75 ms\n",
      "Wall time: 3.69 ms\n"
     ]
    },
    {
     "data": {
      "text/plain": [
       "(41.44, 1.84)"
      ]
     },
     "execution_count": 6,
     "metadata": {},
     "output_type": "execute_result"
    }
   ],
   "source": [
    "%%time\n",
    "get_obs_per_sec()"
   ]
  },
  {
   "cell_type": "code",
   "execution_count": 7,
   "id": "e638e0a1",
   "metadata": {},
   "outputs": [
    {
     "name": "stdout",
     "output_type": "stream",
     "text": [
      "CPU times: user 443 µs, sys: 0 ns, total: 443 µs\n",
      "Wall time: 522 µs\n"
     ]
    },
    {
     "data": {
      "text/plain": [
       "[]"
      ]
     },
     "execution_count": 7,
     "metadata": {},
     "output_type": "execute_result"
    }
   ],
   "source": [
    "%%time\n",
    "sorted(glob.glob(f\"{BLENDER_MEMBANK_ROOT}/dataloader_01/run_1275/aux/*\"))"
   ]
  },
  {
   "cell_type": "code",
   "execution_count": 29,
   "id": "f7551f8e",
   "metadata": {
    "scrolled": true
   },
   "outputs": [
    {
     "name": "stdout",
     "output_type": "stream",
     "text": [
      "Obs per sec 23.57 || render time 51.53 || init time 9.63\n",
      "Obs per sec 25.34 || render time 43.68 || init time 6.36\n",
      "Obs per sec 22.59 || render time 52.85 || init time 11.51\n",
      "Obs per sec 23.9 || render time 48.75 || init time 4.68\n",
      "Obs per sec 23.0 || render time 54.73 || init time 10.58\n",
      "Obs per sec 27.14 || render time 40.83 || init time 5.46\n",
      "Obs per sec 23.87 || render time 51.09 || init time 8.42\n",
      "Obs per sec 27.59 || render time 41.0 || init time 5.36\n",
      "Obs per sec 24.66 || render time 49.16 || init time 10.48\n",
      "Obs per sec 24.81 || render time 44.73 || init time 6.55\n",
      "Obs per sec 24.12 || render time 51.16 || init time 6.03\n",
      "Obs per sec 25.3 || render time 44.45 || init time 7.46\n",
      "Obs per sec 23.9 || render time 49.66 || init time 5.53\n",
      "Obs per sec 24.0 || render time 48.49 || init time 5.71\n",
      "Obs per sec 24.3 || render time 47.13 || init time 6.22\n"
     ]
    },
    {
     "ename": "KeyboardInterrupt",
     "evalue": "",
     "output_type": "error",
     "traceback": [
      "\u001b[0;31m---------------------------------------------------------------------------\u001b[0m",
      "\u001b[0;31mKeyboardInterrupt\u001b[0m                         Traceback (most recent call last)",
      "\u001b[0;32m/tmp/ipykernel_1296053/4224091732.py\u001b[0m in \u001b[0;36m<module>\u001b[0;34m\u001b[0m\n\u001b[1;32m      4\u001b[0m     \u001b[0mprint\u001b[0m\u001b[0;34m(\u001b[0m\u001b[0;34mf\"Obs per sec {_o} || render time {get_render_time()[0]} || init time {get_init_time()[0]}\"\u001b[0m \u001b[0;34m)\u001b[0m\u001b[0;34m\u001b[0m\u001b[0;34m\u001b[0m\u001b[0m\n\u001b[1;32m      5\u001b[0m     \u001b[0mo\u001b[0m\u001b[0;34m.\u001b[0m\u001b[0mappend\u001b[0m\u001b[0;34m(\u001b[0m\u001b[0m_o\u001b[0m\u001b[0;34m)\u001b[0m\u001b[0;34m\u001b[0m\u001b[0;34m\u001b[0m\u001b[0m\n\u001b[0;32m----> 6\u001b[0;31m     \u001b[0mtime\u001b[0m\u001b[0;34m.\u001b[0m\u001b[0msleep\u001b[0m\u001b[0;34m(\u001b[0m\u001b[0;36m60\u001b[0m\u001b[0;34m*\u001b[0m\u001b[0;36m1\u001b[0m\u001b[0;34m)\u001b[0m\u001b[0;34m\u001b[0m\u001b[0;34m\u001b[0m\u001b[0m\n\u001b[0m",
      "\u001b[0;31mKeyboardInterrupt\u001b[0m: "
     ]
    }
   ],
   "source": [
    "o = []\n",
    "for i in range(10_000):\n",
    "    _o = get_obs_per_sec()[0]\n",
    "    print(f\"Obs per sec {_o} || render time {get_render_time()[0]} || init time {get_init_time()[0]}\" )\n",
    "    o.append(_o)\n",
    "    time.sleep(60*1)"
   ]
  },
  {
   "cell_type": "code",
   "execution_count": 30,
   "id": "28ba6228",
   "metadata": {},
   "outputs": [
    {
     "data": {
      "text/plain": [
       "24.72777777777778"
      ]
     },
     "execution_count": 30,
     "metadata": {},
     "output_type": "execute_result"
    }
   ],
   "source": [
    "sum(o[6:])/len(o[6:]) # 16 w bev vs 26 wout. Now wout extra call to context 28, but that might be bc ran longer"
   ]
  },
  {
   "cell_type": "code",
   "execution_count": null,
   "id": "71f33f8d",
   "metadata": {},
   "outputs": [],
   "source": [
    "# 31.5 no bev. Bev half the time 24.7"
   ]
  },
  {
   "cell_type": "code",
   "execution_count": 4,
   "id": "75dbd660",
   "metadata": {
    "scrolled": true
   },
   "outputs": [
    {
     "name": "stdout",
     "output_type": "stream",
     "text": [
      "Obs per sec 12.83 || render time 99.53 || init time 9.48\n"
     ]
    },
    {
     "ename": "KeyboardInterrupt",
     "evalue": "",
     "output_type": "error",
     "traceback": [
      "\u001b[0;31m---------------------------------------------------------------------------\u001b[0m",
      "\u001b[0;31mKeyboardInterrupt\u001b[0m                         Traceback (most recent call last)",
      "\u001b[0;32m/tmp/ipykernel_768200/3853816916.py\u001b[0m in \u001b[0;36m<module>\u001b[0;34m\u001b[0m\n\u001b[1;32m      1\u001b[0m \u001b[0;32mfor\u001b[0m \u001b[0mi\u001b[0m \u001b[0;32min\u001b[0m \u001b[0mrange\u001b[0m\u001b[0;34m(\u001b[0m\u001b[0;36m10_000\u001b[0m\u001b[0;34m)\u001b[0m\u001b[0;34m:\u001b[0m\u001b[0;34m\u001b[0m\u001b[0;34m\u001b[0m\u001b[0m\n\u001b[1;32m      2\u001b[0m     \u001b[0mprint\u001b[0m\u001b[0;34m(\u001b[0m\u001b[0;34mf\"Obs per sec {get_obs_per_sec()[0]} || render time {get_render_time()[0]} || init time {get_init_time()[0]}\"\u001b[0m \u001b[0;34m)\u001b[0m\u001b[0;34m\u001b[0m\u001b[0;34m\u001b[0m\u001b[0m\n\u001b[0;32m----> 3\u001b[0;31m     \u001b[0mtime\u001b[0m\u001b[0;34m.\u001b[0m\u001b[0msleep\u001b[0m\u001b[0;34m(\u001b[0m\u001b[0;36m60\u001b[0m\u001b[0;34m*\u001b[0m\u001b[0;36m1\u001b[0m\u001b[0;34m)\u001b[0m\u001b[0;34m\u001b[0m\u001b[0;34m\u001b[0m\u001b[0m\n\u001b[0m",
      "\u001b[0;31mKeyboardInterrupt\u001b[0m: "
     ]
    }
   ],
   "source": [
    "for i in range(10_000):\n",
    "    print(f\"Obs per sec {get_obs_per_sec()[0]} || render time {get_render_time()[0]} || init time {get_init_time()[0]}\" )\n",
    "    time.sleep(60*1)"
   ]
  },
  {
   "cell_type": "code",
   "execution_count": null,
   "id": "b9c8d351",
   "metadata": {},
   "outputs": [],
   "source": []
  },
  {
   "cell_type": "code",
   "execution_count": 14,
   "id": "9a390683",
   "metadata": {},
   "outputs": [],
   "source": [
    "seq_len = 5\n",
    "mask = (torch.triu(torch.ones(seq_len, seq_len)) != 1).transpose(0, 1).to(\"cuda\")"
   ]
  },
  {
   "cell_type": "code",
   "execution_count": 15,
   "id": "ddb239ee",
   "metadata": {},
   "outputs": [
    {
     "data": {
      "text/plain": [
       "tensor([[False,  True,  True,  True,  True],\n",
       "        [False, False,  True,  True,  True],\n",
       "        [False, False, False,  True,  True],\n",
       "        [False, False, False, False,  True],\n",
       "        [False, False, False, False, False]], device='cuda:0')"
      ]
     },
     "execution_count": 15,
     "metadata": {},
     "output_type": "execute_result"
    }
   ],
   "source": [
    "mask"
   ]
  },
  {
   "cell_type": "code",
   "execution_count": 16,
   "id": "0369714b",
   "metadata": {},
   "outputs": [
    {
     "data": {
      "text/plain": [
       "tensor([[False,  True,  True,  True,  True],\n",
       "        [False, False,  True,  True,  True],\n",
       "        [False, False, False,  True,  True],\n",
       "        [False, False, False, False,  True],\n",
       "        [False, False, False, False, False]])"
      ]
     },
     "execution_count": 16,
     "metadata": {},
     "output_type": "execute_result"
    }
   ],
   "source": [
    "mask = torch.triu(torch.ones(seq_len, seq_len), diagonal=1).bool()\n",
    "mask"
   ]
  },
  {
   "cell_type": "code",
   "execution_count": 4,
   "id": "8e33157c",
   "metadata": {},
   "outputs": [],
   "source": [
    "# Shut down trainer\n",
    "set_trainer_should_stop(True)"
   ]
  },
  {
   "cell_type": "code",
   "execution_count": null,
   "id": "ad1ee59d",
   "metadata": {},
   "outputs": [],
   "source": []
  },
  {
   "cell_type": "code",
   "execution_count": 31,
   "id": "596d5c6b",
   "metadata": {},
   "outputs": [],
   "source": [
    "# Shut down datagen\n",
    "set_should_stop(True)"
   ]
  },
  {
   "cell_type": "code",
   "execution_count": null,
   "id": "e04bee69",
   "metadata": {},
   "outputs": [],
   "source": []
  },
  {
   "cell_type": "code",
   "execution_count": null,
   "id": "e62bb110",
   "metadata": {},
   "outputs": [],
   "source": []
  },
  {
   "cell_type": "code",
   "execution_count": 28,
   "id": "4eb1f50e",
   "metadata": {},
   "outputs": [
    {
     "name": "stdout",
     "output_type": "stream",
     "text": [
      "CPU times: user 544 µs, sys: 485 µs, total: 1.03 ms\n",
      "Wall time: 136 ms\n"
     ]
    },
    {
     "data": {
      "text/plain": [
       "0"
      ]
     },
     "execution_count": 28,
     "metadata": {},
     "output_type": "execute_result"
    }
   ],
   "source": [
    "%%time\n",
    "\n",
    "# DANGER Delete blender membank\n",
    "os.system(f\"rm -r {BLENDER_MEMBANK_ROOT}/*\")"
   ]
  },
  {
   "cell_type": "code",
   "execution_count": null,
   "id": "3f772cd4",
   "metadata": {},
   "outputs": [],
   "source": []
  },
  {
   "cell_type": "code",
   "execution_count": 4,
   "id": "a227a41d",
   "metadata": {},
   "outputs": [
    {
     "data": {
      "text/plain": [
       "['has_stop',\n",
       " 'stop_dist',\n",
       " 'has_lead',\n",
       " 'lead_dist',\n",
       " 'lead_speed',\n",
       " 'dagger_shift',\n",
       " 'lane_width',\n",
       " 'rd_is_lined',\n",
       " 'left_turn',\n",
       " 'right_turn']"
      ]
     },
     "execution_count": 4,
     "metadata": {},
     "output_type": "execute_result"
    }
   ],
   "source": [
    "AUX_TARGET_PROPS"
   ]
  },
  {
   "cell_type": "code",
   "execution_count": 25,
   "id": "3dae56ea",
   "metadata": {},
   "outputs": [],
   "source": [
    "t = torch.randn((3,4))\n",
    "#t[0][0] = torch.nan"
   ]
  },
  {
   "cell_type": "code",
   "execution_count": 26,
   "id": "d9bce873",
   "metadata": {},
   "outputs": [
    {
     "data": {
      "text/plain": [
       "tensor([[ 0.2975, -0.2322,  0.6170, -1.9155],\n",
       "        [ 0.2445, -0.2613,  0.3131, -1.1126],\n",
       "        [ 0.0133,  1.9001,  0.7474,  0.5937]])"
      ]
     },
     "execution_count": 26,
     "metadata": {},
     "output_type": "execute_result"
    }
   ],
   "source": [
    "t"
   ]
  },
  {
   "cell_type": "code",
   "execution_count": 27,
   "id": "5d4565de",
   "metadata": {},
   "outputs": [],
   "source": [
    "v, ix = torch.cummax(t, -1)"
   ]
  },
  {
   "cell_type": "code",
   "execution_count": 28,
   "id": "ba47f893",
   "metadata": {},
   "outputs": [
    {
     "data": {
      "text/plain": [
       "tensor([[0.2975, 0.2975, 0.6170, 0.6170],\n",
       "        [0.2445, 0.2445, 0.3131, 0.3131],\n",
       "        [0.0133, 1.9001, 1.9001, 1.9001]])"
      ]
     },
     "execution_count": 28,
     "metadata": {},
     "output_type": "execute_result"
    }
   ],
   "source": [
    "v"
   ]
  },
  {
   "cell_type": "code",
   "execution_count": 29,
   "id": "e085dca2",
   "metadata": {},
   "outputs": [
    {
     "data": {
      "text/plain": [
       "array([[0.2974836 , 0.2974836 , 0.61702055, 0.61702055],\n",
       "       [0.24450064, 0.24450064, 0.31308305, 0.31308305],\n",
       "       [0.0132695 , 1.900104  , 1.900104  , 1.900104  ]], dtype=float32)"
      ]
     },
     "execution_count": 29,
     "metadata": {},
     "output_type": "execute_result"
    }
   ],
   "source": [
    "v.numpy()"
   ]
  },
  {
   "cell_type": "code",
   "execution_count": 30,
   "id": "7221a186",
   "metadata": {},
   "outputs": [
    {
     "data": {
      "text/plain": [
       "torch.Size([3, 4])"
      ]
     },
     "execution_count": 30,
     "metadata": {},
     "output_type": "execute_result"
    }
   ],
   "source": [
    "t.shape"
   ]
  },
  {
   "cell_type": "code",
   "execution_count": 31,
   "id": "a982b970",
   "metadata": {},
   "outputs": [
    {
     "data": {
      "text/plain": [
       "torch.Size([3, 4, 30])"
      ]
     },
     "execution_count": 31,
     "metadata": {},
     "output_type": "execute_result"
    }
   ],
   "source": [
    "t.unsqueeze(-1).expand((-1,-1,N_WPS)).shape"
   ]
  },
  {
   "cell_type": "code",
   "execution_count": 32,
   "id": "f65c7591",
   "metadata": {},
   "outputs": [
    {
     "data": {
      "text/plain": [
       "torch.float32"
      ]
     },
     "execution_count": 32,
     "metadata": {},
     "output_type": "execute_result"
    }
   ],
   "source": [
    "t.dtype"
   ]
  },
  {
   "cell_type": "code",
   "execution_count": 33,
   "id": "665b8dbd",
   "metadata": {},
   "outputs": [
    {
     "data": {
      "text/plain": [
       "tensor(0.2445)"
      ]
     },
     "execution_count": 33,
     "metadata": {},
     "output_type": "execute_result"
    }
   ],
   "source": [
    "t.median()"
   ]
  },
  {
   "cell_type": "code",
   "execution_count": 14,
   "id": "a9c4fb2e",
   "metadata": {},
   "outputs": [
    {
     "data": {
      "text/plain": [
       "tensor([[    nan, -1.5429,  0.1730,  0.5194],\n",
       "        [ 0.1227,  0.5840, -0.0233,  1.5951],\n",
       "        [ 0.2951,  0.9193,  0.8300,  0.7739]])"
      ]
     },
     "execution_count": 14,
     "metadata": {},
     "output_type": "execute_result"
    }
   ],
   "source": [
    "torch.clamp(t, -10, 10)"
   ]
  },
  {
   "cell_type": "code",
   "execution_count": 16,
   "id": "02d6aca3",
   "metadata": {},
   "outputs": [
    {
     "data": {
      "text/plain": [
       "tensor([[False, False,  True,  True],\n",
       "        [ True,  True, False,  True],\n",
       "        [ True,  True,  True,  True]], device='cuda:0')"
      ]
     },
     "execution_count": 16,
     "metadata": {},
     "output_type": "execute_result"
    }
   ],
   "source": [
    "(t > 0) & (t < 2)"
   ]
  },
  {
   "cell_type": "code",
   "execution_count": 6,
   "id": "27b948d4",
   "metadata": {},
   "outputs": [
    {
     "data": {
      "text/plain": [
       "tensor([[    nan,  0.0000, -0.7175,  0.0000],\n",
       "        [-0.2323, -1.4721,  0.0000, -0.9467],\n",
       "        [-0.7206,  0.0000, -0.6977,  0.0000]])"
      ]
     },
     "execution_count": 6,
     "metadata": {},
     "output_type": "execute_result"
    }
   ],
   "source": [
    "~(t>0)*t"
   ]
  },
  {
   "cell_type": "code",
   "execution_count": 15,
   "id": "8455e40d",
   "metadata": {},
   "outputs": [
    {
     "data": {
      "text/plain": [
       "array([ 0.14391463,  0.45031021, -1.03211134,  0.53509931, -1.09720751])"
      ]
     },
     "execution_count": 15,
     "metadata": {},
     "output_type": "execute_result"
    }
   ],
   "source": [
    "a = np.random.randn(5)\n",
    "a"
   ]
  },
  {
   "cell_type": "code",
   "execution_count": 21,
   "id": "22cf3b40",
   "metadata": {},
   "outputs": [
    {
     "data": {
      "text/plain": [
       "array([], dtype=int64)"
      ]
     },
     "execution_count": 21,
     "metadata": {},
     "output_type": "execute_result"
    }
   ],
   "source": [
    "np.where(a<-40)[0]"
   ]
  },
  {
   "cell_type": "code",
   "execution_count": 28,
   "id": "41ce9770",
   "metadata": {},
   "outputs": [],
   "source": [
    "# Shut down loader\n",
    "#set_loader_should_stop(True)"
   ]
  },
  {
   "cell_type": "code",
   "execution_count": 11,
   "id": "d62396c9",
   "metadata": {},
   "outputs": [],
   "source": [
    "a = np.zeros(10)"
   ]
  },
  {
   "cell_type": "code",
   "execution_count": 13,
   "id": "d68c2fc9",
   "metadata": {},
   "outputs": [
    {
     "data": {
      "text/plain": [
       "array([0., 0., 0., 1., 1., 0., 0., 0., 0., 0.])"
      ]
     },
     "execution_count": 13,
     "metadata": {},
     "output_type": "execute_result"
    }
   ],
   "source": [
    "a[3] = 1\n",
    "a[4] = 1\n",
    "a"
   ]
  },
  {
   "cell_type": "code",
   "execution_count": 16,
   "id": "2a62ab64",
   "metadata": {},
   "outputs": [
    {
     "data": {
      "text/plain": [
       "4"
      ]
     },
     "execution_count": 16,
     "metadata": {},
     "output_type": "execute_result"
    }
   ],
   "source": [
    "np.where(a==1)[0][-1]"
   ]
  },
  {
   "cell_type": "code",
   "execution_count": null,
   "id": "5d4f687b",
   "metadata": {},
   "outputs": [],
   "source": []
  },
  {
   "cell_type": "code",
   "execution_count": 14,
   "id": "1a6ef23b",
   "metadata": {},
   "outputs": [
    {
     "data": {
      "text/plain": [
       "[1, 2]"
      ]
     },
     "execution_count": 14,
     "metadata": {},
     "output_type": "execute_result"
    }
   ],
   "source": [
    "[1,2,3][:-1]"
   ]
  },
  {
   "cell_type": "code",
   "execution_count": 2,
   "id": "0dcf4dab",
   "metadata": {},
   "outputs": [
    {
     "data": {
      "text/plain": [
       "'/media/ssd2/blender_membank_frameskip'"
      ]
     },
     "execution_count": 2,
     "metadata": {},
     "output_type": "execute_result"
    }
   ],
   "source": [
    "BLENDER_MEMBANK_ROOT"
   ]
  },
  {
   "cell_type": "code",
   "execution_count": 18,
   "id": "4428d646",
   "metadata": {},
   "outputs": [
    {
     "data": {
      "text/plain": [
       "array([[ 1.36844168,  0.6310768 ,  0.17914825, -1.80550664,  0.64492095],\n",
       "       [-0.06958051,  0.34388669, -0.08081766,  0.03122397, -1.21903979],\n",
       "       [-0.11555772,  1.17399775, -1.4737343 ,  0.64077041,  0.16667692]])"
      ]
     },
     "execution_count": 18,
     "metadata": {},
     "output_type": "execute_result"
    }
   ],
   "source": [
    "a = np.random.randn(3,5)\n",
    "a"
   ]
  },
  {
   "cell_type": "code",
   "execution_count": 19,
   "id": "4d5bdb5d",
   "metadata": {},
   "outputs": [],
   "source": [
    "a[a<0] *= 10"
   ]
  },
  {
   "cell_type": "code",
   "execution_count": 20,
   "id": "bd937292",
   "metadata": {},
   "outputs": [
    {
     "data": {
      "text/plain": [
       "array([[  1.36844168,   0.6310768 ,   0.17914825, -18.05506636,\n",
       "          0.64492095],\n",
       "       [ -0.69580511,   0.34388669,  -0.80817657,   0.03122397,\n",
       "        -12.19039788],\n",
       "       [ -1.15557718,   1.17399775, -14.737343  ,   0.64077041,\n",
       "          0.16667692]])"
      ]
     },
     "execution_count": 20,
     "metadata": {},
     "output_type": "execute_result"
    }
   ],
   "source": [
    "a"
   ]
  },
  {
   "cell_type": "code",
   "execution_count": 22,
   "id": "7f4c8764",
   "metadata": {},
   "outputs": [
    {
     "data": {
      "text/plain": [
       "array([[1.        , 0.6310768 , 0.17914825, 0.        , 0.64492095],\n",
       "       [0.        , 0.34388669, 0.        , 0.03122397, 0.        ],\n",
       "       [0.        , 1.        , 0.        , 0.64077041, 0.16667692]])"
      ]
     },
     "execution_count": 22,
     "metadata": {},
     "output_type": "execute_result"
    }
   ],
   "source": [
    "np.clip(a, 0, 1)"
   ]
  },
  {
   "cell_type": "code",
   "execution_count": null,
   "id": "57e8173f",
   "metadata": {},
   "outputs": [],
   "source": []
  },
  {
   "cell_type": "code",
   "execution_count": 2,
   "id": "61ff1afa",
   "metadata": {},
   "outputs": [
    {
     "data": {
      "text/plain": [
       "0"
      ]
     },
     "execution_count": 2,
     "metadata": {},
     "output_type": "execute_result"
    }
   ],
   "source": [
    "# Remove SSD trash\n",
    "os.system(f\"rm -r {SSD_ROOT}/.Trash-1000/files/*\")"
   ]
  },
  {
   "cell_type": "code",
   "execution_count": 23,
   "id": "60c4b3df",
   "metadata": {},
   "outputs": [
    {
     "data": {
      "text/plain": [
       "array([ 0.  ,  1.1 ,  2.3 ,  3.3 ,  4.28,  5.28,  6.18,  7.  ,  8.  ,\n",
       "        9.  , 10.  , 11.  , 12.  , 13.  ])"
      ]
     },
     "execution_count": 23,
     "metadata": {},
     "output_type": "execute_result"
    }
   ],
   "source": [
    "moving_average(np.array([0,1.1,2,3.5,4.9,5,6,7,8,9,10,11,12,13]),w=5)"
   ]
  },
  {
   "cell_type": "code",
   "execution_count": null,
   "id": "b45d0a25",
   "metadata": {},
   "outputs": [],
   "source": []
  },
  {
   "cell_type": "code",
   "execution_count": 12,
   "id": "cf353fc7",
   "metadata": {},
   "outputs": [
    {
     "data": {
      "text/plain": [
       "8.995143122098731e-06"
      ]
     },
     "execution_count": 12,
     "metadata": {},
     "output_type": "execute_result"
    }
   ],
   "source": [
    "import math\n",
    "original_angle = .03\n",
    "road_roll = .03\n",
    "new_angle = original_angle - math.atan(road_roll)\n",
    "new_angle"
   ]
  },
  {
   "cell_type": "code",
   "execution_count": 13,
   "id": "e59de56b",
   "metadata": {},
   "outputs": [
    {
     "data": {
      "text/plain": [
       "0.09966865249116204"
      ]
     },
     "execution_count": 13,
     "metadata": {},
     "output_type": "execute_result"
    }
   ],
   "source": [
    "math.atan(.1)"
   ]
  },
  {
   "cell_type": "code",
   "execution_count": 12,
   "id": "826b5ef6",
   "metadata": {},
   "outputs": [
    {
     "data": {
      "text/plain": [
       "[<matplotlib.lines.Line2D at 0x7fc052888d90>]"
      ]
     },
     "execution_count": 12,
     "metadata": {},
     "output_type": "execute_result"
    },
    {
     "data": {
      "image/png": "[encoded data removed]",
      "text/plain": [
       "<Figure size 432x288 with 1 Axes>"
      ]
     },
     "metadata": {
      "needs_background": "light"
     },
     "output_type": "display_data"
    }
   ],
   "source": [
    "\"\"\"min_dist_lookup = [ \n",
    "    (6.5, 4.), # 14.5 mph\n",
    "    (8.33, 5.0), #18 mph (speed mps, wp dist m)\n",
    "    (11.11, 6.7), # 24 mph\n",
    "    (13.89, 8.5), # 30 mph\n",
    "    (16.2, 10.1), # 36 mph\n",
    "    (19.44, 12.6), # 43 mph\n",
    "    (22.5, 15.), # 50 mph\n",
    "]\"\"\"\n",
    "min_dist_lookup = [ \n",
    "    (6.5, 5.), # 14.5 mph\n",
    "    (8.33, 6.0), #18 mph (speed mps, wp dist m)\n",
    "    (11.11, 7.8), # 24 mph\n",
    "    (13.89, 9.9), # 30 mph\n",
    "    (16.2, 11.9), # 36 mph\n",
    "    (19.44, 15), # 43 mph\n",
    "    (22.5, 18.), # 50 mph\n",
    "]\n",
    "\n",
    "min_dist_bps = [x[0] for x in min_dist_lookup]\n",
    "min_dist_vals = [x[1] for x in min_dist_lookup]\n",
    "\n",
    "plt.plot(min_dist_bps, min_dist_vals)\n"
   ]
  },
  {
   "cell_type": "code",
   "execution_count": null,
   "id": "1c206ab8",
   "metadata": {},
   "outputs": [],
   "source": [
    "min_dist_lookup = [ # 3.29\n",
    "    (6.5, 4.), # 14.5 mph\n",
    "    (8.33, 5.1), #18 mph (speed mps, wp dist m)\n",
    "    (11.11, 6.5), # 24 mph\n",
    "    (13.89, 8), # 30 mph\n",
    "    (16.2, 9.3), # 36 mph\n",
    "    (19.44, 11.5), # 43 mph\n",
    "    (22.5, 13.5), # 50 mph\n",
    "]"
   ]
  },
  {
   "cell_type": "code",
   "execution_count": null,
   "id": "a85c18f4",
   "metadata": {},
   "outputs": [],
   "source": []
  },
  {
   "cell_type": "code",
   "execution_count": 7,
   "id": "6b3ef82e",
   "metadata": {},
   "outputs": [
    {
     "data": {
      "text/plain": [
       "0.5463024898437905"
      ]
     },
     "execution_count": 7,
     "metadata": {},
     "output_type": "execute_result"
    }
   ],
   "source": [
    "np.tan(.5)"
   ]
  },
  {
   "cell_type": "code",
   "execution_count": 54,
   "id": "02c44297",
   "metadata": {},
   "outputs": [
    {
     "data": {
      "text/plain": [
       "0.04967111111111111"
      ]
     },
     "execution_count": 54,
     "metadata": {},
     "output_type": "execute_result"
    }
   ],
   "source": [
    "tire_angle = .4\n",
    "WHEELBASE = 1.8 #2.66\n",
    "speed = mph_to_mps(10)\n",
    "\n",
    "curvature = tire_angle/WHEELBASE # rad/m \n",
    "vehicle_turn_rate_sec = curvature * speed # rad/sec\n",
    "future_vehicle_heading = vehicle_turn_rate_sec * .05\n",
    "future_vehicle_heading"
   ]
  },
  {
   "cell_type": "code",
   "execution_count": 55,
   "id": "d46d4e94",
   "metadata": {},
   "outputs": [
    {
     "data": {
      "text/plain": [
       "0.22352"
      ]
     },
     "execution_count": 55,
     "metadata": {},
     "output_type": "execute_result"
    }
   ],
   "source": [
    "dist_car_travelled_during_lag = speed / 20.\n",
    "dist_car_travelled_during_lag"
   ]
  },
  {
   "cell_type": "code",
   "execution_count": 56,
   "id": "0aa2f880",
   "metadata": {},
   "outputs": [
    {
     "data": {
      "text/plain": [
       "4.5"
      ]
     },
     "execution_count": 56,
     "metadata": {},
     "output_type": "execute_result"
    }
   ],
   "source": [
    "r = dist_car_travelled_during_lag / future_vehicle_heading # radius of the circle around which ego is turning m/rad\n",
    "r"
   ]
  },
  {
   "cell_type": "code",
   "execution_count": 57,
   "id": "aa4ab8ad",
   "metadata": {},
   "outputs": [
    {
     "data": {
      "text/plain": [
       "(0.005550102127081402, 0.22342809919549694)"
      ]
     },
     "execution_count": 57,
     "metadata": {},
     "output_type": "execute_result"
    }
   ],
   "source": [
    "# correct way\n",
    "future_vehicle_y = np.sin(future_vehicle_heading)*r\n",
    "future_vehicle_x = r - (np.cos(future_vehicle_heading)*r)\n",
    "future_vehicle_x, future_vehicle_y"
   ]
  },
  {
   "cell_type": "code",
   "execution_count": 58,
   "id": "06f8c4f4",
   "metadata": {},
   "outputs": [
    {
     "data": {
      "text/plain": [
       "(0.2234510694365123, 0.005550672723098684)"
      ]
     },
     "execution_count": 58,
     "metadata": {},
     "output_type": "execute_result"
    }
   ],
   "source": [
    "a = future_vehicle_heading/2\n",
    "x = dist_car_travelled_during_lag*np.cos(a)\n",
    "y = (dist_car_travelled_during_lag*np.sin(a))\n",
    "x, y"
   ]
  },
  {
   "cell_type": "code",
   "execution_count": null,
   "id": "ec25eeef",
   "metadata": {},
   "outputs": [],
   "source": []
  },
  {
   "cell_type": "code",
   "execution_count": null,
   "id": "a3bd1aaa",
   "metadata": {},
   "outputs": [],
   "source": []
  },
  {
   "cell_type": "code",
   "execution_count": 11,
   "id": "47068662",
   "metadata": {},
   "outputs": [
    {
     "data": {
      "text/plain": [
       "0.6153846153846154"
      ]
     },
     "execution_count": 11,
     "metadata": {},
     "output_type": "execute_result"
    }
   ],
   "source": [
    "4/6.5"
   ]
  },
  {
   "cell_type": "code",
   "execution_count": 4,
   "id": "3ab730e2",
   "metadata": {},
   "outputs": [
    {
     "data": {
      "text/plain": [
       "14.987498000000002"
      ]
     },
     "execution_count": 4,
     "metadata": {},
     "output_type": "execute_result"
    }
   ],
   "source": [
    "mps_to_mph(6.7)"
   ]
  },
  {
   "cell_type": "code",
   "execution_count": 19,
   "id": "ff77dbe7",
   "metadata": {},
   "outputs": [],
   "source": [
    "ACCELERATION_DUE_TO_GRAVITY = 9.8\n",
    "roll = .03\n",
    "sf = 1/401\n",
    "u = 20\n",
    "\n",
    "m = 1700\n",
    "l = 2.66\n",
    "aF = l * .41\n",
    "aR = l - aF\n",
    "tire_stiffness_factor = .677\n",
    "cF, cR = tire_stiffness_factor, tire_stiffness_factor\n",
    "sf = m * (cF*aF - cR*aR) / (l**2 * cF * cR)"
   ]
  },
  {
   "cell_type": "code",
   "execution_count": 22,
   "id": "c79526a1",
   "metadata": {},
   "outputs": [
    {
     "data": {
      "text/plain": [
       "-0.3241476"
      ]
     },
     "execution_count": 22,
     "metadata": {},
     "output_type": "execute_result"
    }
   ],
   "source": [
    "(cF*aF - cR*aR)"
   ]
  },
  {
   "cell_type": "code",
   "execution_count": 20,
   "id": "712d041e",
   "metadata": {},
   "outputs": [
    {
     "data": {
      "text/plain": [
       "-169.92259081973765"
      ]
     },
     "execution_count": 20,
     "metadata": {},
     "output_type": "execute_result"
    }
   ],
   "source": [
    "sf"
   ]
  },
  {
   "cell_type": "code",
   "execution_count": 21,
   "id": "04798421",
   "metadata": {},
   "outputs": [
    {
     "data": {
      "text/plain": [
       "-0.0007349891864115468"
      ]
     },
     "execution_count": 21,
     "metadata": {},
     "output_type": "execute_result"
    }
   ],
   "source": [
    "roll_compensation = (ACCELERATION_DUE_TO_GRAVITY * roll) / ((1 / sf) - u**2)\n",
    "#roll_compensation = (ACCELERATION_DUE_TO_GRAVITY * roll) / u**2\n",
    "roll_compensation"
   ]
  },
  {
   "cell_type": "code",
   "execution_count": null,
   "id": "7e2fbe8d",
   "metadata": {},
   "outputs": [],
   "source": []
  },
  {
   "cell_type": "code",
   "execution_count": 197,
   "id": "2e45bb0d",
   "metadata": {},
   "outputs": [
    {
     "data": {
      "text/plain": [
       "0.0019551"
      ]
     },
     "execution_count": 197,
     "metadata": {},
     "output_type": "execute_result"
    }
   ],
   "source": [
    "roll_compensation_angles = CRV_WHEELBASE * roll_compensation\n",
    "roll_compensation_angles"
   ]
  },
  {
   "cell_type": "code",
   "execution_count": 198,
   "id": "679d6377",
   "metadata": {},
   "outputs": [
    {
     "data": {
      "text/plain": [
       "(14.18929668510425, 14.934187811096537)"
      ]
     },
     "execution_count": 198,
     "metadata": {},
     "output_type": "execute_result"
    }
   ],
   "source": [
    "from traj_utils import *\n",
    "tire_angles_to_max_speeds(.02), tire_angles_to_max_speeds(.02-roll_compensation_angles)"
   ]
  },
  {
   "cell_type": "code",
   "execution_count": null,
   "id": "108684f1",
   "metadata": {},
   "outputs": [],
   "source": []
  },
  {
   "cell_type": "code",
   "execution_count": 3,
   "id": "4881881c",
   "metadata": {},
   "outputs": [],
   "source": [
    "# set lr\n",
    "set_lr(1e-4)"
   ]
  },
  {
   "cell_type": "code",
   "execution_count": 37,
   "id": "e2fe00c0",
   "metadata": {},
   "outputs": [
    {
     "data": {
      "text/plain": [
       "40"
      ]
     },
     "execution_count": 37,
     "metadata": {},
     "output_type": "execute_result"
    }
   ],
   "source": [
    "dataloader_root = f\"{BLENDER_MEMBANK_ROOT}/dataloader_06\"\n",
    "current_run = np.load(f\"{dataloader_root}/run_counter.npy\")[0]\n",
    "current_run"
   ]
  },
  {
   "cell_type": "code",
   "execution_count": null,
   "id": "0e7dd1a5",
   "metadata": {},
   "outputs": [],
   "source": []
  }
 ],
 "metadata": {
  "kernelspec": {
   "display_name": "Python 3 (ipykernel)",
   "language": "python",
   "name": "python3"
  },
  "language_info": {
   "codemirror_mode": {
    "name": "ipython",
    "version": 3
   },
   "file_extension": ".py",
   "mimetype": "text/x-python",
   "name": "python",
   "nbconvert_exporter": "python",
   "pygments_lexer": "ipython3",
   "version": "3.8.11"
  },
  "varInspector": {
   "cols": {
    "lenName": 16,
    "lenType": 16,
    "lenVar": 40
   },
   "kernels_config": {
    "python": {
     "delete_cmd_postfix": "",
     "delete_cmd_prefix": "del ",
     "library": "var_list.py",
     "varRefreshCmd": "print(var_dic_list())"
    },
    "r": {
     "delete_cmd_postfix": ") ",
     "delete_cmd_prefix": "rm(",
     "library": "var_list.r",
     "varRefreshCmd": "cat(var_dic_list()) "
    }
   },
   "types_to_exclude": [
    "module",
    "function",
    "builtin_function_or_method",
    "instance",
    "_Feature"
   ],
   "window_display": false
  },
  "vscode": {
   "interpreter": {
    "hash": "8816e64c15adfb314c1851f16ed024ce91c99aaff861e6703305bbb8eb28cb58"
   }
  }
 },
 "nbformat": 4,
 "nbformat_minor": 5
}
