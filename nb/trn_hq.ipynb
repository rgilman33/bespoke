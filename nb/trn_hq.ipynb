{
 "cells": [
  {
   "cell_type": "code",
   "execution_count": 154,
   "id": "201e27ee",
   "metadata": {},
   "outputs": [
    {
     "name": "stdout",
     "output_type": "stream",
     "text": [
      "The autoreload extension is already loaded. To reload it, use:\n",
      "  %reload_ext autoreload\n"
     ]
    }
   ],
   "source": [
    "%matplotlib inline\n",
    "%load_ext autoreload\n",
    "%autoreload 2\n",
    "\n",
    "import sys\n",
    "sys.path.append('/home/beans/bespoke')\n",
    "\n",
    "from constants import *\n",
    "from imports import *"
   ]
  },
  {
   "cell_type": "code",
   "execution_count": 2,
   "id": "53ab6314",
   "metadata": {},
   "outputs": [
    {
     "name": "stdout",
     "output_type": "stream",
     "text": [
      "CPU times: user 4.01 ms, sys: 0 ns, total: 4.01 ms\n",
      "Wall time: 3.51 ms\n"
     ]
    },
    {
     "data": {
      "text/plain": [
       "(94.6, 6.26)"
      ]
     },
     "execution_count": 2,
     "metadata": {},
     "output_type": "execute_result"
    }
   ],
   "source": [
    "%%time\n",
    "get_obs_per_sec()"
   ]
  },
  {
   "cell_type": "code",
   "execution_count": 6,
   "id": "e99b6246",
   "metadata": {},
   "outputs": [
    {
     "ename": "ValueError",
     "evalue": "max() arg is an empty sequence",
     "output_type": "error",
     "traceback": [
      "\u001b[0;31m---------------------------------------------------------------------------\u001b[0m",
      "\u001b[0;31mValueError\u001b[0m                                Traceback (most recent call last)",
      "\u001b[0;32m<timed eval>\u001b[0m in \u001b[0;36m<module>\u001b[0;34m\u001b[0m\n",
      "\u001b[0;32m~/bespoke/constants.py\u001b[0m in \u001b[0;36mget_mins_since_slowest_runner_reported\u001b[0;34m()\u001b[0m\n\u001b[1;32m    202\u001b[0m     \u001b[0;32mfor\u001b[0m \u001b[0mdl\u001b[0m \u001b[0;32min\u001b[0m \u001b[0mdl_paths\u001b[0m\u001b[0;34m:\u001b[0m\u001b[0;34m\u001b[0m\u001b[0;34m\u001b[0m\u001b[0m\n\u001b[1;32m    203\u001b[0m         \u001b[0mmins_since_last_update\u001b[0m\u001b[0;34m.\u001b[0m\u001b[0mappend\u001b[0m\u001b[0;34m(\u001b[0m\u001b[0;34m(\u001b[0m\u001b[0mtime\u001b[0m\u001b[0;34m.\u001b[0m\u001b[0mtime\u001b[0m\u001b[0;34m(\u001b[0m\u001b[0;34m)\u001b[0m \u001b[0;34m-\u001b[0m \u001b[0mos\u001b[0m\u001b[0;34m.\u001b[0m\u001b[0mpath\u001b[0m\u001b[0;34m.\u001b[0m\u001b[0mgetmtime\u001b[0m\u001b[0;34m(\u001b[0m\u001b[0mdl\u001b[0m\u001b[0;34m)\u001b[0m\u001b[0;34m)\u001b[0m \u001b[0;34m/\u001b[0m \u001b[0;36m60\u001b[0m\u001b[0;34m)\u001b[0m\u001b[0;34m\u001b[0m\u001b[0;34m\u001b[0m\u001b[0m\n\u001b[0;32m--> 204\u001b[0;31m     \u001b[0;32mreturn\u001b[0m \u001b[0mmax\u001b[0m\u001b[0;34m(\u001b[0m\u001b[0mmins_since_last_update\u001b[0m\u001b[0;34m)\u001b[0m\u001b[0;34m\u001b[0m\u001b[0;34m\u001b[0m\u001b[0m\n\u001b[0m\u001b[1;32m    205\u001b[0m \u001b[0;34m\u001b[0m\u001b[0m\n\u001b[1;32m    206\u001b[0m \u001b[0;34m\u001b[0m\u001b[0m\n",
      "\u001b[0;31mValueError\u001b[0m: max() arg is an empty sequence"
     ]
    }
   ],
   "source": [
    "%%time\n",
    "get_mins_since_slowest_runner_reported()"
   ]
  },
  {
   "cell_type": "code",
   "execution_count": 36,
   "id": "46dab89a",
   "metadata": {
    "scrolled": true
   },
   "outputs": [
    {
     "name": "stderr",
     "output_type": "stream",
     "text": [
      "/home/beans/bespoke/constants.py:435: SettingWithCopyWarning: \n",
      "A value is trying to be set on a copy of a slice from a DataFrame.\n",
      "Try using .loc[row_indexer,col_indexer] = value instead\n",
      "\n",
      "See the caveats in the documentation: https://pandas.pydata.org/pandas-docs/stable/user_guide/indexing.html#returning-a-view-versus-a-copy\n",
      "  propref_aux_target['ixx'] = list(range(len(propref_aux_target))) # dumb self ix so can grab sigmoid from within this smaller df\n"
     ]
    },
    {
     "name": "stdout",
     "output_type": "stream",
     "text": [
      "0.29 (22.66, 7.28)\n",
      "1.29 (71.05, 5.42)\n",
      "2.29 (76.38, 5.33)\n",
      "3.12 (78.25, 5.33)\n",
      "3.28 (86.39, 5.42)\n",
      "2.59 (88.98, 6.0)\n",
      "3.06 (87.8, 6.0)\n",
      "3.67 (78.55, 5.32)\n",
      "3.87 (76.37, 5.32)\n",
      "2.48 (75.06, 5.32)\n",
      "2.53 (93.59, 5.39)\n",
      "2.91 (97.75, 5.39)\n",
      "2.66 (101.82, 6.57)\n",
      "3.36 (101.74, 6.57)\n",
      "3.43 (94.62, 6.15)\n",
      "2.81 (86.28, 5.8)\n",
      "2.89 (88.15, 5.8)\n",
      "2.45 (95.72, 6.2)\n",
      "3.09 (96.13, 6.2)\n",
      "3.37 (88.82, 5.55)\n",
      "3.62 (88.53, 5.55)\n",
      "2.95 (81.79, 5.55)\n",
      "1.97 (87.13, 5.72)\n",
      "1.98 (100.1, 6.84)\n",
      "2.98 (104.8, 6.84)\n",
      "3.21 (100.33, 5.5)\n",
      "3.41 (91.96, 5.5)\n",
      "2.1 (83.09, 5.49)\n",
      "3.06 (88.55, 5.49)\n",
      "3.32 (93.93, 5.49)\n",
      "3.62 (92.16, 5.49)\n",
      "2.99 (85.56, 5.76)\n",
      "3.2 (87.93, 5.76)\n",
      "2.75 (91.02, 5.98)\n",
      "2.73 (88.8, 5.98)\n",
      "2.64 (89.97, 5.98)\n",
      "2.35 (92.65, 6.55)\n",
      "3.17 (96.87, 6.55)\n",
      "3.21 (95.37, 6.13)\n",
      "3.06 (87.97, 6.13)\n",
      "3.28 (84.43, 5.87)\n",
      "2.52 (85.19, 5.85)\n",
      "3.05 (91.01, 5.85)\n",
      "2.63 (91.57, 5.85)\n",
      "3.1 (97.93, 6.23)\n",
      "2.63 (92.17, 6.23)\n",
      "2.4 (95.51, 6.34)\n",
      "2.74 (94.74, 6.34)\n",
      "2.74 (95.17, 6.28)\n",
      "3.45 (90.42, 6.18)\n",
      "2.85 (85.78, 5.87)\n",
      "3.47 (85.59, 5.87)\n",
      "3.86 (91.36, 5.87)\n",
      "2.87 (93.48, 5.33)\n",
      "2.89 (94.34, 5.33)\n",
      "3.53 (95.5, 6.48)\n",
      "2.64 (90.12, 5.99)\n",
      "2.89 (92.73, 5.99)\n",
      "3.12 (86.66, 5.89)\n",
      "3.23 (86.36, 5.89)\n",
      "3.31 (83.31, 5.89)\n",
      "2.37 (91.06, 6.06)\n",
      "2.14 (94.57, 6.14)\n",
      "2.84 (96.33, 6.14)\n",
      "2.36 (100.12, 6.69)\n",
      "2.47 (99.58, 6.69)\n",
      "3.29 (96.88, 6.69)\n",
      "3.04 (90.96, 6.19)\n",
      "2.3 (87.32, 5.92)\n",
      "2.87 (90.83, 5.92)\n",
      "3.25 (87.19, 5.92)\n",
      "2.76 (89.16, 5.8)\n",
      "2.89 (89.13, 5.8)\n",
      "3.0 (90.63, 5.8)\n",
      "2.51 (94.96, 6.09)\n",
      "3.26 (96.22, 6.24)\n",
      "2.86 (95.6, 6.27)\n",
      "2.65 (90.08, 5.97)\n",
      "3.07 (89.45, 5.97)\n",
      "3.0 (88.62, 5.97)\n",
      "3.1 (84.85, 5.92)\n",
      "1.91 (89.87, 5.67)\n",
      "2.71 (100.69, 5.67)\n",
      "2.33 (102.55, 5.67)\n",
      "3.3 (104.66, 6.37)\n",
      "2.69 (88.28, 5.83)\n",
      "2.59 (87.99, 5.83)\n",
      "2.97 (86.24, 5.83)\n",
      "3.39 (85.55, 6.15)\n",
      "2.4 (85.42, 6.09)\n",
      "3.32 (85.88, 6.09)\n",
      "3.35 (83.03, 5.76)\n",
      "2.65 (79.71, 5.75)\n",
      "2.88 (81.73, 5.75)\n",
      "3.54 (81.09, 5.71)\n",
      "3.12 (85.52, 5.71)\n",
      "2.87 (86.09, 5.71)\n",
      "3.24 (94.52, 6.35)\n",
      "2.79 (93.36, 6.35)\n",
      "2.67 (90.09, 6.31)\n",
      "2.64 (93.19, 6.31)\n",
      "2.39 (96.04, 6.31)\n",
      "3.15 (98.47, 6.48)\n",
      "3.32 (95.69, 5.97)\n",
      "2.51 (84.91, 5.77)\n",
      "2.58 (86.75, 5.77)\n",
      "2.8 (92.75, 5.77)\n",
      "2.73 (99.13, 6.85)\n",
      "3.12 (97.49, 6.85)\n",
      "3.54 (96.07, 6.61)\n",
      "3.19 (88.84, 5.85)\n",
      "2.44 (87.46, 5.85)\n",
      "3.18 (90.99, 5.85)\n",
      "3.2 (87.99, 5.65)\n",
      "2.71 (89.42, 5.65)\n",
      "3.37 (85.78, 5.65)\n",
      "3.55 (86.51, 5.65)\n",
      "2.01 (83.34, 5.51)\n",
      "2.31 (88.95, 5.51)\n",
      "3.31 (96.66, 5.51)\n",
      "3.81 (98.83, 6.14)\n",
      "3.04 (86.9, 5.4)\n"
     ]
    },
    {
     "ename": "KeyboardInterrupt",
     "evalue": "",
     "output_type": "error",
     "traceback": [
      "\u001b[0;31m---------------------------------------------------------------------------\u001b[0m",
      "\u001b[0;31mKeyboardInterrupt\u001b[0m                         Traceback (most recent call last)",
      "\u001b[0;32m/tmp/ipykernel_10518/2871192555.py\u001b[0m in \u001b[0;36m<module>\u001b[0;34m\u001b[0m\n\u001b[1;32m      1\u001b[0m \u001b[0;32mfor\u001b[0m \u001b[0mi\u001b[0m \u001b[0;32min\u001b[0m \u001b[0mrange\u001b[0m\u001b[0;34m(\u001b[0m\u001b[0;36m10_000\u001b[0m\u001b[0;34m)\u001b[0m\u001b[0;34m:\u001b[0m\u001b[0;34m\u001b[0m\u001b[0;34m\u001b[0m\u001b[0m\n\u001b[1;32m      2\u001b[0m     \u001b[0mprint\u001b[0m\u001b[0;34m(\u001b[0m\u001b[0mround\u001b[0m\u001b[0;34m(\u001b[0m\u001b[0mget_mins_since_slowest_runner_reported\u001b[0m\u001b[0;34m(\u001b[0m\u001b[0;34m)\u001b[0m\u001b[0;34m,\u001b[0m \u001b[0;36m2\u001b[0m\u001b[0;34m)\u001b[0m\u001b[0;34m,\u001b[0m \u001b[0mget_obs_per_sec\u001b[0m\u001b[0;34m(\u001b[0m\u001b[0;34m)\u001b[0m\u001b[0;34m)\u001b[0m\u001b[0;34m\u001b[0m\u001b[0;34m\u001b[0m\u001b[0m\n\u001b[0;32m----> 3\u001b[0;31m     \u001b[0mtime\u001b[0m\u001b[0;34m.\u001b[0m\u001b[0msleep\u001b[0m\u001b[0;34m(\u001b[0m\u001b[0;36m60\u001b[0m\u001b[0;34m*\u001b[0m\u001b[0;36m1\u001b[0m\u001b[0;34m)\u001b[0m\u001b[0;34m\u001b[0m\u001b[0;34m\u001b[0m\u001b[0m\n\u001b[0m",
      "\u001b[0;31mKeyboardInterrupt\u001b[0m: "
     ]
    }
   ],
   "source": [
    "for i in range(10_000):\n",
    "    print(round(get_mins_since_slowest_runner_reported(), 2), get_obs_per_sec())\n",
    "    time.sleep(60*1)"
   ]
  },
  {
   "cell_type": "code",
   "execution_count": 157,
   "id": "8e33157c",
   "metadata": {},
   "outputs": [],
   "source": [
    "# Shut down trainer\n",
    "set_trainer_should_stop(True)"
   ]
  },
  {
   "cell_type": "code",
   "execution_count": null,
   "id": "a9c4fb2e",
   "metadata": {},
   "outputs": [],
   "source": []
  },
  {
   "cell_type": "code",
   "execution_count": 132,
   "id": "4fc4b0fd",
   "metadata": {},
   "outputs": [],
   "source": [
    "t = torch.randn((3,4,15))\n",
    "t2 = (torch.randn((3,4,1))>.5).expand((-1,-1,15))"
   ]
  },
  {
   "cell_type": "code",
   "execution_count": 135,
   "id": "1d0f6a9f",
   "metadata": {},
   "outputs": [
    {
     "data": {
      "text/plain": [
       "tensor(0.4167)"
      ]
     },
     "execution_count": 135,
     "metadata": {},
     "output_type": "execute_result"
    }
   ],
   "source": [
    "t2.sum() / t2.numel()"
   ]
  },
  {
   "cell_type": "code",
   "execution_count": 111,
   "id": "1035bac4",
   "metadata": {},
   "outputs": [
    {
     "data": {
      "text/plain": [
       "tensor([-1.2588,  0.3262,  0.2510, -1.0437,  0.6196,  0.8134,  1.6155, -0.9986,\n",
       "        -1.9617, -0.3589, -0.6562,  0.9901,  0.3959, -2.4411,  0.4803, -0.1658,\n",
       "         0.5641, -0.1415,  1.2275,  0.5520,  0.3774, -1.3742,  2.0064, -0.1938,\n",
       "        -1.1614, -0.2073, -0.1744,  0.6676, -1.0436,  0.1599,  0.3519,  0.0851,\n",
       "         1.0294, -1.3543,  0.9789, -0.1173,  0.4690, -0.9053, -1.4081, -1.1449,\n",
       "        -0.2210, -1.5530, -0.1714,  0.6150,  1.3021,  1.5215, -0.6114,  1.0796,\n",
       "        -1.1873,  0.9748, -0.2725, -1.4262,  0.6738,  0.3200, -1.7437,  0.0895,\n",
       "         0.2850, -0.8438, -0.1561, -0.4824, -0.5161, -2.1669, -0.3598,  1.1478,\n",
       "        -1.5752,  1.3333, -0.7720,  0.2132, -0.3210,  0.1536,  1.0810, -0.4464,\n",
       "         0.4188,  0.4413,  0.2903])"
      ]
     },
     "execution_count": 111,
     "metadata": {},
     "output_type": "execute_result"
    }
   ],
   "source": [
    "t[t2.expand((-1,-1,15))>.5]"
   ]
  },
  {
   "cell_type": "code",
   "execution_count": 56,
   "id": "41ce9770",
   "metadata": {},
   "outputs": [],
   "source": [
    "# Shut down loader\n",
    "#set_loader_should_stop(True)"
   ]
  },
  {
   "cell_type": "code",
   "execution_count": 155,
   "id": "596d5c6b",
   "metadata": {},
   "outputs": [],
   "source": [
    "# Shut down datagen\n",
    "set_should_stop(True)"
   ]
  },
  {
   "cell_type": "code",
   "execution_count": null,
   "id": "8128b276",
   "metadata": {},
   "outputs": [],
   "source": [
    "{'has_stop': 0.0067648463213769525,\n",
    " 'stop_dist': 0.002265360285863961,\n",
    " 'has_lead': 0.004032413860520939,\n",
    " 'lead_dist': 0.0010958473282730284,\n",
    " 'lead_speed': 0.30775815198510964,\n",
    " 'lane_width': 0.06848605134914779,\n",
    " 'dagger_shift': 0.05886599848206191,\n",
    " 'rd_is_lined': 0.0020571935283693697,\n",
    " 'left_turn': 0.001830063626701996,\n",
    " 'right_turn': 0.0006186669873644385,\n",
    " 'td': 100.0,\n",
    " 'pitch': 100.0,\n",
    " 'yaw': 100.0,\n",
    " 'unc': 1.5431951146006704,\n",
    " 'te': 0.01625097278487025,\n",
    " 'wp_angles': 0.0021876249358208037,\n",
    " 'wp_angles_i': 0.009141622190107428,\n",
    " 'wp_curvatures': 0.01266575967398561,\n",
    " 'wp_curvatures_i': 0.4400553513255563,\n",
    " 'wp_headings': 0.003090627208682488,\n",
    " 'wp_headings_i': 0.19579461832571193,\n",
    " 'wp_rolls': 0.05684778107957211,\n",
    " 'wp_rolls_i': 0.0002245911566197621,\n",
    " 'wp_zs': 367.02011376095805,\n",
    " 'wp_zs_i': nan}"
   ]
  },
  {
   "cell_type": "code",
   "execution_count": 3,
   "id": "4881881c",
   "metadata": {},
   "outputs": [],
   "source": [
    "# set lr\n",
    "set_lr(1e-4)"
   ]
  },
  {
   "cell_type": "code",
   "execution_count": 37,
   "id": "e2fe00c0",
   "metadata": {},
   "outputs": [
    {
     "data": {
      "text/plain": [
       "40"
      ]
     },
     "execution_count": 37,
     "metadata": {},
     "output_type": "execute_result"
    }
   ],
   "source": [
    "dataloader_root = f\"{BLENDER_MEMBANK_ROOT}/dataloader_06\"\n",
    "current_run = np.load(f\"{dataloader_root}/run_counter.npy\")[0]\n",
    "current_run"
   ]
  },
  {
   "cell_type": "code",
   "execution_count": null,
   "id": "0e7dd1a5",
   "metadata": {},
   "outputs": [],
   "source": []
  }
 ],
 "metadata": {
  "kernelspec": {
   "display_name": "Python 3 (ipykernel)",
   "language": "python",
   "name": "python3"
  },
  "language_info": {
   "codemirror_mode": {
    "name": "ipython",
    "version": 3
   },
   "file_extension": ".py",
   "mimetype": "text/x-python",
   "name": "python",
   "nbconvert_exporter": "python",
   "pygments_lexer": "ipython3",
   "version": "3.8.11"
  }
 },
 "nbformat": 4,
 "nbformat_minor": 5
}
