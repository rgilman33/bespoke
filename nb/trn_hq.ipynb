{
 "cells": [
  {
   "cell_type": "code",
   "execution_count": 1,
   "id": "201e27ee",
   "metadata": {},
   "outputs": [],
   "source": [
    "%matplotlib inline\n",
    "%load_ext autoreload\n",
    "%autoreload 2\n",
    "\n",
    "import sys\n",
    "sys.path.append('/home/beans/bespoke')\n",
    "\n",
    "from constants import *\n",
    "from imports import *\n",
    "from traj_utils import *"
   ]
  },
  {
   "cell_type": "code",
   "execution_count": 3,
   "id": "edd35e21",
   "metadata": {},
   "outputs": [
    {
     "data": {
      "text/plain": [
       "19472"
      ]
     },
     "execution_count": 3,
     "metadata": {},
     "output_type": "execute_result"
    }
   ],
   "source": [
    "len()"
   ]
  },
  {
   "cell_type": "code",
   "execution_count": 2,
   "id": "7c7c0637",
   "metadata": {},
   "outputs": [
    {
     "data": {
      "text/plain": [
       "['has_stop', 'has_lead', 'dagger_shift', 'lane_width', 'rd_is_lined']"
      ]
     },
     "execution_count": 2,
     "metadata": {},
     "output_type": "execute_result"
    }
   ],
   "source": [
    "SHOW_WORST_PROPS"
   ]
  },
  {
   "cell_type": "code",
   "execution_count": 3,
   "id": "20d45514",
   "metadata": {
    "scrolled": true
   },
   "outputs": [
    {
     "data": {
      "text/plain": [
       "['speed',\n",
       " 'has_map',\n",
       " 'has_route',\n",
       " 'pitch',\n",
       " 'yaw',\n",
       " 'tire_angle',\n",
       " 'pos_x',\n",
       " 'pos_y',\n",
       " 'heading',\n",
       " 'has_stop',\n",
       " 'stop_dist',\n",
       " 'has_lead',\n",
       " 'lead_dist',\n",
       " 'lead_speed',\n",
       " 'should_yield',\n",
       " 'dagger_shift',\n",
       " 'lane_width',\n",
       " 'rd_is_lined',\n",
       " 'interesting_note',\n",
       " 'frame_to_model_duration',\n",
       " 'loop_duration',\n",
       " 'num_sats',\n",
       " 'gps_qual',\n",
       " 'unc_p',\n",
       " 'is_only_yellow_lined',\n",
       " 'wide_shoulder_add',\n",
       " 'maps_noise_mult',\n",
       " 'roll_noise_mult',\n",
       " 'te',\n",
       " 'traj_max_angle_p',\n",
       " 'ccs_p',\n",
       " 'tire_angle_loss',\n",
       " 'tire_angle_p',\n",
       " 'left_turn',\n",
       " 'right_turn',\n",
       " 'ego_in_intx',\n",
       " 'curvature_at_ego',\n",
       " 'tire_angle_ap',\n",
       " 'tire_angle_p_no_rc',\n",
       " 'sss_p']"
      ]
     },
     "execution_count": 3,
     "metadata": {},
     "output_type": "execute_result"
    }
   ],
   "source": [
    "AUX_PROPS"
   ]
  },
  {
   "cell_type": "code",
   "execution_count": 4,
   "id": "43afc334",
   "metadata": {},
   "outputs": [
    {
     "data": {
      "text/plain": [
       "5.0"
      ]
     },
     "execution_count": 4,
     "metadata": {},
     "output_type": "execute_result"
    }
   ],
   "source": [
    "get_target_wp_dist(0)"
   ]
  },
  {
   "cell_type": "code",
   "execution_count": 5,
   "id": "9899d156",
   "metadata": {},
   "outputs": [
    {
     "data": {
      "text/plain": [
       "4.4704"
      ]
     },
     "execution_count": 5,
     "metadata": {},
     "output_type": "execute_result"
    }
   ],
   "source": [
    "mph_to_mps(10)"
   ]
  },
  {
   "cell_type": "code",
   "execution_count": 6,
   "id": "53ab6314",
   "metadata": {},
   "outputs": [
    {
     "name": "stdout",
     "output_type": "stream",
     "text": [
      "CPU times: user 3.75 ms, sys: 0 ns, total: 3.75 ms\n",
      "Wall time: 3.69 ms\n"
     ]
    },
    {
     "data": {
      "text/plain": [
       "(41.44, 1.84)"
      ]
     },
     "execution_count": 6,
     "metadata": {},
     "output_type": "execute_result"
    }
   ],
   "source": [
    "%%time\n",
    "get_obs_per_sec()"
   ]
  },
  {
   "cell_type": "code",
   "execution_count": 7,
   "id": "e638e0a1",
   "metadata": {},
   "outputs": [
    {
     "name": "stdout",
     "output_type": "stream",
     "text": [
      "CPU times: user 443 µs, sys: 0 ns, total: 443 µs\n",
      "Wall time: 522 µs\n"
     ]
    },
    {
     "data": {
      "text/plain": [
       "[]"
      ]
     },
     "execution_count": 7,
     "metadata": {},
     "output_type": "execute_result"
    }
   ],
   "source": [
    "%%time\n",
    "sorted(glob.glob(f\"{BLENDER_MEMBANK_ROOT}/dataloader_01/run_1275/aux/*\"))"
   ]
  },
  {
   "cell_type": "code",
   "execution_count": 5,
   "id": "f7551f8e",
   "metadata": {
    "scrolled": true
   },
   "outputs": [
    {
     "name": "stdout",
     "output_type": "stream",
     "text": [
      "Obs per sec 21.38 || render time 67.84 || init time 3.11\n",
      "Obs per sec 47.42 || render time 39.72 || init time 20.32\n",
      "Obs per sec 44.35 || render time 45.77 || init time 9.02\n",
      "Obs per sec 54.45 || render time 31.09 || init time 18.41\n",
      "Obs per sec 42.72 || render time 40.72 || init time 6.42\n",
      "Obs per sec 41.02 || render time 38.35 || init time 9.16\n",
      "Obs per sec 47.82 || render time 44.52 || init time 11.74\n",
      "Obs per sec 42.96 || render time 34.57 || init time 6.58\n",
      "Obs per sec 49.51 || render time 35.26 || init time 16.58\n",
      "Obs per sec 50.02 || render time 33.22 || init time 1.93\n",
      "Obs per sec 40.26 || render time 35.88 || init time 10.59\n",
      "Obs per sec 51.33 || render time 32.96 || init time 9.4\n",
      "Obs per sec 48.57 || render time 30.33 || init time 11.16\n",
      "Obs per sec 54.02 || render time 31.0 || init time 11.52\n"
     ]
    },
    {
     "ename": "KeyboardInterrupt",
     "evalue": "",
     "output_type": "error",
     "traceback": [
      "\u001b[0;31m---------------------------------------------------------------------------\u001b[0m",
      "\u001b[0;31mKeyboardInterrupt\u001b[0m                         Traceback (most recent call last)",
      "\u001b[0;32m/tmp/ipykernel_25437/3853816916.py\u001b[0m in \u001b[0;36m<module>\u001b[0;34m\u001b[0m\n\u001b[1;32m      1\u001b[0m \u001b[0;32mfor\u001b[0m \u001b[0mi\u001b[0m \u001b[0;32min\u001b[0m \u001b[0mrange\u001b[0m\u001b[0;34m(\u001b[0m\u001b[0;36m10_000\u001b[0m\u001b[0;34m)\u001b[0m\u001b[0;34m:\u001b[0m\u001b[0;34m\u001b[0m\u001b[0;34m\u001b[0m\u001b[0m\n\u001b[1;32m      2\u001b[0m     \u001b[0mprint\u001b[0m\u001b[0;34m(\u001b[0m\u001b[0;34mf\"Obs per sec {get_obs_per_sec()[0]} || render time {get_render_time()[0]} || init time {get_init_time()[0]}\"\u001b[0m \u001b[0;34m)\u001b[0m\u001b[0;34m\u001b[0m\u001b[0;34m\u001b[0m\u001b[0m\n\u001b[0;32m----> 3\u001b[0;31m     \u001b[0mtime\u001b[0m\u001b[0;34m.\u001b[0m\u001b[0msleep\u001b[0m\u001b[0;34m(\u001b[0m\u001b[0;36m60\u001b[0m\u001b[0;34m*\u001b[0m\u001b[0;36m1\u001b[0m\u001b[0;34m)\u001b[0m\u001b[0;34m\u001b[0m\u001b[0;34m\u001b[0m\u001b[0m\n\u001b[0m",
      "\u001b[0;31mKeyboardInterrupt\u001b[0m: "
     ]
    }
   ],
   "source": [
    "for i in range(10_000):\n",
    "    print(f\"Obs per sec {get_obs_per_sec()[0]} || render time {get_render_time()[0]} || init time {get_init_time()[0]}\" )\n",
    "    time.sleep(60*1)"
   ]
  },
  {
   "cell_type": "code",
   "execution_count": 4,
   "id": "75dbd660",
   "metadata": {
    "scrolled": true
   },
   "outputs": [
    {
     "name": "stdout",
     "output_type": "stream",
     "text": [
      "Obs per sec 34.55 || render time 50.2 || init time 18.94\n",
      "Obs per sec 35.12 || render time 46.38 || init time 8.96\n",
      "Obs per sec 39.65 || render time 44.3 || init time 17.02\n",
      "Obs per sec 37.04 || render time 40.99 || init time 10.37\n",
      "Obs per sec 43.07 || render time 41.37 || init time 17.4\n",
      "Obs per sec 37.82 || render time 41.89 || init time 9.96\n",
      "Obs per sec 38.69 || render time 44.32 || init time 13.04\n",
      "Obs per sec 37.82 || render time 45.29 || init time 11.1\n",
      "Obs per sec 38.53 || render time 42.94 || init time 13.68\n",
      "Obs per sec 35.57 || render time 47.66 || init time 13.22\n",
      "Obs per sec 36.41 || render time 45.72 || init time 13.09\n",
      "Obs per sec 40.47 || render time 44.42 || init time 11.81\n",
      "Obs per sec 35.39 || render time 49.66 || init time 10.93\n",
      "Obs per sec 35.33 || render time 47.37 || init time 11.65\n",
      "Obs per sec 35.54 || render time 45.29 || init time 6.85\n",
      "Obs per sec 37.97 || render time 45.13 || init time 13.17\n",
      "Obs per sec 35.3 || render time 48.57 || init time 15.87\n",
      "Obs per sec 34.62 || render time 45.37 || init time 7.26\n",
      "Obs per sec 41.24 || render time 42.89 || init time 17.33\n",
      "Obs per sec 31.83 || render time 54.83 || init time 11.48\n",
      "Obs per sec 33.28 || render time 51.11 || init time 5.13\n",
      "Obs per sec 34.39 || render time 55.12 || init time 17.48\n",
      "Obs per sec 33.78 || render time 50.36 || init time 7.85\n",
      "Obs per sec 39.81 || render time 47.5 || init time 17.72\n",
      "Obs per sec 37.22 || render time 45.28 || init time 11.73\n",
      "Obs per sec 41.62 || render time 43.21 || init time 19.8\n",
      "Obs per sec 30.67 || render time 48.32 || init time 8.74\n",
      "Obs per sec 34.75 || render time 51.63 || init time 14.89\n",
      "Obs per sec 36.27 || render time 42.42 || init time 16.98\n",
      "Obs per sec 38.53 || render time 43.17 || init time 9.43\n",
      "Obs per sec 36.57 || render time 45.02 || init time 6.73\n",
      "Obs per sec 39.19 || render time 45.65 || init time 13.58\n",
      "Obs per sec 34.46 || render time 46.96 || init time 10.92\n",
      "Obs per sec 37.82 || render time 48.14 || init time 8.7\n",
      "Obs per sec 35.23 || render time 48.76 || init time 11.49\n",
      "Obs per sec 37.74 || render time 48.21 || init time 16.37\n",
      "Obs per sec 32.22 || render time 48.25 || init time 11.95\n",
      "Obs per sec 37.23 || render time 46.81 || init time 10.83\n",
      "Obs per sec 38.98 || render time 42.5 || init time 9.46\n",
      "Obs per sec 35.9 || render time 47.11 || init time 16.45\n",
      "Obs per sec 31.42 || render time 48.44 || init time 6.71\n",
      "Obs per sec 40.8 || render time 45.67 || init time 16.01\n",
      "Obs per sec 38.74 || render time 45.76 || init time 10.72\n",
      "Obs per sec 37.63 || render time 45.41 || init time 11.76\n",
      "Obs per sec 39.32 || render time 44.46 || init time 9.27\n",
      "Obs per sec 36.85 || render time 45.79 || init time 9.89\n",
      "Obs per sec 47.23 || render time 38.6 || init time 10.94\n",
      "Obs per sec 40.73 || render time 42.52 || init time 12.69\n",
      "Obs per sec 43.43 || render time 41.87 || init time 8.68\n",
      "Obs per sec 36.86 || render time 41.54 || init time 9.69\n",
      "Obs per sec 48.64 || render time 37.82 || init time 8.16\n",
      "Obs per sec 47.46 || render time 36.47 || init time 12.84\n",
      "Obs per sec 46.14 || render time 36.43 || init time 7.56\n",
      "Obs per sec 44.3 || render time 37.13 || init time 11.9\n",
      "Obs per sec 42.51 || render time 38.92 || init time 5.75\n",
      "Obs per sec 43.74 || render time 43.1 || init time 13.63\n",
      "Obs per sec 41.11 || render time 42.65 || init time 7.77\n",
      "Obs per sec 44.72 || render time 37.51 || init time 11.47\n",
      "Obs per sec 42.48 || render time 38.61 || init time 8.68\n",
      "Obs per sec 47.21 || render time 36.11 || init time 6.58\n",
      "Obs per sec 45.35 || render time 36.55 || init time 10.78\n",
      "Obs per sec 40.04 || render time 42.85 || init time 7.04\n",
      "Obs per sec 39.26 || render time 47.11 || init time 16.26\n",
      "Obs per sec 39.63 || render time 45.64 || init time 11.82\n",
      "Obs per sec 46.2 || render time 37.17 || init time 3.09\n",
      "Obs per sec 51.91 || render time 35.14 || init time 20.01\n",
      "Obs per sec 35.57 || render time 46.35 || init time 3.78\n",
      "Obs per sec 48.25 || render time 37.35 || init time 14.2\n"
     ]
    },
    {
     "ename": "KeyboardInterrupt",
     "evalue": "",
     "output_type": "error",
     "traceback": [
      "\u001b[0;31m---------------------------------------------------------------------------\u001b[0m",
      "\u001b[0;31mKeyboardInterrupt\u001b[0m                         Traceback (most recent call last)",
      "\u001b[0;32m/tmp/ipykernel_40808/3853816916.py\u001b[0m in \u001b[0;36m<module>\u001b[0;34m\u001b[0m\n\u001b[1;32m      1\u001b[0m \u001b[0;32mfor\u001b[0m \u001b[0mi\u001b[0m \u001b[0;32min\u001b[0m \u001b[0mrange\u001b[0m\u001b[0;34m(\u001b[0m\u001b[0;36m10_000\u001b[0m\u001b[0;34m)\u001b[0m\u001b[0;34m:\u001b[0m\u001b[0;34m\u001b[0m\u001b[0;34m\u001b[0m\u001b[0m\n\u001b[1;32m      2\u001b[0m     \u001b[0mprint\u001b[0m\u001b[0;34m(\u001b[0m\u001b[0;34mf\"Obs per sec {get_obs_per_sec()[0]} || render time {get_render_time()[0]} || init time {get_init_time()[0]}\"\u001b[0m \u001b[0;34m)\u001b[0m\u001b[0;34m\u001b[0m\u001b[0;34m\u001b[0m\u001b[0m\n\u001b[0;32m----> 3\u001b[0;31m     \u001b[0mtime\u001b[0m\u001b[0;34m.\u001b[0m\u001b[0msleep\u001b[0m\u001b[0;34m(\u001b[0m\u001b[0;36m60\u001b[0m\u001b[0;34m*\u001b[0m\u001b[0;36m1\u001b[0m\u001b[0;34m)\u001b[0m\u001b[0;34m\u001b[0m\u001b[0;34m\u001b[0m\u001b[0m\n\u001b[0m",
      "\u001b[0;31mKeyboardInterrupt\u001b[0m: "
     ]
    }
   ],
   "source": [
    "for i in range(10_000):\n",
    "    print(f\"Obs per sec {get_obs_per_sec()[0]} || render time {get_render_time()[0]} || init time {get_init_time()[0]}\" )\n",
    "    time.sleep(60*1)"
   ]
  },
  {
   "cell_type": "code",
   "execution_count": null,
   "id": "b9c8d351",
   "metadata": {},
   "outputs": [],
   "source": []
  },
  {
   "cell_type": "code",
   "execution_count": 14,
   "id": "9a390683",
   "metadata": {},
   "outputs": [],
   "source": [
    "seq_len = 5\n",
    "mask = (torch.triu(torch.ones(seq_len, seq_len)) != 1).transpose(0, 1).to(\"cuda\")"
   ]
  },
  {
   "cell_type": "code",
   "execution_count": 15,
   "id": "ddb239ee",
   "metadata": {},
   "outputs": [
    {
     "data": {
      "text/plain": [
       "tensor([[False,  True,  True,  True,  True],\n",
       "        [False, False,  True,  True,  True],\n",
       "        [False, False, False,  True,  True],\n",
       "        [False, False, False, False,  True],\n",
       "        [False, False, False, False, False]], device='cuda:0')"
      ]
     },
     "execution_count": 15,
     "metadata": {},
     "output_type": "execute_result"
    }
   ],
   "source": [
    "mask"
   ]
  },
  {
   "cell_type": "code",
   "execution_count": 16,
   "id": "0369714b",
   "metadata": {},
   "outputs": [
    {
     "data": {
      "text/plain": [
       "tensor([[False,  True,  True,  True,  True],\n",
       "        [False, False,  True,  True,  True],\n",
       "        [False, False, False,  True,  True],\n",
       "        [False, False, False, False,  True],\n",
       "        [False, False, False, False, False]])"
      ]
     },
     "execution_count": 16,
     "metadata": {},
     "output_type": "execute_result"
    }
   ],
   "source": [
    "mask = torch.triu(torch.ones(seq_len, seq_len), diagonal=1).bool()\n",
    "mask"
   ]
  },
  {
   "cell_type": "code",
   "execution_count": 12,
   "id": "8e33157c",
   "metadata": {},
   "outputs": [],
   "source": [
    "# Shut down trainer\n",
    "set_trainer_should_stop(True)"
   ]
  },
  {
   "cell_type": "code",
   "execution_count": null,
   "id": "ad1ee59d",
   "metadata": {},
   "outputs": [],
   "source": []
  },
  {
   "cell_type": "code",
   "execution_count": 4,
   "id": "a227a41d",
   "metadata": {},
   "outputs": [
    {
     "data": {
      "text/plain": [
       "['has_stop',\n",
       " 'stop_dist',\n",
       " 'has_lead',\n",
       " 'lead_dist',\n",
       " 'lead_speed',\n",
       " 'dagger_shift',\n",
       " 'lane_width',\n",
       " 'rd_is_lined',\n",
       " 'left_turn',\n",
       " 'right_turn']"
      ]
     },
     "execution_count": 4,
     "metadata": {},
     "output_type": "execute_result"
    }
   ],
   "source": [
    "AUX_TARGET_PROPS"
   ]
  },
  {
   "cell_type": "code",
   "execution_count": 2,
   "id": "3dae56ea",
   "metadata": {},
   "outputs": [],
   "source": [
    "t = torch.randn((3,4))\n",
    "t[0][0] = torch.nan"
   ]
  },
  {
   "cell_type": "code",
   "execution_count": 3,
   "id": "7221a186",
   "metadata": {},
   "outputs": [
    {
     "data": {
      "text/plain": [
       "torch.Size([3, 4])"
      ]
     },
     "execution_count": 3,
     "metadata": {},
     "output_type": "execute_result"
    }
   ],
   "source": [
    "t.shape"
   ]
  },
  {
   "cell_type": "code",
   "execution_count": 8,
   "id": "a982b970",
   "metadata": {},
   "outputs": [
    {
     "data": {
      "text/plain": [
       "torch.Size([3, 4, 30])"
      ]
     },
     "execution_count": 8,
     "metadata": {},
     "output_type": "execute_result"
    }
   ],
   "source": [
    "t.unsqueeze(-1).expand((-1,-1,N_WPS)).shape"
   ]
  },
  {
   "cell_type": "code",
   "execution_count": 13,
   "id": "f65c7591",
   "metadata": {},
   "outputs": [
    {
     "data": {
      "text/plain": [
       "torch.float32"
      ]
     },
     "execution_count": 13,
     "metadata": {},
     "output_type": "execute_result"
    }
   ],
   "source": [
    "t.dtype"
   ]
  },
  {
   "cell_type": "code",
   "execution_count": 14,
   "id": "a9c4fb2e",
   "metadata": {},
   "outputs": [
    {
     "data": {
      "text/plain": [
       "tensor([[    nan, -1.5429,  0.1730,  0.5194],\n",
       "        [ 0.1227,  0.5840, -0.0233,  1.5951],\n",
       "        [ 0.2951,  0.9193,  0.8300,  0.7739]])"
      ]
     },
     "execution_count": 14,
     "metadata": {},
     "output_type": "execute_result"
    }
   ],
   "source": [
    "torch.clamp(t, -10, 10)"
   ]
  },
  {
   "cell_type": "code",
   "execution_count": 16,
   "id": "02d6aca3",
   "metadata": {},
   "outputs": [
    {
     "data": {
      "text/plain": [
       "tensor([[False, False,  True,  True],\n",
       "        [ True,  True, False,  True],\n",
       "        [ True,  True,  True,  True]], device='cuda:0')"
      ]
     },
     "execution_count": 16,
     "metadata": {},
     "output_type": "execute_result"
    }
   ],
   "source": [
    "(t > 0) & (t < 2)"
   ]
  },
  {
   "cell_type": "code",
   "execution_count": 6,
   "id": "27b948d4",
   "metadata": {},
   "outputs": [
    {
     "data": {
      "text/plain": [
       "tensor([[    nan,  0.0000, -0.7175,  0.0000],\n",
       "        [-0.2323, -1.4721,  0.0000, -0.9467],\n",
       "        [-0.7206,  0.0000, -0.6977,  0.0000]])"
      ]
     },
     "execution_count": 6,
     "metadata": {},
     "output_type": "execute_result"
    }
   ],
   "source": [
    "~(t>0)*t"
   ]
  },
  {
   "cell_type": "code",
   "execution_count": 9,
   "id": "8455e40d",
   "metadata": {},
   "outputs": [
    {
     "data": {
      "text/plain": [
       "array([[ 0.44152985,  1.50411513,  1.64095077,  1.08528706, -0.51119565],\n",
       "       [ 0.4556369 , -0.88712186, -0.34905381, -0.43379577, -0.94362929],\n",
       "       [ 0.98571363, -0.00241864, -1.10698085, -0.74286705, -0.17467991]])"
      ]
     },
     "execution_count": 9,
     "metadata": {},
     "output_type": "execute_result"
    }
   ],
   "source": [
    "a = np.random.randn(3,5)\n",
    "a"
   ]
  },
  {
   "cell_type": "code",
   "execution_count": 11,
   "id": "22cf3b40",
   "metadata": {},
   "outputs": [
    {
     "data": {
      "text/plain": [
       "array([[ True, False, False, False, False],\n",
       "       [ True, False, False, False, False],\n",
       "       [ True, False, False, False, False]])"
      ]
     },
     "execution_count": 11,
     "metadata": {},
     "output_type": "execute_result"
    }
   ],
   "source": [
    "(0 < a) & (a<1)"
   ]
  },
  {
   "cell_type": "code",
   "execution_count": 28,
   "id": "41ce9770",
   "metadata": {},
   "outputs": [],
   "source": [
    "# Shut down loader\n",
    "#set_loader_should_stop(True)"
   ]
  },
  {
   "cell_type": "code",
   "execution_count": 14,
   "id": "596d5c6b",
   "metadata": {},
   "outputs": [],
   "source": [
    "# Shut down datagen\n",
    "set_should_stop(True)"
   ]
  },
  {
   "cell_type": "code",
   "execution_count": 11,
   "id": "d62396c9",
   "metadata": {},
   "outputs": [],
   "source": [
    "a = np.zeros(10)"
   ]
  },
  {
   "cell_type": "code",
   "execution_count": 13,
   "id": "d68c2fc9",
   "metadata": {},
   "outputs": [
    {
     "data": {
      "text/plain": [
       "array([0., 0., 0., 1., 1., 0., 0., 0., 0., 0.])"
      ]
     },
     "execution_count": 13,
     "metadata": {},
     "output_type": "execute_result"
    }
   ],
   "source": [
    "a[3] = 1\n",
    "a[4] = 1\n",
    "a"
   ]
  },
  {
   "cell_type": "code",
   "execution_count": 16,
   "id": "2a62ab64",
   "metadata": {},
   "outputs": [
    {
     "data": {
      "text/plain": [
       "4"
      ]
     },
     "execution_count": 16,
     "metadata": {},
     "output_type": "execute_result"
    }
   ],
   "source": [
    "np.where(a==1)[0][-1]"
   ]
  },
  {
   "cell_type": "code",
   "execution_count": null,
   "id": "5d4f687b",
   "metadata": {},
   "outputs": [],
   "source": []
  },
  {
   "cell_type": "code",
   "execution_count": 14,
   "id": "1a6ef23b",
   "metadata": {},
   "outputs": [
    {
     "data": {
      "text/plain": [
       "[1, 2]"
      ]
     },
     "execution_count": 14,
     "metadata": {},
     "output_type": "execute_result"
    }
   ],
   "source": [
    "[1,2,3][:-1]"
   ]
  },
  {
   "cell_type": "code",
   "execution_count": 2,
   "id": "0dcf4dab",
   "metadata": {},
   "outputs": [
    {
     "data": {
      "text/plain": [
       "'/media/ssd2/blender_membank_frameskip'"
      ]
     },
     "execution_count": 2,
     "metadata": {},
     "output_type": "execute_result"
    }
   ],
   "source": [
    "BLENDER_MEMBANK_ROOT"
   ]
  },
  {
   "cell_type": "code",
   "execution_count": 18,
   "id": "4428d646",
   "metadata": {},
   "outputs": [
    {
     "data": {
      "text/plain": [
       "array([[ 1.36844168,  0.6310768 ,  0.17914825, -1.80550664,  0.64492095],\n",
       "       [-0.06958051,  0.34388669, -0.08081766,  0.03122397, -1.21903979],\n",
       "       [-0.11555772,  1.17399775, -1.4737343 ,  0.64077041,  0.16667692]])"
      ]
     },
     "execution_count": 18,
     "metadata": {},
     "output_type": "execute_result"
    }
   ],
   "source": [
    "a = np.random.randn(3,5)\n",
    "a"
   ]
  },
  {
   "cell_type": "code",
   "execution_count": 19,
   "id": "4d5bdb5d",
   "metadata": {},
   "outputs": [],
   "source": [
    "a[a<0] *= 10"
   ]
  },
  {
   "cell_type": "code",
   "execution_count": 20,
   "id": "bd937292",
   "metadata": {},
   "outputs": [
    {
     "data": {
      "text/plain": [
       "array([[  1.36844168,   0.6310768 ,   0.17914825, -18.05506636,\n",
       "          0.64492095],\n",
       "       [ -0.69580511,   0.34388669,  -0.80817657,   0.03122397,\n",
       "        -12.19039788],\n",
       "       [ -1.15557718,   1.17399775, -14.737343  ,   0.64077041,\n",
       "          0.16667692]])"
      ]
     },
     "execution_count": 20,
     "metadata": {},
     "output_type": "execute_result"
    }
   ],
   "source": [
    "a"
   ]
  },
  {
   "cell_type": "code",
   "execution_count": 22,
   "id": "7f4c8764",
   "metadata": {},
   "outputs": [
    {
     "data": {
      "text/plain": [
       "array([[1.        , 0.6310768 , 0.17914825, 0.        , 0.64492095],\n",
       "       [0.        , 0.34388669, 0.        , 0.03122397, 0.        ],\n",
       "       [0.        , 1.        , 0.        , 0.64077041, 0.16667692]])"
      ]
     },
     "execution_count": 22,
     "metadata": {},
     "output_type": "execute_result"
    }
   ],
   "source": [
    "np.clip(a, 0, 1)"
   ]
  },
  {
   "cell_type": "code",
   "execution_count": 3,
   "id": "4eb1f50e",
   "metadata": {},
   "outputs": [
    {
     "name": "stdout",
     "output_type": "stream",
     "text": [
      "CPU times: user 791 µs, sys: 968 µs, total: 1.76 ms\n",
      "Wall time: 42 s\n"
     ]
    },
    {
     "data": {
      "text/plain": [
       "0"
      ]
     },
     "execution_count": 3,
     "metadata": {},
     "output_type": "execute_result"
    }
   ],
   "source": [
    "%%time\n",
    "\n",
    "# Delete blender membank\n",
    "os.system(f\"rm -r {BLENDER_MEMBANK_ROOT}/*\")"
   ]
  },
  {
   "cell_type": "code",
   "execution_count": null,
   "id": "57e8173f",
   "metadata": {},
   "outputs": [],
   "source": []
  },
  {
   "cell_type": "code",
   "execution_count": 2,
   "id": "61ff1afa",
   "metadata": {},
   "outputs": [
    {
     "data": {
      "text/plain": [
       "0"
      ]
     },
     "execution_count": 2,
     "metadata": {},
     "output_type": "execute_result"
    }
   ],
   "source": [
    "# Remove SSD trash\n",
    "os.system(f\"rm -r {SSD_ROOT}/.Trash-1000/files/*\")"
   ]
  },
  {
   "cell_type": "code",
   "execution_count": 23,
   "id": "60c4b3df",
   "metadata": {},
   "outputs": [
    {
     "data": {
      "text/plain": [
       "array([ 0.  ,  1.1 ,  2.3 ,  3.3 ,  4.28,  5.28,  6.18,  7.  ,  8.  ,\n",
       "        9.  , 10.  , 11.  , 12.  , 13.  ])"
      ]
     },
     "execution_count": 23,
     "metadata": {},
     "output_type": "execute_result"
    }
   ],
   "source": [
    "moving_average(np.array([0,1.1,2,3.5,4.9,5,6,7,8,9,10,11,12,13]),w=5)"
   ]
  },
  {
   "cell_type": "code",
   "execution_count": null,
   "id": "b45d0a25",
   "metadata": {},
   "outputs": [],
   "source": []
  },
  {
   "cell_type": "code",
   "execution_count": 12,
   "id": "cf353fc7",
   "metadata": {},
   "outputs": [
    {
     "data": {
      "text/plain": [
       "8.995143122098731e-06"
      ]
     },
     "execution_count": 12,
     "metadata": {},
     "output_type": "execute_result"
    }
   ],
   "source": [
    "import math\n",
    "original_angle = .03\n",
    "road_roll = .03\n",
    "new_angle = original_angle - math.atan(road_roll)\n",
    "new_angle"
   ]
  },
  {
   "cell_type": "code",
   "execution_count": 13,
   "id": "e59de56b",
   "metadata": {},
   "outputs": [
    {
     "data": {
      "text/plain": [
       "0.09966865249116204"
      ]
     },
     "execution_count": 13,
     "metadata": {},
     "output_type": "execute_result"
    }
   ],
   "source": [
    "math.atan(.1)"
   ]
  },
  {
   "cell_type": "code",
   "execution_count": 12,
   "id": "826b5ef6",
   "metadata": {},
   "outputs": [
    {
     "data": {
      "text/plain": [
       "[<matplotlib.lines.Line2D at 0x7fc052888d90>]"
      ]
     },
     "execution_count": 12,
     "metadata": {},
     "output_type": "execute_result"
    },
    {
     "data": {
      "image/png": "[encoded data removed]",
      "text/plain": [
       "<Figure size 432x288 with 1 Axes>"
      ]
     },
     "metadata": {
      "needs_background": "light"
     },
     "output_type": "display_data"
    }
   ],
   "source": [
    "\"\"\"min_dist_lookup = [ \n",
    "    (6.5, 4.), # 14.5 mph\n",
    "    (8.33, 5.0), #18 mph (speed mps, wp dist m)\n",
    "    (11.11, 6.7), # 24 mph\n",
    "    (13.89, 8.5), # 30 mph\n",
    "    (16.2, 10.1), # 36 mph\n",
    "    (19.44, 12.6), # 43 mph\n",
    "    (22.5, 15.), # 50 mph\n",
    "]\"\"\"\n",
    "min_dist_lookup = [ \n",
    "    (6.5, 5.), # 14.5 mph\n",
    "    (8.33, 6.0), #18 mph (speed mps, wp dist m)\n",
    "    (11.11, 7.8), # 24 mph\n",
    "    (13.89, 9.9), # 30 mph\n",
    "    (16.2, 11.9), # 36 mph\n",
    "    (19.44, 15), # 43 mph\n",
    "    (22.5, 18.), # 50 mph\n",
    "]\n",
    "\n",
    "min_dist_bps = [x[0] for x in min_dist_lookup]\n",
    "min_dist_vals = [x[1] for x in min_dist_lookup]\n",
    "\n",
    "plt.plot(min_dist_bps, min_dist_vals)\n"
   ]
  },
  {
   "cell_type": "code",
   "execution_count": null,
   "id": "1c206ab8",
   "metadata": {},
   "outputs": [],
   "source": [
    "min_dist_lookup = [ # 3.29\n",
    "    (6.5, 4.), # 14.5 mph\n",
    "    (8.33, 5.1), #18 mph (speed mps, wp dist m)\n",
    "    (11.11, 6.5), # 24 mph\n",
    "    (13.89, 8), # 30 mph\n",
    "    (16.2, 9.3), # 36 mph\n",
    "    (19.44, 11.5), # 43 mph\n",
    "    (22.5, 13.5), # 50 mph\n",
    "]"
   ]
  },
  {
   "cell_type": "code",
   "execution_count": null,
   "id": "a85c18f4",
   "metadata": {},
   "outputs": [],
   "source": []
  },
  {
   "cell_type": "code",
   "execution_count": 7,
   "id": "6b3ef82e",
   "metadata": {},
   "outputs": [
    {
     "data": {
      "text/plain": [
       "0.5463024898437905"
      ]
     },
     "execution_count": 7,
     "metadata": {},
     "output_type": "execute_result"
    }
   ],
   "source": [
    "np.tan(.5)"
   ]
  },
  {
   "cell_type": "code",
   "execution_count": 54,
   "id": "02c44297",
   "metadata": {},
   "outputs": [
    {
     "data": {
      "text/plain": [
       "0.04967111111111111"
      ]
     },
     "execution_count": 54,
     "metadata": {},
     "output_type": "execute_result"
    }
   ],
   "source": [
    "tire_angle = .4\n",
    "WHEELBASE = 1.8 #2.66\n",
    "speed = mph_to_mps(10)\n",
    "\n",
    "curvature = tire_angle/WHEELBASE # rad/m \n",
    "vehicle_turn_rate_sec = curvature * speed # rad/sec\n",
    "future_vehicle_heading = vehicle_turn_rate_sec * .05\n",
    "future_vehicle_heading"
   ]
  },
  {
   "cell_type": "code",
   "execution_count": 55,
   "id": "d46d4e94",
   "metadata": {},
   "outputs": [
    {
     "data": {
      "text/plain": [
       "0.22352"
      ]
     },
     "execution_count": 55,
     "metadata": {},
     "output_type": "execute_result"
    }
   ],
   "source": [
    "dist_car_travelled_during_lag = speed / 20.\n",
    "dist_car_travelled_during_lag"
   ]
  },
  {
   "cell_type": "code",
   "execution_count": 56,
   "id": "0aa2f880",
   "metadata": {},
   "outputs": [
    {
     "data": {
      "text/plain": [
       "4.5"
      ]
     },
     "execution_count": 56,
     "metadata": {},
     "output_type": "execute_result"
    }
   ],
   "source": [
    "r = dist_car_travelled_during_lag / future_vehicle_heading # radius of the circle around which ego is turning m/rad\n",
    "r"
   ]
  },
  {
   "cell_type": "code",
   "execution_count": 57,
   "id": "aa4ab8ad",
   "metadata": {},
   "outputs": [
    {
     "data": {
      "text/plain": [
       "(0.005550102127081402, 0.22342809919549694)"
      ]
     },
     "execution_count": 57,
     "metadata": {},
     "output_type": "execute_result"
    }
   ],
   "source": [
    "# correct way\n",
    "future_vehicle_y = np.sin(future_vehicle_heading)*r\n",
    "future_vehicle_x = r - (np.cos(future_vehicle_heading)*r)\n",
    "future_vehicle_x, future_vehicle_y"
   ]
  },
  {
   "cell_type": "code",
   "execution_count": 58,
   "id": "06f8c4f4",
   "metadata": {},
   "outputs": [
    {
     "data": {
      "text/plain": [
       "(0.2234510694365123, 0.005550672723098684)"
      ]
     },
     "execution_count": 58,
     "metadata": {},
     "output_type": "execute_result"
    }
   ],
   "source": [
    "a = future_vehicle_heading/2\n",
    "x = dist_car_travelled_during_lag*np.cos(a)\n",
    "y = (dist_car_travelled_during_lag*np.sin(a))\n",
    "x, y"
   ]
  },
  {
   "cell_type": "code",
   "execution_count": null,
   "id": "ec25eeef",
   "metadata": {},
   "outputs": [],
   "source": []
  },
  {
   "cell_type": "code",
   "execution_count": null,
   "id": "a3bd1aaa",
   "metadata": {},
   "outputs": [],
   "source": []
  },
  {
   "cell_type": "code",
   "execution_count": 11,
   "id": "47068662",
   "metadata": {},
   "outputs": [
    {
     "data": {
      "text/plain": [
       "0.6153846153846154"
      ]
     },
     "execution_count": 11,
     "metadata": {},
     "output_type": "execute_result"
    }
   ],
   "source": [
    "4/6.5"
   ]
  },
  {
   "cell_type": "code",
   "execution_count": 4,
   "id": "3ab730e2",
   "metadata": {},
   "outputs": [
    {
     "data": {
      "text/plain": [
       "14.987498000000002"
      ]
     },
     "execution_count": 4,
     "metadata": {},
     "output_type": "execute_result"
    }
   ],
   "source": [
    "mps_to_mph(6.7)"
   ]
  },
  {
   "cell_type": "code",
   "execution_count": 19,
   "id": "ff77dbe7",
   "metadata": {},
   "outputs": [],
   "source": [
    "ACCELERATION_DUE_TO_GRAVITY = 9.8\n",
    "roll = .03\n",
    "sf = 1/401\n",
    "u = 20\n",
    "\n",
    "m = 1700\n",
    "l = 2.66\n",
    "aF = l * .41\n",
    "aR = l - aF\n",
    "tire_stiffness_factor = .677\n",
    "cF, cR = tire_stiffness_factor, tire_stiffness_factor\n",
    "sf = m * (cF*aF - cR*aR) / (l**2 * cF * cR)"
   ]
  },
  {
   "cell_type": "code",
   "execution_count": 22,
   "id": "c79526a1",
   "metadata": {},
   "outputs": [
    {
     "data": {
      "text/plain": [
       "-0.3241476"
      ]
     },
     "execution_count": 22,
     "metadata": {},
     "output_type": "execute_result"
    }
   ],
   "source": [
    "(cF*aF - cR*aR)"
   ]
  },
  {
   "cell_type": "code",
   "execution_count": 20,
   "id": "712d041e",
   "metadata": {},
   "outputs": [
    {
     "data": {
      "text/plain": [
       "-169.92259081973765"
      ]
     },
     "execution_count": 20,
     "metadata": {},
     "output_type": "execute_result"
    }
   ],
   "source": [
    "sf"
   ]
  },
  {
   "cell_type": "code",
   "execution_count": 21,
   "id": "04798421",
   "metadata": {},
   "outputs": [
    {
     "data": {
      "text/plain": [
       "-0.0007349891864115468"
      ]
     },
     "execution_count": 21,
     "metadata": {},
     "output_type": "execute_result"
    }
   ],
   "source": [
    "roll_compensation = (ACCELERATION_DUE_TO_GRAVITY * roll) / ((1 / sf) - u**2)\n",
    "#roll_compensation = (ACCELERATION_DUE_TO_GRAVITY * roll) / u**2\n",
    "roll_compensation"
   ]
  },
  {
   "cell_type": "code",
   "execution_count": null,
   "id": "7e2fbe8d",
   "metadata": {},
   "outputs": [],
   "source": []
  },
  {
   "cell_type": "code",
   "execution_count": 197,
   "id": "2e45bb0d",
   "metadata": {},
   "outputs": [
    {
     "data": {
      "text/plain": [
       "0.0019551"
      ]
     },
     "execution_count": 197,
     "metadata": {},
     "output_type": "execute_result"
    }
   ],
   "source": [
    "roll_compensation_angles = CRV_WHEELBASE * roll_compensation\n",
    "roll_compensation_angles"
   ]
  },
  {
   "cell_type": "code",
   "execution_count": 198,
   "id": "679d6377",
   "metadata": {},
   "outputs": [
    {
     "data": {
      "text/plain": [
       "(14.18929668510425, 14.934187811096537)"
      ]
     },
     "execution_count": 198,
     "metadata": {},
     "output_type": "execute_result"
    }
   ],
   "source": [
    "from traj_utils import *\n",
    "tire_angles_to_max_speeds(.02), tire_angles_to_max_speeds(.02-roll_compensation_angles)"
   ]
  },
  {
   "cell_type": "code",
   "execution_count": null,
   "id": "108684f1",
   "metadata": {},
   "outputs": [],
   "source": []
  },
  {
   "cell_type": "code",
   "execution_count": 3,
   "id": "4881881c",
   "metadata": {},
   "outputs": [],
   "source": [
    "# set lr\n",
    "set_lr(1e-4)"
   ]
  },
  {
   "cell_type": "code",
   "execution_count": 37,
   "id": "e2fe00c0",
   "metadata": {},
   "outputs": [
    {
     "data": {
      "text/plain": [
       "40"
      ]
     },
     "execution_count": 37,
     "metadata": {},
     "output_type": "execute_result"
    }
   ],
   "source": [
    "dataloader_root = f\"{BLENDER_MEMBANK_ROOT}/dataloader_06\"\n",
    "current_run = np.load(f\"{dataloader_root}/run_counter.npy\")[0]\n",
    "current_run"
   ]
  },
  {
   "cell_type": "code",
   "execution_count": null,
   "id": "0e7dd1a5",
   "metadata": {},
   "outputs": [],
   "source": []
  }
 ],
 "metadata": {
  "kernelspec": {
   "display_name": "Python 3 (ipykernel)",
   "language": "python",
   "name": "python3"
  },
  "language_info": {
   "codemirror_mode": {
    "name": "ipython",
    "version": 3
   },
   "file_extension": ".py",
   "mimetype": "text/x-python",
   "name": "python",
   "nbconvert_exporter": "python",
   "pygments_lexer": "ipython3",
   "version": "3.8.11"
  },
  "varInspector": {
   "cols": {
    "lenName": 16,
    "lenType": 16,
    "lenVar": 40
   },
   "kernels_config": {
    "python": {
     "delete_cmd_postfix": "",
     "delete_cmd_prefix": "del ",
     "library": "var_list.py",
     "varRefreshCmd": "print(var_dic_list())"
    },
    "r": {
     "delete_cmd_postfix": ") ",
     "delete_cmd_prefix": "rm(",
     "library": "var_list.r",
     "varRefreshCmd": "cat(var_dic_list()) "
    }
   },
   "types_to_exclude": [
    "module",
    "function",
    "builtin_function_or_method",
    "instance",
    "_Feature"
   ],
   "window_display": false
  },
  "vscode": {
   "interpreter": {
    "hash": "8816e64c15adfb314c1851f16ed024ce91c99aaff861e6703305bbb8eb28cb58"
   }
  }
 },
 "nbformat": 4,
 "nbformat_minor": 5
}
