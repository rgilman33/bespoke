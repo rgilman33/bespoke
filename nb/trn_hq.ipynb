{
 "cells": [
  {
   "cell_type": "code",
   "execution_count": 1,
   "id": "201e27ee",
   "metadata": {},
   "outputs": [],
   "source": [
    "%matplotlib inline\n",
    "%load_ext autoreload\n",
    "%autoreload 2\n",
    "\n",
    "import sys\n",
    "sys.path.append('/home/beans/bespoke')\n",
    "\n",
    "from constants import *\n",
    "from imports import *\n",
    "from traj_utils import *"
   ]
  },
  {
   "cell_type": "code",
   "execution_count": 2,
   "id": "43afc334",
   "metadata": {},
   "outputs": [
    {
     "data": {
      "text/plain": [
       "2.7"
      ]
     },
     "execution_count": 2,
     "metadata": {},
     "output_type": "execute_result"
    }
   ],
   "source": [
    "get_target_wp_dist(0)"
   ]
  },
  {
   "cell_type": "code",
   "execution_count": 3,
   "id": "9899d156",
   "metadata": {},
   "outputs": [
    {
     "data": {
      "text/plain": [
       "4.4704"
      ]
     },
     "execution_count": 3,
     "metadata": {},
     "output_type": "execute_result"
    }
   ],
   "source": [
    "mph_to_mps(10)"
   ]
  },
  {
   "cell_type": "code",
   "execution_count": 18,
   "id": "53ab6314",
   "metadata": {},
   "outputs": [
    {
     "name": "stdout",
     "output_type": "stream",
     "text": [
      "CPU times: user 2.35 ms, sys: 0 ns, total: 2.35 ms\n",
      "Wall time: 2.09 ms\n"
     ]
    },
    {
     "data": {
      "text/plain": [
       "(53.5, 4.48)"
      ]
     },
     "execution_count": 18,
     "metadata": {},
     "output_type": "execute_result"
    }
   ],
   "source": [
    "%%time\n",
    "get_obs_per_sec()"
   ]
  },
  {
   "cell_type": "code",
   "execution_count": null,
   "id": "1e88a323",
   "metadata": {},
   "outputs": [],
   "source": []
  },
  {
   "cell_type": "code",
   "execution_count": 6,
   "id": "e99b6246",
   "metadata": {},
   "outputs": [
    {
     "ename": "ValueError",
     "evalue": "max() arg is an empty sequence",
     "output_type": "error",
     "traceback": [
      "\u001b[0;31m---------------------------------------------------------------------------\u001b[0m",
      "\u001b[0;31mValueError\u001b[0m                                Traceback (most recent call last)",
      "\u001b[0;32m<timed eval>\u001b[0m in \u001b[0;36m<module>\u001b[0;34m\u001b[0m\n",
      "\u001b[0;32m~/bespoke/constants.py\u001b[0m in \u001b[0;36mget_mins_since_slowest_runner_reported\u001b[0;34m()\u001b[0m\n\u001b[1;32m    202\u001b[0m     \u001b[0;32mfor\u001b[0m \u001b[0mdl\u001b[0m \u001b[0;32min\u001b[0m \u001b[0mdl_paths\u001b[0m\u001b[0;34m:\u001b[0m\u001b[0;34m\u001b[0m\u001b[0;34m\u001b[0m\u001b[0m\n\u001b[1;32m    203\u001b[0m         \u001b[0mmins_since_last_update\u001b[0m\u001b[0;34m.\u001b[0m\u001b[0mappend\u001b[0m\u001b[0;34m(\u001b[0m\u001b[0;34m(\u001b[0m\u001b[0mtime\u001b[0m\u001b[0;34m.\u001b[0m\u001b[0mtime\u001b[0m\u001b[0;34m(\u001b[0m\u001b[0;34m)\u001b[0m \u001b[0;34m-\u001b[0m \u001b[0mos\u001b[0m\u001b[0;34m.\u001b[0m\u001b[0mpath\u001b[0m\u001b[0;34m.\u001b[0m\u001b[0mgetmtime\u001b[0m\u001b[0;34m(\u001b[0m\u001b[0mdl\u001b[0m\u001b[0;34m)\u001b[0m\u001b[0;34m)\u001b[0m \u001b[0;34m/\u001b[0m \u001b[0;36m60\u001b[0m\u001b[0;34m)\u001b[0m\u001b[0;34m\u001b[0m\u001b[0;34m\u001b[0m\u001b[0m\n\u001b[0;32m--> 204\u001b[0;31m     \u001b[0;32mreturn\u001b[0m \u001b[0mmax\u001b[0m\u001b[0;34m(\u001b[0m\u001b[0mmins_since_last_update\u001b[0m\u001b[0;34m)\u001b[0m\u001b[0;34m\u001b[0m\u001b[0;34m\u001b[0m\u001b[0m\n\u001b[0m\u001b[1;32m    205\u001b[0m \u001b[0;34m\u001b[0m\u001b[0m\n\u001b[1;32m    206\u001b[0m \u001b[0;34m\u001b[0m\u001b[0m\n",
      "\u001b[0;31mValueError\u001b[0m: max() arg is an empty sequence"
     ]
    }
   ],
   "source": [
    "%%time\n",
    "get_mins_since_slowest_runner_reported()"
   ]
  },
  {
   "cell_type": "code",
   "execution_count": 19,
   "id": "46dab89a",
   "metadata": {
    "scrolled": true
   },
   "outputs": [
    {
     "name": "stdout",
     "output_type": "stream",
     "text": [
      "4.14 (49.06, 4.8)\n"
     ]
    },
    {
     "ename": "KeyboardInterrupt",
     "evalue": "",
     "output_type": "error",
     "traceback": [
      "\u001b[0;31m---------------------------------------------------------------------------\u001b[0m",
      "\u001b[0;31mKeyboardInterrupt\u001b[0m                         Traceback (most recent call last)",
      "\u001b[0;32m/tmp/ipykernel_34472/2871192555.py\u001b[0m in \u001b[0;36m<module>\u001b[0;34m\u001b[0m\n\u001b[1;32m      1\u001b[0m \u001b[0;32mfor\u001b[0m \u001b[0mi\u001b[0m \u001b[0;32min\u001b[0m \u001b[0mrange\u001b[0m\u001b[0;34m(\u001b[0m\u001b[0;36m10_000\u001b[0m\u001b[0;34m)\u001b[0m\u001b[0;34m:\u001b[0m\u001b[0;34m\u001b[0m\u001b[0;34m\u001b[0m\u001b[0m\n\u001b[1;32m      2\u001b[0m     \u001b[0mprint\u001b[0m\u001b[0;34m(\u001b[0m\u001b[0mround\u001b[0m\u001b[0;34m(\u001b[0m\u001b[0mget_mins_since_slowest_runner_reported\u001b[0m\u001b[0;34m(\u001b[0m\u001b[0;34m)\u001b[0m\u001b[0;34m,\u001b[0m \u001b[0;36m2\u001b[0m\u001b[0;34m)\u001b[0m\u001b[0;34m,\u001b[0m \u001b[0mget_obs_per_sec\u001b[0m\u001b[0;34m(\u001b[0m\u001b[0;34m)\u001b[0m\u001b[0;34m)\u001b[0m\u001b[0;34m\u001b[0m\u001b[0;34m\u001b[0m\u001b[0m\n\u001b[0;32m----> 3\u001b[0;31m     \u001b[0mtime\u001b[0m\u001b[0;34m.\u001b[0m\u001b[0msleep\u001b[0m\u001b[0;34m(\u001b[0m\u001b[0;36m60\u001b[0m\u001b[0;34m*\u001b[0m\u001b[0;36m1\u001b[0m\u001b[0;34m)\u001b[0m\u001b[0;34m\u001b[0m\u001b[0;34m\u001b[0m\u001b[0m\n\u001b[0m",
      "\u001b[0;31mKeyboardInterrupt\u001b[0m: "
     ]
    }
   ],
   "source": [
    "for i in range(10_000):\n",
    "    print(round(get_mins_since_slowest_runner_reported(), 2), get_obs_per_sec())\n",
    "    time.sleep(60*1)"
   ]
  },
  {
   "cell_type": "code",
   "execution_count": 4,
   "id": "8e33157c",
   "metadata": {},
   "outputs": [],
   "source": [
    "# Shut down trainer\n",
    "set_trainer_should_stop(True)"
   ]
  },
  {
   "cell_type": "code",
   "execution_count": 44,
   "id": "3dae56ea",
   "metadata": {},
   "outputs": [],
   "source": [
    "t = torch.randn((3,4))\n",
    "t[0][0] = torch.nan"
   ]
  },
  {
   "cell_type": "code",
   "execution_count": 45,
   "id": "a9c4fb2e",
   "metadata": {},
   "outputs": [
    {
     "data": {
      "text/plain": [
       "tensor([[    nan,  0.2464,  0.2079, -0.3504],\n",
       "        [ 0.7383, -0.5889, -0.2498,  0.6668],\n",
       "        [-0.1999, -0.0737, -0.8708, -0.5061]])"
      ]
     },
     "execution_count": 45,
     "metadata": {},
     "output_type": "execute_result"
    }
   ],
   "source": [
    "torch.clamp(t, -10, 10)"
   ]
  },
  {
   "cell_type": "code",
   "execution_count": 28,
   "id": "41ce9770",
   "metadata": {},
   "outputs": [],
   "source": [
    "# Shut down loader\n",
    "#set_loader_should_stop(True)"
   ]
  },
  {
   "cell_type": "code",
   "execution_count": 5,
   "id": "596d5c6b",
   "metadata": {},
   "outputs": [],
   "source": [
    "# Shut down datagen\n",
    "set_should_stop(True)"
   ]
  },
  {
   "cell_type": "code",
   "execution_count": null,
   "id": "b87dda76",
   "metadata": {},
   "outputs": [],
   "source": []
  },
  {
   "cell_type": "code",
   "execution_count": 23,
   "id": "60c4b3df",
   "metadata": {},
   "outputs": [
    {
     "data": {
      "text/plain": [
       "array([ 0.  ,  1.1 ,  2.3 ,  3.3 ,  4.28,  5.28,  6.18,  7.  ,  8.  ,\n",
       "        9.  , 10.  , 11.  , 12.  , 13.  ])"
      ]
     },
     "execution_count": 23,
     "metadata": {},
     "output_type": "execute_result"
    }
   ],
   "source": [
    "moving_average(np.array([0,1.1,2,3.5,4.9,5,6,7,8,9,10,11,12,13]),w=5)"
   ]
  },
  {
   "cell_type": "code",
   "execution_count": null,
   "id": "b45d0a25",
   "metadata": {},
   "outputs": [],
   "source": []
  },
  {
   "cell_type": "code",
   "execution_count": 12,
   "id": "cf353fc7",
   "metadata": {},
   "outputs": [
    {
     "data": {
      "text/plain": [
       "8.995143122098731e-06"
      ]
     },
     "execution_count": 12,
     "metadata": {},
     "output_type": "execute_result"
    }
   ],
   "source": [
    "import math\n",
    "original_angle = .03\n",
    "road_roll = .03\n",
    "new_angle = original_angle - math.atan(road_roll)\n",
    "new_angle"
   ]
  },
  {
   "cell_type": "code",
   "execution_count": 13,
   "id": "e59de56b",
   "metadata": {},
   "outputs": [
    {
     "data": {
      "text/plain": [
       "0.09966865249116204"
      ]
     },
     "execution_count": 13,
     "metadata": {},
     "output_type": "execute_result"
    }
   ],
   "source": [
    "math.atan(.1)"
   ]
  },
  {
   "cell_type": "code",
   "execution_count": 5,
   "id": "826b5ef6",
   "metadata": {},
   "outputs": [
    {
     "data": {
      "text/plain": [
       "[<matplotlib.lines.Line2D at 0x7f84277535e0>]"
      ]
     },
     "execution_count": 5,
     "metadata": {},
     "output_type": "execute_result"
    },
    {
     "data": {
      "image/png": "[encoded data removed]",
      "text/plain": [
       "<Figure size 432x288 with 1 Axes>"
      ]
     },
     "metadata": {
      "needs_background": "light"
     },
     "output_type": "display_data"
    }
   ],
   "source": [
    "min_dist_lookup = [\n",
    "    (4.5, 2.7), # 10 mph\n",
    "    (6.5, 3.5), # 14.5 mph\n",
    "    (8.33, 4.4), #18 mph (speed mps, wp dist m)\n",
    "    (11.11, 6.), # 24 mph\n",
    "    (13.89, 7.7), # 30 mph\n",
    "    (16.2, 9.3), # 36 mph\n",
    "    (19.44, 11.5), # 43 mph\n",
    "    (22.5, 13.5), # 50 mph\n",
    "]\n",
    "\n",
    "min_dist_bps = [x[0] for x in min_dist_lookup]\n",
    "min_dist_vals = [x[1] for x in min_dist_lookup]\n",
    "\n",
    "plt.plot(min_dist_bps, min_dist_vals)\n"
   ]
  },
  {
   "cell_type": "code",
   "execution_count": 7,
   "id": "6b3ef82e",
   "metadata": {},
   "outputs": [
    {
     "data": {
      "text/plain": [
       "0.5463024898437905"
      ]
     },
     "execution_count": 7,
     "metadata": {},
     "output_type": "execute_result"
    }
   ],
   "source": [
    "np.tan(.5)"
   ]
  },
  {
   "cell_type": "code",
   "execution_count": 54,
   "id": "02c44297",
   "metadata": {},
   "outputs": [
    {
     "data": {
      "text/plain": [
       "0.04967111111111111"
      ]
     },
     "execution_count": 54,
     "metadata": {},
     "output_type": "execute_result"
    }
   ],
   "source": [
    "tire_angle = .4\n",
    "WHEELBASE = 1.8 #2.66\n",
    "speed = mph_to_mps(10)\n",
    "\n",
    "curvature = tire_angle/WHEELBASE # rad/m \n",
    "vehicle_turn_rate_sec = curvature * speed # rad/sec\n",
    "future_vehicle_heading = vehicle_turn_rate_sec * .05\n",
    "future_vehicle_heading"
   ]
  },
  {
   "cell_type": "code",
   "execution_count": 55,
   "id": "d46d4e94",
   "metadata": {},
   "outputs": [
    {
     "data": {
      "text/plain": [
       "0.22352"
      ]
     },
     "execution_count": 55,
     "metadata": {},
     "output_type": "execute_result"
    }
   ],
   "source": [
    "dist_car_travelled_during_lag = speed / 20.\n",
    "dist_car_travelled_during_lag"
   ]
  },
  {
   "cell_type": "code",
   "execution_count": 56,
   "id": "0aa2f880",
   "metadata": {},
   "outputs": [
    {
     "data": {
      "text/plain": [
       "4.5"
      ]
     },
     "execution_count": 56,
     "metadata": {},
     "output_type": "execute_result"
    }
   ],
   "source": [
    "r = dist_car_travelled_during_lag / future_vehicle_heading # radius of the circle around which ego is turning m/rad\n",
    "r"
   ]
  },
  {
   "cell_type": "code",
   "execution_count": 57,
   "id": "aa4ab8ad",
   "metadata": {},
   "outputs": [
    {
     "data": {
      "text/plain": [
       "(0.005550102127081402, 0.22342809919549694)"
      ]
     },
     "execution_count": 57,
     "metadata": {},
     "output_type": "execute_result"
    }
   ],
   "source": [
    "# correct way\n",
    "future_vehicle_y = np.sin(future_vehicle_heading)*r\n",
    "future_vehicle_x = r - (np.cos(future_vehicle_heading)*r)\n",
    "future_vehicle_x, future_vehicle_y"
   ]
  },
  {
   "cell_type": "code",
   "execution_count": 58,
   "id": "06f8c4f4",
   "metadata": {},
   "outputs": [
    {
     "data": {
      "text/plain": [
       "(0.2234510694365123, 0.005550672723098684)"
      ]
     },
     "execution_count": 58,
     "metadata": {},
     "output_type": "execute_result"
    }
   ],
   "source": [
    "a = future_vehicle_heading/2\n",
    "x = dist_car_travelled_during_lag*np.cos(a)\n",
    "y = (dist_car_travelled_during_lag*np.sin(a))\n",
    "x, y"
   ]
  },
  {
   "cell_type": "code",
   "execution_count": null,
   "id": "ec25eeef",
   "metadata": {},
   "outputs": [],
   "source": []
  },
  {
   "cell_type": "code",
   "execution_count": null,
   "id": "a3bd1aaa",
   "metadata": {},
   "outputs": [],
   "source": []
  },
  {
   "cell_type": "code",
   "execution_count": 11,
   "id": "47068662",
   "metadata": {},
   "outputs": [
    {
     "data": {
      "text/plain": [
       "0.6153846153846154"
      ]
     },
     "execution_count": 11,
     "metadata": {},
     "output_type": "execute_result"
    }
   ],
   "source": [
    "4/6.5"
   ]
  },
  {
   "cell_type": "code",
   "execution_count": null,
   "id": "3ab730e2",
   "metadata": {},
   "outputs": [],
   "source": []
  },
  {
   "cell_type": "code",
   "execution_count": 19,
   "id": "ff77dbe7",
   "metadata": {},
   "outputs": [],
   "source": [
    "ACCELERATION_DUE_TO_GRAVITY = 9.8\n",
    "roll = .03\n",
    "sf = 1/401\n",
    "u = 20\n",
    "\n",
    "m = 1700\n",
    "l = 2.66\n",
    "aF = l * .41\n",
    "aR = l - aF\n",
    "tire_stiffness_factor = .677\n",
    "cF, cR = tire_stiffness_factor, tire_stiffness_factor\n",
    "sf = m * (cF*aF - cR*aR) / (l**2 * cF * cR)"
   ]
  },
  {
   "cell_type": "code",
   "execution_count": 22,
   "id": "c79526a1",
   "metadata": {},
   "outputs": [
    {
     "data": {
      "text/plain": [
       "-0.3241476"
      ]
     },
     "execution_count": 22,
     "metadata": {},
     "output_type": "execute_result"
    }
   ],
   "source": [
    "(cF*aF - cR*aR)"
   ]
  },
  {
   "cell_type": "code",
   "execution_count": 20,
   "id": "712d041e",
   "metadata": {},
   "outputs": [
    {
     "data": {
      "text/plain": [
       "-169.92259081973765"
      ]
     },
     "execution_count": 20,
     "metadata": {},
     "output_type": "execute_result"
    }
   ],
   "source": [
    "sf"
   ]
  },
  {
   "cell_type": "code",
   "execution_count": 21,
   "id": "04798421",
   "metadata": {},
   "outputs": [
    {
     "data": {
      "text/plain": [
       "-0.0007349891864115468"
      ]
     },
     "execution_count": 21,
     "metadata": {},
     "output_type": "execute_result"
    }
   ],
   "source": [
    "roll_compensation = (ACCELERATION_DUE_TO_GRAVITY * roll) / ((1 / sf) - u**2)\n",
    "#roll_compensation = (ACCELERATION_DUE_TO_GRAVITY * roll) / u**2\n",
    "roll_compensation"
   ]
  },
  {
   "cell_type": "code",
   "execution_count": null,
   "id": "7e2fbe8d",
   "metadata": {},
   "outputs": [],
   "source": []
  },
  {
   "cell_type": "code",
   "execution_count": 197,
   "id": "2e45bb0d",
   "metadata": {},
   "outputs": [
    {
     "data": {
      "text/plain": [
       "0.0019551"
      ]
     },
     "execution_count": 197,
     "metadata": {},
     "output_type": "execute_result"
    }
   ],
   "source": [
    "roll_compensation_angles = CRV_WHEELBASE * roll_compensation\n",
    "roll_compensation_angles"
   ]
  },
  {
   "cell_type": "code",
   "execution_count": 198,
   "id": "679d6377",
   "metadata": {},
   "outputs": [
    {
     "data": {
      "text/plain": [
       "(14.18929668510425, 14.934187811096537)"
      ]
     },
     "execution_count": 198,
     "metadata": {},
     "output_type": "execute_result"
    }
   ],
   "source": [
    "from traj_utils import *\n",
    "tire_angles_to_max_speeds(.02), tire_angles_to_max_speeds(.02-roll_compensation_angles)"
   ]
  },
  {
   "cell_type": "code",
   "execution_count": null,
   "id": "108684f1",
   "metadata": {},
   "outputs": [],
   "source": []
  },
  {
   "cell_type": "code",
   "execution_count": 3,
   "id": "4881881c",
   "metadata": {},
   "outputs": [],
   "source": [
    "# set lr\n",
    "set_lr(1e-4)"
   ]
  },
  {
   "cell_type": "code",
   "execution_count": 37,
   "id": "e2fe00c0",
   "metadata": {},
   "outputs": [
    {
     "data": {
      "text/plain": [
       "40"
      ]
     },
     "execution_count": 37,
     "metadata": {},
     "output_type": "execute_result"
    }
   ],
   "source": [
    "dataloader_root = f\"{BLENDER_MEMBANK_ROOT}/dataloader_06\"\n",
    "current_run = np.load(f\"{dataloader_root}/run_counter.npy\")[0]\n",
    "current_run"
   ]
  },
  {
   "cell_type": "code",
   "execution_count": null,
   "id": "0e7dd1a5",
   "metadata": {},
   "outputs": [],
   "source": []
  }
 ],
 "metadata": {
  "kernelspec": {
   "display_name": "Python 3 (ipykernel)",
   "language": "python",
   "name": "python3"
  },
  "language_info": {
   "codemirror_mode": {
    "name": "ipython",
    "version": 3
   },
   "file_extension": ".py",
   "mimetype": "text/x-python",
   "name": "python",
   "nbconvert_exporter": "python",
   "pygments_lexer": "ipython3",
   "version": "3.8.11"
  },
  "varInspector": {
   "cols": {
    "lenName": 16,
    "lenType": 16,
    "lenVar": 40
   },
   "kernels_config": {
    "python": {
     "delete_cmd_postfix": "",
     "delete_cmd_prefix": "del ",
     "library": "var_list.py",
     "varRefreshCmd": "print(var_dic_list())"
    },
    "r": {
     "delete_cmd_postfix": ") ",
     "delete_cmd_prefix": "rm(",
     "library": "var_list.r",
     "varRefreshCmd": "cat(var_dic_list()) "
    }
   },
   "types_to_exclude": [
    "module",
    "function",
    "builtin_function_or_method",
    "instance",
    "_Feature"
   ],
   "window_display": false
  }
 },
 "nbformat": 4,
 "nbformat_minor": 5
}
