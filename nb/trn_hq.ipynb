{
 "cells": [
  {
   "cell_type": "code",
   "execution_count": 1,
   "id": "201e27ee",
   "metadata": {},
   "outputs": [],
   "source": [
    "%matplotlib inline\n",
    "%load_ext autoreload\n",
    "%autoreload 2\n",
    "\n",
    "import sys\n",
    "sys.path.append('/home/beans/bespoke')\n",
    "\n",
    "from constants import *\n",
    "from imports import *"
   ]
  },
  {
   "cell_type": "code",
   "execution_count": 2,
   "id": "53ab6314",
   "metadata": {},
   "outputs": [
    {
     "name": "stdout",
     "output_type": "stream",
     "text": [
      "CPU times: user 4.01 ms, sys: 0 ns, total: 4.01 ms\n",
      "Wall time: 3.51 ms\n"
     ]
    },
    {
     "data": {
      "text/plain": [
       "(94.6, 6.26)"
      ]
     },
     "execution_count": 2,
     "metadata": {},
     "output_type": "execute_result"
    }
   ],
   "source": [
    "%%time\n",
    "get_obs_per_sec()"
   ]
  },
  {
   "cell_type": "code",
   "execution_count": 6,
   "id": "e99b6246",
   "metadata": {},
   "outputs": [
    {
     "ename": "ValueError",
     "evalue": "max() arg is an empty sequence",
     "output_type": "error",
     "traceback": [
      "\u001b[0;31m---------------------------------------------------------------------------\u001b[0m",
      "\u001b[0;31mValueError\u001b[0m                                Traceback (most recent call last)",
      "\u001b[0;32m<timed eval>\u001b[0m in \u001b[0;36m<module>\u001b[0;34m\u001b[0m\n",
      "\u001b[0;32m~/bespoke/constants.py\u001b[0m in \u001b[0;36mget_mins_since_slowest_runner_reported\u001b[0;34m()\u001b[0m\n\u001b[1;32m    202\u001b[0m     \u001b[0;32mfor\u001b[0m \u001b[0mdl\u001b[0m \u001b[0;32min\u001b[0m \u001b[0mdl_paths\u001b[0m\u001b[0;34m:\u001b[0m\u001b[0;34m\u001b[0m\u001b[0;34m\u001b[0m\u001b[0m\n\u001b[1;32m    203\u001b[0m         \u001b[0mmins_since_last_update\u001b[0m\u001b[0;34m.\u001b[0m\u001b[0mappend\u001b[0m\u001b[0;34m(\u001b[0m\u001b[0;34m(\u001b[0m\u001b[0mtime\u001b[0m\u001b[0;34m.\u001b[0m\u001b[0mtime\u001b[0m\u001b[0;34m(\u001b[0m\u001b[0;34m)\u001b[0m \u001b[0;34m-\u001b[0m \u001b[0mos\u001b[0m\u001b[0;34m.\u001b[0m\u001b[0mpath\u001b[0m\u001b[0;34m.\u001b[0m\u001b[0mgetmtime\u001b[0m\u001b[0;34m(\u001b[0m\u001b[0mdl\u001b[0m\u001b[0;34m)\u001b[0m\u001b[0;34m)\u001b[0m \u001b[0;34m/\u001b[0m \u001b[0;36m60\u001b[0m\u001b[0;34m)\u001b[0m\u001b[0;34m\u001b[0m\u001b[0;34m\u001b[0m\u001b[0m\n\u001b[0;32m--> 204\u001b[0;31m     \u001b[0;32mreturn\u001b[0m \u001b[0mmax\u001b[0m\u001b[0;34m(\u001b[0m\u001b[0mmins_since_last_update\u001b[0m\u001b[0;34m)\u001b[0m\u001b[0;34m\u001b[0m\u001b[0;34m\u001b[0m\u001b[0m\n\u001b[0m\u001b[1;32m    205\u001b[0m \u001b[0;34m\u001b[0m\u001b[0m\n\u001b[1;32m    206\u001b[0m \u001b[0;34m\u001b[0m\u001b[0m\n",
      "\u001b[0;31mValueError\u001b[0m: max() arg is an empty sequence"
     ]
    }
   ],
   "source": [
    "%%time\n",
    "get_mins_since_slowest_runner_reported()"
   ]
  },
  {
   "cell_type": "code",
   "execution_count": 36,
   "id": "46dab89a",
   "metadata": {
    "scrolled": true
   },
   "outputs": [
    {
     "name": "stderr",
     "output_type": "stream",
     "text": [
      "/home/beans/bespoke/constants.py:435: SettingWithCopyWarning: \n",
      "A value is trying to be set on a copy of a slice from a DataFrame.\n",
      "Try using .loc[row_indexer,col_indexer] = value instead\n",
      "\n",
      "See the caveats in the documentation: https://pandas.pydata.org/pandas-docs/stable/user_guide/indexing.html#returning-a-view-versus-a-copy\n",
      "  propref_aux_target['ixx'] = list(range(len(propref_aux_target))) # dumb self ix so can grab sigmoid from within this smaller df\n"
     ]
    },
    {
     "name": "stdout",
     "output_type": "stream",
     "text": [
      "0.29 (22.66, 7.28)\n",
      "1.29 (71.05, 5.42)\n",
      "2.29 (76.38, 5.33)\n",
      "3.12 (78.25, 5.33)\n",
      "3.28 (86.39, 5.42)\n",
      "2.59 (88.98, 6.0)\n",
      "3.06 (87.8, 6.0)\n",
      "3.67 (78.55, 5.32)\n",
      "3.87 (76.37, 5.32)\n",
      "2.48 (75.06, 5.32)\n",
      "2.53 (93.59, 5.39)\n",
      "2.91 (97.75, 5.39)\n",
      "2.66 (101.82, 6.57)\n",
      "3.36 (101.74, 6.57)\n",
      "3.43 (94.62, 6.15)\n",
      "2.81 (86.28, 5.8)\n",
      "2.89 (88.15, 5.8)\n",
      "2.45 (95.72, 6.2)\n",
      "3.09 (96.13, 6.2)\n",
      "3.37 (88.82, 5.55)\n",
      "3.62 (88.53, 5.55)\n",
      "2.95 (81.79, 5.55)\n",
      "1.97 (87.13, 5.72)\n",
      "1.98 (100.1, 6.84)\n",
      "2.98 (104.8, 6.84)\n",
      "3.21 (100.33, 5.5)\n",
      "3.41 (91.96, 5.5)\n",
      "2.1 (83.09, 5.49)\n",
      "3.06 (88.55, 5.49)\n",
      "3.32 (93.93, 5.49)\n",
      "3.62 (92.16, 5.49)\n",
      "2.99 (85.56, 5.76)\n",
      "3.2 (87.93, 5.76)\n",
      "2.75 (91.02, 5.98)\n",
      "2.73 (88.8, 5.98)\n",
      "2.64 (89.97, 5.98)\n",
      "2.35 (92.65, 6.55)\n",
      "3.17 (96.87, 6.55)\n",
      "3.21 (95.37, 6.13)\n",
      "3.06 (87.97, 6.13)\n",
      "3.28 (84.43, 5.87)\n",
      "2.52 (85.19, 5.85)\n",
      "3.05 (91.01, 5.85)\n",
      "2.63 (91.57, 5.85)\n",
      "3.1 (97.93, 6.23)\n",
      "2.63 (92.17, 6.23)\n",
      "2.4 (95.51, 6.34)\n",
      "2.74 (94.74, 6.34)\n",
      "2.74 (95.17, 6.28)\n",
      "3.45 (90.42, 6.18)\n",
      "2.85 (85.78, 5.87)\n",
      "3.47 (85.59, 5.87)\n",
      "3.86 (91.36, 5.87)\n",
      "2.87 (93.48, 5.33)\n",
      "2.89 (94.34, 5.33)\n",
      "3.53 (95.5, 6.48)\n",
      "2.64 (90.12, 5.99)\n",
      "2.89 (92.73, 5.99)\n",
      "3.12 (86.66, 5.89)\n",
      "3.23 (86.36, 5.89)\n",
      "3.31 (83.31, 5.89)\n",
      "2.37 (91.06, 6.06)\n",
      "2.14 (94.57, 6.14)\n",
      "2.84 (96.33, 6.14)\n",
      "2.36 (100.12, 6.69)\n",
      "2.47 (99.58, 6.69)\n",
      "3.29 (96.88, 6.69)\n",
      "3.04 (90.96, 6.19)\n",
      "2.3 (87.32, 5.92)\n",
      "2.87 (90.83, 5.92)\n",
      "3.25 (87.19, 5.92)\n",
      "2.76 (89.16, 5.8)\n",
      "2.89 (89.13, 5.8)\n",
      "3.0 (90.63, 5.8)\n",
      "2.51 (94.96, 6.09)\n",
      "3.26 (96.22, 6.24)\n",
      "2.86 (95.6, 6.27)\n",
      "2.65 (90.08, 5.97)\n",
      "3.07 (89.45, 5.97)\n",
      "3.0 (88.62, 5.97)\n",
      "3.1 (84.85, 5.92)\n",
      "1.91 (89.87, 5.67)\n",
      "2.71 (100.69, 5.67)\n",
      "2.33 (102.55, 5.67)\n",
      "3.3 (104.66, 6.37)\n",
      "2.69 (88.28, 5.83)\n",
      "2.59 (87.99, 5.83)\n",
      "2.97 (86.24, 5.83)\n",
      "3.39 (85.55, 6.15)\n",
      "2.4 (85.42, 6.09)\n",
      "3.32 (85.88, 6.09)\n",
      "3.35 (83.03, 5.76)\n",
      "2.65 (79.71, 5.75)\n",
      "2.88 (81.73, 5.75)\n",
      "3.54 (81.09, 5.71)\n",
      "3.12 (85.52, 5.71)\n",
      "2.87 (86.09, 5.71)\n",
      "3.24 (94.52, 6.35)\n",
      "2.79 (93.36, 6.35)\n",
      "2.67 (90.09, 6.31)\n",
      "2.64 (93.19, 6.31)\n",
      "2.39 (96.04, 6.31)\n",
      "3.15 (98.47, 6.48)\n",
      "3.32 (95.69, 5.97)\n",
      "2.51 (84.91, 5.77)\n",
      "2.58 (86.75, 5.77)\n",
      "2.8 (92.75, 5.77)\n",
      "2.73 (99.13, 6.85)\n",
      "3.12 (97.49, 6.85)\n",
      "3.54 (96.07, 6.61)\n",
      "3.19 (88.84, 5.85)\n",
      "2.44 (87.46, 5.85)\n",
      "3.18 (90.99, 5.85)\n",
      "3.2 (87.99, 5.65)\n",
      "2.71 (89.42, 5.65)\n",
      "3.37 (85.78, 5.65)\n",
      "3.55 (86.51, 5.65)\n",
      "2.01 (83.34, 5.51)\n",
      "2.31 (88.95, 5.51)\n",
      "3.31 (96.66, 5.51)\n",
      "3.81 (98.83, 6.14)\n",
      "3.04 (86.9, 5.4)\n"
     ]
    },
    {
     "ename": "KeyboardInterrupt",
     "evalue": "",
     "output_type": "error",
     "traceback": [
      "\u001b[0;31m---------------------------------------------------------------------------\u001b[0m",
      "\u001b[0;31mKeyboardInterrupt\u001b[0m                         Traceback (most recent call last)",
      "\u001b[0;32m/tmp/ipykernel_10518/2871192555.py\u001b[0m in \u001b[0;36m<module>\u001b[0;34m\u001b[0m\n\u001b[1;32m      1\u001b[0m \u001b[0;32mfor\u001b[0m \u001b[0mi\u001b[0m \u001b[0;32min\u001b[0m \u001b[0mrange\u001b[0m\u001b[0;34m(\u001b[0m\u001b[0;36m10_000\u001b[0m\u001b[0;34m)\u001b[0m\u001b[0;34m:\u001b[0m\u001b[0;34m\u001b[0m\u001b[0;34m\u001b[0m\u001b[0m\n\u001b[1;32m      2\u001b[0m     \u001b[0mprint\u001b[0m\u001b[0;34m(\u001b[0m\u001b[0mround\u001b[0m\u001b[0;34m(\u001b[0m\u001b[0mget_mins_since_slowest_runner_reported\u001b[0m\u001b[0;34m(\u001b[0m\u001b[0;34m)\u001b[0m\u001b[0;34m,\u001b[0m \u001b[0;36m2\u001b[0m\u001b[0;34m)\u001b[0m\u001b[0;34m,\u001b[0m \u001b[0mget_obs_per_sec\u001b[0m\u001b[0;34m(\u001b[0m\u001b[0;34m)\u001b[0m\u001b[0;34m)\u001b[0m\u001b[0;34m\u001b[0m\u001b[0;34m\u001b[0m\u001b[0m\n\u001b[0;32m----> 3\u001b[0;31m     \u001b[0mtime\u001b[0m\u001b[0;34m.\u001b[0m\u001b[0msleep\u001b[0m\u001b[0;34m(\u001b[0m\u001b[0;36m60\u001b[0m\u001b[0;34m*\u001b[0m\u001b[0;36m1\u001b[0m\u001b[0;34m)\u001b[0m\u001b[0;34m\u001b[0m\u001b[0;34m\u001b[0m\u001b[0m\n\u001b[0m",
      "\u001b[0;31mKeyboardInterrupt\u001b[0m: "
     ]
    }
   ],
   "source": [
    "for i in range(10_000):\n",
    "    print(round(get_mins_since_slowest_runner_reported(), 2), get_obs_per_sec())\n",
    "    time.sleep(60*1)"
   ]
  },
  {
   "cell_type": "code",
   "execution_count": 17,
   "id": "8e33157c",
   "metadata": {},
   "outputs": [],
   "source": [
    "# Shut down trainer\n",
    "set_trainer_should_stop(True)"
   ]
  },
  {
   "cell_type": "code",
   "execution_count": null,
   "id": "a9c4fb2e",
   "metadata": {},
   "outputs": [],
   "source": []
  },
  {
   "cell_type": "code",
   "execution_count": 3,
   "id": "41ce9770",
   "metadata": {},
   "outputs": [],
   "source": [
    "# Shut down loader\n",
    "#set_loader_should_stop(True)"
   ]
  },
  {
   "cell_type": "code",
   "execution_count": 18,
   "id": "596d5c6b",
   "metadata": {},
   "outputs": [],
   "source": [
    "# Shut down datagen\n",
    "set_should_stop(True)"
   ]
  },
  {
   "cell_type": "code",
   "execution_count": 12,
   "id": "cf353fc7",
   "metadata": {},
   "outputs": [
    {
     "data": {
      "text/plain": [
       "8.995143122098731e-06"
      ]
     },
     "execution_count": 12,
     "metadata": {},
     "output_type": "execute_result"
    }
   ],
   "source": [
    "import math\n",
    "original_angle = .03\n",
    "road_roll = .03\n",
    "new_angle = original_angle - math.atan(road_roll)\n",
    "new_angle"
   ]
  },
  {
   "cell_type": "code",
   "execution_count": 13,
   "id": "e59de56b",
   "metadata": {},
   "outputs": [
    {
     "data": {
      "text/plain": [
       "0.09966865249116204"
      ]
     },
     "execution_count": 13,
     "metadata": {},
     "output_type": "execute_result"
    }
   ],
   "source": [
    "math.atan(.1)"
   ]
  },
  {
   "cell_type": "code",
   "execution_count": 14,
   "id": "826b5ef6",
   "metadata": {},
   "outputs": [
    {
     "data": {
      "text/plain": [
       "[<matplotlib.lines.Line2D at 0x7f0c5615a370>]"
      ]
     },
     "execution_count": 14,
     "metadata": {},
     "output_type": "execute_result"
    },
    {
     "data": {
      "image/png": "[encoded data removed]",
      "text/plain": [
       "<Figure size 432x288 with 1 Axes>"
      ]
     },
     "metadata": {
      "needs_background": "light"
     },
     "output_type": "display_data"
    }
   ],
   "source": [
    "plt.plot(min_dist_bps, min_dist_vals)"
   ]
  },
  {
   "cell_type": "code",
   "execution_count": null,
   "id": "f85deb98",
   "metadata": {},
   "outputs": [],
   "source": []
  },
  {
   "cell_type": "code",
   "execution_count": null,
   "id": "3ab730e2",
   "metadata": {},
   "outputs": [],
   "source": []
  },
  {
   "cell_type": "code",
   "execution_count": 19,
   "id": "ff77dbe7",
   "metadata": {},
   "outputs": [],
   "source": [
    "ACCELERATION_DUE_TO_GRAVITY = 9.8\n",
    "roll = .03\n",
    "sf = 1/401\n",
    "u = 20\n",
    "\n",
    "m = 1700\n",
    "l = 2.66\n",
    "aF = l * .41\n",
    "aR = l - aF\n",
    "tire_stiffness_factor = .677\n",
    "cF, cR = tire_stiffness_factor, tire_stiffness_factor\n",
    "sf = m * (cF*aF - cR*aR) / (l**2 * cF * cR)"
   ]
  },
  {
   "cell_type": "code",
   "execution_count": 22,
   "id": "c79526a1",
   "metadata": {},
   "outputs": [
    {
     "data": {
      "text/plain": [
       "-0.3241476"
      ]
     },
     "execution_count": 22,
     "metadata": {},
     "output_type": "execute_result"
    }
   ],
   "source": [
    "(cF*aF - cR*aR)"
   ]
  },
  {
   "cell_type": "code",
   "execution_count": 20,
   "id": "712d041e",
   "metadata": {},
   "outputs": [
    {
     "data": {
      "text/plain": [
       "-169.92259081973765"
      ]
     },
     "execution_count": 20,
     "metadata": {},
     "output_type": "execute_result"
    }
   ],
   "source": [
    "sf"
   ]
  },
  {
   "cell_type": "code",
   "execution_count": 21,
   "id": "04798421",
   "metadata": {},
   "outputs": [
    {
     "data": {
      "text/plain": [
       "-0.0007349891864115468"
      ]
     },
     "execution_count": 21,
     "metadata": {},
     "output_type": "execute_result"
    }
   ],
   "source": [
    "roll_compensation = (ACCELERATION_DUE_TO_GRAVITY * roll) / ((1 / sf) - u**2)\n",
    "#roll_compensation = (ACCELERATION_DUE_TO_GRAVITY * roll) / u**2\n",
    "roll_compensation"
   ]
  },
  {
   "cell_type": "code",
   "execution_count": null,
   "id": "7e2fbe8d",
   "metadata": {},
   "outputs": [],
   "source": []
  },
  {
   "cell_type": "code",
   "execution_count": 197,
   "id": "2e45bb0d",
   "metadata": {},
   "outputs": [
    {
     "data": {
      "text/plain": [
       "0.0019551"
      ]
     },
     "execution_count": 197,
     "metadata": {},
     "output_type": "execute_result"
    }
   ],
   "source": [
    "roll_compensation_angles = CRV_WHEELBASE * roll_compensation\n",
    "roll_compensation_angles"
   ]
  },
  {
   "cell_type": "code",
   "execution_count": 198,
   "id": "679d6377",
   "metadata": {},
   "outputs": [
    {
     "data": {
      "text/plain": [
       "(14.18929668510425, 14.934187811096537)"
      ]
     },
     "execution_count": 198,
     "metadata": {},
     "output_type": "execute_result"
    }
   ],
   "source": [
    "from traj_utils import *\n",
    "tire_angles_to_max_speeds(.02), tire_angles_to_max_speeds(.02-roll_compensation_angles)"
   ]
  },
  {
   "cell_type": "code",
   "execution_count": null,
   "id": "108684f1",
   "metadata": {},
   "outputs": [],
   "source": []
  },
  {
   "cell_type": "code",
   "execution_count": 3,
   "id": "4881881c",
   "metadata": {},
   "outputs": [],
   "source": [
    "# set lr\n",
    "set_lr(1e-4)"
   ]
  },
  {
   "cell_type": "code",
   "execution_count": 37,
   "id": "e2fe00c0",
   "metadata": {},
   "outputs": [
    {
     "data": {
      "text/plain": [
       "40"
      ]
     },
     "execution_count": 37,
     "metadata": {},
     "output_type": "execute_result"
    }
   ],
   "source": [
    "dataloader_root = f\"{BLENDER_MEMBANK_ROOT}/dataloader_06\"\n",
    "current_run = np.load(f\"{dataloader_root}/run_counter.npy\")[0]\n",
    "current_run"
   ]
  },
  {
   "cell_type": "code",
   "execution_count": null,
   "id": "0e7dd1a5",
   "metadata": {},
   "outputs": [],
   "source": []
  }
 ],
 "metadata": {
  "kernelspec": {
   "display_name": "Python 3 (ipykernel)",
   "language": "python",
   "name": "python3"
  },
  "language_info": {
   "codemirror_mode": {
    "name": "ipython",
    "version": 3
   },
   "file_extension": ".py",
   "mimetype": "text/x-python",
   "name": "python",
   "nbconvert_exporter": "python",
   "pygments_lexer": "ipython3",
   "version": "3.8.11"
  }
 },
 "nbformat": 4,
 "nbformat_minor": 5
}
